{
 "cells": [
  {
   "cell_type": "code",
   "execution_count": 1,
   "id": "06e1964d",
   "metadata": {},
   "outputs": [],
   "source": [
    "import spacy\n",
    "from spacy import displacy\n",
    "\n",
    "nlp = spacy.load(\"en_core_web_sm\")"
   ]
  },
  {
   "cell_type": "code",
   "execution_count": 2,
   "id": "a4f9cf1d",
   "metadata": {},
   "outputs": [],
   "source": [
    "from rdflib.namespace import Namespace, RDF, RDFS, XSD\n",
    "from rdflib.term import URIRef, Literal\n",
    "import csv\n",
    "import json\n",
    "import networkx as nx\n",
    "import pandas as pd\n",
    "import rdflib\n",
    "from collections import defaultdict, Counter\n",
    "import locale"
   ]
  },
  {
   "cell_type": "code",
   "execution_count": 3,
   "id": "d59d51d4",
   "metadata": {},
   "outputs": [
    {
     "data": {
      "text/plain": [
       "<Graph identifier=N16f1fabdd3a84f2e80b7fc80fc93780c (<class 'rdflib.graph.Graph'>)>"
      ]
     },
     "execution_count": 3,
     "metadata": {},
     "output_type": "execute_result"
    }
   ],
   "source": [
    "graph = rdflib.Graph()\n",
    "graph.parse('data/14_graph.nt', format='turtle')"
   ]
  },
  {
   "cell_type": "code",
   "execution_count": 4,
   "id": "587179f4",
   "metadata": {},
   "outputs": [],
   "source": [
    "# prefixes used in the graph\n",
    "WD = Namespace('http://www.wikidata.org/entity/')\n",
    "WDT = Namespace('http://www.wikidata.org/prop/direct/')\n",
    "SCHEMA = Namespace('http://schema.org/')\n",
    "DDIS = Namespace('http://ddis.ch/atai/')"
   ]
  },
  {
   "cell_type": "code",
   "execution_count": 5,
   "id": "ecd1993c",
   "metadata": {},
   "outputs": [],
   "source": [
    "entities = set(graph.subjects()) | {s for s in graph.objects() if isinstance(s,URIRef)}\n",
    "predicates = set(graph.predicates())\n",
    "literals = {s for s in graph.objects() if isinstance(s, Literal)}"
   ]
  },
  {
   "cell_type": "code",
   "execution_count": 6,
   "id": "e867bce1",
   "metadata": {},
   "outputs": [
    {
     "data": {
      "text/plain": [
       "364"
      ]
     },
     "execution_count": 6,
     "metadata": {},
     "output_type": "execute_result"
    }
   ],
   "source": [
    "genre_list = {str(uri):str(s) for uri,s in graph.query('''\n",
    "PREFIX ddis: <http://ddis.ch/atai/>\n",
    "PREFIX wd: <http://www.wikidata.org/entity/>\n",
    "PREFIX wdt: <http://www.wikidata.org/prop/direct/>\n",
    "PREFIX schema: <http://schema.org/>\n",
    "SELECT ?genre ?lbl WHERE {\n",
    "?movie wdt:P31 wd:Q11424 .\n",
    "?movie wdt:P136 ?genre .\n",
    "?genre rdfs:label ?lbl .\n",
    "}\n",
    "''')}\n",
    "\n",
    "len(genre_list)"
   ]
  },
  {
   "cell_type": "code",
   "execution_count": 7,
   "id": "ad0ad0e2",
   "metadata": {},
   "outputs": [
    {
     "data": {
      "text/plain": [
       "100157"
      ]
     },
     "execution_count": 7,
     "metadata": {},
     "output_type": "execute_result"
    }
   ],
   "source": [
    "people_list = {str(uri):str(s) for uri,s in graph.query('''\n",
    "PREFIX ddis: <http://ddis.ch/atai/>\n",
    "PREFIX wd: <http://www.wikidata.org/entity/>\n",
    "PREFIX wdt: <http://www.wikidata.org/prop/direct/>\n",
    "PREFIX schema: <http://schema.org/>\n",
    "SELECT ?person ?lbl WHERE {\n",
    "?person wdt:P31 wd:Q5 .\n",
    "?person rdfs:label ?lbl .\n",
    "}\n",
    "''')}\n",
    "\n",
    "len(people_list)"
   ]
  },
  {
   "cell_type": "code",
   "execution_count": 8,
   "id": "cedf2739",
   "metadata": {},
   "outputs": [
    {
     "data": {
      "text/plain": [
       "24384"
      ]
     },
     "execution_count": 8,
     "metadata": {},
     "output_type": "execute_result"
    }
   ],
   "source": [
    "movie_list = {str(uri):str(s) for uri,s in graph.query('''\n",
    "PREFIX ddis: <http://ddis.ch/atai/>\n",
    "PREFIX wd: <http://www.wikidata.org/entity/>\n",
    "PREFIX wdt: <http://www.wikidata.org/prop/direct/>\n",
    "PREFIX schema: <http://schema.org/>\n",
    "SELECT ?movie ?lbl WHERE {\n",
    "?movie wdt:P31 wd:Q11424 .\n",
    "?movie rdfs:label ?lbl .\n",
    "}\n",
    "''')}\n",
    "\n",
    "len(movie_list)"
   ]
  },
  {
   "cell_type": "code",
   "execution_count": 9,
   "id": "656cef68",
   "metadata": {},
   "outputs": [],
   "source": [
    "predicate_dict = {}\n",
    "prefix_string = \"PREFIX ddis: <http://ddis.ch/atai/> PREFIX wd: <http://www.wikidata.org/entity/> PREFIX wdt: <http://www.wikidata.org/prop/direct/> PREFIX schema: <http://schema.org/> \"\n",
    "for uri in predicates:\n",
    "    try:\n",
    "        p = uri.split(\"/\")[-1]\n",
    "        query_string = \"SELECT ?lbl WHERE { wdt:PREDICATE rdfs:label ?lbl . }\".replace(\"PREDICATE\",p)\n",
    "        res = graph.query(prefix_string + query_string)\n",
    "        label, = res\n",
    "        predicate_dict[str(uri)] = str(label[0])\n",
    "    except:\n",
    "        pass"
   ]
  },
  {
   "cell_type": "code",
   "execution_count": 10,
   "id": "d9beba94",
   "metadata": {},
   "outputs": [
    {
     "data": {
      "text/plain": [
       "{'http://www.wikidata.org/prop/direct/P2438': 'narrator',\n",
       " 'http://www.wikidata.org/prop/direct/P629': 'edition or translation of',\n",
       " 'http://www.wikidata.org/prop/direct/P1038': 'relative',\n",
       " 'http://www.wikidata.org/prop/direct/P7937': 'form of creative work',\n",
       " 'http://www.wikidata.org/prop/direct/P2408': 'set in period',\n",
       " 'http://www.wikidata.org/prop/direct/P495': 'country of origin',\n",
       " 'http://www.wikidata.org/prop/direct/P161': 'cast member',\n",
       " 'http://www.wikidata.org/prop/direct/P1346': 'winner',\n",
       " 'http://www.wikidata.org/prop/direct/P2363': 'NMHH film rating',\n",
       " 'http://www.wikidata.org/prop/direct/P31': 'instance of',\n",
       " 'http://www.wikidata.org/prop/direct/P205': 'basin country',\n",
       " 'http://www.wikidata.org/prop/direct/P5970': 'Medierådet rating',\n",
       " 'http://www.wikidata.org/prop/direct/P767': 'contributor to the creative work or subject',\n",
       " 'http://www.wikidata.org/prop/direct/P8345': 'media franchise',\n",
       " 'http://www.wikidata.org/prop/direct/P4608': 'scenographer',\n",
       " 'http://www.wikidata.org/prop/direct/P921': 'main subject',\n",
       " 'http://www.wikidata.org/prop/direct/P172': 'ethnic group',\n",
       " 'http://www.wikidata.org/prop/direct/P69': 'educated at',\n",
       " 'http://www.wikidata.org/prop/direct/P1027': 'conferred by',\n",
       " 'http://www.wikidata.org/prop/direct/P2416': 'sports discipline competed in',\n",
       " 'http://www.wikidata.org/prop/direct/P287': 'designed by',\n",
       " 'http://www.wikidata.org/prop/direct/P1165': 'home world',\n",
       " 'http://www.wikidata.org/prop/direct/P263': 'official residence',\n",
       " 'http://www.wikidata.org/prop/direct/P6379': 'has works in the collection',\n",
       " 'http://www.wikidata.org/prop/direct/P101': 'field of work',\n",
       " 'http://www.wikidata.org/prop/direct/P449': 'original broadcaster',\n",
       " 'http://www.wikidata.org/prop/direct/P1299': 'depicted by',\n",
       " 'http://www.wikidata.org/prop/direct/P800': 'notable work',\n",
       " 'http://www.wikidata.org/prop/direct/P607': 'conflict',\n",
       " 'http://www.wikidata.org/prop/direct/P747': 'has edition or translation',\n",
       " 'http://www.wikidata.org/prop/direct/P641': 'sport',\n",
       " 'http://www.wikidata.org/prop/direct/P2360': 'intended public',\n",
       " 'http://www.wikidata.org/prop/direct/P1830': 'owner of',\n",
       " 'http://www.wikidata.org/prop/direct/P366': 'use',\n",
       " 'http://www.wikidata.org/prop/direct/P3931': 'copyright holder',\n",
       " 'http://www.wikidata.org/prop/direct/P3834': 'RTC film rating',\n",
       " 'http://www.wikidata.org/prop/direct/P20': 'place of death',\n",
       " 'http://www.wikidata.org/prop/direct/P3818': 'KMRB film rating',\n",
       " 'http://www.wikidata.org/prop/direct/P58': 'screenwriter',\n",
       " 'http://www.wikidata.org/prop/direct/P344': 'director of photography',\n",
       " 'http://www.wikidata.org/prop/direct/P127': 'owned by',\n",
       " 'http://www.wikidata.org/prop/direct/P361': 'part of',\n",
       " 'http://www.wikidata.org/prop/direct/P7936': 'business model',\n",
       " 'http://www.wikidata.org/prop/direct/P170': 'creator',\n",
       " 'http://www.wikidata.org/prop/direct/P9215': 'set during recurring event',\n",
       " 'http://www.wikidata.org/prop/direct/P2756': 'EIRIN film rating',\n",
       " 'http://www.wikidata.org/prop/direct/P306': 'operating system',\n",
       " 'http://www.wikidata.org/prop/direct/P2546': 'sidekick of',\n",
       " 'http://www.wikidata.org/prop/direct/P828': 'has cause',\n",
       " 'http://www.wikidata.org/prop/direct/P6166': 'quotes work',\n",
       " 'http://www.wikidata.org/prop/direct/P135': 'movement',\n",
       " 'http://www.wikidata.org/prop/direct/P40': 'child',\n",
       " 'http://www.wikidata.org/prop/direct/P7047': 'enemy of',\n",
       " 'http://www.wikidata.org/prop/direct/P1445': 'fictional universe described in',\n",
       " 'http://www.wikidata.org/prop/direct/P37': 'official language',\n",
       " 'http://www.wikidata.org/prop/direct/P5096': 'member of the crew of',\n",
       " 'http://www.wikidata.org/prop/direct/P1875': 'represented by',\n",
       " 'http://www.wikidata.org/prop/direct/P466': 'occupant',\n",
       " 'http://www.wikidata.org/prop/direct/P793': 'significant event',\n",
       " 'http://www.wikidata.org/prop/direct/P159': 'headquarters location',\n",
       " 'http://www.wikidata.org/prop/direct/P1056': 'product or material produced',\n",
       " 'http://www.wikidata.org/prop/direct/P2860': 'cites work',\n",
       " 'http://www.wikidata.org/prop/direct/P47': 'shares border with',\n",
       " 'http://www.wikidata.org/prop/direct/P2684': 'Kijkwijzer rating',\n",
       " 'http://www.wikidata.org/prop/direct/P937': 'work location',\n",
       " 'http://www.wikidata.org/prop/direct/P840': 'narrative location',\n",
       " 'http://www.wikidata.org/prop/direct/P190': 'twinned administrative body',\n",
       " 'http://www.wikidata.org/prop/direct/P50': 'author',\n",
       " 'http://www.wikidata.org/prop/direct/P1029': 'crew member(s)',\n",
       " 'http://www.wikidata.org/prop/direct/P6275': 'copyright representative',\n",
       " 'http://www.wikidata.org/prop/direct/P462': 'color',\n",
       " 'http://www.wikidata.org/prop/direct/P17': 'country',\n",
       " 'http://www.wikidata.org/prop/direct/P272': 'production company',\n",
       " 'http://www.wikidata.org/prop/direct/P18': 'image',\n",
       " 'http://www.wikidata.org/prop/direct/P1366': 'replaced by',\n",
       " 'http://www.wikidata.org/prop/direct/P156': 'followed by',\n",
       " 'http://www.wikidata.org/prop/direct/P30': 'continent',\n",
       " 'http://www.wikidata.org/prop/direct/P1431': 'executive producer',\n",
       " 'http://www.wikidata.org/prop/direct/P2541': 'operating area',\n",
       " 'http://www.wikidata.org/prop/direct/P345': 'IMDb ID',\n",
       " 'http://www.wikidata.org/prop/direct/P1037': 'director / manager',\n",
       " 'http://www.wikidata.org/prop/direct/P131': 'located in the administrative territorial entity',\n",
       " 'http://www.wikidata.org/prop/direct/P931': 'place served by transport hub',\n",
       " 'http://www.wikidata.org/prop/direct/P735': 'given name',\n",
       " 'http://www.wikidata.org/prop/direct/P1382': 'partially coincident with',\n",
       " 'http://www.wikidata.org/prop/direct/P400': 'platform',\n",
       " 'http://www.wikidata.org/prop/direct/P551': 'residence',\n",
       " 'http://www.wikidata.org/prop/direct/P1411': 'nominated for',\n",
       " 'http://www.wikidata.org/prop/direct/P144': 'based on',\n",
       " 'http://www.wikidata.org/prop/direct/P1050': 'medical condition',\n",
       " 'http://www.wikidata.org/prop/direct/P2079': 'fabrication method',\n",
       " 'http://www.wikidata.org/prop/direct/P206': 'located in or next to body of water',\n",
       " 'http://www.wikidata.org/prop/direct/P1552': 'has quality',\n",
       " 'http://www.wikidata.org/prop/direct/P740': 'location of formation',\n",
       " 'http://www.wikidata.org/prop/direct/P6886': 'writing language',\n",
       " 'http://www.wikidata.org/prop/direct/P674': 'characters',\n",
       " 'http://www.wikidata.org/prop/direct/P5152': 'KAVI rating',\n",
       " 'http://www.wikidata.org/prop/direct/P7959': 'historic county',\n",
       " 'http://www.wikidata.org/prop/direct/P407': 'language of work or name',\n",
       " 'http://www.wikidata.org/prop/direct/P2341': 'indigenous to',\n",
       " 'http://www.wikidata.org/prop/direct/P1365': 'replaces',\n",
       " 'http://www.wikidata.org/prop/direct/P178': 'developer',\n",
       " 'http://www.wikidata.org/prop/direct/P19': 'place of birth',\n",
       " 'http://www.wikidata.org/prop/direct/P2936': 'language used',\n",
       " 'http://www.wikidata.org/prop/direct/P737': 'influenced by',\n",
       " 'http://www.wikidata.org/prop/direct/P6': 'head of government',\n",
       " 'http://www.wikidata.org/prop/direct/P3342': 'significant person',\n",
       " 'http://www.wikidata.org/prop/direct/P3156': 'Australian Classification',\n",
       " 'http://www.wikidata.org/prop/direct/P1412': 'languages spoken, written or signed',\n",
       " 'http://www.wikidata.org/prop/direct/P241': 'military branch',\n",
       " 'http://www.wikidata.org/prop/direct/P1066': 'student of',\n",
       " 'http://www.wikidata.org/prop/direct/P577': 'publication date',\n",
       " 'http://www.wikidata.org/prop/direct/P2629': 'BBFC rating',\n",
       " 'http://www.wikidata.org/prop/direct/P7327': 'OFLC classification',\n",
       " 'http://www.wikidata.org/prop/direct/P941': 'inspired by',\n",
       " 'http://www.wikidata.org/prop/direct/P710': 'participant',\n",
       " 'http://www.wikidata.org/prop/direct/P2637': 'RARS rating',\n",
       " 'http://www.wikidata.org/prop/direct/P4437': 'FPB rating',\n",
       " 'http://www.wikidata.org/prop/direct/P57': 'director',\n",
       " 'http://www.wikidata.org/prop/direct/P915': 'filming location',\n",
       " 'http://www.wikidata.org/prop/direct/P1327': 'partner in business or sport',\n",
       " 'http://www.wikidata.org/prop/direct/P4969': 'derivative work',\n",
       " 'http://www.wikidata.org/prop/direct/P2747': 'Filmiroda rating',\n",
       " 'http://www.wikidata.org/prop/direct/P437': 'distribution format',\n",
       " 'http://www.wikidata.org/prop/direct/P27': 'country of citizenship',\n",
       " 'http://www.wikidata.org/prop/direct/P2650': 'interested in',\n",
       " 'http://www.wikidata.org/prop/direct/P2061': 'aspect ratio',\n",
       " 'http://www.wikidata.org/prop/direct/P108': 'employer',\n",
       " 'http://www.wikidata.org/prop/direct/P364': 'original language of film or TV show',\n",
       " 'http://www.wikidata.org/prop/direct/P530': 'diplomatic relation',\n",
       " 'http://www.wikidata.org/prop/direct/P175': 'performer',\n",
       " 'http://www.wikidata.org/prop/direct/P112': 'founded by',\n",
       " 'http://www.wikidata.org/prop/direct/P136': 'genre',\n",
       " 'http://www.wikidata.org/prop/direct/P3842': 'located in present-day administrative territorial entity',\n",
       " 'http://www.wikidata.org/prop/direct/P1877': 'after a work by',\n",
       " 'http://www.wikidata.org/prop/direct/P4584': 'first appearance',\n",
       " 'http://www.wikidata.org/prop/direct/P706': 'located on terrain feature',\n",
       " 'http://www.wikidata.org/prop/direct/P21': 'sex or gender',\n",
       " 'http://www.wikidata.org/prop/direct/P1589': 'lowest point',\n",
       " 'http://www.wikidata.org/prop/direct/P166': 'award received',\n",
       " 'http://www.wikidata.org/prop/direct/P1576': 'lifestyle',\n",
       " 'http://www.wikidata.org/prop/direct/P2632': 'place of detention',\n",
       " 'http://www.wikidata.org/prop/direct/P1001': 'applies to jurisdiction',\n",
       " 'http://www.wikidata.org/prop/direct/P2554': 'production designer',\n",
       " 'http://www.wikidata.org/prop/direct/P1809': 'choreographer',\n",
       " 'http://www.wikidata.org/prop/direct/P749': 'parent organization',\n",
       " 'http://www.wikidata.org/prop/direct/P527': 'has part',\n",
       " 'http://www.wikidata.org/prop/direct/P138': 'named after',\n",
       " 'http://www.wikidata.org/prop/direct/P371': 'presenter',\n",
       " 'http://www.wikidata.org/prop/direct/P157': 'killed by',\n",
       " 'http://www.wikidata.org/prop/direct/P1441': 'present in work',\n",
       " 'http://www.wikidata.org/prop/direct/P25': 'mother',\n",
       " 'http://www.wikidata.org/prop/direct/P180': 'depicts',\n",
       " 'http://www.wikidata.org/prop/direct/P2758': 'CNC film rating (France)',\n",
       " 'http://www.wikidata.org/prop/direct/P1433': 'published in',\n",
       " 'http://www.wikidata.org/prop/direct/P750': 'distributed by',\n",
       " 'http://www.wikidata.org/prop/direct/P9086': 'BAMID film rating',\n",
       " 'http://www.wikidata.org/prop/direct/P5150': 'IGAC rating',\n",
       " 'http://www.wikidata.org/prop/direct/P8371': 'references work, tradition or theory',\n",
       " 'http://www.wikidata.org/prop/direct/P479': 'input method',\n",
       " 'http://www.wikidata.org/prop/direct/P1080': 'from narrative universe',\n",
       " 'http://www.wikidata.org/prop/direct/P1657': 'MPAA film rating',\n",
       " 'http://www.wikidata.org/prop/direct/P7573': 'IFCO rating',\n",
       " 'http://www.wikidata.org/prop/direct/P3300': 'musical conductor',\n",
       " 'http://www.wikidata.org/prop/direct/P5021': 'assessment',\n",
       " 'http://www.wikidata.org/prop/direct/P3402': 'CNC film rating (Romania)',\n",
       " 'http://www.wikidata.org/prop/direct/P1344': 'participant in',\n",
       " 'http://www.wikidata.org/prop/direct/P3275': 'storyboard artist',\n",
       " 'http://www.wikidata.org/prop/direct/P4805': 'make-up artist',\n",
       " 'http://www.wikidata.org/prop/direct/P463': 'member of',\n",
       " 'http://www.wikidata.org/prop/direct/P485': 'archives at',\n",
       " 'http://www.wikidata.org/prop/direct/P1995': 'health specialty',\n",
       " 'http://www.wikidata.org/prop/direct/P150': 'contains administrative territorial entity',\n",
       " 'http://www.wikidata.org/prop/direct/P2515': 'costume designer',\n",
       " 'http://www.wikidata.org/prop/direct/P1142': 'political ideology',\n",
       " 'http://www.wikidata.org/prop/direct/P6962': 'narrative motif',\n",
       " 'http://www.wikidata.org/prop/direct/P3095': 'practiced by',\n",
       " 'http://www.wikidata.org/prop/direct/P5389': 'permanent resident of',\n",
       " 'http://www.wikidata.org/prop/direct/P451': 'unmarried partner',\n",
       " 'http://www.wikidata.org/prop/direct/P832': 'public holiday',\n",
       " 'http://www.wikidata.org/prop/direct/P1343': 'described by source',\n",
       " 'http://www.wikidata.org/prop/direct/P3216': 'ClassInd rating',\n",
       " 'http://www.wikidata.org/prop/direct/P6216': 'copyright status',\n",
       " 'http://www.wikidata.org/prop/direct/P825': 'dedicated to',\n",
       " 'http://www.wikidata.org/prop/direct/P5940': 'plot expanded in',\n",
       " 'http://www.wikidata.org/prop/direct/P669': 'located on street',\n",
       " 'http://www.wikidata.org/prop/direct/P195': 'collection',\n",
       " 'http://www.wikidata.org/prop/direct/P1981': 'FSK film rating',\n",
       " 'http://www.wikidata.org/prop/direct/P5028': 'sound designer',\n",
       " 'http://www.wikidata.org/prop/direct/P3803': 'original film format',\n",
       " 'http://www.wikidata.org/prop/direct/P291': 'place of publication',\n",
       " 'http://www.wikidata.org/prop/direct/P8411': 'set in environment',\n",
       " 'http://www.wikidata.org/prop/direct/P2563': 'superhuman feature or ability',\n",
       " 'http://www.wikidata.org/prop/direct/P1455': 'list of works',\n",
       " 'http://www.wikidata.org/prop/direct/P137': 'operator',\n",
       " 'http://www.wikidata.org/prop/direct/P1542': 'has effect',\n",
       " 'http://www.wikidata.org/prop/direct/P6658': 'RCQ classification',\n",
       " 'http://www.wikidata.org/prop/direct/P1889': 'different from',\n",
       " 'http://www.wikidata.org/prop/direct/P54': 'member of sports team',\n",
       " 'http://www.wikidata.org/prop/direct/P106': 'occupation',\n",
       " 'http://www.wikidata.org/prop/direct/P1269': 'facet of',\n",
       " 'http://www.wikidata.org/prop/direct/P3306': 'ICAA rating',\n",
       " 'http://www.wikidata.org/prop/direct/P509': 'cause of death',\n",
       " 'http://www.wikidata.org/prop/direct/P460': 'said to be the same as',\n",
       " 'http://www.wikidata.org/prop/direct/P945': 'allegiance',\n",
       " 'http://www.wikidata.org/prop/direct/P1532': 'country for sport',\n",
       " 'http://www.wikidata.org/prop/direct/P5072': 'presented in',\n",
       " 'http://www.wikidata.org/prop/direct/P725': 'voice actor',\n",
       " 'http://www.wikidata.org/prop/direct/P279': 'subclass of',\n",
       " 'http://www.wikidata.org/prop/direct/P4908': 'season',\n",
       " 'http://www.wikidata.org/prop/direct/P452': 'industry',\n",
       " 'http://www.wikidata.org/prop/direct/P8874': 'Hong Kong film rating',\n",
       " 'http://www.wikidata.org/prop/direct/P179': 'part of the series',\n",
       " 'http://www.wikidata.org/prop/direct/P425': 'field of this occupation',\n",
       " 'http://www.wikidata.org/prop/direct/P5201': 'IMDA rating',\n",
       " 'http://www.wikidata.org/prop/direct/P8889': 'MTRCB rating',\n",
       " 'http://www.wikidata.org/prop/direct/P1040': 'film editor',\n",
       " 'http://www.wikidata.org/prop/direct/P1416': 'affiliation',\n",
       " 'http://www.wikidata.org/prop/direct/P3448': 'stepparent',\n",
       " 'http://www.wikidata.org/prop/direct/P461': 'opposite of',\n",
       " 'http://www.wikidata.org/prop/direct/P22': 'father',\n",
       " 'http://www.wikidata.org/prop/direct/P119': 'place of burial',\n",
       " 'http://www.wikidata.org/prop/direct/P155': 'follows',\n",
       " 'http://www.wikidata.org/prop/direct/P97': 'noble title',\n",
       " 'http://www.wikidata.org/prop/direct/P26': 'spouse',\n",
       " 'http://www.wikidata.org/prop/direct/P8670': 'character designer',\n",
       " 'http://www.wikidata.org/prop/direct/P91': 'sexual orientation',\n",
       " 'http://www.wikidata.org/prop/direct/P66': 'ancestral home',\n",
       " 'http://www.wikidata.org/prop/direct/P3373': 'sibling',\n",
       " 'http://www.wikidata.org/prop/direct/P3650': 'JMK film rating',\n",
       " 'http://www.wikidata.org/prop/direct/P1196': 'manner of death',\n",
       " 'http://www.wikidata.org/prop/direct/P140': 'religion',\n",
       " 'http://www.wikidata.org/prop/direct/P2348': 'time period',\n",
       " 'http://www.wikidata.org/prop/direct/P123': 'publisher',\n",
       " 'http://www.wikidata.org/prop/direct/P2142': 'box office',\n",
       " 'http://www.wikidata.org/prop/direct/P2283': 'uses',\n",
       " 'http://www.wikidata.org/prop/direct/P276': 'location',\n",
       " 'http://www.wikidata.org/prop/direct/P802': 'student',\n",
       " 'http://www.wikidata.org/prop/direct/P1376': 'capital of',\n",
       " 'http://www.wikidata.org/prop/direct/P1399': 'convicted of',\n",
       " 'http://www.wikidata.org/prop/direct/P3301': 'broadcast by',\n",
       " 'http://www.wikidata.org/prop/direct/P275': 'copyright license',\n",
       " 'http://www.wikidata.org/prop/direct/P6942': 'animator',\n",
       " 'http://www.wikidata.org/prop/direct/P3174': 'art director',\n",
       " 'http://www.wikidata.org/prop/direct/P3092': 'film crew member',\n",
       " 'http://www.wikidata.org/prop/direct/P36': 'capital',\n",
       " 'http://www.wikidata.org/prop/direct/P1434': 'takes place in fictional universe',\n",
       " 'http://www.wikidata.org/prop/direct/P3428': 'INCAA film rating',\n",
       " 'http://www.wikidata.org/prop/direct/P1429': 'has pet',\n",
       " 'http://www.wikidata.org/prop/direct/P35': 'head of state',\n",
       " 'http://www.wikidata.org/prop/direct/P103': 'native language'}"
      ]
     },
     "execution_count": 10,
     "metadata": {},
     "output_type": "execute_result"
    }
   ],
   "source": [
    "predicate_dict"
   ]
  },
  {
   "cell_type": "code",
   "execution_count": 11,
   "id": "2981c7a1",
   "metadata": {},
   "outputs": [],
   "source": [
    "# Defining some dictionaries for mapping wrods to predicates\n",
    "roles_ner = {\n",
    "    \"actor\":\"P161\",\n",
    "    \"cast\":\"P161\",\n",
    "    \"cast member\":\"P161\",\n",
    "    \"director\":\"P57\",\n",
    "    \"screenwriter\":\"P58\",\n",
    "    \"producer\":\"P162\",\n",
    "    \"developer\" : \"P178\",\n",
    "    \"film editor\" : \"P1040\",\n",
    "    \"director of photography\" : \"P344\",\n",
    "    \"film crew member\" : \"P2079\",\n",
    "    \"choreographer\" : \"P1809\",\n",
    "    #\"father\" : \"P22\",\n",
    "    #\"spouse\" : \"P26\",\n",
    "    \"art director\" : \"P3174\",\n",
    "    #\"winner\" : \"P1346\",\n",
    "    \"author\" : \"P50\",\n",
    "    \"presenter\" : \"P371\",\n",
    "    \"narrator\" : \"P2438\",\n",
    "    \"animator\" : \"P6942\",\n",
    "    \"creator\" : \"P170\",\n",
    "    #\"student\" : \"P802\",\n",
    "    #\"mother\" : \"P25\",\n",
    "    \"participant\" : \"P710\",\n",
    "    \"member of the crew of\" : \"P5096\",\n",
    "    \"voice actor\" : \"P725\",\n",
    "    #\"employer\" : \"P108\",\n",
    "    \"publisher\" : \"P123\",\n",
    "    \"musical conductor\" : \"P3300\",\n",
    "    \"operator\" : \"P137\",\n",
    "    \"performer\" : \"P175\"\n",
    "}\n",
    "# Do Ola Solum and Jürgen Drews share the screen in any movies?\n",
    "actions_ner = {\n",
    "    \"acted\":\"P161\",\n",
    "    \"directed\":\"P57\",\n",
    "    \"screenwrote\":\"P58\",\n",
    "    \"wrote\":\"P58\",\n",
    "    \"written\":\"P58\",\n",
    "    \"produced\":\"P162\",\n",
    "    \"featured\":\"P161\",\n",
    "    \"featuring\":\"P161\", \n",
    "    \"recorded\" : None,\n",
    "    #\"appeared\" : None,\n",
    "    \"appear\" : None,\n",
    "    \"direct\" : None,\n",
    "    #\"produced\" : None,\n",
    "    \"produce\" : None,\n",
    "    \"filmed\" : None,\n",
    "    \"edit\" : None,\n",
    "    #\"film\" : None,\n",
    "    \"edited\" : None,\n",
    "    #\"cast\" : None,\n",
    "    \"shoot\" : None,\n",
    "    \"premiere\" : None,\n",
    "    #\"release\" : None,\n",
    "    \"distribute\" : None,\n",
    "    \"directing\":None,\n",
    "    \"played\": None,\n",
    "    \"made\": None,\n",
    "    \"authored\": None,\n",
    "    \"appears\": None\n",
    "}\n",
    "\n",
    "predicates_ner = {\n",
    "    \"release\" : \"P577\",\n",
    "    \"when\" : \"P577\",\n",
    "    #\"release year\": \"P577\",\n",
    "    \"date\": \"P577\",\n",
    "    \"year\": \"P577\",\n",
    "    #\"date of release\": \"P577\",\n",
    "    \"genre\": \"P136\",\n",
    "    \"type\": \"P136\",\n",
    "    \"category\": \"P136\",\n",
    "    #\"ratings\": \"P444\",\n",
    "    \"rated\": \"P444\",\n",
    "    \"rating\": \"P444\",\n",
    "    \"review\": \"P444\",\n",
    "    \"score\":\"P444\",\n",
    "    # Consider if this is the right place to have it\n",
    "    \"suggest\": None,\n",
    "    \"recommend\": None\n",
    "}\n",
    "\n",
    "numbers_ner = [\n",
    "    \"one\",\n",
    "    \"two\",\n",
    "    \"three\",\n",
    "    \"four\",\n",
    "    \"five\",\n",
    "    \"six\",\n",
    "    \"seven\",\n",
    "    \"eight\",\n",
    "    \"nine\",\n",
    "    \"ten\",\n",
    "    \"eleven\",\n",
    "    \"twelve\",\n",
    "    \"thirteen\",\n",
    "    \"fourteen\",\n",
    "    \"fifteen\",\n",
    "    \"sixteen\",\n",
    "    \"seventeen\",\n",
    "    \"eighteen\",\n",
    "    \"nineteen\",\n",
    "    \"twenty\"\n",
    "]\n",
    "\n",
    "nums = list(range(1, 21))\n",
    "nums = list(map(str, nums))\n",
    "numbers_ner.extend(nums)\n",
    "\n",
    "years_ner = list(range(1678, 2025))\n",
    "years_ner = list(map(str, years_ner))\n",
    "\n",
    "\n",
    "genres_ner = {v.replace(\" film\",\"\"):k for k,v in genre_list.items()}\n",
    "genres_ner = {k.replace(\"genre\",\"\").strip():v for k,v in genres_ner.items()}\n",
    "del(genres_ner['film score'])"
   ]
  },
  {
   "cell_type": "code",
   "execution_count": 12,
   "id": "6d5370a9",
   "metadata": {},
   "outputs": [
    {
     "data": {
      "text/plain": [
       "['one',\n",
       " 'two',\n",
       " 'three',\n",
       " 'four',\n",
       " 'five',\n",
       " 'six',\n",
       " 'seven',\n",
       " 'eight',\n",
       " 'nine',\n",
       " 'ten',\n",
       " 'eleven',\n",
       " 'twelve',\n",
       " 'thirteen',\n",
       " 'fourteen',\n",
       " 'fifteen',\n",
       " 'sixteen',\n",
       " 'seventeen',\n",
       " 'eighteen',\n",
       " 'nineteen',\n",
       " 'twenty',\n",
       " '1',\n",
       " '2',\n",
       " '3',\n",
       " '4',\n",
       " '5',\n",
       " '6',\n",
       " '7',\n",
       " '8',\n",
       " '9',\n",
       " '10',\n",
       " '11',\n",
       " '12',\n",
       " '13',\n",
       " '14',\n",
       " '15',\n",
       " '16',\n",
       " '17',\n",
       " '18',\n",
       " '19',\n",
       " '20']"
      ]
     },
     "execution_count": 12,
     "metadata": {},
     "output_type": "execute_result"
    }
   ],
   "source": [
    "numbers_ner"
   ]
  },
  {
   "cell_type": "code",
   "execution_count": 13,
   "id": "13977863",
   "metadata": {},
   "outputs": [],
   "source": [
    "sentence_list_1=[ #Person search\n",
    "    \"Give me the <role> of <movie_name>\",\n",
    "    \"Give me the name of the <role> of <movie_name>\",\n",
    "    \"I'd like to know the <role>'s name for <movie_name>\",\n",
    "    \"I'm curious about the person who <directed/wrote> <movie_name>\",\n",
    "    \"Identify the <role> of <movie_name>\",\n",
    "    \"Tell me the <role> behind <movie_name>\",\n",
    "    \"Tell me the <role> for <movie_name>\",\n",
    "    \"Tell me the <role> of <movie_name>\",\n",
    "    \"What is the <role>'s name for the movie <movie_name>?\",\n",
    "    \"Who <role> in <movie_name>?\",\n",
    "    \"Who <directed/wrote> <movie_name>?\",\n",
    "    \"Who <directed/wrote> the movie <movie_name>?\",\n",
    "    \"Who is the <role> of <movie_name>?\",\n",
    "    \"Who is the <role> of the film <movie_name>?\",\n",
    "    \"Who oversaw the making of <movie_name>\",\n",
    "    \"Who was in charge of directing <movie_name>?\",\n",
    "    \"Who was the <role> of <movie_name>\"\n",
    "]\n",
    "\n",
    "sentence_list_2 = [ # Movie search\n",
    "    \"Give me a list of <genre> movies directed by <name>\",\n",
    "    \"Give me a list of <genre> movies featuring <name>\",\n",
    "    \"Give me a list of <genre> movies written by <name>\",\n",
    "    \"Give me a list of movies directed by <name>\",\n",
    "    \"Give me a list of movies featuring <name>\",\n",
    "    \"Give me a list of movies written by <name>\",\n",
    "    \"In which movies did <name> played a role?\",\n",
    "    \"In which movies does <name> appear?\",\n",
    "    \"List <genre> films written by <name>\",\n",
    "    \"List movies which were directed by <name>\",\n",
    "    \"List movies which were written by <name>\",\n",
    "    \"List the films made by <name>\",\n",
    "    \"List films authored by <name>\",\n",
    "    \"Retrieve the films authored by <name>\",\n",
    "    \"Retrieve the films directed by <name>\",\n",
    "    \"Retrieve the <genre> films with screenplays authored by <name>\",\n",
    "    \"Select all the movies of <name>\",\n",
    "    \"Select all the movies with <name>\",\n",
    "    \"Show me <genre> movies directed by <name>\",\n",
    "    \"Show me <genre> movies written by <name>\",\n",
    "    \"Show me the films directed by <name>\",\n",
    "    \"Show me movies written by <name>\",\n",
    "    \"Show me the films where <name> appears\",\n",
    "    \"Show me the films with <name> in the cast\",\n",
    "    \"Tell me the movies where <name> makes appearances\",\n",
    "    \"What are the movies with <name> as a cast member?\",\n",
    "    \"Which <genre> films has <name> directed?\",\n",
    "    \"Which <genre> films has <name> written?\",\n",
    "    \"Which films has <name> written?\",\n",
    "    \"Which movies has <name> <acted/wrote>\",\n",
    "    \"Which movies has <name> directed?\"\n",
    "]\n",
    "\n",
    "sentence_list_3 = [ # retrieve release date\n",
    "    \"Could you let me know the release date for <movie_name>?\",\n",
    "    \"Could you tell me when <movie_name> was first shown?\",\n",
    "    \"Give me the release date for <movie_name>\",\n",
    "    \"I'd like to know the release date of the movie <movie_name>\",\n",
    "    \"Please provide the release year for <movie_name>\",\n",
    "    \"Tell me the release date of <movie_name>\",\n",
    "    \"What's the date of release for <movie_name>?\",\n",
    "    \"What's the release year of the movie <movie_name>?\",\n",
    "    \"What's the launch date of <movie_name>?\",\n",
    "    \"What's the debut date for <movie_name>?\",\n",
    "    \"What is the release year of <movie_name>?\",\n",
    "    \"When did <movie_name> come out?\",\n",
    "    \"When did <movie_name> hit the theaters?\",\n",
    "    \"When was <movie_name> released?\",\n",
    "    \"When was <movie_name> launched?\",\n",
    "    \"When was the movie <movie_name> released?\",\n",
    "    \"When did <movie_name> first appear in cinemas?\"\n",
    "]\n",
    "\n",
    "sentence_list_4 = [ # genre\n",
    "    \"Give me the genre for the movie <movie_name>\",\n",
    "    \"I'd like to know the genre of <movie_name>\",\n",
    "    \"I'm curious about the genre of <movie_name>\",\n",
    "    \"In which genre does '<movie_name>' fit?\",\n",
    "    \"Identify the movie genre for <movie_name>\",\n",
    "    \"Tell me the genre of <movie_name>\",\n",
    "    \"Tell me the type of film that is <movie_name>\",\n",
    "    \"What category does <movie_name> fall into?\",\n",
    "    \"What genre is associated with <movie_name>?\",\n",
    "    \"What is the movie genre for <movie_name>?\",\n",
    "    \"What is the genre of <movie_name>?\",\n",
    "    \"Which category does <movie_name> fit into?\",\n",
    "    \"Which genre does the movie <movie_name> belong to?\",\n",
    "    \"Which genre does <movie_name> belong to?\"\n",
    "]\n",
    "\n",
    "sentence_list_5 = [ #ratings\n",
    "    \"Display the movies with the <highest/lowest> ratings\",\n",
    "    \"Give me the <top/bottom> <number> movies based on rating\",\n",
    "    \"Give me the <top/bottom> rated movies\",\n",
    "    \"Give me the <highest/lowest>-rated films\",\n",
    "    \"Give me the <top/bottom> <number> movies based on rating\",\n",
    "    \"Give me the <top/bottom> rated movies\",\n",
    "    \"Give me the movie that has the <highest/lowest> user rating\",\n",
    "    \"I'd like to know the movie with the <highest/lowest> user rating\",\n",
    "    \"I'm curious about the movie with the <highest/lowest> user rating\",\n",
    "    \"Identify the film with the <highest/lowest> user rating\",\n",
    "    \"I want to see the <top/bottom>-rated movies\",\n",
    "    \"List the movies with the <best/worst> ratings\",\n",
    "    \"Provide a list of the <top/bottom>-rated movies\",\n",
    "    \"Retrieve the movies with the <highest/lowest> ratings\",\n",
    "    \"Show me the <highest/lowest>-rated films\",\n",
    "    \"Show the movies with the <best/worst> ratings\",\n",
    "    \"Tell me the film that received the <highest/lowest> user rating\",\n",
    "    \"Tell me the movie with the <highest/lowest> user rating\",\n",
    "    \"What are the most <highest/lowest>-rated films?\",\n",
    "    \"What is the movie with the <highest/lowest> user rating?\",\n",
    "    \"What movie has the <highest/lowest> user rating?\",\n",
    "    \"Which film received the <highest/lowest> user rating?\",\n",
    "    \"Which movie has the <highest/lowest> user rating?\",\n",
    "    \"Which movie is rated the <highest/lowest> by users?\"\n",
    "]\n",
    "\n",
    "sentence_list_6 = [\n",
    "    \"Show me the <highest/lowest>-rated <genre> films\",\n",
    "    \"List the <genre> movies with the <best/worst> ratings\",\n",
    "    \"I want to see the <top/bottom>-rated <genre> movies\",\n",
    "    \"Display the <genre> movies with the <highest/lowest> ratings\",\n",
    "    \"What are the most highly-rated <genre> films?\",\n",
    "    \"Provide a list of the <top/bottom>-rated <genre> movies\",\n",
    "    \"Give me the <highest/lowest>-rated <genre> films\",\n",
    "    \"Show the movies with the <best/worst> <genre> ratings\",\n",
    "    \"Retrieve the movies with the <highest/lowest> <genre> ratings\",\n",
    "]\n",
    "\n",
    "sentence_list_7 = [\n",
    "    \"Show me the <highest/lowest>-rated <genre> films <action> <name>\",\n",
    "    \"List the <genre> movies with the <best/worst> ratings <action> <name>\",\n",
    "    \"I want to see the <top/bottom>-rated <genre> movies <action> <name>\",\n",
    "    \"Display the <genre> movies with the <highest/lowest> ratings <action> <name>\",\n",
    "    \"What are the most highly-rated <genre> films <action> <name>?\",\n",
    "    \"Provide a list of the <top/bottom>-rated <genre> movies <action> <name>\",\n",
    "    \"Give me the <highest/lowest>-rated <genre> films <action> <name>\",\n",
    "    \"Show the movies with the <best/worst> <genre> ratings <action> <name>\",\n",
    "    \"Retrieve the movies with the <highest/lowest> <genre> ratings <action> <name>\",\n",
    "\n",
    "    \"List the <genre> movies <action> <name> with the <best/worst> ratings\",\n",
    "    \"Display the <genre> movies <action> <name> with the <highest/lowest> ratings\",\n",
    "    \"Provide a list of the <top/bottom>-rated <genre> movies\",\n",
    "    \"Show the movies <action> <name> with the <best/worst> <genre> ratings\",\n",
    "    \"Retrieve the movies <action> <name> with the <highest/lowest> <genre> ratings\",\n",
    "]\n",
    "\n",
    "sentence_list_8 = [ # year-related\n",
    "    \"List the movies released in <year>\",\n",
    "    \"Which movies were directed by <name> in <year>?\",\n",
    "    \"What movies were released in <year>?\",\n",
    "    \"What movies did <name> appear in in <year>?\",\n",
    "    \"List the films featuring <name> in <year>\",\n",
    "    \"Provide the filmography of <name> in <year>\",\n",
    "    \"Which movies starred <name> in <year>?\",\n",
    "    \"Which roles were played by <name> in <year>?\"\n",
    "]\n",
    "\n",
    "sentence_list_9 = [ #Top/lowest N (based on release date)\n",
    "    \"What are the <best/worst> <number> movies <name> directed?\",\n",
    "    \"List the <best/worst> <number> movies directed by <name>\",\n",
    "    \"What are the <best/worst> <number> movies <name> directed?\",\n",
    "    \"What are the <best/worst> <number> <genre> movies <name> directed?\",\n",
    "    \"Which are the <best/worst> movies where <name> appeared?\",\n",
    "    \"Can you name the <best/worst> <number> <genre> movies directed by <name>?\",\n",
    "    \"Can you list the <best/worst> <number> films with <name> in the cast?\",\n",
    "    \"What are the <best/worst> <number> movies starring <name>\"\n",
    "]\n",
    "\n",
    "sentence_list_10 = [ #Yes/No\n",
    "    \"Is <name> in the cast of <movie_name>?\",\n",
    "    \"Did <name> direct <movie_name>?\",\n",
    "    \"Was the <movie> released in <year>?\",\n",
    "    \"Is <name> part of the cast of <movie_name>?\",\n",
    "    \"Was <movie_name> released before <year>?\",\n",
    "    \"Is <movie_name> classified as <genre>?\",\n",
    "    \"Did <name> appear in <movie_name>?\",\n",
    "]\n",
    "\n",
    "sentence_list_11 = [\n",
    "    # Movie recommendation\n",
    "    # Three movies\n",
    "    \"Given that I like <movie_name>, <movie_name>, and <movie_name>, can you recommend some movies?\",\n",
    "    \"Recommend movies like <movie_name>, <movie_name>, and <movie_name>\",\n",
    "    \"Since I enjoy <movie_name>, <movie_name>, and <movie_name>, do you have any movie recommendations for me?\",\n",
    "    \"I'm a fan of <movie_name>, <movie_name>, and <movie_name>. Any suggestions for similar movies?\",\n",
    "    \"Considering my liking for <movie_name>, <movie_name>, and <movie_name>, could you suggest some other films I might enjoy?\",\n",
    "    \"Given my interest in <movie_name>, <movie_name>, and <movie_name>, can you recommend additional movies for me to watch?\",\n",
    "    \"If I enjoy <movie_name>, <movie_name>, and <movie_name>, what other movies would you suggest?\",\n",
    "    \"Being a fan of <movie_name>, <movie_name>, and <movie_name>, are there similar movies you'd recommend?\",\n",
    "    \"Since I like <movie_name>, <movie_name>, and <movie_name>, what other movies do you think I might like?\",\n",
    "    \"I've enjoyed <movie_name>, <movie_name>, and <movie_name>. Any recommendations for movies in a similar vein?\",\n",
    "    \"Given my preference for <movie_name>, <movie_name>, and <movie_name>, what other films should I check out?\",\n",
    "    \"If <movie_name>, <movie_name>, and <movie_name> are my preferences, do you have any movie recommendations for me?\",\n",
    "    \"Suggest films similar to <movie_name>, <movie_name>, and <movie_name>\",\n",
    "    \"Can you recommend movies akin to <movie_name>, <movie_name>, and <movie_name>?\",\n",
    "    \"Looking for movies in the same vein as <movie_name>, <movie_name>, and <movie_name>. Any recommendations?\",\n",
    "    \"Seeking recommendations for movies like <movie_name>, <movie_name>, and <movie_name>\",\n",
    "    \"Do you know any movie similar to <movie_name>, <movie_name>, and <movie_name>\",\n",
    "    \"I'm on the lookout for captivating films that share a vibe with <movie_name>, <movie_name>, and <movie_name>. Any suggestions that align with these favorites of mine?\",\n",
    "    \"In the mood for something reminiscent of <movie_name>, <movie_name>, and <movie_name>. Any movie recommendations that capture a similar essence?\",\n",
    "    \"If my taste for movies like <movie_name>, <movie_name>, and <movie_name> is any indication, what other films should I consider watching?\",\n",
    "    \"Looking to expand my movie playlist based on the likes of <movie_name>, <movie_name>, and <movie_name>. Any hidden gems you'd recommend?\",\n",
    "    \"If the cinematic style of <movie_name>, <movie_name>, and <movie_name> resonates with you, could you suggest other films that share a similar appeal?\",\n",
    "    \"Enjoyed the storytelling in <movie_name>, <movie_name>, and <movie_name>. Any recommendations for movies that weave narratives in a comparable fashion?\",\n",
    "    \"Based on the cinematic experience of <movie_name>, <movie_name>, and <movie_name>, are there any other films you'd suggest to keep the excitement alive?\",\n",
    "    \"If the movie magic of <movie_name>, <movie_name>, and <movie_name> has left a lasting impression, what other films do you think would leave me equally enchanted?\",\n",
    "    \"Immersed in the world of <movie_name>, <movie_name>, and <movie_name>, I'm curious about your recommendations for movies that provide a similar level of immersion.\",\n",
    "    \"Exploring films akin to <movie_name>, <movie_name>, and <movie_name> — any suggestions to keep the cinematic journey going?\",\n",
    "    \"Captivated by the storytelling in <movie_name>, <movie_name>, and <movie_name>. What other films do you think would tell a tale in a way that resonates with me?\",\n",
    "    \n",
    "    \n",
    "    \n",
    "    #Two movies\n",
    "    \"Being a fan of <movie_name> and <movie_name>, are there similar movies you'd recommend?\",\n",
    "    \"Based on the cinematic experience of <movie_name> and <movie_name>, are there any other films you'd suggest to keep the excitement alive?\",\n",
    "    \"Can you recommend movies akin to <movie_name> and <movie_name>?\",\n",
    "    \"Captivated by the storytelling in <movie_name> and <movie_name>. What other films do you think would tell a tale in a way that resonates with me?\",\n",
    "    \"Considering my liking for <movie_name> and <movie_name>, could you suggest some other films I might enjoy?\",\n",
    "    \"Do you know any movie similar to <movie_name> and <movie_name>?\",\n",
    "    \"Enjoyed the storytelling in <movie_name> and <movie_name>. Any recommendations for movies that weave narratives in a comparable fashion?\",\n",
    "    \"Given my interest in <movie_name> and <movie_name>, can you recommend additional movies for me to watch?\",\n",
    "    \"Given my preference for <movie_name> and <movie_name>, what other films should I check out?\",\n",
    "    \"I'm a fan of <movie_name> and <movie_name>. Any suggestions for similar movies?\",\n",
    "    \"If I enjoy <movie_name> and <movie_name>, what other movies would you suggest?\",\n",
    "    \"I've enjoyed <movie_name> and <movie_name>. Any recommendations for movies in a similar vein?\",\n",
    "    \"Looking for movies in the same vein as <movie_name> and <movie_name>. Any recommendations?\",\n",
    "    \"Recommend movies like <movie_name> and <movie_name>\",\n",
    "    \"Seeking recommendations for movies like <movie_name> and <movie_name>\",\n",
    "    \"Since I enjoy <movie_name> and <movie_name>, do you have any movie recommendations for me?\",\n",
    "    \"Since I like <movie_name> and <movie_name>, what other movies do you think I might like?\",\n",
    "    \"Suggest films similar to <movie_name> and <movie_name>\",\n",
    "    \"If <movie_name> and <movie_name> are my preferences, do you have any movie recommendations for me?\",\n",
    "    \"Can you recommend movies that share a similar theme or storyline with both <movie_name> and <movie_name>?\",\n",
    "    \n",
    "    #One movie\n",
    "    \"Since I enjoy <movie_name>, do you have any movie recommendations for me?\",\n",
    "    \"Recommend movies like <movie_name>\",\n",
    "    \"I'm a fan of <movie_name>. Any suggestions for similar movies?\",\n",
    "    \"Considering my liking for <movie_name>, could you suggest some other films I might enjoy?\",\n",
    "    \"Given my interest in <movie_name>, can you recommend additional movies for me to watch?\",\n",
    "    \"If I enjoy <movie_name>, what other movies would you suggest?\",\n",
    "    \"Being a fan of <movie_name>, are there similar movies you'd recommend?\",\n",
    "    \"Since I like <movie_name>, what other movies do you think I might like?\",\n",
    "    \"I've enjoyed <movie_name>. Any recommendations for movies in a similar vein?\",\n",
    "    \"Given my preference for <movie_name>, what other films should I check out?\",\n",
    "    \"If <movie_name> is my preference, do you have any movie recommendations for me?\",\n",
    "    \"Suggest films similar to <movie_name>\",\n",
    "    \"Can you recommend movies akin to <movie_name>?\",\n",
    "    \"Looking for movies in the same vein as <movie_name>. Any recommendations?\",\n",
    "    \"Seeking recommendations for movies like <movie_name>\",\n",
    "\n",
    "]\n",
    "\n",
    "# Repeated instances\n",
    "sentence_list_12 = [\n",
    "    # Names\n",
    "    \"Do <name> and <name> appear in <movie_name>\",\n",
    "    \"Do <name> and <name> appear in the same movie\",\n",
    "    \"Have <name> and <name> ever worked together?\",\n",
    "    \"Can you list all the movies starring <name>, <name>, and <name>?\",\n",
    "    \"Can you recommend me a movie with a similar style than the movies from <name> and <name>\", \n",
    "    \"Can you list all the movies starring both <name> and <name>?\",\n",
    "    \"Are there any films where <name>, <name> and <name> collaborated as <role>\",\n",
    "    \"Is there a movie that features both <name> and <name> in prominent roles?\",\n",
    "    \"Have <name> and <name> ever co-directed movies?\",\n",
    "    \"Do <name> and <name> share the screen in any movies?\",\n",
    "    \"Are there any notable collaborations between <name>, <name>, and <name> in the film industry?\",\n",
    "    \"Do <name> and <name> have any projects together?\",\n",
    "    \"Can you recommend a movie that showcases the directorial styles of both <name> and <name>?\",\n",
    "    \"Can you provide a list of films directed by <name> and starring <name>?\",\n",
    "    \"Have <name> and <name> ever been involved in a movie project that received significant critical acclaim?\",\n",
    "    \n",
    "    # Movies\n",
    "    \"Are there any staff members in common between <movie_name> and <movie_name>?\",\n",
    "    \"Were <movie_name> and <movie_name> released the same year?\",\n",
    "    \"Can you suggest films where the cast includes both <name> and <name>?\",\n",
    "    \"Do <movie_name> and <movie_name> share any crew members or production staff?\",\n",
    "    \"Which actors appeared in both <movie_name> and <movie_name>?\",\n",
    "    \"Are there any common themes or genres between <movie_name> and <movie_name>?\",\n",
    "    \"Do <movie_name> and <movie_name> belong to the same film franchise?\",\n",
    "    \"Are there any notable connections between <movie_name> and <movie_name> in terms of directors or producers?\",\n",
    "    \"Which actors from <movie_name> and <movie_name> have collaborated in other films?\",\n",
    "    \"Are there any common filming locations between <movie_name> and <movie_name>?\",\n",
    "    \"Which <role> or <role> contributed to the soundtracks of both <movie_name> and <movie_name>?\",\n",
    "    \n",
    "    # genre\n",
    "    \"Recommend me movies with the genres <genre>, <genre>, and <genre>\",\n",
    "    \"Are there any <genre> and <genre> movies?\",\n",
    "    \"I am looking for <genre> and <genre> movies, anything you would recommend?\",\n",
    "    \"Are there any movies that blend the genres of <genre> and <genre>?\",\n",
    "    \"I am looking for movies that fall under both <genre> and <genre>. Anything you would recommend?\",\n",
    "    \"Can you suggest films that seamlessly combine elements of <genre> and <genre>?\",\n",
    "    \"Which movies successfully incorporate both <genre> and <genre> in their storytelling?\",\n",
    "    \"Do you have recommendations for movies that showcase a mix of <genre> and <genre>?\",\n",
    "    \"I'm interested in exploring the intersection of <genre> and <genre>. Any standout films in that category?\",\n",
    "    \"Can you provide a list of movies that are known for their unique blend of <genre> and <genre>?\",\n",
    "    \"Are there any critically acclaimed movies that successfully navigate the genres of both <genre> and <genre>?\",\n",
    "    \"I enjoy movies that combine the elements of <genre> and <genre>. What are your top picks in this category?\",\n",
    "    \"Can you recommend movies that span a wide range of genres, including <genre>, <genre>, and <genre>?\",\n",
    "    \"I'm in the mood for a movie night with diverse genres. Any suggestions for films that include <genre> and <genre>?\",\n",
    "    \"Do you have recommendations for movies that masterfully balance the genres of both <genre> and <genre>?\"\n",
    "    \n",
    "    \n",
    "]"
   ]
  },
  {
   "cell_type": "code",
   "execution_count": 14,
   "id": "4a0fa77a",
   "metadata": {},
   "outputs": [
    {
     "data": {
      "text/plain": [
       "4999"
      ]
     },
     "execution_count": 14,
     "metadata": {},
     "output_type": "execute_result"
    }
   ],
   "source": [
    "i = 0\n",
    "peoples = list(people_list.values())\n",
    "genres = list(genres_ner.keys())\n",
    "res_s2 = []\n",
    "for name in peoples:\n",
    "    i+=1\n",
    "    if(i==5000):\n",
    "        break\n",
    "        \n",
    "    genre = genres[i%len(genres)]\n",
    "    sentence = sentence_list_2[i%len(sentence_list_2)]\n",
    "    \n",
    "    if(i%2==0):\n",
    "        AoW = \"acted\" \n",
    "    else: \n",
    "        AoW = \"wrote\"\n",
    "    sentence2 = sentence.replace(\"<name>\",name).replace(\"<genre>\",genre)\n",
    "    sentence3 = sentence2.replace(\"<acted/wrote>\",AoW)\n",
    "\n",
    "    ents = [(sentence3.find(name),sentence3.find(name) + len(name), \"name\"),\n",
    "            (sentence3.find(genre),sentence3.find(genre)+len(genre), \"genre\"),\n",
    "            (sentence3.find(AoW),sentence3.find(AoW) + len(AoW), \"action\"),\n",
    "            (sentence3.find(\"directed\"),sentence3.find(\"directed\") + len(\"directed\"), \"action\"),\n",
    "            (sentence3.find(\"written\"),sentence3.find(\"written\") + len(\"written\"), \"action\"),\n",
    "            (sentence3.find(\"featuring\"),sentence3.find(\"featuring\") + len(\"featuring\"), \"action\"),\n",
    "            (sentence3.find(\"played\"),sentence3.find(\"played\") + len(\"played\"), \"action\"),\n",
    "            (sentence3.find(\"appear\"),sentence3.find(\"appear\") + len(\"appear\"), \"action\"),\n",
    "            (sentence3.find(\"made\"),sentence3.find(\"made\") + len(\"made\"), \"action\"),\n",
    "            (sentence3.find(\"authored\"),sentence3.find(\"authored\") + len(\"authored\"), \"action\"),\n",
    "            (sentence3.find(\"appears\"),sentence3.find(\"appears\") + len(\"appears\"), \"action\")]\n",
    "\n",
    "    entities = []\n",
    "    for ent in ents:\n",
    "        if(ent[0]!=-1):\n",
    "            entities.append(ent)\n",
    "\n",
    "\n",
    "    res_s2.append((sentence3,{\"entities\":entities}))\n",
    "    \n",
    "\n",
    "\n",
    "\n",
    "len(res_s2)"
   ]
  },
  {
   "cell_type": "code",
   "execution_count": 15,
   "id": "a01b9307",
   "metadata": {},
   "outputs": [
    {
     "data": {
      "text/plain": [
       "4999"
      ]
     },
     "execution_count": 15,
     "metadata": {},
     "output_type": "execute_result"
    }
   ],
   "source": [
    "i = 0\n",
    "roles = list(roles_ner.keys())\n",
    "movies = list(movie_list.values())\n",
    "res_s1 = []\n",
    "for movie in movies:\n",
    "    i+=1\n",
    "    if(i==5000):\n",
    "        break\n",
    "        \n",
    "    role = roles[i%len(roles)]\n",
    "    sentence = sentence_list_1[i%len(sentence_list_1)]\n",
    "    \n",
    "    if(i%2==0):\n",
    "        AoW = \"directed\" \n",
    "    else: \n",
    "        AoW = \"wrote\"\n",
    "    sentence2 = sentence.replace(\"<role>\",role).replace(\"<movie_name>\",movie)\n",
    "    sentence3 = sentence2.replace(\"<directed/wrote>\",AoW)\n",
    "\n",
    "    ents = [(sentence3.find(role),sentence3.find(role) + len(role), \"role\"),\n",
    "            (sentence3.find(movie),sentence3.find(movie)+len(movie), \"movie\"),\n",
    "            (sentence3.find(AoW),sentence3.find(AoW) + len(AoW), \"action\")]\n",
    "    \n",
    "    for action in actions_ner.keys():\n",
    "        if action in sentence3 and action != AoW:\n",
    "            ents.append((sentence3.find(action),sentence3.find(action) + len(action), \"action\"))\n",
    "            break\n",
    "\n",
    "    entities = []\n",
    "    for ent in ents:\n",
    "        if(ent[0]!=-1):\n",
    "            entities.append(ent)\n",
    "\n",
    "\n",
    "    res_s1.append((sentence3,{\"entities\":entities}))\n",
    "    \n",
    "len(res_s1)"
   ]
  },
  {
   "cell_type": "code",
   "execution_count": 16,
   "id": "5424c333",
   "metadata": {},
   "outputs": [
    {
     "data": {
      "text/plain": [
       "4999"
      ]
     },
     "execution_count": 16,
     "metadata": {},
     "output_type": "execute_result"
    }
   ],
   "source": [
    "i = 0\n",
    "movies = list(movie_list.values())\n",
    "res_s3 = []\n",
    "for movie in movies:\n",
    "    i+=1\n",
    "    if(i==5000):\n",
    "        break\n",
    "        \n",
    "    sentence = sentence_list_3[i%len(sentence_list_3)]\n",
    "    \n",
    "    sentence3 = sentence.replace(\"<movie_name>\",movie)\n",
    "\n",
    "    ents = [(sentence3.find(movie),sentence3.find(movie)+len(movie), \"movie\")]\n",
    "    \n",
    "    for predicate in list(predicates_ner.keys()):\n",
    "        if predicate in sentence3:\n",
    "            ents.append((sentence3.find(predicate),sentence3.find(predicate) + len(predicate), \"predicate\"))\n",
    "\n",
    "    entities = []\n",
    "    for ent in ents:\n",
    "        if(ent[0]!=-1):\n",
    "            entities.append(ent)\n",
    "\n",
    "\n",
    "    res_s3.append((sentence3,{\"entities\":entities}))\n",
    "    \n",
    "len(res_s3)"
   ]
  },
  {
   "cell_type": "code",
   "execution_count": 17,
   "id": "b635cef7",
   "metadata": {},
   "outputs": [
    {
     "data": {
      "text/plain": [
       "4999"
      ]
     },
     "execution_count": 17,
     "metadata": {},
     "output_type": "execute_result"
    }
   ],
   "source": [
    "i = 0\n",
    "movies = list(movie_list.values())\n",
    "res_s4 = []\n",
    "for movie in movies:\n",
    "    i+=1\n",
    "    if(i==5000):\n",
    "        break\n",
    "        \n",
    "    sentence = sentence_list_4[i%len(sentence_list_4)]\n",
    "    \n",
    "    sentence3 = sentence.replace(\"<movie_name>\",movie)\n",
    "\n",
    "    ents = [(sentence3.find(movie),sentence3.find(movie)+len(movie), \"movie\")]\n",
    "    \n",
    "    for predicate in list(predicates_ner.keys()):\n",
    "        if predicate in sentence3:\n",
    "            ents.append((sentence3.find(predicate),sentence3.find(predicate) + len(predicate), \"predicate\"))\n",
    "\n",
    "    entities = []\n",
    "    for ent in ents:\n",
    "        if(ent[0]!=-1):\n",
    "            entities.append(ent)\n",
    "\n",
    "\n",
    "    res_s4.append((sentence3,{\"entities\":entities}))\n",
    "    \n",
    "len(res_s4)"
   ]
  },
  {
   "cell_type": "code",
   "execution_count": 18,
   "id": "b40f3d29",
   "metadata": {},
   "outputs": [
    {
     "data": {
      "text/plain": [
       "5000"
      ]
     },
     "execution_count": 18,
     "metadata": {},
     "output_type": "execute_result"
    }
   ],
   "source": [
    "res_s5 = []\n",
    "i = 0\n",
    "action_list = list(actions_ner.keys())\n",
    "genres = list(genres_ner.keys())\n",
    "\n",
    "sentence_list_567 = sentence_list_5 + sentence_list_6 + sentence_list_7\n",
    "for name in peoples:\n",
    "    i+=1\n",
    "    if(i%2==0):\n",
    "        HoL = \"highest\"\n",
    "        ToB = \"top\"\n",
    "        BoW = \"best\"\n",
    "    else:\n",
    "        HoL = \"lowest\"\n",
    "        ToB = \"bottom\"\n",
    "        BoW = \"worst\"\n",
    "    \n",
    "    action = action_list[i%len(action_list)]\n",
    "    sentence = sentence_list_567[i%len(sentence_list_567)]\n",
    "    genre = genres[i%len(genres)]\n",
    "    number = numbers_ner[i%len(numbers_ner)]\n",
    "    is_number = False\n",
    "    if \"<number>\" in sentence:\n",
    "        is_number = True\n",
    "\n",
    "    sentence2 = sentence.replace(\"<highest/lowest>\",HoL).replace(\"<top/bottom>\",ToB).replace(\"<best/worst>\",BoW)\n",
    "    sentence3 = sentence2.replace(\"<name>\",name).replace(\"<action>\",action).replace(\"<genre>\",genre).replace(\"<number>\", number)\n",
    "    ents = [(sentence3.find(HoL),sentence3.find(HoL) + len(HoL), \"order\"),\n",
    "            (sentence3.find(\"highly\"),sentence3.find(\"highly\") + len(\"highly\"), \"order\"),\n",
    "            (sentence3.find(ToB),sentence3.find(ToB)+len(ToB), \"order\"),\n",
    "            (sentence3.find(genre),sentence3.find(genre) + len(genre), \"genre\"),\n",
    "            (sentence3.find(BoW),sentence3.find(BoW) + len(BoW), \"order\"),\n",
    "            (sentence3.find(name),sentence3.find(name) + len(name), \"name\"),\n",
    "            #(sentence3.find(' '+number+' ')+1,sentence3.find(' '+number+' ')-1 + len(number), \"numerical_entity\")\n",
    "           ]\n",
    "    \n",
    "    for action in actions_ner.keys():\n",
    "        if action in sentence3:\n",
    "            ents.append((sentence3.find(action),sentence3.find(action) + len(action), \"action\"))\n",
    "            \n",
    "    for predicate in list(predicates_ner.keys()):\n",
    "        if predicate in sentence3:\n",
    "            ents.append((sentence3.find(predicate),sentence3.find(predicate) + len(predicate), \"predicate\"))\n",
    "    \n",
    "    if is_number:\n",
    "        ents.append((sentence3.find(' '+number+' ')+1,sentence3.find(' '+number+' ')+1 + len(number), \"numerical_entity\"))\n",
    "\n",
    "    entities = []\n",
    "    for ent in ents:\n",
    "        if(ent[0]!=-1):\n",
    "            entities.append(ent)\n",
    "\n",
    "    res_s5.append((sentence3,{\"entities\":entities}))\n",
    "    \n",
    "    if(i==5000):\n",
    "        break\n",
    "\n",
    "len(res_s5)\n"
   ]
  },
  {
   "cell_type": "code",
   "execution_count": 19,
   "id": "902518a7",
   "metadata": {},
   "outputs": [
    {
     "data": {
      "text/plain": [
       "5000"
      ]
     },
     "execution_count": 19,
     "metadata": {},
     "output_type": "execute_result"
    }
   ],
   "source": [
    "res_s6 = []\n",
    "i = 0\n",
    "genres = list(genres_ner.keys())\n",
    "\n",
    "sentence_list_89 = sentence_list_8 + sentence_list_9\n",
    "for name in peoples:\n",
    "    i+=1\n",
    "    if(i%2==0):\n",
    "        BoW = \"best\"\n",
    "    else:\n",
    "        BoW = \"worst\"\n",
    "    \n",
    "    sentence = sentence_list_89[i%len(sentence_list_89)]\n",
    "    genre = genres[i%len(genres)]\n",
    "    number = numbers_ner[i%len(numbers_ner)]\n",
    "    year = years_ner[i%len(years_ner)]\n",
    "    is_number=False\n",
    "    if \"<number>\" in sentence:\n",
    "        is_number = True\n",
    "\n",
    "    sentence2 = sentence.replace(\"<best/worst>\",BoW).replace(\"<name>\",name)\n",
    "    sentence3 = sentence2.replace(\"<genre>\",genre).replace(\"<year>\",year).replace(\"<number>\", number)\n",
    "    ents = [(sentence3.find(name),sentence3.find(name) + len(name), \"name\"),\n",
    "            (sentence3.find(BoW),sentence3.find(BoW) + len(BoW), \"order\"),\n",
    "            (sentence3.find(genre),sentence3.find(genre) + len(genre), \"genre\"),\n",
    "            (sentence3.find(year),sentence3.find(year) + len(year), \"year\"),\n",
    "           ]\n",
    "    \n",
    "    for action in actions_ner.keys():\n",
    "        if action in sentence3:\n",
    "            ents.append((sentence3.find(action),sentence3.find(action) + len(action), \"action\"))\n",
    "            \n",
    "    for predicate in list(predicates_ner.keys()):\n",
    "        if predicate in sentence3:\n",
    "            ents.append((sentence3.find(predicate),sentence3.find(predicate) + len(predicate), \"predicate\"))\n",
    "    \n",
    "    if is_number:\n",
    "        ents.append((sentence3.find(' '+number+' ')+1,sentence3.find(' '+number+' ')+1 + len(number), \"numerical_entity\"))\n",
    "\n",
    "\n",
    "    entities = []\n",
    "    for ent in ents:\n",
    "        if(ent[0]!=-1):\n",
    "            entities.append(ent)\n",
    "\n",
    "    res_s6.append((sentence3,{\"entities\":entities}))\n",
    "    \n",
    "    if(i==5000):\n",
    "        break\n",
    "\n",
    "len(res_s6)"
   ]
  },
  {
   "cell_type": "code",
   "execution_count": 20,
   "id": "875f0b27",
   "metadata": {},
   "outputs": [
    {
     "data": {
      "text/plain": [
       "4999"
      ]
     },
     "execution_count": 20,
     "metadata": {},
     "output_type": "execute_result"
    }
   ],
   "source": [
    "import random\n",
    "random.seed(42)\n",
    "\n",
    "i = 0\n",
    "predicates = list(predicates_ner.keys())\n",
    "movies = list(movie_list.values())\n",
    "movies_random = list(movie_list.values())\n",
    "res_s7 = []\n",
    "for movie in movies:\n",
    "    i+=1\n",
    "    if(i==5000):\n",
    "        break\n",
    "        \n",
    "    sentence = sentence_list_11[i%len(sentence_list_11)]\n",
    "    \n",
    "    num_movies = sentence.count(\"<movie_name>\")\n",
    "    sentence = sentence.replace(\"<movie_name>\", movie, 1)\n",
    "    ents = [(sentence.find(movie),sentence.find(movie)+len(movie), \"movie\")]\n",
    "    movies_random.remove(movie)\n",
    "    chosen_movies = []\n",
    "    \n",
    "    for j in range(num_movies-1):\n",
    "        next_movie = random.choice(movies_random)\n",
    "        sentence = sentence.replace(\"<movie_name>\", next_movie,1)\n",
    "        ents.append((sentence.find(next_movie),sentence.find(next_movie)+len(next_movie), \"movie\"))\n",
    "        movies_random.remove(next_movie)\n",
    "        chosen_movies.append(next_movie)\n",
    "    \n",
    "    movies_random.append(movie)\n",
    "    movies_random.extend(chosen_movies)\n",
    "\n",
    "    for predicate in predicates:\n",
    "        if predicate in sentence:\n",
    "            ents.append((sentence.find(predicate),sentence.find(predicate) + len(predicate), \"predicate\"))\n",
    "            break\n",
    "\n",
    "    entities = []\n",
    "    for ent in ents:\n",
    "        if(ent[0]!=-1):\n",
    "            entities.append(ent)\n",
    "\n",
    "\n",
    "    res_s7.append((sentence,{\"entities\":entities}))\n",
    "    #len(res_s7)\n",
    "    \n",
    "len(res_s7)"
   ]
  },
  {
   "cell_type": "code",
   "execution_count": 21,
   "id": "4eeae459",
   "metadata": {},
   "outputs": [
    {
     "data": {
      "text/plain": [
       "4999"
      ]
     },
     "execution_count": 21,
     "metadata": {},
     "output_type": "execute_result"
    }
   ],
   "source": [
    "import re\n",
    "\n",
    "i = 0\n",
    "predicates = list(predicates_ner.keys())\n",
    "movies = list(movie_list.values())\n",
    "peoples = list(people_list.values())\n",
    "peoples_random = list(people_list.values())\n",
    "genres = list(genres_ner.keys())\n",
    "roles = list(roles_ner.keys())\n",
    "res_s8 = []\n",
    "for person in peoples:\n",
    "    i+=1\n",
    "    if(i==5000):\n",
    "        break\n",
    "        \n",
    "    sentence = sentence_list_12[i%len(sentence_list_12)]\n",
    "    \n",
    "    # Find all the replaceable objects\n",
    "    regex = re.compile('(?:<[a-z_]+>)')\n",
    "    matches = re.finditer(regex, sentence)\n",
    "    \n",
    "    ents = []\n",
    "    \n",
    "    #Using random choice since we don't really know how many instances have of each one and would be more complex having multiple loops\n",
    "    people_chosen=[]\n",
    "    movies_chosen=[]\n",
    "    genres_chosen=[]\n",
    "    roles_chosen=[]\n",
    "    for match in matches:\n",
    "        if match.group() == '<name>':\n",
    "            insertion = random.choice(peoples_random)\n",
    "            insertion_type = 'name'\n",
    "            people_chosen.append(insertion)\n",
    "            peoples_random.remove(insertion)\n",
    "        elif match.group() == '<movie_name>':\n",
    "            insertion = random.choice(movies)\n",
    "            insertion_type = 'movie'\n",
    "            movies_chosen.append(insertion)\n",
    "            movies.remove(insertion)\n",
    "        elif match.group() == '<role>':\n",
    "            insertion = random.choice(roles)\n",
    "            insertion_type = 'role'\n",
    "            roles_chosen.append(insertion)\n",
    "            roles.remove(insertion)\n",
    "        elif match.group() == '<genre>':\n",
    "            insertion = random.choice(genres)\n",
    "            insertion_type = 'genre'\n",
    "            genres_chosen.append(insertion)\n",
    "            genres.remove(insertion)\n",
    "        \n",
    "        sentence = sentence.replace(match.group(), insertion,1)\n",
    "        ents.append((sentence.find(insertion),sentence.find(insertion)+len(insertion), insertion_type))\n",
    "        \n",
    "    peoples_random.extend(people_chosen)\n",
    "    movies.extend(movies_chosen)\n",
    "    genres.extend(genres_chosen)\n",
    "    roles.extend(roles_chosen)\n",
    "\n",
    "    for predicate in predicates:\n",
    "        if predicate in sentence:\n",
    "            ents.append((sentence.find(predicate),sentence.find(predicate) + len(predicate), \"predicate\"))\n",
    "            break\n",
    "    \n",
    "    for action in actions_ner.keys():\n",
    "        if action in sentence:\n",
    "            ents.append((sentence.find(action),sentence.find(action) + len(action), \"action\"))\n",
    "\n",
    "    entities = []\n",
    "    for ent in ents:\n",
    "        if(ent[0]!=-1):\n",
    "            entities.append(ent)\n",
    "\n",
    "\n",
    "    res_s8.append((sentence,{\"entities\":entities}))\n",
    "    \n",
    "len(res_s8)"
   ]
  },
  {
   "cell_type": "code",
   "execution_count": 22,
   "id": "c52a0dbd",
   "metadata": {},
   "outputs": [
    {
     "data": {
      "text/plain": [
       "39994"
      ]
     },
     "execution_count": 22,
     "metadata": {},
     "output_type": "execute_result"
    }
   ],
   "source": [
    "TRAIN_DATA = res_s1 + res_s2 + res_s3 + res_s4 + res_s5 + res_s6 + res_s7 + res_s8\n",
    "len(TRAIN_DATA)"
   ]
  },
  {
   "cell_type": "code",
   "execution_count": 46,
   "id": "f64beadb",
   "metadata": {},
   "outputs": [
    {
     "name": "stderr",
     "output_type": "stream",
     "text": [
      " 78%|████████████████████████████████████████████████████████▏               | 169720/217534 [00:17<00:06, 7223.79it/s]"
     ]
    },
    {
     "name": "stdout",
     "output_type": "stream",
     "text": [
      "Since I like 10, My Joy, and Joy, what other movies do you think I might like?\n",
      "{'entities': [(13, 15, 'movie'), (17, 23, 'movie'), (20, 23, 'movie')]}\n",
      "[E1010] Unable to set entity information for token 6 which is included in more than one span in entities, blocked, missing or outside.\n"
     ]
    },
    {
     "name": "stderr",
     "output_type": "stream",
     "text": [
      " 80%|█████████████████████████████████████████████████████████▎              | 173299/217534 [00:18<00:06, 7073.33it/s]"
     ]
    },
    {
     "name": "stdout",
     "output_type": "stream",
     "text": [
      "In the mood for something reminiscent of The Time of the Charity Fête Is Over, A Man Called Ove, and Time. Any movie recommendations that capture a similar essence?\n",
      "{'entities': [(41, 77, 'movie'), (79, 95, 'movie'), (45, 49, 'movie'), (117, 126, 'predicate')]}\n",
      "[E1010] Unable to set entity information for token 8 which is included in more than one span in entities, blocked, missing or outside.\n"
     ]
    },
    {
     "name": "stderr",
     "output_type": "stream",
     "text": [
      " 87%|██████████████████████████████████████████████████████████████▋         | 189263/217534 [00:20<00:03, 7205.26it/s]"
     ]
    },
    {
     "name": "stdout",
     "output_type": "stream",
     "text": [
      "I'm in the mood for a movie night with diverse genres. Any suggestions for films that include action comedy and comedy?\n",
      "{'entities': [(94, 107, 'genre'), (101, 107, 'genre'), (47, 52, 'predicate')]}\n",
      "[E1010] Unable to set entity information for token 20 which is included in more than one span in entities, blocked, missing or outside.\n",
      "Can you recommend movies that span a wide range of genres, including stand-up comedy, comedy, and tokusatsu?\n",
      "{'entities': [(69, 84, 'genre'), (78, 84, 'genre'), (98, 107, 'genre'), (51, 56, 'predicate')]}\n",
      "[E1010] Unable to set entity information for token 16 which is included in more than one span in entities, blocked, missing or outside.\n",
      "I am looking for movies that fall under both live-action/animated and action. Anything you would recommend?\n",
      "{'entities': [(45, 65, 'genre'), (50, 56, 'genre'), (97, 106, 'predicate')]}\n",
      "[E1010] Unable to set entity information for token 11 which is included in more than one span in entities, blocked, missing or outside.\n",
      "Can you provide a list of movies that are known for their unique blend of costume drama and drama?\n",
      "{'entities': [(74, 87, 'genre'), (82, 87, 'genre')]}\n",
      "[E1010] Unable to set entity information for token 16 which is included in more than one span in entities, blocked, missing or outside.\n"
     ]
    },
    {
     "name": "stderr",
     "output_type": "stream",
     "text": [
      " 88%|███████████████████████████████████████████████████████████████▍        | 191492/217534 [00:20<00:03, 7298.74it/s]"
     ]
    },
    {
     "name": "stdout",
     "output_type": "stream",
     "text": [
      "Which art director or director contributed to the soundtracks of both At War and Salt of the Earth?\n",
      "{'entities': [(6, 18, 'role'), (10, 18, 'role'), (70, 76, 'movie'), (81, 98, 'movie'), (10, 16, 'action')]}\n",
      "[E1010] Unable to set entity information for token 2 which is included in more than one span in entities, blocked, missing or outside.\n"
     ]
    },
    {
     "name": "stderr",
     "output_type": "stream",
     "text": [
      " 89%|████████████████████████████████████████████████████████████████▎       | 194452/217534 [00:21<00:03, 7327.94it/s]"
     ]
    },
    {
     "name": "stdout",
     "output_type": "stream",
     "text": [
      "Recommend me movies with the genres urban fantasy, anime, and fantasy\n",
      "{'entities': [(36, 49, 'genre'), (51, 56, 'genre'), (42, 49, 'genre'), (29, 34, 'predicate')]}\n",
      "[E1010] Unable to set entity information for token 7 which is included in more than one span in entities, blocked, missing or outside.\n",
      "Can you recommend movies that span a wide range of genres, including Eastern, historical novel, and historical?\n",
      "{'entities': [(69, 76, 'genre'), (78, 94, 'genre'), (78, 88, 'genre'), (51, 56, 'predicate')]}\n",
      "[E1010] Unable to set entity information for token 15 which is included in more than one span in entities, blocked, missing or outside.\n"
     ]
    },
    {
     "name": "stderr",
     "output_type": "stream",
     "text": [
      " 91%|█████████████████████████████████████████████████████████████████▎      | 197490/217534 [00:21<00:02, 7489.68it/s]"
     ]
    },
    {
     "name": "stdout",
     "output_type": "stream",
     "text": [
      "Recommend me movies with the genres science fiction comic, fiction, and comic book\n",
      "{'entities': [(36, 57, 'genre'), (44, 51, 'genre'), (72, 82, 'genre'), (29, 34, 'predicate')]}\n",
      "[E1010] Unable to set entity information for token 7 which is included in more than one span in entities, blocked, missing or outside.\n"
     ]
    },
    {
     "name": "stderr",
     "output_type": "stream",
     "text": [
      " 92%|██████████████████████████████████████████████████████████████████      | 199758/217534 [00:21<00:02, 7500.91it/s]"
     ]
    },
    {
     "name": "stdout",
     "output_type": "stream",
     "text": [
      "Are there any mystery play and play movies?\n",
      "{'entities': [(14, 26, 'genre'), (22, 26, 'genre')]}\n",
      "[E1010] Unable to set entity information for token 4 which is included in more than one span in entities, blocked, missing or outside.\n",
      "Are there any science fiction anime and fiction movies?\n",
      "{'entities': [(14, 35, 'genre'), (22, 29, 'genre')]}\n",
      "[E1010] Unable to set entity information for token 4 which is included in more than one span in entities, blocked, missing or outside.\n"
     ]
    },
    {
     "name": "stderr",
     "output_type": "stream",
     "text": [
      " 93%|██████████████████████████████████████████████████████████████████▌     | 201270/217534 [00:21<00:02, 7481.77it/s]"
     ]
    },
    {
     "name": "stdout",
     "output_type": "stream",
     "text": [
      "Do you have recommendations for movies that showcase a mix of mystery fiction and fiction?\n",
      "{'entities': [(62, 77, 'genre'), (70, 77, 'genre'), (12, 21, 'predicate')]}\n",
      "[E1010] Unable to set entity information for token 12 which is included in more than one span in entities, blocked, missing or outside.\n"
     ]
    },
    {
     "name": "stderr",
     "output_type": "stream",
     "text": [
      " 94%|███████████████████████████████████████████████████████████████████▌    | 204307/217534 [00:22<00:01, 7541.83it/s]"
     ]
    },
    {
     "name": "stdout",
     "output_type": "stream",
     "text": [
      "Can you recommend movies that span a wide range of genres, including crime thriller, gambling, and thriller?\n",
      "{'entities': [(69, 83, 'genre'), (85, 93, 'genre'), (75, 83, 'genre'), (51, 56, 'predicate')]}\n",
      "[E1010] Unable to set entity information for token 14 which is included in more than one span in entities, blocked, missing or outside.\n",
      "Do you have recommendations for movies that masterfully balance the genres of both comedy of remarriage and comedy?\n",
      "{'entities': [(83, 103, 'genre'), (83, 89, 'genre'), (68, 73, 'predicate')]}\n",
      "[E1010] Unable to set entity information for token 13 which is included in more than one span in entities, blocked, missing or outside.\n"
     ]
    },
    {
     "name": "stderr",
     "output_type": "stream",
     "text": [
      " 95%|████████████████████████████████████████████████████████████████████▋   | 207353/217534 [00:22<00:01, 7271.82it/s]"
     ]
    },
    {
     "name": "stdout",
     "output_type": "stream",
     "text": [
      "Recommend me movies with the genres film based on a novel, supernatural fiction, and supernatural\n",
      "{'entities': [(36, 57, 'genre'), (59, 79, 'genre'), (59, 71, 'genre'), (29, 34, 'predicate')]}\n",
      "[E1010] Unable to set entity information for token 12 which is included in more than one span in entities, blocked, missing or outside.\n",
      "I'm interested in exploring the intersection of comedy horror and comedy. Any standout films in that category?\n",
      "{'entities': [(48, 61, 'genre'), (48, 54, 'genre'), (101, 109, 'predicate')]}\n",
      "[E1010] Unable to set entity information for token 8 which is included in more than one span in entities, blocked, missing or outside.\n",
      "I'm interested in exploring the intersection of love triangle romance and romance. Any standout films in that category?\n",
      "{'entities': [(48, 69, 'genre'), (62, 69, 'genre'), (110, 118, 'predicate')]}\n",
      "[E1010] Unable to set entity information for token 10 which is included in more than one span in entities, blocked, missing or outside.\n",
      "Can you suggest films that seamlessly combine elements of Acid Western and Western?\n",
      "{'entities': [(58, 70, 'genre'), (63, 70, 'genre'), (8, 15, 'predicate')]}\n",
      "[E1010] Unable to set entity information for token 10 which is included in more than one span in entities, blocked, missing or outside.\n",
      "Which director of photography or director contributed to the soundtracks of both Voices from Beyond and Best Man Down?\n",
      "{'entities': [(6, 29, 'role'), (6, 14, 'role'), (81, 99, 'movie'), (104, 117, 'movie'), (6, 12, 'action')]}\n",
      "[E1010] Unable to set entity information for token 1 which is included in more than one span in entities, blocked, missing or outside.\n",
      "I enjoy movies that combine the elements of historical fiction and fiction. What are your top picks in this category?\n",
      "{'entities': [(44, 62, 'genre'), (55, 62, 'genre'), (108, 116, 'predicate')]}\n",
      "[E1010] Unable to set entity information for token 9 which is included in more than one span in entities, blocked, missing or outside.\n",
      "Which voice actor or actor contributed to the soundtracks of both Cast a Giant Shadow and .45?\n",
      "{'entities': [(6, 17, 'role'), (12, 17, 'role'), (66, 85, 'movie'), (90, 93, 'movie')]}\n",
      "[E1010] Unable to set entity information for token 2 which is included in more than one span in entities, blocked, missing or outside.\n"
     ]
    },
    {
     "name": "stderr",
     "output_type": "stream",
     "text": [
      " 96%|█████████████████████████████████████████████████████████████████████   | 208826/217534 [00:23<00:01, 7130.96it/s]"
     ]
    },
    {
     "name": "stdout",
     "output_type": "stream",
     "text": [
      "Are there any critically acclaimed movies that successfully navigate the genres of both family drama and drama?\n",
      "{'entities': [(88, 100, 'genre'), (95, 100, 'genre'), (73, 78, 'predicate')]}\n",
      "[E1010] Unable to set entity information for token 14 which is included in more than one span in entities, blocked, missing or outside.\n",
      "Are there any movies that blend the genres of steampunk fiction and fiction?\n",
      "{'entities': [(46, 63, 'genre'), (56, 63, 'genre'), (36, 41, 'predicate')]}\n",
      "[E1010] Unable to set entity information for token 10 which is included in more than one span in entities, blocked, missing or outside.\n",
      "Recommend me movies with the genres science fiction anime, anime, and intersex\n",
      "{'entities': [(36, 57, 'genre'), (52, 57, 'genre'), (70, 78, 'genre'), (29, 34, 'predicate')]}\n",
      "[E1010] Unable to set entity information for token 8 which is included in more than one span in entities, blocked, missing or outside.\n",
      "Can you provide a list of movies that are known for their unique blend of mystery fiction and fiction?\n",
      "{'entities': [(74, 89, 'genre'), (82, 89, 'genre')]}\n",
      "[E1010] Unable to set entity information for token 16 which is included in more than one span in entities, blocked, missing or outside.\n",
      "Recommend me movies with the genres action anime and manga, pritcha, and action\n",
      "{'entities': [(36, 58, 'genre'), (60, 67, 'genre'), (36, 42, 'genre'), (29, 34, 'predicate')]}\n",
      "[E1010] Unable to set entity information for token 6 which is included in more than one span in entities, blocked, missing or outside.\n"
     ]
    },
    {
     "name": "stderr",
     "output_type": "stream",
     "text": [
      " 97%|██████████████████████████████████████████████████████████████████████▏ | 211902/217534 [00:23<00:00, 7528.13it/s]"
     ]
    },
    {
     "name": "stdout",
     "output_type": "stream",
     "text": [
      "I'm interested in exploring the intersection of television comedy and comedy. Any standout films in that category?\n",
      "{'entities': [(48, 65, 'genre'), (59, 65, 'genre'), (105, 113, 'predicate')]}\n",
      "[E1010] Unable to set entity information for token 9 which is included in more than one span in entities, blocked, missing or outside.\n",
      "Do you have recommendations for movies that masterfully balance the genres of both horror anime and manga and horror?\n",
      "{'entities': [(83, 105, 'genre'), (83, 89, 'genre'), (68, 73, 'predicate')]}\n",
      "[E1010] Unable to set entity information for token 13 which is included in more than one span in entities, blocked, missing or outside.\n",
      "Which movies successfully incorporate both women in prison and prison in their storytelling?\n",
      "{'entities': [(43, 58, 'genre'), (52, 58, 'genre')]}\n",
      "[E1010] Unable to set entity information for token 7 which is included in more than one span in entities, blocked, missing or outside.\n"
     ]
    },
    {
     "name": "stderr",
     "output_type": "stream",
     "text": [
      " 99%|███████████████████████████████████████████████████████████████████████▏| 214975/217534 [00:23<00:00, 7609.80it/s]"
     ]
    },
    {
     "name": "stdout",
     "output_type": "stream",
     "text": [
      "Recommend me movies with the genres post-apocalyptic, neo-noir, and apocalyptic\n",
      "{'entities': [(36, 52, 'genre'), (54, 62, 'genre'), (41, 52, 'genre'), (29, 34, 'predicate')]}\n",
      "[E1010] Unable to set entity information for token 8 which is included in more than one span in entities, blocked, missing or outside.\n",
      "Are there any movies that blend the genres of drama television series and drama?\n",
      "{'entities': [(46, 69, 'genre'), (46, 51, 'genre'), (36, 41, 'predicate')]}\n",
      "[E1010] Unable to set entity information for token 9 which is included in more than one span in entities, blocked, missing or outside.\n",
      "Are there any critically acclaimed movies that successfully navigate the genres of both social comedy and comedy?\n",
      "{'entities': [(88, 101, 'genre'), (95, 101, 'genre'), (73, 78, 'predicate')]}\n",
      "[E1010] Unable to set entity information for token 14 which is included in more than one span in entities, blocked, missing or outside.\n"
     ]
    },
    {
     "name": "stderr",
     "output_type": "stream",
     "text": [
      "100%|███████████████████████████████████████████████████████████████████████▋| 216539/217534 [00:24<00:00, 7688.75it/s]"
     ]
    },
    {
     "name": "stdout",
     "output_type": "stream",
     "text": [
      "Do you have recommendations for movies that masterfully balance the genres of both comedy anime and manga and comedy?\n",
      "{'entities': [(83, 105, 'genre'), (83, 89, 'genre'), (68, 73, 'predicate')]}\n",
      "[E1010] Unable to set entity information for token 13 which is included in more than one span in entities, blocked, missing or outside.\n",
      "Which cast member or cast contributed to the soundtracks of both In Family I Trust and Euphoria?\n",
      "{'entities': [(6, 17, 'role'), (6, 10, 'role'), (65, 82, 'movie'), (87, 95, 'movie')]}\n",
      "[E1010] Unable to set entity information for token 1 which is included in more than one span in entities, blocked, missing or outside.\n",
      "Which cast member or cast contributed to the soundtracks of both Low Down and Jackass Number Two?\n",
      "{'entities': [(6, 17, 'role'), (6, 10, 'role'), (65, 73, 'movie'), (78, 96, 'movie')]}\n",
      "[E1010] Unable to set entity information for token 1 which is included in more than one span in entities, blocked, missing or outside.\n"
     ]
    },
    {
     "name": "stderr",
     "output_type": "stream",
     "text": [
      "100%|████████████████████████████████████████████████████████████████████████| 217534/217534 [00:24<00:00, 9002.31it/s]\n"
     ]
    },
    {
     "name": "stdout",
     "output_type": "stream",
     "text": [
      "63648\n"
     ]
    }
   ],
   "source": [
    "import pandas as pd\n",
    "import os\n",
    "from tqdm import tqdm\n",
    "from spacy.tokens import DocBin\n",
    "\n",
    "nlp = spacy.load(\"en_core_web_sm\")\n",
    "\n",
    "db = DocBin() # create a DocBin object\n",
    "\n",
    "count = 0\n",
    "for text, annot in tqdm(TRAIN_DATA): # data in previous format\n",
    "    try:\n",
    "        doc = nlp.make_doc(text) # create doc object from text\n",
    "        ents = []\n",
    "        for start, end, label in annot[\"entities\"]: # add character indexes\n",
    "            span = doc.char_span(start, end, label=label, alignment_mode=\"contract\")\n",
    "            if span is None:\n",
    "                #print(\"Skipping entity\")\n",
    "                count+=1\n",
    "            else:\n",
    "                ents.append(span)\n",
    "        doc.ents = ents # label the text with the ents\n",
    "        db.add(doc)\n",
    "    except Exception as e:\n",
    "        print(text)\n",
    "        print(annot)\n",
    "        print(e)\n",
    "        count+=1\n",
    "print(count)\n",
    "#os.chdir(r'XXXX\\XXXXX')\n",
    "db.to_disk(\"train3.spacy\") # save the docbin object"
   ]
  },
  {
   "cell_type": "code",
   "execution_count": 25,
   "id": "6fc5cb03",
   "metadata": {},
   "outputs": [
    {
     "data": {
      "text/plain": [
       "'in any'"
      ]
     },
     "execution_count": 25,
     "metadata": {},
     "output_type": "execute_result"
    }
   ],
   "source": [
    "\"Do Ola Solum and Jürgen Drews share the screen in any movies?\"[47:53]"
   ]
  },
  {
   "cell_type": "code",
   "execution_count": null,
   "id": "a784f71f",
   "metadata": {},
   "outputs": [],
   "source": [
    "\"I want to see the top-rated film score movies featured Vanraj Bhatia\"[28:38]"
   ]
  },
  {
   "cell_type": "code",
   "execution_count": null,
   "id": "ff2184ac",
   "metadata": {},
   "outputs": [],
   "source": [
    "predicates_ner.keys()"
   ]
  },
  {
   "cell_type": "markdown",
   "id": "08d03bd4",
   "metadata": {},
   "source": [
    "### Test"
   ]
  },
  {
   "cell_type": "code",
   "execution_count": 49,
   "id": "498f5406",
   "metadata": {},
   "outputs": [],
   "source": [
    "nlp_model = spacy.load('models/NER/v5_136')"
   ]
  },
  {
   "cell_type": "code",
   "execution_count": 50,
   "id": "9b467cd4",
   "metadata": {},
   "outputs": [
    {
     "data": {
      "text/plain": [
       "[('Give me the name of the cast of Jan Dara',\n",
       "  {'entities': [(24, 28, 'role'), (32, 40, 'movie')]}),\n",
       " (\"I'd like to know the cast member's name for Moondram Pirai\",\n",
       "  {'entities': [(21, 32, 'role'), (44, 58, 'movie')]}),\n",
       " (\"I'm curious about the person who wrote Buffalo Bill and the Indians, or Sitting Bull's History Lesson\",\n",
       "  {'entities': [(39, 101, 'movie'), (33, 38, 'action')]}),\n",
       " ('Identify the screenwriter of What We Wanted',\n",
       "  {'entities': [(13, 25, 'role'), (29, 43, 'movie')]}),\n",
       " ('Tell me the producer behind Wanted: Dead or Alive',\n",
       "  {'entities': [(12, 20, 'role'), (28, 49, 'movie'), (12, 19, 'action')]}),\n",
       " ('Tell me the developer for Linger',\n",
       "  {'entities': [(12, 21, 'role'), (26, 32, 'movie')]}),\n",
       " ('Tell me the film editor of Eastern Condors',\n",
       "  {'entities': [(12, 23, 'role'), (27, 42, 'movie'), (17, 21, 'action')]}),\n",
       " (\"What is the director of photography's name for the movie Amerika?\",\n",
       "  {'entities': [(12, 35, 'role'), (57, 64, 'movie'), (12, 18, 'action')]}),\n",
       " ('Who film crew member in Bukowski: Born into This?',\n",
       "  {'entities': [(4, 20, 'role'), (24, 48, 'movie')]}),\n",
       " ('Who directed Fatal Move?',\n",
       "  {'entities': [(13, 23, 'movie'), (4, 12, 'action'), (4, 10, 'action')]}),\n",
       " ('Who wrote the movie On the Mountain of Tai Hang?',\n",
       "  {'entities': [(20, 47, 'movie'), (4, 9, 'action')]}),\n",
       " ('Who is the author of Forever Enthralled?',\n",
       "  {'entities': [(11, 17, 'role'), (21, 39, 'movie')]}),\n",
       " ('Who is the presenter of the film Kill the Irishman?',\n",
       "  {'entities': [(11, 20, 'role'), (33, 50, 'movie')]}),\n",
       " ('Who oversaw the making of Bullseye!', {'entities': [(26, 35, 'movie')]}),\n",
       " ('Who was in charge of directing Bully?',\n",
       "  {'entities': [(31, 36, 'movie'), (21, 27, 'action')]}),\n",
       " ('Who was the creator of Dry Wind',\n",
       "  {'entities': [(12, 19, 'role'), (23, 31, 'movie')]}),\n",
       " ('Give me the participant of The Big Hit',\n",
       "  {'entities': [(12, 23, 'role'), (27, 38, 'movie')]}),\n",
       " ('Give me the name of the member of the crew of of Angels Fallen',\n",
       "  {'entities': [(24, 45, 'role'), (49, 62, 'movie')]}),\n",
       " (\"I'd like to know the voice actor's name for Gagarine\",\n",
       "  {'entities': [(21, 32, 'role'), (44, 52, 'movie')]}),\n",
       " (\"I'm curious about the person who directed Golimaar\",\n",
       "  {'entities': [(42, 50, 'movie'), (33, 41, 'action'), (33, 39, 'action')]}),\n",
       " ('Identify the musical conductor of Adhurs',\n",
       "  {'entities': [(13, 30, 'role'), (34, 40, 'movie')]}),\n",
       " ('Tell me the operator behind Rose Island',\n",
       "  {'entities': [(12, 20, 'role'), (28, 39, 'movie')]}),\n",
       " ('Tell me the performer for Simha',\n",
       "  {'entities': [(12, 21, 'role'), (26, 31, 'movie')]}),\n",
       " ('Tell me the actor of Rakta Charitra',\n",
       "  {'entities': [(12, 17, 'role'), (21, 35, 'movie')]}),\n",
       " (\"What is the cast's name for the movie Khaleja?\",\n",
       "  {'entities': [(12, 16, 'role'), (38, 45, 'movie')]}),\n",
       " ('Who cast member in Gorillas in the Mist?',\n",
       "  {'entities': [(4, 15, 'role'), (19, 39, 'movie')]}),\n",
       " ('Who wrote Operation Christmas Drop?',\n",
       "  {'entities': [(10, 34, 'movie'), (4, 9, 'action')]}),\n",
       " ('Who directed the movie Jasmine Women?',\n",
       "  {'entities': [(23, 36, 'movie'), (4, 12, 'action'), (4, 10, 'action')]}),\n",
       " ('Who is the producer of Blind Mountain?',\n",
       "  {'entities': [(11, 19, 'role'), (23, 37, 'movie'), (11, 18, 'action')]}),\n",
       " ('Who is the developer of the film Turn Left, Turn Right?',\n",
       "  {'entities': [(11, 20, 'role'), (33, 54, 'movie')]}),\n",
       " ('Who oversaw the making of Burke & Hare', {'entities': [(26, 38, 'movie')]}),\n",
       " ('Who was in charge of directing Burma VJ?',\n",
       "  {'entities': [(31, 39, 'movie'), (21, 27, 'action')]}),\n",
       " ('Who was the film crew member of Burning Bright',\n",
       "  {'entities': [(12, 28, 'role'), (32, 46, 'movie')]}),\n",
       " ('Give me the choreographer of Butter',\n",
       "  {'entities': [(12, 25, 'role'), (29, 35, 'movie')]}),\n",
       " ('Give me the name of the art director of Population Boom',\n",
       "  {'entities': [(24, 36, 'role'), (40, 55, 'movie'), (28, 34, 'action')]}),\n",
       " (\"I'd like to know the author's name for Bye Bye Love\",\n",
       "  {'entities': [(21, 27, 'role'), (39, 51, 'movie')]}),\n",
       " (\"I'm curious about the person who wrote Bye Bye Blackbird\",\n",
       "  {'entities': [(39, 56, 'movie'), (33, 38, 'action')]}),\n",
       " ('Identify the narrator of Bye Bye Birdie',\n",
       "  {'entities': [(13, 21, 'role'), (25, 39, 'movie')]}),\n",
       " ('Tell me the animator behind Bye Bye Bluebird',\n",
       "  {'entities': [(12, 20, 'role'), (28, 44, 'movie')]}),\n",
       " ('Tell me the creator for The Chinese Feast',\n",
       "  {'entities': [(12, 19, 'role'), (24, 41, 'movie')]}),\n",
       " ('Tell me the participant of Stage Door',\n",
       "  {'entities': [(12, 23, 'role'), (27, 37, 'movie')]}),\n",
       " (\"What is the member of the crew of's name for the movie The Truth About Jane and Sam?\",\n",
       "  {'entities': [(12, 33, 'role'), (55, 83, 'movie')]}),\n",
       " ('Who voice actor in The Longest Nite?',\n",
       "  {'entities': [(4, 15, 'role'), (19, 35, 'movie')]}),\n",
       " ('Who directed Naked Killer?',\n",
       "  {'entities': [(13, 25, 'movie'), (4, 12, 'action'), (4, 10, 'action')]}),\n",
       " ('Who wrote the movie C.I.D.?',\n",
       "  {'entities': [(20, 26, 'movie'), (4, 9, 'action')]}),\n",
       " ('Who is the operator of C.R.A.Z.Y.?',\n",
       "  {'entities': [(11, 19, 'role'), (23, 33, 'movie')]}),\n",
       " ('Who is the performer of the film The Super?',\n",
       "  {'entities': [(11, 20, 'role'), (33, 42, 'movie')]}),\n",
       " ('Who oversaw the making of Notes for My Son',\n",
       "  {'entities': [(26, 42, 'movie')]}),\n",
       " ('Who was in charge of directing CSNY/Déjà Vu?',\n",
       "  {'entities': [(31, 43, 'movie'), (21, 27, 'action')]}),\n",
       " ('Who was the cast member of Cash',\n",
       "  {'entities': [(12, 23, 'role'), (27, 31, 'movie')]}),\n",
       " ('Give me the director of Cash',\n",
       "  {'entities': [(12, 20, 'role'), (24, 28, 'movie'), (12, 18, 'action')]}),\n",
       " ('Give me the name of the screenwriter of Nightbreed',\n",
       "  {'entities': [(24, 36, 'role'), (40, 50, 'movie')]}),\n",
       " (\"I'd like to know the producer's name for Kaos\",\n",
       "  {'entities': [(21, 29, 'role'), (41, 45, 'movie'), (21, 28, 'action')]}),\n",
       " (\"I'm curious about the person who directed Cadillac Man\",\n",
       "  {'entities': [(42, 54, 'movie'), (33, 41, 'action'), (33, 39, 'action')]}),\n",
       " ('Identify the film editor of Caged',\n",
       "  {'entities': [(13, 24, 'role'), (28, 33, 'movie'), (18, 22, 'action')]}),\n",
       " ('Tell me the director of photography behind Cairo Time',\n",
       "  {'entities': [(12, 35, 'role'), (43, 53, 'movie'), (12, 18, 'action')]}),\n",
       " ('Tell me the film crew member for Daisy Diamond',\n",
       "  {'entities': [(12, 28, 'role'), (33, 46, 'movie')]}),\n",
       " ('Tell me the choreographer of The Baytown Outlaws',\n",
       "  {'entities': [(12, 25, 'role'), (29, 48, 'movie')]}),\n",
       " (\"What is the art director's name for the movie The Man from the Alamo?\",\n",
       "  {'entities': [(12, 24, 'role'), (46, 68, 'movie'), (16, 22, 'action')]}),\n",
       " ('Who author in Fade to Black?',\n",
       "  {'entities': [(4, 10, 'role'), (14, 27, 'movie')]}),\n",
       " ('Who wrote I Hate Luv Storys?',\n",
       "  {'entities': [(10, 27, 'movie'), (4, 9, 'action')]}),\n",
       " ('Who directed the movie Elena?',\n",
       "  {'entities': [(23, 28, 'movie'), (4, 12, 'action'), (4, 10, 'action')]}),\n",
       " ('Who is the animator of The Wedding Date?',\n",
       "  {'entities': [(11, 19, 'role'), (23, 39, 'movie')]}),\n",
       " ('Who is the creator of the film Revolution?',\n",
       "  {'entities': [(11, 18, 'role'), (31, 41, 'movie')]}),\n",
       " ('Who oversaw the making of Heart Condition',\n",
       "  {'entities': [(26, 41, 'movie')]}),\n",
       " ('Who was in charge of directing White Sands?',\n",
       "  {'entities': [(31, 42, 'movie'), (21, 27, 'action')]}),\n",
       " ('Who was the voice actor of K-9',\n",
       "  {'entities': [(12, 23, 'role'), (27, 30, 'movie')]}),\n",
       " ('Give me the publisher of The Cave',\n",
       "  {'entities': [(12, 21, 'role'), (25, 33, 'movie')]}),\n",
       " ('Give me the name of the musical conductor of Women in Temptation',\n",
       "  {'entities': [(24, 41, 'role'), (45, 64, 'movie')]}),\n",
       " (\"I'd like to know the operator's name for Jonas Brothers: The 3D Concert Experience\",\n",
       "  {'entities': [(21, 29, 'role'), (41, 82, 'movie')]}),\n",
       " (\"I'm curious about the person who wrote Justice, My Foot!\",\n",
       "  {'entities': [(39, 56, 'movie'), (33, 38, 'action')]}),\n",
       " ('Identify the actor of George Michael: A Different Story',\n",
       "  {'entities': [(13, 18, 'role'), (22, 55, 'movie')]}),\n",
       " ('Tell me the cast behind Bernie',\n",
       "  {'entities': [(12, 16, 'role'), (24, 30, 'movie')]}),\n",
       " ('Tell me the cast member for Along the Navajo Trail',\n",
       "  {'entities': [(12, 23, 'role'), (28, 50, 'movie')]}),\n",
       " ('Tell me the director of Amusement',\n",
       "  {'entities': [(12, 20, 'role'), (24, 33, 'movie'), (12, 18, 'action')]}),\n",
       " (\"What is the screenwriter's name for the movie The Public Eye?\",\n",
       "  {'entities': [(12, 24, 'role'), (46, 60, 'movie')]}),\n",
       " (\"Who producer in Susan's Plan?\",\n",
       "  {'entities': [(4, 12, 'role'), (16, 28, 'movie'), (4, 11, 'action')]}),\n",
       " ('Who directed Camouflage?',\n",
       "  {'entities': [(13, 23, 'movie'), (4, 12, 'action'), (4, 10, 'action')]}),\n",
       " ('Who wrote the movie Camp 14: Total Control Zone?',\n",
       "  {'entities': [(20, 47, 'movie'), (4, 9, 'action')]}),\n",
       " ('Who is the director of photography of Armadillo?',\n",
       "  {'entities': [(11, 34, 'role'), (38, 47, 'movie'), (11, 17, 'action')]}),\n",
       " ('Who is the film crew member of the film Inherit the Wind?',\n",
       "  {'entities': [(11, 27, 'role'), (40, 56, 'movie')]}),\n",
       " ('Who oversaw the making of Tatie Danielle',\n",
       "  {'entities': [(26, 40, 'movie')]}),\n",
       " ('Who was in charge of directing Jaime?',\n",
       "  {'entities': [(31, 36, 'movie'), (21, 27, 'action')]}),\n",
       " ('Who was the author of Ricochet',\n",
       "  {'entities': [(12, 18, 'role'), (22, 30, 'movie')]}),\n",
       " ('Give me the presenter of Loverboy',\n",
       "  {'entities': [(12, 21, 'role'), (25, 33, 'movie')]}),\n",
       " ('Give me the name of the narrator of Empire of the Wolves',\n",
       "  {'entities': [(24, 32, 'role'), (36, 56, 'movie')]}),\n",
       " (\"I'd like to know the animator's name for Killer Tongue\",\n",
       "  {'entities': [(21, 29, 'role'), (41, 54, 'movie')]}),\n",
       " (\"I'm curious about the person who directed The Dognapper\",\n",
       "  {'entities': [(42, 55, 'movie'), (33, 41, 'action'), (33, 39, 'action')]}),\n",
       " ('Identify the participant of Canaris',\n",
       "  {'entities': [(13, 24, 'role'), (28, 35, 'movie')]}),\n",
       " ('Tell me the member of the crew of behind Meet Wally Sparks',\n",
       "  {'entities': [(12, 33, 'role'), (41, 58, 'movie')]}),\n",
       " ('Tell me the voice actor for Meu Passado Me Condena',\n",
       "  {'entities': [(12, 23, 'role'), (28, 50, 'movie')]}),\n",
       " ('Tell me the publisher of Minha Mãe é uma Peça',\n",
       "  {'entities': [(12, 21, 'role'), (25, 45, 'movie')]}),\n",
       " (\"What is the musical conductor's name for the movie Declaration of War?\",\n",
       "  {'entities': [(12, 29, 'role'), (51, 69, 'movie')]}),\n",
       " ('Who operator in Hum Tum?',\n",
       "  {'entities': [(4, 12, 'role'), (16, 23, 'movie')]}),\n",
       " ('Who wrote Welcome to the Jungle?',\n",
       "  {'entities': [(10, 31, 'movie'), (4, 9, 'action')]}),\n",
       " ('Who directed the movie Sleeping Beauty?',\n",
       "  {'entities': [(23, 38, 'movie'), (4, 12, 'action'), (4, 10, 'action')]}),\n",
       " ('Who is the cast of Necrosis?',\n",
       "  {'entities': [(11, 15, 'role'), (19, 27, 'movie')]}),\n",
       " ('Who is the cast member of the film Second Name?',\n",
       "  {'entities': [(11, 22, 'role'), (35, 46, 'movie')]}),\n",
       " ('Who oversaw the making of The Middle of the World',\n",
       "  {'entities': [(26, 49, 'movie')]}),\n",
       " ('Who was in charge of directing Suely in the Sky?',\n",
       "  {'entities': [(31, 47, 'movie'), (21, 27, 'action')]}),\n",
       " ('Who was the producer of The Man Who Copied',\n",
       "  {'entities': [(12, 20, 'role'), (24, 42, 'movie'), (12, 19, 'action')]}),\n",
       " ('Give me the developer of Time and the Wind',\n",
       "  {'entities': [(12, 21, 'role'), (25, 42, 'movie')]}),\n",
       " (\"Give me the name of the film editor of Can't Buy Me Love\",\n",
       "  {'entities': [(24, 35, 'role'), (39, 56, 'movie'), (29, 33, 'action')]}),\n",
       " (\"I'd like to know the director of photography's name for Blue Eyes\",\n",
       "  {'entities': [(21, 44, 'role'), (56, 65, 'movie'), (21, 27, 'action')]}),\n",
       " (\"I'm curious about the person who wrote Artificial Paradises\",\n",
       "  {'entities': [(39, 59, 'movie'), (33, 38, 'action')]}),\n",
       " ('Identify the choreographer of Captain Newman, M.D.',\n",
       "  {'entities': [(13, 26, 'role'), (30, 50, 'movie')]}),\n",
       " ('Tell me the art director behind Captain Ron',\n",
       "  {'entities': [(12, 24, 'role'), (32, 43, 'movie'), (16, 22, 'action')]}),\n",
       " ('Tell me the author for Captive',\n",
       "  {'entities': [(12, 18, 'role'), (23, 30, 'movie')]}),\n",
       " ('Tell me the presenter of Captivity',\n",
       "  {'entities': [(12, 21, 'role'), (25, 34, 'movie')]}),\n",
       " (\"What is the narrator's name for the movie Wrestling Ernest Hemingway?\",\n",
       "  {'entities': [(12, 20, 'role'), (42, 68, 'movie')]}),\n",
       " ('Who animator in Caravaggio?',\n",
       "  {'entities': [(4, 12, 'role'), (16, 26, 'movie')]}),\n",
       " ('Who directed Forbidden to Forbid?',\n",
       "  {'entities': [(13, 32, 'movie'), (4, 12, 'action'), (4, 10, 'action')]}),\n",
       " ('Who wrote the movie Under the Same Moon?',\n",
       "  {'entities': [(20, 39, 'movie'), (4, 9, 'action')]}),\n",
       " ('Who is the member of the crew of of Swallowtail?',\n",
       "  {'entities': [(11, 32, 'role'), (36, 47, 'movie')]}),\n",
       " ('Who is the voice actor of the film Somewhere Slow?',\n",
       "  {'entities': [(11, 22, 'role'), (35, 49, 'movie')]}),\n",
       " ('Who oversaw the making of Somos tão Jovens',\n",
       "  {'entities': [(26, 42, 'movie')]}),\n",
       " ('Who was in charge of directing How to Succeed in Business Without Really Trying?',\n",
       "  {'entities': [(31, 79, 'movie'), (21, 27, 'action')]}),\n",
       " ('Who was the operator of Totalmente Inocentes',\n",
       "  {'entities': [(12, 20, 'role'), (24, 44, 'movie')]}),\n",
       " ('Give me the performer of Transcendence',\n",
       "  {'entities': [(12, 21, 'role'), (25, 38, 'movie')]}),\n",
       " ('Give me the name of the actor of Air Doll',\n",
       "  {'entities': [(24, 29, 'role'), (33, 41, 'movie')]}),\n",
       " (\"I'd like to know the cast's name for VIPs\",\n",
       "  {'entities': [(21, 25, 'role'), (37, 41, 'movie')]}),\n",
       " (\"I'm curious about the person who directed Vai que Dá Certo\",\n",
       "  {'entities': [(42, 58, 'movie'), (33, 41, 'action'), (33, 39, 'action')]}),\n",
       " ('Identify the director of Christmas Crossfire',\n",
       "  {'entities': [(13, 21, 'role'), (25, 44, 'movie'), (13, 19, 'action')]}),\n",
       " ('Tell me the screenwriter behind Martial Arts of Shaolin',\n",
       "  {'entities': [(12, 24, 'role'), (32, 55, 'movie')]}),\n",
       " ('Tell me the producer for Kovář z Podlesí',\n",
       "  {'entities': [(12, 20, 'role'), (25, 40, 'movie'), (12, 19, 'action')]}),\n",
       " ('Tell me the developer of Freak City',\n",
       "  {'entities': [(12, 21, 'role'), (25, 35, 'movie')]}),\n",
       " (\"What is the film editor's name for the movie Three Comrades?\",\n",
       "  {'entities': [(12, 23, 'role'), (45, 59, 'movie'), (17, 21, 'action')]}),\n",
       " ('Who director of photography in Belzebuth?',\n",
       "  {'entities': [(4, 27, 'role'), (31, 40, 'movie'), (4, 10, 'action')]}),\n",
       " ('Who wrote Day of the Comet?',\n",
       "  {'entities': [(10, 26, 'movie'), (4, 9, 'action')]}),\n",
       " (\"Who directed the movie Carla's Song?\",\n",
       "  {'entities': [(23, 35, 'movie'), (4, 12, 'action'), (4, 10, 'action')]}),\n",
       " ('Who is the art director of All or Nothing?',\n",
       "  {'entities': [(11, 23, 'role'), (27, 41, 'movie'), (15, 21, 'action')]}),\n",
       " ('Who is the author of the film An Invisible Sign?',\n",
       "  {'entities': [(11, 17, 'role'), (30, 47, 'movie')]}),\n",
       " ('Who oversaw the making of Suddenly', {'entities': [(26, 34, 'movie')]}),\n",
       " ('Who was in charge of directing Better Off Dead?',\n",
       "  {'entities': [(31, 46, 'movie'), (21, 27, 'action')]}),\n",
       " ('Who was the animator of Perhaps Love',\n",
       "  {'entities': [(12, 20, 'role'), (24, 36, 'movie')]}),\n",
       " ('Give me the creator of The Message',\n",
       "  {'entities': [(12, 19, 'role'), (23, 34, 'movie')]}),\n",
       " ('Give me the name of the participant of Avalon',\n",
       "  {'entities': [(24, 35, 'role'), (39, 45, 'movie')]}),\n",
       " (\"I'd like to know the member of the crew of's name for Babylon Disease\",\n",
       "  {'entities': [(21, 42, 'role'), (54, 69, 'movie')]}),\n",
       " (\"I'm curious about the person who wrote Nada Sōsō\",\n",
       "  {'entities': [(39, 48, 'movie'), (33, 38, 'action')]}),\n",
       " ('Identify the publisher of The Man Who Would Be King',\n",
       "  {'entities': [(13, 22, 'role'), (26, 51, 'movie')]}),\n",
       " ('Tell me the musical conductor behind Taare Zameen Par',\n",
       "  {'entities': [(12, 29, 'role'), (37, 53, 'movie')]}),\n",
       " ('Tell me the operator for The Bench',\n",
       "  {'entities': [(12, 20, 'role'), (25, 34, 'movie')]}),\n",
       " ('Tell me the performer of Lightyear',\n",
       "  {'entities': [(12, 21, 'role'), (25, 34, 'movie')]}),\n",
       " (\"What is the actor's name for the movie Departures?\",\n",
       "  {'entities': [(12, 17, 'role'), (39, 49, 'movie')]}),\n",
       " ('Who cast in The Second Awakening of Christa Klages?',\n",
       "  {'entities': [(4, 8, 'role'), (12, 50, 'movie')]}),\n",
       " ('Who directed Alexander?',\n",
       "  {'entities': [(13, 22, 'movie'), (4, 12, 'action'), (4, 10, 'action')]}),\n",
       " ('Who wrote the movie New York Doll?',\n",
       "  {'entities': [(20, 33, 'movie'), (4, 9, 'action')]}),\n",
       " ('Who is the screenwriter of Casa de los Babys?',\n",
       "  {'entities': [(11, 23, 'role'), (27, 44, 'movie')]}),\n",
       " ('Who is the producer of the film Coda?',\n",
       "  {'entities': [(11, 19, 'role'), (32, 36, 'movie'), (11, 18, 'action')]}),\n",
       " ('Who oversaw the making of Devil in the Flesh 2',\n",
       "  {'entities': [(26, 46, 'movie')]}),\n",
       " ('Who was in charge of directing Stakeout?',\n",
       "  {'entities': [(31, 39, 'movie'), (21, 27, 'action')]}),\n",
       " ('Who was the director of photography of Black Rain',\n",
       "  {'entities': [(12, 35, 'role'), (39, 49, 'movie'), (12, 18, 'action')]}),\n",
       " ('Give me the film crew member of Cass',\n",
       "  {'entities': [(12, 28, 'role'), (32, 36, 'movie')]}),\n",
       " ('Give me the name of the choreographer of Casshern',\n",
       "  {'entities': [(24, 37, 'role'), (41, 49, 'movie')]}),\n",
       " (\"I'd like to know the art director's name for A Man Comes Home\",\n",
       "  {'entities': [(21, 33, 'role'), (45, 61, 'movie'), (25, 31, 'action')]}),\n",
       " (\"I'm curious about the person who directed The Visitor\",\n",
       "  {'entities': [(42, 53, 'movie'), (33, 41, 'action'), (33, 39, 'action')]}),\n",
       " ('Identify the presenter of Knuckledust',\n",
       "  {'entities': [(13, 22, 'role'), (26, 37, 'movie')]}),\n",
       " ('Tell me the narrator behind Secret Magic Control Agency',\n",
       "  {'entities': [(12, 20, 'role'), (28, 55, 'movie')]}),\n",
       " ('Tell me the animator for Spy Game',\n",
       "  {'entities': [(12, 20, 'role'), (25, 33, 'movie')]}),\n",
       " ('Tell me the creator of Castle Freak',\n",
       "  {'entities': [(12, 19, 'role'), (23, 35, 'movie')]}),\n",
       " (\"What is the participant's name for the movie This Means War?\",\n",
       "  {'entities': [(12, 23, 'role'), (45, 59, 'movie')]}),\n",
       " ('Who member of the crew of in Undercover Kitty?',\n",
       "  {'entities': [(4, 25, 'role'), (29, 45, 'movie')]}),\n",
       " ('Who wrote The Last Metro?',\n",
       "  {'entities': [(10, 24, 'movie'), (4, 9, 'action')]}),\n",
       " ('Who directed the movie Freud Leaving Home?',\n",
       "  {'entities': [(23, 41, 'movie'), (4, 12, 'action'), (4, 10, 'action')]}),\n",
       " ('Who is the musical conductor of Showdown in Little Tokyo?',\n",
       "  {'entities': [(11, 28, 'role'), (32, 56, 'movie')]}),\n",
       " ('Who is the operator of the film Divine Secrets of the Ya-Ya Sisterhood?',\n",
       "  {'entities': [(11, 19, 'role'), (32, 70, 'movie')]}),\n",
       " ('Who oversaw the making of Cat Run', {'entities': [(26, 33, 'movie')]}),\n",
       " ('Who was in charge of directing Immortals?',\n",
       "  {'entities': [(31, 40, 'movie'), (21, 27, 'action')]}),\n",
       " ('Who was the cast of Catchfire',\n",
       "  {'entities': [(12, 16, 'role'), (20, 29, 'movie')]}),\n",
       " ('Give me the cast member of Catch a Fire',\n",
       "  {'entities': [(12, 23, 'role'), (27, 39, 'movie')]}),\n",
       " ('Give me the name of the director of Happythankyoumoreplease',\n",
       "  {'entities': [(24, 32, 'role'), (36, 59, 'movie'), (24, 30, 'action')]}),\n",
       " (\"I'd like to know the screenwriter's name for Caterpillar\",\n",
       "  {'entities': [(21, 33, 'role'), (45, 56, 'movie')]}),\n",
       " (\"I'm curious about the person who wrote Existenz\",\n",
       "  {'entities': [(39, 47, 'movie'), (33, 38, 'action')]}),\n",
       " ('Identify the developer of Cutthroat Island',\n",
       "  {'entities': [(13, 22, 'role'), (26, 42, 'movie')]}),\n",
       " ('Tell me the film editor behind Caught',\n",
       "  {'entities': [(12, 23, 'role'), (31, 37, 'movie'), (17, 21, 'action')]}),\n",
       " ('Tell me the director of photography for Caveman',\n",
       "  {'entities': [(12, 35, 'role'), (40, 47, 'movie'), (12, 18, 'action')]}),\n",
       " (\"Tell me the film crew member of New Year's Eve\",\n",
       "  {'entities': [(12, 28, 'role'), (32, 46, 'movie')]}),\n",
       " (\"What is the choreographer's name for the movie Bianca?\",\n",
       "  {'entities': [(12, 25, 'role'), (47, 53, 'movie')]}),\n",
       " ('Who art director in The Keys to the House?',\n",
       "  {'entities': [(4, 16, 'role'), (20, 41, 'movie'), (8, 14, 'action')]}),\n",
       " ('Who directed I Wish?',\n",
       "  {'entities': [(13, 19, 'movie'), (4, 12, 'action'), (4, 10, 'action')]}),\n",
       " ('Who wrote the movie IMurders?',\n",
       "  {'entities': [(20, 28, 'movie'), (4, 9, 'action')]}),\n",
       " ('Who is the narrator of In Your Veins?',\n",
       "  {'entities': [(11, 19, 'role'), (23, 36, 'movie')]}),\n",
       " ('Who is the animator of the film Villain?',\n",
       "  {'entities': [(11, 19, 'role'), (32, 39, 'movie')]}),\n",
       " ('Who oversaw the making of Jackass 2.5', {'entities': [(26, 37, 'movie')]}),\n",
       " ('Who was in charge of directing I Miss You?',\n",
       "  {'entities': [(31, 41, 'movie'), (21, 27, 'action')]}),\n",
       " ('Who was the member of the crew of of Central Station',\n",
       "  {'entities': [(12, 33, 'role'), (37, 52, 'movie')]}),\n",
       " ('Give me the voice actor of The Great Magician',\n",
       "  {'entities': [(12, 23, 'role'), (27, 45, 'movie')]}),\n",
       " ('Give me the name of the publisher of Pinocchio',\n",
       "  {'entities': [(24, 33, 'role'), (37, 46, 'movie')]}),\n",
       " (\"I'd like to know the musical conductor's name for The Conquest\",\n",
       "  {'entities': [(21, 38, 'role'), (50, 62, 'movie')]}),\n",
       " (\"I'm curious about the person who directed I Just Didn't Do It\",\n",
       "  {'entities': [(42, 61, 'movie'), (33, 41, 'action'), (33, 39, 'action')]}),\n",
       " ('Identify the performer of Shed No Tears',\n",
       "  {'entities': [(13, 22, 'role'), (26, 39, 'movie')]}),\n",
       " ('Tell me the actor behind A Ghost of a Chance',\n",
       "  {'entities': [(12, 17, 'role'), (25, 44, 'movie')]}),\n",
       " ('Tell me the cast for Kamisama no Karute',\n",
       "  {'entities': [(12, 16, 'role'), (21, 39, 'movie')]}),\n",
       " ('Tell me the cast member of The Perfect Game',\n",
       "  {'entities': [(12, 23, 'role'), (27, 43, 'movie')]}),\n",
       " (\"What is the director's name for the movie Carmen?\",\n",
       "  {'entities': [(12, 20, 'role'), (42, 48, 'movie'), (12, 18, 'action')]}),\n",
       " ('Who screenwriter in Kansas City Confidential?',\n",
       "  {'entities': [(4, 16, 'role'), (20, 44, 'movie')]}),\n",
       " ('Who wrote The Conviction?',\n",
       "  {'entities': [(10, 24, 'movie'), (4, 9, 'action')]}),\n",
       " ('Who directed the movie Anxiety?',\n",
       "  {'entities': [(23, 30, 'movie'), (4, 12, 'action'), (4, 10, 'action')]}),\n",
       " ('Who is the film editor of A Lady Without Passport?',\n",
       "  {'entities': [(11, 22, 'role'), (26, 49, 'movie'), (16, 20, 'action')]}),\n",
       " ('Who is the director of photography of the film Fire with Fire?',\n",
       "  {'entities': [(11, 34, 'role'), (47, 61, 'movie'), (11, 17, 'action')]}),\n",
       " (\"Who oversaw the making of Just Another Pandora's Box\",\n",
       "  {'entities': [(26, 52, 'movie')]}),\n",
       " ('Who was in charge of directing The Glass Menagerie?',\n",
       "  {'entities': [(31, 50, 'movie'), (21, 27, 'action')]}),\n",
       " ('Who was the art director of The Ear',\n",
       "  {'entities': [(12, 24, 'role'), (28, 35, 'movie'), (16, 22, 'action')]}),\n",
       " ('Give me the author of The Big Bang',\n",
       "  {'entities': [(12, 18, 'role'), (22, 34, 'movie')]}),\n",
       " ('Give me the name of the presenter of Persona non grata',\n",
       "  {'entities': [(24, 33, 'role'), (37, 54, 'movie')]}),\n",
       " (\"I'd like to know the narrator's name for Hara-Kiri: Death of a Samurai\",\n",
       "  {'entities': [(21, 29, 'role'), (41, 70, 'movie')]}),\n",
       " (\"I'm curious about the person who wrote Gente di Roma\",\n",
       "  {'entities': [(39, 52, 'movie'), (33, 38, 'action')]}),\n",
       " ('Identify the creator of Vanilla and Chocolate',\n",
       "  {'entities': [(13, 20, 'role'), (24, 45, 'movie')]}),\n",
       " ('Tell me the participant behind Chaahat',\n",
       "  {'entities': [(12, 23, 'role'), (31, 38, 'movie')]}),\n",
       " ('Tell me the member of the crew of for The Consequences of Love',\n",
       "  {'entities': [(12, 33, 'role'), (38, 62, 'movie')]}),\n",
       " ('Tell me the voice actor of The Bankers of God: The Calvi Affair',\n",
       "  {'entities': [(12, 23, 'role'), (27, 63, 'movie')]}),\n",
       " (\"What is the publisher's name for the movie Sadako 3D?\",\n",
       "  {'entities': [(12, 21, 'role'), (43, 52, 'movie')]}),\n",
       " (\"Who musical conductor in Lorenzo's Oil?\",\n",
       "  {'entities': [(4, 21, 'role'), (25, 38, 'movie')]}),\n",
       " ('Who directed Waltz for Monica?',\n",
       "  {'entities': [(13, 29, 'movie'), (4, 12, 'action'), (4, 10, 'action')]}),\n",
       " ('Who wrote the movie Jeepers Creepers: Reborn?',\n",
       "  {'entities': [(20, 44, 'movie'), (4, 9, 'action')]}),\n",
       " ('Who is the actor of Kueki Ressha?',\n",
       "  {'entities': [(11, 16, 'role'), (20, 32, 'movie')]}),\n",
       " (\"Who is the cast of the film Adam's Rib?\",\n",
       "  {'entities': [(11, 15, 'role'), (28, 38, 'movie')]}),\n",
       " ('Who oversaw the making of Janie Jones', {'entities': [(26, 37, 'movie')]}),\n",
       " ('Who was in charge of directing Chal Mere Bhai?',\n",
       "  {'entities': [(31, 45, 'movie'), (21, 27, 'action')]}),\n",
       " ('Who was the screenwriter of Beyond Outrage',\n",
       "  {'entities': [(12, 24, 'role'), (28, 42, 'movie')]}),\n",
       " ('Give me the producer of Keep the Lights On',\n",
       "  {'entities': [(12, 20, 'role'), (24, 42, 'movie'), (12, 19, 'action')]}),\n",
       " ('Give me the name of the developer of Volcano',\n",
       "  {'entities': [(24, 33, 'role'), (37, 44, 'movie')]}),\n",
       " (\"I'd like to know the film editor's name for Like Someone in Love\",\n",
       "  {'entities': [(21, 32, 'role'), (44, 64, 'movie'), (26, 30, 'action')]}),\n",
       " (\"I'm curious about the person who directed Needle\",\n",
       "  {'entities': [(42, 48, 'movie'), (33, 41, 'action'), (33, 39, 'action')]}),\n",
       " ('Identify the film crew member of Eddie and the Cruisers',\n",
       "  {'entities': [(13, 29, 'role'), (33, 55, 'movie')]}),\n",
       " ('Tell me the choreographer behind Saimir',\n",
       "  {'entities': [(12, 25, 'role'), (33, 39, 'movie')]}),\n",
       " ('Tell me the art director for Blue Spring',\n",
       "  {'entities': [(12, 24, 'role'), (29, 40, 'movie'), (16, 22, 'action')]}),\n",
       " ('Tell me the author of Chalte Chalte',\n",
       "  {'entities': [(12, 18, 'role'), (22, 35, 'movie')]}),\n",
       " (\"What is the presenter's name for the movie The Good Doctor?\",\n",
       "  {'entities': [(12, 21, 'role'), (43, 58, 'movie')]}),\n",
       " ('Who narrator in ATM?', {'entities': [(4, 12, 'role'), (16, 19, 'movie')]}),\n",
       " ('Who wrote Chamatkar?', {'entities': [(10, 19, 'movie'), (4, 9, 'action')]}),\n",
       " ('Who directed the movie Chameli?',\n",
       "  {'entities': [(23, 30, 'movie'), (4, 12, 'action'), (4, 10, 'action')]}),\n",
       " ('Who is the participant of Original?',\n",
       "  {'entities': [(11, 22, 'role'), (26, 34, 'movie')]}),\n",
       " ('Who is the member of the crew of of the film A Prophet?',\n",
       "  {'entities': [(11, 32, 'role'), (45, 54, 'movie')]}),\n",
       " ('Who oversaw the making of Seaspiracy', {'entities': [(26, 36, 'movie')]}),\n",
       " ('Who was in charge of directing Chandani - The daughter of the elephant whisperer?',\n",
       "  {'entities': [(31, 80, 'movie'), (21, 27, 'action')]}),\n",
       " ('Who was the musical conductor of Chandni Chowk to China',\n",
       "  {'entities': [(12, 29, 'role'), (33, 55, 'movie')]}),\n",
       " ('Give me the operator of Change My Life',\n",
       "  {'entities': [(12, 20, 'role'), (24, 38, 'movie')]}),\n",
       " ('Give me the name of the performer of Changing Times',\n",
       "  {'entities': [(24, 33, 'role'), (37, 51, 'movie')]}),\n",
       " (\"I'd like to know the actor's name for To Hell and Back: The Kane Hodder Story\",\n",
       "  {'entities': [(21, 26, 'role'), (38, 77, 'movie')]}),\n",
       " (\"I'm curious about the person who wrote The Singer\",\n",
       "  {'entities': [(39, 49, 'movie'), (33, 38, 'action')]}),\n",
       " ('Identify the cast member of Love Songs',\n",
       "  {'entities': [(13, 24, 'role'), (28, 38, 'movie')]}),\n",
       " ('Tell me the director behind Chaos',\n",
       "  {'entities': [(12, 20, 'role'), (28, 33, 'movie'), (12, 18, 'action')]}),\n",
       " ('Tell me the screenwriter for The Defiant Ones',\n",
       "  {'entities': [(12, 24, 'role'), (29, 45, 'movie')]}),\n",
       " ('Tell me the producer of Profetia',\n",
       "  {'entities': [(12, 20, 'role'), (24, 32, 'movie'), (12, 19, 'action')]}),\n",
       " (\"What is the developer's name for the movie Jingle All the Way?\",\n",
       "  {'entities': [(12, 21, 'role'), (43, 61, 'movie')]}),\n",
       " ('Who film editor in Death Hunt?',\n",
       "  {'entities': [(4, 15, 'role'), (19, 29, 'movie'), (9, 13, 'action')]}),\n",
       " ('Who directed Underground?',\n",
       "  {'entities': [(13, 24, 'movie'), (4, 12, 'action'), (4, 10, 'action')]}),\n",
       " ('Who wrote the movie Nothing to Lose?',\n",
       "  {'entities': [(20, 35, 'movie'), (4, 9, 'action')]}),\n",
       " ('Who is the choreographer of Straight to Hell?',\n",
       "  {'entities': [(11, 24, 'role'), (28, 44, 'movie')]}),\n",
       " ('Who is the art director of the film The Hidden Blade?',\n",
       "  {'entities': [(11, 23, 'role'), (36, 52, 'movie'), (15, 21, 'action')]}),\n",
       " (\"Who oversaw the making of Sullivan's Travels\",\n",
       "  {'entities': [(26, 44, 'movie')]}),\n",
       " ('Who was in charge of directing Jackass 3D?',\n",
       "  {'entities': [(31, 41, 'movie'), (21, 27, 'action')]}),\n",
       " ('Who was the narrator of Linda Linda Linda',\n",
       "  {'entities': [(12, 20, 'role'), (24, 41, 'movie')]}),\n",
       " ('Give me the animator of His Girl Friday',\n",
       "  {'entities': [(12, 20, 'role'), (24, 39, 'movie')]}),\n",
       " ('Give me the name of the creator of Simon & Malou',\n",
       "  {'entities': [(24, 31, 'role'), (35, 48, 'movie')]}),\n",
       " (\"I'd like to know the participant's name for My Best Friend Is a Vampire\",\n",
       "  {'entities': [(21, 32, 'role'), (44, 71, 'movie')]}),\n",
       " (\"I'm curious about the person who directed Grizzly Man\",\n",
       "  {'entities': [(42, 53, 'movie'), (33, 41, 'action'), (33, 39, 'action')]}),\n",
       " ('Identify the voice actor of Charly',\n",
       "  {'entities': [(13, 24, 'role'), (28, 34, 'movie')]}),\n",
       " ('Tell me the publisher behind Visible Secret',\n",
       "  {'entities': [(12, 21, 'role'), (29, 43, 'movie')]}),\n",
       " ('Tell me the musical conductor for Casper and Emma on Safari',\n",
       "  {'entities': [(12, 29, 'role'), (34, 59, 'movie')]}),\n",
       " ('Tell me the operator of Chasers',\n",
       "  {'entities': [(12, 20, 'role'), (24, 31, 'movie')]}),\n",
       " (\"What is the performer's name for the movie Veer-Zaara?\",\n",
       "  {'entities': [(12, 21, 'role'), (43, 53, 'movie')]}),\n",
       " (\"Who actor in Hell's Angels?\",\n",
       "  {'entities': [(4, 9, 'role'), (13, 26, 'movie')]}),\n",
       " ('Who wrote Cloudboy?', {'entities': [(10, 18, 'movie'), (4, 9, 'action')]}),\n",
       " ('Who directed the movie Lies and Fat Girls?',\n",
       "  {'entities': [(23, 41, 'movie'), (4, 12, 'action'), (4, 10, 'action')]}),\n",
       " ('Who is the director of A Classic Horror Story?',\n",
       "  {'entities': [(11, 19, 'role'), (23, 45, 'movie'), (11, 17, 'action')]}),\n",
       " ('Who is the screenwriter of the film Pure?',\n",
       "  {'entities': [(11, 23, 'role'), (36, 40, 'movie')]}),\n",
       " ('Who oversaw the making of Break Through!',\n",
       "  {'entities': [(26, 40, 'movie')]}),\n",
       " ('Who was in charge of directing Cherry 2000?',\n",
       "  {'entities': [(31, 42, 'movie'), (21, 27, 'action')]}),\n",
       " (\"Who was the film editor of God Forgives... I Don't!\",\n",
       "  {'entities': [(12, 23, 'role'), (27, 51, 'movie'), (17, 21, 'action')]}),\n",
       " ('Give me the director of photography of Keane',\n",
       "  {'entities': [(12, 35, 'role'), (39, 44, 'movie'), (12, 18, 'action')]}),\n",
       " ('Give me the name of the film crew member of Love and Rage',\n",
       "  {'entities': [(24, 40, 'role'), (44, 57, 'movie')]}),\n",
       " (\"I'd like to know the choreographer's name for Cheyenne Autumn\",\n",
       "  {'entities': [(21, 34, 'role'), (46, 61, 'movie')]}),\n",
       " (\"I'm curious about the person who wrote Chicago Cab\",\n",
       "  {'entities': [(39, 50, 'movie'), (33, 38, 'action')]}),\n",
       " ('Identify the author of Escape from Mogadishu',\n",
       "  {'entities': [(13, 19, 'role'), (23, 44, 'movie')]}),\n",
       " ('Tell me the presenter behind Japón',\n",
       "  {'entities': [(12, 21, 'role'), (29, 34, 'movie')]}),\n",
       " ('Tell me the narrator for Zero Day',\n",
       "  {'entities': [(12, 20, 'role'), (25, 33, 'movie')]}),\n",
       " ('Tell me the animator of April Story',\n",
       "  {'entities': [(12, 20, 'role'), (24, 35, 'movie')]}),\n",
       " (\"What is the creator's name for the movie Hostage: Missing Celebrity?\",\n",
       "  {'entities': [(12, 19, 'role'), (41, 67, 'movie')]}),\n",
       " ('Who participant in North?',\n",
       "  {'entities': [(4, 15, 'role'), (19, 24, 'movie')]}),\n",
       " ('Who directed Tomme tønner?',\n",
       "  {'entities': [(13, 25, 'movie'), (4, 12, 'action'), (4, 10, 'action')]}),\n",
       " ('Who wrote the movie The Chef, the Actor, the Scoundrel?',\n",
       "  {'entities': [(20, 54, 'movie'), (4, 9, 'action')]}),\n",
       " ('Who is the publisher of Hong Kong Confidential?',\n",
       "  {'entities': [(11, 20, 'role'), (24, 46, 'movie')]}),\n",
       " ('Who is the musical conductor of the film Dear Friends?',\n",
       "  {'entities': [(11, 28, 'role'), (41, 53, 'movie')]}),\n",
       " ('Who oversaw the making of Strings', {'entities': [(26, 33, 'movie')]}),\n",
       " ('Who was in charge of directing Tenshi no Koi?',\n",
       "  {'entities': [(31, 44, 'movie'), (21, 27, 'action')]}),\n",
       " ('Who was the actor of Countdown to Zero',\n",
       "  {'entities': [(12, 17, 'role'), (21, 38, 'movie')]}),\n",
       " ('Give me the cast of The Founding of a Party',\n",
       "  {'entities': [(12, 16, 'role'), (20, 43, 'movie')]}),\n",
       " ('Give me the name of the cast member of Chisum',\n",
       "  {'entities': [(24, 35, 'role'), (39, 45, 'movie')]}),\n",
       " (\"I'd like to know the director's name for The Stool Pigeon\",\n",
       "  {'entities': [(21, 29, 'role'), (41, 57, 'movie'), (21, 27, 'action')]}),\n",
       " (\"I'm curious about the person who directed Choke\",\n",
       "  {'entities': [(42, 47, 'movie'), (33, 41, 'action'), (33, 39, 'action')]}),\n",
       " ('Identify the producer of Choking Hazard',\n",
       "  {'entities': [(13, 21, 'role'), (25, 39, 'movie'), (13, 20, 'action')]}),\n",
       " ('Tell me the developer behind Beast Stalker',\n",
       "  {'entities': [(12, 21, 'role'), (29, 42, 'movie')]}),\n",
       " ('Tell me the film editor for Ugetsu',\n",
       "  {'entities': [(12, 23, 'role'), (28, 34, 'movie'), (17, 21, 'action')]}),\n",
       " ('Tell me the director of photography of Swing Kids',\n",
       "  {'entities': [(12, 35, 'role'), (39, 49, 'movie'), (12, 18, 'action')]}),\n",
       " (\"What is the film crew member's name for the movie Gallipoli?\",\n",
       "  {'entities': [(12, 28, 'role'), (50, 59, 'movie')]}),\n",
       " ('Who choreographer in Antitrust?',\n",
       "  {'entities': [(4, 17, 'role'), (21, 30, 'movie')]}),\n",
       " ('Who wrote The Truce?', {'entities': [(10, 19, 'movie'), (4, 9, 'action')]}),\n",
       " ('Who directed the movie Street Angel?',\n",
       "  {'entities': [(23, 35, 'movie'), (4, 12, 'action'), (4, 10, 'action')]}),\n",
       " ('Who is the presenter of Undisputed II: Last Man Standing?',\n",
       "  {'entities': [(11, 20, 'role'), (24, 56, 'movie')]}),\n",
       " ('Who is the narrator of the film The Magician?',\n",
       "  {'entities': [(11, 19, 'role'), (32, 44, 'movie')]}),\n",
       " ('Who oversaw the making of Truck Turner', {'entities': [(26, 38, 'movie')]}),\n",
       " ('Who was in charge of directing Sky Fighters?',\n",
       "  {'entities': [(31, 43, 'movie'), (21, 27, 'action')]}),\n",
       " ('Who was the participant of Cohen and Tate',\n",
       "  {'entities': [(12, 23, 'role'), (27, 41, 'movie')]}),\n",
       " (\"Give me the member of the crew of of Christina's House\",\n",
       "  {'entities': [(12, 33, 'role'), (37, 54, 'movie')]}),\n",
       " ('Give me the name of the voice actor of Johnny Handsome',\n",
       "  {'entities': [(24, 35, 'role'), (39, 54, 'movie')]}),\n",
       " (\"I'd like to know the publisher's name for Men at Work\",\n",
       "  {'entities': [(21, 30, 'role'), (42, 53, 'movie')]}),\n",
       " (\"I'm curious about the person who wrote Witchery\",\n",
       "  {'entities': [(39, 47, 'movie'), (33, 38, 'action')]}),\n",
       " ('Identify the operator of Magic Kitchen',\n",
       "  {'entities': [(13, 21, 'role'), (25, 38, 'movie')]}),\n",
       " ('Tell me the performer behind The 5th Quarter',\n",
       "  {'entities': [(12, 21, 'role'), (29, 44, 'movie')]}),\n",
       " ('Tell me the actor for Díra u Hanušovic',\n",
       "  {'entities': [(12, 17, 'role'), (22, 38, 'movie')]}),\n",
       " ('Tell me the cast of I, Olga Hepnarová',\n",
       "  {'entities': [(12, 16, 'role'), (20, 37, 'movie')]}),\n",
       " (\"What is the cast member's name for the movie Big Eyes?\",\n",
       "  {'entities': [(12, 23, 'role'), (45, 53, 'movie')]}),\n",
       " ('Who director in Pee Mak?',\n",
       "  {'entities': [(4, 12, 'role'), (16, 23, 'movie'), (4, 10, 'action')]}),\n",
       " ('Who directed An Earthly Paradise For The Eyes?',\n",
       "  {'entities': [(13, 45, 'movie'), (4, 12, 'action'), (4, 10, 'action')]}),\n",
       " ('Who wrote the movie Ip Man: The Final Fight?',\n",
       "  {'entities': [(20, 43, 'movie'), (4, 9, 'action')]}),\n",
       " (\"Who is the developer of Let's Get Lost?\",\n",
       "  {'entities': [(11, 20, 'role'), (24, 38, 'movie')]}),\n",
       " ('Who is the film editor of the film Badges of Fury?',\n",
       "  {'entities': [(11, 22, 'role'), (35, 49, 'movie'), (16, 20, 'action')]}),\n",
       " ('Who oversaw the making of The Bait', {'entities': [(26, 34, 'movie')]}),\n",
       " (\"Who was in charge of directing Don't Go Breaking My Heart?\",\n",
       "  {'entities': [(31, 57, 'movie'), (21, 27, 'action')]}),\n",
       " ('Who was the choreographer of Akame 48 Waterfalls',\n",
       "  {'entities': [(12, 25, 'role'), (29, 48, 'movie')]}),\n",
       " ('Give me the art director of Christ Stopped at Eboli',\n",
       "  {'entities': [(12, 24, 'role'), (28, 51, 'movie'), (16, 22, 'action')]}),\n",
       " ('Give me the name of the author of Kagero-za',\n",
       "  {'entities': [(24, 30, 'role'), (34, 43, 'movie')]}),\n",
       " (\"I'd like to know the presenter's name for A True Mob Story\",\n",
       "  {'entities': [(21, 30, 'role'), (42, 58, 'movie')]}),\n",
       " (\"I'm curious about the person who directed Shanghai Grand\",\n",
       "  {'entities': [(42, 56, 'movie'), (33, 41, 'action'), (33, 39, 'action')]}),\n",
       " ('Identify the animator of Chromophobia',\n",
       "  {'entities': [(13, 21, 'role'), (25, 37, 'movie')]}),\n",
       " ('Tell me the creator behind Lee Rock',\n",
       "  {'entities': [(12, 19, 'role'), (27, 35, 'movie')]}),\n",
       " ('Tell me the participant for Chrysalis',\n",
       "  {'entities': [(12, 23, 'role'), (28, 37, 'movie')]}),\n",
       " ('Tell me the member of the crew of of The House of Smiles',\n",
       "  {'entities': [(12, 33, 'role'), (37, 56, 'movie')]}),\n",
       " (\"What is the voice actor's name for the movie Woman Sesame Oil Maker?\",\n",
       "  {'entities': [(12, 23, 'role'), (45, 67, 'movie')]}),\n",
       " ('Who publisher in Unknown Chaplin?',\n",
       "  {'entities': [(4, 13, 'role'), (17, 32, 'movie')]}),\n",
       " ('Who wrote Blood of the Innocent?',\n",
       "  {'entities': [(10, 31, 'movie'), (4, 9, 'action')]}),\n",
       " ('Who directed the movie Vlad?',\n",
       "  {'entities': [(23, 27, 'movie'), (4, 12, 'action'), (4, 10, 'action')]}),\n",
       " ('Who is the performer of Sophie?',\n",
       "  {'entities': [(11, 20, 'role'), (24, 30, 'movie')]}),\n",
       " ('Who is the actor of the film Escape?',\n",
       "  {'entities': [(11, 16, 'role'), (29, 35, 'movie')]}),\n",
       " ('Who oversaw the making of Concrete Blondes',\n",
       "  {'entities': [(26, 42, 'movie')]}),\n",
       " ('Who was in charge of directing A Few Good Men?',\n",
       "  {'entities': [(31, 45, 'movie'), (21, 27, 'action')]}),\n",
       " ('Who was the director of Born to Kill',\n",
       "  {'entities': [(12, 20, 'role'), (24, 36, 'movie'), (12, 18, 'action')]}),\n",
       " ('Give me the screenwriter of Min and Bill',\n",
       "  {'entities': [(12, 24, 'role'), (28, 40, 'movie')]}),\n",
       " ('Give me the name of the producer of Return to Horror High',\n",
       "  {'entities': [(24, 32, 'role'), (36, 57, 'movie'), (24, 31, 'action')]}),\n",
       " (\"I'd like to know the developer's name for Big Trouble\",\n",
       "  {'entities': [(21, 30, 'role'), (42, 53, 'movie')]}),\n",
       " (\"I'm curious about the person who wrote Flying Swords of Dragon Gate\",\n",
       "  {'entities': [(39, 67, 'movie'), (33, 38, 'action')]}),\n",
       " ('Identify the director of photography of Skagerrak',\n",
       "  {'entities': [(13, 36, 'role'), (40, 49, 'movie'), (13, 19, 'action')]}),\n",
       " ('Tell me the film crew member behind Children of the Century',\n",
       "  {'entities': [(12, 28, 'role'), (36, 59, 'movie')]}),\n",
       " ('Tell me the choreographer for Moshidora',\n",
       "  {'entities': [(12, 25, 'role'), (30, 39, 'movie')]}),\n",
       " ('Tell me the art director of Kikujiro',\n",
       "  {'entities': [(12, 24, 'role'), (28, 36, 'movie'), (16, 22, 'action')]}),\n",
       " (\"What is the author's name for the movie Marked for Death?\",\n",
       "  {'entities': [(12, 18, 'role'), (40, 56, 'movie')]}),\n",
       " ('Who presenter in Evening?',\n",
       "  {'entities': [(4, 13, 'role'), (17, 24, 'movie')]}),\n",
       " ('Who directed Showtime?',\n",
       "  {'entities': [(13, 21, 'movie'), (4, 12, 'action'), (4, 10, 'action')]}),\n",
       " ('Who wrote the movie Circus?',\n",
       "  {'entities': [(20, 26, 'movie'), (4, 9, 'action')]}),\n",
       " ('Who is the creator of Circus World?',\n",
       "  {'entities': [(11, 18, 'role'), (22, 34, 'movie')]}),\n",
       " ('Who is the participant of the film Black Snow?',\n",
       "  {'entities': [(11, 22, 'role'), (35, 45, 'movie')]}),\n",
       " ('Who oversaw the making of The Adventurers',\n",
       "  {'entities': [(26, 41, 'movie')]}),\n",
       " ('Who was in charge of directing Howling III?',\n",
       "  {'entities': [(31, 42, 'movie'), (21, 27, 'action')]}),\n",
       " ('Who was the publisher of Mulholland Falls',\n",
       "  {'entities': [(12, 21, 'role'), (25, 41, 'movie')]}),\n",
       " ('Give me the musical conductor of Double Tap',\n",
       "  {'entities': [(12, 29, 'role'), (33, 43, 'movie')]}),\n",
       " ('Give me the name of the operator of Almost Human',\n",
       "  {'entities': [(24, 32, 'role'), (36, 48, 'movie')]}),\n",
       " (\"I'd like to know the performer's name for Big Fish & Begonia\",\n",
       "  {'entities': [(21, 30, 'role'), (42, 60, 'movie')]}),\n",
       " (\"I'm curious about the person who directed The Rooftop\",\n",
       "  {'entities': [(42, 53, 'movie'), (33, 41, 'action'), (33, 39, 'action')]}),\n",
       " ('Identify the cast of City of Ghosts',\n",
       "  {'entities': [(13, 17, 'role'), (21, 35, 'movie')]}),\n",
       " ('Tell me the cast member behind The Tall Blond Man with One Black Shoe',\n",
       "  {'entities': [(12, 23, 'role'), (31, 69, 'movie')]}),\n",
       " ('Tell me the director for Yuva',\n",
       "  {'entities': [(12, 20, 'role'), (25, 29, 'movie'), (12, 18, 'action')]}),\n",
       " ('Tell me the screenwriter of Battle of Warsaw 1920',\n",
       "  {'entities': [(12, 24, 'role'), (28, 49, 'movie')]}),\n",
       " (\"What is the producer's name for the movie Suicide Room?\",\n",
       "  {'entities': [(12, 20, 'role'), (42, 54, 'movie'), (12, 19, 'action')]}),\n",
       " ('Who developer in Little Moscow?',\n",
       "  {'entities': [(4, 13, 'role'), (17, 30, 'movie')]}),\n",
       " ('Who wrote Rope?', {'entities': [(10, 14, 'movie'), (4, 9, 'action')]}),\n",
       " ('Who directed the movie Tiny Times?',\n",
       "  {'entities': [(23, 33, 'movie'), (4, 12, 'action'), (4, 10, 'action')]}),\n",
       " ('Who is the film crew member of The Malay Chronicles: Bloodlines?',\n",
       "  {'entities': [(11, 27, 'role'), (31, 63, 'movie')]}),\n",
       " ('Who is the choreographer of the film Kokoda?',\n",
       "  {'entities': [(11, 24, 'role'), (37, 43, 'movie')]}),\n",
       " ('Who oversaw the making of Indie Game: The Movie',\n",
       "  {'entities': [(26, 47, 'movie')]}),\n",
       " ('Who was in charge of directing Vishwanatha Nayakudu?',\n",
       "  {'entities': [(31, 51, 'movie'), (21, 27, 'action')]}),\n",
       " ('Who was the presenter of Go Go Tales',\n",
       "  {'entities': [(12, 21, 'role'), (25, 36, 'movie')]}),\n",
       " ('Give me the narrator of Hello Mary Lou: Prom Night II',\n",
       "  {'entities': [(12, 20, 'role'), (24, 53, 'movie')]}),\n",
       " ('Give me the name of the animator of Trekkies',\n",
       "  {'entities': [(24, 32, 'role'), (36, 44, 'movie')]}),\n",
       " (\"I'd like to know the creator's name for Do Anjaane\",\n",
       "  {'entities': [(21, 28, 'role'), (40, 50, 'movie')]}),\n",
       " (\"I'm curious about the person who wrote Cleaner\",\n",
       "  {'entities': [(39, 46, 'movie'), (33, 38, 'action')]}),\n",
       " ('Identify the member of the crew of of Mausam',\n",
       "  {'entities': [(13, 34, 'role'), (38, 44, 'movie')]}),\n",
       " ('Tell me the voice actor behind Insaaf Ka Tarazu',\n",
       "  {'entities': [(12, 23, 'role'), (31, 47, 'movie')]}),\n",
       " ('Tell me the publisher for Life Without Principle',\n",
       "  {'entities': [(12, 21, 'role'), (26, 48, 'movie')]}),\n",
       " ('Tell me the musical conductor of Venghai',\n",
       "  {'entities': [(12, 29, 'role'), (33, 40, 'movie')]}),\n",
       " (\"What is the operator's name for the movie Veppam?\",\n",
       "  {'entities': [(12, 20, 'role'), (42, 48, 'movie')]}),\n",
       " ('Who performer in Cleopatra?',\n",
       "  {'entities': [(4, 13, 'role'), (17, 26, 'movie')]}),\n",
       " ('Who directed Macao?',\n",
       "  {'entities': [(13, 18, 'movie'), (4, 12, 'action'), (4, 10, 'action')]}),\n",
       " ('Who wrote the movie Clockwise?',\n",
       "  {'entities': [(20, 29, 'movie'), (4, 9, 'action')]}),\n",
       " ('Who is the cast member of Mashaal?',\n",
       "  {'entities': [(11, 22, 'role'), (26, 33, 'movie')]}),\n",
       " ('Who is the director of the film Closet Land?',\n",
       "  {'entities': [(11, 19, 'role'), (32, 43, 'movie'), (11, 17, 'action')]}),\n",
       " ('Who oversaw the making of Closing the Ring',\n",
       "  {'entities': [(26, 42, 'movie')]}),\n",
       " ('Who was in charge of directing Club Dread?',\n",
       "  {'entities': [(31, 41, 'movie'), (21, 27, 'action')]}),\n",
       " ('Who was the developer of Club Paradise',\n",
       "  {'entities': [(12, 21, 'role'), (25, 38, 'movie')]}),\n",
       " ('Give me the film editor of A Thousand Words',\n",
       "  {'entities': [(12, 23, 'role'), (27, 43, 'movie'), (17, 21, 'action')]}),\n",
       " ('Give me the name of the director of photography of Flickering Lights',\n",
       "  {'entities': [(24, 47, 'role'), (51, 68, 'movie'), (24, 30, 'action')]}),\n",
       " (\"I'd like to know the film crew member's name for Coach Carter\",\n",
       "  {'entities': [(21, 37, 'role'), (49, 61, 'movie')]}),\n",
       " (\"I'm curious about the person who directed Chasing Papi\",\n",
       "  {'entities': [(42, 54, 'movie'), (33, 41, 'action'), (33, 39, 'action')]}),\n",
       " ('Identify the art director of Ghatak: Lethal',\n",
       "  {'entities': [(13, 25, 'role'), (29, 43, 'movie'), (17, 23, 'action')]}),\n",
       " ('Tell me the author behind Code 46',\n",
       "  {'entities': [(12, 18, 'role'), (26, 33, 'movie')]}),\n",
       " ('Tell me the presenter for Code Name: The Cleaner',\n",
       "  {'entities': [(12, 21, 'role'), (26, 48, 'movie')]}),\n",
       " ('Tell me the narrator of Dev',\n",
       "  {'entities': [(12, 20, 'role'), (24, 27, 'movie')]}),\n",
       " (\"What is the animator's name for the movie Nights on the Road?\",\n",
       "  {'entities': [(12, 20, 'role'), (42, 60, 'movie')]}),\n",
       " ('Who creator in The Street with No Name?',\n",
       "  {'entities': [(4, 11, 'role'), (15, 38, 'movie')]}),\n",
       " ('Who wrote Nobel Son?', {'entities': [(10, 19, 'movie'), (4, 9, 'action')]}),\n",
       " ('Who directed the movie When the Sea Rises?',\n",
       "  {'entities': [(23, 41, 'movie'), (4, 12, 'action'), (4, 10, 'action')]}),\n",
       " ('Who is the voice actor of Yuppi du?',\n",
       "  {'entities': [(11, 22, 'role'), (26, 34, 'movie')]}),\n",
       " ('Who is the publisher of the film Le Marginal?',\n",
       "  {'entities': [(11, 20, 'role'), (33, 44, 'movie')]}),\n",
       " ('Who oversaw the making of Coldblooded', {'entities': [(26, 37, 'movie')]}),\n",
       " ('Who was in charge of directing Cold Fever?',\n",
       "  {'entities': [(31, 41, 'movie'), (21, 27, 'action')]}),\n",
       " ('Who was the performer of Cold Creek Manor',\n",
       "  {'entities': [(12, 21, 'role'), (25, 41, 'movie')]}),\n",
       " ('Give me the actor of Cold Prey 2',\n",
       "  {'entities': [(12, 17, 'role'), (21, 32, 'movie')]}),\n",
       " ('Give me the name of the cast of As the Light Goes Out',\n",
       "  {'entities': [(24, 28, 'role'), (32, 53, 'movie')]}),\n",
       " (\"I'd like to know the cast member's name for Jonah Who Lived in the Whale\",\n",
       "  {'entities': [(21, 32, 'role'), (44, 72, 'movie')]}),\n",
       " (\"I'm curious about the person who wrote College Road Trip\",\n",
       "  {'entities': [(39, 56, 'movie'), (33, 38, 'action')]}),\n",
       " ('Identify the screenwriter of Sherlock Holmes',\n",
       "  {'entities': [(13, 25, 'role'), (29, 44, 'movie')]}),\n",
       " ('Tell me the producer behind Tere Naam',\n",
       "  {'entities': [(12, 20, 'role'), (28, 37, 'movie'), (12, 19, 'action')]}),\n",
       " ('Tell me the developer for Fled',\n",
       "  {'entities': [(12, 21, 'role'), (26, 30, 'movie')]}),\n",
       " ('Tell me the film editor of The Five Pennies',\n",
       "  {'entities': [(12, 23, 'role'), (27, 43, 'movie'), (17, 21, 'action')]}),\n",
       " (\"What is the director of photography's name for the movie Off Beat?\",\n",
       "  {'entities': [(12, 35, 'role'), (57, 65, 'movie'), (12, 18, 'action')]}),\n",
       " ('Who film crew member in Color of Night?',\n",
       "  {'entities': [(4, 20, 'role'), (24, 38, 'movie')]}),\n",
       " ('Who directed Colors?',\n",
       "  {'entities': [(13, 19, 'movie'), (4, 12, 'action'), (4, 10, 'action')]}),\n",
       " ('Who wrote the movie Babes in Toyland?',\n",
       "  {'entities': [(20, 36, 'movie'), (4, 9, 'action')]}),\n",
       " ('Who is the author of High Crimes?',\n",
       "  {'entities': [(11, 17, 'role'), (21, 32, 'movie')]}),\n",
       " ('Who is the presenter of the film Sunshine Cleaning?',\n",
       "  {'entities': [(11, 20, 'role'), (33, 50, 'movie')]}),\n",
       " ('Who oversaw the making of Hellsinki', {'entities': [(26, 35, 'movie')]}),\n",
       " (\"Who was in charge of directing I Don't Speak English?\",\n",
       "  {'entities': [(31, 52, 'movie'), (21, 27, 'action')]}),\n",
       " ('Who was the creator of Them',\n",
       "  {'entities': [(12, 19, 'role'), (23, 27, 'movie')]}),\n",
       " ('Give me the participant of Rigor Mortis',\n",
       "  {'entities': [(12, 23, 'role'), (27, 39, 'movie')]}),\n",
       " ('Give me the name of the member of the crew of of The Dancer Upstairs',\n",
       "  {'entities': [(24, 45, 'role'), (49, 68, 'movie')]}),\n",
       " (\"I'd like to know the voice actor's name for Curiosity Kills the Cat\",\n",
       "  {'entities': [(21, 32, 'role'), (44, 67, 'movie')]}),\n",
       " (\"I'm curious about the person who directed Comandante\",\n",
       "  {'entities': [(42, 52, 'movie'), (33, 41, 'action'), (33, 39, 'action')]}),\n",
       " (\"Identify the musical conductor of I'll Be There\",\n",
       "  {'entities': [(13, 30, 'role'), (34, 47, 'movie')]}),\n",
       " ('Tell me the operator behind The Island',\n",
       "  {'entities': [(12, 20, 'role'), (28, 38, 'movie')]}),\n",
       " ('Tell me the performer for Tender Mercies',\n",
       "  {'entities': [(12, 21, 'role'), (26, 40, 'movie')]}),\n",
       " ('Tell me the actor of Nouvelle Vague',\n",
       "  {'entities': [(12, 17, 'role'), (21, 35, 'movie')]}),\n",
       " (\"What is the cast's name for the movie The Chronicle of Anna Magdalena Bach?\",\n",
       "  {'entities': [(12, 16, 'role'), (38, 74, 'movie')]}),\n",
       " ('Who cast member in Career Opportunities?',\n",
       "  {'entities': [(4, 15, 'role'), (19, 39, 'movie')]}),\n",
       " ('Who wrote Naayika?', {'entities': [(10, 17, 'movie'), (4, 9, 'action')]}),\n",
       " ('Who directed the movie Overnight Delivery?',\n",
       "  {'entities': [(23, 41, 'movie'), (4, 12, 'action'), (4, 10, 'action')]}),\n",
       " ('Who is the producer of Cougar Club?',\n",
       "  {'entities': [(11, 19, 'role'), (23, 34, 'movie'), (11, 18, 'action')]}),\n",
       " ('Who is the developer of the film The Cruelest Day?',\n",
       "  {'entities': [(11, 20, 'role'), (33, 49, 'movie')]}),\n",
       " ('Who oversaw the making of The Mourning Forest',\n",
       "  {'entities': [(26, 45, 'movie')]}),\n",
       " ('Who was in charge of directing A No-Hit No-Run Summer?',\n",
       "  {'entities': [(31, 53, 'movie'), (21, 27, 'action')]}),\n",
       " ('Who was the film crew member of The Liberator',\n",
       "  {'entities': [(12, 28, 'role'), (32, 45, 'movie')]}),\n",
       " ('Give me the choreographer of Foolish Wives',\n",
       "  {'entities': [(12, 25, 'role'), (29, 42, 'movie')]}),\n",
       " ('Give me the name of the art director of Something New',\n",
       "  {'entities': [(24, 36, 'role'), (40, 53, 'movie'), (28, 34, 'action')]}),\n",
       " (\"I'd like to know the author's name for Down to Earth\",\n",
       "  {'entities': [(21, 27, 'role'), (39, 52, 'movie')]}),\n",
       " (\"I'm curious about the person who wrote The Woman Next Door\",\n",
       "  {'entities': [(39, 58, 'movie'), (33, 38, 'action')]}),\n",
       " ('Identify the narrator of Rachel Getting Married',\n",
       "  {'entities': [(13, 21, 'role'), (25, 47, 'movie')]}),\n",
       " (\"Tell me the animator behind The Emperor's New Clothes\",\n",
       "  {'entities': [(12, 20, 'role'), (28, 53, 'movie')]}),\n",
       " ('Tell me the creator for Dawson Isla 10',\n",
       "  {'entities': [(12, 19, 'role'), (24, 38, 'movie')]}),\n",
       " ('Tell me the participant of The Hireling',\n",
       "  {'entities': [(12, 23, 'role'), (27, 39, 'movie')]}),\n",
       " (\"What is the member of the crew of's name for the movie Ronda nocturna?\",\n",
       "  {'entities': [(12, 33, 'role'), (55, 69, 'movie')]}),\n",
       " ('Who voice actor in The Four-Faced Liar?',\n",
       "  {'entities': [(4, 15, 'role'), (19, 38, 'movie')]}),\n",
       " ('Who directed Garm Wars: The Last Druid?',\n",
       "  {'entities': [(13, 38, 'movie'), (4, 12, 'action'), (4, 10, 'action')]}),\n",
       " ('Who wrote the movie Dead Space: Downfall?',\n",
       "  {'entities': [(20, 40, 'movie'), (4, 9, 'action')]}),\n",
       " ('Who is the operator of The Body?',\n",
       "  {'entities': [(11, 19, 'role'), (23, 31, 'movie')]}),\n",
       " ('Who is the performer of the film Forgotten?',\n",
       "  {'entities': [(11, 20, 'role'), (33, 42, 'movie')]}),\n",
       " ('Who oversaw the making of Saratoga Trunk',\n",
       "  {'entities': [(26, 40, 'movie')]}),\n",
       " ('Who was in charge of directing The War of the Roses?',\n",
       "  {'entities': [(31, 51, 'movie'), (21, 27, 'action')]}),\n",
       " ('Who was the cast member of Nameless Gangster',\n",
       "  {'entities': [(12, 23, 'role'), (27, 44, 'movie')]}),\n",
       " ('Give me the director of Definitely, Maybe',\n",
       "  {'entities': [(12, 20, 'role'), (24, 41, 'movie'), (12, 18, 'action')]}),\n",
       " ('Give me the name of the screenwriter of Soul Men',\n",
       "  {'entities': [(24, 36, 'role'), (40, 48, 'movie')]}),\n",
       " (\"I'd like to know the producer's name for Nidra\",\n",
       "  {'entities': [(21, 29, 'role'), (41, 46, 'movie'), (21, 28, 'action')]}),\n",
       " (\"I'm curious about the person who directed Mogambo\",\n",
       "  {'entities': [(42, 49, 'movie'), (33, 41, 'action'), (33, 39, 'action')]}),\n",
       " ('Identify the film editor of Denis',\n",
       "  {'entities': [(13, 24, 'role'), (28, 33, 'movie'), (18, 22, 'action')]}),\n",
       " ('Tell me the director of photography behind Born Romantic',\n",
       "  {'entities': [(12, 35, 'role'), (43, 56, 'movie'), (12, 18, 'action')]}),\n",
       " ('Tell me the film crew member for Me and the Kid',\n",
       "  {'entities': [(12, 28, 'role'), (33, 47, 'movie')]}),\n",
       " ('Tell me the choreographer of NECK',\n",
       "  {'entities': [(12, 25, 'role'), (29, 33, 'movie')]}),\n",
       " (\"What is the art director's name for the movie The Number 23?\",\n",
       "  {'entities': [(12, 24, 'role'), (46, 59, 'movie'), (16, 22, 'action')]}),\n",
       " ('Who author in Live Free or Die?',\n",
       "  {'entities': [(4, 10, 'role'), (14, 30, 'movie')]}),\n",
       " ('Who wrote Hidden Agenda?',\n",
       "  {'entities': [(10, 23, 'movie'), (4, 9, 'action')]}),\n",
       " ('Who directed the movie Brotherhood of the Wolf?',\n",
       "  {'entities': [(23, 46, 'movie'), (4, 12, 'action'), (4, 10, 'action')]}),\n",
       " ('Who is the animator of Prime?',\n",
       "  {'entities': [(11, 19, 'role'), (23, 28, 'movie')]}),\n",
       " ('Who is the creator of the film Double Zero?',\n",
       "  {'entities': [(11, 18, 'role'), (31, 42, 'movie')]}),\n",
       " ('Who oversaw the making of Hide and Seek',\n",
       "  {'entities': [(26, 39, 'movie')]}),\n",
       " ('Who was in charge of directing Horror Stories?',\n",
       "  {'entities': [(31, 45, 'movie'), (21, 27, 'action')]}),\n",
       " ('Who was the voice actor of Condorman',\n",
       "  {'entities': [(12, 23, 'role'), (27, 36, 'movie')]}),\n",
       " ('Give me the publisher of Frankenhooker',\n",
       "  {'entities': [(12, 21, 'role'), (25, 38, 'movie')]}),\n",
       " ('Give me the name of the musical conductor of Six Days Seven Nights',\n",
       "  {'entities': [(24, 41, 'role'), (45, 66, 'movie')]}),\n",
       " (\"I'd like to know the operator's name for Tightrope\",\n",
       "  {'entities': [(21, 29, 'role'), (41, 50, 'movie')]}),\n",
       " (\"I'm curious about the person who wrote Louise Hires a Contract Killer\",\n",
       "  {'entities': [(39, 69, 'movie'), (33, 38, 'action')]}),\n",
       " ('Identify the actor of The Day of the Dolphin',\n",
       "  {'entities': [(13, 18, 'role'), (22, 44, 'movie')]}),\n",
       " ('Tell me the cast behind Hana-bi',\n",
       "  {'entities': [(12, 16, 'role'), (24, 31, 'movie')]}),\n",
       " ('Tell me the cast member for Kill Theory',\n",
       "  {'entities': [(12, 23, 'role'), (28, 39, 'movie')]}),\n",
       " ('Tell me the director of Le cousin',\n",
       "  {'entities': [(12, 20, 'role'), (24, 33, 'movie'), (12, 18, 'action')]}),\n",
       " (\"What is the screenwriter's name for the movie The Geisha House?\",\n",
       "  {'entities': [(12, 24, 'role'), (46, 62, 'movie')]}),\n",
       " ('Who producer in Replay?',\n",
       "  {'entities': [(4, 12, 'role'), (16, 22, 'movie'), (4, 11, 'action')]}),\n",
       " ('Who directed Wonderland?',\n",
       "  {'entities': [(13, 23, 'movie'), (4, 12, 'action'), (4, 10, 'action')]}),\n",
       " ('Who wrote the movie Connie and Carla?',\n",
       "  {'entities': [(20, 36, 'movie'), (4, 9, 'action')]}),\n",
       " (\"Who is the director of photography of Connors' War?\",\n",
       "  {'entities': [(11, 34, 'role'), (38, 50, 'movie'), (11, 17, 'action')]}),\n",
       " ('Who is the film crew member of the film Conquest?',\n",
       "  {'entities': [(11, 27, 'role'), (40, 48, 'movie')]}),\n",
       " ('Who oversaw the making of Casualties of War',\n",
       "  {'entities': [(26, 43, 'movie')]}),\n",
       " ('Who was in charge of directing Husbands in Goa?',\n",
       "  {'entities': [(31, 46, 'movie'), (21, 27, 'action')]}),\n",
       " ('Who was the author of The Colonel',\n",
       "  {'entities': [(12, 18, 'role'), (22, 33, 'movie')]}),\n",
       " ('Give me the presenter of Crane',\n",
       "  {'entities': [(12, 21, 'role'), (25, 30, 'movie')]}),\n",
       " ('Give me the name of the narrator of Dark City',\n",
       "  {'entities': [(24, 32, 'role'), (36, 45, 'movie')]}),\n",
       " (\"I'd like to know the animator's name for God Is Great and I'm Not\",\n",
       "  {'entities': [(21, 29, 'role'), (41, 65, 'movie')]}),\n",
       " (\"I'm curious about the person who directed Trouble with the Curve\",\n",
       "  {'entities': [(42, 64, 'movie'), (33, 41, 'action'), (33, 39, 'action')]}),\n",
       " ('Identify the participant of My Gal Sal',\n",
       "  {'entities': [(13, 24, 'role'), (28, 38, 'movie')]}),\n",
       " ('Tell me the member of the crew of behind True Romance',\n",
       "  {'entities': [(12, 33, 'role'), (41, 53, 'movie')]}),\n",
       " ('Tell me the voice actor for Queen to Play',\n",
       "  {'entities': [(12, 23, 'role'), (28, 41, 'movie')]}),\n",
       " (\"Tell me the publisher of It's Not Me, I Swear!\",\n",
       "  {'entities': [(12, 21, 'role'), (25, 46, 'movie')]}),\n",
       " (\"What is the musical conductor's name for the movie Colour Me Kubrick?\",\n",
       "  {'entities': [(12, 29, 'role'), (51, 68, 'movie')]}),\n",
       " ('Who operator in Year One?',\n",
       "  {'entities': [(4, 12, 'role'), (16, 24, 'movie')]}),\n",
       " ('Who wrote Daybreakers?',\n",
       "  {'entities': [(10, 21, 'movie'), (4, 9, 'action')]}),\n",
       " ('Who directed the movie The Black Orchid?',\n",
       "  {'entities': [(23, 39, 'movie'), (4, 12, 'action'), (4, 10, 'action')]}),\n",
       " ('Who is the cast of Hall Pass?',\n",
       "  {'entities': [(11, 15, 'role'), (19, 28, 'movie')]}),\n",
       " ('Who is the cast member of the film Crazy Heart?',\n",
       "  {'entities': [(11, 22, 'role'), (35, 46, 'movie')]}),\n",
       " ('Who oversaw the making of The Girl in the Park',\n",
       "  {'entities': [(26, 46, 'movie')]}),\n",
       " ('Who was in charge of directing I Love You Phillip Morris?',\n",
       "  {'entities': [(31, 56, 'movie'), (21, 27, 'action')]}),\n",
       " ('Who was the producer of Contraband',\n",
       "  {'entities': [(12, 20, 'role'), (24, 34, 'movie'), (12, 19, 'action')]}),\n",
       " ('Give me the developer of Control',\n",
       "  {'entities': [(12, 21, 'role'), (25, 32, 'movie')]}),\n",
       " ('Give me the name of the film editor of Control',\n",
       "  {'entities': [(24, 35, 'role'), (39, 46, 'movie'), (29, 33, 'action')]}),\n",
       " (\"I'd like to know the director of photography's name for Make the Yuletide Gay\",\n",
       "  {'entities': [(21, 44, 'role'), (56, 77, 'movie'), (21, 27, 'action')]}),\n",
       " (\"I'm curious about the person who wrote Barnyard\",\n",
       "  {'entities': [(39, 47, 'movie'), (33, 38, 'action')]}),\n",
       " ('Identify the choreographer of Push',\n",
       "  {'entities': [(13, 26, 'role'), (30, 34, 'movie')]}),\n",
       " ('Tell me the art director behind The Convent',\n",
       "  {'entities': [(12, 24, 'role'), (32, 43, 'movie'), (16, 22, 'action')]}),\n",
       " ('Tell me the author for The Milk of Sorrow',\n",
       "  {'entities': [(12, 18, 'role'), (23, 41, 'movie')]}),\n",
       " ('Tell me the presenter of Conversations with Other Women',\n",
       "  {'entities': [(12, 21, 'role'), (25, 55, 'movie')]}),\n",
       " (\"What is the narrator's name for the movie Tangled?\",\n",
       "  {'entities': [(12, 20, 'role'), (42, 49, 'movie')]}),\n",
       " ('Who animator in Norbit?',\n",
       "  {'entities': [(4, 12, 'role'), (16, 22, 'movie')]}),\n",
       " ('Who directed Cookie?',\n",
       "  {'entities': [(13, 19, 'movie'), (4, 12, 'action'), (4, 10, 'action')]}),\n",
       " ('Who wrote the movie Cooking History?',\n",
       "  {'entities': [(20, 35, 'movie'), (4, 9, 'action')]}),\n",
       " (\"Who is the member of the crew of of Goya's Ghosts?\",\n",
       "  {'entities': [(11, 32, 'role'), (36, 49, 'movie')]}),\n",
       " ('Who is the voice actor of the film East of Eden?',\n",
       "  {'entities': [(11, 22, 'role'), (35, 47, 'movie')]}),\n",
       " ('Who oversaw the making of The Double Life of Véronique',\n",
       "  {'entities': [(26, 54, 'movie')]}),\n",
       " ('Who was in charge of directing The Skin I Live In?',\n",
       "  {'entities': [(31, 49, 'movie'), (21, 27, 'action')]}),\n",
       " ('Who was the operator of Of Gods and Men',\n",
       "  {'entities': [(12, 20, 'role'), (24, 39, 'movie')]}),\n",
       " ('Give me the performer of Come and See',\n",
       "  {'entities': [(12, 21, 'role'), (25, 37, 'movie')]}),\n",
       " ('Give me the name of the actor of Saidoweizu',\n",
       "  {'entities': [(24, 29, 'role'), (33, 43, 'movie')]}),\n",
       " (\"I'd like to know the cast's name for The 9th Company\",\n",
       "  {'entities': [(21, 25, 'role'), (37, 52, 'movie')]}),\n",
       " (\"I'm curious about the person who directed Elizabethtown\",\n",
       "  {'entities': [(42, 55, 'movie'), (33, 41, 'action'), (33, 39, 'action')]}),\n",
       " ('Identify the director of The Rite',\n",
       "  {'entities': [(13, 21, 'role'), (25, 33, 'movie'), (13, 19, 'action')]}),\n",
       " ('Tell me the screenwriter behind Far from Heaven',\n",
       "  {'entities': [(12, 24, 'role'), (32, 47, 'movie')]}),\n",
       " ('Tell me the producer for Mammuth',\n",
       "  {'entities': [(12, 20, 'role'), (25, 32, 'movie'), (12, 19, 'action')]}),\n",
       " ('Tell me the developer of The Merry Widow',\n",
       "  {'entities': [(12, 21, 'role'), (25, 40, 'movie')]}),\n",
       " (\"What is the film editor's name for the movie The Slammin' Salmon?\",\n",
       "  {'entities': [(12, 23, 'role'), (45, 64, 'movie'), (17, 21, 'action')]}),\n",
       " ('Who director of photography in Suddenly, Last Summer?',\n",
       "  {'entities': [(4, 27, 'role'), (31, 52, 'movie'), (4, 10, 'action')]}),\n",
       " ('Who wrote P.S. Your Cat Is Dead?',\n",
       "  {'entities': [(10, 31, 'movie'), (4, 9, 'action')]}),\n",
       " ('Who directed the movie The Hot Chick?',\n",
       "  {'entities': [(23, 36, 'movie'), (4, 12, 'action'), (4, 10, 'action')]}),\n",
       " ('Who is the art director of Showdown in Seoul?',\n",
       "  {'entities': [(11, 23, 'role'), (27, 44, 'movie'), (15, 21, 'action')]}),\n",
       " ('Who is the author of the film Cops & Robbersons?',\n",
       "  {'entities': [(11, 17, 'role'), (30, 47, 'movie')]}),\n",
       " ('Who oversaw the making of Rollover', {'entities': [(26, 34, 'movie')]}),\n",
       " ('Who was in charge of directing Capturing Dad?',\n",
       "  {'entities': [(31, 44, 'movie'), (21, 27, 'action')]}),\n",
       " ('Who was the animator of Warlock: The Armageddon',\n",
       "  {'entities': [(12, 20, 'role'), (24, 47, 'movie')]}),\n",
       " ('Give me the creator of Demons of War',\n",
       "  {'entities': [(12, 19, 'role'), (23, 36, 'movie')]}),\n",
       " ('Give me the name of the participant of Green Street',\n",
       "  {'entities': [(24, 35, 'role'), (39, 51, 'movie')]}),\n",
       " (\"I'd like to know the member of the crew of's name for Sri Rama Rajyam\",\n",
       "  {'entities': [(21, 42, 'role'), (54, 69, 'movie')]}),\n",
       " (\"I'm curious about the person who wrote The Wedding Singer\",\n",
       "  {'entities': [(39, 57, 'movie'), (33, 38, 'action')]}),\n",
       " ('Identify the publisher of Red River',\n",
       "  {'entities': [(13, 22, 'role'), (26, 35, 'movie')]}),\n",
       " ('Tell me the musical conductor behind Three Lives and Only One Death',\n",
       "  {'entities': [(12, 29, 'role'), (37, 67, 'movie')]}),\n",
       " ('Tell me the operator for Green Snake',\n",
       "  {'entities': [(12, 20, 'role'), (25, 36, 'movie')]}),\n",
       " ('Tell me the performer of Freaks',\n",
       "  {'entities': [(12, 21, 'role'), (25, 31, 'movie')]}),\n",
       " (\"What is the actor's name for the movie Napoleon Dynamite?\",\n",
       "  {'entities': [(12, 17, 'role'), (39, 56, 'movie')]}),\n",
       " ('Who cast in Under the Hawthorn Tree?',\n",
       "  {'entities': [(4, 8, 'role'), (12, 35, 'movie')]}),\n",
       " ('Who directed Oskar & Josefine?',\n",
       "  {'entities': [(13, 29, 'movie'), (4, 12, 'action'), (4, 10, 'action')]}),\n",
       " ('Who wrote the movie The Whisperers?',\n",
       "  {'entities': [(20, 34, 'movie'), (4, 9, 'action')]}),\n",
       " ('Who is the screenwriter of The Sweetest Thing?',\n",
       "  {'entities': [(11, 23, 'role'), (27, 45, 'movie')]}),\n",
       " ('Who is the producer of the film The Profession of Arms?',\n",
       "  {'entities': [(11, 19, 'role'), (32, 54, 'movie'), (11, 18, 'action')]}),\n",
       " ('Who oversaw the making of Strays', {'entities': [(26, 32, 'movie')]}),\n",
       " ('Who was in charge of directing Ed?',\n",
       "  {'entities': [(31, 33, 'movie'), (21, 27, 'action')]}),\n",
       " ('Who was the director of photography of Magadheera',\n",
       "  {'entities': [(12, 35, 'role'), (39, 49, 'movie'), (12, 18, 'action')]}),\n",
       " ('Give me the film crew member of Vanishing Point',\n",
       "  {'entities': [(12, 28, 'role'), (32, 47, 'movie')]}),\n",
       " ('Give me the name of the choreographer of Little Maestra',\n",
       "  {'entities': [(24, 37, 'role'), (41, 55, 'movie')]}),\n",
       " (\"I'd like to know the art director's name for Invisible Target\",\n",
       "  {'entities': [(21, 33, 'role'), (45, 61, 'movie'), (25, 31, 'action')]}),\n",
       " (\"I'm curious about the person who directed Corrina, Corrina\",\n",
       "  {'entities': [(42, 58, 'movie'), (33, 41, 'action'), (33, 39, 'action')]}),\n",
       " ('Identify the presenter of The Corruptor',\n",
       "  {'entities': [(13, 22, 'role'), (26, 39, 'movie')]}),\n",
       " ('Tell me the narrator behind A Chinese Ghost Story',\n",
       "  {'entities': [(12, 20, 'role'), (28, 49, 'movie')]}),\n",
       " ('Tell me the animator for For Keeps',\n",
       "  {'entities': [(12, 20, 'role'), (25, 34, 'movie')]}),\n",
       " ('Tell me the creator of Ladyhawke',\n",
       "  {'entities': [(12, 19, 'role'), (23, 32, 'movie')]}),\n",
       " (\"What is the participant's name for the movie Contre-enquête?\",\n",
       "  {'entities': [(12, 23, 'role'), (45, 59, 'movie')]}),\n",
       " ('Who member of the crew of in Runaway Train?',\n",
       "  {'entities': [(4, 25, 'role'), (29, 42, 'movie')]}),\n",
       " ('Who wrote J. Edgar?', {'entities': [(10, 18, 'movie'), (4, 9, 'action')]}),\n",
       " ('Who directed the movie Country Strong?',\n",
       "  {'entities': [(23, 37, 'movie'), (4, 12, 'action'), (4, 10, 'action')]}),\n",
       " ('Who is the musical conductor of Jack Brooks: Monster Slayer?',\n",
       "  {'entities': [(11, 28, 'role'), (32, 59, 'movie')]}),\n",
       " ('Who is the operator of the film My Bloody Valentine 3D?',\n",
       "  {'entities': [(11, 19, 'role'), (32, 54, 'movie')]}),\n",
       " ('Who oversaw the making of Dirty', {'entities': [(26, 31, 'movie')]}),\n",
       " ('Who was in charge of directing Spice World?',\n",
       "  {'entities': [(31, 42, 'movie'), (21, 27, 'action')]}),\n",
       " ('Who was the cast of Sydney White',\n",
       "  {'entities': [(12, 16, 'role'), (20, 32, 'movie')]}),\n",
       " ('Give me the cast member of Hollywoodland',\n",
       "  {'entities': [(12, 23, 'role'), (27, 40, 'movie')]}),\n",
       " ('Give me the name of the director of Adrift in Tokyo',\n",
       "  {'entities': [(24, 32, 'role'), (36, 51, 'movie'), (24, 30, 'action')]}),\n",
       " (\"I'd like to know the screenwriter's name for Dance of the Dead\",\n",
       "  {'entities': [(21, 33, 'role'), (45, 62, 'movie')]}),\n",
       " (\"I'm curious about the person who wrote Cyborg She\",\n",
       "  {'entities': [(39, 49, 'movie'), (33, 38, 'action')]}),\n",
       " ('Identify the developer of Jackass Number Two',\n",
       "  {'entities': [(13, 22, 'role'), (26, 44, 'movie')]}),\n",
       " ('Tell me the film editor behind Poppoya',\n",
       "  {'entities': [(12, 23, 'role'), (31, 38, 'movie'), (17, 21, 'action')]}),\n",
       " ('Tell me the director of photography for That Obscure Object of Desire',\n",
       "  {'entities': [(12, 35, 'role'), (40, 69, 'movie'), (12, 18, 'action')]}),\n",
       " ('Tell me the film crew member of In Good Company',\n",
       "  {'entities': [(12, 28, 'role'), (32, 47, 'movie')]}),\n",
       " (\"What is the choreographer's name for the movie The Monitor?\",\n",
       "  {'entities': [(12, 25, 'role'), (47, 58, 'movie')]}),\n",
       " ('Who art director in The Goddess of 1967?',\n",
       "  {'entities': [(4, 16, 'role'), (20, 39, 'movie'), (8, 14, 'action')]}),\n",
       " ('Who directed Soldier?',\n",
       "  {'entities': [(13, 20, 'movie'), (4, 12, 'action'), (4, 10, 'action')]}),\n",
       " ('Who wrote the movie When in Rome?',\n",
       "  {'entities': [(20, 32, 'movie'), (4, 9, 'action')]}),\n",
       " ('Who is the narrator of The Robe?',\n",
       "  {'entities': [(11, 19, 'role'), (23, 31, 'movie')]}),\n",
       " ('Who is the animator of the film Top Hat?',\n",
       "  {'entities': [(11, 19, 'role'), (32, 39, 'movie')]}),\n",
       " ('Who oversaw the making of Venus in Fur', {'entities': [(26, 38, 'movie')]}),\n",
       " ('Who was in charge of directing Turistas?',\n",
       "  {'entities': [(31, 39, 'movie'), (21, 27, 'action')]}),\n",
       " ('Who was the member of the crew of of Crazy',\n",
       "  {'entities': [(12, 33, 'role'), (37, 42, 'movie')]}),\n",
       " ('Give me the voice actor of The Eye',\n",
       "  {'entities': [(12, 23, 'role'), (27, 34, 'movie')]}),\n",
       " ('Give me the name of the publisher of Fatal Instinct',\n",
       "  {'entities': [(24, 33, 'role'), (37, 51, 'movie')]}),\n",
       " (\"I'd like to know the musical conductor's name for Chasing Destiny\",\n",
       "  {'entities': [(21, 38, 'role'), (50, 65, 'movie')]}),\n",
       " (\"I'm curious about the person who directed StreetDance 2\",\n",
       "  {'entities': [(42, 55, 'movie'), (33, 41, 'action'), (33, 39, 'action')]}),\n",
       " ('Identify the performer of Battle of Los Angeles',\n",
       "  {'entities': [(13, 22, 'role'), (26, 47, 'movie')]}),\n",
       " ('Tell me the actor behind Vision Quest',\n",
       "  {'entities': [(12, 17, 'role'), (25, 37, 'movie')]}),\n",
       " ('Tell me the cast for Paranoid Park',\n",
       "  {'entities': [(12, 16, 'role'), (21, 34, 'movie')]}),\n",
       " ('Tell me the cast member of George Harrison: Living in the Material World',\n",
       "  {'entities': [(12, 23, 'role'), (27, 72, 'movie')]}),\n",
       " (\"What is the director's name for the movie Creator?\",\n",
       "  {'entities': [(12, 20, 'role'), (42, 49, 'movie'), (12, 18, 'action')]}),\n",
       " ('Who screenwriter in After Life?',\n",
       "  {'entities': [(4, 16, 'role'), (20, 30, 'movie')]}),\n",
       " ('Who wrote Borgman?', {'entities': [(10, 17, 'movie'), (4, 9, 'action')]}),\n",
       " ('Who directed the movie 12 and Holding?',\n",
       "  {'entities': [(23, 37, 'movie'), (4, 12, 'action'), (4, 10, 'action')]}),\n",
       " ('Who is the film editor of Face?',\n",
       "  {'entities': [(11, 22, 'role'), (26, 30, 'movie'), (16, 20, 'action')]}),\n",
       " (\"Who is the director of photography of the film The Devil's Path?\",\n",
       "  {'entities': [(11, 34, 'role'), (47, 63, 'movie'), (11, 17, 'action')]}),\n",
       " ('Who oversaw the making of Gracie', {'entities': [(26, 32, 'movie')]}),\n",
       " ('Who was in charge of directing Mademoiselle Chambon?',\n",
       "  {'entities': [(31, 51, 'movie'), (21, 27, 'action')]}),\n",
       " ('Who was the art director of Crimson Tide',\n",
       "  {'entities': [(12, 24, 'role'), (28, 40, 'movie'), (16, 22, 'action')]}),\n",
       " (\"Give me the author of They Shoot Horses, Don't They?\",\n",
       "  {'entities': [(12, 18, 'role'), (22, 52, 'movie')]}),\n",
       " ('Give me the name of the presenter of The Messenger: The Story of Joan of Arc',\n",
       "  {'entities': [(24, 33, 'role'), (37, 76, 'movie')]}),\n",
       " (\"I'd like to know the narrator's name for Soul Food\",\n",
       "  {'entities': [(21, 29, 'role'), (41, 50, 'movie')]}),\n",
       " (\"I'm curious about the person who wrote The Path to 9/11\",\n",
       "  {'entities': [(39, 55, 'movie'), (33, 38, 'action')]}),\n",
       " ('Identify the creator of Finding Forrester',\n",
       "  {'entities': [(13, 20, 'role'), (24, 41, 'movie')]}),\n",
       " ('Tell me the participant behind Mutants',\n",
       "  {'entities': [(12, 23, 'role'), (31, 38, 'movie')]}),\n",
       " ('Tell me the member of the crew of for Rat Race',\n",
       "  {'entities': [(12, 33, 'role'), (38, 46, 'movie')]}),\n",
       " ('Tell me the voice actor of The Crocodile Hunter: Collision Course',\n",
       "  {'entities': [(12, 23, 'role'), (27, 65, 'movie')]}),\n",
       " (\"What is the publisher's name for the movie A Knight's Tale?\",\n",
       "  {'entities': [(12, 21, 'role'), (43, 58, 'movie')]}),\n",
       " ('Who musical conductor in Cromwell?',\n",
       "  {'entities': [(4, 21, 'role'), (25, 33, 'movie')]}),\n",
       " ('Who directed To the Wonder?',\n",
       "  {'entities': [(13, 26, 'movie'), (4, 12, 'action'), (4, 10, 'action')]}),\n",
       " ('Who wrote the movie Shallow Hal?',\n",
       "  {'entities': [(20, 31, 'movie'), (4, 9, 'action')]}),\n",
       " ('Who is the actor of Cronos?',\n",
       "  {'entities': [(11, 16, 'role'), (20, 26, 'movie')]}),\n",
       " ('Who is the cast of the film The Recruit?',\n",
       "  {'entities': [(11, 15, 'role'), (28, 39, 'movie')]}),\n",
       " ('Who oversaw the making of Cross Creek', {'entities': [(26, 37, 'movie')]}),\n",
       " ('Who was in charge of directing Public Access?',\n",
       "  {'entities': [(31, 44, 'movie'), (21, 27, 'action')]}),\n",
       " ('Who was the screenwriter of The Crossing Guard',\n",
       "  {'entities': [(12, 24, 'role'), (28, 46, 'movie')]}),\n",
       " ('Give me the producer of John Q',\n",
       "  {'entities': [(12, 20, 'role'), (24, 30, 'movie'), (12, 19, 'action')]}),\n",
       " ('Give me the name of the developer of Striptease',\n",
       "  {'entities': [(24, 33, 'role'), (37, 47, 'movie')]}),\n",
       " (\"I'd like to know the film editor's name for Faithless\",\n",
       "  {'entities': [(21, 32, 'role'), (44, 53, 'movie'), (26, 30, 'action')]}),\n",
       " (\"I'm curious about the person who directed The Heiress\",\n",
       "  {'entities': [(42, 53, 'movie'), (33, 41, 'action'), (33, 39, 'action')]}),\n",
       " ('Identify the film crew member of Vexille',\n",
       "  {'entities': [(13, 29, 'role'), (33, 40, 'movie')]}),\n",
       " ('Tell me the choreographer behind Croupier',\n",
       "  {'entities': [(12, 25, 'role'), (33, 41, 'movie')]}),\n",
       " ('Tell me the art director for The Peacemaker',\n",
       "  {'entities': [(12, 24, 'role'), (29, 43, 'movie'), (16, 22, 'action')]}),\n",
       " ('Tell me the author of Little Buddha',\n",
       "  {'entities': [(12, 18, 'role'), (22, 35, 'movie')]}),\n",
       " (\"What is the presenter's name for the movie The Legend of Bagger Vance?\",\n",
       "  {'entities': [(12, 21, 'role'), (43, 69, 'movie')]}),\n",
       " ('Who narrator in Thirteen?',\n",
       "  {'entities': [(4, 12, 'role'), (16, 24, 'movie')]}),\n",
       " ('Who wrote Executive Decision?',\n",
       "  {'entities': [(10, 28, 'movie'), (4, 9, 'action')]}),\n",
       " ('Who directed the movie Cry Wolf?',\n",
       "  {'entities': [(23, 31, 'movie'), (4, 12, 'action'), (4, 10, 'action')]}),\n",
       " ('Who is the participant of Lebanon?',\n",
       "  {'entities': [(11, 22, 'role'), (26, 33, 'movie')]}),\n",
       " ('Who is the member of the crew of of the film The Buried Forest?',\n",
       "  {'entities': [(11, 32, 'role'), (45, 62, 'movie')]}),\n",
       " ('Who oversaw the making of Just the Wind',\n",
       "  {'entities': [(26, 39, 'movie')]}),\n",
       " ('Who was in charge of directing Rabbit-Proof Fence?',\n",
       "  {'entities': [(31, 49, 'movie'), (21, 27, 'action')]}),\n",
       " ('Who was the musical conductor of Pane, amore e...',\n",
       "  {'entities': [(12, 29, 'role'), (33, 49, 'movie')]}),\n",
       " ('Give me the operator of Thirteen Conversations About One Thing',\n",
       "  {'entities': [(12, 20, 'role'), (24, 62, 'movie')]}),\n",
       " ('Give me the name of the performer of Uptown Girls',\n",
       "  {'entities': [(24, 33, 'role'), (37, 49, 'movie')]}),\n",
       " (\"I'd like to know the actor's name for Sands of Iwo Jima\",\n",
       "  {'entities': [(21, 26, 'role'), (38, 55, 'movie')]}),\n",
       " (\"I'm curious about the person who wrote Hitman Hart: Wrestling with Shadows\",\n",
       "  {'entities': [(39, 74, 'movie'), (33, 38, 'action')]}),\n",
       " ('Identify the cast member of The House on Telegraph Hill',\n",
       "  {'entities': [(13, 24, 'role'), (28, 55, 'movie')]}),\n",
       " ('Tell me the director behind The Dove',\n",
       "  {'entities': [(12, 20, 'role'), (28, 36, 'movie'), (12, 18, 'action')]}),\n",
       " ('Tell me the screenwriter for Tell-Tale',\n",
       "  {'entities': [(12, 24, 'role'), (29, 38, 'movie')]}),\n",
       " ('Tell me the producer of Keeping Up with the Steins',\n",
       "  {'entities': [(12, 20, 'role'), (24, 50, 'movie'), (12, 19, 'action')]}),\n",
       " (\"What is the developer's name for the movie A Night in the Life of Jimmy Reardon?\",\n",
       "  {'entities': [(12, 21, 'role'), (43, 79, 'movie')]}),\n",
       " ('Who film editor in Cure?',\n",
       "  {'entities': [(4, 15, 'role'), (19, 23, 'movie'), (9, 13, 'action')]}),\n",
       " ('Who directed Youth in Revolt?',\n",
       "  {'entities': [(13, 28, 'movie'), (4, 12, 'action'), (4, 10, 'action')]}),\n",
       " ('Who wrote the movie Father of the Bride?',\n",
       "  {'entities': [(20, 39, 'movie'), (4, 9, 'action')]}),\n",
       " ('Who is the choreographer of Saint Clara?',\n",
       "  {'entities': [(11, 24, 'role'), (28, 39, 'movie')]}),\n",
       " ('Who is the art director of the film The Firm?',\n",
       "  {'entities': [(11, 23, 'role'), (36, 44, 'movie'), (15, 21, 'action')]}),\n",
       " ('Who oversaw the making of Sleepers', {'entities': [(26, 34, 'movie')]}),\n",
       " ('Who was in charge of directing The Abominable Dr. Phibes?',\n",
       "  {'entities': [(31, 56, 'movie'), (21, 27, 'action')]}),\n",
       " (\"Who was the narrator of A Nightmare on Elm Street 2: Freddy's Revenge\",\n",
       "  {'entities': [(12, 20, 'role'), (24, 69, 'movie')]}),\n",
       " ('Give me the animator of Not Another Teen Movie',\n",
       "  {'entities': [(12, 20, 'role'), (24, 46, 'movie')]}),\n",
       " ('Give me the name of the creator of Code of Silence',\n",
       "  {'entities': [(24, 31, 'role'), (35, 50, 'movie')]}),\n",
       " (\"I'd like to know the participant's name for Veronica Guerin\",\n",
       "  {'entities': [(21, 32, 'role'), (44, 59, 'movie')]}),\n",
       " (\"I'm curious about the person who directed The Replacements\",\n",
       "  {'entities': [(42, 58, 'movie'), (33, 41, 'action'), (33, 39, 'action')]}),\n",
       " ('Identify the voice actor of Helen Keller in Her Story',\n",
       "  {'entities': [(13, 24, 'role'), (28, 53, 'movie')]}),\n",
       " ('Tell me the publisher behind The Slurb',\n",
       "  {'entities': [(12, 21, 'role'), (29, 38, 'movie')]}),\n",
       " (\"Tell me the musical conductor for Cutter's Way\",\n",
       "  {'entities': [(12, 29, 'role'), (34, 46, 'movie')]}),\n",
       " ('Tell me the operator of A Somewhat Gentle Man',\n",
       "  {'entities': [(12, 20, 'role'), (24, 45, 'movie')]}),\n",
       " (\"What is the performer's name for the movie The Legend of 1900?\",\n",
       "  {'entities': [(12, 21, 'role'), (43, 61, 'movie')]}),\n",
       " ('Who actor in Deep Rising?',\n",
       "  {'entities': [(4, 9, 'role'), (13, 24, 'movie')]}),\n",
       " ('Who wrote Cyborg 2?', {'entities': [(10, 18, 'movie'), (4, 9, 'action')]}),\n",
       " ('Who directed the movie Pacific Heights?',\n",
       "  {'entities': [(23, 38, 'movie'), (4, 12, 'action'), (4, 10, 'action')]}),\n",
       " ('Who is the director of Jack the Bear?',\n",
       "  {'entities': [(11, 19, 'role'), (23, 36, 'movie'), (11, 17, 'action')]}),\n",
       " ('Who is the screenwriter of the film Cypher?',\n",
       "  {'entities': [(11, 23, 'role'), (36, 42, 'movie')]}),\n",
       " ('Who oversaw the making of Cypher', {'entities': [(26, 32, 'movie')]}),\n",
       " ('Who was in charge of directing 4 Little Girls?',\n",
       "  {'entities': [(31, 45, 'movie'), (21, 27, 'action')]}),\n",
       " ('Who was the film editor of My Life to Live',\n",
       "  {'entities': [(12, 23, 'role'), (27, 42, 'movie'), (17, 21, 'action')]}),\n",
       " ('Give me the director of photography of Stealth',\n",
       "  {'entities': [(12, 35, 'role'), (39, 46, 'movie'), (12, 18, 'action')]}),\n",
       " ('Give me the name of the film crew member of The Naked Brothers Band: The Movie',\n",
       "  {'entities': [(24, 40, 'role'), (44, 78, 'movie')]}),\n",
       " (\"I'd like to know the choreographer's name for Tortilla Soup\",\n",
       "  {'entities': [(21, 34, 'role'), (46, 59, 'movie')]}),\n",
       " (\"I'm curious about the person who wrote The Widow of Saint-Pierre\",\n",
       "  {'entities': [(39, 64, 'movie'), (33, 38, 'action')]}),\n",
       " ('Identify the author of Puerta de Hierro, el exilio de Perón',\n",
       "  {'entities': [(13, 19, 'role'), (23, 59, 'movie')]}),\n",
       " ('Tell me the presenter behind Dolls',\n",
       "  {'entities': [(12, 21, 'role'), (29, 34, 'movie')]}),\n",
       " ('Tell me the narrator for The Westerner',\n",
       "  {'entities': [(12, 20, 'role'), (25, 38, 'movie')]}),\n",
       " ('Tell me the animator of Come and Get It',\n",
       "  {'entities': [(12, 20, 'role'), (24, 39, 'movie')]}),\n",
       " (\"What is the creator's name for the movie Summer of Sam?\",\n",
       "  {'entities': [(12, 19, 'role'), (41, 54, 'movie')]}),\n",
       " ('Who participant in Gunde Jaari Gallanthayyinde?',\n",
       "  {'entities': [(4, 15, 'role'), (19, 46, 'movie')]}),\n",
       " ('Who directed Red Scorpion?',\n",
       "  {'entities': [(13, 25, 'movie'), (4, 12, 'action'), (4, 10, 'action')]}),\n",
       " ('Who wrote the movie Death Watch?',\n",
       "  {'entities': [(20, 31, 'movie'), (4, 9, 'action')]}),\n",
       " ('Who is the publisher of Tokyo Family?',\n",
       "  {'entities': [(11, 20, 'role'), (24, 36, 'movie')]}),\n",
       " ('Who is the musical conductor of the film Shinjuku Incident?',\n",
       "  {'entities': [(11, 28, 'role'), (41, 58, 'movie')]}),\n",
       " ('Who oversaw the making of Detroit Metal City',\n",
       "  {'entities': [(26, 44, 'movie')]}),\n",
       " ('Who was in charge of directing Voyage to the Beginning of the World?',\n",
       "  {'entities': [(31, 67, 'movie'), (21, 27, 'action')]}),\n",
       " ('Who was the actor of The Package',\n",
       "  {'entities': [(12, 17, 'role'), (21, 32, 'movie')]}),\n",
       " ('Give me the cast of Sukiyaki Western Django',\n",
       "  {'entities': [(12, 16, 'role'), (20, 43, 'movie')]}),\n",
       " ('Give me the name of the cast member of The Terminators',\n",
       "  {'entities': [(24, 35, 'role'), (39, 54, 'movie')]}),\n",
       " (\"I'd like to know the director's name for I Come with the Rain\",\n",
       "  {'entities': [(21, 29, 'role'), (41, 61, 'movie'), (21, 27, 'action')]}),\n",
       " (\"I'm curious about the person who directed Stuck\",\n",
       "  {'entities': [(42, 47, 'movie'), (33, 41, 'action'), (33, 39, 'action')]}),\n",
       " ('Identify the producer of Ichi',\n",
       "  {'entities': [(13, 21, 'role'), (25, 29, 'movie'), (13, 20, 'action')]}),\n",
       " ('Tell me the developer behind Il Divo',\n",
       "  {'entities': [(12, 21, 'role'), (29, 36, 'movie')]}),\n",
       " ('Tell me the film editor for Dying Breed',\n",
       "  {'entities': [(12, 23, 'role'), (28, 39, 'movie'), (17, 21, 'action')]}),\n",
       " ('Tell me the director of photography of 4:44 Last Day on Earth',\n",
       "  {'entities': [(12, 35, 'role'), (39, 61, 'movie'), (12, 18, 'action')]}),\n",
       " (\"What is the film crew member's name for the movie Comedy of Innocence?\",\n",
       "  {'entities': [(12, 28, 'role'), (50, 69, 'movie')]}),\n",
       " ('Who choreographer in La Promesse?',\n",
       "  {'entities': [(4, 17, 'role'), (21, 32, 'movie')]}),\n",
       " ('Who wrote Fifty Pills?',\n",
       "  {'entities': [(10, 21, 'movie'), (4, 9, 'action')]}),\n",
       " ('Who directed the movie Murder in the First?',\n",
       "  {'entities': [(23, 42, 'movie'), (4, 12, 'action'), (4, 10, 'action')]}),\n",
       " ('Who is the presenter of Shuttle?',\n",
       "  {'entities': [(11, 20, 'role'), (24, 31, 'movie')]}),\n",
       " (\"Who is the narrator of the film World's Greatest Dad?\",\n",
       "  {'entities': [(11, 19, 'role'), (32, 52, 'movie')]}),\n",
       " ('Who oversaw the making of Half Nelson', {'entities': [(26, 37, 'movie')]}),\n",
       " ('Who was in charge of directing Soul Surfer?',\n",
       "  {'entities': [(31, 42, 'movie'), (21, 27, 'action')]}),\n",
       " ('Who was the participant of The Kiyosu Conference',\n",
       "  {'entities': [(12, 23, 'role'), (27, 48, 'movie')]}),\n",
       " ('Give me the member of the crew of of Welcome to the Rileys',\n",
       "  {'entities': [(12, 33, 'role'), (37, 58, 'movie')]}),\n",
       " ('Give me the name of the voice actor of The Ringer',\n",
       "  {'entities': [(24, 35, 'role'), (39, 49, 'movie')]}),\n",
       " (\"I'd like to know the publisher's name for The Eel\",\n",
       "  {'entities': [(21, 30, 'role'), (42, 49, 'movie')]}),\n",
       " (\"I'm curious about the person who wrote Dad\",\n",
       "  {'entities': [(39, 42, 'movie'), (33, 38, 'action')]}),\n",
       " ('Identify the operator of Daddy and Them',\n",
       "  {'entities': [(13, 21, 'role'), (25, 39, 'movie')]}),\n",
       " (\"Tell me the performer behind Daddy's Little Girls\",\n",
       "  {'entities': [(12, 21, 'role'), (29, 49, 'movie')]}),\n",
       " ('Tell me the actor for A Scene at the Sea',\n",
       "  {'entities': [(12, 17, 'role'), (22, 40, 'movie')]}),\n",
       " (\"Tell me the cast of Daft Punk's Electroma\",\n",
       "  {'entities': [(12, 16, 'role'), (20, 41, 'movie')]}),\n",
       " (\"What is the cast member's name for the movie Evil Aliens?\",\n",
       "  {'entities': [(12, 23, 'role'), (45, 56, 'movie')]}),\n",
       " ('Who director in Hello Stranger?',\n",
       "  {'entities': [(4, 12, 'role'), (16, 30, 'movie'), (4, 10, 'action')]}),\n",
       " ('Who directed Dahmer?',\n",
       "  {'entities': [(13, 19, 'movie'), (4, 12, 'action'), (4, 10, 'action')]}),\n",
       " ('Who wrote the movie One Million Yen Girl?',\n",
       "  {'entities': [(20, 40, 'movie'), (4, 9, 'action')]}),\n",
       " ('Who is the developer of The Last Time I Saw Paris?',\n",
       "  {'entities': [(11, 20, 'role'), (24, 49, 'movie')]}),\n",
       " ('Who is the film editor of the film A Werewolf Boy?',\n",
       "  {'entities': [(11, 22, 'role'), (35, 49, 'movie'), (16, 20, 'action')]}),\n",
       " ('Who oversaw the making of Noises Off', {'entities': [(26, 36, 'movie')]}),\n",
       " ('Who was in charge of directing Dan in Real Life?',\n",
       "  {'entities': [(31, 47, 'movie'), (21, 27, 'action')]}),\n",
       " ('Who was the choreographer of Diary of a Country Priest',\n",
       "  {'entities': [(12, 25, 'role'), (29, 54, 'movie')]}),\n",
       " ('Give me the art director of Dance with a Stranger',\n",
       "  {'entities': [(12, 24, 'role'), (28, 49, 'movie'), (16, 22, 'action')]}),\n",
       " ('Give me the name of the author of The Year of the Wolf',\n",
       "  {'entities': [(24, 30, 'role'), (34, 54, 'movie')]}),\n",
       " (\"I'd like to know the presenter's name for Daniel – Der Zauberer\",\n",
       "  {'entities': [(21, 30, 'role'), (42, 63, 'movie')]}),\n",
       " (\"I'm curious about the person who directed The Prince and the Showgirl\",\n",
       "  {'entities': [(42, 69, 'movie'), (33, 41, 'action'), (33, 39, 'action')]}),\n",
       " ('Identify the animator of A Castle in Italy',\n",
       "  {'entities': [(13, 21, 'role'), (25, 42, 'movie')]}),\n",
       " ('Tell me the creator behind Eraserhead',\n",
       "  {'entities': [(12, 19, 'role'), (27, 37, 'movie')]}),\n",
       " ('Tell me the participant for A New Kind of Love',\n",
       "  {'entities': [(12, 23, 'role'), (28, 46, 'movie')]}),\n",
       " ('Tell me the member of the crew of of Breath',\n",
       "  {'entities': [(12, 33, 'role'), (37, 43, 'movie')]}),\n",
       " (\"What is the voice actor's name for the movie The Young in Heart?\",\n",
       "  {'entities': [(12, 23, 'role'), (45, 63, 'movie')]}),\n",
       " ('Who publisher in Sweethearts?',\n",
       "  {'entities': [(4, 13, 'role'), (17, 28, 'movie')]}),\n",
       " ('Who wrote Lajja?', {'entities': [(10, 15, 'movie'), (4, 9, 'action')]}),\n",
       " ('Who directed the movie The Best Man?',\n",
       "  {'entities': [(23, 35, 'movie'), (4, 12, 'action'), (4, 10, 'action')]}),\n",
       " ('Who is the performer of Money Train?',\n",
       "  {'entities': [(11, 20, 'role'), (24, 35, 'movie')]}),\n",
       " ('Who is the actor of the film Trauma?',\n",
       "  {'entities': [(11, 16, 'role'), (29, 35, 'movie')]}),\n",
       " ('Who oversaw the making of Search and Destroy',\n",
       "  {'entities': [(26, 44, 'movie')]}),\n",
       " ('Who was in charge of directing Elephant?',\n",
       "  {'entities': [(31, 39, 'movie'), (21, 27, 'action')]}),\n",
       " ('Who was the director of World Without End',\n",
       "  {'entities': [(12, 20, 'role'), (24, 41, 'movie'), (12, 18, 'action')]}),\n",
       " ('Give me the screenwriter of De Lift',\n",
       "  {'entities': [(12, 24, 'role'), (28, 35, 'movie')]}),\n",
       " ('Give me the name of the producer of Storm',\n",
       "  {'entities': [(24, 32, 'role'), (36, 41, 'movie'), (24, 31, 'action')]}),\n",
       " (\"I'd like to know the developer's name for Runaway\",\n",
       "  {'entities': [(21, 30, 'role'), (42, 49, 'movie')]}),\n",
       " (\"I'm curious about the person who wrote Paul\",\n",
       "  {'entities': [(39, 43, 'movie'), (33, 38, 'action')]}),\n",
       " ('Identify the director of photography of Of Human Bondage',\n",
       "  {'entities': [(13, 36, 'role'), (40, 56, 'movie'), (13, 19, 'action')]}),\n",
       " ('Tell me the film crew member behind Dare',\n",
       "  {'entities': [(12, 28, 'role'), (36, 40, 'movie')]}),\n",
       " ('Tell me the choreographer for Case 39',\n",
       "  {'entities': [(12, 25, 'role'), (30, 37, 'movie')]}),\n",
       " ('Tell me the art director of Rabbit Hole',\n",
       "  {'entities': [(12, 24, 'role'), (28, 39, 'movie'), (16, 22, 'action')]}),\n",
       " (\"What is the author's name for the movie Danton?\",\n",
       "  {'entities': [(12, 18, 'role'), (40, 46, 'movie')]}),\n",
       " ('Who presenter in Killers?',\n",
       "  {'entities': [(4, 13, 'role'), (17, 24, 'movie')]}),\n",
       " ('Who directed 16 Years of Alcohol?',\n",
       "  {'entities': [(13, 32, 'movie'), (4, 12, 'action'), (4, 10, 'action')]}),\n",
       " ('Who wrote the movie Duplicity?',\n",
       "  {'entities': [(20, 29, 'movie'), (4, 9, 'action')]}),\n",
       " ('Who is the creator of Racing Stripes?',\n",
       "  {'entities': [(11, 18, 'role'), (22, 36, 'movie')]}),\n",
       " ('Who is the participant of the film Darfur?',\n",
       "  {'entities': [(11, 22, 'role'), (35, 41, 'movie')]}),\n",
       " ('Who oversaw the making of Shamo', {'entities': [(26, 31, 'movie')]}),\n",
       " ('Who was in charge of directing The Wizard of Gore?',\n",
       "  {'entities': [(31, 49, 'movie'), (21, 27, 'action')]}),\n",
       " ('Who was the publisher of Dark Wolf',\n",
       "  {'entities': [(12, 21, 'role'), (25, 34, 'movie')]}),\n",
       " ('Give me the musical conductor of I Come in Peace',\n",
       "  {'entities': [(12, 29, 'role'), (33, 48, 'movie')]}),\n",
       " ('Give me the name of the operator of Dark Water',\n",
       "  {'entities': [(24, 32, 'role'), (36, 46, 'movie')]}),\n",
       " (\"I'd like to know the performer's name for Darkness\",\n",
       "  {'entities': [(21, 30, 'role'), (42, 50, 'movie')]}),\n",
       " (\"I'm curious about the person who directed Darling\",\n",
       "  {'entities': [(42, 49, 'movie'), (33, 41, 'action'), (33, 39, 'action')]}),\n",
       " ('Identify the cast of The Ten',\n",
       "  {'entities': [(13, 17, 'role'), (21, 28, 'movie')]}),\n",
       " ('Tell me the cast member behind Eye of the Beholder',\n",
       "  {'entities': [(12, 23, 'role'), (31, 50, 'movie')]}),\n",
       " ('Tell me the director for The Crush',\n",
       "  {'entities': [(12, 20, 'role'), (25, 34, 'movie'), (12, 18, 'action')]}),\n",
       " ('Tell me the screenwriter of After Death',\n",
       "  {'entities': [(12, 24, 'role'), (28, 39, 'movie')]}),\n",
       " (\"What is the producer's name for the movie Jungle Book?\",\n",
       "  {'entities': [(12, 20, 'role'), (42, 53, 'movie'), (12, 19, 'action')]}),\n",
       " (\"Who developer in Margaret's Museum?\",\n",
       "  {'entities': [(4, 13, 'role'), (17, 34, 'movie')]}),\n",
       " ('Who wrote The Inquiry?',\n",
       "  {'entities': [(10, 21, 'movie'), (4, 9, 'action')]}),\n",
       " ('Who directed the movie Home from the Hill?',\n",
       "  {'entities': [(23, 41, 'movie'), (4, 12, 'action'), (4, 10, 'action')]}),\n",
       " (\"Who is the film crew member of Frenchman's Creek?\",\n",
       "  {'entities': [(11, 27, 'role'), (31, 48, 'movie')]}),\n",
       " ('Who is the choreographer of the film Le Radeau de la Méduse?',\n",
       "  {'entities': [(11, 24, 'role'), (37, 59, 'movie')]}),\n",
       " ('Who oversaw the making of Scorpion in Love',\n",
       "  {'entities': [(26, 42, 'movie')]}),\n",
       " ('Who was in charge of directing Mississippi Mermaid?',\n",
       "  {'entities': [(31, 50, 'movie'), (21, 27, 'action')]}),\n",
       " ('Who was the presenter of Treasure of the Four Crowns',\n",
       "  {'entities': [(12, 21, 'role'), (25, 52, 'movie')]}),\n",
       " ('Give me the narrator of The Blue Butterfly',\n",
       "  {'entities': [(12, 20, 'role'), (24, 42, 'movie')]}),\n",
       " ('Give me the name of the animator of The Secret of Santa Vittoria',\n",
       "  {'entities': [(24, 32, 'role'), (36, 64, 'movie')]}),\n",
       " (\"I'd like to know the creator's name for The Letter\",\n",
       "  {'entities': [(21, 28, 'role'), (40, 50, 'movie')]}),\n",
       " (\"I'm curious about the person who wrote La jaula de oro\",\n",
       "  {'entities': [(39, 54, 'movie'), (33, 38, 'action')]}),\n",
       " ('Identify the member of the crew of of The Gilded Cage',\n",
       "  {'entities': [(13, 34, 'role'), (38, 53, 'movie')]}),\n",
       " ('Tell me the voice actor behind Miele',\n",
       "  {'entities': [(12, 23, 'role'), (31, 36, 'movie')]}),\n",
       " (\"Tell me the publisher for L'argent des autres\",\n",
       "  {'entities': [(12, 21, 'role'), (26, 45, 'movie')]}),\n",
       " (\"Tell me the musical conductor of Other People's Money\",\n",
       "  {'entities': [(12, 29, 'role'), (33, 53, 'movie')]}),\n",
       " (\"What is the operator's name for the movie The Weight of Chains?\",\n",
       "  {'entities': [(12, 20, 'role'), (42, 62, 'movie')]}),\n",
       " ('Who performer in The Weight of Water?',\n",
       "  {'entities': [(4, 13, 'role'), (17, 36, 'movie')]}),\n",
       " ('Who directed Happiness?',\n",
       "  {'entities': [(13, 22, 'movie'), (4, 12, 'action'), (4, 10, 'action')]}),\n",
       " ('Who wrote the movie The Lavender Hill Mob?',\n",
       "  {'entities': [(20, 41, 'movie'), (4, 9, 'action')]}),\n",
       " ('Who is the cast member of The Black Torment?',\n",
       "  {'entities': [(11, 22, 'role'), (26, 43, 'movie')]}),\n",
       " ('Who is the director of the film The Changeling?',\n",
       "  {'entities': [(11, 19, 'role'), (32, 46, 'movie'), (11, 17, 'action')]}),\n",
       " ('Who oversaw the making of King of the Ants',\n",
       "  {'entities': [(26, 42, 'movie')]}),\n",
       " ('Who was in charge of directing The Affair of the Necklace?',\n",
       "  {'entities': [(31, 57, 'movie'), (21, 27, 'action')]}),\n",
       " ('Who was the developer of Sentimental Destinies',\n",
       "  {'entities': [(12, 21, 'role'), (25, 46, 'movie')]}),\n",
       " (\"Give me the film editor of Troma's War\",\n",
       "  {'entities': [(12, 23, 'role'), (27, 38, 'movie'), (17, 21, 'action')]}),\n",
       " ('Give me the name of the director of photography of House of the Sleeping Beauties',\n",
       "  {'entities': [(24, 47, 'role'), (51, 81, 'movie'), (24, 30, 'action')]}),\n",
       " (\"I'd like to know the film crew member's name for Las vidas de Celia\",\n",
       "  {'entities': [(21, 37, 'role'), (49, 67, 'movie')]}),\n",
       " (\"I'm curious about the person who directed The Chalk Garden\",\n",
       "  {'entities': [(42, 58, 'movie'), (33, 41, 'action'), (33, 39, 'action')]}),\n",
       " ('Identify the art director of The Heart Is a Dark Forest',\n",
       "  {'entities': [(13, 25, 'role'), (29, 55, 'movie'), (17, 23, 'action')]}),\n",
       " ('Tell me the author behind The Heart of Jenin',\n",
       "  {'entities': [(12, 18, 'role'), (26, 44, 'movie')]}),\n",
       " ('Tell me the presenter for Beneath the 12-Mile Reef',\n",
       "  {'entities': [(12, 21, 'role'), (26, 50, 'movie')]}),\n",
       " ('Tell me the narrator of The Year My Parents Went on Vacation',\n",
       "  {'entities': [(12, 20, 'role'), (24, 60, 'movie')]}),\n",
       " (\"What is the animator's name for the movie The Year My Voice Broke?\",\n",
       "  {'entities': [(12, 20, 'role'), (42, 65, 'movie')]}),\n",
       " ('Who creator in The Gospel of John?',\n",
       "  {'entities': [(4, 11, 'role'), (15, 33, 'movie')]}),\n",
       " ('Who wrote Under the Sun?',\n",
       "  {'entities': [(10, 23, 'movie'), (4, 9, 'action')]}),\n",
       " ('Who directed the movie House of Cards?',\n",
       "  {'entities': [(23, 37, 'movie'), (4, 12, 'action'), (4, 10, 'action')]}),\n",
       " ('Who is the voice actor of The Child?',\n",
       "  {'entities': [(11, 22, 'role'), (26, 35, 'movie')]}),\n",
       " ('Who is the publisher of the film The Guardian?',\n",
       "  {'entities': [(11, 20, 'role'), (33, 45, 'movie')]}),\n",
       " ('Who oversaw the making of Crimes of the Heart',\n",
       "  {'entities': [(26, 45, 'movie')]}),\n",
       " ('Who was in charge of directing She-Wolf of London?',\n",
       "  {'entities': [(31, 49, 'movie'), (21, 27, 'action')]}),\n",
       " ('Who was the performer of Le Concert',\n",
       "  {'entities': [(12, 21, 'role'), (25, 35, 'movie')]}),\n",
       " ('Give me the actor of My Afternoons with Margueritte',\n",
       "  {'entities': [(12, 17, 'role'), (21, 51, 'movie')]}),\n",
       " ('Give me the name of the cast of The Coverup',\n",
       "  {'entities': [(24, 28, 'role'), (32, 43, 'movie')]}),\n",
       " (\"I'd like to know the cast member's name for Mr. Skeffington\",\n",
       "  {'entities': [(21, 32, 'role'), (44, 59, 'movie')]}),\n",
       " (\"I'm curious about the person who wrote Kings and Queen\",\n",
       "  {'entities': [(39, 54, 'movie'), (33, 38, 'action')]}),\n",
       " ('Identify the screenwriter of Das Leben ist zu lang',\n",
       "  {'entities': [(13, 25, 'role'), (29, 50, 'movie')]}),\n",
       " (\"Tell me the producer behind Things to Do in Denver When You're Dead\",\n",
       "  {'entities': [(12, 20, 'role'), (28, 67, 'movie'), (12, 19, 'action')]}),\n",
       " ('Tell me the developer for Let Sleeping Corpses Lie',\n",
       "  {'entities': [(12, 21, 'role'), (26, 50, 'movie')]}),\n",
       " ('Tell me the film editor of Six Degrees of Separation',\n",
       "  {'entities': [(12, 23, 'role'), (27, 52, 'movie'), (17, 21, 'action')]}),\n",
       " (\"What is the director of photography's name for the movie The Song of Sparrows?\",\n",
       "  {'entities': [(12, 35, 'role'), (57, 77, 'movie'), (12, 18, 'action')]}),\n",
       " ('Who film crew member in Sylvia?',\n",
       "  {'entities': [(4, 20, 'role'), (24, 30, 'movie')]}),\n",
       " (\"Who directed River's Edge?\",\n",
       "  {'entities': [(13, 25, 'movie'), (4, 12, 'action'), (4, 10, 'action')]}),\n",
       " ('Who wrote the movie Hot Millions?',\n",
       "  {'entities': [(20, 32, 'movie'), (4, 9, 'action')]}),\n",
       " ('Who is the author of The Page Turner?',\n",
       "  {'entities': [(11, 17, 'role'), (21, 36, 'movie')]}),\n",
       " ('Who is the presenter of the film Rosemary?',\n",
       "  {'entities': [(11, 20, 'role'), (33, 41, 'movie')]}),\n",
       " ('Who oversaw the making of Mai Mai Miracle',\n",
       "  {'entities': [(26, 41, 'movie')]}),\n",
       " ('Who was in charge of directing Blind Detective?',\n",
       "  {'entities': [(31, 46, 'movie'), (21, 27, 'action')]}),\n",
       " ('Who was the creator of Ship of Fools',\n",
       "  {'entities': [(12, 19, 'role'), (23, 36, 'movie')]}),\n",
       " ('Give me the participant of The Osterman Weekend',\n",
       "  {'entities': [(12, 23, 'role'), (27, 47, 'movie')]}),\n",
       " ('Give me the name of the member of the crew of of The Scent of Yvonne',\n",
       "  {'entities': [(24, 45, 'role'), (49, 68, 'movie')]}),\n",
       " (\"I'd like to know the voice actor's name for The Private Life of Henry VIII\",\n",
       "  {'entities': [(21, 32, 'role'), (44, 74, 'movie')]}),\n",
       " (\"I'm curious about the person who directed Quemar las Naves\",\n",
       "  {'entities': [(42, 58, 'movie'), (33, 41, 'action'), (33, 39, 'action')]}),\n",
       " ('Identify the musical conductor of The Believers',\n",
       "  {'entities': [(13, 30, 'role'), (34, 47, 'movie')]}),\n",
       " ('Tell me the operator behind Salt of this Sea',\n",
       "  {'entities': [(12, 20, 'role'), (28, 44, 'movie')]}),\n",
       " ('Tell me the performer for The Bedroom Window',\n",
       "  {'entities': [(12, 21, 'role'), (26, 44, 'movie')]}),\n",
       " ('Tell me the actor of Potiche',\n",
       "  {'entities': [(12, 17, 'role'), (21, 28, 'movie')]}),\n",
       " (\"What is the cast's name for the movie Here Comes the Boom?\",\n",
       "  {'entities': [(12, 16, 'role'), (38, 57, 'movie')]}),\n",
       " (\"Who cast member in Spider's Web?\",\n",
       "  {'entities': [(4, 15, 'role'), (19, 31, 'movie')]}),\n",
       " ('Who wrote The Brain?', {'entities': [(10, 19, 'movie'), (4, 9, 'action')]}),\n",
       " ('Who directed the movie Valley of the Dolls?',\n",
       "  {'entities': [(23, 42, 'movie'), (4, 12, 'action'), (4, 10, 'action')]}),\n",
       " ('Who is the producer of Last of the Dogmen?',\n",
       "  {'entities': [(11, 19, 'role'), (23, 41, 'movie'), (11, 18, 'action')]}),\n",
       " ('Who is the developer of the film Batteries Not Included?',\n",
       "  {'entities': [(11, 20, 'role'), (33, 55, 'movie')]}),\n",
       " ('Who oversaw the making of The Baby of Mâcon',\n",
       "  {'entities': [(26, 43, 'movie')]}),\n",
       " ('Who was in charge of directing Little Man Tate?',\n",
       "  {'entities': [(31, 46, 'movie'), (21, 27, 'action')]}),\n",
       " ('Who was the film crew member of Blue Thunder',\n",
       "  {'entities': [(12, 28, 'role'), (32, 44, 'movie')]}),\n",
       " ('Give me the choreographer of The Flying Classroom',\n",
       "  {'entities': [(12, 25, 'role'), (29, 49, 'movie')]}),\n",
       " ('Give me the name of the art director of An Impudent Girl',\n",
       "  {'entities': [(24, 36, 'role'), (40, 56, 'movie'), (28, 34, 'action')]}),\n",
       " (\"I'd like to know the author's name for How Much Does the Trojan Horse Weigh?\",\n",
       "  {'entities': [(21, 27, 'role'), (39, 76, 'movie')]}),\n",
       " (\"I'm curious about the person who wrote The Yellow Handkerchief\",\n",
       "  {'entities': [(39, 62, 'movie'), (33, 38, 'action')]}),\n",
       " ('Identify the narrator of The Promised Land',\n",
       "  {'entities': [(13, 21, 'role'), (25, 42, 'movie')]}),\n",
       " ('Tell me the animator behind Celtic Pride',\n",
       "  {'entities': [(12, 20, 'role'), (28, 40, 'movie')]}),\n",
       " (\"Tell me the creator for The Brink's Job\",\n",
       "  {'entities': [(12, 19, 'role'), (24, 39, 'movie')]}),\n",
       " ('Tell me the participant of The Competition',\n",
       "  {'entities': [(12, 23, 'role'), (27, 42, 'movie')]}),\n",
       " (\"What is the member of the crew of's name for the movie Quatermass and the Pit?\",\n",
       "  {'entities': [(12, 33, 'role'), (55, 77, 'movie')]}),\n",
       " ('Who voice actor in The Corn Is Green?',\n",
       "  {'entities': [(4, 15, 'role'), (19, 36, 'movie')]}),\n",
       " ('Who directed The Teahouse of the August Moon?',\n",
       "  {'entities': [(13, 44, 'movie'), (4, 12, 'action'), (4, 10, 'action')]}),\n",
       " ('Who wrote the movie The Last Detail?',\n",
       "  {'entities': [(20, 35, 'movie'), (4, 9, 'action')]}),\n",
       " ('Who is the operator of The Silence?',\n",
       "  {'entities': [(11, 19, 'role'), (23, 34, 'movie')]}),\n",
       " ('Who is the performer of the film Bang the Drum Slowly?',\n",
       "  {'entities': [(11, 20, 'role'), (33, 53, 'movie')]}),\n",
       " ('Who oversaw the making of Testament', {'entities': [(26, 35, 'movie')]}),\n",
       " ('Who was in charge of directing The Mean Season?',\n",
       "  {'entities': [(31, 46, 'movie'), (21, 27, 'action')]}),\n",
       " ('Who was the cast member of Two for the Money',\n",
       "  {'entities': [(12, 23, 'role'), (27, 44, 'movie')]}),\n",
       " ('Give me the director of Black-White-Red Four Poster',\n",
       "  {'entities': [(12, 20, 'role'), (24, 51, 'movie'), (12, 18, 'action')]}),\n",
       " ('Give me the name of the screenwriter of Cradle Will Rock',\n",
       "  {'entities': [(24, 36, 'role'), (40, 56, 'movie')]}),\n",
       " (\"I'd like to know the producer's name for Sorority Boys\",\n",
       "  {'entities': [(21, 29, 'role'), (41, 54, 'movie'), (21, 28, 'action')]}),\n",
       " (\"I'm curious about the person who directed The Seventh Cross\",\n",
       "  {'entities': [(42, 59, 'movie'), (33, 41, 'action'), (33, 39, 'action')]}),\n",
       " ('Identify the film editor of Silent Rage',\n",
       "  {'entities': [(13, 24, 'role'), (28, 39, 'movie'), (18, 22, 'action')]}),\n",
       " ('Tell me the director of photography behind The Nest',\n",
       "  {'entities': [(12, 35, 'role'), (43, 51, 'movie'), (12, 18, 'action')]}),\n",
       " ('Tell me the film crew member for The Ultimate Gift',\n",
       "  {'entities': [(12, 28, 'role'), (33, 50, 'movie')]}),\n",
       " ('Tell me the choreographer of California Suite',\n",
       "  {'entities': [(12, 25, 'role'), (29, 45, 'movie')]}),\n",
       " (\"What is the art director's name for the movie Life Actually?\",\n",
       "  {'entities': [(12, 24, 'role'), (46, 59, 'movie'), (16, 22, 'action')]}),\n",
       " ('Who author in The Man on the Train?',\n",
       "  {'entities': [(4, 10, 'role'), (14, 34, 'movie')]}),\n",
       " ('Who wrote Janosik: A True Story?',\n",
       "  {'entities': [(10, 31, 'movie'), (4, 9, 'action')]}),\n",
       " ('Who directed the movie Panther?',\n",
       "  {'entities': [(23, 30, 'movie'), (4, 12, 'action'), (4, 10, 'action')]}),\n",
       " ('Who is the animator of Joanna?',\n",
       "  {'entities': [(11, 19, 'role'), (23, 29, 'movie')]}),\n",
       " ('Who is the creator of the film The Piano?',\n",
       "  {'entities': [(11, 18, 'role'), (31, 40, 'movie')]}),\n",
       " ('Who oversaw the making of Kabul Express',\n",
       "  {'entities': [(26, 39, 'movie')]}),\n",
       " ('Who was in charge of directing Wilbur Wants to Kill Himself?',\n",
       "  {'entities': [(31, 59, 'movie'), (21, 27, 'action')]}),\n",
       " ('Who was the voice actor of David Copperfield',\n",
       "  {'entities': [(12, 23, 'role'), (27, 44, 'movie')]}),\n",
       " ('Give me the publisher of Druids',\n",
       "  {'entities': [(12, 21, 'role'), (25, 31, 'movie')]}),\n",
       " ('Give me the name of the musical conductor of The Sun King',\n",
       "  {'entities': [(24, 41, 'role'), (45, 57, 'movie')]}),\n",
       " (\"I'd like to know the operator's name for Kudrat\",\n",
       "  {'entities': [(21, 29, 'role'), (41, 47, 'movie')]}),\n",
       " (\"I'm curious about the person who wrote Max Pinlig\",\n",
       "  {'entities': [(39, 49, 'movie'), (33, 38, 'action')]}),\n",
       " ('Identify the actor of Max et Jérémie',\n",
       "  {'entities': [(13, 18, 'role'), (22, 36, 'movie')]}),\n",
       " ('Tell me the cast behind Little Zizou',\n",
       "  {'entities': [(12, 16, 'role'), (24, 36, 'movie')]}),\n",
       " ('Tell me the cast member for Beyond the Mat',\n",
       "  {'entities': [(12, 23, 'role'), (28, 42, 'movie')]}),\n",
       " ('Tell me the director of Czech-Made Man',\n",
       "  {'entities': [(12, 20, 'role'), (24, 38, 'movie'), (12, 18, 'action')]}),\n",
       " (\"What is the screenwriter's name for the movie Mujhe Kucch Kehna Hai?\",\n",
       "  {'entities': [(12, 24, 'role'), (46, 67, 'movie')]}),\n",
       " (\"Who producer in My Father's Bike?\",\n",
       "  {'entities': [(4, 12, 'role'), (16, 32, 'movie'), (4, 11, 'action')]}),\n",
       " ('Who directed Hope?',\n",
       "  {'entities': [(13, 17, 'movie'), (4, 12, 'action'), (4, 10, 'action')]}),\n",
       " ('Who wrote the movie Operacja Samum?',\n",
       "  {'entities': [(20, 34, 'movie'), (4, 9, 'action')]}),\n",
       " ('Who is the director of photography of The Storm?',\n",
       "  {'entities': [(11, 34, 'role'), (38, 47, 'movie'), (11, 17, 'action')]}),\n",
       " ('Who is the film crew member of the film Dead End?',\n",
       "  {'entities': [(11, 27, 'role'), (40, 48, 'movie')]}),\n",
       " ('Who oversaw the making of The Dead Girl',\n",
       "  {'entities': [(26, 39, 'movie')]}),\n",
       " ('Who was in charge of directing Dead Presidents?',\n",
       "  {'entities': [(31, 46, 'movie'), (21, 27, 'action')]}),\n",
       " ('Who was the author of Deadline',\n",
       "  {'entities': [(12, 18, 'role'), (22, 30, 'movie')]}),\n",
       " (\"Give me the presenter of Lion's Den\",\n",
       "  {'entities': [(12, 21, 'role'), (25, 35, 'movie')]}),\n",
       " ('Give me the name of the narrator of Pistol Whipped',\n",
       "  {'entities': [(24, 32, 'role'), (36, 50, 'movie')]}),\n",
       " (\"I'd like to know the animator's name for Money Is Not Everything\",\n",
       "  {'entities': [(21, 29, 'role'), (41, 64, 'movie')]}),\n",
       " (\"I'm curious about the person who directed Debtocracy\",\n",
       "  {'entities': [(42, 52, 'movie'), (33, 41, 'action'), (33, 39, 'action')]}),\n",
       " ('Identify the participant of DonT Stop',\n",
       "  {'entities': [(13, 24, 'role'), (28, 37, 'movie')]}),\n",
       " ('Tell me the member of the crew of behind Decoy',\n",
       "  {'entities': [(12, 33, 'role'), (41, 46, 'movie')]}),\n",
       " ('Tell me the voice actor for Strangeland',\n",
       "  {'entities': [(12, 23, 'role'), (28, 39, 'movie')]}),\n",
       " ('Tell me the publisher of Deep Blue',\n",
       "  {'entities': [(12, 21, 'role'), (25, 34, 'movie')]}),\n",
       " (\"What is the musical conductor's name for the movie Deep Core?\",\n",
       "  {'entities': [(12, 29, 'role'), (51, 60, 'movie')]}),\n",
       " ('Who operator in DeepStar Six?',\n",
       "  {'entities': [(4, 12, 'role'), (16, 28, 'movie')]}),\n",
       " ('Who wrote Deewaar?', {'entities': [(10, 17, 'movie'), (4, 9, 'action')]}),\n",
       " ('Who directed the movie Defendor?',\n",
       "  {'entities': [(23, 31, 'movie'), (4, 12, 'action'), (4, 10, 'action')]}),\n",
       " ('Who is the cast of The Ex?',\n",
       "  {'entities': [(11, 15, 'role'), (19, 25, 'movie')]}),\n",
       " ('Who is the cast member of the film Sweet Smell of Success?',\n",
       "  {'entities': [(11, 22, 'role'), (35, 57, 'movie')]}),\n",
       " ('Who oversaw the making of The Way', {'entities': [(26, 33, 'movie')]}),\n",
       " ('Who was in charge of directing Yours, Mine and Ours?',\n",
       "  {'entities': [(31, 51, 'movie'), (21, 27, 'action')]}),\n",
       " ('Who was the producer of Catch the Heat',\n",
       "  {'entities': [(12, 20, 'role'), (24, 38, 'movie'), (12, 19, 'action')]}),\n",
       " ('Give me the developer of Deliver Us from Evil',\n",
       "  {'entities': [(12, 21, 'role'), (25, 45, 'movie')]}),\n",
       " ('Give me the name of the film editor of 8-Ball',\n",
       "  {'entities': [(24, 35, 'role'), (39, 45, 'movie'), (29, 33, 'action')]}),\n",
       " (\"I'd like to know the director of photography's name for The Wings of Eagles\",\n",
       "  {'entities': [(21, 44, 'role'), (56, 75, 'movie'), (21, 27, 'action')]}),\n",
       " (\"I'm curious about the person who wrote Nearest to Heaven\",\n",
       "  {'entities': [(39, 56, 'movie'), (33, 38, 'action')]}),\n",
       " ('Identify the choreographer of Dementia 13',\n",
       "  {'entities': [(13, 26, 'role'), (30, 41, 'movie')]}),\n",
       " ('Tell me the art director behind Johnny Eager',\n",
       "  {'entities': [(12, 24, 'role'), (32, 44, 'movie'), (16, 22, 'action')]}),\n",
       " ('Tell me the author for Swing Girls',\n",
       "  {'entities': [(12, 18, 'role'), (23, 34, 'movie')]}),\n",
       " ('Tell me the presenter of Inazuma Eleven: Saikyō Gundan Ōga Shūrai',\n",
       "  {'entities': [(12, 21, 'role'), (25, 65, 'movie')]}),\n",
       " (\"What is the narrator's name for the movie The Dudesons Movie?\",\n",
       "  {'entities': [(12, 20, 'role'), (42, 60, 'movie')]}),\n",
       " ('Who animator in Mr. Vampire?',\n",
       "  {'entities': [(4, 12, 'role'), (16, 27, 'movie')]}),\n",
       " (\"Who directed Man's Favorite Sport??\",\n",
       "  {'entities': [(13, 34, 'movie'), (4, 12, 'action'), (4, 10, 'action')]}),\n",
       " ('Who wrote the movie Helmiä ja sikoja?',\n",
       "  {'entities': [(20, 36, 'movie'), (4, 9, 'action')]}),\n",
       " ('Who is the member of the crew of of The House?',\n",
       "  {'entities': [(11, 32, 'role'), (36, 45, 'movie')]}),\n",
       " ('Who is the voice actor of the film Demonlover?',\n",
       "  {'entities': [(11, 22, 'role'), (35, 45, 'movie')]}),\n",
       " ('Who oversaw the making of The Unforgiven',\n",
       "  {'entities': [(26, 40, 'movie')]}),\n",
       " ('Who was in charge of directing Kadal?',\n",
       "  {'entities': [(31, 36, 'movie'), (21, 27, 'action')]}),\n",
       " ('Who was the operator of The Last Wedding',\n",
       "  {'entities': [(12, 20, 'role'), (24, 40, 'movie')]}),\n",
       " ('Give me the performer of Vendeta',\n",
       "  {'entities': [(12, 21, 'role'), (25, 32, 'movie')]}),\n",
       " ('Give me the name of the actor of The Cowboy and the Lady',\n",
       "  {'entities': [(24, 29, 'role'), (33, 56, 'movie')]}),\n",
       " (\"I'd like to know the cast's name for Fermat's Room\",\n",
       "  {'entities': [(21, 25, 'role'), (37, 50, 'movie')]}),\n",
       " (\"I'm curious about the person who directed Aadukalam\",\n",
       "  {'entities': [(42, 51, 'movie'), (33, 41, 'action'), (33, 39, 'action')]}),\n",
       " ('Identify the director of Princess',\n",
       "  {'entities': [(13, 21, 'role'), (25, 33, 'movie'), (13, 19, 'action')]}),\n",
       " ('Tell me the screenwriter behind Garbage Prince',\n",
       "  {'entities': [(12, 24, 'role'), (32, 46, 'movie')]}),\n",
       " ('Tell me the producer for Sibelius',\n",
       "  {'entities': [(12, 20, 'role'), (25, 33, 'movie'), (12, 19, 'action')]}),\n",
       " ('Tell me the developer of Blind Dating',\n",
       "  {'entities': [(12, 21, 'role'), (25, 37, 'movie')]}),\n",
       " (\"What is the film editor's name for the movie Canned Dreams?\",\n",
       "  {'entities': [(12, 23, 'role'), (45, 58, 'movie'), (17, 21, 'action')]}),\n",
       " ('Who director of photography in Grave Encounters?',\n",
       "  {'entities': [(4, 27, 'role'), (31, 47, 'movie'), (4, 10, 'action')]}),\n",
       " ('Who wrote Marley?', {'entities': [(10, 16, 'movie'), (4, 9, 'action')]}),\n",
       " ('Who directed the movie Everything Must Go?',\n",
       "  {'entities': [(23, 41, 'movie'), (4, 12, 'action'), (4, 10, 'action')]}),\n",
       " (\"Who is the art director of De l'autre côté du lit?\",\n",
       "  {'entities': [(11, 23, 'role'), (27, 49, 'movie'), (15, 21, 'action')]}),\n",
       " ('Who is the author of the film Valo?',\n",
       "  {'entities': [(11, 17, 'role'), (30, 34, 'movie')]}),\n",
       " ('Who oversaw the making of P2', {'entities': [(26, 28, 'movie')]}),\n",
       " ('Who was in charge of directing Taboo?',\n",
       "  {'entities': [(31, 36, 'movie'), (21, 27, 'action')]}),\n",
       " ('Who was the animator of Not One Less',\n",
       "  {'entities': [(12, 20, 'role'), (24, 36, 'movie')]}),\n",
       " ('Give me the creator of Bright Star',\n",
       "  {'entities': [(12, 19, 'role'), (23, 34, 'movie')]}),\n",
       " ('Give me the name of the participant of Shadowzone',\n",
       "  {'entities': [(24, 35, 'role'), (39, 49, 'movie')]}),\n",
       " (\"I'd like to know the member of the crew of's name for Swing Time\",\n",
       "  {'entities': [(21, 42, 'role'), (54, 64, 'movie')]}),\n",
       " (\"I'm curious about the person who wrote The Banger Sisters\",\n",
       "  {'entities': [(39, 57, 'movie'), (33, 38, 'action')]}),\n",
       " ('Identify the publisher of Hurricane',\n",
       "  {'entities': [(13, 22, 'role'), (26, 35, 'movie')]}),\n",
       " ('Tell me the musical conductor behind Between Strangers',\n",
       "  {'entities': [(12, 29, 'role'), (37, 54, 'movie')]}),\n",
       " ('Tell me the operator for Monkeybone',\n",
       "  {'entities': [(12, 20, 'role'), (25, 35, 'movie')]}),\n",
       " (\"Tell me the performer of Gone Fishin'\",\n",
       "  {'entities': [(12, 21, 'role'), (25, 37, 'movie')]}),\n",
       " (\"What is the actor's name for the movie The Holcroft Covenant?\",\n",
       "  {'entities': [(12, 17, 'role'), (39, 60, 'movie')]}),\n",
       " ('Who cast in The Albanian?',\n",
       "  {'entities': [(4, 8, 'role'), (12, 24, 'movie')]}),\n",
       " ('Who directed El otro?',\n",
       "  {'entities': [(13, 20, 'movie'), (4, 12, 'action'), (4, 10, 'action')]}),\n",
       " ('Who wrote the movie The Assault?',\n",
       "  {'entities': [(20, 31, 'movie'), (4, 9, 'action')]}),\n",
       " ('Who is the screenwriter of The Architect?',\n",
       "  {'entities': [(11, 23, 'role'), (27, 40, 'movie')]}),\n",
       " ('Who is the producer of the film Heartbreaker?',\n",
       "  {'entities': [(11, 19, 'role'), (32, 44, 'movie'), (11, 18, 'action')]}),\n",
       " ('Who oversaw the making of One 2 Ka 4', {'entities': [(26, 36, 'movie')]}),\n",
       " ('Who was in charge of directing Hana and Alice?',\n",
       "  {'entities': [(31, 45, 'movie'), (21, 27, 'action')]}),\n",
       " ('Who was the director of photography of The Beekeeper',\n",
       "  {'entities': [(12, 35, 'role'), (39, 52, 'movie'), (12, 18, 'action')]}),\n",
       " ('Give me the film crew member of The Lair of the White Worm',\n",
       "  {'entities': [(12, 28, 'role'), (32, 58, 'movie')]}),\n",
       " ('Give me the name of the choreographer of August',\n",
       "  {'entities': [(24, 37, 'role'), (41, 47, 'movie')]}),\n",
       " (\"I'd like to know the art director's name for Chill Factor\",\n",
       "  {'entities': [(21, 33, 'role'), (45, 57, 'movie'), (25, 31, 'action')]}),\n",
       " (\"I'm curious about the person who directed Swing Vote\",\n",
       "  {'entities': [(42, 52, 'movie'), (33, 41, 'action'), (33, 39, 'action')]}),\n",
       " ('Identify the presenter of The Commander',\n",
       "  {'entities': [(13, 22, 'role'), (26, 39, 'movie')]}),\n",
       " ('Tell me the narrator behind Boom Town',\n",
       "  {'entities': [(12, 20, 'role'), (28, 37, 'movie')]}),\n",
       " ('Tell me the animator for The Scent of Green Papaya',\n",
       "  {'entities': [(12, 20, 'role'), (25, 50, 'movie')]}),\n",
       " ('Tell me the creator of The Polar Bear',\n",
       "  {'entities': [(12, 19, 'role'), (23, 37, 'movie')]}),\n",
       " (\"What is the participant's name for the movie The Conqueror?\",\n",
       "  {'entities': [(12, 23, 'role'), (45, 58, 'movie')]}),\n",
       " ('Who member of the crew of in The Falcon and the Snowman?',\n",
       "  {'entities': [(4, 25, 'role'), (29, 55, 'movie')]}),\n",
       " ('Who wrote 5 Fingers?', {'entities': [(10, 19, 'movie'), (4, 9, 'action')]}),\n",
       " ('Who directed the movie Fireproof?',\n",
       "  {'entities': [(23, 32, 'movie'), (4, 12, 'action'), (4, 10, 'action')]}),\n",
       " (\"Who is the musical conductor of The Fireman's Ball?\",\n",
       "  {'entities': [(11, 28, 'role'), (32, 50, 'movie')]}),\n",
       " ('Who is the operator of the film Dragonfly?',\n",
       "  {'entities': [(11, 19, 'role'), (32, 41, 'movie')]}),\n",
       " ('Who oversaw the making of Büyü', {'entities': [(26, 30, 'movie')]}),\n",
       " ('Who was in charge of directing Ip Man 2?',\n",
       "  {'entities': [(31, 39, 'movie'), (21, 27, 'action')]}),\n",
       " ('Who was the cast of An American Haunting',\n",
       "  {'entities': [(12, 16, 'role'), (20, 40, 'movie')]}),\n",
       " ('Give me the cast member of Sphinx',\n",
       "  {'entities': [(12, 23, 'role'), (27, 33, 'movie')]}),\n",
       " ('Give me the name of the director of The Vanishing Point',\n",
       "  {'entities': [(24, 32, 'role'), (36, 55, 'movie'), (24, 30, 'action')]}),\n",
       " (\"I'd like to know the screenwriter's name for Criminal Law\",\n",
       "  {'entities': [(21, 33, 'role'), (45, 57, 'movie')]}),\n",
       " (\"I'm curious about the person who wrote Beau Travail\",\n",
       "  {'entities': [(39, 51, 'movie'), (33, 38, 'action')]}),\n",
       " ('Identify the developer of The Fox and the Child',\n",
       "  {'entities': [(13, 22, 'role'), (26, 47, 'movie')]}),\n",
       " ('Tell me the film editor behind The Reivers',\n",
       "  {'entities': [(12, 23, 'role'), (31, 42, 'movie'), (17, 21, 'action')]}),\n",
       " ('Tell me the director of photography for Winners and Sinners',\n",
       "  {'entities': [(12, 35, 'role'), (40, 59, 'movie'), (12, 18, 'action')]}),\n",
       " ('Tell me the film crew member of Ghost of Mae Nak',\n",
       "  {'entities': [(12, 28, 'role'), (32, 48, 'movie')]}),\n",
       " (\"What is the choreographer's name for the movie Chandramukhi?\",\n",
       "  {'entities': [(12, 25, 'role'), (47, 59, 'movie')]}),\n",
       " ('Who art director in Affliction?',\n",
       "  {'entities': [(4, 16, 'role'), (20, 30, 'movie'), (8, 14, 'action')]}),\n",
       " ('Who directed The General?',\n",
       "  {'entities': [(13, 24, 'movie'), (4, 12, 'action'), (4, 10, 'action')]}),\n",
       " ('Who wrote the movie The General Died at Dawn?',\n",
       "  {'entities': [(20, 44, 'movie'), (4, 9, 'action')]}),\n",
       " ('Who is the narrator of An Eye for an Eye?',\n",
       "  {'entities': [(11, 19, 'role'), (23, 40, 'movie')]}),\n",
       " ('Who is the animator of the film Big Man Japan?',\n",
       "  {'entities': [(11, 19, 'role'), (32, 45, 'movie')]}),\n",
       " ('Who oversaw the making of Holy Man', {'entities': [(26, 34, 'movie')]}),\n",
       " ...]"
      ]
     },
     "execution_count": 50,
     "metadata": {},
     "output_type": "execute_result"
    }
   ],
   "source": [
    "TRAIN_DATA"
   ]
  },
  {
   "cell_type": "code",
   "execution_count": 51,
   "id": "886b9b94",
   "metadata": {
    "scrolled": true
   },
   "outputs": [
    {
     "data": {
      "text/html": [
       "<span class=\"tex2jax_ignore\"><div class=\"entities\" style=\"line-height: 2.5; direction: ltr\">Give me the \n",
       "<mark class=\"entity\" style=\"background: #ddd; padding: 0.45em 0.6em; margin: 0 0.25em; line-height: 1; border-radius: 0.35em;\">\n",
       "    author\n",
       "    <span style=\"font-size: 0.8em; font-weight: bold; line-height: 1; border-radius: 0.35em; vertical-align: middle; margin-left: 0.5rem\">role</span>\n",
       "</mark>\n",
       " of \n",
       "<mark class=\"entity\" style=\"background: #ddd; padding: 0.45em 0.6em; margin: 0 0.25em; line-height: 1; border-radius: 0.35em;\">\n",
       "    They Shoot Horses, Don't They\n",
       "    <span style=\"font-size: 0.8em; font-weight: bold; line-height: 1; border-radius: 0.35em; vertical-align: middle; margin-left: 0.5rem\">movie</span>\n",
       "</mark>\n",
       "?</div></span>"
      ],
      "text/plain": [
       "<IPython.core.display.HTML object>"
      ]
     },
     "metadata": {},
     "output_type": "display_data"
    },
    {
     "name": "stdout",
     "output_type": "stream",
     "text": [
      "Give me the author of They Shoot Horses, Don't They? {'entities': [(12, 18, 'role'), (22, 52, 'movie')]}\n",
      "Missing movie label\n"
     ]
    },
    {
     "data": {
      "text/html": [
       "<span class=\"tex2jax_ignore\"><div class=\"entities\" style=\"line-height: 2.5; direction: ltr\">Tell me the \n",
       "<mark class=\"entity\" style=\"background: #ddd; padding: 0.45em 0.6em; margin: 0 0.25em; line-height: 1; border-radius: 0.35em;\">\n",
       "    musical conductor\n",
       "    <span style=\"font-size: 0.8em; font-weight: bold; line-height: 1; border-radius: 0.35em; vertical-align: middle; margin-left: 0.5rem\">role</span>\n",
       "</mark>\n",
       " for \n",
       "<mark class=\"entity\" style=\"background: #ddd; padding: 0.45em 0.6em; margin: 0 0.25em; line-height: 1; border-radius: 0.35em;\">\n",
       "    What's in a Name\n",
       "    <span style=\"font-size: 0.8em; font-weight: bold; line-height: 1; border-radius: 0.35em; vertical-align: middle; margin-left: 0.5rem\">movie</span>\n",
       "</mark>\n",
       "?</div></span>"
      ],
      "text/plain": [
       "<IPython.core.display.HTML object>"
      ]
     },
     "metadata": {},
     "output_type": "display_data"
    },
    {
     "name": "stdout",
     "output_type": "stream",
     "text": [
      "Tell me the musical conductor for What's in a Name? {'entities': [(12, 29, 'role'), (34, 51, 'movie')]}\n",
      "Missing movie label\n"
     ]
    },
    {
     "data": {
      "text/html": [
       "<span class=\"tex2jax_ignore\"><div class=\"entities\" style=\"line-height: 2.5; direction: ltr\">Who is the \n",
       "<mark class=\"entity\" style=\"background: #ddd; padding: 0.45em 0.6em; margin: 0 0.25em; line-height: 1; border-radius: 0.35em;\">\n",
       "    screenwriter\n",
       "    <span style=\"font-size: 0.8em; font-weight: bold; line-height: 1; border-radius: 0.35em; vertical-align: middle; margin-left: 0.5rem\">role</span>\n",
       "</mark>\n",
       " of the film \n",
       "<mark class=\"entity\" style=\"background: #ddd; padding: 0.45em 0.6em; margin: 0 0.25em; line-height: 1; border-radius: 0.35em;\">\n",
       "    Un fantastico via vai?\n",
       "    <span style=\"font-size: 0.8em; font-weight: bold; line-height: 1; border-radius: 0.35em; vertical-align: middle; margin-left: 0.5rem\">movie</span>\n",
       "</mark>\n",
       "</div></span>"
      ],
      "text/plain": [
       "<IPython.core.display.HTML object>"
      ]
     },
     "metadata": {},
     "output_type": "display_data"
    },
    {
     "name": "stdout",
     "output_type": "stream",
     "text": [
      "Who is the screenwriter of the film Un fantastico via vai? {'entities': [(11, 23, 'role'), (36, 57, 'movie')]}\n",
      "Missing movie label\n"
     ]
    },
    {
     "data": {
      "text/html": [
       "<span class=\"tex2jax_ignore\"><div class=\"entities\" style=\"line-height: 2.5; direction: ltr\">Who was in charge of directing \n",
       "<mark class=\"entity\" style=\"background: #ddd; padding: 0.45em 0.6em; margin: 0 0.25em; line-height: 1; border-radius: 0.35em;\">\n",
       "    What We Did on Our Holiday?\n",
       "    <span style=\"font-size: 0.8em; font-weight: bold; line-height: 1; border-radius: 0.35em; vertical-align: middle; margin-left: 0.5rem\">movie</span>\n",
       "</mark>\n",
       "</div></span>"
      ],
      "text/plain": [
       "<IPython.core.display.HTML object>"
      ]
     },
     "metadata": {},
     "output_type": "display_data"
    },
    {
     "name": "stdout",
     "output_type": "stream",
     "text": [
      "Who was in charge of directing What We Did on Our Holiday? {'entities': [(31, 57, 'movie'), (21, 27, 'action')]}\n",
      "Missing movie label\n"
     ]
    },
    {
     "data": {
      "text/html": [
       "<span class=\"tex2jax_ignore\"><div class=\"entities\" style=\"line-height: 2.5; direction: ltr\">Tell me the \n",
       "<mark class=\"entity\" style=\"background: #ddd; padding: 0.45em 0.6em; margin: 0 0.25em; line-height: 1; border-radius: 0.35em;\">\n",
       "    cast\n",
       "    <span style=\"font-size: 0.8em; font-weight: bold; line-height: 1; border-radius: 0.35em; vertical-align: middle; margin-left: 0.5rem\">role</span>\n",
       "</mark>\n",
       " behind \n",
       "<mark class=\"entity\" style=\"background: #ddd; padding: 0.45em 0.6em; margin: 0 0.25em; line-height: 1; border-radius: 0.35em;\">\n",
       "    Tell\n",
       "    <span style=\"font-size: 0.8em; font-weight: bold; line-height: 1; border-radius: 0.35em; vertical-align: middle; margin-left: 0.5rem\">movie</span>\n",
       "</mark>\n",
       "</div></span>"
      ],
      "text/plain": [
       "<IPython.core.display.HTML object>"
      ]
     },
     "metadata": {},
     "output_type": "display_data"
    },
    {
     "name": "stdout",
     "output_type": "stream",
     "text": [
      "Tell me the cast behind Tell {'entities': [(12, 16, 'role'), (0, 4, 'movie')]}\n",
      "Missing movie label\n"
     ]
    },
    {
     "data": {
      "text/html": [
       "<span class=\"tex2jax_ignore\"><div class=\"entities\" style=\"line-height: 2.5; direction: ltr\">Tell me the \n",
       "<mark class=\"entity\" style=\"background: #ddd; padding: 0.45em 0.6em; margin: 0 0.25em; line-height: 1; border-radius: 0.35em;\">\n",
       "    release\n",
       "    <span style=\"font-size: 0.8em; font-weight: bold; line-height: 1; border-radius: 0.35em; vertical-align: middle; margin-left: 0.5rem\">predicate</span>\n",
       "</mark>\n",
       " \n",
       "<mark class=\"entity\" style=\"background: #ddd; padding: 0.45em 0.6em; margin: 0 0.25em; line-height: 1; border-radius: 0.35em;\">\n",
       "    date\n",
       "    <span style=\"font-size: 0.8em; font-weight: bold; line-height: 1; border-radius: 0.35em; vertical-align: middle; margin-left: 0.5rem\">predicate</span>\n",
       "</mark>\n",
       " of \n",
       "<mark class=\"entity\" style=\"background: #ddd; padding: 0.45em 0.6em; margin: 0 0.25em; line-height: 1; border-radius: 0.35em;\">\n",
       "    Tell\n",
       "    <span style=\"font-size: 0.8em; font-weight: bold; line-height: 1; border-radius: 0.35em; vertical-align: middle; margin-left: 0.5rem\">movie</span>\n",
       "</mark>\n",
       "</div></span>"
      ],
      "text/plain": [
       "<IPython.core.display.HTML object>"
      ]
     },
     "metadata": {},
     "output_type": "display_data"
    },
    {
     "name": "stdout",
     "output_type": "stream",
     "text": [
      "Tell me the release date of Tell {'entities': [(0, 4, 'movie'), (12, 19, 'predicate'), (20, 24, 'predicate')]}\n",
      "Missing movie label\n"
     ]
    },
    {
     "data": {
      "text/html": [
       "<span class=\"tex2jax_ignore\"><div class=\"entities\" style=\"line-height: 2.5; direction: ltr\">What is the \n",
       "<mark class=\"entity\" style=\"background: #ddd; padding: 0.45em 0.6em; margin: 0 0.25em; line-height: 1; border-radius: 0.35em;\">\n",
       "    genre\n",
       "    <span style=\"font-size: 0.8em; font-weight: bold; line-height: 1; border-radius: 0.35em; vertical-align: middle; margin-left: 0.5rem\">predicate</span>\n",
       "</mark>\n",
       " of \n",
       "<mark class=\"entity\" style=\"background: #ddd; padding: 0.45em 0.6em; margin: 0 0.25em; line-height: 1; border-radius: 0.35em;\">\n",
       "    Mujhe Kucch Kehna Hai?\n",
       "    <span style=\"font-size: 0.8em; font-weight: bold; line-height: 1; border-radius: 0.35em; vertical-align: middle; margin-left: 0.5rem\">movie</span>\n",
       "</mark>\n",
       "</div></span>"
      ],
      "text/plain": [
       "<IPython.core.display.HTML object>"
      ]
     },
     "metadata": {},
     "output_type": "display_data"
    },
    {
     "name": "stdout",
     "output_type": "stream",
     "text": [
      "What is the genre of Mujhe Kucch Kehna Hai? {'entities': [(21, 42, 'movie'), (12, 17, 'predicate')]}\n",
      "Missing movie label\n"
     ]
    },
    {
     "data": {
      "text/html": [
       "<span class=\"tex2jax_ignore\"><div class=\"entities\" style=\"line-height: 2.5; direction: ltr\">Give me the \n",
       "<mark class=\"entity\" style=\"background: #ddd; padding: 0.45em 0.6em; margin: 0 0.25em; line-height: 1; border-radius: 0.35em;\">\n",
       "    genre\n",
       "    <span style=\"font-size: 0.8em; font-weight: bold; line-height: 1; border-radius: 0.35em; vertical-align: middle; margin-left: 0.5rem\">predicate</span>\n",
       "</mark>\n",
       " for the movie \n",
       "<mark class=\"entity\" style=\"background: #ddd; padding: 0.45em 0.6em; margin: 0 0.25em; line-height: 1; border-radius: 0.35em;\">\n",
       "    Daddy's Dyin': Who's Got the Will\n",
       "    <span style=\"font-size: 0.8em; font-weight: bold; line-height: 1; border-radius: 0.35em; vertical-align: middle; margin-left: 0.5rem\">movie</span>\n",
       "</mark>\n",
       "?</div></span>"
      ],
      "text/plain": [
       "<IPython.core.display.HTML object>"
      ]
     },
     "metadata": {},
     "output_type": "display_data"
    },
    {
     "name": "stdout",
     "output_type": "stream",
     "text": [
      "Give me the genre for the movie Daddy's Dyin': Who's Got the Will? {'entities': [(32, 66, 'movie'), (12, 17, 'predicate')]}\n",
      "Missing movie label\n"
     ]
    },
    {
     "data": {
      "text/html": [
       "<span class=\"tex2jax_ignore\"><div class=\"entities\" style=\"line-height: 2.5; direction: ltr\">Tell me the \n",
       "<mark class=\"entity\" style=\"background: #ddd; padding: 0.45em 0.6em; margin: 0 0.25em; line-height: 1; border-radius: 0.35em;\">\n",
       "    genre\n",
       "    <span style=\"font-size: 0.8em; font-weight: bold; line-height: 1; border-radius: 0.35em; vertical-align: middle; margin-left: 0.5rem\">predicate</span>\n",
       "</mark>\n",
       " of \n",
       "<mark class=\"entity\" style=\"background: #ddd; padding: 0.45em 0.6em; margin: 0 0.25em; line-height: 1; border-radius: 0.35em;\">\n",
       "    Indovina chi viene a Natale\n",
       "    <span style=\"font-size: 0.8em; font-weight: bold; line-height: 1; border-radius: 0.35em; vertical-align: middle; margin-left: 0.5rem\">movie</span>\n",
       "</mark>\n",
       "?</div></span>"
      ],
      "text/plain": [
       "<IPython.core.display.HTML object>"
      ]
     },
     "metadata": {},
     "output_type": "display_data"
    },
    {
     "name": "stdout",
     "output_type": "stream",
     "text": [
      "Tell me the genre of Indovina chi viene a Natale? {'entities': [(21, 49, 'movie'), (12, 17, 'predicate')]}\n",
      "Missing movie label\n"
     ]
    },
    {
     "data": {
      "text/html": [
       "<span class=\"tex2jax_ignore\"><div class=\"entities\" style=\"line-height: 2.5; direction: ltr\">Since I enjoy \n",
       "<mark class=\"entity\" style=\"background: #ddd; padding: 0.45em 0.6em; margin: 0 0.25em; line-height: 1; border-radius: 0.35em;\">\n",
       "    Captain Newman, M.D. and\n",
       "    <span style=\"font-size: 0.8em; font-weight: bold; line-height: 1; border-radius: 0.35em; vertical-align: middle; margin-left: 0.5rem\">movie</span>\n",
       "</mark>\n",
       " \n",
       "<mark class=\"entity\" style=\"background: #ddd; padding: 0.45em 0.6em; margin: 0 0.25em; line-height: 1; border-radius: 0.35em;\">\n",
       "    Almanya – Welcome to Germany\n",
       "    <span style=\"font-size: 0.8em; font-weight: bold; line-height: 1; border-radius: 0.35em; vertical-align: middle; margin-left: 0.5rem\">movie</span>\n",
       "</mark>\n",
       ", do you have any movie recommendations for me?</div></span>"
      ],
      "text/plain": [
       "<IPython.core.display.HTML object>"
      ]
     },
     "metadata": {},
     "output_type": "display_data"
    },
    {
     "name": "stdout",
     "output_type": "stream",
     "text": [
      "Since I enjoy Captain Newman, M.D. and Almanya – Welcome to Germany, do you have any movie recommendations for me? {'entities': [(14, 34, 'movie'), (39, 67, 'movie'), (91, 100, 'predicate')]}\n",
      "Missing movie label\n"
     ]
    },
    {
     "data": {
      "text/html": [
       "<span class=\"tex2jax_ignore\"><div class=\"entities\" style=\"line-height: 2.5; direction: ltr\">Considering my liking for \n",
       "<mark class=\"entity\" style=\"background: #ddd; padding: 0.45em 0.6em; margin: 0 0.25em; line-height: 1; border-radius: 0.35em;\">\n",
       "    To Hell\n",
       "    <span style=\"font-size: 0.8em; font-weight: bold; line-height: 1; border-radius: 0.35em; vertical-align: middle; margin-left: 0.5rem\">movie</span>\n",
       "</mark>\n",
       " and \n",
       "<mark class=\"entity\" style=\"background: #ddd; padding: 0.45em 0.6em; margin: 0 0.25em; line-height: 1; border-radius: 0.35em;\">\n",
       "    Back: The Kane Hodder Story\n",
       "    <span style=\"font-size: 0.8em; font-weight: bold; line-height: 1; border-radius: 0.35em; vertical-align: middle; margin-left: 0.5rem\">movie</span>\n",
       "</mark>\n",
       ", could you \n",
       "<mark class=\"entity\" style=\"background: #ddd; padding: 0.45em 0.6em; margin: 0 0.25em; line-height: 1; border-radius: 0.35em;\">\n",
       "    suggest\n",
       "    <span style=\"font-size: 0.8em; font-weight: bold; line-height: 1; border-radius: 0.35em; vertical-align: middle; margin-left: 0.5rem\">predicate</span>\n",
       "</mark>\n",
       " some other films I might enjoy?</div></span>"
      ],
      "text/plain": [
       "<IPython.core.display.HTML object>"
      ]
     },
     "metadata": {},
     "output_type": "display_data"
    },
    {
     "name": "stdout",
     "output_type": "stream",
     "text": [
      "Considering my liking for To Hell and Back: The Kane Hodder Story, could you suggest some other films I might enjoy? {'entities': [(26, 65, 'movie'), (77, 84, 'predicate')]}\n",
      "Missing movie label\n"
     ]
    },
    {
     "data": {
      "text/html": [
       "<span class=\"tex2jax_ignore\"><div class=\"entities\" style=\"line-height: 2.5; direction: ltr\">Considering my liking for \n",
       "<mark class=\"entity\" style=\"background: #ddd; padding: 0.45em 0.6em; margin: 0 0.25em; line-height: 1; border-radius: 0.35em;\">\n",
       "    To Hell\n",
       "    <span style=\"font-size: 0.8em; font-weight: bold; line-height: 1; border-radius: 0.35em; vertical-align: middle; margin-left: 0.5rem\">movie</span>\n",
       "</mark>\n",
       " and \n",
       "<mark class=\"entity\" style=\"background: #ddd; padding: 0.45em 0.6em; margin: 0 0.25em; line-height: 1; border-radius: 0.35em;\">\n",
       "    Back: The Kane Hodder Story\n",
       "    <span style=\"font-size: 0.8em; font-weight: bold; line-height: 1; border-radius: 0.35em; vertical-align: middle; margin-left: 0.5rem\">movie</span>\n",
       "</mark>\n",
       ", could you \n",
       "<mark class=\"entity\" style=\"background: #ddd; padding: 0.45em 0.6em; margin: 0 0.25em; line-height: 1; border-radius: 0.35em;\">\n",
       "    suggest\n",
       "    <span style=\"font-size: 0.8em; font-weight: bold; line-height: 1; border-radius: 0.35em; vertical-align: middle; margin-left: 0.5rem\">predicate</span>\n",
       "</mark>\n",
       " some other films I might enjoy?</div></span>"
      ],
      "text/plain": [
       "<IPython.core.display.HTML object>"
      ]
     },
     "metadata": {},
     "output_type": "display_data"
    },
    {
     "name": "stdout",
     "output_type": "stream",
     "text": [
      "Considering my liking for To Hell and Back: The Kane Hodder Story, could you suggest some other films I might enjoy? {'entities': [(26, 65, 'movie'), (77, 84, 'predicate')]}\n",
      "Missing movie label\n"
     ]
    },
    {
     "data": {
      "text/html": [
       "<span class=\"tex2jax_ignore\"><div class=\"entities\" style=\"line-height: 2.5; direction: ltr\">Looking for movies in the same vein as \n",
       "<mark class=\"entity\" style=\"background: #ddd; padding: 0.45em 0.6em; margin: 0 0.25em; line-height: 1; border-radius: 0.35em;\">\n",
       "    I,\n",
       "    <span style=\"font-size: 0.8em; font-weight: bold; line-height: 1; border-radius: 0.35em; vertical-align: middle; margin-left: 0.5rem\">movie</span>\n",
       "</mark>\n",
       " \n",
       "<mark class=\"entity\" style=\"background: #ddd; padding: 0.45em 0.6em; margin: 0 0.25em; line-height: 1; border-radius: 0.35em;\">\n",
       "    Olga Hepnarová\n",
       "    <span style=\"font-size: 0.8em; font-weight: bold; line-height: 1; border-radius: 0.35em; vertical-align: middle; margin-left: 0.5rem\">movie</span>\n",
       "</mark>\n",
       ". Any recommendations?</div></span>"
      ],
      "text/plain": [
       "<IPython.core.display.HTML object>"
      ]
     },
     "metadata": {},
     "output_type": "display_data"
    },
    {
     "name": "stdout",
     "output_type": "stream",
     "text": [
      "Looking for movies in the same vein as I, Olga Hepnarová. Any recommendations? {'entities': [(39, 56, 'movie'), (62, 71, 'predicate')]}\n",
      "Missing movie label\n"
     ]
    },
    {
     "data": {
      "text/html": [
       "<span class=\"tex2jax_ignore\"><div class=\"entities\" style=\"line-height: 2.5; direction: ltr\">Looking for movies in the same vein as \n",
       "<mark class=\"entity\" style=\"background: #ddd; padding: 0.45em 0.6em; margin: 0 0.25em; line-height: 1; border-radius: 0.35em;\">\n",
       "    I,\n",
       "    <span style=\"font-size: 0.8em; font-weight: bold; line-height: 1; border-radius: 0.35em; vertical-align: middle; margin-left: 0.5rem\">movie</span>\n",
       "</mark>\n",
       " \n",
       "<mark class=\"entity\" style=\"background: #ddd; padding: 0.45em 0.6em; margin: 0 0.25em; line-height: 1; border-radius: 0.35em;\">\n",
       "    Olga Hepnarová\n",
       "    <span style=\"font-size: 0.8em; font-weight: bold; line-height: 1; border-radius: 0.35em; vertical-align: middle; margin-left: 0.5rem\">movie</span>\n",
       "</mark>\n",
       ". Any recommendations?</div></span>"
      ],
      "text/plain": [
       "<IPython.core.display.HTML object>"
      ]
     },
     "metadata": {},
     "output_type": "display_data"
    },
    {
     "name": "stdout",
     "output_type": "stream",
     "text": [
      "Looking for movies in the same vein as I, Olga Hepnarová. Any recommendations? {'entities': [(39, 56, 'movie'), (62, 71, 'predicate')]}\n",
      "Missing movie label\n"
     ]
    },
    {
     "data": {
      "text/html": [
       "<span class=\"tex2jax_ignore\"><div class=\"entities\" style=\"line-height: 2.5; direction: ltr\">I've enjoyed \n",
       "<mark class=\"entity\" style=\"background: #ddd; padding: 0.45em 0.6em; margin: 0 0.25em; line-height: 1; border-radius: 0.35em;\">\n",
       "    Kagero-za\n",
       "    <span style=\"font-size: 0.8em; font-weight: bold; line-height: 1; border-radius: 0.35em; vertical-align: middle; margin-left: 0.5rem\">movie</span>\n",
       "</mark>\n",
       ", \n",
       "<mark class=\"entity\" style=\"background: #ddd; padding: 0.45em 0.6em; margin: 0 0.25em; line-height: 1; border-radius: 0.35em;\">\n",
       "    Click\n",
       "    <span style=\"font-size: 0.8em; font-weight: bold; line-height: 1; border-radius: 0.35em; vertical-align: middle; margin-left: 0.5rem\">name</span>\n",
       "</mark>\n",
       ", and \n",
       "<mark class=\"entity\" style=\"background: #ddd; padding: 0.45em 0.6em; margin: 0 0.25em; line-height: 1; border-radius: 0.35em;\">\n",
       "    Cinemanovels\n",
       "    <span style=\"font-size: 0.8em; font-weight: bold; line-height: 1; border-radius: 0.35em; vertical-align: middle; margin-left: 0.5rem\">movie</span>\n",
       "</mark>\n",
       ". Any recommendations for movies in a similar vein?</div></span>"
      ],
      "text/plain": [
       "<IPython.core.display.HTML object>"
      ]
     },
     "metadata": {},
     "output_type": "display_data"
    },
    {
     "name": "stdout",
     "output_type": "stream",
     "text": [
      "I've enjoyed Kagero-za, Click, and Cinemanovels. Any recommendations for movies in a similar vein? {'entities': [(13, 22, 'movie'), (24, 29, 'movie'), (35, 47, 'movie'), (53, 62, 'predicate')]}\n",
      "Missing name label\n"
     ]
    },
    {
     "data": {
      "text/html": [
       "<span class=\"tex2jax_ignore\"><div class=\"entities\" style=\"line-height: 2.5; direction: ltr\">Captivated by the storytelling in \n",
       "<mark class=\"entity\" style=\"background: #ddd; padding: 0.45em 0.6em; margin: 0 0.25em; line-height: 1; border-radius: 0.35em;\">\n",
       "    Moshidora and\n",
       "    <span style=\"font-size: 0.8em; font-weight: bold; line-height: 1; border-radius: 0.35em; vertical-align: middle; margin-left: 0.5rem\">movie</span>\n",
       "</mark>\n",
       " \n",
       "<mark class=\"entity\" style=\"background: #ddd; padding: 0.45em 0.6em; margin: 0 0.25em; line-height: 1; border-radius: 0.35em;\">\n",
       "    Gridlock'd\n",
       "    <span style=\"font-size: 0.8em; font-weight: bold; line-height: 1; border-radius: 0.35em; vertical-align: middle; margin-left: 0.5rem\">movie</span>\n",
       "</mark>\n",
       ". What other films do you think would tell a tale in a way that resonates with me?</div></span>"
      ],
      "text/plain": [
       "<IPython.core.display.HTML object>"
      ]
     },
     "metadata": {},
     "output_type": "display_data"
    },
    {
     "name": "stdout",
     "output_type": "stream",
     "text": [
      "Captivated by the storytelling in Moshidora and Gridlock'd. What other films do you think would tell a tale in a way that resonates with me? {'entities': [(34, 43, 'movie'), (48, 58, 'movie')]}\n",
      "Missing movie label\n"
     ]
    },
    {
     "data": {
      "text/html": [
       "<span class=\"tex2jax_ignore\"><div class=\"entities\" style=\"line-height: 2.5; direction: ltr\">Given my interest in \n",
       "<mark class=\"entity\" style=\"background: #ddd; padding: 0.45em 0.6em; margin: 0 0.25em; line-height: 1; border-radius: 0.35em;\">\n",
       "    Showtime and Hidden Agenda\n",
       "    <span style=\"font-size: 0.8em; font-weight: bold; line-height: 1; border-radius: 0.35em; vertical-align: middle; margin-left: 0.5rem\">movie</span>\n",
       "</mark>\n",
       ", can you \n",
       "<mark class=\"entity\" style=\"background: #ddd; padding: 0.45em 0.6em; margin: 0 0.25em; line-height: 1; border-radius: 0.35em;\">\n",
       "    recommend\n",
       "    <span style=\"font-size: 0.8em; font-weight: bold; line-height: 1; border-radius: 0.35em; vertical-align: middle; margin-left: 0.5rem\">predicate</span>\n",
       "</mark>\n",
       " additional movies for me to watch?</div></span>"
      ],
      "text/plain": [
       "<IPython.core.display.HTML object>"
      ]
     },
     "metadata": {},
     "output_type": "display_data"
    },
    {
     "name": "stdout",
     "output_type": "stream",
     "text": [
      "Given my interest in Showtime and Hidden Agenda, can you recommend additional movies for me to watch? {'entities': [(21, 29, 'movie'), (34, 47, 'movie'), (57, 66, 'predicate')]}\n",
      "Missing movie label\n"
     ]
    },
    {
     "data": {
      "text/html": [
       "<span class=\"tex2jax_ignore\"><div class=\"entities\" style=\"line-height: 2.5; direction: ltr\">Looking for movies in the same vein as \n",
       "<mark class=\"entity\" style=\"background: #ddd; padding: 0.45em 0.6em; margin: 0 0.25em; line-height: 1; border-radius: 0.35em;\">\n",
       "    Flickering Lights\n",
       "    <span style=\"font-size: 0.8em; font-weight: bold; line-height: 1; border-radius: 0.35em; vertical-align: middle; margin-left: 0.5rem\">movie</span>\n",
       "</mark>\n",
       ", \n",
       "<mark class=\"entity\" style=\"background: #ddd; padding: 0.45em 0.6em; margin: 0 0.25em; line-height: 1; border-radius: 0.35em;\">\n",
       "    Things to Come\n",
       "    <span style=\"font-size: 0.8em; font-weight: bold; line-height: 1; border-radius: 0.35em; vertical-align: middle; margin-left: 0.5rem\">movie</span>\n",
       "</mark>\n",
       ", and Our Friend, \n",
       "<mark class=\"entity\" style=\"background: #ddd; padding: 0.45em 0.6em; margin: 0 0.25em; line-height: 1; border-radius: 0.35em;\">\n",
       "    Martin\n",
       "    <span style=\"font-size: 0.8em; font-weight: bold; line-height: 1; border-radius: 0.35em; vertical-align: middle; margin-left: 0.5rem\">movie</span>\n",
       "</mark>\n",
       ". Any recommendations?</div></span>"
      ],
      "text/plain": [
       "<IPython.core.display.HTML object>"
      ]
     },
     "metadata": {},
     "output_type": "display_data"
    },
    {
     "name": "stdout",
     "output_type": "stream",
     "text": [
      "Looking for movies in the same vein as Flickering Lights, Things to Come, and Our Friend, Martin. Any recommendations? {'entities': [(39, 56, 'movie'), (58, 72, 'movie'), (78, 96, 'movie'), (102, 111, 'predicate')]}\n",
      "Missing movie label\n"
     ]
    },
    {
     "data": {
      "text/html": [
       "<span class=\"tex2jax_ignore\"><div class=\"entities\" style=\"line-height: 2.5; direction: ltr\">Being a fan of \n",
       "<mark class=\"entity\" style=\"background: #ddd; padding: 0.45em 0.6em; margin: 0 0.25em; line-height: 1; border-radius: 0.35em;\">\n",
       "    God Is Great\n",
       "    <span style=\"font-size: 0.8em; font-weight: bold; line-height: 1; border-radius: 0.35em; vertical-align: middle; margin-left: 0.5rem\">movie</span>\n",
       "</mark>\n",
       " and \n",
       "<mark class=\"entity\" style=\"background: #ddd; padding: 0.45em 0.6em; margin: 0 0.25em; line-height: 1; border-radius: 0.35em;\">\n",
       "    I'm Not\n",
       "    <span style=\"font-size: 0.8em; font-weight: bold; line-height: 1; border-radius: 0.35em; vertical-align: middle; margin-left: 0.5rem\">movie</span>\n",
       "</mark>\n",
       ", are there similar movies you'd \n",
       "<mark class=\"entity\" style=\"background: #ddd; padding: 0.45em 0.6em; margin: 0 0.25em; line-height: 1; border-radius: 0.35em;\">\n",
       "    recommend\n",
       "    <span style=\"font-size: 0.8em; font-weight: bold; line-height: 1; border-radius: 0.35em; vertical-align: middle; margin-left: 0.5rem\">predicate</span>\n",
       "</mark>\n",
       "?</div></span>"
      ],
      "text/plain": [
       "<IPython.core.display.HTML object>"
      ]
     },
     "metadata": {},
     "output_type": "display_data"
    },
    {
     "name": "stdout",
     "output_type": "stream",
     "text": [
      "Being a fan of God Is Great and I'm Not, are there similar movies you'd recommend? {'entities': [(15, 39, 'movie'), (72, 81, 'predicate')]}\n",
      "Missing movie label\n"
     ]
    },
    {
     "data": {
      "text/html": [
       "<span class=\"tex2jax_ignore\"><div class=\"entities\" style=\"line-height: 2.5; direction: ltr\">Being a fan of \n",
       "<mark class=\"entity\" style=\"background: #ddd; padding: 0.45em 0.6em; margin: 0 0.25em; line-height: 1; border-radius: 0.35em;\">\n",
       "    God Is Great\n",
       "    <span style=\"font-size: 0.8em; font-weight: bold; line-height: 1; border-radius: 0.35em; vertical-align: middle; margin-left: 0.5rem\">movie</span>\n",
       "</mark>\n",
       " and \n",
       "<mark class=\"entity\" style=\"background: #ddd; padding: 0.45em 0.6em; margin: 0 0.25em; line-height: 1; border-radius: 0.35em;\">\n",
       "    I'm Not\n",
       "    <span style=\"font-size: 0.8em; font-weight: bold; line-height: 1; border-radius: 0.35em; vertical-align: middle; margin-left: 0.5rem\">movie</span>\n",
       "</mark>\n",
       ", are there similar movies you'd \n",
       "<mark class=\"entity\" style=\"background: #ddd; padding: 0.45em 0.6em; margin: 0 0.25em; line-height: 1; border-radius: 0.35em;\">\n",
       "    recommend\n",
       "    <span style=\"font-size: 0.8em; font-weight: bold; line-height: 1; border-radius: 0.35em; vertical-align: middle; margin-left: 0.5rem\">predicate</span>\n",
       "</mark>\n",
       "?</div></span>"
      ],
      "text/plain": [
       "<IPython.core.display.HTML object>"
      ]
     },
     "metadata": {},
     "output_type": "display_data"
    },
    {
     "name": "stdout",
     "output_type": "stream",
     "text": [
      "Being a fan of God Is Great and I'm Not, are there similar movies you'd recommend? {'entities': [(15, 39, 'movie'), (72, 81, 'predicate')]}\n",
      "Missing movie label\n"
     ]
    },
    {
     "data": {
      "text/html": [
       "<span class=\"tex2jax_ignore\"><div class=\"entities\" style=\"line-height: 2.5; direction: ltr\">Suggest films similar to \n",
       "<mark class=\"entity\" style=\"background: #ddd; padding: 0.45em 0.6em; margin: 0 0.25em; line-height: 1; border-radius: 0.35em;\">\n",
       "    Three Lives\n",
       "    <span style=\"font-size: 0.8em; font-weight: bold; line-height: 1; border-radius: 0.35em; vertical-align: middle; margin-left: 0.5rem\">movie</span>\n",
       "</mark>\n",
       " and Only One Death and \n",
       "<mark class=\"entity\" style=\"background: #ddd; padding: 0.45em 0.6em; margin: 0 0.25em; line-height: 1; border-radius: 0.35em;\">\n",
       "    Re-Penetrator\n",
       "    <span style=\"font-size: 0.8em; font-weight: bold; line-height: 1; border-radius: 0.35em; vertical-align: middle; margin-left: 0.5rem\">movie</span>\n",
       "</mark>\n",
       "</div></span>"
      ],
      "text/plain": [
       "<IPython.core.display.HTML object>"
      ]
     },
     "metadata": {},
     "output_type": "display_data"
    },
    {
     "name": "stdout",
     "output_type": "stream",
     "text": [
      "Suggest films similar to Three Lives and Only One Death and Re-Penetrator {'entities': [(25, 55, 'movie'), (60, 73, 'movie')]}\n",
      "Missing movie label\n"
     ]
    },
    {
     "data": {
      "text/html": [
       "<span class=\"tex2jax_ignore\"><div class=\"entities\" style=\"line-height: 2.5; direction: ltr\">Can you \n",
       "<mark class=\"entity\" style=\"background: #ddd; padding: 0.45em 0.6em; margin: 0 0.25em; line-height: 1; border-radius: 0.35em;\">\n",
       "    recommend\n",
       "    <span style=\"font-size: 0.8em; font-weight: bold; line-height: 1; border-radius: 0.35em; vertical-align: middle; margin-left: 0.5rem\">predicate</span>\n",
       "</mark>\n",
       " movies akin to \n",
       "<mark class=\"entity\" style=\"background: #ddd; padding: 0.45em 0.6em; margin: 0 0.25em; line-height: 1; border-radius: 0.35em;\">\n",
       "    Corrina,\n",
       "    <span style=\"font-size: 0.8em; font-weight: bold; line-height: 1; border-radius: 0.35em; vertical-align: middle; margin-left: 0.5rem\">movie</span>\n",
       "</mark>\n",
       " \n",
       "<mark class=\"entity\" style=\"background: #ddd; padding: 0.45em 0.6em; margin: 0 0.25em; line-height: 1; border-radius: 0.35em;\">\n",
       "    Corrina\n",
       "    <span style=\"font-size: 0.8em; font-weight: bold; line-height: 1; border-radius: 0.35em; vertical-align: middle; margin-left: 0.5rem\">movie</span>\n",
       "</mark>\n",
       "?</div></span>"
      ],
      "text/plain": [
       "<IPython.core.display.HTML object>"
      ]
     },
     "metadata": {},
     "output_type": "display_data"
    },
    {
     "name": "stdout",
     "output_type": "stream",
     "text": [
      "Can you recommend movies akin to Corrina, Corrina? {'entities': [(33, 49, 'movie'), (8, 17, 'predicate')]}\n",
      "Missing movie label\n"
     ]
    },
    {
     "data": {
      "text/html": [
       "<span class=\"tex2jax_ignore\"><div class=\"entities\" style=\"line-height: 2.5; direction: ltr\">Can you \n",
       "<mark class=\"entity\" style=\"background: #ddd; padding: 0.45em 0.6em; margin: 0 0.25em; line-height: 1; border-radius: 0.35em;\">\n",
       "    recommend\n",
       "    <span style=\"font-size: 0.8em; font-weight: bold; line-height: 1; border-radius: 0.35em; vertical-align: middle; margin-left: 0.5rem\">predicate</span>\n",
       "</mark>\n",
       " movies akin to \n",
       "<mark class=\"entity\" style=\"background: #ddd; padding: 0.45em 0.6em; margin: 0 0.25em; line-height: 1; border-radius: 0.35em;\">\n",
       "    Corrina,\n",
       "    <span style=\"font-size: 0.8em; font-weight: bold; line-height: 1; border-radius: 0.35em; vertical-align: middle; margin-left: 0.5rem\">movie</span>\n",
       "</mark>\n",
       " \n",
       "<mark class=\"entity\" style=\"background: #ddd; padding: 0.45em 0.6em; margin: 0 0.25em; line-height: 1; border-radius: 0.35em;\">\n",
       "    Corrina\n",
       "    <span style=\"font-size: 0.8em; font-weight: bold; line-height: 1; border-radius: 0.35em; vertical-align: middle; margin-left: 0.5rem\">movie</span>\n",
       "</mark>\n",
       "?</div></span>"
      ],
      "text/plain": [
       "<IPython.core.display.HTML object>"
      ]
     },
     "metadata": {},
     "output_type": "display_data"
    },
    {
     "name": "stdout",
     "output_type": "stream",
     "text": [
      "Can you recommend movies akin to Corrina, Corrina? {'entities': [(33, 49, 'movie'), (8, 17, 'predicate')]}\n",
      "Missing movie label\n"
     ]
    },
    {
     "data": {
      "text/html": [
       "<span class=\"tex2jax_ignore\"><div class=\"entities\" style=\"line-height: 2.5; direction: ltr\">Being a fan of \n",
       "<mark class=\"entity\" style=\"background: #ddd; padding: 0.45em 0.6em; margin: 0 0.25em; line-height: 1; border-radius: 0.35em;\">\n",
       "    Puerta de Hierro,\n",
       "    <span style=\"font-size: 0.8em; font-weight: bold; line-height: 1; border-radius: 0.35em; vertical-align: middle; margin-left: 0.5rem\">movie</span>\n",
       "</mark>\n",
       " el exilio de Perón, are there similar movies you'd \n",
       "<mark class=\"entity\" style=\"background: #ddd; padding: 0.45em 0.6em; margin: 0 0.25em; line-height: 1; border-radius: 0.35em;\">\n",
       "    recommend\n",
       "    <span style=\"font-size: 0.8em; font-weight: bold; line-height: 1; border-radius: 0.35em; vertical-align: middle; margin-left: 0.5rem\">predicate</span>\n",
       "</mark>\n",
       "?</div></span>"
      ],
      "text/plain": [
       "<IPython.core.display.HTML object>"
      ]
     },
     "metadata": {},
     "output_type": "display_data"
    },
    {
     "name": "stdout",
     "output_type": "stream",
     "text": [
      "Being a fan of Puerta de Hierro, el exilio de Perón, are there similar movies you'd recommend? {'entities': [(15, 51, 'movie'), (84, 93, 'predicate')]}\n",
      "Missing movie label\n"
     ]
    },
    {
     "data": {
      "text/html": [
       "<span class=\"tex2jax_ignore\"><div class=\"entities\" style=\"line-height: 2.5; direction: ltr\">Can you \n",
       "<mark class=\"entity\" style=\"background: #ddd; padding: 0.45em 0.6em; margin: 0 0.25em; line-height: 1; border-radius: 0.35em;\">\n",
       "    recommend\n",
       "    <span style=\"font-size: 0.8em; font-weight: bold; line-height: 1; border-radius: 0.35em; vertical-align: middle; margin-left: 0.5rem\">predicate</span>\n",
       "</mark>\n",
       " movies that share a similar theme or storyline with both \n",
       "<mark class=\"entity\" style=\"background: #ddd; padding: 0.45em 0.6em; margin: 0 0.25em; line-height: 1; border-radius: 0.35em;\">\n",
       "    Winners\n",
       "    <span style=\"font-size: 0.8em; font-weight: bold; line-height: 1; border-radius: 0.35em; vertical-align: middle; margin-left: 0.5rem\">movie</span>\n",
       "</mark>\n",
       " and \n",
       "<mark class=\"entity\" style=\"background: #ddd; padding: 0.45em 0.6em; margin: 0 0.25em; line-height: 1; border-radius: 0.35em;\">\n",
       "    Sinners and Strings\n",
       "    <span style=\"font-size: 0.8em; font-weight: bold; line-height: 1; border-radius: 0.35em; vertical-align: middle; margin-left: 0.5rem\">movie</span>\n",
       "</mark>\n",
       "?</div></span>"
      ],
      "text/plain": [
       "<IPython.core.display.HTML object>"
      ]
     },
     "metadata": {},
     "output_type": "display_data"
    },
    {
     "name": "stdout",
     "output_type": "stream",
     "text": [
      "Can you recommend movies that share a similar theme or storyline with both Winners and Sinners and Strings? {'entities': [(75, 94, 'movie'), (99, 106, 'movie'), (8, 17, 'predicate')]}\n",
      "Missing movie label\n"
     ]
    },
    {
     "data": {
      "text/html": [
       "<span class=\"tex2jax_ignore\"><div class=\"entities\" style=\"line-height: 2.5; direction: ltr\">Can you \n",
       "<mark class=\"entity\" style=\"background: #ddd; padding: 0.45em 0.6em; margin: 0 0.25em; line-height: 1; border-radius: 0.35em;\">\n",
       "    recommend\n",
       "    <span style=\"font-size: 0.8em; font-weight: bold; line-height: 1; border-radius: 0.35em; vertical-align: middle; margin-left: 0.5rem\">predicate</span>\n",
       "</mark>\n",
       " movies that share a similar theme or storyline with both \n",
       "<mark class=\"entity\" style=\"background: #ddd; padding: 0.45em 0.6em; margin: 0 0.25em; line-height: 1; border-radius: 0.35em;\">\n",
       "    Winners\n",
       "    <span style=\"font-size: 0.8em; font-weight: bold; line-height: 1; border-radius: 0.35em; vertical-align: middle; margin-left: 0.5rem\">movie</span>\n",
       "</mark>\n",
       " and \n",
       "<mark class=\"entity\" style=\"background: #ddd; padding: 0.45em 0.6em; margin: 0 0.25em; line-height: 1; border-radius: 0.35em;\">\n",
       "    Sinners and Strings\n",
       "    <span style=\"font-size: 0.8em; font-weight: bold; line-height: 1; border-radius: 0.35em; vertical-align: middle; margin-left: 0.5rem\">movie</span>\n",
       "</mark>\n",
       "?</div></span>"
      ],
      "text/plain": [
       "<IPython.core.display.HTML object>"
      ]
     },
     "metadata": {},
     "output_type": "display_data"
    },
    {
     "name": "stdout",
     "output_type": "stream",
     "text": [
      "Can you recommend movies that share a similar theme or storyline with both Winners and Sinners and Strings? {'entities': [(75, 94, 'movie'), (99, 106, 'movie'), (8, 17, 'predicate')]}\n",
      "Missing movie label\n"
     ]
    },
    {
     "data": {
      "text/html": [
       "<span class=\"tex2jax_ignore\"><div class=\"entities\" style=\"line-height: 2.5; direction: ltr\">Given my preference for \n",
       "<mark class=\"entity\" style=\"background: #ddd; padding: 0.45em 0.6em; margin: 0 0.25em; line-height: 1; border-radius: 0.35em;\">\n",
       "    Cecilie and\n",
       "    <span style=\"font-size: 0.8em; font-weight: bold; line-height: 1; border-radius: 0.35em; vertical-align: middle; margin-left: 0.5rem\">movie</span>\n",
       "</mark>\n",
       " \n",
       "<mark class=\"entity\" style=\"background: #ddd; padding: 0.45em 0.6em; margin: 0 0.25em; line-height: 1; border-radius: 0.35em;\">\n",
       "    One Week and a Day\n",
       "    <span style=\"font-size: 0.8em; font-weight: bold; line-height: 1; border-radius: 0.35em; vertical-align: middle; margin-left: 0.5rem\">movie</span>\n",
       "</mark>\n",
       ", what other films should I check out?</div></span>"
      ],
      "text/plain": [
       "<IPython.core.display.HTML object>"
      ]
     },
     "metadata": {},
     "output_type": "display_data"
    },
    {
     "name": "stdout",
     "output_type": "stream",
     "text": [
      "Given my preference for Cecilie and One Week and a Day, what other films should I check out? {'entities': [(24, 31, 'movie'), (36, 54, 'movie')]}\n",
      "Missing movie label\n"
     ]
    },
    {
     "data": {
      "text/html": [
       "<span class=\"tex2jax_ignore\"><div class=\"entities\" style=\"line-height: 2.5; direction: ltr\">Based on the cinematic experience of \n",
       "<mark class=\"entity\" style=\"background: #ddd; padding: 0.45em 0.6em; margin: 0 0.25em; line-height: 1; border-radius: 0.35em;\">\n",
       "    The Knack ...\n",
       "    <span style=\"font-size: 0.8em; font-weight: bold; line-height: 1; border-radius: 0.35em; vertical-align: middle; margin-left: 0.5rem\">movie</span>\n",
       "</mark>\n",
       "and \n",
       "<mark class=\"entity\" style=\"background: #ddd; padding: 0.45em 0.6em; margin: 0 0.25em; line-height: 1; border-radius: 0.35em;\">\n",
       "    How to Get It\n",
       "    <span style=\"font-size: 0.8em; font-weight: bold; line-height: 1; border-radius: 0.35em; vertical-align: middle; margin-left: 0.5rem\">movie</span>\n",
       "</mark>\n",
       ", \n",
       "<mark class=\"entity\" style=\"background: #ddd; padding: 0.45em 0.6em; margin: 0 0.25em; line-height: 1; border-radius: 0.35em;\">\n",
       "    Made Men\n",
       "    <span style=\"font-size: 0.8em; font-weight: bold; line-height: 1; border-radius: 0.35em; vertical-align: middle; margin-left: 0.5rem\">movie</span>\n",
       "</mark>\n",
       ", and \n",
       "<mark class=\"entity\" style=\"background: #ddd; padding: 0.45em 0.6em; margin: 0 0.25em; line-height: 1; border-radius: 0.35em;\">\n",
       "    Cape No. 7\n",
       "    <span style=\"font-size: 0.8em; font-weight: bold; line-height: 1; border-radius: 0.35em; vertical-align: middle; margin-left: 0.5rem\">movie</span>\n",
       "</mark>\n",
       ", are there any other films you'd \n",
       "<mark class=\"entity\" style=\"background: #ddd; padding: 0.45em 0.6em; margin: 0 0.25em; line-height: 1; border-radius: 0.35em;\">\n",
       "    suggest\n",
       "    <span style=\"font-size: 0.8em; font-weight: bold; line-height: 1; border-radius: 0.35em; vertical-align: middle; margin-left: 0.5rem\">predicate</span>\n",
       "</mark>\n",
       " to keep the excitement alive?</div></span>"
      ],
      "text/plain": [
       "<IPython.core.display.HTML object>"
      ]
     },
     "metadata": {},
     "output_type": "display_data"
    },
    {
     "name": "stdout",
     "output_type": "stream",
     "text": [
      "Based on the cinematic experience of The Knack ...and How to Get It, Made Men, and Cape No. 7, are there any other films you'd suggest to keep the excitement alive? {'entities': [(37, 67, 'movie'), (69, 77, 'movie'), (83, 93, 'movie'), (127, 134, 'predicate')]}\n",
      "Missing movie label\n"
     ]
    },
    {
     "data": {
      "text/html": [
       "<span class=\"tex2jax_ignore\"><div class=\"entities\" style=\"line-height: 2.5; direction: ltr\">Based on the cinematic experience of \n",
       "<mark class=\"entity\" style=\"background: #ddd; padding: 0.45em 0.6em; margin: 0 0.25em; line-height: 1; border-radius: 0.35em;\">\n",
       "    The Knack ...\n",
       "    <span style=\"font-size: 0.8em; font-weight: bold; line-height: 1; border-radius: 0.35em; vertical-align: middle; margin-left: 0.5rem\">movie</span>\n",
       "</mark>\n",
       "and \n",
       "<mark class=\"entity\" style=\"background: #ddd; padding: 0.45em 0.6em; margin: 0 0.25em; line-height: 1; border-radius: 0.35em;\">\n",
       "    How to Get It\n",
       "    <span style=\"font-size: 0.8em; font-weight: bold; line-height: 1; border-radius: 0.35em; vertical-align: middle; margin-left: 0.5rem\">movie</span>\n",
       "</mark>\n",
       ", \n",
       "<mark class=\"entity\" style=\"background: #ddd; padding: 0.45em 0.6em; margin: 0 0.25em; line-height: 1; border-radius: 0.35em;\">\n",
       "    Made Men\n",
       "    <span style=\"font-size: 0.8em; font-weight: bold; line-height: 1; border-radius: 0.35em; vertical-align: middle; margin-left: 0.5rem\">movie</span>\n",
       "</mark>\n",
       ", and \n",
       "<mark class=\"entity\" style=\"background: #ddd; padding: 0.45em 0.6em; margin: 0 0.25em; line-height: 1; border-radius: 0.35em;\">\n",
       "    Cape No. 7\n",
       "    <span style=\"font-size: 0.8em; font-weight: bold; line-height: 1; border-radius: 0.35em; vertical-align: middle; margin-left: 0.5rem\">movie</span>\n",
       "</mark>\n",
       ", are there any other films you'd \n",
       "<mark class=\"entity\" style=\"background: #ddd; padding: 0.45em 0.6em; margin: 0 0.25em; line-height: 1; border-radius: 0.35em;\">\n",
       "    suggest\n",
       "    <span style=\"font-size: 0.8em; font-weight: bold; line-height: 1; border-radius: 0.35em; vertical-align: middle; margin-left: 0.5rem\">predicate</span>\n",
       "</mark>\n",
       " to keep the excitement alive?</div></span>"
      ],
      "text/plain": [
       "<IPython.core.display.HTML object>"
      ]
     },
     "metadata": {},
     "output_type": "display_data"
    },
    {
     "name": "stdout",
     "output_type": "stream",
     "text": [
      "Based on the cinematic experience of The Knack ...and How to Get It, Made Men, and Cape No. 7, are there any other films you'd suggest to keep the excitement alive? {'entities': [(37, 67, 'movie'), (69, 77, 'movie'), (83, 93, 'movie'), (127, 134, 'predicate')]}\n",
      "Missing movie label\n"
     ]
    },
    {
     "data": {
      "text/html": [
       "<span class=\"tex2jax_ignore\"><div class=\"entities\" style=\"line-height: 2.5; direction: ltr\">Given my preference for \n",
       "<mark class=\"entity\" style=\"background: #ddd; padding: 0.45em 0.6em; margin: 0 0.25em; line-height: 1; border-radius: 0.35em;\">\n",
       "    L'Étudiante, My Zoe\n",
       "    <span style=\"font-size: 0.8em; font-weight: bold; line-height: 1; border-radius: 0.35em; vertical-align: middle; margin-left: 0.5rem\">movie</span>\n",
       "</mark>\n",
       ", and \n",
       "<mark class=\"entity\" style=\"background: #ddd; padding: 0.45em 0.6em; margin: 0 0.25em; line-height: 1; border-radius: 0.35em;\">\n",
       "    Road to Bali\n",
       "    <span style=\"font-size: 0.8em; font-weight: bold; line-height: 1; border-radius: 0.35em; vertical-align: middle; margin-left: 0.5rem\">movie</span>\n",
       "</mark>\n",
       ", what other films should I check out?</div></span>"
      ],
      "text/plain": [
       "<IPython.core.display.HTML object>"
      ]
     },
     "metadata": {},
     "output_type": "display_data"
    },
    {
     "name": "stdout",
     "output_type": "stream",
     "text": [
      "Given my preference for L'Étudiante, My Zoe, and Road to Bali, what other films should I check out? {'entities': [(24, 35, 'movie'), (37, 43, 'movie'), (49, 61, 'movie')]}\n",
      "Missing movie label\n"
     ]
    },
    {
     "data": {
      "text/html": [
       "<span class=\"tex2jax_ignore\"><div class=\"entities\" style=\"line-height: 2.5; direction: ltr\">Since I like \n",
       "<mark class=\"entity\" style=\"background: #ddd; padding: 0.45em 0.6em; margin: 0 0.25em; line-height: 1; border-radius: 0.35em;\">\n",
       "    Bright Lights\n",
       "    <span style=\"font-size: 0.8em; font-weight: bold; line-height: 1; border-radius: 0.35em; vertical-align: middle; margin-left: 0.5rem\">movie</span>\n",
       "</mark>\n",
       ", Big City and \n",
       "<mark class=\"entity\" style=\"background: #ddd; padding: 0.45em 0.6em; margin: 0 0.25em; line-height: 1; border-radius: 0.35em;\">\n",
       "    Madly in Love\n",
       "    <span style=\"font-size: 0.8em; font-weight: bold; line-height: 1; border-radius: 0.35em; vertical-align: middle; margin-left: 0.5rem\">movie</span>\n",
       "</mark>\n",
       ", what other movies do you think I might like?</div></span>"
      ],
      "text/plain": [
       "<IPython.core.display.HTML object>"
      ]
     },
     "metadata": {},
     "output_type": "display_data"
    },
    {
     "name": "stdout",
     "output_type": "stream",
     "text": [
      "Since I like Bright Lights, Big City and Madly in Love, what other movies do you think I might like? {'entities': [(13, 36, 'movie'), (41, 54, 'movie')]}\n",
      "Missing movie label\n"
     ]
    },
    {
     "data": {
      "text/html": [
       "<span class=\"tex2jax_ignore\"><div class=\"entities\" style=\"line-height: 2.5; direction: ltr\">Enjoyed the storytelling in \n",
       "<mark class=\"entity\" style=\"background: #ddd; padding: 0.45em 0.6em; margin: 0 0.25em; line-height: 1; border-radius: 0.35em;\">\n",
       "    Up!\n",
       "    <span style=\"font-size: 0.8em; font-weight: bold; line-height: 1; border-radius: 0.35em; vertical-align: middle; margin-left: 0.5rem\">movie</span>\n",
       "</mark>\n",
       " and \n",
       "<mark class=\"entity\" style=\"background: #ddd; padding: 0.45em 0.6em; margin: 0 0.25em; line-height: 1; border-radius: 0.35em;\">\n",
       "    Operation\n",
       "    <span style=\"font-size: 0.8em; font-weight: bold; line-height: 1; border-radius: 0.35em; vertical-align: middle; margin-left: 0.5rem\">movie</span>\n",
       "</mark>\n",
       " E. Any recommendations for movies that weave narratives in a comparable fashion?</div></span>"
      ],
      "text/plain": [
       "<IPython.core.display.HTML object>"
      ]
     },
     "metadata": {},
     "output_type": "display_data"
    },
    {
     "name": "stdout",
     "output_type": "stream",
     "text": [
      "Enjoyed the storytelling in Up! and Operation E. Any recommendations for movies that weave narratives in a comparable fashion? {'entities': [(28, 31, 'movie'), (36, 47, 'movie'), (53, 62, 'predicate')]}\n",
      "Missing movie label\n"
     ]
    },
    {
     "data": {
      "text/html": [
       "<span class=\"tex2jax_ignore\"><div class=\"entities\" style=\"line-height: 2.5; direction: ltr\">Can you \n",
       "<mark class=\"entity\" style=\"background: #ddd; padding: 0.45em 0.6em; margin: 0 0.25em; line-height: 1; border-radius: 0.35em;\">\n",
       "    recommend\n",
       "    <span style=\"font-size: 0.8em; font-weight: bold; line-height: 1; border-radius: 0.35em; vertical-align: middle; margin-left: 0.5rem\">predicate</span>\n",
       "</mark>\n",
       " movies that share a similar theme or storyline with both \n",
       "<mark class=\"entity\" style=\"background: #ddd; padding: 0.45em 0.6em; margin: 0 0.25em; line-height: 1; border-radius: 0.35em;\">\n",
       "    Generation Um... and\n",
       "    <span style=\"font-size: 0.8em; font-weight: bold; line-height: 1; border-radius: 0.35em; vertical-align: middle; margin-left: 0.5rem\">movie</span>\n",
       "</mark>\n",
       " \n",
       "<mark class=\"entity\" style=\"background: #ddd; padding: 0.45em 0.6em; margin: 0 0.25em; line-height: 1; border-radius: 0.35em;\">\n",
       "    One Missed Call\n",
       "    <span style=\"font-size: 0.8em; font-weight: bold; line-height: 1; border-radius: 0.35em; vertical-align: middle; margin-left: 0.5rem\">movie</span>\n",
       "</mark>\n",
       "?</div></span>"
      ],
      "text/plain": [
       "<IPython.core.display.HTML object>"
      ]
     },
     "metadata": {},
     "output_type": "display_data"
    },
    {
     "name": "stdout",
     "output_type": "stream",
     "text": [
      "Can you recommend movies that share a similar theme or storyline with both Generation Um... and One Missed Call? {'entities': [(75, 91, 'movie'), (96, 111, 'movie'), (8, 17, 'predicate')]}\n",
      "Missing movie label\n"
     ]
    },
    {
     "data": {
      "text/html": [
       "<span class=\"tex2jax_ignore\"><div class=\"entities\" style=\"line-height: 2.5; direction: ltr\">If I Like \n",
       "<mark class=\"entity\" style=\"background: #ddd; padding: 0.45em 0.6em; margin: 0 0.25em; line-height: 1; border-radius: 0.35em;\">\n",
       "    It Like That\n",
       "    <span style=\"font-size: 0.8em; font-weight: bold; line-height: 1; border-radius: 0.35em; vertical-align: middle; margin-left: 0.5rem\">movie</span>\n",
       "</mark>\n",
       ", \n",
       "<mark class=\"entity\" style=\"background: #ddd; padding: 0.45em 0.6em; margin: 0 0.25em; line-height: 1; border-radius: 0.35em;\">\n",
       "    The Forever Purge\n",
       "    <span style=\"font-size: 0.8em; font-weight: bold; line-height: 1; border-radius: 0.35em; vertical-align: middle; margin-left: 0.5rem\">movie</span>\n",
       "</mark>\n",
       ", and \n",
       "<mark class=\"entity\" style=\"background: #ddd; padding: 0.45em 0.6em; margin: 0 0.25em; line-height: 1; border-radius: 0.35em;\">\n",
       "    Right Now\n",
       "    <span style=\"font-size: 0.8em; font-weight: bold; line-height: 1; border-radius: 0.35em; vertical-align: middle; margin-left: 0.5rem\">movie</span>\n",
       "</mark>\n",
       " are my preferences, do you have any movie recommendations for me?</div></span>"
      ],
      "text/plain": [
       "<IPython.core.display.HTML object>"
      ]
     },
     "metadata": {},
     "output_type": "display_data"
    },
    {
     "name": "stdout",
     "output_type": "stream",
     "text": [
      "If I Like It Like That, The Forever Purge, and Right Now are my preferences, do you have any movie recommendations for me? {'entities': [(3, 22, 'movie'), (24, 41, 'movie'), (47, 56, 'movie'), (99, 108, 'predicate')]}\n",
      "Missing movie label\n"
     ]
    },
    {
     "data": {
      "text/html": [
       "<span class=\"tex2jax_ignore\"><div class=\"entities\" style=\"line-height: 2.5; direction: ltr\">Looking for movies in the same vein as \n",
       "<mark class=\"entity\" style=\"background: #ddd; padding: 0.45em 0.6em; margin: 0 0.25em; line-height: 1; border-radius: 0.35em;\">\n",
       "    When I Grow Up\n",
       "    <span style=\"font-size: 0.8em; font-weight: bold; line-height: 1; border-radius: 0.35em; vertical-align: middle; margin-left: 0.5rem\">movie</span>\n",
       "</mark>\n",
       ", I'll Be a Kangaroo, \n",
       "<mark class=\"entity\" style=\"background: #ddd; padding: 0.45em 0.6em; margin: 0 0.25em; line-height: 1; border-radius: 0.35em;\">\n",
       "    The Physician\n",
       "    <span style=\"font-size: 0.8em; font-weight: bold; line-height: 1; border-radius: 0.35em; vertical-align: middle; margin-left: 0.5rem\">movie</span>\n",
       "</mark>\n",
       ", and \n",
       "<mark class=\"entity\" style=\"background: #ddd; padding: 0.45em 0.6em; margin: 0 0.25em; line-height: 1; border-radius: 0.35em;\">\n",
       "    Goosebumps\n",
       "    <span style=\"font-size: 0.8em; font-weight: bold; line-height: 1; border-radius: 0.35em; vertical-align: middle; margin-left: 0.5rem\">movie</span>\n",
       "</mark>\n",
       ". Any recommendations?</div></span>"
      ],
      "text/plain": [
       "<IPython.core.display.HTML object>"
      ]
     },
     "metadata": {},
     "output_type": "display_data"
    },
    {
     "name": "stdout",
     "output_type": "stream",
     "text": [
      "Looking for movies in the same vein as When I Grow Up, I'll Be a Kangaroo, The Physician, and Goosebumps. Any recommendations? {'entities': [(39, 73, 'movie'), (75, 88, 'movie'), (94, 104, 'movie'), (110, 119, 'predicate')]}\n",
      "Missing movie label\n"
     ]
    },
    {
     "data": {
      "text/html": [
       "<span class=\"tex2jax_ignore\"><div class=\"entities\" style=\"line-height: 2.5; direction: ltr\">If I enjoy \n",
       "<mark class=\"entity\" style=\"background: #ddd; padding: 0.45em 0.6em; margin: 0 0.25em; line-height: 1; border-radius: 0.35em;\">\n",
       "    One, Two, Three and\n",
       "    <span style=\"font-size: 0.8em; font-weight: bold; line-height: 1; border-radius: 0.35em; vertical-align: middle; margin-left: 0.5rem\">movie</span>\n",
       "</mark>\n",
       " \n",
       "<mark class=\"entity\" style=\"background: #ddd; padding: 0.45em 0.6em; margin: 0 0.25em; line-height: 1; border-radius: 0.35em;\">\n",
       "    De vrais mensonges\n",
       "    <span style=\"font-size: 0.8em; font-weight: bold; line-height: 1; border-radius: 0.35em; vertical-align: middle; margin-left: 0.5rem\">movie</span>\n",
       "</mark>\n",
       ", what other movies would you \n",
       "<mark class=\"entity\" style=\"background: #ddd; padding: 0.45em 0.6em; margin: 0 0.25em; line-height: 1; border-radius: 0.35em;\">\n",
       "    suggest\n",
       "    <span style=\"font-size: 0.8em; font-weight: bold; line-height: 1; border-radius: 0.35em; vertical-align: middle; margin-left: 0.5rem\">predicate</span>\n",
       "</mark>\n",
       "?</div></span>"
      ],
      "text/plain": [
       "<IPython.core.display.HTML object>"
      ]
     },
     "metadata": {},
     "output_type": "display_data"
    },
    {
     "name": "stdout",
     "output_type": "stream",
     "text": [
      "If I enjoy One, Two, Three and De vrais mensonges, what other movies would you suggest? {'entities': [(11, 26, 'movie'), (31, 49, 'movie'), (79, 86, 'predicate')]}\n",
      "Missing movie label\n"
     ]
    },
    {
     "data": {
      "text/html": [
       "<span class=\"tex2jax_ignore\"><div class=\"entities\" style=\"line-height: 2.5; direction: ltr\">Seeking recommendations for movies like \n",
       "<mark class=\"entity\" style=\"background: #ddd; padding: 0.45em 0.6em; margin: 0 0.25em; line-height: 1; border-radius: 0.35em;\">\n",
       "    Comes a Horseman\n",
       "    <span style=\"font-size: 0.8em; font-weight: bold; line-height: 1; border-radius: 0.35em; vertical-align: middle; margin-left: 0.5rem\">movie</span>\n",
       "</mark>\n",
       ", \n",
       "<mark class=\"entity\" style=\"background: #ddd; padding: 0.45em 0.6em; margin: 0 0.25em; line-height: 1; border-radius: 0.35em;\">\n",
       "    Happy Christmas\n",
       "    <span style=\"font-size: 0.8em; font-weight: bold; line-height: 1; border-radius: 0.35em; vertical-align: middle; margin-left: 0.5rem\">movie</span>\n",
       "</mark>\n",
       ", and \n",
       "<mark class=\"entity\" style=\"background: #ddd; padding: 0.45em 0.6em; margin: 0 0.25em; line-height: 1; border-radius: 0.35em;\">\n",
       "    Deiva Magan\n",
       "    <span style=\"font-size: 0.8em; font-weight: bold; line-height: 1; border-radius: 0.35em; vertical-align: middle; margin-left: 0.5rem\">name</span>\n",
       "</mark>\n",
       "</div></span>"
      ],
      "text/plain": [
       "<IPython.core.display.HTML object>"
      ]
     },
     "metadata": {},
     "output_type": "display_data"
    },
    {
     "name": "stdout",
     "output_type": "stream",
     "text": [
      "Seeking recommendations for movies like Comes a Horseman, Happy Christmas, and Deiva Magan {'entities': [(40, 56, 'movie'), (58, 73, 'movie'), (79, 90, 'movie'), (8, 17, 'predicate')]}\n",
      "Missing name label\n"
     ]
    },
    {
     "data": {
      "text/html": [
       "<span class=\"tex2jax_ignore\"><div class=\"entities\" style=\"line-height: 2.5; direction: ltr\">If \n",
       "<mark class=\"entity\" style=\"background: #ddd; padding: 0.45em 0.6em; margin: 0 0.25em; line-height: 1; border-radius: 0.35em;\">\n",
       "    Tada,\n",
       "    <span style=\"font-size: 0.8em; font-weight: bold; line-height: 1; border-radius: 0.35em; vertical-align: middle; margin-left: 0.5rem\">movie</span>\n",
       "</mark>\n",
       " Kimi o Aishiteru is my preference, do you have any movie recommendations for me?</div></span>"
      ],
      "text/plain": [
       "<IPython.core.display.HTML object>"
      ]
     },
     "metadata": {},
     "output_type": "display_data"
    },
    {
     "name": "stdout",
     "output_type": "stream",
     "text": [
      "If Tada, Kimi o Aishiteru is my preference, do you have any movie recommendations for me? {'entities': [(3, 25, 'movie'), (66, 75, 'predicate')]}\n",
      "Missing movie label\n"
     ]
    },
    {
     "data": {
      "text/html": [
       "<span class=\"tex2jax_ignore\"><div class=\"entities\" style=\"line-height: 2.5; direction: ltr\">Seeking recommendations for movies like \n",
       "<mark class=\"entity\" style=\"background: #ddd; padding: 0.45em 0.6em; margin: 0 0.25em; line-height: 1; border-radius: 0.35em;\">\n",
       "    The Life\n",
       "    <span style=\"font-size: 0.8em; font-weight: bold; line-height: 1; border-radius: 0.35em; vertical-align: middle; margin-left: 0.5rem\">movie</span>\n",
       "</mark>\n",
       " and \n",
       "<mark class=\"entity\" style=\"background: #ddd; padding: 0.45em 0.6em; margin: 0 0.25em; line-height: 1; border-radius: 0.35em;\">\n",
       "    Death of Colonel Blimp\n",
       "    <span style=\"font-size: 0.8em; font-weight: bold; line-height: 1; border-radius: 0.35em; vertical-align: middle; margin-left: 0.5rem\">movie</span>\n",
       "</mark>\n",
       "</div></span>"
      ],
      "text/plain": [
       "<IPython.core.display.HTML object>"
      ]
     },
     "metadata": {},
     "output_type": "display_data"
    },
    {
     "name": "stdout",
     "output_type": "stream",
     "text": [
      "Seeking recommendations for movies like The Life and Death of Colonel Blimp {'entities': [(40, 75, 'movie'), (8, 17, 'predicate')]}\n",
      "Missing movie label\n"
     ]
    },
    {
     "data": {
      "text/html": [
       "<span class=\"tex2jax_ignore\"><div class=\"entities\" style=\"line-height: 2.5; direction: ltr\">Seeking recommendations for movies like \n",
       "<mark class=\"entity\" style=\"background: #ddd; padding: 0.45em 0.6em; margin: 0 0.25em; line-height: 1; border-radius: 0.35em;\">\n",
       "    The Life\n",
       "    <span style=\"font-size: 0.8em; font-weight: bold; line-height: 1; border-radius: 0.35em; vertical-align: middle; margin-left: 0.5rem\">movie</span>\n",
       "</mark>\n",
       " and \n",
       "<mark class=\"entity\" style=\"background: #ddd; padding: 0.45em 0.6em; margin: 0 0.25em; line-height: 1; border-radius: 0.35em;\">\n",
       "    Death of Colonel Blimp\n",
       "    <span style=\"font-size: 0.8em; font-weight: bold; line-height: 1; border-radius: 0.35em; vertical-align: middle; margin-left: 0.5rem\">movie</span>\n",
       "</mark>\n",
       "</div></span>"
      ],
      "text/plain": [
       "<IPython.core.display.HTML object>"
      ]
     },
     "metadata": {},
     "output_type": "display_data"
    },
    {
     "name": "stdout",
     "output_type": "stream",
     "text": [
      "Seeking recommendations for movies like The Life and Death of Colonel Blimp {'entities': [(40, 75, 'movie'), (8, 17, 'predicate')]}\n",
      "Missing movie label\n"
     ]
    },
    {
     "data": {
      "text/html": [
       "<span class=\"tex2jax_ignore\"><div class=\"entities\" style=\"line-height: 2.5; direction: ltr\">Can you \n",
       "<mark class=\"entity\" style=\"background: #ddd; padding: 0.45em 0.6em; margin: 0 0.25em; line-height: 1; border-radius: 0.35em;\">\n",
       "    recommend\n",
       "    <span style=\"font-size: 0.8em; font-weight: bold; line-height: 1; border-radius: 0.35em; vertical-align: middle; margin-left: 0.5rem\">predicate</span>\n",
       "</mark>\n",
       " movies akin to \n",
       "<mark class=\"entity\" style=\"background: #ddd; padding: 0.45em 0.6em; margin: 0 0.25em; line-height: 1; border-radius: 0.35em;\">\n",
       "    Divergence\n",
       "    <span style=\"font-size: 0.8em; font-weight: bold; line-height: 1; border-radius: 0.35em; vertical-align: middle; margin-left: 0.5rem\">movie</span>\n",
       "</mark>\n",
       ", \n",
       "<mark class=\"entity\" style=\"background: #ddd; padding: 0.45em 0.6em; margin: 0 0.25em; line-height: 1; border-radius: 0.35em;\">\n",
       "    Bhoothnath Returns\n",
       "    <span style=\"font-size: 0.8em; font-weight: bold; line-height: 1; border-radius: 0.35em; vertical-align: middle; margin-left: 0.5rem\">movie</span>\n",
       "</mark>\n",
       ", and \n",
       "<mark class=\"entity\" style=\"background: #ddd; padding: 0.45em 0.6em; margin: 0 0.25em; line-height: 1; border-radius: 0.35em;\">\n",
       "    De Palma\n",
       "    <span style=\"font-size: 0.8em; font-weight: bold; line-height: 1; border-radius: 0.35em; vertical-align: middle; margin-left: 0.5rem\">name</span>\n",
       "</mark>\n",
       "?</div></span>"
      ],
      "text/plain": [
       "<IPython.core.display.HTML object>"
      ]
     },
     "metadata": {},
     "output_type": "display_data"
    },
    {
     "name": "stdout",
     "output_type": "stream",
     "text": [
      "Can you recommend movies akin to Divergence, Bhoothnath Returns, and De Palma? {'entities': [(33, 43, 'movie'), (45, 63, 'movie'), (69, 77, 'movie'), (8, 17, 'predicate')]}\n",
      "Missing name label\n"
     ]
    },
    {
     "data": {
      "text/html": [
       "<span class=\"tex2jax_ignore\"><div class=\"entities\" style=\"line-height: 2.5; direction: ltr\">I've enjoyed \n",
       "<mark class=\"entity\" style=\"background: #ddd; padding: 0.45em 0.6em; margin: 0 0.25em; line-height: 1; border-radius: 0.35em;\">\n",
       "    Mini's First Time\n",
       "    <span style=\"font-size: 0.8em; font-weight: bold; line-height: 1; border-radius: 0.35em; vertical-align: middle; margin-left: 0.5rem\">movie</span>\n",
       "</mark>\n",
       ", \n",
       "<mark class=\"entity\" style=\"background: #ddd; padding: 0.45em 0.6em; margin: 0 0.25em; line-height: 1; border-radius: 0.35em;\">\n",
       "    Address Unknown\n",
       "    <span style=\"font-size: 0.8em; font-weight: bold; line-height: 1; border-radius: 0.35em; vertical-align: middle; margin-left: 0.5rem\">movie</span>\n",
       "</mark>\n",
       ", and \n",
       "<mark class=\"entity\" style=\"background: #ddd; padding: 0.45em 0.6em; margin: 0 0.25em; line-height: 1; border-radius: 0.35em;\">\n",
       "    Needing You\n",
       "    <span style=\"font-size: 0.8em; font-weight: bold; line-height: 1; border-radius: 0.35em; vertical-align: middle; margin-left: 0.5rem\">movie</span>\n",
       "</mark>\n",
       ".... Any recommendations for movies in a similar vein?</div></span>"
      ],
      "text/plain": [
       "<IPython.core.display.HTML object>"
      ]
     },
     "metadata": {},
     "output_type": "display_data"
    },
    {
     "name": "stdout",
     "output_type": "stream",
     "text": [
      "I've enjoyed Mini's First Time, Address Unknown, and Needing You.... Any recommendations for movies in a similar vein? {'entities': [(13, 30, 'movie'), (32, 47, 'movie'), (53, 67, 'movie'), (73, 82, 'predicate')]}\n",
      "Missing movie label\n"
     ]
    },
    {
     "data": {
      "text/html": [
       "<span class=\"tex2jax_ignore\"><div class=\"entities\" style=\"line-height: 2.5; direction: ltr\">Enjoyed the storytelling in \n",
       "<mark class=\"entity\" style=\"background: #ddd; padding: 0.45em 0.6em; margin: 0 0.25em; line-height: 1; border-radius: 0.35em;\">\n",
       "    JCVD,\n",
       "    <span style=\"font-size: 0.8em; font-weight: bold; line-height: 1; border-radius: 0.35em; vertical-align: middle; margin-left: 0.5rem\">movie</span>\n",
       "</mark>\n",
       " \n",
       "<mark class=\"entity\" style=\"background: #ddd; padding: 0.45em 0.6em; margin: 0 0.25em; line-height: 1; border-radius: 0.35em;\">\n",
       "    Taxi\n",
       "    <span style=\"font-size: 0.8em; font-weight: bold; line-height: 1; border-radius: 0.35em; vertical-align: middle; margin-left: 0.5rem\">movie</span>\n",
       "</mark>\n",
       ", and \n",
       "<mark class=\"entity\" style=\"background: #ddd; padding: 0.45em 0.6em; margin: 0 0.25em; line-height: 1; border-radius: 0.35em;\">\n",
       "    The Mimic\n",
       "    <span style=\"font-size: 0.8em; font-weight: bold; line-height: 1; border-radius: 0.35em; vertical-align: middle; margin-left: 0.5rem\">movie</span>\n",
       "</mark>\n",
       ". Any recommendations for movies that weave narratives in a comparable fashion?</div></span>"
      ],
      "text/plain": [
       "<IPython.core.display.HTML object>"
      ]
     },
     "metadata": {},
     "output_type": "display_data"
    },
    {
     "name": "stdout",
     "output_type": "stream",
     "text": [
      "Enjoyed the storytelling in JCVD, Taxi, and The Mimic. Any recommendations for movies that weave narratives in a comparable fashion? {'entities': [(28, 32, 'movie'), (34, 38, 'movie'), (44, 53, 'movie'), (59, 68, 'predicate')]}\n",
      "Missing movie label\n"
     ]
    },
    {
     "data": {
      "text/html": [
       "<span class=\"tex2jax_ignore\"><div class=\"entities\" style=\"line-height: 2.5; direction: ltr\">Being a fan of \n",
       "<mark class=\"entity\" style=\"background: #ddd; padding: 0.45em 0.6em; margin: 0 0.25em; line-height: 1; border-radius: 0.35em;\">\n",
       "    Hateship, Loveship,\n",
       "    <span style=\"font-size: 0.8em; font-weight: bold; line-height: 1; border-radius: 0.35em; vertical-align: middle; margin-left: 0.5rem\">movie</span>\n",
       "</mark>\n",
       " Daddy's Home 2, and \n",
       "<mark class=\"entity\" style=\"background: #ddd; padding: 0.45em 0.6em; margin: 0 0.25em; line-height: 1; border-radius: 0.35em;\">\n",
       "    Avalon\n",
       "    <span style=\"font-size: 0.8em; font-weight: bold; line-height: 1; border-radius: 0.35em; vertical-align: middle; margin-left: 0.5rem\">movie</span>\n",
       "</mark>\n",
       ", are there similar movies you'd \n",
       "<mark class=\"entity\" style=\"background: #ddd; padding: 0.45em 0.6em; margin: 0 0.25em; line-height: 1; border-radius: 0.35em;\">\n",
       "    recommend\n",
       "    <span style=\"font-size: 0.8em; font-weight: bold; line-height: 1; border-radius: 0.35em; vertical-align: middle; margin-left: 0.5rem\">predicate</span>\n",
       "</mark>\n",
       "?</div></span>"
      ],
      "text/plain": [
       "<IPython.core.display.HTML object>"
      ]
     },
     "metadata": {},
     "output_type": "display_data"
    },
    {
     "name": "stdout",
     "output_type": "stream",
     "text": [
      "Being a fan of Hateship, Loveship, Daddy's Home 2, and Avalon, are there similar movies you'd recommend? {'entities': [(15, 33, 'movie'), (35, 49, 'movie'), (55, 61, 'movie'), (94, 103, 'predicate')]}\n",
      "Missing movie label\n"
     ]
    },
    {
     "data": {
      "text/html": [
       "<span class=\"tex2jax_ignore\"><div class=\"entities\" style=\"line-height: 2.5; direction: ltr\">I'm a fan of \n",
       "<mark class=\"entity\" style=\"background: #ddd; padding: 0.45em 0.6em; margin: 0 0.25em; line-height: 1; border-radius: 0.35em;\">\n",
       "    Words and Pictures and\n",
       "    <span style=\"font-size: 0.8em; font-weight: bold; line-height: 1; border-radius: 0.35em; vertical-align: middle; margin-left: 0.5rem\">movie</span>\n",
       "</mark>\n",
       " \n",
       "<mark class=\"entity\" style=\"background: #ddd; padding: 0.45em 0.6em; margin: 0 0.25em; line-height: 1; border-radius: 0.35em;\">\n",
       "    Fertile Ground\n",
       "    <span style=\"font-size: 0.8em; font-weight: bold; line-height: 1; border-radius: 0.35em; vertical-align: middle; margin-left: 0.5rem\">movie</span>\n",
       "</mark>\n",
       ". Any suggestions for similar movies?</div></span>"
      ],
      "text/plain": [
       "<IPython.core.display.HTML object>"
      ]
     },
     "metadata": {},
     "output_type": "display_data"
    },
    {
     "name": "stdout",
     "output_type": "stream",
     "text": [
      "I'm a fan of Words and Pictures and Fertile Ground. Any suggestions for similar movies? {'entities': [(13, 31, 'movie'), (36, 50, 'movie'), (56, 63, 'predicate')]}\n",
      "Missing movie label\n"
     ]
    },
    {
     "data": {
      "text/html": [
       "<span class=\"tex2jax_ignore\"><div class=\"entities\" style=\"line-height: 2.5; direction: ltr\">Looking for movies in the same vein as \n",
       "<mark class=\"entity\" style=\"background: #ddd; padding: 0.45em 0.6em; margin: 0 0.25em; line-height: 1; border-radius: 0.35em;\">\n",
       "    The Kingdom of Dreams\n",
       "    <span style=\"font-size: 0.8em; font-weight: bold; line-height: 1; border-radius: 0.35em; vertical-align: middle; margin-left: 0.5rem\">movie</span>\n",
       "</mark>\n",
       " and \n",
       "<mark class=\"entity\" style=\"background: #ddd; padding: 0.45em 0.6em; margin: 0 0.25em; line-height: 1; border-radius: 0.35em;\">\n",
       "    Madness, Me, Myself and Her\n",
       "    <span style=\"font-size: 0.8em; font-weight: bold; line-height: 1; border-radius: 0.35em; vertical-align: middle; margin-left: 0.5rem\">movie</span>\n",
       "</mark>\n",
       ", and \n",
       "<mark class=\"entity\" style=\"background: #ddd; padding: 0.45em 0.6em; margin: 0 0.25em; line-height: 1; border-radius: 0.35em;\">\n",
       "    Shadows and Fog\n",
       "    <span style=\"font-size: 0.8em; font-weight: bold; line-height: 1; border-radius: 0.35em; vertical-align: middle; margin-left: 0.5rem\">movie</span>\n",
       "</mark>\n",
       ". Any recommendations?</div></span>"
      ],
      "text/plain": [
       "<IPython.core.display.HTML object>"
      ]
     },
     "metadata": {},
     "output_type": "display_data"
    },
    {
     "name": "stdout",
     "output_type": "stream",
     "text": [
      "Looking for movies in the same vein as The Kingdom of Dreams and Madness, Me, Myself and Her, and Shadows and Fog. Any recommendations? {'entities': [(39, 72, 'movie'), (74, 92, 'movie'), (98, 113, 'movie'), (119, 128, 'predicate')]}\n",
      "Missing movie label\n"
     ]
    },
    {
     "data": {
      "text/html": [
       "<span class=\"tex2jax_ignore\"><div class=\"entities\" style=\"line-height: 2.5; direction: ltr\">Looking for movies in the same vein as \n",
       "<mark class=\"entity\" style=\"background: #ddd; padding: 0.45em 0.6em; margin: 0 0.25em; line-height: 1; border-radius: 0.35em;\">\n",
       "    The Kingdom of Dreams\n",
       "    <span style=\"font-size: 0.8em; font-weight: bold; line-height: 1; border-radius: 0.35em; vertical-align: middle; margin-left: 0.5rem\">movie</span>\n",
       "</mark>\n",
       " and \n",
       "<mark class=\"entity\" style=\"background: #ddd; padding: 0.45em 0.6em; margin: 0 0.25em; line-height: 1; border-radius: 0.35em;\">\n",
       "    Madness, Me, Myself and Her\n",
       "    <span style=\"font-size: 0.8em; font-weight: bold; line-height: 1; border-radius: 0.35em; vertical-align: middle; margin-left: 0.5rem\">movie</span>\n",
       "</mark>\n",
       ", and \n",
       "<mark class=\"entity\" style=\"background: #ddd; padding: 0.45em 0.6em; margin: 0 0.25em; line-height: 1; border-radius: 0.35em;\">\n",
       "    Shadows and Fog\n",
       "    <span style=\"font-size: 0.8em; font-weight: bold; line-height: 1; border-radius: 0.35em; vertical-align: middle; margin-left: 0.5rem\">movie</span>\n",
       "</mark>\n",
       ". Any recommendations?</div></span>"
      ],
      "text/plain": [
       "<IPython.core.display.HTML object>"
      ]
     },
     "metadata": {},
     "output_type": "display_data"
    },
    {
     "name": "stdout",
     "output_type": "stream",
     "text": [
      "Looking for movies in the same vein as The Kingdom of Dreams and Madness, Me, Myself and Her, and Shadows and Fog. Any recommendations? {'entities': [(39, 72, 'movie'), (74, 92, 'movie'), (98, 113, 'movie'), (119, 128, 'predicate')]}\n",
      "Missing movie label\n"
     ]
    },
    {
     "data": {
      "text/html": [
       "<span class=\"tex2jax_ignore\"><div class=\"entities\" style=\"line-height: 2.5; direction: ltr\">I'm a fan of \n",
       "<mark class=\"entity\" style=\"background: #ddd; padding: 0.45em 0.6em; margin: 0 0.25em; line-height: 1; border-radius: 0.35em;\">\n",
       "    About Last Night\n",
       "    <span style=\"font-size: 0.8em; font-weight: bold; line-height: 1; border-radius: 0.35em; vertical-align: middle; margin-left: 0.5rem\">movie</span>\n",
       "</mark>\n",
       ".... Any suggestions for similar movies?</div></span>"
      ],
      "text/plain": [
       "<IPython.core.display.HTML object>"
      ]
     },
     "metadata": {},
     "output_type": "display_data"
    },
    {
     "name": "stdout",
     "output_type": "stream",
     "text": [
      "I'm a fan of About Last Night.... Any suggestions for similar movies? {'entities': [(13, 32, 'movie'), (38, 45, 'predicate')]}\n",
      "Missing movie label\n"
     ]
    },
    {
     "data": {
      "text/html": [
       "<span class=\"tex2jax_ignore\"><div class=\"entities\" style=\"line-height: 2.5; direction: ltr\">Looking for movies in the same vein as \n",
       "<mark class=\"entity\" style=\"background: #ddd; padding: 0.45em 0.6em; margin: 0 0.25em; line-height: 1; border-radius: 0.35em;\">\n",
       "    The Edukators\n",
       "    <span style=\"font-size: 0.8em; font-weight: bold; line-height: 1; border-radius: 0.35em; vertical-align: middle; margin-left: 0.5rem\">movie</span>\n",
       "</mark>\n",
       " and \n",
       "<mark class=\"entity\" style=\"background: #ddd; padding: 0.45em 0.6em; margin: 0 0.25em; line-height: 1; border-radius: 0.35em;\">\n",
       "    Texas Chainsaw\n",
       "    <span style=\"font-size: 0.8em; font-weight: bold; line-height: 1; border-radius: 0.35em; vertical-align: middle; margin-left: 0.5rem\">movie</span>\n",
       "</mark>\n",
       " 3D. Any recommendations?</div></span>"
      ],
      "text/plain": [
       "<IPython.core.display.HTML object>"
      ]
     },
     "metadata": {},
     "output_type": "display_data"
    },
    {
     "name": "stdout",
     "output_type": "stream",
     "text": [
      "Looking for movies in the same vein as The Edukators and Texas Chainsaw 3D. Any recommendations? {'entities': [(39, 52, 'movie'), (57, 74, 'movie'), (80, 89, 'predicate')]}\n",
      "Missing movie label\n"
     ]
    },
    {
     "data": {
      "text/html": [
       "<span class=\"tex2jax_ignore\"><div class=\"entities\" style=\"line-height: 2.5; direction: ltr\">I've enjoyed \n",
       "<mark class=\"entity\" style=\"background: #ddd; padding: 0.45em 0.6em; margin: 0 0.25em; line-height: 1; border-radius: 0.35em;\">\n",
       "    Fiston,\n",
       "    <span style=\"font-size: 0.8em; font-weight: bold; line-height: 1; border-radius: 0.35em; vertical-align: middle; margin-left: 0.5rem\">movie</span>\n",
       "</mark>\n",
       " \n",
       "<mark class=\"entity\" style=\"background: #ddd; padding: 0.45em 0.6em; margin: 0 0.25em; line-height: 1; border-radius: 0.35em;\">\n",
       "    Street of No Return\n",
       "    <span style=\"font-size: 0.8em; font-weight: bold; line-height: 1; border-radius: 0.35em; vertical-align: middle; margin-left: 0.5rem\">movie</span>\n",
       "</mark>\n",
       ", and \n",
       "<mark class=\"entity\" style=\"background: #ddd; padding: 0.45em 0.6em; margin: 0 0.25em; line-height: 1; border-radius: 0.35em;\">\n",
       "    Trail of the Pink Panther\n",
       "    <span style=\"font-size: 0.8em; font-weight: bold; line-height: 1; border-radius: 0.35em; vertical-align: middle; margin-left: 0.5rem\">movie</span>\n",
       "</mark>\n",
       ". Any recommendations for movies in a similar vein?</div></span>"
      ],
      "text/plain": [
       "<IPython.core.display.HTML object>"
      ]
     },
     "metadata": {},
     "output_type": "display_data"
    },
    {
     "name": "stdout",
     "output_type": "stream",
     "text": [
      "I've enjoyed Fiston, Street of No Return, and Trail of the Pink Panther. Any recommendations for movies in a similar vein? {'entities': [(13, 19, 'movie'), (21, 40, 'movie'), (46, 71, 'movie'), (77, 86, 'predicate')]}\n",
      "Missing movie label\n"
     ]
    },
    {
     "data": {
      "text/html": [
       "<span class=\"tex2jax_ignore\"><div class=\"entities\" style=\"line-height: 2.5; direction: ltr\">Seeking recommendations for movies like \n",
       "<mark class=\"entity\" style=\"background: #ddd; padding: 0.45em 0.6em; margin: 0 0.25em; line-height: 1; border-radius: 0.35em;\">\n",
       "    Monsignor,\n",
       "    <span style=\"font-size: 0.8em; font-weight: bold; line-height: 1; border-radius: 0.35em; vertical-align: middle; margin-left: 0.5rem\">movie</span>\n",
       "</mark>\n",
       " \n",
       "<mark class=\"entity\" style=\"background: #ddd; padding: 0.45em 0.6em; margin: 0 0.25em; line-height: 1; border-radius: 0.35em;\">\n",
       "    God Bless America\n",
       "    <span style=\"font-size: 0.8em; font-weight: bold; line-height: 1; border-radius: 0.35em; vertical-align: middle; margin-left: 0.5rem\">movie</span>\n",
       "</mark>\n",
       ", and \n",
       "<mark class=\"entity\" style=\"background: #ddd; padding: 0.45em 0.6em; margin: 0 0.25em; line-height: 1; border-radius: 0.35em;\">\n",
       "    The Adventures of Robin Hood\n",
       "    <span style=\"font-size: 0.8em; font-weight: bold; line-height: 1; border-radius: 0.35em; vertical-align: middle; margin-left: 0.5rem\">movie</span>\n",
       "</mark>\n",
       "</div></span>"
      ],
      "text/plain": [
       "<IPython.core.display.HTML object>"
      ]
     },
     "metadata": {},
     "output_type": "display_data"
    },
    {
     "name": "stdout",
     "output_type": "stream",
     "text": [
      "Seeking recommendations for movies like Monsignor, God Bless America, and The Adventures of Robin Hood {'entities': [(40, 49, 'movie'), (51, 68, 'movie'), (74, 102, 'movie'), (8, 17, 'predicate')]}\n",
      "Missing movie label\n"
     ]
    },
    {
     "data": {
      "text/html": [
       "<span class=\"tex2jax_ignore\"><div class=\"entities\" style=\"line-height: 2.5; direction: ltr\">Since I like \n",
       "<mark class=\"entity\" style=\"background: #ddd; padding: 0.45em 0.6em; margin: 0 0.25em; line-height: 1; border-radius: 0.35em;\">\n",
       "    Distant Voices\n",
       "    <span style=\"font-size: 0.8em; font-weight: bold; line-height: 1; border-radius: 0.35em; vertical-align: middle; margin-left: 0.5rem\">movie</span>\n",
       "</mark>\n",
       ", \n",
       "<mark class=\"entity\" style=\"background: #ddd; padding: 0.45em 0.6em; margin: 0 0.25em; line-height: 1; border-radius: 0.35em;\">\n",
       "    Still Lives\n",
       "    <span style=\"font-size: 0.8em; font-weight: bold; line-height: 1; border-radius: 0.35em; vertical-align: middle; margin-left: 0.5rem\">movie</span>\n",
       "</mark>\n",
       ", what other movies do you think I might like?</div></span>"
      ],
      "text/plain": [
       "<IPython.core.display.HTML object>"
      ]
     },
     "metadata": {},
     "output_type": "display_data"
    },
    {
     "name": "stdout",
     "output_type": "stream",
     "text": [
      "Since I like Distant Voices, Still Lives, what other movies do you think I might like? {'entities': [(13, 40, 'movie')]}\n",
      "Missing movie label\n"
     ]
    },
    {
     "data": {
      "text/html": [
       "<span class=\"tex2jax_ignore\"><div class=\"entities\" style=\"line-height: 2.5; direction: ltr\">Since I like \n",
       "<mark class=\"entity\" style=\"background: #ddd; padding: 0.45em 0.6em; margin: 0 0.25em; line-height: 1; border-radius: 0.35em;\">\n",
       "    Distant Voices\n",
       "    <span style=\"font-size: 0.8em; font-weight: bold; line-height: 1; border-radius: 0.35em; vertical-align: middle; margin-left: 0.5rem\">movie</span>\n",
       "</mark>\n",
       ", \n",
       "<mark class=\"entity\" style=\"background: #ddd; padding: 0.45em 0.6em; margin: 0 0.25em; line-height: 1; border-radius: 0.35em;\">\n",
       "    Still Lives\n",
       "    <span style=\"font-size: 0.8em; font-weight: bold; line-height: 1; border-radius: 0.35em; vertical-align: middle; margin-left: 0.5rem\">movie</span>\n",
       "</mark>\n",
       ", what other movies do you think I might like?</div></span>"
      ],
      "text/plain": [
       "<IPython.core.display.HTML object>"
      ]
     },
     "metadata": {},
     "output_type": "display_data"
    },
    {
     "name": "stdout",
     "output_type": "stream",
     "text": [
      "Since I like Distant Voices, Still Lives, what other movies do you think I might like? {'entities': [(13, 40, 'movie')]}\n",
      "Missing movie label\n"
     ]
    },
    {
     "data": {
      "text/html": [
       "<span class=\"tex2jax_ignore\"><div class=\"entities\" style=\"line-height: 2.5; direction: ltr\">If \n",
       "<mark class=\"entity\" style=\"background: #ddd; padding: 0.45em 0.6em; margin: 0 0.25em; line-height: 1; border-radius: 0.35em;\">\n",
       "    Black\n",
       "    <span style=\"font-size: 0.8em; font-weight: bold; line-height: 1; border-radius: 0.35em; vertical-align: middle; margin-left: 0.5rem\">movie</span>\n",
       "</mark>\n",
       " and White in Color is my preference, do you have any movie recommendations for me?</div></span>"
      ],
      "text/plain": [
       "<IPython.core.display.HTML object>"
      ]
     },
     "metadata": {},
     "output_type": "display_data"
    },
    {
     "name": "stdout",
     "output_type": "stream",
     "text": [
      "If Black and White in Color is my preference, do you have any movie recommendations for me? {'entities': [(3, 27, 'movie'), (68, 77, 'predicate')]}\n",
      "Missing movie label\n"
     ]
    },
    {
     "data": {
      "text/html": [
       "<span class=\"tex2jax_ignore\"><div class=\"entities\" style=\"line-height: 2.5; direction: ltr\">Looking for movies in the same vein as \n",
       "<mark class=\"entity\" style=\"background: #ddd; padding: 0.45em 0.6em; margin: 0 0.25em; line-height: 1; border-radius: 0.35em;\">\n",
       "    My Summer in Provence\n",
       "    <span style=\"font-size: 0.8em; font-weight: bold; line-height: 1; border-radius: 0.35em; vertical-align: middle; margin-left: 0.5rem\">movie</span>\n",
       "</mark>\n",
       ", \n",
       "<mark class=\"entity\" style=\"background: #ddd; padding: 0.45em 0.6em; margin: 0 0.25em; line-height: 1; border-radius: 0.35em;\">\n",
       "    Analyze This, and Full Moon Party\n",
       "    <span style=\"font-size: 0.8em; font-weight: bold; line-height: 1; border-radius: 0.35em; vertical-align: middle; margin-left: 0.5rem\">movie</span>\n",
       "</mark>\n",
       ". Any recommendations?</div></span>"
      ],
      "text/plain": [
       "<IPython.core.display.HTML object>"
      ]
     },
     "metadata": {},
     "output_type": "display_data"
    },
    {
     "name": "stdout",
     "output_type": "stream",
     "text": [
      "Looking for movies in the same vein as My Summer in Provence, Analyze This, and Full Moon Party. Any recommendations? {'entities': [(39, 60, 'movie'), (62, 74, 'movie'), (80, 95, 'movie'), (101, 110, 'predicate')]}\n",
      "Missing movie label\n"
     ]
    },
    {
     "data": {
      "text/html": [
       "<span class=\"tex2jax_ignore\"><div class=\"entities\" style=\"line-height: 2.5; direction: ltr\">Do you know any movie similar to \n",
       "<mark class=\"entity\" style=\"background: #ddd; padding: 0.45em 0.6em; margin: 0 0.25em; line-height: 1; border-radius: 0.35em;\">\n",
       "    Silvered Water\n",
       "    <span style=\"font-size: 0.8em; font-weight: bold; line-height: 1; border-radius: 0.35em; vertical-align: middle; margin-left: 0.5rem\">movie</span>\n",
       "</mark>\n",
       ", Syria Self-Portrait, \n",
       "<mark class=\"entity\" style=\"background: #ddd; padding: 0.45em 0.6em; margin: 0 0.25em; line-height: 1; border-radius: 0.35em;\">\n",
       "    Needing You...\n",
       "    <span style=\"font-size: 0.8em; font-weight: bold; line-height: 1; border-radius: 0.35em; vertical-align: middle; margin-left: 0.5rem\">movie</span>\n",
       "</mark>\n",
       ", and \n",
       "<mark class=\"entity\" style=\"background: #ddd; padding: 0.45em 0.6em; margin: 0 0.25em; line-height: 1; border-radius: 0.35em;\">\n",
       "    Guilty as Charged\n",
       "    <span style=\"font-size: 0.8em; font-weight: bold; line-height: 1; border-radius: 0.35em; vertical-align: middle; margin-left: 0.5rem\">movie</span>\n",
       "</mark>\n",
       "</div></span>"
      ],
      "text/plain": [
       "<IPython.core.display.HTML object>"
      ]
     },
     "metadata": {},
     "output_type": "display_data"
    },
    {
     "name": "stdout",
     "output_type": "stream",
     "text": [
      "Do you know any movie similar to Silvered Water, Syria Self-Portrait, Needing You..., and Guilty as Charged {'entities': [(33, 68, 'movie'), (70, 84, 'movie'), (90, 107, 'movie')]}\n",
      "Missing movie label\n"
     ]
    },
    {
     "data": {
      "text/html": [
       "<span class=\"tex2jax_ignore\"><div class=\"entities\" style=\"line-height: 2.5; direction: ltr\">Looking for movies in the same vein as \n",
       "<mark class=\"entity\" style=\"background: #ddd; padding: 0.45em 0.6em; margin: 0 0.25em; line-height: 1; border-radius: 0.35em;\">\n",
       "    Black\n",
       "    <span style=\"font-size: 0.8em; font-weight: bold; line-height: 1; border-radius: 0.35em; vertical-align: middle; margin-left: 0.5rem\">movie</span>\n",
       "</mark>\n",
       " Mass. Any recommendations?</div></span>"
      ],
      "text/plain": [
       "<IPython.core.display.HTML object>"
      ]
     },
     "metadata": {},
     "output_type": "display_data"
    },
    {
     "name": "stdout",
     "output_type": "stream",
     "text": [
      "Looking for movies in the same vein as Black Mass. Any recommendations? {'entities': [(39, 49, 'movie'), (55, 64, 'predicate')]}\n",
      "Missing movie label\n"
     ]
    },
    {
     "data": {
      "text/html": [
       "<span class=\"tex2jax_ignore\"><div class=\"entities\" style=\"line-height: 2.5; direction: ltr\">Enjoyed the storytelling in \n",
       "<mark class=\"entity\" style=\"background: #ddd; padding: 0.45em 0.6em; margin: 0 0.25em; line-height: 1; border-radius: 0.35em;\">\n",
       "    Hits\n",
       "    <span style=\"font-size: 0.8em; font-weight: bold; line-height: 1; border-radius: 0.35em; vertical-align: middle; margin-left: 0.5rem\">movie</span>\n",
       "</mark>\n",
       ", \n",
       "<mark class=\"entity\" style=\"background: #ddd; padding: 0.45em 0.6em; margin: 0 0.25em; line-height: 1; border-radius: 0.35em;\">\n",
       "    Delta Farce\n",
       "    <span style=\"font-size: 0.8em; font-weight: bold; line-height: 1; border-radius: 0.35em; vertical-align: middle; margin-left: 0.5rem\">movie</span>\n",
       "</mark>\n",
       ", and \n",
       "<mark class=\"entity\" style=\"background: #ddd; padding: 0.45em 0.6em; margin: 0 0.25em; line-height: 1; border-radius: 0.35em;\">\n",
       "    Born in East L.A\n",
       "    <span style=\"font-size: 0.8em; font-weight: bold; line-height: 1; border-radius: 0.35em; vertical-align: middle; margin-left: 0.5rem\">movie</span>\n",
       "</mark>\n",
       ".. Any recommendations for movies that weave narratives in a comparable fashion?</div></span>"
      ],
      "text/plain": [
       "<IPython.core.display.HTML object>"
      ]
     },
     "metadata": {},
     "output_type": "display_data"
    },
    {
     "name": "stdout",
     "output_type": "stream",
     "text": [
      "Enjoyed the storytelling in Hits, Delta Farce, and Born in East L.A.. Any recommendations for movies that weave narratives in a comparable fashion? {'entities': [(28, 32, 'movie'), (34, 45, 'movie'), (51, 68, 'movie'), (74, 83, 'predicate')]}\n",
      "Missing movie label\n"
     ]
    },
    {
     "data": {
      "text/html": [
       "<span class=\"tex2jax_ignore\"><div class=\"entities\" style=\"line-height: 2.5; direction: ltr\">Can you \n",
       "<mark class=\"entity\" style=\"background: #ddd; padding: 0.45em 0.6em; margin: 0 0.25em; line-height: 1; border-radius: 0.35em;\">\n",
       "    recommend\n",
       "    <span style=\"font-size: 0.8em; font-weight: bold; line-height: 1; border-radius: 0.35em; vertical-align: middle; margin-left: 0.5rem\">predicate</span>\n",
       "</mark>\n",
       " movies akin to \n",
       "<mark class=\"entity\" style=\"background: #ddd; padding: 0.45em 0.6em; margin: 0 0.25em; line-height: 1; border-radius: 0.35em;\">\n",
       "    Josh\n",
       "    <span style=\"font-size: 0.8em; font-weight: bold; line-height: 1; border-radius: 0.35em; vertical-align: middle; margin-left: 0.5rem\">movie</span>\n",
       "</mark>\n",
       " and \n",
       "<mark class=\"entity\" style=\"background: #ddd; padding: 0.45em 0.6em; margin: 0 0.25em; line-height: 1; border-radius: 0.35em;\">\n",
       "    S.A.M.\n",
       "    <span style=\"font-size: 0.8em; font-weight: bold; line-height: 1; border-radius: 0.35em; vertical-align: middle; margin-left: 0.5rem\">movie</span>\n",
       "</mark>\n",
       "?</div></span>"
      ],
      "text/plain": [
       "<IPython.core.display.HTML object>"
      ]
     },
     "metadata": {},
     "output_type": "display_data"
    },
    {
     "name": "stdout",
     "output_type": "stream",
     "text": [
      "Can you recommend movies akin to Josh and S.A.M.? {'entities': [(33, 48, 'movie'), (8, 17, 'predicate')]}\n",
      "Missing movie label\n"
     ]
    },
    {
     "data": {
      "text/html": [
       "<span class=\"tex2jax_ignore\"><div class=\"entities\" style=\"line-height: 2.5; direction: ltr\">Can you \n",
       "<mark class=\"entity\" style=\"background: #ddd; padding: 0.45em 0.6em; margin: 0 0.25em; line-height: 1; border-radius: 0.35em;\">\n",
       "    recommend\n",
       "    <span style=\"font-size: 0.8em; font-weight: bold; line-height: 1; border-radius: 0.35em; vertical-align: middle; margin-left: 0.5rem\">predicate</span>\n",
       "</mark>\n",
       " movies akin to \n",
       "<mark class=\"entity\" style=\"background: #ddd; padding: 0.45em 0.6em; margin: 0 0.25em; line-height: 1; border-radius: 0.35em;\">\n",
       "    Josh\n",
       "    <span style=\"font-size: 0.8em; font-weight: bold; line-height: 1; border-radius: 0.35em; vertical-align: middle; margin-left: 0.5rem\">movie</span>\n",
       "</mark>\n",
       " and \n",
       "<mark class=\"entity\" style=\"background: #ddd; padding: 0.45em 0.6em; margin: 0 0.25em; line-height: 1; border-radius: 0.35em;\">\n",
       "    S.A.M.\n",
       "    <span style=\"font-size: 0.8em; font-weight: bold; line-height: 1; border-radius: 0.35em; vertical-align: middle; margin-left: 0.5rem\">movie</span>\n",
       "</mark>\n",
       "?</div></span>"
      ],
      "text/plain": [
       "<IPython.core.display.HTML object>"
      ]
     },
     "metadata": {},
     "output_type": "display_data"
    },
    {
     "name": "stdout",
     "output_type": "stream",
     "text": [
      "Can you recommend movies akin to Josh and S.A.M.? {'entities': [(33, 48, 'movie'), (8, 17, 'predicate')]}\n",
      "Missing movie label\n"
     ]
    },
    {
     "data": {
      "text/html": [
       "<span class=\"tex2jax_ignore\"><div class=\"entities\" style=\"line-height: 2.5; direction: ltr\">Looking to expand my movie playlist based on the likes of \n",
       "<mark class=\"entity\" style=\"background: #ddd; padding: 0.45em 0.6em; margin: 0 0.25em; line-height: 1; border-radius: 0.35em;\">\n",
       "    A Thousand Times Good Night,\n",
       "    <span style=\"font-size: 0.8em; font-weight: bold; line-height: 1; border-radius: 0.35em; vertical-align: middle; margin-left: 0.5rem\">movie</span>\n",
       "</mark>\n",
       " \n",
       "<mark class=\"entity\" style=\"background: #ddd; padding: 0.45em 0.6em; margin: 0 0.25em; line-height: 1; border-radius: 0.35em;\">\n",
       "    Bubba Ho-tep\n",
       "    <span style=\"font-size: 0.8em; font-weight: bold; line-height: 1; border-radius: 0.35em; vertical-align: middle; margin-left: 0.5rem\">movie</span>\n",
       "</mark>\n",
       ", and \n",
       "<mark class=\"entity\" style=\"background: #ddd; padding: 0.45em 0.6em; margin: 0 0.25em; line-height: 1; border-radius: 0.35em;\">\n",
       "    Trixie\n",
       "    <span style=\"font-size: 0.8em; font-weight: bold; line-height: 1; border-radius: 0.35em; vertical-align: middle; margin-left: 0.5rem\">movie</span>\n",
       "</mark>\n",
       ". Any hidden gems you'd \n",
       "<mark class=\"entity\" style=\"background: #ddd; padding: 0.45em 0.6em; margin: 0 0.25em; line-height: 1; border-radius: 0.35em;\">\n",
       "    recommend\n",
       "    <span style=\"font-size: 0.8em; font-weight: bold; line-height: 1; border-radius: 0.35em; vertical-align: middle; margin-left: 0.5rem\">predicate</span>\n",
       "</mark>\n",
       "?</div></span>"
      ],
      "text/plain": [
       "<IPython.core.display.HTML object>"
      ]
     },
     "metadata": {},
     "output_type": "display_data"
    },
    {
     "name": "stdout",
     "output_type": "stream",
     "text": [
      "Looking to expand my movie playlist based on the likes of A Thousand Times Good Night, Bubba Ho-tep, and Trixie. Any hidden gems you'd recommend? {'entities': [(58, 85, 'movie'), (87, 99, 'movie'), (105, 111, 'movie'), (135, 144, 'predicate')]}\n",
      "Missing movie label\n"
     ]
    },
    {
     "data": {
      "text/html": [
       "<span class=\"tex2jax_ignore\"><div class=\"entities\" style=\"line-height: 2.5; direction: ltr\">I've enjoyed \n",
       "<mark class=\"entity\" style=\"background: #ddd; padding: 0.45em 0.6em; margin: 0 0.25em; line-height: 1; border-radius: 0.35em;\">\n",
       "    The Way We Laughed\n",
       "    <span style=\"font-size: 0.8em; font-weight: bold; line-height: 1; border-radius: 0.35em; vertical-align: middle; margin-left: 0.5rem\">movie</span>\n",
       "</mark>\n",
       " and \n",
       "<mark class=\"entity\" style=\"background: #ddd; padding: 0.45em 0.6em; margin: 0 0.25em; line-height: 1; border-radius: 0.35em;\">\n",
       "    Super Mario Bros\n",
       "    <span style=\"font-size: 0.8em; font-weight: bold; line-height: 1; border-radius: 0.35em; vertical-align: middle; margin-left: 0.5rem\">movie</span>\n",
       "</mark>\n",
       ".. Any recommendations for movies in a similar vein?</div></span>"
      ],
      "text/plain": [
       "<IPython.core.display.HTML object>"
      ]
     },
     "metadata": {},
     "output_type": "display_data"
    },
    {
     "name": "stdout",
     "output_type": "stream",
     "text": [
      "I've enjoyed The Way We Laughed and Super Mario Bros.. Any recommendations for movies in a similar vein? {'entities': [(13, 31, 'movie'), (36, 53, 'movie'), (59, 68, 'predicate')]}\n",
      "Missing movie label\n"
     ]
    },
    {
     "data": {
      "text/html": [
       "<span class=\"tex2jax_ignore\"><div class=\"entities\" style=\"line-height: 2.5; direction: ltr\">Since I like \n",
       "<mark class=\"entity\" style=\"background: #ddd; padding: 0.45em 0.6em; margin: 0 0.25em; line-height: 1; border-radius: 0.35em;\">\n",
       "    What the Bleep\n",
       "    <span style=\"font-size: 0.8em; font-weight: bold; line-height: 1; border-radius: 0.35em; vertical-align: middle; margin-left: 0.5rem\">movie</span>\n",
       "</mark>\n",
       " Do We Know!?, what other movies do you think I might like?</div></span>"
      ],
      "text/plain": [
       "<IPython.core.display.HTML object>"
      ]
     },
     "metadata": {},
     "output_type": "display_data"
    },
    {
     "name": "stdout",
     "output_type": "stream",
     "text": [
      "Since I like What the Bleep Do We Know!?, what other movies do you think I might like? {'entities': [(13, 40, 'movie')]}\n",
      "Missing movie label\n"
     ]
    },
    {
     "data": {
      "text/html": [
       "<span class=\"tex2jax_ignore\"><div class=\"entities\" style=\"line-height: 2.5; direction: ltr\">If I enjoy \n",
       "<mark class=\"entity\" style=\"background: #ddd; padding: 0.45em 0.6em; margin: 0 0.25em; line-height: 1; border-radius: 0.35em;\">\n",
       "    Hell Night and\n",
       "    <span style=\"font-size: 0.8em; font-weight: bold; line-height: 1; border-radius: 0.35em; vertical-align: middle; margin-left: 0.5rem\">movie</span>\n",
       "</mark>\n",
       " \n",
       "<mark class=\"entity\" style=\"background: #ddd; padding: 0.45em 0.6em; margin: 0 0.25em; line-height: 1; border-radius: 0.35em;\">\n",
       "    Wishmaster\n",
       "    <span style=\"font-size: 0.8em; font-weight: bold; line-height: 1; border-radius: 0.35em; vertical-align: middle; margin-left: 0.5rem\">movie</span>\n",
       "</mark>\n",
       ", what other movies would you \n",
       "<mark class=\"entity\" style=\"background: #ddd; padding: 0.45em 0.6em; margin: 0 0.25em; line-height: 1; border-radius: 0.35em;\">\n",
       "    suggest\n",
       "    <span style=\"font-size: 0.8em; font-weight: bold; line-height: 1; border-radius: 0.35em; vertical-align: middle; margin-left: 0.5rem\">predicate</span>\n",
       "</mark>\n",
       "?</div></span>"
      ],
      "text/plain": [
       "<IPython.core.display.HTML object>"
      ]
     },
     "metadata": {},
     "output_type": "display_data"
    },
    {
     "name": "stdout",
     "output_type": "stream",
     "text": [
      "If I enjoy Hell Night and Wishmaster, what other movies would you suggest? {'entities': [(11, 21, 'movie'), (26, 36, 'movie'), (66, 73, 'predicate')]}\n",
      "Missing movie label\n"
     ]
    },
    {
     "data": {
      "text/html": [
       "<span class=\"tex2jax_ignore\"><div class=\"entities\" style=\"line-height: 2.5; direction: ltr\">Can you \n",
       "<mark class=\"entity\" style=\"background: #ddd; padding: 0.45em 0.6em; margin: 0 0.25em; line-height: 1; border-radius: 0.35em;\">\n",
       "    recommend\n",
       "    <span style=\"font-size: 0.8em; font-weight: bold; line-height: 1; border-radius: 0.35em; vertical-align: middle; margin-left: 0.5rem\">predicate</span>\n",
       "</mark>\n",
       " movies akin to \n",
       "<mark class=\"entity\" style=\"background: #ddd; padding: 0.45em 0.6em; margin: 0 0.25em; line-height: 1; border-radius: 0.35em;\">\n",
       "    Lila\n",
       "    <span style=\"font-size: 0.8em; font-weight: bold; line-height: 1; border-radius: 0.35em; vertical-align: middle; margin-left: 0.5rem\">movie</span>\n",
       "</mark>\n",
       ", \n",
       "<mark class=\"entity\" style=\"background: #ddd; padding: 0.45em 0.6em; margin: 0 0.25em; line-height: 1; border-radius: 0.35em;\">\n",
       "    Lila\n",
       "    <span style=\"font-size: 0.8em; font-weight: bold; line-height: 1; border-radius: 0.35em; vertical-align: middle; margin-left: 0.5rem\">movie</span>\n",
       "</mark>\n",
       "?</div></span>"
      ],
      "text/plain": [
       "<IPython.core.display.HTML object>"
      ]
     },
     "metadata": {},
     "output_type": "display_data"
    },
    {
     "name": "stdout",
     "output_type": "stream",
     "text": [
      "Can you recommend movies akin to Lila, Lila? {'entities': [(33, 43, 'movie'), (8, 17, 'predicate')]}\n",
      "Missing movie label\n"
     ]
    },
    {
     "data": {
      "text/html": [
       "<span class=\"tex2jax_ignore\"><div class=\"entities\" style=\"line-height: 2.5; direction: ltr\">Can you \n",
       "<mark class=\"entity\" style=\"background: #ddd; padding: 0.45em 0.6em; margin: 0 0.25em; line-height: 1; border-radius: 0.35em;\">\n",
       "    recommend\n",
       "    <span style=\"font-size: 0.8em; font-weight: bold; line-height: 1; border-radius: 0.35em; vertical-align: middle; margin-left: 0.5rem\">predicate</span>\n",
       "</mark>\n",
       " movies akin to \n",
       "<mark class=\"entity\" style=\"background: #ddd; padding: 0.45em 0.6em; margin: 0 0.25em; line-height: 1; border-radius: 0.35em;\">\n",
       "    Lila\n",
       "    <span style=\"font-size: 0.8em; font-weight: bold; line-height: 1; border-radius: 0.35em; vertical-align: middle; margin-left: 0.5rem\">movie</span>\n",
       "</mark>\n",
       ", \n",
       "<mark class=\"entity\" style=\"background: #ddd; padding: 0.45em 0.6em; margin: 0 0.25em; line-height: 1; border-radius: 0.35em;\">\n",
       "    Lila\n",
       "    <span style=\"font-size: 0.8em; font-weight: bold; line-height: 1; border-radius: 0.35em; vertical-align: middle; margin-left: 0.5rem\">movie</span>\n",
       "</mark>\n",
       "?</div></span>"
      ],
      "text/plain": [
       "<IPython.core.display.HTML object>"
      ]
     },
     "metadata": {},
     "output_type": "display_data"
    },
    {
     "name": "stdout",
     "output_type": "stream",
     "text": [
      "Can you recommend movies akin to Lila, Lila? {'entities': [(33, 43, 'movie'), (8, 17, 'predicate')]}\n",
      "Missing movie label\n"
     ]
    },
    {
     "data": {
      "text/html": [
       "<span class=\"tex2jax_ignore\"><div class=\"entities\" style=\"line-height: 2.5; direction: ltr\">Enjoyed the storytelling in \n",
       "<mark class=\"entity\" style=\"background: #ddd; padding: 0.45em 0.6em; margin: 0 0.25em; line-height: 1; border-radius: 0.35em;\">\n",
       "    Tanu Weds Manu: Returns and\n",
       "    <span style=\"font-size: 0.8em; font-weight: bold; line-height: 1; border-radius: 0.35em; vertical-align: middle; margin-left: 0.5rem\">movie</span>\n",
       "</mark>\n",
       " \n",
       "<mark class=\"entity\" style=\"background: #ddd; padding: 0.45em 0.6em; margin: 0 0.25em; line-height: 1; border-radius: 0.35em;\">\n",
       "    Aagadu\n",
       "    <span style=\"font-size: 0.8em; font-weight: bold; line-height: 1; border-radius: 0.35em; vertical-align: middle; margin-left: 0.5rem\">movie</span>\n",
       "</mark>\n",
       ". Any recommendations for movies that weave narratives in a comparable fashion?</div></span>"
      ],
      "text/plain": [
       "<IPython.core.display.HTML object>"
      ]
     },
     "metadata": {},
     "output_type": "display_data"
    },
    {
     "name": "stdout",
     "output_type": "stream",
     "text": [
      "Enjoyed the storytelling in Tanu Weds Manu: Returns and Aagadu. Any recommendations for movies that weave narratives in a comparable fashion? {'entities': [(28, 51, 'movie'), (56, 62, 'movie'), (68, 77, 'predicate')]}\n",
      "Missing movie label\n"
     ]
    },
    {
     "data": {
      "text/html": [
       "<span class=\"tex2jax_ignore\"><div class=\"entities\" style=\"line-height: 2.5; direction: ltr\">Since I like \n",
       "<mark class=\"entity\" style=\"background: #ddd; padding: 0.45em 0.6em; margin: 0 0.25em; line-height: 1; border-radius: 0.35em;\">\n",
       "    10\n",
       "    <span style=\"font-size: 0.8em; font-weight: bold; line-height: 1; border-radius: 0.35em; vertical-align: middle; margin-left: 0.5rem\">movie</span>\n",
       "</mark>\n",
       ", \n",
       "<mark class=\"entity\" style=\"background: #ddd; padding: 0.45em 0.6em; margin: 0 0.25em; line-height: 1; border-radius: 0.35em;\">\n",
       "    My Joy\n",
       "    <span style=\"font-size: 0.8em; font-weight: bold; line-height: 1; border-radius: 0.35em; vertical-align: middle; margin-left: 0.5rem\">movie</span>\n",
       "</mark>\n",
       ", and \n",
       "<mark class=\"entity\" style=\"background: #ddd; padding: 0.45em 0.6em; margin: 0 0.25em; line-height: 1; border-radius: 0.35em;\">\n",
       "    Joy\n",
       "    <span style=\"font-size: 0.8em; font-weight: bold; line-height: 1; border-radius: 0.35em; vertical-align: middle; margin-left: 0.5rem\">movie</span>\n",
       "</mark>\n",
       ", what other movies do you think I might like?</div></span>"
      ],
      "text/plain": [
       "<IPython.core.display.HTML object>"
      ]
     },
     "metadata": {},
     "output_type": "display_data"
    },
    {
     "name": "stdout",
     "output_type": "stream",
     "text": [
      "Since I like 10, My Joy, and Joy, what other movies do you think I might like? {'entities': [(13, 15, 'movie'), (17, 23, 'movie'), (20, 23, 'movie')]}\n",
      "Missing movie label\n"
     ]
    },
    {
     "data": {
      "text/html": [
       "<span class=\"tex2jax_ignore\"><div class=\"entities\" style=\"line-height: 2.5; direction: ltr\">Can you list all the movies starring \n",
       "<mark class=\"entity\" style=\"background: #ddd; padding: 0.45em 0.6em; margin: 0 0.25em; line-height: 1; border-radius: 0.35em;\">\n",
       "    Rebecca Williams\n",
       "    <span style=\"font-size: 0.8em; font-weight: bold; line-height: 1; border-radius: 0.35em; vertical-align: middle; margin-left: 0.5rem\">name</span>\n",
       "</mark>\n",
       ", \n",
       "<mark class=\"entity\" style=\"background: #ddd; padding: 0.45em 0.6em; margin: 0 0.25em; line-height: 1; border-radius: 0.35em;\">\n",
       "    Christopher Knights\n",
       "    <span style=\"font-size: 0.8em; font-weight: bold; line-height: 1; border-radius: 0.35em; vertical-align: middle; margin-left: 0.5rem\">name</span>\n",
       "</mark>\n",
       ", and \n",
       "<mark class=\"entity\" style=\"background: #ddd; padding: 0.45em 0.6em; margin: 0 0.25em; line-height: 1; border-radius: 0.35em;\">\n",
       "    Justice Leak\n",
       "    <span style=\"font-size: 0.8em; font-weight: bold; line-height: 1; border-radius: 0.35em; vertical-align: middle; margin-left: 0.5rem\">movie</span>\n",
       "</mark>\n",
       "?</div></span>"
      ],
      "text/plain": [
       "<IPython.core.display.HTML object>"
      ]
     },
     "metadata": {},
     "output_type": "display_data"
    },
    {
     "name": "stdout",
     "output_type": "stream",
     "text": [
      "Can you list all the movies starring Rebecca Williams, Christopher Knights, and Justice Leak? {'entities': [(37, 53, 'name'), (55, 74, 'name'), (80, 92, 'name')]}\n",
      "Missing movie label\n"
     ]
    },
    {
     "data": {
      "text/html": [
       "<span class=\"tex2jax_ignore\"><div class=\"entities\" style=\"line-height: 2.5; direction: ltr\">Are there any notable collaborations between \n",
       "<mark class=\"entity\" style=\"background: #ddd; padding: 0.45em 0.6em; margin: 0 0.25em; line-height: 1; border-radius: 0.35em;\">\n",
       "    Halston Sage\n",
       "    <span style=\"font-size: 0.8em; font-weight: bold; line-height: 1; border-radius: 0.35em; vertical-align: middle; margin-left: 0.5rem\">name</span>\n",
       "</mark>\n",
       ", \n",
       "<mark class=\"entity\" style=\"background: #ddd; padding: 0.45em 0.6em; margin: 0 0.25em; line-height: 1; border-radius: 0.35em;\">\n",
       "    Hans Reiser\n",
       "    <span style=\"font-size: 0.8em; font-weight: bold; line-height: 1; border-radius: 0.35em; vertical-align: middle; margin-left: 0.5rem\">name</span>\n",
       "</mark>\n",
       ", and \n",
       "<mark class=\"entity\" style=\"background: #ddd; padding: 0.45em 0.6em; margin: 0 0.25em; line-height: 1; border-radius: 0.35em;\">\n",
       "    Otakar Brousek, Sr.\n",
       "    <span style=\"font-size: 0.8em; font-weight: bold; line-height: 1; border-radius: 0.35em; vertical-align: middle; margin-left: 0.5rem\">movie</span>\n",
       "</mark>\n",
       " in the film industry?</div></span>"
      ],
      "text/plain": [
       "<IPython.core.display.HTML object>"
      ]
     },
     "metadata": {},
     "output_type": "display_data"
    },
    {
     "name": "stdout",
     "output_type": "stream",
     "text": [
      "Are there any notable collaborations between Halston Sage, Hans Reiser, and Otakar Brousek, Sr. in the film industry? {'entities': [(45, 57, 'name'), (59, 70, 'name'), (76, 95, 'name')]}\n",
      "Missing movie label\n"
     ]
    },
    {
     "data": {
      "text/html": [
       "<span class=\"tex2jax_ignore\"><div class=\"entities\" style=\"line-height: 2.5; direction: ltr\">Do \n",
       "<mark class=\"entity\" style=\"background: #ddd; padding: 0.45em 0.6em; margin: 0 0.25em; line-height: 1; border-radius: 0.35em;\">\n",
       "    Cadillac Records\n",
       "    <span style=\"font-size: 0.8em; font-weight: bold; line-height: 1; border-radius: 0.35em; vertical-align: middle; margin-left: 0.5rem\">name</span>\n",
       "</mark>\n",
       " and \n",
       "<mark class=\"entity\" style=\"background: #ddd; padding: 0.45em 0.6em; margin: 0 0.25em; line-height: 1; border-radius: 0.35em;\">\n",
       "    Rob-B-Hood\n",
       "    <span style=\"font-size: 0.8em; font-weight: bold; line-height: 1; border-radius: 0.35em; vertical-align: middle; margin-left: 0.5rem\">name</span>\n",
       "</mark>\n",
       " belong to the same film franchise?</div></span>"
      ],
      "text/plain": [
       "<IPython.core.display.HTML object>"
      ]
     },
     "metadata": {},
     "output_type": "display_data"
    },
    {
     "name": "stdout",
     "output_type": "stream",
     "text": [
      "Do Cadillac Records and Rob-B-Hood belong to the same film franchise? {'entities': [(3, 19, 'movie'), (24, 34, 'movie')]}\n",
      "Missing name label\n"
     ]
    },
    {
     "data": {
      "text/html": [
       "<span class=\"tex2jax_ignore\"><div class=\"entities\" style=\"line-height: 2.5; direction: ltr\">Do \n",
       "<mark class=\"entity\" style=\"background: #ddd; padding: 0.45em 0.6em; margin: 0 0.25em; line-height: 1; border-radius: 0.35em;\">\n",
       "    Cadillac Records\n",
       "    <span style=\"font-size: 0.8em; font-weight: bold; line-height: 1; border-radius: 0.35em; vertical-align: middle; margin-left: 0.5rem\">name</span>\n",
       "</mark>\n",
       " and \n",
       "<mark class=\"entity\" style=\"background: #ddd; padding: 0.45em 0.6em; margin: 0 0.25em; line-height: 1; border-radius: 0.35em;\">\n",
       "    Rob-B-Hood\n",
       "    <span style=\"font-size: 0.8em; font-weight: bold; line-height: 1; border-radius: 0.35em; vertical-align: middle; margin-left: 0.5rem\">name</span>\n",
       "</mark>\n",
       " belong to the same film franchise?</div></span>"
      ],
      "text/plain": [
       "<IPython.core.display.HTML object>"
      ]
     },
     "metadata": {},
     "output_type": "display_data"
    },
    {
     "name": "stdout",
     "output_type": "stream",
     "text": [
      "Do Cadillac Records and Rob-B-Hood belong to the same film franchise? {'entities': [(3, 19, 'movie'), (24, 34, 'movie')]}\n",
      "Missing name label\n"
     ]
    },
    {
     "data": {
      "text/html": [
       "<span class=\"tex2jax_ignore\"><div class=\"entities\" style=\"line-height: 2.5; direction: ltr\">Which actors from \n",
       "<mark class=\"entity\" style=\"background: #ddd; padding: 0.45em 0.6em; margin: 0 0.25em; line-height: 1; border-radius: 0.35em;\">\n",
       "    Gemma Bovery\n",
       "    <span style=\"font-size: 0.8em; font-weight: bold; line-height: 1; border-radius: 0.35em; vertical-align: middle; margin-left: 0.5rem\">movie</span>\n",
       "</mark>\n",
       " and \n",
       "<mark class=\"entity\" style=\"background: #ddd; padding: 0.45em 0.6em; margin: 0 0.25em; line-height: 1; border-radius: 0.35em;\">\n",
       "    Borg McEnroe\n",
       "    <span style=\"font-size: 0.8em; font-weight: bold; line-height: 1; border-radius: 0.35em; vertical-align: middle; margin-left: 0.5rem\">name</span>\n",
       "</mark>\n",
       " have collaborated in other films?</div></span>"
      ],
      "text/plain": [
       "<IPython.core.display.HTML object>"
      ]
     },
     "metadata": {},
     "output_type": "display_data"
    },
    {
     "name": "stdout",
     "output_type": "stream",
     "text": [
      "Which actors from Gemma Bovery and Borg McEnroe have collaborated in other films? {'entities': [(18, 30, 'movie'), (35, 47, 'movie'), (60, 65, 'predicate')]}\n",
      "Missing name label\n"
     ]
    },
    {
     "data": {
      "text/html": [
       "<span class=\"tex2jax_ignore\"><div class=\"entities\" style=\"line-height: 2.5; direction: ltr\">Do \n",
       "<mark class=\"entity\" style=\"background: #ddd; padding: 0.45em 0.6em; margin: 0 0.25em; line-height: 1; border-radius: 0.35em;\">\n",
       "    Sandra Vo-Anh and Sankaradi\n",
       "    <span style=\"font-size: 0.8em; font-weight: bold; line-height: 1; border-radius: 0.35em; vertical-align: middle; margin-left: 0.5rem\">name</span>\n",
       "</mark>\n",
       " share the screen in any movies?</div></span>"
      ],
      "text/plain": [
       "<IPython.core.display.HTML object>"
      ]
     },
     "metadata": {},
     "output_type": "display_data"
    },
    {
     "name": "stdout",
     "output_type": "stream",
     "text": [
      "Do Sandra Vo-Anh and Sankaradi share the screen in any movies? {'entities': [(3, 16, 'name'), (21, 30, 'name')]}\n",
      "Missing name label\n"
     ]
    },
    {
     "data": {
      "text/html": [
       "<span class=\"tex2jax_ignore\"><div class=\"entities\" style=\"line-height: 2.5; direction: ltr\">Are there any common themes or genres between \n",
       "<mark class=\"entity\" style=\"background: #ddd; padding: 0.45em 0.6em; margin: 0 0.25em; line-height: 1; border-radius: 0.35em;\">\n",
       "    Professor Kosta Vujic's Hat\n",
       "    <span style=\"font-size: 0.8em; font-weight: bold; line-height: 1; border-radius: 0.35em; vertical-align: middle; margin-left: 0.5rem\">movie</span>\n",
       "</mark>\n",
       " and \n",
       "<mark class=\"entity\" style=\"background: #ddd; padding: 0.45em 0.6em; margin: 0 0.25em; line-height: 1; border-radius: 0.35em;\">\n",
       "    Iru Mugan\n",
       "    <span style=\"font-size: 0.8em; font-weight: bold; line-height: 1; border-radius: 0.35em; vertical-align: middle; margin-left: 0.5rem\">name</span>\n",
       "</mark>\n",
       "?</div></span>"
      ],
      "text/plain": [
       "<IPython.core.display.HTML object>"
      ]
     },
     "metadata": {},
     "output_type": "display_data"
    },
    {
     "name": "stdout",
     "output_type": "stream",
     "text": [
      "Are there any common themes or genres between Professor Kosta Vujic's Hat and Iru Mugan? {'entities': [(46, 73, 'movie'), (78, 87, 'movie'), (31, 36, 'predicate')]}\n",
      "Missing name label\n"
     ]
    },
    {
     "data": {
      "text/html": [
       "<span class=\"tex2jax_ignore\"><div class=\"entities\" style=\"line-height: 2.5; direction: ltr\">Can you \n",
       "<mark class=\"entity\" style=\"background: #ddd; padding: 0.45em 0.6em; margin: 0 0.25em; line-height: 1; border-radius: 0.35em;\">\n",
       "    recommend\n",
       "    <span style=\"font-size: 0.8em; font-weight: bold; line-height: 1; border-radius: 0.35em; vertical-align: middle; margin-left: 0.5rem\">predicate</span>\n",
       "</mark>\n",
       " me a movie with a similar style than the movies from \n",
       "<mark class=\"entity\" style=\"background: #ddd; padding: 0.45em 0.6em; margin: 0 0.25em; line-height: 1; border-radius: 0.35em;\">\n",
       "    Park In-hwan\n",
       "    <span style=\"font-size: 0.8em; font-weight: bold; line-height: 1; border-radius: 0.35em; vertical-align: middle; margin-left: 0.5rem\">name</span>\n",
       "</mark>\n",
       " and \n",
       "<mark class=\"entity\" style=\"background: #ddd; padding: 0.45em 0.6em; margin: 0 0.25em; line-height: 1; border-radius: 0.35em;\">\n",
       "    Dulquer Salmaan\n",
       "    <span style=\"font-size: 0.8em; font-weight: bold; line-height: 1; border-radius: 0.35em; vertical-align: middle; margin-left: 0.5rem\">movie</span>\n",
       "</mark>\n",
       "</div></span>"
      ],
      "text/plain": [
       "<IPython.core.display.HTML object>"
      ]
     },
     "metadata": {},
     "output_type": "display_data"
    },
    {
     "name": "stdout",
     "output_type": "stream",
     "text": [
      "Can you recommend me a movie with a similar style than the movies from Park In-hwan and Dulquer Salmaan {'entities': [(71, 83, 'name'), (88, 103, 'name'), (8, 17, 'predicate')]}\n",
      "Missing movie label\n"
     ]
    },
    {
     "data": {
      "text/html": [
       "<span class=\"tex2jax_ignore\"><div class=\"entities\" style=\"line-height: 2.5; direction: ltr\">Recommend me movies with the genres \n",
       "<mark class=\"entity\" style=\"background: #ddd; padding: 0.45em 0.6em; margin: 0 0.25em; line-height: 1; border-radius: 0.35em;\">\n",
       "    traditionally animated\n",
       "    <span style=\"font-size: 0.8em; font-weight: bold; line-height: 1; border-radius: 0.35em; vertical-align: middle; margin-left: 0.5rem\">genre</span>\n",
       "</mark>\n",
       ", \n",
       "<mark class=\"entity\" style=\"background: #ddd; padding: 0.45em 0.6em; margin: 0 0.25em; line-height: 1; border-radius: 0.35em;\">\n",
       "    animated\n",
       "    <span style=\"font-size: 0.8em; font-weight: bold; line-height: 1; border-radius: 0.35em; vertical-align: middle; margin-left: 0.5rem\">genre</span>\n",
       "</mark>\n",
       ", and \n",
       "<mark class=\"entity\" style=\"background: #ddd; padding: 0.45em 0.6em; margin: 0 0.25em; line-height: 1; border-radius: 0.35em;\">\n",
       "    action thriller\n",
       "    <span style=\"font-size: 0.8em; font-weight: bold; line-height: 1; border-radius: 0.35em; vertical-align: middle; margin-left: 0.5rem\">genre</span>\n",
       "</mark>\n",
       "</div></span>"
      ],
      "text/plain": [
       "<IPython.core.display.HTML object>"
      ]
     },
     "metadata": {},
     "output_type": "display_data"
    },
    {
     "name": "stdout",
     "output_type": "stream",
     "text": [
      "Recommend me movies with the genres traditionally animated, animated, and action thriller {'entities': [(36, 58, 'genre'), (50, 58, 'genre'), (74, 89, 'genre'), (29, 34, 'predicate')]}\n",
      "Missing genre label\n"
     ]
    },
    {
     "data": {
      "text/html": [
       "<span class=\"tex2jax_ignore\"><div class=\"entities\" style=\"line-height: 2.5; direction: ltr\">Are there any critically acclaimed movies that successfully navigate the genres of both \n",
       "<mark class=\"entity\" style=\"background: #ddd; padding: 0.45em 0.6em; margin: 0 0.25em; line-height: 1; border-radius: 0.35em;\">\n",
       "    love triangle romance\n",
       "    <span style=\"font-size: 0.8em; font-weight: bold; line-height: 1; border-radius: 0.35em; vertical-align: middle; margin-left: 0.5rem\">genre</span>\n",
       "</mark>\n",
       " and \n",
       "<mark class=\"entity\" style=\"background: #ddd; padding: 0.45em 0.6em; margin: 0 0.25em; line-height: 1; border-radius: 0.35em;\">\n",
       "    romance\n",
       "    <span style=\"font-size: 0.8em; font-weight: bold; line-height: 1; border-radius: 0.35em; vertical-align: middle; margin-left: 0.5rem\">genre</span>\n",
       "</mark>\n",
       "?</div></span>"
      ],
      "text/plain": [
       "<IPython.core.display.HTML object>"
      ]
     },
     "metadata": {},
     "output_type": "display_data"
    },
    {
     "name": "stdout",
     "output_type": "stream",
     "text": [
      "Are there any critically acclaimed movies that successfully navigate the genres of both love triangle romance and romance? {'entities': [(88, 109, 'genre'), (102, 109, 'genre'), (73, 78, 'predicate')]}\n",
      "Missing genre label\n"
     ]
    },
    {
     "data": {
      "text/html": [
       "<span class=\"tex2jax_ignore\"><div class=\"entities\" style=\"line-height: 2.5; direction: ltr\">Can you recommend movies that span a wide range of genres, including \n",
       "<mark class=\"entity\" style=\"background: #ddd; padding: 0.45em 0.6em; margin: 0 0.25em; line-height: 1; border-radius: 0.35em;\">\n",
       "    post-apocalyptic fiction\n",
       "    <span style=\"font-size: 0.8em; font-weight: bold; line-height: 1; border-radius: 0.35em; vertical-align: middle; margin-left: 0.5rem\">genre</span>\n",
       "</mark>\n",
       ", \n",
       "<mark class=\"entity\" style=\"background: #ddd; padding: 0.45em 0.6em; margin: 0 0.25em; line-height: 1; border-radius: 0.35em;\">\n",
       "    Christian fiction\n",
       "    <span style=\"font-size: 0.8em; font-weight: bold; line-height: 1; border-radius: 0.35em; vertical-align: middle; margin-left: 0.5rem\">genre</span>\n",
       "</mark>\n",
       ", and \n",
       "<mark class=\"entity\" style=\"background: #ddd; padding: 0.45em 0.6em; margin: 0 0.25em; line-height: 1; border-radius: 0.35em;\">\n",
       "    fiction\n",
       "    <span style=\"font-size: 0.8em; font-weight: bold; line-height: 1; border-radius: 0.35em; vertical-align: middle; margin-left: 0.5rem\">genre</span>\n",
       "</mark>\n",
       "?</div></span>"
      ],
      "text/plain": [
       "<IPython.core.display.HTML object>"
      ]
     },
     "metadata": {},
     "output_type": "display_data"
    },
    {
     "name": "stdout",
     "output_type": "stream",
     "text": [
      "Can you recommend movies that span a wide range of genres, including post-apocalyptic fiction, Christian fiction, and fiction? {'entities': [(69, 93, 'genre'), (95, 112, 'genre'), (86, 93, 'genre'), (51, 56, 'predicate')]}\n",
      "Missing genre label\n"
     ]
    },
    {
     "data": {
      "text/html": [
       "<span class=\"tex2jax_ignore\"><div class=\"entities\" style=\"line-height: 2.5; direction: ltr\">Which actors from \n",
       "<mark class=\"entity\" style=\"background: #ddd; padding: 0.45em 0.6em; margin: 0 0.25em; line-height: 1; border-radius: 0.35em;\">\n",
       "    West of Memphis\n",
       "    <span style=\"font-size: 0.8em; font-weight: bold; line-height: 1; border-radius: 0.35em; vertical-align: middle; margin-left: 0.5rem\">movie</span>\n",
       "</mark>\n",
       " and \n",
       "<mark class=\"entity\" style=\"background: #ddd; padding: 0.45em 0.6em; margin: 0 0.25em; line-height: 1; border-radius: 0.35em;\">\n",
       "    Michel Vaillant\n",
       "    <span style=\"font-size: 0.8em; font-weight: bold; line-height: 1; border-radius: 0.35em; vertical-align: middle; margin-left: 0.5rem\">name</span>\n",
       "</mark>\n",
       " have collaborated in other films?</div></span>"
      ],
      "text/plain": [
       "<IPython.core.display.HTML object>"
      ]
     },
     "metadata": {},
     "output_type": "display_data"
    },
    {
     "name": "stdout",
     "output_type": "stream",
     "text": [
      "Which actors from West of Memphis and Michel Vaillant have collaborated in other films? {'entities': [(18, 33, 'movie'), (38, 53, 'movie'), (66, 71, 'predicate')]}\n",
      "Missing name label\n"
     ]
    },
    {
     "data": {
      "text/html": [
       "<span class=\"tex2jax_ignore\"><div class=\"entities\" style=\"line-height: 2.5; direction: ltr\">Do \n",
       "<mark class=\"entity\" style=\"background: #ddd; padding: 0.45em 0.6em; margin: 0 0.25em; line-height: 1; border-radius: 0.35em;\">\n",
       "    Sacrifice and 40 Days\n",
       "    <span style=\"font-size: 0.8em; font-weight: bold; line-height: 1; border-radius: 0.35em; vertical-align: middle; margin-left: 0.5rem\">movie</span>\n",
       "</mark>\n",
       " and \n",
       "<mark class=\"entity\" style=\"background: #ddd; padding: 0.45em 0.6em; margin: 0 0.25em; line-height: 1; border-radius: 0.35em;\">\n",
       "    40 Nights\n",
       "    <span style=\"font-size: 0.8em; font-weight: bold; line-height: 1; border-radius: 0.35em; vertical-align: middle; margin-left: 0.5rem\">movie</span>\n",
       "</mark>\n",
       " share any crew members or production staff?</div></span>"
      ],
      "text/plain": [
       "<IPython.core.display.HTML object>"
      ]
     },
     "metadata": {},
     "output_type": "display_data"
    },
    {
     "name": "stdout",
     "output_type": "stream",
     "text": [
      "Do Sacrifice and 40 Days and 40 Nights share any crew members or production staff? {'entities': [(3, 12, 'movie'), (17, 38, 'movie')]}\n",
      "Missing movie label\n"
     ]
    },
    {
     "data": {
      "text/html": [
       "<span class=\"tex2jax_ignore\"><div class=\"entities\" style=\"line-height: 2.5; direction: ltr\">Do \n",
       "<mark class=\"entity\" style=\"background: #ddd; padding: 0.45em 0.6em; margin: 0 0.25em; line-height: 1; border-radius: 0.35em;\">\n",
       "    Sacrifice and 40 Days\n",
       "    <span style=\"font-size: 0.8em; font-weight: bold; line-height: 1; border-radius: 0.35em; vertical-align: middle; margin-left: 0.5rem\">movie</span>\n",
       "</mark>\n",
       " and \n",
       "<mark class=\"entity\" style=\"background: #ddd; padding: 0.45em 0.6em; margin: 0 0.25em; line-height: 1; border-radius: 0.35em;\">\n",
       "    40 Nights\n",
       "    <span style=\"font-size: 0.8em; font-weight: bold; line-height: 1; border-radius: 0.35em; vertical-align: middle; margin-left: 0.5rem\">movie</span>\n",
       "</mark>\n",
       " share any crew members or production staff?</div></span>"
      ],
      "text/plain": [
       "<IPython.core.display.HTML object>"
      ]
     },
     "metadata": {},
     "output_type": "display_data"
    },
    {
     "name": "stdout",
     "output_type": "stream",
     "text": [
      "Do Sacrifice and 40 Days and 40 Nights share any crew members or production staff? {'entities': [(3, 12, 'movie'), (17, 38, 'movie')]}\n",
      "Missing movie label\n"
     ]
    },
    {
     "data": {
      "text/html": [
       "<span class=\"tex2jax_ignore\"><div class=\"entities\" style=\"line-height: 2.5; direction: ltr\">Do \n",
       "<mark class=\"entity\" style=\"background: #ddd; padding: 0.45em 0.6em; margin: 0 0.25em; line-height: 1; border-radius: 0.35em;\">\n",
       "    Lucy\n",
       "    <span style=\"font-size: 0.8em; font-weight: bold; line-height: 1; border-radius: 0.35em; vertical-align: middle; margin-left: 0.5rem\">name</span>\n",
       "</mark>\n",
       " and \n",
       "<mark class=\"entity\" style=\"background: #ddd; padding: 0.45em 0.6em; margin: 0 0.25em; line-height: 1; border-radius: 0.35em;\">\n",
       "    Gemma Bovery\n",
       "    <span style=\"font-size: 0.8em; font-weight: bold; line-height: 1; border-radius: 0.35em; vertical-align: middle; margin-left: 0.5rem\">movie</span>\n",
       "</mark>\n",
       " belong to the same film franchise?</div></span>"
      ],
      "text/plain": [
       "<IPython.core.display.HTML object>"
      ]
     },
     "metadata": {},
     "output_type": "display_data"
    },
    {
     "name": "stdout",
     "output_type": "stream",
     "text": [
      "Do Lucy and Gemma Bovery belong to the same film franchise? {'entities': [(3, 7, 'movie'), (12, 24, 'movie')]}\n",
      "Missing name label\n"
     ]
    },
    {
     "data": {
      "text/html": [
       "<span class=\"tex2jax_ignore\"><div class=\"entities\" style=\"line-height: 2.5; direction: ltr\">Can you list all the movies starring \n",
       "<mark class=\"entity\" style=\"background: #ddd; padding: 0.45em 0.6em; margin: 0 0.25em; line-height: 1; border-radius: 0.35em;\">\n",
       "    Jean-Yves Chilot\n",
       "    <span style=\"font-size: 0.8em; font-weight: bold; line-height: 1; border-radius: 0.35em; vertical-align: middle; margin-left: 0.5rem\">name</span>\n",
       "</mark>\n",
       ", \n",
       "<mark class=\"entity\" style=\"background: #ddd; padding: 0.45em 0.6em; margin: 0 0.25em; line-height: 1; border-radius: 0.35em;\">\n",
       "    Ryan el sucio Potter\n",
       "    <span style=\"font-size: 0.8em; font-weight: bold; line-height: 1; border-radius: 0.35em; vertical-align: middle; margin-left: 0.5rem\">name</span>\n",
       "</mark>\n",
       ", and \n",
       "<mark class=\"entity\" style=\"background: #ddd; padding: 0.45em 0.6em; margin: 0 0.25em; line-height: 1; border-radius: 0.35em;\">\n",
       "    Ray Griggs\n",
       "    <span style=\"font-size: 0.8em; font-weight: bold; line-height: 1; border-radius: 0.35em; vertical-align: middle; margin-left: 0.5rem\">movie</span>\n",
       "</mark>\n",
       "?</div></span>"
      ],
      "text/plain": [
       "<IPython.core.display.HTML object>"
      ]
     },
     "metadata": {},
     "output_type": "display_data"
    },
    {
     "name": "stdout",
     "output_type": "stream",
     "text": [
      "Can you list all the movies starring Jean-Yves Chilot, Ryan el sucio Potter, and Ray Griggs? {'entities': [(37, 53, 'name'), (55, 75, 'name'), (81, 91, 'name')]}\n",
      "Missing movie label\n"
     ]
    },
    {
     "data": {
      "text/html": [
       "<span class=\"tex2jax_ignore\"><div class=\"entities\" style=\"line-height: 2.5; direction: ltr\">Do \n",
       "<mark class=\"entity\" style=\"background: #ddd; padding: 0.45em 0.6em; margin: 0 0.25em; line-height: 1; border-radius: 0.35em;\">\n",
       "    Tom-Yum-Goong\n",
       "    <span style=\"font-size: 0.8em; font-weight: bold; line-height: 1; border-radius: 0.35em; vertical-align: middle; margin-left: 0.5rem\">name</span>\n",
       "</mark>\n",
       " and \n",
       "<mark class=\"entity\" style=\"background: #ddd; padding: 0.45em 0.6em; margin: 0 0.25em; line-height: 1; border-radius: 0.35em;\">\n",
       "    The Mirror\n",
       "    <span style=\"font-size: 0.8em; font-weight: bold; line-height: 1; border-radius: 0.35em; vertical-align: middle; margin-left: 0.5rem\">movie</span>\n",
       "</mark>\n",
       " share any crew members or production staff?</div></span>"
      ],
      "text/plain": [
       "<IPython.core.display.HTML object>"
      ]
     },
     "metadata": {},
     "output_type": "display_data"
    },
    {
     "name": "stdout",
     "output_type": "stream",
     "text": [
      "Do Tom-Yum-Goong and The Mirror share any crew members or production staff? {'entities': [(3, 16, 'movie'), (21, 31, 'movie')]}\n",
      "Missing name label\n"
     ]
    },
    {
     "data": {
      "text/html": [
       "<span class=\"tex2jax_ignore\"><div class=\"entities\" style=\"line-height: 2.5; direction: ltr\">Do \n",
       "<mark class=\"entity\" style=\"background: #ddd; padding: 0.45em 0.6em; margin: 0 0.25em; line-height: 1; border-radius: 0.35em;\">\n",
       "    Bowling Balls\n",
       "    <span style=\"font-size: 0.8em; font-weight: bold; line-height: 1; border-radius: 0.35em; vertical-align: middle; margin-left: 0.5rem\">name</span>\n",
       "</mark>\n",
       " and \n",
       "<mark class=\"entity\" style=\"background: #ddd; padding: 0.45em 0.6em; margin: 0 0.25em; line-height: 1; border-radius: 0.35em;\">\n",
       "    Les Meilleurs Amis du monde\n",
       "    <span style=\"font-size: 0.8em; font-weight: bold; line-height: 1; border-radius: 0.35em; vertical-align: middle; margin-left: 0.5rem\">name</span>\n",
       "</mark>\n",
       " belong to the same film franchise?</div></span>"
      ],
      "text/plain": [
       "<IPython.core.display.HTML object>"
      ]
     },
     "metadata": {},
     "output_type": "display_data"
    },
    {
     "name": "stdout",
     "output_type": "stream",
     "text": [
      "Do Bowling Balls and Les Meilleurs Amis du monde belong to the same film franchise? {'entities': [(3, 16, 'movie'), (21, 48, 'movie')]}\n",
      "Missing name label\n"
     ]
    },
    {
     "data": {
      "text/html": [
       "<span class=\"tex2jax_ignore\"><div class=\"entities\" style=\"line-height: 2.5; direction: ltr\">Do \n",
       "<mark class=\"entity\" style=\"background: #ddd; padding: 0.45em 0.6em; margin: 0 0.25em; line-height: 1; border-radius: 0.35em;\">\n",
       "    Bowling Balls\n",
       "    <span style=\"font-size: 0.8em; font-weight: bold; line-height: 1; border-radius: 0.35em; vertical-align: middle; margin-left: 0.5rem\">name</span>\n",
       "</mark>\n",
       " and \n",
       "<mark class=\"entity\" style=\"background: #ddd; padding: 0.45em 0.6em; margin: 0 0.25em; line-height: 1; border-radius: 0.35em;\">\n",
       "    Les Meilleurs Amis du monde\n",
       "    <span style=\"font-size: 0.8em; font-weight: bold; line-height: 1; border-radius: 0.35em; vertical-align: middle; margin-left: 0.5rem\">name</span>\n",
       "</mark>\n",
       " belong to the same film franchise?</div></span>"
      ],
      "text/plain": [
       "<IPython.core.display.HTML object>"
      ]
     },
     "metadata": {},
     "output_type": "display_data"
    },
    {
     "name": "stdout",
     "output_type": "stream",
     "text": [
      "Do Bowling Balls and Les Meilleurs Amis du monde belong to the same film franchise? {'entities': [(3, 16, 'movie'), (21, 48, 'movie')]}\n",
      "Missing name label\n"
     ]
    },
    {
     "data": {
      "text/html": [
       "<span class=\"tex2jax_ignore\"><div class=\"entities\" style=\"line-height: 2.5; direction: ltr\">Which actors from \n",
       "<mark class=\"entity\" style=\"background: #ddd; padding: 0.45em 0.6em; margin: 0 0.25em; line-height: 1; border-radius: 0.35em;\">\n",
       "    To Hell\n",
       "    <span style=\"font-size: 0.8em; font-weight: bold; line-height: 1; border-radius: 0.35em; vertical-align: middle; margin-left: 0.5rem\">movie</span>\n",
       "</mark>\n",
       " and \n",
       "<mark class=\"entity\" style=\"background: #ddd; padding: 0.45em 0.6em; margin: 0 0.25em; line-height: 1; border-radius: 0.35em;\">\n",
       "    Back: The Kane Hodder Story\n",
       "    <span style=\"font-size: 0.8em; font-weight: bold; line-height: 1; border-radius: 0.35em; vertical-align: middle; margin-left: 0.5rem\">movie</span>\n",
       "</mark>\n",
       " and \n",
       "<mark class=\"entity\" style=\"background: #ddd; padding: 0.45em 0.6em; margin: 0 0.25em; line-height: 1; border-radius: 0.35em;\">\n",
       "    Am Kölnberg\n",
       "    <span style=\"font-size: 0.8em; font-weight: bold; line-height: 1; border-radius: 0.35em; vertical-align: middle; margin-left: 0.5rem\">movie</span>\n",
       "</mark>\n",
       " have collaborated in other films?</div></span>"
      ],
      "text/plain": [
       "<IPython.core.display.HTML object>"
      ]
     },
     "metadata": {},
     "output_type": "display_data"
    },
    {
     "name": "stdout",
     "output_type": "stream",
     "text": [
      "Which actors from To Hell and Back: The Kane Hodder Story and Am Kölnberg have collaborated in other films? {'entities': [(18, 57, 'movie'), (62, 73, 'movie'), (86, 91, 'predicate')]}\n",
      "Missing movie label\n"
     ]
    },
    {
     "data": {
      "text/html": [
       "<span class=\"tex2jax_ignore\"><div class=\"entities\" style=\"line-height: 2.5; direction: ltr\">Which actors from \n",
       "<mark class=\"entity\" style=\"background: #ddd; padding: 0.45em 0.6em; margin: 0 0.25em; line-height: 1; border-radius: 0.35em;\">\n",
       "    To Hell\n",
       "    <span style=\"font-size: 0.8em; font-weight: bold; line-height: 1; border-radius: 0.35em; vertical-align: middle; margin-left: 0.5rem\">movie</span>\n",
       "</mark>\n",
       " and \n",
       "<mark class=\"entity\" style=\"background: #ddd; padding: 0.45em 0.6em; margin: 0 0.25em; line-height: 1; border-radius: 0.35em;\">\n",
       "    Back: The Kane Hodder Story\n",
       "    <span style=\"font-size: 0.8em; font-weight: bold; line-height: 1; border-radius: 0.35em; vertical-align: middle; margin-left: 0.5rem\">movie</span>\n",
       "</mark>\n",
       " and \n",
       "<mark class=\"entity\" style=\"background: #ddd; padding: 0.45em 0.6em; margin: 0 0.25em; line-height: 1; border-radius: 0.35em;\">\n",
       "    Am Kölnberg\n",
       "    <span style=\"font-size: 0.8em; font-weight: bold; line-height: 1; border-radius: 0.35em; vertical-align: middle; margin-left: 0.5rem\">movie</span>\n",
       "</mark>\n",
       " have collaborated in other films?</div></span>"
      ],
      "text/plain": [
       "<IPython.core.display.HTML object>"
      ]
     },
     "metadata": {},
     "output_type": "display_data"
    },
    {
     "name": "stdout",
     "output_type": "stream",
     "text": [
      "Which actors from To Hell and Back: The Kane Hodder Story and Am Kölnberg have collaborated in other films? {'entities': [(18, 57, 'movie'), (62, 73, 'movie'), (86, 91, 'predicate')]}\n",
      "Missing movie label\n"
     ]
    },
    {
     "data": {
      "text/html": [
       "<span class=\"tex2jax_ignore\"><div class=\"entities\" style=\"line-height: 2.5; direction: ltr\">Are there any common themes or genres between \n",
       "<mark class=\"entity\" style=\"background: #ddd; padding: 0.45em 0.6em; margin: 0 0.25em; line-height: 1; border-radius: 0.35em;\">\n",
       "    To Live\n",
       "    <span style=\"font-size: 0.8em; font-weight: bold; line-height: 1; border-radius: 0.35em; vertical-align: middle; margin-left: 0.5rem\">movie</span>\n",
       "</mark>\n",
       " and \n",
       "<mark class=\"entity\" style=\"background: #ddd; padding: 0.45em 0.6em; margin: 0 0.25em; line-height: 1; border-radius: 0.35em;\">\n",
       "    Die in L.A.\n",
       "    <span style=\"font-size: 0.8em; font-weight: bold; line-height: 1; border-radius: 0.35em; vertical-align: middle; margin-left: 0.5rem\">movie</span>\n",
       "</mark>\n",
       " and \n",
       "<mark class=\"entity\" style=\"background: #ddd; padding: 0.45em 0.6em; margin: 0 0.25em; line-height: 1; border-radius: 0.35em;\">\n",
       "    A Prominent Patient\n",
       "    <span style=\"font-size: 0.8em; font-weight: bold; line-height: 1; border-radius: 0.35em; vertical-align: middle; margin-left: 0.5rem\">movie</span>\n",
       "</mark>\n",
       "?</div></span>"
      ],
      "text/plain": [
       "<IPython.core.display.HTML object>"
      ]
     },
     "metadata": {},
     "output_type": "display_data"
    },
    {
     "name": "stdout",
     "output_type": "stream",
     "text": [
      "Are there any common themes or genres between To Live and Die in L.A. and A Prominent Patient? {'entities': [(46, 69, 'movie'), (74, 93, 'movie'), (31, 36, 'predicate')]}\n",
      "Missing movie label\n"
     ]
    },
    {
     "data": {
      "text/html": [
       "<span class=\"tex2jax_ignore\"><div class=\"entities\" style=\"line-height: 2.5; direction: ltr\">Are there any common themes or genres between \n",
       "<mark class=\"entity\" style=\"background: #ddd; padding: 0.45em 0.6em; margin: 0 0.25em; line-height: 1; border-radius: 0.35em;\">\n",
       "    To Live\n",
       "    <span style=\"font-size: 0.8em; font-weight: bold; line-height: 1; border-radius: 0.35em; vertical-align: middle; margin-left: 0.5rem\">movie</span>\n",
       "</mark>\n",
       " and \n",
       "<mark class=\"entity\" style=\"background: #ddd; padding: 0.45em 0.6em; margin: 0 0.25em; line-height: 1; border-radius: 0.35em;\">\n",
       "    Die in L.A.\n",
       "    <span style=\"font-size: 0.8em; font-weight: bold; line-height: 1; border-radius: 0.35em; vertical-align: middle; margin-left: 0.5rem\">movie</span>\n",
       "</mark>\n",
       " and \n",
       "<mark class=\"entity\" style=\"background: #ddd; padding: 0.45em 0.6em; margin: 0 0.25em; line-height: 1; border-radius: 0.35em;\">\n",
       "    A Prominent Patient\n",
       "    <span style=\"font-size: 0.8em; font-weight: bold; line-height: 1; border-radius: 0.35em; vertical-align: middle; margin-left: 0.5rem\">movie</span>\n",
       "</mark>\n",
       "?</div></span>"
      ],
      "text/plain": [
       "<IPython.core.display.HTML object>"
      ]
     },
     "metadata": {},
     "output_type": "display_data"
    },
    {
     "name": "stdout",
     "output_type": "stream",
     "text": [
      "Are there any common themes or genres between To Live and Die in L.A. and A Prominent Patient? {'entities': [(46, 69, 'movie'), (74, 93, 'movie'), (31, 36, 'predicate')]}\n",
      "Missing movie label\n"
     ]
    },
    {
     "data": {
      "text/html": [
       "<span class=\"tex2jax_ignore\"><div class=\"entities\" style=\"line-height: 2.5; direction: ltr\">Do \n",
       "<mark class=\"entity\" style=\"background: #ddd; padding: 0.45em 0.6em; margin: 0 0.25em; line-height: 1; border-radius: 0.35em;\">\n",
       "    Mea Culpa\n",
       "    <span style=\"font-size: 0.8em; font-weight: bold; line-height: 1; border-radius: 0.35em; vertical-align: middle; margin-left: 0.5rem\">movie</span>\n",
       "</mark>\n",
       " and \n",
       "<mark class=\"entity\" style=\"background: #ddd; padding: 0.45em 0.6em; margin: 0 0.25em; line-height: 1; border-radius: 0.35em;\">\n",
       "    Hatari!\n",
       "    <span style=\"font-size: 0.8em; font-weight: bold; line-height: 1; border-radius: 0.35em; vertical-align: middle; margin-left: 0.5rem\">name</span>\n",
       "</mark>\n",
       " share any crew members or production staff?</div></span>"
      ],
      "text/plain": [
       "<IPython.core.display.HTML object>"
      ]
     },
     "metadata": {},
     "output_type": "display_data"
    },
    {
     "name": "stdout",
     "output_type": "stream",
     "text": [
      "Do Mea Culpa and Hatari! share any crew members or production staff? {'entities': [(3, 12, 'movie'), (17, 24, 'movie')]}\n",
      "Missing name label\n"
     ]
    },
    {
     "data": {
      "text/html": [
       "<span class=\"tex2jax_ignore\"><div class=\"entities\" style=\"line-height: 2.5; direction: ltr\">Do you have recommendations for movies that masterfully balance the genres of both \n",
       "<mark class=\"entity\" style=\"background: #ddd; padding: 0.45em 0.6em; margin: 0 0.25em; line-height: 1; border-radius: 0.35em;\">\n",
       "    military science fiction\n",
       "    <span style=\"font-size: 0.8em; font-weight: bold; line-height: 1; border-radius: 0.35em; vertical-align: middle; margin-left: 0.5rem\">genre</span>\n",
       "</mark>\n",
       " and \n",
       "<mark class=\"entity\" style=\"background: #ddd; padding: 0.45em 0.6em; margin: 0 0.25em; line-height: 1; border-radius: 0.35em;\">\n",
       "    science fiction\n",
       "    <span style=\"font-size: 0.8em; font-weight: bold; line-height: 1; border-radius: 0.35em; vertical-align: middle; margin-left: 0.5rem\">genre</span>\n",
       "</mark>\n",
       "?</div></span>"
      ],
      "text/plain": [
       "<IPython.core.display.HTML object>"
      ]
     },
     "metadata": {},
     "output_type": "display_data"
    },
    {
     "name": "stdout",
     "output_type": "stream",
     "text": [
      "Do you have recommendations for movies that masterfully balance the genres of both military science fiction and science fiction? {'entities': [(83, 107, 'genre'), (92, 107, 'genre'), (68, 73, 'predicate')]}\n",
      "Missing genre label\n"
     ]
    },
    {
     "data": {
      "text/html": [
       "<span class=\"tex2jax_ignore\"><div class=\"entities\" style=\"line-height: 2.5; direction: ltr\">Do \n",
       "<mark class=\"entity\" style=\"background: #ddd; padding: 0.45em 0.6em; margin: 0 0.25em; line-height: 1; border-radius: 0.35em;\">\n",
       "    Abraham Lincoln vs. Zombies\n",
       "    <span style=\"font-size: 0.8em; font-weight: bold; line-height: 1; border-radius: 0.35em; vertical-align: middle; margin-left: 0.5rem\">name</span>\n",
       "</mark>\n",
       " and \n",
       "<mark class=\"entity\" style=\"background: #ddd; padding: 0.45em 0.6em; margin: 0 0.25em; line-height: 1; border-radius: 0.35em;\">\n",
       "    Tiger Team: The Mountain of the 1000 Dragons\n",
       "    <span style=\"font-size: 0.8em; font-weight: bold; line-height: 1; border-radius: 0.35em; vertical-align: middle; margin-left: 0.5rem\">movie</span>\n",
       "</mark>\n",
       " belong to the same film franchise?</div></span>"
      ],
      "text/plain": [
       "<IPython.core.display.HTML object>"
      ]
     },
     "metadata": {},
     "output_type": "display_data"
    },
    {
     "name": "stdout",
     "output_type": "stream",
     "text": [
      "Do Abraham Lincoln vs. Zombies and Tiger Team: The Mountain of the 1000 Dragons belong to the same film franchise? {'entities': [(3, 30, 'movie'), (35, 79, 'movie')]}\n",
      "Missing name label\n"
     ]
    },
    {
     "data": {
      "text/html": [
       "<span class=\"tex2jax_ignore\"><div class=\"entities\" style=\"line-height: 2.5; direction: ltr\">Do \n",
       "<mark class=\"entity\" style=\"background: #ddd; padding: 0.45em 0.6em; margin: 0 0.25em; line-height: 1; border-radius: 0.35em;\">\n",
       "    Stella Dallas\n",
       "    <span style=\"font-size: 0.8em; font-weight: bold; line-height: 1; border-radius: 0.35em; vertical-align: middle; margin-left: 0.5rem\">name</span>\n",
       "</mark>\n",
       " and \n",
       "<mark class=\"entity\" style=\"background: #ddd; padding: 0.45em 0.6em; margin: 0 0.25em; line-height: 1; border-radius: 0.35em;\">\n",
       "    Dragon Eyes\n",
       "    <span style=\"font-size: 0.8em; font-weight: bold; line-height: 1; border-radius: 0.35em; vertical-align: middle; margin-left: 0.5rem\">name</span>\n",
       "</mark>\n",
       " share any crew members or production staff?</div></span>"
      ],
      "text/plain": [
       "<IPython.core.display.HTML object>"
      ]
     },
     "metadata": {},
     "output_type": "display_data"
    },
    {
     "name": "stdout",
     "output_type": "stream",
     "text": [
      "Do Stella Dallas and Dragon Eyes share any crew members or production staff? {'entities': [(3, 16, 'movie'), (21, 32, 'movie')]}\n",
      "Missing name label\n"
     ]
    },
    {
     "data": {
      "text/html": [
       "<span class=\"tex2jax_ignore\"><div class=\"entities\" style=\"line-height: 2.5; direction: ltr\">Do \n",
       "<mark class=\"entity\" style=\"background: #ddd; padding: 0.45em 0.6em; margin: 0 0.25em; line-height: 1; border-radius: 0.35em;\">\n",
       "    Stella Dallas\n",
       "    <span style=\"font-size: 0.8em; font-weight: bold; line-height: 1; border-radius: 0.35em; vertical-align: middle; margin-left: 0.5rem\">name</span>\n",
       "</mark>\n",
       " and \n",
       "<mark class=\"entity\" style=\"background: #ddd; padding: 0.45em 0.6em; margin: 0 0.25em; line-height: 1; border-radius: 0.35em;\">\n",
       "    Dragon Eyes\n",
       "    <span style=\"font-size: 0.8em; font-weight: bold; line-height: 1; border-radius: 0.35em; vertical-align: middle; margin-left: 0.5rem\">name</span>\n",
       "</mark>\n",
       " share any crew members or production staff?</div></span>"
      ],
      "text/plain": [
       "<IPython.core.display.HTML object>"
      ]
     },
     "metadata": {},
     "output_type": "display_data"
    },
    {
     "name": "stdout",
     "output_type": "stream",
     "text": [
      "Do Stella Dallas and Dragon Eyes share any crew members or production staff? {'entities': [(3, 16, 'movie'), (21, 32, 'movie')]}\n",
      "Missing name label\n"
     ]
    },
    {
     "data": {
      "text/html": [
       "<span class=\"tex2jax_ignore\"><div class=\"entities\" style=\"line-height: 2.5; direction: ltr\">Are there any staff members in common between \n",
       "<mark class=\"entity\" style=\"background: #ddd; padding: 0.45em 0.6em; margin: 0 0.25em; line-height: 1; border-radius: 0.35em;\">\n",
       "    Berlin is in Germany and Montreal\n",
       "    <span style=\"font-size: 0.8em; font-weight: bold; line-height: 1; border-radius: 0.35em; vertical-align: middle; margin-left: 0.5rem\">movie</span>\n",
       "</mark>\n",
       ", \n",
       "<mark class=\"entity\" style=\"background: #ddd; padding: 0.45em 0.6em; margin: 0 0.25em; line-height: 1; border-radius: 0.35em;\">\n",
       "    White City\n",
       "    <span style=\"font-size: 0.8em; font-weight: bold; line-height: 1; border-radius: 0.35em; vertical-align: middle; margin-left: 0.5rem\">movie</span>\n",
       "</mark>\n",
       "?</div></span>"
      ],
      "text/plain": [
       "<IPython.core.display.HTML object>"
      ]
     },
     "metadata": {},
     "output_type": "display_data"
    },
    {
     "name": "stdout",
     "output_type": "stream",
     "text": [
      "Are there any staff members in common between Berlin is in Germany and Montreal, White City? {'entities': [(46, 66, 'movie'), (71, 91, 'movie')]}\n",
      "Missing movie label\n"
     ]
    },
    {
     "data": {
      "text/html": [
       "<span class=\"tex2jax_ignore\"><div class=\"entities\" style=\"line-height: 2.5; direction: ltr\">Are there any staff members in common between \n",
       "<mark class=\"entity\" style=\"background: #ddd; padding: 0.45em 0.6em; margin: 0 0.25em; line-height: 1; border-radius: 0.35em;\">\n",
       "    Berlin is in Germany and Montreal\n",
       "    <span style=\"font-size: 0.8em; font-weight: bold; line-height: 1; border-radius: 0.35em; vertical-align: middle; margin-left: 0.5rem\">movie</span>\n",
       "</mark>\n",
       ", \n",
       "<mark class=\"entity\" style=\"background: #ddd; padding: 0.45em 0.6em; margin: 0 0.25em; line-height: 1; border-radius: 0.35em;\">\n",
       "    White City\n",
       "    <span style=\"font-size: 0.8em; font-weight: bold; line-height: 1; border-radius: 0.35em; vertical-align: middle; margin-left: 0.5rem\">movie</span>\n",
       "</mark>\n",
       "?</div></span>"
      ],
      "text/plain": [
       "<IPython.core.display.HTML object>"
      ]
     },
     "metadata": {},
     "output_type": "display_data"
    },
    {
     "name": "stdout",
     "output_type": "stream",
     "text": [
      "Are there any staff members in common between Berlin is in Germany and Montreal, White City? {'entities': [(46, 66, 'movie'), (71, 91, 'movie')]}\n",
      "Missing movie label\n"
     ]
    },
    {
     "data": {
      "text/html": [
       "<span class=\"tex2jax_ignore\"><div class=\"entities\" style=\"line-height: 2.5; direction: ltr\">Do \n",
       "<mark class=\"entity\" style=\"background: #ddd; padding: 0.45em 0.6em; margin: 0 0.25em; line-height: 1; border-radius: 0.35em;\">\n",
       "    La Masseria Delle Allodole\n",
       "    <span style=\"font-size: 0.8em; font-weight: bold; line-height: 1; border-radius: 0.35em; vertical-align: middle; margin-left: 0.5rem\">name</span>\n",
       "</mark>\n",
       " and \n",
       "<mark class=\"entity\" style=\"background: #ddd; padding: 0.45em 0.6em; margin: 0 0.25em; line-height: 1; border-radius: 0.35em;\">\n",
       "    The Seventh Seal\n",
       "    <span style=\"font-size: 0.8em; font-weight: bold; line-height: 1; border-radius: 0.35em; vertical-align: middle; margin-left: 0.5rem\">movie</span>\n",
       "</mark>\n",
       " share any crew members or production staff?</div></span>"
      ],
      "text/plain": [
       "<IPython.core.display.HTML object>"
      ]
     },
     "metadata": {},
     "output_type": "display_data"
    },
    {
     "name": "stdout",
     "output_type": "stream",
     "text": [
      "Do La Masseria Delle Allodole and The Seventh Seal share any crew members or production staff? {'entities': [(3, 29, 'movie'), (34, 50, 'movie')]}\n",
      "Missing name label\n"
     ]
    },
    {
     "data": {
      "text/html": [
       "<span class=\"tex2jax_ignore\"><div class=\"entities\" style=\"line-height: 2.5; direction: ltr\">Were \n",
       "<mark class=\"entity\" style=\"background: #ddd; padding: 0.45em 0.6em; margin: 0 0.25em; line-height: 1; border-radius: 0.35em;\">\n",
       "    I Feel Good and Nights\n",
       "    <span style=\"font-size: 0.8em; font-weight: bold; line-height: 1; border-radius: 0.35em; vertical-align: middle; margin-left: 0.5rem\">movie</span>\n",
       "</mark>\n",
       " and \n",
       "<mark class=\"entity\" style=\"background: #ddd; padding: 0.45em 0.6em; margin: 0 0.25em; line-height: 1; border-radius: 0.35em;\">\n",
       "    Weekends\n",
       "    <span style=\"font-size: 0.8em; font-weight: bold; line-height: 1; border-radius: 0.35em; vertical-align: middle; margin-left: 0.5rem\">movie</span>\n",
       "</mark>\n",
       " released the same year?</div></span>"
      ],
      "text/plain": [
       "<IPython.core.display.HTML object>"
      ]
     },
     "metadata": {},
     "output_type": "display_data"
    },
    {
     "name": "stdout",
     "output_type": "stream",
     "text": [
      "Were I Feel Good and Nights and Weekends released the same year? {'entities': [(5, 16, 'movie'), (21, 40, 'movie'), (41, 48, 'predicate')]}\n",
      "Missing movie label\n"
     ]
    },
    {
     "data": {
      "text/html": [
       "<span class=\"tex2jax_ignore\"><div class=\"entities\" style=\"line-height: 2.5; direction: ltr\">Were \n",
       "<mark class=\"entity\" style=\"background: #ddd; padding: 0.45em 0.6em; margin: 0 0.25em; line-height: 1; border-radius: 0.35em;\">\n",
       "    I Feel Good and Nights\n",
       "    <span style=\"font-size: 0.8em; font-weight: bold; line-height: 1; border-radius: 0.35em; vertical-align: middle; margin-left: 0.5rem\">movie</span>\n",
       "</mark>\n",
       " and \n",
       "<mark class=\"entity\" style=\"background: #ddd; padding: 0.45em 0.6em; margin: 0 0.25em; line-height: 1; border-radius: 0.35em;\">\n",
       "    Weekends\n",
       "    <span style=\"font-size: 0.8em; font-weight: bold; line-height: 1; border-radius: 0.35em; vertical-align: middle; margin-left: 0.5rem\">movie</span>\n",
       "</mark>\n",
       " released the same year?</div></span>"
      ],
      "text/plain": [
       "<IPython.core.display.HTML object>"
      ]
     },
     "metadata": {},
     "output_type": "display_data"
    },
    {
     "name": "stdout",
     "output_type": "stream",
     "text": [
      "Were I Feel Good and Nights and Weekends released the same year? {'entities': [(5, 16, 'movie'), (21, 40, 'movie'), (41, 48, 'predicate')]}\n",
      "Missing movie label\n"
     ]
    },
    {
     "data": {
      "text/html": [
       "<span class=\"tex2jax_ignore\"><div class=\"entities\" style=\"line-height: 2.5; direction: ltr\">Can you recommend movies that span a wide range of genres, including \n",
       "<mark class=\"entity\" style=\"background: #ddd; padding: 0.45em 0.6em; margin: 0 0.25em; line-height: 1; border-radius: 0.35em;\">\n",
       "    mystery fiction\n",
       "    <span style=\"font-size: 0.8em; font-weight: bold; line-height: 1; border-radius: 0.35em; vertical-align: middle; margin-left: 0.5rem\">genre</span>\n",
       "</mark>\n",
       ", \n",
       "<mark class=\"entity\" style=\"background: #ddd; padding: 0.45em 0.6em; margin: 0 0.25em; line-height: 1; border-radius: 0.35em;\">\n",
       "    autobiographical\n",
       "    <span style=\"font-size: 0.8em; font-weight: bold; line-height: 1; border-radius: 0.35em; vertical-align: middle; margin-left: 0.5rem\">genre</span>\n",
       "</mark>\n",
       ", and \n",
       "<mark class=\"entity\" style=\"background: #ddd; padding: 0.45em 0.6em; margin: 0 0.25em; line-height: 1; border-radius: 0.35em;\">\n",
       "    biographical\n",
       "    <span style=\"font-size: 0.8em; font-weight: bold; line-height: 1; border-radius: 0.35em; vertical-align: middle; margin-left: 0.5rem\">genre</span>\n",
       "</mark>\n",
       "?</div></span>"
      ],
      "text/plain": [
       "<IPython.core.display.HTML object>"
      ]
     },
     "metadata": {},
     "output_type": "display_data"
    },
    {
     "name": "stdout",
     "output_type": "stream",
     "text": [
      "Can you recommend movies that span a wide range of genres, including mystery fiction, autobiographical, and biographical? {'entities': [(69, 84, 'genre'), (86, 102, 'genre'), (90, 102, 'genre'), (51, 56, 'predicate')]}\n",
      "Missing genre label\n"
     ]
    },
    {
     "data": {
      "text/html": [
       "<span class=\"tex2jax_ignore\"><div class=\"entities\" style=\"line-height: 2.5; direction: ltr\">Do \n",
       "<mark class=\"entity\" style=\"background: #ddd; padding: 0.45em 0.6em; margin: 0 0.25em; line-height: 1; border-radius: 0.35em;\">\n",
       "    Fail-Safe\n",
       "    <span style=\"font-size: 0.8em; font-weight: bold; line-height: 1; border-radius: 0.35em; vertical-align: middle; margin-left: 0.5rem\">name</span>\n",
       "</mark>\n",
       " and \n",
       "<mark class=\"entity\" style=\"background: #ddd; padding: 0.45em 0.6em; margin: 0 0.25em; line-height: 1; border-radius: 0.35em;\">\n",
       "    Getting Home\n",
       "    <span style=\"font-size: 0.8em; font-weight: bold; line-height: 1; border-radius: 0.35em; vertical-align: middle; margin-left: 0.5rem\">movie</span>\n",
       "</mark>\n",
       " belong to the same film franchise?</div></span>"
      ],
      "text/plain": [
       "<IPython.core.display.HTML object>"
      ]
     },
     "metadata": {},
     "output_type": "display_data"
    },
    {
     "name": "stdout",
     "output_type": "stream",
     "text": [
      "Do Fail-Safe and Getting Home belong to the same film franchise? {'entities': [(3, 12, 'movie'), (17, 29, 'movie')]}\n",
      "Missing name label\n"
     ]
    },
    {
     "data": {
      "text/html": [
       "<span class=\"tex2jax_ignore\"><div class=\"entities\" style=\"line-height: 2.5; direction: ltr\">Do \n",
       "<mark class=\"entity\" style=\"background: #ddd; padding: 0.45em 0.6em; margin: 0 0.25em; line-height: 1; border-radius: 0.35em;\">\n",
       "    Happenstance\n",
       "    <span style=\"font-size: 0.8em; font-weight: bold; line-height: 1; border-radius: 0.35em; vertical-align: middle; margin-left: 0.5rem\">name</span>\n",
       "</mark>\n",
       " and \n",
       "<mark class=\"entity\" style=\"background: #ddd; padding: 0.45em 0.6em; margin: 0 0.25em; line-height: 1; border-radius: 0.35em;\">\n",
       "    J. Edgar\n",
       "    <span style=\"font-size: 0.8em; font-weight: bold; line-height: 1; border-radius: 0.35em; vertical-align: middle; margin-left: 0.5rem\">name</span>\n",
       "</mark>\n",
       " share any crew members or production staff?</div></span>"
      ],
      "text/plain": [
       "<IPython.core.display.HTML object>"
      ]
     },
     "metadata": {},
     "output_type": "display_data"
    },
    {
     "name": "stdout",
     "output_type": "stream",
     "text": [
      "Do Happenstance and J. Edgar share any crew members or production staff? {'entities': [(3, 15, 'movie'), (20, 28, 'movie')]}\n",
      "Missing name label\n"
     ]
    },
    {
     "data": {
      "text/html": [
       "<span class=\"tex2jax_ignore\"><div class=\"entities\" style=\"line-height: 2.5; direction: ltr\">Do \n",
       "<mark class=\"entity\" style=\"background: #ddd; padding: 0.45em 0.6em; margin: 0 0.25em; line-height: 1; border-radius: 0.35em;\">\n",
       "    Happenstance\n",
       "    <span style=\"font-size: 0.8em; font-weight: bold; line-height: 1; border-radius: 0.35em; vertical-align: middle; margin-left: 0.5rem\">name</span>\n",
       "</mark>\n",
       " and \n",
       "<mark class=\"entity\" style=\"background: #ddd; padding: 0.45em 0.6em; margin: 0 0.25em; line-height: 1; border-radius: 0.35em;\">\n",
       "    J. Edgar\n",
       "    <span style=\"font-size: 0.8em; font-weight: bold; line-height: 1; border-radius: 0.35em; vertical-align: middle; margin-left: 0.5rem\">name</span>\n",
       "</mark>\n",
       " share any crew members or production staff?</div></span>"
      ],
      "text/plain": [
       "<IPython.core.display.HTML object>"
      ]
     },
     "metadata": {},
     "output_type": "display_data"
    },
    {
     "name": "stdout",
     "output_type": "stream",
     "text": [
      "Do Happenstance and J. Edgar share any crew members or production staff? {'entities': [(3, 15, 'movie'), (20, 28, 'movie')]}\n",
      "Missing name label\n"
     ]
    },
    {
     "data": {
      "text/html": [
       "<span class=\"tex2jax_ignore\"><div class=\"entities\" style=\"line-height: 2.5; direction: ltr\">Do \n",
       "<mark class=\"entity\" style=\"background: #ddd; padding: 0.45em 0.6em; margin: 0 0.25em; line-height: 1; border-radius: 0.35em;\">\n",
       "    Jodhaa Akbar\n",
       "    <span style=\"font-size: 0.8em; font-weight: bold; line-height: 1; border-radius: 0.35em; vertical-align: middle; margin-left: 0.5rem\">name</span>\n",
       "</mark>\n",
       " and \n",
       "<mark class=\"entity\" style=\"background: #ddd; padding: 0.45em 0.6em; margin: 0 0.25em; line-height: 1; border-radius: 0.35em;\">\n",
       "    Dante 01\n",
       "    <span style=\"font-size: 0.8em; font-weight: bold; line-height: 1; border-radius: 0.35em; vertical-align: middle; margin-left: 0.5rem\">name</span>\n",
       "</mark>\n",
       " belong to the same film franchise?</div></span>"
      ],
      "text/plain": [
       "<IPython.core.display.HTML object>"
      ]
     },
     "metadata": {},
     "output_type": "display_data"
    },
    {
     "name": "stdout",
     "output_type": "stream",
     "text": [
      "Do Jodhaa Akbar and Dante 01 belong to the same film franchise? {'entities': [(3, 15, 'movie'), (20, 28, 'movie')]}\n",
      "Missing name label\n"
     ]
    },
    {
     "data": {
      "text/html": [
       "<span class=\"tex2jax_ignore\"><div class=\"entities\" style=\"line-height: 2.5; direction: ltr\">Do \n",
       "<mark class=\"entity\" style=\"background: #ddd; padding: 0.45em 0.6em; margin: 0 0.25em; line-height: 1; border-radius: 0.35em;\">\n",
       "    Jodhaa Akbar\n",
       "    <span style=\"font-size: 0.8em; font-weight: bold; line-height: 1; border-radius: 0.35em; vertical-align: middle; margin-left: 0.5rem\">name</span>\n",
       "</mark>\n",
       " and \n",
       "<mark class=\"entity\" style=\"background: #ddd; padding: 0.45em 0.6em; margin: 0 0.25em; line-height: 1; border-radius: 0.35em;\">\n",
       "    Dante 01\n",
       "    <span style=\"font-size: 0.8em; font-weight: bold; line-height: 1; border-radius: 0.35em; vertical-align: middle; margin-left: 0.5rem\">name</span>\n",
       "</mark>\n",
       " belong to the same film franchise?</div></span>"
      ],
      "text/plain": [
       "<IPython.core.display.HTML object>"
      ]
     },
     "metadata": {},
     "output_type": "display_data"
    },
    {
     "name": "stdout",
     "output_type": "stream",
     "text": [
      "Do Jodhaa Akbar and Dante 01 belong to the same film franchise? {'entities': [(3, 15, 'movie'), (20, 28, 'movie')]}\n",
      "Missing name label\n"
     ]
    },
    {
     "data": {
      "text/html": [
       "<span class=\"tex2jax_ignore\"><div class=\"entities\" style=\"line-height: 2.5; direction: ltr\">Which \n",
       "<mark class=\"entity\" style=\"background: #ddd; padding: 0.45em 0.6em; margin: 0 0.25em; line-height: 1; border-radius: 0.35em;\">\n",
       "    art director\n",
       "    <span style=\"font-size: 0.8em; font-weight: bold; line-height: 1; border-radius: 0.35em; vertical-align: middle; margin-left: 0.5rem\">role</span>\n",
       "</mark>\n",
       " or \n",
       "<mark class=\"entity\" style=\"background: #ddd; padding: 0.45em 0.6em; margin: 0 0.25em; line-height: 1; border-radius: 0.35em;\">\n",
       "    director\n",
       "    <span style=\"font-size: 0.8em; font-weight: bold; line-height: 1; border-radius: 0.35em; vertical-align: middle; margin-left: 0.5rem\">role</span>\n",
       "</mark>\n",
       " contributed to the soundtracks of both \n",
       "<mark class=\"entity\" style=\"background: #ddd; padding: 0.45em 0.6em; margin: 0 0.25em; line-height: 1; border-radius: 0.35em;\">\n",
       "    Crossing the Bridge: The Sound of Istanbul\n",
       "    <span style=\"font-size: 0.8em; font-weight: bold; line-height: 1; border-radius: 0.35em; vertical-align: middle; margin-left: 0.5rem\">movie</span>\n",
       "</mark>\n",
       " and \n",
       "<mark class=\"entity\" style=\"background: #ddd; padding: 0.45em 0.6em; margin: 0 0.25em; line-height: 1; border-radius: 0.35em;\">\n",
       "    Saawariya\n",
       "    <span style=\"font-size: 0.8em; font-weight: bold; line-height: 1; border-radius: 0.35em; vertical-align: middle; margin-left: 0.5rem\">movie</span>\n",
       "</mark>\n",
       "?</div></span>"
      ],
      "text/plain": [
       "<IPython.core.display.HTML object>"
      ]
     },
     "metadata": {},
     "output_type": "display_data"
    },
    {
     "name": "stdout",
     "output_type": "stream",
     "text": [
      "Which art director or director contributed to the soundtracks of both Crossing the Bridge: The Sound of Istanbul and Saawariya? {'entities': [(6, 18, 'role'), (10, 18, 'role'), (70, 112, 'movie'), (117, 126, 'movie'), (10, 16, 'action')]}\n",
      "Missing role label\n"
     ]
    },
    {
     "data": {
      "text/html": [
       "<span class=\"tex2jax_ignore\"><div class=\"entities\" style=\"line-height: 2.5; direction: ltr\">Can you list all the movies starring \n",
       "<mark class=\"entity\" style=\"background: #ddd; padding: 0.45em 0.6em; margin: 0 0.25em; line-height: 1; border-radius: 0.35em;\">\n",
       "    Napoleon\n",
       "    <span style=\"font-size: 0.8em; font-weight: bold; line-height: 1; border-radius: 0.35em; vertical-align: middle; margin-left: 0.5rem\">name</span>\n",
       "</mark>\n",
       ", \n",
       "<mark class=\"entity\" style=\"background: #ddd; padding: 0.45em 0.6em; margin: 0 0.25em; line-height: 1; border-radius: 0.35em;\">\n",
       "    John Hunt\n",
       "    <span style=\"font-size: 0.8em; font-weight: bold; line-height: 1; border-radius: 0.35em; vertical-align: middle; margin-left: 0.5rem\">name</span>\n",
       "</mark>\n",
       ", \n",
       "<mark class=\"entity\" style=\"background: #ddd; padding: 0.45em 0.6em; margin: 0 0.25em; line-height: 1; border-radius: 0.35em;\">\n",
       "    Baron Hunt\n",
       "    <span style=\"font-size: 0.8em; font-weight: bold; line-height: 1; border-radius: 0.35em; vertical-align: middle; margin-left: 0.5rem\">name</span>\n",
       "</mark>\n",
       ", and \n",
       "<mark class=\"entity\" style=\"background: #ddd; padding: 0.45em 0.6em; margin: 0 0.25em; line-height: 1; border-radius: 0.35em;\">\n",
       "    Matthew Kregor\n",
       "    <span style=\"font-size: 0.8em; font-weight: bold; line-height: 1; border-radius: 0.35em; vertical-align: middle; margin-left: 0.5rem\">name</span>\n",
       "</mark>\n",
       "?</div></span>"
      ],
      "text/plain": [
       "<IPython.core.display.HTML object>"
      ]
     },
     "metadata": {},
     "output_type": "display_data"
    },
    {
     "name": "stdout",
     "output_type": "stream",
     "text": [
      "Can you list all the movies starring Napoleon, John Hunt, Baron Hunt, and Matthew Kregor? {'entities': [(37, 45, 'name'), (47, 68, 'name'), (74, 88, 'name')]}\n",
      "Missing name label\n"
     ]
    },
    {
     "data": {
      "text/html": [
       "<span class=\"tex2jax_ignore\"><div class=\"entities\" style=\"line-height: 2.5; direction: ltr\">Can you list all the movies starring \n",
       "<mark class=\"entity\" style=\"background: #ddd; padding: 0.45em 0.6em; margin: 0 0.25em; line-height: 1; border-radius: 0.35em;\">\n",
       "    Napoleon\n",
       "    <span style=\"font-size: 0.8em; font-weight: bold; line-height: 1; border-radius: 0.35em; vertical-align: middle; margin-left: 0.5rem\">name</span>\n",
       "</mark>\n",
       ", \n",
       "<mark class=\"entity\" style=\"background: #ddd; padding: 0.45em 0.6em; margin: 0 0.25em; line-height: 1; border-radius: 0.35em;\">\n",
       "    John Hunt\n",
       "    <span style=\"font-size: 0.8em; font-weight: bold; line-height: 1; border-radius: 0.35em; vertical-align: middle; margin-left: 0.5rem\">name</span>\n",
       "</mark>\n",
       ", \n",
       "<mark class=\"entity\" style=\"background: #ddd; padding: 0.45em 0.6em; margin: 0 0.25em; line-height: 1; border-radius: 0.35em;\">\n",
       "    Baron Hunt\n",
       "    <span style=\"font-size: 0.8em; font-weight: bold; line-height: 1; border-radius: 0.35em; vertical-align: middle; margin-left: 0.5rem\">name</span>\n",
       "</mark>\n",
       ", and \n",
       "<mark class=\"entity\" style=\"background: #ddd; padding: 0.45em 0.6em; margin: 0 0.25em; line-height: 1; border-radius: 0.35em;\">\n",
       "    Matthew Kregor\n",
       "    <span style=\"font-size: 0.8em; font-weight: bold; line-height: 1; border-radius: 0.35em; vertical-align: middle; margin-left: 0.5rem\">name</span>\n",
       "</mark>\n",
       "?</div></span>"
      ],
      "text/plain": [
       "<IPython.core.display.HTML object>"
      ]
     },
     "metadata": {},
     "output_type": "display_data"
    },
    {
     "name": "stdout",
     "output_type": "stream",
     "text": [
      "Can you list all the movies starring Napoleon, John Hunt, Baron Hunt, and Matthew Kregor? {'entities': [(37, 45, 'name'), (47, 68, 'name'), (74, 88, 'name')]}\n",
      "Missing name label\n"
     ]
    },
    {
     "data": {
      "text/html": [
       "<span class=\"tex2jax_ignore\"><div class=\"entities\" style=\"line-height: 2.5; direction: ltr\">Do you have recommendations for movies that masterfully balance the genres of both \n",
       "<mark class=\"entity\" style=\"background: #ddd; padding: 0.45em 0.6em; margin: 0 0.25em; line-height: 1; border-radius: 0.35em;\">\n",
       "    comedy-drama\n",
       "    <span style=\"font-size: 0.8em; font-weight: bold; line-height: 1; border-radius: 0.35em; vertical-align: middle; margin-left: 0.5rem\">genre</span>\n",
       "</mark>\n",
       " and \n",
       "<mark class=\"entity\" style=\"background: #ddd; padding: 0.45em 0.6em; margin: 0 0.25em; line-height: 1; border-radius: 0.35em;\">\n",
       "    drama\n",
       "    <span style=\"font-size: 0.8em; font-weight: bold; line-height: 1; border-radius: 0.35em; vertical-align: middle; margin-left: 0.5rem\">genre</span>\n",
       "</mark>\n",
       "?</div></span>"
      ],
      "text/plain": [
       "<IPython.core.display.HTML object>"
      ]
     },
     "metadata": {},
     "output_type": "display_data"
    },
    {
     "name": "stdout",
     "output_type": "stream",
     "text": [
      "Do you have recommendations for movies that masterfully balance the genres of both comedy-drama and drama? {'entities': [(83, 95, 'genre'), (90, 95, 'genre'), (68, 73, 'predicate')]}\n",
      "Missing genre label\n"
     ]
    },
    {
     "data": {
      "text/html": [
       "<span class=\"tex2jax_ignore\"><div class=\"entities\" style=\"line-height: 2.5; direction: ltr\">Do \n",
       "<mark class=\"entity\" style=\"background: #ddd; padding: 0.45em 0.6em; margin: 0 0.25em; line-height: 1; border-radius: 0.35em;\">\n",
       "    Don Giovanni\n",
       "    <span style=\"font-size: 0.8em; font-weight: bold; line-height: 1; border-radius: 0.35em; vertical-align: middle; margin-left: 0.5rem\">name</span>\n",
       "</mark>\n",
       " and \n",
       "<mark class=\"entity\" style=\"background: #ddd; padding: 0.45em 0.6em; margin: 0 0.25em; line-height: 1; border-radius: 0.35em;\">\n",
       "    It's Pat\n",
       "    <span style=\"font-size: 0.8em; font-weight: bold; line-height: 1; border-radius: 0.35em; vertical-align: middle; margin-left: 0.5rem\">movie</span>\n",
       "</mark>\n",
       " belong to the same film franchise?</div></span>"
      ],
      "text/plain": [
       "<IPython.core.display.HTML object>"
      ]
     },
     "metadata": {},
     "output_type": "display_data"
    },
    {
     "name": "stdout",
     "output_type": "stream",
     "text": [
      "Do Don Giovanni and It's Pat belong to the same film franchise? {'entities': [(3, 15, 'movie'), (20, 28, 'movie')]}\n",
      "Missing name label\n"
     ]
    },
    {
     "data": {
      "text/html": [
       "<span class=\"tex2jax_ignore\"><div class=\"entities\" style=\"line-height: 2.5; direction: ltr\">Which actors from \n",
       "<mark class=\"entity\" style=\"background: #ddd; padding: 0.45em 0.6em; margin: 0 0.25em; line-height: 1; border-radius: 0.35em;\">\n",
       "    Remake,\n",
       "    <span style=\"font-size: 0.8em; font-weight: bold; line-height: 1; border-radius: 0.35em; vertical-align: middle; margin-left: 0.5rem\">movie</span>\n",
       "</mark>\n",
       " \n",
       "<mark class=\"entity\" style=\"background: #ddd; padding: 0.45em 0.6em; margin: 0 0.25em; line-height: 1; border-radius: 0.35em;\">\n",
       "    Remix, Rip-Off: About Copy Culture &amp; Turkish Pop Cinema\n",
       "    <span style=\"font-size: 0.8em; font-weight: bold; line-height: 1; border-radius: 0.35em; vertical-align: middle; margin-left: 0.5rem\">movie</span>\n",
       "</mark>\n",
       " and \n",
       "<mark class=\"entity\" style=\"background: #ddd; padding: 0.45em 0.6em; margin: 0 0.25em; line-height: 1; border-radius: 0.35em;\">\n",
       "    Baba Ramdev\n",
       "    <span style=\"font-size: 0.8em; font-weight: bold; line-height: 1; border-radius: 0.35em; vertical-align: middle; margin-left: 0.5rem\">name</span>\n",
       "</mark>\n",
       " have collaborated in other films?</div></span>"
      ],
      "text/plain": [
       "<IPython.core.display.HTML object>"
      ]
     },
     "metadata": {},
     "output_type": "display_data"
    },
    {
     "name": "stdout",
     "output_type": "stream",
     "text": [
      "Which actors from Remake, Remix, Rip-Off: About Copy Culture & Turkish Pop Cinema and Baba Ramdev have collaborated in other films? {'entities': [(18, 81, 'movie'), (86, 97, 'movie'), (110, 115, 'predicate')]}\n",
      "Missing movie label\n"
     ]
    },
    {
     "data": {
      "text/html": [
       "<span class=\"tex2jax_ignore\"><div class=\"entities\" style=\"line-height: 2.5; direction: ltr\">Which actors from \n",
       "<mark class=\"entity\" style=\"background: #ddd; padding: 0.45em 0.6em; margin: 0 0.25em; line-height: 1; border-radius: 0.35em;\">\n",
       "    Remake,\n",
       "    <span style=\"font-size: 0.8em; font-weight: bold; line-height: 1; border-radius: 0.35em; vertical-align: middle; margin-left: 0.5rem\">movie</span>\n",
       "</mark>\n",
       " \n",
       "<mark class=\"entity\" style=\"background: #ddd; padding: 0.45em 0.6em; margin: 0 0.25em; line-height: 1; border-radius: 0.35em;\">\n",
       "    Remix, Rip-Off: About Copy Culture &amp; Turkish Pop Cinema\n",
       "    <span style=\"font-size: 0.8em; font-weight: bold; line-height: 1; border-radius: 0.35em; vertical-align: middle; margin-left: 0.5rem\">movie</span>\n",
       "</mark>\n",
       " and \n",
       "<mark class=\"entity\" style=\"background: #ddd; padding: 0.45em 0.6em; margin: 0 0.25em; line-height: 1; border-radius: 0.35em;\">\n",
       "    Baba Ramdev\n",
       "    <span style=\"font-size: 0.8em; font-weight: bold; line-height: 1; border-radius: 0.35em; vertical-align: middle; margin-left: 0.5rem\">name</span>\n",
       "</mark>\n",
       " have collaborated in other films?</div></span>"
      ],
      "text/plain": [
       "<IPython.core.display.HTML object>"
      ]
     },
     "metadata": {},
     "output_type": "display_data"
    },
    {
     "name": "stdout",
     "output_type": "stream",
     "text": [
      "Which actors from Remake, Remix, Rip-Off: About Copy Culture & Turkish Pop Cinema and Baba Ramdev have collaborated in other films? {'entities': [(18, 81, 'movie'), (86, 97, 'movie'), (110, 115, 'predicate')]}\n",
      "Missing movie label\n"
     ]
    },
    {
     "data": {
      "text/html": [
       "<span class=\"tex2jax_ignore\"><div class=\"entities\" style=\"line-height: 2.5; direction: ltr\">Which actors from \n",
       "<mark class=\"entity\" style=\"background: #ddd; padding: 0.45em 0.6em; margin: 0 0.25em; line-height: 1; border-radius: 0.35em;\">\n",
       "    Remake,\n",
       "    <span style=\"font-size: 0.8em; font-weight: bold; line-height: 1; border-radius: 0.35em; vertical-align: middle; margin-left: 0.5rem\">movie</span>\n",
       "</mark>\n",
       " \n",
       "<mark class=\"entity\" style=\"background: #ddd; padding: 0.45em 0.6em; margin: 0 0.25em; line-height: 1; border-radius: 0.35em;\">\n",
       "    Remix, Rip-Off: About Copy Culture &amp; Turkish Pop Cinema\n",
       "    <span style=\"font-size: 0.8em; font-weight: bold; line-height: 1; border-radius: 0.35em; vertical-align: middle; margin-left: 0.5rem\">movie</span>\n",
       "</mark>\n",
       " and \n",
       "<mark class=\"entity\" style=\"background: #ddd; padding: 0.45em 0.6em; margin: 0 0.25em; line-height: 1; border-radius: 0.35em;\">\n",
       "    Baba Ramdev\n",
       "    <span style=\"font-size: 0.8em; font-weight: bold; line-height: 1; border-radius: 0.35em; vertical-align: middle; margin-left: 0.5rem\">name</span>\n",
       "</mark>\n",
       " have collaborated in other films?</div></span>"
      ],
      "text/plain": [
       "<IPython.core.display.HTML object>"
      ]
     },
     "metadata": {},
     "output_type": "display_data"
    },
    {
     "name": "stdout",
     "output_type": "stream",
     "text": [
      "Which actors from Remake, Remix, Rip-Off: About Copy Culture & Turkish Pop Cinema and Baba Ramdev have collaborated in other films? {'entities': [(18, 81, 'movie'), (86, 97, 'movie'), (110, 115, 'predicate')]}\n",
      "Missing name label\n",
      "94493 105962\n"
     ]
    }
   ],
   "source": [
    "total=0\n",
    "correct=0\n",
    "for sentence, entities in TRAIN_DATA:\n",
    "    pred = nlp_model(sentence)\n",
    "    total+=len(entities[\"entities\"])\n",
    "    for ent in pred.ents:\n",
    "        if (ent.start_char, ent.end_char, ent.label_) in entities['entities']:\n",
    "            correct+=1\n",
    "            #print(ent.label_+\" Correctly found\")\n",
    "        else:\n",
    "            spacy.displacy.render(pred, style=\"ent\", jupyter=True)\n",
    "            print(sentence, entities)\n",
    "            print(\"Missing {} label\".format(ent.label_))\n",
    "            \n",
    "print(correct, total)"
   ]
  },
  {
   "cell_type": "code",
   "execution_count": 48,
   "id": "68f85c91",
   "metadata": {},
   "outputs": [
    {
     "name": "stderr",
     "output_type": "stream",
     "text": [
      "C:\\Users\\jorge\\anaconda3\\envs\\pytorch2\\lib\\site-packages\\spacy\\util.py:910: UserWarning: [W095] Model 'en_pipeline' (0.0.0) was trained with spaCy v3.5.3 and may not be 100% compatible with the current version (3.7.2). If you see errors or degraded performance, download a newer compatible model or retrain your custom model with the current spaCy version. For more details and available updates, run: python -m spacy validate\n",
      "  warnings.warn(warn_msg)\n"
     ]
    },
    {
     "data": {
      "text/html": [
       "<span class=\"tex2jax_ignore\"><div class=\"entities\" style=\"line-height: 2.5; direction: ltr\">Recommend movies like \n",
       "<mark class=\"entity\" style=\"background: #ddd; padding: 0.45em 0.6em; margin: 0 0.25em; line-height: 1; border-radius: 0.35em;\">\n",
       "    Nightmare on Elm Street\n",
       "    <span style=\"font-size: 0.8em; font-weight: bold; line-height: 1; border-radius: 0.35em; vertical-align: middle; margin-left: 0.5rem\">name</span>\n",
       "</mark>\n",
       ", \n",
       "<mark class=\"entity\" style=\"background: #ddd; padding: 0.45em 0.6em; margin: 0 0.25em; line-height: 1; border-radius: 0.35em;\">\n",
       "    Friday the 13th\n",
       "    <span style=\"font-size: 0.8em; font-weight: bold; line-height: 1; border-radius: 0.35em; vertical-align: middle; margin-left: 0.5rem\">movie</span>\n",
       "</mark>\n",
       ", and \n",
       "<mark class=\"entity\" style=\"background: #ddd; padding: 0.45em 0.6em; margin: 0 0.25em; line-height: 1; border-radius: 0.35em;\">\n",
       "    Halloween\n",
       "    <span style=\"font-size: 0.8em; font-weight: bold; line-height: 1; border-radius: 0.35em; vertical-align: middle; margin-left: 0.5rem\">movie</span>\n",
       "</mark>\n",
       ".</div></span>"
      ],
      "text/plain": [
       "<IPython.core.display.HTML object>"
      ]
     },
     "metadata": {},
     "output_type": "display_data"
    }
   ],
   "source": [
    "nlp1 = spacy.load('models/NER/v2_506/') #load the best model\n",
    "doc = nlp1(\"Recommend movies like Nightmare on Elm Street, Friday the 13th, and Halloween.\") # input sample text\n",
    "\n",
    "spacy.displacy.render(doc, style=\"ent\", jupyter=True) # display in Jupyter\n",
    "\n"
   ]
  },
  {
   "cell_type": "code",
   "execution_count": 49,
   "id": "b939748e",
   "metadata": {},
   "outputs": [
    {
     "data": {
      "text/html": [
       "<span class=\"tex2jax_ignore\"><div class=\"entities\" style=\"line-height: 2.5; direction: ltr\">Who is the \n",
       "<mark class=\"entity\" style=\"background: #ddd; padding: 0.45em 0.6em; margin: 0 0.25em; line-height: 1; border-radius: 0.35em;\">\n",
       "    director\n",
       "    <span style=\"font-size: 0.8em; font-weight: bold; line-height: 1; border-radius: 0.35em; vertical-align: middle; margin-left: 0.5rem\">role</span>\n",
       "</mark>\n",
       " of \n",
       "<mark class=\"entity\" style=\"background: #ddd; padding: 0.45em 0.6em; margin: 0 0.25em; line-height: 1; border-radius: 0.35em;\">\n",
       "    Oppenheimer\n",
       "    <span style=\"font-size: 0.8em; font-weight: bold; line-height: 1; border-radius: 0.35em; vertical-align: middle; margin-left: 0.5rem\">movie</span>\n",
       "</mark>\n",
       "?</div></span>"
      ],
      "text/plain": [
       "<IPython.core.display.HTML object>"
      ]
     },
     "metadata": {},
     "output_type": "display_data"
    }
   ],
   "source": [
    "doc = nlp1(\"Who is the director of Oppenheimer?\") # input sample text\n",
    "\n",
    "spacy.displacy.render(doc, style=\"ent\", jupyter=True) # display in Jupyter\n"
   ]
  },
  {
   "cell_type": "code",
   "execution_count": 50,
   "id": "650a8441",
   "metadata": {},
   "outputs": [
    {
     "data": {
      "text/html": [
       "<span class=\"tex2jax_ignore\"><div class=\"entities\" style=\"line-height: 2.5; direction: ltr\">What are the \n",
       "<mark class=\"entity\" style=\"background: #ddd; padding: 0.45em 0.6em; margin: 0 0.25em; line-height: 1; border-radius: 0.35em;\">\n",
       "    best\n",
       "    <span style=\"font-size: 0.8em; font-weight: bold; line-height: 1; border-radius: 0.35em; vertical-align: middle; margin-left: 0.5rem\">order</span>\n",
       "</mark>\n",
       " \n",
       "<mark class=\"entity\" style=\"background: #ddd; padding: 0.45em 0.6em; margin: 0 0.25em; line-height: 1; border-radius: 0.35em;\">\n",
       "    5\n",
       "    <span style=\"font-size: 0.8em; font-weight: bold; line-height: 1; border-radius: 0.35em; vertical-align: middle; margin-left: 0.5rem\">numerical_entity</span>\n",
       "</mark>\n",
       " movies of \n",
       "<mark class=\"entity\" style=\"background: #ddd; padding: 0.45em 0.6em; margin: 0 0.25em; line-height: 1; border-radius: 0.35em;\">\n",
       "    Christopher Nolan\n",
       "    <span style=\"font-size: 0.8em; font-weight: bold; line-height: 1; border-radius: 0.35em; vertical-align: middle; margin-left: 0.5rem\">name</span>\n",
       "</mark>\n",
       "?</div></span>"
      ],
      "text/plain": [
       "<IPython.core.display.HTML object>"
      ]
     },
     "metadata": {},
     "output_type": "display_data"
    }
   ],
   "source": [
    "doc = nlp1(\"What are the best 5 movies of Christopher Nolan?\") # input sample text\n",
    "\n",
    "spacy.displacy.render(doc, style=\"ent\", jupyter=True) # display in Jupyter\n"
   ]
  },
  {
   "cell_type": "code",
   "execution_count": 51,
   "id": "db1b9827",
   "metadata": {},
   "outputs": [
    {
     "data": {
      "text/html": [
       "<span class=\"tex2jax_ignore\"><div class=\"entities\" style=\"line-height: 2.5; direction: ltr\">List the \n",
       "<mark class=\"entity\" style=\"background: #ddd; padding: 0.45em 0.6em; margin: 0 0.25em; line-height: 1; border-radius: 0.35em;\">\n",
       "    top\n",
       "    <span style=\"font-size: 0.8em; font-weight: bold; line-height: 1; border-radius: 0.35em; vertical-align: middle; margin-left: 0.5rem\">order</span>\n",
       "</mark>\n",
       " \n",
       "<mark class=\"entity\" style=\"background: #ddd; padding: 0.45em 0.6em; margin: 0 0.25em; line-height: 1; border-radius: 0.35em;\">\n",
       "    ten\n",
       "    <span style=\"font-size: 0.8em; font-weight: bold; line-height: 1; border-radius: 0.35em; vertical-align: middle; margin-left: 0.5rem\">numerical_entity</span>\n",
       "</mark>\n",
       " \n",
       "<mark class=\"entity\" style=\"background: #ddd; padding: 0.45em 0.6em; margin: 0 0.25em; line-height: 1; border-radius: 0.35em;\">\n",
       "    horror\n",
       "    <span style=\"font-size: 0.8em; font-weight: bold; line-height: 1; border-radius: 0.35em; vertical-align: middle; margin-left: 0.5rem\">genre</span>\n",
       "</mark>\n",
       " movies</div></span>"
      ],
      "text/plain": [
       "<IPython.core.display.HTML object>"
      ]
     },
     "metadata": {},
     "output_type": "display_data"
    }
   ],
   "source": [
    "doc = nlp1(\"List the top ten horror movies\") # input sample text\n",
    "\n",
    "spacy.displacy.render(doc, style=\"ent\", jupyter=True) # display in Jupyter\n"
   ]
  },
  {
   "cell_type": "code",
   "execution_count": 52,
   "id": "b1b2f59a",
   "metadata": {},
   "outputs": [
    {
     "data": {
      "text/html": [
       "<span class=\"tex2jax_ignore\"><div class=\"entities\" style=\"line-height: 2.5; direction: ltr\">Which is the \n",
       "<mark class=\"entity\" style=\"background: #ddd; padding: 0.45em 0.6em; margin: 0 0.25em; line-height: 1; border-radius: 0.35em;\">\n",
       "    best\n",
       "    <span style=\"font-size: 0.8em; font-weight: bold; line-height: 1; border-radius: 0.35em; vertical-align: middle; margin-left: 0.5rem\">order</span>\n",
       "</mark>\n",
       " \n",
       "<mark class=\"entity\" style=\"background: #ddd; padding: 0.45em 0.6em; margin: 0 0.25em; line-height: 1; border-radius: 0.35em;\">\n",
       "    rated\n",
       "    <span style=\"font-size: 0.8em; font-weight: bold; line-height: 1; border-radius: 0.35em; vertical-align: middle; margin-left: 0.5rem\">predicate</span>\n",
       "</mark>\n",
       " \n",
       "<mark class=\"entity\" style=\"background: #ddd; padding: 0.45em 0.6em; margin: 0 0.25em; line-height: 1; border-radius: 0.35em;\">\n",
       "    horror movie\n",
       "    <span style=\"font-size: 0.8em; font-weight: bold; line-height: 1; border-radius: 0.35em; vertical-align: middle; margin-left: 0.5rem\">genre</span>\n",
       "</mark>\n",
       "?</div></span>"
      ],
      "text/plain": [
       "<IPython.core.display.HTML object>"
      ]
     },
     "metadata": {},
     "output_type": "display_data"
    }
   ],
   "source": [
    "doc = nlp1(\"Which is the best rated horror movie?\") # input sample text\n",
    "\n",
    "spacy.displacy.render(doc, style=\"ent\", jupyter=True) # display in Jupyter\n"
   ]
  },
  {
   "cell_type": "code",
   "execution_count": 53,
   "id": "bdacd538",
   "metadata": {},
   "outputs": [
    {
     "data": {
      "text/html": [
       "<span class=\"tex2jax_ignore\"><div class=\"entities\" style=\"line-height: 2.5; direction: ltr\">Who is the \n",
       "<mark class=\"entity\" style=\"background: #ddd; padding: 0.45em 0.6em; margin: 0 0.25em; line-height: 1; border-radius: 0.35em;\">\n",
       "    screenwriter\n",
       "    <span style=\"font-size: 0.8em; font-weight: bold; line-height: 1; border-radius: 0.35em; vertical-align: middle; margin-left: 0.5rem\">role</span>\n",
       "</mark>\n",
       " of \n",
       "<mark class=\"entity\" style=\"background: #ddd; padding: 0.45em 0.6em; margin: 0 0.25em; line-height: 1; border-radius: 0.35em;\">\n",
       "    The Masked Gang: Cyprus\n",
       "    <span style=\"font-size: 0.8em; font-weight: bold; line-height: 1; border-radius: 0.35em; vertical-align: middle; margin-left: 0.5rem\">movie</span>\n",
       "</mark>\n",
       "?</div></span>"
      ],
      "text/plain": [
       "<IPython.core.display.HTML object>"
      ]
     },
     "metadata": {},
     "output_type": "display_data"
    }
   ],
   "source": [
    "doc = nlp1(\"Who is the screenwriter of The Masked Gang: Cyprus?\") # input sample text\n",
    "\n",
    "spacy.displacy.render(doc, style=\"ent\", jupyter=True) # display in Jupyter\n"
   ]
  },
  {
   "cell_type": "code",
   "execution_count": 85,
   "id": "d493e86f",
   "metadata": {},
   "outputs": [
    {
     "name": "stdout",
     "output_type": "stream",
     "text": [
      "year 30 34\n"
     ]
    }
   ],
   "source": [
    "for ent in doc.ents:\n",
    "    print(ent.label_, ent.start_char, ent.end_char)\n"
   ]
  },
  {
   "cell_type": "code",
   "execution_count": null,
   "id": "165fdff6",
   "metadata": {},
   "outputs": [],
   "source": []
  }
 ],
 "metadata": {
  "kernelspec": {
   "display_name": "Python 3 (ipykernel)",
   "language": "python",
   "name": "python3"
  },
  "language_info": {
   "codemirror_mode": {
    "name": "ipython",
    "version": 3
   },
   "file_extension": ".py",
   "mimetype": "text/x-python",
   "name": "python",
   "nbconvert_exporter": "python",
   "pygments_lexer": "ipython3",
   "version": "3.10.13"
  }
 },
 "nbformat": 4,
 "nbformat_minor": 5
}
