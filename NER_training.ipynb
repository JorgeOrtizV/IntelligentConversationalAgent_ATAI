{
 "cells": [
  {
   "cell_type": "code",
   "execution_count": 1,
   "id": "06e1964d",
   "metadata": {},
   "outputs": [],
   "source": [
    "import spacy\n",
    "from spacy import displacy\n",
    "\n",
    "nlp = spacy.load(\"en_core_web_sm\")"
   ]
  },
  {
   "cell_type": "code",
   "execution_count": 2,
   "id": "a4f9cf1d",
   "metadata": {},
   "outputs": [],
   "source": [
    "from rdflib.namespace import Namespace, RDF, RDFS, XSD\n",
    "from rdflib.term import URIRef, Literal\n",
    "import csv\n",
    "import json\n",
    "import networkx as nx\n",
    "import pandas as pd\n",
    "import rdflib\n",
    "from collections import defaultdict, Counter\n",
    "import locale"
   ]
  },
  {
   "cell_type": "code",
   "execution_count": 3,
   "id": "d59d51d4",
   "metadata": {},
   "outputs": [
    {
     "data": {
      "text/plain": [
       "<Graph identifier=Nc6441e400d4340ff9d5181823982bbd8 (<class 'rdflib.graph.Graph'>)>"
      ]
     },
     "execution_count": 3,
     "metadata": {},
     "output_type": "execute_result"
    }
   ],
   "source": [
    "graph = rdflib.Graph()\n",
    "graph.parse('data/14_graph.nt', format='turtle')"
   ]
  },
  {
   "cell_type": "code",
   "execution_count": 4,
   "id": "587179f4",
   "metadata": {},
   "outputs": [],
   "source": [
    "# prefixes used in the graph\n",
    "WD = Namespace('http://www.wikidata.org/entity/')\n",
    "WDT = Namespace('http://www.wikidata.org/prop/direct/')\n",
    "SCHEMA = Namespace('http://schema.org/')\n",
    "DDIS = Namespace('http://ddis.ch/atai/')"
   ]
  },
  {
   "cell_type": "code",
   "execution_count": 5,
   "id": "ecd1993c",
   "metadata": {},
   "outputs": [],
   "source": [
    "entities = set(graph.subjects()) | {s for s in graph.objects() if isinstance(s,URIRef)}\n",
    "predicates = set(graph.predicates())\n",
    "literals = {s for s in graph.objects() if isinstance(s, Literal)}"
   ]
  },
  {
   "cell_type": "code",
   "execution_count": 6,
   "id": "e867bce1",
   "metadata": {},
   "outputs": [
    {
     "data": {
      "text/plain": [
       "364"
      ]
     },
     "execution_count": 6,
     "metadata": {},
     "output_type": "execute_result"
    }
   ],
   "source": [
    "genre_list = {str(uri):str(s) for uri,s in graph.query('''\n",
    "PREFIX ddis: <http://ddis.ch/atai/>\n",
    "PREFIX wd: <http://www.wikidata.org/entity/>\n",
    "PREFIX wdt: <http://www.wikidata.org/prop/direct/>\n",
    "PREFIX schema: <http://schema.org/>\n",
    "SELECT ?genre ?lbl WHERE {\n",
    "?movie wdt:P31 wd:Q11424 .\n",
    "?movie wdt:P136 ?genre .\n",
    "?genre rdfs:label ?lbl .\n",
    "}\n",
    "''')}\n",
    "\n",
    "len(genre_list)"
   ]
  },
  {
   "cell_type": "code",
   "execution_count": 7,
   "id": "ad0ad0e2",
   "metadata": {},
   "outputs": [
    {
     "data": {
      "text/plain": [
       "100157"
      ]
     },
     "execution_count": 7,
     "metadata": {},
     "output_type": "execute_result"
    }
   ],
   "source": [
    "people_list = {str(uri):str(s) for uri,s in graph.query('''\n",
    "PREFIX ddis: <http://ddis.ch/atai/>\n",
    "PREFIX wd: <http://www.wikidata.org/entity/>\n",
    "PREFIX wdt: <http://www.wikidata.org/prop/direct/>\n",
    "PREFIX schema: <http://schema.org/>\n",
    "SELECT ?person ?lbl WHERE {\n",
    "?person wdt:P31 wd:Q5 .\n",
    "?person rdfs:label ?lbl .\n",
    "}\n",
    "''')}\n",
    "\n",
    "len(people_list)"
   ]
  },
  {
   "cell_type": "code",
   "execution_count": 8,
   "id": "cedf2739",
   "metadata": {},
   "outputs": [
    {
     "data": {
      "text/plain": [
       "24384"
      ]
     },
     "execution_count": 8,
     "metadata": {},
     "output_type": "execute_result"
    }
   ],
   "source": [
    "movie_list = {str(uri):str(s) for uri,s in graph.query('''\n",
    "PREFIX ddis: <http://ddis.ch/atai/>\n",
    "PREFIX wd: <http://www.wikidata.org/entity/>\n",
    "PREFIX wdt: <http://www.wikidata.org/prop/direct/>\n",
    "PREFIX schema: <http://schema.org/>\n",
    "SELECT ?movie ?lbl WHERE {\n",
    "?movie wdt:P31 wd:Q11424 .\n",
    "?movie rdfs:label ?lbl .\n",
    "}\n",
    "''')}\n",
    "\n",
    "len(movie_list)"
   ]
  },
  {
   "cell_type": "code",
   "execution_count": 9,
   "id": "656cef68",
   "metadata": {},
   "outputs": [],
   "source": [
    "predicate_dict = {}\n",
    "prefix_string = \"PREFIX ddis: <http://ddis.ch/atai/> PREFIX wd: <http://www.wikidata.org/entity/> PREFIX wdt: <http://www.wikidata.org/prop/direct/> PREFIX schema: <http://schema.org/> \"\n",
    "for uri in predicates:\n",
    "    try:\n",
    "        p = uri.split(\"/\")[-1]\n",
    "        query_string = \"SELECT ?lbl WHERE { wdt:PREDICATE rdfs:label ?lbl . }\".replace(\"PREDICATE\",p)\n",
    "        res = graph.query(prefix_string + query_string)\n",
    "        label, = res\n",
    "        predicate_dict[str(uri)] = str(label[0])\n",
    "    except:\n",
    "        pass"
   ]
  },
  {
   "cell_type": "code",
   "execution_count": 10,
   "id": "d9beba94",
   "metadata": {},
   "outputs": [
    {
     "data": {
      "text/plain": [
       "{'http://www.wikidata.org/prop/direct/P131': 'located in the administrative territorial entity',\n",
       " 'http://www.wikidata.org/prop/direct/P2546': 'sidekick of',\n",
       " 'http://www.wikidata.org/prop/direct/P3275': 'storyboard artist',\n",
       " 'http://www.wikidata.org/prop/direct/P108': 'employer',\n",
       " 'http://www.wikidata.org/prop/direct/P5970': 'Medierådet rating',\n",
       " 'http://www.wikidata.org/prop/direct/P123': 'publisher',\n",
       " 'http://www.wikidata.org/prop/direct/P306': 'operating system',\n",
       " 'http://www.wikidata.org/prop/direct/P287': 'designed by',\n",
       " 'http://www.wikidata.org/prop/direct/P945': 'allegiance',\n",
       " 'http://www.wikidata.org/prop/direct/P7959': 'historic county',\n",
       " 'http://www.wikidata.org/prop/direct/P144': 'based on',\n",
       " 'http://www.wikidata.org/prop/direct/P1001': 'applies to jurisdiction',\n",
       " 'http://www.wikidata.org/prop/direct/P1365': 'replaces',\n",
       " 'http://www.wikidata.org/prop/direct/P1366': 'replaced by',\n",
       " 'http://www.wikidata.org/prop/direct/P3300': 'musical conductor',\n",
       " 'http://www.wikidata.org/prop/direct/P275': 'copyright license',\n",
       " 'http://www.wikidata.org/prop/direct/P6166': 'quotes work',\n",
       " 'http://www.wikidata.org/prop/direct/P155': 'follows',\n",
       " 'http://www.wikidata.org/prop/direct/P451': 'unmarried partner',\n",
       " 'http://www.wikidata.org/prop/direct/P495': 'country of origin',\n",
       " 'http://www.wikidata.org/prop/direct/P7573': 'IFCO rating',\n",
       " 'http://www.wikidata.org/prop/direct/P530': 'diplomatic relation',\n",
       " 'http://www.wikidata.org/prop/direct/P941': 'inspired by',\n",
       " 'http://www.wikidata.org/prop/direct/P2438': 'narrator',\n",
       " 'http://www.wikidata.org/prop/direct/P57': 'director',\n",
       " 'http://www.wikidata.org/prop/direct/P1434': 'takes place in fictional universe',\n",
       " 'http://www.wikidata.org/prop/direct/P3342': 'significant person',\n",
       " 'http://www.wikidata.org/prop/direct/P466': 'occupant',\n",
       " 'http://www.wikidata.org/prop/direct/P69': 'educated at',\n",
       " 'http://www.wikidata.org/prop/direct/P4908': 'season',\n",
       " 'http://www.wikidata.org/prop/direct/P2416': 'sports discipline competed in',\n",
       " 'http://www.wikidata.org/prop/direct/P101': 'field of work',\n",
       " 'http://www.wikidata.org/prop/direct/P9215': 'set during recurring event',\n",
       " 'http://www.wikidata.org/prop/direct/P915': 'filming location',\n",
       " 'http://www.wikidata.org/prop/direct/P1445': 'fictional universe described in',\n",
       " 'http://www.wikidata.org/prop/direct/P3834': 'RTC film rating',\n",
       " 'http://www.wikidata.org/prop/direct/P279': 'subclass of',\n",
       " 'http://www.wikidata.org/prop/direct/P485': 'archives at',\n",
       " 'http://www.wikidata.org/prop/direct/P7327': 'OFLC classification',\n",
       " 'http://www.wikidata.org/prop/direct/P1299': 'depicted by',\n",
       " 'http://www.wikidata.org/prop/direct/P1411': 'nominated for',\n",
       " 'http://www.wikidata.org/prop/direct/P1875': 'represented by',\n",
       " 'http://www.wikidata.org/prop/direct/P166': 'award received',\n",
       " 'http://www.wikidata.org/prop/direct/P2650': 'interested in',\n",
       " 'http://www.wikidata.org/prop/direct/P3428': 'INCAA film rating',\n",
       " 'http://www.wikidata.org/prop/direct/P3448': 'stepparent',\n",
       " 'http://www.wikidata.org/prop/direct/P710': 'participant',\n",
       " 'http://www.wikidata.org/prop/direct/P3174': 'art director',\n",
       " 'http://www.wikidata.org/prop/direct/P263': 'official residence',\n",
       " 'http://www.wikidata.org/prop/direct/P527': 'has part',\n",
       " 'http://www.wikidata.org/prop/direct/P7047': 'enemy of',\n",
       " 'http://www.wikidata.org/prop/direct/P706': 'located on terrain feature',\n",
       " 'http://www.wikidata.org/prop/direct/P509': 'cause of death',\n",
       " 'http://www.wikidata.org/prop/direct/P828': 'has cause',\n",
       " 'http://www.wikidata.org/prop/direct/P2079': 'fabrication method',\n",
       " 'http://www.wikidata.org/prop/direct/P150': 'contains administrative territorial entity',\n",
       " 'http://www.wikidata.org/prop/direct/P1040': 'film editor',\n",
       " 'http://www.wikidata.org/prop/direct/P25': 'mother',\n",
       " 'http://www.wikidata.org/prop/direct/P6886': 'writing language',\n",
       " 'http://www.wikidata.org/prop/direct/P1995': 'health specialty',\n",
       " 'http://www.wikidata.org/prop/direct/P2756': 'EIRIN film rating',\n",
       " 'http://www.wikidata.org/prop/direct/P800': 'notable work',\n",
       " 'http://www.wikidata.org/prop/direct/P3803': 'original film format',\n",
       " 'http://www.wikidata.org/prop/direct/P2684': 'Kijkwijzer rating',\n",
       " 'http://www.wikidata.org/prop/direct/P1877': 'after a work by',\n",
       " 'http://www.wikidata.org/prop/direct/P2061': 'aspect ratio',\n",
       " 'http://www.wikidata.org/prop/direct/P8371': 'references work, tradition or theory',\n",
       " 'http://www.wikidata.org/prop/direct/P2283': 'uses',\n",
       " 'http://www.wikidata.org/prop/direct/P103': 'native language',\n",
       " 'http://www.wikidata.org/prop/direct/P1889': 'different from',\n",
       " 'http://www.wikidata.org/prop/direct/P1382': 'partially coincident with',\n",
       " 'http://www.wikidata.org/prop/direct/P1050': 'medical condition',\n",
       " 'http://www.wikidata.org/prop/direct/P3095': 'practiced by',\n",
       " 'http://www.wikidata.org/prop/direct/P97': 'noble title',\n",
       " 'http://www.wikidata.org/prop/direct/P241': 'military branch',\n",
       " 'http://www.wikidata.org/prop/direct/P1346': 'winner',\n",
       " 'http://www.wikidata.org/prop/direct/P17': 'country',\n",
       " 'http://www.wikidata.org/prop/direct/P2629': 'BBFC rating',\n",
       " 'http://www.wikidata.org/prop/direct/P37': 'official language',\n",
       " 'http://www.wikidata.org/prop/direct/P4805': 'make-up artist',\n",
       " 'http://www.wikidata.org/prop/direct/P40': 'child',\n",
       " 'http://www.wikidata.org/prop/direct/P54': 'member of sports team',\n",
       " 'http://www.wikidata.org/prop/direct/P190': 'twinned administrative body',\n",
       " 'http://www.wikidata.org/prop/direct/P1037': 'director / manager',\n",
       " 'http://www.wikidata.org/prop/direct/P551': 'residence',\n",
       " 'http://www.wikidata.org/prop/direct/P1080': 'from narrative universe',\n",
       " 'http://www.wikidata.org/prop/direct/P3216': 'ClassInd rating',\n",
       " 'http://www.wikidata.org/prop/direct/P2747': 'Filmiroda rating',\n",
       " 'http://www.wikidata.org/prop/direct/P22': 'father',\n",
       " 'http://www.wikidata.org/prop/direct/P1431': 'executive producer',\n",
       " 'http://www.wikidata.org/prop/direct/P1433': 'published in',\n",
       " 'http://www.wikidata.org/prop/direct/P1165': 'home world',\n",
       " 'http://www.wikidata.org/prop/direct/P127': 'owned by',\n",
       " 'http://www.wikidata.org/prop/direct/P747': 'has edition or translation',\n",
       " 'http://www.wikidata.org/prop/direct/P735': 'given name',\n",
       " 'http://www.wikidata.org/prop/direct/P5201': 'IMDA rating',\n",
       " 'http://www.wikidata.org/prop/direct/P175': 'performer',\n",
       " 'http://www.wikidata.org/prop/direct/P1038': 'relative',\n",
       " 'http://www.wikidata.org/prop/direct/P460': 'said to be the same as',\n",
       " 'http://www.wikidata.org/prop/direct/P26': 'spouse',\n",
       " 'http://www.wikidata.org/prop/direct/P840': 'narrative location',\n",
       " 'http://www.wikidata.org/prop/direct/P6216': 'copyright status',\n",
       " 'http://www.wikidata.org/prop/direct/P19': 'place of birth',\n",
       " 'http://www.wikidata.org/prop/direct/P91': 'sexual orientation',\n",
       " 'http://www.wikidata.org/prop/direct/P2936': 'language used',\n",
       " 'http://www.wikidata.org/prop/direct/P1327': 'partner in business or sport',\n",
       " 'http://www.wikidata.org/prop/direct/P140': 'religion',\n",
       " 'http://www.wikidata.org/prop/direct/P449': 'original broadcaster',\n",
       " 'http://www.wikidata.org/prop/direct/P437': 'distribution format',\n",
       " 'http://www.wikidata.org/prop/direct/P20': 'place of death',\n",
       " 'http://www.wikidata.org/prop/direct/P6379': 'has works in the collection',\n",
       " 'http://www.wikidata.org/prop/direct/P1029': 'crew member(s)',\n",
       " 'http://www.wikidata.org/prop/direct/P931': 'place served by transport hub',\n",
       " 'http://www.wikidata.org/prop/direct/P802': 'student',\n",
       " 'http://www.wikidata.org/prop/direct/P750': 'distributed by',\n",
       " 'http://www.wikidata.org/prop/direct/P8670': 'character designer',\n",
       " 'http://www.wikidata.org/prop/direct/P4969': 'derivative work',\n",
       " 'http://www.wikidata.org/prop/direct/P3306': 'ICAA rating',\n",
       " 'http://www.wikidata.org/prop/direct/P1589': 'lowest point',\n",
       " 'http://www.wikidata.org/prop/direct/P8411': 'set in environment',\n",
       " 'http://www.wikidata.org/prop/direct/P2563': 'superhuman feature or ability',\n",
       " 'http://www.wikidata.org/prop/direct/P2541': 'operating area',\n",
       " 'http://www.wikidata.org/prop/direct/P366': 'use',\n",
       " 'http://www.wikidata.org/prop/direct/P3650': 'JMK film rating',\n",
       " 'http://www.wikidata.org/prop/direct/P5021': 'assessment',\n",
       " 'http://www.wikidata.org/prop/direct/P2408': 'set in period',\n",
       " 'http://www.wikidata.org/prop/direct/P1376': 'capital of',\n",
       " 'http://www.wikidata.org/prop/direct/P1552': 'has quality',\n",
       " 'http://www.wikidata.org/prop/direct/P157': 'killed by',\n",
       " 'http://www.wikidata.org/prop/direct/P629': 'edition or translation of',\n",
       " 'http://www.wikidata.org/prop/direct/P138': 'named after',\n",
       " 'http://www.wikidata.org/prop/direct/P674': 'characters',\n",
       " 'http://www.wikidata.org/prop/direct/P195': 'collection',\n",
       " 'http://www.wikidata.org/prop/direct/P462': 'color',\n",
       " 'http://www.wikidata.org/prop/direct/P4437': 'FPB rating',\n",
       " 'http://www.wikidata.org/prop/direct/P7936': 'business model',\n",
       " 'http://www.wikidata.org/prop/direct/P106': 'occupation',\n",
       " 'http://www.wikidata.org/prop/direct/P172': 'ethnic group',\n",
       " 'http://www.wikidata.org/prop/direct/P1412': 'languages spoken, written or signed',\n",
       " 'http://www.wikidata.org/prop/direct/P641': 'sport',\n",
       " 'http://www.wikidata.org/prop/direct/P407': 'language of work or name',\n",
       " 'http://www.wikidata.org/prop/direct/P825': 'dedicated to',\n",
       " 'http://www.wikidata.org/prop/direct/P1344': 'participant in',\n",
       " 'http://www.wikidata.org/prop/direct/P1416': 'affiliation',\n",
       " 'http://www.wikidata.org/prop/direct/P5389': 'permanent resident of',\n",
       " 'http://www.wikidata.org/prop/direct/P291': 'place of publication',\n",
       " 'http://www.wikidata.org/prop/direct/P205': 'basin country',\n",
       " 'http://www.wikidata.org/prop/direct/P1142': 'political ideology',\n",
       " 'http://www.wikidata.org/prop/direct/P400': 'platform',\n",
       " 'http://www.wikidata.org/prop/direct/P2860': 'cites work',\n",
       " 'http://www.wikidata.org/prop/direct/P425': 'field of this occupation',\n",
       " 'http://www.wikidata.org/prop/direct/P3092': 'film crew member',\n",
       " 'http://www.wikidata.org/prop/direct/P3402': 'CNC film rating (Romania)',\n",
       " 'http://www.wikidata.org/prop/direct/P5072': 'presented in',\n",
       " 'http://www.wikidata.org/prop/direct/P1576': 'lifestyle',\n",
       " 'http://www.wikidata.org/prop/direct/P178': 'developer',\n",
       " 'http://www.wikidata.org/prop/direct/P1399': 'convicted of',\n",
       " 'http://www.wikidata.org/prop/direct/P740': 'location of formation',\n",
       " 'http://www.wikidata.org/prop/direct/P361': 'part of',\n",
       " 'http://www.wikidata.org/prop/direct/P8889': 'MTRCB rating',\n",
       " 'http://www.wikidata.org/prop/direct/P21': 'sex or gender',\n",
       " 'http://www.wikidata.org/prop/direct/P47': 'shares border with',\n",
       " 'http://www.wikidata.org/prop/direct/P135': 'movement',\n",
       " 'http://www.wikidata.org/prop/direct/P2341': 'indigenous to',\n",
       " 'http://www.wikidata.org/prop/direct/P5028': 'sound designer',\n",
       " 'http://www.wikidata.org/prop/direct/P3301': 'broadcast by',\n",
       " 'http://www.wikidata.org/prop/direct/P793': 'significant event',\n",
       " 'http://www.wikidata.org/prop/direct/P170': 'creator',\n",
       " 'http://www.wikidata.org/prop/direct/P1532': 'country for sport',\n",
       " 'http://www.wikidata.org/prop/direct/P1196': 'manner of death',\n",
       " 'http://www.wikidata.org/prop/direct/P50': 'author',\n",
       " 'http://www.wikidata.org/prop/direct/P1830': 'owner of',\n",
       " 'http://www.wikidata.org/prop/direct/P1441': 'present in work',\n",
       " 'http://www.wikidata.org/prop/direct/P2515': 'costume designer',\n",
       " 'http://www.wikidata.org/prop/direct/P3156': 'Australian Classification',\n",
       " 'http://www.wikidata.org/prop/direct/P7937': 'form of creative work',\n",
       " 'http://www.wikidata.org/prop/direct/P1269': 'facet of',\n",
       " 'http://www.wikidata.org/prop/direct/P2142': 'box office',\n",
       " 'http://www.wikidata.org/prop/direct/P3373': 'sibling',\n",
       " 'http://www.wikidata.org/prop/direct/P119': 'place of burial',\n",
       " 'http://www.wikidata.org/prop/direct/P452': 'industry',\n",
       " 'http://www.wikidata.org/prop/direct/P607': 'conflict',\n",
       " 'http://www.wikidata.org/prop/direct/P9086': 'BAMID film rating',\n",
       " 'http://www.wikidata.org/prop/direct/P832': 'public holiday',\n",
       " 'http://www.wikidata.org/prop/direct/P1542': 'has effect',\n",
       " 'http://www.wikidata.org/prop/direct/P737': 'influenced by',\n",
       " 'http://www.wikidata.org/prop/direct/P2637': 'RARS rating',\n",
       " 'http://www.wikidata.org/prop/direct/P3818': 'KMRB film rating',\n",
       " 'http://www.wikidata.org/prop/direct/P4608': 'scenographer',\n",
       " 'http://www.wikidata.org/prop/direct/P35': 'head of state',\n",
       " 'http://www.wikidata.org/prop/direct/P463': 'member of',\n",
       " 'http://www.wikidata.org/prop/direct/P27': 'country of citizenship',\n",
       " 'http://www.wikidata.org/prop/direct/P937': 'work location',\n",
       " 'http://www.wikidata.org/prop/direct/P58': 'screenwriter',\n",
       " 'http://www.wikidata.org/prop/direct/P137': 'operator',\n",
       " 'http://www.wikidata.org/prop/direct/P749': 'parent organization',\n",
       " 'http://www.wikidata.org/prop/direct/P36': 'capital',\n",
       " 'http://www.wikidata.org/prop/direct/P2632': 'place of detention',\n",
       " 'http://www.wikidata.org/prop/direct/P1657': 'MPAA film rating',\n",
       " 'http://www.wikidata.org/prop/direct/P767': 'contributor to the creative work or subject',\n",
       " 'http://www.wikidata.org/prop/direct/P1429': 'has pet',\n",
       " 'http://www.wikidata.org/prop/direct/P5940': 'plot expanded in',\n",
       " 'http://www.wikidata.org/prop/direct/P577': 'publication date',\n",
       " 'http://www.wikidata.org/prop/direct/P1455': 'list of works',\n",
       " 'http://www.wikidata.org/prop/direct/P344': 'director of photography',\n",
       " 'http://www.wikidata.org/prop/direct/P1981': 'FSK film rating',\n",
       " 'http://www.wikidata.org/prop/direct/P8345': 'media franchise',\n",
       " 'http://www.wikidata.org/prop/direct/P156': 'followed by',\n",
       " 'http://www.wikidata.org/prop/direct/P5152': 'KAVI rating',\n",
       " 'http://www.wikidata.org/prop/direct/P3842': 'located in present-day administrative territorial entity',\n",
       " 'http://www.wikidata.org/prop/direct/P1809': 'choreographer',\n",
       " 'http://www.wikidata.org/prop/direct/P2758': 'CNC film rating (France)',\n",
       " 'http://www.wikidata.org/prop/direct/P30': 'continent',\n",
       " 'http://www.wikidata.org/prop/direct/P1027': 'conferred by',\n",
       " 'http://www.wikidata.org/prop/direct/P5150': 'IGAC rating',\n",
       " 'http://www.wikidata.org/prop/direct/P5096': 'member of the crew of',\n",
       " 'http://www.wikidata.org/prop/direct/P206': 'located in or next to body of water',\n",
       " 'http://www.wikidata.org/prop/direct/P1066': 'student of',\n",
       " 'http://www.wikidata.org/prop/direct/P461': 'opposite of',\n",
       " 'http://www.wikidata.org/prop/direct/P2363': 'NMHH film rating',\n",
       " 'http://www.wikidata.org/prop/direct/P2360': 'intended public',\n",
       " 'http://www.wikidata.org/prop/direct/P1056': 'product or material produced',\n",
       " 'http://www.wikidata.org/prop/direct/P2348': 'time period',\n",
       " 'http://www.wikidata.org/prop/direct/P364': 'original language of film or TV show',\n",
       " 'http://www.wikidata.org/prop/direct/P18': 'image',\n",
       " 'http://www.wikidata.org/prop/direct/P4584': 'first appearance',\n",
       " 'http://www.wikidata.org/prop/direct/P272': 'production company',\n",
       " 'http://www.wikidata.org/prop/direct/P6942': 'animator',\n",
       " 'http://www.wikidata.org/prop/direct/P161': 'cast member',\n",
       " 'http://www.wikidata.org/prop/direct/P159': 'headquarters location',\n",
       " 'http://www.wikidata.org/prop/direct/P179': 'part of the series',\n",
       " 'http://www.wikidata.org/prop/direct/P1343': 'described by source',\n",
       " 'http://www.wikidata.org/prop/direct/P112': 'founded by',\n",
       " 'http://www.wikidata.org/prop/direct/P669': 'located on street',\n",
       " 'http://www.wikidata.org/prop/direct/P66': 'ancestral home',\n",
       " 'http://www.wikidata.org/prop/direct/P6962': 'narrative motif',\n",
       " 'http://www.wikidata.org/prop/direct/P2554': 'production designer',\n",
       " 'http://www.wikidata.org/prop/direct/P180': 'depicts',\n",
       " 'http://www.wikidata.org/prop/direct/P31': 'instance of',\n",
       " 'http://www.wikidata.org/prop/direct/P725': 'voice actor',\n",
       " 'http://www.wikidata.org/prop/direct/P921': 'main subject',\n",
       " 'http://www.wikidata.org/prop/direct/P479': 'input method',\n",
       " 'http://www.wikidata.org/prop/direct/P345': 'IMDb ID',\n",
       " 'http://www.wikidata.org/prop/direct/P6275': 'copyright representative',\n",
       " 'http://www.wikidata.org/prop/direct/P6658': 'RCQ classification',\n",
       " 'http://www.wikidata.org/prop/direct/P371': 'presenter',\n",
       " 'http://www.wikidata.org/prop/direct/P8874': 'Hong Kong film rating',\n",
       " 'http://www.wikidata.org/prop/direct/P6': 'head of government',\n",
       " 'http://www.wikidata.org/prop/direct/P3931': 'copyright holder',\n",
       " 'http://www.wikidata.org/prop/direct/P276': 'location',\n",
       " 'http://www.wikidata.org/prop/direct/P136': 'genre'}"
      ]
     },
     "execution_count": 10,
     "metadata": {},
     "output_type": "execute_result"
    }
   ],
   "source": [
    "predicate_dict"
   ]
  },
  {
   "cell_type": "code",
   "execution_count": 11,
   "id": "2981c7a1",
   "metadata": {},
   "outputs": [],
   "source": [
    "# Defining some dictionaries for mapping wrods to predicates\n",
    "roles_ner = {\n",
    "    \"actor\":\"P161\",\n",
    "    \"cast\":\"P161\",\n",
    "    \"cast member\":\"P161\",\n",
    "    \"director\":\"P57\",\n",
    "    \"screenwriter\":\"P58\",\n",
    "    \"producer\":\"P162\",\n",
    "    \"developer\" : \"P178\",\n",
    "    \"film editor\" : \"P1040\",\n",
    "    \"director of photography\" : \"P344\",\n",
    "    \"film crew member\" : \"P2079\",\n",
    "    \"choreographer\" : \"P1809\",\n",
    "    #\"father\" : \"P22\",\n",
    "    #\"spouse\" : \"P26\",\n",
    "    \"art director\" : \"P3174\",\n",
    "    #\"winner\" : \"P1346\",\n",
    "    \"author\" : \"P50\",\n",
    "    \"presenter\" : \"P371\",\n",
    "    \"narrator\" : \"P2438\",\n",
    "    \"animator\" : \"P6942\",\n",
    "    \"creator\" : \"P170\",\n",
    "    #\"student\" : \"P802\",\n",
    "    #\"mother\" : \"P25\",\n",
    "    \"participant\" : \"P710\",\n",
    "    \"member of the crew of\" : \"P5096\",\n",
    "    \"voice actor\" : \"P725\",\n",
    "    #\"employer\" : \"P108\",\n",
    "    \"publisher\" : \"P123\",\n",
    "    \"musical conductor\" : \"P3300\",\n",
    "    \"operator\" : \"P137\",\n",
    "    \"performer\" : \"P175\"\n",
    "}\n",
    "# Do Ola Solum and Jürgen Drews share the screen in any movies?\n",
    "actions_ner = {\n",
    "    \"acted\":\"P161\",\n",
    "    \"directed\":\"P57\",\n",
    "    \"screenwrote\":\"P58\",\n",
    "    \"wrote\":\"P58\",\n",
    "    \"written\":\"P58\",\n",
    "    \"produced\":\"P162\",\n",
    "    \"featured\":\"P161\",\n",
    "    \"featuring\":\"P161\", \n",
    "    \"recorded\" : None,\n",
    "    #\"appeared\" : None,\n",
    "    \"appear\" : None,\n",
    "    \"direct\" : None,\n",
    "    #\"produced\" : None,\n",
    "    \"produce\" : None,\n",
    "    \"filmed\" : None,\n",
    "    \"edit\" : None,\n",
    "    #\"film\" : None,\n",
    "    \"edited\" : None,\n",
    "    #\"cast\" : None,\n",
    "    \"shoot\" : None,\n",
    "    \"premiere\" : None,\n",
    "    #\"release\" : None,\n",
    "    \"distribute\" : None,\n",
    "    \"directing\":None,\n",
    "    \"played\": None,\n",
    "    \"made\": None,\n",
    "    \"authored\": None,\n",
    "    \"appears\": None\n",
    "}\n",
    "\n",
    "predicates_ner = {\n",
    "    \"release\" : \"P577\",\n",
    "    \"when\" : \"P577\",\n",
    "    #\"release year\": \"P577\",\n",
    "    \"date\": \"P577\",\n",
    "    \"year\": \"P577\",\n",
    "    #\"date of release\": \"P577\",\n",
    "    \"genre\": \"P136\",\n",
    "    \"type\": \"P136\",\n",
    "    \"category\": \"P136\",\n",
    "    #\"ratings\": \"P444\",\n",
    "    \"rated\": \"P444\",\n",
    "    \"rating\": \"P444\",\n",
    "    \"review\": \"P444\",\n",
    "    \"score\":\"P444\",\n",
    "    # Consider if this is the right place to have it\n",
    "    \"suggest\": None,\n",
    "    \"recommend\": None\n",
    "}\n",
    "\n",
    "numbers_ner = [\n",
    "    \"one\",\n",
    "    \"two\",\n",
    "    \"three\",\n",
    "    \"four\",\n",
    "    \"five\",\n",
    "    \"six\",\n",
    "    \"seven\",\n",
    "    \"eight\",\n",
    "    \"nine\",\n",
    "    \"ten\",\n",
    "    \"eleven\",\n",
    "    \"twelve\",\n",
    "    \"thirteen\",\n",
    "    \"fourteen\",\n",
    "    \"fifteen\",\n",
    "    \"sixteen\",\n",
    "    \"seventeen\",\n",
    "    \"eighteen\",\n",
    "    \"nineteen\",\n",
    "    \"twenty\"\n",
    "]\n",
    "\n",
    "nums = list(range(1, 21))\n",
    "nums = list(map(str, nums))\n",
    "numbers_ner.extend(nums)\n",
    "\n",
    "years_ner = list(range(1678, 2025))\n",
    "years_ner = list(map(str, years_ner))\n",
    "\n",
    "\n",
    "genres_ner = {v.replace(\" film\",\"\"):k for k,v in genre_list.items()}\n",
    "genres_ner = {k.replace(\"genre\",\"\").strip():v for k,v in genres_ner.items()}\n",
    "del(genres_ner['film score'])"
   ]
  },
  {
   "cell_type": "code",
   "execution_count": 12,
   "id": "6d5370a9",
   "metadata": {},
   "outputs": [
    {
     "data": {
      "text/plain": [
       "['one',\n",
       " 'two',\n",
       " 'three',\n",
       " 'four',\n",
       " 'five',\n",
       " 'six',\n",
       " 'seven',\n",
       " 'eight',\n",
       " 'nine',\n",
       " 'ten',\n",
       " 'eleven',\n",
       " 'twelve',\n",
       " 'thirteen',\n",
       " 'fourteen',\n",
       " 'fifteen',\n",
       " 'sixteen',\n",
       " 'seventeen',\n",
       " 'eighteen',\n",
       " 'nineteen',\n",
       " 'twenty',\n",
       " '1',\n",
       " '2',\n",
       " '3',\n",
       " '4',\n",
       " '5',\n",
       " '6',\n",
       " '7',\n",
       " '8',\n",
       " '9',\n",
       " '10',\n",
       " '11',\n",
       " '12',\n",
       " '13',\n",
       " '14',\n",
       " '15',\n",
       " '16',\n",
       " '17',\n",
       " '18',\n",
       " '19',\n",
       " '20']"
      ]
     },
     "execution_count": 12,
     "metadata": {},
     "output_type": "execute_result"
    }
   ],
   "source": [
    "numbers_ner"
   ]
  },
  {
   "cell_type": "code",
   "execution_count": 13,
   "id": "13977863",
   "metadata": {},
   "outputs": [],
   "source": [
    "sentence_list_1=[ #Person search\n",
    "    \"Give me the <role> of <movie_name>\",\n",
    "    \"Give me the name of the <role> of <movie_name>\",\n",
    "    \"I'd like to know the <role>'s name for <movie_name>\",\n",
    "    \"I'm curious about the person who <directed/wrote> <movie_name>\",\n",
    "    \"Identify the <role> of <movie_name>\",\n",
    "    \"Tell me the <role> behind <movie_name>\",\n",
    "    \"Tell me the <role> for <movie_name>\",\n",
    "    \"Tell me the <role> of <movie_name>\",\n",
    "    \"What is the <role>'s name for the movie <movie_name>?\",\n",
    "    \"Who <role> in <movie_name>?\",\n",
    "    \"Who <directed/wrote> <movie_name>?\",\n",
    "    \"Who <directed/wrote> the movie <movie_name>?\",\n",
    "    \"Who is the <role> of <movie_name>?\",\n",
    "    \"Who is the <role> of the film <movie_name>?\",\n",
    "    \"Who oversaw the making of <movie_name>\",\n",
    "    \"Who was in charge of directing <movie_name>?\",\n",
    "    \"Who was the <role> of <movie_name>\"\n",
    "]\n",
    "\n",
    "sentence_list_2 = [ # Movie search\n",
    "    \"Give me a list of <genre> movies directed by <name>\",\n",
    "    \"Give me a list of <genre> movies featuring <name>\",\n",
    "    \"Give me a list of <genre> movies written by <name>\",\n",
    "    \"Give me a list of movies directed by <name>\",\n",
    "    \"Give me a list of movies featuring <name>\",\n",
    "    \"Give me a list of movies written by <name>\",\n",
    "    \"In which movies did <name> played a role?\",\n",
    "    \"In which movies does <name> appear?\",\n",
    "    \"List <genre> films written by <name>\",\n",
    "    \"List movies which were directed by <name>\",\n",
    "    \"List movies which were written by <name>\",\n",
    "    \"List the films made by <name>\",\n",
    "    \"List films authored by <name>\",\n",
    "    \"Retrieve the films authored by <name>\",\n",
    "    \"Retrieve the films directed by <name>\",\n",
    "    \"Retrieve the <genre> films with screenplays authored by <name>\",\n",
    "    \"Select all the movies of <name>\",\n",
    "    \"Select all the movies with <name>\",\n",
    "    \"Show me <genre> movies directed by <name>\",\n",
    "    \"Show me <genre> movies written by <name>\",\n",
    "    \"Show me the films directed by <name>\",\n",
    "    \"Show me movies written by <name>\",\n",
    "    \"Show me the films where <name> appears\",\n",
    "    \"Show me the films with <name> in the cast\",\n",
    "    \"Tell me the movies where <name> makes appearances\",\n",
    "    \"What are the movies with <name> as a cast member?\",\n",
    "    \"Which <genre> films has <name> directed?\",\n",
    "    \"Which <genre> films has <name> written?\",\n",
    "    \"Which films has <name> written?\",\n",
    "    \"Which movies has <name> <acted/wrote>\",\n",
    "    \"Which movies has <name> directed?\"\n",
    "]\n",
    "\n",
    "sentence_list_3 = [ # retrieve release date\n",
    "    \"Could you let me know the release date for <movie_name>?\",\n",
    "    \"Could you tell me when <movie_name> was first shown?\",\n",
    "    \"Give me the release date for <movie_name>\",\n",
    "    \"I'd like to know the release date of the movie <movie_name>\",\n",
    "    \"Please provide the release year for <movie_name>\",\n",
    "    \"Tell me the release date of <movie_name>\",\n",
    "    \"What's the date of release for <movie_name>?\",\n",
    "    \"What's the release year of the movie <movie_name>?\",\n",
    "    \"What's the launch date of <movie_name>?\",\n",
    "    \"What's the debut date for <movie_name>?\",\n",
    "    \"What is the release year of <movie_name>?\",\n",
    "    \"When did <movie_name> come out?\",\n",
    "    \"When did <movie_name> hit the theaters?\",\n",
    "    \"When was <movie_name> released?\",\n",
    "    \"When was <movie_name> launched?\",\n",
    "    \"When was the movie <movie_name> released?\",\n",
    "    \"When did <movie_name> first appear in cinemas?\"\n",
    "]\n",
    "\n",
    "sentence_list_4 = [ # genre\n",
    "    \"Give me the genre for the movie <movie_name>\",\n",
    "    \"I'd like to know the genre of <movie_name>\",\n",
    "    \"I'm curious about the genre of <movie_name>\",\n",
    "    \"In which genre does '<movie_name>' fit?\",\n",
    "    \"Identify the movie genre for <movie_name>\",\n",
    "    \"Tell me the genre of <movie_name>\",\n",
    "    \"Tell me the type of film that is <movie_name>\",\n",
    "    \"What category does <movie_name> fall into?\",\n",
    "    \"What genre is associated with <movie_name>?\",\n",
    "    \"What is the movie genre for <movie_name>?\",\n",
    "    \"What is the genre of <movie_name>?\",\n",
    "    \"Which category does <movie_name> fit into?\",\n",
    "    \"Which genre does the movie <movie_name> belong to?\",\n",
    "    \"Which genre does <movie_name> belong to?\"\n",
    "]\n",
    "\n",
    "sentence_list_5 = [ #ratings\n",
    "    \"Display the movies with the <highest/lowest> ratings\",\n",
    "    \"Give me the <top/bottom> <number> movies based on rating\",\n",
    "    \"Give me the <top/bottom> rated movies\",\n",
    "    \"Give me the <highest/lowest>-rated films\",\n",
    "    \"Give me the <top/bottom> <number> movies based on rating\",\n",
    "    \"Give me the <top/bottom> rated movies\",\n",
    "    \"Give me the movie that has the <highest/lowest> user rating\",\n",
    "    \"I'd like to know the movie with the <highest/lowest> user rating\",\n",
    "    \"I'm curious about the movie with the <highest/lowest> user rating\",\n",
    "    \"Identify the film with the <highest/lowest> user rating\",\n",
    "    \"I want to see the <top/bottom>-rated movies\",\n",
    "    \"List the movies with the <best/worst> ratings\",\n",
    "    \"Provide a list of the <top/bottom>-rated movies\",\n",
    "    \"Retrieve the movies with the <highest/lowest> ratings\",\n",
    "    \"Show me the <highest/lowest>-rated films\",\n",
    "    \"Show the movies with the <best/worst> ratings\",\n",
    "    \"Tell me the film that received the <highest/lowest> user rating\",\n",
    "    \"Tell me the movie with the <highest/lowest> user rating\",\n",
    "    \"What are the most <highest/lowest>-rated films?\",\n",
    "    \"What is the movie with the <highest/lowest> user rating?\",\n",
    "    \"What movie has the <highest/lowest> user rating?\",\n",
    "    \"Which film received the <highest/lowest> user rating?\",\n",
    "    \"Which movie has the <highest/lowest> user rating?\",\n",
    "    \"Which movie is rated the <highest/lowest> by users?\"\n",
    "]\n",
    "\n",
    "sentence_list_6 = [\n",
    "    \"Show me the <highest/lowest>-rated <genre> films\",\n",
    "    \"List the <genre> movies with the <best/worst> ratings\",\n",
    "    \"I want to see the <top/bottom>-rated <genre> movies\",\n",
    "    \"Display the <genre> movies with the <highest/lowest> ratings\",\n",
    "    \"What are the most highly-rated <genre> films?\",\n",
    "    \"Provide a list of the <top/bottom>-rated <genre> movies\",\n",
    "    \"Give me the <highest/lowest>-rated <genre> films\",\n",
    "    \"Show the movies with the <best/worst> <genre> ratings\",\n",
    "    \"Retrieve the movies with the <highest/lowest> <genre> ratings\",\n",
    "]\n",
    "\n",
    "sentence_list_7 = [\n",
    "    \"Show me the <highest/lowest>-rated <genre> films <action> <name>\",\n",
    "    \"List the <genre> movies with the <best/worst> ratings <action> <name>\",\n",
    "    \"I want to see the <top/bottom>-rated <genre> movies <action> <name>\",\n",
    "    \"Display the <genre> movies with the <highest/lowest> ratings <action> <name>\",\n",
    "    \"What are the most highly-rated <genre> films <action> <name>?\",\n",
    "    \"Provide a list of the <top/bottom>-rated <genre> movies <action> <name>\",\n",
    "    \"Give me the <highest/lowest>-rated <genre> films <action> <name>\",\n",
    "    \"Show the movies with the <best/worst> <genre> ratings <action> <name>\",\n",
    "    \"Retrieve the movies with the <highest/lowest> <genre> ratings <action> <name>\",\n",
    "\n",
    "    \"List the <genre> movies <action> <name> with the <best/worst> ratings\",\n",
    "    \"Display the <genre> movies <action> <name> with the <highest/lowest> ratings\",\n",
    "    \"Provide a list of the <top/bottom>-rated <genre> movies\",\n",
    "    \"Show the movies <action> <name> with the <best/worst> <genre> ratings\",\n",
    "    \"Retrieve the movies <action> <name> with the <highest/lowest> <genre> ratings\",\n",
    "]\n",
    "\n",
    "sentence_list_8 = [ # year-related\n",
    "    \"List the movies released in <year>\",\n",
    "    \"Which movies were directed by <name> in <year>?\",\n",
    "    \"What movies were released in <year>?\",\n",
    "    \"What movies did <name> appear in in <year>?\",\n",
    "    \"List the films featuring <name> in <year>\",\n",
    "    \"Provide the filmography of <name> in <year>\",\n",
    "    \"Which movies starred <name> in <year>?\",\n",
    "    \"Which roles were played by <name> in <year>?\"\n",
    "]\n",
    "\n",
    "sentence_list_9 = [ #Top/lowest N (based on release date)\n",
    "    \"What are the <best/worst> <number> movies <name> directed?\",\n",
    "    \"List the <best/worst> <number> movies directed by <name>\",\n",
    "    \"What are the <best/worst> <number> movies <name> directed?\",\n",
    "    \"What are the <best/worst> <number> <genre> movies <name> directed?\",\n",
    "    \"Which are the <best/worst> movies where <name> appeared?\",\n",
    "    \"Can you name the <best/worst> <number> <genre> movies directed by <name>?\",\n",
    "    \"Can you list the <best/worst> <number> films with <name> in the cast?\",\n",
    "    \"What are the <best/worst> <number> movies starring <name>\"\n",
    "]\n",
    "\n",
    "sentence_list_10 = [ #Yes/No\n",
    "    \"Is <name> in the cast of <movie_name>?\",\n",
    "    \"Did <name> direct <movie_name>?\",\n",
    "    \"Was the <movie> released in <year>?\",\n",
    "    \"Is <name> part of the cast of <movie_name>?\",\n",
    "    \"Was <movie_name> released before <year>?\",\n",
    "    \"Is <movie_name> classified as <genre>?\",\n",
    "    \"Did <name> appear in <movie_name>?\",\n",
    "]\n",
    "\n",
    "sentence_list_11 = [\n",
    "    # Movie recommendation\n",
    "    # Three movies\n",
    "    \"Given that I like <movie_name>, <movie_name>, and <movie_name>, can you recommend some movies?\",\n",
    "    \"Recommend movies like <movie_name>, <movie_name>, and <movie_name>\",\n",
    "    \"Since I enjoy <movie_name>, <movie_name>, and <movie_name>, do you have any movie recommendations for me?\",\n",
    "    \"I'm a fan of <movie_name>, <movie_name>, and <movie_name>. Any suggestions for similar movies?\",\n",
    "    \"Considering my liking for <movie_name>, <movie_name>, and <movie_name>, could you suggest some other films I might enjoy?\",\n",
    "    \"Given my interest in <movie_name>, <movie_name>, and <movie_name>, can you recommend additional movies for me to watch?\",\n",
    "    \"If I enjoy <movie_name>, <movie_name>, and <movie_name>, what other movies would you suggest?\",\n",
    "    \"Being a fan of <movie_name>, <movie_name>, and <movie_name>, are there similar movies you'd recommend?\",\n",
    "    \"Since I like <movie_name>, <movie_name>, and <movie_name>, what other movies do you think I might like?\",\n",
    "    \"I've enjoyed <movie_name>, <movie_name>, and <movie_name>. Any recommendations for movies in a similar vein?\",\n",
    "    \"Given my preference for <movie_name>, <movie_name>, and <movie_name>, what other films should I check out?\",\n",
    "    \"If <movie_name>, <movie_name>, and <movie_name> are my preferences, do you have any movie recommendations for me?\",\n",
    "    \"Suggest films similar to <movie_name>, <movie_name>, and <movie_name>\",\n",
    "    \"Can you recommend movies akin to <movie_name>, <movie_name>, and <movie_name>?\",\n",
    "    \"Looking for movies in the same vein as <movie_name>, <movie_name>, and <movie_name>. Any recommendations?\",\n",
    "    \"Seeking recommendations for movies like <movie_name>, <movie_name>, and <movie_name>\",\n",
    "    \"Do you know any movie similar to <movie_name>, <movie_name>, and <movie_name>\",\n",
    "    \"I'm on the lookout for captivating films that share a vibe with <movie_name>, <movie_name>, and <movie_name>. Any suggestions that align with these favorites of mine?\",\n",
    "    \"In the mood for something reminiscent of <movie_name>, <movie_name>, and <movie_name>. Any movie recommendations that capture a similar essence?\",\n",
    "    \"If my taste for movies like <movie_name>, <movie_name>, and <movie_name> is any indication, what other films should I consider watching?\",\n",
    "    \"Looking to expand my movie playlist based on the likes of <movie_name>, <movie_name>, and <movie_name>. Any hidden gems you'd recommend?\",\n",
    "    \"If the cinematic style of <movie_name>, <movie_name>, and <movie_name> resonates with you, could you suggest other films that share a similar appeal?\",\n",
    "    \"Enjoyed the storytelling in <movie_name>, <movie_name>, and <movie_name>. Any recommendations for movies that weave narratives in a comparable fashion?\",\n",
    "    \"Based on the cinematic experience of <movie_name>, <movie_name>, and <movie_name>, are there any other films you'd suggest to keep the excitement alive?\",\n",
    "    \"If the movie magic of <movie_name>, <movie_name>, and <movie_name> has left a lasting impression, what other films do you think would leave me equally enchanted?\",\n",
    "    \"Immersed in the world of <movie_name>, <movie_name>, and <movie_name>, I'm curious about your recommendations for movies that provide a similar level of immersion.\",\n",
    "    \"Exploring films akin to <movie_name>, <movie_name>, and <movie_name> — any suggestions to keep the cinematic journey going?\",\n",
    "    \"Captivated by the storytelling in <movie_name>, <movie_name>, and <movie_name>. What other films do you think would tell a tale in a way that resonates with me?\",\n",
    "    \n",
    "    \n",
    "    \n",
    "    #Two movies\n",
    "    \"Being a fan of <movie_name> and <movie_name>, are there similar movies you'd recommend?\",\n",
    "    \"Based on the cinematic experience of <movie_name> and <movie_name>, are there any other films you'd suggest to keep the excitement alive?\",\n",
    "    \"Can you recommend movies akin to <movie_name> and <movie_name>?\",\n",
    "    \"Captivated by the storytelling in <movie_name> and <movie_name>. What other films do you think would tell a tale in a way that resonates with me?\",\n",
    "    \"Considering my liking for <movie_name> and <movie_name>, could you suggest some other films I might enjoy?\",\n",
    "    \"Do you know any movie similar to <movie_name> and <movie_name>?\",\n",
    "    \"Enjoyed the storytelling in <movie_name> and <movie_name>. Any recommendations for movies that weave narratives in a comparable fashion?\",\n",
    "    \"Given my interest in <movie_name> and <movie_name>, can you recommend additional movies for me to watch?\",\n",
    "    \"Given my preference for <movie_name> and <movie_name>, what other films should I check out?\",\n",
    "    \"I'm a fan of <movie_name> and <movie_name>. Any suggestions for similar movies?\",\n",
    "    \"If I enjoy <movie_name> and <movie_name>, what other movies would you suggest?\",\n",
    "    \"I've enjoyed <movie_name> and <movie_name>. Any recommendations for movies in a similar vein?\",\n",
    "    \"Looking for movies in the same vein as <movie_name> and <movie_name>. Any recommendations?\",\n",
    "    \"Recommend movies like <movie_name> and <movie_name>\",\n",
    "    \"Seeking recommendations for movies like <movie_name> and <movie_name>\",\n",
    "    \"Since I enjoy <movie_name> and <movie_name>, do you have any movie recommendations for me?\",\n",
    "    \"Since I like <movie_name> and <movie_name>, what other movies do you think I might like?\",\n",
    "    \"Suggest films similar to <movie_name> and <movie_name>\",\n",
    "    \"If <movie_name> and <movie_name> are my preferences, do you have any movie recommendations for me?\",\n",
    "    \"Can you recommend movies that share a similar theme or storyline with both <movie_name> and <movie_name>?\",\n",
    "    \n",
    "    #One movie\n",
    "    \"Since I enjoy <movie_name>, do you have any movie recommendations for me?\",\n",
    "    \"Recommend movies like <movie_name>\",\n",
    "    \"I'm a fan of <movie_name>. Any suggestions for similar movies?\",\n",
    "    \"Considering my liking for <movie_name>, could you suggest some other films I might enjoy?\",\n",
    "    \"Given my interest in <movie_name>, can you recommend additional movies for me to watch?\",\n",
    "    \"If I enjoy <movie_name>, what other movies would you suggest?\",\n",
    "    \"Being a fan of <movie_name>, are there similar movies you'd recommend?\",\n",
    "    \"Since I like <movie_name>, what other movies do you think I might like?\",\n",
    "    \"I've enjoyed <movie_name>. Any recommendations for movies in a similar vein?\",\n",
    "    \"Given my preference for <movie_name>, what other films should I check out?\",\n",
    "    \"If <movie_name> is my preference, do you have any movie recommendations for me?\",\n",
    "    \"Suggest films similar to <movie_name>\",\n",
    "    \"Can you recommend movies akin to <movie_name>?\",\n",
    "    \"Looking for movies in the same vein as <movie_name>. Any recommendations?\",\n",
    "    \"Seeking recommendations for movies like <movie_name>\",\n",
    "\n",
    "]\n",
    "\n",
    "# Repeated instances\n",
    "sentence_list_12 = [\n",
    "    # Names\n",
    "    \"Do <name> and <name> appear in <movie_name>\",\n",
    "    \"Do <name> and <name> appear in the same movie\",\n",
    "    \"Have <name> and <name> ever worked together?\",\n",
    "    \"Can you list all the movies starring <name>, <name>, and <name>?\",\n",
    "    \"Can you recommend me a movie with a similar style than the movies from <name> and <name>\", \n",
    "    \"Can you list all the movies starring both <name> and <name>?\",\n",
    "    \"Are there any films where <name>, <name> and <name> collaborated as <role>\",\n",
    "    \"Is there a movie that features both <name> and <name> in prominent roles?\",\n",
    "    \"Have <name> and <name> ever co-directed movies?\",\n",
    "    \"Do <name> and <name> share the screen in any movies?\",\n",
    "    \"Are there any notable collaborations between <name>, <name>, and <name> in the film industry?\",\n",
    "    \"Do <name> and <name> have any projects together?\",\n",
    "    \"Can you recommend a movie that showcases the directorial styles of both <name> and <name>?\",\n",
    "    \"Can you provide a list of films directed by <name> and starring <name>?\",\n",
    "    \"Have <name> and <name> ever been involved in a movie project that received significant critical acclaim?\",\n",
    "    \n",
    "    # Movies\n",
    "    \"Are there any staff members in common between <movie_name> and <movie_name>?\",\n",
    "    \"Were <movie_name> and <movie_name> released the same year?\",\n",
    "    \"Can you suggest films where the cast includes both <name> and <name>?\",\n",
    "    \"Do <movie_name> and <movie_name> share any crew members or production staff?\",\n",
    "    \"Which actors appeared in both <movie_name> and <movie_name>?\",\n",
    "    \"Are there any common themes or genres between <movie_name> and <movie_name>?\",\n",
    "    \"Do <movie_name> and <movie_name> belong to the same film franchise?\",\n",
    "    \"Are there any notable connections between <movie_name> and <movie_name> in terms of directors or producers?\",\n",
    "    \"Which actors from <movie_name> and <movie_name> have collaborated in other films?\",\n",
    "    \"Are there any common filming locations between <movie_name> and <movie_name>?\",\n",
    "    \"Which <role> or <role> contributed to the soundtracks of both <movie_name> and <movie_name>?\",\n",
    "    \n",
    "    # genre\n",
    "    \"Recommend me movies with the genres <genre>, <genre>, and <genre>\",\n",
    "    \"Are there any <genre> and <genre> movies?\",\n",
    "    \"I am looking for <genre> and <genre> movies, anything you would recommend?\",\n",
    "    \"Are there any movies that blend the genres of <genre> and <genre>?\",\n",
    "    \"I am looking for movies that fall under both <genre> and <genre>. Anything you would recommend?\",\n",
    "    \"Can you suggest films that seamlessly combine elements of <genre> and <genre>?\",\n",
    "    \"Which movies successfully incorporate both <genre> and <genre> in their storytelling?\",\n",
    "    \"Do you have recommendations for movies that showcase a mix of <genre> and <genre>?\",\n",
    "    \"I'm interested in exploring the intersection of <genre> and <genre>. Any standout films in that category?\",\n",
    "    \"Can you provide a list of movies that are known for their unique blend of <genre> and <genre>?\",\n",
    "    \"Are there any critically acclaimed movies that successfully navigate the genres of both <genre> and <genre>?\",\n",
    "    \"I enjoy movies that combine the elements of <genre> and <genre>. What are your top picks in this category?\",\n",
    "    \"Can you recommend movies that span a wide range of genres, including <genre>, <genre>, and <genre>?\",\n",
    "    \"I'm in the mood for a movie night with diverse genres. Any suggestions for films that include <genre> and <genre>?\",\n",
    "    \"Do you have recommendations for movies that masterfully balance the genres of both <genre> and <genre>?\"\n",
    "    \n",
    "    \n",
    "]"
   ]
  },
  {
   "cell_type": "code",
   "execution_count": 37,
   "id": "4a0fa77a",
   "metadata": {},
   "outputs": [
    {
     "data": {
      "text/plain": [
       "29999"
      ]
     },
     "execution_count": 37,
     "metadata": {},
     "output_type": "execute_result"
    }
   ],
   "source": [
    "i = 0\n",
    "peoples = list(people_list.values())\n",
    "genres = list(genres_ner.keys())\n",
    "res_s2 = []\n",
    "for name in peoples:\n",
    "    i+=1\n",
    "    if(i==30000):\n",
    "        break\n",
    "        \n",
    "    genre = genres[i%len(genres)]\n",
    "    sentence = sentence_list_2[i%len(sentence_list_2)]\n",
    "    \n",
    "    if(i%2==0):\n",
    "        AoW = \"acted\" \n",
    "    else: \n",
    "        AoW = \"wrote\"\n",
    "    sentence2 = sentence.replace(\"<name>\",name).replace(\"<genre>\",genre)\n",
    "    sentence3 = sentence2.replace(\"<acted/wrote>\",AoW)\n",
    "\n",
    "    ents = [(sentence3.find(name),sentence3.find(name) + len(name), \"name\"),\n",
    "            (sentence3.find(genre),sentence3.find(genre)+len(genre), \"genre\"),\n",
    "            (sentence3.find(AoW),sentence3.find(AoW) + len(AoW), \"action\"),\n",
    "            (sentence3.find(\"directed\"),sentence3.find(\"directed\") + len(\"directed\"), \"action\"),\n",
    "            (sentence3.find(\"written\"),sentence3.find(\"written\") + len(\"written\"), \"action\"),\n",
    "            (sentence3.find(\"featuring\"),sentence3.find(\"featuring\") + len(\"featuring\"), \"action\"),\n",
    "            (sentence3.find(\"played\"),sentence3.find(\"played\") + len(\"played\"), \"action\"),\n",
    "            (sentence3.find(\"appear\"),sentence3.find(\"appear\") + len(\"appear\"), \"action\"),\n",
    "            (sentence3.find(\"made\"),sentence3.find(\"made\") + len(\"made\"), \"action\"),\n",
    "            (sentence3.find(\"authored\"),sentence3.find(\"authored\") + len(\"authored\"), \"action\"),\n",
    "            (sentence3.find(\"appears\"),sentence3.find(\"appears\") + len(\"appears\"), \"action\")]\n",
    "\n",
    "    entities = []\n",
    "    for ent in ents:\n",
    "        if(ent[0]!=-1):\n",
    "            entities.append(ent)\n",
    "\n",
    "\n",
    "    res_s2.append((sentence3,{\"entities\":entities}))\n",
    "    \n",
    "\n",
    "\n",
    "\n",
    "len(res_s2)"
   ]
  },
  {
   "cell_type": "code",
   "execution_count": 38,
   "id": "a01b9307",
   "metadata": {},
   "outputs": [
    {
     "data": {
      "text/plain": [
       "24384"
      ]
     },
     "execution_count": 38,
     "metadata": {},
     "output_type": "execute_result"
    }
   ],
   "source": [
    "i = 0\n",
    "roles = list(roles_ner.keys())\n",
    "movies = list(movie_list.values())\n",
    "res_s1 = []\n",
    "for movie in movies:\n",
    "    i+=1\n",
    "    if(i==30000):\n",
    "        break\n",
    "        \n",
    "    role = roles[i%len(roles)]\n",
    "    sentence = sentence_list_1[i%len(sentence_list_1)]\n",
    "    \n",
    "    if(i%2==0):\n",
    "        AoW = \"directed\" \n",
    "    else: \n",
    "        AoW = \"wrote\"\n",
    "    sentence2 = sentence.replace(\"<role>\",role).replace(\"<movie_name>\",movie)\n",
    "    sentence3 = sentence2.replace(\"<directed/wrote>\",AoW)\n",
    "\n",
    "    ents = [(sentence3.find(role),sentence3.find(role) + len(role), \"role\"),\n",
    "            (sentence3.find(movie),sentence3.find(movie)+len(movie), \"movie\"),\n",
    "            (sentence3.find(AoW),sentence3.find(AoW) + len(AoW), \"action\")]\n",
    "    \n",
    "    for action in actions_ner.keys():\n",
    "        if action in sentence3 and action != AoW:\n",
    "            ents.append((sentence3.find(action),sentence3.find(action) + len(action), \"action\"))\n",
    "            break\n",
    "\n",
    "    entities = []\n",
    "    for ent in ents:\n",
    "        if(ent[0]!=-1):\n",
    "            entities.append(ent)\n",
    "\n",
    "\n",
    "    res_s1.append((sentence3,{\"entities\":entities}))\n",
    "    \n",
    "len(res_s1)"
   ]
  },
  {
   "cell_type": "code",
   "execution_count": 39,
   "id": "5424c333",
   "metadata": {},
   "outputs": [
    {
     "data": {
      "text/plain": [
       "24384"
      ]
     },
     "execution_count": 39,
     "metadata": {},
     "output_type": "execute_result"
    }
   ],
   "source": [
    "i = 0\n",
    "movies = list(movie_list.values())\n",
    "res_s3 = []\n",
    "for movie in movies:\n",
    "    i+=1\n",
    "    if(i==30000):\n",
    "        break\n",
    "        \n",
    "    sentence = sentence_list_3[i%len(sentence_list_3)]\n",
    "    \n",
    "    sentence3 = sentence.replace(\"<movie_name>\",movie)\n",
    "\n",
    "    ents = [(sentence3.find(movie),sentence3.find(movie)+len(movie), \"movie\")]\n",
    "    \n",
    "    for predicate in list(predicates_ner.keys()):\n",
    "        if predicate in sentence3:\n",
    "            ents.append((sentence3.find(predicate),sentence3.find(predicate) + len(predicate), \"predicate\"))\n",
    "\n",
    "    entities = []\n",
    "    for ent in ents:\n",
    "        if(ent[0]!=-1):\n",
    "            entities.append(ent)\n",
    "\n",
    "\n",
    "    res_s3.append((sentence3,{\"entities\":entities}))\n",
    "    \n",
    "len(res_s3)"
   ]
  },
  {
   "cell_type": "code",
   "execution_count": 40,
   "id": "b635cef7",
   "metadata": {},
   "outputs": [
    {
     "data": {
      "text/plain": [
       "24384"
      ]
     },
     "execution_count": 40,
     "metadata": {},
     "output_type": "execute_result"
    }
   ],
   "source": [
    "i = 0\n",
    "movies = list(movie_list.values())\n",
    "res_s4 = []\n",
    "for movie in movies:\n",
    "    i+=1\n",
    "    if(i==30000):\n",
    "        break\n",
    "        \n",
    "    sentence = sentence_list_4[i%len(sentence_list_4)]\n",
    "    \n",
    "    sentence3 = sentence.replace(\"<movie_name>\",movie)\n",
    "\n",
    "    ents = [(sentence3.find(movie),sentence3.find(movie)+len(movie), \"movie\")]\n",
    "    \n",
    "    for predicate in list(predicates_ner.keys()):\n",
    "        if predicate in sentence3:\n",
    "            ents.append((sentence3.find(predicate),sentence3.find(predicate) + len(predicate), \"predicate\"))\n",
    "\n",
    "    entities = []\n",
    "    for ent in ents:\n",
    "        if(ent[0]!=-1):\n",
    "            entities.append(ent)\n",
    "\n",
    "\n",
    "    res_s4.append((sentence3,{\"entities\":entities}))\n",
    "    \n",
    "len(res_s4)"
   ]
  },
  {
   "cell_type": "code",
   "execution_count": 41,
   "id": "b40f3d29",
   "metadata": {},
   "outputs": [
    {
     "data": {
      "text/plain": [
       "30000"
      ]
     },
     "execution_count": 41,
     "metadata": {},
     "output_type": "execute_result"
    }
   ],
   "source": [
    "res_s5 = []\n",
    "i = 0\n",
    "action_list = list(actions_ner.keys())\n",
    "genres = list(genres_ner.keys())\n",
    "\n",
    "sentence_list_567 = sentence_list_5 + sentence_list_6 + sentence_list_7\n",
    "for name in peoples:\n",
    "    i+=1\n",
    "    if(i%2==0):\n",
    "        HoL = \"highest\"\n",
    "        ToB = \"top\"\n",
    "        BoW = \"best\"\n",
    "    else:\n",
    "        HoL = \"lowest\"\n",
    "        ToB = \"bottom\"\n",
    "        BoW = \"worst\"\n",
    "    \n",
    "    action = action_list[i%len(action_list)]\n",
    "    sentence = sentence_list_567[i%len(sentence_list_567)]\n",
    "    genre = genres[i%len(genres)]\n",
    "    number = numbers_ner[i%len(numbers_ner)]\n",
    "    is_number = False\n",
    "    if \"<number>\" in sentence:\n",
    "        is_number = True\n",
    "\n",
    "    sentence2 = sentence.replace(\"<highest/lowest>\",HoL).replace(\"<top/bottom>\",ToB).replace(\"<best/worst>\",BoW)\n",
    "    sentence3 = sentence2.replace(\"<name>\",name).replace(\"<action>\",action).replace(\"<genre>\",genre).replace(\"<number>\", number)\n",
    "    ents = [(sentence3.find(HoL),sentence3.find(HoL) + len(HoL), \"order\"),\n",
    "            (sentence3.find(\"highly\"),sentence3.find(\"highly\") + len(\"highly\"), \"order\"),\n",
    "            (sentence3.find(ToB),sentence3.find(ToB)+len(ToB), \"order\"),\n",
    "            (sentence3.find(genre),sentence3.find(genre) + len(genre), \"genre\"),\n",
    "            (sentence3.find(BoW),sentence3.find(BoW) + len(BoW), \"order\"),\n",
    "            (sentence3.find(name),sentence3.find(name) + len(name), \"name\"),\n",
    "            #(sentence3.find(' '+number+' ')+1,sentence3.find(' '+number+' ')-1 + len(number), \"numerical_entity\")\n",
    "           ]\n",
    "    \n",
    "    for action in actions_ner.keys():\n",
    "        if action in sentence3:\n",
    "            ents.append((sentence3.find(action),sentence3.find(action) + len(action), \"action\"))\n",
    "            \n",
    "    for predicate in list(predicates_ner.keys()):\n",
    "        if predicate in sentence3:\n",
    "            ents.append((sentence3.find(predicate),sentence3.find(predicate) + len(predicate), \"predicate\"))\n",
    "    \n",
    "    if is_number:\n",
    "        ents.append((sentence3.find(' '+number+' ')+1,sentence3.find(' '+number+' ')+1 + len(number), \"numerical_entity\"))\n",
    "\n",
    "    entities = []\n",
    "    for ent in ents:\n",
    "        if(ent[0]!=-1):\n",
    "            entities.append(ent)\n",
    "\n",
    "    res_s5.append((sentence3,{\"entities\":entities}))\n",
    "    \n",
    "    if(i==30000):\n",
    "        break\n",
    "\n",
    "len(res_s5)\n"
   ]
  },
  {
   "cell_type": "code",
   "execution_count": 42,
   "id": "902518a7",
   "metadata": {},
   "outputs": [
    {
     "data": {
      "text/plain": [
       "30000"
      ]
     },
     "execution_count": 42,
     "metadata": {},
     "output_type": "execute_result"
    }
   ],
   "source": [
    "res_s6 = []\n",
    "i = 0\n",
    "genres = list(genres_ner.keys())\n",
    "\n",
    "sentence_list_89 = sentence_list_8 + sentence_list_9\n",
    "for name in peoples:\n",
    "    i+=1\n",
    "    if(i%2==0):\n",
    "        BoW = \"best\"\n",
    "    else:\n",
    "        BoW = \"worst\"\n",
    "    \n",
    "    sentence = sentence_list_89[i%len(sentence_list_89)]\n",
    "    genre = genres[i%len(genres)]\n",
    "    number = numbers_ner[i%len(numbers_ner)]\n",
    "    year = years_ner[i%len(years_ner)]\n",
    "    is_number=False\n",
    "    if \"<number>\" in sentence:\n",
    "        is_number = True\n",
    "\n",
    "    sentence2 = sentence.replace(\"<best/worst>\",BoW).replace(\"<name>\",name)\n",
    "    sentence3 = sentence2.replace(\"<genre>\",genre).replace(\"<year>\",year).replace(\"<number>\", number)\n",
    "    ents = [(sentence3.find(name),sentence3.find(name) + len(name), \"name\"),\n",
    "            (sentence3.find(BoW),sentence3.find(BoW) + len(BoW), \"order\"),\n",
    "            (sentence3.find(genre),sentence3.find(genre) + len(genre), \"genre\"),\n",
    "            (sentence3.find(year),sentence3.find(year) + len(year), \"year\"),\n",
    "           ]\n",
    "    \n",
    "    for action in actions_ner.keys():\n",
    "        if action in sentence3:\n",
    "            ents.append((sentence3.find(action),sentence3.find(action) + len(action), \"action\"))\n",
    "            \n",
    "    for predicate in list(predicates_ner.keys()):\n",
    "        if predicate in sentence3:\n",
    "            ents.append((sentence3.find(predicate),sentence3.find(predicate) + len(predicate), \"predicate\"))\n",
    "    \n",
    "    if is_number:\n",
    "        ents.append((sentence3.find(' '+number+' ')+1,sentence3.find(' '+number+' ')+1 + len(number), \"numerical_entity\"))\n",
    "\n",
    "\n",
    "    entities = []\n",
    "    for ent in ents:\n",
    "        if(ent[0]!=-1):\n",
    "            entities.append(ent)\n",
    "\n",
    "    res_s6.append((sentence3,{\"entities\":entities}))\n",
    "    \n",
    "    if(i==30000):\n",
    "        break\n",
    "\n",
    "len(res_s6)"
   ]
  },
  {
   "cell_type": "code",
   "execution_count": 43,
   "id": "875f0b27",
   "metadata": {},
   "outputs": [
    {
     "data": {
      "text/plain": [
       "24384"
      ]
     },
     "execution_count": 43,
     "metadata": {},
     "output_type": "execute_result"
    }
   ],
   "source": [
    "import random\n",
    "random.seed(42)\n",
    "\n",
    "i = 0\n",
    "predicates = list(predicates_ner.keys())\n",
    "movies = list(movie_list.values())\n",
    "movies_random = list(movie_list.values())\n",
    "res_s7 = []\n",
    "for movie in movies:\n",
    "    i+=1\n",
    "    if(i==30000):\n",
    "        break\n",
    "        \n",
    "    sentence = sentence_list_11[i%len(sentence_list_11)]\n",
    "    \n",
    "    num_movies = sentence.count(\"<movie_name>\")\n",
    "    sentence = sentence.replace(\"<movie_name>\", movie, 1)\n",
    "    ents = [(sentence.find(movie),sentence.find(movie)+len(movie), \"movie\")]\n",
    "    movies_random.remove(movie)\n",
    "    chosen_movies = []\n",
    "    \n",
    "    for j in range(num_movies-1):\n",
    "        next_movie = random.choice(movies_random)\n",
    "        sentence = sentence.replace(\"<movie_name>\", next_movie,1)\n",
    "        ents.append((sentence.find(next_movie),sentence.find(next_movie)+len(next_movie), \"movie\"))\n",
    "        movies_random.remove(next_movie)\n",
    "        chosen_movies.append(next_movie)\n",
    "    \n",
    "    movies_random.append(movie)\n",
    "    movies_random.extend(chosen_movies)\n",
    "\n",
    "    for predicate in predicates:\n",
    "        if predicate in sentence:\n",
    "            ents.append((sentence.find(predicate),sentence.find(predicate) + len(predicate), \"predicate\"))\n",
    "            break\n",
    "\n",
    "    entities = []\n",
    "    for ent in ents:\n",
    "        if(ent[0]!=-1):\n",
    "            entities.append(ent)\n",
    "\n",
    "\n",
    "    res_s7.append((sentence,{\"entities\":entities}))\n",
    "    #len(res_s7)\n",
    "    \n",
    "len(res_s7)"
   ]
  },
  {
   "cell_type": "code",
   "execution_count": 44,
   "id": "4eeae459",
   "metadata": {},
   "outputs": [
    {
     "data": {
      "text/plain": [
       "29999"
      ]
     },
     "execution_count": 44,
     "metadata": {},
     "output_type": "execute_result"
    }
   ],
   "source": [
    "import re\n",
    "\n",
    "i = 0\n",
    "predicates = list(predicates_ner.keys())\n",
    "movies = list(movie_list.values())\n",
    "peoples = list(people_list.values())\n",
    "peoples_random = list(people_list.values())\n",
    "genres = list(genres_ner.keys())\n",
    "roles = list(roles_ner.keys())\n",
    "res_s8 = []\n",
    "for person in peoples:\n",
    "    i+=1\n",
    "    if(i==30000):\n",
    "        break\n",
    "        \n",
    "    sentence = sentence_list_12[i%len(sentence_list_12)]\n",
    "    \n",
    "    # Find all the replaceable objects\n",
    "    regex = re.compile('(?:<[a-z_]+>)')\n",
    "    matches = re.finditer(regex, sentence)\n",
    "    \n",
    "    ents = []\n",
    "    \n",
    "    #Using random choice since we don't really know how many instances have of each one and would be more complex having multiple loops\n",
    "    people_chosen=[]\n",
    "    movies_chosen=[]\n",
    "    genres_chosen=[]\n",
    "    roles_chosen=[]\n",
    "    for match in matches:\n",
    "        if match.group() == '<name>':\n",
    "            insertion = random.choice(peoples_random)\n",
    "            insertion_type = 'name'\n",
    "            people_chosen.append(insertion)\n",
    "            peoples_random.remove(insertion)\n",
    "        elif match.group() == '<movie_name>':\n",
    "            insertion = random.choice(movies)\n",
    "            insertion_type = 'movie'\n",
    "            movies_chosen.append(insertion)\n",
    "            movies.remove(insertion)\n",
    "        elif match.group() == '<role>':\n",
    "            insertion = random.choice(roles)\n",
    "            insertion_type = 'role'\n",
    "            roles_chosen.append(insertion)\n",
    "            roles.remove(insertion)\n",
    "        elif match.group() == '<genre>':\n",
    "            insertion = random.choice(genres)\n",
    "            insertion_type = 'genre'\n",
    "            genres_chosen.append(insertion)\n",
    "            genres.remove(insertion)\n",
    "        \n",
    "        sentence = sentence.replace(match.group(), insertion,1)\n",
    "        ents.append((sentence.find(insertion),sentence.find(insertion)+len(insertion), insertion_type))\n",
    "        \n",
    "    peoples_random.extend(people_chosen)\n",
    "    movies.extend(movies_chosen)\n",
    "    genres.extend(genres_chosen)\n",
    "    roles.extend(roles_chosen)\n",
    "\n",
    "    for predicate in predicates:\n",
    "        if predicate in sentence:\n",
    "            ents.append((sentence.find(predicate),sentence.find(predicate) + len(predicate), \"predicate\"))\n",
    "            break\n",
    "    \n",
    "    for action in actions_ner.keys():\n",
    "        if action in sentence:\n",
    "            ents.append((sentence.find(action),sentence.find(action) + len(action), \"action\"))\n",
    "\n",
    "    entities = []\n",
    "    for ent in ents:\n",
    "        if(ent[0]!=-1):\n",
    "            entities.append(ent)\n",
    "\n",
    "\n",
    "    res_s8.append((sentence,{\"entities\":entities}))\n",
    "    \n",
    "len(res_s8)"
   ]
  },
  {
   "cell_type": "code",
   "execution_count": 45,
   "id": "c52a0dbd",
   "metadata": {},
   "outputs": [
    {
     "data": {
      "text/plain": [
       "217534"
      ]
     },
     "execution_count": 45,
     "metadata": {},
     "output_type": "execute_result"
    }
   ],
   "source": [
    "TRAIN_DATA = res_s1 + res_s2 + res_s3 + res_s4 + res_s5 + res_s6 + res_s7 + res_s8\n",
    "len(TRAIN_DATA)"
   ]
  },
  {
   "cell_type": "code",
   "execution_count": 46,
   "id": "f64beadb",
   "metadata": {},
   "outputs": [
    {
     "name": "stderr",
     "output_type": "stream",
     "text": [
      " 78%|████████████████████████████████████████████████████████▏               | 169720/217534 [00:17<00:06, 7223.79it/s]"
     ]
    },
    {
     "name": "stdout",
     "output_type": "stream",
     "text": [
      "Since I like 10, My Joy, and Joy, what other movies do you think I might like?\n",
      "{'entities': [(13, 15, 'movie'), (17, 23, 'movie'), (20, 23, 'movie')]}\n",
      "[E1010] Unable to set entity information for token 6 which is included in more than one span in entities, blocked, missing or outside.\n"
     ]
    },
    {
     "name": "stderr",
     "output_type": "stream",
     "text": [
      " 80%|█████████████████████████████████████████████████████████▎              | 173299/217534 [00:18<00:06, 7073.33it/s]"
     ]
    },
    {
     "name": "stdout",
     "output_type": "stream",
     "text": [
      "In the mood for something reminiscent of The Time of the Charity Fête Is Over, A Man Called Ove, and Time. Any movie recommendations that capture a similar essence?\n",
      "{'entities': [(41, 77, 'movie'), (79, 95, 'movie'), (45, 49, 'movie'), (117, 126, 'predicate')]}\n",
      "[E1010] Unable to set entity information for token 8 which is included in more than one span in entities, blocked, missing or outside.\n"
     ]
    },
    {
     "name": "stderr",
     "output_type": "stream",
     "text": [
      " 87%|██████████████████████████████████████████████████████████████▋         | 189263/217534 [00:20<00:03, 7205.26it/s]"
     ]
    },
    {
     "name": "stdout",
     "output_type": "stream",
     "text": [
      "I'm in the mood for a movie night with diverse genres. Any suggestions for films that include action comedy and comedy?\n",
      "{'entities': [(94, 107, 'genre'), (101, 107, 'genre'), (47, 52, 'predicate')]}\n",
      "[E1010] Unable to set entity information for token 20 which is included in more than one span in entities, blocked, missing or outside.\n",
      "Can you recommend movies that span a wide range of genres, including stand-up comedy, comedy, and tokusatsu?\n",
      "{'entities': [(69, 84, 'genre'), (78, 84, 'genre'), (98, 107, 'genre'), (51, 56, 'predicate')]}\n",
      "[E1010] Unable to set entity information for token 16 which is included in more than one span in entities, blocked, missing or outside.\n",
      "I am looking for movies that fall under both live-action/animated and action. Anything you would recommend?\n",
      "{'entities': [(45, 65, 'genre'), (50, 56, 'genre'), (97, 106, 'predicate')]}\n",
      "[E1010] Unable to set entity information for token 11 which is included in more than one span in entities, blocked, missing or outside.\n",
      "Can you provide a list of movies that are known for their unique blend of costume drama and drama?\n",
      "{'entities': [(74, 87, 'genre'), (82, 87, 'genre')]}\n",
      "[E1010] Unable to set entity information for token 16 which is included in more than one span in entities, blocked, missing or outside.\n"
     ]
    },
    {
     "name": "stderr",
     "output_type": "stream",
     "text": [
      " 88%|███████████████████████████████████████████████████████████████▍        | 191492/217534 [00:20<00:03, 7298.74it/s]"
     ]
    },
    {
     "name": "stdout",
     "output_type": "stream",
     "text": [
      "Which art director or director contributed to the soundtracks of both At War and Salt of the Earth?\n",
      "{'entities': [(6, 18, 'role'), (10, 18, 'role'), (70, 76, 'movie'), (81, 98, 'movie'), (10, 16, 'action')]}\n",
      "[E1010] Unable to set entity information for token 2 which is included in more than one span in entities, blocked, missing or outside.\n"
     ]
    },
    {
     "name": "stderr",
     "output_type": "stream",
     "text": [
      " 89%|████████████████████████████████████████████████████████████████▎       | 194452/217534 [00:21<00:03, 7327.94it/s]"
     ]
    },
    {
     "name": "stdout",
     "output_type": "stream",
     "text": [
      "Recommend me movies with the genres urban fantasy, anime, and fantasy\n",
      "{'entities': [(36, 49, 'genre'), (51, 56, 'genre'), (42, 49, 'genre'), (29, 34, 'predicate')]}\n",
      "[E1010] Unable to set entity information for token 7 which is included in more than one span in entities, blocked, missing or outside.\n",
      "Can you recommend movies that span a wide range of genres, including Eastern, historical novel, and historical?\n",
      "{'entities': [(69, 76, 'genre'), (78, 94, 'genre'), (78, 88, 'genre'), (51, 56, 'predicate')]}\n",
      "[E1010] Unable to set entity information for token 15 which is included in more than one span in entities, blocked, missing or outside.\n"
     ]
    },
    {
     "name": "stderr",
     "output_type": "stream",
     "text": [
      " 91%|█████████████████████████████████████████████████████████████████▎      | 197490/217534 [00:21<00:02, 7489.68it/s]"
     ]
    },
    {
     "name": "stdout",
     "output_type": "stream",
     "text": [
      "Recommend me movies with the genres science fiction comic, fiction, and comic book\n",
      "{'entities': [(36, 57, 'genre'), (44, 51, 'genre'), (72, 82, 'genre'), (29, 34, 'predicate')]}\n",
      "[E1010] Unable to set entity information for token 7 which is included in more than one span in entities, blocked, missing or outside.\n"
     ]
    },
    {
     "name": "stderr",
     "output_type": "stream",
     "text": [
      " 92%|██████████████████████████████████████████████████████████████████      | 199758/217534 [00:21<00:02, 7500.91it/s]"
     ]
    },
    {
     "name": "stdout",
     "output_type": "stream",
     "text": [
      "Are there any mystery play and play movies?\n",
      "{'entities': [(14, 26, 'genre'), (22, 26, 'genre')]}\n",
      "[E1010] Unable to set entity information for token 4 which is included in more than one span in entities, blocked, missing or outside.\n",
      "Are there any science fiction anime and fiction movies?\n",
      "{'entities': [(14, 35, 'genre'), (22, 29, 'genre')]}\n",
      "[E1010] Unable to set entity information for token 4 which is included in more than one span in entities, blocked, missing or outside.\n"
     ]
    },
    {
     "name": "stderr",
     "output_type": "stream",
     "text": [
      " 93%|██████████████████████████████████████████████████████████████████▌     | 201270/217534 [00:21<00:02, 7481.77it/s]"
     ]
    },
    {
     "name": "stdout",
     "output_type": "stream",
     "text": [
      "Do you have recommendations for movies that showcase a mix of mystery fiction and fiction?\n",
      "{'entities': [(62, 77, 'genre'), (70, 77, 'genre'), (12, 21, 'predicate')]}\n",
      "[E1010] Unable to set entity information for token 12 which is included in more than one span in entities, blocked, missing or outside.\n"
     ]
    },
    {
     "name": "stderr",
     "output_type": "stream",
     "text": [
      " 94%|███████████████████████████████████████████████████████████████████▌    | 204307/217534 [00:22<00:01, 7541.83it/s]"
     ]
    },
    {
     "name": "stdout",
     "output_type": "stream",
     "text": [
      "Can you recommend movies that span a wide range of genres, including crime thriller, gambling, and thriller?\n",
      "{'entities': [(69, 83, 'genre'), (85, 93, 'genre'), (75, 83, 'genre'), (51, 56, 'predicate')]}\n",
      "[E1010] Unable to set entity information for token 14 which is included in more than one span in entities, blocked, missing or outside.\n",
      "Do you have recommendations for movies that masterfully balance the genres of both comedy of remarriage and comedy?\n",
      "{'entities': [(83, 103, 'genre'), (83, 89, 'genre'), (68, 73, 'predicate')]}\n",
      "[E1010] Unable to set entity information for token 13 which is included in more than one span in entities, blocked, missing or outside.\n"
     ]
    },
    {
     "name": "stderr",
     "output_type": "stream",
     "text": [
      " 95%|████████████████████████████████████████████████████████████████████▋   | 207353/217534 [00:22<00:01, 7271.82it/s]"
     ]
    },
    {
     "name": "stdout",
     "output_type": "stream",
     "text": [
      "Recommend me movies with the genres film based on a novel, supernatural fiction, and supernatural\n",
      "{'entities': [(36, 57, 'genre'), (59, 79, 'genre'), (59, 71, 'genre'), (29, 34, 'predicate')]}\n",
      "[E1010] Unable to set entity information for token 12 which is included in more than one span in entities, blocked, missing or outside.\n",
      "I'm interested in exploring the intersection of comedy horror and comedy. Any standout films in that category?\n",
      "{'entities': [(48, 61, 'genre'), (48, 54, 'genre'), (101, 109, 'predicate')]}\n",
      "[E1010] Unable to set entity information for token 8 which is included in more than one span in entities, blocked, missing or outside.\n",
      "I'm interested in exploring the intersection of love triangle romance and romance. Any standout films in that category?\n",
      "{'entities': [(48, 69, 'genre'), (62, 69, 'genre'), (110, 118, 'predicate')]}\n",
      "[E1010] Unable to set entity information for token 10 which is included in more than one span in entities, blocked, missing or outside.\n",
      "Can you suggest films that seamlessly combine elements of Acid Western and Western?\n",
      "{'entities': [(58, 70, 'genre'), (63, 70, 'genre'), (8, 15, 'predicate')]}\n",
      "[E1010] Unable to set entity information for token 10 which is included in more than one span in entities, blocked, missing or outside.\n",
      "Which director of photography or director contributed to the soundtracks of both Voices from Beyond and Best Man Down?\n",
      "{'entities': [(6, 29, 'role'), (6, 14, 'role'), (81, 99, 'movie'), (104, 117, 'movie'), (6, 12, 'action')]}\n",
      "[E1010] Unable to set entity information for token 1 which is included in more than one span in entities, blocked, missing or outside.\n",
      "I enjoy movies that combine the elements of historical fiction and fiction. What are your top picks in this category?\n",
      "{'entities': [(44, 62, 'genre'), (55, 62, 'genre'), (108, 116, 'predicate')]}\n",
      "[E1010] Unable to set entity information for token 9 which is included in more than one span in entities, blocked, missing or outside.\n",
      "Which voice actor or actor contributed to the soundtracks of both Cast a Giant Shadow and .45?\n",
      "{'entities': [(6, 17, 'role'), (12, 17, 'role'), (66, 85, 'movie'), (90, 93, 'movie')]}\n",
      "[E1010] Unable to set entity information for token 2 which is included in more than one span in entities, blocked, missing or outside.\n"
     ]
    },
    {
     "name": "stderr",
     "output_type": "stream",
     "text": [
      " 96%|█████████████████████████████████████████████████████████████████████   | 208826/217534 [00:23<00:01, 7130.96it/s]"
     ]
    },
    {
     "name": "stdout",
     "output_type": "stream",
     "text": [
      "Are there any critically acclaimed movies that successfully navigate the genres of both family drama and drama?\n",
      "{'entities': [(88, 100, 'genre'), (95, 100, 'genre'), (73, 78, 'predicate')]}\n",
      "[E1010] Unable to set entity information for token 14 which is included in more than one span in entities, blocked, missing or outside.\n",
      "Are there any movies that blend the genres of steampunk fiction and fiction?\n",
      "{'entities': [(46, 63, 'genre'), (56, 63, 'genre'), (36, 41, 'predicate')]}\n",
      "[E1010] Unable to set entity information for token 10 which is included in more than one span in entities, blocked, missing or outside.\n",
      "Recommend me movies with the genres science fiction anime, anime, and intersex\n",
      "{'entities': [(36, 57, 'genre'), (52, 57, 'genre'), (70, 78, 'genre'), (29, 34, 'predicate')]}\n",
      "[E1010] Unable to set entity information for token 8 which is included in more than one span in entities, blocked, missing or outside.\n",
      "Can you provide a list of movies that are known for their unique blend of mystery fiction and fiction?\n",
      "{'entities': [(74, 89, 'genre'), (82, 89, 'genre')]}\n",
      "[E1010] Unable to set entity information for token 16 which is included in more than one span in entities, blocked, missing or outside.\n",
      "Recommend me movies with the genres action anime and manga, pritcha, and action\n",
      "{'entities': [(36, 58, 'genre'), (60, 67, 'genre'), (36, 42, 'genre'), (29, 34, 'predicate')]}\n",
      "[E1010] Unable to set entity information for token 6 which is included in more than one span in entities, blocked, missing or outside.\n"
     ]
    },
    {
     "name": "stderr",
     "output_type": "stream",
     "text": [
      " 97%|██████████████████████████████████████████████████████████████████████▏ | 211902/217534 [00:23<00:00, 7528.13it/s]"
     ]
    },
    {
     "name": "stdout",
     "output_type": "stream",
     "text": [
      "I'm interested in exploring the intersection of television comedy and comedy. Any standout films in that category?\n",
      "{'entities': [(48, 65, 'genre'), (59, 65, 'genre'), (105, 113, 'predicate')]}\n",
      "[E1010] Unable to set entity information for token 9 which is included in more than one span in entities, blocked, missing or outside.\n",
      "Do you have recommendations for movies that masterfully balance the genres of both horror anime and manga and horror?\n",
      "{'entities': [(83, 105, 'genre'), (83, 89, 'genre'), (68, 73, 'predicate')]}\n",
      "[E1010] Unable to set entity information for token 13 which is included in more than one span in entities, blocked, missing or outside.\n",
      "Which movies successfully incorporate both women in prison and prison in their storytelling?\n",
      "{'entities': [(43, 58, 'genre'), (52, 58, 'genre')]}\n",
      "[E1010] Unable to set entity information for token 7 which is included in more than one span in entities, blocked, missing or outside.\n"
     ]
    },
    {
     "name": "stderr",
     "output_type": "stream",
     "text": [
      " 99%|███████████████████████████████████████████████████████████████████████▏| 214975/217534 [00:23<00:00, 7609.80it/s]"
     ]
    },
    {
     "name": "stdout",
     "output_type": "stream",
     "text": [
      "Recommend me movies with the genres post-apocalyptic, neo-noir, and apocalyptic\n",
      "{'entities': [(36, 52, 'genre'), (54, 62, 'genre'), (41, 52, 'genre'), (29, 34, 'predicate')]}\n",
      "[E1010] Unable to set entity information for token 8 which is included in more than one span in entities, blocked, missing or outside.\n",
      "Are there any movies that blend the genres of drama television series and drama?\n",
      "{'entities': [(46, 69, 'genre'), (46, 51, 'genre'), (36, 41, 'predicate')]}\n",
      "[E1010] Unable to set entity information for token 9 which is included in more than one span in entities, blocked, missing or outside.\n",
      "Are there any critically acclaimed movies that successfully navigate the genres of both social comedy and comedy?\n",
      "{'entities': [(88, 101, 'genre'), (95, 101, 'genre'), (73, 78, 'predicate')]}\n",
      "[E1010] Unable to set entity information for token 14 which is included in more than one span in entities, blocked, missing or outside.\n"
     ]
    },
    {
     "name": "stderr",
     "output_type": "stream",
     "text": [
      "100%|███████████████████████████████████████████████████████████████████████▋| 216539/217534 [00:24<00:00, 7688.75it/s]"
     ]
    },
    {
     "name": "stdout",
     "output_type": "stream",
     "text": [
      "Do you have recommendations for movies that masterfully balance the genres of both comedy anime and manga and comedy?\n",
      "{'entities': [(83, 105, 'genre'), (83, 89, 'genre'), (68, 73, 'predicate')]}\n",
      "[E1010] Unable to set entity information for token 13 which is included in more than one span in entities, blocked, missing or outside.\n",
      "Which cast member or cast contributed to the soundtracks of both In Family I Trust and Euphoria?\n",
      "{'entities': [(6, 17, 'role'), (6, 10, 'role'), (65, 82, 'movie'), (87, 95, 'movie')]}\n",
      "[E1010] Unable to set entity information for token 1 which is included in more than one span in entities, blocked, missing or outside.\n",
      "Which cast member or cast contributed to the soundtracks of both Low Down and Jackass Number Two?\n",
      "{'entities': [(6, 17, 'role'), (6, 10, 'role'), (65, 73, 'movie'), (78, 96, 'movie')]}\n",
      "[E1010] Unable to set entity information for token 1 which is included in more than one span in entities, blocked, missing or outside.\n"
     ]
    },
    {
     "name": "stderr",
     "output_type": "stream",
     "text": [
      "100%|████████████████████████████████████████████████████████████████████████| 217534/217534 [00:24<00:00, 9002.31it/s]\n"
     ]
    },
    {
     "name": "stdout",
     "output_type": "stream",
     "text": [
      "63648\n"
     ]
    }
   ],
   "source": [
    "import pandas as pd\n",
    "import os\n",
    "from tqdm import tqdm\n",
    "from spacy.tokens import DocBin\n",
    "\n",
    "nlp = spacy.load(\"en_core_web_sm\")\n",
    "\n",
    "db = DocBin() # create a DocBin object\n",
    "\n",
    "count = 0\n",
    "for text, annot in tqdm(TRAIN_DATA): # data in previous format\n",
    "    try:\n",
    "        doc = nlp.make_doc(text) # create doc object from text\n",
    "        ents = []\n",
    "        for start, end, label in annot[\"entities\"]: # add character indexes\n",
    "            span = doc.char_span(start, end, label=label, alignment_mode=\"contract\")\n",
    "            if span is None:\n",
    "                #print(\"Skipping entity\")\n",
    "                count+=1\n",
    "            else:\n",
    "                ents.append(span)\n",
    "        doc.ents = ents # label the text with the ents\n",
    "        db.add(doc)\n",
    "    except Exception as e:\n",
    "        print(text)\n",
    "        print(annot)\n",
    "        print(e)\n",
    "        count+=1\n",
    "print(count)\n",
    "#os.chdir(r'XXXX\\XXXXX')\n",
    "db.to_disk(\"train3.spacy\") # save the docbin object"
   ]
  },
  {
   "cell_type": "code",
   "execution_count": 25,
   "id": "6fc5cb03",
   "metadata": {},
   "outputs": [
    {
     "data": {
      "text/plain": [
       "'in any'"
      ]
     },
     "execution_count": 25,
     "metadata": {},
     "output_type": "execute_result"
    }
   ],
   "source": [
    "\"Do Ola Solum and Jürgen Drews share the screen in any movies?\"[47:53]"
   ]
  },
  {
   "cell_type": "code",
   "execution_count": null,
   "id": "a784f71f",
   "metadata": {},
   "outputs": [],
   "source": [
    "\"I want to see the top-rated film score movies featured Vanraj Bhatia\"[28:38]"
   ]
  },
  {
   "cell_type": "code",
   "execution_count": null,
   "id": "ff2184ac",
   "metadata": {},
   "outputs": [],
   "source": [
    "predicates_ner.keys()"
   ]
  },
  {
   "cell_type": "markdown",
   "id": "08d03bd4",
   "metadata": {},
   "source": [
    "### Test"
   ]
  },
  {
   "cell_type": "code",
   "execution_count": 57,
   "id": "498f5406",
   "metadata": {},
   "outputs": [],
   "source": [
    "nlp_model = spacy.load('models/NER/v2_134')"
   ]
  },
  {
   "cell_type": "code",
   "execution_count": 58,
   "id": "9b467cd4",
   "metadata": {},
   "outputs": [
    {
     "data": {
      "text/plain": [
       "[('Give me the name of the cast of Jan Dara',\n",
       "  {'entities': [(24, 28, 'role'), (32, 40, 'movie')]}),\n",
       " (\"I'd like to know the cast member's name for Moondram Pirai\",\n",
       "  {'entities': [(21, 32, 'role'), (44, 58, 'movie')]}),\n",
       " (\"I'm curious about the person who wrote Buffalo Bill and the Indians, or Sitting Bull's History Lesson\",\n",
       "  {'entities': [(39, 101, 'movie'), (33, 38, 'action')]}),\n",
       " ('Identify the screenwriter of What We Wanted',\n",
       "  {'entities': [(13, 25, 'role'), (29, 43, 'movie')]}),\n",
       " ('Tell me the producer behind Wanted: Dead or Alive',\n",
       "  {'entities': [(12, 20, 'role'), (28, 49, 'movie'), (12, 19, 'action')]}),\n",
       " ('Tell me the developer for Linger',\n",
       "  {'entities': [(12, 21, 'role'), (26, 32, 'movie')]}),\n",
       " ('Tell me the film editor of Eastern Condors',\n",
       "  {'entities': [(12, 23, 'role'), (27, 42, 'movie'), (17, 21, 'action')]}),\n",
       " (\"What is the director of photography's name for the movie Amerika?\",\n",
       "  {'entities': [(12, 35, 'role'), (57, 64, 'movie'), (12, 18, 'action')]}),\n",
       " ('Who film crew member in Bukowski: Born into This?',\n",
       "  {'entities': [(4, 20, 'role'), (24, 48, 'movie')]}),\n",
       " ('Who directed Fatal Move?',\n",
       "  {'entities': [(13, 23, 'movie'), (4, 12, 'action'), (4, 10, 'action')]}),\n",
       " ('Who wrote the movie On the Mountain of Tai Hang?',\n",
       "  {'entities': [(20, 47, 'movie'), (4, 9, 'action')]}),\n",
       " ('Who is the author of Forever Enthralled?',\n",
       "  {'entities': [(11, 17, 'role'), (21, 39, 'movie')]}),\n",
       " ('Who is the presenter of the film Kill the Irishman?',\n",
       "  {'entities': [(11, 20, 'role'), (33, 50, 'movie')]}),\n",
       " ('Who oversaw the making of Bullseye!', {'entities': [(26, 35, 'movie')]}),\n",
       " ('Who was in charge of directing Bully?',\n",
       "  {'entities': [(31, 36, 'movie'), (21, 27, 'action')]}),\n",
       " ('Who was the creator of Dry Wind',\n",
       "  {'entities': [(12, 19, 'role'), (23, 31, 'movie')]}),\n",
       " ('Give me the participant of The Big Hit',\n",
       "  {'entities': [(12, 23, 'role'), (27, 38, 'movie')]}),\n",
       " ('Give me the name of the member of the crew of of Angels Fallen',\n",
       "  {'entities': [(24, 45, 'role'), (49, 62, 'movie')]}),\n",
       " (\"I'd like to know the voice actor's name for Gagarine\",\n",
       "  {'entities': [(21, 32, 'role'), (44, 52, 'movie')]}),\n",
       " (\"I'm curious about the person who directed Golimaar\",\n",
       "  {'entities': [(42, 50, 'movie'), (33, 41, 'action'), (33, 39, 'action')]}),\n",
       " ('Identify the musical conductor of Adhurs',\n",
       "  {'entities': [(13, 30, 'role'), (34, 40, 'movie')]}),\n",
       " ('Tell me the operator behind Rose Island',\n",
       "  {'entities': [(12, 20, 'role'), (28, 39, 'movie')]}),\n",
       " ('Tell me the performer for Simha',\n",
       "  {'entities': [(12, 21, 'role'), (26, 31, 'movie')]}),\n",
       " ('Tell me the actor of Rakta Charitra',\n",
       "  {'entities': [(12, 17, 'role'), (21, 35, 'movie')]}),\n",
       " (\"What is the cast's name for the movie Khaleja?\",\n",
       "  {'entities': [(12, 16, 'role'), (38, 45, 'movie')]}),\n",
       " ('Who cast member in Gorillas in the Mist?',\n",
       "  {'entities': [(4, 15, 'role'), (19, 39, 'movie')]}),\n",
       " ('Who wrote Operation Christmas Drop?',\n",
       "  {'entities': [(10, 34, 'movie'), (4, 9, 'action')]}),\n",
       " ('Who directed the movie Jasmine Women?',\n",
       "  {'entities': [(23, 36, 'movie'), (4, 12, 'action'), (4, 10, 'action')]}),\n",
       " ('Who is the producer of Blind Mountain?',\n",
       "  {'entities': [(11, 19, 'role'), (23, 37, 'movie'), (11, 18, 'action')]}),\n",
       " ('Who is the developer of the film Turn Left, Turn Right?',\n",
       "  {'entities': [(11, 20, 'role'), (33, 54, 'movie')]}),\n",
       " ('Who oversaw the making of Burke & Hare', {'entities': [(26, 38, 'movie')]}),\n",
       " ('Who was in charge of directing Burma VJ?',\n",
       "  {'entities': [(31, 39, 'movie'), (21, 27, 'action')]}),\n",
       " ('Who was the film crew member of Burning Bright',\n",
       "  {'entities': [(12, 28, 'role'), (32, 46, 'movie')]}),\n",
       " ('Give me the choreographer of Butter',\n",
       "  {'entities': [(12, 25, 'role'), (29, 35, 'movie')]}),\n",
       " ('Give me the name of the art director of Population Boom',\n",
       "  {'entities': [(24, 36, 'role'), (40, 55, 'movie'), (28, 34, 'action')]}),\n",
       " (\"I'd like to know the author's name for Bye Bye Love\",\n",
       "  {'entities': [(21, 27, 'role'), (39, 51, 'movie')]}),\n",
       " (\"I'm curious about the person who wrote Bye Bye Blackbird\",\n",
       "  {'entities': [(39, 56, 'movie'), (33, 38, 'action')]}),\n",
       " ('Identify the narrator of Bye Bye Birdie',\n",
       "  {'entities': [(13, 21, 'role'), (25, 39, 'movie')]}),\n",
       " ('Tell me the animator behind Bye Bye Bluebird',\n",
       "  {'entities': [(12, 20, 'role'), (28, 44, 'movie')]}),\n",
       " ('Tell me the creator for The Chinese Feast',\n",
       "  {'entities': [(12, 19, 'role'), (24, 41, 'movie')]}),\n",
       " ('Tell me the participant of Stage Door',\n",
       "  {'entities': [(12, 23, 'role'), (27, 37, 'movie')]}),\n",
       " (\"What is the member of the crew of's name for the movie The Truth About Jane and Sam?\",\n",
       "  {'entities': [(12, 33, 'role'), (55, 83, 'movie')]}),\n",
       " ('Who voice actor in The Longest Nite?',\n",
       "  {'entities': [(4, 15, 'role'), (19, 35, 'movie')]}),\n",
       " ('Who directed Naked Killer?',\n",
       "  {'entities': [(13, 25, 'movie'), (4, 12, 'action'), (4, 10, 'action')]}),\n",
       " ('Who wrote the movie C.I.D.?',\n",
       "  {'entities': [(20, 26, 'movie'), (4, 9, 'action')]}),\n",
       " ('Who is the operator of C.R.A.Z.Y.?',\n",
       "  {'entities': [(11, 19, 'role'), (23, 33, 'movie')]}),\n",
       " ('Who is the performer of the film The Super?',\n",
       "  {'entities': [(11, 20, 'role'), (33, 42, 'movie')]}),\n",
       " ('Who oversaw the making of Notes for My Son',\n",
       "  {'entities': [(26, 42, 'movie')]}),\n",
       " ('Who was in charge of directing CSNY/Déjà Vu?',\n",
       "  {'entities': [(31, 43, 'movie'), (21, 27, 'action')]}),\n",
       " ('Who was the cast member of Cash',\n",
       "  {'entities': [(12, 23, 'role'), (27, 31, 'movie')]}),\n",
       " ('Give me the director of Cash',\n",
       "  {'entities': [(12, 20, 'role'), (24, 28, 'movie'), (12, 18, 'action')]}),\n",
       " ('Give me the name of the screenwriter of Nightbreed',\n",
       "  {'entities': [(24, 36, 'role'), (40, 50, 'movie')]}),\n",
       " (\"I'd like to know the producer's name for Kaos\",\n",
       "  {'entities': [(21, 29, 'role'), (41, 45, 'movie'), (21, 28, 'action')]}),\n",
       " (\"I'm curious about the person who directed Cadillac Man\",\n",
       "  {'entities': [(42, 54, 'movie'), (33, 41, 'action'), (33, 39, 'action')]}),\n",
       " ('Identify the film editor of Caged',\n",
       "  {'entities': [(13, 24, 'role'), (28, 33, 'movie'), (18, 22, 'action')]}),\n",
       " ('Tell me the director of photography behind Cairo Time',\n",
       "  {'entities': [(12, 35, 'role'), (43, 53, 'movie'), (12, 18, 'action')]}),\n",
       " ('Tell me the film crew member for Daisy Diamond',\n",
       "  {'entities': [(12, 28, 'role'), (33, 46, 'movie')]}),\n",
       " ('Tell me the choreographer of The Baytown Outlaws',\n",
       "  {'entities': [(12, 25, 'role'), (29, 48, 'movie')]}),\n",
       " (\"What is the art director's name for the movie The Man from the Alamo?\",\n",
       "  {'entities': [(12, 24, 'role'), (46, 68, 'movie'), (16, 22, 'action')]}),\n",
       " ('Who author in Fade to Black?',\n",
       "  {'entities': [(4, 10, 'role'), (14, 27, 'movie')]}),\n",
       " ('Who wrote I Hate Luv Storys?',\n",
       "  {'entities': [(10, 27, 'movie'), (4, 9, 'action')]}),\n",
       " ('Who directed the movie Elena?',\n",
       "  {'entities': [(23, 28, 'movie'), (4, 12, 'action'), (4, 10, 'action')]}),\n",
       " ('Who is the animator of The Wedding Date?',\n",
       "  {'entities': [(11, 19, 'role'), (23, 39, 'movie')]}),\n",
       " ('Who is the creator of the film Revolution?',\n",
       "  {'entities': [(11, 18, 'role'), (31, 41, 'movie')]}),\n",
       " ('Who oversaw the making of Heart Condition',\n",
       "  {'entities': [(26, 41, 'movie')]}),\n",
       " ('Who was in charge of directing White Sands?',\n",
       "  {'entities': [(31, 42, 'movie'), (21, 27, 'action')]}),\n",
       " ('Who was the voice actor of K-9',\n",
       "  {'entities': [(12, 23, 'role'), (27, 30, 'movie')]}),\n",
       " ('Give me the publisher of The Cave',\n",
       "  {'entities': [(12, 21, 'role'), (25, 33, 'movie')]}),\n",
       " ('Give me the name of the musical conductor of Women in Temptation',\n",
       "  {'entities': [(24, 41, 'role'), (45, 64, 'movie')]}),\n",
       " (\"I'd like to know the operator's name for Jonas Brothers: The 3D Concert Experience\",\n",
       "  {'entities': [(21, 29, 'role'), (41, 82, 'movie')]}),\n",
       " (\"I'm curious about the person who wrote Justice, My Foot!\",\n",
       "  {'entities': [(39, 56, 'movie'), (33, 38, 'action')]}),\n",
       " ('Identify the actor of George Michael: A Different Story',\n",
       "  {'entities': [(13, 18, 'role'), (22, 55, 'movie')]}),\n",
       " ('Tell me the cast behind Bernie',\n",
       "  {'entities': [(12, 16, 'role'), (24, 30, 'movie')]}),\n",
       " ('Tell me the cast member for Along the Navajo Trail',\n",
       "  {'entities': [(12, 23, 'role'), (28, 50, 'movie')]}),\n",
       " ('Tell me the director of Amusement',\n",
       "  {'entities': [(12, 20, 'role'), (24, 33, 'movie'), (12, 18, 'action')]}),\n",
       " (\"What is the screenwriter's name for the movie The Public Eye?\",\n",
       "  {'entities': [(12, 24, 'role'), (46, 60, 'movie')]}),\n",
       " (\"Who producer in Susan's Plan?\",\n",
       "  {'entities': [(4, 12, 'role'), (16, 28, 'movie'), (4, 11, 'action')]}),\n",
       " ('Who directed Camouflage?',\n",
       "  {'entities': [(13, 23, 'movie'), (4, 12, 'action'), (4, 10, 'action')]}),\n",
       " ('Who wrote the movie Camp 14: Total Control Zone?',\n",
       "  {'entities': [(20, 47, 'movie'), (4, 9, 'action')]}),\n",
       " ('Who is the director of photography of Armadillo?',\n",
       "  {'entities': [(11, 34, 'role'), (38, 47, 'movie'), (11, 17, 'action')]}),\n",
       " ('Who is the film crew member of the film Inherit the Wind?',\n",
       "  {'entities': [(11, 27, 'role'), (40, 56, 'movie')]}),\n",
       " ('Who oversaw the making of Tatie Danielle',\n",
       "  {'entities': [(26, 40, 'movie')]}),\n",
       " ('Who was in charge of directing Jaime?',\n",
       "  {'entities': [(31, 36, 'movie'), (21, 27, 'action')]}),\n",
       " ('Who was the author of Ricochet',\n",
       "  {'entities': [(12, 18, 'role'), (22, 30, 'movie')]}),\n",
       " ('Give me the presenter of Loverboy',\n",
       "  {'entities': [(12, 21, 'role'), (25, 33, 'movie')]}),\n",
       " ('Give me the name of the narrator of Empire of the Wolves',\n",
       "  {'entities': [(24, 32, 'role'), (36, 56, 'movie')]}),\n",
       " (\"I'd like to know the animator's name for Killer Tongue\",\n",
       "  {'entities': [(21, 29, 'role'), (41, 54, 'movie')]}),\n",
       " (\"I'm curious about the person who directed The Dognapper\",\n",
       "  {'entities': [(42, 55, 'movie'), (33, 41, 'action'), (33, 39, 'action')]}),\n",
       " ('Identify the participant of Canaris',\n",
       "  {'entities': [(13, 24, 'role'), (28, 35, 'movie')]}),\n",
       " ('Tell me the member of the crew of behind Meet Wally Sparks',\n",
       "  {'entities': [(12, 33, 'role'), (41, 58, 'movie')]}),\n",
       " ('Tell me the voice actor for Meu Passado Me Condena',\n",
       "  {'entities': [(12, 23, 'role'), (28, 50, 'movie')]}),\n",
       " ('Tell me the publisher of Minha Mãe é uma Peça',\n",
       "  {'entities': [(12, 21, 'role'), (25, 45, 'movie')]}),\n",
       " (\"What is the musical conductor's name for the movie Declaration of War?\",\n",
       "  {'entities': [(12, 29, 'role'), (51, 69, 'movie')]}),\n",
       " ('Who operator in Hum Tum?',\n",
       "  {'entities': [(4, 12, 'role'), (16, 23, 'movie')]}),\n",
       " ('Who wrote Welcome to the Jungle?',\n",
       "  {'entities': [(10, 31, 'movie'), (4, 9, 'action')]}),\n",
       " ('Who directed the movie Sleeping Beauty?',\n",
       "  {'entities': [(23, 38, 'movie'), (4, 12, 'action'), (4, 10, 'action')]}),\n",
       " ('Who is the cast of Necrosis?',\n",
       "  {'entities': [(11, 15, 'role'), (19, 27, 'movie')]}),\n",
       " ('Who is the cast member of the film Second Name?',\n",
       "  {'entities': [(11, 22, 'role'), (35, 46, 'movie')]}),\n",
       " ('Who oversaw the making of The Middle of the World',\n",
       "  {'entities': [(26, 49, 'movie')]}),\n",
       " ('Who was in charge of directing Suely in the Sky?',\n",
       "  {'entities': [(31, 47, 'movie'), (21, 27, 'action')]}),\n",
       " ('Who was the producer of The Man Who Copied',\n",
       "  {'entities': [(12, 20, 'role'), (24, 42, 'movie'), (12, 19, 'action')]}),\n",
       " ('Give me the developer of Time and the Wind',\n",
       "  {'entities': [(12, 21, 'role'), (25, 42, 'movie')]}),\n",
       " (\"Give me the name of the film editor of Can't Buy Me Love\",\n",
       "  {'entities': [(24, 35, 'role'), (39, 56, 'movie'), (29, 33, 'action')]}),\n",
       " (\"I'd like to know the director of photography's name for Blue Eyes\",\n",
       "  {'entities': [(21, 44, 'role'), (56, 65, 'movie'), (21, 27, 'action')]}),\n",
       " (\"I'm curious about the person who wrote Artificial Paradises\",\n",
       "  {'entities': [(39, 59, 'movie'), (33, 38, 'action')]}),\n",
       " ('Identify the choreographer of Captain Newman, M.D.',\n",
       "  {'entities': [(13, 26, 'role'), (30, 50, 'movie')]}),\n",
       " ('Tell me the art director behind Captain Ron',\n",
       "  {'entities': [(12, 24, 'role'), (32, 43, 'movie'), (16, 22, 'action')]}),\n",
       " ('Tell me the author for Captive',\n",
       "  {'entities': [(12, 18, 'role'), (23, 30, 'movie')]}),\n",
       " ('Tell me the presenter of Captivity',\n",
       "  {'entities': [(12, 21, 'role'), (25, 34, 'movie')]}),\n",
       " (\"What is the narrator's name for the movie Wrestling Ernest Hemingway?\",\n",
       "  {'entities': [(12, 20, 'role'), (42, 68, 'movie')]}),\n",
       " ('Who animator in Caravaggio?',\n",
       "  {'entities': [(4, 12, 'role'), (16, 26, 'movie')]}),\n",
       " ('Who directed Forbidden to Forbid?',\n",
       "  {'entities': [(13, 32, 'movie'), (4, 12, 'action'), (4, 10, 'action')]}),\n",
       " ('Who wrote the movie Under the Same Moon?',\n",
       "  {'entities': [(20, 39, 'movie'), (4, 9, 'action')]}),\n",
       " ('Who is the member of the crew of of Swallowtail?',\n",
       "  {'entities': [(11, 32, 'role'), (36, 47, 'movie')]}),\n",
       " ('Who is the voice actor of the film Somewhere Slow?',\n",
       "  {'entities': [(11, 22, 'role'), (35, 49, 'movie')]}),\n",
       " ('Who oversaw the making of Somos tão Jovens',\n",
       "  {'entities': [(26, 42, 'movie')]}),\n",
       " ('Who was in charge of directing How to Succeed in Business Without Really Trying?',\n",
       "  {'entities': [(31, 79, 'movie'), (21, 27, 'action')]}),\n",
       " ('Who was the operator of Totalmente Inocentes',\n",
       "  {'entities': [(12, 20, 'role'), (24, 44, 'movie')]}),\n",
       " ('Give me the performer of Transcendence',\n",
       "  {'entities': [(12, 21, 'role'), (25, 38, 'movie')]}),\n",
       " ('Give me the name of the actor of Air Doll',\n",
       "  {'entities': [(24, 29, 'role'), (33, 41, 'movie')]}),\n",
       " (\"I'd like to know the cast's name for VIPs\",\n",
       "  {'entities': [(21, 25, 'role'), (37, 41, 'movie')]}),\n",
       " (\"I'm curious about the person who directed Vai que Dá Certo\",\n",
       "  {'entities': [(42, 58, 'movie'), (33, 41, 'action'), (33, 39, 'action')]}),\n",
       " ('Identify the director of Christmas Crossfire',\n",
       "  {'entities': [(13, 21, 'role'), (25, 44, 'movie'), (13, 19, 'action')]}),\n",
       " ('Tell me the screenwriter behind Martial Arts of Shaolin',\n",
       "  {'entities': [(12, 24, 'role'), (32, 55, 'movie')]}),\n",
       " ('Tell me the producer for Kovář z Podlesí',\n",
       "  {'entities': [(12, 20, 'role'), (25, 40, 'movie'), (12, 19, 'action')]}),\n",
       " ('Tell me the developer of Freak City',\n",
       "  {'entities': [(12, 21, 'role'), (25, 35, 'movie')]}),\n",
       " (\"What is the film editor's name for the movie Three Comrades?\",\n",
       "  {'entities': [(12, 23, 'role'), (45, 59, 'movie'), (17, 21, 'action')]}),\n",
       " ('Who director of photography in Belzebuth?',\n",
       "  {'entities': [(4, 27, 'role'), (31, 40, 'movie'), (4, 10, 'action')]}),\n",
       " ('Who wrote Day of the Comet?',\n",
       "  {'entities': [(10, 26, 'movie'), (4, 9, 'action')]}),\n",
       " (\"Who directed the movie Carla's Song?\",\n",
       "  {'entities': [(23, 35, 'movie'), (4, 12, 'action'), (4, 10, 'action')]}),\n",
       " ('Who is the art director of All or Nothing?',\n",
       "  {'entities': [(11, 23, 'role'), (27, 41, 'movie'), (15, 21, 'action')]}),\n",
       " ('Who is the author of the film An Invisible Sign?',\n",
       "  {'entities': [(11, 17, 'role'), (30, 47, 'movie')]}),\n",
       " ('Who oversaw the making of Suddenly', {'entities': [(26, 34, 'movie')]}),\n",
       " ('Who was in charge of directing Better Off Dead?',\n",
       "  {'entities': [(31, 46, 'movie'), (21, 27, 'action')]}),\n",
       " ('Who was the animator of Perhaps Love',\n",
       "  {'entities': [(12, 20, 'role'), (24, 36, 'movie')]}),\n",
       " ('Give me the creator of The Message',\n",
       "  {'entities': [(12, 19, 'role'), (23, 34, 'movie')]}),\n",
       " ('Give me the name of the participant of Avalon',\n",
       "  {'entities': [(24, 35, 'role'), (39, 45, 'movie')]}),\n",
       " (\"I'd like to know the member of the crew of's name for Babylon Disease\",\n",
       "  {'entities': [(21, 42, 'role'), (54, 69, 'movie')]}),\n",
       " (\"I'm curious about the person who wrote Nada Sōsō\",\n",
       "  {'entities': [(39, 48, 'movie'), (33, 38, 'action')]}),\n",
       " ('Identify the publisher of The Man Who Would Be King',\n",
       "  {'entities': [(13, 22, 'role'), (26, 51, 'movie')]}),\n",
       " ('Tell me the musical conductor behind Taare Zameen Par',\n",
       "  {'entities': [(12, 29, 'role'), (37, 53, 'movie')]}),\n",
       " ('Tell me the operator for The Bench',\n",
       "  {'entities': [(12, 20, 'role'), (25, 34, 'movie')]}),\n",
       " ('Tell me the performer of Lightyear',\n",
       "  {'entities': [(12, 21, 'role'), (25, 34, 'movie')]}),\n",
       " (\"What is the actor's name for the movie Departures?\",\n",
       "  {'entities': [(12, 17, 'role'), (39, 49, 'movie')]}),\n",
       " ('Who cast in The Second Awakening of Christa Klages?',\n",
       "  {'entities': [(4, 8, 'role'), (12, 50, 'movie')]}),\n",
       " ('Who directed Alexander?',\n",
       "  {'entities': [(13, 22, 'movie'), (4, 12, 'action'), (4, 10, 'action')]}),\n",
       " ('Who wrote the movie New York Doll?',\n",
       "  {'entities': [(20, 33, 'movie'), (4, 9, 'action')]}),\n",
       " ('Who is the screenwriter of Casa de los Babys?',\n",
       "  {'entities': [(11, 23, 'role'), (27, 44, 'movie')]}),\n",
       " ('Who is the producer of the film Coda?',\n",
       "  {'entities': [(11, 19, 'role'), (32, 36, 'movie'), (11, 18, 'action')]}),\n",
       " ('Who oversaw the making of Devil in the Flesh 2',\n",
       "  {'entities': [(26, 46, 'movie')]}),\n",
       " ('Who was in charge of directing Stakeout?',\n",
       "  {'entities': [(31, 39, 'movie'), (21, 27, 'action')]}),\n",
       " ('Who was the director of photography of Black Rain',\n",
       "  {'entities': [(12, 35, 'role'), (39, 49, 'movie'), (12, 18, 'action')]}),\n",
       " ('Give me the film crew member of Cass',\n",
       "  {'entities': [(12, 28, 'role'), (32, 36, 'movie')]}),\n",
       " ('Give me the name of the choreographer of Casshern',\n",
       "  {'entities': [(24, 37, 'role'), (41, 49, 'movie')]}),\n",
       " (\"I'd like to know the art director's name for A Man Comes Home\",\n",
       "  {'entities': [(21, 33, 'role'), (45, 61, 'movie'), (25, 31, 'action')]}),\n",
       " (\"I'm curious about the person who directed The Visitor\",\n",
       "  {'entities': [(42, 53, 'movie'), (33, 41, 'action'), (33, 39, 'action')]}),\n",
       " ('Identify the presenter of Knuckledust',\n",
       "  {'entities': [(13, 22, 'role'), (26, 37, 'movie')]}),\n",
       " ('Tell me the narrator behind Secret Magic Control Agency',\n",
       "  {'entities': [(12, 20, 'role'), (28, 55, 'movie')]}),\n",
       " ('Tell me the animator for Spy Game',\n",
       "  {'entities': [(12, 20, 'role'), (25, 33, 'movie')]}),\n",
       " ('Tell me the creator of Castle Freak',\n",
       "  {'entities': [(12, 19, 'role'), (23, 35, 'movie')]}),\n",
       " (\"What is the participant's name for the movie This Means War?\",\n",
       "  {'entities': [(12, 23, 'role'), (45, 59, 'movie')]}),\n",
       " ('Who member of the crew of in Undercover Kitty?',\n",
       "  {'entities': [(4, 25, 'role'), (29, 45, 'movie')]}),\n",
       " ('Who wrote The Last Metro?',\n",
       "  {'entities': [(10, 24, 'movie'), (4, 9, 'action')]}),\n",
       " ('Who directed the movie Freud Leaving Home?',\n",
       "  {'entities': [(23, 41, 'movie'), (4, 12, 'action'), (4, 10, 'action')]}),\n",
       " ('Who is the musical conductor of Showdown in Little Tokyo?',\n",
       "  {'entities': [(11, 28, 'role'), (32, 56, 'movie')]}),\n",
       " ('Who is the operator of the film Divine Secrets of the Ya-Ya Sisterhood?',\n",
       "  {'entities': [(11, 19, 'role'), (32, 70, 'movie')]}),\n",
       " ('Who oversaw the making of Cat Run', {'entities': [(26, 33, 'movie')]}),\n",
       " ('Who was in charge of directing Immortals?',\n",
       "  {'entities': [(31, 40, 'movie'), (21, 27, 'action')]}),\n",
       " ('Who was the cast of Catchfire',\n",
       "  {'entities': [(12, 16, 'role'), (20, 29, 'movie')]}),\n",
       " ('Give me the cast member of Catch a Fire',\n",
       "  {'entities': [(12, 23, 'role'), (27, 39, 'movie')]}),\n",
       " ('Give me the name of the director of Happythankyoumoreplease',\n",
       "  {'entities': [(24, 32, 'role'), (36, 59, 'movie'), (24, 30, 'action')]}),\n",
       " (\"I'd like to know the screenwriter's name for Caterpillar\",\n",
       "  {'entities': [(21, 33, 'role'), (45, 56, 'movie')]}),\n",
       " (\"I'm curious about the person who wrote Existenz\",\n",
       "  {'entities': [(39, 47, 'movie'), (33, 38, 'action')]}),\n",
       " ('Identify the developer of Cutthroat Island',\n",
       "  {'entities': [(13, 22, 'role'), (26, 42, 'movie')]}),\n",
       " ('Tell me the film editor behind Caught',\n",
       "  {'entities': [(12, 23, 'role'), (31, 37, 'movie'), (17, 21, 'action')]}),\n",
       " ('Tell me the director of photography for Caveman',\n",
       "  {'entities': [(12, 35, 'role'), (40, 47, 'movie'), (12, 18, 'action')]}),\n",
       " (\"Tell me the film crew member of New Year's Eve\",\n",
       "  {'entities': [(12, 28, 'role'), (32, 46, 'movie')]}),\n",
       " (\"What is the choreographer's name for the movie Bianca?\",\n",
       "  {'entities': [(12, 25, 'role'), (47, 53, 'movie')]}),\n",
       " ('Who art director in The Keys to the House?',\n",
       "  {'entities': [(4, 16, 'role'), (20, 41, 'movie'), (8, 14, 'action')]}),\n",
       " ('Who directed I Wish?',\n",
       "  {'entities': [(13, 19, 'movie'), (4, 12, 'action'), (4, 10, 'action')]}),\n",
       " ('Who wrote the movie IMurders?',\n",
       "  {'entities': [(20, 28, 'movie'), (4, 9, 'action')]}),\n",
       " ('Who is the narrator of In Your Veins?',\n",
       "  {'entities': [(11, 19, 'role'), (23, 36, 'movie')]}),\n",
       " ('Who is the animator of the film Villain?',\n",
       "  {'entities': [(11, 19, 'role'), (32, 39, 'movie')]}),\n",
       " ('Who oversaw the making of Jackass 2.5', {'entities': [(26, 37, 'movie')]}),\n",
       " ('Who was in charge of directing I Miss You?',\n",
       "  {'entities': [(31, 41, 'movie'), (21, 27, 'action')]}),\n",
       " ('Who was the member of the crew of of Central Station',\n",
       "  {'entities': [(12, 33, 'role'), (37, 52, 'movie')]}),\n",
       " ('Give me the voice actor of The Great Magician',\n",
       "  {'entities': [(12, 23, 'role'), (27, 45, 'movie')]}),\n",
       " ('Give me the name of the publisher of Pinocchio',\n",
       "  {'entities': [(24, 33, 'role'), (37, 46, 'movie')]}),\n",
       " (\"I'd like to know the musical conductor's name for The Conquest\",\n",
       "  {'entities': [(21, 38, 'role'), (50, 62, 'movie')]}),\n",
       " (\"I'm curious about the person who directed I Just Didn't Do It\",\n",
       "  {'entities': [(42, 61, 'movie'), (33, 41, 'action'), (33, 39, 'action')]}),\n",
       " ('Identify the performer of Shed No Tears',\n",
       "  {'entities': [(13, 22, 'role'), (26, 39, 'movie')]}),\n",
       " ('Tell me the actor behind A Ghost of a Chance',\n",
       "  {'entities': [(12, 17, 'role'), (25, 44, 'movie')]}),\n",
       " ('Tell me the cast for Kamisama no Karute',\n",
       "  {'entities': [(12, 16, 'role'), (21, 39, 'movie')]}),\n",
       " ('Tell me the cast member of The Perfect Game',\n",
       "  {'entities': [(12, 23, 'role'), (27, 43, 'movie')]}),\n",
       " (\"What is the director's name for the movie Carmen?\",\n",
       "  {'entities': [(12, 20, 'role'), (42, 48, 'movie'), (12, 18, 'action')]}),\n",
       " ('Who screenwriter in Kansas City Confidential?',\n",
       "  {'entities': [(4, 16, 'role'), (20, 44, 'movie')]}),\n",
       " ('Who wrote The Conviction?',\n",
       "  {'entities': [(10, 24, 'movie'), (4, 9, 'action')]}),\n",
       " ('Who directed the movie Anxiety?',\n",
       "  {'entities': [(23, 30, 'movie'), (4, 12, 'action'), (4, 10, 'action')]}),\n",
       " ('Who is the film editor of A Lady Without Passport?',\n",
       "  {'entities': [(11, 22, 'role'), (26, 49, 'movie'), (16, 20, 'action')]}),\n",
       " ('Who is the director of photography of the film Fire with Fire?',\n",
       "  {'entities': [(11, 34, 'role'), (47, 61, 'movie'), (11, 17, 'action')]}),\n",
       " (\"Who oversaw the making of Just Another Pandora's Box\",\n",
       "  {'entities': [(26, 52, 'movie')]}),\n",
       " ('Who was in charge of directing The Glass Menagerie?',\n",
       "  {'entities': [(31, 50, 'movie'), (21, 27, 'action')]}),\n",
       " ('Who was the art director of The Ear',\n",
       "  {'entities': [(12, 24, 'role'), (28, 35, 'movie'), (16, 22, 'action')]}),\n",
       " ('Give me the author of The Big Bang',\n",
       "  {'entities': [(12, 18, 'role'), (22, 34, 'movie')]}),\n",
       " ('Give me the name of the presenter of Persona non grata',\n",
       "  {'entities': [(24, 33, 'role'), (37, 54, 'movie')]}),\n",
       " (\"I'd like to know the narrator's name for Hara-Kiri: Death of a Samurai\",\n",
       "  {'entities': [(21, 29, 'role'), (41, 70, 'movie')]}),\n",
       " (\"I'm curious about the person who wrote Gente di Roma\",\n",
       "  {'entities': [(39, 52, 'movie'), (33, 38, 'action')]}),\n",
       " ('Identify the creator of Vanilla and Chocolate',\n",
       "  {'entities': [(13, 20, 'role'), (24, 45, 'movie')]}),\n",
       " ('Tell me the participant behind Chaahat',\n",
       "  {'entities': [(12, 23, 'role'), (31, 38, 'movie')]}),\n",
       " ('Tell me the member of the crew of for The Consequences of Love',\n",
       "  {'entities': [(12, 33, 'role'), (38, 62, 'movie')]}),\n",
       " ('Tell me the voice actor of The Bankers of God: The Calvi Affair',\n",
       "  {'entities': [(12, 23, 'role'), (27, 63, 'movie')]}),\n",
       " (\"What is the publisher's name for the movie Sadako 3D?\",\n",
       "  {'entities': [(12, 21, 'role'), (43, 52, 'movie')]}),\n",
       " (\"Who musical conductor in Lorenzo's Oil?\",\n",
       "  {'entities': [(4, 21, 'role'), (25, 38, 'movie')]}),\n",
       " ('Who directed Waltz for Monica?',\n",
       "  {'entities': [(13, 29, 'movie'), (4, 12, 'action'), (4, 10, 'action')]}),\n",
       " ('Who wrote the movie Jeepers Creepers: Reborn?',\n",
       "  {'entities': [(20, 44, 'movie'), (4, 9, 'action')]}),\n",
       " ('Who is the actor of Kueki Ressha?',\n",
       "  {'entities': [(11, 16, 'role'), (20, 32, 'movie')]}),\n",
       " (\"Who is the cast of the film Adam's Rib?\",\n",
       "  {'entities': [(11, 15, 'role'), (28, 38, 'movie')]}),\n",
       " ('Who oversaw the making of Janie Jones', {'entities': [(26, 37, 'movie')]}),\n",
       " ('Who was in charge of directing Chal Mere Bhai?',\n",
       "  {'entities': [(31, 45, 'movie'), (21, 27, 'action')]}),\n",
       " ('Who was the screenwriter of Beyond Outrage',\n",
       "  {'entities': [(12, 24, 'role'), (28, 42, 'movie')]}),\n",
       " ('Give me the producer of Keep the Lights On',\n",
       "  {'entities': [(12, 20, 'role'), (24, 42, 'movie'), (12, 19, 'action')]}),\n",
       " ('Give me the name of the developer of Volcano',\n",
       "  {'entities': [(24, 33, 'role'), (37, 44, 'movie')]}),\n",
       " (\"I'd like to know the film editor's name for Like Someone in Love\",\n",
       "  {'entities': [(21, 32, 'role'), (44, 64, 'movie'), (26, 30, 'action')]}),\n",
       " (\"I'm curious about the person who directed Needle\",\n",
       "  {'entities': [(42, 48, 'movie'), (33, 41, 'action'), (33, 39, 'action')]}),\n",
       " ('Identify the film crew member of Eddie and the Cruisers',\n",
       "  {'entities': [(13, 29, 'role'), (33, 55, 'movie')]}),\n",
       " ('Tell me the choreographer behind Saimir',\n",
       "  {'entities': [(12, 25, 'role'), (33, 39, 'movie')]}),\n",
       " ('Tell me the art director for Blue Spring',\n",
       "  {'entities': [(12, 24, 'role'), (29, 40, 'movie'), (16, 22, 'action')]}),\n",
       " ('Tell me the author of Chalte Chalte',\n",
       "  {'entities': [(12, 18, 'role'), (22, 35, 'movie')]}),\n",
       " (\"What is the presenter's name for the movie The Good Doctor?\",\n",
       "  {'entities': [(12, 21, 'role'), (43, 58, 'movie')]}),\n",
       " ('Who narrator in ATM?', {'entities': [(4, 12, 'role'), (16, 19, 'movie')]}),\n",
       " ('Who wrote Chamatkar?', {'entities': [(10, 19, 'movie'), (4, 9, 'action')]}),\n",
       " ('Who directed the movie Chameli?',\n",
       "  {'entities': [(23, 30, 'movie'), (4, 12, 'action'), (4, 10, 'action')]}),\n",
       " ('Who is the participant of Original?',\n",
       "  {'entities': [(11, 22, 'role'), (26, 34, 'movie')]}),\n",
       " ('Who is the member of the crew of of the film A Prophet?',\n",
       "  {'entities': [(11, 32, 'role'), (45, 54, 'movie')]}),\n",
       " ('Who oversaw the making of Seaspiracy', {'entities': [(26, 36, 'movie')]}),\n",
       " ('Who was in charge of directing Chandani - The daughter of the elephant whisperer?',\n",
       "  {'entities': [(31, 80, 'movie'), (21, 27, 'action')]}),\n",
       " ('Who was the musical conductor of Chandni Chowk to China',\n",
       "  {'entities': [(12, 29, 'role'), (33, 55, 'movie')]}),\n",
       " ('Give me the operator of Change My Life',\n",
       "  {'entities': [(12, 20, 'role'), (24, 38, 'movie')]}),\n",
       " ('Give me the name of the performer of Changing Times',\n",
       "  {'entities': [(24, 33, 'role'), (37, 51, 'movie')]}),\n",
       " (\"I'd like to know the actor's name for To Hell and Back: The Kane Hodder Story\",\n",
       "  {'entities': [(21, 26, 'role'), (38, 77, 'movie')]}),\n",
       " (\"I'm curious about the person who wrote The Singer\",\n",
       "  {'entities': [(39, 49, 'movie'), (33, 38, 'action')]}),\n",
       " ('Identify the cast member of Love Songs',\n",
       "  {'entities': [(13, 24, 'role'), (28, 38, 'movie')]}),\n",
       " ('Tell me the director behind Chaos',\n",
       "  {'entities': [(12, 20, 'role'), (28, 33, 'movie'), (12, 18, 'action')]}),\n",
       " ('Tell me the screenwriter for The Defiant Ones',\n",
       "  {'entities': [(12, 24, 'role'), (29, 45, 'movie')]}),\n",
       " ('Tell me the producer of Profetia',\n",
       "  {'entities': [(12, 20, 'role'), (24, 32, 'movie'), (12, 19, 'action')]}),\n",
       " (\"What is the developer's name for the movie Jingle All the Way?\",\n",
       "  {'entities': [(12, 21, 'role'), (43, 61, 'movie')]}),\n",
       " ('Who film editor in Death Hunt?',\n",
       "  {'entities': [(4, 15, 'role'), (19, 29, 'movie'), (9, 13, 'action')]}),\n",
       " ('Who directed Underground?',\n",
       "  {'entities': [(13, 24, 'movie'), (4, 12, 'action'), (4, 10, 'action')]}),\n",
       " ('Who wrote the movie Nothing to Lose?',\n",
       "  {'entities': [(20, 35, 'movie'), (4, 9, 'action')]}),\n",
       " ('Who is the choreographer of Straight to Hell?',\n",
       "  {'entities': [(11, 24, 'role'), (28, 44, 'movie')]}),\n",
       " ('Who is the art director of the film The Hidden Blade?',\n",
       "  {'entities': [(11, 23, 'role'), (36, 52, 'movie'), (15, 21, 'action')]}),\n",
       " (\"Who oversaw the making of Sullivan's Travels\",\n",
       "  {'entities': [(26, 44, 'movie')]}),\n",
       " ('Who was in charge of directing Jackass 3D?',\n",
       "  {'entities': [(31, 41, 'movie'), (21, 27, 'action')]}),\n",
       " ('Who was the narrator of Linda Linda Linda',\n",
       "  {'entities': [(12, 20, 'role'), (24, 41, 'movie')]}),\n",
       " ('Give me the animator of His Girl Friday',\n",
       "  {'entities': [(12, 20, 'role'), (24, 39, 'movie')]}),\n",
       " ('Give me the name of the creator of Simon & Malou',\n",
       "  {'entities': [(24, 31, 'role'), (35, 48, 'movie')]}),\n",
       " (\"I'd like to know the participant's name for My Best Friend Is a Vampire\",\n",
       "  {'entities': [(21, 32, 'role'), (44, 71, 'movie')]}),\n",
       " (\"I'm curious about the person who directed Grizzly Man\",\n",
       "  {'entities': [(42, 53, 'movie'), (33, 41, 'action'), (33, 39, 'action')]}),\n",
       " ('Identify the voice actor of Charly',\n",
       "  {'entities': [(13, 24, 'role'), (28, 34, 'movie')]}),\n",
       " ('Tell me the publisher behind Visible Secret',\n",
       "  {'entities': [(12, 21, 'role'), (29, 43, 'movie')]}),\n",
       " ('Tell me the musical conductor for Casper and Emma on Safari',\n",
       "  {'entities': [(12, 29, 'role'), (34, 59, 'movie')]}),\n",
       " ('Tell me the operator of Chasers',\n",
       "  {'entities': [(12, 20, 'role'), (24, 31, 'movie')]}),\n",
       " (\"What is the performer's name for the movie Veer-Zaara?\",\n",
       "  {'entities': [(12, 21, 'role'), (43, 53, 'movie')]}),\n",
       " (\"Who actor in Hell's Angels?\",\n",
       "  {'entities': [(4, 9, 'role'), (13, 26, 'movie')]}),\n",
       " ('Who wrote Cloudboy?', {'entities': [(10, 18, 'movie'), (4, 9, 'action')]}),\n",
       " ('Who directed the movie Lies and Fat Girls?',\n",
       "  {'entities': [(23, 41, 'movie'), (4, 12, 'action'), (4, 10, 'action')]}),\n",
       " ('Who is the director of A Classic Horror Story?',\n",
       "  {'entities': [(11, 19, 'role'), (23, 45, 'movie'), (11, 17, 'action')]}),\n",
       " ('Who is the screenwriter of the film Pure?',\n",
       "  {'entities': [(11, 23, 'role'), (36, 40, 'movie')]}),\n",
       " ('Who oversaw the making of Break Through!',\n",
       "  {'entities': [(26, 40, 'movie')]}),\n",
       " ('Who was in charge of directing Cherry 2000?',\n",
       "  {'entities': [(31, 42, 'movie'), (21, 27, 'action')]}),\n",
       " (\"Who was the film editor of God Forgives... I Don't!\",\n",
       "  {'entities': [(12, 23, 'role'), (27, 51, 'movie'), (17, 21, 'action')]}),\n",
       " ('Give me the director of photography of Keane',\n",
       "  {'entities': [(12, 35, 'role'), (39, 44, 'movie'), (12, 18, 'action')]}),\n",
       " ('Give me the name of the film crew member of Love and Rage',\n",
       "  {'entities': [(24, 40, 'role'), (44, 57, 'movie')]}),\n",
       " (\"I'd like to know the choreographer's name for Cheyenne Autumn\",\n",
       "  {'entities': [(21, 34, 'role'), (46, 61, 'movie')]}),\n",
       " (\"I'm curious about the person who wrote Chicago Cab\",\n",
       "  {'entities': [(39, 50, 'movie'), (33, 38, 'action')]}),\n",
       " ('Identify the author of Escape from Mogadishu',\n",
       "  {'entities': [(13, 19, 'role'), (23, 44, 'movie')]}),\n",
       " ('Tell me the presenter behind Japón',\n",
       "  {'entities': [(12, 21, 'role'), (29, 34, 'movie')]}),\n",
       " ('Tell me the narrator for Zero Day',\n",
       "  {'entities': [(12, 20, 'role'), (25, 33, 'movie')]}),\n",
       " ('Tell me the animator of April Story',\n",
       "  {'entities': [(12, 20, 'role'), (24, 35, 'movie')]}),\n",
       " (\"What is the creator's name for the movie Hostage: Missing Celebrity?\",\n",
       "  {'entities': [(12, 19, 'role'), (41, 67, 'movie')]}),\n",
       " ('Who participant in North?',\n",
       "  {'entities': [(4, 15, 'role'), (19, 24, 'movie')]}),\n",
       " ('Who directed Tomme tønner?',\n",
       "  {'entities': [(13, 25, 'movie'), (4, 12, 'action'), (4, 10, 'action')]}),\n",
       " ('Who wrote the movie The Chef, the Actor, the Scoundrel?',\n",
       "  {'entities': [(20, 54, 'movie'), (4, 9, 'action')]}),\n",
       " ('Who is the publisher of Hong Kong Confidential?',\n",
       "  {'entities': [(11, 20, 'role'), (24, 46, 'movie')]}),\n",
       " ('Who is the musical conductor of the film Dear Friends?',\n",
       "  {'entities': [(11, 28, 'role'), (41, 53, 'movie')]}),\n",
       " ('Who oversaw the making of Strings', {'entities': [(26, 33, 'movie')]}),\n",
       " ('Who was in charge of directing Tenshi no Koi?',\n",
       "  {'entities': [(31, 44, 'movie'), (21, 27, 'action')]}),\n",
       " ('Who was the actor of Countdown to Zero',\n",
       "  {'entities': [(12, 17, 'role'), (21, 38, 'movie')]}),\n",
       " ('Give me the cast of The Founding of a Party',\n",
       "  {'entities': [(12, 16, 'role'), (20, 43, 'movie')]}),\n",
       " ('Give me the name of the cast member of Chisum',\n",
       "  {'entities': [(24, 35, 'role'), (39, 45, 'movie')]}),\n",
       " (\"I'd like to know the director's name for The Stool Pigeon\",\n",
       "  {'entities': [(21, 29, 'role'), (41, 57, 'movie'), (21, 27, 'action')]}),\n",
       " (\"I'm curious about the person who directed Choke\",\n",
       "  {'entities': [(42, 47, 'movie'), (33, 41, 'action'), (33, 39, 'action')]}),\n",
       " ('Identify the producer of Choking Hazard',\n",
       "  {'entities': [(13, 21, 'role'), (25, 39, 'movie'), (13, 20, 'action')]}),\n",
       " ('Tell me the developer behind Beast Stalker',\n",
       "  {'entities': [(12, 21, 'role'), (29, 42, 'movie')]}),\n",
       " ('Tell me the film editor for Ugetsu',\n",
       "  {'entities': [(12, 23, 'role'), (28, 34, 'movie'), (17, 21, 'action')]}),\n",
       " ('Tell me the director of photography of Swing Kids',\n",
       "  {'entities': [(12, 35, 'role'), (39, 49, 'movie'), (12, 18, 'action')]}),\n",
       " (\"What is the film crew member's name for the movie Gallipoli?\",\n",
       "  {'entities': [(12, 28, 'role'), (50, 59, 'movie')]}),\n",
       " ('Who choreographer in Antitrust?',\n",
       "  {'entities': [(4, 17, 'role'), (21, 30, 'movie')]}),\n",
       " ('Who wrote The Truce?', {'entities': [(10, 19, 'movie'), (4, 9, 'action')]}),\n",
       " ('Who directed the movie Street Angel?',\n",
       "  {'entities': [(23, 35, 'movie'), (4, 12, 'action'), (4, 10, 'action')]}),\n",
       " ('Who is the presenter of Undisputed II: Last Man Standing?',\n",
       "  {'entities': [(11, 20, 'role'), (24, 56, 'movie')]}),\n",
       " ('Who is the narrator of the film The Magician?',\n",
       "  {'entities': [(11, 19, 'role'), (32, 44, 'movie')]}),\n",
       " ('Who oversaw the making of Truck Turner', {'entities': [(26, 38, 'movie')]}),\n",
       " ('Who was in charge of directing Sky Fighters?',\n",
       "  {'entities': [(31, 43, 'movie'), (21, 27, 'action')]}),\n",
       " ('Who was the participant of Cohen and Tate',\n",
       "  {'entities': [(12, 23, 'role'), (27, 41, 'movie')]}),\n",
       " (\"Give me the member of the crew of of Christina's House\",\n",
       "  {'entities': [(12, 33, 'role'), (37, 54, 'movie')]}),\n",
       " ('Give me the name of the voice actor of Johnny Handsome',\n",
       "  {'entities': [(24, 35, 'role'), (39, 54, 'movie')]}),\n",
       " (\"I'd like to know the publisher's name for Men at Work\",\n",
       "  {'entities': [(21, 30, 'role'), (42, 53, 'movie')]}),\n",
       " (\"I'm curious about the person who wrote Witchery\",\n",
       "  {'entities': [(39, 47, 'movie'), (33, 38, 'action')]}),\n",
       " ('Identify the operator of Magic Kitchen',\n",
       "  {'entities': [(13, 21, 'role'), (25, 38, 'movie')]}),\n",
       " ('Tell me the performer behind The 5th Quarter',\n",
       "  {'entities': [(12, 21, 'role'), (29, 44, 'movie')]}),\n",
       " ('Tell me the actor for Díra u Hanušovic',\n",
       "  {'entities': [(12, 17, 'role'), (22, 38, 'movie')]}),\n",
       " ('Tell me the cast of I, Olga Hepnarová',\n",
       "  {'entities': [(12, 16, 'role'), (20, 37, 'movie')]}),\n",
       " (\"What is the cast member's name for the movie Big Eyes?\",\n",
       "  {'entities': [(12, 23, 'role'), (45, 53, 'movie')]}),\n",
       " ('Who director in Pee Mak?',\n",
       "  {'entities': [(4, 12, 'role'), (16, 23, 'movie'), (4, 10, 'action')]}),\n",
       " ('Who directed An Earthly Paradise For The Eyes?',\n",
       "  {'entities': [(13, 45, 'movie'), (4, 12, 'action'), (4, 10, 'action')]}),\n",
       " ('Who wrote the movie Ip Man: The Final Fight?',\n",
       "  {'entities': [(20, 43, 'movie'), (4, 9, 'action')]}),\n",
       " (\"Who is the developer of Let's Get Lost?\",\n",
       "  {'entities': [(11, 20, 'role'), (24, 38, 'movie')]}),\n",
       " ('Who is the film editor of the film Badges of Fury?',\n",
       "  {'entities': [(11, 22, 'role'), (35, 49, 'movie'), (16, 20, 'action')]}),\n",
       " ('Who oversaw the making of The Bait', {'entities': [(26, 34, 'movie')]}),\n",
       " (\"Who was in charge of directing Don't Go Breaking My Heart?\",\n",
       "  {'entities': [(31, 57, 'movie'), (21, 27, 'action')]}),\n",
       " ('Who was the choreographer of Akame 48 Waterfalls',\n",
       "  {'entities': [(12, 25, 'role'), (29, 48, 'movie')]}),\n",
       " ('Give me the art director of Christ Stopped at Eboli',\n",
       "  {'entities': [(12, 24, 'role'), (28, 51, 'movie'), (16, 22, 'action')]}),\n",
       " ('Give me the name of the author of Kagero-za',\n",
       "  {'entities': [(24, 30, 'role'), (34, 43, 'movie')]}),\n",
       " (\"I'd like to know the presenter's name for A True Mob Story\",\n",
       "  {'entities': [(21, 30, 'role'), (42, 58, 'movie')]}),\n",
       " (\"I'm curious about the person who directed Shanghai Grand\",\n",
       "  {'entities': [(42, 56, 'movie'), (33, 41, 'action'), (33, 39, 'action')]}),\n",
       " ('Identify the animator of Chromophobia',\n",
       "  {'entities': [(13, 21, 'role'), (25, 37, 'movie')]}),\n",
       " ('Tell me the creator behind Lee Rock',\n",
       "  {'entities': [(12, 19, 'role'), (27, 35, 'movie')]}),\n",
       " ('Tell me the participant for Chrysalis',\n",
       "  {'entities': [(12, 23, 'role'), (28, 37, 'movie')]}),\n",
       " ('Tell me the member of the crew of of The House of Smiles',\n",
       "  {'entities': [(12, 33, 'role'), (37, 56, 'movie')]}),\n",
       " (\"What is the voice actor's name for the movie Woman Sesame Oil Maker?\",\n",
       "  {'entities': [(12, 23, 'role'), (45, 67, 'movie')]}),\n",
       " ('Who publisher in Unknown Chaplin?',\n",
       "  {'entities': [(4, 13, 'role'), (17, 32, 'movie')]}),\n",
       " ('Who wrote Blood of the Innocent?',\n",
       "  {'entities': [(10, 31, 'movie'), (4, 9, 'action')]}),\n",
       " ('Who directed the movie Vlad?',\n",
       "  {'entities': [(23, 27, 'movie'), (4, 12, 'action'), (4, 10, 'action')]}),\n",
       " ('Who is the performer of Sophie?',\n",
       "  {'entities': [(11, 20, 'role'), (24, 30, 'movie')]}),\n",
       " ('Who is the actor of the film Escape?',\n",
       "  {'entities': [(11, 16, 'role'), (29, 35, 'movie')]}),\n",
       " ('Who oversaw the making of Concrete Blondes',\n",
       "  {'entities': [(26, 42, 'movie')]}),\n",
       " ('Who was in charge of directing A Few Good Men?',\n",
       "  {'entities': [(31, 45, 'movie'), (21, 27, 'action')]}),\n",
       " ('Who was the director of Born to Kill',\n",
       "  {'entities': [(12, 20, 'role'), (24, 36, 'movie'), (12, 18, 'action')]}),\n",
       " ('Give me the screenwriter of Min and Bill',\n",
       "  {'entities': [(12, 24, 'role'), (28, 40, 'movie')]}),\n",
       " ('Give me the name of the producer of Return to Horror High',\n",
       "  {'entities': [(24, 32, 'role'), (36, 57, 'movie'), (24, 31, 'action')]}),\n",
       " (\"I'd like to know the developer's name for Big Trouble\",\n",
       "  {'entities': [(21, 30, 'role'), (42, 53, 'movie')]}),\n",
       " (\"I'm curious about the person who wrote Flying Swords of Dragon Gate\",\n",
       "  {'entities': [(39, 67, 'movie'), (33, 38, 'action')]}),\n",
       " ('Identify the director of photography of Skagerrak',\n",
       "  {'entities': [(13, 36, 'role'), (40, 49, 'movie'), (13, 19, 'action')]}),\n",
       " ('Tell me the film crew member behind Children of the Century',\n",
       "  {'entities': [(12, 28, 'role'), (36, 59, 'movie')]}),\n",
       " ('Tell me the choreographer for Moshidora',\n",
       "  {'entities': [(12, 25, 'role'), (30, 39, 'movie')]}),\n",
       " ('Tell me the art director of Kikujiro',\n",
       "  {'entities': [(12, 24, 'role'), (28, 36, 'movie'), (16, 22, 'action')]}),\n",
       " (\"What is the author's name for the movie Marked for Death?\",\n",
       "  {'entities': [(12, 18, 'role'), (40, 56, 'movie')]}),\n",
       " ('Who presenter in Evening?',\n",
       "  {'entities': [(4, 13, 'role'), (17, 24, 'movie')]}),\n",
       " ('Who directed Showtime?',\n",
       "  {'entities': [(13, 21, 'movie'), (4, 12, 'action'), (4, 10, 'action')]}),\n",
       " ('Who wrote the movie Circus?',\n",
       "  {'entities': [(20, 26, 'movie'), (4, 9, 'action')]}),\n",
       " ('Who is the creator of Circus World?',\n",
       "  {'entities': [(11, 18, 'role'), (22, 34, 'movie')]}),\n",
       " ('Who is the participant of the film Black Snow?',\n",
       "  {'entities': [(11, 22, 'role'), (35, 45, 'movie')]}),\n",
       " ('Who oversaw the making of The Adventurers',\n",
       "  {'entities': [(26, 41, 'movie')]}),\n",
       " ('Who was in charge of directing Howling III?',\n",
       "  {'entities': [(31, 42, 'movie'), (21, 27, 'action')]}),\n",
       " ('Who was the publisher of Mulholland Falls',\n",
       "  {'entities': [(12, 21, 'role'), (25, 41, 'movie')]}),\n",
       " ('Give me the musical conductor of Double Tap',\n",
       "  {'entities': [(12, 29, 'role'), (33, 43, 'movie')]}),\n",
       " ('Give me the name of the operator of Almost Human',\n",
       "  {'entities': [(24, 32, 'role'), (36, 48, 'movie')]}),\n",
       " (\"I'd like to know the performer's name for Big Fish & Begonia\",\n",
       "  {'entities': [(21, 30, 'role'), (42, 60, 'movie')]}),\n",
       " (\"I'm curious about the person who directed The Rooftop\",\n",
       "  {'entities': [(42, 53, 'movie'), (33, 41, 'action'), (33, 39, 'action')]}),\n",
       " ('Identify the cast of City of Ghosts',\n",
       "  {'entities': [(13, 17, 'role'), (21, 35, 'movie')]}),\n",
       " ('Tell me the cast member behind The Tall Blond Man with One Black Shoe',\n",
       "  {'entities': [(12, 23, 'role'), (31, 69, 'movie')]}),\n",
       " ('Tell me the director for Yuva',\n",
       "  {'entities': [(12, 20, 'role'), (25, 29, 'movie'), (12, 18, 'action')]}),\n",
       " ('Tell me the screenwriter of Battle of Warsaw 1920',\n",
       "  {'entities': [(12, 24, 'role'), (28, 49, 'movie')]}),\n",
       " (\"What is the producer's name for the movie Suicide Room?\",\n",
       "  {'entities': [(12, 20, 'role'), (42, 54, 'movie'), (12, 19, 'action')]}),\n",
       " ('Who developer in Little Moscow?',\n",
       "  {'entities': [(4, 13, 'role'), (17, 30, 'movie')]}),\n",
       " ('Who wrote Rope?', {'entities': [(10, 14, 'movie'), (4, 9, 'action')]}),\n",
       " ('Who directed the movie Tiny Times?',\n",
       "  {'entities': [(23, 33, 'movie'), (4, 12, 'action'), (4, 10, 'action')]}),\n",
       " ('Who is the film crew member of The Malay Chronicles: Bloodlines?',\n",
       "  {'entities': [(11, 27, 'role'), (31, 63, 'movie')]}),\n",
       " ('Who is the choreographer of the film Kokoda?',\n",
       "  {'entities': [(11, 24, 'role'), (37, 43, 'movie')]}),\n",
       " ('Who oversaw the making of Indie Game: The Movie',\n",
       "  {'entities': [(26, 47, 'movie')]}),\n",
       " ('Who was in charge of directing Vishwanatha Nayakudu?',\n",
       "  {'entities': [(31, 51, 'movie'), (21, 27, 'action')]}),\n",
       " ('Who was the presenter of Go Go Tales',\n",
       "  {'entities': [(12, 21, 'role'), (25, 36, 'movie')]}),\n",
       " ('Give me the narrator of Hello Mary Lou: Prom Night II',\n",
       "  {'entities': [(12, 20, 'role'), (24, 53, 'movie')]}),\n",
       " ('Give me the name of the animator of Trekkies',\n",
       "  {'entities': [(24, 32, 'role'), (36, 44, 'movie')]}),\n",
       " (\"I'd like to know the creator's name for Do Anjaane\",\n",
       "  {'entities': [(21, 28, 'role'), (40, 50, 'movie')]}),\n",
       " (\"I'm curious about the person who wrote Cleaner\",\n",
       "  {'entities': [(39, 46, 'movie'), (33, 38, 'action')]}),\n",
       " ('Identify the member of the crew of of Mausam',\n",
       "  {'entities': [(13, 34, 'role'), (38, 44, 'movie')]}),\n",
       " ('Tell me the voice actor behind Insaaf Ka Tarazu',\n",
       "  {'entities': [(12, 23, 'role'), (31, 47, 'movie')]}),\n",
       " ('Tell me the publisher for Life Without Principle',\n",
       "  {'entities': [(12, 21, 'role'), (26, 48, 'movie')]}),\n",
       " ('Tell me the musical conductor of Venghai',\n",
       "  {'entities': [(12, 29, 'role'), (33, 40, 'movie')]}),\n",
       " (\"What is the operator's name for the movie Veppam?\",\n",
       "  {'entities': [(12, 20, 'role'), (42, 48, 'movie')]}),\n",
       " ('Who performer in Cleopatra?',\n",
       "  {'entities': [(4, 13, 'role'), (17, 26, 'movie')]}),\n",
       " ('Who directed Macao?',\n",
       "  {'entities': [(13, 18, 'movie'), (4, 12, 'action'), (4, 10, 'action')]}),\n",
       " ('Who wrote the movie Clockwise?',\n",
       "  {'entities': [(20, 29, 'movie'), (4, 9, 'action')]}),\n",
       " ('Who is the cast member of Mashaal?',\n",
       "  {'entities': [(11, 22, 'role'), (26, 33, 'movie')]}),\n",
       " ('Who is the director of the film Closet Land?',\n",
       "  {'entities': [(11, 19, 'role'), (32, 43, 'movie'), (11, 17, 'action')]}),\n",
       " ('Who oversaw the making of Closing the Ring',\n",
       "  {'entities': [(26, 42, 'movie')]}),\n",
       " ('Who was in charge of directing Club Dread?',\n",
       "  {'entities': [(31, 41, 'movie'), (21, 27, 'action')]}),\n",
       " ('Who was the developer of Club Paradise',\n",
       "  {'entities': [(12, 21, 'role'), (25, 38, 'movie')]}),\n",
       " ('Give me the film editor of A Thousand Words',\n",
       "  {'entities': [(12, 23, 'role'), (27, 43, 'movie'), (17, 21, 'action')]}),\n",
       " ('Give me the name of the director of photography of Flickering Lights',\n",
       "  {'entities': [(24, 47, 'role'), (51, 68, 'movie'), (24, 30, 'action')]}),\n",
       " (\"I'd like to know the film crew member's name for Coach Carter\",\n",
       "  {'entities': [(21, 37, 'role'), (49, 61, 'movie')]}),\n",
       " (\"I'm curious about the person who directed Chasing Papi\",\n",
       "  {'entities': [(42, 54, 'movie'), (33, 41, 'action'), (33, 39, 'action')]}),\n",
       " ('Identify the art director of Ghatak: Lethal',\n",
       "  {'entities': [(13, 25, 'role'), (29, 43, 'movie'), (17, 23, 'action')]}),\n",
       " ('Tell me the author behind Code 46',\n",
       "  {'entities': [(12, 18, 'role'), (26, 33, 'movie')]}),\n",
       " ('Tell me the presenter for Code Name: The Cleaner',\n",
       "  {'entities': [(12, 21, 'role'), (26, 48, 'movie')]}),\n",
       " ('Tell me the narrator of Dev',\n",
       "  {'entities': [(12, 20, 'role'), (24, 27, 'movie')]}),\n",
       " (\"What is the animator's name for the movie Nights on the Road?\",\n",
       "  {'entities': [(12, 20, 'role'), (42, 60, 'movie')]}),\n",
       " ('Who creator in The Street with No Name?',\n",
       "  {'entities': [(4, 11, 'role'), (15, 38, 'movie')]}),\n",
       " ('Who wrote Nobel Son?', {'entities': [(10, 19, 'movie'), (4, 9, 'action')]}),\n",
       " ('Who directed the movie When the Sea Rises?',\n",
       "  {'entities': [(23, 41, 'movie'), (4, 12, 'action'), (4, 10, 'action')]}),\n",
       " ('Who is the voice actor of Yuppi du?',\n",
       "  {'entities': [(11, 22, 'role'), (26, 34, 'movie')]}),\n",
       " ('Who is the publisher of the film Le Marginal?',\n",
       "  {'entities': [(11, 20, 'role'), (33, 44, 'movie')]}),\n",
       " ('Who oversaw the making of Coldblooded', {'entities': [(26, 37, 'movie')]}),\n",
       " ('Who was in charge of directing Cold Fever?',\n",
       "  {'entities': [(31, 41, 'movie'), (21, 27, 'action')]}),\n",
       " ('Who was the performer of Cold Creek Manor',\n",
       "  {'entities': [(12, 21, 'role'), (25, 41, 'movie')]}),\n",
       " ('Give me the actor of Cold Prey 2',\n",
       "  {'entities': [(12, 17, 'role'), (21, 32, 'movie')]}),\n",
       " ('Give me the name of the cast of As the Light Goes Out',\n",
       "  {'entities': [(24, 28, 'role'), (32, 53, 'movie')]}),\n",
       " (\"I'd like to know the cast member's name for Jonah Who Lived in the Whale\",\n",
       "  {'entities': [(21, 32, 'role'), (44, 72, 'movie')]}),\n",
       " (\"I'm curious about the person who wrote College Road Trip\",\n",
       "  {'entities': [(39, 56, 'movie'), (33, 38, 'action')]}),\n",
       " ('Identify the screenwriter of Sherlock Holmes',\n",
       "  {'entities': [(13, 25, 'role'), (29, 44, 'movie')]}),\n",
       " ('Tell me the producer behind Tere Naam',\n",
       "  {'entities': [(12, 20, 'role'), (28, 37, 'movie'), (12, 19, 'action')]}),\n",
       " ('Tell me the developer for Fled',\n",
       "  {'entities': [(12, 21, 'role'), (26, 30, 'movie')]}),\n",
       " ('Tell me the film editor of The Five Pennies',\n",
       "  {'entities': [(12, 23, 'role'), (27, 43, 'movie'), (17, 21, 'action')]}),\n",
       " (\"What is the director of photography's name for the movie Off Beat?\",\n",
       "  {'entities': [(12, 35, 'role'), (57, 65, 'movie'), (12, 18, 'action')]}),\n",
       " ('Who film crew member in Color of Night?',\n",
       "  {'entities': [(4, 20, 'role'), (24, 38, 'movie')]}),\n",
       " ('Who directed Colors?',\n",
       "  {'entities': [(13, 19, 'movie'), (4, 12, 'action'), (4, 10, 'action')]}),\n",
       " ('Who wrote the movie Babes in Toyland?',\n",
       "  {'entities': [(20, 36, 'movie'), (4, 9, 'action')]}),\n",
       " ('Who is the author of High Crimes?',\n",
       "  {'entities': [(11, 17, 'role'), (21, 32, 'movie')]}),\n",
       " ('Who is the presenter of the film Sunshine Cleaning?',\n",
       "  {'entities': [(11, 20, 'role'), (33, 50, 'movie')]}),\n",
       " ('Who oversaw the making of Hellsinki', {'entities': [(26, 35, 'movie')]}),\n",
       " (\"Who was in charge of directing I Don't Speak English?\",\n",
       "  {'entities': [(31, 52, 'movie'), (21, 27, 'action')]}),\n",
       " ('Who was the creator of Them',\n",
       "  {'entities': [(12, 19, 'role'), (23, 27, 'movie')]}),\n",
       " ('Give me the participant of Rigor Mortis',\n",
       "  {'entities': [(12, 23, 'role'), (27, 39, 'movie')]}),\n",
       " ('Give me the name of the member of the crew of of The Dancer Upstairs',\n",
       "  {'entities': [(24, 45, 'role'), (49, 68, 'movie')]}),\n",
       " (\"I'd like to know the voice actor's name for Curiosity Kills the Cat\",\n",
       "  {'entities': [(21, 32, 'role'), (44, 67, 'movie')]}),\n",
       " (\"I'm curious about the person who directed Comandante\",\n",
       "  {'entities': [(42, 52, 'movie'), (33, 41, 'action'), (33, 39, 'action')]}),\n",
       " (\"Identify the musical conductor of I'll Be There\",\n",
       "  {'entities': [(13, 30, 'role'), (34, 47, 'movie')]}),\n",
       " ('Tell me the operator behind The Island',\n",
       "  {'entities': [(12, 20, 'role'), (28, 38, 'movie')]}),\n",
       " ('Tell me the performer for Tender Mercies',\n",
       "  {'entities': [(12, 21, 'role'), (26, 40, 'movie')]}),\n",
       " ('Tell me the actor of Nouvelle Vague',\n",
       "  {'entities': [(12, 17, 'role'), (21, 35, 'movie')]}),\n",
       " (\"What is the cast's name for the movie The Chronicle of Anna Magdalena Bach?\",\n",
       "  {'entities': [(12, 16, 'role'), (38, 74, 'movie')]}),\n",
       " ('Who cast member in Career Opportunities?',\n",
       "  {'entities': [(4, 15, 'role'), (19, 39, 'movie')]}),\n",
       " ('Who wrote Naayika?', {'entities': [(10, 17, 'movie'), (4, 9, 'action')]}),\n",
       " ('Who directed the movie Overnight Delivery?',\n",
       "  {'entities': [(23, 41, 'movie'), (4, 12, 'action'), (4, 10, 'action')]}),\n",
       " ('Who is the producer of Cougar Club?',\n",
       "  {'entities': [(11, 19, 'role'), (23, 34, 'movie'), (11, 18, 'action')]}),\n",
       " ('Who is the developer of the film The Cruelest Day?',\n",
       "  {'entities': [(11, 20, 'role'), (33, 49, 'movie')]}),\n",
       " ('Who oversaw the making of The Mourning Forest',\n",
       "  {'entities': [(26, 45, 'movie')]}),\n",
       " ('Who was in charge of directing A No-Hit No-Run Summer?',\n",
       "  {'entities': [(31, 53, 'movie'), (21, 27, 'action')]}),\n",
       " ('Who was the film crew member of The Liberator',\n",
       "  {'entities': [(12, 28, 'role'), (32, 45, 'movie')]}),\n",
       " ('Give me the choreographer of Foolish Wives',\n",
       "  {'entities': [(12, 25, 'role'), (29, 42, 'movie')]}),\n",
       " ('Give me the name of the art director of Something New',\n",
       "  {'entities': [(24, 36, 'role'), (40, 53, 'movie'), (28, 34, 'action')]}),\n",
       " (\"I'd like to know the author's name for Down to Earth\",\n",
       "  {'entities': [(21, 27, 'role'), (39, 52, 'movie')]}),\n",
       " (\"I'm curious about the person who wrote The Woman Next Door\",\n",
       "  {'entities': [(39, 58, 'movie'), (33, 38, 'action')]}),\n",
       " ('Identify the narrator of Rachel Getting Married',\n",
       "  {'entities': [(13, 21, 'role'), (25, 47, 'movie')]}),\n",
       " (\"Tell me the animator behind The Emperor's New Clothes\",\n",
       "  {'entities': [(12, 20, 'role'), (28, 53, 'movie')]}),\n",
       " ('Tell me the creator for Dawson Isla 10',\n",
       "  {'entities': [(12, 19, 'role'), (24, 38, 'movie')]}),\n",
       " ('Tell me the participant of The Hireling',\n",
       "  {'entities': [(12, 23, 'role'), (27, 39, 'movie')]}),\n",
       " (\"What is the member of the crew of's name for the movie Ronda nocturna?\",\n",
       "  {'entities': [(12, 33, 'role'), (55, 69, 'movie')]}),\n",
       " ('Who voice actor in The Four-Faced Liar?',\n",
       "  {'entities': [(4, 15, 'role'), (19, 38, 'movie')]}),\n",
       " ('Who directed Garm Wars: The Last Druid?',\n",
       "  {'entities': [(13, 38, 'movie'), (4, 12, 'action'), (4, 10, 'action')]}),\n",
       " ('Who wrote the movie Dead Space: Downfall?',\n",
       "  {'entities': [(20, 40, 'movie'), (4, 9, 'action')]}),\n",
       " ('Who is the operator of The Body?',\n",
       "  {'entities': [(11, 19, 'role'), (23, 31, 'movie')]}),\n",
       " ('Who is the performer of the film Forgotten?',\n",
       "  {'entities': [(11, 20, 'role'), (33, 42, 'movie')]}),\n",
       " ('Who oversaw the making of Saratoga Trunk',\n",
       "  {'entities': [(26, 40, 'movie')]}),\n",
       " ('Who was in charge of directing The War of the Roses?',\n",
       "  {'entities': [(31, 51, 'movie'), (21, 27, 'action')]}),\n",
       " ('Who was the cast member of Nameless Gangster',\n",
       "  {'entities': [(12, 23, 'role'), (27, 44, 'movie')]}),\n",
       " ('Give me the director of Definitely, Maybe',\n",
       "  {'entities': [(12, 20, 'role'), (24, 41, 'movie'), (12, 18, 'action')]}),\n",
       " ('Give me the name of the screenwriter of Soul Men',\n",
       "  {'entities': [(24, 36, 'role'), (40, 48, 'movie')]}),\n",
       " (\"I'd like to know the producer's name for Nidra\",\n",
       "  {'entities': [(21, 29, 'role'), (41, 46, 'movie'), (21, 28, 'action')]}),\n",
       " (\"I'm curious about the person who directed Mogambo\",\n",
       "  {'entities': [(42, 49, 'movie'), (33, 41, 'action'), (33, 39, 'action')]}),\n",
       " ('Identify the film editor of Denis',\n",
       "  {'entities': [(13, 24, 'role'), (28, 33, 'movie'), (18, 22, 'action')]}),\n",
       " ('Tell me the director of photography behind Born Romantic',\n",
       "  {'entities': [(12, 35, 'role'), (43, 56, 'movie'), (12, 18, 'action')]}),\n",
       " ('Tell me the film crew member for Me and the Kid',\n",
       "  {'entities': [(12, 28, 'role'), (33, 47, 'movie')]}),\n",
       " ('Tell me the choreographer of NECK',\n",
       "  {'entities': [(12, 25, 'role'), (29, 33, 'movie')]}),\n",
       " (\"What is the art director's name for the movie The Number 23?\",\n",
       "  {'entities': [(12, 24, 'role'), (46, 59, 'movie'), (16, 22, 'action')]}),\n",
       " ('Who author in Live Free or Die?',\n",
       "  {'entities': [(4, 10, 'role'), (14, 30, 'movie')]}),\n",
       " ('Who wrote Hidden Agenda?',\n",
       "  {'entities': [(10, 23, 'movie'), (4, 9, 'action')]}),\n",
       " ('Who directed the movie Brotherhood of the Wolf?',\n",
       "  {'entities': [(23, 46, 'movie'), (4, 12, 'action'), (4, 10, 'action')]}),\n",
       " ('Who is the animator of Prime?',\n",
       "  {'entities': [(11, 19, 'role'), (23, 28, 'movie')]}),\n",
       " ('Who is the creator of the film Double Zero?',\n",
       "  {'entities': [(11, 18, 'role'), (31, 42, 'movie')]}),\n",
       " ('Who oversaw the making of Hide and Seek',\n",
       "  {'entities': [(26, 39, 'movie')]}),\n",
       " ('Who was in charge of directing Horror Stories?',\n",
       "  {'entities': [(31, 45, 'movie'), (21, 27, 'action')]}),\n",
       " ('Who was the voice actor of Condorman',\n",
       "  {'entities': [(12, 23, 'role'), (27, 36, 'movie')]}),\n",
       " ('Give me the publisher of Frankenhooker',\n",
       "  {'entities': [(12, 21, 'role'), (25, 38, 'movie')]}),\n",
       " ('Give me the name of the musical conductor of Six Days Seven Nights',\n",
       "  {'entities': [(24, 41, 'role'), (45, 66, 'movie')]}),\n",
       " (\"I'd like to know the operator's name for Tightrope\",\n",
       "  {'entities': [(21, 29, 'role'), (41, 50, 'movie')]}),\n",
       " (\"I'm curious about the person who wrote Louise Hires a Contract Killer\",\n",
       "  {'entities': [(39, 69, 'movie'), (33, 38, 'action')]}),\n",
       " ('Identify the actor of The Day of the Dolphin',\n",
       "  {'entities': [(13, 18, 'role'), (22, 44, 'movie')]}),\n",
       " ('Tell me the cast behind Hana-bi',\n",
       "  {'entities': [(12, 16, 'role'), (24, 31, 'movie')]}),\n",
       " ('Tell me the cast member for Kill Theory',\n",
       "  {'entities': [(12, 23, 'role'), (28, 39, 'movie')]}),\n",
       " ('Tell me the director of Le cousin',\n",
       "  {'entities': [(12, 20, 'role'), (24, 33, 'movie'), (12, 18, 'action')]}),\n",
       " (\"What is the screenwriter's name for the movie The Geisha House?\",\n",
       "  {'entities': [(12, 24, 'role'), (46, 62, 'movie')]}),\n",
       " ('Who producer in Replay?',\n",
       "  {'entities': [(4, 12, 'role'), (16, 22, 'movie'), (4, 11, 'action')]}),\n",
       " ('Who directed Wonderland?',\n",
       "  {'entities': [(13, 23, 'movie'), (4, 12, 'action'), (4, 10, 'action')]}),\n",
       " ('Who wrote the movie Connie and Carla?',\n",
       "  {'entities': [(20, 36, 'movie'), (4, 9, 'action')]}),\n",
       " (\"Who is the director of photography of Connors' War?\",\n",
       "  {'entities': [(11, 34, 'role'), (38, 50, 'movie'), (11, 17, 'action')]}),\n",
       " ('Who is the film crew member of the film Conquest?',\n",
       "  {'entities': [(11, 27, 'role'), (40, 48, 'movie')]}),\n",
       " ('Who oversaw the making of Casualties of War',\n",
       "  {'entities': [(26, 43, 'movie')]}),\n",
       " ('Who was in charge of directing Husbands in Goa?',\n",
       "  {'entities': [(31, 46, 'movie'), (21, 27, 'action')]}),\n",
       " ('Who was the author of The Colonel',\n",
       "  {'entities': [(12, 18, 'role'), (22, 33, 'movie')]}),\n",
       " ('Give me the presenter of Crane',\n",
       "  {'entities': [(12, 21, 'role'), (25, 30, 'movie')]}),\n",
       " ('Give me the name of the narrator of Dark City',\n",
       "  {'entities': [(24, 32, 'role'), (36, 45, 'movie')]}),\n",
       " (\"I'd like to know the animator's name for God Is Great and I'm Not\",\n",
       "  {'entities': [(21, 29, 'role'), (41, 65, 'movie')]}),\n",
       " (\"I'm curious about the person who directed Trouble with the Curve\",\n",
       "  {'entities': [(42, 64, 'movie'), (33, 41, 'action'), (33, 39, 'action')]}),\n",
       " ('Identify the participant of My Gal Sal',\n",
       "  {'entities': [(13, 24, 'role'), (28, 38, 'movie')]}),\n",
       " ('Tell me the member of the crew of behind True Romance',\n",
       "  {'entities': [(12, 33, 'role'), (41, 53, 'movie')]}),\n",
       " ('Tell me the voice actor for Queen to Play',\n",
       "  {'entities': [(12, 23, 'role'), (28, 41, 'movie')]}),\n",
       " (\"Tell me the publisher of It's Not Me, I Swear!\",\n",
       "  {'entities': [(12, 21, 'role'), (25, 46, 'movie')]}),\n",
       " (\"What is the musical conductor's name for the movie Colour Me Kubrick?\",\n",
       "  {'entities': [(12, 29, 'role'), (51, 68, 'movie')]}),\n",
       " ('Who operator in Year One?',\n",
       "  {'entities': [(4, 12, 'role'), (16, 24, 'movie')]}),\n",
       " ('Who wrote Daybreakers?',\n",
       "  {'entities': [(10, 21, 'movie'), (4, 9, 'action')]}),\n",
       " ('Who directed the movie The Black Orchid?',\n",
       "  {'entities': [(23, 39, 'movie'), (4, 12, 'action'), (4, 10, 'action')]}),\n",
       " ('Who is the cast of Hall Pass?',\n",
       "  {'entities': [(11, 15, 'role'), (19, 28, 'movie')]}),\n",
       " ('Who is the cast member of the film Crazy Heart?',\n",
       "  {'entities': [(11, 22, 'role'), (35, 46, 'movie')]}),\n",
       " ('Who oversaw the making of The Girl in the Park',\n",
       "  {'entities': [(26, 46, 'movie')]}),\n",
       " ('Who was in charge of directing I Love You Phillip Morris?',\n",
       "  {'entities': [(31, 56, 'movie'), (21, 27, 'action')]}),\n",
       " ('Who was the producer of Contraband',\n",
       "  {'entities': [(12, 20, 'role'), (24, 34, 'movie'), (12, 19, 'action')]}),\n",
       " ('Give me the developer of Control',\n",
       "  {'entities': [(12, 21, 'role'), (25, 32, 'movie')]}),\n",
       " ('Give me the name of the film editor of Control',\n",
       "  {'entities': [(24, 35, 'role'), (39, 46, 'movie'), (29, 33, 'action')]}),\n",
       " (\"I'd like to know the director of photography's name for Make the Yuletide Gay\",\n",
       "  {'entities': [(21, 44, 'role'), (56, 77, 'movie'), (21, 27, 'action')]}),\n",
       " (\"I'm curious about the person who wrote Barnyard\",\n",
       "  {'entities': [(39, 47, 'movie'), (33, 38, 'action')]}),\n",
       " ('Identify the choreographer of Push',\n",
       "  {'entities': [(13, 26, 'role'), (30, 34, 'movie')]}),\n",
       " ('Tell me the art director behind The Convent',\n",
       "  {'entities': [(12, 24, 'role'), (32, 43, 'movie'), (16, 22, 'action')]}),\n",
       " ('Tell me the author for The Milk of Sorrow',\n",
       "  {'entities': [(12, 18, 'role'), (23, 41, 'movie')]}),\n",
       " ('Tell me the presenter of Conversations with Other Women',\n",
       "  {'entities': [(12, 21, 'role'), (25, 55, 'movie')]}),\n",
       " (\"What is the narrator's name for the movie Tangled?\",\n",
       "  {'entities': [(12, 20, 'role'), (42, 49, 'movie')]}),\n",
       " ('Who animator in Norbit?',\n",
       "  {'entities': [(4, 12, 'role'), (16, 22, 'movie')]}),\n",
       " ('Who directed Cookie?',\n",
       "  {'entities': [(13, 19, 'movie'), (4, 12, 'action'), (4, 10, 'action')]}),\n",
       " ('Who wrote the movie Cooking History?',\n",
       "  {'entities': [(20, 35, 'movie'), (4, 9, 'action')]}),\n",
       " (\"Who is the member of the crew of of Goya's Ghosts?\",\n",
       "  {'entities': [(11, 32, 'role'), (36, 49, 'movie')]}),\n",
       " ('Who is the voice actor of the film East of Eden?',\n",
       "  {'entities': [(11, 22, 'role'), (35, 47, 'movie')]}),\n",
       " ('Who oversaw the making of The Double Life of Véronique',\n",
       "  {'entities': [(26, 54, 'movie')]}),\n",
       " ('Who was in charge of directing The Skin I Live In?',\n",
       "  {'entities': [(31, 49, 'movie'), (21, 27, 'action')]}),\n",
       " ('Who was the operator of Of Gods and Men',\n",
       "  {'entities': [(12, 20, 'role'), (24, 39, 'movie')]}),\n",
       " ('Give me the performer of Come and See',\n",
       "  {'entities': [(12, 21, 'role'), (25, 37, 'movie')]}),\n",
       " ('Give me the name of the actor of Saidoweizu',\n",
       "  {'entities': [(24, 29, 'role'), (33, 43, 'movie')]}),\n",
       " (\"I'd like to know the cast's name for The 9th Company\",\n",
       "  {'entities': [(21, 25, 'role'), (37, 52, 'movie')]}),\n",
       " (\"I'm curious about the person who directed Elizabethtown\",\n",
       "  {'entities': [(42, 55, 'movie'), (33, 41, 'action'), (33, 39, 'action')]}),\n",
       " ('Identify the director of The Rite',\n",
       "  {'entities': [(13, 21, 'role'), (25, 33, 'movie'), (13, 19, 'action')]}),\n",
       " ('Tell me the screenwriter behind Far from Heaven',\n",
       "  {'entities': [(12, 24, 'role'), (32, 47, 'movie')]}),\n",
       " ('Tell me the producer for Mammuth',\n",
       "  {'entities': [(12, 20, 'role'), (25, 32, 'movie'), (12, 19, 'action')]}),\n",
       " ('Tell me the developer of The Merry Widow',\n",
       "  {'entities': [(12, 21, 'role'), (25, 40, 'movie')]}),\n",
       " (\"What is the film editor's name for the movie The Slammin' Salmon?\",\n",
       "  {'entities': [(12, 23, 'role'), (45, 64, 'movie'), (17, 21, 'action')]}),\n",
       " ('Who director of photography in Suddenly, Last Summer?',\n",
       "  {'entities': [(4, 27, 'role'), (31, 52, 'movie'), (4, 10, 'action')]}),\n",
       " ('Who wrote P.S. Your Cat Is Dead?',\n",
       "  {'entities': [(10, 31, 'movie'), (4, 9, 'action')]}),\n",
       " ('Who directed the movie The Hot Chick?',\n",
       "  {'entities': [(23, 36, 'movie'), (4, 12, 'action'), (4, 10, 'action')]}),\n",
       " ('Who is the art director of Showdown in Seoul?',\n",
       "  {'entities': [(11, 23, 'role'), (27, 44, 'movie'), (15, 21, 'action')]}),\n",
       " ('Who is the author of the film Cops & Robbersons?',\n",
       "  {'entities': [(11, 17, 'role'), (30, 47, 'movie')]}),\n",
       " ('Who oversaw the making of Rollover', {'entities': [(26, 34, 'movie')]}),\n",
       " ('Who was in charge of directing Capturing Dad?',\n",
       "  {'entities': [(31, 44, 'movie'), (21, 27, 'action')]}),\n",
       " ('Who was the animator of Warlock: The Armageddon',\n",
       "  {'entities': [(12, 20, 'role'), (24, 47, 'movie')]}),\n",
       " ('Give me the creator of Demons of War',\n",
       "  {'entities': [(12, 19, 'role'), (23, 36, 'movie')]}),\n",
       " ('Give me the name of the participant of Green Street',\n",
       "  {'entities': [(24, 35, 'role'), (39, 51, 'movie')]}),\n",
       " (\"I'd like to know the member of the crew of's name for Sri Rama Rajyam\",\n",
       "  {'entities': [(21, 42, 'role'), (54, 69, 'movie')]}),\n",
       " (\"I'm curious about the person who wrote The Wedding Singer\",\n",
       "  {'entities': [(39, 57, 'movie'), (33, 38, 'action')]}),\n",
       " ('Identify the publisher of Red River',\n",
       "  {'entities': [(13, 22, 'role'), (26, 35, 'movie')]}),\n",
       " ('Tell me the musical conductor behind Three Lives and Only One Death',\n",
       "  {'entities': [(12, 29, 'role'), (37, 67, 'movie')]}),\n",
       " ('Tell me the operator for Green Snake',\n",
       "  {'entities': [(12, 20, 'role'), (25, 36, 'movie')]}),\n",
       " ('Tell me the performer of Freaks',\n",
       "  {'entities': [(12, 21, 'role'), (25, 31, 'movie')]}),\n",
       " (\"What is the actor's name for the movie Napoleon Dynamite?\",\n",
       "  {'entities': [(12, 17, 'role'), (39, 56, 'movie')]}),\n",
       " ('Who cast in Under the Hawthorn Tree?',\n",
       "  {'entities': [(4, 8, 'role'), (12, 35, 'movie')]}),\n",
       " ('Who directed Oskar & Josefine?',\n",
       "  {'entities': [(13, 29, 'movie'), (4, 12, 'action'), (4, 10, 'action')]}),\n",
       " ('Who wrote the movie The Whisperers?',\n",
       "  {'entities': [(20, 34, 'movie'), (4, 9, 'action')]}),\n",
       " ('Who is the screenwriter of The Sweetest Thing?',\n",
       "  {'entities': [(11, 23, 'role'), (27, 45, 'movie')]}),\n",
       " ('Who is the producer of the film The Profession of Arms?',\n",
       "  {'entities': [(11, 19, 'role'), (32, 54, 'movie'), (11, 18, 'action')]}),\n",
       " ('Who oversaw the making of Strays', {'entities': [(26, 32, 'movie')]}),\n",
       " ('Who was in charge of directing Ed?',\n",
       "  {'entities': [(31, 33, 'movie'), (21, 27, 'action')]}),\n",
       " ('Who was the director of photography of Magadheera',\n",
       "  {'entities': [(12, 35, 'role'), (39, 49, 'movie'), (12, 18, 'action')]}),\n",
       " ('Give me the film crew member of Vanishing Point',\n",
       "  {'entities': [(12, 28, 'role'), (32, 47, 'movie')]}),\n",
       " ('Give me the name of the choreographer of Little Maestra',\n",
       "  {'entities': [(24, 37, 'role'), (41, 55, 'movie')]}),\n",
       " (\"I'd like to know the art director's name for Invisible Target\",\n",
       "  {'entities': [(21, 33, 'role'), (45, 61, 'movie'), (25, 31, 'action')]}),\n",
       " (\"I'm curious about the person who directed Corrina, Corrina\",\n",
       "  {'entities': [(42, 58, 'movie'), (33, 41, 'action'), (33, 39, 'action')]}),\n",
       " ('Identify the presenter of The Corruptor',\n",
       "  {'entities': [(13, 22, 'role'), (26, 39, 'movie')]}),\n",
       " ('Tell me the narrator behind A Chinese Ghost Story',\n",
       "  {'entities': [(12, 20, 'role'), (28, 49, 'movie')]}),\n",
       " ('Tell me the animator for For Keeps',\n",
       "  {'entities': [(12, 20, 'role'), (25, 34, 'movie')]}),\n",
       " ('Tell me the creator of Ladyhawke',\n",
       "  {'entities': [(12, 19, 'role'), (23, 32, 'movie')]}),\n",
       " (\"What is the participant's name for the movie Contre-enquête?\",\n",
       "  {'entities': [(12, 23, 'role'), (45, 59, 'movie')]}),\n",
       " ('Who member of the crew of in Runaway Train?',\n",
       "  {'entities': [(4, 25, 'role'), (29, 42, 'movie')]}),\n",
       " ('Who wrote J. Edgar?', {'entities': [(10, 18, 'movie'), (4, 9, 'action')]}),\n",
       " ('Who directed the movie Country Strong?',\n",
       "  {'entities': [(23, 37, 'movie'), (4, 12, 'action'), (4, 10, 'action')]}),\n",
       " ('Who is the musical conductor of Jack Brooks: Monster Slayer?',\n",
       "  {'entities': [(11, 28, 'role'), (32, 59, 'movie')]}),\n",
       " ('Who is the operator of the film My Bloody Valentine 3D?',\n",
       "  {'entities': [(11, 19, 'role'), (32, 54, 'movie')]}),\n",
       " ('Who oversaw the making of Dirty', {'entities': [(26, 31, 'movie')]}),\n",
       " ('Who was in charge of directing Spice World?',\n",
       "  {'entities': [(31, 42, 'movie'), (21, 27, 'action')]}),\n",
       " ('Who was the cast of Sydney White',\n",
       "  {'entities': [(12, 16, 'role'), (20, 32, 'movie')]}),\n",
       " ('Give me the cast member of Hollywoodland',\n",
       "  {'entities': [(12, 23, 'role'), (27, 40, 'movie')]}),\n",
       " ('Give me the name of the director of Adrift in Tokyo',\n",
       "  {'entities': [(24, 32, 'role'), (36, 51, 'movie'), (24, 30, 'action')]}),\n",
       " (\"I'd like to know the screenwriter's name for Dance of the Dead\",\n",
       "  {'entities': [(21, 33, 'role'), (45, 62, 'movie')]}),\n",
       " (\"I'm curious about the person who wrote Cyborg She\",\n",
       "  {'entities': [(39, 49, 'movie'), (33, 38, 'action')]}),\n",
       " ('Identify the developer of Jackass Number Two',\n",
       "  {'entities': [(13, 22, 'role'), (26, 44, 'movie')]}),\n",
       " ('Tell me the film editor behind Poppoya',\n",
       "  {'entities': [(12, 23, 'role'), (31, 38, 'movie'), (17, 21, 'action')]}),\n",
       " ('Tell me the director of photography for That Obscure Object of Desire',\n",
       "  {'entities': [(12, 35, 'role'), (40, 69, 'movie'), (12, 18, 'action')]}),\n",
       " ('Tell me the film crew member of In Good Company',\n",
       "  {'entities': [(12, 28, 'role'), (32, 47, 'movie')]}),\n",
       " (\"What is the choreographer's name for the movie The Monitor?\",\n",
       "  {'entities': [(12, 25, 'role'), (47, 58, 'movie')]}),\n",
       " ('Who art director in The Goddess of 1967?',\n",
       "  {'entities': [(4, 16, 'role'), (20, 39, 'movie'), (8, 14, 'action')]}),\n",
       " ('Who directed Soldier?',\n",
       "  {'entities': [(13, 20, 'movie'), (4, 12, 'action'), (4, 10, 'action')]}),\n",
       " ('Who wrote the movie When in Rome?',\n",
       "  {'entities': [(20, 32, 'movie'), (4, 9, 'action')]}),\n",
       " ('Who is the narrator of The Robe?',\n",
       "  {'entities': [(11, 19, 'role'), (23, 31, 'movie')]}),\n",
       " ('Who is the animator of the film Top Hat?',\n",
       "  {'entities': [(11, 19, 'role'), (32, 39, 'movie')]}),\n",
       " ('Who oversaw the making of Venus in Fur', {'entities': [(26, 38, 'movie')]}),\n",
       " ('Who was in charge of directing Turistas?',\n",
       "  {'entities': [(31, 39, 'movie'), (21, 27, 'action')]}),\n",
       " ('Who was the member of the crew of of Crazy',\n",
       "  {'entities': [(12, 33, 'role'), (37, 42, 'movie')]}),\n",
       " ('Give me the voice actor of The Eye',\n",
       "  {'entities': [(12, 23, 'role'), (27, 34, 'movie')]}),\n",
       " ('Give me the name of the publisher of Fatal Instinct',\n",
       "  {'entities': [(24, 33, 'role'), (37, 51, 'movie')]}),\n",
       " (\"I'd like to know the musical conductor's name for Chasing Destiny\",\n",
       "  {'entities': [(21, 38, 'role'), (50, 65, 'movie')]}),\n",
       " (\"I'm curious about the person who directed StreetDance 2\",\n",
       "  {'entities': [(42, 55, 'movie'), (33, 41, 'action'), (33, 39, 'action')]}),\n",
       " ('Identify the performer of Battle of Los Angeles',\n",
       "  {'entities': [(13, 22, 'role'), (26, 47, 'movie')]}),\n",
       " ('Tell me the actor behind Vision Quest',\n",
       "  {'entities': [(12, 17, 'role'), (25, 37, 'movie')]}),\n",
       " ('Tell me the cast for Paranoid Park',\n",
       "  {'entities': [(12, 16, 'role'), (21, 34, 'movie')]}),\n",
       " ('Tell me the cast member of George Harrison: Living in the Material World',\n",
       "  {'entities': [(12, 23, 'role'), (27, 72, 'movie')]}),\n",
       " (\"What is the director's name for the movie Creator?\",\n",
       "  {'entities': [(12, 20, 'role'), (42, 49, 'movie'), (12, 18, 'action')]}),\n",
       " ('Who screenwriter in After Life?',\n",
       "  {'entities': [(4, 16, 'role'), (20, 30, 'movie')]}),\n",
       " ('Who wrote Borgman?', {'entities': [(10, 17, 'movie'), (4, 9, 'action')]}),\n",
       " ('Who directed the movie 12 and Holding?',\n",
       "  {'entities': [(23, 37, 'movie'), (4, 12, 'action'), (4, 10, 'action')]}),\n",
       " ('Who is the film editor of Face?',\n",
       "  {'entities': [(11, 22, 'role'), (26, 30, 'movie'), (16, 20, 'action')]}),\n",
       " (\"Who is the director of photography of the film The Devil's Path?\",\n",
       "  {'entities': [(11, 34, 'role'), (47, 63, 'movie'), (11, 17, 'action')]}),\n",
       " ('Who oversaw the making of Gracie', {'entities': [(26, 32, 'movie')]}),\n",
       " ('Who was in charge of directing Mademoiselle Chambon?',\n",
       "  {'entities': [(31, 51, 'movie'), (21, 27, 'action')]}),\n",
       " ('Who was the art director of Crimson Tide',\n",
       "  {'entities': [(12, 24, 'role'), (28, 40, 'movie'), (16, 22, 'action')]}),\n",
       " (\"Give me the author of They Shoot Horses, Don't They?\",\n",
       "  {'entities': [(12, 18, 'role'), (22, 52, 'movie')]}),\n",
       " ('Give me the name of the presenter of The Messenger: The Story of Joan of Arc',\n",
       "  {'entities': [(24, 33, 'role'), (37, 76, 'movie')]}),\n",
       " (\"I'd like to know the narrator's name for Soul Food\",\n",
       "  {'entities': [(21, 29, 'role'), (41, 50, 'movie')]}),\n",
       " (\"I'm curious about the person who wrote The Path to 9/11\",\n",
       "  {'entities': [(39, 55, 'movie'), (33, 38, 'action')]}),\n",
       " ('Identify the creator of Finding Forrester',\n",
       "  {'entities': [(13, 20, 'role'), (24, 41, 'movie')]}),\n",
       " ('Tell me the participant behind Mutants',\n",
       "  {'entities': [(12, 23, 'role'), (31, 38, 'movie')]}),\n",
       " ('Tell me the member of the crew of for Rat Race',\n",
       "  {'entities': [(12, 33, 'role'), (38, 46, 'movie')]}),\n",
       " ('Tell me the voice actor of The Crocodile Hunter: Collision Course',\n",
       "  {'entities': [(12, 23, 'role'), (27, 65, 'movie')]}),\n",
       " (\"What is the publisher's name for the movie A Knight's Tale?\",\n",
       "  {'entities': [(12, 21, 'role'), (43, 58, 'movie')]}),\n",
       " ('Who musical conductor in Cromwell?',\n",
       "  {'entities': [(4, 21, 'role'), (25, 33, 'movie')]}),\n",
       " ('Who directed To the Wonder?',\n",
       "  {'entities': [(13, 26, 'movie'), (4, 12, 'action'), (4, 10, 'action')]}),\n",
       " ('Who wrote the movie Shallow Hal?',\n",
       "  {'entities': [(20, 31, 'movie'), (4, 9, 'action')]}),\n",
       " ('Who is the actor of Cronos?',\n",
       "  {'entities': [(11, 16, 'role'), (20, 26, 'movie')]}),\n",
       " ('Who is the cast of the film The Recruit?',\n",
       "  {'entities': [(11, 15, 'role'), (28, 39, 'movie')]}),\n",
       " ('Who oversaw the making of Cross Creek', {'entities': [(26, 37, 'movie')]}),\n",
       " ('Who was in charge of directing Public Access?',\n",
       "  {'entities': [(31, 44, 'movie'), (21, 27, 'action')]}),\n",
       " ('Who was the screenwriter of The Crossing Guard',\n",
       "  {'entities': [(12, 24, 'role'), (28, 46, 'movie')]}),\n",
       " ('Give me the producer of John Q',\n",
       "  {'entities': [(12, 20, 'role'), (24, 30, 'movie'), (12, 19, 'action')]}),\n",
       " ('Give me the name of the developer of Striptease',\n",
       "  {'entities': [(24, 33, 'role'), (37, 47, 'movie')]}),\n",
       " (\"I'd like to know the film editor's name for Faithless\",\n",
       "  {'entities': [(21, 32, 'role'), (44, 53, 'movie'), (26, 30, 'action')]}),\n",
       " (\"I'm curious about the person who directed The Heiress\",\n",
       "  {'entities': [(42, 53, 'movie'), (33, 41, 'action'), (33, 39, 'action')]}),\n",
       " ('Identify the film crew member of Vexille',\n",
       "  {'entities': [(13, 29, 'role'), (33, 40, 'movie')]}),\n",
       " ('Tell me the choreographer behind Croupier',\n",
       "  {'entities': [(12, 25, 'role'), (33, 41, 'movie')]}),\n",
       " ('Tell me the art director for The Peacemaker',\n",
       "  {'entities': [(12, 24, 'role'), (29, 43, 'movie'), (16, 22, 'action')]}),\n",
       " ('Tell me the author of Little Buddha',\n",
       "  {'entities': [(12, 18, 'role'), (22, 35, 'movie')]}),\n",
       " (\"What is the presenter's name for the movie The Legend of Bagger Vance?\",\n",
       "  {'entities': [(12, 21, 'role'), (43, 69, 'movie')]}),\n",
       " ('Who narrator in Thirteen?',\n",
       "  {'entities': [(4, 12, 'role'), (16, 24, 'movie')]}),\n",
       " ('Who wrote Executive Decision?',\n",
       "  {'entities': [(10, 28, 'movie'), (4, 9, 'action')]}),\n",
       " ('Who directed the movie Cry Wolf?',\n",
       "  {'entities': [(23, 31, 'movie'), (4, 12, 'action'), (4, 10, 'action')]}),\n",
       " ('Who is the participant of Lebanon?',\n",
       "  {'entities': [(11, 22, 'role'), (26, 33, 'movie')]}),\n",
       " ('Who is the member of the crew of of the film The Buried Forest?',\n",
       "  {'entities': [(11, 32, 'role'), (45, 62, 'movie')]}),\n",
       " ('Who oversaw the making of Just the Wind',\n",
       "  {'entities': [(26, 39, 'movie')]}),\n",
       " ('Who was in charge of directing Rabbit-Proof Fence?',\n",
       "  {'entities': [(31, 49, 'movie'), (21, 27, 'action')]}),\n",
       " ('Who was the musical conductor of Pane, amore e...',\n",
       "  {'entities': [(12, 29, 'role'), (33, 49, 'movie')]}),\n",
       " ('Give me the operator of Thirteen Conversations About One Thing',\n",
       "  {'entities': [(12, 20, 'role'), (24, 62, 'movie')]}),\n",
       " ('Give me the name of the performer of Uptown Girls',\n",
       "  {'entities': [(24, 33, 'role'), (37, 49, 'movie')]}),\n",
       " (\"I'd like to know the actor's name for Sands of Iwo Jima\",\n",
       "  {'entities': [(21, 26, 'role'), (38, 55, 'movie')]}),\n",
       " (\"I'm curious about the person who wrote Hitman Hart: Wrestling with Shadows\",\n",
       "  {'entities': [(39, 74, 'movie'), (33, 38, 'action')]}),\n",
       " ('Identify the cast member of The House on Telegraph Hill',\n",
       "  {'entities': [(13, 24, 'role'), (28, 55, 'movie')]}),\n",
       " ('Tell me the director behind The Dove',\n",
       "  {'entities': [(12, 20, 'role'), (28, 36, 'movie'), (12, 18, 'action')]}),\n",
       " ('Tell me the screenwriter for Tell-Tale',\n",
       "  {'entities': [(12, 24, 'role'), (29, 38, 'movie')]}),\n",
       " ('Tell me the producer of Keeping Up with the Steins',\n",
       "  {'entities': [(12, 20, 'role'), (24, 50, 'movie'), (12, 19, 'action')]}),\n",
       " (\"What is the developer's name for the movie A Night in the Life of Jimmy Reardon?\",\n",
       "  {'entities': [(12, 21, 'role'), (43, 79, 'movie')]}),\n",
       " ('Who film editor in Cure?',\n",
       "  {'entities': [(4, 15, 'role'), (19, 23, 'movie'), (9, 13, 'action')]}),\n",
       " ('Who directed Youth in Revolt?',\n",
       "  {'entities': [(13, 28, 'movie'), (4, 12, 'action'), (4, 10, 'action')]}),\n",
       " ('Who wrote the movie Father of the Bride?',\n",
       "  {'entities': [(20, 39, 'movie'), (4, 9, 'action')]}),\n",
       " ('Who is the choreographer of Saint Clara?',\n",
       "  {'entities': [(11, 24, 'role'), (28, 39, 'movie')]}),\n",
       " ('Who is the art director of the film The Firm?',\n",
       "  {'entities': [(11, 23, 'role'), (36, 44, 'movie'), (15, 21, 'action')]}),\n",
       " ('Who oversaw the making of Sleepers', {'entities': [(26, 34, 'movie')]}),\n",
       " ('Who was in charge of directing The Abominable Dr. Phibes?',\n",
       "  {'entities': [(31, 56, 'movie'), (21, 27, 'action')]}),\n",
       " (\"Who was the narrator of A Nightmare on Elm Street 2: Freddy's Revenge\",\n",
       "  {'entities': [(12, 20, 'role'), (24, 69, 'movie')]}),\n",
       " ('Give me the animator of Not Another Teen Movie',\n",
       "  {'entities': [(12, 20, 'role'), (24, 46, 'movie')]}),\n",
       " ('Give me the name of the creator of Code of Silence',\n",
       "  {'entities': [(24, 31, 'role'), (35, 50, 'movie')]}),\n",
       " (\"I'd like to know the participant's name for Veronica Guerin\",\n",
       "  {'entities': [(21, 32, 'role'), (44, 59, 'movie')]}),\n",
       " (\"I'm curious about the person who directed The Replacements\",\n",
       "  {'entities': [(42, 58, 'movie'), (33, 41, 'action'), (33, 39, 'action')]}),\n",
       " ('Identify the voice actor of Helen Keller in Her Story',\n",
       "  {'entities': [(13, 24, 'role'), (28, 53, 'movie')]}),\n",
       " ('Tell me the publisher behind The Slurb',\n",
       "  {'entities': [(12, 21, 'role'), (29, 38, 'movie')]}),\n",
       " (\"Tell me the musical conductor for Cutter's Way\",\n",
       "  {'entities': [(12, 29, 'role'), (34, 46, 'movie')]}),\n",
       " ('Tell me the operator of A Somewhat Gentle Man',\n",
       "  {'entities': [(12, 20, 'role'), (24, 45, 'movie')]}),\n",
       " (\"What is the performer's name for the movie The Legend of 1900?\",\n",
       "  {'entities': [(12, 21, 'role'), (43, 61, 'movie')]}),\n",
       " ('Who actor in Deep Rising?',\n",
       "  {'entities': [(4, 9, 'role'), (13, 24, 'movie')]}),\n",
       " ('Who wrote Cyborg 2?', {'entities': [(10, 18, 'movie'), (4, 9, 'action')]}),\n",
       " ('Who directed the movie Pacific Heights?',\n",
       "  {'entities': [(23, 38, 'movie'), (4, 12, 'action'), (4, 10, 'action')]}),\n",
       " ('Who is the director of Jack the Bear?',\n",
       "  {'entities': [(11, 19, 'role'), (23, 36, 'movie'), (11, 17, 'action')]}),\n",
       " ('Who is the screenwriter of the film Cypher?',\n",
       "  {'entities': [(11, 23, 'role'), (36, 42, 'movie')]}),\n",
       " ('Who oversaw the making of Cypher', {'entities': [(26, 32, 'movie')]}),\n",
       " ('Who was in charge of directing 4 Little Girls?',\n",
       "  {'entities': [(31, 45, 'movie'), (21, 27, 'action')]}),\n",
       " ('Who was the film editor of My Life to Live',\n",
       "  {'entities': [(12, 23, 'role'), (27, 42, 'movie'), (17, 21, 'action')]}),\n",
       " ('Give me the director of photography of Stealth',\n",
       "  {'entities': [(12, 35, 'role'), (39, 46, 'movie'), (12, 18, 'action')]}),\n",
       " ('Give me the name of the film crew member of The Naked Brothers Band: The Movie',\n",
       "  {'entities': [(24, 40, 'role'), (44, 78, 'movie')]}),\n",
       " (\"I'd like to know the choreographer's name for Tortilla Soup\",\n",
       "  {'entities': [(21, 34, 'role'), (46, 59, 'movie')]}),\n",
       " (\"I'm curious about the person who wrote The Widow of Saint-Pierre\",\n",
       "  {'entities': [(39, 64, 'movie'), (33, 38, 'action')]}),\n",
       " ('Identify the author of Puerta de Hierro, el exilio de Perón',\n",
       "  {'entities': [(13, 19, 'role'), (23, 59, 'movie')]}),\n",
       " ('Tell me the presenter behind Dolls',\n",
       "  {'entities': [(12, 21, 'role'), (29, 34, 'movie')]}),\n",
       " ('Tell me the narrator for The Westerner',\n",
       "  {'entities': [(12, 20, 'role'), (25, 38, 'movie')]}),\n",
       " ('Tell me the animator of Come and Get It',\n",
       "  {'entities': [(12, 20, 'role'), (24, 39, 'movie')]}),\n",
       " (\"What is the creator's name for the movie Summer of Sam?\",\n",
       "  {'entities': [(12, 19, 'role'), (41, 54, 'movie')]}),\n",
       " ('Who participant in Gunde Jaari Gallanthayyinde?',\n",
       "  {'entities': [(4, 15, 'role'), (19, 46, 'movie')]}),\n",
       " ('Who directed Red Scorpion?',\n",
       "  {'entities': [(13, 25, 'movie'), (4, 12, 'action'), (4, 10, 'action')]}),\n",
       " ('Who wrote the movie Death Watch?',\n",
       "  {'entities': [(20, 31, 'movie'), (4, 9, 'action')]}),\n",
       " ('Who is the publisher of Tokyo Family?',\n",
       "  {'entities': [(11, 20, 'role'), (24, 36, 'movie')]}),\n",
       " ('Who is the musical conductor of the film Shinjuku Incident?',\n",
       "  {'entities': [(11, 28, 'role'), (41, 58, 'movie')]}),\n",
       " ('Who oversaw the making of Detroit Metal City',\n",
       "  {'entities': [(26, 44, 'movie')]}),\n",
       " ('Who was in charge of directing Voyage to the Beginning of the World?',\n",
       "  {'entities': [(31, 67, 'movie'), (21, 27, 'action')]}),\n",
       " ('Who was the actor of The Package',\n",
       "  {'entities': [(12, 17, 'role'), (21, 32, 'movie')]}),\n",
       " ('Give me the cast of Sukiyaki Western Django',\n",
       "  {'entities': [(12, 16, 'role'), (20, 43, 'movie')]}),\n",
       " ('Give me the name of the cast member of The Terminators',\n",
       "  {'entities': [(24, 35, 'role'), (39, 54, 'movie')]}),\n",
       " (\"I'd like to know the director's name for I Come with the Rain\",\n",
       "  {'entities': [(21, 29, 'role'), (41, 61, 'movie'), (21, 27, 'action')]}),\n",
       " (\"I'm curious about the person who directed Stuck\",\n",
       "  {'entities': [(42, 47, 'movie'), (33, 41, 'action'), (33, 39, 'action')]}),\n",
       " ('Identify the producer of Ichi',\n",
       "  {'entities': [(13, 21, 'role'), (25, 29, 'movie'), (13, 20, 'action')]}),\n",
       " ('Tell me the developer behind Il Divo',\n",
       "  {'entities': [(12, 21, 'role'), (29, 36, 'movie')]}),\n",
       " ('Tell me the film editor for Dying Breed',\n",
       "  {'entities': [(12, 23, 'role'), (28, 39, 'movie'), (17, 21, 'action')]}),\n",
       " ('Tell me the director of photography of 4:44 Last Day on Earth',\n",
       "  {'entities': [(12, 35, 'role'), (39, 61, 'movie'), (12, 18, 'action')]}),\n",
       " (\"What is the film crew member's name for the movie Comedy of Innocence?\",\n",
       "  {'entities': [(12, 28, 'role'), (50, 69, 'movie')]}),\n",
       " ('Who choreographer in La Promesse?',\n",
       "  {'entities': [(4, 17, 'role'), (21, 32, 'movie')]}),\n",
       " ('Who wrote Fifty Pills?',\n",
       "  {'entities': [(10, 21, 'movie'), (4, 9, 'action')]}),\n",
       " ('Who directed the movie Murder in the First?',\n",
       "  {'entities': [(23, 42, 'movie'), (4, 12, 'action'), (4, 10, 'action')]}),\n",
       " ('Who is the presenter of Shuttle?',\n",
       "  {'entities': [(11, 20, 'role'), (24, 31, 'movie')]}),\n",
       " (\"Who is the narrator of the film World's Greatest Dad?\",\n",
       "  {'entities': [(11, 19, 'role'), (32, 52, 'movie')]}),\n",
       " ('Who oversaw the making of Half Nelson', {'entities': [(26, 37, 'movie')]}),\n",
       " ('Who was in charge of directing Soul Surfer?',\n",
       "  {'entities': [(31, 42, 'movie'), (21, 27, 'action')]}),\n",
       " ('Who was the participant of The Kiyosu Conference',\n",
       "  {'entities': [(12, 23, 'role'), (27, 48, 'movie')]}),\n",
       " ('Give me the member of the crew of of Welcome to the Rileys',\n",
       "  {'entities': [(12, 33, 'role'), (37, 58, 'movie')]}),\n",
       " ('Give me the name of the voice actor of The Ringer',\n",
       "  {'entities': [(24, 35, 'role'), (39, 49, 'movie')]}),\n",
       " (\"I'd like to know the publisher's name for The Eel\",\n",
       "  {'entities': [(21, 30, 'role'), (42, 49, 'movie')]}),\n",
       " (\"I'm curious about the person who wrote Dad\",\n",
       "  {'entities': [(39, 42, 'movie'), (33, 38, 'action')]}),\n",
       " ('Identify the operator of Daddy and Them',\n",
       "  {'entities': [(13, 21, 'role'), (25, 39, 'movie')]}),\n",
       " (\"Tell me the performer behind Daddy's Little Girls\",\n",
       "  {'entities': [(12, 21, 'role'), (29, 49, 'movie')]}),\n",
       " ('Tell me the actor for A Scene at the Sea',\n",
       "  {'entities': [(12, 17, 'role'), (22, 40, 'movie')]}),\n",
       " (\"Tell me the cast of Daft Punk's Electroma\",\n",
       "  {'entities': [(12, 16, 'role'), (20, 41, 'movie')]}),\n",
       " (\"What is the cast member's name for the movie Evil Aliens?\",\n",
       "  {'entities': [(12, 23, 'role'), (45, 56, 'movie')]}),\n",
       " ('Who director in Hello Stranger?',\n",
       "  {'entities': [(4, 12, 'role'), (16, 30, 'movie'), (4, 10, 'action')]}),\n",
       " ('Who directed Dahmer?',\n",
       "  {'entities': [(13, 19, 'movie'), (4, 12, 'action'), (4, 10, 'action')]}),\n",
       " ('Who wrote the movie One Million Yen Girl?',\n",
       "  {'entities': [(20, 40, 'movie'), (4, 9, 'action')]}),\n",
       " ('Who is the developer of The Last Time I Saw Paris?',\n",
       "  {'entities': [(11, 20, 'role'), (24, 49, 'movie')]}),\n",
       " ('Who is the film editor of the film A Werewolf Boy?',\n",
       "  {'entities': [(11, 22, 'role'), (35, 49, 'movie'), (16, 20, 'action')]}),\n",
       " ('Who oversaw the making of Noises Off', {'entities': [(26, 36, 'movie')]}),\n",
       " ('Who was in charge of directing Dan in Real Life?',\n",
       "  {'entities': [(31, 47, 'movie'), (21, 27, 'action')]}),\n",
       " ('Who was the choreographer of Diary of a Country Priest',\n",
       "  {'entities': [(12, 25, 'role'), (29, 54, 'movie')]}),\n",
       " ('Give me the art director of Dance with a Stranger',\n",
       "  {'entities': [(12, 24, 'role'), (28, 49, 'movie'), (16, 22, 'action')]}),\n",
       " ('Give me the name of the author of The Year of the Wolf',\n",
       "  {'entities': [(24, 30, 'role'), (34, 54, 'movie')]}),\n",
       " (\"I'd like to know the presenter's name for Daniel – Der Zauberer\",\n",
       "  {'entities': [(21, 30, 'role'), (42, 63, 'movie')]}),\n",
       " (\"I'm curious about the person who directed The Prince and the Showgirl\",\n",
       "  {'entities': [(42, 69, 'movie'), (33, 41, 'action'), (33, 39, 'action')]}),\n",
       " ('Identify the animator of A Castle in Italy',\n",
       "  {'entities': [(13, 21, 'role'), (25, 42, 'movie')]}),\n",
       " ('Tell me the creator behind Eraserhead',\n",
       "  {'entities': [(12, 19, 'role'), (27, 37, 'movie')]}),\n",
       " ('Tell me the participant for A New Kind of Love',\n",
       "  {'entities': [(12, 23, 'role'), (28, 46, 'movie')]}),\n",
       " ('Tell me the member of the crew of of Breath',\n",
       "  {'entities': [(12, 33, 'role'), (37, 43, 'movie')]}),\n",
       " (\"What is the voice actor's name for the movie The Young in Heart?\",\n",
       "  {'entities': [(12, 23, 'role'), (45, 63, 'movie')]}),\n",
       " ('Who publisher in Sweethearts?',\n",
       "  {'entities': [(4, 13, 'role'), (17, 28, 'movie')]}),\n",
       " ('Who wrote Lajja?', {'entities': [(10, 15, 'movie'), (4, 9, 'action')]}),\n",
       " ('Who directed the movie The Best Man?',\n",
       "  {'entities': [(23, 35, 'movie'), (4, 12, 'action'), (4, 10, 'action')]}),\n",
       " ('Who is the performer of Money Train?',\n",
       "  {'entities': [(11, 20, 'role'), (24, 35, 'movie')]}),\n",
       " ('Who is the actor of the film Trauma?',\n",
       "  {'entities': [(11, 16, 'role'), (29, 35, 'movie')]}),\n",
       " ('Who oversaw the making of Search and Destroy',\n",
       "  {'entities': [(26, 44, 'movie')]}),\n",
       " ('Who was in charge of directing Elephant?',\n",
       "  {'entities': [(31, 39, 'movie'), (21, 27, 'action')]}),\n",
       " ('Who was the director of World Without End',\n",
       "  {'entities': [(12, 20, 'role'), (24, 41, 'movie'), (12, 18, 'action')]}),\n",
       " ('Give me the screenwriter of De Lift',\n",
       "  {'entities': [(12, 24, 'role'), (28, 35, 'movie')]}),\n",
       " ('Give me the name of the producer of Storm',\n",
       "  {'entities': [(24, 32, 'role'), (36, 41, 'movie'), (24, 31, 'action')]}),\n",
       " (\"I'd like to know the developer's name for Runaway\",\n",
       "  {'entities': [(21, 30, 'role'), (42, 49, 'movie')]}),\n",
       " (\"I'm curious about the person who wrote Paul\",\n",
       "  {'entities': [(39, 43, 'movie'), (33, 38, 'action')]}),\n",
       " ('Identify the director of photography of Of Human Bondage',\n",
       "  {'entities': [(13, 36, 'role'), (40, 56, 'movie'), (13, 19, 'action')]}),\n",
       " ('Tell me the film crew member behind Dare',\n",
       "  {'entities': [(12, 28, 'role'), (36, 40, 'movie')]}),\n",
       " ('Tell me the choreographer for Case 39',\n",
       "  {'entities': [(12, 25, 'role'), (30, 37, 'movie')]}),\n",
       " ('Tell me the art director of Rabbit Hole',\n",
       "  {'entities': [(12, 24, 'role'), (28, 39, 'movie'), (16, 22, 'action')]}),\n",
       " (\"What is the author's name for the movie Danton?\",\n",
       "  {'entities': [(12, 18, 'role'), (40, 46, 'movie')]}),\n",
       " ('Who presenter in Killers?',\n",
       "  {'entities': [(4, 13, 'role'), (17, 24, 'movie')]}),\n",
       " ('Who directed 16 Years of Alcohol?',\n",
       "  {'entities': [(13, 32, 'movie'), (4, 12, 'action'), (4, 10, 'action')]}),\n",
       " ('Who wrote the movie Duplicity?',\n",
       "  {'entities': [(20, 29, 'movie'), (4, 9, 'action')]}),\n",
       " ('Who is the creator of Racing Stripes?',\n",
       "  {'entities': [(11, 18, 'role'), (22, 36, 'movie')]}),\n",
       " ('Who is the participant of the film Darfur?',\n",
       "  {'entities': [(11, 22, 'role'), (35, 41, 'movie')]}),\n",
       " ('Who oversaw the making of Shamo', {'entities': [(26, 31, 'movie')]}),\n",
       " ('Who was in charge of directing The Wizard of Gore?',\n",
       "  {'entities': [(31, 49, 'movie'), (21, 27, 'action')]}),\n",
       " ('Who was the publisher of Dark Wolf',\n",
       "  {'entities': [(12, 21, 'role'), (25, 34, 'movie')]}),\n",
       " ('Give me the musical conductor of I Come in Peace',\n",
       "  {'entities': [(12, 29, 'role'), (33, 48, 'movie')]}),\n",
       " ('Give me the name of the operator of Dark Water',\n",
       "  {'entities': [(24, 32, 'role'), (36, 46, 'movie')]}),\n",
       " (\"I'd like to know the performer's name for Darkness\",\n",
       "  {'entities': [(21, 30, 'role'), (42, 50, 'movie')]}),\n",
       " (\"I'm curious about the person who directed Darling\",\n",
       "  {'entities': [(42, 49, 'movie'), (33, 41, 'action'), (33, 39, 'action')]}),\n",
       " ('Identify the cast of The Ten',\n",
       "  {'entities': [(13, 17, 'role'), (21, 28, 'movie')]}),\n",
       " ('Tell me the cast member behind Eye of the Beholder',\n",
       "  {'entities': [(12, 23, 'role'), (31, 50, 'movie')]}),\n",
       " ('Tell me the director for The Crush',\n",
       "  {'entities': [(12, 20, 'role'), (25, 34, 'movie'), (12, 18, 'action')]}),\n",
       " ('Tell me the screenwriter of After Death',\n",
       "  {'entities': [(12, 24, 'role'), (28, 39, 'movie')]}),\n",
       " (\"What is the producer's name for the movie Jungle Book?\",\n",
       "  {'entities': [(12, 20, 'role'), (42, 53, 'movie'), (12, 19, 'action')]}),\n",
       " (\"Who developer in Margaret's Museum?\",\n",
       "  {'entities': [(4, 13, 'role'), (17, 34, 'movie')]}),\n",
       " ('Who wrote The Inquiry?',\n",
       "  {'entities': [(10, 21, 'movie'), (4, 9, 'action')]}),\n",
       " ('Who directed the movie Home from the Hill?',\n",
       "  {'entities': [(23, 41, 'movie'), (4, 12, 'action'), (4, 10, 'action')]}),\n",
       " (\"Who is the film crew member of Frenchman's Creek?\",\n",
       "  {'entities': [(11, 27, 'role'), (31, 48, 'movie')]}),\n",
       " ('Who is the choreographer of the film Le Radeau de la Méduse?',\n",
       "  {'entities': [(11, 24, 'role'), (37, 59, 'movie')]}),\n",
       " ('Who oversaw the making of Scorpion in Love',\n",
       "  {'entities': [(26, 42, 'movie')]}),\n",
       " ('Who was in charge of directing Mississippi Mermaid?',\n",
       "  {'entities': [(31, 50, 'movie'), (21, 27, 'action')]}),\n",
       " ('Who was the presenter of Treasure of the Four Crowns',\n",
       "  {'entities': [(12, 21, 'role'), (25, 52, 'movie')]}),\n",
       " ('Give me the narrator of The Blue Butterfly',\n",
       "  {'entities': [(12, 20, 'role'), (24, 42, 'movie')]}),\n",
       " ('Give me the name of the animator of The Secret of Santa Vittoria',\n",
       "  {'entities': [(24, 32, 'role'), (36, 64, 'movie')]}),\n",
       " (\"I'd like to know the creator's name for The Letter\",\n",
       "  {'entities': [(21, 28, 'role'), (40, 50, 'movie')]}),\n",
       " (\"I'm curious about the person who wrote La jaula de oro\",\n",
       "  {'entities': [(39, 54, 'movie'), (33, 38, 'action')]}),\n",
       " ('Identify the member of the crew of of The Gilded Cage',\n",
       "  {'entities': [(13, 34, 'role'), (38, 53, 'movie')]}),\n",
       " ('Tell me the voice actor behind Miele',\n",
       "  {'entities': [(12, 23, 'role'), (31, 36, 'movie')]}),\n",
       " (\"Tell me the publisher for L'argent des autres\",\n",
       "  {'entities': [(12, 21, 'role'), (26, 45, 'movie')]}),\n",
       " (\"Tell me the musical conductor of Other People's Money\",\n",
       "  {'entities': [(12, 29, 'role'), (33, 53, 'movie')]}),\n",
       " (\"What is the operator's name for the movie The Weight of Chains?\",\n",
       "  {'entities': [(12, 20, 'role'), (42, 62, 'movie')]}),\n",
       " ('Who performer in The Weight of Water?',\n",
       "  {'entities': [(4, 13, 'role'), (17, 36, 'movie')]}),\n",
       " ('Who directed Happiness?',\n",
       "  {'entities': [(13, 22, 'movie'), (4, 12, 'action'), (4, 10, 'action')]}),\n",
       " ('Who wrote the movie The Lavender Hill Mob?',\n",
       "  {'entities': [(20, 41, 'movie'), (4, 9, 'action')]}),\n",
       " ('Who is the cast member of The Black Torment?',\n",
       "  {'entities': [(11, 22, 'role'), (26, 43, 'movie')]}),\n",
       " ('Who is the director of the film The Changeling?',\n",
       "  {'entities': [(11, 19, 'role'), (32, 46, 'movie'), (11, 17, 'action')]}),\n",
       " ('Who oversaw the making of King of the Ants',\n",
       "  {'entities': [(26, 42, 'movie')]}),\n",
       " ('Who was in charge of directing The Affair of the Necklace?',\n",
       "  {'entities': [(31, 57, 'movie'), (21, 27, 'action')]}),\n",
       " ('Who was the developer of Sentimental Destinies',\n",
       "  {'entities': [(12, 21, 'role'), (25, 46, 'movie')]}),\n",
       " (\"Give me the film editor of Troma's War\",\n",
       "  {'entities': [(12, 23, 'role'), (27, 38, 'movie'), (17, 21, 'action')]}),\n",
       " ('Give me the name of the director of photography of House of the Sleeping Beauties',\n",
       "  {'entities': [(24, 47, 'role'), (51, 81, 'movie'), (24, 30, 'action')]}),\n",
       " (\"I'd like to know the film crew member's name for Las vidas de Celia\",\n",
       "  {'entities': [(21, 37, 'role'), (49, 67, 'movie')]}),\n",
       " (\"I'm curious about the person who directed The Chalk Garden\",\n",
       "  {'entities': [(42, 58, 'movie'), (33, 41, 'action'), (33, 39, 'action')]}),\n",
       " ('Identify the art director of The Heart Is a Dark Forest',\n",
       "  {'entities': [(13, 25, 'role'), (29, 55, 'movie'), (17, 23, 'action')]}),\n",
       " ('Tell me the author behind The Heart of Jenin',\n",
       "  {'entities': [(12, 18, 'role'), (26, 44, 'movie')]}),\n",
       " ('Tell me the presenter for Beneath the 12-Mile Reef',\n",
       "  {'entities': [(12, 21, 'role'), (26, 50, 'movie')]}),\n",
       " ('Tell me the narrator of The Year My Parents Went on Vacation',\n",
       "  {'entities': [(12, 20, 'role'), (24, 60, 'movie')]}),\n",
       " (\"What is the animator's name for the movie The Year My Voice Broke?\",\n",
       "  {'entities': [(12, 20, 'role'), (42, 65, 'movie')]}),\n",
       " ('Who creator in The Gospel of John?',\n",
       "  {'entities': [(4, 11, 'role'), (15, 33, 'movie')]}),\n",
       " ('Who wrote Under the Sun?',\n",
       "  {'entities': [(10, 23, 'movie'), (4, 9, 'action')]}),\n",
       " ('Who directed the movie House of Cards?',\n",
       "  {'entities': [(23, 37, 'movie'), (4, 12, 'action'), (4, 10, 'action')]}),\n",
       " ('Who is the voice actor of The Child?',\n",
       "  {'entities': [(11, 22, 'role'), (26, 35, 'movie')]}),\n",
       " ('Who is the publisher of the film The Guardian?',\n",
       "  {'entities': [(11, 20, 'role'), (33, 45, 'movie')]}),\n",
       " ('Who oversaw the making of Crimes of the Heart',\n",
       "  {'entities': [(26, 45, 'movie')]}),\n",
       " ('Who was in charge of directing She-Wolf of London?',\n",
       "  {'entities': [(31, 49, 'movie'), (21, 27, 'action')]}),\n",
       " ('Who was the performer of Le Concert',\n",
       "  {'entities': [(12, 21, 'role'), (25, 35, 'movie')]}),\n",
       " ('Give me the actor of My Afternoons with Margueritte',\n",
       "  {'entities': [(12, 17, 'role'), (21, 51, 'movie')]}),\n",
       " ('Give me the name of the cast of The Coverup',\n",
       "  {'entities': [(24, 28, 'role'), (32, 43, 'movie')]}),\n",
       " (\"I'd like to know the cast member's name for Mr. Skeffington\",\n",
       "  {'entities': [(21, 32, 'role'), (44, 59, 'movie')]}),\n",
       " (\"I'm curious about the person who wrote Kings and Queen\",\n",
       "  {'entities': [(39, 54, 'movie'), (33, 38, 'action')]}),\n",
       " ('Identify the screenwriter of Das Leben ist zu lang',\n",
       "  {'entities': [(13, 25, 'role'), (29, 50, 'movie')]}),\n",
       " (\"Tell me the producer behind Things to Do in Denver When You're Dead\",\n",
       "  {'entities': [(12, 20, 'role'), (28, 67, 'movie'), (12, 19, 'action')]}),\n",
       " ('Tell me the developer for Let Sleeping Corpses Lie',\n",
       "  {'entities': [(12, 21, 'role'), (26, 50, 'movie')]}),\n",
       " ('Tell me the film editor of Six Degrees of Separation',\n",
       "  {'entities': [(12, 23, 'role'), (27, 52, 'movie'), (17, 21, 'action')]}),\n",
       " (\"What is the director of photography's name for the movie The Song of Sparrows?\",\n",
       "  {'entities': [(12, 35, 'role'), (57, 77, 'movie'), (12, 18, 'action')]}),\n",
       " ('Who film crew member in Sylvia?',\n",
       "  {'entities': [(4, 20, 'role'), (24, 30, 'movie')]}),\n",
       " (\"Who directed River's Edge?\",\n",
       "  {'entities': [(13, 25, 'movie'), (4, 12, 'action'), (4, 10, 'action')]}),\n",
       " ('Who wrote the movie Hot Millions?',\n",
       "  {'entities': [(20, 32, 'movie'), (4, 9, 'action')]}),\n",
       " ('Who is the author of The Page Turner?',\n",
       "  {'entities': [(11, 17, 'role'), (21, 36, 'movie')]}),\n",
       " ('Who is the presenter of the film Rosemary?',\n",
       "  {'entities': [(11, 20, 'role'), (33, 41, 'movie')]}),\n",
       " ('Who oversaw the making of Mai Mai Miracle',\n",
       "  {'entities': [(26, 41, 'movie')]}),\n",
       " ('Who was in charge of directing Blind Detective?',\n",
       "  {'entities': [(31, 46, 'movie'), (21, 27, 'action')]}),\n",
       " ('Who was the creator of Ship of Fools',\n",
       "  {'entities': [(12, 19, 'role'), (23, 36, 'movie')]}),\n",
       " ('Give me the participant of The Osterman Weekend',\n",
       "  {'entities': [(12, 23, 'role'), (27, 47, 'movie')]}),\n",
       " ('Give me the name of the member of the crew of of The Scent of Yvonne',\n",
       "  {'entities': [(24, 45, 'role'), (49, 68, 'movie')]}),\n",
       " (\"I'd like to know the voice actor's name for The Private Life of Henry VIII\",\n",
       "  {'entities': [(21, 32, 'role'), (44, 74, 'movie')]}),\n",
       " (\"I'm curious about the person who directed Quemar las Naves\",\n",
       "  {'entities': [(42, 58, 'movie'), (33, 41, 'action'), (33, 39, 'action')]}),\n",
       " ('Identify the musical conductor of The Believers',\n",
       "  {'entities': [(13, 30, 'role'), (34, 47, 'movie')]}),\n",
       " ('Tell me the operator behind Salt of this Sea',\n",
       "  {'entities': [(12, 20, 'role'), (28, 44, 'movie')]}),\n",
       " ('Tell me the performer for The Bedroom Window',\n",
       "  {'entities': [(12, 21, 'role'), (26, 44, 'movie')]}),\n",
       " ('Tell me the actor of Potiche',\n",
       "  {'entities': [(12, 17, 'role'), (21, 28, 'movie')]}),\n",
       " (\"What is the cast's name for the movie Here Comes the Boom?\",\n",
       "  {'entities': [(12, 16, 'role'), (38, 57, 'movie')]}),\n",
       " (\"Who cast member in Spider's Web?\",\n",
       "  {'entities': [(4, 15, 'role'), (19, 31, 'movie')]}),\n",
       " ('Who wrote The Brain?', {'entities': [(10, 19, 'movie'), (4, 9, 'action')]}),\n",
       " ('Who directed the movie Valley of the Dolls?',\n",
       "  {'entities': [(23, 42, 'movie'), (4, 12, 'action'), (4, 10, 'action')]}),\n",
       " ('Who is the producer of Last of the Dogmen?',\n",
       "  {'entities': [(11, 19, 'role'), (23, 41, 'movie'), (11, 18, 'action')]}),\n",
       " ('Who is the developer of the film Batteries Not Included?',\n",
       "  {'entities': [(11, 20, 'role'), (33, 55, 'movie')]}),\n",
       " ('Who oversaw the making of The Baby of Mâcon',\n",
       "  {'entities': [(26, 43, 'movie')]}),\n",
       " ('Who was in charge of directing Little Man Tate?',\n",
       "  {'entities': [(31, 46, 'movie'), (21, 27, 'action')]}),\n",
       " ('Who was the film crew member of Blue Thunder',\n",
       "  {'entities': [(12, 28, 'role'), (32, 44, 'movie')]}),\n",
       " ('Give me the choreographer of The Flying Classroom',\n",
       "  {'entities': [(12, 25, 'role'), (29, 49, 'movie')]}),\n",
       " ('Give me the name of the art director of An Impudent Girl',\n",
       "  {'entities': [(24, 36, 'role'), (40, 56, 'movie'), (28, 34, 'action')]}),\n",
       " (\"I'd like to know the author's name for How Much Does the Trojan Horse Weigh?\",\n",
       "  {'entities': [(21, 27, 'role'), (39, 76, 'movie')]}),\n",
       " (\"I'm curious about the person who wrote The Yellow Handkerchief\",\n",
       "  {'entities': [(39, 62, 'movie'), (33, 38, 'action')]}),\n",
       " ('Identify the narrator of The Promised Land',\n",
       "  {'entities': [(13, 21, 'role'), (25, 42, 'movie')]}),\n",
       " ('Tell me the animator behind Celtic Pride',\n",
       "  {'entities': [(12, 20, 'role'), (28, 40, 'movie')]}),\n",
       " (\"Tell me the creator for The Brink's Job\",\n",
       "  {'entities': [(12, 19, 'role'), (24, 39, 'movie')]}),\n",
       " ('Tell me the participant of The Competition',\n",
       "  {'entities': [(12, 23, 'role'), (27, 42, 'movie')]}),\n",
       " (\"What is the member of the crew of's name for the movie Quatermass and the Pit?\",\n",
       "  {'entities': [(12, 33, 'role'), (55, 77, 'movie')]}),\n",
       " ('Who voice actor in The Corn Is Green?',\n",
       "  {'entities': [(4, 15, 'role'), (19, 36, 'movie')]}),\n",
       " ('Who directed The Teahouse of the August Moon?',\n",
       "  {'entities': [(13, 44, 'movie'), (4, 12, 'action'), (4, 10, 'action')]}),\n",
       " ('Who wrote the movie The Last Detail?',\n",
       "  {'entities': [(20, 35, 'movie'), (4, 9, 'action')]}),\n",
       " ('Who is the operator of The Silence?',\n",
       "  {'entities': [(11, 19, 'role'), (23, 34, 'movie')]}),\n",
       " ('Who is the performer of the film Bang the Drum Slowly?',\n",
       "  {'entities': [(11, 20, 'role'), (33, 53, 'movie')]}),\n",
       " ('Who oversaw the making of Testament', {'entities': [(26, 35, 'movie')]}),\n",
       " ('Who was in charge of directing The Mean Season?',\n",
       "  {'entities': [(31, 46, 'movie'), (21, 27, 'action')]}),\n",
       " ('Who was the cast member of Two for the Money',\n",
       "  {'entities': [(12, 23, 'role'), (27, 44, 'movie')]}),\n",
       " ('Give me the director of Black-White-Red Four Poster',\n",
       "  {'entities': [(12, 20, 'role'), (24, 51, 'movie'), (12, 18, 'action')]}),\n",
       " ('Give me the name of the screenwriter of Cradle Will Rock',\n",
       "  {'entities': [(24, 36, 'role'), (40, 56, 'movie')]}),\n",
       " (\"I'd like to know the producer's name for Sorority Boys\",\n",
       "  {'entities': [(21, 29, 'role'), (41, 54, 'movie'), (21, 28, 'action')]}),\n",
       " (\"I'm curious about the person who directed The Seventh Cross\",\n",
       "  {'entities': [(42, 59, 'movie'), (33, 41, 'action'), (33, 39, 'action')]}),\n",
       " ('Identify the film editor of Silent Rage',\n",
       "  {'entities': [(13, 24, 'role'), (28, 39, 'movie'), (18, 22, 'action')]}),\n",
       " ('Tell me the director of photography behind The Nest',\n",
       "  {'entities': [(12, 35, 'role'), (43, 51, 'movie'), (12, 18, 'action')]}),\n",
       " ('Tell me the film crew member for The Ultimate Gift',\n",
       "  {'entities': [(12, 28, 'role'), (33, 50, 'movie')]}),\n",
       " ('Tell me the choreographer of California Suite',\n",
       "  {'entities': [(12, 25, 'role'), (29, 45, 'movie')]}),\n",
       " (\"What is the art director's name for the movie Life Actually?\",\n",
       "  {'entities': [(12, 24, 'role'), (46, 59, 'movie'), (16, 22, 'action')]}),\n",
       " ('Who author in The Man on the Train?',\n",
       "  {'entities': [(4, 10, 'role'), (14, 34, 'movie')]}),\n",
       " ('Who wrote Janosik: A True Story?',\n",
       "  {'entities': [(10, 31, 'movie'), (4, 9, 'action')]}),\n",
       " ('Who directed the movie Panther?',\n",
       "  {'entities': [(23, 30, 'movie'), (4, 12, 'action'), (4, 10, 'action')]}),\n",
       " ('Who is the animator of Joanna?',\n",
       "  {'entities': [(11, 19, 'role'), (23, 29, 'movie')]}),\n",
       " ('Who is the creator of the film The Piano?',\n",
       "  {'entities': [(11, 18, 'role'), (31, 40, 'movie')]}),\n",
       " ('Who oversaw the making of Kabul Express',\n",
       "  {'entities': [(26, 39, 'movie')]}),\n",
       " ('Who was in charge of directing Wilbur Wants to Kill Himself?',\n",
       "  {'entities': [(31, 59, 'movie'), (21, 27, 'action')]}),\n",
       " ('Who was the voice actor of David Copperfield',\n",
       "  {'entities': [(12, 23, 'role'), (27, 44, 'movie')]}),\n",
       " ('Give me the publisher of Druids',\n",
       "  {'entities': [(12, 21, 'role'), (25, 31, 'movie')]}),\n",
       " ('Give me the name of the musical conductor of The Sun King',\n",
       "  {'entities': [(24, 41, 'role'), (45, 57, 'movie')]}),\n",
       " (\"I'd like to know the operator's name for Kudrat\",\n",
       "  {'entities': [(21, 29, 'role'), (41, 47, 'movie')]}),\n",
       " (\"I'm curious about the person who wrote Max Pinlig\",\n",
       "  {'entities': [(39, 49, 'movie'), (33, 38, 'action')]}),\n",
       " ('Identify the actor of Max et Jérémie',\n",
       "  {'entities': [(13, 18, 'role'), (22, 36, 'movie')]}),\n",
       " ('Tell me the cast behind Little Zizou',\n",
       "  {'entities': [(12, 16, 'role'), (24, 36, 'movie')]}),\n",
       " ('Tell me the cast member for Beyond the Mat',\n",
       "  {'entities': [(12, 23, 'role'), (28, 42, 'movie')]}),\n",
       " ('Tell me the director of Czech-Made Man',\n",
       "  {'entities': [(12, 20, 'role'), (24, 38, 'movie'), (12, 18, 'action')]}),\n",
       " (\"What is the screenwriter's name for the movie Mujhe Kucch Kehna Hai?\",\n",
       "  {'entities': [(12, 24, 'role'), (46, 67, 'movie')]}),\n",
       " (\"Who producer in My Father's Bike?\",\n",
       "  {'entities': [(4, 12, 'role'), (16, 32, 'movie'), (4, 11, 'action')]}),\n",
       " ('Who directed Hope?',\n",
       "  {'entities': [(13, 17, 'movie'), (4, 12, 'action'), (4, 10, 'action')]}),\n",
       " ('Who wrote the movie Operacja Samum?',\n",
       "  {'entities': [(20, 34, 'movie'), (4, 9, 'action')]}),\n",
       " ('Who is the director of photography of The Storm?',\n",
       "  {'entities': [(11, 34, 'role'), (38, 47, 'movie'), (11, 17, 'action')]}),\n",
       " ('Who is the film crew member of the film Dead End?',\n",
       "  {'entities': [(11, 27, 'role'), (40, 48, 'movie')]}),\n",
       " ('Who oversaw the making of The Dead Girl',\n",
       "  {'entities': [(26, 39, 'movie')]}),\n",
       " ('Who was in charge of directing Dead Presidents?',\n",
       "  {'entities': [(31, 46, 'movie'), (21, 27, 'action')]}),\n",
       " ('Who was the author of Deadline',\n",
       "  {'entities': [(12, 18, 'role'), (22, 30, 'movie')]}),\n",
       " (\"Give me the presenter of Lion's Den\",\n",
       "  {'entities': [(12, 21, 'role'), (25, 35, 'movie')]}),\n",
       " ('Give me the name of the narrator of Pistol Whipped',\n",
       "  {'entities': [(24, 32, 'role'), (36, 50, 'movie')]}),\n",
       " (\"I'd like to know the animator's name for Money Is Not Everything\",\n",
       "  {'entities': [(21, 29, 'role'), (41, 64, 'movie')]}),\n",
       " (\"I'm curious about the person who directed Debtocracy\",\n",
       "  {'entities': [(42, 52, 'movie'), (33, 41, 'action'), (33, 39, 'action')]}),\n",
       " ('Identify the participant of DonT Stop',\n",
       "  {'entities': [(13, 24, 'role'), (28, 37, 'movie')]}),\n",
       " ('Tell me the member of the crew of behind Decoy',\n",
       "  {'entities': [(12, 33, 'role'), (41, 46, 'movie')]}),\n",
       " ('Tell me the voice actor for Strangeland',\n",
       "  {'entities': [(12, 23, 'role'), (28, 39, 'movie')]}),\n",
       " ('Tell me the publisher of Deep Blue',\n",
       "  {'entities': [(12, 21, 'role'), (25, 34, 'movie')]}),\n",
       " (\"What is the musical conductor's name for the movie Deep Core?\",\n",
       "  {'entities': [(12, 29, 'role'), (51, 60, 'movie')]}),\n",
       " ('Who operator in DeepStar Six?',\n",
       "  {'entities': [(4, 12, 'role'), (16, 28, 'movie')]}),\n",
       " ('Who wrote Deewaar?', {'entities': [(10, 17, 'movie'), (4, 9, 'action')]}),\n",
       " ('Who directed the movie Defendor?',\n",
       "  {'entities': [(23, 31, 'movie'), (4, 12, 'action'), (4, 10, 'action')]}),\n",
       " ('Who is the cast of The Ex?',\n",
       "  {'entities': [(11, 15, 'role'), (19, 25, 'movie')]}),\n",
       " ('Who is the cast member of the film Sweet Smell of Success?',\n",
       "  {'entities': [(11, 22, 'role'), (35, 57, 'movie')]}),\n",
       " ('Who oversaw the making of The Way', {'entities': [(26, 33, 'movie')]}),\n",
       " ('Who was in charge of directing Yours, Mine and Ours?',\n",
       "  {'entities': [(31, 51, 'movie'), (21, 27, 'action')]}),\n",
       " ('Who was the producer of Catch the Heat',\n",
       "  {'entities': [(12, 20, 'role'), (24, 38, 'movie'), (12, 19, 'action')]}),\n",
       " ('Give me the developer of Deliver Us from Evil',\n",
       "  {'entities': [(12, 21, 'role'), (25, 45, 'movie')]}),\n",
       " ('Give me the name of the film editor of 8-Ball',\n",
       "  {'entities': [(24, 35, 'role'), (39, 45, 'movie'), (29, 33, 'action')]}),\n",
       " (\"I'd like to know the director of photography's name for The Wings of Eagles\",\n",
       "  {'entities': [(21, 44, 'role'), (56, 75, 'movie'), (21, 27, 'action')]}),\n",
       " (\"I'm curious about the person who wrote Nearest to Heaven\",\n",
       "  {'entities': [(39, 56, 'movie'), (33, 38, 'action')]}),\n",
       " ('Identify the choreographer of Dementia 13',\n",
       "  {'entities': [(13, 26, 'role'), (30, 41, 'movie')]}),\n",
       " ('Tell me the art director behind Johnny Eager',\n",
       "  {'entities': [(12, 24, 'role'), (32, 44, 'movie'), (16, 22, 'action')]}),\n",
       " ('Tell me the author for Swing Girls',\n",
       "  {'entities': [(12, 18, 'role'), (23, 34, 'movie')]}),\n",
       " ('Tell me the presenter of Inazuma Eleven: Saikyō Gundan Ōga Shūrai',\n",
       "  {'entities': [(12, 21, 'role'), (25, 65, 'movie')]}),\n",
       " (\"What is the narrator's name for the movie The Dudesons Movie?\",\n",
       "  {'entities': [(12, 20, 'role'), (42, 60, 'movie')]}),\n",
       " ('Who animator in Mr. Vampire?',\n",
       "  {'entities': [(4, 12, 'role'), (16, 27, 'movie')]}),\n",
       " (\"Who directed Man's Favorite Sport??\",\n",
       "  {'entities': [(13, 34, 'movie'), (4, 12, 'action'), (4, 10, 'action')]}),\n",
       " ('Who wrote the movie Helmiä ja sikoja?',\n",
       "  {'entities': [(20, 36, 'movie'), (4, 9, 'action')]}),\n",
       " ('Who is the member of the crew of of The House?',\n",
       "  {'entities': [(11, 32, 'role'), (36, 45, 'movie')]}),\n",
       " ('Who is the voice actor of the film Demonlover?',\n",
       "  {'entities': [(11, 22, 'role'), (35, 45, 'movie')]}),\n",
       " ('Who oversaw the making of The Unforgiven',\n",
       "  {'entities': [(26, 40, 'movie')]}),\n",
       " ('Who was in charge of directing Kadal?',\n",
       "  {'entities': [(31, 36, 'movie'), (21, 27, 'action')]}),\n",
       " ('Who was the operator of The Last Wedding',\n",
       "  {'entities': [(12, 20, 'role'), (24, 40, 'movie')]}),\n",
       " ('Give me the performer of Vendeta',\n",
       "  {'entities': [(12, 21, 'role'), (25, 32, 'movie')]}),\n",
       " ('Give me the name of the actor of The Cowboy and the Lady',\n",
       "  {'entities': [(24, 29, 'role'), (33, 56, 'movie')]}),\n",
       " (\"I'd like to know the cast's name for Fermat's Room\",\n",
       "  {'entities': [(21, 25, 'role'), (37, 50, 'movie')]}),\n",
       " (\"I'm curious about the person who directed Aadukalam\",\n",
       "  {'entities': [(42, 51, 'movie'), (33, 41, 'action'), (33, 39, 'action')]}),\n",
       " ('Identify the director of Princess',\n",
       "  {'entities': [(13, 21, 'role'), (25, 33, 'movie'), (13, 19, 'action')]}),\n",
       " ('Tell me the screenwriter behind Garbage Prince',\n",
       "  {'entities': [(12, 24, 'role'), (32, 46, 'movie')]}),\n",
       " ('Tell me the producer for Sibelius',\n",
       "  {'entities': [(12, 20, 'role'), (25, 33, 'movie'), (12, 19, 'action')]}),\n",
       " ('Tell me the developer of Blind Dating',\n",
       "  {'entities': [(12, 21, 'role'), (25, 37, 'movie')]}),\n",
       " (\"What is the film editor's name for the movie Canned Dreams?\",\n",
       "  {'entities': [(12, 23, 'role'), (45, 58, 'movie'), (17, 21, 'action')]}),\n",
       " ('Who director of photography in Grave Encounters?',\n",
       "  {'entities': [(4, 27, 'role'), (31, 47, 'movie'), (4, 10, 'action')]}),\n",
       " ('Who wrote Marley?', {'entities': [(10, 16, 'movie'), (4, 9, 'action')]}),\n",
       " ('Who directed the movie Everything Must Go?',\n",
       "  {'entities': [(23, 41, 'movie'), (4, 12, 'action'), (4, 10, 'action')]}),\n",
       " (\"Who is the art director of De l'autre côté du lit?\",\n",
       "  {'entities': [(11, 23, 'role'), (27, 49, 'movie'), (15, 21, 'action')]}),\n",
       " ('Who is the author of the film Valo?',\n",
       "  {'entities': [(11, 17, 'role'), (30, 34, 'movie')]}),\n",
       " ('Who oversaw the making of P2', {'entities': [(26, 28, 'movie')]}),\n",
       " ('Who was in charge of directing Taboo?',\n",
       "  {'entities': [(31, 36, 'movie'), (21, 27, 'action')]}),\n",
       " ('Who was the animator of Not One Less',\n",
       "  {'entities': [(12, 20, 'role'), (24, 36, 'movie')]}),\n",
       " ('Give me the creator of Bright Star',\n",
       "  {'entities': [(12, 19, 'role'), (23, 34, 'movie')]}),\n",
       " ('Give me the name of the participant of Shadowzone',\n",
       "  {'entities': [(24, 35, 'role'), (39, 49, 'movie')]}),\n",
       " (\"I'd like to know the member of the crew of's name for Swing Time\",\n",
       "  {'entities': [(21, 42, 'role'), (54, 64, 'movie')]}),\n",
       " (\"I'm curious about the person who wrote The Banger Sisters\",\n",
       "  {'entities': [(39, 57, 'movie'), (33, 38, 'action')]}),\n",
       " ('Identify the publisher of Hurricane',\n",
       "  {'entities': [(13, 22, 'role'), (26, 35, 'movie')]}),\n",
       " ('Tell me the musical conductor behind Between Strangers',\n",
       "  {'entities': [(12, 29, 'role'), (37, 54, 'movie')]}),\n",
       " ('Tell me the operator for Monkeybone',\n",
       "  {'entities': [(12, 20, 'role'), (25, 35, 'movie')]}),\n",
       " (\"Tell me the performer of Gone Fishin'\",\n",
       "  {'entities': [(12, 21, 'role'), (25, 37, 'movie')]}),\n",
       " (\"What is the actor's name for the movie The Holcroft Covenant?\",\n",
       "  {'entities': [(12, 17, 'role'), (39, 60, 'movie')]}),\n",
       " ('Who cast in The Albanian?',\n",
       "  {'entities': [(4, 8, 'role'), (12, 24, 'movie')]}),\n",
       " ('Who directed El otro?',\n",
       "  {'entities': [(13, 20, 'movie'), (4, 12, 'action'), (4, 10, 'action')]}),\n",
       " ('Who wrote the movie The Assault?',\n",
       "  {'entities': [(20, 31, 'movie'), (4, 9, 'action')]}),\n",
       " ('Who is the screenwriter of The Architect?',\n",
       "  {'entities': [(11, 23, 'role'), (27, 40, 'movie')]}),\n",
       " ('Who is the producer of the film Heartbreaker?',\n",
       "  {'entities': [(11, 19, 'role'), (32, 44, 'movie'), (11, 18, 'action')]}),\n",
       " ('Who oversaw the making of One 2 Ka 4', {'entities': [(26, 36, 'movie')]}),\n",
       " ('Who was in charge of directing Hana and Alice?',\n",
       "  {'entities': [(31, 45, 'movie'), (21, 27, 'action')]}),\n",
       " ('Who was the director of photography of The Beekeeper',\n",
       "  {'entities': [(12, 35, 'role'), (39, 52, 'movie'), (12, 18, 'action')]}),\n",
       " ('Give me the film crew member of The Lair of the White Worm',\n",
       "  {'entities': [(12, 28, 'role'), (32, 58, 'movie')]}),\n",
       " ('Give me the name of the choreographer of August',\n",
       "  {'entities': [(24, 37, 'role'), (41, 47, 'movie')]}),\n",
       " (\"I'd like to know the art director's name for Chill Factor\",\n",
       "  {'entities': [(21, 33, 'role'), (45, 57, 'movie'), (25, 31, 'action')]}),\n",
       " (\"I'm curious about the person who directed Swing Vote\",\n",
       "  {'entities': [(42, 52, 'movie'), (33, 41, 'action'), (33, 39, 'action')]}),\n",
       " ('Identify the presenter of The Commander',\n",
       "  {'entities': [(13, 22, 'role'), (26, 39, 'movie')]}),\n",
       " ('Tell me the narrator behind Boom Town',\n",
       "  {'entities': [(12, 20, 'role'), (28, 37, 'movie')]}),\n",
       " ('Tell me the animator for The Scent of Green Papaya',\n",
       "  {'entities': [(12, 20, 'role'), (25, 50, 'movie')]}),\n",
       " ('Tell me the creator of The Polar Bear',\n",
       "  {'entities': [(12, 19, 'role'), (23, 37, 'movie')]}),\n",
       " (\"What is the participant's name for the movie The Conqueror?\",\n",
       "  {'entities': [(12, 23, 'role'), (45, 58, 'movie')]}),\n",
       " ('Who member of the crew of in The Falcon and the Snowman?',\n",
       "  {'entities': [(4, 25, 'role'), (29, 55, 'movie')]}),\n",
       " ('Who wrote 5 Fingers?', {'entities': [(10, 19, 'movie'), (4, 9, 'action')]}),\n",
       " ('Who directed the movie Fireproof?',\n",
       "  {'entities': [(23, 32, 'movie'), (4, 12, 'action'), (4, 10, 'action')]}),\n",
       " (\"Who is the musical conductor of The Fireman's Ball?\",\n",
       "  {'entities': [(11, 28, 'role'), (32, 50, 'movie')]}),\n",
       " ('Who is the operator of the film Dragonfly?',\n",
       "  {'entities': [(11, 19, 'role'), (32, 41, 'movie')]}),\n",
       " ('Who oversaw the making of Büyü', {'entities': [(26, 30, 'movie')]}),\n",
       " ('Who was in charge of directing Ip Man 2?',\n",
       "  {'entities': [(31, 39, 'movie'), (21, 27, 'action')]}),\n",
       " ('Who was the cast of An American Haunting',\n",
       "  {'entities': [(12, 16, 'role'), (20, 40, 'movie')]}),\n",
       " ('Give me the cast member of Sphinx',\n",
       "  {'entities': [(12, 23, 'role'), (27, 33, 'movie')]}),\n",
       " ('Give me the name of the director of The Vanishing Point',\n",
       "  {'entities': [(24, 32, 'role'), (36, 55, 'movie'), (24, 30, 'action')]}),\n",
       " (\"I'd like to know the screenwriter's name for Criminal Law\",\n",
       "  {'entities': [(21, 33, 'role'), (45, 57, 'movie')]}),\n",
       " (\"I'm curious about the person who wrote Beau Travail\",\n",
       "  {'entities': [(39, 51, 'movie'), (33, 38, 'action')]}),\n",
       " ('Identify the developer of The Fox and the Child',\n",
       "  {'entities': [(13, 22, 'role'), (26, 47, 'movie')]}),\n",
       " ('Tell me the film editor behind The Reivers',\n",
       "  {'entities': [(12, 23, 'role'), (31, 42, 'movie'), (17, 21, 'action')]}),\n",
       " ('Tell me the director of photography for Winners and Sinners',\n",
       "  {'entities': [(12, 35, 'role'), (40, 59, 'movie'), (12, 18, 'action')]}),\n",
       " ('Tell me the film crew member of Ghost of Mae Nak',\n",
       "  {'entities': [(12, 28, 'role'), (32, 48, 'movie')]}),\n",
       " (\"What is the choreographer's name for the movie Chandramukhi?\",\n",
       "  {'entities': [(12, 25, 'role'), (47, 59, 'movie')]}),\n",
       " ('Who art director in Affliction?',\n",
       "  {'entities': [(4, 16, 'role'), (20, 30, 'movie'), (8, 14, 'action')]}),\n",
       " ('Who directed The General?',\n",
       "  {'entities': [(13, 24, 'movie'), (4, 12, 'action'), (4, 10, 'action')]}),\n",
       " ('Who wrote the movie The General Died at Dawn?',\n",
       "  {'entities': [(20, 44, 'movie'), (4, 9, 'action')]}),\n",
       " ('Who is the narrator of An Eye for an Eye?',\n",
       "  {'entities': [(11, 19, 'role'), (23, 40, 'movie')]}),\n",
       " ('Who is the animator of the film Big Man Japan?',\n",
       "  {'entities': [(11, 19, 'role'), (32, 45, 'movie')]}),\n",
       " ('Who oversaw the making of Holy Man', {'entities': [(26, 34, 'movie')]}),\n",
       " ...]"
      ]
     },
     "execution_count": 58,
     "metadata": {},
     "output_type": "execute_result"
    }
   ],
   "source": [
    "TRAIN_DATA"
   ]
  },
  {
   "cell_type": "code",
   "execution_count": 59,
   "id": "886b9b94",
   "metadata": {
    "scrolled": true
   },
   "outputs": [
    {
     "data": {
      "text/html": [
       "<span class=\"tex2jax_ignore\"><div class=\"entities\" style=\"line-height: 2.5; direction: ltr\">I'd like to know the \n",
       "<mark class=\"entity\" style=\"background: #ddd; padding: 0.45em 0.6em; margin: 0 0.25em; line-height: 1; border-radius: 0.35em;\">\n",
       "    author\n",
       "    <span style=\"font-size: 0.8em; font-weight: bold; line-height: 1; border-radius: 0.35em; vertical-align: middle; margin-left: 0.5rem\">role</span>\n",
       "</mark>\n",
       "'s name for \n",
       "<mark class=\"entity\" style=\"background: #ddd; padding: 0.45em 0.6em; margin: 0 0.25em; line-height: 1; border-radius: 0.35em;\">\n",
       "    How Much Does the Trojan Horse Weigh\n",
       "    <span style=\"font-size: 0.8em; font-weight: bold; line-height: 1; border-radius: 0.35em; vertical-align: middle; margin-left: 0.5rem\">movie</span>\n",
       "</mark>\n",
       "?</div></span>"
      ],
      "text/plain": [
       "<IPython.core.display.HTML object>"
      ]
     },
     "metadata": {},
     "output_type": "display_data"
    },
    {
     "name": "stdout",
     "output_type": "stream",
     "text": [
      "I'd like to know the author's name for How Much Does the Trojan Horse Weigh? {'entities': [(21, 27, 'role'), (39, 76, 'movie')]}\n",
      "Missing movie label\n"
     ]
    },
    {
     "data": {
      "text/html": [
       "<span class=\"tex2jax_ignore\"><div class=\"entities\" style=\"line-height: 2.5; direction: ltr\">Who oversaw the making of \n",
       "<mark class=\"entity\" style=\"background: #ddd; padding: 0.45em 0.6em; margin: 0 0.25em; line-height: 1; border-radius: 0.35em;\">\n",
       "    What Have They Done to Your Daughters\n",
       "    <span style=\"font-size: 0.8em; font-weight: bold; line-height: 1; border-radius: 0.35em; vertical-align: middle; margin-left: 0.5rem\">movie</span>\n",
       "</mark>\n",
       "?</div></span>"
      ],
      "text/plain": [
       "<IPython.core.display.HTML object>"
      ]
     },
     "metadata": {},
     "output_type": "display_data"
    },
    {
     "name": "stdout",
     "output_type": "stream",
     "text": [
      "Who oversaw the making of What Have They Done to Your Daughters? {'entities': [(26, 64, 'movie')]}\n",
      "Missing movie label\n"
     ]
    },
    {
     "data": {
      "text/html": [
       "<span class=\"tex2jax_ignore\"><div class=\"entities\" style=\"line-height: 2.5; direction: ltr\">I'd like to know the \n",
       "<mark class=\"entity\" style=\"background: #ddd; padding: 0.45em 0.6em; margin: 0 0.25em; line-height: 1; border-radius: 0.35em;\">\n",
       "    film editor\n",
       "    <span style=\"font-size: 0.8em; font-weight: bold; line-height: 1; border-radius: 0.35em; vertical-align: middle; margin-left: 0.5rem\">role</span>\n",
       "</mark>\n",
       "'s name for \n",
       "<mark class=\"entity\" style=\"background: #ddd; padding: 0.45em 0.6em; margin: 0 0.25em; line-height: 1; border-radius: 0.35em;\">\n",
       "    Maine Pyaar Kyun Kiya\n",
       "    <span style=\"font-size: 0.8em; font-weight: bold; line-height: 1; border-radius: 0.35em; vertical-align: middle; margin-left: 0.5rem\">movie</span>\n",
       "</mark>\n",
       "?</div></span>"
      ],
      "text/plain": [
       "<IPython.core.display.HTML object>"
      ]
     },
     "metadata": {},
     "output_type": "display_data"
    },
    {
     "name": "stdout",
     "output_type": "stream",
     "text": [
      "I'd like to know the film editor's name for Maine Pyaar Kyun Kiya? {'entities': [(21, 32, 'role'), (44, 66, 'movie'), (26, 30, 'action')]}\n",
      "Missing movie label\n"
     ]
    },
    {
     "data": {
      "text/html": [
       "<span class=\"tex2jax_ignore\"><div class=\"entities\" style=\"line-height: 2.5; direction: ltr\">Tell me the \n",
       "<mark class=\"entity\" style=\"background: #ddd; padding: 0.45em 0.6em; margin: 0 0.25em; line-height: 1; border-radius: 0.35em;\">\n",
       "    film crew member\n",
       "    <span style=\"font-size: 0.8em; font-weight: bold; line-height: 1; border-radius: 0.35em; vertical-align: middle; margin-left: 0.5rem\">role</span>\n",
       "</mark>\n",
       " behind \n",
       "<mark class=\"entity\" style=\"background: #ddd; padding: 0.45em 0.6em; margin: 0 0.25em; line-height: 1; border-radius: 0.35em;\">\n",
       "    Is the Man Who Is Tall Happy\n",
       "    <span style=\"font-size: 0.8em; font-weight: bold; line-height: 1; border-radius: 0.35em; vertical-align: middle; margin-left: 0.5rem\">movie</span>\n",
       "</mark>\n",
       "?</div></span>"
      ],
      "text/plain": [
       "<IPython.core.display.HTML object>"
      ]
     },
     "metadata": {},
     "output_type": "display_data"
    },
    {
     "name": "stdout",
     "output_type": "stream",
     "text": [
      "Tell me the film crew member behind Is the Man Who Is Tall Happy? {'entities': [(12, 28, 'role'), (36, 65, 'movie')]}\n",
      "Missing movie label\n"
     ]
    },
    {
     "data": {
      "text/html": [
       "<span class=\"tex2jax_ignore\"><div class=\"entities\" style=\"line-height: 2.5; direction: ltr\">Identify the \n",
       "<mark class=\"entity\" style=\"background: #ddd; padding: 0.45em 0.6em; margin: 0 0.25em; line-height: 1; border-radius: 0.35em;\">\n",
       "    voice actor\n",
       "    <span style=\"font-size: 0.8em; font-weight: bold; line-height: 1; border-radius: 0.35em; vertical-align: middle; margin-left: 0.5rem\">role</span>\n",
       "</mark>\n",
       " of \n",
       "<mark class=\"entity\" style=\"background: #ddd; padding: 0.45em 0.6em; margin: 0 0.25em; line-height: 1; border-radius: 0.35em;\">\n",
       "    What the Bleep Do We Know!\n",
       "    <span style=\"font-size: 0.8em; font-weight: bold; line-height: 1; border-radius: 0.35em; vertical-align: middle; margin-left: 0.5rem\">movie</span>\n",
       "</mark>\n",
       "?</div></span>"
      ],
      "text/plain": [
       "<IPython.core.display.HTML object>"
      ]
     },
     "metadata": {},
     "output_type": "display_data"
    },
    {
     "name": "stdout",
     "output_type": "stream",
     "text": [
      "Identify the voice actor of What the Bleep Do We Know!? {'entities': [(13, 24, 'role'), (28, 55, 'movie')]}\n",
      "Missing movie label\n"
     ]
    },
    {
     "data": {
      "text/html": [
       "<span class=\"tex2jax_ignore\"><div class=\"entities\" style=\"line-height: 2.5; direction: ltr\">Tell me the \n",
       "<mark class=\"entity\" style=\"background: #ddd; padding: 0.45em 0.6em; margin: 0 0.25em; line-height: 1; border-radius: 0.35em;\">\n",
       "    cast\n",
       "    <span style=\"font-size: 0.8em; font-weight: bold; line-height: 1; border-radius: 0.35em; vertical-align: middle; margin-left: 0.5rem\">role</span>\n",
       "</mark>\n",
       " behind \n",
       "<mark class=\"entity\" style=\"background: #ddd; padding: 0.45em 0.6em; margin: 0 0.25em; line-height: 1; border-radius: 0.35em;\">\n",
       "    Tell\n",
       "    <span style=\"font-size: 0.8em; font-weight: bold; line-height: 1; border-radius: 0.35em; vertical-align: middle; margin-left: 0.5rem\">movie</span>\n",
       "</mark>\n",
       "</div></span>"
      ],
      "text/plain": [
       "<IPython.core.display.HTML object>"
      ]
     },
     "metadata": {},
     "output_type": "display_data"
    },
    {
     "name": "stdout",
     "output_type": "stream",
     "text": [
      "Tell me the cast behind Tell {'entities': [(12, 16, 'role'), (0, 4, 'movie')]}\n",
      "Missing movie label\n"
     ]
    },
    {
     "data": {
      "text/html": [
       "<span class=\"tex2jax_ignore\"><div class=\"entities\" style=\"line-height: 2.5; direction: ltr\">Identify the \n",
       "<mark class=\"entity\" style=\"background: #ddd; padding: 0.45em 0.6em; margin: 0 0.25em; line-height: 1; border-radius: 0.35em;\">\n",
       "    art director\n",
       "    <span style=\"font-size: 0.8em; font-weight: bold; line-height: 1; border-radius: 0.35em; vertical-align: middle; margin-left: 0.5rem\">role</span>\n",
       "</mark>\n",
       " of \n",
       "<mark class=\"entity\" style=\"background: #ddd; padding: 0.45em 0.6em; margin: 0 0.25em; line-height: 1; border-radius: 0.35em;\">\n",
       "    Who's Afraid of Virginia Woolf\n",
       "    <span style=\"font-size: 0.8em; font-weight: bold; line-height: 1; border-radius: 0.35em; vertical-align: middle; margin-left: 0.5rem\">movie</span>\n",
       "</mark>\n",
       "?</div></span>"
      ],
      "text/plain": [
       "<IPython.core.display.HTML object>"
      ]
     },
     "metadata": {},
     "output_type": "display_data"
    },
    {
     "name": "stdout",
     "output_type": "stream",
     "text": [
      "Identify the art director of Who's Afraid of Virginia Woolf? {'entities': [(13, 25, 'role'), (29, 60, 'movie'), (17, 23, 'action')]}\n",
      "Missing movie label\n"
     ]
    },
    {
     "data": {
      "text/html": [
       "<span class=\"tex2jax_ignore\"><div class=\"entities\" style=\"line-height: 2.5; direction: ltr\">Who oversaw the making of \n",
       "<mark class=\"entity\" style=\"background: #ddd; padding: 0.45em 0.6em; margin: 0 0.25em; line-height: 1; border-radius: 0.35em;\">\n",
       "    Mais qui a tué Pamela Rose\n",
       "    <span style=\"font-size: 0.8em; font-weight: bold; line-height: 1; border-radius: 0.35em; vertical-align: middle; margin-left: 0.5rem\">movie</span>\n",
       "</mark>\n",
       "?</div></span>"
      ],
      "text/plain": [
       "<IPython.core.display.HTML object>"
      ]
     },
     "metadata": {},
     "output_type": "display_data"
    },
    {
     "name": "stdout",
     "output_type": "stream",
     "text": [
      "Who oversaw the making of Mais qui a tué Pamela Rose? {'entities': [(26, 53, 'movie')]}\n",
      "Missing movie label\n"
     ]
    },
    {
     "data": {
      "text/html": [
       "<span class=\"tex2jax_ignore\"><div class=\"entities\" style=\"line-height: 2.5; direction: ltr\">Give me the name of the \n",
       "<mark class=\"entity\" style=\"background: #ddd; padding: 0.45em 0.6em; margin: 0 0.25em; line-height: 1; border-radius: 0.35em;\">\n",
       "    producer\n",
       "    <span style=\"font-size: 0.8em; font-weight: bold; line-height: 1; border-radius: 0.35em; vertical-align: middle; margin-left: 0.5rem\">role</span>\n",
       "</mark>\n",
       " of \n",
       "<mark class=\"entity\" style=\"background: #ddd; padding: 0.45em 0.6em; margin: 0 0.25em; line-height: 1; border-radius: 0.35em;\">\n",
       "    What Have You Done to Solange\n",
       "    <span style=\"font-size: 0.8em; font-weight: bold; line-height: 1; border-radius: 0.35em; vertical-align: middle; margin-left: 0.5rem\">movie</span>\n",
       "</mark>\n",
       "?</div></span>"
      ],
      "text/plain": [
       "<IPython.core.display.HTML object>"
      ]
     },
     "metadata": {},
     "output_type": "display_data"
    },
    {
     "name": "stdout",
     "output_type": "stream",
     "text": [
      "Give me the name of the producer of What Have You Done to Solange? {'entities': [(24, 32, 'role'), (36, 66, 'movie'), (24, 31, 'action')]}\n",
      "Missing movie label\n"
     ]
    },
    {
     "data": {
      "text/html": [
       "<span class=\"tex2jax_ignore\"><div class=\"entities\" style=\"line-height: 2.5; direction: ltr\">Tell me the \n",
       "<mark class=\"entity\" style=\"background: #ddd; padding: 0.45em 0.6em; margin: 0 0.25em; line-height: 1; border-radius: 0.35em;\">\n",
       "    cast member\n",
       "    <span style=\"font-size: 0.8em; font-weight: bold; line-height: 1; border-radius: 0.35em; vertical-align: middle; margin-left: 0.5rem\">role</span>\n",
       "</mark>\n",
       " behind \n",
       "<mark class=\"entity\" style=\"background: #ddd; padding: 0.45em 0.6em; margin: 0 0.25em; line-height: 1; border-radius: 0.35em;\">\n",
       "    What’s Going On\n",
       "    <span style=\"font-size: 0.8em; font-weight: bold; line-height: 1; border-radius: 0.35em; vertical-align: middle; margin-left: 0.5rem\">movie</span>\n",
       "</mark>\n",
       "?</div></span>"
      ],
      "text/plain": [
       "<IPython.core.display.HTML object>"
      ]
     },
     "metadata": {},
     "output_type": "display_data"
    },
    {
     "name": "stdout",
     "output_type": "stream",
     "text": [
      "Tell me the cast member behind What’s Going On? {'entities': [(12, 23, 'role'), (31, 47, 'movie')]}\n",
      "Missing movie label\n"
     ]
    },
    {
     "data": {
      "text/html": [
       "<span class=\"tex2jax_ignore\"><div class=\"entities\" style=\"line-height: 2.5; direction: ltr\">I'd like to know the \n",
       "<mark class=\"entity\" style=\"background: #ddd; padding: 0.45em 0.6em; margin: 0 0.25em; line-height: 1; border-radius: 0.35em;\">\n",
       "    creator\n",
       "    <span style=\"font-size: 0.8em; font-weight: bold; line-height: 1; border-radius: 0.35em; vertical-align: middle; margin-left: 0.5rem\">role</span>\n",
       "</mark>\n",
       "'s name for \n",
       "<mark class=\"entity\" style=\"background: #ddd; padding: 0.45em 0.6em; margin: 0 0.25em; line-height: 1; border-radius: 0.35em;\">\n",
       "    Will It Snow for Christmas\n",
       "    <span style=\"font-size: 0.8em; font-weight: bold; line-height: 1; border-radius: 0.35em; vertical-align: middle; margin-left: 0.5rem\">movie</span>\n",
       "</mark>\n",
       "?</div></span>"
      ],
      "text/plain": [
       "<IPython.core.display.HTML object>"
      ]
     },
     "metadata": {},
     "output_type": "display_data"
    },
    {
     "name": "stdout",
     "output_type": "stream",
     "text": [
      "I'd like to know the creator's name for Will It Snow for Christmas? {'entities': [(21, 28, 'role'), (40, 67, 'movie')]}\n",
      "Missing movie label\n"
     ]
    },
    {
     "data": {
      "text/html": [
       "<span class=\"tex2jax_ignore\"><div class=\"entities\" style=\"line-height: 2.5; direction: ltr\">Identify the \n",
       "<mark class=\"entity\" style=\"background: #ddd; padding: 0.45em 0.6em; margin: 0 0.25em; line-height: 1; border-radius: 0.35em;\">\n",
       "    art director\n",
       "    <span style=\"font-size: 0.8em; font-weight: bold; line-height: 1; border-radius: 0.35em; vertical-align: middle; margin-left: 0.5rem\">role</span>\n",
       "</mark>\n",
       " of \n",
       "<mark class=\"entity\" style=\"background: #ddd; padding: 0.45em 0.6em; margin: 0 0.25em; line-height: 1; border-radius: 0.35em;\">\n",
       "    Ça se soigne\n",
       "    <span style=\"font-size: 0.8em; font-weight: bold; line-height: 1; border-radius: 0.35em; vertical-align: middle; margin-left: 0.5rem\">movie</span>\n",
       "</mark>\n",
       "?</div></span>"
      ],
      "text/plain": [
       "<IPython.core.display.HTML object>"
      ]
     },
     "metadata": {},
     "output_type": "display_data"
    },
    {
     "name": "stdout",
     "output_type": "stream",
     "text": [
      "Identify the art director of Ça se soigne? {'entities': [(13, 25, 'role'), (29, 42, 'movie'), (17, 23, 'action')]}\n",
      "Missing movie label\n"
     ]
    },
    {
     "data": {
      "text/html": [
       "<span class=\"tex2jax_ignore\"><div class=\"entities\" style=\"line-height: 2.5; direction: ltr\">I'm curious about the person who \n",
       "<mark class=\"entity\" style=\"background: #ddd; padding: 0.45em 0.6em; margin: 0 0.25em; line-height: 1; border-radius: 0.35em;\">\n",
       "    directed\n",
       "    <span style=\"font-size: 0.8em; font-weight: bold; line-height: 1; border-radius: 0.35em; vertical-align: middle; margin-left: 0.5rem\">action</span>\n",
       "</mark>\n",
       " \n",
       "<mark class=\"entity\" style=\"background: #ddd; padding: 0.45em 0.6em; margin: 0 0.25em; line-height: 1; border-radius: 0.35em;\">\n",
       "    What's Your Number\n",
       "    <span style=\"font-size: 0.8em; font-weight: bold; line-height: 1; border-radius: 0.35em; vertical-align: middle; margin-left: 0.5rem\">movie</span>\n",
       "</mark>\n",
       "?</div></span>"
      ],
      "text/plain": [
       "<IPython.core.display.HTML object>"
      ]
     },
     "metadata": {},
     "output_type": "display_data"
    },
    {
     "name": "stdout",
     "output_type": "stream",
     "text": [
      "I'm curious about the person who directed What's Your Number? {'entities': [(42, 61, 'movie'), (33, 41, 'action'), (33, 39, 'action')]}\n",
      "Missing movie label\n"
     ]
    },
    {
     "data": {
      "text/html": [
       "<span class=\"tex2jax_ignore\"><div class=\"entities\" style=\"line-height: 2.5; direction: ltr\">Tell me the \n",
       "<mark class=\"entity\" style=\"background: #ddd; padding: 0.45em 0.6em; margin: 0 0.25em; line-height: 1; border-radius: 0.35em;\">\n",
       "    member of the crew of\n",
       "    <span style=\"font-size: 0.8em; font-weight: bold; line-height: 1; border-radius: 0.35em; vertical-align: middle; margin-left: 0.5rem\">role</span>\n",
       "</mark>\n",
       " behind \n",
       "<mark class=\"entity\" style=\"background: #ddd; padding: 0.45em 0.6em; margin: 0 0.25em; line-height: 1; border-radius: 0.35em;\">\n",
       "    Quo Vadis, Baby\n",
       "    <span style=\"font-size: 0.8em; font-weight: bold; line-height: 1; border-radius: 0.35em; vertical-align: middle; margin-left: 0.5rem\">movie</span>\n",
       "</mark>\n",
       "?</div></span>"
      ],
      "text/plain": [
       "<IPython.core.display.HTML object>"
      ]
     },
     "metadata": {},
     "output_type": "display_data"
    },
    {
     "name": "stdout",
     "output_type": "stream",
     "text": [
      "Tell me the member of the crew of behind Quo Vadis, Baby? {'entities': [(12, 33, 'role'), (41, 57, 'movie')]}\n",
      "Missing movie label\n"
     ]
    },
    {
     "data": {
      "text/html": [
       "<span class=\"tex2jax_ignore\"><div class=\"entities\" style=\"line-height: 2.5; direction: ltr\">Who oversaw the making of \n",
       "<mark class=\"entity\" style=\"background: #ddd; padding: 0.45em 0.6em; margin: 0 0.25em; line-height: 1; border-radius: 0.35em;\">\n",
       "    Japanese Story\n",
       "    <span style=\"font-size: 0.8em; font-weight: bold; line-height: 1; border-radius: 0.35em; vertical-align: middle; margin-left: 0.5rem\">genre</span>\n",
       "</mark>\n",
       "</div></span>"
      ],
      "text/plain": [
       "<IPython.core.display.HTML object>"
      ]
     },
     "metadata": {},
     "output_type": "display_data"
    },
    {
     "name": "stdout",
     "output_type": "stream",
     "text": [
      "Who oversaw the making of Japanese Story {'entities': [(26, 40, 'movie')]}\n",
      "Missing genre label\n"
     ]
    },
    {
     "data": {
      "text/html": [
       "<span class=\"tex2jax_ignore\"><div class=\"entities\" style=\"line-height: 2.5; direction: ltr\">Who was the \n",
       "<mark class=\"entity\" style=\"background: #ddd; padding: 0.45em 0.6em; margin: 0 0.25em; line-height: 1; border-radius: 0.35em;\">\n",
       "    screenwriter\n",
       "    <span style=\"font-size: 0.8em; font-weight: bold; line-height: 1; border-radius: 0.35em; vertical-align: middle; margin-left: 0.5rem\">role</span>\n",
       "</mark>\n",
       " of \n",
       "<mark class=\"entity\" style=\"background: #ddd; padding: 0.45em 0.6em; margin: 0 0.25em; line-height: 1; border-radius: 0.35em;\">\n",
       "    Any Questions for Ben\n",
       "    <span style=\"font-size: 0.8em; font-weight: bold; line-height: 1; border-radius: 0.35em; vertical-align: middle; margin-left: 0.5rem\">movie</span>\n",
       "</mark>\n",
       "?</div></span>"
      ],
      "text/plain": [
       "<IPython.core.display.HTML object>"
      ]
     },
     "metadata": {},
     "output_type": "display_data"
    },
    {
     "name": "stdout",
     "output_type": "stream",
     "text": [
      "Who was the screenwriter of Any Questions for Ben? {'entities': [(12, 24, 'role'), (28, 50, 'movie')]}\n",
      "Missing movie label\n"
     ]
    },
    {
     "data": {
      "text/html": [
       "<span class=\"tex2jax_ignore\"><div class=\"entities\" style=\"line-height: 2.5; direction: ltr\">I'm curious about the person who \n",
       "<mark class=\"entity\" style=\"background: #ddd; padding: 0.45em 0.6em; margin: 0 0.25em; line-height: 1; border-radius: 0.35em;\">\n",
       "    directed\n",
       "    <span style=\"font-size: 0.8em; font-weight: bold; line-height: 1; border-radius: 0.35em; vertical-align: middle; margin-left: 0.5rem\">action</span>\n",
       "</mark>\n",
       " \n",
       "<mark class=\"entity\" style=\"background: #ddd; padding: 0.45em 0.6em; margin: 0 0.25em; line-height: 1; border-radius: 0.35em;\">\n",
       "    If Not Us, Who\n",
       "    <span style=\"font-size: 0.8em; font-weight: bold; line-height: 1; border-radius: 0.35em; vertical-align: middle; margin-left: 0.5rem\">movie</span>\n",
       "</mark>\n",
       "?</div></span>"
      ],
      "text/plain": [
       "<IPython.core.display.HTML object>"
      ]
     },
     "metadata": {},
     "output_type": "display_data"
    },
    {
     "name": "stdout",
     "output_type": "stream",
     "text": [
      "I'm curious about the person who directed If Not Us, Who? {'entities': [(42, 57, 'movie'), (33, 41, 'action'), (33, 39, 'action')]}\n",
      "Missing movie label\n"
     ]
    },
    {
     "data": {
      "text/html": [
       "<span class=\"tex2jax_ignore\"><div class=\"entities\" style=\"line-height: 2.5; direction: ltr\">Give me the \n",
       "<mark class=\"entity\" style=\"background: #ddd; padding: 0.45em 0.6em; margin: 0 0.25em; line-height: 1; border-radius: 0.35em;\">\n",
       "    participant\n",
       "    <span style=\"font-size: 0.8em; font-weight: bold; line-height: 1; border-radius: 0.35em; vertical-align: middle; margin-left: 0.5rem\">role</span>\n",
       "</mark>\n",
       " of \n",
       "<mark class=\"entity\" style=\"background: #ddd; padding: 0.45em 0.6em; margin: 0 0.25em; line-height: 1; border-radius: 0.35em;\">\n",
       "    Won't You Be My Neighbor\n",
       "    <span style=\"font-size: 0.8em; font-weight: bold; line-height: 1; border-radius: 0.35em; vertical-align: middle; margin-left: 0.5rem\">movie</span>\n",
       "</mark>\n",
       "?</div></span>"
      ],
      "text/plain": [
       "<IPython.core.display.HTML object>"
      ]
     },
     "metadata": {},
     "output_type": "display_data"
    },
    {
     "name": "stdout",
     "output_type": "stream",
     "text": [
      "Give me the participant of Won't You Be My Neighbor? {'entities': [(12, 23, 'role'), (27, 52, 'movie')]}\n",
      "Missing movie label\n"
     ]
    },
    {
     "data": {
      "text/html": [
       "<span class=\"tex2jax_ignore\"><div class=\"entities\" style=\"line-height: 2.5; direction: ltr\">What is the \n",
       "<mark class=\"entity\" style=\"background: #ddd; padding: 0.45em 0.6em; margin: 0 0.25em; line-height: 1; border-radius: 0.35em;\">\n",
       "    art director\n",
       "    <span style=\"font-size: 0.8em; font-weight: bold; line-height: 1; border-radius: 0.35em; vertical-align: middle; margin-left: 0.5rem\">role</span>\n",
       "</mark>\n",
       "'s name for the movie \n",
       "<mark class=\"entity\" style=\"background: #ddd; padding: 0.45em 0.6em; margin: 0 0.25em; line-height: 1; border-radius: 0.35em;\">\n",
       "    Safari – Match me if you can?\n",
       "    <span style=\"font-size: 0.8em; font-weight: bold; line-height: 1; border-radius: 0.35em; vertical-align: middle; margin-left: 0.5rem\">movie</span>\n",
       "</mark>\n",
       "</div></span>"
      ],
      "text/plain": [
       "<IPython.core.display.HTML object>"
      ]
     },
     "metadata": {},
     "output_type": "display_data"
    },
    {
     "name": "stdout",
     "output_type": "stream",
     "text": [
      "What is the art director's name for the movie Safari – Match me if you can? {'entities': [(12, 24, 'role'), (46, 74, 'movie'), (16, 22, 'action')]}\n",
      "Missing movie label\n"
     ]
    },
    {
     "data": {
      "text/html": [
       "<span class=\"tex2jax_ignore\"><div class=\"entities\" style=\"line-height: 2.5; direction: ltr\">Give me the \n",
       "<mark class=\"entity\" style=\"background: #ddd; padding: 0.45em 0.6em; margin: 0 0.25em; line-height: 1; border-radius: 0.35em;\">\n",
       "    film crew member\n",
       "    <span style=\"font-size: 0.8em; font-weight: bold; line-height: 1; border-radius: 0.35em; vertical-align: middle; margin-left: 0.5rem\">role</span>\n",
       "</mark>\n",
       " of \n",
       "<mark class=\"entity\" style=\"background: #ddd; padding: 0.45em 0.6em; margin: 0 0.25em; line-height: 1; border-radius: 0.35em;\">\n",
       "    Why Has Bodhi-Dharma Left for the East\n",
       "    <span style=\"font-size: 0.8em; font-weight: bold; line-height: 1; border-radius: 0.35em; vertical-align: middle; margin-left: 0.5rem\">movie</span>\n",
       "</mark>\n",
       "?</div></span>"
      ],
      "text/plain": [
       "<IPython.core.display.HTML object>"
      ]
     },
     "metadata": {},
     "output_type": "display_data"
    },
    {
     "name": "stdout",
     "output_type": "stream",
     "text": [
      "Give me the film crew member of Why Has Bodhi-Dharma Left for the East? {'entities': [(12, 28, 'role'), (32, 71, 'movie')]}\n",
      "Missing movie label\n"
     ]
    },
    {
     "data": {
      "text/html": [
       "<span class=\"tex2jax_ignore\"><div class=\"entities\" style=\"line-height: 2.5; direction: ltr\">Who oversaw the making of \n",
       "<mark class=\"entity\" style=\"background: #ddd; padding: 0.45em 0.6em; margin: 0 0.25em; line-height: 1; border-radius: 0.35em;\">\n",
       "    À cause des filles..\n",
       "    <span style=\"font-size: 0.8em; font-weight: bold; line-height: 1; border-radius: 0.35em; vertical-align: middle; margin-left: 0.5rem\">movie</span>\n",
       "</mark>\n",
       "?</div></span>"
      ],
      "text/plain": [
       "<IPython.core.display.HTML object>"
      ]
     },
     "metadata": {},
     "output_type": "display_data"
    },
    {
     "name": "stdout",
     "output_type": "stream",
     "text": [
      "Who oversaw the making of À cause des filles..? {'entities': [(26, 47, 'movie')]}\n",
      "Missing movie label\n"
     ]
    },
    {
     "data": {
      "text/html": [
       "<span class=\"tex2jax_ignore\"><div class=\"entities\" style=\"line-height: 2.5; direction: ltr\">Tell me the \n",
       "<mark class=\"entity\" style=\"background: #ddd; padding: 0.45em 0.6em; margin: 0 0.25em; line-height: 1; border-radius: 0.35em;\">\n",
       "    actor\n",
       "    <span style=\"font-size: 0.8em; font-weight: bold; line-height: 1; border-radius: 0.35em; vertical-align: middle; margin-left: 0.5rem\">role</span>\n",
       "</mark>\n",
       " behind \n",
       "<mark class=\"entity\" style=\"background: #ddd; padding: 0.45em 0.6em; margin: 0 0.25em; line-height: 1; border-radius: 0.35em;\">\n",
       "    Kalamazoo\n",
       "    <span style=\"font-size: 0.8em; font-weight: bold; line-height: 1; border-radius: 0.35em; vertical-align: middle; margin-left: 0.5rem\">movie</span>\n",
       "</mark>\n",
       "?</div></span>"
      ],
      "text/plain": [
       "<IPython.core.display.HTML object>"
      ]
     },
     "metadata": {},
     "output_type": "display_data"
    },
    {
     "name": "stdout",
     "output_type": "stream",
     "text": [
      "Tell me the actor behind Kalamazoo? {'entities': [(12, 17, 'role'), (25, 35, 'movie')]}\n",
      "Missing movie label\n"
     ]
    },
    {
     "data": {
      "text/html": [
       "<span class=\"tex2jax_ignore\"><div class=\"entities\" style=\"line-height: 2.5; direction: ltr\">I'm curious about the person who \n",
       "<mark class=\"entity\" style=\"background: #ddd; padding: 0.45em 0.6em; margin: 0 0.25em; line-height: 1; border-radius: 0.35em;\">\n",
       "    wrote\n",
       "    <span style=\"font-size: 0.8em; font-weight: bold; line-height: 1; border-radius: 0.35em; vertical-align: middle; margin-left: 0.5rem\">action</span>\n",
       "</mark>\n",
       " \n",
       "<mark class=\"entity\" style=\"background: #ddd; padding: 0.45em 0.6em; margin: 0 0.25em; line-height: 1; border-radius: 0.35em;\">\n",
       "    Shall We Dance\n",
       "    <span style=\"font-size: 0.8em; font-weight: bold; line-height: 1; border-radius: 0.35em; vertical-align: middle; margin-left: 0.5rem\">movie</span>\n",
       "</mark>\n",
       "?</div></span>"
      ],
      "text/plain": [
       "<IPython.core.display.HTML object>"
      ]
     },
     "metadata": {},
     "output_type": "display_data"
    },
    {
     "name": "stdout",
     "output_type": "stream",
     "text": [
      "I'm curious about the person who wrote Shall We Dance? {'entities': [(39, 54, 'movie'), (33, 38, 'action')]}\n",
      "Missing movie label\n"
     ]
    },
    {
     "data": {
      "text/html": [
       "<span class=\"tex2jax_ignore\"><div class=\"entities\" style=\"line-height: 2.5; direction: ltr\">Give me the name of the \n",
       "<mark class=\"entity\" style=\"background: #ddd; padding: 0.45em 0.6em; margin: 0 0.25em; line-height: 1; border-radius: 0.35em;\">\n",
       "    member of the crew of\n",
       "    <span style=\"font-size: 0.8em; font-weight: bold; line-height: 1; border-radius: 0.35em; vertical-align: middle; margin-left: 0.5rem\">role</span>\n",
       "</mark>\n",
       " of \n",
       "<mark class=\"entity\" style=\"background: #ddd; padding: 0.45em 0.6em; margin: 0 0.25em; line-height: 1; border-radius: 0.35em;\">\n",
       "    Getting Any\n",
       "    <span style=\"font-size: 0.8em; font-weight: bold; line-height: 1; border-radius: 0.35em; vertical-align: middle; margin-left: 0.5rem\">movie</span>\n",
       "</mark>\n",
       "?</div></span>"
      ],
      "text/plain": [
       "<IPython.core.display.HTML object>"
      ]
     },
     "metadata": {},
     "output_type": "display_data"
    },
    {
     "name": "stdout",
     "output_type": "stream",
     "text": [
      "Give me the name of the member of the crew of of Getting Any? {'entities': [(24, 45, 'role'), (49, 61, 'movie')]}\n",
      "Missing movie label\n"
     ]
    },
    {
     "data": {
      "text/html": [
       "<span class=\"tex2jax_ignore\"><div class=\"entities\" style=\"line-height: 2.5; direction: ltr\">I'd like to know the \n",
       "<mark class=\"entity\" style=\"background: #ddd; padding: 0.45em 0.6em; margin: 0 0.25em; line-height: 1; border-radius: 0.35em;\">\n",
       "    cast member\n",
       "    <span style=\"font-size: 0.8em; font-weight: bold; line-height: 1; border-radius: 0.35em; vertical-align: middle; margin-left: 0.5rem\">role</span>\n",
       "</mark>\n",
       "'s name for \n",
       "<mark class=\"entity\" style=\"background: #ddd; padding: 0.45em 0.6em; margin: 0 0.25em; line-height: 1; border-radius: 0.35em;\">\n",
       "    What's New About Love\n",
       "    <span style=\"font-size: 0.8em; font-weight: bold; line-height: 1; border-radius: 0.35em; vertical-align: middle; margin-left: 0.5rem\">movie</span>\n",
       "</mark>\n",
       "?</div></span>"
      ],
      "text/plain": [
       "<IPython.core.display.HTML object>"
      ]
     },
     "metadata": {},
     "output_type": "display_data"
    },
    {
     "name": "stdout",
     "output_type": "stream",
     "text": [
      "I'd like to know the cast member's name for What's New About Love? {'entities': [(21, 32, 'role'), (44, 66, 'movie')]}\n",
      "Missing movie label\n"
     ]
    },
    {
     "data": {
      "text/html": [
       "<span class=\"tex2jax_ignore\"><div class=\"entities\" style=\"line-height: 2.5; direction: ltr\">I'm curious about the person who \n",
       "<mark class=\"entity\" style=\"background: #ddd; padding: 0.45em 0.6em; margin: 0 0.25em; line-height: 1; border-radius: 0.35em;\">\n",
       "    wrote\n",
       "    <span style=\"font-size: 0.8em; font-weight: bold; line-height: 1; border-radius: 0.35em; vertical-align: middle; margin-left: 0.5rem\">action</span>\n",
       "</mark>\n",
       " \n",
       "<mark class=\"entity\" style=\"background: #ddd; padding: 0.45em 0.6em; margin: 0 0.25em; line-height: 1; border-radius: 0.35em;\">\n",
       "    What's Your Raashee\n",
       "    <span style=\"font-size: 0.8em; font-weight: bold; line-height: 1; border-radius: 0.35em; vertical-align: middle; margin-left: 0.5rem\">movie</span>\n",
       "</mark>\n",
       "?</div></span>"
      ],
      "text/plain": [
       "<IPython.core.display.HTML object>"
      ]
     },
     "metadata": {},
     "output_type": "display_data"
    },
    {
     "name": "stdout",
     "output_type": "stream",
     "text": [
      "I'm curious about the person who wrote What's Your Raashee? {'entities': [(39, 59, 'movie'), (33, 38, 'action')]}\n",
      "Missing movie label\n"
     ]
    },
    {
     "data": {
      "text/html": [
       "<span class=\"tex2jax_ignore\"><div class=\"entities\" style=\"line-height: 2.5; direction: ltr\">Give me the name of the \n",
       "<mark class=\"entity\" style=\"background: #ddd; padding: 0.45em 0.6em; margin: 0 0.25em; line-height: 1; border-radius: 0.35em;\">\n",
       "    member of the crew of\n",
       "    <span style=\"font-size: 0.8em; font-weight: bold; line-height: 1; border-radius: 0.35em; vertical-align: middle; margin-left: 0.5rem\">role</span>\n",
       "</mark>\n",
       " of \n",
       "<mark class=\"entity\" style=\"background: #ddd; padding: 0.45em 0.6em; margin: 0 0.25em; line-height: 1; border-radius: 0.35em;\">\n",
       "    Who Is Harry Nilsson (And Why Is Everybody Talkin' About Him)\n",
       "    <span style=\"font-size: 0.8em; font-weight: bold; line-height: 1; border-radius: 0.35em; vertical-align: middle; margin-left: 0.5rem\">movie</span>\n",
       "</mark>\n",
       "?</div></span>"
      ],
      "text/plain": [
       "<IPython.core.display.HTML object>"
      ]
     },
     "metadata": {},
     "output_type": "display_data"
    },
    {
     "name": "stdout",
     "output_type": "stream",
     "text": [
      "Give me the name of the member of the crew of of Who Is Harry Nilsson (And Why Is Everybody Talkin' About Him)? {'entities': [(24, 45, 'role'), (49, 111, 'movie')]}\n",
      "Missing movie label\n"
     ]
    },
    {
     "data": {
      "text/html": [
       "<span class=\"tex2jax_ignore\"><div class=\"entities\" style=\"line-height: 2.5; direction: ltr\">I'm curious about the person who \n",
       "<mark class=\"entity\" style=\"background: #ddd; padding: 0.45em 0.6em; margin: 0 0.25em; line-height: 1; border-radius: 0.35em;\">\n",
       "    directed\n",
       "    <span style=\"font-size: 0.8em; font-weight: bold; line-height: 1; border-radius: 0.35em; vertical-align: middle; margin-left: 0.5rem\">action</span>\n",
       "</mark>\n",
       " \n",
       "<mark class=\"entity\" style=\"background: #ddd; padding: 0.45em 0.6em; margin: 0 0.25em; line-height: 1; border-radius: 0.35em;\">\n",
       "    Why Don't You Play in Hell\n",
       "    <span style=\"font-size: 0.8em; font-weight: bold; line-height: 1; border-radius: 0.35em; vertical-align: middle; margin-left: 0.5rem\">movie</span>\n",
       "</mark>\n",
       "?</div></span>"
      ],
      "text/plain": [
       "<IPython.core.display.HTML object>"
      ]
     },
     "metadata": {},
     "output_type": "display_data"
    },
    {
     "name": "stdout",
     "output_type": "stream",
     "text": [
      "I'm curious about the person who directed Why Don't You Play in Hell? {'entities': [(42, 69, 'movie'), (33, 41, 'action'), (33, 39, 'action')]}\n",
      "Missing movie label\n"
     ]
    },
    {
     "data": {
      "text/html": [
       "<span class=\"tex2jax_ignore\"><div class=\"entities\" style=\"line-height: 2.5; direction: ltr\">Identify the \n",
       "<mark class=\"entity\" style=\"background: #ddd; padding: 0.45em 0.6em; margin: 0 0.25em; line-height: 1; border-radius: 0.35em;\">\n",
       "    creator\n",
       "    <span style=\"font-size: 0.8em; font-weight: bold; line-height: 1; border-radius: 0.35em; vertical-align: middle; margin-left: 0.5rem\">role</span>\n",
       "</mark>\n",
       " of \n",
       "<mark class=\"entity\" style=\"background: #ddd; padding: 0.45em 0.6em; margin: 0 0.25em; line-height: 1; border-radius: 0.35em;\">\n",
       "    What Happened, Miss Simone\n",
       "    <span style=\"font-size: 0.8em; font-weight: bold; line-height: 1; border-radius: 0.35em; vertical-align: middle; margin-left: 0.5rem\">movie</span>\n",
       "</mark>\n",
       "?</div></span>"
      ],
      "text/plain": [
       "<IPython.core.display.HTML object>"
      ]
     },
     "metadata": {},
     "output_type": "display_data"
    },
    {
     "name": "stdout",
     "output_type": "stream",
     "text": [
      "Identify the creator of What Happened, Miss Simone? {'entities': [(13, 20, 'role'), (24, 51, 'movie')]}\n",
      "Missing movie label\n"
     ]
    },
    {
     "data": {
      "text/html": [
       "<span class=\"tex2jax_ignore\"><div class=\"entities\" style=\"line-height: 2.5; direction: ltr\">Tell me the \n",
       "<mark class=\"entity\" style=\"background: #ddd; padding: 0.45em 0.6em; margin: 0 0.25em; line-height: 1; border-radius: 0.35em;\">\n",
       "    choreographer\n",
       "    <span style=\"font-size: 0.8em; font-weight: bold; line-height: 1; border-radius: 0.35em; vertical-align: middle; margin-left: 0.5rem\">role</span>\n",
       "</mark>\n",
       " for \n",
       "<mark class=\"entity\" style=\"background: #ddd; padding: 0.45em 0.6em; margin: 0 0.25em; line-height: 1; border-radius: 0.35em;\">\n",
       "    The Death of &quot;Superman Lives&quot;: What Happened\n",
       "    <span style=\"font-size: 0.8em; font-weight: bold; line-height: 1; border-radius: 0.35em; vertical-align: middle; margin-left: 0.5rem\">movie</span>\n",
       "</mark>\n",
       "?</div></span>"
      ],
      "text/plain": [
       "<IPython.core.display.HTML object>"
      ]
     },
     "metadata": {},
     "output_type": "display_data"
    },
    {
     "name": "stdout",
     "output_type": "stream",
     "text": [
      "Tell me the choreographer for The Death of \"Superman Lives\": What Happened? {'entities': [(12, 25, 'role'), (30, 75, 'movie')]}\n",
      "Missing movie label\n"
     ]
    },
    {
     "data": {
      "text/html": [
       "<span class=\"tex2jax_ignore\"><div class=\"entities\" style=\"line-height: 2.5; direction: ltr\">Give me the \n",
       "<mark class=\"entity\" style=\"background: #ddd; padding: 0.45em 0.6em; margin: 0 0.25em; line-height: 1; border-radius: 0.35em;\">\n",
       "    creator\n",
       "    <span style=\"font-size: 0.8em; font-weight: bold; line-height: 1; border-radius: 0.35em; vertical-align: middle; margin-left: 0.5rem\">role</span>\n",
       "</mark>\n",
       " of \n",
       "<mark class=\"entity\" style=\"background: #ddd; padding: 0.45em 0.6em; margin: 0 0.25em; line-height: 1; border-radius: 0.35em;\">\n",
       "    What Ever Happened to Baby Jane\n",
       "    <span style=\"font-size: 0.8em; font-weight: bold; line-height: 1; border-radius: 0.35em; vertical-align: middle; margin-left: 0.5rem\">movie</span>\n",
       "</mark>\n",
       "?</div></span>"
      ],
      "text/plain": [
       "<IPython.core.display.HTML object>"
      ]
     },
     "metadata": {},
     "output_type": "display_data"
    },
    {
     "name": "stdout",
     "output_type": "stream",
     "text": [
      "Give me the creator of What Ever Happened to Baby Jane? {'entities': [(12, 19, 'role'), (23, 55, 'movie')]}\n",
      "Missing movie label\n"
     ]
    },
    {
     "data": {
      "text/html": [
       "<span class=\"tex2jax_ignore\"><div class=\"entities\" style=\"line-height: 2.5; direction: ltr\">Tell me the \n",
       "<mark class=\"entity\" style=\"background: #ddd; padding: 0.45em 0.6em; margin: 0 0.25em; line-height: 1; border-radius: 0.35em;\">\n",
       "    performer\n",
       "    <span style=\"font-size: 0.8em; font-weight: bold; line-height: 1; border-radius: 0.35em; vertical-align: middle; margin-left: 0.5rem\">role</span>\n",
       "</mark>\n",
       " behind \n",
       "<mark class=\"entity\" style=\"background: #ddd; padding: 0.45em 0.6em; margin: 0 0.25em; line-height: 1; border-radius: 0.35em;\">\n",
       "    Mom or Dad\n",
       "    <span style=\"font-size: 0.8em; font-weight: bold; line-height: 1; border-radius: 0.35em; vertical-align: middle; margin-left: 0.5rem\">movie</span>\n",
       "</mark>\n",
       "?</div></span>"
      ],
      "text/plain": [
       "<IPython.core.display.HTML object>"
      ]
     },
     "metadata": {},
     "output_type": "display_data"
    },
    {
     "name": "stdout",
     "output_type": "stream",
     "text": [
      "Tell me the performer behind Mom or Dad? {'entities': [(12, 21, 'role'), (29, 40, 'movie')]}\n",
      "Missing movie label\n"
     ]
    },
    {
     "data": {
      "text/html": [
       "<span class=\"tex2jax_ignore\"><div class=\"entities\" style=\"line-height: 2.5; direction: ltr\">Select all the movies of \n",
       "<mark class=\"entity\" style=\"background: #ddd; padding: 0.45em 0.6em; margin: 0 0.25em; line-height: 1; border-radius: 0.35em;\">\n",
       "    Mythili\n",
       "    <span style=\"font-size: 0.8em; font-weight: bold; line-height: 1; border-radius: 0.35em; vertical-align: middle; margin-left: 0.5rem\">genre</span>\n",
       "</mark>\n",
       "</div></span>"
      ],
      "text/plain": [
       "<IPython.core.display.HTML object>"
      ]
     },
     "metadata": {},
     "output_type": "display_data"
    },
    {
     "name": "stdout",
     "output_type": "stream",
     "text": [
      "Select all the movies of Mythili {'entities': [(25, 32, 'name')]}\n",
      "Missing genre label\n"
     ]
    },
    {
     "data": {
      "text/html": [
       "<span class=\"tex2jax_ignore\"><div class=\"entities\" style=\"line-height: 2.5; direction: ltr\">Give me the \n",
       "<mark class=\"entity\" style=\"background: #ddd; padding: 0.45em 0.6em; margin: 0 0.25em; line-height: 1; border-radius: 0.35em;\">\n",
       "    release\n",
       "    <span style=\"font-size: 0.8em; font-weight: bold; line-height: 1; border-radius: 0.35em; vertical-align: middle; margin-left: 0.5rem\">predicate</span>\n",
       "</mark>\n",
       " \n",
       "<mark class=\"entity\" style=\"background: #ddd; padding: 0.45em 0.6em; margin: 0 0.25em; line-height: 1; border-radius: 0.35em;\">\n",
       "    date\n",
       "    <span style=\"font-size: 0.8em; font-weight: bold; line-height: 1; border-radius: 0.35em; vertical-align: middle; margin-left: 0.5rem\">predicate</span>\n",
       "</mark>\n",
       " for \n",
       "<mark class=\"entity\" style=\"background: #ddd; padding: 0.45em 0.6em; margin: 0 0.25em; line-height: 1; border-radius: 0.35em;\">\n",
       "    How Much Does the Trojan Horse Weigh\n",
       "    <span style=\"font-size: 0.8em; font-weight: bold; line-height: 1; border-radius: 0.35em; vertical-align: middle; margin-left: 0.5rem\">movie</span>\n",
       "</mark>\n",
       "?</div></span>"
      ],
      "text/plain": [
       "<IPython.core.display.HTML object>"
      ]
     },
     "metadata": {},
     "output_type": "display_data"
    },
    {
     "name": "stdout",
     "output_type": "stream",
     "text": [
      "Give me the release date for How Much Does the Trojan Horse Weigh? {'entities': [(29, 66, 'movie'), (12, 19, 'predicate'), (20, 24, 'predicate')]}\n",
      "Missing movie label\n"
     ]
    },
    {
     "data": {
      "text/html": [
       "<span class=\"tex2jax_ignore\"><div class=\"entities\" style=\"line-height: 2.5; direction: ltr\">Give me the \n",
       "<mark class=\"entity\" style=\"background: #ddd; padding: 0.45em 0.6em; margin: 0 0.25em; line-height: 1; border-radius: 0.35em;\">\n",
       "    release\n",
       "    <span style=\"font-size: 0.8em; font-weight: bold; line-height: 1; border-radius: 0.35em; vertical-align: middle; margin-left: 0.5rem\">predicate</span>\n",
       "</mark>\n",
       " \n",
       "<mark class=\"entity\" style=\"background: #ddd; padding: 0.45em 0.6em; margin: 0 0.25em; line-height: 1; border-radius: 0.35em;\">\n",
       "    date\n",
       "    <span style=\"font-size: 0.8em; font-weight: bold; line-height: 1; border-radius: 0.35em; vertical-align: middle; margin-left: 0.5rem\">predicate</span>\n",
       "</mark>\n",
       " for \n",
       "<mark class=\"entity\" style=\"background: #ddd; padding: 0.45em 0.6em; margin: 0 0.25em; line-height: 1; border-radius: 0.35em;\">\n",
       "    Maine Pyaar Kyun Kiya\n",
       "    <span style=\"font-size: 0.8em; font-weight: bold; line-height: 1; border-radius: 0.35em; vertical-align: middle; margin-left: 0.5rem\">movie</span>\n",
       "</mark>\n",
       "?</div></span>"
      ],
      "text/plain": [
       "<IPython.core.display.HTML object>"
      ]
     },
     "metadata": {},
     "output_type": "display_data"
    },
    {
     "name": "stdout",
     "output_type": "stream",
     "text": [
      "Give me the release date for Maine Pyaar Kyun Kiya? {'entities': [(29, 51, 'movie'), (12, 19, 'predicate'), (20, 24, 'predicate')]}\n",
      "Missing movie label\n"
     ]
    },
    {
     "data": {
      "text/html": [
       "<span class=\"tex2jax_ignore\"><div class=\"entities\" style=\"line-height: 2.5; direction: ltr\">Tell me the \n",
       "<mark class=\"entity\" style=\"background: #ddd; padding: 0.45em 0.6em; margin: 0 0.25em; line-height: 1; border-radius: 0.35em;\">\n",
       "    release\n",
       "    <span style=\"font-size: 0.8em; font-weight: bold; line-height: 1; border-radius: 0.35em; vertical-align: middle; margin-left: 0.5rem\">predicate</span>\n",
       "</mark>\n",
       " \n",
       "<mark class=\"entity\" style=\"background: #ddd; padding: 0.45em 0.6em; margin: 0 0.25em; line-height: 1; border-radius: 0.35em;\">\n",
       "    date\n",
       "    <span style=\"font-size: 0.8em; font-weight: bold; line-height: 1; border-radius: 0.35em; vertical-align: middle; margin-left: 0.5rem\">predicate</span>\n",
       "</mark>\n",
       " of \n",
       "<mark class=\"entity\" style=\"background: #ddd; padding: 0.45em 0.6em; margin: 0 0.25em; line-height: 1; border-radius: 0.35em;\">\n",
       "    Is the Man Who Is Tall Happy\n",
       "    <span style=\"font-size: 0.8em; font-weight: bold; line-height: 1; border-radius: 0.35em; vertical-align: middle; margin-left: 0.5rem\">movie</span>\n",
       "</mark>\n",
       "?</div></span>"
      ],
      "text/plain": [
       "<IPython.core.display.HTML object>"
      ]
     },
     "metadata": {},
     "output_type": "display_data"
    },
    {
     "name": "stdout",
     "output_type": "stream",
     "text": [
      "Tell me the release date of Is the Man Who Is Tall Happy? {'entities': [(28, 57, 'movie'), (12, 19, 'predicate'), (20, 24, 'predicate')]}\n",
      "Missing movie label\n"
     ]
    },
    {
     "data": {
      "text/html": [
       "<span class=\"tex2jax_ignore\"><div class=\"entities\" style=\"line-height: 2.5; direction: ltr\">Please provide the \n",
       "<mark class=\"entity\" style=\"background: #ddd; padding: 0.45em 0.6em; margin: 0 0.25em; line-height: 1; border-radius: 0.35em;\">\n",
       "    release\n",
       "    <span style=\"font-size: 0.8em; font-weight: bold; line-height: 1; border-radius: 0.35em; vertical-align: middle; margin-left: 0.5rem\">predicate</span>\n",
       "</mark>\n",
       " \n",
       "<mark class=\"entity\" style=\"background: #ddd; padding: 0.45em 0.6em; margin: 0 0.25em; line-height: 1; border-radius: 0.35em;\">\n",
       "    year\n",
       "    <span style=\"font-size: 0.8em; font-weight: bold; line-height: 1; border-radius: 0.35em; vertical-align: middle; margin-left: 0.5rem\">predicate</span>\n",
       "</mark>\n",
       " for \n",
       "<mark class=\"entity\" style=\"background: #ddd; padding: 0.45em 0.6em; margin: 0 0.25em; line-height: 1; border-radius: 0.35em;\">\n",
       "    What the Bleep Do We Know!\n",
       "    <span style=\"font-size: 0.8em; font-weight: bold; line-height: 1; border-radius: 0.35em; vertical-align: middle; margin-left: 0.5rem\">movie</span>\n",
       "</mark>\n",
       "?</div></span>"
      ],
      "text/plain": [
       "<IPython.core.display.HTML object>"
      ]
     },
     "metadata": {},
     "output_type": "display_data"
    },
    {
     "name": "stdout",
     "output_type": "stream",
     "text": [
      "Please provide the release year for What the Bleep Do We Know!? {'entities': [(36, 63, 'movie'), (19, 26, 'predicate'), (27, 31, 'predicate')]}\n",
      "Missing movie label\n"
     ]
    },
    {
     "data": {
      "text/html": [
       "<span class=\"tex2jax_ignore\"><div class=\"entities\" style=\"line-height: 2.5; direction: ltr\">Give me the \n",
       "<mark class=\"entity\" style=\"background: #ddd; padding: 0.45em 0.6em; margin: 0 0.25em; line-height: 1; border-radius: 0.35em;\">\n",
       "    release\n",
       "    <span style=\"font-size: 0.8em; font-weight: bold; line-height: 1; border-radius: 0.35em; vertical-align: middle; margin-left: 0.5rem\">predicate</span>\n",
       "</mark>\n",
       " \n",
       "<mark class=\"entity\" style=\"background: #ddd; padding: 0.45em 0.6em; margin: 0 0.25em; line-height: 1; border-radius: 0.35em;\">\n",
       "    date\n",
       "    <span style=\"font-size: 0.8em; font-weight: bold; line-height: 1; border-radius: 0.35em; vertical-align: middle; margin-left: 0.5rem\">predicate</span>\n",
       "</mark>\n",
       " for \n",
       "<mark class=\"entity\" style=\"background: #ddd; padding: 0.45em 0.6em; margin: 0 0.25em; line-height: 1; border-radius: 0.35em;\">\n",
       "    Whoever Slew Auntie Roo\n",
       "    <span style=\"font-size: 0.8em; font-weight: bold; line-height: 1; border-radius: 0.35em; vertical-align: middle; margin-left: 0.5rem\">movie</span>\n",
       "</mark>\n",
       "?</div></span>"
      ],
      "text/plain": [
       "<IPython.core.display.HTML object>"
      ]
     },
     "metadata": {},
     "output_type": "display_data"
    },
    {
     "name": "stdout",
     "output_type": "stream",
     "text": [
      "Give me the release date for Whoever Slew Auntie Roo? {'entities': [(29, 53, 'movie'), (12, 19, 'predicate'), (20, 24, 'predicate')]}\n",
      "Missing movie label\n"
     ]
    },
    {
     "data": {
      "text/html": [
       "<span class=\"tex2jax_ignore\"><div class=\"entities\" style=\"line-height: 2.5; direction: ltr\">Tell me the \n",
       "<mark class=\"entity\" style=\"background: #ddd; padding: 0.45em 0.6em; margin: 0 0.25em; line-height: 1; border-radius: 0.35em;\">\n",
       "    release\n",
       "    <span style=\"font-size: 0.8em; font-weight: bold; line-height: 1; border-radius: 0.35em; vertical-align: middle; margin-left: 0.5rem\">predicate</span>\n",
       "</mark>\n",
       " \n",
       "<mark class=\"entity\" style=\"background: #ddd; padding: 0.45em 0.6em; margin: 0 0.25em; line-height: 1; border-radius: 0.35em;\">\n",
       "    date\n",
       "    <span style=\"font-size: 0.8em; font-weight: bold; line-height: 1; border-radius: 0.35em; vertical-align: middle; margin-left: 0.5rem\">predicate</span>\n",
       "</mark>\n",
       " of \n",
       "<mark class=\"entity\" style=\"background: #ddd; padding: 0.45em 0.6em; margin: 0 0.25em; line-height: 1; border-radius: 0.35em;\">\n",
       "    Tell\n",
       "    <span style=\"font-size: 0.8em; font-weight: bold; line-height: 1; border-radius: 0.35em; vertical-align: middle; margin-left: 0.5rem\">movie</span>\n",
       "</mark>\n",
       "</div></span>"
      ],
      "text/plain": [
       "<IPython.core.display.HTML object>"
      ]
     },
     "metadata": {},
     "output_type": "display_data"
    },
    {
     "name": "stdout",
     "output_type": "stream",
     "text": [
      "Tell me the release date of Tell {'entities': [(0, 4, 'movie'), (12, 19, 'predicate'), (20, 24, 'predicate')]}\n",
      "Missing movie label\n"
     ]
    },
    {
     "data": {
      "text/html": [
       "<span class=\"tex2jax_ignore\"><div class=\"entities\" style=\"line-height: 2.5; direction: ltr\">Give me the \n",
       "<mark class=\"entity\" style=\"background: #ddd; padding: 0.45em 0.6em; margin: 0 0.25em; line-height: 1; border-radius: 0.35em;\">\n",
       "    release\n",
       "    <span style=\"font-size: 0.8em; font-weight: bold; line-height: 1; border-radius: 0.35em; vertical-align: middle; margin-left: 0.5rem\">predicate</span>\n",
       "</mark>\n",
       " \n",
       "<mark class=\"entity\" style=\"background: #ddd; padding: 0.45em 0.6em; margin: 0 0.25em; line-height: 1; border-radius: 0.35em;\">\n",
       "    date\n",
       "    <span style=\"font-size: 0.8em; font-weight: bold; line-height: 1; border-radius: 0.35em; vertical-align: middle; margin-left: 0.5rem\">predicate</span>\n",
       "</mark>\n",
       " for \n",
       "<mark class=\"entity\" style=\"background: #ddd; padding: 0.45em 0.6em; margin: 0 0.25em; line-height: 1; border-radius: 0.35em;\">\n",
       "    Casual Sex\n",
       "    <span style=\"font-size: 0.8em; font-weight: bold; line-height: 1; border-radius: 0.35em; vertical-align: middle; margin-left: 0.5rem\">movie</span>\n",
       "</mark>\n",
       "?</div></span>"
      ],
      "text/plain": [
       "<IPython.core.display.HTML object>"
      ]
     },
     "metadata": {},
     "output_type": "display_data"
    },
    {
     "name": "stdout",
     "output_type": "stream",
     "text": [
      "Give me the release date for Casual Sex? {'entities': [(29, 40, 'movie'), (12, 19, 'predicate'), (20, 24, 'predicate')]}\n",
      "Missing movie label\n"
     ]
    },
    {
     "data": {
      "text/html": [
       "<span class=\"tex2jax_ignore\"><div class=\"entities\" style=\"line-height: 2.5; direction: ltr\">Please provide the \n",
       "<mark class=\"entity\" style=\"background: #ddd; padding: 0.45em 0.6em; margin: 0 0.25em; line-height: 1; border-radius: 0.35em;\">\n",
       "    release\n",
       "    <span style=\"font-size: 0.8em; font-weight: bold; line-height: 1; border-radius: 0.35em; vertical-align: middle; margin-left: 0.5rem\">predicate</span>\n",
       "</mark>\n",
       " \n",
       "<mark class=\"entity\" style=\"background: #ddd; padding: 0.45em 0.6em; margin: 0 0.25em; line-height: 1; border-radius: 0.35em;\">\n",
       "    year\n",
       "    <span style=\"font-size: 0.8em; font-weight: bold; line-height: 1; border-radius: 0.35em; vertical-align: middle; margin-left: 0.5rem\">predicate</span>\n",
       "</mark>\n",
       " for \n",
       "<mark class=\"entity\" style=\"background: #ddd; padding: 0.45em 0.6em; margin: 0 0.25em; line-height: 1; border-radius: 0.35em;\">\n",
       "    Who's Afraid of Virginia Woolf\n",
       "    <span style=\"font-size: 0.8em; font-weight: bold; line-height: 1; border-radius: 0.35em; vertical-align: middle; margin-left: 0.5rem\">movie</span>\n",
       "</mark>\n",
       "?</div></span>"
      ],
      "text/plain": [
       "<IPython.core.display.HTML object>"
      ]
     },
     "metadata": {},
     "output_type": "display_data"
    },
    {
     "name": "stdout",
     "output_type": "stream",
     "text": [
      "Please provide the release year for Who's Afraid of Virginia Woolf? {'entities': [(36, 67, 'movie'), (19, 26, 'predicate'), (27, 31, 'predicate')]}\n",
      "Missing movie label\n"
     ]
    },
    {
     "data": {
      "text/html": [
       "<span class=\"tex2jax_ignore\"><div class=\"entities\" style=\"line-height: 2.5; direction: ltr\">Identify the movie \n",
       "<mark class=\"entity\" style=\"background: #ddd; padding: 0.45em 0.6em; margin: 0 0.25em; line-height: 1; border-radius: 0.35em;\">\n",
       "    genre\n",
       "    <span style=\"font-size: 0.8em; font-weight: bold; line-height: 1; border-radius: 0.35em; vertical-align: middle; margin-left: 0.5rem\">predicate</span>\n",
       "</mark>\n",
       " for \n",
       "<mark class=\"entity\" style=\"background: #ddd; padding: 0.45em 0.6em; margin: 0 0.25em; line-height: 1; border-radius: 0.35em;\">\n",
       "    Man's Favorite Sport\n",
       "    <span style=\"font-size: 0.8em; font-weight: bold; line-height: 1; border-radius: 0.35em; vertical-align: middle; margin-left: 0.5rem\">movie</span>\n",
       "</mark>\n",
       "?</div></span>"
      ],
      "text/plain": [
       "<IPython.core.display.HTML object>"
      ]
     },
     "metadata": {},
     "output_type": "display_data"
    },
    {
     "name": "stdout",
     "output_type": "stream",
     "text": [
      "Identify the movie genre for Man's Favorite Sport? {'entities': [(29, 50, 'movie'), (19, 24, 'predicate')]}\n",
      "Missing movie label\n"
     ]
    },
    {
     "data": {
      "text/html": [
       "<span class=\"tex2jax_ignore\"><div class=\"entities\" style=\"line-height: 2.5; direction: ltr\">Identify the movie \n",
       "<mark class=\"entity\" style=\"background: #ddd; padding: 0.45em 0.6em; margin: 0 0.25em; line-height: 1; border-radius: 0.35em;\">\n",
       "    genre\n",
       "    <span style=\"font-size: 0.8em; font-weight: bold; line-height: 1; border-radius: 0.35em; vertical-align: middle; margin-left: 0.5rem\">predicate</span>\n",
       "</mark>\n",
       " for \n",
       "<mark class=\"entity\" style=\"background: #ddd; padding: 0.45em 0.6em; margin: 0 0.25em; line-height: 1; border-radius: 0.35em;\">\n",
       "    What Have They Done to Your Daughters\n",
       "    <span style=\"font-size: 0.8em; font-weight: bold; line-height: 1; border-radius: 0.35em; vertical-align: middle; margin-left: 0.5rem\">movie</span>\n",
       "</mark>\n",
       "?</div></span>"
      ],
      "text/plain": [
       "<IPython.core.display.HTML object>"
      ]
     },
     "metadata": {},
     "output_type": "display_data"
    },
    {
     "name": "stdout",
     "output_type": "stream",
     "text": [
      "Identify the movie genre for What Have They Done to Your Daughters? {'entities': [(29, 67, 'movie'), (19, 24, 'predicate')]}\n",
      "Missing movie label\n"
     ]
    },
    {
     "data": {
      "text/html": [
       "<span class=\"tex2jax_ignore\"><div class=\"entities\" style=\"line-height: 2.5; direction: ltr\">Give me the \n",
       "<mark class=\"entity\" style=\"background: #ddd; padding: 0.45em 0.6em; margin: 0 0.25em; line-height: 1; border-radius: 0.35em;\">\n",
       "    genre\n",
       "    <span style=\"font-size: 0.8em; font-weight: bold; line-height: 1; border-radius: 0.35em; vertical-align: middle; margin-left: 0.5rem\">predicate</span>\n",
       "</mark>\n",
       " for the movie \n",
       "<mark class=\"entity\" style=\"background: #ddd; padding: 0.45em 0.6em; margin: 0 0.25em; line-height: 1; border-radius: 0.35em;\">\n",
       "    Daddy's Dyin': Who's Got the Will\n",
       "    <span style=\"font-size: 0.8em; font-weight: bold; line-height: 1; border-radius: 0.35em; vertical-align: middle; margin-left: 0.5rem\">movie</span>\n",
       "</mark>\n",
       "?</div></span>"
      ],
      "text/plain": [
       "<IPython.core.display.HTML object>"
      ]
     },
     "metadata": {},
     "output_type": "display_data"
    },
    {
     "name": "stdout",
     "output_type": "stream",
     "text": [
      "Give me the genre for the movie Daddy's Dyin': Who's Got the Will? {'entities': [(32, 66, 'movie'), (12, 17, 'predicate')]}\n",
      "Missing movie label\n"
     ]
    },
    {
     "data": {
      "text/html": [
       "<span class=\"tex2jax_ignore\"><div class=\"entities\" style=\"line-height: 2.5; direction: ltr\">Tell me the \n",
       "<mark class=\"entity\" style=\"background: #ddd; padding: 0.45em 0.6em; margin: 0 0.25em; line-height: 1; border-radius: 0.35em;\">\n",
       "    type\n",
       "    <span style=\"font-size: 0.8em; font-weight: bold; line-height: 1; border-radius: 0.35em; vertical-align: middle; margin-left: 0.5rem\">predicate</span>\n",
       "</mark>\n",
       " of film that is \n",
       "<mark class=\"entity\" style=\"background: #ddd; padding: 0.45em 0.6em; margin: 0 0.25em; line-height: 1; border-radius: 0.35em;\">\n",
       "    What Becomes of the Broken Hearted\n",
       "    <span style=\"font-size: 0.8em; font-weight: bold; line-height: 1; border-radius: 0.35em; vertical-align: middle; margin-left: 0.5rem\">movie</span>\n",
       "</mark>\n",
       "?</div></span>"
      ],
      "text/plain": [
       "<IPython.core.display.HTML object>"
      ]
     },
     "metadata": {},
     "output_type": "display_data"
    },
    {
     "name": "stdout",
     "output_type": "stream",
     "text": [
      "Tell me the type of film that is What Becomes of the Broken Hearted? {'entities': [(33, 68, 'movie'), (12, 16, 'predicate')]}\n",
      "Missing movie label\n"
     ]
    },
    {
     "data": {
      "text/html": [
       "<span class=\"tex2jax_ignore\"><div class=\"entities\" style=\"line-height: 2.5; direction: ltr\">I'd like to know the \n",
       "<mark class=\"entity\" style=\"background: #ddd; padding: 0.45em 0.6em; margin: 0 0.25em; line-height: 1; border-radius: 0.35em;\">\n",
       "    genre\n",
       "    <span style=\"font-size: 0.8em; font-weight: bold; line-height: 1; border-radius: 0.35em; vertical-align: middle; margin-left: 0.5rem\">predicate</span>\n",
       "</mark>\n",
       " of \n",
       "<mark class=\"entity\" style=\"background: #ddd; padding: 0.45em 0.6em; margin: 0 0.25em; line-height: 1; border-radius: 0.35em;\">\n",
       "    Who's the Man\n",
       "    <span style=\"font-size: 0.8em; font-weight: bold; line-height: 1; border-radius: 0.35em; vertical-align: middle; margin-left: 0.5rem\">movie</span>\n",
       "</mark>\n",
       "?</div></span>"
      ],
      "text/plain": [
       "<IPython.core.display.HTML object>"
      ]
     },
     "metadata": {},
     "output_type": "display_data"
    },
    {
     "name": "stdout",
     "output_type": "stream",
     "text": [
      "I'd like to know the genre of Who's the Man? {'entities': [(30, 44, 'movie'), (21, 26, 'predicate')]}\n",
      "Missing movie label\n"
     ]
    },
    {
     "data": {
      "text/html": [
       "<span class=\"tex2jax_ignore\"><div class=\"entities\" style=\"line-height: 2.5; direction: ltr\">Tell me the \n",
       "<mark class=\"entity\" style=\"background: #ddd; padding: 0.45em 0.6em; margin: 0 0.25em; line-height: 1; border-radius: 0.35em;\">\n",
       "    genre\n",
       "    <span style=\"font-size: 0.8em; font-weight: bold; line-height: 1; border-radius: 0.35em; vertical-align: middle; margin-left: 0.5rem\">predicate</span>\n",
       "</mark>\n",
       " of \n",
       "<mark class=\"entity\" style=\"background: #ddd; padding: 0.45em 0.6em; margin: 0 0.25em; line-height: 1; border-radius: 0.35em;\">\n",
       "    Indovina chi viene a Natale\n",
       "    <span style=\"font-size: 0.8em; font-weight: bold; line-height: 1; border-radius: 0.35em; vertical-align: middle; margin-left: 0.5rem\">movie</span>\n",
       "</mark>\n",
       "?</div></span>"
      ],
      "text/plain": [
       "<IPython.core.display.HTML object>"
      ]
     },
     "metadata": {},
     "output_type": "display_data"
    },
    {
     "name": "stdout",
     "output_type": "stream",
     "text": [
      "Tell me the genre of Indovina chi viene a Natale? {'entities': [(21, 49, 'movie'), (12, 17, 'predicate')]}\n",
      "Missing movie label\n"
     ]
    },
    {
     "data": {
      "text/html": [
       "<span class=\"tex2jax_ignore\"><div class=\"entities\" style=\"line-height: 2.5; direction: ltr\">Identify the movie \n",
       "<mark class=\"entity\" style=\"background: #ddd; padding: 0.45em 0.6em; margin: 0 0.25em; line-height: 1; border-radius: 0.35em;\">\n",
       "    genre\n",
       "    <span style=\"font-size: 0.8em; font-weight: bold; line-height: 1; border-radius: 0.35em; vertical-align: middle; margin-left: 0.5rem\">predicate</span>\n",
       "</mark>\n",
       " for \n",
       "<mark class=\"entity\" style=\"background: #ddd; padding: 0.45em 0.6em; margin: 0 0.25em; line-height: 1; border-radius: 0.35em;\">\n",
       "    What Next, Corporal Hargrove\n",
       "    <span style=\"font-size: 0.8em; font-weight: bold; line-height: 1; border-radius: 0.35em; vertical-align: middle; margin-left: 0.5rem\">movie</span>\n",
       "</mark>\n",
       "?</div></span>"
      ],
      "text/plain": [
       "<IPython.core.display.HTML object>"
      ]
     },
     "metadata": {},
     "output_type": "display_data"
    },
    {
     "name": "stdout",
     "output_type": "stream",
     "text": [
      "Identify the movie genre for What Next, Corporal Hargrove? {'entities': [(29, 58, 'movie'), (19, 24, 'predicate')]}\n",
      "Missing movie label\n"
     ]
    },
    {
     "data": {
      "text/html": [
       "<span class=\"tex2jax_ignore\"><div class=\"entities\" style=\"line-height: 2.5; direction: ltr\">I'd like to know the \n",
       "<mark class=\"entity\" style=\"background: #ddd; padding: 0.45em 0.6em; margin: 0 0.25em; line-height: 1; border-radius: 0.35em;\">\n",
       "    genre\n",
       "    <span style=\"font-size: 0.8em; font-weight: bold; line-height: 1; border-radius: 0.35em; vertical-align: middle; margin-left: 0.5rem\">predicate</span>\n",
       "</mark>\n",
       " of \n",
       "<mark class=\"entity\" style=\"background: #ddd; padding: 0.45em 0.6em; margin: 0 0.25em; line-height: 1; border-radius: 0.35em;\">\n",
       "    Who's Your Daddy\n",
       "    <span style=\"font-size: 0.8em; font-weight: bold; line-height: 1; border-radius: 0.35em; vertical-align: middle; margin-left: 0.5rem\">movie</span>\n",
       "</mark>\n",
       "?</div></span>"
      ],
      "text/plain": [
       "<IPython.core.display.HTML object>"
      ]
     },
     "metadata": {},
     "output_type": "display_data"
    },
    {
     "name": "stdout",
     "output_type": "stream",
     "text": [
      "I'd like to know the genre of Who's Your Daddy? {'entities': [(30, 47, 'movie'), (21, 26, 'predicate')]}\n",
      "Missing movie label\n"
     ]
    },
    {
     "data": {
      "text/html": [
       "<span class=\"tex2jax_ignore\"><div class=\"entities\" style=\"line-height: 2.5; direction: ltr\">I'd like to know the \n",
       "<mark class=\"entity\" style=\"background: #ddd; padding: 0.45em 0.6em; margin: 0 0.25em; line-height: 1; border-radius: 0.35em;\">\n",
       "    genre\n",
       "    <span style=\"font-size: 0.8em; font-weight: bold; line-height: 1; border-radius: 0.35em; vertical-align: middle; margin-left: 0.5rem\">predicate</span>\n",
       "</mark>\n",
       " of \n",
       "<mark class=\"entity\" style=\"background: #ddd; padding: 0.45em 0.6em; margin: 0 0.25em; line-height: 1; border-radius: 0.35em;\">\n",
       "    Riley's First Date\n",
       "    <span style=\"font-size: 0.8em; font-weight: bold; line-height: 1; border-radius: 0.35em; vertical-align: middle; margin-left: 0.5rem\">movie</span>\n",
       "</mark>\n",
       "?</div></span>"
      ],
      "text/plain": [
       "<IPython.core.display.HTML object>"
      ]
     },
     "metadata": {},
     "output_type": "display_data"
    },
    {
     "name": "stdout",
     "output_type": "stream",
     "text": [
      "I'd like to know the genre of Riley's First Date? {'entities': [(30, 49, 'movie'), (21, 26, 'predicate')]}\n",
      "Missing movie label\n"
     ]
    },
    {
     "data": {
      "text/html": [
       "<span class=\"tex2jax_ignore\"><div class=\"entities\" style=\"line-height: 2.5; direction: ltr\">In which \n",
       "<mark class=\"entity\" style=\"background: #ddd; padding: 0.45em 0.6em; margin: 0 0.25em; line-height: 1; border-radius: 0.35em;\">\n",
       "    genre\n",
       "    <span style=\"font-size: 0.8em; font-weight: bold; line-height: 1; border-radius: 0.35em; vertical-align: middle; margin-left: 0.5rem\">predicate</span>\n",
       "</mark>\n",
       " does ''\n",
       "<mark class=\"entity\" style=\"background: #ddd; padding: 0.45em 0.6em; margin: 0 0.25em; line-height: 1; border-radius: 0.35em;\">\n",
       "    Til There Was You\n",
       "    <span style=\"font-size: 0.8em; font-weight: bold; line-height: 1; border-radius: 0.35em; vertical-align: middle; margin-left: 0.5rem\">movie</span>\n",
       "</mark>\n",
       "' fit?</div></span>"
      ],
      "text/plain": [
       "<IPython.core.display.HTML object>"
      ]
     },
     "metadata": {},
     "output_type": "display_data"
    },
    {
     "name": "stdout",
     "output_type": "stream",
     "text": [
      "In which genre does ''Til There Was You' fit? {'entities': [(21, 39, 'movie'), (9, 14, 'predicate')]}\n",
      "Missing movie label\n"
     ]
    },
    {
     "data": {
      "text/html": [
       "<span class=\"tex2jax_ignore\"><div class=\"entities\" style=\"line-height: 2.5; direction: ltr\">Identify the movie \n",
       "<mark class=\"entity\" style=\"background: #ddd; padding: 0.45em 0.6em; margin: 0 0.25em; line-height: 1; border-radius: 0.35em;\">\n",
       "    genre\n",
       "    <span style=\"font-size: 0.8em; font-weight: bold; line-height: 1; border-radius: 0.35em; vertical-align: middle; margin-left: 0.5rem\">predicate</span>\n",
       "</mark>\n",
       " for \n",
       "<mark class=\"entity\" style=\"background: #ddd; padding: 0.45em 0.6em; margin: 0 0.25em; line-height: 1; border-radius: 0.35em;\">\n",
       "    Casual Sex\n",
       "    <span style=\"font-size: 0.8em; font-weight: bold; line-height: 1; border-radius: 0.35em; vertical-align: middle; margin-left: 0.5rem\">movie</span>\n",
       "</mark>\n",
       "?</div></span>"
      ],
      "text/plain": [
       "<IPython.core.display.HTML object>"
      ]
     },
     "metadata": {},
     "output_type": "display_data"
    },
    {
     "name": "stdout",
     "output_type": "stream",
     "text": [
      "Identify the movie genre for Casual Sex? {'entities': [(29, 40, 'movie'), (19, 24, 'predicate')]}\n",
      "Missing movie label\n"
     ]
    },
    {
     "data": {
      "text/html": [
       "<span class=\"tex2jax_ignore\"><div class=\"entities\" style=\"line-height: 2.5; direction: ltr\">Give me the \n",
       "<mark class=\"entity\" style=\"background: #ddd; padding: 0.45em 0.6em; margin: 0 0.25em; line-height: 1; border-radius: 0.35em;\">\n",
       "    genre\n",
       "    <span style=\"font-size: 0.8em; font-weight: bold; line-height: 1; border-radius: 0.35em; vertical-align: middle; margin-left: 0.5rem\">predicate</span>\n",
       "</mark>\n",
       " for the movie \n",
       "<mark class=\"entity\" style=\"background: #ddd; padding: 0.45em 0.6em; margin: 0 0.25em; line-height: 1; border-radius: 0.35em;\">\n",
       "    Where Is Rocky II\n",
       "    <span style=\"font-size: 0.8em; font-weight: bold; line-height: 1; border-radius: 0.35em; vertical-align: middle; margin-left: 0.5rem\">movie</span>\n",
       "</mark>\n",
       "?</div></span>"
      ],
      "text/plain": [
       "<IPython.core.display.HTML object>"
      ]
     },
     "metadata": {},
     "output_type": "display_data"
    },
    {
     "name": "stdout",
     "output_type": "stream",
     "text": [
      "Give me the genre for the movie Where Is Rocky II? {'entities': [(32, 50, 'movie'), (12, 17, 'predicate')]}\n",
      "Missing movie label\n"
     ]
    },
    {
     "data": {
      "text/html": [
       "<span class=\"tex2jax_ignore\"><div class=\"entities\" style=\"line-height: 2.5; direction: ltr\">I'd like to know the \n",
       "<mark class=\"entity\" style=\"background: #ddd; padding: 0.45em 0.6em; margin: 0 0.25em; line-height: 1; border-radius: 0.35em;\">\n",
       "    genre\n",
       "    <span style=\"font-size: 0.8em; font-weight: bold; line-height: 1; border-radius: 0.35em; vertical-align: middle; margin-left: 0.5rem\">predicate</span>\n",
       "</mark>\n",
       " of \n",
       "<mark class=\"entity\" style=\"background: #ddd; padding: 0.45em 0.6em; margin: 0 0.25em; line-height: 1; border-radius: 0.35em;\">\n",
       "    Are All Men Pedophiles\n",
       "    <span style=\"font-size: 0.8em; font-weight: bold; line-height: 1; border-radius: 0.35em; vertical-align: middle; margin-left: 0.5rem\">movie</span>\n",
       "</mark>\n",
       "?</div></span>"
      ],
      "text/plain": [
       "<IPython.core.display.HTML object>"
      ]
     },
     "metadata": {},
     "output_type": "display_data"
    },
    {
     "name": "stdout",
     "output_type": "stream",
     "text": [
      "I'd like to know the genre of Are All Men Pedophiles? {'entities': [(30, 53, 'movie'), (21, 26, 'predicate')]}\n",
      "Missing movie label\n"
     ]
    },
    {
     "data": {
      "text/html": [
       "<span class=\"tex2jax_ignore\"><div class=\"entities\" style=\"line-height: 2.5; direction: ltr\">Tell me the \n",
       "<mark class=\"entity\" style=\"background: #ddd; padding: 0.45em 0.6em; margin: 0 0.25em; line-height: 1; border-radius: 0.35em;\">\n",
       "    genre\n",
       "    <span style=\"font-size: 0.8em; font-weight: bold; line-height: 1; border-radius: 0.35em; vertical-align: middle; margin-left: 0.5rem\">predicate</span>\n",
       "</mark>\n",
       " of \n",
       "<mark class=\"entity\" style=\"background: #ddd; padding: 0.45em 0.6em; margin: 0 0.25em; line-height: 1; border-radius: 0.35em;\">\n",
       "    Hi, Are You Alone\n",
       "    <span style=\"font-size: 0.8em; font-weight: bold; line-height: 1; border-radius: 0.35em; vertical-align: middle; margin-left: 0.5rem\">movie</span>\n",
       "</mark>\n",
       "?</div></span>"
      ],
      "text/plain": [
       "<IPython.core.display.HTML object>"
      ]
     },
     "metadata": {},
     "output_type": "display_data"
    },
    {
     "name": "stdout",
     "output_type": "stream",
     "text": [
      "Tell me the genre of Hi, Are You Alone? {'entities': [(21, 39, 'movie'), (12, 17, 'predicate')]}\n",
      "Missing movie label\n"
     ]
    },
    {
     "data": {
      "text/html": [
       "<span class=\"tex2jax_ignore\"><div class=\"entities\" style=\"line-height: 2.5; direction: ltr\">Tell me the \n",
       "<mark class=\"entity\" style=\"background: #ddd; padding: 0.45em 0.6em; margin: 0 0.25em; line-height: 1; border-radius: 0.35em;\">\n",
       "    type\n",
       "    <span style=\"font-size: 0.8em; font-weight: bold; line-height: 1; border-radius: 0.35em; vertical-align: middle; margin-left: 0.5rem\">predicate</span>\n",
       "</mark>\n",
       " of film that is \n",
       "<mark class=\"entity\" style=\"background: #ddd; padding: 0.45em 0.6em; margin: 0 0.25em; line-height: 1; border-radius: 0.35em;\">\n",
       "    Hitler in Hollywood\n",
       "    <span style=\"font-size: 0.8em; font-weight: bold; line-height: 1; border-radius: 0.35em; vertical-align: middle; margin-left: 0.5rem\">genre</span>\n",
       "</mark>\n",
       "</div></span>"
      ],
      "text/plain": [
       "<IPython.core.display.HTML object>"
      ]
     },
     "metadata": {},
     "output_type": "display_data"
    },
    {
     "name": "stdout",
     "output_type": "stream",
     "text": [
      "Tell me the type of film that is Hitler in Hollywood {'entities': [(33, 52, 'movie'), (12, 16, 'predicate')]}\n",
      "Missing genre label\n"
     ]
    },
    {
     "data": {
      "text/html": [
       "<span class=\"tex2jax_ignore\"><div class=\"entities\" style=\"line-height: 2.5; direction: ltr\">Tell me the \n",
       "<mark class=\"entity\" style=\"background: #ddd; padding: 0.45em 0.6em; margin: 0 0.25em; line-height: 1; border-radius: 0.35em;\">\n",
       "    genre\n",
       "    <span style=\"font-size: 0.8em; font-weight: bold; line-height: 1; border-radius: 0.35em; vertical-align: middle; margin-left: 0.5rem\">predicate</span>\n",
       "</mark>\n",
       " of \n",
       "<mark class=\"entity\" style=\"background: #ddd; padding: 0.45em 0.6em; margin: 0 0.25em; line-height: 1; border-radius: 0.35em;\">\n",
       "    Who's Afraid of Virginia Woolf\n",
       "    <span style=\"font-size: 0.8em; font-weight: bold; line-height: 1; border-radius: 0.35em; vertical-align: middle; margin-left: 0.5rem\">movie</span>\n",
       "</mark>\n",
       "?</div></span>"
      ],
      "text/plain": [
       "<IPython.core.display.HTML object>"
      ]
     },
     "metadata": {},
     "output_type": "display_data"
    },
    {
     "name": "stdout",
     "output_type": "stream",
     "text": [
      "Tell me the genre of Who's Afraid of Virginia Woolf? {'entities': [(21, 52, 'movie'), (12, 17, 'predicate')]}\n",
      "Missing movie label\n"
     ]
    },
    {
     "data": {
      "text/html": [
       "<span class=\"tex2jax_ignore\"><div class=\"entities\" style=\"line-height: 2.5; direction: ltr\">Show the movies \n",
       "<mark class=\"entity\" style=\"background: #ddd; padding: 0.45em 0.6em; margin: 0 0.25em; line-height: 1; border-radius: 0.35em;\">\n",
       "    edited\n",
       "    <span style=\"font-size: 0.8em; font-weight: bold; line-height: 1; border-radius: 0.35em; vertical-align: middle; margin-left: 0.5rem\">action</span>\n",
       "</mark>\n",
       " \n",
       "<mark class=\"entity\" style=\"background: #ddd; padding: 0.45em 0.6em; margin: 0 0.25em; line-height: 1; border-radius: 0.35em;\">\n",
       "    Wi Kuki Kaa with the worst\n",
       "    <span style=\"font-size: 0.8em; font-weight: bold; line-height: 1; border-radius: 0.35em; vertical-align: middle; margin-left: 0.5rem\">name</span>\n",
       "</mark>\n",
       " \n",
       "<mark class=\"entity\" style=\"background: #ddd; padding: 0.45em 0.6em; margin: 0 0.25em; line-height: 1; border-radius: 0.35em;\">\n",
       "    stop-motion\n",
       "    <span style=\"font-size: 0.8em; font-weight: bold; line-height: 1; border-radius: 0.35em; vertical-align: middle; margin-left: 0.5rem\">genre</span>\n",
       "</mark>\n",
       " ratings</div></span>"
      ],
      "text/plain": [
       "<IPython.core.display.HTML object>"
      ]
     },
     "metadata": {},
     "output_type": "display_data"
    },
    {
     "name": "stdout",
     "output_type": "stream",
     "text": [
      "Show the movies edited Wi Kuki Kaa with the worst stop-motion ratings {'entities': [(50, 61, 'genre'), (44, 49, 'order'), (23, 34, 'name'), (16, 20, 'action'), (16, 22, 'action'), (62, 68, 'predicate')]}\n",
      "Missing name label\n"
     ]
    },
    {
     "data": {
      "text/html": [
       "<span class=\"tex2jax_ignore\"><div class=\"entities\" style=\"line-height: 2.5; direction: ltr\">Display the \n",
       "<mark class=\"entity\" style=\"background: #ddd; padding: 0.45em 0.6em; margin: 0 0.25em; line-height: 1; border-radius: 0.35em;\">\n",
       "    play\n",
       "    <span style=\"font-size: 0.8em; font-weight: bold; line-height: 1; border-radius: 0.35em; vertical-align: middle; margin-left: 0.5rem\">genre</span>\n",
       "</mark>\n",
       " movies \n",
       "<mark class=\"entity\" style=\"background: #ddd; padding: 0.45em 0.6em; margin: 0 0.25em; line-height: 1; border-radius: 0.35em;\">\n",
       "    premiere\n",
       "    <span style=\"font-size: 0.8em; font-weight: bold; line-height: 1; border-radius: 0.35em; vertical-align: middle; margin-left: 0.5rem\">action</span>\n",
       "</mark>\n",
       " \n",
       "<mark class=\"entity\" style=\"background: #ddd; padding: 0.45em 0.6em; margin: 0 0.25em; line-height: 1; border-radius: 0.35em;\">\n",
       "    Molly McCook\n",
       "    <span style=\"font-size: 0.8em; font-weight: bold; line-height: 1; border-radius: 0.35em; vertical-align: middle; margin-left: 0.5rem\">name</span>\n",
       "</mark>\n",
       " with the \n",
       "<mark class=\"entity\" style=\"background: #ddd; padding: 0.45em 0.6em; margin: 0 0.25em; line-height: 1; border-radius: 0.35em;\">\n",
       "    lowest\n",
       "    <span style=\"font-size: 0.8em; font-weight: bold; line-height: 1; border-radius: 0.35em; vertical-align: middle; margin-left: 0.5rem\">order</span>\n",
       "</mark>\n",
       " ratings</div></span>"
      ],
      "text/plain": [
       "<IPython.core.display.HTML object>"
      ]
     },
     "metadata": {},
     "output_type": "display_data"
    },
    {
     "name": "stdout",
     "output_type": "stream",
     "text": [
      "Display the play movies premiere Molly McCook with the lowest ratings {'entities': [(55, 61, 'order'), (3, 7, 'genre'), (33, 45, 'name'), (24, 32, 'action'), (62, 68, 'predicate')]}\n",
      "Missing genre label\n"
     ]
    },
    {
     "data": {
      "text/html": [
       "<span class=\"tex2jax_ignore\"><div class=\"entities\" style=\"line-height: 2.5; direction: ltr\">Display the \n",
       "<mark class=\"entity\" style=\"background: #ddd; padding: 0.45em 0.6em; margin: 0 0.25em; line-height: 1; border-radius: 0.35em;\">\n",
       "    psychological horror\n",
       "    <span style=\"font-size: 0.8em; font-weight: bold; line-height: 1; border-radius: 0.35em; vertical-align: middle; margin-left: 0.5rem\">genre</span>\n",
       "</mark>\n",
       " movies \n",
       "<mark class=\"entity\" style=\"background: #ddd; padding: 0.45em 0.6em; margin: 0 0.25em; line-height: 1; border-radius: 0.35em;\">\n",
       "    authored\n",
       "    <span style=\"font-size: 0.8em; font-weight: bold; line-height: 1; border-radius: 0.35em; vertical-align: middle; margin-left: 0.5rem\">action</span>\n",
       "</mark>\n",
       " \n",
       "<mark class=\"entity\" style=\"background: #ddd; padding: 0.45em 0.6em; margin: 0 0.25em; line-height: 1; border-radius: 0.35em;\">\n",
       "    Vanessa del Rio with the lowest ratings\n",
       "    <span style=\"font-size: 0.8em; font-weight: bold; line-height: 1; border-radius: 0.35em; vertical-align: middle; margin-left: 0.5rem\">name</span>\n",
       "</mark>\n",
       "</div></span>"
      ],
      "text/plain": [
       "<IPython.core.display.HTML object>"
      ]
     },
     "metadata": {},
     "output_type": "display_data"
    },
    {
     "name": "stdout",
     "output_type": "stream",
     "text": [
      "Display the psychological horror movies authored Vanessa del Rio with the lowest ratings {'entities': [(74, 80, 'order'), (12, 32, 'genre'), (49, 64, 'name'), (40, 48, 'action'), (81, 87, 'predicate')]}\n",
      "Missing name label\n"
     ]
    },
    {
     "data": {
      "text/html": [
       "<span class=\"tex2jax_ignore\"><div class=\"entities\" style=\"line-height: 2.5; direction: ltr\">Which are the \n",
       "<mark class=\"entity\" style=\"background: #ddd; padding: 0.45em 0.6em; margin: 0 0.25em; line-height: 1; border-radius: 0.35em;\">\n",
       "    best\n",
       "    <span style=\"font-size: 0.8em; font-weight: bold; line-height: 1; border-radius: 0.35em; vertical-align: middle; margin-left: 0.5rem\">order</span>\n",
       "</mark>\n",
       " movies where \n",
       "<mark class=\"entity\" style=\"background: #ddd; padding: 0.45em 0.6em; margin: 0 0.25em; line-height: 1; border-radius: 0.35em;\">\n",
       "    Phenomenon\n",
       "    <span style=\"font-size: 0.8em; font-weight: bold; line-height: 1; border-radius: 0.35em; vertical-align: middle; margin-left: 0.5rem\">genre</span>\n",
       "</mark>\n",
       " appeared?</div></span>"
      ],
      "text/plain": [
       "<IPython.core.display.HTML object>"
      ]
     },
     "metadata": {},
     "output_type": "display_data"
    },
    {
     "name": "stdout",
     "output_type": "stream",
     "text": [
      "Which are the best movies where Phenomenon appeared? {'entities': [(32, 42, 'name'), (14, 18, 'order'), (43, 49, 'action')]}\n",
      "Missing genre label\n"
     ]
    },
    {
     "data": {
      "text/html": [
       "<span class=\"tex2jax_ignore\"><div class=\"entities\" style=\"line-height: 2.5; direction: ltr\">Which movies were \n",
       "<mark class=\"entity\" style=\"background: #ddd; padding: 0.45em 0.6em; margin: 0 0.25em; line-height: 1; border-radius: 0.35em;\">\n",
       "    directed\n",
       "    <span style=\"font-size: 0.8em; font-weight: bold; line-height: 1; border-radius: 0.35em; vertical-align: middle; margin-left: 0.5rem\">action</span>\n",
       "</mark>\n",
       " by \n",
       "<mark class=\"entity\" style=\"background: #ddd; padding: 0.45em 0.6em; margin: 0 0.25em; line-height: 1; border-radius: 0.35em;\">\n",
       "    Erica Beer in 1708\n",
       "    <span style=\"font-size: 0.8em; font-weight: bold; line-height: 1; border-radius: 0.35em; vertical-align: middle; margin-left: 0.5rem\">name</span>\n",
       "</mark>\n",
       "?</div></span>"
      ],
      "text/plain": [
       "<IPython.core.display.HTML object>"
      ]
     },
     "metadata": {},
     "output_type": "display_data"
    },
    {
     "name": "stdout",
     "output_type": "stream",
     "text": [
      "Which movies were directed by Erica Beer in 1708? {'entities': [(30, 40, 'name'), (44, 48, 'year'), (18, 26, 'action'), (18, 24, 'action')]}\n",
      "Missing name label\n"
     ]
    },
    {
     "data": {
      "text/html": [
       "<span class=\"tex2jax_ignore\"><div class=\"entities\" style=\"line-height: 2.5; direction: ltr\">List the films \n",
       "<mark class=\"entity\" style=\"background: #ddd; padding: 0.45em 0.6em; margin: 0 0.25em; line-height: 1; border-radius: 0.35em;\">\n",
       "    featuring\n",
       "    <span style=\"font-size: 0.8em; font-weight: bold; line-height: 1; border-radius: 0.35em; vertical-align: middle; margin-left: 0.5rem\">action</span>\n",
       "</mark>\n",
       " \n",
       "<mark class=\"entity\" style=\"background: #ddd; padding: 0.45em 0.6em; margin: 0 0.25em; line-height: 1; border-radius: 0.35em;\">\n",
       "    Henry V of England in 1703\n",
       "    <span style=\"font-size: 0.8em; font-weight: bold; line-height: 1; border-radius: 0.35em; vertical-align: middle; margin-left: 0.5rem\">name</span>\n",
       "</mark>\n",
       "</div></span>"
      ],
      "text/plain": [
       "<IPython.core.display.HTML object>"
      ]
     },
     "metadata": {},
     "output_type": "display_data"
    },
    {
     "name": "stdout",
     "output_type": "stream",
     "text": [
      "List the films featuring Henry V of England in 1703 {'entities': [(25, 43, 'name'), (47, 51, 'year'), (15, 24, 'action')]}\n",
      "Missing name label\n"
     ]
    },
    {
     "data": {
      "text/html": [
       "<span class=\"tex2jax_ignore\"><div class=\"entities\" style=\"line-height: 2.5; direction: ltr\">List the films \n",
       "<mark class=\"entity\" style=\"background: #ddd; padding: 0.45em 0.6em; margin: 0 0.25em; line-height: 1; border-radius: 0.35em;\">\n",
       "    featuring\n",
       "    <span style=\"font-size: 0.8em; font-weight: bold; line-height: 1; border-radius: 0.35em; vertical-align: middle; margin-left: 0.5rem\">action</span>\n",
       "</mark>\n",
       " \n",
       "<mark class=\"entity\" style=\"background: #ddd; padding: 0.45em 0.6em; margin: 0 0.25em; line-height: 1; border-radius: 0.35em;\">\n",
       "    Marie-Madeleine Burguet-Le Doze in 1680\n",
       "    <span style=\"font-size: 0.8em; font-weight: bold; line-height: 1; border-radius: 0.35em; vertical-align: middle; margin-left: 0.5rem\">name</span>\n",
       "</mark>\n",
       "</div></span>"
      ],
      "text/plain": [
       "<IPython.core.display.HTML object>"
      ]
     },
     "metadata": {},
     "output_type": "display_data"
    },
    {
     "name": "stdout",
     "output_type": "stream",
     "text": [
      "List the films featuring Marie-Madeleine Burguet-Le Doze in 1680 {'entities': [(25, 56, 'name'), (60, 64, 'year'), (15, 24, 'action')]}\n",
      "Missing name label\n"
     ]
    },
    {
     "data": {
      "text/html": [
       "<span class=\"tex2jax_ignore\"><div class=\"entities\" style=\"line-height: 2.5; direction: ltr\">Can you name the \n",
       "<mark class=\"entity\" style=\"background: #ddd; padding: 0.45em 0.6em; margin: 0 0.25em; line-height: 1; border-radius: 0.35em;\">\n",
       "    worst\n",
       "    <span style=\"font-size: 0.8em; font-weight: bold; line-height: 1; border-radius: 0.35em; vertical-align: middle; margin-left: 0.5rem\">order</span>\n",
       "</mark>\n",
       " \n",
       "<mark class=\"entity\" style=\"background: #ddd; padding: 0.45em 0.6em; margin: 0 0.25em; line-height: 1; border-radius: 0.35em;\">\n",
       "    fourteen\n",
       "    <span style=\"font-size: 0.8em; font-weight: bold; line-height: 1; border-radius: 0.35em; vertical-align: middle; margin-left: 0.5rem\">numerical_entity</span>\n",
       "</mark>\n",
       " \n",
       "<mark class=\"entity\" style=\"background: #ddd; padding: 0.45em 0.6em; margin: 0 0.25em; line-height: 1; border-radius: 0.35em;\">\n",
       "    teen\n",
       "    <span style=\"font-size: 0.8em; font-weight: bold; line-height: 1; border-radius: 0.35em; vertical-align: middle; margin-left: 0.5rem\">genre</span>\n",
       "</mark>\n",
       " movies \n",
       "<mark class=\"entity\" style=\"background: #ddd; padding: 0.45em 0.6em; margin: 0 0.25em; line-height: 1; border-radius: 0.35em;\">\n",
       "    directed\n",
       "    <span style=\"font-size: 0.8em; font-weight: bold; line-height: 1; border-radius: 0.35em; vertical-align: middle; margin-left: 0.5rem\">action</span>\n",
       "</mark>\n",
       " by \n",
       "<mark class=\"entity\" style=\"background: #ddd; padding: 0.45em 0.6em; margin: 0 0.25em; line-height: 1; border-radius: 0.35em;\">\n",
       "    Igor Stránský\n",
       "    <span style=\"font-size: 0.8em; font-weight: bold; line-height: 1; border-radius: 0.35em; vertical-align: middle; margin-left: 0.5rem\">name</span>\n",
       "</mark>\n",
       "?</div></span>"
      ],
      "text/plain": [
       "<IPython.core.display.HTML object>"
      ]
     },
     "metadata": {},
     "output_type": "display_data"
    },
    {
     "name": "stdout",
     "output_type": "stream",
     "text": [
      "Can you name the worst fourteen teen movies directed by Igor Stránský? {'entities': [(56, 69, 'name'), (17, 22, 'order'), (27, 31, 'genre'), (44, 52, 'action'), (44, 50, 'action'), (23, 31, 'numerical_entity')]}\n",
      "Missing genre label\n"
     ]
    },
    {
     "data": {
      "text/html": [
       "<span class=\"tex2jax_ignore\"><div class=\"entities\" style=\"line-height: 2.5; direction: ltr\">List the films \n",
       "<mark class=\"entity\" style=\"background: #ddd; padding: 0.45em 0.6em; margin: 0 0.25em; line-height: 1; border-radius: 0.35em;\">\n",
       "    featuring\n",
       "    <span style=\"font-size: 0.8em; font-weight: bold; line-height: 1; border-radius: 0.35em; vertical-align: middle; margin-left: 0.5rem\">action</span>\n",
       "</mark>\n",
       " \n",
       "<mark class=\"entity\" style=\"background: #ddd; padding: 0.45em 0.6em; margin: 0 0.25em; line-height: 1; border-radius: 0.35em;\">\n",
       "    Larry Black in 1945\n",
       "    <span style=\"font-size: 0.8em; font-weight: bold; line-height: 1; border-radius: 0.35em; vertical-align: middle; margin-left: 0.5rem\">name</span>\n",
       "</mark>\n",
       "</div></span>"
      ],
      "text/plain": [
       "<IPython.core.display.HTML object>"
      ]
     },
     "metadata": {},
     "output_type": "display_data"
    },
    {
     "name": "stdout",
     "output_type": "stream",
     "text": [
      "List the films featuring Larry Black in 1945 {'entities': [(25, 36, 'name'), (40, 44, 'year'), (15, 24, 'action')]}\n",
      "Missing name label\n"
     ]
    },
    {
     "data": {
      "text/html": [
       "<span class=\"tex2jax_ignore\"><div class=\"entities\" style=\"line-height: 2.5; direction: ltr\">Recommend movies like \n",
       "<mark class=\"entity\" style=\"background: #ddd; padding: 0.45em 0.6em; margin: 0 0.25em; line-height: 1; border-radius: 0.35em;\">\n",
       "    Jan Dara\n",
       "    <span style=\"font-size: 0.8em; font-weight: bold; line-height: 1; border-radius: 0.35em; vertical-align: middle; margin-left: 0.5rem\">name</span>\n",
       "</mark>\n",
       ", \n",
       "<mark class=\"entity\" style=\"background: #ddd; padding: 0.45em 0.6em; margin: 0 0.25em; line-height: 1; border-radius: 0.35em;\">\n",
       "    Repo Chick\n",
       "    <span style=\"font-size: 0.8em; font-weight: bold; line-height: 1; border-radius: 0.35em; vertical-align: middle; margin-left: 0.5rem\">movie</span>\n",
       "</mark>\n",
       ", and \n",
       "<mark class=\"entity\" style=\"background: #ddd; padding: 0.45em 0.6em; margin: 0 0.25em; line-height: 1; border-radius: 0.35em;\">\n",
       "    Charlie &amp; Boots\n",
       "    <span style=\"font-size: 0.8em; font-weight: bold; line-height: 1; border-radius: 0.35em; vertical-align: middle; margin-left: 0.5rem\">movie</span>\n",
       "</mark>\n",
       "</div></span>"
      ],
      "text/plain": [
       "<IPython.core.display.HTML object>"
      ]
     },
     "metadata": {},
     "output_type": "display_data"
    },
    {
     "name": "stdout",
     "output_type": "stream",
     "text": [
      "Recommend movies like Jan Dara, Repo Chick, and Charlie & Boots {'entities': [(22, 30, 'movie'), (32, 42, 'movie'), (48, 63, 'movie')]}\n",
      "Missing name label\n"
     ]
    },
    {
     "data": {
      "text/html": [
       "<span class=\"tex2jax_ignore\"><div class=\"entities\" style=\"line-height: 2.5; direction: ltr\">Since I enjoy \n",
       "<mark class=\"entity\" style=\"background: #ddd; padding: 0.45em 0.6em; margin: 0 0.25em; line-height: 1; border-radius: 0.35em;\">\n",
       "    To Hell\n",
       "    <span style=\"font-size: 0.8em; font-weight: bold; line-height: 1; border-radius: 0.35em; vertical-align: middle; margin-left: 0.5rem\">movie</span>\n",
       "</mark>\n",
       " and \n",
       "<mark class=\"entity\" style=\"background: #ddd; padding: 0.45em 0.6em; margin: 0 0.25em; line-height: 1; border-radius: 0.35em;\">\n",
       "    Back: The Kane Hodder Story\n",
       "    <span style=\"font-size: 0.8em; font-weight: bold; line-height: 1; border-radius: 0.35em; vertical-align: middle; margin-left: 0.5rem\">movie</span>\n",
       "</mark>\n",
       ", \n",
       "<mark class=\"entity\" style=\"background: #ddd; padding: 0.45em 0.6em; margin: 0 0.25em; line-height: 1; border-radius: 0.35em;\">\n",
       "    Landscape\n",
       "    <span style=\"font-size: 0.8em; font-weight: bold; line-height: 1; border-radius: 0.35em; vertical-align: middle; margin-left: 0.5rem\">movie</span>\n",
       "</mark>\n",
       ", and \n",
       "<mark class=\"entity\" style=\"background: #ddd; padding: 0.45em 0.6em; margin: 0 0.25em; line-height: 1; border-radius: 0.35em;\">\n",
       "    Husbands and Wives\n",
       "    <span style=\"font-size: 0.8em; font-weight: bold; line-height: 1; border-radius: 0.35em; vertical-align: middle; margin-left: 0.5rem\">movie</span>\n",
       "</mark>\n",
       ", do you have any movie recommendations for me?</div></span>"
      ],
      "text/plain": [
       "<IPython.core.display.HTML object>"
      ]
     },
     "metadata": {},
     "output_type": "display_data"
    },
    {
     "name": "stdout",
     "output_type": "stream",
     "text": [
      "Since I enjoy To Hell and Back: The Kane Hodder Story, Landscape, and Husbands and Wives, do you have any movie recommendations for me? {'entities': [(14, 53, 'movie'), (55, 64, 'movie'), (70, 88, 'movie'), (112, 121, 'predicate')]}\n",
      "Missing movie label\n"
     ]
    },
    {
     "data": {
      "text/html": [
       "<span class=\"tex2jax_ignore\"><div class=\"entities\" style=\"line-height: 2.5; direction: ltr\">Since I enjoy \n",
       "<mark class=\"entity\" style=\"background: #ddd; padding: 0.45em 0.6em; margin: 0 0.25em; line-height: 1; border-radius: 0.35em;\">\n",
       "    To Hell\n",
       "    <span style=\"font-size: 0.8em; font-weight: bold; line-height: 1; border-radius: 0.35em; vertical-align: middle; margin-left: 0.5rem\">movie</span>\n",
       "</mark>\n",
       " and \n",
       "<mark class=\"entity\" style=\"background: #ddd; padding: 0.45em 0.6em; margin: 0 0.25em; line-height: 1; border-radius: 0.35em;\">\n",
       "    Back: The Kane Hodder Story\n",
       "    <span style=\"font-size: 0.8em; font-weight: bold; line-height: 1; border-radius: 0.35em; vertical-align: middle; margin-left: 0.5rem\">movie</span>\n",
       "</mark>\n",
       ", \n",
       "<mark class=\"entity\" style=\"background: #ddd; padding: 0.45em 0.6em; margin: 0 0.25em; line-height: 1; border-radius: 0.35em;\">\n",
       "    Landscape\n",
       "    <span style=\"font-size: 0.8em; font-weight: bold; line-height: 1; border-radius: 0.35em; vertical-align: middle; margin-left: 0.5rem\">movie</span>\n",
       "</mark>\n",
       ", and \n",
       "<mark class=\"entity\" style=\"background: #ddd; padding: 0.45em 0.6em; margin: 0 0.25em; line-height: 1; border-radius: 0.35em;\">\n",
       "    Husbands and Wives\n",
       "    <span style=\"font-size: 0.8em; font-weight: bold; line-height: 1; border-radius: 0.35em; vertical-align: middle; margin-left: 0.5rem\">movie</span>\n",
       "</mark>\n",
       ", do you have any movie recommendations for me?</div></span>"
      ],
      "text/plain": [
       "<IPython.core.display.HTML object>"
      ]
     },
     "metadata": {},
     "output_type": "display_data"
    },
    {
     "name": "stdout",
     "output_type": "stream",
     "text": [
      "Since I enjoy To Hell and Back: The Kane Hodder Story, Landscape, and Husbands and Wives, do you have any movie recommendations for me? {'entities': [(14, 53, 'movie'), (55, 64, 'movie'), (70, 88, 'movie'), (112, 121, 'predicate')]}\n",
      "Missing movie label\n"
     ]
    },
    {
     "data": {
      "text/html": [
       "<span class=\"tex2jax_ignore\"><div class=\"entities\" style=\"line-height: 2.5; direction: ltr\">Since I enjoy \n",
       "<mark class=\"entity\" style=\"background: #ddd; padding: 0.45em 0.6em; margin: 0 0.25em; line-height: 1; border-radius: 0.35em;\">\n",
       "    The Long Voyage Home\n",
       "    <span style=\"font-size: 0.8em; font-weight: bold; line-height: 1; border-radius: 0.35em; vertical-align: middle; margin-left: 0.5rem\">movie</span>\n",
       "</mark>\n",
       ", \n",
       "<mark class=\"entity\" style=\"background: #ddd; padding: 0.45em 0.6em; margin: 0 0.25em; line-height: 1; border-radius: 0.35em;\">\n",
       "    L\n",
       "    <span style=\"font-size: 0.8em; font-weight: bold; line-height: 1; border-radius: 0.35em; vertical-align: middle; margin-left: 0.5rem\">movie</span>\n",
       "</mark>\n",
       ", and \n",
       "<mark class=\"entity\" style=\"background: #ddd; padding: 0.45em 0.6em; margin: 0 0.25em; line-height: 1; border-radius: 0.35em;\">\n",
       "    I, Robot\n",
       "    <span style=\"font-size: 0.8em; font-weight: bold; line-height: 1; border-radius: 0.35em; vertical-align: middle; margin-left: 0.5rem\">movie</span>\n",
       "</mark>\n",
       ", do you have any movie recommendations for me?</div></span>"
      ],
      "text/plain": [
       "<IPython.core.display.HTML object>"
      ]
     },
     "metadata": {},
     "output_type": "display_data"
    },
    {
     "name": "stdout",
     "output_type": "stream",
     "text": [
      "Since I enjoy The Long Voyage Home, L, and I, Robot, do you have any movie recommendations for me? {'entities': [(14, 34, 'movie'), (18, 19, 'movie'), (43, 51, 'movie'), (75, 84, 'predicate')]}\n",
      "Missing movie label\n"
     ]
    },
    {
     "data": {
      "text/html": [
       "<span class=\"tex2jax_ignore\"><div class=\"entities\" style=\"line-height: 2.5; direction: ltr\">Since I enjoy \n",
       "<mark class=\"entity\" style=\"background: #ddd; padding: 0.45em 0.6em; margin: 0 0.25em; line-height: 1; border-radius: 0.35em;\">\n",
       "    Faster\n",
       "    <span style=\"font-size: 0.8em; font-weight: bold; line-height: 1; border-radius: 0.35em; vertical-align: middle; margin-left: 0.5rem\">movie</span>\n",
       "</mark>\n",
       ", \n",
       "<mark class=\"entity\" style=\"background: #ddd; padding: 0.45em 0.6em; margin: 0 0.25em; line-height: 1; border-radius: 0.35em;\">\n",
       "    Pussycat! Kill! Kill!\n",
       "    <span style=\"font-size: 0.8em; font-weight: bold; line-height: 1; border-radius: 0.35em; vertical-align: middle; margin-left: 0.5rem\">movie</span>\n",
       "</mark>\n",
       ", \n",
       "<mark class=\"entity\" style=\"background: #ddd; padding: 0.45em 0.6em; margin: 0 0.25em; line-height: 1; border-radius: 0.35em;\">\n",
       "    True Confessions\n",
       "    <span style=\"font-size: 0.8em; font-weight: bold; line-height: 1; border-radius: 0.35em; vertical-align: middle; margin-left: 0.5rem\">movie</span>\n",
       "</mark>\n",
       ", and \n",
       "<mark class=\"entity\" style=\"background: #ddd; padding: 0.45em 0.6em; margin: 0 0.25em; line-height: 1; border-radius: 0.35em;\">\n",
       "    A Dog of Flanders\n",
       "    <span style=\"font-size: 0.8em; font-weight: bold; line-height: 1; border-radius: 0.35em; vertical-align: middle; margin-left: 0.5rem\">movie</span>\n",
       "</mark>\n",
       ", do you have any movie recommendations for me?</div></span>"
      ],
      "text/plain": [
       "<IPython.core.display.HTML object>"
      ]
     },
     "metadata": {},
     "output_type": "display_data"
    },
    {
     "name": "stdout",
     "output_type": "stream",
     "text": [
      "Since I enjoy Faster, Pussycat! Kill! Kill!, True Confessions, and A Dog of Flanders, do you have any movie recommendations for me? {'entities': [(14, 43, 'movie'), (45, 61, 'movie'), (67, 84, 'movie'), (108, 117, 'predicate')]}\n",
      "Missing movie label\n"
     ]
    },
    {
     "data": {
      "text/html": [
       "<span class=\"tex2jax_ignore\"><div class=\"entities\" style=\"line-height: 2.5; direction: ltr\">Since I enjoy \n",
       "<mark class=\"entity\" style=\"background: #ddd; padding: 0.45em 0.6em; margin: 0 0.25em; line-height: 1; border-radius: 0.35em;\">\n",
       "    Faster\n",
       "    <span style=\"font-size: 0.8em; font-weight: bold; line-height: 1; border-radius: 0.35em; vertical-align: middle; margin-left: 0.5rem\">movie</span>\n",
       "</mark>\n",
       ", \n",
       "<mark class=\"entity\" style=\"background: #ddd; padding: 0.45em 0.6em; margin: 0 0.25em; line-height: 1; border-radius: 0.35em;\">\n",
       "    Pussycat! Kill! Kill!\n",
       "    <span style=\"font-size: 0.8em; font-weight: bold; line-height: 1; border-radius: 0.35em; vertical-align: middle; margin-left: 0.5rem\">movie</span>\n",
       "</mark>\n",
       ", \n",
       "<mark class=\"entity\" style=\"background: #ddd; padding: 0.45em 0.6em; margin: 0 0.25em; line-height: 1; border-radius: 0.35em;\">\n",
       "    True Confessions\n",
       "    <span style=\"font-size: 0.8em; font-weight: bold; line-height: 1; border-radius: 0.35em; vertical-align: middle; margin-left: 0.5rem\">movie</span>\n",
       "</mark>\n",
       ", and \n",
       "<mark class=\"entity\" style=\"background: #ddd; padding: 0.45em 0.6em; margin: 0 0.25em; line-height: 1; border-radius: 0.35em;\">\n",
       "    A Dog of Flanders\n",
       "    <span style=\"font-size: 0.8em; font-weight: bold; line-height: 1; border-radius: 0.35em; vertical-align: middle; margin-left: 0.5rem\">movie</span>\n",
       "</mark>\n",
       ", do you have any movie recommendations for me?</div></span>"
      ],
      "text/plain": [
       "<IPython.core.display.HTML object>"
      ]
     },
     "metadata": {},
     "output_type": "display_data"
    },
    {
     "name": "stdout",
     "output_type": "stream",
     "text": [
      "Since I enjoy Faster, Pussycat! Kill! Kill!, True Confessions, and A Dog of Flanders, do you have any movie recommendations for me? {'entities': [(14, 43, 'movie'), (45, 61, 'movie'), (67, 84, 'movie'), (108, 117, 'predicate')]}\n",
      "Missing movie label\n"
     ]
    },
    {
     "data": {
      "text/html": [
       "<span class=\"tex2jax_ignore\"><div class=\"entities\" style=\"line-height: 2.5; direction: ltr\">Since I enjoy \n",
       "<mark class=\"entity\" style=\"background: #ddd; padding: 0.45em 0.6em; margin: 0 0.25em; line-height: 1; border-radius: 0.35em;\">\n",
       "    When I Grow Up\n",
       "    <span style=\"font-size: 0.8em; font-weight: bold; line-height: 1; border-radius: 0.35em; vertical-align: middle; margin-left: 0.5rem\">movie</span>\n",
       "</mark>\n",
       ", \n",
       "<mark class=\"entity\" style=\"background: #ddd; padding: 0.45em 0.6em; margin: 0 0.25em; line-height: 1; border-radius: 0.35em;\">\n",
       "    I'll Be a Kangaroo\n",
       "    <span style=\"font-size: 0.8em; font-weight: bold; line-height: 1; border-radius: 0.35em; vertical-align: middle; margin-left: 0.5rem\">movie</span>\n",
       "</mark>\n",
       ", \n",
       "<mark class=\"entity\" style=\"background: #ddd; padding: 0.45em 0.6em; margin: 0 0.25em; line-height: 1; border-radius: 0.35em;\">\n",
       "    Blue Crush\n",
       "    <span style=\"font-size: 0.8em; font-weight: bold; line-height: 1; border-radius: 0.35em; vertical-align: middle; margin-left: 0.5rem\">movie</span>\n",
       "</mark>\n",
       ", and \n",
       "<mark class=\"entity\" style=\"background: #ddd; padding: 0.45em 0.6em; margin: 0 0.25em; line-height: 1; border-radius: 0.35em;\">\n",
       "    Mr. Rice's Secret\n",
       "    <span style=\"font-size: 0.8em; font-weight: bold; line-height: 1; border-radius: 0.35em; vertical-align: middle; margin-left: 0.5rem\">movie</span>\n",
       "</mark>\n",
       ", do you have any movie recommendations for me?</div></span>"
      ],
      "text/plain": [
       "<IPython.core.display.HTML object>"
      ]
     },
     "metadata": {},
     "output_type": "display_data"
    },
    {
     "name": "stdout",
     "output_type": "stream",
     "text": [
      "Since I enjoy When I Grow Up, I'll Be a Kangaroo, Blue Crush, and Mr. Rice's Secret, do you have any movie recommendations for me? {'entities': [(14, 48, 'movie'), (50, 60, 'movie'), (66, 83, 'movie'), (107, 116, 'predicate')]}\n",
      "Missing movie label\n"
     ]
    },
    {
     "data": {
      "text/html": [
       "<span class=\"tex2jax_ignore\"><div class=\"entities\" style=\"line-height: 2.5; direction: ltr\">Since I enjoy \n",
       "<mark class=\"entity\" style=\"background: #ddd; padding: 0.45em 0.6em; margin: 0 0.25em; line-height: 1; border-radius: 0.35em;\">\n",
       "    When I Grow Up\n",
       "    <span style=\"font-size: 0.8em; font-weight: bold; line-height: 1; border-radius: 0.35em; vertical-align: middle; margin-left: 0.5rem\">movie</span>\n",
       "</mark>\n",
       ", \n",
       "<mark class=\"entity\" style=\"background: #ddd; padding: 0.45em 0.6em; margin: 0 0.25em; line-height: 1; border-radius: 0.35em;\">\n",
       "    I'll Be a Kangaroo\n",
       "    <span style=\"font-size: 0.8em; font-weight: bold; line-height: 1; border-radius: 0.35em; vertical-align: middle; margin-left: 0.5rem\">movie</span>\n",
       "</mark>\n",
       ", \n",
       "<mark class=\"entity\" style=\"background: #ddd; padding: 0.45em 0.6em; margin: 0 0.25em; line-height: 1; border-radius: 0.35em;\">\n",
       "    Blue Crush\n",
       "    <span style=\"font-size: 0.8em; font-weight: bold; line-height: 1; border-radius: 0.35em; vertical-align: middle; margin-left: 0.5rem\">movie</span>\n",
       "</mark>\n",
       ", and \n",
       "<mark class=\"entity\" style=\"background: #ddd; padding: 0.45em 0.6em; margin: 0 0.25em; line-height: 1; border-radius: 0.35em;\">\n",
       "    Mr. Rice's Secret\n",
       "    <span style=\"font-size: 0.8em; font-weight: bold; line-height: 1; border-radius: 0.35em; vertical-align: middle; margin-left: 0.5rem\">movie</span>\n",
       "</mark>\n",
       ", do you have any movie recommendations for me?</div></span>"
      ],
      "text/plain": [
       "<IPython.core.display.HTML object>"
      ]
     },
     "metadata": {},
     "output_type": "display_data"
    },
    {
     "name": "stdout",
     "output_type": "stream",
     "text": [
      "Since I enjoy When I Grow Up, I'll Be a Kangaroo, Blue Crush, and Mr. Rice's Secret, do you have any movie recommendations for me? {'entities': [(14, 48, 'movie'), (50, 60, 'movie'), (66, 83, 'movie'), (107, 116, 'predicate')]}\n",
      "Missing movie label\n"
     ]
    },
    {
     "data": {
      "text/html": [
       "<span class=\"tex2jax_ignore\"><div class=\"entities\" style=\"line-height: 2.5; direction: ltr\">Since I enjoy \n",
       "<mark class=\"entity\" style=\"background: #ddd; padding: 0.45em 0.6em; margin: 0 0.25em; line-height: 1; border-radius: 0.35em;\">\n",
       "    Chicken with Plums\n",
       "    <span style=\"font-size: 0.8em; font-weight: bold; line-height: 1; border-radius: 0.35em; vertical-align: middle; margin-left: 0.5rem\">movie</span>\n",
       "</mark>\n",
       ", \n",
       "<mark class=\"entity\" style=\"background: #ddd; padding: 0.45em 0.6em; margin: 0 0.25em; line-height: 1; border-radius: 0.35em;\">\n",
       "    UHF\n",
       "    <span style=\"font-size: 0.8em; font-weight: bold; line-height: 1; border-radius: 0.35em; vertical-align: middle; margin-left: 0.5rem\">genre</span>\n",
       "</mark>\n",
       ", and \n",
       "<mark class=\"entity\" style=\"background: #ddd; padding: 0.45em 0.6em; margin: 0 0.25em; line-height: 1; border-radius: 0.35em;\">\n",
       "    Fast Getaway II\n",
       "    <span style=\"font-size: 0.8em; font-weight: bold; line-height: 1; border-radius: 0.35em; vertical-align: middle; margin-left: 0.5rem\">movie</span>\n",
       "</mark>\n",
       ", do you have any movie recommendations for me?</div></span>"
      ],
      "text/plain": [
       "<IPython.core.display.HTML object>"
      ]
     },
     "metadata": {},
     "output_type": "display_data"
    },
    {
     "name": "stdout",
     "output_type": "stream",
     "text": [
      "Since I enjoy Chicken with Plums, UHF, and Fast Getaway II, do you have any movie recommendations for me? {'entities': [(14, 32, 'movie'), (34, 37, 'movie'), (43, 58, 'movie'), (82, 91, 'predicate')]}\n",
      "Missing genre label\n"
     ]
    },
    {
     "data": {
      "text/html": [
       "<span class=\"tex2jax_ignore\"><div class=\"entities\" style=\"line-height: 2.5; direction: ltr\">Since I enjoy \n",
       "<mark class=\"entity\" style=\"background: #ddd; padding: 0.45em 0.6em; margin: 0 0.25em; line-height: 1; border-radius: 0.35em;\">\n",
       "    The Life\n",
       "    <span style=\"font-size: 0.8em; font-weight: bold; line-height: 1; border-radius: 0.35em; vertical-align: middle; margin-left: 0.5rem\">movie</span>\n",
       "</mark>\n",
       " and Death of Colonel Blimp, \n",
       "<mark class=\"entity\" style=\"background: #ddd; padding: 0.45em 0.6em; margin: 0 0.25em; line-height: 1; border-radius: 0.35em;\">\n",
       "    Dread\n",
       "    <span style=\"font-size: 0.8em; font-weight: bold; line-height: 1; border-radius: 0.35em; vertical-align: middle; margin-left: 0.5rem\">movie</span>\n",
       "</mark>\n",
       ", and \n",
       "<mark class=\"entity\" style=\"background: #ddd; padding: 0.45em 0.6em; margin: 0 0.25em; line-height: 1; border-radius: 0.35em;\">\n",
       "    Nemesis 2: Nebula\n",
       "    <span style=\"font-size: 0.8em; font-weight: bold; line-height: 1; border-radius: 0.35em; vertical-align: middle; margin-left: 0.5rem\">movie</span>\n",
       "</mark>\n",
       ", do you have any movie recommendations for me?</div></span>"
      ],
      "text/plain": [
       "<IPython.core.display.HTML object>"
      ]
     },
     "metadata": {},
     "output_type": "display_data"
    },
    {
     "name": "stdout",
     "output_type": "stream",
     "text": [
      "Since I enjoy The Life and Death of Colonel Blimp, Dread, and Nemesis 2: Nebula, do you have any movie recommendations for me? {'entities': [(14, 49, 'movie'), (51, 56, 'movie'), (62, 79, 'movie'), (103, 112, 'predicate')]}\n",
      "Missing movie label\n"
     ]
    },
    {
     "data": {
      "text/html": [
       "<span class=\"tex2jax_ignore\"><div class=\"entities\" style=\"line-height: 2.5; direction: ltr\">Since I enjoy \n",
       "<mark class=\"entity\" style=\"background: #ddd; padding: 0.45em 0.6em; margin: 0 0.25em; line-height: 1; border-radius: 0.35em;\">\n",
       "    Harry\n",
       "    <span style=\"font-size: 0.8em; font-weight: bold; line-height: 1; border-radius: 0.35em; vertical-align: middle; margin-left: 0.5rem\">movie</span>\n",
       "</mark>\n",
       ", He's Here to Help, \n",
       "<mark class=\"entity\" style=\"background: #ddd; padding: 0.45em 0.6em; margin: 0 0.25em; line-height: 1; border-radius: 0.35em;\">\n",
       "    Facing Ali\n",
       "    <span style=\"font-size: 0.8em; font-weight: bold; line-height: 1; border-radius: 0.35em; vertical-align: middle; margin-left: 0.5rem\">movie</span>\n",
       "</mark>\n",
       ", and \n",
       "<mark class=\"entity\" style=\"background: #ddd; padding: 0.45em 0.6em; margin: 0 0.25em; line-height: 1; border-radius: 0.35em;\">\n",
       "    Celtic Pride\n",
       "    <span style=\"font-size: 0.8em; font-weight: bold; line-height: 1; border-radius: 0.35em; vertical-align: middle; margin-left: 0.5rem\">movie</span>\n",
       "</mark>\n",
       ", do you have any movie recommendations for me?</div></span>"
      ],
      "text/plain": [
       "<IPython.core.display.HTML object>"
      ]
     },
     "metadata": {},
     "output_type": "display_data"
    },
    {
     "name": "stdout",
     "output_type": "stream",
     "text": [
      "Since I enjoy Harry, He's Here to Help, Facing Ali, and Celtic Pride, do you have any movie recommendations for me? {'entities': [(14, 38, 'movie'), (40, 50, 'movie'), (56, 68, 'movie'), (92, 101, 'predicate')]}\n",
      "Missing movie label\n"
     ]
    },
    {
     "data": {
      "text/html": [
       "<span class=\"tex2jax_ignore\"><div class=\"entities\" style=\"line-height: 2.5; direction: ltr\">Since I enjoy \n",
       "<mark class=\"entity\" style=\"background: #ddd; padding: 0.45em 0.6em; margin: 0 0.25em; line-height: 1; border-radius: 0.35em;\">\n",
       "    OOO, Den-O,\n",
       "    <span style=\"font-size: 0.8em; font-weight: bold; line-height: 1; border-radius: 0.35em; vertical-align: middle; margin-left: 0.5rem\">movie</span>\n",
       "</mark>\n",
       " \n",
       "<mark class=\"entity\" style=\"background: #ddd; padding: 0.45em 0.6em; margin: 0 0.25em; line-height: 1; border-radius: 0.35em;\">\n",
       "    All Riders: Let's Go Kamen Riders\n",
       "    <span style=\"font-size: 0.8em; font-weight: bold; line-height: 1; border-radius: 0.35em; vertical-align: middle; margin-left: 0.5rem\">movie</span>\n",
       "</mark>\n",
       ", \n",
       "<mark class=\"entity\" style=\"background: #ddd; padding: 0.45em 0.6em; margin: 0 0.25em; line-height: 1; border-radius: 0.35em;\">\n",
       "    Irresistible\n",
       "    <span style=\"font-size: 0.8em; font-weight: bold; line-height: 1; border-radius: 0.35em; vertical-align: middle; margin-left: 0.5rem\">movie</span>\n",
       "</mark>\n",
       ", and \n",
       "<mark class=\"entity\" style=\"background: #ddd; padding: 0.45em 0.6em; margin: 0 0.25em; line-height: 1; border-radius: 0.35em;\">\n",
       "    Losers' Club\n",
       "    <span style=\"font-size: 0.8em; font-weight: bold; line-height: 1; border-radius: 0.35em; vertical-align: middle; margin-left: 0.5rem\">movie</span>\n",
       "</mark>\n",
       ", do you have any movie recommendations for me?</div></span>"
      ],
      "text/plain": [
       "<IPython.core.display.HTML object>"
      ]
     },
     "metadata": {},
     "output_type": "display_data"
    },
    {
     "name": "stdout",
     "output_type": "stream",
     "text": [
      "Since I enjoy OOO, Den-O, All Riders: Let's Go Kamen Riders, Irresistible, and Losers' Club, do you have any movie recommendations for me? {'entities': [(14, 59, 'movie'), (61, 73, 'movie'), (79, 91, 'movie'), (115, 124, 'predicate')]}\n",
      "Missing movie label\n"
     ]
    },
    {
     "data": {
      "text/html": [
       "<span class=\"tex2jax_ignore\"><div class=\"entities\" style=\"line-height: 2.5; direction: ltr\">Since I enjoy \n",
       "<mark class=\"entity\" style=\"background: #ddd; padding: 0.45em 0.6em; margin: 0 0.25em; line-height: 1; border-radius: 0.35em;\">\n",
       "    OOO, Den-O,\n",
       "    <span style=\"font-size: 0.8em; font-weight: bold; line-height: 1; border-radius: 0.35em; vertical-align: middle; margin-left: 0.5rem\">movie</span>\n",
       "</mark>\n",
       " \n",
       "<mark class=\"entity\" style=\"background: #ddd; padding: 0.45em 0.6em; margin: 0 0.25em; line-height: 1; border-radius: 0.35em;\">\n",
       "    All Riders: Let's Go Kamen Riders\n",
       "    <span style=\"font-size: 0.8em; font-weight: bold; line-height: 1; border-radius: 0.35em; vertical-align: middle; margin-left: 0.5rem\">movie</span>\n",
       "</mark>\n",
       ", \n",
       "<mark class=\"entity\" style=\"background: #ddd; padding: 0.45em 0.6em; margin: 0 0.25em; line-height: 1; border-radius: 0.35em;\">\n",
       "    Irresistible\n",
       "    <span style=\"font-size: 0.8em; font-weight: bold; line-height: 1; border-radius: 0.35em; vertical-align: middle; margin-left: 0.5rem\">movie</span>\n",
       "</mark>\n",
       ", and \n",
       "<mark class=\"entity\" style=\"background: #ddd; padding: 0.45em 0.6em; margin: 0 0.25em; line-height: 1; border-radius: 0.35em;\">\n",
       "    Losers' Club\n",
       "    <span style=\"font-size: 0.8em; font-weight: bold; line-height: 1; border-radius: 0.35em; vertical-align: middle; margin-left: 0.5rem\">movie</span>\n",
       "</mark>\n",
       ", do you have any movie recommendations for me?</div></span>"
      ],
      "text/plain": [
       "<IPython.core.display.HTML object>"
      ]
     },
     "metadata": {},
     "output_type": "display_data"
    },
    {
     "name": "stdout",
     "output_type": "stream",
     "text": [
      "Since I enjoy OOO, Den-O, All Riders: Let's Go Kamen Riders, Irresistible, and Losers' Club, do you have any movie recommendations for me? {'entities': [(14, 59, 'movie'), (61, 73, 'movie'), (79, 91, 'movie'), (115, 124, 'predicate')]}\n",
      "Missing movie label\n"
     ]
    },
    {
     "data": {
      "text/html": [
       "<span class=\"tex2jax_ignore\"><div class=\"entities\" style=\"line-height: 2.5; direction: ltr\">Since I enjoy \n",
       "<mark class=\"entity\" style=\"background: #ddd; padding: 0.45em 0.6em; margin: 0 0.25em; line-height: 1; border-radius: 0.35em;\">\n",
       "    Falco: Damn It\n",
       "    <span style=\"font-size: 0.8em; font-weight: bold; line-height: 1; border-radius: 0.35em; vertical-align: middle; margin-left: 0.5rem\">movie</span>\n",
       "</mark>\n",
       ", \n",
       "<mark class=\"entity\" style=\"background: #ddd; padding: 0.45em 0.6em; margin: 0 0.25em; line-height: 1; border-radius: 0.35em;\">\n",
       "    We're Still Alive!\n",
       "    <span style=\"font-size: 0.8em; font-weight: bold; line-height: 1; border-radius: 0.35em; vertical-align: middle; margin-left: 0.5rem\">movie</span>\n",
       "</mark>\n",
       ", \n",
       "<mark class=\"entity\" style=\"background: #ddd; padding: 0.45em 0.6em; margin: 0 0.25em; line-height: 1; border-radius: 0.35em;\">\n",
       "    Ghost Story\n",
       "    <span style=\"font-size: 0.8em; font-weight: bold; line-height: 1; border-radius: 0.35em; vertical-align: middle; margin-left: 0.5rem\">movie</span>\n",
       "</mark>\n",
       ", and \n",
       "<mark class=\"entity\" style=\"background: #ddd; padding: 0.45em 0.6em; margin: 0 0.25em; line-height: 1; border-radius: 0.35em;\">\n",
       "    The Express\n",
       "    <span style=\"font-size: 0.8em; font-weight: bold; line-height: 1; border-radius: 0.35em; vertical-align: middle; margin-left: 0.5rem\">movie</span>\n",
       "</mark>\n",
       ", do you have any movie recommendations for me?</div></span>"
      ],
      "text/plain": [
       "<IPython.core.display.HTML object>"
      ]
     },
     "metadata": {},
     "output_type": "display_data"
    },
    {
     "name": "stdout",
     "output_type": "stream",
     "text": [
      "Since I enjoy Falco: Damn It, We're Still Alive!, Ghost Story, and The Express, do you have any movie recommendations for me? {'entities': [(14, 48, 'movie'), (50, 61, 'movie'), (67, 78, 'movie'), (102, 111, 'predicate')]}\n",
      "Missing movie label\n"
     ]
    },
    {
     "data": {
      "text/html": [
       "<span class=\"tex2jax_ignore\"><div class=\"entities\" style=\"line-height: 2.5; direction: ltr\">Since I enjoy \n",
       "<mark class=\"entity\" style=\"background: #ddd; padding: 0.45em 0.6em; margin: 0 0.25em; line-height: 1; border-radius: 0.35em;\">\n",
       "    Falco: Damn It\n",
       "    <span style=\"font-size: 0.8em; font-weight: bold; line-height: 1; border-radius: 0.35em; vertical-align: middle; margin-left: 0.5rem\">movie</span>\n",
       "</mark>\n",
       ", \n",
       "<mark class=\"entity\" style=\"background: #ddd; padding: 0.45em 0.6em; margin: 0 0.25em; line-height: 1; border-radius: 0.35em;\">\n",
       "    We're Still Alive!\n",
       "    <span style=\"font-size: 0.8em; font-weight: bold; line-height: 1; border-radius: 0.35em; vertical-align: middle; margin-left: 0.5rem\">movie</span>\n",
       "</mark>\n",
       ", \n",
       "<mark class=\"entity\" style=\"background: #ddd; padding: 0.45em 0.6em; margin: 0 0.25em; line-height: 1; border-radius: 0.35em;\">\n",
       "    Ghost Story\n",
       "    <span style=\"font-size: 0.8em; font-weight: bold; line-height: 1; border-radius: 0.35em; vertical-align: middle; margin-left: 0.5rem\">movie</span>\n",
       "</mark>\n",
       ", and \n",
       "<mark class=\"entity\" style=\"background: #ddd; padding: 0.45em 0.6em; margin: 0 0.25em; line-height: 1; border-radius: 0.35em;\">\n",
       "    The Express\n",
       "    <span style=\"font-size: 0.8em; font-weight: bold; line-height: 1; border-radius: 0.35em; vertical-align: middle; margin-left: 0.5rem\">movie</span>\n",
       "</mark>\n",
       ", do you have any movie recommendations for me?</div></span>"
      ],
      "text/plain": [
       "<IPython.core.display.HTML object>"
      ]
     },
     "metadata": {},
     "output_type": "display_data"
    },
    {
     "name": "stdout",
     "output_type": "stream",
     "text": [
      "Since I enjoy Falco: Damn It, We're Still Alive!, Ghost Story, and The Express, do you have any movie recommendations for me? {'entities': [(14, 48, 'movie'), (50, 61, 'movie'), (67, 78, 'movie'), (102, 111, 'predicate')]}\n",
      "Missing movie label\n"
     ]
    },
    {
     "data": {
      "text/html": [
       "<span class=\"tex2jax_ignore\"><div class=\"entities\" style=\"line-height: 2.5; direction: ltr\">Since I enjoy \n",
       "<mark class=\"entity\" style=\"background: #ddd; padding: 0.45em 0.6em; margin: 0 0.25em; line-height: 1; border-radius: 0.35em;\">\n",
       "    Zack and\n",
       "    <span style=\"font-size: 0.8em; font-weight: bold; line-height: 1; border-radius: 0.35em; vertical-align: middle; margin-left: 0.5rem\">movie</span>\n",
       "</mark>\n",
       " \n",
       "<mark class=\"entity\" style=\"background: #ddd; padding: 0.45em 0.6em; margin: 0 0.25em; line-height: 1; border-radius: 0.35em;\">\n",
       "    Miri Make a Porno\n",
       "    <span style=\"font-size: 0.8em; font-weight: bold; line-height: 1; border-radius: 0.35em; vertical-align: middle; margin-left: 0.5rem\">movie</span>\n",
       "</mark>\n",
       ", \n",
       "<mark class=\"entity\" style=\"background: #ddd; padding: 0.45em 0.6em; margin: 0 0.25em; line-height: 1; border-radius: 0.35em;\">\n",
       "    Jaan-E-Mann\n",
       "    <span style=\"font-size: 0.8em; font-weight: bold; line-height: 1; border-radius: 0.35em; vertical-align: middle; margin-left: 0.5rem\">movie</span>\n",
       "</mark>\n",
       ", and \n",
       "<mark class=\"entity\" style=\"background: #ddd; padding: 0.45em 0.6em; margin: 0 0.25em; line-height: 1; border-radius: 0.35em;\">\n",
       "    The Women on the Roof\n",
       "    <span style=\"font-size: 0.8em; font-weight: bold; line-height: 1; border-radius: 0.35em; vertical-align: middle; margin-left: 0.5rem\">movie</span>\n",
       "</mark>\n",
       ", do you have any movie recommendations for me?</div></span>"
      ],
      "text/plain": [
       "<IPython.core.display.HTML object>"
      ]
     },
     "metadata": {},
     "output_type": "display_data"
    },
    {
     "name": "stdout",
     "output_type": "stream",
     "text": [
      "Since I enjoy Zack and Miri Make a Porno, Jaan-E-Mann, and The Women on the Roof, do you have any movie recommendations for me? {'entities': [(14, 40, 'movie'), (42, 53, 'movie'), (59, 80, 'movie'), (104, 113, 'predicate')]}\n",
      "Missing movie label\n"
     ]
    },
    {
     "data": {
      "text/html": [
       "<span class=\"tex2jax_ignore\"><div class=\"entities\" style=\"line-height: 2.5; direction: ltr\">Since I enjoy \n",
       "<mark class=\"entity\" style=\"background: #ddd; padding: 0.45em 0.6em; margin: 0 0.25em; line-height: 1; border-radius: 0.35em;\">\n",
       "    Zack and\n",
       "    <span style=\"font-size: 0.8em; font-weight: bold; line-height: 1; border-radius: 0.35em; vertical-align: middle; margin-left: 0.5rem\">movie</span>\n",
       "</mark>\n",
       " \n",
       "<mark class=\"entity\" style=\"background: #ddd; padding: 0.45em 0.6em; margin: 0 0.25em; line-height: 1; border-radius: 0.35em;\">\n",
       "    Miri Make a Porno\n",
       "    <span style=\"font-size: 0.8em; font-weight: bold; line-height: 1; border-radius: 0.35em; vertical-align: middle; margin-left: 0.5rem\">movie</span>\n",
       "</mark>\n",
       ", \n",
       "<mark class=\"entity\" style=\"background: #ddd; padding: 0.45em 0.6em; margin: 0 0.25em; line-height: 1; border-radius: 0.35em;\">\n",
       "    Jaan-E-Mann\n",
       "    <span style=\"font-size: 0.8em; font-weight: bold; line-height: 1; border-radius: 0.35em; vertical-align: middle; margin-left: 0.5rem\">movie</span>\n",
       "</mark>\n",
       ", and \n",
       "<mark class=\"entity\" style=\"background: #ddd; padding: 0.45em 0.6em; margin: 0 0.25em; line-height: 1; border-radius: 0.35em;\">\n",
       "    The Women on the Roof\n",
       "    <span style=\"font-size: 0.8em; font-weight: bold; line-height: 1; border-radius: 0.35em; vertical-align: middle; margin-left: 0.5rem\">movie</span>\n",
       "</mark>\n",
       ", do you have any movie recommendations for me?</div></span>"
      ],
      "text/plain": [
       "<IPython.core.display.HTML object>"
      ]
     },
     "metadata": {},
     "output_type": "display_data"
    },
    {
     "name": "stdout",
     "output_type": "stream",
     "text": [
      "Since I enjoy Zack and Miri Make a Porno, Jaan-E-Mann, and The Women on the Roof, do you have any movie recommendations for me? {'entities': [(14, 40, 'movie'), (42, 53, 'movie'), (59, 80, 'movie'), (104, 113, 'predicate')]}\n",
      "Missing movie label\n"
     ]
    },
    {
     "data": {
      "text/html": [
       "<span class=\"tex2jax_ignore\"><div class=\"entities\" style=\"line-height: 2.5; direction: ltr\">Since I enjoy \n",
       "<mark class=\"entity\" style=\"background: #ddd; padding: 0.45em 0.6em; margin: 0 0.25em; line-height: 1; border-radius: 0.35em;\">\n",
       "    Raising Helen\n",
       "    <span style=\"font-size: 0.8em; font-weight: bold; line-height: 1; border-radius: 0.35em; vertical-align: middle; margin-left: 0.5rem\">movie</span>\n",
       "</mark>\n",
       ", \n",
       "<mark class=\"entity\" style=\"background: #ddd; padding: 0.45em 0.6em; margin: 0 0.25em; line-height: 1; border-radius: 0.35em;\">\n",
       "    Murder of a Cat\n",
       "    <span style=\"font-size: 0.8em; font-weight: bold; line-height: 1; border-radius: 0.35em; vertical-align: middle; margin-left: 0.5rem\">movie</span>\n",
       "</mark>\n",
       ", and \n",
       "<mark class=\"entity\" style=\"background: #ddd; padding: 0.45em 0.6em; margin: 0 0.25em; line-height: 1; border-radius: 0.35em;\">\n",
       "    Good Night\n",
       "    <span style=\"font-size: 0.8em; font-weight: bold; line-height: 1; border-radius: 0.35em; vertical-align: middle; margin-left: 0.5rem\">movie</span>\n",
       "</mark>\n",
       ", and \n",
       "<mark class=\"entity\" style=\"background: #ddd; padding: 0.45em 0.6em; margin: 0 0.25em; line-height: 1; border-radius: 0.35em;\">\n",
       "    Good Luck.\n",
       "    <span style=\"font-size: 0.8em; font-weight: bold; line-height: 1; border-radius: 0.35em; vertical-align: middle; margin-left: 0.5rem\">movie</span>\n",
       "</mark>\n",
       ", do you have any movie recommendations for me?</div></span>"
      ],
      "text/plain": [
       "<IPython.core.display.HTML object>"
      ]
     },
     "metadata": {},
     "output_type": "display_data"
    },
    {
     "name": "stdout",
     "output_type": "stream",
     "text": [
      "Since I enjoy Raising Helen, Murder of a Cat, and Good Night, and Good Luck., do you have any movie recommendations for me? {'entities': [(14, 27, 'movie'), (29, 44, 'movie'), (50, 76, 'movie'), (100, 109, 'predicate')]}\n",
      "Missing movie label\n"
     ]
    },
    {
     "data": {
      "text/html": [
       "<span class=\"tex2jax_ignore\"><div class=\"entities\" style=\"line-height: 2.5; direction: ltr\">Since I enjoy \n",
       "<mark class=\"entity\" style=\"background: #ddd; padding: 0.45em 0.6em; margin: 0 0.25em; line-height: 1; border-radius: 0.35em;\">\n",
       "    Raising Helen\n",
       "    <span style=\"font-size: 0.8em; font-weight: bold; line-height: 1; border-radius: 0.35em; vertical-align: middle; margin-left: 0.5rem\">movie</span>\n",
       "</mark>\n",
       ", \n",
       "<mark class=\"entity\" style=\"background: #ddd; padding: 0.45em 0.6em; margin: 0 0.25em; line-height: 1; border-radius: 0.35em;\">\n",
       "    Murder of a Cat\n",
       "    <span style=\"font-size: 0.8em; font-weight: bold; line-height: 1; border-radius: 0.35em; vertical-align: middle; margin-left: 0.5rem\">movie</span>\n",
       "</mark>\n",
       ", and \n",
       "<mark class=\"entity\" style=\"background: #ddd; padding: 0.45em 0.6em; margin: 0 0.25em; line-height: 1; border-radius: 0.35em;\">\n",
       "    Good Night\n",
       "    <span style=\"font-size: 0.8em; font-weight: bold; line-height: 1; border-radius: 0.35em; vertical-align: middle; margin-left: 0.5rem\">movie</span>\n",
       "</mark>\n",
       ", and \n",
       "<mark class=\"entity\" style=\"background: #ddd; padding: 0.45em 0.6em; margin: 0 0.25em; line-height: 1; border-radius: 0.35em;\">\n",
       "    Good Luck.\n",
       "    <span style=\"font-size: 0.8em; font-weight: bold; line-height: 1; border-radius: 0.35em; vertical-align: middle; margin-left: 0.5rem\">movie</span>\n",
       "</mark>\n",
       ", do you have any movie recommendations for me?</div></span>"
      ],
      "text/plain": [
       "<IPython.core.display.HTML object>"
      ]
     },
     "metadata": {},
     "output_type": "display_data"
    },
    {
     "name": "stdout",
     "output_type": "stream",
     "text": [
      "Since I enjoy Raising Helen, Murder of a Cat, and Good Night, and Good Luck., do you have any movie recommendations for me? {'entities': [(14, 27, 'movie'), (29, 44, 'movie'), (50, 76, 'movie'), (100, 109, 'predicate')]}\n",
      "Missing movie label\n"
     ]
    },
    {
     "data": {
      "text/html": [
       "<span class=\"tex2jax_ignore\"><div class=\"entities\" style=\"line-height: 2.5; direction: ltr\">Since I enjoy \n",
       "<mark class=\"entity\" style=\"background: #ddd; padding: 0.45em 0.6em; margin: 0 0.25em; line-height: 1; border-radius: 0.35em;\">\n",
       "    This Christmas\n",
       "    <span style=\"font-size: 0.8em; font-weight: bold; line-height: 1; border-radius: 0.35em; vertical-align: middle; margin-left: 0.5rem\">movie</span>\n",
       "</mark>\n",
       ", \n",
       "<mark class=\"entity\" style=\"background: #ddd; padding: 0.45em 0.6em; margin: 0 0.25em; line-height: 1; border-radius: 0.35em;\">\n",
       "    Otis\n",
       "    <span style=\"font-size: 0.8em; font-weight: bold; line-height: 1; border-radius: 0.35em; vertical-align: middle; margin-left: 0.5rem\">genre</span>\n",
       "</mark>\n",
       ", and \n",
       "<mark class=\"entity\" style=\"background: #ddd; padding: 0.45em 0.6em; margin: 0 0.25em; line-height: 1; border-radius: 0.35em;\">\n",
       "    Necrosis\n",
       "    <span style=\"font-size: 0.8em; font-weight: bold; line-height: 1; border-radius: 0.35em; vertical-align: middle; margin-left: 0.5rem\">movie</span>\n",
       "</mark>\n",
       ", do you have any movie recommendations for me?</div></span>"
      ],
      "text/plain": [
       "<IPython.core.display.HTML object>"
      ]
     },
     "metadata": {},
     "output_type": "display_data"
    },
    {
     "name": "stdout",
     "output_type": "stream",
     "text": [
      "Since I enjoy This Christmas, Otis, and Necrosis, do you have any movie recommendations for me? {'entities': [(14, 28, 'movie'), (30, 34, 'movie'), (40, 48, 'movie'), (72, 81, 'predicate')]}\n",
      "Missing genre label\n"
     ]
    },
    {
     "data": {
      "text/html": [
       "<span class=\"tex2jax_ignore\"><div class=\"entities\" style=\"line-height: 2.5; direction: ltr\">Since I enjoy \n",
       "<mark class=\"entity\" style=\"background: #ddd; padding: 0.45em 0.6em; margin: 0 0.25em; line-height: 1; border-radius: 0.35em;\">\n",
       "    My Son, My Son\n",
       "    <span style=\"font-size: 0.8em; font-weight: bold; line-height: 1; border-radius: 0.35em; vertical-align: middle; margin-left: 0.5rem\">movie</span>\n",
       "</mark>\n",
       ", \n",
       "<mark class=\"entity\" style=\"background: #ddd; padding: 0.45em 0.6em; margin: 0 0.25em; line-height: 1; border-radius: 0.35em;\">\n",
       "    What Have Ye Done?\n",
       "    <span style=\"font-size: 0.8em; font-weight: bold; line-height: 1; border-radius: 0.35em; vertical-align: middle; margin-left: 0.5rem\">movie</span>\n",
       "</mark>\n",
       ", \n",
       "<mark class=\"entity\" style=\"background: #ddd; padding: 0.45em 0.6em; margin: 0 0.25em; line-height: 1; border-radius: 0.35em;\">\n",
       "    Paranormal Activity 3\n",
       "    <span style=\"font-size: 0.8em; font-weight: bold; line-height: 1; border-radius: 0.35em; vertical-align: middle; margin-left: 0.5rem\">movie</span>\n",
       "</mark>\n",
       ", and \n",
       "<mark class=\"entity\" style=\"background: #ddd; padding: 0.45em 0.6em; margin: 0 0.25em; line-height: 1; border-radius: 0.35em;\">\n",
       "    Along Came Polly\n",
       "    <span style=\"font-size: 0.8em; font-weight: bold; line-height: 1; border-radius: 0.35em; vertical-align: middle; margin-left: 0.5rem\">movie</span>\n",
       "</mark>\n",
       ", do you have any movie recommendations for me?</div></span>"
      ],
      "text/plain": [
       "<IPython.core.display.HTML object>"
      ]
     },
     "metadata": {},
     "output_type": "display_data"
    },
    {
     "name": "stdout",
     "output_type": "stream",
     "text": [
      "Since I enjoy My Son, My Son, What Have Ye Done?, Paranormal Activity 3, and Along Came Polly, do you have any movie recommendations for me? {'entities': [(14, 48, 'movie'), (50, 71, 'movie'), (77, 93, 'movie'), (117, 126, 'predicate')]}\n",
      "Missing movie label\n"
     ]
    },
    {
     "data": {
      "text/html": [
       "<span class=\"tex2jax_ignore\"><div class=\"entities\" style=\"line-height: 2.5; direction: ltr\">Since I enjoy \n",
       "<mark class=\"entity\" style=\"background: #ddd; padding: 0.45em 0.6em; margin: 0 0.25em; line-height: 1; border-radius: 0.35em;\">\n",
       "    My Son, My Son\n",
       "    <span style=\"font-size: 0.8em; font-weight: bold; line-height: 1; border-radius: 0.35em; vertical-align: middle; margin-left: 0.5rem\">movie</span>\n",
       "</mark>\n",
       ", \n",
       "<mark class=\"entity\" style=\"background: #ddd; padding: 0.45em 0.6em; margin: 0 0.25em; line-height: 1; border-radius: 0.35em;\">\n",
       "    What Have Ye Done?\n",
       "    <span style=\"font-size: 0.8em; font-weight: bold; line-height: 1; border-radius: 0.35em; vertical-align: middle; margin-left: 0.5rem\">movie</span>\n",
       "</mark>\n",
       ", \n",
       "<mark class=\"entity\" style=\"background: #ddd; padding: 0.45em 0.6em; margin: 0 0.25em; line-height: 1; border-radius: 0.35em;\">\n",
       "    Paranormal Activity 3\n",
       "    <span style=\"font-size: 0.8em; font-weight: bold; line-height: 1; border-radius: 0.35em; vertical-align: middle; margin-left: 0.5rem\">movie</span>\n",
       "</mark>\n",
       ", and \n",
       "<mark class=\"entity\" style=\"background: #ddd; padding: 0.45em 0.6em; margin: 0 0.25em; line-height: 1; border-radius: 0.35em;\">\n",
       "    Along Came Polly\n",
       "    <span style=\"font-size: 0.8em; font-weight: bold; line-height: 1; border-radius: 0.35em; vertical-align: middle; margin-left: 0.5rem\">movie</span>\n",
       "</mark>\n",
       ", do you have any movie recommendations for me?</div></span>"
      ],
      "text/plain": [
       "<IPython.core.display.HTML object>"
      ]
     },
     "metadata": {},
     "output_type": "display_data"
    },
    {
     "name": "stdout",
     "output_type": "stream",
     "text": [
      "Since I enjoy My Son, My Son, What Have Ye Done?, Paranormal Activity 3, and Along Came Polly, do you have any movie recommendations for me? {'entities': [(14, 48, 'movie'), (50, 71, 'movie'), (77, 93, 'movie'), (117, 126, 'predicate')]}\n",
      "Missing movie label\n"
     ]
    },
    {
     "data": {
      "text/html": [
       "<span class=\"tex2jax_ignore\"><div class=\"entities\" style=\"line-height: 2.5; direction: ltr\">Since I enjoy \n",
       "<mark class=\"entity\" style=\"background: #ddd; padding: 0.45em 0.6em; margin: 0 0.25em; line-height: 1; border-radius: 0.35em;\">\n",
       "    Doutes\n",
       "    <span style=\"font-size: 0.8em; font-weight: bold; line-height: 1; border-radius: 0.35em; vertical-align: middle; margin-left: 0.5rem\">movie</span>\n",
       "</mark>\n",
       ", \n",
       "<mark class=\"entity\" style=\"background: #ddd; padding: 0.45em 0.6em; margin: 0 0.25em; line-height: 1; border-radius: 0.35em;\">\n",
       "    Halloween\n",
       "    <span style=\"font-size: 0.8em; font-weight: bold; line-height: 1; border-radius: 0.35em; vertical-align: middle; margin-left: 0.5rem\">genre</span>\n",
       "</mark>\n",
       ", and \n",
       "<mark class=\"entity\" style=\"background: #ddd; padding: 0.45em 0.6em; margin: 0 0.25em; line-height: 1; border-radius: 0.35em;\">\n",
       "    Wreck It!\n",
       "    <span style=\"font-size: 0.8em; font-weight: bold; line-height: 1; border-radius: 0.35em; vertical-align: middle; margin-left: 0.5rem\">movie</span>\n",
       "</mark>\n",
       ", do you have any movie recommendations for me?</div></span>"
      ],
      "text/plain": [
       "<IPython.core.display.HTML object>"
      ]
     },
     "metadata": {},
     "output_type": "display_data"
    },
    {
     "name": "stdout",
     "output_type": "stream",
     "text": [
      "Since I enjoy Doutes, Halloween, and Wreck It!, do you have any movie recommendations for me? {'entities': [(14, 20, 'movie'), (22, 31, 'movie'), (37, 46, 'movie'), (70, 79, 'predicate')]}\n",
      "Missing genre label\n"
     ]
    },
    {
     "data": {
      "text/html": [
       "<span class=\"tex2jax_ignore\"><div class=\"entities\" style=\"line-height: 2.5; direction: ltr\">Since I enjoy \n",
       "<mark class=\"entity\" style=\"background: #ddd; padding: 0.45em 0.6em; margin: 0 0.25em; line-height: 1; border-radius: 0.35em;\">\n",
       "    The Thing Called Love\n",
       "    <span style=\"font-size: 0.8em; font-weight: bold; line-height: 1; border-radius: 0.35em; vertical-align: middle; margin-left: 0.5rem\">movie</span>\n",
       "</mark>\n",
       ", I Love You, \n",
       "<mark class=\"entity\" style=\"background: #ddd; padding: 0.45em 0.6em; margin: 0 0.25em; line-height: 1; border-radius: 0.35em;\">\n",
       "    Beth Cooper\n",
       "    <span style=\"font-size: 0.8em; font-weight: bold; line-height: 1; border-radius: 0.35em; vertical-align: middle; margin-left: 0.5rem\">movie</span>\n",
       "</mark>\n",
       ", and \n",
       "<mark class=\"entity\" style=\"background: #ddd; padding: 0.45em 0.6em; margin: 0 0.25em; line-height: 1; border-radius: 0.35em;\">\n",
       "    Leprechaun: Origins\n",
       "    <span style=\"font-size: 0.8em; font-weight: bold; line-height: 1; border-radius: 0.35em; vertical-align: middle; margin-left: 0.5rem\">movie</span>\n",
       "</mark>\n",
       ", do you have any movie recommendations for me?</div></span>"
      ],
      "text/plain": [
       "<IPython.core.display.HTML object>"
      ]
     },
     "metadata": {},
     "output_type": "display_data"
    },
    {
     "name": "stdout",
     "output_type": "stream",
     "text": [
      "Since I enjoy The Thing Called Love, I Love You, Beth Cooper, and Leprechaun: Origins, do you have any movie recommendations for me? {'entities': [(14, 35, 'movie'), (37, 60, 'movie'), (66, 85, 'movie'), (109, 118, 'predicate')]}\n",
      "Missing movie label\n"
     ]
    },
    {
     "data": {
      "text/html": [
       "<span class=\"tex2jax_ignore\"><div class=\"entities\" style=\"line-height: 2.5; direction: ltr\">Since I enjoy \n",
       "<mark class=\"entity\" style=\"background: #ddd; padding: 0.45em 0.6em; margin: 0 0.25em; line-height: 1; border-radius: 0.35em;\">\n",
       "    Gingerclown,\n",
       "    <span style=\"font-size: 0.8em; font-weight: bold; line-height: 1; border-radius: 0.35em; vertical-align: middle; margin-left: 0.5rem\">movie</span>\n",
       "</mark>\n",
       " \n",
       "<mark class=\"entity\" style=\"background: #ddd; padding: 0.45em 0.6em; margin: 0 0.25em; line-height: 1; border-radius: 0.35em;\">\n",
       "    Meet My Valentine\n",
       "    <span style=\"font-size: 0.8em; font-weight: bold; line-height: 1; border-radius: 0.35em; vertical-align: middle; margin-left: 0.5rem\">movie</span>\n",
       "</mark>\n",
       ", and \n",
       "<mark class=\"entity\" style=\"background: #ddd; padding: 0.45em 0.6em; margin: 0 0.25em; line-height: 1; border-radius: 0.35em;\">\n",
       "    A small September Affair\n",
       "    <span style=\"font-size: 0.8em; font-weight: bold; line-height: 1; border-radius: 0.35em; vertical-align: middle; margin-left: 0.5rem\">movie</span>\n",
       "</mark>\n",
       ", do you have any movie recommendations for me?</div></span>"
      ],
      "text/plain": [
       "<IPython.core.display.HTML object>"
      ]
     },
     "metadata": {},
     "output_type": "display_data"
    },
    {
     "name": "stdout",
     "output_type": "stream",
     "text": [
      "Since I enjoy Gingerclown, Meet My Valentine, and A small September Affair, do you have any movie recommendations for me? {'entities': [(14, 25, 'movie'), (27, 44, 'movie'), (50, 74, 'movie'), (98, 107, 'predicate')]}\n",
      "Missing movie label\n"
     ]
    },
    {
     "data": {
      "text/html": [
       "<span class=\"tex2jax_ignore\"><div class=\"entities\" style=\"line-height: 2.5; direction: ltr\">Since I enjoy \n",
       "<mark class=\"entity\" style=\"background: #ddd; padding: 0.45em 0.6em; margin: 0 0.25em; line-height: 1; border-radius: 0.35em;\">\n",
       "    Han Gong-ju\n",
       "    <span style=\"font-size: 0.8em; font-weight: bold; line-height: 1; border-radius: 0.35em; vertical-align: middle; margin-left: 0.5rem\">movie</span>\n",
       "</mark>\n",
       ", \n",
       "<mark class=\"entity\" style=\"background: #ddd; padding: 0.45em 0.6em; margin: 0 0.25em; line-height: 1; border-radius: 0.35em;\">\n",
       "    MirrorMask\n",
       "    <span style=\"font-size: 0.8em; font-weight: bold; line-height: 1; border-radius: 0.35em; vertical-align: middle; margin-left: 0.5rem\">name</span>\n",
       "</mark>\n",
       ", and \n",
       "<mark class=\"entity\" style=\"background: #ddd; padding: 0.45em 0.6em; margin: 0 0.25em; line-height: 1; border-radius: 0.35em;\">\n",
       "    An American Werewolf in London\n",
       "    <span style=\"font-size: 0.8em; font-weight: bold; line-height: 1; border-radius: 0.35em; vertical-align: middle; margin-left: 0.5rem\">movie</span>\n",
       "</mark>\n",
       ", do you have any movie recommendations for me?</div></span>"
      ],
      "text/plain": [
       "<IPython.core.display.HTML object>"
      ]
     },
     "metadata": {},
     "output_type": "display_data"
    },
    {
     "name": "stdout",
     "output_type": "stream",
     "text": [
      "Since I enjoy Han Gong-ju, MirrorMask, and An American Werewolf in London, do you have any movie recommendations for me? {'entities': [(14, 25, 'movie'), (27, 37, 'movie'), (43, 73, 'movie'), (97, 106, 'predicate')]}\n",
      "Missing name label\n"
     ]
    },
    {
     "data": {
      "text/html": [
       "<span class=\"tex2jax_ignore\"><div class=\"entities\" style=\"line-height: 2.5; direction: ltr\">Since I enjoy \n",
       "<mark class=\"entity\" style=\"background: #ddd; padding: 0.45em 0.6em; margin: 0 0.25em; line-height: 1; border-radius: 0.35em;\">\n",
       "    Brèves de comptoir\n",
       "    <span style=\"font-size: 0.8em; font-weight: bold; line-height: 1; border-radius: 0.35em; vertical-align: middle; margin-left: 0.5rem\">movie</span>\n",
       "</mark>\n",
       ", \n",
       "<mark class=\"entity\" style=\"background: #ddd; padding: 0.45em 0.6em; margin: 0 0.25em; line-height: 1; border-radius: 0.35em;\">\n",
       "    Widows\n",
       "    <span style=\"font-size: 0.8em; font-weight: bold; line-height: 1; border-radius: 0.35em; vertical-align: middle; margin-left: 0.5rem\">genre</span>\n",
       "</mark>\n",
       ", and \n",
       "<mark class=\"entity\" style=\"background: #ddd; padding: 0.45em 0.6em; margin: 0 0.25em; line-height: 1; border-radius: 0.35em;\">\n",
       "    Limbo\n",
       "    <span style=\"font-size: 0.8em; font-weight: bold; line-height: 1; border-radius: 0.35em; vertical-align: middle; margin-left: 0.5rem\">movie</span>\n",
       "</mark>\n",
       ", do you have any movie recommendations for me?</div></span>"
      ],
      "text/plain": [
       "<IPython.core.display.HTML object>"
      ]
     },
     "metadata": {},
     "output_type": "display_data"
    },
    {
     "name": "stdout",
     "output_type": "stream",
     "text": [
      "Since I enjoy Brèves de comptoir, Widows, and Limbo, do you have any movie recommendations for me? {'entities': [(14, 32, 'movie'), (34, 40, 'movie'), (46, 51, 'movie'), (75, 84, 'predicate')]}\n",
      "Missing genre label\n"
     ]
    },
    {
     "data": {
      "text/html": [
       "<span class=\"tex2jax_ignore\"><div class=\"entities\" style=\"line-height: 2.5; direction: ltr\">Since I enjoy \n",
       "<mark class=\"entity\" style=\"background: #ddd; padding: 0.45em 0.6em; margin: 0 0.25em; line-height: 1; border-radius: 0.35em;\">\n",
       "    Silvered Water\n",
       "    <span style=\"font-size: 0.8em; font-weight: bold; line-height: 1; border-radius: 0.35em; vertical-align: middle; margin-left: 0.5rem\">movie</span>\n",
       "</mark>\n",
       ", Syria Self-Portrait, \n",
       "<mark class=\"entity\" style=\"background: #ddd; padding: 0.45em 0.6em; margin: 0 0.25em; line-height: 1; border-radius: 0.35em;\">\n",
       "    Remainder\n",
       "    <span style=\"font-size: 0.8em; font-weight: bold; line-height: 1; border-radius: 0.35em; vertical-align: middle; margin-left: 0.5rem\">movie</span>\n",
       "</mark>\n",
       ", and \n",
       "<mark class=\"entity\" style=\"background: #ddd; padding: 0.45em 0.6em; margin: 0 0.25em; line-height: 1; border-radius: 0.35em;\">\n",
       "    The Legend of Hell's Gate\n",
       "    <span style=\"font-size: 0.8em; font-weight: bold; line-height: 1; border-radius: 0.35em; vertical-align: middle; margin-left: 0.5rem\">movie</span>\n",
       "</mark>\n",
       ", do you have any movie recommendations for me?</div></span>"
      ],
      "text/plain": [
       "<IPython.core.display.HTML object>"
      ]
     },
     "metadata": {},
     "output_type": "display_data"
    },
    {
     "name": "stdout",
     "output_type": "stream",
     "text": [
      "Since I enjoy Silvered Water, Syria Self-Portrait, Remainder, and The Legend of Hell's Gate, do you have any movie recommendations for me? {'entities': [(14, 49, 'movie'), (51, 60, 'movie'), (66, 91, 'movie'), (115, 124, 'predicate')]}\n",
      "Missing movie label\n"
     ]
    },
    {
     "data": {
      "text/html": [
       "<span class=\"tex2jax_ignore\"><div class=\"entities\" style=\"line-height: 2.5; direction: ltr\">Since I enjoy \n",
       "<mark class=\"entity\" style=\"background: #ddd; padding: 0.45em 0.6em; margin: 0 0.25em; line-height: 1; border-radius: 0.35em;\">\n",
       "    Hur många kramar\n",
       "    <span style=\"font-size: 0.8em; font-weight: bold; line-height: 1; border-radius: 0.35em; vertical-align: middle; margin-left: 0.5rem\">movie</span>\n",
       "</mark>\n",
       " \n",
       "<mark class=\"entity\" style=\"background: #ddd; padding: 0.45em 0.6em; margin: 0 0.25em; line-height: 1; border-radius: 0.35em;\">\n",
       "    finns det i\n",
       "    <span style=\"font-size: 0.8em; font-weight: bold; line-height: 1; border-radius: 0.35em; vertical-align: middle; margin-left: 0.5rem\">genre</span>\n",
       "</mark>\n",
       " världen?, \n",
       "<mark class=\"entity\" style=\"background: #ddd; padding: 0.45em 0.6em; margin: 0 0.25em; line-height: 1; border-radius: 0.35em;\">\n",
       "    Ruined Heart\n",
       "    <span style=\"font-size: 0.8em; font-weight: bold; line-height: 1; border-radius: 0.35em; vertical-align: middle; margin-left: 0.5rem\">movie</span>\n",
       "</mark>\n",
       ", and \n",
       "<mark class=\"entity\" style=\"background: #ddd; padding: 0.45em 0.6em; margin: 0 0.25em; line-height: 1; border-radius: 0.35em;\">\n",
       "    Barbie: The Princess &amp; the Popstar\n",
       "    <span style=\"font-size: 0.8em; font-weight: bold; line-height: 1; border-radius: 0.35em; vertical-align: middle; margin-left: 0.5rem\">movie</span>\n",
       "</mark>\n",
       ", do you have any movie recommendations for me?</div></span>"
      ],
      "text/plain": [
       "<IPython.core.display.HTML object>"
      ]
     },
     "metadata": {},
     "output_type": "display_data"
    },
    {
     "name": "stdout",
     "output_type": "stream",
     "text": [
      "Since I enjoy Hur många kramar finns det i världen?, Ruined Heart, and Barbie: The Princess & the Popstar, do you have any movie recommendations for me? {'entities': [(14, 51, 'movie'), (53, 65, 'movie'), (71, 105, 'movie'), (129, 138, 'predicate')]}\n",
      "Missing movie label\n"
     ]
    },
    {
     "data": {
      "text/html": [
       "<span class=\"tex2jax_ignore\"><div class=\"entities\" style=\"line-height: 2.5; direction: ltr\">Since I enjoy \n",
       "<mark class=\"entity\" style=\"background: #ddd; padding: 0.45em 0.6em; margin: 0 0.25em; line-height: 1; border-radius: 0.35em;\">\n",
       "    Hur många kramar\n",
       "    <span style=\"font-size: 0.8em; font-weight: bold; line-height: 1; border-radius: 0.35em; vertical-align: middle; margin-left: 0.5rem\">movie</span>\n",
       "</mark>\n",
       " \n",
       "<mark class=\"entity\" style=\"background: #ddd; padding: 0.45em 0.6em; margin: 0 0.25em; line-height: 1; border-radius: 0.35em;\">\n",
       "    finns det i\n",
       "    <span style=\"font-size: 0.8em; font-weight: bold; line-height: 1; border-radius: 0.35em; vertical-align: middle; margin-left: 0.5rem\">genre</span>\n",
       "</mark>\n",
       " världen?, \n",
       "<mark class=\"entity\" style=\"background: #ddd; padding: 0.45em 0.6em; margin: 0 0.25em; line-height: 1; border-radius: 0.35em;\">\n",
       "    Ruined Heart\n",
       "    <span style=\"font-size: 0.8em; font-weight: bold; line-height: 1; border-radius: 0.35em; vertical-align: middle; margin-left: 0.5rem\">movie</span>\n",
       "</mark>\n",
       ", and \n",
       "<mark class=\"entity\" style=\"background: #ddd; padding: 0.45em 0.6em; margin: 0 0.25em; line-height: 1; border-radius: 0.35em;\">\n",
       "    Barbie: The Princess &amp; the Popstar\n",
       "    <span style=\"font-size: 0.8em; font-weight: bold; line-height: 1; border-radius: 0.35em; vertical-align: middle; margin-left: 0.5rem\">movie</span>\n",
       "</mark>\n",
       ", do you have any movie recommendations for me?</div></span>"
      ],
      "text/plain": [
       "<IPython.core.display.HTML object>"
      ]
     },
     "metadata": {},
     "output_type": "display_data"
    },
    {
     "name": "stdout",
     "output_type": "stream",
     "text": [
      "Since I enjoy Hur många kramar finns det i världen?, Ruined Heart, and Barbie: The Princess & the Popstar, do you have any movie recommendations for me? {'entities': [(14, 51, 'movie'), (53, 65, 'movie'), (71, 105, 'movie'), (129, 138, 'predicate')]}\n",
      "Missing genre label\n"
     ]
    },
    {
     "data": {
      "text/html": [
       "<span class=\"tex2jax_ignore\"><div class=\"entities\" style=\"line-height: 2.5; direction: ltr\">Since I enjoy \n",
       "<mark class=\"entity\" style=\"background: #ddd; padding: 0.45em 0.6em; margin: 0 0.25em; line-height: 1; border-radius: 0.35em;\">\n",
       "    Vacation\n",
       "    <span style=\"font-size: 0.8em; font-weight: bold; line-height: 1; border-radius: 0.35em; vertical-align: middle; margin-left: 0.5rem\">movie</span>\n",
       "</mark>\n",
       ", \n",
       "<mark class=\"entity\" style=\"background: #ddd; padding: 0.45em 0.6em; margin: 0 0.25em; line-height: 1; border-radius: 0.35em;\">\n",
       "    Halloween\n",
       "    <span style=\"font-size: 0.8em; font-weight: bold; line-height: 1; border-radius: 0.35em; vertical-align: middle; margin-left: 0.5rem\">genre</span>\n",
       "</mark>\n",
       ", and \n",
       "<mark class=\"entity\" style=\"background: #ddd; padding: 0.45em 0.6em; margin: 0 0.25em; line-height: 1; border-radius: 0.35em;\">\n",
       "    Without a Clue\n",
       "    <span style=\"font-size: 0.8em; font-weight: bold; line-height: 1; border-radius: 0.35em; vertical-align: middle; margin-left: 0.5rem\">movie</span>\n",
       "</mark>\n",
       ", do you have any movie recommendations for me?</div></span>"
      ],
      "text/plain": [
       "<IPython.core.display.HTML object>"
      ]
     },
     "metadata": {},
     "output_type": "display_data"
    },
    {
     "name": "stdout",
     "output_type": "stream",
     "text": [
      "Since I enjoy Vacation, Halloween, and Without a Clue, do you have any movie recommendations for me? {'entities': [(14, 22, 'movie'), (24, 33, 'movie'), (39, 53, 'movie'), (77, 86, 'predicate')]}\n",
      "Missing genre label\n"
     ]
    },
    {
     "data": {
      "text/html": [
       "<span class=\"tex2jax_ignore\"><div class=\"entities\" style=\"line-height: 2.5; direction: ltr\">Since I enjoy \n",
       "<mark class=\"entity\" style=\"background: #ddd; padding: 0.45em 0.6em; margin: 0 0.25em; line-height: 1; border-radius: 0.35em;\">\n",
       "    Going Clear: Scientology\n",
       "    <span style=\"font-size: 0.8em; font-weight: bold; line-height: 1; border-radius: 0.35em; vertical-align: middle; margin-left: 0.5rem\">movie</span>\n",
       "</mark>\n",
       ", \n",
       "<mark class=\"entity\" style=\"background: #ddd; padding: 0.45em 0.6em; margin: 0 0.25em; line-height: 1; border-radius: 0.35em;\">\n",
       "    Hollywood, and the Prison of Belief\n",
       "    <span style=\"font-size: 0.8em; font-weight: bold; line-height: 1; border-radius: 0.35em; vertical-align: middle; margin-left: 0.5rem\">movie</span>\n",
       "</mark>\n",
       ", \n",
       "<mark class=\"entity\" style=\"background: #ddd; padding: 0.45em 0.6em; margin: 0 0.25em; line-height: 1; border-radius: 0.35em;\">\n",
       "    Spinning into Butter\n",
       "    <span style=\"font-size: 0.8em; font-weight: bold; line-height: 1; border-radius: 0.35em; vertical-align: middle; margin-left: 0.5rem\">movie</span>\n",
       "</mark>\n",
       ", and \n",
       "<mark class=\"entity\" style=\"background: #ddd; padding: 0.45em 0.6em; margin: 0 0.25em; line-height: 1; border-radius: 0.35em;\">\n",
       "    Lost in Karastan\n",
       "    <span style=\"font-size: 0.8em; font-weight: bold; line-height: 1; border-radius: 0.35em; vertical-align: middle; margin-left: 0.5rem\">movie</span>\n",
       "</mark>\n",
       ", do you have any movie recommendations for me?</div></span>"
      ],
      "text/plain": [
       "<IPython.core.display.HTML object>"
      ]
     },
     "metadata": {},
     "output_type": "display_data"
    },
    {
     "name": "stdout",
     "output_type": "stream",
     "text": [
      "Since I enjoy Going Clear: Scientology, Hollywood, and the Prison of Belief, Spinning into Butter, and Lost in Karastan, do you have any movie recommendations for me? {'entities': [(14, 75, 'movie'), (77, 97, 'movie'), (103, 119, 'movie'), (143, 152, 'predicate')]}\n",
      "Missing movie label\n"
     ]
    },
    {
     "data": {
      "text/html": [
       "<span class=\"tex2jax_ignore\"><div class=\"entities\" style=\"line-height: 2.5; direction: ltr\">Since I enjoy \n",
       "<mark class=\"entity\" style=\"background: #ddd; padding: 0.45em 0.6em; margin: 0 0.25em; line-height: 1; border-radius: 0.35em;\">\n",
       "    Going Clear: Scientology\n",
       "    <span style=\"font-size: 0.8em; font-weight: bold; line-height: 1; border-radius: 0.35em; vertical-align: middle; margin-left: 0.5rem\">movie</span>\n",
       "</mark>\n",
       ", \n",
       "<mark class=\"entity\" style=\"background: #ddd; padding: 0.45em 0.6em; margin: 0 0.25em; line-height: 1; border-radius: 0.35em;\">\n",
       "    Hollywood, and the Prison of Belief\n",
       "    <span style=\"font-size: 0.8em; font-weight: bold; line-height: 1; border-radius: 0.35em; vertical-align: middle; margin-left: 0.5rem\">movie</span>\n",
       "</mark>\n",
       ", \n",
       "<mark class=\"entity\" style=\"background: #ddd; padding: 0.45em 0.6em; margin: 0 0.25em; line-height: 1; border-radius: 0.35em;\">\n",
       "    Spinning into Butter\n",
       "    <span style=\"font-size: 0.8em; font-weight: bold; line-height: 1; border-radius: 0.35em; vertical-align: middle; margin-left: 0.5rem\">movie</span>\n",
       "</mark>\n",
       ", and \n",
       "<mark class=\"entity\" style=\"background: #ddd; padding: 0.45em 0.6em; margin: 0 0.25em; line-height: 1; border-radius: 0.35em;\">\n",
       "    Lost in Karastan\n",
       "    <span style=\"font-size: 0.8em; font-weight: bold; line-height: 1; border-radius: 0.35em; vertical-align: middle; margin-left: 0.5rem\">movie</span>\n",
       "</mark>\n",
       ", do you have any movie recommendations for me?</div></span>"
      ],
      "text/plain": [
       "<IPython.core.display.HTML object>"
      ]
     },
     "metadata": {},
     "output_type": "display_data"
    },
    {
     "name": "stdout",
     "output_type": "stream",
     "text": [
      "Since I enjoy Going Clear: Scientology, Hollywood, and the Prison of Belief, Spinning into Butter, and Lost in Karastan, do you have any movie recommendations for me? {'entities': [(14, 75, 'movie'), (77, 97, 'movie'), (103, 119, 'movie'), (143, 152, 'predicate')]}\n",
      "Missing movie label\n"
     ]
    },
    {
     "data": {
      "text/html": [
       "<span class=\"tex2jax_ignore\"><div class=\"entities\" style=\"line-height: 2.5; direction: ltr\">Since I enjoy \n",
       "<mark class=\"entity\" style=\"background: #ddd; padding: 0.45em 0.6em; margin: 0 0.25em; line-height: 1; border-radius: 0.35em;\">\n",
       "    3D Sex\n",
       "    <span style=\"font-size: 0.8em; font-weight: bold; line-height: 1; border-radius: 0.35em; vertical-align: middle; margin-left: 0.5rem\">movie</span>\n",
       "</mark>\n",
       " and Zen: Extreme Ecstasy, \n",
       "<mark class=\"entity\" style=\"background: #ddd; padding: 0.45em 0.6em; margin: 0 0.25em; line-height: 1; border-radius: 0.35em;\">\n",
       "    Springsteen &amp; I\n",
       "    <span style=\"font-size: 0.8em; font-weight: bold; line-height: 1; border-radius: 0.35em; vertical-align: middle; margin-left: 0.5rem\">movie</span>\n",
       "</mark>\n",
       ", and \n",
       "<mark class=\"entity\" style=\"background: #ddd; padding: 0.45em 0.6em; margin: 0 0.25em; line-height: 1; border-radius: 0.35em;\">\n",
       "    Django Shoots First\n",
       "    <span style=\"font-size: 0.8em; font-weight: bold; line-height: 1; border-radius: 0.35em; vertical-align: middle; margin-left: 0.5rem\">movie</span>\n",
       "</mark>\n",
       ", do you have any movie recommendations for me?</div></span>"
      ],
      "text/plain": [
       "<IPython.core.display.HTML object>"
      ]
     },
     "metadata": {},
     "output_type": "display_data"
    },
    {
     "name": "stdout",
     "output_type": "stream",
     "text": [
      "Since I enjoy 3D Sex and Zen: Extreme Ecstasy, Springsteen & I, and Django Shoots First, do you have any movie recommendations for me? {'entities': [(14, 45, 'movie'), (47, 62, 'movie'), (68, 87, 'movie'), (111, 120, 'predicate')]}\n",
      "Missing movie label\n"
     ]
    },
    {
     "data": {
      "text/html": [
       "<span class=\"tex2jax_ignore\"><div class=\"entities\" style=\"line-height: 2.5; direction: ltr\">Since I enjoy \n",
       "<mark class=\"entity\" style=\"background: #ddd; padding: 0.45em 0.6em; margin: 0 0.25em; line-height: 1; border-radius: 0.35em;\">\n",
       "    Norman: The Moderate Rise and\n",
       "    <span style=\"font-size: 0.8em; font-weight: bold; line-height: 1; border-radius: 0.35em; vertical-align: middle; margin-left: 0.5rem\">movie</span>\n",
       "</mark>\n",
       " \n",
       "<mark class=\"entity\" style=\"background: #ddd; padding: 0.45em 0.6em; margin: 0 0.25em; line-height: 1; border-radius: 0.35em;\">\n",
       "    Tragic Fall of a New York Fixer\n",
       "    <span style=\"font-size: 0.8em; font-weight: bold; line-height: 1; border-radius: 0.35em; vertical-align: middle; margin-left: 0.5rem\">movie</span>\n",
       "</mark>\n",
       ", \n",
       "<mark class=\"entity\" style=\"background: #ddd; padding: 0.45em 0.6em; margin: 0 0.25em; line-height: 1; border-radius: 0.35em;\">\n",
       "    Fastest\n",
       "    <span style=\"font-size: 0.8em; font-weight: bold; line-height: 1; border-radius: 0.35em; vertical-align: middle; margin-left: 0.5rem\">movie</span>\n",
       "</mark>\n",
       ", and \n",
       "<mark class=\"entity\" style=\"background: #ddd; padding: 0.45em 0.6em; margin: 0 0.25em; line-height: 1; border-radius: 0.35em;\">\n",
       "    Love Aaj Kal\n",
       "    <span style=\"font-size: 0.8em; font-weight: bold; line-height: 1; border-radius: 0.35em; vertical-align: middle; margin-left: 0.5rem\">movie</span>\n",
       "</mark>\n",
       ", do you have any movie recommendations for me?</div></span>"
      ],
      "text/plain": [
       "<IPython.core.display.HTML object>"
      ]
     },
     "metadata": {},
     "output_type": "display_data"
    },
    {
     "name": "stdout",
     "output_type": "stream",
     "text": [
      "Since I enjoy Norman: The Moderate Rise and Tragic Fall of a New York Fixer, Fastest, and Love Aaj Kal, do you have any movie recommendations for me? {'entities': [(14, 75, 'movie'), (77, 84, 'movie'), (90, 102, 'movie'), (126, 135, 'predicate')]}\n",
      "Missing movie label\n"
     ]
    },
    {
     "data": {
      "text/html": [
       "<span class=\"tex2jax_ignore\"><div class=\"entities\" style=\"line-height: 2.5; direction: ltr\">Since I enjoy \n",
       "<mark class=\"entity\" style=\"background: #ddd; padding: 0.45em 0.6em; margin: 0 0.25em; line-height: 1; border-radius: 0.35em;\">\n",
       "    Norman: The Moderate Rise and\n",
       "    <span style=\"font-size: 0.8em; font-weight: bold; line-height: 1; border-radius: 0.35em; vertical-align: middle; margin-left: 0.5rem\">movie</span>\n",
       "</mark>\n",
       " \n",
       "<mark class=\"entity\" style=\"background: #ddd; padding: 0.45em 0.6em; margin: 0 0.25em; line-height: 1; border-radius: 0.35em;\">\n",
       "    Tragic Fall of a New York Fixer\n",
       "    <span style=\"font-size: 0.8em; font-weight: bold; line-height: 1; border-radius: 0.35em; vertical-align: middle; margin-left: 0.5rem\">movie</span>\n",
       "</mark>\n",
       ", \n",
       "<mark class=\"entity\" style=\"background: #ddd; padding: 0.45em 0.6em; margin: 0 0.25em; line-height: 1; border-radius: 0.35em;\">\n",
       "    Fastest\n",
       "    <span style=\"font-size: 0.8em; font-weight: bold; line-height: 1; border-radius: 0.35em; vertical-align: middle; margin-left: 0.5rem\">movie</span>\n",
       "</mark>\n",
       ", and \n",
       "<mark class=\"entity\" style=\"background: #ddd; padding: 0.45em 0.6em; margin: 0 0.25em; line-height: 1; border-radius: 0.35em;\">\n",
       "    Love Aaj Kal\n",
       "    <span style=\"font-size: 0.8em; font-weight: bold; line-height: 1; border-radius: 0.35em; vertical-align: middle; margin-left: 0.5rem\">movie</span>\n",
       "</mark>\n",
       ", do you have any movie recommendations for me?</div></span>"
      ],
      "text/plain": [
       "<IPython.core.display.HTML object>"
      ]
     },
     "metadata": {},
     "output_type": "display_data"
    },
    {
     "name": "stdout",
     "output_type": "stream",
     "text": [
      "Since I enjoy Norman: The Moderate Rise and Tragic Fall of a New York Fixer, Fastest, and Love Aaj Kal, do you have any movie recommendations for me? {'entities': [(14, 75, 'movie'), (77, 84, 'movie'), (90, 102, 'movie'), (126, 135, 'predicate')]}\n",
      "Missing movie label\n"
     ]
    },
    {
     "data": {
      "text/html": [
       "<span class=\"tex2jax_ignore\"><div class=\"entities\" style=\"line-height: 2.5; direction: ltr\">Since I enjoy \n",
       "<mark class=\"entity\" style=\"background: #ddd; padding: 0.45em 0.6em; margin: 0 0.25em; line-height: 1; border-radius: 0.35em;\">\n",
       "    Half Sister\n",
       "    <span style=\"font-size: 0.8em; font-weight: bold; line-height: 1; border-radius: 0.35em; vertical-align: middle; margin-left: 0.5rem\">movie</span>\n",
       "</mark>\n",
       ", Full Love, \n",
       "<mark class=\"entity\" style=\"background: #ddd; padding: 0.45em 0.6em; margin: 0 0.25em; line-height: 1; border-radius: 0.35em;\">\n",
       "    Diary of a Country Priest\n",
       "    <span style=\"font-size: 0.8em; font-weight: bold; line-height: 1; border-radius: 0.35em; vertical-align: middle; margin-left: 0.5rem\">movie</span>\n",
       "</mark>\n",
       ", and \n",
       "<mark class=\"entity\" style=\"background: #ddd; padding: 0.45em 0.6em; margin: 0 0.25em; line-height: 1; border-radius: 0.35em;\">\n",
       "    Trauma\n",
       "    <span style=\"font-size: 0.8em; font-weight: bold; line-height: 1; border-radius: 0.35em; vertical-align: middle; margin-left: 0.5rem\">movie</span>\n",
       "</mark>\n",
       ", do you have any movie recommendations for me?</div></span>"
      ],
      "text/plain": [
       "<IPython.core.display.HTML object>"
      ]
     },
     "metadata": {},
     "output_type": "display_data"
    },
    {
     "name": "stdout",
     "output_type": "stream",
     "text": [
      "Since I enjoy Half Sister, Full Love, Diary of a Country Priest, and Trauma, do you have any movie recommendations for me? {'entities': [(14, 36, 'movie'), (38, 63, 'movie'), (69, 75, 'movie'), (99, 108, 'predicate')]}\n",
      "Missing movie label\n"
     ]
    },
    {
     "data": {
      "text/html": [
       "<span class=\"tex2jax_ignore\"><div class=\"entities\" style=\"line-height: 2.5; direction: ltr\">Since I enjoy \n",
       "<mark class=\"entity\" style=\"background: #ddd; padding: 0.45em 0.6em; margin: 0 0.25em; line-height: 1; border-radius: 0.35em;\">\n",
       "    Welcome Home Roscoe Jenkins\n",
       "    <span style=\"font-size: 0.8em; font-weight: bold; line-height: 1; border-radius: 0.35em; vertical-align: middle; margin-left: 0.5rem\">movie</span>\n",
       "</mark>\n",
       ", \n",
       "<mark class=\"entity\" style=\"background: #ddd; padding: 0.45em 0.6em; margin: 0 0.25em; line-height: 1; border-radius: 0.35em;\">\n",
       "    Summer in Berlin, and Baron Blood\n",
       "    <span style=\"font-size: 0.8em; font-weight: bold; line-height: 1; border-radius: 0.35em; vertical-align: middle; margin-left: 0.5rem\">movie</span>\n",
       "</mark>\n",
       ", do you have any movie recommendations for me?</div></span>"
      ],
      "text/plain": [
       "<IPython.core.display.HTML object>"
      ]
     },
     "metadata": {},
     "output_type": "display_data"
    },
    {
     "name": "stdout",
     "output_type": "stream",
     "text": [
      "Since I enjoy Welcome Home Roscoe Jenkins, Summer in Berlin, and Baron Blood, do you have any movie recommendations for me? {'entities': [(14, 41, 'movie'), (43, 59, 'movie'), (65, 76, 'movie'), (100, 109, 'predicate')]}\n",
      "Missing movie label\n"
     ]
    },
    {
     "data": {
      "text/html": [
       "<span class=\"tex2jax_ignore\"><div class=\"entities\" style=\"line-height: 2.5; direction: ltr\">Since I enjoy \n",
       "<mark class=\"entity\" style=\"background: #ddd; padding: 0.45em 0.6em; margin: 0 0.25em; line-height: 1; border-radius: 0.35em;\">\n",
       "    Silent Night\n",
       "    <span style=\"font-size: 0.8em; font-weight: bold; line-height: 1; border-radius: 0.35em; vertical-align: middle; margin-left: 0.5rem\">movie</span>\n",
       "</mark>\n",
       ", \n",
       "<mark class=\"entity\" style=\"background: #ddd; padding: 0.45em 0.6em; margin: 0 0.25em; line-height: 1; border-radius: 0.35em;\">\n",
       "    Bloody Night: The Homecoming\n",
       "    <span style=\"font-size: 0.8em; font-weight: bold; line-height: 1; border-radius: 0.35em; vertical-align: middle; margin-left: 0.5rem\">movie</span>\n",
       "</mark>\n",
       ", \n",
       "<mark class=\"entity\" style=\"background: #ddd; padding: 0.45em 0.6em; margin: 0 0.25em; line-height: 1; border-radius: 0.35em;\">\n",
       "    The River Wild\n",
       "    <span style=\"font-size: 0.8em; font-weight: bold; line-height: 1; border-radius: 0.35em; vertical-align: middle; margin-left: 0.5rem\">movie</span>\n",
       "</mark>\n",
       ", and \n",
       "<mark class=\"entity\" style=\"background: #ddd; padding: 0.45em 0.6em; margin: 0 0.25em; line-height: 1; border-radius: 0.35em;\">\n",
       "    Skiptrace\n",
       "    <span style=\"font-size: 0.8em; font-weight: bold; line-height: 1; border-radius: 0.35em; vertical-align: middle; margin-left: 0.5rem\">movie</span>\n",
       "</mark>\n",
       ", do you have any movie recommendations for me?</div></span>"
      ],
      "text/plain": [
       "<IPython.core.display.HTML object>"
      ]
     },
     "metadata": {},
     "output_type": "display_data"
    },
    {
     "name": "stdout",
     "output_type": "stream",
     "text": [
      "Since I enjoy Silent Night, Bloody Night: The Homecoming, The River Wild, and Skiptrace, do you have any movie recommendations for me? {'entities': [(14, 56, 'movie'), (58, 72, 'movie'), (78, 87, 'movie'), (111, 120, 'predicate')]}\n",
      "Missing movie label\n"
     ]
    },
    {
     "data": {
      "text/html": [
       "<span class=\"tex2jax_ignore\"><div class=\"entities\" style=\"line-height: 2.5; direction: ltr\">Since I enjoy \n",
       "<mark class=\"entity\" style=\"background: #ddd; padding: 0.45em 0.6em; margin: 0 0.25em; line-height: 1; border-radius: 0.35em;\">\n",
       "    Silent Night\n",
       "    <span style=\"font-size: 0.8em; font-weight: bold; line-height: 1; border-radius: 0.35em; vertical-align: middle; margin-left: 0.5rem\">movie</span>\n",
       "</mark>\n",
       ", \n",
       "<mark class=\"entity\" style=\"background: #ddd; padding: 0.45em 0.6em; margin: 0 0.25em; line-height: 1; border-radius: 0.35em;\">\n",
       "    Bloody Night: The Homecoming\n",
       "    <span style=\"font-size: 0.8em; font-weight: bold; line-height: 1; border-radius: 0.35em; vertical-align: middle; margin-left: 0.5rem\">movie</span>\n",
       "</mark>\n",
       ", \n",
       "<mark class=\"entity\" style=\"background: #ddd; padding: 0.45em 0.6em; margin: 0 0.25em; line-height: 1; border-radius: 0.35em;\">\n",
       "    The River Wild\n",
       "    <span style=\"font-size: 0.8em; font-weight: bold; line-height: 1; border-radius: 0.35em; vertical-align: middle; margin-left: 0.5rem\">movie</span>\n",
       "</mark>\n",
       ", and \n",
       "<mark class=\"entity\" style=\"background: #ddd; padding: 0.45em 0.6em; margin: 0 0.25em; line-height: 1; border-radius: 0.35em;\">\n",
       "    Skiptrace\n",
       "    <span style=\"font-size: 0.8em; font-weight: bold; line-height: 1; border-radius: 0.35em; vertical-align: middle; margin-left: 0.5rem\">movie</span>\n",
       "</mark>\n",
       ", do you have any movie recommendations for me?</div></span>"
      ],
      "text/plain": [
       "<IPython.core.display.HTML object>"
      ]
     },
     "metadata": {},
     "output_type": "display_data"
    },
    {
     "name": "stdout",
     "output_type": "stream",
     "text": [
      "Since I enjoy Silent Night, Bloody Night: The Homecoming, The River Wild, and Skiptrace, do you have any movie recommendations for me? {'entities': [(14, 56, 'movie'), (58, 72, 'movie'), (78, 87, 'movie'), (111, 120, 'predicate')]}\n",
      "Missing movie label\n"
     ]
    },
    {
     "data": {
      "text/html": [
       "<span class=\"tex2jax_ignore\"><div class=\"entities\" style=\"line-height: 2.5; direction: ltr\">Since I enjoy \n",
       "<mark class=\"entity\" style=\"background: #ddd; padding: 0.45em 0.6em; margin: 0 0.25em; line-height: 1; border-radius: 0.35em;\">\n",
       "    Frenzy\n",
       "    <span style=\"font-size: 0.8em; font-weight: bold; line-height: 1; border-radius: 0.35em; vertical-align: middle; margin-left: 0.5rem\">movie</span>\n",
       "</mark>\n",
       ", \n",
       "<mark class=\"entity\" style=\"background: #ddd; padding: 0.45em 0.6em; margin: 0 0.25em; line-height: 1; border-radius: 0.35em;\">\n",
       "    Nadine\n",
       "    <span style=\"font-size: 0.8em; font-weight: bold; line-height: 1; border-radius: 0.35em; vertical-align: middle; margin-left: 0.5rem\">movie</span>\n",
       "</mark>\n",
       ", and \n",
       "<mark class=\"entity\" style=\"background: #ddd; padding: 0.45em 0.6em; margin: 0 0.25em; line-height: 1; border-radius: 0.35em;\">\n",
       "    F\n",
       "    <span style=\"font-size: 0.8em; font-weight: bold; line-height: 1; border-radius: 0.35em; vertical-align: middle; margin-left: 0.5rem\">movie</span>\n",
       "</mark>\n",
       ", do you have any movie recommendations for me?</div></span>"
      ],
      "text/plain": [
       "<IPython.core.display.HTML object>"
      ]
     },
     "metadata": {},
     "output_type": "display_data"
    },
    {
     "name": "stdout",
     "output_type": "stream",
     "text": [
      "Since I enjoy Frenzy, Nadine, and F, do you have any movie recommendations for me? {'entities': [(14, 20, 'movie'), (22, 28, 'movie'), (14, 15, 'movie'), (59, 68, 'predicate')]}\n",
      "Missing movie label\n"
     ]
    },
    {
     "data": {
      "text/html": [
       "<span class=\"tex2jax_ignore\"><div class=\"entities\" style=\"line-height: 2.5; direction: ltr\">Since I enjoy \n",
       "<mark class=\"entity\" style=\"background: #ddd; padding: 0.45em 0.6em; margin: 0 0.25em; line-height: 1; border-radius: 0.35em;\">\n",
       "    One Breath\n",
       "    <span style=\"font-size: 0.8em; font-weight: bold; line-height: 1; border-radius: 0.35em; vertical-align: middle; margin-left: 0.5rem\">movie</span>\n",
       "</mark>\n",
       ", \n",
       "<mark class=\"entity\" style=\"background: #ddd; padding: 0.45em 0.6em; margin: 0 0.25em; line-height: 1; border-radius: 0.35em;\">\n",
       "    Breath\n",
       "    <span style=\"font-size: 0.8em; font-weight: bold; line-height: 1; border-radius: 0.35em; vertical-align: middle; margin-left: 0.5rem\">movie</span>\n",
       "</mark>\n",
       ", and \n",
       "<mark class=\"entity\" style=\"background: #ddd; padding: 0.45em 0.6em; margin: 0 0.25em; line-height: 1; border-radius: 0.35em;\">\n",
       "    Demonia\n",
       "    <span style=\"font-size: 0.8em; font-weight: bold; line-height: 1; border-radius: 0.35em; vertical-align: middle; margin-left: 0.5rem\">movie</span>\n",
       "</mark>\n",
       ", do you have any movie recommendations for me?</div></span>"
      ],
      "text/plain": [
       "<IPython.core.display.HTML object>"
      ]
     },
     "metadata": {},
     "output_type": "display_data"
    },
    {
     "name": "stdout",
     "output_type": "stream",
     "text": [
      "Since I enjoy One Breath, Breath, and Demonia, do you have any movie recommendations for me? {'entities': [(14, 24, 'movie'), (18, 24, 'movie'), (38, 45, 'movie'), (69, 78, 'predicate')]}\n",
      "Missing movie label\n"
     ]
    },
    {
     "data": {
      "text/html": [
       "<span class=\"tex2jax_ignore\"><div class=\"entities\" style=\"line-height: 2.5; direction: ltr\">Since I enjoy \n",
       "<mark class=\"entity\" style=\"background: #ddd; padding: 0.45em 0.6em; margin: 0 0.25em; line-height: 1; border-radius: 0.35em;\">\n",
       "    Gonzo: The Life\n",
       "    <span style=\"font-size: 0.8em; font-weight: bold; line-height: 1; border-radius: 0.35em; vertical-align: middle; margin-left: 0.5rem\">movie</span>\n",
       "</mark>\n",
       " and \n",
       "<mark class=\"entity\" style=\"background: #ddd; padding: 0.45em 0.6em; margin: 0 0.25em; line-height: 1; border-radius: 0.35em;\">\n",
       "    Work of Dr. Hunter S. Thompson\n",
       "    <span style=\"font-size: 0.8em; font-weight: bold; line-height: 1; border-radius: 0.35em; vertical-align: middle; margin-left: 0.5rem\">movie</span>\n",
       "</mark>\n",
       ", \n",
       "<mark class=\"entity\" style=\"background: #ddd; padding: 0.45em 0.6em; margin: 0 0.25em; line-height: 1; border-radius: 0.35em;\">\n",
       "    In the Mouth of Madness\n",
       "    <span style=\"font-size: 0.8em; font-weight: bold; line-height: 1; border-radius: 0.35em; vertical-align: middle; margin-left: 0.5rem\">movie</span>\n",
       "</mark>\n",
       ", and \n",
       "<mark class=\"entity\" style=\"background: #ddd; padding: 0.45em 0.6em; margin: 0 0.25em; line-height: 1; border-radius: 0.35em;\">\n",
       "    Allan Quatermain and the Temple of Skulls\n",
       "    <span style=\"font-size: 0.8em; font-weight: bold; line-height: 1; border-radius: 0.35em; vertical-align: middle; margin-left: 0.5rem\">movie</span>\n",
       "</mark>\n",
       ", do you have any movie recommendations for me?</div></span>"
      ],
      "text/plain": [
       "<IPython.core.display.HTML object>"
      ]
     },
     "metadata": {},
     "output_type": "display_data"
    },
    {
     "name": "stdout",
     "output_type": "stream",
     "text": [
      "Since I enjoy Gonzo: The Life and Work of Dr. Hunter S. Thompson, In the Mouth of Madness, and Allan Quatermain and the Temple of Skulls, do you have any movie recommendations for me? {'entities': [(14, 64, 'movie'), (66, 89, 'movie'), (95, 136, 'movie'), (160, 169, 'predicate')]}\n",
      "Missing movie label\n"
     ]
    },
    {
     "data": {
      "text/html": [
       "<span class=\"tex2jax_ignore\"><div class=\"entities\" style=\"line-height: 2.5; direction: ltr\">Since I enjoy \n",
       "<mark class=\"entity\" style=\"background: #ddd; padding: 0.45em 0.6em; margin: 0 0.25em; line-height: 1; border-radius: 0.35em;\">\n",
       "    Gonzo: The Life\n",
       "    <span style=\"font-size: 0.8em; font-weight: bold; line-height: 1; border-radius: 0.35em; vertical-align: middle; margin-left: 0.5rem\">movie</span>\n",
       "</mark>\n",
       " and \n",
       "<mark class=\"entity\" style=\"background: #ddd; padding: 0.45em 0.6em; margin: 0 0.25em; line-height: 1; border-radius: 0.35em;\">\n",
       "    Work of Dr. Hunter S. Thompson\n",
       "    <span style=\"font-size: 0.8em; font-weight: bold; line-height: 1; border-radius: 0.35em; vertical-align: middle; margin-left: 0.5rem\">movie</span>\n",
       "</mark>\n",
       ", \n",
       "<mark class=\"entity\" style=\"background: #ddd; padding: 0.45em 0.6em; margin: 0 0.25em; line-height: 1; border-radius: 0.35em;\">\n",
       "    In the Mouth of Madness\n",
       "    <span style=\"font-size: 0.8em; font-weight: bold; line-height: 1; border-radius: 0.35em; vertical-align: middle; margin-left: 0.5rem\">movie</span>\n",
       "</mark>\n",
       ", and \n",
       "<mark class=\"entity\" style=\"background: #ddd; padding: 0.45em 0.6em; margin: 0 0.25em; line-height: 1; border-radius: 0.35em;\">\n",
       "    Allan Quatermain and the Temple of Skulls\n",
       "    <span style=\"font-size: 0.8em; font-weight: bold; line-height: 1; border-radius: 0.35em; vertical-align: middle; margin-left: 0.5rem\">movie</span>\n",
       "</mark>\n",
       ", do you have any movie recommendations for me?</div></span>"
      ],
      "text/plain": [
       "<IPython.core.display.HTML object>"
      ]
     },
     "metadata": {},
     "output_type": "display_data"
    },
    {
     "name": "stdout",
     "output_type": "stream",
     "text": [
      "Since I enjoy Gonzo: The Life and Work of Dr. Hunter S. Thompson, In the Mouth of Madness, and Allan Quatermain and the Temple of Skulls, do you have any movie recommendations for me? {'entities': [(14, 64, 'movie'), (66, 89, 'movie'), (95, 136, 'movie'), (160, 169, 'predicate')]}\n",
      "Missing movie label\n"
     ]
    },
    {
     "data": {
      "text/html": [
       "<span class=\"tex2jax_ignore\"><div class=\"entities\" style=\"line-height: 2.5; direction: ltr\">Since I enjoy \n",
       "<mark class=\"entity\" style=\"background: #ddd; padding: 0.45em 0.6em; margin: 0 0.25em; line-height: 1; border-radius: 0.35em;\">\n",
       "    Pizza\n",
       "    <span style=\"font-size: 0.8em; font-weight: bold; line-height: 1; border-radius: 0.35em; vertical-align: middle; margin-left: 0.5rem\">movie</span>\n",
       "</mark>\n",
       ", Beer, and Cigarette., \n",
       "<mark class=\"entity\" style=\"background: #ddd; padding: 0.45em 0.6em; margin: 0 0.25em; line-height: 1; border-radius: 0.35em;\">\n",
       "    Sing Your Song\n",
       "    <span style=\"font-size: 0.8em; font-weight: bold; line-height: 1; border-radius: 0.35em; vertical-align: middle; margin-left: 0.5rem\">movie</span>\n",
       "</mark>\n",
       ", and \n",
       "<mark class=\"entity\" style=\"background: #ddd; padding: 0.45em 0.6em; margin: 0 0.25em; line-height: 1; border-radius: 0.35em;\">\n",
       "    Brownian Movement\n",
       "    <span style=\"font-size: 0.8em; font-weight: bold; line-height: 1; border-radius: 0.35em; vertical-align: middle; margin-left: 0.5rem\">movie</span>\n",
       "</mark>\n",
       ", do you have any movie recommendations for me?</div></span>"
      ],
      "text/plain": [
       "<IPython.core.display.HTML object>"
      ]
     },
     "metadata": {},
     "output_type": "display_data"
    },
    {
     "name": "stdout",
     "output_type": "stream",
     "text": [
      "Since I enjoy Pizza, Beer, and Cigarette., Sing Your Song, and Brownian Movement, do you have any movie recommendations for me? {'entities': [(14, 41, 'movie'), (43, 57, 'movie'), (63, 80, 'movie'), (104, 113, 'predicate')]}\n",
      "Missing movie label\n"
     ]
    },
    {
     "data": {
      "text/html": [
       "<span class=\"tex2jax_ignore\"><div class=\"entities\" style=\"line-height: 2.5; direction: ltr\">Since I enjoy \n",
       "<mark class=\"entity\" style=\"background: #ddd; padding: 0.45em 0.6em; margin: 0 0.25em; line-height: 1; border-radius: 0.35em;\">\n",
       "    Lo &amp; Behold\n",
       "    <span style=\"font-size: 0.8em; font-weight: bold; line-height: 1; border-radius: 0.35em; vertical-align: middle; margin-left: 0.5rem\">movie</span>\n",
       "</mark>\n",
       ", \n",
       "<mark class=\"entity\" style=\"background: #ddd; padding: 0.45em 0.6em; margin: 0 0.25em; line-height: 1; border-radius: 0.35em;\">\n",
       "    Reveries of the Connected World\n",
       "    <span style=\"font-size: 0.8em; font-weight: bold; line-height: 1; border-radius: 0.35em; vertical-align: middle; margin-left: 0.5rem\">movie</span>\n",
       "</mark>\n",
       ", \n",
       "<mark class=\"entity\" style=\"background: #ddd; padding: 0.45em 0.6em; margin: 0 0.25em; line-height: 1; border-radius: 0.35em;\">\n",
       "    Olympic Garage\n",
       "    <span style=\"font-size: 0.8em; font-weight: bold; line-height: 1; border-radius: 0.35em; vertical-align: middle; margin-left: 0.5rem\">movie</span>\n",
       "</mark>\n",
       ", and \n",
       "<mark class=\"entity\" style=\"background: #ddd; padding: 0.45em 0.6em; margin: 0 0.25em; line-height: 1; border-radius: 0.35em;\">\n",
       "    Cargo 200\n",
       "    <span style=\"font-size: 0.8em; font-weight: bold; line-height: 1; border-radius: 0.35em; vertical-align: middle; margin-left: 0.5rem\">movie</span>\n",
       "</mark>\n",
       ", do you have any movie recommendations for me?</div></span>"
      ],
      "text/plain": [
       "<IPython.core.display.HTML object>"
      ]
     },
     "metadata": {},
     "output_type": "display_data"
    },
    {
     "name": "stdout",
     "output_type": "stream",
     "text": [
      "Since I enjoy Lo & Behold, Reveries of the Connected World, Olympic Garage, and Cargo 200, do you have any movie recommendations for me? {'entities': [(14, 58, 'movie'), (60, 74, 'movie'), (80, 89, 'movie'), (113, 122, 'predicate')]}\n",
      "Missing movie label\n"
     ]
    },
    {
     "data": {
      "text/html": [
       "<span class=\"tex2jax_ignore\"><div class=\"entities\" style=\"line-height: 2.5; direction: ltr\">Since I enjoy \n",
       "<mark class=\"entity\" style=\"background: #ddd; padding: 0.45em 0.6em; margin: 0 0.25em; line-height: 1; border-radius: 0.35em;\">\n",
       "    Lo &amp; Behold\n",
       "    <span style=\"font-size: 0.8em; font-weight: bold; line-height: 1; border-radius: 0.35em; vertical-align: middle; margin-left: 0.5rem\">movie</span>\n",
       "</mark>\n",
       ", \n",
       "<mark class=\"entity\" style=\"background: #ddd; padding: 0.45em 0.6em; margin: 0 0.25em; line-height: 1; border-radius: 0.35em;\">\n",
       "    Reveries of the Connected World\n",
       "    <span style=\"font-size: 0.8em; font-weight: bold; line-height: 1; border-radius: 0.35em; vertical-align: middle; margin-left: 0.5rem\">movie</span>\n",
       "</mark>\n",
       ", \n",
       "<mark class=\"entity\" style=\"background: #ddd; padding: 0.45em 0.6em; margin: 0 0.25em; line-height: 1; border-radius: 0.35em;\">\n",
       "    Olympic Garage\n",
       "    <span style=\"font-size: 0.8em; font-weight: bold; line-height: 1; border-radius: 0.35em; vertical-align: middle; margin-left: 0.5rem\">movie</span>\n",
       "</mark>\n",
       ", and \n",
       "<mark class=\"entity\" style=\"background: #ddd; padding: 0.45em 0.6em; margin: 0 0.25em; line-height: 1; border-radius: 0.35em;\">\n",
       "    Cargo 200\n",
       "    <span style=\"font-size: 0.8em; font-weight: bold; line-height: 1; border-radius: 0.35em; vertical-align: middle; margin-left: 0.5rem\">movie</span>\n",
       "</mark>\n",
       ", do you have any movie recommendations for me?</div></span>"
      ],
      "text/plain": [
       "<IPython.core.display.HTML object>"
      ]
     },
     "metadata": {},
     "output_type": "display_data"
    },
    {
     "name": "stdout",
     "output_type": "stream",
     "text": [
      "Since I enjoy Lo & Behold, Reveries of the Connected World, Olympic Garage, and Cargo 200, do you have any movie recommendations for me? {'entities': [(14, 58, 'movie'), (60, 74, 'movie'), (80, 89, 'movie'), (113, 122, 'predicate')]}\n",
      "Missing movie label\n"
     ]
    },
    {
     "data": {
      "text/html": [
       "<span class=\"tex2jax_ignore\"><div class=\"entities\" style=\"line-height: 2.5; direction: ltr\">Since I enjoy \n",
       "<mark class=\"entity\" style=\"background: #ddd; padding: 0.45em 0.6em; margin: 0 0.25em; line-height: 1; border-radius: 0.35em;\">\n",
       "    Father\n",
       "    <span style=\"font-size: 0.8em; font-weight: bold; line-height: 1; border-radius: 0.35em; vertical-align: middle; margin-left: 0.5rem\">movie</span>\n",
       "</mark>\n",
       ", Son &amp; Holy Cow, \n",
       "<mark class=\"entity\" style=\"background: #ddd; padding: 0.45em 0.6em; margin: 0 0.25em; line-height: 1; border-radius: 0.35em;\">\n",
       "    City of Women\n",
       "    <span style=\"font-size: 0.8em; font-weight: bold; line-height: 1; border-radius: 0.35em; vertical-align: middle; margin-left: 0.5rem\">movie</span>\n",
       "</mark>\n",
       ", and \n",
       "<mark class=\"entity\" style=\"background: #ddd; padding: 0.45em 0.6em; margin: 0 0.25em; line-height: 1; border-radius: 0.35em;\">\n",
       "    Diaz – Don't Clean Up This Blood\n",
       "    <span style=\"font-size: 0.8em; font-weight: bold; line-height: 1; border-radius: 0.35em; vertical-align: middle; margin-left: 0.5rem\">movie</span>\n",
       "</mark>\n",
       ", do you have any movie recommendations for me?</div></span>"
      ],
      "text/plain": [
       "<IPython.core.display.HTML object>"
      ]
     },
     "metadata": {},
     "output_type": "display_data"
    },
    {
     "name": "stdout",
     "output_type": "stream",
     "text": [
      "Since I enjoy Father, Son & Holy Cow, City of Women, and Diaz – Don't Clean Up This Blood, do you have any movie recommendations for me? {'entities': [(14, 36, 'movie'), (38, 51, 'movie'), (57, 89, 'movie'), (113, 122, 'predicate')]}\n",
      "Missing movie label\n"
     ]
    },
    {
     "data": {
      "text/html": [
       "<span class=\"tex2jax_ignore\"><div class=\"entities\" style=\"line-height: 2.5; direction: ltr\">Since I enjoy \n",
       "<mark class=\"entity\" style=\"background: #ddd; padding: 0.45em 0.6em; margin: 0 0.25em; line-height: 1; border-radius: 0.35em;\">\n",
       "    Houston\n",
       "    <span style=\"font-size: 0.8em; font-weight: bold; line-height: 1; border-radius: 0.35em; vertical-align: middle; margin-left: 0.5rem\">movie</span>\n",
       "</mark>\n",
       ", \n",
       "<mark class=\"entity\" style=\"background: #ddd; padding: 0.45em 0.6em; margin: 0 0.25em; line-height: 1; border-radius: 0.35em;\">\n",
       "    We Have a Problem!\n",
       "    <span style=\"font-size: 0.8em; font-weight: bold; line-height: 1; border-radius: 0.35em; vertical-align: middle; margin-left: 0.5rem\">movie</span>\n",
       "</mark>\n",
       ", \n",
       "<mark class=\"entity\" style=\"background: #ddd; padding: 0.45em 0.6em; margin: 0 0.25em; line-height: 1; border-radius: 0.35em;\">\n",
       "    Amador\n",
       "    <span style=\"font-size: 0.8em; font-weight: bold; line-height: 1; border-radius: 0.35em; vertical-align: middle; margin-left: 0.5rem\">movie</span>\n",
       "</mark>\n",
       ", and \n",
       "<mark class=\"entity\" style=\"background: #ddd; padding: 0.45em 0.6em; margin: 0 0.25em; line-height: 1; border-radius: 0.35em;\">\n",
       "    Times and Winds\n",
       "    <span style=\"font-size: 0.8em; font-weight: bold; line-height: 1; border-radius: 0.35em; vertical-align: middle; margin-left: 0.5rem\">movie</span>\n",
       "</mark>\n",
       ", do you have any movie recommendations for me?</div></span>"
      ],
      "text/plain": [
       "<IPython.core.display.HTML object>"
      ]
     },
     "metadata": {},
     "output_type": "display_data"
    },
    {
     "name": "stdout",
     "output_type": "stream",
     "text": [
      "Since I enjoy Houston, We Have a Problem!, Amador, and Times and Winds, do you have any movie recommendations for me? {'entities': [(14, 41, 'movie'), (43, 49, 'movie'), (55, 70, 'movie'), (94, 103, 'predicate')]}\n",
      "Missing movie label\n"
     ]
    },
    {
     "data": {
      "text/html": [
       "<span class=\"tex2jax_ignore\"><div class=\"entities\" style=\"line-height: 2.5; direction: ltr\">Since I enjoy \n",
       "<mark class=\"entity\" style=\"background: #ddd; padding: 0.45em 0.6em; margin: 0 0.25em; line-height: 1; border-radius: 0.35em;\">\n",
       "    Houston\n",
       "    <span style=\"font-size: 0.8em; font-weight: bold; line-height: 1; border-radius: 0.35em; vertical-align: middle; margin-left: 0.5rem\">movie</span>\n",
       "</mark>\n",
       ", \n",
       "<mark class=\"entity\" style=\"background: #ddd; padding: 0.45em 0.6em; margin: 0 0.25em; line-height: 1; border-radius: 0.35em;\">\n",
       "    We Have a Problem!\n",
       "    <span style=\"font-size: 0.8em; font-weight: bold; line-height: 1; border-radius: 0.35em; vertical-align: middle; margin-left: 0.5rem\">movie</span>\n",
       "</mark>\n",
       ", \n",
       "<mark class=\"entity\" style=\"background: #ddd; padding: 0.45em 0.6em; margin: 0 0.25em; line-height: 1; border-radius: 0.35em;\">\n",
       "    Amador\n",
       "    <span style=\"font-size: 0.8em; font-weight: bold; line-height: 1; border-radius: 0.35em; vertical-align: middle; margin-left: 0.5rem\">movie</span>\n",
       "</mark>\n",
       ", and \n",
       "<mark class=\"entity\" style=\"background: #ddd; padding: 0.45em 0.6em; margin: 0 0.25em; line-height: 1; border-radius: 0.35em;\">\n",
       "    Times and Winds\n",
       "    <span style=\"font-size: 0.8em; font-weight: bold; line-height: 1; border-radius: 0.35em; vertical-align: middle; margin-left: 0.5rem\">movie</span>\n",
       "</mark>\n",
       ", do you have any movie recommendations for me?</div></span>"
      ],
      "text/plain": [
       "<IPython.core.display.HTML object>"
      ]
     },
     "metadata": {},
     "output_type": "display_data"
    },
    {
     "name": "stdout",
     "output_type": "stream",
     "text": [
      "Since I enjoy Houston, We Have a Problem!, Amador, and Times and Winds, do you have any movie recommendations for me? {'entities': [(14, 41, 'movie'), (43, 49, 'movie'), (55, 70, 'movie'), (94, 103, 'predicate')]}\n",
      "Missing movie label\n"
     ]
    },
    {
     "data": {
      "text/html": [
       "<span class=\"tex2jax_ignore\"><div class=\"entities\" style=\"line-height: 2.5; direction: ltr\">Since I enjoy \n",
       "<mark class=\"entity\" style=\"background: #ddd; padding: 0.45em 0.6em; margin: 0 0.25em; line-height: 1; border-radius: 0.35em;\">\n",
       "    Jheronimus Bosch\n",
       "    <span style=\"font-size: 0.8em; font-weight: bold; line-height: 1; border-radius: 0.35em; vertical-align: middle; margin-left: 0.5rem\">movie</span>\n",
       "</mark>\n",
       ", Touched by the Devil, \n",
       "<mark class=\"entity\" style=\"background: #ddd; padding: 0.45em 0.6em; margin: 0 0.25em; line-height: 1; border-radius: 0.35em;\">\n",
       "    The Replacement Killers\n",
       "    <span style=\"font-size: 0.8em; font-weight: bold; line-height: 1; border-radius: 0.35em; vertical-align: middle; margin-left: 0.5rem\">movie</span>\n",
       "</mark>\n",
       ", and \n",
       "<mark class=\"entity\" style=\"background: #ddd; padding: 0.45em 0.6em; margin: 0 0.25em; line-height: 1; border-radius: 0.35em;\">\n",
       "    The Adventures of Buckaroo Banzai Across the 8th Dimension\n",
       "    <span style=\"font-size: 0.8em; font-weight: bold; line-height: 1; border-radius: 0.35em; vertical-align: middle; margin-left: 0.5rem\">movie</span>\n",
       "</mark>\n",
       ", do you have any movie recommendations for me?</div></span>"
      ],
      "text/plain": [
       "<IPython.core.display.HTML object>"
      ]
     },
     "metadata": {},
     "output_type": "display_data"
    },
    {
     "name": "stdout",
     "output_type": "stream",
     "text": [
      "Since I enjoy Jheronimus Bosch, Touched by the Devil, The Replacement Killers, and The Adventures of Buckaroo Banzai Across the 8th Dimension, do you have any movie recommendations for me? {'entities': [(14, 52, 'movie'), (54, 77, 'movie'), (83, 141, 'movie'), (165, 174, 'predicate')]}\n",
      "Missing movie label\n"
     ]
    },
    {
     "data": {
      "text/html": [
       "<span class=\"tex2jax_ignore\"><div class=\"entities\" style=\"line-height: 2.5; direction: ltr\">Since I enjoy \n",
       "<mark class=\"entity\" style=\"background: #ddd; padding: 0.45em 0.6em; margin: 0 0.25em; line-height: 1; border-radius: 0.35em;\">\n",
       "    666 – Traue keinem\n",
       "    <span style=\"font-size: 0.8em; font-weight: bold; line-height: 1; border-radius: 0.35em; vertical-align: middle; margin-left: 0.5rem\">movie</span>\n",
       "</mark>\n",
       ", \n",
       "<mark class=\"entity\" style=\"background: #ddd; padding: 0.45em 0.6em; margin: 0 0.25em; line-height: 1; border-radius: 0.35em;\">\n",
       "    mit dem du schläfst!\n",
       "    <span style=\"font-size: 0.8em; font-weight: bold; line-height: 1; border-radius: 0.35em; vertical-align: middle; margin-left: 0.5rem\">movie</span>\n",
       "</mark>\n",
       ", \n",
       "<mark class=\"entity\" style=\"background: #ddd; padding: 0.45em 0.6em; margin: 0 0.25em; line-height: 1; border-radius: 0.35em;\">\n",
       "    Batman Unlimited: Monster Mayhem\n",
       "    <span style=\"font-size: 0.8em; font-weight: bold; line-height: 1; border-radius: 0.35em; vertical-align: middle; margin-left: 0.5rem\">movie</span>\n",
       "</mark>\n",
       ", and \n",
       "<mark class=\"entity\" style=\"background: #ddd; padding: 0.45em 0.6em; margin: 0 0.25em; line-height: 1; border-radius: 0.35em;\">\n",
       "    Just the Way You Are\n",
       "    <span style=\"font-size: 0.8em; font-weight: bold; line-height: 1; border-radius: 0.35em; vertical-align: middle; margin-left: 0.5rem\">movie</span>\n",
       "</mark>\n",
       ", do you have any movie recommendations for me?</div></span>"
      ],
      "text/plain": [
       "<IPython.core.display.HTML object>"
      ]
     },
     "metadata": {},
     "output_type": "display_data"
    },
    {
     "name": "stdout",
     "output_type": "stream",
     "text": [
      "Since I enjoy 666 – Traue keinem, mit dem du schläfst!, Batman Unlimited: Monster Mayhem, and Just the Way You Are, do you have any movie recommendations for me? {'entities': [(14, 54, 'movie'), (56, 88, 'movie'), (94, 114, 'movie'), (138, 147, 'predicate')]}\n",
      "Missing movie label\n"
     ]
    },
    {
     "data": {
      "text/html": [
       "<span class=\"tex2jax_ignore\"><div class=\"entities\" style=\"line-height: 2.5; direction: ltr\">Since I enjoy \n",
       "<mark class=\"entity\" style=\"background: #ddd; padding: 0.45em 0.6em; margin: 0 0.25em; line-height: 1; border-radius: 0.35em;\">\n",
       "    666 – Traue keinem\n",
       "    <span style=\"font-size: 0.8em; font-weight: bold; line-height: 1; border-radius: 0.35em; vertical-align: middle; margin-left: 0.5rem\">movie</span>\n",
       "</mark>\n",
       ", \n",
       "<mark class=\"entity\" style=\"background: #ddd; padding: 0.45em 0.6em; margin: 0 0.25em; line-height: 1; border-radius: 0.35em;\">\n",
       "    mit dem du schläfst!\n",
       "    <span style=\"font-size: 0.8em; font-weight: bold; line-height: 1; border-radius: 0.35em; vertical-align: middle; margin-left: 0.5rem\">movie</span>\n",
       "</mark>\n",
       ", \n",
       "<mark class=\"entity\" style=\"background: #ddd; padding: 0.45em 0.6em; margin: 0 0.25em; line-height: 1; border-radius: 0.35em;\">\n",
       "    Batman Unlimited: Monster Mayhem\n",
       "    <span style=\"font-size: 0.8em; font-weight: bold; line-height: 1; border-radius: 0.35em; vertical-align: middle; margin-left: 0.5rem\">movie</span>\n",
       "</mark>\n",
       ", and \n",
       "<mark class=\"entity\" style=\"background: #ddd; padding: 0.45em 0.6em; margin: 0 0.25em; line-height: 1; border-radius: 0.35em;\">\n",
       "    Just the Way You Are\n",
       "    <span style=\"font-size: 0.8em; font-weight: bold; line-height: 1; border-radius: 0.35em; vertical-align: middle; margin-left: 0.5rem\">movie</span>\n",
       "</mark>\n",
       ", do you have any movie recommendations for me?</div></span>"
      ],
      "text/plain": [
       "<IPython.core.display.HTML object>"
      ]
     },
     "metadata": {},
     "output_type": "display_data"
    },
    {
     "name": "stdout",
     "output_type": "stream",
     "text": [
      "Since I enjoy 666 – Traue keinem, mit dem du schläfst!, Batman Unlimited: Monster Mayhem, and Just the Way You Are, do you have any movie recommendations for me? {'entities': [(14, 54, 'movie'), (56, 88, 'movie'), (94, 114, 'movie'), (138, 147, 'predicate')]}\n",
      "Missing movie label\n"
     ]
    },
    {
     "data": {
      "text/html": [
       "<span class=\"tex2jax_ignore\"><div class=\"entities\" style=\"line-height: 2.5; direction: ltr\">Since I enjoy \n",
       "<mark class=\"entity\" style=\"background: #ddd; padding: 0.45em 0.6em; margin: 0 0.25em; line-height: 1; border-radius: 0.35em;\">\n",
       "    Beats\n",
       "    <span style=\"font-size: 0.8em; font-weight: bold; line-height: 1; border-radius: 0.35em; vertical-align: middle; margin-left: 0.5rem\">movie</span>\n",
       "</mark>\n",
       ", \n",
       "<mark class=\"entity\" style=\"background: #ddd; padding: 0.45em 0.6em; margin: 0 0.25em; line-height: 1; border-radius: 0.35em;\">\n",
       "    Rhymes &amp; Life: The Travels of A Tribe Called Quest\n",
       "    <span style=\"font-size: 0.8em; font-weight: bold; line-height: 1; border-radius: 0.35em; vertical-align: middle; margin-left: 0.5rem\">movie</span>\n",
       "</mark>\n",
       ", \n",
       "<mark class=\"entity\" style=\"background: #ddd; padding: 0.45em 0.6em; margin: 0 0.25em; line-height: 1; border-radius: 0.35em;\">\n",
       "    The X-Files\n",
       "    <span style=\"font-size: 0.8em; font-weight: bold; line-height: 1; border-radius: 0.35em; vertical-align: middle; margin-left: 0.5rem\">movie</span>\n",
       "</mark>\n",
       ", and \n",
       "<mark class=\"entity\" style=\"background: #ddd; padding: 0.45em 0.6em; margin: 0 0.25em; line-height: 1; border-radius: 0.35em;\">\n",
       "    The Military Man\n",
       "    <span style=\"font-size: 0.8em; font-weight: bold; line-height: 1; border-radius: 0.35em; vertical-align: middle; margin-left: 0.5rem\">movie</span>\n",
       "</mark>\n",
       ", do you have any movie recommendations for me?</div></span>"
      ],
      "text/plain": [
       "<IPython.core.display.HTML object>"
      ]
     },
     "metadata": {},
     "output_type": "display_data"
    },
    {
     "name": "stdout",
     "output_type": "stream",
     "text": [
      "Since I enjoy Beats, Rhymes & Life: The Travels of A Tribe Called Quest, The X-Files, and The Military Man, do you have any movie recommendations for me? {'entities': [(14, 71, 'movie'), (73, 84, 'movie'), (90, 106, 'movie'), (130, 139, 'predicate')]}\n",
      "Missing movie label\n"
     ]
    },
    {
     "data": {
      "text/html": [
       "<span class=\"tex2jax_ignore\"><div class=\"entities\" style=\"line-height: 2.5; direction: ltr\">Since I enjoy \n",
       "<mark class=\"entity\" style=\"background: #ddd; padding: 0.45em 0.6em; margin: 0 0.25em; line-height: 1; border-radius: 0.35em;\">\n",
       "    Beats\n",
       "    <span style=\"font-size: 0.8em; font-weight: bold; line-height: 1; border-radius: 0.35em; vertical-align: middle; margin-left: 0.5rem\">movie</span>\n",
       "</mark>\n",
       ", \n",
       "<mark class=\"entity\" style=\"background: #ddd; padding: 0.45em 0.6em; margin: 0 0.25em; line-height: 1; border-radius: 0.35em;\">\n",
       "    Rhymes &amp; Life: The Travels of A Tribe Called Quest\n",
       "    <span style=\"font-size: 0.8em; font-weight: bold; line-height: 1; border-radius: 0.35em; vertical-align: middle; margin-left: 0.5rem\">movie</span>\n",
       "</mark>\n",
       ", \n",
       "<mark class=\"entity\" style=\"background: #ddd; padding: 0.45em 0.6em; margin: 0 0.25em; line-height: 1; border-radius: 0.35em;\">\n",
       "    The X-Files\n",
       "    <span style=\"font-size: 0.8em; font-weight: bold; line-height: 1; border-radius: 0.35em; vertical-align: middle; margin-left: 0.5rem\">movie</span>\n",
       "</mark>\n",
       ", and \n",
       "<mark class=\"entity\" style=\"background: #ddd; padding: 0.45em 0.6em; margin: 0 0.25em; line-height: 1; border-radius: 0.35em;\">\n",
       "    The Military Man\n",
       "    <span style=\"font-size: 0.8em; font-weight: bold; line-height: 1; border-radius: 0.35em; vertical-align: middle; margin-left: 0.5rem\">movie</span>\n",
       "</mark>\n",
       ", do you have any movie recommendations for me?</div></span>"
      ],
      "text/plain": [
       "<IPython.core.display.HTML object>"
      ]
     },
     "metadata": {},
     "output_type": "display_data"
    },
    {
     "name": "stdout",
     "output_type": "stream",
     "text": [
      "Since I enjoy Beats, Rhymes & Life: The Travels of A Tribe Called Quest, The X-Files, and The Military Man, do you have any movie recommendations for me? {'entities': [(14, 71, 'movie'), (73, 84, 'movie'), (90, 106, 'movie'), (130, 139, 'predicate')]}\n",
      "Missing movie label\n"
     ]
    },
    {
     "data": {
      "text/html": [
       "<span class=\"tex2jax_ignore\"><div class=\"entities\" style=\"line-height: 2.5; direction: ltr\">Since I enjoy \n",
       "<mark class=\"entity\" style=\"background: #ddd; padding: 0.45em 0.6em; margin: 0 0.25em; line-height: 1; border-radius: 0.35em;\">\n",
       "    Blind, Remember Me\n",
       "    <span style=\"font-size: 0.8em; font-weight: bold; line-height: 1; border-radius: 0.35em; vertical-align: middle; margin-left: 0.5rem\">movie</span>\n",
       "</mark>\n",
       ", \n",
       "<mark class=\"entity\" style=\"background: #ddd; padding: 0.45em 0.6em; margin: 0 0.25em; line-height: 1; border-radius: 0.35em;\">\n",
       "    My Love\n",
       "    <span style=\"font-size: 0.8em; font-weight: bold; line-height: 1; border-radius: 0.35em; vertical-align: middle; margin-left: 0.5rem\">movie</span>\n",
       "</mark>\n",
       ", and \n",
       "<mark class=\"entity\" style=\"background: #ddd; padding: 0.45em 0.6em; margin: 0 0.25em; line-height: 1; border-radius: 0.35em;\">\n",
       "    Limbo\n",
       "    <span style=\"font-size: 0.8em; font-weight: bold; line-height: 1; border-radius: 0.35em; vertical-align: middle; margin-left: 0.5rem\">movie</span>\n",
       "</mark>\n",
       ", do you have any movie recommendations for me?</div></span>"
      ],
      "text/plain": [
       "<IPython.core.display.HTML object>"
      ]
     },
     "metadata": {},
     "output_type": "display_data"
    },
    {
     "name": "stdout",
     "output_type": "stream",
     "text": [
      "Since I enjoy Blind, Remember Me, My Love, and Limbo, do you have any movie recommendations for me? {'entities': [(14, 19, 'movie'), (21, 41, 'movie'), (47, 52, 'movie'), (76, 85, 'predicate')]}\n",
      "Missing movie label\n"
     ]
    },
    {
     "data": {
      "text/html": [
       "<span class=\"tex2jax_ignore\"><div class=\"entities\" style=\"line-height: 2.5; direction: ltr\">Since I enjoy \n",
       "<mark class=\"entity\" style=\"background: #ddd; padding: 0.45em 0.6em; margin: 0 0.25em; line-height: 1; border-radius: 0.35em;\">\n",
       "    Blind, Remember Me\n",
       "    <span style=\"font-size: 0.8em; font-weight: bold; line-height: 1; border-radius: 0.35em; vertical-align: middle; margin-left: 0.5rem\">movie</span>\n",
       "</mark>\n",
       ", \n",
       "<mark class=\"entity\" style=\"background: #ddd; padding: 0.45em 0.6em; margin: 0 0.25em; line-height: 1; border-radius: 0.35em;\">\n",
       "    My Love\n",
       "    <span style=\"font-size: 0.8em; font-weight: bold; line-height: 1; border-radius: 0.35em; vertical-align: middle; margin-left: 0.5rem\">movie</span>\n",
       "</mark>\n",
       ", and \n",
       "<mark class=\"entity\" style=\"background: #ddd; padding: 0.45em 0.6em; margin: 0 0.25em; line-height: 1; border-radius: 0.35em;\">\n",
       "    Limbo\n",
       "    <span style=\"font-size: 0.8em; font-weight: bold; line-height: 1; border-radius: 0.35em; vertical-align: middle; margin-left: 0.5rem\">movie</span>\n",
       "</mark>\n",
       ", do you have any movie recommendations for me?</div></span>"
      ],
      "text/plain": [
       "<IPython.core.display.HTML object>"
      ]
     },
     "metadata": {},
     "output_type": "display_data"
    },
    {
     "name": "stdout",
     "output_type": "stream",
     "text": [
      "Since I enjoy Blind, Remember Me, My Love, and Limbo, do you have any movie recommendations for me? {'entities': [(14, 19, 'movie'), (21, 41, 'movie'), (47, 52, 'movie'), (76, 85, 'predicate')]}\n",
      "Missing movie label\n"
     ]
    },
    {
     "data": {
      "text/html": [
       "<span class=\"tex2jax_ignore\"><div class=\"entities\" style=\"line-height: 2.5; direction: ltr\">Since I enjoy \n",
       "<mark class=\"entity\" style=\"background: #ddd; padding: 0.45em 0.6em; margin: 0 0.25em; line-height: 1; border-radius: 0.35em;\">\n",
       "    Hi\n",
       "    <span style=\"font-size: 0.8em; font-weight: bold; line-height: 1; border-radius: 0.35em; vertical-align: middle; margin-left: 0.5rem\">movie</span>\n",
       "</mark>\n",
       ", Are You Alone?, \n",
       "<mark class=\"entity\" style=\"background: #ddd; padding: 0.45em 0.6em; margin: 0 0.25em; line-height: 1; border-radius: 0.35em;\">\n",
       "    Gardener of Eden\n",
       "    <span style=\"font-size: 0.8em; font-weight: bold; line-height: 1; border-radius: 0.35em; vertical-align: middle; margin-left: 0.5rem\">movie</span>\n",
       "</mark>\n",
       ", and \n",
       "<mark class=\"entity\" style=\"background: #ddd; padding: 0.45em 0.6em; margin: 0 0.25em; line-height: 1; border-radius: 0.35em;\">\n",
       "    Tyler Perry Presents Peeples\n",
       "    <span style=\"font-size: 0.8em; font-weight: bold; line-height: 1; border-radius: 0.35em; vertical-align: middle; margin-left: 0.5rem\">movie</span>\n",
       "</mark>\n",
       ", do you have any movie recommendations for me?</div></span>"
      ],
      "text/plain": [
       "<IPython.core.display.HTML object>"
      ]
     },
     "metadata": {},
     "output_type": "display_data"
    },
    {
     "name": "stdout",
     "output_type": "stream",
     "text": [
      "Since I enjoy Hi, Are You Alone?, Gardener of Eden, and Tyler Perry Presents Peeples, do you have any movie recommendations for me? {'entities': [(14, 32, 'movie'), (34, 50, 'movie'), (56, 84, 'movie'), (108, 117, 'predicate')]}\n",
      "Missing movie label\n"
     ]
    },
    {
     "data": {
      "text/html": [
       "<span class=\"tex2jax_ignore\"><div class=\"entities\" style=\"line-height: 2.5; direction: ltr\">Since I enjoy \n",
       "<mark class=\"entity\" style=\"background: #ddd; padding: 0.45em 0.6em; margin: 0 0.25em; line-height: 1; border-radius: 0.35em;\">\n",
       "    Fast\n",
       "    <span style=\"font-size: 0.8em; font-weight: bold; line-height: 1; border-radius: 0.35em; vertical-align: middle; margin-left: 0.5rem\">movie</span>\n",
       "</mark>\n",
       ", \n",
       "<mark class=\"entity\" style=\"background: #ddd; padding: 0.45em 0.6em; margin: 0 0.25em; line-height: 1; border-radius: 0.35em;\">\n",
       "    Cheap &amp; Out of Control\n",
       "    <span style=\"font-size: 0.8em; font-weight: bold; line-height: 1; border-radius: 0.35em; vertical-align: middle; margin-left: 0.5rem\">movie</span>\n",
       "</mark>\n",
       ", \n",
       "<mark class=\"entity\" style=\"background: #ddd; padding: 0.45em 0.6em; margin: 0 0.25em; line-height: 1; border-radius: 0.35em;\">\n",
       "    Half Brothers\n",
       "    <span style=\"font-size: 0.8em; font-weight: bold; line-height: 1; border-radius: 0.35em; vertical-align: middle; margin-left: 0.5rem\">movie</span>\n",
       "</mark>\n",
       ", and \n",
       "<mark class=\"entity\" style=\"background: #ddd; padding: 0.45em 0.6em; margin: 0 0.25em; line-height: 1; border-radius: 0.35em;\">\n",
       "    House of Boys\n",
       "    <span style=\"font-size: 0.8em; font-weight: bold; line-height: 1; border-radius: 0.35em; vertical-align: middle; margin-left: 0.5rem\">movie</span>\n",
       "</mark>\n",
       ", do you have any movie recommendations for me?</div></span>"
      ],
      "text/plain": [
       "<IPython.core.display.HTML object>"
      ]
     },
     "metadata": {},
     "output_type": "display_data"
    },
    {
     "name": "stdout",
     "output_type": "stream",
     "text": [
      "Since I enjoy Fast, Cheap & Out of Control, Half Brothers, and House of Boys, do you have any movie recommendations for me? {'entities': [(14, 42, 'movie'), (44, 57, 'movie'), (63, 76, 'movie'), (100, 109, 'predicate')]}\n",
      "Missing movie label\n"
     ]
    },
    {
     "data": {
      "text/html": [
       "<span class=\"tex2jax_ignore\"><div class=\"entities\" style=\"line-height: 2.5; direction: ltr\">Since I enjoy \n",
       "<mark class=\"entity\" style=\"background: #ddd; padding: 0.45em 0.6em; margin: 0 0.25em; line-height: 1; border-radius: 0.35em;\">\n",
       "    Fast\n",
       "    <span style=\"font-size: 0.8em; font-weight: bold; line-height: 1; border-radius: 0.35em; vertical-align: middle; margin-left: 0.5rem\">movie</span>\n",
       "</mark>\n",
       ", \n",
       "<mark class=\"entity\" style=\"background: #ddd; padding: 0.45em 0.6em; margin: 0 0.25em; line-height: 1; border-radius: 0.35em;\">\n",
       "    Cheap &amp; Out of Control\n",
       "    <span style=\"font-size: 0.8em; font-weight: bold; line-height: 1; border-radius: 0.35em; vertical-align: middle; margin-left: 0.5rem\">movie</span>\n",
       "</mark>\n",
       ", \n",
       "<mark class=\"entity\" style=\"background: #ddd; padding: 0.45em 0.6em; margin: 0 0.25em; line-height: 1; border-radius: 0.35em;\">\n",
       "    Half Brothers\n",
       "    <span style=\"font-size: 0.8em; font-weight: bold; line-height: 1; border-radius: 0.35em; vertical-align: middle; margin-left: 0.5rem\">movie</span>\n",
       "</mark>\n",
       ", and \n",
       "<mark class=\"entity\" style=\"background: #ddd; padding: 0.45em 0.6em; margin: 0 0.25em; line-height: 1; border-radius: 0.35em;\">\n",
       "    House of Boys\n",
       "    <span style=\"font-size: 0.8em; font-weight: bold; line-height: 1; border-radius: 0.35em; vertical-align: middle; margin-left: 0.5rem\">movie</span>\n",
       "</mark>\n",
       ", do you have any movie recommendations for me?</div></span>"
      ],
      "text/plain": [
       "<IPython.core.display.HTML object>"
      ]
     },
     "metadata": {},
     "output_type": "display_data"
    },
    {
     "name": "stdout",
     "output_type": "stream",
     "text": [
      "Since I enjoy Fast, Cheap & Out of Control, Half Brothers, and House of Boys, do you have any movie recommendations for me? {'entities': [(14, 42, 'movie'), (44, 57, 'movie'), (63, 76, 'movie'), (100, 109, 'predicate')]}\n",
      "Missing movie label\n"
     ]
    },
    {
     "data": {
      "text/html": [
       "<span class=\"tex2jax_ignore\"><div class=\"entities\" style=\"line-height: 2.5; direction: ltr\">Since I enjoy \n",
       "<mark class=\"entity\" style=\"background: #ddd; padding: 0.45em 0.6em; margin: 0 0.25em; line-height: 1; border-radius: 0.35em;\">\n",
       "    The World Is Big\n",
       "    <span style=\"font-size: 0.8em; font-weight: bold; line-height: 1; border-radius: 0.35em; vertical-align: middle; margin-left: 0.5rem\">movie</span>\n",
       "</mark>\n",
       " and \n",
       "<mark class=\"entity\" style=\"background: #ddd; padding: 0.45em 0.6em; margin: 0 0.25em; line-height: 1; border-radius: 0.35em;\">\n",
       "    Salvation Lurks Around the Corner\n",
       "    <span style=\"font-size: 0.8em; font-weight: bold; line-height: 1; border-radius: 0.35em; vertical-align: middle; margin-left: 0.5rem\">movie</span>\n",
       "</mark>\n",
       ", \n",
       "<mark class=\"entity\" style=\"background: #ddd; padding: 0.45em 0.6em; margin: 0 0.25em; line-height: 1; border-radius: 0.35em;\">\n",
       "    Happy Family\n",
       "    <span style=\"font-size: 0.8em; font-weight: bold; line-height: 1; border-radius: 0.35em; vertical-align: middle; margin-left: 0.5rem\">movie</span>\n",
       "</mark>\n",
       ", and \n",
       "<mark class=\"entity\" style=\"background: #ddd; padding: 0.45em 0.6em; margin: 0 0.25em; line-height: 1; border-radius: 0.35em;\">\n",
       "    The Devil's Bride\n",
       "    <span style=\"font-size: 0.8em; font-weight: bold; line-height: 1; border-radius: 0.35em; vertical-align: middle; margin-left: 0.5rem\">movie</span>\n",
       "</mark>\n",
       ", do you have any movie recommendations for me?</div></span>"
      ],
      "text/plain": [
       "<IPython.core.display.HTML object>"
      ]
     },
     "metadata": {},
     "output_type": "display_data"
    },
    {
     "name": "stdout",
     "output_type": "stream",
     "text": [
      "Since I enjoy The World Is Big and Salvation Lurks Around the Corner, Happy Family, and The Devil's Bride, do you have any movie recommendations for me? {'entities': [(14, 68, 'movie'), (70, 82, 'movie'), (88, 105, 'movie'), (129, 138, 'predicate')]}\n",
      "Missing movie label\n"
     ]
    },
    {
     "data": {
      "text/html": [
       "<span class=\"tex2jax_ignore\"><div class=\"entities\" style=\"line-height: 2.5; direction: ltr\">Since I enjoy \n",
       "<mark class=\"entity\" style=\"background: #ddd; padding: 0.45em 0.6em; margin: 0 0.25em; line-height: 1; border-radius: 0.35em;\">\n",
       "    The World Is Big\n",
       "    <span style=\"font-size: 0.8em; font-weight: bold; line-height: 1; border-radius: 0.35em; vertical-align: middle; margin-left: 0.5rem\">movie</span>\n",
       "</mark>\n",
       " and \n",
       "<mark class=\"entity\" style=\"background: #ddd; padding: 0.45em 0.6em; margin: 0 0.25em; line-height: 1; border-radius: 0.35em;\">\n",
       "    Salvation Lurks Around the Corner\n",
       "    <span style=\"font-size: 0.8em; font-weight: bold; line-height: 1; border-radius: 0.35em; vertical-align: middle; margin-left: 0.5rem\">movie</span>\n",
       "</mark>\n",
       ", \n",
       "<mark class=\"entity\" style=\"background: #ddd; padding: 0.45em 0.6em; margin: 0 0.25em; line-height: 1; border-radius: 0.35em;\">\n",
       "    Happy Family\n",
       "    <span style=\"font-size: 0.8em; font-weight: bold; line-height: 1; border-radius: 0.35em; vertical-align: middle; margin-left: 0.5rem\">movie</span>\n",
       "</mark>\n",
       ", and \n",
       "<mark class=\"entity\" style=\"background: #ddd; padding: 0.45em 0.6em; margin: 0 0.25em; line-height: 1; border-radius: 0.35em;\">\n",
       "    The Devil's Bride\n",
       "    <span style=\"font-size: 0.8em; font-weight: bold; line-height: 1; border-radius: 0.35em; vertical-align: middle; margin-left: 0.5rem\">movie</span>\n",
       "</mark>\n",
       ", do you have any movie recommendations for me?</div></span>"
      ],
      "text/plain": [
       "<IPython.core.display.HTML object>"
      ]
     },
     "metadata": {},
     "output_type": "display_data"
    },
    {
     "name": "stdout",
     "output_type": "stream",
     "text": [
      "Since I enjoy The World Is Big and Salvation Lurks Around the Corner, Happy Family, and The Devil's Bride, do you have any movie recommendations for me? {'entities': [(14, 68, 'movie'), (70, 82, 'movie'), (88, 105, 'movie'), (129, 138, 'predicate')]}\n",
      "Missing movie label\n"
     ]
    },
    {
     "data": {
      "text/html": [
       "<span class=\"tex2jax_ignore\"><div class=\"entities\" style=\"line-height: 2.5; direction: ltr\">Since I enjoy \n",
       "<mark class=\"entity\" style=\"background: #ddd; padding: 0.45em 0.6em; margin: 0 0.25em; line-height: 1; border-radius: 0.35em;\">\n",
       "    Kamen Rider Fourze the Movie: Space\n",
       "    <span style=\"font-size: 0.8em; font-weight: bold; line-height: 1; border-radius: 0.35em; vertical-align: middle; margin-left: 0.5rem\">movie</span>\n",
       "</mark>\n",
       ", Here We Come!, \n",
       "<mark class=\"entity\" style=\"background: #ddd; padding: 0.45em 0.6em; margin: 0 0.25em; line-height: 1; border-radius: 0.35em;\">\n",
       "    Dracula: Pages from a Virgin's Diary\n",
       "    <span style=\"font-size: 0.8em; font-weight: bold; line-height: 1; border-radius: 0.35em; vertical-align: middle; margin-left: 0.5rem\">movie</span>\n",
       "</mark>\n",
       ", and \n",
       "<mark class=\"entity\" style=\"background: #ddd; padding: 0.45em 0.6em; margin: 0 0.25em; line-height: 1; border-radius: 0.35em;\">\n",
       "    Scarecrow\n",
       "    <span style=\"font-size: 0.8em; font-weight: bold; line-height: 1; border-radius: 0.35em; vertical-align: middle; margin-left: 0.5rem\">movie</span>\n",
       "</mark>\n",
       ", do you have any movie recommendations for me?</div></span>"
      ],
      "text/plain": [
       "<IPython.core.display.HTML object>"
      ]
     },
     "metadata": {},
     "output_type": "display_data"
    },
    {
     "name": "stdout",
     "output_type": "stream",
     "text": [
      "Since I enjoy Kamen Rider Fourze the Movie: Space, Here We Come!, Dracula: Pages from a Virgin's Diary, and Scarecrow, do you have any movie recommendations for me? {'entities': [(14, 64, 'movie'), (66, 102, 'movie'), (108, 117, 'movie'), (141, 150, 'predicate')]}\n",
      "Missing movie label\n"
     ]
    },
    {
     "data": {
      "text/html": [
       "<span class=\"tex2jax_ignore\"><div class=\"entities\" style=\"line-height: 2.5; direction: ltr\">Since I enjoy \n",
       "<mark class=\"entity\" style=\"background: #ddd; padding: 0.45em 0.6em; margin: 0 0.25em; line-height: 1; border-radius: 0.35em;\">\n",
       "    Bert Rigby\n",
       "    <span style=\"font-size: 0.8em; font-weight: bold; line-height: 1; border-radius: 0.35em; vertical-align: middle; margin-left: 0.5rem\">movie</span>\n",
       "</mark>\n",
       ", \n",
       "<mark class=\"entity\" style=\"background: #ddd; padding: 0.45em 0.6em; margin: 0 0.25em; line-height: 1; border-radius: 0.35em;\">\n",
       "    You're a Fool, I Walked with a Zombie\n",
       "    <span style=\"font-size: 0.8em; font-weight: bold; line-height: 1; border-radius: 0.35em; vertical-align: middle; margin-left: 0.5rem\">movie</span>\n",
       "</mark>\n",
       ", and \n",
       "<mark class=\"entity\" style=\"background: #ddd; padding: 0.45em 0.6em; margin: 0 0.25em; line-height: 1; border-radius: 0.35em;\">\n",
       "    Ministry of Love\n",
       "    <span style=\"font-size: 0.8em; font-weight: bold; line-height: 1; border-radius: 0.35em; vertical-align: middle; margin-left: 0.5rem\">movie</span>\n",
       "</mark>\n",
       ", do you have any movie recommendations for me?</div></span>"
      ],
      "text/plain": [
       "<IPython.core.display.HTML object>"
      ]
     },
     "metadata": {},
     "output_type": "display_data"
    },
    {
     "name": "stdout",
     "output_type": "stream",
     "text": [
      "Since I enjoy Bert Rigby, You're a Fool, I Walked with a Zombie, and Ministry of Love, do you have any movie recommendations for me? {'entities': [(14, 39, 'movie'), (41, 63, 'movie'), (69, 85, 'movie'), (109, 118, 'predicate')]}\n",
      "Missing movie label\n"
     ]
    },
    {
     "data": {
      "text/html": [
       "<span class=\"tex2jax_ignore\"><div class=\"entities\" style=\"line-height: 2.5; direction: ltr\">Since I enjoy \n",
       "<mark class=\"entity\" style=\"background: #ddd; padding: 0.45em 0.6em; margin: 0 0.25em; line-height: 1; border-radius: 0.35em;\">\n",
       "    Bert Rigby\n",
       "    <span style=\"font-size: 0.8em; font-weight: bold; line-height: 1; border-radius: 0.35em; vertical-align: middle; margin-left: 0.5rem\">movie</span>\n",
       "</mark>\n",
       ", \n",
       "<mark class=\"entity\" style=\"background: #ddd; padding: 0.45em 0.6em; margin: 0 0.25em; line-height: 1; border-radius: 0.35em;\">\n",
       "    You're a Fool, I Walked with a Zombie\n",
       "    <span style=\"font-size: 0.8em; font-weight: bold; line-height: 1; border-radius: 0.35em; vertical-align: middle; margin-left: 0.5rem\">movie</span>\n",
       "</mark>\n",
       ", and \n",
       "<mark class=\"entity\" style=\"background: #ddd; padding: 0.45em 0.6em; margin: 0 0.25em; line-height: 1; border-radius: 0.35em;\">\n",
       "    Ministry of Love\n",
       "    <span style=\"font-size: 0.8em; font-weight: bold; line-height: 1; border-radius: 0.35em; vertical-align: middle; margin-left: 0.5rem\">movie</span>\n",
       "</mark>\n",
       ", do you have any movie recommendations for me?</div></span>"
      ],
      "text/plain": [
       "<IPython.core.display.HTML object>"
      ]
     },
     "metadata": {},
     "output_type": "display_data"
    },
    {
     "name": "stdout",
     "output_type": "stream",
     "text": [
      "Since I enjoy Bert Rigby, You're a Fool, I Walked with a Zombie, and Ministry of Love, do you have any movie recommendations for me? {'entities': [(14, 39, 'movie'), (41, 63, 'movie'), (69, 85, 'movie'), (109, 118, 'predicate')]}\n",
      "Missing movie label\n"
     ]
    },
    {
     "data": {
      "text/html": [
       "<span class=\"tex2jax_ignore\"><div class=\"entities\" style=\"line-height: 2.5; direction: ltr\">Since I enjoy \n",
       "<mark class=\"entity\" style=\"background: #ddd; padding: 0.45em 0.6em; margin: 0 0.25em; line-height: 1; border-radius: 0.35em;\">\n",
       "    Puppe\n",
       "    <span style=\"font-size: 0.8em; font-weight: bold; line-height: 1; border-radius: 0.35em; vertical-align: middle; margin-left: 0.5rem\">movie</span>\n",
       "</mark>\n",
       ", Icke &amp; der Dicke, \n",
       "<mark class=\"entity\" style=\"background: #ddd; padding: 0.45em 0.6em; margin: 0 0.25em; line-height: 1; border-radius: 0.35em;\">\n",
       "    After Sex\n",
       "    <span style=\"font-size: 0.8em; font-weight: bold; line-height: 1; border-radius: 0.35em; vertical-align: middle; margin-left: 0.5rem\">movie</span>\n",
       "</mark>\n",
       ", and \n",
       "<mark class=\"entity\" style=\"background: #ddd; padding: 0.45em 0.6em; margin: 0 0.25em; line-height: 1; border-radius: 0.35em;\">\n",
       "    Small Change\n",
       "    <span style=\"font-size: 0.8em; font-weight: bold; line-height: 1; border-radius: 0.35em; vertical-align: middle; margin-left: 0.5rem\">movie</span>\n",
       "</mark>\n",
       ", do you have any movie recommendations for me?</div></span>"
      ],
      "text/plain": [
       "<IPython.core.display.HTML object>"
      ]
     },
     "metadata": {},
     "output_type": "display_data"
    },
    {
     "name": "stdout",
     "output_type": "stream",
     "text": [
      "Since I enjoy Puppe, Icke & der Dicke, After Sex, and Small Change, do you have any movie recommendations for me? {'entities': [(14, 37, 'movie'), (39, 48, 'movie'), (54, 66, 'movie'), (90, 99, 'predicate')]}\n",
      "Missing movie label\n"
     ]
    },
    {
     "data": {
      "text/html": [
       "<span class=\"tex2jax_ignore\"><div class=\"entities\" style=\"line-height: 2.5; direction: ltr\">Since I enjoy \n",
       "<mark class=\"entity\" style=\"background: #ddd; padding: 0.45em 0.6em; margin: 0 0.25em; line-height: 1; border-radius: 0.35em;\">\n",
       "    Sea\n",
       "    <span style=\"font-size: 0.8em; font-weight: bold; line-height: 1; border-radius: 0.35em; vertical-align: middle; margin-left: 0.5rem\">movie</span>\n",
       "</mark>\n",
       ", No Sex and Sun, \n",
       "<mark class=\"entity\" style=\"background: #ddd; padding: 0.45em 0.6em; margin: 0 0.25em; line-height: 1; border-radius: 0.35em;\">\n",
       "    Sound of the Sea\n",
       "    <span style=\"font-size: 0.8em; font-weight: bold; line-height: 1; border-radius: 0.35em; vertical-align: middle; margin-left: 0.5rem\">movie</span>\n",
       "</mark>\n",
       ", and \n",
       "<mark class=\"entity\" style=\"background: #ddd; padding: 0.45em 0.6em; margin: 0 0.25em; line-height: 1; border-radius: 0.35em;\">\n",
       "    Life of Pi\n",
       "    <span style=\"font-size: 0.8em; font-weight: bold; line-height: 1; border-radius: 0.35em; vertical-align: middle; margin-left: 0.5rem\">movie</span>\n",
       "</mark>\n",
       ", do you have any movie recommendations for me?</div></span>"
      ],
      "text/plain": [
       "<IPython.core.display.HTML object>"
      ]
     },
     "metadata": {},
     "output_type": "display_data"
    },
    {
     "name": "stdout",
     "output_type": "stream",
     "text": [
      "Since I enjoy Sea, No Sex and Sun, Sound of the Sea, and Life of Pi, do you have any movie recommendations for me? {'entities': [(14, 33, 'movie'), (35, 51, 'movie'), (57, 67, 'movie'), (91, 100, 'predicate')]}\n",
      "Missing movie label\n"
     ]
    },
    {
     "data": {
      "text/html": [
       "<span class=\"tex2jax_ignore\"><div class=\"entities\" style=\"line-height: 2.5; direction: ltr\">Since I enjoy \n",
       "<mark class=\"entity\" style=\"background: #ddd; padding: 0.45em 0.6em; margin: 0 0.25em; line-height: 1; border-radius: 0.35em;\">\n",
       "    If You Die\n",
       "    <span style=\"font-size: 0.8em; font-weight: bold; line-height: 1; border-radius: 0.35em; vertical-align: middle; margin-left: 0.5rem\">movie</span>\n",
       "</mark>\n",
       ", I'll Kill You, \n",
       "<mark class=\"entity\" style=\"background: #ddd; padding: 0.45em 0.6em; margin: 0 0.25em; line-height: 1; border-radius: 0.35em;\">\n",
       "    Ceremony\n",
       "    <span style=\"font-size: 0.8em; font-weight: bold; line-height: 1; border-radius: 0.35em; vertical-align: middle; margin-left: 0.5rem\">movie</span>\n",
       "</mark>\n",
       ", and \n",
       "<mark class=\"entity\" style=\"background: #ddd; padding: 0.45em 0.6em; margin: 0 0.25em; line-height: 1; border-radius: 0.35em;\">\n",
       "    Stargate: Continuum\n",
       "    <span style=\"font-size: 0.8em; font-weight: bold; line-height: 1; border-radius: 0.35em; vertical-align: middle; margin-left: 0.5rem\">movie</span>\n",
       "</mark>\n",
       ", do you have any movie recommendations for me?</div></span>"
      ],
      "text/plain": [
       "<IPython.core.display.HTML object>"
      ]
     },
     "metadata": {},
     "output_type": "display_data"
    },
    {
     "name": "stdout",
     "output_type": "stream",
     "text": [
      "Since I enjoy If You Die, I'll Kill You, Ceremony, and Stargate: Continuum, do you have any movie recommendations for me? {'entities': [(14, 39, 'movie'), (41, 49, 'movie'), (55, 74, 'movie'), (98, 107, 'predicate')]}\n",
      "Missing movie label\n"
     ]
    },
    {
     "data": {
      "text/html": [
       "<span class=\"tex2jax_ignore\"><div class=\"entities\" style=\"line-height: 2.5; direction: ltr\">Since I enjoy \n",
       "<mark class=\"entity\" style=\"background: #ddd; padding: 0.45em 0.6em; margin: 0 0.25em; line-height: 1; border-radius: 0.35em;\">\n",
       "    Butch and\n",
       "    <span style=\"font-size: 0.8em; font-weight: bold; line-height: 1; border-radius: 0.35em; vertical-align: middle; margin-left: 0.5rem\">movie</span>\n",
       "</mark>\n",
       " \n",
       "<mark class=\"entity\" style=\"background: #ddd; padding: 0.45em 0.6em; margin: 0 0.25em; line-height: 1; border-radius: 0.35em;\">\n",
       "    Sundance: The Early Days\n",
       "    <span style=\"font-size: 0.8em; font-weight: bold; line-height: 1; border-radius: 0.35em; vertical-align: middle; margin-left: 0.5rem\">movie</span>\n",
       "</mark>\n",
       ", \n",
       "<mark class=\"entity\" style=\"background: #ddd; padding: 0.45em 0.6em; margin: 0 0.25em; line-height: 1; border-radius: 0.35em;\">\n",
       "    What Men Want\n",
       "    <span style=\"font-size: 0.8em; font-weight: bold; line-height: 1; border-radius: 0.35em; vertical-align: middle; margin-left: 0.5rem\">movie</span>\n",
       "</mark>\n",
       ", and \n",
       "<mark class=\"entity\" style=\"background: #ddd; padding: 0.45em 0.6em; margin: 0 0.25em; line-height: 1; border-radius: 0.35em;\">\n",
       "    The Woman in the Fifth\n",
       "    <span style=\"font-size: 0.8em; font-weight: bold; line-height: 1; border-radius: 0.35em; vertical-align: middle; margin-left: 0.5rem\">movie</span>\n",
       "</mark>\n",
       ", do you have any movie recommendations for me?</div></span>"
      ],
      "text/plain": [
       "<IPython.core.display.HTML object>"
      ]
     },
     "metadata": {},
     "output_type": "display_data"
    },
    {
     "name": "stdout",
     "output_type": "stream",
     "text": [
      "Since I enjoy Butch and Sundance: The Early Days, What Men Want, and The Woman in the Fifth, do you have any movie recommendations for me? {'entities': [(14, 48, 'movie'), (50, 63, 'movie'), (69, 91, 'movie'), (115, 124, 'predicate')]}\n",
      "Missing movie label\n"
     ]
    },
    {
     "data": {
      "text/html": [
       "<span class=\"tex2jax_ignore\"><div class=\"entities\" style=\"line-height: 2.5; direction: ltr\">Since I enjoy \n",
       "<mark class=\"entity\" style=\"background: #ddd; padding: 0.45em 0.6em; margin: 0 0.25em; line-height: 1; border-radius: 0.35em;\">\n",
       "    Butch and\n",
       "    <span style=\"font-size: 0.8em; font-weight: bold; line-height: 1; border-radius: 0.35em; vertical-align: middle; margin-left: 0.5rem\">movie</span>\n",
       "</mark>\n",
       " \n",
       "<mark class=\"entity\" style=\"background: #ddd; padding: 0.45em 0.6em; margin: 0 0.25em; line-height: 1; border-radius: 0.35em;\">\n",
       "    Sundance: The Early Days\n",
       "    <span style=\"font-size: 0.8em; font-weight: bold; line-height: 1; border-radius: 0.35em; vertical-align: middle; margin-left: 0.5rem\">movie</span>\n",
       "</mark>\n",
       ", \n",
       "<mark class=\"entity\" style=\"background: #ddd; padding: 0.45em 0.6em; margin: 0 0.25em; line-height: 1; border-radius: 0.35em;\">\n",
       "    What Men Want\n",
       "    <span style=\"font-size: 0.8em; font-weight: bold; line-height: 1; border-radius: 0.35em; vertical-align: middle; margin-left: 0.5rem\">movie</span>\n",
       "</mark>\n",
       ", and \n",
       "<mark class=\"entity\" style=\"background: #ddd; padding: 0.45em 0.6em; margin: 0 0.25em; line-height: 1; border-radius: 0.35em;\">\n",
       "    The Woman in the Fifth\n",
       "    <span style=\"font-size: 0.8em; font-weight: bold; line-height: 1; border-radius: 0.35em; vertical-align: middle; margin-left: 0.5rem\">movie</span>\n",
       "</mark>\n",
       ", do you have any movie recommendations for me?</div></span>"
      ],
      "text/plain": [
       "<IPython.core.display.HTML object>"
      ]
     },
     "metadata": {},
     "output_type": "display_data"
    },
    {
     "name": "stdout",
     "output_type": "stream",
     "text": [
      "Since I enjoy Butch and Sundance: The Early Days, What Men Want, and The Woman in the Fifth, do you have any movie recommendations for me? {'entities': [(14, 48, 'movie'), (50, 63, 'movie'), (69, 91, 'movie'), (115, 124, 'predicate')]}\n",
      "Missing movie label\n"
     ]
    },
    {
     "data": {
      "text/html": [
       "<span class=\"tex2jax_ignore\"><div class=\"entities\" style=\"line-height: 2.5; direction: ltr\">Since I enjoy \n",
       "<mark class=\"entity\" style=\"background: #ddd; padding: 0.45em 0.6em; margin: 0 0.25em; line-height: 1; border-radius: 0.35em;\">\n",
       "    The Legend of Al\n",
       "    <span style=\"font-size: 0.8em; font-weight: bold; line-height: 1; border-radius: 0.35em; vertical-align: middle; margin-left: 0.5rem\">movie</span>\n",
       "</mark>\n",
       ", \n",
       "<mark class=\"entity\" style=\"background: #ddd; padding: 0.45em 0.6em; margin: 0 0.25em; line-height: 1; border-radius: 0.35em;\">\n",
       "    John and Jack\n",
       "    <span style=\"font-size: 0.8em; font-weight: bold; line-height: 1; border-radius: 0.35em; vertical-align: middle; margin-left: 0.5rem\">movie</span>\n",
       "</mark>\n",
       ", \n",
       "<mark class=\"entity\" style=\"background: #ddd; padding: 0.45em 0.6em; margin: 0 0.25em; line-height: 1; border-radius: 0.35em;\">\n",
       "    The Missing\n",
       "    <span style=\"font-size: 0.8em; font-weight: bold; line-height: 1; border-radius: 0.35em; vertical-align: middle; margin-left: 0.5rem\">movie</span>\n",
       "</mark>\n",
       ", and \n",
       "<mark class=\"entity\" style=\"background: #ddd; padding: 0.45em 0.6em; margin: 0 0.25em; line-height: 1; border-radius: 0.35em;\">\n",
       "    About Schmidt\n",
       "    <span style=\"font-size: 0.8em; font-weight: bold; line-height: 1; border-radius: 0.35em; vertical-align: middle; margin-left: 0.5rem\">movie</span>\n",
       "</mark>\n",
       ", do you have any movie recommendations for me?</div></span>"
      ],
      "text/plain": [
       "<IPython.core.display.HTML object>"
      ]
     },
     "metadata": {},
     "output_type": "display_data"
    },
    {
     "name": "stdout",
     "output_type": "stream",
     "text": [
      "Since I enjoy The Legend of Al, John and Jack, The Missing, and About Schmidt, do you have any movie recommendations for me? {'entities': [(14, 45, 'movie'), (47, 58, 'movie'), (64, 77, 'movie'), (101, 110, 'predicate')]}\n",
      "Missing movie label\n"
     ]
    },
    {
     "data": {
      "text/html": [
       "<span class=\"tex2jax_ignore\"><div class=\"entities\" style=\"line-height: 2.5; direction: ltr\">Since I enjoy \n",
       "<mark class=\"entity\" style=\"background: #ddd; padding: 0.45em 0.6em; margin: 0 0.25em; line-height: 1; border-radius: 0.35em;\">\n",
       "    The Legend of Al\n",
       "    <span style=\"font-size: 0.8em; font-weight: bold; line-height: 1; border-radius: 0.35em; vertical-align: middle; margin-left: 0.5rem\">movie</span>\n",
       "</mark>\n",
       ", \n",
       "<mark class=\"entity\" style=\"background: #ddd; padding: 0.45em 0.6em; margin: 0 0.25em; line-height: 1; border-radius: 0.35em;\">\n",
       "    John and Jack\n",
       "    <span style=\"font-size: 0.8em; font-weight: bold; line-height: 1; border-radius: 0.35em; vertical-align: middle; margin-left: 0.5rem\">movie</span>\n",
       "</mark>\n",
       ", \n",
       "<mark class=\"entity\" style=\"background: #ddd; padding: 0.45em 0.6em; margin: 0 0.25em; line-height: 1; border-radius: 0.35em;\">\n",
       "    The Missing\n",
       "    <span style=\"font-size: 0.8em; font-weight: bold; line-height: 1; border-radius: 0.35em; vertical-align: middle; margin-left: 0.5rem\">movie</span>\n",
       "</mark>\n",
       ", and \n",
       "<mark class=\"entity\" style=\"background: #ddd; padding: 0.45em 0.6em; margin: 0 0.25em; line-height: 1; border-radius: 0.35em;\">\n",
       "    About Schmidt\n",
       "    <span style=\"font-size: 0.8em; font-weight: bold; line-height: 1; border-radius: 0.35em; vertical-align: middle; margin-left: 0.5rem\">movie</span>\n",
       "</mark>\n",
       ", do you have any movie recommendations for me?</div></span>"
      ],
      "text/plain": [
       "<IPython.core.display.HTML object>"
      ]
     },
     "metadata": {},
     "output_type": "display_data"
    },
    {
     "name": "stdout",
     "output_type": "stream",
     "text": [
      "Since I enjoy The Legend of Al, John and Jack, The Missing, and About Schmidt, do you have any movie recommendations for me? {'entities': [(14, 45, 'movie'), (47, 58, 'movie'), (64, 77, 'movie'), (101, 110, 'predicate')]}\n",
      "Missing movie label\n"
     ]
    },
    {
     "data": {
      "text/html": [
       "<span class=\"tex2jax_ignore\"><div class=\"entities\" style=\"line-height: 2.5; direction: ltr\">Since I enjoy \n",
       "<mark class=\"entity\" style=\"background: #ddd; padding: 0.45em 0.6em; margin: 0 0.25em; line-height: 1; border-radius: 0.35em;\">\n",
       "    Leslie\n",
       "    <span style=\"font-size: 0.8em; font-weight: bold; line-height: 1; border-radius: 0.35em; vertical-align: middle; margin-left: 0.5rem\">movie</span>\n",
       "</mark>\n",
       ", \n",
       "<mark class=\"entity\" style=\"background: #ddd; padding: 0.45em 0.6em; margin: 0 0.25em; line-height: 1; border-radius: 0.35em;\">\n",
       "    My Name Is Evil,\n",
       "    <span style=\"font-size: 0.8em; font-weight: bold; line-height: 1; border-radius: 0.35em; vertical-align: middle; margin-left: 0.5rem\">movie</span>\n",
       "</mark>\n",
       " \n",
       "<mark class=\"entity\" style=\"background: #ddd; padding: 0.45em 0.6em; margin: 0 0.25em; line-height: 1; border-radius: 0.35em;\">\n",
       "    More American Graffiti\n",
       "    <span style=\"font-size: 0.8em; font-weight: bold; line-height: 1; border-radius: 0.35em; vertical-align: middle; margin-left: 0.5rem\">movie</span>\n",
       "</mark>\n",
       ", and \n",
       "<mark class=\"entity\" style=\"background: #ddd; padding: 0.45em 0.6em; margin: 0 0.25em; line-height: 1; border-radius: 0.35em;\">\n",
       "    Barbarian Queen\n",
       "    <span style=\"font-size: 0.8em; font-weight: bold; line-height: 1; border-radius: 0.35em; vertical-align: middle; margin-left: 0.5rem\">movie</span>\n",
       "</mark>\n",
       ", do you have any movie recommendations for me?</div></span>"
      ],
      "text/plain": [
       "<IPython.core.display.HTML object>"
      ]
     },
     "metadata": {},
     "output_type": "display_data"
    },
    {
     "name": "stdout",
     "output_type": "stream",
     "text": [
      "Since I enjoy Leslie, My Name Is Evil, More American Graffiti, and Barbarian Queen, do you have any movie recommendations for me? {'entities': [(14, 37, 'movie'), (39, 61, 'movie'), (67, 82, 'movie'), (106, 115, 'predicate')]}\n",
      "Missing movie label\n"
     ]
    },
    {
     "data": {
      "text/html": [
       "<span class=\"tex2jax_ignore\"><div class=\"entities\" style=\"line-height: 2.5; direction: ltr\">Since I enjoy \n",
       "<mark class=\"entity\" style=\"background: #ddd; padding: 0.45em 0.6em; margin: 0 0.25em; line-height: 1; border-radius: 0.35em;\">\n",
       "    Leslie\n",
       "    <span style=\"font-size: 0.8em; font-weight: bold; line-height: 1; border-radius: 0.35em; vertical-align: middle; margin-left: 0.5rem\">movie</span>\n",
       "</mark>\n",
       ", \n",
       "<mark class=\"entity\" style=\"background: #ddd; padding: 0.45em 0.6em; margin: 0 0.25em; line-height: 1; border-radius: 0.35em;\">\n",
       "    My Name Is Evil,\n",
       "    <span style=\"font-size: 0.8em; font-weight: bold; line-height: 1; border-radius: 0.35em; vertical-align: middle; margin-left: 0.5rem\">movie</span>\n",
       "</mark>\n",
       " \n",
       "<mark class=\"entity\" style=\"background: #ddd; padding: 0.45em 0.6em; margin: 0 0.25em; line-height: 1; border-radius: 0.35em;\">\n",
       "    More American Graffiti\n",
       "    <span style=\"font-size: 0.8em; font-weight: bold; line-height: 1; border-radius: 0.35em; vertical-align: middle; margin-left: 0.5rem\">movie</span>\n",
       "</mark>\n",
       ", and \n",
       "<mark class=\"entity\" style=\"background: #ddd; padding: 0.45em 0.6em; margin: 0 0.25em; line-height: 1; border-radius: 0.35em;\">\n",
       "    Barbarian Queen\n",
       "    <span style=\"font-size: 0.8em; font-weight: bold; line-height: 1; border-radius: 0.35em; vertical-align: middle; margin-left: 0.5rem\">movie</span>\n",
       "</mark>\n",
       ", do you have any movie recommendations for me?</div></span>"
      ],
      "text/plain": [
       "<IPython.core.display.HTML object>"
      ]
     },
     "metadata": {},
     "output_type": "display_data"
    },
    {
     "name": "stdout",
     "output_type": "stream",
     "text": [
      "Since I enjoy Leslie, My Name Is Evil, More American Graffiti, and Barbarian Queen, do you have any movie recommendations for me? {'entities': [(14, 37, 'movie'), (39, 61, 'movie'), (67, 82, 'movie'), (106, 115, 'predicate')]}\n",
      "Missing movie label\n"
     ]
    },
    {
     "data": {
      "text/html": [
       "<span class=\"tex2jax_ignore\"><div class=\"entities\" style=\"line-height: 2.5; direction: ltr\">Since I enjoy \n",
       "<mark class=\"entity\" style=\"background: #ddd; padding: 0.45em 0.6em; margin: 0 0.25em; line-height: 1; border-radius: 0.35em;\">\n",
       "    Venuto al mondo\n",
       "    <span style=\"font-size: 0.8em; font-weight: bold; line-height: 1; border-radius: 0.35em; vertical-align: middle; margin-left: 0.5rem\">movie</span>\n",
       "</mark>\n",
       ", \n",
       "<mark class=\"entity\" style=\"background: #ddd; padding: 0.45em 0.6em; margin: 0 0.25em; line-height: 1; border-radius: 0.35em;\">\n",
       "    Tangerines\n",
       "    <span style=\"font-size: 0.8em; font-weight: bold; line-height: 1; border-radius: 0.35em; vertical-align: middle; margin-left: 0.5rem\">genre</span>\n",
       "</mark>\n",
       ", and \n",
       "<mark class=\"entity\" style=\"background: #ddd; padding: 0.45em 0.6em; margin: 0 0.25em; line-height: 1; border-radius: 0.35em;\">\n",
       "    April Showers\n",
       "    <span style=\"font-size: 0.8em; font-weight: bold; line-height: 1; border-radius: 0.35em; vertical-align: middle; margin-left: 0.5rem\">movie</span>\n",
       "</mark>\n",
       ", do you have any movie recommendations for me?</div></span>"
      ],
      "text/plain": [
       "<IPython.core.display.HTML object>"
      ]
     },
     "metadata": {},
     "output_type": "display_data"
    },
    {
     "name": "stdout",
     "output_type": "stream",
     "text": [
      "Since I enjoy Venuto al mondo, Tangerines, and April Showers, do you have any movie recommendations for me? {'entities': [(14, 29, 'movie'), (31, 41, 'movie'), (47, 60, 'movie'), (84, 93, 'predicate')]}\n",
      "Missing genre label\n"
     ]
    },
    {
     "data": {
      "text/html": [
       "<span class=\"tex2jax_ignore\"><div class=\"entities\" style=\"line-height: 2.5; direction: ltr\">Since I enjoy \n",
       "<mark class=\"entity\" style=\"background: #ddd; padding: 0.45em 0.6em; margin: 0 0.25em; line-height: 1; border-radius: 0.35em;\">\n",
       "    The Case for Christmas\n",
       "    <span style=\"font-size: 0.8em; font-weight: bold; line-height: 1; border-radius: 0.35em; vertical-align: middle; margin-left: 0.5rem\">movie</span>\n",
       "</mark>\n",
       ", \n",
       "<mark class=\"entity\" style=\"background: #ddd; padding: 0.45em 0.6em; margin: 0 0.25em; line-height: 1; border-radius: 0.35em;\">\n",
       "    Battleship\n",
       "    <span style=\"font-size: 0.8em; font-weight: bold; line-height: 1; border-radius: 0.35em; vertical-align: middle; margin-left: 0.5rem\">genre</span>\n",
       "</mark>\n",
       ", and \n",
       "<mark class=\"entity\" style=\"background: #ddd; padding: 0.45em 0.6em; margin: 0 0.25em; line-height: 1; border-radius: 0.35em;\">\n",
       "    The Great War\n",
       "    <span style=\"font-size: 0.8em; font-weight: bold; line-height: 1; border-radius: 0.35em; vertical-align: middle; margin-left: 0.5rem\">movie</span>\n",
       "</mark>\n",
       ", do you have any movie recommendations for me?</div></span>"
      ],
      "text/plain": [
       "<IPython.core.display.HTML object>"
      ]
     },
     "metadata": {},
     "output_type": "display_data"
    },
    {
     "name": "stdout",
     "output_type": "stream",
     "text": [
      "Since I enjoy The Case for Christmas, Battleship, and The Great War, do you have any movie recommendations for me? {'entities': [(14, 36, 'movie'), (38, 48, 'movie'), (54, 67, 'movie'), (91, 100, 'predicate')]}\n",
      "Missing genre label\n"
     ]
    },
    {
     "data": {
      "text/html": [
       "<span class=\"tex2jax_ignore\"><div class=\"entities\" style=\"line-height: 2.5; direction: ltr\">Since I enjoy \n",
       "<mark class=\"entity\" style=\"background: #ddd; padding: 0.45em 0.6em; margin: 0 0.25em; line-height: 1; border-radius: 0.35em;\">\n",
       "    The Opposite Sex\n",
       "    <span style=\"font-size: 0.8em; font-weight: bold; line-height: 1; border-radius: 0.35em; vertical-align: middle; margin-left: 0.5rem\">movie</span>\n",
       "</mark>\n",
       " and \n",
       "<mark class=\"entity\" style=\"background: #ddd; padding: 0.45em 0.6em; margin: 0 0.25em; line-height: 1; border-radius: 0.35em;\">\n",
       "    How to Live with Them\n",
       "    <span style=\"font-size: 0.8em; font-weight: bold; line-height: 1; border-radius: 0.35em; vertical-align: middle; margin-left: 0.5rem\">movie</span>\n",
       "</mark>\n",
       ", \n",
       "<mark class=\"entity\" style=\"background: #ddd; padding: 0.45em 0.6em; margin: 0 0.25em; line-height: 1; border-radius: 0.35em;\">\n",
       "    The Other Son\n",
       "    <span style=\"font-size: 0.8em; font-weight: bold; line-height: 1; border-radius: 0.35em; vertical-align: middle; margin-left: 0.5rem\">movie</span>\n",
       "</mark>\n",
       ", and \n",
       "<mark class=\"entity\" style=\"background: #ddd; padding: 0.45em 0.6em; margin: 0 0.25em; line-height: 1; border-radius: 0.35em;\">\n",
       "    The Marco Effect\n",
       "    <span style=\"font-size: 0.8em; font-weight: bold; line-height: 1; border-radius: 0.35em; vertical-align: middle; margin-left: 0.5rem\">movie</span>\n",
       "</mark>\n",
       ", do you have any movie recommendations for me?</div></span>"
      ],
      "text/plain": [
       "<IPython.core.display.HTML object>"
      ]
     },
     "metadata": {},
     "output_type": "display_data"
    },
    {
     "name": "stdout",
     "output_type": "stream",
     "text": [
      "Since I enjoy The Opposite Sex and How to Live with Them, The Other Son, and The Marco Effect, do you have any movie recommendations for me? {'entities': [(14, 56, 'movie'), (58, 71, 'movie'), (77, 93, 'movie'), (117, 126, 'predicate')]}\n",
      "Missing movie label\n"
     ]
    },
    {
     "data": {
      "text/html": [
       "<span class=\"tex2jax_ignore\"><div class=\"entities\" style=\"line-height: 2.5; direction: ltr\">Since I enjoy \n",
       "<mark class=\"entity\" style=\"background: #ddd; padding: 0.45em 0.6em; margin: 0 0.25em; line-height: 1; border-radius: 0.35em;\">\n",
       "    The Opposite Sex\n",
       "    <span style=\"font-size: 0.8em; font-weight: bold; line-height: 1; border-radius: 0.35em; vertical-align: middle; margin-left: 0.5rem\">movie</span>\n",
       "</mark>\n",
       " and \n",
       "<mark class=\"entity\" style=\"background: #ddd; padding: 0.45em 0.6em; margin: 0 0.25em; line-height: 1; border-radius: 0.35em;\">\n",
       "    How to Live with Them\n",
       "    <span style=\"font-size: 0.8em; font-weight: bold; line-height: 1; border-radius: 0.35em; vertical-align: middle; margin-left: 0.5rem\">movie</span>\n",
       "</mark>\n",
       ", \n",
       "<mark class=\"entity\" style=\"background: #ddd; padding: 0.45em 0.6em; margin: 0 0.25em; line-height: 1; border-radius: 0.35em;\">\n",
       "    The Other Son\n",
       "    <span style=\"font-size: 0.8em; font-weight: bold; line-height: 1; border-radius: 0.35em; vertical-align: middle; margin-left: 0.5rem\">movie</span>\n",
       "</mark>\n",
       ", and \n",
       "<mark class=\"entity\" style=\"background: #ddd; padding: 0.45em 0.6em; margin: 0 0.25em; line-height: 1; border-radius: 0.35em;\">\n",
       "    The Marco Effect\n",
       "    <span style=\"font-size: 0.8em; font-weight: bold; line-height: 1; border-radius: 0.35em; vertical-align: middle; margin-left: 0.5rem\">movie</span>\n",
       "</mark>\n",
       ", do you have any movie recommendations for me?</div></span>"
      ],
      "text/plain": [
       "<IPython.core.display.HTML object>"
      ]
     },
     "metadata": {},
     "output_type": "display_data"
    },
    {
     "name": "stdout",
     "output_type": "stream",
     "text": [
      "Since I enjoy The Opposite Sex and How to Live with Them, The Other Son, and The Marco Effect, do you have any movie recommendations for me? {'entities': [(14, 56, 'movie'), (58, 71, 'movie'), (77, 93, 'movie'), (117, 126, 'predicate')]}\n",
      "Missing movie label\n"
     ]
    },
    {
     "data": {
      "text/html": [
       "<span class=\"tex2jax_ignore\"><div class=\"entities\" style=\"line-height: 2.5; direction: ltr\">Since I enjoy \n",
       "<mark class=\"entity\" style=\"background: #ddd; padding: 0.45em 0.6em; margin: 0 0.25em; line-height: 1; border-radius: 0.35em;\">\n",
       "    Cheech\n",
       "    <span style=\"font-size: 0.8em; font-weight: bold; line-height: 1; border-radius: 0.35em; vertical-align: middle; margin-left: 0.5rem\">movie</span>\n",
       "</mark>\n",
       " and Chong's Next Movie, \n",
       "<mark class=\"entity\" style=\"background: #ddd; padding: 0.45em 0.6em; margin: 0 0.25em; line-height: 1; border-radius: 0.35em;\">\n",
       "    Light Years Away\n",
       "    <span style=\"font-size: 0.8em; font-weight: bold; line-height: 1; border-radius: 0.35em; vertical-align: middle; margin-left: 0.5rem\">movie</span>\n",
       "</mark>\n",
       ", and \n",
       "<mark class=\"entity\" style=\"background: #ddd; padding: 0.45em 0.6em; margin: 0 0.25em; line-height: 1; border-radius: 0.35em;\">\n",
       "    Folks!\n",
       "    <span style=\"font-size: 0.8em; font-weight: bold; line-height: 1; border-radius: 0.35em; vertical-align: middle; margin-left: 0.5rem\">movie</span>\n",
       "</mark>\n",
       ", do you have any movie recommendations for me?</div></span>"
      ],
      "text/plain": [
       "<IPython.core.display.HTML object>"
      ]
     },
     "metadata": {},
     "output_type": "display_data"
    },
    {
     "name": "stdout",
     "output_type": "stream",
     "text": [
      "Since I enjoy Cheech and Chong's Next Movie, Light Years Away, and Folks!, do you have any movie recommendations for me? {'entities': [(14, 43, 'movie'), (45, 61, 'movie'), (67, 73, 'movie'), (97, 106, 'predicate')]}\n",
      "Missing movie label\n"
     ]
    },
    {
     "data": {
      "text/html": [
       "<span class=\"tex2jax_ignore\"><div class=\"entities\" style=\"line-height: 2.5; direction: ltr\">Since I enjoy \n",
       "<mark class=\"entity\" style=\"background: #ddd; padding: 0.45em 0.6em; margin: 0 0.25em; line-height: 1; border-radius: 0.35em;\">\n",
       "    Aileen: Life\n",
       "    <span style=\"font-size: 0.8em; font-weight: bold; line-height: 1; border-radius: 0.35em; vertical-align: middle; margin-left: 0.5rem\">movie</span>\n",
       "</mark>\n",
       " and \n",
       "<mark class=\"entity\" style=\"background: #ddd; padding: 0.45em 0.6em; margin: 0 0.25em; line-height: 1; border-radius: 0.35em;\">\n",
       "    Death of a Serial Killer\n",
       "    <span style=\"font-size: 0.8em; font-weight: bold; line-height: 1; border-radius: 0.35em; vertical-align: middle; margin-left: 0.5rem\">movie</span>\n",
       "</mark>\n",
       ", \n",
       "<mark class=\"entity\" style=\"background: #ddd; padding: 0.45em 0.6em; margin: 0 0.25em; line-height: 1; border-radius: 0.35em;\">\n",
       "    Don Giovanni\n",
       "    <span style=\"font-size: 0.8em; font-weight: bold; line-height: 1; border-radius: 0.35em; vertical-align: middle; margin-left: 0.5rem\">movie</span>\n",
       "</mark>\n",
       ", and \n",
       "<mark class=\"entity\" style=\"background: #ddd; padding: 0.45em 0.6em; margin: 0 0.25em; line-height: 1; border-radius: 0.35em;\">\n",
       "    In the Company of Men\n",
       "    <span style=\"font-size: 0.8em; font-weight: bold; line-height: 1; border-radius: 0.35em; vertical-align: middle; margin-left: 0.5rem\">movie</span>\n",
       "</mark>\n",
       ", do you have any movie recommendations for me?</div></span>"
      ],
      "text/plain": [
       "<IPython.core.display.HTML object>"
      ]
     },
     "metadata": {},
     "output_type": "display_data"
    },
    {
     "name": "stdout",
     "output_type": "stream",
     "text": [
      "Since I enjoy Aileen: Life and Death of a Serial Killer, Don Giovanni, and In the Company of Men, do you have any movie recommendations for me? {'entities': [(14, 55, 'movie'), (57, 69, 'movie'), (75, 96, 'movie'), (120, 129, 'predicate')]}\n",
      "Missing movie label\n"
     ]
    },
    {
     "data": {
      "text/html": [
       "<span class=\"tex2jax_ignore\"><div class=\"entities\" style=\"line-height: 2.5; direction: ltr\">Since I enjoy \n",
       "<mark class=\"entity\" style=\"background: #ddd; padding: 0.45em 0.6em; margin: 0 0.25em; line-height: 1; border-radius: 0.35em;\">\n",
       "    Aileen: Life\n",
       "    <span style=\"font-size: 0.8em; font-weight: bold; line-height: 1; border-radius: 0.35em; vertical-align: middle; margin-left: 0.5rem\">movie</span>\n",
       "</mark>\n",
       " and \n",
       "<mark class=\"entity\" style=\"background: #ddd; padding: 0.45em 0.6em; margin: 0 0.25em; line-height: 1; border-radius: 0.35em;\">\n",
       "    Death of a Serial Killer\n",
       "    <span style=\"font-size: 0.8em; font-weight: bold; line-height: 1; border-radius: 0.35em; vertical-align: middle; margin-left: 0.5rem\">movie</span>\n",
       "</mark>\n",
       ", \n",
       "<mark class=\"entity\" style=\"background: #ddd; padding: 0.45em 0.6em; margin: 0 0.25em; line-height: 1; border-radius: 0.35em;\">\n",
       "    Don Giovanni\n",
       "    <span style=\"font-size: 0.8em; font-weight: bold; line-height: 1; border-radius: 0.35em; vertical-align: middle; margin-left: 0.5rem\">movie</span>\n",
       "</mark>\n",
       ", and \n",
       "<mark class=\"entity\" style=\"background: #ddd; padding: 0.45em 0.6em; margin: 0 0.25em; line-height: 1; border-radius: 0.35em;\">\n",
       "    In the Company of Men\n",
       "    <span style=\"font-size: 0.8em; font-weight: bold; line-height: 1; border-radius: 0.35em; vertical-align: middle; margin-left: 0.5rem\">movie</span>\n",
       "</mark>\n",
       ", do you have any movie recommendations for me?</div></span>"
      ],
      "text/plain": [
       "<IPython.core.display.HTML object>"
      ]
     },
     "metadata": {},
     "output_type": "display_data"
    },
    {
     "name": "stdout",
     "output_type": "stream",
     "text": [
      "Since I enjoy Aileen: Life and Death of a Serial Killer, Don Giovanni, and In the Company of Men, do you have any movie recommendations for me? {'entities': [(14, 55, 'movie'), (57, 69, 'movie'), (75, 96, 'movie'), (120, 129, 'predicate')]}\n",
      "Missing movie label\n"
     ]
    },
    {
     "data": {
      "text/html": [
       "<span class=\"tex2jax_ignore\"><div class=\"entities\" style=\"line-height: 2.5; direction: ltr\">Since I enjoy \n",
       "<mark class=\"entity\" style=\"background: #ddd; padding: 0.45em 0.6em; margin: 0 0.25em; line-height: 1; border-radius: 0.35em;\">\n",
       "    I'm a Cyborg,\n",
       "    <span style=\"font-size: 0.8em; font-weight: bold; line-height: 1; border-radius: 0.35em; vertical-align: middle; margin-left: 0.5rem\">movie</span>\n",
       "</mark>\n",
       " \n",
       "<mark class=\"entity\" style=\"background: #ddd; padding: 0.45em 0.6em; margin: 0 0.25em; line-height: 1; border-radius: 0.35em;\">\n",
       "    But That's OK\n",
       "    <span style=\"font-size: 0.8em; font-weight: bold; line-height: 1; border-radius: 0.35em; vertical-align: middle; margin-left: 0.5rem\">movie</span>\n",
       "</mark>\n",
       ", \n",
       "<mark class=\"entity\" style=\"background: #ddd; padding: 0.45em 0.6em; margin: 0 0.25em; line-height: 1; border-radius: 0.35em;\">\n",
       "    The Call\n",
       "    <span style=\"font-size: 0.8em; font-weight: bold; line-height: 1; border-radius: 0.35em; vertical-align: middle; margin-left: 0.5rem\">movie</span>\n",
       "</mark>\n",
       ", and \n",
       "<mark class=\"entity\" style=\"background: #ddd; padding: 0.45em 0.6em; margin: 0 0.25em; line-height: 1; border-radius: 0.35em;\">\n",
       "    Shadowlands\n",
       "    <span style=\"font-size: 0.8em; font-weight: bold; line-height: 1; border-radius: 0.35em; vertical-align: middle; margin-left: 0.5rem\">movie</span>\n",
       "</mark>\n",
       ", do you have any movie recommendations for me?</div></span>"
      ],
      "text/plain": [
       "<IPython.core.display.HTML object>"
      ]
     },
     "metadata": {},
     "output_type": "display_data"
    },
    {
     "name": "stdout",
     "output_type": "stream",
     "text": [
      "Since I enjoy I'm a Cyborg, But That's OK, The Call, and Shadowlands, do you have any movie recommendations for me? {'entities': [(14, 41, 'movie'), (43, 51, 'movie'), (57, 68, 'movie'), (92, 101, 'predicate')]}\n",
      "Missing movie label\n"
     ]
    },
    {
     "data": {
      "text/html": [
       "<span class=\"tex2jax_ignore\"><div class=\"entities\" style=\"line-height: 2.5; direction: ltr\">Since I enjoy \n",
       "<mark class=\"entity\" style=\"background: #ddd; padding: 0.45em 0.6em; margin: 0 0.25em; line-height: 1; border-radius: 0.35em;\">\n",
       "    I'm a Cyborg,\n",
       "    <span style=\"font-size: 0.8em; font-weight: bold; line-height: 1; border-radius: 0.35em; vertical-align: middle; margin-left: 0.5rem\">movie</span>\n",
       "</mark>\n",
       " \n",
       "<mark class=\"entity\" style=\"background: #ddd; padding: 0.45em 0.6em; margin: 0 0.25em; line-height: 1; border-radius: 0.35em;\">\n",
       "    But That's OK\n",
       "    <span style=\"font-size: 0.8em; font-weight: bold; line-height: 1; border-radius: 0.35em; vertical-align: middle; margin-left: 0.5rem\">movie</span>\n",
       "</mark>\n",
       ", \n",
       "<mark class=\"entity\" style=\"background: #ddd; padding: 0.45em 0.6em; margin: 0 0.25em; line-height: 1; border-radius: 0.35em;\">\n",
       "    The Call\n",
       "    <span style=\"font-size: 0.8em; font-weight: bold; line-height: 1; border-radius: 0.35em; vertical-align: middle; margin-left: 0.5rem\">movie</span>\n",
       "</mark>\n",
       ", and \n",
       "<mark class=\"entity\" style=\"background: #ddd; padding: 0.45em 0.6em; margin: 0 0.25em; line-height: 1; border-radius: 0.35em;\">\n",
       "    Shadowlands\n",
       "    <span style=\"font-size: 0.8em; font-weight: bold; line-height: 1; border-radius: 0.35em; vertical-align: middle; margin-left: 0.5rem\">movie</span>\n",
       "</mark>\n",
       ", do you have any movie recommendations for me?</div></span>"
      ],
      "text/plain": [
       "<IPython.core.display.HTML object>"
      ]
     },
     "metadata": {},
     "output_type": "display_data"
    },
    {
     "name": "stdout",
     "output_type": "stream",
     "text": [
      "Since I enjoy I'm a Cyborg, But That's OK, The Call, and Shadowlands, do you have any movie recommendations for me? {'entities': [(14, 41, 'movie'), (43, 51, 'movie'), (57, 68, 'movie'), (92, 101, 'predicate')]}\n",
      "Missing movie label\n"
     ]
    },
    {
     "data": {
      "text/html": [
       "<span class=\"tex2jax_ignore\"><div class=\"entities\" style=\"line-height: 2.5; direction: ltr\">Since I enjoy \n",
       "<mark class=\"entity\" style=\"background: #ddd; padding: 0.45em 0.6em; margin: 0 0.25em; line-height: 1; border-radius: 0.35em;\">\n",
       "    The World Is Yours, Quo Vadis\n",
       "    <span style=\"font-size: 0.8em; font-weight: bold; line-height: 1; border-radius: 0.35em; vertical-align: middle; margin-left: 0.5rem\">movie</span>\n",
       "</mark>\n",
       ", \n",
       "<mark class=\"entity\" style=\"background: #ddd; padding: 0.45em 0.6em; margin: 0 0.25em; line-height: 1; border-radius: 0.35em;\">\n",
       "    Aida?\n",
       "    <span style=\"font-size: 0.8em; font-weight: bold; line-height: 1; border-radius: 0.35em; vertical-align: middle; margin-left: 0.5rem\">movie</span>\n",
       "</mark>\n",
       ", and \n",
       "<mark class=\"entity\" style=\"background: #ddd; padding: 0.45em 0.6em; margin: 0 0.25em; line-height: 1; border-radius: 0.35em;\">\n",
       "    Wal-Mart: The High Cost of Low Price\n",
       "    <span style=\"font-size: 0.8em; font-weight: bold; line-height: 1; border-radius: 0.35em; vertical-align: middle; margin-left: 0.5rem\">movie</span>\n",
       "</mark>\n",
       ", do you have any movie recommendations for me?</div></span>"
      ],
      "text/plain": [
       "<IPython.core.display.HTML object>"
      ]
     },
     "metadata": {},
     "output_type": "display_data"
    },
    {
     "name": "stdout",
     "output_type": "stream",
     "text": [
      "Since I enjoy The World Is Yours, Quo Vadis, Aida?, and Wal-Mart: The High Cost of Low Price, do you have any movie recommendations for me? {'entities': [(14, 32, 'movie'), (34, 50, 'movie'), (56, 92, 'movie'), (116, 125, 'predicate')]}\n",
      "Missing movie label\n"
     ]
    },
    {
     "data": {
      "text/html": [
       "<span class=\"tex2jax_ignore\"><div class=\"entities\" style=\"line-height: 2.5; direction: ltr\">Since I enjoy \n",
       "<mark class=\"entity\" style=\"background: #ddd; padding: 0.45em 0.6em; margin: 0 0.25em; line-height: 1; border-radius: 0.35em;\">\n",
       "    The World Is Yours, Quo Vadis\n",
       "    <span style=\"font-size: 0.8em; font-weight: bold; line-height: 1; border-radius: 0.35em; vertical-align: middle; margin-left: 0.5rem\">movie</span>\n",
       "</mark>\n",
       ", \n",
       "<mark class=\"entity\" style=\"background: #ddd; padding: 0.45em 0.6em; margin: 0 0.25em; line-height: 1; border-radius: 0.35em;\">\n",
       "    Aida?\n",
       "    <span style=\"font-size: 0.8em; font-weight: bold; line-height: 1; border-radius: 0.35em; vertical-align: middle; margin-left: 0.5rem\">movie</span>\n",
       "</mark>\n",
       ", and \n",
       "<mark class=\"entity\" style=\"background: #ddd; padding: 0.45em 0.6em; margin: 0 0.25em; line-height: 1; border-radius: 0.35em;\">\n",
       "    Wal-Mart: The High Cost of Low Price\n",
       "    <span style=\"font-size: 0.8em; font-weight: bold; line-height: 1; border-radius: 0.35em; vertical-align: middle; margin-left: 0.5rem\">movie</span>\n",
       "</mark>\n",
       ", do you have any movie recommendations for me?</div></span>"
      ],
      "text/plain": [
       "<IPython.core.display.HTML object>"
      ]
     },
     "metadata": {},
     "output_type": "display_data"
    },
    {
     "name": "stdout",
     "output_type": "stream",
     "text": [
      "Since I enjoy The World Is Yours, Quo Vadis, Aida?, and Wal-Mart: The High Cost of Low Price, do you have any movie recommendations for me? {'entities': [(14, 32, 'movie'), (34, 50, 'movie'), (56, 92, 'movie'), (116, 125, 'predicate')]}\n",
      "Missing movie label\n"
     ]
    },
    {
     "data": {
      "text/html": [
       "<span class=\"tex2jax_ignore\"><div class=\"entities\" style=\"line-height: 2.5; direction: ltr\">Since I enjoy \n",
       "<mark class=\"entity\" style=\"background: #ddd; padding: 0.45em 0.6em; margin: 0 0.25em; line-height: 1; border-radius: 0.35em;\">\n",
       "    Fresh,\n",
       "    <span style=\"font-size: 0.8em; font-weight: bold; line-height: 1; border-radius: 0.35em; vertical-align: middle; margin-left: 0.5rem\">movie</span>\n",
       "</mark>\n",
       " \n",
       "<mark class=\"entity\" style=\"background: #ddd; padding: 0.45em 0.6em; margin: 0 0.25em; line-height: 1; border-radius: 0.35em;\">\n",
       "    Don't Worry, He Won't Get Far on Foot\n",
       "    <span style=\"font-size: 0.8em; font-weight: bold; line-height: 1; border-radius: 0.35em; vertical-align: middle; margin-left: 0.5rem\">movie</span>\n",
       "</mark>\n",
       ", and \n",
       "<mark class=\"entity\" style=\"background: #ddd; padding: 0.45em 0.6em; margin: 0 0.25em; line-height: 1; border-radius: 0.35em;\">\n",
       "    Frogs for Snakes\n",
       "    <span style=\"font-size: 0.8em; font-weight: bold; line-height: 1; border-radius: 0.35em; vertical-align: middle; margin-left: 0.5rem\">movie</span>\n",
       "</mark>\n",
       ", do you have any movie recommendations for me?</div></span>"
      ],
      "text/plain": [
       "<IPython.core.display.HTML object>"
      ]
     },
     "metadata": {},
     "output_type": "display_data"
    },
    {
     "name": "stdout",
     "output_type": "stream",
     "text": [
      "Since I enjoy Fresh, Don't Worry, He Won't Get Far on Foot, and Frogs for Snakes, do you have any movie recommendations for me? {'entities': [(14, 19, 'movie'), (21, 58, 'movie'), (64, 80, 'movie'), (104, 113, 'predicate')]}\n",
      "Missing movie label\n"
     ]
    },
    {
     "data": {
      "text/html": [
       "<span class=\"tex2jax_ignore\"><div class=\"entities\" style=\"line-height: 2.5; direction: ltr\">Since I enjoy \n",
       "<mark class=\"entity\" style=\"background: #ddd; padding: 0.45em 0.6em; margin: 0 0.25em; line-height: 1; border-radius: 0.35em;\">\n",
       "    Death, Deceit\n",
       "    <span style=\"font-size: 0.8em; font-weight: bold; line-height: 1; border-radius: 0.35em; vertical-align: middle; margin-left: 0.5rem\">movie</span>\n",
       "</mark>\n",
       " and \n",
       "<mark class=\"entity\" style=\"background: #ddd; padding: 0.45em 0.6em; margin: 0 0.25em; line-height: 1; border-radius: 0.35em;\">\n",
       "    Destiny Aboard the Orient Express\n",
       "    <span style=\"font-size: 0.8em; font-weight: bold; line-height: 1; border-radius: 0.35em; vertical-align: middle; margin-left: 0.5rem\">movie</span>\n",
       "</mark>\n",
       ", \n",
       "<mark class=\"entity\" style=\"background: #ddd; padding: 0.45em 0.6em; margin: 0 0.25em; line-height: 1; border-radius: 0.35em;\">\n",
       "    Perrier's Bounty\n",
       "    <span style=\"font-size: 0.8em; font-weight: bold; line-height: 1; border-radius: 0.35em; vertical-align: middle; margin-left: 0.5rem\">movie</span>\n",
       "</mark>\n",
       ", and \n",
       "<mark class=\"entity\" style=\"background: #ddd; padding: 0.45em 0.6em; margin: 0 0.25em; line-height: 1; border-radius: 0.35em;\">\n",
       "    Tales of Terror\n",
       "    <span style=\"font-size: 0.8em; font-weight: bold; line-height: 1; border-radius: 0.35em; vertical-align: middle; margin-left: 0.5rem\">movie</span>\n",
       "</mark>\n",
       ", do you have any movie recommendations for me?</div></span>"
      ],
      "text/plain": [
       "<IPython.core.display.HTML object>"
      ]
     },
     "metadata": {},
     "output_type": "display_data"
    },
    {
     "name": "stdout",
     "output_type": "stream",
     "text": [
      "Since I enjoy Death, Deceit and Destiny Aboard the Orient Express, Perrier's Bounty, and Tales of Terror, do you have any movie recommendations for me? {'entities': [(14, 65, 'movie'), (67, 83, 'movie'), (89, 104, 'movie'), (128, 137, 'predicate')]}\n",
      "Missing movie label\n"
     ]
    },
    {
     "data": {
      "text/html": [
       "<span class=\"tex2jax_ignore\"><div class=\"entities\" style=\"line-height: 2.5; direction: ltr\">Since I enjoy \n",
       "<mark class=\"entity\" style=\"background: #ddd; padding: 0.45em 0.6em; margin: 0 0.25em; line-height: 1; border-radius: 0.35em;\">\n",
       "    Death, Deceit\n",
       "    <span style=\"font-size: 0.8em; font-weight: bold; line-height: 1; border-radius: 0.35em; vertical-align: middle; margin-left: 0.5rem\">movie</span>\n",
       "</mark>\n",
       " and \n",
       "<mark class=\"entity\" style=\"background: #ddd; padding: 0.45em 0.6em; margin: 0 0.25em; line-height: 1; border-radius: 0.35em;\">\n",
       "    Destiny Aboard the Orient Express\n",
       "    <span style=\"font-size: 0.8em; font-weight: bold; line-height: 1; border-radius: 0.35em; vertical-align: middle; margin-left: 0.5rem\">movie</span>\n",
       "</mark>\n",
       ", \n",
       "<mark class=\"entity\" style=\"background: #ddd; padding: 0.45em 0.6em; margin: 0 0.25em; line-height: 1; border-radius: 0.35em;\">\n",
       "    Perrier's Bounty\n",
       "    <span style=\"font-size: 0.8em; font-weight: bold; line-height: 1; border-radius: 0.35em; vertical-align: middle; margin-left: 0.5rem\">movie</span>\n",
       "</mark>\n",
       ", and \n",
       "<mark class=\"entity\" style=\"background: #ddd; padding: 0.45em 0.6em; margin: 0 0.25em; line-height: 1; border-radius: 0.35em;\">\n",
       "    Tales of Terror\n",
       "    <span style=\"font-size: 0.8em; font-weight: bold; line-height: 1; border-radius: 0.35em; vertical-align: middle; margin-left: 0.5rem\">movie</span>\n",
       "</mark>\n",
       ", do you have any movie recommendations for me?</div></span>"
      ],
      "text/plain": [
       "<IPython.core.display.HTML object>"
      ]
     },
     "metadata": {},
     "output_type": "display_data"
    },
    {
     "name": "stdout",
     "output_type": "stream",
     "text": [
      "Since I enjoy Death, Deceit and Destiny Aboard the Orient Express, Perrier's Bounty, and Tales of Terror, do you have any movie recommendations for me? {'entities': [(14, 65, 'movie'), (67, 83, 'movie'), (89, 104, 'movie'), (128, 137, 'predicate')]}\n",
      "Missing movie label\n"
     ]
    },
    {
     "data": {
      "text/html": [
       "<span class=\"tex2jax_ignore\"><div class=\"entities\" style=\"line-height: 2.5; direction: ltr\">Since I enjoy \n",
       "<mark class=\"entity\" style=\"background: #ddd; padding: 0.45em 0.6em; margin: 0 0.25em; line-height: 1; border-radius: 0.35em;\">\n",
       "    Deepfrozen\n",
       "    <span style=\"font-size: 0.8em; font-weight: bold; line-height: 1; border-radius: 0.35em; vertical-align: middle; margin-left: 0.5rem\">movie</span>\n",
       "</mark>\n",
       ", \n",
       "<mark class=\"entity\" style=\"background: #ddd; padding: 0.45em 0.6em; margin: 0 0.25em; line-height: 1; border-radius: 0.35em;\">\n",
       "    Simple Simon\n",
       "    <span style=\"font-size: 0.8em; font-weight: bold; line-height: 1; border-radius: 0.35em; vertical-align: middle; margin-left: 0.5rem\">movie</span>\n",
       "</mark>\n",
       ", and \n",
       "<mark class=\"entity\" style=\"background: #ddd; padding: 0.45em 0.6em; margin: 0 0.25em; line-height: 1; border-radius: 0.35em;\">\n",
       "    Simon\n",
       "    <span style=\"font-size: 0.8em; font-weight: bold; line-height: 1; border-radius: 0.35em; vertical-align: middle; margin-left: 0.5rem\">movie</span>\n",
       "</mark>\n",
       ", do you have any movie recommendations for me?</div></span>"
      ],
      "text/plain": [
       "<IPython.core.display.HTML object>"
      ]
     },
     "metadata": {},
     "output_type": "display_data"
    },
    {
     "name": "stdout",
     "output_type": "stream",
     "text": [
      "Since I enjoy Deepfrozen, Simple Simon, and Simon, do you have any movie recommendations for me? {'entities': [(14, 24, 'movie'), (26, 38, 'movie'), (33, 38, 'movie'), (73, 82, 'predicate')]}\n",
      "Missing movie label\n"
     ]
    },
    {
     "data": {
      "text/html": [
       "<span class=\"tex2jax_ignore\"><div class=\"entities\" style=\"line-height: 2.5; direction: ltr\">Since I enjoy \n",
       "<mark class=\"entity\" style=\"background: #ddd; padding: 0.45em 0.6em; margin: 0 0.25em; line-height: 1; border-radius: 0.35em;\">\n",
       "    Heaven Help Us\n",
       "    <span style=\"font-size: 0.8em; font-weight: bold; line-height: 1; border-radius: 0.35em; vertical-align: middle; margin-left: 0.5rem\">movie</span>\n",
       "</mark>\n",
       ", Distant Voices, \n",
       "<mark class=\"entity\" style=\"background: #ddd; padding: 0.45em 0.6em; margin: 0 0.25em; line-height: 1; border-radius: 0.35em;\">\n",
       "    Still Lives\n",
       "    <span style=\"font-size: 0.8em; font-weight: bold; line-height: 1; border-radius: 0.35em; vertical-align: middle; margin-left: 0.5rem\">movie</span>\n",
       "</mark>\n",
       ", and \n",
       "<mark class=\"entity\" style=\"background: #ddd; padding: 0.45em 0.6em; margin: 0 0.25em; line-height: 1; border-radius: 0.35em;\">\n",
       "    Lucky Break\n",
       "    <span style=\"font-size: 0.8em; font-weight: bold; line-height: 1; border-radius: 0.35em; vertical-align: middle; margin-left: 0.5rem\">movie</span>\n",
       "</mark>\n",
       ", do you have any movie recommendations for me?</div></span>"
      ],
      "text/plain": [
       "<IPython.core.display.HTML object>"
      ]
     },
     "metadata": {},
     "output_type": "display_data"
    },
    {
     "name": "stdout",
     "output_type": "stream",
     "text": [
      "Since I enjoy Heaven Help Us, Distant Voices, Still Lives, and Lucky Break, do you have any movie recommendations for me? {'entities': [(14, 28, 'movie'), (30, 57, 'movie'), (63, 74, 'movie'), (98, 107, 'predicate')]}\n",
      "Missing movie label\n"
     ]
    },
    {
     "data": {
      "text/html": [
       "<span class=\"tex2jax_ignore\"><div class=\"entities\" style=\"line-height: 2.5; direction: ltr\">Since I enjoy \n",
       "<mark class=\"entity\" style=\"background: #ddd; padding: 0.45em 0.6em; margin: 0 0.25em; line-height: 1; border-radius: 0.35em;\">\n",
       "    Safari – Match me if you can\n",
       "    <span style=\"font-size: 0.8em; font-weight: bold; line-height: 1; border-radius: 0.35em; vertical-align: middle; margin-left: 0.5rem\">movie</span>\n",
       "</mark>\n",
       ", \n",
       "<mark class=\"entity\" style=\"background: #ddd; padding: 0.45em 0.6em; margin: 0 0.25em; line-height: 1; border-radius: 0.35em;\">\n",
       "    Betrayal\n",
       "    <span style=\"font-size: 0.8em; font-weight: bold; line-height: 1; border-radius: 0.35em; vertical-align: middle; margin-left: 0.5rem\">genre</span>\n",
       "</mark>\n",
       ", and \n",
       "<mark class=\"entity\" style=\"background: #ddd; padding: 0.45em 0.6em; margin: 0 0.25em; line-height: 1; border-radius: 0.35em;\">\n",
       "    Seven Hours To Judgment\n",
       "    <span style=\"font-size: 0.8em; font-weight: bold; line-height: 1; border-radius: 0.35em; vertical-align: middle; margin-left: 0.5rem\">movie</span>\n",
       "</mark>\n",
       ", do you have any movie recommendations for me?</div></span>"
      ],
      "text/plain": [
       "<IPython.core.display.HTML object>"
      ]
     },
     "metadata": {},
     "output_type": "display_data"
    },
    {
     "name": "stdout",
     "output_type": "stream",
     "text": [
      "Since I enjoy Safari – Match me if you can, Betrayal, and Seven Hours To Judgment, do you have any movie recommendations for me? {'entities': [(14, 42, 'movie'), (44, 52, 'movie'), (58, 81, 'movie'), (105, 114, 'predicate')]}\n",
      "Missing genre label\n"
     ]
    },
    {
     "data": {
      "text/html": [
       "<span class=\"tex2jax_ignore\"><div class=\"entities\" style=\"line-height: 2.5; direction: ltr\">Since I enjoy \n",
       "<mark class=\"entity\" style=\"background: #ddd; padding: 0.45em 0.6em; margin: 0 0.25em; line-height: 1; border-radius: 0.35em;\">\n",
       "    Gothika\n",
       "    <span style=\"font-size: 0.8em; font-weight: bold; line-height: 1; border-radius: 0.35em; vertical-align: middle; margin-left: 0.5rem\">movie</span>\n",
       "</mark>\n",
       ", \n",
       "<mark class=\"entity\" style=\"background: #ddd; padding: 0.45em 0.6em; margin: 0 0.25em; line-height: 1; border-radius: 0.35em;\">\n",
       "    Ladybird, Ladybird, and Event Horizon\n",
       "    <span style=\"font-size: 0.8em; font-weight: bold; line-height: 1; border-radius: 0.35em; vertical-align: middle; margin-left: 0.5rem\">movie</span>\n",
       "</mark>\n",
       ", do you have any movie recommendations for me?</div></span>"
      ],
      "text/plain": [
       "<IPython.core.display.HTML object>"
      ]
     },
     "metadata": {},
     "output_type": "display_data"
    },
    {
     "name": "stdout",
     "output_type": "stream",
     "text": [
      "Since I enjoy Gothika, Ladybird, Ladybird, and Event Horizon, do you have any movie recommendations for me? {'entities': [(14, 21, 'movie'), (23, 41, 'movie'), (47, 60, 'movie'), (84, 93, 'predicate')]}\n",
      "Missing movie label\n"
     ]
    },
    {
     "data": {
      "text/html": [
       "<span class=\"tex2jax_ignore\"><div class=\"entities\" style=\"line-height: 2.5; direction: ltr\">Since I enjoy \n",
       "<mark class=\"entity\" style=\"background: #ddd; padding: 0.45em 0.6em; margin: 0 0.25em; line-height: 1; border-radius: 0.35em;\">\n",
       "    Benjamin\n",
       "    <span style=\"font-size: 0.8em; font-weight: bold; line-height: 1; border-radius: 0.35em; vertical-align: middle; margin-left: 0.5rem\">movie</span>\n",
       "</mark>\n",
       ", \n",
       "<mark class=\"entity\" style=\"background: #ddd; padding: 0.45em 0.6em; margin: 0 0.25em; line-height: 1; border-radius: 0.35em;\">\n",
       "    1, 2, 3, Sun, and\n",
       "    <span style=\"font-size: 0.8em; font-weight: bold; line-height: 1; border-radius: 0.35em; vertical-align: middle; margin-left: 0.5rem\">movie</span>\n",
       "</mark>\n",
       " \n",
       "<mark class=\"entity\" style=\"background: #ddd; padding: 0.45em 0.6em; margin: 0 0.25em; line-height: 1; border-radius: 0.35em;\">\n",
       "    The Outsider\n",
       "    <span style=\"font-size: 0.8em; font-weight: bold; line-height: 1; border-radius: 0.35em; vertical-align: middle; margin-left: 0.5rem\">movie</span>\n",
       "</mark>\n",
       ", do you have any movie recommendations for me?</div></span>"
      ],
      "text/plain": [
       "<IPython.core.display.HTML object>"
      ]
     },
     "metadata": {},
     "output_type": "display_data"
    },
    {
     "name": "stdout",
     "output_type": "stream",
     "text": [
      "Since I enjoy Benjamin, 1, 2, 3, Sun, and The Outsider, do you have any movie recommendations for me? {'entities': [(14, 22, 'movie'), (24, 36, 'movie'), (42, 54, 'movie'), (78, 87, 'predicate')]}\n",
      "Missing movie label\n"
     ]
    },
    {
     "data": {
      "text/html": [
       "<span class=\"tex2jax_ignore\"><div class=\"entities\" style=\"line-height: 2.5; direction: ltr\">Since I enjoy \n",
       "<mark class=\"entity\" style=\"background: #ddd; padding: 0.45em 0.6em; margin: 0 0.25em; line-height: 1; border-radius: 0.35em;\">\n",
       "    Jeff\n",
       "    <span style=\"font-size: 0.8em; font-weight: bold; line-height: 1; border-radius: 0.35em; vertical-align: middle; margin-left: 0.5rem\">movie</span>\n",
       "</mark>\n",
       ", Who Lives at Home, \n",
       "<mark class=\"entity\" style=\"background: #ddd; padding: 0.45em 0.6em; margin: 0 0.25em; line-height: 1; border-radius: 0.35em;\">\n",
       "    Cassandra's Dream\n",
       "    <span style=\"font-size: 0.8em; font-weight: bold; line-height: 1; border-radius: 0.35em; vertical-align: middle; margin-left: 0.5rem\">movie</span>\n",
       "</mark>\n",
       ", and \n",
       "<mark class=\"entity\" style=\"background: #ddd; padding: 0.45em 0.6em; margin: 0 0.25em; line-height: 1; border-radius: 0.35em;\">\n",
       "    Tenderness\n",
       "    <span style=\"font-size: 0.8em; font-weight: bold; line-height: 1; border-radius: 0.35em; vertical-align: middle; margin-left: 0.5rem\">movie</span>\n",
       "</mark>\n",
       ", do you have any movie recommendations for me?</div></span>"
      ],
      "text/plain": [
       "<IPython.core.display.HTML object>"
      ]
     },
     "metadata": {},
     "output_type": "display_data"
    },
    {
     "name": "stdout",
     "output_type": "stream",
     "text": [
      "Since I enjoy Jeff, Who Lives at Home, Cassandra's Dream, and Tenderness, do you have any movie recommendations for me? {'entities': [(14, 37, 'movie'), (39, 56, 'movie'), (62, 72, 'movie'), (96, 105, 'predicate')]}\n",
      "Missing movie label\n"
     ]
    },
    {
     "data": {
      "text/html": [
       "<span class=\"tex2jax_ignore\"><div class=\"entities\" style=\"line-height: 2.5; direction: ltr\">Since I enjoy \n",
       "<mark class=\"entity\" style=\"background: #ddd; padding: 0.45em 0.6em; margin: 0 0.25em; line-height: 1; border-radius: 0.35em;\">\n",
       "    Mama\n",
       "    <span style=\"font-size: 0.8em; font-weight: bold; line-height: 1; border-radius: 0.35em; vertical-align: middle; margin-left: 0.5rem\">movie</span>\n",
       "</mark>\n",
       ", \n",
       "<mark class=\"entity\" style=\"background: #ddd; padding: 0.45em 0.6em; margin: 0 0.25em; line-height: 1; border-radius: 0.35em;\">\n",
       "    I Want to Sing!\n",
       "    <span style=\"font-size: 0.8em; font-weight: bold; line-height: 1; border-radius: 0.35em; vertical-align: middle; margin-left: 0.5rem\">movie</span>\n",
       "</mark>\n",
       ", \n",
       "<mark class=\"entity\" style=\"background: #ddd; padding: 0.45em 0.6em; margin: 0 0.25em; line-height: 1; border-radius: 0.35em;\">\n",
       "    Reprise\n",
       "    <span style=\"font-size: 0.8em; font-weight: bold; line-height: 1; border-radius: 0.35em; vertical-align: middle; margin-left: 0.5rem\">movie</span>\n",
       "</mark>\n",
       ", and \n",
       "<mark class=\"entity\" style=\"background: #ddd; padding: 0.45em 0.6em; margin: 0 0.25em; line-height: 1; border-radius: 0.35em;\">\n",
       "    Holiday: A Soldier Is Never Off Duty\n",
       "    <span style=\"font-size: 0.8em; font-weight: bold; line-height: 1; border-radius: 0.35em; vertical-align: middle; margin-left: 0.5rem\">movie</span>\n",
       "</mark>\n",
       ", do you have any movie recommendations for me?</div></span>"
      ],
      "text/plain": [
       "<IPython.core.display.HTML object>"
      ]
     },
     "metadata": {},
     "output_type": "display_data"
    },
    {
     "name": "stdout",
     "output_type": "stream",
     "text": [
      "Since I enjoy Mama, I Want to Sing!, Reprise, and Holiday: A Soldier Is Never Off Duty, do you have any movie recommendations for me? {'entities': [(14, 35, 'movie'), (37, 44, 'movie'), (50, 86, 'movie'), (110, 119, 'predicate')]}\n",
      "Missing movie label\n"
     ]
    },
    {
     "data": {
      "text/html": [
       "<span class=\"tex2jax_ignore\"><div class=\"entities\" style=\"line-height: 2.5; direction: ltr\">Since I enjoy \n",
       "<mark class=\"entity\" style=\"background: #ddd; padding: 0.45em 0.6em; margin: 0 0.25em; line-height: 1; border-radius: 0.35em;\">\n",
       "    Mama\n",
       "    <span style=\"font-size: 0.8em; font-weight: bold; line-height: 1; border-radius: 0.35em; vertical-align: middle; margin-left: 0.5rem\">movie</span>\n",
       "</mark>\n",
       ", \n",
       "<mark class=\"entity\" style=\"background: #ddd; padding: 0.45em 0.6em; margin: 0 0.25em; line-height: 1; border-radius: 0.35em;\">\n",
       "    I Want to Sing!\n",
       "    <span style=\"font-size: 0.8em; font-weight: bold; line-height: 1; border-radius: 0.35em; vertical-align: middle; margin-left: 0.5rem\">movie</span>\n",
       "</mark>\n",
       ", \n",
       "<mark class=\"entity\" style=\"background: #ddd; padding: 0.45em 0.6em; margin: 0 0.25em; line-height: 1; border-radius: 0.35em;\">\n",
       "    Reprise\n",
       "    <span style=\"font-size: 0.8em; font-weight: bold; line-height: 1; border-radius: 0.35em; vertical-align: middle; margin-left: 0.5rem\">movie</span>\n",
       "</mark>\n",
       ", and \n",
       "<mark class=\"entity\" style=\"background: #ddd; padding: 0.45em 0.6em; margin: 0 0.25em; line-height: 1; border-radius: 0.35em;\">\n",
       "    Holiday: A Soldier Is Never Off Duty\n",
       "    <span style=\"font-size: 0.8em; font-weight: bold; line-height: 1; border-radius: 0.35em; vertical-align: middle; margin-left: 0.5rem\">movie</span>\n",
       "</mark>\n",
       ", do you have any movie recommendations for me?</div></span>"
      ],
      "text/plain": [
       "<IPython.core.display.HTML object>"
      ]
     },
     "metadata": {},
     "output_type": "display_data"
    },
    {
     "name": "stdout",
     "output_type": "stream",
     "text": [
      "Since I enjoy Mama, I Want to Sing!, Reprise, and Holiday: A Soldier Is Never Off Duty, do you have any movie recommendations for me? {'entities': [(14, 35, 'movie'), (37, 44, 'movie'), (50, 86, 'movie'), (110, 119, 'predicate')]}\n",
      "Missing movie label\n"
     ]
    },
    {
     "data": {
      "text/html": [
       "<span class=\"tex2jax_ignore\"><div class=\"entities\" style=\"line-height: 2.5; direction: ltr\">Since I enjoy \n",
       "<mark class=\"entity\" style=\"background: #ddd; padding: 0.45em 0.6em; margin: 0 0.25em; line-height: 1; border-radius: 0.35em;\">\n",
       "    Yes, Jay and\n",
       "    <span style=\"font-size: 0.8em; font-weight: bold; line-height: 1; border-radius: 0.35em; vertical-align: middle; margin-left: 0.5rem\">movie</span>\n",
       "</mark>\n",
       " \n",
       "<mark class=\"entity\" style=\"background: #ddd; padding: 0.45em 0.6em; margin: 0 0.25em; line-height: 1; border-radius: 0.35em;\">\n",
       "    Silent Bob Reboot\n",
       "    <span style=\"font-size: 0.8em; font-weight: bold; line-height: 1; border-radius: 0.35em; vertical-align: middle; margin-left: 0.5rem\">movie</span>\n",
       "</mark>\n",
       ", and \n",
       "<mark class=\"entity\" style=\"background: #ddd; padding: 0.45em 0.6em; margin: 0 0.25em; line-height: 1; border-radius: 0.35em;\">\n",
       "    Elina: As If I Wasn't There\n",
       "    <span style=\"font-size: 0.8em; font-weight: bold; line-height: 1; border-radius: 0.35em; vertical-align: middle; margin-left: 0.5rem\">movie</span>\n",
       "</mark>\n",
       ", do you have any movie recommendations for me?</div></span>"
      ],
      "text/plain": [
       "<IPython.core.display.HTML object>"
      ]
     },
     "metadata": {},
     "output_type": "display_data"
    },
    {
     "name": "stdout",
     "output_type": "stream",
     "text": [
      "Since I enjoy Yes, Jay and Silent Bob Reboot, and Elina: As If I Wasn't There, do you have any movie recommendations for me? {'entities': [(14, 17, 'movie'), (19, 44, 'movie'), (50, 77, 'movie'), (101, 110, 'predicate')]}\n",
      "Missing movie label\n"
     ]
    },
    {
     "data": {
      "text/html": [
       "<span class=\"tex2jax_ignore\"><div class=\"entities\" style=\"line-height: 2.5; direction: ltr\">Since I enjoy \n",
       "<mark class=\"entity\" style=\"background: #ddd; padding: 0.45em 0.6em; margin: 0 0.25em; line-height: 1; border-radius: 0.35em;\">\n",
       "    Yes, Jay and\n",
       "    <span style=\"font-size: 0.8em; font-weight: bold; line-height: 1; border-radius: 0.35em; vertical-align: middle; margin-left: 0.5rem\">movie</span>\n",
       "</mark>\n",
       " \n",
       "<mark class=\"entity\" style=\"background: #ddd; padding: 0.45em 0.6em; margin: 0 0.25em; line-height: 1; border-radius: 0.35em;\">\n",
       "    Silent Bob Reboot\n",
       "    <span style=\"font-size: 0.8em; font-weight: bold; line-height: 1; border-radius: 0.35em; vertical-align: middle; margin-left: 0.5rem\">movie</span>\n",
       "</mark>\n",
       ", and \n",
       "<mark class=\"entity\" style=\"background: #ddd; padding: 0.45em 0.6em; margin: 0 0.25em; line-height: 1; border-radius: 0.35em;\">\n",
       "    Elina: As If I Wasn't There\n",
       "    <span style=\"font-size: 0.8em; font-weight: bold; line-height: 1; border-radius: 0.35em; vertical-align: middle; margin-left: 0.5rem\">movie</span>\n",
       "</mark>\n",
       ", do you have any movie recommendations for me?</div></span>"
      ],
      "text/plain": [
       "<IPython.core.display.HTML object>"
      ]
     },
     "metadata": {},
     "output_type": "display_data"
    },
    {
     "name": "stdout",
     "output_type": "stream",
     "text": [
      "Since I enjoy Yes, Jay and Silent Bob Reboot, and Elina: As If I Wasn't There, do you have any movie recommendations for me? {'entities': [(14, 17, 'movie'), (19, 44, 'movie'), (50, 77, 'movie'), (101, 110, 'predicate')]}\n",
      "Missing movie label\n"
     ]
    },
    {
     "data": {
      "text/html": [
       "<span class=\"tex2jax_ignore\"><div class=\"entities\" style=\"line-height: 2.5; direction: ltr\">Since I enjoy \n",
       "<mark class=\"entity\" style=\"background: #ddd; padding: 0.45em 0.6em; margin: 0 0.25em; line-height: 1; border-radius: 0.35em;\">\n",
       "    The Opportunists\n",
       "    <span style=\"font-size: 0.8em; font-weight: bold; line-height: 1; border-radius: 0.35em; vertical-align: middle; margin-left: 0.5rem\">movie</span>\n",
       "</mark>\n",
       ", \n",
       "<mark class=\"entity\" style=\"background: #ddd; padding: 0.45em 0.6em; margin: 0 0.25em; line-height: 1; border-radius: 0.35em;\">\n",
       "    UHF\n",
       "    <span style=\"font-size: 0.8em; font-weight: bold; line-height: 1; border-radius: 0.35em; vertical-align: middle; margin-left: 0.5rem\">genre</span>\n",
       "</mark>\n",
       ", and \n",
       "<mark class=\"entity\" style=\"background: #ddd; padding: 0.45em 0.6em; margin: 0 0.25em; line-height: 1; border-radius: 0.35em;\">\n",
       "    It Runs in the Family\n",
       "    <span style=\"font-size: 0.8em; font-weight: bold; line-height: 1; border-radius: 0.35em; vertical-align: middle; margin-left: 0.5rem\">movie</span>\n",
       "</mark>\n",
       ", do you have any movie recommendations for me?</div></span>"
      ],
      "text/plain": [
       "<IPython.core.display.HTML object>"
      ]
     },
     "metadata": {},
     "output_type": "display_data"
    },
    {
     "name": "stdout",
     "output_type": "stream",
     "text": [
      "Since I enjoy The Opportunists, UHF, and It Runs in the Family, do you have any movie recommendations for me? {'entities': [(14, 30, 'movie'), (32, 35, 'movie'), (41, 62, 'movie'), (86, 95, 'predicate')]}\n",
      "Missing genre label\n"
     ]
    },
    {
     "data": {
      "text/html": [
       "<span class=\"tex2jax_ignore\"><div class=\"entities\" style=\"line-height: 2.5; direction: ltr\">Since I enjoy \n",
       "<mark class=\"entity\" style=\"background: #ddd; padding: 0.45em 0.6em; margin: 0 0.25em; line-height: 1; border-radius: 0.35em;\">\n",
       "    Abbott and\n",
       "    <span style=\"font-size: 0.8em; font-weight: bold; line-height: 1; border-radius: 0.35em; vertical-align: middle; margin-left: 0.5rem\">movie</span>\n",
       "</mark>\n",
       " \n",
       "<mark class=\"entity\" style=\"background: #ddd; padding: 0.45em 0.6em; margin: 0 0.25em; line-height: 1; border-radius: 0.35em;\">\n",
       "    Costello Meet the Invisible Man\n",
       "    <span style=\"font-size: 0.8em; font-weight: bold; line-height: 1; border-radius: 0.35em; vertical-align: middle; margin-left: 0.5rem\">movie</span>\n",
       "</mark>\n",
       ", \n",
       "<mark class=\"entity\" style=\"background: #ddd; padding: 0.45em 0.6em; margin: 0 0.25em; line-height: 1; border-radius: 0.35em;\">\n",
       "    Get Smart\n",
       "    <span style=\"font-size: 0.8em; font-weight: bold; line-height: 1; border-radius: 0.35em; vertical-align: middle; margin-left: 0.5rem\">movie</span>\n",
       "</mark>\n",
       ", and \n",
       "<mark class=\"entity\" style=\"background: #ddd; padding: 0.45em 0.6em; margin: 0 0.25em; line-height: 1; border-radius: 0.35em;\">\n",
       "    Madly in Love\n",
       "    <span style=\"font-size: 0.8em; font-weight: bold; line-height: 1; border-radius: 0.35em; vertical-align: middle; margin-left: 0.5rem\">movie</span>\n",
       "</mark>\n",
       ", do you have any movie recommendations for me?</div></span>"
      ],
      "text/plain": [
       "<IPython.core.display.HTML object>"
      ]
     },
     "metadata": {},
     "output_type": "display_data"
    },
    {
     "name": "stdout",
     "output_type": "stream",
     "text": [
      "Since I enjoy Abbott and Costello Meet the Invisible Man, Get Smart, and Madly in Love, do you have any movie recommendations for me? {'entities': [(14, 56, 'movie'), (58, 67, 'movie'), (73, 86, 'movie'), (110, 119, 'predicate')]}\n",
      "Missing movie label\n"
     ]
    },
    {
     "data": {
      "text/html": [
       "<span class=\"tex2jax_ignore\"><div class=\"entities\" style=\"line-height: 2.5; direction: ltr\">Since I enjoy \n",
       "<mark class=\"entity\" style=\"background: #ddd; padding: 0.45em 0.6em; margin: 0 0.25em; line-height: 1; border-radius: 0.35em;\">\n",
       "    Abbott and\n",
       "    <span style=\"font-size: 0.8em; font-weight: bold; line-height: 1; border-radius: 0.35em; vertical-align: middle; margin-left: 0.5rem\">movie</span>\n",
       "</mark>\n",
       " \n",
       "<mark class=\"entity\" style=\"background: #ddd; padding: 0.45em 0.6em; margin: 0 0.25em; line-height: 1; border-radius: 0.35em;\">\n",
       "    Costello Meet the Invisible Man\n",
       "    <span style=\"font-size: 0.8em; font-weight: bold; line-height: 1; border-radius: 0.35em; vertical-align: middle; margin-left: 0.5rem\">movie</span>\n",
       "</mark>\n",
       ", \n",
       "<mark class=\"entity\" style=\"background: #ddd; padding: 0.45em 0.6em; margin: 0 0.25em; line-height: 1; border-radius: 0.35em;\">\n",
       "    Get Smart\n",
       "    <span style=\"font-size: 0.8em; font-weight: bold; line-height: 1; border-radius: 0.35em; vertical-align: middle; margin-left: 0.5rem\">movie</span>\n",
       "</mark>\n",
       ", and \n",
       "<mark class=\"entity\" style=\"background: #ddd; padding: 0.45em 0.6em; margin: 0 0.25em; line-height: 1; border-radius: 0.35em;\">\n",
       "    Madly in Love\n",
       "    <span style=\"font-size: 0.8em; font-weight: bold; line-height: 1; border-radius: 0.35em; vertical-align: middle; margin-left: 0.5rem\">movie</span>\n",
       "</mark>\n",
       ", do you have any movie recommendations for me?</div></span>"
      ],
      "text/plain": [
       "<IPython.core.display.HTML object>"
      ]
     },
     "metadata": {},
     "output_type": "display_data"
    },
    {
     "name": "stdout",
     "output_type": "stream",
     "text": [
      "Since I enjoy Abbott and Costello Meet the Invisible Man, Get Smart, and Madly in Love, do you have any movie recommendations for me? {'entities': [(14, 56, 'movie'), (58, 67, 'movie'), (73, 86, 'movie'), (110, 119, 'predicate')]}\n",
      "Missing movie label\n"
     ]
    },
    {
     "data": {
      "text/html": [
       "<span class=\"tex2jax_ignore\"><div class=\"entities\" style=\"line-height: 2.5; direction: ltr\">Since I enjoy \n",
       "<mark class=\"entity\" style=\"background: #ddd; padding: 0.45em 0.6em; margin: 0 0.25em; line-height: 1; border-radius: 0.35em;\">\n",
       "    Trailer Park Boys: The Movie\n",
       "    <span style=\"font-size: 0.8em; font-weight: bold; line-height: 1; border-radius: 0.35em; vertical-align: middle; margin-left: 0.5rem\">movie</span>\n",
       "</mark>\n",
       ", \n",
       "<mark class=\"entity\" style=\"background: #ddd; padding: 0.45em 0.6em; margin: 0 0.25em; line-height: 1; border-radius: 0.35em;\">\n",
       "    Ladybird, Ladybird, and\n",
       "    <span style=\"font-size: 0.8em; font-weight: bold; line-height: 1; border-radius: 0.35em; vertical-align: middle; margin-left: 0.5rem\">movie</span>\n",
       "</mark>\n",
       " \n",
       "<mark class=\"entity\" style=\"background: #ddd; padding: 0.45em 0.6em; margin: 0 0.25em; line-height: 1; border-radius: 0.35em;\">\n",
       "    Bunuel and King Solomon's Table\n",
       "    <span style=\"font-size: 0.8em; font-weight: bold; line-height: 1; border-radius: 0.35em; vertical-align: middle; margin-left: 0.5rem\">movie</span>\n",
       "</mark>\n",
       ", do you have any movie recommendations for me?</div></span>"
      ],
      "text/plain": [
       "<IPython.core.display.HTML object>"
      ]
     },
     "metadata": {},
     "output_type": "display_data"
    },
    {
     "name": "stdout",
     "output_type": "stream",
     "text": [
      "Since I enjoy Trailer Park Boys: The Movie, Ladybird, Ladybird, and Bunuel and King Solomon's Table, do you have any movie recommendations for me? {'entities': [(14, 42, 'movie'), (44, 62, 'movie'), (68, 99, 'movie'), (123, 132, 'predicate')]}\n",
      "Missing movie label\n"
     ]
    },
    {
     "data": {
      "text/html": [
       "<span class=\"tex2jax_ignore\"><div class=\"entities\" style=\"line-height: 2.5; direction: ltr\">Since I enjoy \n",
       "<mark class=\"entity\" style=\"background: #ddd; padding: 0.45em 0.6em; margin: 0 0.25em; line-height: 1; border-radius: 0.35em;\">\n",
       "    Who's the Woman\n",
       "    <span style=\"font-size: 0.8em; font-weight: bold; line-height: 1; border-radius: 0.35em; vertical-align: middle; margin-left: 0.5rem\">movie</span>\n",
       "</mark>\n",
       ", \n",
       "<mark class=\"entity\" style=\"background: #ddd; padding: 0.45em 0.6em; margin: 0 0.25em; line-height: 1; border-radius: 0.35em;\">\n",
       "    Who's the Man?\n",
       "    <span style=\"font-size: 0.8em; font-weight: bold; line-height: 1; border-radius: 0.35em; vertical-align: middle; margin-left: 0.5rem\">movie</span>\n",
       "</mark>\n",
       ", \n",
       "<mark class=\"entity\" style=\"background: #ddd; padding: 0.45em 0.6em; margin: 0 0.25em; line-height: 1; border-radius: 0.35em;\">\n",
       "    Art Machine\n",
       "    <span style=\"font-size: 0.8em; font-weight: bold; line-height: 1; border-radius: 0.35em; vertical-align: middle; margin-left: 0.5rem\">movie</span>\n",
       "</mark>\n",
       ", and \n",
       "<mark class=\"entity\" style=\"background: #ddd; padding: 0.45em 0.6em; margin: 0 0.25em; line-height: 1; border-radius: 0.35em;\">\n",
       "    Sole a catinelle\n",
       "    <span style=\"font-size: 0.8em; font-weight: bold; line-height: 1; border-radius: 0.35em; vertical-align: middle; margin-left: 0.5rem\">movie</span>\n",
       "</mark>\n",
       ", do you have any movie recommendations for me?</div></span>"
      ],
      "text/plain": [
       "<IPython.core.display.HTML object>"
      ]
     },
     "metadata": {},
     "output_type": "display_data"
    },
    {
     "name": "stdout",
     "output_type": "stream",
     "text": [
      "Since I enjoy Who's the Woman, Who's the Man?, Art Machine, and Sole a catinelle, do you have any movie recommendations for me? {'entities': [(14, 45, 'movie'), (47, 58, 'movie'), (64, 80, 'movie'), (104, 113, 'predicate')]}\n",
      "Missing movie label\n"
     ]
    },
    {
     "data": {
      "text/html": [
       "<span class=\"tex2jax_ignore\"><div class=\"entities\" style=\"line-height: 2.5; direction: ltr\">Since I enjoy \n",
       "<mark class=\"entity\" style=\"background: #ddd; padding: 0.45em 0.6em; margin: 0 0.25em; line-height: 1; border-radius: 0.35em;\">\n",
       "    Who's the Woman\n",
       "    <span style=\"font-size: 0.8em; font-weight: bold; line-height: 1; border-radius: 0.35em; vertical-align: middle; margin-left: 0.5rem\">movie</span>\n",
       "</mark>\n",
       ", \n",
       "<mark class=\"entity\" style=\"background: #ddd; padding: 0.45em 0.6em; margin: 0 0.25em; line-height: 1; border-radius: 0.35em;\">\n",
       "    Who's the Man?\n",
       "    <span style=\"font-size: 0.8em; font-weight: bold; line-height: 1; border-radius: 0.35em; vertical-align: middle; margin-left: 0.5rem\">movie</span>\n",
       "</mark>\n",
       ", \n",
       "<mark class=\"entity\" style=\"background: #ddd; padding: 0.45em 0.6em; margin: 0 0.25em; line-height: 1; border-radius: 0.35em;\">\n",
       "    Art Machine\n",
       "    <span style=\"font-size: 0.8em; font-weight: bold; line-height: 1; border-radius: 0.35em; vertical-align: middle; margin-left: 0.5rem\">movie</span>\n",
       "</mark>\n",
       ", and \n",
       "<mark class=\"entity\" style=\"background: #ddd; padding: 0.45em 0.6em; margin: 0 0.25em; line-height: 1; border-radius: 0.35em;\">\n",
       "    Sole a catinelle\n",
       "    <span style=\"font-size: 0.8em; font-weight: bold; line-height: 1; border-radius: 0.35em; vertical-align: middle; margin-left: 0.5rem\">movie</span>\n",
       "</mark>\n",
       ", do you have any movie recommendations for me?</div></span>"
      ],
      "text/plain": [
       "<IPython.core.display.HTML object>"
      ]
     },
     "metadata": {},
     "output_type": "display_data"
    },
    {
     "name": "stdout",
     "output_type": "stream",
     "text": [
      "Since I enjoy Who's the Woman, Who's the Man?, Art Machine, and Sole a catinelle, do you have any movie recommendations for me? {'entities': [(14, 45, 'movie'), (47, 58, 'movie'), (64, 80, 'movie'), (104, 113, 'predicate')]}\n",
      "Missing movie label\n"
     ]
    },
    {
     "data": {
      "text/html": [
       "<span class=\"tex2jax_ignore\"><div class=\"entities\" style=\"line-height: 2.5; direction: ltr\">Since I enjoy \n",
       "<mark class=\"entity\" style=\"background: #ddd; padding: 0.45em 0.6em; margin: 0 0.25em; line-height: 1; border-radius: 0.35em;\">\n",
       "    The Zero Theorem, Pretty Village\n",
       "    <span style=\"font-size: 0.8em; font-weight: bold; line-height: 1; border-radius: 0.35em; vertical-align: middle; margin-left: 0.5rem\">movie</span>\n",
       "</mark>\n",
       ", \n",
       "<mark class=\"entity\" style=\"background: #ddd; padding: 0.45em 0.6em; margin: 0 0.25em; line-height: 1; border-radius: 0.35em;\">\n",
       "    Pretty Flame\n",
       "    <span style=\"font-size: 0.8em; font-weight: bold; line-height: 1; border-radius: 0.35em; vertical-align: middle; margin-left: 0.5rem\">movie</span>\n",
       "</mark>\n",
       ", and \n",
       "<mark class=\"entity\" style=\"background: #ddd; padding: 0.45em 0.6em; margin: 0 0.25em; line-height: 1; border-radius: 0.35em;\">\n",
       "    Glasblåsarns barn\n",
       "    <span style=\"font-size: 0.8em; font-weight: bold; line-height: 1; border-radius: 0.35em; vertical-align: middle; margin-left: 0.5rem\">movie</span>\n",
       "</mark>\n",
       ", do you have any movie recommendations for me?</div></span>"
      ],
      "text/plain": [
       "<IPython.core.display.HTML object>"
      ]
     },
     "metadata": {},
     "output_type": "display_data"
    },
    {
     "name": "stdout",
     "output_type": "stream",
     "text": [
      "Since I enjoy The Zero Theorem, Pretty Village, Pretty Flame, and Glasblåsarns barn, do you have any movie recommendations for me? {'entities': [(14, 30, 'movie'), (32, 60, 'movie'), (66, 83, 'movie'), (107, 116, 'predicate')]}\n",
      "Missing movie label\n"
     ]
    },
    {
     "data": {
      "text/html": [
       "<span class=\"tex2jax_ignore\"><div class=\"entities\" style=\"line-height: 2.5; direction: ltr\">Since I enjoy \n",
       "<mark class=\"entity\" style=\"background: #ddd; padding: 0.45em 0.6em; margin: 0 0.25em; line-height: 1; border-radius: 0.35em;\">\n",
       "    The Zero Theorem, Pretty Village\n",
       "    <span style=\"font-size: 0.8em; font-weight: bold; line-height: 1; border-radius: 0.35em; vertical-align: middle; margin-left: 0.5rem\">movie</span>\n",
       "</mark>\n",
       ", \n",
       "<mark class=\"entity\" style=\"background: #ddd; padding: 0.45em 0.6em; margin: 0 0.25em; line-height: 1; border-radius: 0.35em;\">\n",
       "    Pretty Flame\n",
       "    <span style=\"font-size: 0.8em; font-weight: bold; line-height: 1; border-radius: 0.35em; vertical-align: middle; margin-left: 0.5rem\">movie</span>\n",
       "</mark>\n",
       ", and \n",
       "<mark class=\"entity\" style=\"background: #ddd; padding: 0.45em 0.6em; margin: 0 0.25em; line-height: 1; border-radius: 0.35em;\">\n",
       "    Glasblåsarns barn\n",
       "    <span style=\"font-size: 0.8em; font-weight: bold; line-height: 1; border-radius: 0.35em; vertical-align: middle; margin-left: 0.5rem\">movie</span>\n",
       "</mark>\n",
       ", do you have any movie recommendations for me?</div></span>"
      ],
      "text/plain": [
       "<IPython.core.display.HTML object>"
      ]
     },
     "metadata": {},
     "output_type": "display_data"
    },
    {
     "name": "stdout",
     "output_type": "stream",
     "text": [
      "Since I enjoy The Zero Theorem, Pretty Village, Pretty Flame, and Glasblåsarns barn, do you have any movie recommendations for me? {'entities': [(14, 30, 'movie'), (32, 60, 'movie'), (66, 83, 'movie'), (107, 116, 'predicate')]}\n",
      "Missing movie label\n"
     ]
    },
    {
     "data": {
      "text/html": [
       "<span class=\"tex2jax_ignore\"><div class=\"entities\" style=\"line-height: 2.5; direction: ltr\">Since I enjoy \n",
       "<mark class=\"entity\" style=\"background: #ddd; padding: 0.45em 0.6em; margin: 0 0.25em; line-height: 1; border-radius: 0.35em;\">\n",
       "    I Saw the Sun\n",
       "    <span style=\"font-size: 0.8em; font-weight: bold; line-height: 1; border-radius: 0.35em; vertical-align: middle; margin-left: 0.5rem\">movie</span>\n",
       "</mark>\n",
       ", \n",
       "<mark class=\"entity\" style=\"background: #ddd; padding: 0.45em 0.6em; margin: 0 0.25em; line-height: 1; border-radius: 0.35em;\">\n",
       "    Journey into Fear\n",
       "    <span style=\"font-size: 0.8em; font-weight: bold; line-height: 1; border-radius: 0.35em; vertical-align: middle; margin-left: 0.5rem\">movie</span>\n",
       "</mark>\n",
       ", and \n",
       "<mark class=\"entity\" style=\"background: #ddd; padding: 0.45em 0.6em; margin: 0 0.25em; line-height: 1; border-radius: 0.35em;\">\n",
       "    Jo\n",
       "    <span style=\"font-size: 0.8em; font-weight: bold; line-height: 1; border-radius: 0.35em; vertical-align: middle; margin-left: 0.5rem\">movie</span>\n",
       "</mark>\n",
       ", do you have any movie recommendations for me?</div></span>"
      ],
      "text/plain": [
       "<IPython.core.display.HTML object>"
      ]
     },
     "metadata": {},
     "output_type": "display_data"
    },
    {
     "name": "stdout",
     "output_type": "stream",
     "text": [
      "Since I enjoy I Saw the Sun, Journey into Fear, and Jo, do you have any movie recommendations for me? {'entities': [(14, 27, 'movie'), (29, 46, 'movie'), (29, 31, 'movie'), (78, 87, 'predicate')]}\n",
      "Missing movie label\n"
     ]
    },
    {
     "data": {
      "text/html": [
       "<span class=\"tex2jax_ignore\"><div class=\"entities\" style=\"line-height: 2.5; direction: ltr\">Since I enjoy \n",
       "<mark class=\"entity\" style=\"background: #ddd; padding: 0.45em 0.6em; margin: 0 0.25em; line-height: 1; border-radius: 0.35em;\">\n",
       "    Master and\n",
       "    <span style=\"font-size: 0.8em; font-weight: bold; line-height: 1; border-radius: 0.35em; vertical-align: middle; margin-left: 0.5rem\">movie</span>\n",
       "</mark>\n",
       " \n",
       "<mark class=\"entity\" style=\"background: #ddd; padding: 0.45em 0.6em; margin: 0 0.25em; line-height: 1; border-radius: 0.35em;\">\n",
       "    Commander: The Far Side of the World\n",
       "    <span style=\"font-size: 0.8em; font-weight: bold; line-height: 1; border-radius: 0.35em; vertical-align: middle; margin-left: 0.5rem\">movie</span>\n",
       "</mark>\n",
       ", \n",
       "<mark class=\"entity\" style=\"background: #ddd; padding: 0.45em 0.6em; margin: 0 0.25em; line-height: 1; border-radius: 0.35em;\">\n",
       "    Zyzzyx Road\n",
       "    <span style=\"font-size: 0.8em; font-weight: bold; line-height: 1; border-radius: 0.35em; vertical-align: middle; margin-left: 0.5rem\">movie</span>\n",
       "</mark>\n",
       ", and \n",
       "<mark class=\"entity\" style=\"background: #ddd; padding: 0.45em 0.6em; margin: 0 0.25em; line-height: 1; border-radius: 0.35em;\">\n",
       "    War of the Buttons\n",
       "    <span style=\"font-size: 0.8em; font-weight: bold; line-height: 1; border-radius: 0.35em; vertical-align: middle; margin-left: 0.5rem\">movie</span>\n",
       "</mark>\n",
       ", do you have any movie recommendations for me?</div></span>"
      ],
      "text/plain": [
       "<IPython.core.display.HTML object>"
      ]
     },
     "metadata": {},
     "output_type": "display_data"
    },
    {
     "name": "stdout",
     "output_type": "stream",
     "text": [
      "Since I enjoy Master and Commander: The Far Side of the World, Zyzzyx Road, and War of the Buttons, do you have any movie recommendations for me? {'entities': [(14, 61, 'movie'), (63, 74, 'movie'), (80, 98, 'movie'), (122, 131, 'predicate')]}\n",
      "Missing movie label\n"
     ]
    },
    {
     "data": {
      "text/html": [
       "<span class=\"tex2jax_ignore\"><div class=\"entities\" style=\"line-height: 2.5; direction: ltr\">Since I enjoy \n",
       "<mark class=\"entity\" style=\"background: #ddd; padding: 0.45em 0.6em; margin: 0 0.25em; line-height: 1; border-radius: 0.35em;\">\n",
       "    Master and\n",
       "    <span style=\"font-size: 0.8em; font-weight: bold; line-height: 1; border-radius: 0.35em; vertical-align: middle; margin-left: 0.5rem\">movie</span>\n",
       "</mark>\n",
       " \n",
       "<mark class=\"entity\" style=\"background: #ddd; padding: 0.45em 0.6em; margin: 0 0.25em; line-height: 1; border-radius: 0.35em;\">\n",
       "    Commander: The Far Side of the World\n",
       "    <span style=\"font-size: 0.8em; font-weight: bold; line-height: 1; border-radius: 0.35em; vertical-align: middle; margin-left: 0.5rem\">movie</span>\n",
       "</mark>\n",
       ", \n",
       "<mark class=\"entity\" style=\"background: #ddd; padding: 0.45em 0.6em; margin: 0 0.25em; line-height: 1; border-radius: 0.35em;\">\n",
       "    Zyzzyx Road\n",
       "    <span style=\"font-size: 0.8em; font-weight: bold; line-height: 1; border-radius: 0.35em; vertical-align: middle; margin-left: 0.5rem\">movie</span>\n",
       "</mark>\n",
       ", and \n",
       "<mark class=\"entity\" style=\"background: #ddd; padding: 0.45em 0.6em; margin: 0 0.25em; line-height: 1; border-radius: 0.35em;\">\n",
       "    War of the Buttons\n",
       "    <span style=\"font-size: 0.8em; font-weight: bold; line-height: 1; border-radius: 0.35em; vertical-align: middle; margin-left: 0.5rem\">movie</span>\n",
       "</mark>\n",
       ", do you have any movie recommendations for me?</div></span>"
      ],
      "text/plain": [
       "<IPython.core.display.HTML object>"
      ]
     },
     "metadata": {},
     "output_type": "display_data"
    },
    {
     "name": "stdout",
     "output_type": "stream",
     "text": [
      "Since I enjoy Master and Commander: The Far Side of the World, Zyzzyx Road, and War of the Buttons, do you have any movie recommendations for me? {'entities': [(14, 61, 'movie'), (63, 74, 'movie'), (80, 98, 'movie'), (122, 131, 'predicate')]}\n",
      "Missing movie label\n"
     ]
    },
    {
     "data": {
      "text/html": [
       "<span class=\"tex2jax_ignore\"><div class=\"entities\" style=\"line-height: 2.5; direction: ltr\">Since I enjoy \n",
       "<mark class=\"entity\" style=\"background: #ddd; padding: 0.45em 0.6em; margin: 0 0.25em; line-height: 1; border-radius: 0.35em;\">\n",
       "    Silent Night\n",
       "    <span style=\"font-size: 0.8em; font-weight: bold; line-height: 1; border-radius: 0.35em; vertical-align: middle; margin-left: 0.5rem\">movie</span>\n",
       "</mark>\n",
       ", \n",
       "<mark class=\"entity\" style=\"background: #ddd; padding: 0.45em 0.6em; margin: 0 0.25em; line-height: 1; border-radius: 0.35em;\">\n",
       "    Deadly Night 3: Better Watch Out!\n",
       "    <span style=\"font-size: 0.8em; font-weight: bold; line-height: 1; border-radius: 0.35em; vertical-align: middle; margin-left: 0.5rem\">movie</span>\n",
       "</mark>\n",
       ", \n",
       "<mark class=\"entity\" style=\"background: #ddd; padding: 0.45em 0.6em; margin: 0 0.25em; line-height: 1; border-radius: 0.35em;\">\n",
       "    Les Francis\n",
       "    <span style=\"font-size: 0.8em; font-weight: bold; line-height: 1; border-radius: 0.35em; vertical-align: middle; margin-left: 0.5rem\">movie</span>\n",
       "</mark>\n",
       ", and \n",
       "<mark class=\"entity\" style=\"background: #ddd; padding: 0.45em 0.6em; margin: 0 0.25em; line-height: 1; border-radius: 0.35em;\">\n",
       "    Enemies in Love\n",
       "    <span style=\"font-size: 0.8em; font-weight: bold; line-height: 1; border-radius: 0.35em; vertical-align: middle; margin-left: 0.5rem\">movie</span>\n",
       "</mark>\n",
       ", do you have any movie recommendations for me?</div></span>"
      ],
      "text/plain": [
       "<IPython.core.display.HTML object>"
      ]
     },
     "metadata": {},
     "output_type": "display_data"
    },
    {
     "name": "stdout",
     "output_type": "stream",
     "text": [
      "Since I enjoy Silent Night, Deadly Night 3: Better Watch Out!, Les Francis, and Enemies in Love, do you have any movie recommendations for me? {'entities': [(14, 61, 'movie'), (63, 74, 'movie'), (80, 95, 'movie'), (119, 128, 'predicate')]}\n",
      "Missing movie label\n"
     ]
    },
    {
     "data": {
      "text/html": [
       "<span class=\"tex2jax_ignore\"><div class=\"entities\" style=\"line-height: 2.5; direction: ltr\">Since I enjoy \n",
       "<mark class=\"entity\" style=\"background: #ddd; padding: 0.45em 0.6em; margin: 0 0.25em; line-height: 1; border-radius: 0.35em;\">\n",
       "    Silent Night\n",
       "    <span style=\"font-size: 0.8em; font-weight: bold; line-height: 1; border-radius: 0.35em; vertical-align: middle; margin-left: 0.5rem\">movie</span>\n",
       "</mark>\n",
       ", \n",
       "<mark class=\"entity\" style=\"background: #ddd; padding: 0.45em 0.6em; margin: 0 0.25em; line-height: 1; border-radius: 0.35em;\">\n",
       "    Deadly Night 3: Better Watch Out!\n",
       "    <span style=\"font-size: 0.8em; font-weight: bold; line-height: 1; border-radius: 0.35em; vertical-align: middle; margin-left: 0.5rem\">movie</span>\n",
       "</mark>\n",
       ", \n",
       "<mark class=\"entity\" style=\"background: #ddd; padding: 0.45em 0.6em; margin: 0 0.25em; line-height: 1; border-radius: 0.35em;\">\n",
       "    Les Francis\n",
       "    <span style=\"font-size: 0.8em; font-weight: bold; line-height: 1; border-radius: 0.35em; vertical-align: middle; margin-left: 0.5rem\">movie</span>\n",
       "</mark>\n",
       ", and \n",
       "<mark class=\"entity\" style=\"background: #ddd; padding: 0.45em 0.6em; margin: 0 0.25em; line-height: 1; border-radius: 0.35em;\">\n",
       "    Enemies in Love\n",
       "    <span style=\"font-size: 0.8em; font-weight: bold; line-height: 1; border-radius: 0.35em; vertical-align: middle; margin-left: 0.5rem\">movie</span>\n",
       "</mark>\n",
       ", do you have any movie recommendations for me?</div></span>"
      ],
      "text/plain": [
       "<IPython.core.display.HTML object>"
      ]
     },
     "metadata": {},
     "output_type": "display_data"
    },
    {
     "name": "stdout",
     "output_type": "stream",
     "text": [
      "Since I enjoy Silent Night, Deadly Night 3: Better Watch Out!, Les Francis, and Enemies in Love, do you have any movie recommendations for me? {'entities': [(14, 61, 'movie'), (63, 74, 'movie'), (80, 95, 'movie'), (119, 128, 'predicate')]}\n",
      "Missing movie label\n"
     ]
    },
    {
     "data": {
      "text/html": [
       "<span class=\"tex2jax_ignore\"><div class=\"entities\" style=\"line-height: 2.5; direction: ltr\">Since I enjoy \n",
       "<mark class=\"entity\" style=\"background: #ddd; padding: 0.45em 0.6em; margin: 0 0.25em; line-height: 1; border-radius: 0.35em;\">\n",
       "    Bob le flambeur\n",
       "    <span style=\"font-size: 0.8em; font-weight: bold; line-height: 1; border-radius: 0.35em; vertical-align: middle; margin-left: 0.5rem\">movie</span>\n",
       "</mark>\n",
       ", \n",
       "<mark class=\"entity\" style=\"background: #ddd; padding: 0.45em 0.6em; margin: 0 0.25em; line-height: 1; border-radius: 0.35em;\">\n",
       "    Outrage\n",
       "    <span style=\"font-size: 0.8em; font-weight: bold; line-height: 1; border-radius: 0.35em; vertical-align: middle; margin-left: 0.5rem\">genre</span>\n",
       "</mark>\n",
       ", and \n",
       "<mark class=\"entity\" style=\"background: #ddd; padding: 0.45em 0.6em; margin: 0 0.25em; line-height: 1; border-radius: 0.35em;\">\n",
       "    X-Men: Apocalypse\n",
       "    <span style=\"font-size: 0.8em; font-weight: bold; line-height: 1; border-radius: 0.35em; vertical-align: middle; margin-left: 0.5rem\">movie</span>\n",
       "</mark>\n",
       ", do you have any movie recommendations for me?</div></span>"
      ],
      "text/plain": [
       "<IPython.core.display.HTML object>"
      ]
     },
     "metadata": {},
     "output_type": "display_data"
    },
    {
     "name": "stdout",
     "output_type": "stream",
     "text": [
      "Since I enjoy Bob le flambeur, Outrage, and X-Men: Apocalypse, do you have any movie recommendations for me? {'entities': [(14, 29, 'movie'), (31, 38, 'movie'), (44, 61, 'movie'), (85, 94, 'predicate')]}\n",
      "Missing genre label\n"
     ]
    },
    {
     "data": {
      "text/html": [
       "<span class=\"tex2jax_ignore\"><div class=\"entities\" style=\"line-height: 2.5; direction: ltr\">Since I enjoy \n",
       "<mark class=\"entity\" style=\"background: #ddd; padding: 0.45em 0.6em; margin: 0 0.25em; line-height: 1; border-radius: 0.35em;\">\n",
       "    Sex\n",
       "    <span style=\"font-size: 0.8em; font-weight: bold; line-height: 1; border-radius: 0.35em; vertical-align: middle; margin-left: 0.5rem\">movie</span>\n",
       "</mark>\n",
       ", Lies, and Videotape, \n",
       "<mark class=\"entity\" style=\"background: #ddd; padding: 0.45em 0.6em; margin: 0 0.25em; line-height: 1; border-radius: 0.35em;\">\n",
       "    You Are the Apple of My Eye\n",
       "    <span style=\"font-size: 0.8em; font-weight: bold; line-height: 1; border-radius: 0.35em; vertical-align: middle; margin-left: 0.5rem\">movie</span>\n",
       "</mark>\n",
       ", and \n",
       "<mark class=\"entity\" style=\"background: #ddd; padding: 0.45em 0.6em; margin: 0 0.25em; line-height: 1; border-radius: 0.35em;\">\n",
       "    In Hell\n",
       "    <span style=\"font-size: 0.8em; font-weight: bold; line-height: 1; border-radius: 0.35em; vertical-align: middle; margin-left: 0.5rem\">movie</span>\n",
       "</mark>\n",
       ", do you have any movie recommendations for me?</div></span>"
      ],
      "text/plain": [
       "<IPython.core.display.HTML object>"
      ]
     },
     "metadata": {},
     "output_type": "display_data"
    },
    {
     "name": "stdout",
     "output_type": "stream",
     "text": [
      "Since I enjoy Sex, Lies, and Videotape, You Are the Apple of My Eye, and In Hell, do you have any movie recommendations for me? {'entities': [(14, 38, 'movie'), (40, 67, 'movie'), (73, 80, 'movie'), (104, 113, 'predicate')]}\n",
      "Missing movie label\n"
     ]
    },
    {
     "data": {
      "text/html": [
       "<span class=\"tex2jax_ignore\"><div class=\"entities\" style=\"line-height: 2.5; direction: ltr\">Since I enjoy \n",
       "<mark class=\"entity\" style=\"background: #ddd; padding: 0.45em 0.6em; margin: 0 0.25em; line-height: 1; border-radius: 0.35em;\">\n",
       "    Wolverine XXX - An Axel Braun XXX Parody\n",
       "    <span style=\"font-size: 0.8em; font-weight: bold; line-height: 1; border-radius: 0.35em; vertical-align: middle; margin-left: 0.5rem\">movie</span>\n",
       "</mark>\n",
       ", \n",
       "<mark class=\"entity\" style=\"background: #ddd; padding: 0.45em 0.6em; margin: 0 0.25em; line-height: 1; border-radius: 0.35em;\">\n",
       "    J. Edgar\n",
       "    <span style=\"font-size: 0.8em; font-weight: bold; line-height: 1; border-radius: 0.35em; vertical-align: middle; margin-left: 0.5rem\">movie</span>\n",
       "</mark>\n",
       ", and \n",
       "<mark class=\"entity\" style=\"background: #ddd; padding: 0.45em 0.6em; margin: 0 0.25em; line-height: 1; border-radius: 0.35em;\">\n",
       "    Yu-Gi-Oh!: Bonds Beyond Time\n",
       "    <span style=\"font-size: 0.8em; font-weight: bold; line-height: 1; border-radius: 0.35em; vertical-align: middle; margin-left: 0.5rem\">name</span>\n",
       "</mark>\n",
       ", do you have any movie recommendations for me?</div></span>"
      ],
      "text/plain": [
       "<IPython.core.display.HTML object>"
      ]
     },
     "metadata": {},
     "output_type": "display_data"
    },
    {
     "name": "stdout",
     "output_type": "stream",
     "text": [
      "Since I enjoy Wolverine XXX - An Axel Braun XXX Parody, J. Edgar, and Yu-Gi-Oh!: Bonds Beyond Time, do you have any movie recommendations for me? {'entities': [(14, 54, 'movie'), (56, 64, 'movie'), (70, 98, 'movie'), (122, 131, 'predicate')]}\n",
      "Missing name label\n"
     ]
    },
    {
     "data": {
      "text/html": [
       "<span class=\"tex2jax_ignore\"><div class=\"entities\" style=\"line-height: 2.5; direction: ltr\">Since I enjoy \n",
       "<mark class=\"entity\" style=\"background: #ddd; padding: 0.45em 0.6em; margin: 0 0.25em; line-height: 1; border-radius: 0.35em;\">\n",
       "    Jekyll and\n",
       "    <span style=\"font-size: 0.8em; font-weight: bold; line-height: 1; border-radius: 0.35em; vertical-align: middle; margin-left: 0.5rem\">movie</span>\n",
       "</mark>\n",
       " Hyde... Together Again, \n",
       "<mark class=\"entity\" style=\"background: #ddd; padding: 0.45em 0.6em; margin: 0 0.25em; line-height: 1; border-radius: 0.35em;\">\n",
       "    Freddy vs. Jason\n",
       "    <span style=\"font-size: 0.8em; font-weight: bold; line-height: 1; border-radius: 0.35em; vertical-align: middle; margin-left: 0.5rem\">movie</span>\n",
       "</mark>\n",
       ", and \n",
       "<mark class=\"entity\" style=\"background: #ddd; padding: 0.45em 0.6em; margin: 0 0.25em; line-height: 1; border-radius: 0.35em;\">\n",
       "    Breakfast of Champions\n",
       "    <span style=\"font-size: 0.8em; font-weight: bold; line-height: 1; border-radius: 0.35em; vertical-align: middle; margin-left: 0.5rem\">movie</span>\n",
       "</mark>\n",
       ", do you have any movie recommendations for me?</div></span>"
      ],
      "text/plain": [
       "<IPython.core.display.HTML object>"
      ]
     },
     "metadata": {},
     "output_type": "display_data"
    },
    {
     "name": "stdout",
     "output_type": "stream",
     "text": [
      "Since I enjoy Jekyll and Hyde... Together Again, Freddy vs. Jason, and Breakfast of Champions, do you have any movie recommendations for me? {'entities': [(14, 47, 'movie'), (49, 65, 'movie'), (71, 93, 'movie'), (117, 126, 'predicate')]}\n",
      "Missing movie label\n"
     ]
    },
    {
     "data": {
      "text/html": [
       "<span class=\"tex2jax_ignore\"><div class=\"entities\" style=\"line-height: 2.5; direction: ltr\">Since I enjoy \n",
       "<mark class=\"entity\" style=\"background: #ddd; padding: 0.45em 0.6em; margin: 0 0.25em; line-height: 1; border-radius: 0.35em;\">\n",
       "    To Wong Foo\n",
       "    <span style=\"font-size: 0.8em; font-weight: bold; line-height: 1; border-radius: 0.35em; vertical-align: middle; margin-left: 0.5rem\">movie</span>\n",
       "</mark>\n",
       ", \n",
       "<mark class=\"entity\" style=\"background: #ddd; padding: 0.45em 0.6em; margin: 0 0.25em; line-height: 1; border-radius: 0.35em;\">\n",
       "    Thanks for Everything! Julie Newmar\n",
       "    <span style=\"font-size: 0.8em; font-weight: bold; line-height: 1; border-radius: 0.35em; vertical-align: middle; margin-left: 0.5rem\">movie</span>\n",
       "</mark>\n",
       ", \n",
       "<mark class=\"entity\" style=\"background: #ddd; padding: 0.45em 0.6em; margin: 0 0.25em; line-height: 1; border-radius: 0.35em;\">\n",
       "    Trouble Every Day\n",
       "    <span style=\"font-size: 0.8em; font-weight: bold; line-height: 1; border-radius: 0.35em; vertical-align: middle; margin-left: 0.5rem\">movie</span>\n",
       "</mark>\n",
       ", and \n",
       "<mark class=\"entity\" style=\"background: #ddd; padding: 0.45em 0.6em; margin: 0 0.25em; line-height: 1; border-radius: 0.35em;\">\n",
       "    Captain America: The First Avenger\n",
       "    <span style=\"font-size: 0.8em; font-weight: bold; line-height: 1; border-radius: 0.35em; vertical-align: middle; margin-left: 0.5rem\">movie</span>\n",
       "</mark>\n",
       ", do you have any movie recommendations for me?</div></span>"
      ],
      "text/plain": [
       "<IPython.core.display.HTML object>"
      ]
     },
     "metadata": {},
     "output_type": "display_data"
    },
    {
     "name": "stdout",
     "output_type": "stream",
     "text": [
      "Since I enjoy To Wong Foo, Thanks for Everything! Julie Newmar, Trouble Every Day, and Captain America: The First Avenger, do you have any movie recommendations for me? {'entities': [(14, 62, 'movie'), (64, 81, 'movie'), (87, 121, 'movie'), (145, 154, 'predicate')]}\n",
      "Missing movie label\n"
     ]
    },
    {
     "data": {
      "text/html": [
       "<span class=\"tex2jax_ignore\"><div class=\"entities\" style=\"line-height: 2.5; direction: ltr\">Since I enjoy \n",
       "<mark class=\"entity\" style=\"background: #ddd; padding: 0.45em 0.6em; margin: 0 0.25em; line-height: 1; border-radius: 0.35em;\">\n",
       "    To Wong Foo\n",
       "    <span style=\"font-size: 0.8em; font-weight: bold; line-height: 1; border-radius: 0.35em; vertical-align: middle; margin-left: 0.5rem\">movie</span>\n",
       "</mark>\n",
       ", \n",
       "<mark class=\"entity\" style=\"background: #ddd; padding: 0.45em 0.6em; margin: 0 0.25em; line-height: 1; border-radius: 0.35em;\">\n",
       "    Thanks for Everything! Julie Newmar\n",
       "    <span style=\"font-size: 0.8em; font-weight: bold; line-height: 1; border-radius: 0.35em; vertical-align: middle; margin-left: 0.5rem\">movie</span>\n",
       "</mark>\n",
       ", \n",
       "<mark class=\"entity\" style=\"background: #ddd; padding: 0.45em 0.6em; margin: 0 0.25em; line-height: 1; border-radius: 0.35em;\">\n",
       "    Trouble Every Day\n",
       "    <span style=\"font-size: 0.8em; font-weight: bold; line-height: 1; border-radius: 0.35em; vertical-align: middle; margin-left: 0.5rem\">movie</span>\n",
       "</mark>\n",
       ", and \n",
       "<mark class=\"entity\" style=\"background: #ddd; padding: 0.45em 0.6em; margin: 0 0.25em; line-height: 1; border-radius: 0.35em;\">\n",
       "    Captain America: The First Avenger\n",
       "    <span style=\"font-size: 0.8em; font-weight: bold; line-height: 1; border-radius: 0.35em; vertical-align: middle; margin-left: 0.5rem\">movie</span>\n",
       "</mark>\n",
       ", do you have any movie recommendations for me?</div></span>"
      ],
      "text/plain": [
       "<IPython.core.display.HTML object>"
      ]
     },
     "metadata": {},
     "output_type": "display_data"
    },
    {
     "name": "stdout",
     "output_type": "stream",
     "text": [
      "Since I enjoy To Wong Foo, Thanks for Everything! Julie Newmar, Trouble Every Day, and Captain America: The First Avenger, do you have any movie recommendations for me? {'entities': [(14, 62, 'movie'), (64, 81, 'movie'), (87, 121, 'movie'), (145, 154, 'predicate')]}\n",
      "Missing movie label\n"
     ]
    },
    {
     "data": {
      "text/html": [
       "<span class=\"tex2jax_ignore\"><div class=\"entities\" style=\"line-height: 2.5; direction: ltr\">Since I enjoy \n",
       "<mark class=\"entity\" style=\"background: #ddd; padding: 0.45em 0.6em; margin: 0 0.25em; line-height: 1; border-radius: 0.35em;\">\n",
       "    Romy and\n",
       "    <span style=\"font-size: 0.8em; font-weight: bold; line-height: 1; border-radius: 0.35em; vertical-align: middle; margin-left: 0.5rem\">movie</span>\n",
       "</mark>\n",
       " \n",
       "<mark class=\"entity\" style=\"background: #ddd; padding: 0.45em 0.6em; margin: 0 0.25em; line-height: 1; border-radius: 0.35em;\">\n",
       "    Michele's High School Reunion\n",
       "    <span style=\"font-size: 0.8em; font-weight: bold; line-height: 1; border-radius: 0.35em; vertical-align: middle; margin-left: 0.5rem\">movie</span>\n",
       "</mark>\n",
       ", \n",
       "<mark class=\"entity\" style=\"background: #ddd; padding: 0.45em 0.6em; margin: 0 0.25em; line-height: 1; border-radius: 0.35em;\">\n",
       "    Compulsion\n",
       "    <span style=\"font-size: 0.8em; font-weight: bold; line-height: 1; border-radius: 0.35em; vertical-align: middle; margin-left: 0.5rem\">movie</span>\n",
       "</mark>\n",
       ", and \n",
       "<mark class=\"entity\" style=\"background: #ddd; padding: 0.45em 0.6em; margin: 0 0.25em; line-height: 1; border-radius: 0.35em;\">\n",
       "    The List\n",
       "    <span style=\"font-size: 0.8em; font-weight: bold; line-height: 1; border-radius: 0.35em; vertical-align: middle; margin-left: 0.5rem\">movie</span>\n",
       "</mark>\n",
       ", do you have any movie recommendations for me?</div></span>"
      ],
      "text/plain": [
       "<IPython.core.display.HTML object>"
      ]
     },
     "metadata": {},
     "output_type": "display_data"
    },
    {
     "name": "stdout",
     "output_type": "stream",
     "text": [
      "Since I enjoy Romy and Michele's High School Reunion, Compulsion, and The List, do you have any movie recommendations for me? {'entities': [(14, 52, 'movie'), (54, 64, 'movie'), (70, 78, 'movie'), (102, 111, 'predicate')]}\n",
      "Missing movie label\n"
     ]
    },
    {
     "data": {
      "text/html": [
       "<span class=\"tex2jax_ignore\"><div class=\"entities\" style=\"line-height: 2.5; direction: ltr\">Since I enjoy \n",
       "<mark class=\"entity\" style=\"background: #ddd; padding: 0.45em 0.6em; margin: 0 0.25em; line-height: 1; border-radius: 0.35em;\">\n",
       "    Romy and\n",
       "    <span style=\"font-size: 0.8em; font-weight: bold; line-height: 1; border-radius: 0.35em; vertical-align: middle; margin-left: 0.5rem\">movie</span>\n",
       "</mark>\n",
       " \n",
       "<mark class=\"entity\" style=\"background: #ddd; padding: 0.45em 0.6em; margin: 0 0.25em; line-height: 1; border-radius: 0.35em;\">\n",
       "    Michele's High School Reunion\n",
       "    <span style=\"font-size: 0.8em; font-weight: bold; line-height: 1; border-radius: 0.35em; vertical-align: middle; margin-left: 0.5rem\">movie</span>\n",
       "</mark>\n",
       ", \n",
       "<mark class=\"entity\" style=\"background: #ddd; padding: 0.45em 0.6em; margin: 0 0.25em; line-height: 1; border-radius: 0.35em;\">\n",
       "    Compulsion\n",
       "    <span style=\"font-size: 0.8em; font-weight: bold; line-height: 1; border-radius: 0.35em; vertical-align: middle; margin-left: 0.5rem\">movie</span>\n",
       "</mark>\n",
       ", and \n",
       "<mark class=\"entity\" style=\"background: #ddd; padding: 0.45em 0.6em; margin: 0 0.25em; line-height: 1; border-radius: 0.35em;\">\n",
       "    The List\n",
       "    <span style=\"font-size: 0.8em; font-weight: bold; line-height: 1; border-radius: 0.35em; vertical-align: middle; margin-left: 0.5rem\">movie</span>\n",
       "</mark>\n",
       ", do you have any movie recommendations for me?</div></span>"
      ],
      "text/plain": [
       "<IPython.core.display.HTML object>"
      ]
     },
     "metadata": {},
     "output_type": "display_data"
    },
    {
     "name": "stdout",
     "output_type": "stream",
     "text": [
      "Since I enjoy Romy and Michele's High School Reunion, Compulsion, and The List, do you have any movie recommendations for me? {'entities': [(14, 52, 'movie'), (54, 64, 'movie'), (70, 78, 'movie'), (102, 111, 'predicate')]}\n",
      "Missing movie label\n"
     ]
    },
    {
     "data": {
      "text/html": [
       "<span class=\"tex2jax_ignore\"><div class=\"entities\" style=\"line-height: 2.5; direction: ltr\">Since I enjoy \n",
       "<mark class=\"entity\" style=\"background: #ddd; padding: 0.45em 0.6em; margin: 0 0.25em; line-height: 1; border-radius: 0.35em;\">\n",
       "    Muxmäuschenstill, Fine\n",
       "    <span style=\"font-size: 0.8em; font-weight: bold; line-height: 1; border-radius: 0.35em; vertical-align: middle; margin-left: 0.5rem\">movie</span>\n",
       "</mark>\n",
       ", \n",
       "<mark class=\"entity\" style=\"background: #ddd; padding: 0.45em 0.6em; margin: 0 0.25em; line-height: 1; border-radius: 0.35em;\">\n",
       "    Totally Fine\n",
       "    <span style=\"font-size: 0.8em; font-weight: bold; line-height: 1; border-radius: 0.35em; vertical-align: middle; margin-left: 0.5rem\">movie</span>\n",
       "</mark>\n",
       ", and \n",
       "<mark class=\"entity\" style=\"background: #ddd; padding: 0.45em 0.6em; margin: 0 0.25em; line-height: 1; border-radius: 0.35em;\">\n",
       "    Africa Paradis\n",
       "    <span style=\"font-size: 0.8em; font-weight: bold; line-height: 1; border-radius: 0.35em; vertical-align: middle; margin-left: 0.5rem\">movie</span>\n",
       "</mark>\n",
       ", do you have any movie recommendations for me?</div></span>"
      ],
      "text/plain": [
       "<IPython.core.display.HTML object>"
      ]
     },
     "metadata": {},
     "output_type": "display_data"
    },
    {
     "name": "stdout",
     "output_type": "stream",
     "text": [
      "Since I enjoy Muxmäuschenstill, Fine, Totally Fine, and Africa Paradis, do you have any movie recommendations for me? {'entities': [(14, 30, 'movie'), (32, 50, 'movie'), (56, 70, 'movie'), (94, 103, 'predicate')]}\n",
      "Missing movie label\n"
     ]
    },
    {
     "data": {
      "text/html": [
       "<span class=\"tex2jax_ignore\"><div class=\"entities\" style=\"line-height: 2.5; direction: ltr\">Since I enjoy \n",
       "<mark class=\"entity\" style=\"background: #ddd; padding: 0.45em 0.6em; margin: 0 0.25em; line-height: 1; border-radius: 0.35em;\">\n",
       "    Muxmäuschenstill, Fine\n",
       "    <span style=\"font-size: 0.8em; font-weight: bold; line-height: 1; border-radius: 0.35em; vertical-align: middle; margin-left: 0.5rem\">movie</span>\n",
       "</mark>\n",
       ", \n",
       "<mark class=\"entity\" style=\"background: #ddd; padding: 0.45em 0.6em; margin: 0 0.25em; line-height: 1; border-radius: 0.35em;\">\n",
       "    Totally Fine\n",
       "    <span style=\"font-size: 0.8em; font-weight: bold; line-height: 1; border-radius: 0.35em; vertical-align: middle; margin-left: 0.5rem\">movie</span>\n",
       "</mark>\n",
       ", and \n",
       "<mark class=\"entity\" style=\"background: #ddd; padding: 0.45em 0.6em; margin: 0 0.25em; line-height: 1; border-radius: 0.35em;\">\n",
       "    Africa Paradis\n",
       "    <span style=\"font-size: 0.8em; font-weight: bold; line-height: 1; border-radius: 0.35em; vertical-align: middle; margin-left: 0.5rem\">movie</span>\n",
       "</mark>\n",
       ", do you have any movie recommendations for me?</div></span>"
      ],
      "text/plain": [
       "<IPython.core.display.HTML object>"
      ]
     },
     "metadata": {},
     "output_type": "display_data"
    },
    {
     "name": "stdout",
     "output_type": "stream",
     "text": [
      "Since I enjoy Muxmäuschenstill, Fine, Totally Fine, and Africa Paradis, do you have any movie recommendations for me? {'entities': [(14, 30, 'movie'), (32, 50, 'movie'), (56, 70, 'movie'), (94, 103, 'predicate')]}\n",
      "Missing movie label\n"
     ]
    },
    {
     "data": {
      "text/html": [
       "<span class=\"tex2jax_ignore\"><div class=\"entities\" style=\"line-height: 2.5; direction: ltr\">Since I enjoy \n",
       "<mark class=\"entity\" style=\"background: #ddd; padding: 0.45em 0.6em; margin: 0 0.25em; line-height: 1; border-radius: 0.35em;\">\n",
       "    Elvira,\n",
       "    <span style=\"font-size: 0.8em; font-weight: bold; line-height: 1; border-radius: 0.35em; vertical-align: middle; margin-left: 0.5rem\">movie</span>\n",
       "</mark>\n",
       " \n",
       "<mark class=\"entity\" style=\"background: #ddd; padding: 0.45em 0.6em; margin: 0 0.25em; line-height: 1; border-radius: 0.35em;\">\n",
       "    te daría mi vida pero la estoy usando\n",
       "    <span style=\"font-size: 0.8em; font-weight: bold; line-height: 1; border-radius: 0.35em; vertical-align: middle; margin-left: 0.5rem\">movie</span>\n",
       "</mark>\n",
       ", \n",
       "<mark class=\"entity\" style=\"background: #ddd; padding: 0.45em 0.6em; margin: 0 0.25em; line-height: 1; border-radius: 0.35em;\">\n",
       "    Fifty\n",
       "    <span style=\"font-size: 0.8em; font-weight: bold; line-height: 1; border-radius: 0.35em; vertical-align: middle; margin-left: 0.5rem\">movie</span>\n",
       "</mark>\n",
       ", and \n",
       "<mark class=\"entity\" style=\"background: #ddd; padding: 0.45em 0.6em; margin: 0 0.25em; line-height: 1; border-radius: 0.35em;\">\n",
       "    Mr. Six\n",
       "    <span style=\"font-size: 0.8em; font-weight: bold; line-height: 1; border-radius: 0.35em; vertical-align: middle; margin-left: 0.5rem\">movie</span>\n",
       "</mark>\n",
       ", do you have any movie recommendations for me?</div></span>"
      ],
      "text/plain": [
       "<IPython.core.display.HTML object>"
      ]
     },
     "metadata": {},
     "output_type": "display_data"
    },
    {
     "name": "stdout",
     "output_type": "stream",
     "text": [
      "Since I enjoy Elvira, te daría mi vida pero la estoy usando, Fifty, and Mr. Six, do you have any movie recommendations for me? {'entities': [(14, 59, 'movie'), (61, 66, 'movie'), (72, 79, 'movie'), (103, 112, 'predicate')]}\n",
      "Missing movie label\n"
     ]
    },
    {
     "data": {
      "text/html": [
       "<span class=\"tex2jax_ignore\"><div class=\"entities\" style=\"line-height: 2.5; direction: ltr\">Since I enjoy \n",
       "<mark class=\"entity\" style=\"background: #ddd; padding: 0.45em 0.6em; margin: 0 0.25em; line-height: 1; border-radius: 0.35em;\">\n",
       "    Elvira,\n",
       "    <span style=\"font-size: 0.8em; font-weight: bold; line-height: 1; border-radius: 0.35em; vertical-align: middle; margin-left: 0.5rem\">movie</span>\n",
       "</mark>\n",
       " \n",
       "<mark class=\"entity\" style=\"background: #ddd; padding: 0.45em 0.6em; margin: 0 0.25em; line-height: 1; border-radius: 0.35em;\">\n",
       "    te daría mi vida pero la estoy usando\n",
       "    <span style=\"font-size: 0.8em; font-weight: bold; line-height: 1; border-radius: 0.35em; vertical-align: middle; margin-left: 0.5rem\">movie</span>\n",
       "</mark>\n",
       ", \n",
       "<mark class=\"entity\" style=\"background: #ddd; padding: 0.45em 0.6em; margin: 0 0.25em; line-height: 1; border-radius: 0.35em;\">\n",
       "    Fifty\n",
       "    <span style=\"font-size: 0.8em; font-weight: bold; line-height: 1; border-radius: 0.35em; vertical-align: middle; margin-left: 0.5rem\">movie</span>\n",
       "</mark>\n",
       ", and \n",
       "<mark class=\"entity\" style=\"background: #ddd; padding: 0.45em 0.6em; margin: 0 0.25em; line-height: 1; border-radius: 0.35em;\">\n",
       "    Mr. Six\n",
       "    <span style=\"font-size: 0.8em; font-weight: bold; line-height: 1; border-radius: 0.35em; vertical-align: middle; margin-left: 0.5rem\">movie</span>\n",
       "</mark>\n",
       ", do you have any movie recommendations for me?</div></span>"
      ],
      "text/plain": [
       "<IPython.core.display.HTML object>"
      ]
     },
     "metadata": {},
     "output_type": "display_data"
    },
    {
     "name": "stdout",
     "output_type": "stream",
     "text": [
      "Since I enjoy Elvira, te daría mi vida pero la estoy usando, Fifty, and Mr. Six, do you have any movie recommendations for me? {'entities': [(14, 59, 'movie'), (61, 66, 'movie'), (72, 79, 'movie'), (103, 112, 'predicate')]}\n",
      "Missing movie label\n"
     ]
    },
    {
     "data": {
      "text/html": [
       "<span class=\"tex2jax_ignore\"><div class=\"entities\" style=\"line-height: 2.5; direction: ltr\">Since I enjoy \n",
       "<mark class=\"entity\" style=\"background: #ddd; padding: 0.45em 0.6em; margin: 0 0.25em; line-height: 1; border-radius: 0.35em;\">\n",
       "    Iqbal Farooq\n",
       "    <span style=\"font-size: 0.8em; font-weight: bold; line-height: 1; border-radius: 0.35em; vertical-align: middle; margin-left: 0.5rem\">movie</span>\n",
       "</mark>\n",
       " and The Secret Recipe, \n",
       "<mark class=\"entity\" style=\"background: #ddd; padding: 0.45em 0.6em; margin: 0 0.25em; line-height: 1; border-radius: 0.35em;\">\n",
       "    Spawn\n",
       "    <span style=\"font-size: 0.8em; font-weight: bold; line-height: 1; border-radius: 0.35em; vertical-align: middle; margin-left: 0.5rem\">movie</span>\n",
       "</mark>\n",
       ", and \n",
       "<mark class=\"entity\" style=\"background: #ddd; padding: 0.45em 0.6em; margin: 0 0.25em; line-height: 1; border-radius: 0.35em;\">\n",
       "    Smiley Face\n",
       "    <span style=\"font-size: 0.8em; font-weight: bold; line-height: 1; border-radius: 0.35em; vertical-align: middle; margin-left: 0.5rem\">movie</span>\n",
       "</mark>\n",
       ", do you have any movie recommendations for me?</div></span>"
      ],
      "text/plain": [
       "<IPython.core.display.HTML object>"
      ]
     },
     "metadata": {},
     "output_type": "display_data"
    },
    {
     "name": "stdout",
     "output_type": "stream",
     "text": [
      "Since I enjoy Iqbal Farooq and The Secret Recipe, Spawn, and Smiley Face, do you have any movie recommendations for me? {'entities': [(14, 48, 'movie'), (50, 55, 'movie'), (61, 72, 'movie'), (96, 105, 'predicate')]}\n",
      "Missing movie label\n"
     ]
    },
    {
     "data": {
      "text/html": [
       "<span class=\"tex2jax_ignore\"><div class=\"entities\" style=\"line-height: 2.5; direction: ltr\">Since I enjoy \n",
       "<mark class=\"entity\" style=\"background: #ddd; padding: 0.45em 0.6em; margin: 0 0.25em; line-height: 1; border-radius: 0.35em;\">\n",
       "    Chill Out\n",
       "    <span style=\"font-size: 0.8em; font-weight: bold; line-height: 1; border-radius: 0.35em; vertical-align: middle; margin-left: 0.5rem\">movie</span>\n",
       "</mark>\n",
       ", \n",
       "<mark class=\"entity\" style=\"background: #ddd; padding: 0.45em 0.6em; margin: 0 0.25em; line-height: 1; border-radius: 0.35em;\">\n",
       "    Scooby-Doo!\n",
       "    <span style=\"font-size: 0.8em; font-weight: bold; line-height: 1; border-radius: 0.35em; vertical-align: middle; margin-left: 0.5rem\">movie</span>\n",
       "</mark>\n",
       ", \n",
       "<mark class=\"entity\" style=\"background: #ddd; padding: 0.45em 0.6em; margin: 0 0.25em; line-height: 1; border-radius: 0.35em;\">\n",
       "    Thief\n",
       "    <span style=\"font-size: 0.8em; font-weight: bold; line-height: 1; border-radius: 0.35em; vertical-align: middle; margin-left: 0.5rem\">movie</span>\n",
       "</mark>\n",
       ", and \n",
       "<mark class=\"entity\" style=\"background: #ddd; padding: 0.45em 0.6em; margin: 0 0.25em; line-height: 1; border-radius: 0.35em;\">\n",
       "    Devil in the Flesh\n",
       "    <span style=\"font-size: 0.8em; font-weight: bold; line-height: 1; border-radius: 0.35em; vertical-align: middle; margin-left: 0.5rem\">movie</span>\n",
       "</mark>\n",
       ", do you have any movie recommendations for me?</div></span>"
      ],
      "text/plain": [
       "<IPython.core.display.HTML object>"
      ]
     },
     "metadata": {},
     "output_type": "display_data"
    },
    {
     "name": "stdout",
     "output_type": "stream",
     "text": [
      "Since I enjoy Chill Out, Scooby-Doo!, Thief, and Devil in the Flesh, do you have any movie recommendations for me? {'entities': [(14, 36, 'movie'), (38, 43, 'movie'), (49, 67, 'movie'), (91, 100, 'predicate')]}\n",
      "Missing movie label\n"
     ]
    },
    {
     "data": {
      "text/html": [
       "<span class=\"tex2jax_ignore\"><div class=\"entities\" style=\"line-height: 2.5; direction: ltr\">Since I enjoy \n",
       "<mark class=\"entity\" style=\"background: #ddd; padding: 0.45em 0.6em; margin: 0 0.25em; line-height: 1; border-radius: 0.35em;\">\n",
       "    Chill Out\n",
       "    <span style=\"font-size: 0.8em; font-weight: bold; line-height: 1; border-radius: 0.35em; vertical-align: middle; margin-left: 0.5rem\">movie</span>\n",
       "</mark>\n",
       ", \n",
       "<mark class=\"entity\" style=\"background: #ddd; padding: 0.45em 0.6em; margin: 0 0.25em; line-height: 1; border-radius: 0.35em;\">\n",
       "    Scooby-Doo!\n",
       "    <span style=\"font-size: 0.8em; font-weight: bold; line-height: 1; border-radius: 0.35em; vertical-align: middle; margin-left: 0.5rem\">movie</span>\n",
       "</mark>\n",
       ", \n",
       "<mark class=\"entity\" style=\"background: #ddd; padding: 0.45em 0.6em; margin: 0 0.25em; line-height: 1; border-radius: 0.35em;\">\n",
       "    Thief\n",
       "    <span style=\"font-size: 0.8em; font-weight: bold; line-height: 1; border-radius: 0.35em; vertical-align: middle; margin-left: 0.5rem\">movie</span>\n",
       "</mark>\n",
       ", and \n",
       "<mark class=\"entity\" style=\"background: #ddd; padding: 0.45em 0.6em; margin: 0 0.25em; line-height: 1; border-radius: 0.35em;\">\n",
       "    Devil in the Flesh\n",
       "    <span style=\"font-size: 0.8em; font-weight: bold; line-height: 1; border-radius: 0.35em; vertical-align: middle; margin-left: 0.5rem\">movie</span>\n",
       "</mark>\n",
       ", do you have any movie recommendations for me?</div></span>"
      ],
      "text/plain": [
       "<IPython.core.display.HTML object>"
      ]
     },
     "metadata": {},
     "output_type": "display_data"
    },
    {
     "name": "stdout",
     "output_type": "stream",
     "text": [
      "Since I enjoy Chill Out, Scooby-Doo!, Thief, and Devil in the Flesh, do you have any movie recommendations for me? {'entities': [(14, 36, 'movie'), (38, 43, 'movie'), (49, 67, 'movie'), (91, 100, 'predicate')]}\n",
      "Missing movie label\n"
     ]
    },
    {
     "data": {
      "text/html": [
       "<span class=\"tex2jax_ignore\"><div class=\"entities\" style=\"line-height: 2.5; direction: ltr\">Since I enjoy \n",
       "<mark class=\"entity\" style=\"background: #ddd; padding: 0.45em 0.6em; margin: 0 0.25em; line-height: 1; border-radius: 0.35em;\">\n",
       "    2012 Doomsday\n",
       "    <span style=\"font-size: 0.8em; font-weight: bold; line-height: 1; border-radius: 0.35em; vertical-align: middle; margin-left: 0.5rem\">movie</span>\n",
       "</mark>\n",
       ", \n",
       "<mark class=\"entity\" style=\"background: #ddd; padding: 0.45em 0.6em; margin: 0 0.25em; line-height: 1; border-radius: 0.35em;\">\n",
       "    Meteor\n",
       "    <span style=\"font-size: 0.8em; font-weight: bold; line-height: 1; border-radius: 0.35em; vertical-align: middle; margin-left: 0.5rem\">movie</span>\n",
       "</mark>\n",
       ", and \n",
       "<mark class=\"entity\" style=\"background: #ddd; padding: 0.45em 0.6em; margin: 0 0.25em; line-height: 1; border-radius: 0.35em;\">\n",
       "    Doom\n",
       "    <span style=\"font-size: 0.8em; font-weight: bold; line-height: 1; border-radius: 0.35em; vertical-align: middle; margin-left: 0.5rem\">movie</span>\n",
       "</mark>\n",
       ", do you have any movie recommendations for me?</div></span>"
      ],
      "text/plain": [
       "<IPython.core.display.HTML object>"
      ]
     },
     "metadata": {},
     "output_type": "display_data"
    },
    {
     "name": "stdout",
     "output_type": "stream",
     "text": [
      "Since I enjoy 2012 Doomsday, Meteor, and Doom, do you have any movie recommendations for me? {'entities': [(14, 27, 'movie'), (29, 35, 'movie'), (19, 23, 'movie'), (69, 78, 'predicate')]}\n",
      "Missing movie label\n"
     ]
    },
    {
     "data": {
      "text/html": [
       "<span class=\"tex2jax_ignore\"><div class=\"entities\" style=\"line-height: 2.5; direction: ltr\">Since I enjoy \n",
       "<mark class=\"entity\" style=\"background: #ddd; padding: 0.45em 0.6em; margin: 0 0.25em; line-height: 1; border-radius: 0.35em;\">\n",
       "    Fun with Dick and Jane\n",
       "    <span style=\"font-size: 0.8em; font-weight: bold; line-height: 1; border-radius: 0.35em; vertical-align: middle; margin-left: 0.5rem\">movie</span>\n",
       "</mark>\n",
       ", \n",
       "<mark class=\"entity\" style=\"background: #ddd; padding: 0.45em 0.6em; margin: 0 0.25em; line-height: 1; border-radius: 0.35em;\">\n",
       "    Polyester\n",
       "    <span style=\"font-size: 0.8em; font-weight: bold; line-height: 1; border-radius: 0.35em; vertical-align: middle; margin-left: 0.5rem\">genre</span>\n",
       "</mark>\n",
       ", and \n",
       "<mark class=\"entity\" style=\"background: #ddd; padding: 0.45em 0.6em; margin: 0 0.25em; line-height: 1; border-radius: 0.35em;\">\n",
       "    Troubled Water\n",
       "    <span style=\"font-size: 0.8em; font-weight: bold; line-height: 1; border-radius: 0.35em; vertical-align: middle; margin-left: 0.5rem\">movie</span>\n",
       "</mark>\n",
       ", do you have any movie recommendations for me?</div></span>"
      ],
      "text/plain": [
       "<IPython.core.display.HTML object>"
      ]
     },
     "metadata": {},
     "output_type": "display_data"
    },
    {
     "name": "stdout",
     "output_type": "stream",
     "text": [
      "Since I enjoy Fun with Dick and Jane, Polyester, and Troubled Water, do you have any movie recommendations for me? {'entities': [(14, 36, 'movie'), (38, 47, 'movie'), (53, 67, 'movie'), (91, 100, 'predicate')]}\n",
      "Missing genre label\n"
     ]
    },
    {
     "data": {
      "text/html": [
       "<span class=\"tex2jax_ignore\"><div class=\"entities\" style=\"line-height: 2.5; direction: ltr\">Since I enjoy \n",
       "<mark class=\"entity\" style=\"background: #ddd; padding: 0.45em 0.6em; margin: 0 0.25em; line-height: 1; border-radius: 0.35em;\">\n",
       "    Silent Night\n",
       "    <span style=\"font-size: 0.8em; font-weight: bold; line-height: 1; border-radius: 0.35em; vertical-align: middle; margin-left: 0.5rem\">movie</span>\n",
       "</mark>\n",
       ", Deadly Night Part 2, \n",
       "<mark class=\"entity\" style=\"background: #ddd; padding: 0.45em 0.6em; margin: 0 0.25em; line-height: 1; border-radius: 0.35em;\">\n",
       "    Amy\n",
       "    <span style=\"font-size: 0.8em; font-weight: bold; line-height: 1; border-radius: 0.35em; vertical-align: middle; margin-left: 0.5rem\">movie</span>\n",
       "</mark>\n",
       ", and \n",
       "<mark class=\"entity\" style=\"background: #ddd; padding: 0.45em 0.6em; margin: 0 0.25em; line-height: 1; border-radius: 0.35em;\">\n",
       "    Peter Bell II: The Hunt for the Czar Crown\n",
       "    <span style=\"font-size: 0.8em; font-weight: bold; line-height: 1; border-radius: 0.35em; vertical-align: middle; margin-left: 0.5rem\">movie</span>\n",
       "</mark>\n",
       ", do you have any movie recommendations for me?</div></span>"
      ],
      "text/plain": [
       "<IPython.core.display.HTML object>"
      ]
     },
     "metadata": {},
     "output_type": "display_data"
    },
    {
     "name": "stdout",
     "output_type": "stream",
     "text": [
      "Since I enjoy Silent Night, Deadly Night Part 2, Amy, and Peter Bell II: The Hunt for the Czar Crown, do you have any movie recommendations for me? {'entities': [(14, 47, 'movie'), (49, 52, 'movie'), (58, 100, 'movie'), (124, 133, 'predicate')]}\n",
      "Missing movie label\n"
     ]
    },
    {
     "data": {
      "text/html": [
       "<span class=\"tex2jax_ignore\"><div class=\"entities\" style=\"line-height: 2.5; direction: ltr\">Since I enjoy \n",
       "<mark class=\"entity\" style=\"background: #ddd; padding: 0.45em 0.6em; margin: 0 0.25em; line-height: 1; border-radius: 0.35em;\">\n",
       "    The Adventures of Priscilla\n",
       "    <span style=\"font-size: 0.8em; font-weight: bold; line-height: 1; border-radius: 0.35em; vertical-align: middle; margin-left: 0.5rem\">movie</span>\n",
       "</mark>\n",
       ", Queen of the Desert, \n",
       "<mark class=\"entity\" style=\"background: #ddd; padding: 0.45em 0.6em; margin: 0 0.25em; line-height: 1; border-radius: 0.35em;\">\n",
       "    Cats\n",
       "    <span style=\"font-size: 0.8em; font-weight: bold; line-height: 1; border-radius: 0.35em; vertical-align: middle; margin-left: 0.5rem\">movie</span>\n",
       "</mark>\n",
       ", and \n",
       "<mark class=\"entity\" style=\"background: #ddd; padding: 0.45em 0.6em; margin: 0 0.25em; line-height: 1; border-radius: 0.35em;\">\n",
       "    Atlantic Rim\n",
       "    <span style=\"font-size: 0.8em; font-weight: bold; line-height: 1; border-radius: 0.35em; vertical-align: middle; margin-left: 0.5rem\">movie</span>\n",
       "</mark>\n",
       ", do you have any movie recommendations for me?</div></span>"
      ],
      "text/plain": [
       "<IPython.core.display.HTML object>"
      ]
     },
     "metadata": {},
     "output_type": "display_data"
    },
    {
     "name": "stdout",
     "output_type": "stream",
     "text": [
      "Since I enjoy The Adventures of Priscilla, Queen of the Desert, Cats, and Atlantic Rim, do you have any movie recommendations for me? {'entities': [(14, 62, 'movie'), (64, 68, 'movie'), (74, 86, 'movie'), (110, 119, 'predicate')]}\n",
      "Missing movie label\n"
     ]
    },
    {
     "data": {
      "text/html": [
       "<span class=\"tex2jax_ignore\"><div class=\"entities\" style=\"line-height: 2.5; direction: ltr\">Since I enjoy \n",
       "<mark class=\"entity\" style=\"background: #ddd; padding: 0.45em 0.6em; margin: 0 0.25em; line-height: 1; border-radius: 0.35em;\">\n",
       "    1, 2, 3, Sun,\n",
       "    <span style=\"font-size: 0.8em; font-weight: bold; line-height: 1; border-radius: 0.35em; vertical-align: middle; margin-left: 0.5rem\">movie</span>\n",
       "</mark>\n",
       " \n",
       "<mark class=\"entity\" style=\"background: #ddd; padding: 0.45em 0.6em; margin: 0 0.25em; line-height: 1; border-radius: 0.35em;\">\n",
       "    Wedlock\n",
       "    <span style=\"font-size: 0.8em; font-weight: bold; line-height: 1; border-radius: 0.35em; vertical-align: middle; margin-left: 0.5rem\">movie</span>\n",
       "</mark>\n",
       ", and \n",
       "<mark class=\"entity\" style=\"background: #ddd; padding: 0.45em 0.6em; margin: 0 0.25em; line-height: 1; border-radius: 0.35em;\">\n",
       "    An Ancient Tale: When the Sun Was a God\n",
       "    <span style=\"font-size: 0.8em; font-weight: bold; line-height: 1; border-radius: 0.35em; vertical-align: middle; margin-left: 0.5rem\">movie</span>\n",
       "</mark>\n",
       ", do you have any movie recommendations for me?</div></span>"
      ],
      "text/plain": [
       "<IPython.core.display.HTML object>"
      ]
     },
     "metadata": {},
     "output_type": "display_data"
    },
    {
     "name": "stdout",
     "output_type": "stream",
     "text": [
      "Since I enjoy 1, 2, 3, Sun, Wedlock, and An Ancient Tale: When the Sun Was a God, do you have any movie recommendations for me? {'entities': [(14, 26, 'movie'), (28, 35, 'movie'), (41, 80, 'movie'), (104, 113, 'predicate')]}\n",
      "Missing movie label\n"
     ]
    },
    {
     "data": {
      "text/html": [
       "<span class=\"tex2jax_ignore\"><div class=\"entities\" style=\"line-height: 2.5; direction: ltr\">Since I enjoy \n",
       "<mark class=\"entity\" style=\"background: #ddd; padding: 0.45em 0.6em; margin: 0 0.25em; line-height: 1; border-radius: 0.35em;\">\n",
       "    Bye-Bye\n",
       "    <span style=\"font-size: 0.8em; font-weight: bold; line-height: 1; border-radius: 0.35em; vertical-align: middle; margin-left: 0.5rem\">movie</span>\n",
       "</mark>\n",
       ", Our Friend, \n",
       "<mark class=\"entity\" style=\"background: #ddd; padding: 0.45em 0.6em; margin: 0 0.25em; line-height: 1; border-radius: 0.35em;\">\n",
       "    Martin\n",
       "    <span style=\"font-size: 0.8em; font-weight: bold; line-height: 1; border-radius: 0.35em; vertical-align: middle; margin-left: 0.5rem\">movie</span>\n",
       "</mark>\n",
       ", and \n",
       "<mark class=\"entity\" style=\"background: #ddd; padding: 0.45em 0.6em; margin: 0 0.25em; line-height: 1; border-radius: 0.35em;\">\n",
       "    No Regrets\n",
       "    <span style=\"font-size: 0.8em; font-weight: bold; line-height: 1; border-radius: 0.35em; vertical-align: middle; margin-left: 0.5rem\">movie</span>\n",
       "</mark>\n",
       ", do you have any movie recommendations for me?</div></span>"
      ],
      "text/plain": [
       "<IPython.core.display.HTML object>"
      ]
     },
     "metadata": {},
     "output_type": "display_data"
    },
    {
     "name": "stdout",
     "output_type": "stream",
     "text": [
      "Since I enjoy Bye-Bye, Our Friend, Martin, and No Regrets, do you have any movie recommendations for me? {'entities': [(14, 21, 'movie'), (23, 41, 'movie'), (47, 57, 'movie'), (81, 90, 'predicate')]}\n",
      "Missing movie label\n"
     ]
    },
    {
     "data": {
      "text/html": [
       "<span class=\"tex2jax_ignore\"><div class=\"entities\" style=\"line-height: 2.5; direction: ltr\">Since I enjoy \n",
       "<mark class=\"entity\" style=\"background: #ddd; padding: 0.45em 0.6em; margin: 0 0.25em; line-height: 1; border-radius: 0.35em;\">\n",
       "    A Cock and Bull Story, Me Ivan\n",
       "    <span style=\"font-size: 0.8em; font-weight: bold; line-height: 1; border-radius: 0.35em; vertical-align: middle; margin-left: 0.5rem\">movie</span>\n",
       "</mark>\n",
       ", \n",
       "<mark class=\"entity\" style=\"background: #ddd; padding: 0.45em 0.6em; margin: 0 0.25em; line-height: 1; border-radius: 0.35em;\">\n",
       "    You Abraham\n",
       "    <span style=\"font-size: 0.8em; font-weight: bold; line-height: 1; border-radius: 0.35em; vertical-align: middle; margin-left: 0.5rem\">movie</span>\n",
       "</mark>\n",
       ", and \n",
       "<mark class=\"entity\" style=\"background: #ddd; padding: 0.45em 0.6em; margin: 0 0.25em; line-height: 1; border-radius: 0.35em;\">\n",
       "    Beauty and the Beast\n",
       "    <span style=\"font-size: 0.8em; font-weight: bold; line-height: 1; border-radius: 0.35em; vertical-align: middle; margin-left: 0.5rem\">movie</span>\n",
       "</mark>\n",
       ", do you have any movie recommendations for me?</div></span>"
      ],
      "text/plain": [
       "<IPython.core.display.HTML object>"
      ]
     },
     "metadata": {},
     "output_type": "display_data"
    },
    {
     "name": "stdout",
     "output_type": "stream",
     "text": [
      "Since I enjoy A Cock and Bull Story, Me Ivan, You Abraham, and Beauty and the Beast, do you have any movie recommendations for me? {'entities': [(14, 35, 'movie'), (37, 57, 'movie'), (63, 83, 'movie'), (107, 116, 'predicate')]}\n",
      "Missing movie label\n"
     ]
    },
    {
     "data": {
      "text/html": [
       "<span class=\"tex2jax_ignore\"><div class=\"entities\" style=\"line-height: 2.5; direction: ltr\">Since I enjoy \n",
       "<mark class=\"entity\" style=\"background: #ddd; padding: 0.45em 0.6em; margin: 0 0.25em; line-height: 1; border-radius: 0.35em;\">\n",
       "    A Cock and Bull Story, Me Ivan\n",
       "    <span style=\"font-size: 0.8em; font-weight: bold; line-height: 1; border-radius: 0.35em; vertical-align: middle; margin-left: 0.5rem\">movie</span>\n",
       "</mark>\n",
       ", \n",
       "<mark class=\"entity\" style=\"background: #ddd; padding: 0.45em 0.6em; margin: 0 0.25em; line-height: 1; border-radius: 0.35em;\">\n",
       "    You Abraham\n",
       "    <span style=\"font-size: 0.8em; font-weight: bold; line-height: 1; border-radius: 0.35em; vertical-align: middle; margin-left: 0.5rem\">movie</span>\n",
       "</mark>\n",
       ", and \n",
       "<mark class=\"entity\" style=\"background: #ddd; padding: 0.45em 0.6em; margin: 0 0.25em; line-height: 1; border-radius: 0.35em;\">\n",
       "    Beauty and the Beast\n",
       "    <span style=\"font-size: 0.8em; font-weight: bold; line-height: 1; border-radius: 0.35em; vertical-align: middle; margin-left: 0.5rem\">movie</span>\n",
       "</mark>\n",
       ", do you have any movie recommendations for me?</div></span>"
      ],
      "text/plain": [
       "<IPython.core.display.HTML object>"
      ]
     },
     "metadata": {},
     "output_type": "display_data"
    },
    {
     "name": "stdout",
     "output_type": "stream",
     "text": [
      "Since I enjoy A Cock and Bull Story, Me Ivan, You Abraham, and Beauty and the Beast, do you have any movie recommendations for me? {'entities': [(14, 35, 'movie'), (37, 57, 'movie'), (63, 83, 'movie'), (107, 116, 'predicate')]}\n",
      "Missing movie label\n"
     ]
    },
    {
     "data": {
      "text/html": [
       "<span class=\"tex2jax_ignore\"><div class=\"entities\" style=\"line-height: 2.5; direction: ltr\">Since I enjoy \n",
       "<mark class=\"entity\" style=\"background: #ddd; padding: 0.45em 0.6em; margin: 0 0.25em; line-height: 1; border-radius: 0.35em;\">\n",
       "    Silent Night\n",
       "    <span style=\"font-size: 0.8em; font-weight: bold; line-height: 1; border-radius: 0.35em; vertical-align: middle; margin-left: 0.5rem\">movie</span>\n",
       "</mark>\n",
       ", \n",
       "<mark class=\"entity\" style=\"background: #ddd; padding: 0.45em 0.6em; margin: 0 0.25em; line-height: 1; border-radius: 0.35em;\">\n",
       "    Deadly Night 5: The Toy Maker\n",
       "    <span style=\"font-size: 0.8em; font-weight: bold; line-height: 1; border-radius: 0.35em; vertical-align: middle; margin-left: 0.5rem\">movie</span>\n",
       "</mark>\n",
       ", \n",
       "<mark class=\"entity\" style=\"background: #ddd; padding: 0.45em 0.6em; margin: 0 0.25em; line-height: 1; border-radius: 0.35em;\">\n",
       "    The Program\n",
       "    <span style=\"font-size: 0.8em; font-weight: bold; line-height: 1; border-radius: 0.35em; vertical-align: middle; margin-left: 0.5rem\">movie</span>\n",
       "</mark>\n",
       ", and \n",
       "<mark class=\"entity\" style=\"background: #ddd; padding: 0.45em 0.6em; margin: 0 0.25em; line-height: 1; border-radius: 0.35em;\">\n",
       "    Bicentennial Man\n",
       "    <span style=\"font-size: 0.8em; font-weight: bold; line-height: 1; border-radius: 0.35em; vertical-align: middle; margin-left: 0.5rem\">movie</span>\n",
       "</mark>\n",
       ", do you have any movie recommendations for me?</div></span>"
      ],
      "text/plain": [
       "<IPython.core.display.HTML object>"
      ]
     },
     "metadata": {},
     "output_type": "display_data"
    },
    {
     "name": "stdout",
     "output_type": "stream",
     "text": [
      "Since I enjoy Silent Night, Deadly Night 5: The Toy Maker, The Program, and Bicentennial Man, do you have any movie recommendations for me? {'entities': [(14, 57, 'movie'), (59, 70, 'movie'), (76, 92, 'movie'), (116, 125, 'predicate')]}\n",
      "Missing movie label\n"
     ]
    },
    {
     "data": {
      "text/html": [
       "<span class=\"tex2jax_ignore\"><div class=\"entities\" style=\"line-height: 2.5; direction: ltr\">Since I enjoy \n",
       "<mark class=\"entity\" style=\"background: #ddd; padding: 0.45em 0.6em; margin: 0 0.25em; line-height: 1; border-radius: 0.35em;\">\n",
       "    Silent Night\n",
       "    <span style=\"font-size: 0.8em; font-weight: bold; line-height: 1; border-radius: 0.35em; vertical-align: middle; margin-left: 0.5rem\">movie</span>\n",
       "</mark>\n",
       ", \n",
       "<mark class=\"entity\" style=\"background: #ddd; padding: 0.45em 0.6em; margin: 0 0.25em; line-height: 1; border-radius: 0.35em;\">\n",
       "    Deadly Night 5: The Toy Maker\n",
       "    <span style=\"font-size: 0.8em; font-weight: bold; line-height: 1; border-radius: 0.35em; vertical-align: middle; margin-left: 0.5rem\">movie</span>\n",
       "</mark>\n",
       ", \n",
       "<mark class=\"entity\" style=\"background: #ddd; padding: 0.45em 0.6em; margin: 0 0.25em; line-height: 1; border-radius: 0.35em;\">\n",
       "    The Program\n",
       "    <span style=\"font-size: 0.8em; font-weight: bold; line-height: 1; border-radius: 0.35em; vertical-align: middle; margin-left: 0.5rem\">movie</span>\n",
       "</mark>\n",
       ", and \n",
       "<mark class=\"entity\" style=\"background: #ddd; padding: 0.45em 0.6em; margin: 0 0.25em; line-height: 1; border-radius: 0.35em;\">\n",
       "    Bicentennial Man\n",
       "    <span style=\"font-size: 0.8em; font-weight: bold; line-height: 1; border-radius: 0.35em; vertical-align: middle; margin-left: 0.5rem\">movie</span>\n",
       "</mark>\n",
       ", do you have any movie recommendations for me?</div></span>"
      ],
      "text/plain": [
       "<IPython.core.display.HTML object>"
      ]
     },
     "metadata": {},
     "output_type": "display_data"
    },
    {
     "name": "stdout",
     "output_type": "stream",
     "text": [
      "Since I enjoy Silent Night, Deadly Night 5: The Toy Maker, The Program, and Bicentennial Man, do you have any movie recommendations for me? {'entities': [(14, 57, 'movie'), (59, 70, 'movie'), (76, 92, 'movie'), (116, 125, 'predicate')]}\n",
      "Missing movie label\n"
     ]
    },
    {
     "data": {
      "text/html": [
       "<span class=\"tex2jax_ignore\"><div class=\"entities\" style=\"line-height: 2.5; direction: ltr\">Since I enjoy \n",
       "<mark class=\"entity\" style=\"background: #ddd; padding: 0.45em 0.6em; margin: 0 0.25em; line-height: 1; border-radius: 0.35em;\">\n",
       "    Good Night\n",
       "    <span style=\"font-size: 0.8em; font-weight: bold; line-height: 1; border-radius: 0.35em; vertical-align: middle; margin-left: 0.5rem\">movie</span>\n",
       "</mark>\n",
       ", and Good Luck., \n",
       "<mark class=\"entity\" style=\"background: #ddd; padding: 0.45em 0.6em; margin: 0 0.25em; line-height: 1; border-radius: 0.35em;\">\n",
       "    Glengarry Glen Ross\n",
       "    <span style=\"font-size: 0.8em; font-weight: bold; line-height: 1; border-radius: 0.35em; vertical-align: middle; margin-left: 0.5rem\">movie</span>\n",
       "</mark>\n",
       ", and \n",
       "<mark class=\"entity\" style=\"background: #ddd; padding: 0.45em 0.6em; margin: 0 0.25em; line-height: 1; border-radius: 0.35em;\">\n",
       "    The Order\n",
       "    <span style=\"font-size: 0.8em; font-weight: bold; line-height: 1; border-radius: 0.35em; vertical-align: middle; margin-left: 0.5rem\">movie</span>\n",
       "</mark>\n",
       ", do you have any movie recommendations for me?</div></span>"
      ],
      "text/plain": [
       "<IPython.core.display.HTML object>"
      ]
     },
     "metadata": {},
     "output_type": "display_data"
    },
    {
     "name": "stdout",
     "output_type": "stream",
     "text": [
      "Since I enjoy Good Night, and Good Luck., Glengarry Glen Ross, and The Order, do you have any movie recommendations for me? {'entities': [(14, 40, 'movie'), (42, 61, 'movie'), (67, 76, 'movie'), (100, 109, 'predicate')]}\n",
      "Missing movie label\n"
     ]
    },
    {
     "data": {
      "text/html": [
       "<span class=\"tex2jax_ignore\"><div class=\"entities\" style=\"line-height: 2.5; direction: ltr\">Since I enjoy \n",
       "<mark class=\"entity\" style=\"background: #ddd; padding: 0.45em 0.6em; margin: 0 0.25em; line-height: 1; border-radius: 0.35em;\">\n",
       "    Louis 19\n",
       "    <span style=\"font-size: 0.8em; font-weight: bold; line-height: 1; border-radius: 0.35em; vertical-align: middle; margin-left: 0.5rem\">movie</span>\n",
       "</mark>\n",
       ", King of the Airwaves, \n",
       "<mark class=\"entity\" style=\"background: #ddd; padding: 0.45em 0.6em; margin: 0 0.25em; line-height: 1; border-radius: 0.35em;\">\n",
       "    Outside the Law\n",
       "    <span style=\"font-size: 0.8em; font-weight: bold; line-height: 1; border-radius: 0.35em; vertical-align: middle; margin-left: 0.5rem\">movie</span>\n",
       "</mark>\n",
       ", and \n",
       "<mark class=\"entity\" style=\"background: #ddd; padding: 0.45em 0.6em; margin: 0 0.25em; line-height: 1; border-radius: 0.35em;\">\n",
       "    The Clapper\n",
       "    <span style=\"font-size: 0.8em; font-weight: bold; line-height: 1; border-radius: 0.35em; vertical-align: middle; margin-left: 0.5rem\">movie</span>\n",
       "</mark>\n",
       ", do you have any movie recommendations for me?</div></span>"
      ],
      "text/plain": [
       "<IPython.core.display.HTML object>"
      ]
     },
     "metadata": {},
     "output_type": "display_data"
    },
    {
     "name": "stdout",
     "output_type": "stream",
     "text": [
      "Since I enjoy Louis 19, King of the Airwaves, Outside the Law, and The Clapper, do you have any movie recommendations for me? {'entities': [(14, 44, 'movie'), (46, 61, 'movie'), (67, 78, 'movie'), (102, 111, 'predicate')]}\n",
      "Missing movie label\n"
     ]
    },
    {
     "data": {
      "text/html": [
       "<span class=\"tex2jax_ignore\"><div class=\"entities\" style=\"line-height: 2.5; direction: ltr\">Since I enjoy \n",
       "<mark class=\"entity\" style=\"background: #ddd; padding: 0.45em 0.6em; margin: 0 0.25em; line-height: 1; border-radius: 0.35em;\">\n",
       "    Silent Night\n",
       "    <span style=\"font-size: 0.8em; font-weight: bold; line-height: 1; border-radius: 0.35em; vertical-align: middle; margin-left: 0.5rem\">movie</span>\n",
       "</mark>\n",
       ", Deadly Night 4: Initiation, \n",
       "<mark class=\"entity\" style=\"background: #ddd; padding: 0.45em 0.6em; margin: 0 0.25em; line-height: 1; border-radius: 0.35em;\">\n",
       "    Tom at the Farm\n",
       "    <span style=\"font-size: 0.8em; font-weight: bold; line-height: 1; border-radius: 0.35em; vertical-align: middle; margin-left: 0.5rem\">movie</span>\n",
       "</mark>\n",
       ", and \n",
       "<mark class=\"entity\" style=\"background: #ddd; padding: 0.45em 0.6em; margin: 0 0.25em; line-height: 1; border-radius: 0.35em;\">\n",
       "    Showdown in Seoul\n",
       "    <span style=\"font-size: 0.8em; font-weight: bold; line-height: 1; border-radius: 0.35em; vertical-align: middle; margin-left: 0.5rem\">movie</span>\n",
       "</mark>\n",
       ", do you have any movie recommendations for me?</div></span>"
      ],
      "text/plain": [
       "<IPython.core.display.HTML object>"
      ]
     },
     "metadata": {},
     "output_type": "display_data"
    },
    {
     "name": "stdout",
     "output_type": "stream",
     "text": [
      "Since I enjoy Silent Night, Deadly Night 4: Initiation, Tom at the Farm, and Showdown in Seoul, do you have any movie recommendations for me? {'entities': [(14, 54, 'movie'), (56, 71, 'movie'), (77, 94, 'movie'), (118, 127, 'predicate')]}\n",
      "Missing movie label\n"
     ]
    },
    {
     "data": {
      "text/html": [
       "<span class=\"tex2jax_ignore\"><div class=\"entities\" style=\"line-height: 2.5; direction: ltr\">Since I enjoy \n",
       "<mark class=\"entity\" style=\"background: #ddd; padding: 0.45em 0.6em; margin: 0 0.25em; line-height: 1; border-radius: 0.35em;\">\n",
       "    Mother, sixth generation Chinese films\n",
       "    <span style=\"font-size: 0.8em; font-weight: bold; line-height: 1; border-radius: 0.35em; vertical-align: middle; margin-left: 0.5rem\">movie</span>\n",
       "</mark>\n",
       ", and \n",
       "<mark class=\"entity\" style=\"background: #ddd; padding: 0.45em 0.6em; margin: 0 0.25em; line-height: 1; border-radius: 0.35em;\">\n",
       "    Monsieur Lazhar\n",
       "    <span style=\"font-size: 0.8em; font-weight: bold; line-height: 1; border-radius: 0.35em; vertical-align: middle; margin-left: 0.5rem\">movie</span>\n",
       "</mark>\n",
       ", do you have any movie recommendations for me?</div></span>"
      ],
      "text/plain": [
       "<IPython.core.display.HTML object>"
      ]
     },
     "metadata": {},
     "output_type": "display_data"
    },
    {
     "name": "stdout",
     "output_type": "stream",
     "text": [
      "Since I enjoy Mother, sixth generation Chinese films, and Monsieur Lazhar, do you have any movie recommendations for me? {'entities': [(14, 20, 'movie'), (22, 52, 'movie'), (58, 73, 'movie'), (97, 106, 'predicate')]}\n",
      "Missing movie label\n"
     ]
    },
    {
     "data": {
      "text/html": [
       "<span class=\"tex2jax_ignore\"><div class=\"entities\" style=\"line-height: 2.5; direction: ltr\">Since I enjoy \n",
       "<mark class=\"entity\" style=\"background: #ddd; padding: 0.45em 0.6em; margin: 0 0.25em; line-height: 1; border-radius: 0.35em;\">\n",
       "    Spring\n",
       "    <span style=\"font-size: 0.8em; font-weight: bold; line-height: 1; border-radius: 0.35em; vertical-align: middle; margin-left: 0.5rem\">movie</span>\n",
       "</mark>\n",
       ", \n",
       "<mark class=\"entity\" style=\"background: #ddd; padding: 0.45em 0.6em; margin: 0 0.25em; line-height: 1; border-radius: 0.35em;\">\n",
       "    Summer, Fall, Winter... and Spring\n",
       "    <span style=\"font-size: 0.8em; font-weight: bold; line-height: 1; border-radius: 0.35em; vertical-align: middle; margin-left: 0.5rem\">movie</span>\n",
       "</mark>\n",
       ", \n",
       "<mark class=\"entity\" style=\"background: #ddd; padding: 0.45em 0.6em; margin: 0 0.25em; line-height: 1; border-radius: 0.35em;\">\n",
       "    Persona 3 The Movie: No. 4, Winter of Rebirth\n",
       "    <span style=\"font-size: 0.8em; font-weight: bold; line-height: 1; border-radius: 0.35em; vertical-align: middle; margin-left: 0.5rem\">movie</span>\n",
       "</mark>\n",
       ", and \n",
       "<mark class=\"entity\" style=\"background: #ddd; padding: 0.45em 0.6em; margin: 0 0.25em; line-height: 1; border-radius: 0.35em;\">\n",
       "    Shoot 'Em Up\n",
       "    <span style=\"font-size: 0.8em; font-weight: bold; line-height: 1; border-radius: 0.35em; vertical-align: middle; margin-left: 0.5rem\">movie</span>\n",
       "</mark>\n",
       ", do you have any movie recommendations for me?</div></span>"
      ],
      "text/plain": [
       "<IPython.core.display.HTML object>"
      ]
     },
     "metadata": {},
     "output_type": "display_data"
    },
    {
     "name": "stdout",
     "output_type": "stream",
     "text": [
      "Since I enjoy Spring, Summer, Fall, Winter... and Spring, Persona 3 The Movie: No. 4, Winter of Rebirth, and Shoot 'Em Up, do you have any movie recommendations for me? {'entities': [(14, 56, 'movie'), (58, 103, 'movie'), (109, 121, 'movie'), (145, 154, 'predicate')]}\n",
      "Missing movie label\n"
     ]
    },
    {
     "data": {
      "text/html": [
       "<span class=\"tex2jax_ignore\"><div class=\"entities\" style=\"line-height: 2.5; direction: ltr\">Since I enjoy \n",
       "<mark class=\"entity\" style=\"background: #ddd; padding: 0.45em 0.6em; margin: 0 0.25em; line-height: 1; border-radius: 0.35em;\">\n",
       "    Spring\n",
       "    <span style=\"font-size: 0.8em; font-weight: bold; line-height: 1; border-radius: 0.35em; vertical-align: middle; margin-left: 0.5rem\">movie</span>\n",
       "</mark>\n",
       ", \n",
       "<mark class=\"entity\" style=\"background: #ddd; padding: 0.45em 0.6em; margin: 0 0.25em; line-height: 1; border-radius: 0.35em;\">\n",
       "    Summer, Fall, Winter... and Spring\n",
       "    <span style=\"font-size: 0.8em; font-weight: bold; line-height: 1; border-radius: 0.35em; vertical-align: middle; margin-left: 0.5rem\">movie</span>\n",
       "</mark>\n",
       ", \n",
       "<mark class=\"entity\" style=\"background: #ddd; padding: 0.45em 0.6em; margin: 0 0.25em; line-height: 1; border-radius: 0.35em;\">\n",
       "    Persona 3 The Movie: No. 4, Winter of Rebirth\n",
       "    <span style=\"font-size: 0.8em; font-weight: bold; line-height: 1; border-radius: 0.35em; vertical-align: middle; margin-left: 0.5rem\">movie</span>\n",
       "</mark>\n",
       ", and \n",
       "<mark class=\"entity\" style=\"background: #ddd; padding: 0.45em 0.6em; margin: 0 0.25em; line-height: 1; border-radius: 0.35em;\">\n",
       "    Shoot 'Em Up\n",
       "    <span style=\"font-size: 0.8em; font-weight: bold; line-height: 1; border-radius: 0.35em; vertical-align: middle; margin-left: 0.5rem\">movie</span>\n",
       "</mark>\n",
       ", do you have any movie recommendations for me?</div></span>"
      ],
      "text/plain": [
       "<IPython.core.display.HTML object>"
      ]
     },
     "metadata": {},
     "output_type": "display_data"
    },
    {
     "name": "stdout",
     "output_type": "stream",
     "text": [
      "Since I enjoy Spring, Summer, Fall, Winter... and Spring, Persona 3 The Movie: No. 4, Winter of Rebirth, and Shoot 'Em Up, do you have any movie recommendations for me? {'entities': [(14, 56, 'movie'), (58, 103, 'movie'), (109, 121, 'movie'), (145, 154, 'predicate')]}\n",
      "Missing movie label\n"
     ]
    },
    {
     "data": {
      "text/html": [
       "<span class=\"tex2jax_ignore\"><div class=\"entities\" style=\"line-height: 2.5; direction: ltr\">Since I enjoy \n",
       "<mark class=\"entity\" style=\"background: #ddd; padding: 0.45em 0.6em; margin: 0 0.25em; line-height: 1; border-radius: 0.35em;\">\n",
       "    Fat,\n",
       "    <span style=\"font-size: 0.8em; font-weight: bold; line-height: 1; border-radius: 0.35em; vertical-align: middle; margin-left: 0.5rem\">movie</span>\n",
       "</mark>\n",
       " \n",
       "<mark class=\"entity\" style=\"background: #ddd; padding: 0.45em 0.6em; margin: 0 0.25em; line-height: 1; border-radius: 0.35em;\">\n",
       "    Sick &amp; Nearly Dead 2\n",
       "    <span style=\"font-size: 0.8em; font-weight: bold; line-height: 1; border-radius: 0.35em; vertical-align: middle; margin-left: 0.5rem\">movie</span>\n",
       "</mark>\n",
       ", \n",
       "<mark class=\"entity\" style=\"background: #ddd; padding: 0.45em 0.6em; margin: 0 0.25em; line-height: 1; border-radius: 0.35em;\">\n",
       "    I Was at Home, But\n",
       "    <span style=\"font-size: 0.8em; font-weight: bold; line-height: 1; border-radius: 0.35em; vertical-align: middle; margin-left: 0.5rem\">movie</span>\n",
       "</mark>\n",
       ", and \n",
       "<mark class=\"entity\" style=\"background: #ddd; padding: 0.45em 0.6em; margin: 0 0.25em; line-height: 1; border-radius: 0.35em;\">\n",
       "    Afternoon Delight\n",
       "    <span style=\"font-size: 0.8em; font-weight: bold; line-height: 1; border-radius: 0.35em; vertical-align: middle; margin-left: 0.5rem\">movie</span>\n",
       "</mark>\n",
       ", do you have any movie recommendations for me?</div></span>"
      ],
      "text/plain": [
       "<IPython.core.display.HTML object>"
      ]
     },
     "metadata": {},
     "output_type": "display_data"
    },
    {
     "name": "stdout",
     "output_type": "stream",
     "text": [
      "Since I enjoy Fat, Sick & Nearly Dead 2, I Was at Home, But, and Afternoon Delight, do you have any movie recommendations for me? {'entities': [(14, 39, 'movie'), (41, 59, 'movie'), (65, 82, 'movie'), (106, 115, 'predicate')]}\n",
      "Missing movie label\n"
     ]
    },
    {
     "data": {
      "text/html": [
       "<span class=\"tex2jax_ignore\"><div class=\"entities\" style=\"line-height: 2.5; direction: ltr\">Since I enjoy \n",
       "<mark class=\"entity\" style=\"background: #ddd; padding: 0.45em 0.6em; margin: 0 0.25em; line-height: 1; border-radius: 0.35em;\">\n",
       "    Fat,\n",
       "    <span style=\"font-size: 0.8em; font-weight: bold; line-height: 1; border-radius: 0.35em; vertical-align: middle; margin-left: 0.5rem\">movie</span>\n",
       "</mark>\n",
       " \n",
       "<mark class=\"entity\" style=\"background: #ddd; padding: 0.45em 0.6em; margin: 0 0.25em; line-height: 1; border-radius: 0.35em;\">\n",
       "    Sick &amp; Nearly Dead 2\n",
       "    <span style=\"font-size: 0.8em; font-weight: bold; line-height: 1; border-radius: 0.35em; vertical-align: middle; margin-left: 0.5rem\">movie</span>\n",
       "</mark>\n",
       ", \n",
       "<mark class=\"entity\" style=\"background: #ddd; padding: 0.45em 0.6em; margin: 0 0.25em; line-height: 1; border-radius: 0.35em;\">\n",
       "    I Was at Home, But\n",
       "    <span style=\"font-size: 0.8em; font-weight: bold; line-height: 1; border-radius: 0.35em; vertical-align: middle; margin-left: 0.5rem\">movie</span>\n",
       "</mark>\n",
       ", and \n",
       "<mark class=\"entity\" style=\"background: #ddd; padding: 0.45em 0.6em; margin: 0 0.25em; line-height: 1; border-radius: 0.35em;\">\n",
       "    Afternoon Delight\n",
       "    <span style=\"font-size: 0.8em; font-weight: bold; line-height: 1; border-radius: 0.35em; vertical-align: middle; margin-left: 0.5rem\">movie</span>\n",
       "</mark>\n",
       ", do you have any movie recommendations for me?</div></span>"
      ],
      "text/plain": [
       "<IPython.core.display.HTML object>"
      ]
     },
     "metadata": {},
     "output_type": "display_data"
    },
    {
     "name": "stdout",
     "output_type": "stream",
     "text": [
      "Since I enjoy Fat, Sick & Nearly Dead 2, I Was at Home, But, and Afternoon Delight, do you have any movie recommendations for me? {'entities': [(14, 39, 'movie'), (41, 59, 'movie'), (65, 82, 'movie'), (106, 115, 'predicate')]}\n",
      "Missing movie label\n"
     ]
    },
    {
     "data": {
      "text/html": [
       "<span class=\"tex2jax_ignore\"><div class=\"entities\" style=\"line-height: 2.5; direction: ltr\">Since I enjoy \n",
       "<mark class=\"entity\" style=\"background: #ddd; padding: 0.45em 0.6em; margin: 0 0.25em; line-height: 1; border-radius: 0.35em;\">\n",
       "    Curse of the Golden Flower\n",
       "    <span style=\"font-size: 0.8em; font-weight: bold; line-height: 1; border-radius: 0.35em; vertical-align: middle; margin-left: 0.5rem\">movie</span>\n",
       "</mark>\n",
       ", \n",
       "<mark class=\"entity\" style=\"background: #ddd; padding: 0.45em 0.6em; margin: 0 0.25em; line-height: 1; border-radius: 0.35em;\">\n",
       "    A Christmas Tale\n",
       "    <span style=\"font-size: 0.8em; font-weight: bold; line-height: 1; border-radius: 0.35em; vertical-align: middle; margin-left: 0.5rem\">movie</span>\n",
       "</mark>\n",
       ", and \n",
       "<mark class=\"entity\" style=\"background: #ddd; padding: 0.45em 0.6em; margin: 0 0.25em; line-height: 1; border-radius: 0.35em;\">\n",
       "    Go\n",
       "    <span style=\"font-size: 0.8em; font-weight: bold; line-height: 1; border-radius: 0.35em; vertical-align: middle; margin-left: 0.5rem\">movie</span>\n",
       "</mark>\n",
       ", do you have any movie recommendations for me?</div></span>"
      ],
      "text/plain": [
       "<IPython.core.display.HTML object>"
      ]
     },
     "metadata": {},
     "output_type": "display_data"
    },
    {
     "name": "stdout",
     "output_type": "stream",
     "text": [
      "Since I enjoy Curse of the Golden Flower, A Christmas Tale, and Go, do you have any movie recommendations for me? {'entities': [(14, 40, 'movie'), (42, 58, 'movie'), (27, 29, 'movie'), (90, 99, 'predicate')]}\n",
      "Missing movie label\n"
     ]
    },
    {
     "data": {
      "text/html": [
       "<span class=\"tex2jax_ignore\"><div class=\"entities\" style=\"line-height: 2.5; direction: ltr\">Since I enjoy \n",
       "<mark class=\"entity\" style=\"background: #ddd; padding: 0.45em 0.6em; margin: 0 0.25em; line-height: 1; border-radius: 0.35em;\">\n",
       "    A Genius\n",
       "    <span style=\"font-size: 0.8em; font-weight: bold; line-height: 1; border-radius: 0.35em; vertical-align: middle; margin-left: 0.5rem\">movie</span>\n",
       "</mark>\n",
       ", Two Partners and a Dupe, \n",
       "<mark class=\"entity\" style=\"background: #ddd; padding: 0.45em 0.6em; margin: 0 0.25em; line-height: 1; border-radius: 0.35em;\">\n",
       "    Demonia\n",
       "    <span style=\"font-size: 0.8em; font-weight: bold; line-height: 1; border-radius: 0.35em; vertical-align: middle; margin-left: 0.5rem\">movie</span>\n",
       "</mark>\n",
       ", and \n",
       "<mark class=\"entity\" style=\"background: #ddd; padding: 0.45em 0.6em; margin: 0 0.25em; line-height: 1; border-radius: 0.35em;\">\n",
       "    The Voice of the Moon\n",
       "    <span style=\"font-size: 0.8em; font-weight: bold; line-height: 1; border-radius: 0.35em; vertical-align: middle; margin-left: 0.5rem\">movie</span>\n",
       "</mark>\n",
       ", do you have any movie recommendations for me?</div></span>"
      ],
      "text/plain": [
       "<IPython.core.display.HTML object>"
      ]
     },
     "metadata": {},
     "output_type": "display_data"
    },
    {
     "name": "stdout",
     "output_type": "stream",
     "text": [
      "Since I enjoy A Genius, Two Partners and a Dupe, Demonia, and The Voice of the Moon, do you have any movie recommendations for me? {'entities': [(14, 47, 'movie'), (49, 56, 'movie'), (62, 83, 'movie'), (107, 116, 'predicate')]}\n",
      "Missing movie label\n"
     ]
    },
    {
     "data": {
      "text/html": [
       "<span class=\"tex2jax_ignore\"><div class=\"entities\" style=\"line-height: 2.5; direction: ltr\">Since I enjoy \n",
       "<mark class=\"entity\" style=\"background: #ddd; padding: 0.45em 0.6em; margin: 0 0.25em; line-height: 1; border-radius: 0.35em;\">\n",
       "    Ethiri En 3\n",
       "    <span style=\"font-size: 0.8em; font-weight: bold; line-height: 1; border-radius: 0.35em; vertical-align: middle; margin-left: 0.5rem\">movie</span>\n",
       "</mark>\n",
       ", \n",
       "<mark class=\"entity\" style=\"background: #ddd; padding: 0.45em 0.6em; margin: 0 0.25em; line-height: 1; border-radius: 0.35em;\">\n",
       "    Loose Cannons\n",
       "    <span style=\"font-size: 0.8em; font-weight: bold; line-height: 1; border-radius: 0.35em; vertical-align: middle; margin-left: 0.5rem\">movie</span>\n",
       "</mark>\n",
       ", and \n",
       "<mark class=\"entity\" style=\"background: #ddd; padding: 0.45em 0.6em; margin: 0 0.25em; line-height: 1; border-radius: 0.35em;\">\n",
       "    Good Night\n",
       "    <span style=\"font-size: 0.8em; font-weight: bold; line-height: 1; border-radius: 0.35em; vertical-align: middle; margin-left: 0.5rem\">movie</span>\n",
       "</mark>\n",
       ", and \n",
       "<mark class=\"entity\" style=\"background: #ddd; padding: 0.45em 0.6em; margin: 0 0.25em; line-height: 1; border-radius: 0.35em;\">\n",
       "    Good Luck.\n",
       "    <span style=\"font-size: 0.8em; font-weight: bold; line-height: 1; border-radius: 0.35em; vertical-align: middle; margin-left: 0.5rem\">movie</span>\n",
       "</mark>\n",
       ", do you have any movie recommendations for me?</div></span>"
      ],
      "text/plain": [
       "<IPython.core.display.HTML object>"
      ]
     },
     "metadata": {},
     "output_type": "display_data"
    },
    {
     "name": "stdout",
     "output_type": "stream",
     "text": [
      "Since I enjoy Ethiri En 3, Loose Cannons, and Good Night, and Good Luck., do you have any movie recommendations for me? {'entities': [(14, 25, 'movie'), (27, 40, 'movie'), (46, 72, 'movie'), (96, 105, 'predicate')]}\n",
      "Missing movie label\n"
     ]
    },
    {
     "data": {
      "text/html": [
       "<span class=\"tex2jax_ignore\"><div class=\"entities\" style=\"line-height: 2.5; direction: ltr\">Since I enjoy \n",
       "<mark class=\"entity\" style=\"background: #ddd; padding: 0.45em 0.6em; margin: 0 0.25em; line-height: 1; border-radius: 0.35em;\">\n",
       "    Ethiri En 3\n",
       "    <span style=\"font-size: 0.8em; font-weight: bold; line-height: 1; border-radius: 0.35em; vertical-align: middle; margin-left: 0.5rem\">movie</span>\n",
       "</mark>\n",
       ", \n",
       "<mark class=\"entity\" style=\"background: #ddd; padding: 0.45em 0.6em; margin: 0 0.25em; line-height: 1; border-radius: 0.35em;\">\n",
       "    Loose Cannons\n",
       "    <span style=\"font-size: 0.8em; font-weight: bold; line-height: 1; border-radius: 0.35em; vertical-align: middle; margin-left: 0.5rem\">movie</span>\n",
       "</mark>\n",
       ", and \n",
       "<mark class=\"entity\" style=\"background: #ddd; padding: 0.45em 0.6em; margin: 0 0.25em; line-height: 1; border-radius: 0.35em;\">\n",
       "    Good Night\n",
       "    <span style=\"font-size: 0.8em; font-weight: bold; line-height: 1; border-radius: 0.35em; vertical-align: middle; margin-left: 0.5rem\">movie</span>\n",
       "</mark>\n",
       ", and \n",
       "<mark class=\"entity\" style=\"background: #ddd; padding: 0.45em 0.6em; margin: 0 0.25em; line-height: 1; border-radius: 0.35em;\">\n",
       "    Good Luck.\n",
       "    <span style=\"font-size: 0.8em; font-weight: bold; line-height: 1; border-radius: 0.35em; vertical-align: middle; margin-left: 0.5rem\">movie</span>\n",
       "</mark>\n",
       ", do you have any movie recommendations for me?</div></span>"
      ],
      "text/plain": [
       "<IPython.core.display.HTML object>"
      ]
     },
     "metadata": {},
     "output_type": "display_data"
    },
    {
     "name": "stdout",
     "output_type": "stream",
     "text": [
      "Since I enjoy Ethiri En 3, Loose Cannons, and Good Night, and Good Luck., do you have any movie recommendations for me? {'entities': [(14, 25, 'movie'), (27, 40, 'movie'), (46, 72, 'movie'), (96, 105, 'predicate')]}\n",
      "Missing movie label\n"
     ]
    },
    {
     "data": {
      "text/html": [
       "<span class=\"tex2jax_ignore\"><div class=\"entities\" style=\"line-height: 2.5; direction: ltr\">Since I enjoy \n",
       "<mark class=\"entity\" style=\"background: #ddd; padding: 0.45em 0.6em; margin: 0 0.25em; line-height: 1; border-radius: 0.35em;\">\n",
       "    Minuscule – Mandibles from Far Away\n",
       "    <span style=\"font-size: 0.8em; font-weight: bold; line-height: 1; border-radius: 0.35em; vertical-align: middle; margin-left: 0.5rem\">movie</span>\n",
       "</mark>\n",
       ", \n",
       "<mark class=\"entity\" style=\"background: #ddd; padding: 0.45em 0.6em; margin: 0 0.25em; line-height: 1; border-radius: 0.35em;\">\n",
       "    Sin\n",
       "    <span style=\"font-size: 0.8em; font-weight: bold; line-height: 1; border-radius: 0.35em; vertical-align: middle; margin-left: 0.5rem\">movie</span>\n",
       "</mark>\n",
       ", and \n",
       "<mark class=\"entity\" style=\"background: #ddd; padding: 0.45em 0.6em; margin: 0 0.25em; line-height: 1; border-radius: 0.35em;\">\n",
       "    Saturday Night Fever\n",
       "    <span style=\"font-size: 0.8em; font-weight: bold; line-height: 1; border-radius: 0.35em; vertical-align: middle; margin-left: 0.5rem\">movie</span>\n",
       "</mark>\n",
       ", do you have any movie recommendations for me?</div></span>"
      ],
      "text/plain": [
       "<IPython.core.display.HTML object>"
      ]
     },
     "metadata": {},
     "output_type": "display_data"
    },
    {
     "name": "stdout",
     "output_type": "stream",
     "text": [
      "Since I enjoy Minuscule – Mandibles from Far Away, Sin, and Saturday Night Fever, do you have any movie recommendations for me? {'entities': [(14, 49, 'movie'), (0, 3, 'movie'), (60, 80, 'movie'), (104, 113, 'predicate')]}\n",
      "Missing movie label\n"
     ]
    },
    {
     "data": {
      "text/html": [
       "<span class=\"tex2jax_ignore\"><div class=\"entities\" style=\"line-height: 2.5; direction: ltr\">Since I enjoy \n",
       "<mark class=\"entity\" style=\"background: #ddd; padding: 0.45em 0.6em; margin: 0 0.25em; line-height: 1; border-radius: 0.35em;\">\n",
       "    To Live\n",
       "    <span style=\"font-size: 0.8em; font-weight: bold; line-height: 1; border-radius: 0.35em; vertical-align: middle; margin-left: 0.5rem\">movie</span>\n",
       "</mark>\n",
       " and Die in L.A., \n",
       "<mark class=\"entity\" style=\"background: #ddd; padding: 0.45em 0.6em; margin: 0 0.25em; line-height: 1; border-radius: 0.35em;\">\n",
       "    Banjo\n",
       "    <span style=\"font-size: 0.8em; font-weight: bold; line-height: 1; border-radius: 0.35em; vertical-align: middle; margin-left: 0.5rem\">movie</span>\n",
       "</mark>\n",
       ", and \n",
       "<mark class=\"entity\" style=\"background: #ddd; padding: 0.45em 0.6em; margin: 0 0.25em; line-height: 1; border-radius: 0.35em;\">\n",
       "    Srimanthudu\n",
       "    <span style=\"font-size: 0.8em; font-weight: bold; line-height: 1; border-radius: 0.35em; vertical-align: middle; margin-left: 0.5rem\">movie</span>\n",
       "</mark>\n",
       ", do you have any movie recommendations for me?</div></span>"
      ],
      "text/plain": [
       "<IPython.core.display.HTML object>"
      ]
     },
     "metadata": {},
     "output_type": "display_data"
    },
    {
     "name": "stdout",
     "output_type": "stream",
     "text": [
      "Since I enjoy To Live and Die in L.A., Banjo, and Srimanthudu, do you have any movie recommendations for me? {'entities': [(14, 37, 'movie'), (39, 44, 'movie'), (50, 61, 'movie'), (85, 94, 'predicate')]}\n",
      "Missing movie label\n"
     ]
    },
    {
     "data": {
      "text/html": [
       "<span class=\"tex2jax_ignore\"><div class=\"entities\" style=\"line-height: 2.5; direction: ltr\">Since I enjoy \n",
       "<mark class=\"entity\" style=\"background: #ddd; padding: 0.45em 0.6em; margin: 0 0.25em; line-height: 1; border-radius: 0.35em;\">\n",
       "    The Adventures of Sharkboy\n",
       "    <span style=\"font-size: 0.8em; font-weight: bold; line-height: 1; border-radius: 0.35em; vertical-align: middle; margin-left: 0.5rem\">movie</span>\n",
       "</mark>\n",
       " and \n",
       "<mark class=\"entity\" style=\"background: #ddd; padding: 0.45em 0.6em; margin: 0 0.25em; line-height: 1; border-radius: 0.35em;\">\n",
       "    Lavagirl in 3-D\n",
       "    <span style=\"font-size: 0.8em; font-weight: bold; line-height: 1; border-radius: 0.35em; vertical-align: middle; margin-left: 0.5rem\">movie</span>\n",
       "</mark>\n",
       ", \n",
       "<mark class=\"entity\" style=\"background: #ddd; padding: 0.45em 0.6em; margin: 0 0.25em; line-height: 1; border-radius: 0.35em;\">\n",
       "    Shape of the Moon\n",
       "    <span style=\"font-size: 0.8em; font-weight: bold; line-height: 1; border-radius: 0.35em; vertical-align: middle; margin-left: 0.5rem\">movie</span>\n",
       "</mark>\n",
       ", and \n",
       "<mark class=\"entity\" style=\"background: #ddd; padding: 0.45em 0.6em; margin: 0 0.25em; line-height: 1; border-radius: 0.35em;\">\n",
       "    Dog Day Afternoon\n",
       "    <span style=\"font-size: 0.8em; font-weight: bold; line-height: 1; border-radius: 0.35em; vertical-align: middle; margin-left: 0.5rem\">movie</span>\n",
       "</mark>\n",
       ", do you have any movie recommendations for me?</div></span>"
      ],
      "text/plain": [
       "<IPython.core.display.HTML object>"
      ]
     },
     "metadata": {},
     "output_type": "display_data"
    },
    {
     "name": "stdout",
     "output_type": "stream",
     "text": [
      "Since I enjoy The Adventures of Sharkboy and Lavagirl in 3-D, Shape of the Moon, and Dog Day Afternoon, do you have any movie recommendations for me? {'entities': [(14, 60, 'movie'), (62, 79, 'movie'), (85, 102, 'movie'), (126, 135, 'predicate')]}\n",
      "Missing movie label\n"
     ]
    },
    {
     "data": {
      "text/html": [
       "<span class=\"tex2jax_ignore\"><div class=\"entities\" style=\"line-height: 2.5; direction: ltr\">Since I enjoy \n",
       "<mark class=\"entity\" style=\"background: #ddd; padding: 0.45em 0.6em; margin: 0 0.25em; line-height: 1; border-radius: 0.35em;\">\n",
       "    The Adventures of Sharkboy\n",
       "    <span style=\"font-size: 0.8em; font-weight: bold; line-height: 1; border-radius: 0.35em; vertical-align: middle; margin-left: 0.5rem\">movie</span>\n",
       "</mark>\n",
       " and \n",
       "<mark class=\"entity\" style=\"background: #ddd; padding: 0.45em 0.6em; margin: 0 0.25em; line-height: 1; border-radius: 0.35em;\">\n",
       "    Lavagirl in 3-D\n",
       "    <span style=\"font-size: 0.8em; font-weight: bold; line-height: 1; border-radius: 0.35em; vertical-align: middle; margin-left: 0.5rem\">movie</span>\n",
       "</mark>\n",
       ", \n",
       "<mark class=\"entity\" style=\"background: #ddd; padding: 0.45em 0.6em; margin: 0 0.25em; line-height: 1; border-radius: 0.35em;\">\n",
       "    Shape of the Moon\n",
       "    <span style=\"font-size: 0.8em; font-weight: bold; line-height: 1; border-radius: 0.35em; vertical-align: middle; margin-left: 0.5rem\">movie</span>\n",
       "</mark>\n",
       ", and \n",
       "<mark class=\"entity\" style=\"background: #ddd; padding: 0.45em 0.6em; margin: 0 0.25em; line-height: 1; border-radius: 0.35em;\">\n",
       "    Dog Day Afternoon\n",
       "    <span style=\"font-size: 0.8em; font-weight: bold; line-height: 1; border-radius: 0.35em; vertical-align: middle; margin-left: 0.5rem\">movie</span>\n",
       "</mark>\n",
       ", do you have any movie recommendations for me?</div></span>"
      ],
      "text/plain": [
       "<IPython.core.display.HTML object>"
      ]
     },
     "metadata": {},
     "output_type": "display_data"
    },
    {
     "name": "stdout",
     "output_type": "stream",
     "text": [
      "Since I enjoy The Adventures of Sharkboy and Lavagirl in 3-D, Shape of the Moon, and Dog Day Afternoon, do you have any movie recommendations for me? {'entities': [(14, 60, 'movie'), (62, 79, 'movie'), (85, 102, 'movie'), (126, 135, 'predicate')]}\n",
      "Missing movie label\n"
     ]
    },
    {
     "data": {
      "text/html": [
       "<span class=\"tex2jax_ignore\"><div class=\"entities\" style=\"line-height: 2.5; direction: ltr\">Since I enjoy \n",
       "<mark class=\"entity\" style=\"background: #ddd; padding: 0.45em 0.6em; margin: 0 0.25em; line-height: 1; border-radius: 0.35em;\">\n",
       "    The Prince\n",
       "    <span style=\"font-size: 0.8em; font-weight: bold; line-height: 1; border-radius: 0.35em; vertical-align: middle; margin-left: 0.5rem\">movie</span>\n",
       "</mark>\n",
       " and \n",
       "<mark class=\"entity\" style=\"background: #ddd; padding: 0.45em 0.6em; margin: 0 0.25em; line-height: 1; border-radius: 0.35em;\">\n",
       "    Me 4: The Elephant Adventure\n",
       "    <span style=\"font-size: 0.8em; font-weight: bold; line-height: 1; border-radius: 0.35em; vertical-align: middle; margin-left: 0.5rem\">movie</span>\n",
       "</mark>\n",
       ", \n",
       "<mark class=\"entity\" style=\"background: #ddd; padding: 0.45em 0.6em; margin: 0 0.25em; line-height: 1; border-radius: 0.35em;\">\n",
       "    The Corpse Vanishes\n",
       "    <span style=\"font-size: 0.8em; font-weight: bold; line-height: 1; border-radius: 0.35em; vertical-align: middle; margin-left: 0.5rem\">movie</span>\n",
       "</mark>\n",
       ", and \n",
       "<mark class=\"entity\" style=\"background: #ddd; padding: 0.45em 0.6em; margin: 0 0.25em; line-height: 1; border-radius: 0.35em;\">\n",
       "    28 Days Later\n",
       "    <span style=\"font-size: 0.8em; font-weight: bold; line-height: 1; border-radius: 0.35em; vertical-align: middle; margin-left: 0.5rem\">movie</span>\n",
       "</mark>\n",
       ", do you have any movie recommendations for me?</div></span>"
      ],
      "text/plain": [
       "<IPython.core.display.HTML object>"
      ]
     },
     "metadata": {},
     "output_type": "display_data"
    },
    {
     "name": "stdout",
     "output_type": "stream",
     "text": [
      "Since I enjoy The Prince and Me 4: The Elephant Adventure, The Corpse Vanishes, and 28 Days Later, do you have any movie recommendations for me? {'entities': [(14, 57, 'movie'), (59, 78, 'movie'), (84, 97, 'movie'), (121, 130, 'predicate')]}\n",
      "Missing movie label\n"
     ]
    },
    {
     "data": {
      "text/html": [
       "<span class=\"tex2jax_ignore\"><div class=\"entities\" style=\"line-height: 2.5; direction: ltr\">Since I enjoy \n",
       "<mark class=\"entity\" style=\"background: #ddd; padding: 0.45em 0.6em; margin: 0 0.25em; line-height: 1; border-radius: 0.35em;\">\n",
       "    The Prince\n",
       "    <span style=\"font-size: 0.8em; font-weight: bold; line-height: 1; border-radius: 0.35em; vertical-align: middle; margin-left: 0.5rem\">movie</span>\n",
       "</mark>\n",
       " and \n",
       "<mark class=\"entity\" style=\"background: #ddd; padding: 0.45em 0.6em; margin: 0 0.25em; line-height: 1; border-radius: 0.35em;\">\n",
       "    Me 4: The Elephant Adventure\n",
       "    <span style=\"font-size: 0.8em; font-weight: bold; line-height: 1; border-radius: 0.35em; vertical-align: middle; margin-left: 0.5rem\">movie</span>\n",
       "</mark>\n",
       ", \n",
       "<mark class=\"entity\" style=\"background: #ddd; padding: 0.45em 0.6em; margin: 0 0.25em; line-height: 1; border-radius: 0.35em;\">\n",
       "    The Corpse Vanishes\n",
       "    <span style=\"font-size: 0.8em; font-weight: bold; line-height: 1; border-radius: 0.35em; vertical-align: middle; margin-left: 0.5rem\">movie</span>\n",
       "</mark>\n",
       ", and \n",
       "<mark class=\"entity\" style=\"background: #ddd; padding: 0.45em 0.6em; margin: 0 0.25em; line-height: 1; border-radius: 0.35em;\">\n",
       "    28 Days Later\n",
       "    <span style=\"font-size: 0.8em; font-weight: bold; line-height: 1; border-radius: 0.35em; vertical-align: middle; margin-left: 0.5rem\">movie</span>\n",
       "</mark>\n",
       ", do you have any movie recommendations for me?</div></span>"
      ],
      "text/plain": [
       "<IPython.core.display.HTML object>"
      ]
     },
     "metadata": {},
     "output_type": "display_data"
    },
    {
     "name": "stdout",
     "output_type": "stream",
     "text": [
      "Since I enjoy The Prince and Me 4: The Elephant Adventure, The Corpse Vanishes, and 28 Days Later, do you have any movie recommendations for me? {'entities': [(14, 57, 'movie'), (59, 78, 'movie'), (84, 97, 'movie'), (121, 130, 'predicate')]}\n",
      "Missing movie label\n"
     ]
    },
    {
     "data": {
      "text/html": [
       "<span class=\"tex2jax_ignore\"><div class=\"entities\" style=\"line-height: 2.5; direction: ltr\">Since I enjoy \n",
       "<mark class=\"entity\" style=\"background: #ddd; padding: 0.45em 0.6em; margin: 0 0.25em; line-height: 1; border-radius: 0.35em;\">\n",
       "    No Retreat\n",
       "    <span style=\"font-size: 0.8em; font-weight: bold; line-height: 1; border-radius: 0.35em; vertical-align: middle; margin-left: 0.5rem\">movie</span>\n",
       "</mark>\n",
       ", \n",
       "<mark class=\"entity\" style=\"background: #ddd; padding: 0.45em 0.6em; margin: 0 0.25em; line-height: 1; border-radius: 0.35em;\">\n",
       "    No Surrender 3: Blood Brothers\n",
       "    <span style=\"font-size: 0.8em; font-weight: bold; line-height: 1; border-radius: 0.35em; vertical-align: middle; margin-left: 0.5rem\">movie</span>\n",
       "</mark>\n",
       ", \n",
       "<mark class=\"entity\" style=\"background: #ddd; padding: 0.45em 0.6em; margin: 0 0.25em; line-height: 1; border-radius: 0.35em;\">\n",
       "    Act of Valor\n",
       "    <span style=\"font-size: 0.8em; font-weight: bold; line-height: 1; border-radius: 0.35em; vertical-align: middle; margin-left: 0.5rem\">movie</span>\n",
       "</mark>\n",
       ", and \n",
       "<mark class=\"entity\" style=\"background: #ddd; padding: 0.45em 0.6em; margin: 0 0.25em; line-height: 1; border-radius: 0.35em;\">\n",
       "    Sept morts sur ordonnance\n",
       "    <span style=\"font-size: 0.8em; font-weight: bold; line-height: 1; border-radius: 0.35em; vertical-align: middle; margin-left: 0.5rem\">movie</span>\n",
       "</mark>\n",
       ", do you have any movie recommendations for me?</div></span>"
      ],
      "text/plain": [
       "<IPython.core.display.HTML object>"
      ]
     },
     "metadata": {},
     "output_type": "display_data"
    },
    {
     "name": "stdout",
     "output_type": "stream",
     "text": [
      "Since I enjoy No Retreat, No Surrender 3: Blood Brothers, Act of Valor, and Sept morts sur ordonnance, do you have any movie recommendations for me? {'entities': [(14, 56, 'movie'), (58, 70, 'movie'), (76, 101, 'movie'), (125, 134, 'predicate')]}\n",
      "Missing movie label\n"
     ]
    },
    {
     "data": {
      "text/html": [
       "<span class=\"tex2jax_ignore\"><div class=\"entities\" style=\"line-height: 2.5; direction: ltr\">Since I enjoy \n",
       "<mark class=\"entity\" style=\"background: #ddd; padding: 0.45em 0.6em; margin: 0 0.25em; line-height: 1; border-radius: 0.35em;\">\n",
       "    No Retreat\n",
       "    <span style=\"font-size: 0.8em; font-weight: bold; line-height: 1; border-radius: 0.35em; vertical-align: middle; margin-left: 0.5rem\">movie</span>\n",
       "</mark>\n",
       ", \n",
       "<mark class=\"entity\" style=\"background: #ddd; padding: 0.45em 0.6em; margin: 0 0.25em; line-height: 1; border-radius: 0.35em;\">\n",
       "    No Surrender 3: Blood Brothers\n",
       "    <span style=\"font-size: 0.8em; font-weight: bold; line-height: 1; border-radius: 0.35em; vertical-align: middle; margin-left: 0.5rem\">movie</span>\n",
       "</mark>\n",
       ", \n",
       "<mark class=\"entity\" style=\"background: #ddd; padding: 0.45em 0.6em; margin: 0 0.25em; line-height: 1; border-radius: 0.35em;\">\n",
       "    Act of Valor\n",
       "    <span style=\"font-size: 0.8em; font-weight: bold; line-height: 1; border-radius: 0.35em; vertical-align: middle; margin-left: 0.5rem\">movie</span>\n",
       "</mark>\n",
       ", and \n",
       "<mark class=\"entity\" style=\"background: #ddd; padding: 0.45em 0.6em; margin: 0 0.25em; line-height: 1; border-radius: 0.35em;\">\n",
       "    Sept morts sur ordonnance\n",
       "    <span style=\"font-size: 0.8em; font-weight: bold; line-height: 1; border-radius: 0.35em; vertical-align: middle; margin-left: 0.5rem\">movie</span>\n",
       "</mark>\n",
       ", do you have any movie recommendations for me?</div></span>"
      ],
      "text/plain": [
       "<IPython.core.display.HTML object>"
      ]
     },
     "metadata": {},
     "output_type": "display_data"
    },
    {
     "name": "stdout",
     "output_type": "stream",
     "text": [
      "Since I enjoy No Retreat, No Surrender 3: Blood Brothers, Act of Valor, and Sept morts sur ordonnance, do you have any movie recommendations for me? {'entities': [(14, 56, 'movie'), (58, 70, 'movie'), (76, 101, 'movie'), (125, 134, 'predicate')]}\n",
      "Missing movie label\n"
     ]
    },
    {
     "data": {
      "text/html": [
       "<span class=\"tex2jax_ignore\"><div class=\"entities\" style=\"line-height: 2.5; direction: ltr\">Since I enjoy \n",
       "<mark class=\"entity\" style=\"background: #ddd; padding: 0.45em 0.6em; margin: 0 0.25em; line-height: 1; border-radius: 0.35em;\">\n",
       "    The Strange Case of Dr. Jekyll and Mr. Hyde\n",
       "    <span style=\"font-size: 0.8em; font-weight: bold; line-height: 1; border-radius: 0.35em; vertical-align: middle; margin-left: 0.5rem\">movie</span>\n",
       "</mark>\n",
       ", \n",
       "<mark class=\"entity\" style=\"background: #ddd; padding: 0.45em 0.6em; margin: 0 0.25em; line-height: 1; border-radius: 0.35em;\">\n",
       "    Tomorrow\n",
       "    <span style=\"font-size: 0.8em; font-weight: bold; line-height: 1; border-radius: 0.35em; vertical-align: middle; margin-left: 0.5rem\">genre</span>\n",
       "</mark>\n",
       ", and \n",
       "<mark class=\"entity\" style=\"background: #ddd; padding: 0.45em 0.6em; margin: 0 0.25em; line-height: 1; border-radius: 0.35em;\">\n",
       "    For Some Inexplicable Reason\n",
       "    <span style=\"font-size: 0.8em; font-weight: bold; line-height: 1; border-radius: 0.35em; vertical-align: middle; margin-left: 0.5rem\">movie</span>\n",
       "</mark>\n",
       ", do you have any movie recommendations for me?</div></span>"
      ],
      "text/plain": [
       "<IPython.core.display.HTML object>"
      ]
     },
     "metadata": {},
     "output_type": "display_data"
    },
    {
     "name": "stdout",
     "output_type": "stream",
     "text": [
      "Since I enjoy The Strange Case of Dr. Jekyll and Mr. Hyde, Tomorrow, and For Some Inexplicable Reason, do you have any movie recommendations for me? {'entities': [(14, 57, 'movie'), (59, 67, 'movie'), (73, 101, 'movie'), (125, 134, 'predicate')]}\n",
      "Missing genre label\n"
     ]
    },
    {
     "data": {
      "text/html": [
       "<span class=\"tex2jax_ignore\"><div class=\"entities\" style=\"line-height: 2.5; direction: ltr\">Since I enjoy \n",
       "<mark class=\"entity\" style=\"background: #ddd; padding: 0.45em 0.6em; margin: 0 0.25em; line-height: 1; border-radius: 0.35em;\">\n",
       "    Tim and\n",
       "    <span style=\"font-size: 0.8em; font-weight: bold; line-height: 1; border-radius: 0.35em; vertical-align: middle; margin-left: 0.5rem\">movie</span>\n",
       "</mark>\n",
       " \n",
       "<mark class=\"entity\" style=\"background: #ddd; padding: 0.45em 0.6em; margin: 0 0.25em; line-height: 1; border-radius: 0.35em;\">\n",
       "    Eric's Billion Dollar Movie\n",
       "    <span style=\"font-size: 0.8em; font-weight: bold; line-height: 1; border-radius: 0.35em; vertical-align: middle; margin-left: 0.5rem\">movie</span>\n",
       "</mark>\n",
       ", \n",
       "<mark class=\"entity\" style=\"background: #ddd; padding: 0.45em 0.6em; margin: 0 0.25em; line-height: 1; border-radius: 0.35em;\">\n",
       "    Keinohrhasen\n",
       "    <span style=\"font-size: 0.8em; font-weight: bold; line-height: 1; border-radius: 0.35em; vertical-align: middle; margin-left: 0.5rem\">movie</span>\n",
       "</mark>\n",
       ", and \n",
       "<mark class=\"entity\" style=\"background: #ddd; padding: 0.45em 0.6em; margin: 0 0.25em; line-height: 1; border-radius: 0.35em;\">\n",
       "    Camille Claudel\n",
       "    <span style=\"font-size: 0.8em; font-weight: bold; line-height: 1; border-radius: 0.35em; vertical-align: middle; margin-left: 0.5rem\">movie</span>\n",
       "</mark>\n",
       ", do you have any movie recommendations for me?</div></span>"
      ],
      "text/plain": [
       "<IPython.core.display.HTML object>"
      ]
     },
     "metadata": {},
     "output_type": "display_data"
    },
    {
     "name": "stdout",
     "output_type": "stream",
     "text": [
      "Since I enjoy Tim and Eric's Billion Dollar Movie, Keinohrhasen, and Camille Claudel, do you have any movie recommendations for me? {'entities': [(14, 49, 'movie'), (51, 63, 'movie'), (69, 84, 'movie'), (108, 117, 'predicate')]}\n",
      "Missing movie label\n"
     ]
    },
    {
     "data": {
      "text/html": [
       "<span class=\"tex2jax_ignore\"><div class=\"entities\" style=\"line-height: 2.5; direction: ltr\">Since I enjoy \n",
       "<mark class=\"entity\" style=\"background: #ddd; padding: 0.45em 0.6em; margin: 0 0.25em; line-height: 1; border-radius: 0.35em;\">\n",
       "    Tim and\n",
       "    <span style=\"font-size: 0.8em; font-weight: bold; line-height: 1; border-radius: 0.35em; vertical-align: middle; margin-left: 0.5rem\">movie</span>\n",
       "</mark>\n",
       " \n",
       "<mark class=\"entity\" style=\"background: #ddd; padding: 0.45em 0.6em; margin: 0 0.25em; line-height: 1; border-radius: 0.35em;\">\n",
       "    Eric's Billion Dollar Movie\n",
       "    <span style=\"font-size: 0.8em; font-weight: bold; line-height: 1; border-radius: 0.35em; vertical-align: middle; margin-left: 0.5rem\">movie</span>\n",
       "</mark>\n",
       ", \n",
       "<mark class=\"entity\" style=\"background: #ddd; padding: 0.45em 0.6em; margin: 0 0.25em; line-height: 1; border-radius: 0.35em;\">\n",
       "    Keinohrhasen\n",
       "    <span style=\"font-size: 0.8em; font-weight: bold; line-height: 1; border-radius: 0.35em; vertical-align: middle; margin-left: 0.5rem\">movie</span>\n",
       "</mark>\n",
       ", and \n",
       "<mark class=\"entity\" style=\"background: #ddd; padding: 0.45em 0.6em; margin: 0 0.25em; line-height: 1; border-radius: 0.35em;\">\n",
       "    Camille Claudel\n",
       "    <span style=\"font-size: 0.8em; font-weight: bold; line-height: 1; border-radius: 0.35em; vertical-align: middle; margin-left: 0.5rem\">movie</span>\n",
       "</mark>\n",
       ", do you have any movie recommendations for me?</div></span>"
      ],
      "text/plain": [
       "<IPython.core.display.HTML object>"
      ]
     },
     "metadata": {},
     "output_type": "display_data"
    },
    {
     "name": "stdout",
     "output_type": "stream",
     "text": [
      "Since I enjoy Tim and Eric's Billion Dollar Movie, Keinohrhasen, and Camille Claudel, do you have any movie recommendations for me? {'entities': [(14, 49, 'movie'), (51, 63, 'movie'), (69, 84, 'movie'), (108, 117, 'predicate')]}\n",
      "Missing movie label\n"
     ]
    },
    {
     "data": {
      "text/html": [
       "<span class=\"tex2jax_ignore\"><div class=\"entities\" style=\"line-height: 2.5; direction: ltr\">Since I enjoy \n",
       "<mark class=\"entity\" style=\"background: #ddd; padding: 0.45em 0.6em; margin: 0 0.25em; line-height: 1; border-radius: 0.35em;\">\n",
       "    Greystoke: The Legend of Tarzan\n",
       "    <span style=\"font-size: 0.8em; font-weight: bold; line-height: 1; border-radius: 0.35em; vertical-align: middle; margin-left: 0.5rem\">movie</span>\n",
       "</mark>\n",
       ", Lord of the Apes, \n",
       "<mark class=\"entity\" style=\"background: #ddd; padding: 0.45em 0.6em; margin: 0 0.25em; line-height: 1; border-radius: 0.35em;\">\n",
       "    Day of the Falcon\n",
       "    <span style=\"font-size: 0.8em; font-weight: bold; line-height: 1; border-radius: 0.35em; vertical-align: middle; margin-left: 0.5rem\">movie</span>\n",
       "</mark>\n",
       ", and \n",
       "<mark class=\"entity\" style=\"background: #ddd; padding: 0.45em 0.6em; margin: 0 0.25em; line-height: 1; border-radius: 0.35em;\">\n",
       "    Jem and the Holograms\n",
       "    <span style=\"font-size: 0.8em; font-weight: bold; line-height: 1; border-radius: 0.35em; vertical-align: middle; margin-left: 0.5rem\">movie</span>\n",
       "</mark>\n",
       ", do you have any movie recommendations for me?</div></span>"
      ],
      "text/plain": [
       "<IPython.core.display.HTML object>"
      ]
     },
     "metadata": {},
     "output_type": "display_data"
    },
    {
     "name": "stdout",
     "output_type": "stream",
     "text": [
      "Since I enjoy Greystoke: The Legend of Tarzan, Lord of the Apes, Day of the Falcon, and Jem and the Holograms, do you have any movie recommendations for me? {'entities': [(14, 63, 'movie'), (65, 82, 'movie'), (88, 109, 'movie'), (133, 142, 'predicate')]}\n",
      "Missing movie label\n"
     ]
    },
    {
     "data": {
      "text/html": [
       "<span class=\"tex2jax_ignore\"><div class=\"entities\" style=\"line-height: 2.5; direction: ltr\">Since I enjoy \n",
       "<mark class=\"entity\" style=\"background: #ddd; padding: 0.45em 0.6em; margin: 0 0.25em; line-height: 1; border-radius: 0.35em;\">\n",
       "    Cousin Bette\n",
       "    <span style=\"font-size: 0.8em; font-weight: bold; line-height: 1; border-radius: 0.35em; vertical-align: middle; margin-left: 0.5rem\">movie</span>\n",
       "</mark>\n",
       ", Heaven Knows, \n",
       "<mark class=\"entity\" style=\"background: #ddd; padding: 0.45em 0.6em; margin: 0 0.25em; line-height: 1; border-radius: 0.35em;\">\n",
       "    Mr. Allison\n",
       "    <span style=\"font-size: 0.8em; font-weight: bold; line-height: 1; border-radius: 0.35em; vertical-align: middle; margin-left: 0.5rem\">movie</span>\n",
       "</mark>\n",
       ", and \n",
       "<mark class=\"entity\" style=\"background: #ddd; padding: 0.45em 0.6em; margin: 0 0.25em; line-height: 1; border-radius: 0.35em;\">\n",
       "    Nothing But the Night\n",
       "    <span style=\"font-size: 0.8em; font-weight: bold; line-height: 1; border-radius: 0.35em; vertical-align: middle; margin-left: 0.5rem\">movie</span>\n",
       "</mark>\n",
       ", do you have any movie recommendations for me?</div></span>"
      ],
      "text/plain": [
       "<IPython.core.display.HTML object>"
      ]
     },
     "metadata": {},
     "output_type": "display_data"
    },
    {
     "name": "stdout",
     "output_type": "stream",
     "text": [
      "Since I enjoy Cousin Bette, Heaven Knows, Mr. Allison, and Nothing But the Night, do you have any movie recommendations for me? {'entities': [(14, 26, 'movie'), (28, 53, 'movie'), (59, 80, 'movie'), (104, 113, 'predicate')]}\n",
      "Missing movie label\n"
     ]
    },
    {
     "data": {
      "text/html": [
       "<span class=\"tex2jax_ignore\"><div class=\"entities\" style=\"line-height: 2.5; direction: ltr\">Since I enjoy \n",
       "<mark class=\"entity\" style=\"background: #ddd; padding: 0.45em 0.6em; margin: 0 0.25em; line-height: 1; border-radius: 0.35em;\">\n",
       "    Dude,\n",
       "    <span style=\"font-size: 0.8em; font-weight: bold; line-height: 1; border-radius: 0.35em; vertical-align: middle; margin-left: 0.5rem\">movie</span>\n",
       "</mark>\n",
       " \n",
       "<mark class=\"entity\" style=\"background: #ddd; padding: 0.45em 0.6em; margin: 0 0.25em; line-height: 1; border-radius: 0.35em;\">\n",
       "    Where's My Car?\n",
       "    <span style=\"font-size: 0.8em; font-weight: bold; line-height: 1; border-radius: 0.35em; vertical-align: middle; margin-left: 0.5rem\">movie</span>\n",
       "</mark>\n",
       ", \n",
       "<mark class=\"entity\" style=\"background: #ddd; padding: 0.45em 0.6em; margin: 0 0.25em; line-height: 1; border-radius: 0.35em;\">\n",
       "    Ferrari Ki Sawaari\n",
       "    <span style=\"font-size: 0.8em; font-weight: bold; line-height: 1; border-radius: 0.35em; vertical-align: middle; margin-left: 0.5rem\">movie</span>\n",
       "</mark>\n",
       ", and \n",
       "<mark class=\"entity\" style=\"background: #ddd; padding: 0.45em 0.6em; margin: 0 0.25em; line-height: 1; border-radius: 0.35em;\">\n",
       "    Bitten\n",
       "    <span style=\"font-size: 0.8em; font-weight: bold; line-height: 1; border-radius: 0.35em; vertical-align: middle; margin-left: 0.5rem\">movie</span>\n",
       "</mark>\n",
       ", do you have any movie recommendations for me?</div></span>"
      ],
      "text/plain": [
       "<IPython.core.display.HTML object>"
      ]
     },
     "metadata": {},
     "output_type": "display_data"
    },
    {
     "name": "stdout",
     "output_type": "stream",
     "text": [
      "Since I enjoy Dude, Where's My Car?, Ferrari Ki Sawaari, and Bitten, do you have any movie recommendations for me? {'entities': [(14, 35, 'movie'), (37, 55, 'movie'), (61, 67, 'movie'), (91, 100, 'predicate')]}\n",
      "Missing movie label\n"
     ]
    },
    {
     "data": {
      "text/html": [
       "<span class=\"tex2jax_ignore\"><div class=\"entities\" style=\"line-height: 2.5; direction: ltr\">Since I enjoy \n",
       "<mark class=\"entity\" style=\"background: #ddd; padding: 0.45em 0.6em; margin: 0 0.25em; line-height: 1; border-radius: 0.35em;\">\n",
       "    Dude,\n",
       "    <span style=\"font-size: 0.8em; font-weight: bold; line-height: 1; border-radius: 0.35em; vertical-align: middle; margin-left: 0.5rem\">movie</span>\n",
       "</mark>\n",
       " \n",
       "<mark class=\"entity\" style=\"background: #ddd; padding: 0.45em 0.6em; margin: 0 0.25em; line-height: 1; border-radius: 0.35em;\">\n",
       "    Where's My Car?\n",
       "    <span style=\"font-size: 0.8em; font-weight: bold; line-height: 1; border-radius: 0.35em; vertical-align: middle; margin-left: 0.5rem\">movie</span>\n",
       "</mark>\n",
       ", \n",
       "<mark class=\"entity\" style=\"background: #ddd; padding: 0.45em 0.6em; margin: 0 0.25em; line-height: 1; border-radius: 0.35em;\">\n",
       "    Ferrari Ki Sawaari\n",
       "    <span style=\"font-size: 0.8em; font-weight: bold; line-height: 1; border-radius: 0.35em; vertical-align: middle; margin-left: 0.5rem\">movie</span>\n",
       "</mark>\n",
       ", and \n",
       "<mark class=\"entity\" style=\"background: #ddd; padding: 0.45em 0.6em; margin: 0 0.25em; line-height: 1; border-radius: 0.35em;\">\n",
       "    Bitten\n",
       "    <span style=\"font-size: 0.8em; font-weight: bold; line-height: 1; border-radius: 0.35em; vertical-align: middle; margin-left: 0.5rem\">movie</span>\n",
       "</mark>\n",
       ", do you have any movie recommendations for me?</div></span>"
      ],
      "text/plain": [
       "<IPython.core.display.HTML object>"
      ]
     },
     "metadata": {},
     "output_type": "display_data"
    },
    {
     "name": "stdout",
     "output_type": "stream",
     "text": [
      "Since I enjoy Dude, Where's My Car?, Ferrari Ki Sawaari, and Bitten, do you have any movie recommendations for me? {'entities': [(14, 35, 'movie'), (37, 55, 'movie'), (61, 67, 'movie'), (91, 100, 'predicate')]}\n",
      "Missing movie label\n"
     ]
    },
    {
     "data": {
      "text/html": [
       "<span class=\"tex2jax_ignore\"><div class=\"entities\" style=\"line-height: 2.5; direction: ltr\">Since I enjoy \n",
       "<mark class=\"entity\" style=\"background: #ddd; padding: 0.45em 0.6em; margin: 0 0.25em; line-height: 1; border-radius: 0.35em;\">\n",
       "    Silent Night\n",
       "    <span style=\"font-size: 0.8em; font-weight: bold; line-height: 1; border-radius: 0.35em; vertical-align: middle; margin-left: 0.5rem\">movie</span>\n",
       "</mark>\n",
       ", \n",
       "<mark class=\"entity\" style=\"background: #ddd; padding: 0.45em 0.6em; margin: 0 0.25em; line-height: 1; border-radius: 0.35em;\">\n",
       "    Bloody Night 2: Revival\n",
       "    <span style=\"font-size: 0.8em; font-weight: bold; line-height: 1; border-radius: 0.35em; vertical-align: middle; margin-left: 0.5rem\">movie</span>\n",
       "</mark>\n",
       ", \n",
       "<mark class=\"entity\" style=\"background: #ddd; padding: 0.45em 0.6em; margin: 0 0.25em; line-height: 1; border-radius: 0.35em;\">\n",
       "    Robert Rylands' last journey\n",
       "    <span style=\"font-size: 0.8em; font-weight: bold; line-height: 1; border-radius: 0.35em; vertical-align: middle; margin-left: 0.5rem\">movie</span>\n",
       "</mark>\n",
       ", and \n",
       "<mark class=\"entity\" style=\"background: #ddd; padding: 0.45em 0.6em; margin: 0 0.25em; line-height: 1; border-radius: 0.35em;\">\n",
       "    Cub\n",
       "    <span style=\"font-size: 0.8em; font-weight: bold; line-height: 1; border-radius: 0.35em; vertical-align: middle; margin-left: 0.5rem\">movie</span>\n",
       "</mark>\n",
       ", do you have any movie recommendations for me?</div></span>"
      ],
      "text/plain": [
       "<IPython.core.display.HTML object>"
      ]
     },
     "metadata": {},
     "output_type": "display_data"
    },
    {
     "name": "stdout",
     "output_type": "stream",
     "text": [
      "Since I enjoy Silent Night, Bloody Night 2: Revival, Robert Rylands' last journey, and Cub, do you have any movie recommendations for me? {'entities': [(14, 51, 'movie'), (53, 81, 'movie'), (87, 90, 'movie'), (114, 123, 'predicate')]}\n",
      "Missing movie label\n"
     ]
    },
    {
     "data": {
      "text/html": [
       "<span class=\"tex2jax_ignore\"><div class=\"entities\" style=\"line-height: 2.5; direction: ltr\">Since I enjoy \n",
       "<mark class=\"entity\" style=\"background: #ddd; padding: 0.45em 0.6em; margin: 0 0.25em; line-height: 1; border-radius: 0.35em;\">\n",
       "    Silent Night\n",
       "    <span style=\"font-size: 0.8em; font-weight: bold; line-height: 1; border-radius: 0.35em; vertical-align: middle; margin-left: 0.5rem\">movie</span>\n",
       "</mark>\n",
       ", \n",
       "<mark class=\"entity\" style=\"background: #ddd; padding: 0.45em 0.6em; margin: 0 0.25em; line-height: 1; border-radius: 0.35em;\">\n",
       "    Bloody Night 2: Revival\n",
       "    <span style=\"font-size: 0.8em; font-weight: bold; line-height: 1; border-radius: 0.35em; vertical-align: middle; margin-left: 0.5rem\">movie</span>\n",
       "</mark>\n",
       ", \n",
       "<mark class=\"entity\" style=\"background: #ddd; padding: 0.45em 0.6em; margin: 0 0.25em; line-height: 1; border-radius: 0.35em;\">\n",
       "    Robert Rylands' last journey\n",
       "    <span style=\"font-size: 0.8em; font-weight: bold; line-height: 1; border-radius: 0.35em; vertical-align: middle; margin-left: 0.5rem\">movie</span>\n",
       "</mark>\n",
       ", and \n",
       "<mark class=\"entity\" style=\"background: #ddd; padding: 0.45em 0.6em; margin: 0 0.25em; line-height: 1; border-radius: 0.35em;\">\n",
       "    Cub\n",
       "    <span style=\"font-size: 0.8em; font-weight: bold; line-height: 1; border-radius: 0.35em; vertical-align: middle; margin-left: 0.5rem\">movie</span>\n",
       "</mark>\n",
       ", do you have any movie recommendations for me?</div></span>"
      ],
      "text/plain": [
       "<IPython.core.display.HTML object>"
      ]
     },
     "metadata": {},
     "output_type": "display_data"
    },
    {
     "name": "stdout",
     "output_type": "stream",
     "text": [
      "Since I enjoy Silent Night, Bloody Night 2: Revival, Robert Rylands' last journey, and Cub, do you have any movie recommendations for me? {'entities': [(14, 51, 'movie'), (53, 81, 'movie'), (87, 90, 'movie'), (114, 123, 'predicate')]}\n",
      "Missing movie label\n"
     ]
    },
    {
     "data": {
      "text/html": [
       "<span class=\"tex2jax_ignore\"><div class=\"entities\" style=\"line-height: 2.5; direction: ltr\">Since I enjoy \n",
       "<mark class=\"entity\" style=\"background: #ddd; padding: 0.45em 0.6em; margin: 0 0.25em; line-height: 1; border-radius: 0.35em;\">\n",
       "    Crouching Tiger\n",
       "    <span style=\"font-size: 0.8em; font-weight: bold; line-height: 1; border-radius: 0.35em; vertical-align: middle; margin-left: 0.5rem\">movie</span>\n",
       "</mark>\n",
       ", \n",
       "<mark class=\"entity\" style=\"background: #ddd; padding: 0.45em 0.6em; margin: 0 0.25em; line-height: 1; border-radius: 0.35em;\">\n",
       "    Hidden Dragon: Sword of Destiny\n",
       "    <span style=\"font-size: 0.8em; font-weight: bold; line-height: 1; border-radius: 0.35em; vertical-align: middle; margin-left: 0.5rem\">movie</span>\n",
       "</mark>\n",
       ", \n",
       "<mark class=\"entity\" style=\"background: #ddd; padding: 0.45em 0.6em; margin: 0 0.25em; line-height: 1; border-radius: 0.35em;\">\n",
       "    Love the Hard Way\n",
       "    <span style=\"font-size: 0.8em; font-weight: bold; line-height: 1; border-radius: 0.35em; vertical-align: middle; margin-left: 0.5rem\">movie</span>\n",
       "</mark>\n",
       ", and \n",
       "<mark class=\"entity\" style=\"background: #ddd; padding: 0.45em 0.6em; margin: 0 0.25em; line-height: 1; border-radius: 0.35em;\">\n",
       "    Richard III\n",
       "    <span style=\"font-size: 0.8em; font-weight: bold; line-height: 1; border-radius: 0.35em; vertical-align: middle; margin-left: 0.5rem\">movie</span>\n",
       "</mark>\n",
       ", do you have any movie recommendations for me?</div></span>"
      ],
      "text/plain": [
       "<IPython.core.display.HTML object>"
      ]
     },
     "metadata": {},
     "output_type": "display_data"
    },
    {
     "name": "stdout",
     "output_type": "stream",
     "text": [
      "Since I enjoy Crouching Tiger, Hidden Dragon: Sword of Destiny, Love the Hard Way, and Richard III, do you have any movie recommendations for me? {'entities': [(14, 62, 'movie'), (64, 81, 'movie'), (87, 98, 'movie'), (122, 131, 'predicate')]}\n",
      "Missing movie label\n"
     ]
    },
    {
     "data": {
      "text/html": [
       "<span class=\"tex2jax_ignore\"><div class=\"entities\" style=\"line-height: 2.5; direction: ltr\">Since I enjoy \n",
       "<mark class=\"entity\" style=\"background: #ddd; padding: 0.45em 0.6em; margin: 0 0.25em; line-height: 1; border-radius: 0.35em;\">\n",
       "    Crouching Tiger\n",
       "    <span style=\"font-size: 0.8em; font-weight: bold; line-height: 1; border-radius: 0.35em; vertical-align: middle; margin-left: 0.5rem\">movie</span>\n",
       "</mark>\n",
       ", \n",
       "<mark class=\"entity\" style=\"background: #ddd; padding: 0.45em 0.6em; margin: 0 0.25em; line-height: 1; border-radius: 0.35em;\">\n",
       "    Hidden Dragon: Sword of Destiny\n",
       "    <span style=\"font-size: 0.8em; font-weight: bold; line-height: 1; border-radius: 0.35em; vertical-align: middle; margin-left: 0.5rem\">movie</span>\n",
       "</mark>\n",
       ", \n",
       "<mark class=\"entity\" style=\"background: #ddd; padding: 0.45em 0.6em; margin: 0 0.25em; line-height: 1; border-radius: 0.35em;\">\n",
       "    Love the Hard Way\n",
       "    <span style=\"font-size: 0.8em; font-weight: bold; line-height: 1; border-radius: 0.35em; vertical-align: middle; margin-left: 0.5rem\">movie</span>\n",
       "</mark>\n",
       ", and \n",
       "<mark class=\"entity\" style=\"background: #ddd; padding: 0.45em 0.6em; margin: 0 0.25em; line-height: 1; border-radius: 0.35em;\">\n",
       "    Richard III\n",
       "    <span style=\"font-size: 0.8em; font-weight: bold; line-height: 1; border-radius: 0.35em; vertical-align: middle; margin-left: 0.5rem\">movie</span>\n",
       "</mark>\n",
       ", do you have any movie recommendations for me?</div></span>"
      ],
      "text/plain": [
       "<IPython.core.display.HTML object>"
      ]
     },
     "metadata": {},
     "output_type": "display_data"
    },
    {
     "name": "stdout",
     "output_type": "stream",
     "text": [
      "Since I enjoy Crouching Tiger, Hidden Dragon: Sword of Destiny, Love the Hard Way, and Richard III, do you have any movie recommendations for me? {'entities': [(14, 62, 'movie'), (64, 81, 'movie'), (87, 98, 'movie'), (122, 131, 'predicate')]}\n",
      "Missing movie label\n"
     ]
    },
    {
     "data": {
      "text/html": [
       "<span class=\"tex2jax_ignore\"><div class=\"entities\" style=\"line-height: 2.5; direction: ltr\">Since I enjoy \n",
       "<mark class=\"entity\" style=\"background: #ddd; padding: 0.45em 0.6em; margin: 0 0.25em; line-height: 1; border-radius: 0.35em;\">\n",
       "    Godzilla\n",
       "    <span style=\"font-size: 0.8em; font-weight: bold; line-height: 1; border-radius: 0.35em; vertical-align: middle; margin-left: 0.5rem\">movie</span>\n",
       "</mark>\n",
       ", King of the Monsters!, \n",
       "<mark class=\"entity\" style=\"background: #ddd; padding: 0.45em 0.6em; margin: 0 0.25em; line-height: 1; border-radius: 0.35em;\">\n",
       "    Gandhi, My Father\n",
       "    <span style=\"font-size: 0.8em; font-weight: bold; line-height: 1; border-radius: 0.35em; vertical-align: middle; margin-left: 0.5rem\">movie</span>\n",
       "</mark>\n",
       ", and \n",
       "<mark class=\"entity\" style=\"background: #ddd; padding: 0.45em 0.6em; margin: 0 0.25em; line-height: 1; border-radius: 0.35em;\">\n",
       "    Dinner at Fred's\n",
       "    <span style=\"font-size: 0.8em; font-weight: bold; line-height: 1; border-radius: 0.35em; vertical-align: middle; margin-left: 0.5rem\">movie</span>\n",
       "</mark>\n",
       ", do you have any movie recommendations for me?</div></span>"
      ],
      "text/plain": [
       "<IPython.core.display.HTML object>"
      ]
     },
     "metadata": {},
     "output_type": "display_data"
    },
    {
     "name": "stdout",
     "output_type": "stream",
     "text": [
      "Since I enjoy Godzilla, King of the Monsters!, Gandhi, My Father, and Dinner at Fred's, do you have any movie recommendations for me? {'entities': [(14, 45, 'movie'), (47, 64, 'movie'), (70, 86, 'movie'), (110, 119, 'predicate')]}\n",
      "Missing movie label\n"
     ]
    },
    {
     "data": {
      "text/html": [
       "<span class=\"tex2jax_ignore\"><div class=\"entities\" style=\"line-height: 2.5; direction: ltr\">Since I enjoy \n",
       "<mark class=\"entity\" style=\"background: #ddd; padding: 0.45em 0.6em; margin: 0 0.25em; line-height: 1; border-radius: 0.35em;\">\n",
       "    Dev.D\n",
       "    <span style=\"font-size: 0.8em; font-weight: bold; line-height: 1; border-radius: 0.35em; vertical-align: middle; margin-left: 0.5rem\">movie</span>\n",
       "</mark>\n",
       ", \n",
       "<mark class=\"entity\" style=\"background: #ddd; padding: 0.45em 0.6em; margin: 0 0.25em; line-height: 1; border-radius: 0.35em;\">\n",
       "    The Stoning of Soraya M.\n",
       "    <span style=\"font-size: 0.8em; font-weight: bold; line-height: 1; border-radius: 0.35em; vertical-align: middle; margin-left: 0.5rem\">movie</span>\n",
       "</mark>\n",
       ", and \n",
       "<mark class=\"entity\" style=\"background: #ddd; padding: 0.45em 0.6em; margin: 0 0.25em; line-height: 1; border-radius: 0.35em;\">\n",
       "    The Oogieloves in the Big Balloon Adventure\n",
       "    <span style=\"font-size: 0.8em; font-weight: bold; line-height: 1; border-radius: 0.35em; vertical-align: middle; margin-left: 0.5rem\">name</span>\n",
       "</mark>\n",
       ", do you have any movie recommendations for me?</div></span>"
      ],
      "text/plain": [
       "<IPython.core.display.HTML object>"
      ]
     },
     "metadata": {},
     "output_type": "display_data"
    },
    {
     "name": "stdout",
     "output_type": "stream",
     "text": [
      "Since I enjoy Dev.D, The Stoning of Soraya M., and The Oogieloves in the Big Balloon Adventure, do you have any movie recommendations for me? {'entities': [(14, 19, 'movie'), (21, 45, 'movie'), (51, 94, 'movie'), (118, 127, 'predicate')]}\n",
      "Missing name label\n"
     ]
    },
    {
     "data": {
      "text/html": [
       "<span class=\"tex2jax_ignore\"><div class=\"entities\" style=\"line-height: 2.5; direction: ltr\">Since I enjoy \n",
       "<mark class=\"entity\" style=\"background: #ddd; padding: 0.45em 0.6em; margin: 0 0.25em; line-height: 1; border-radius: 0.35em;\">\n",
       "    The Death\n",
       "    <span style=\"font-size: 0.8em; font-weight: bold; line-height: 1; border-radius: 0.35em; vertical-align: middle; margin-left: 0.5rem\">movie</span>\n",
       "</mark>\n",
       " and Life of Bobby Z, \n",
       "<mark class=\"entity\" style=\"background: #ddd; padding: 0.45em 0.6em; margin: 0 0.25em; line-height: 1; border-radius: 0.35em;\">\n",
       "    Mouth to Mouth\n",
       "    <span style=\"font-size: 0.8em; font-weight: bold; line-height: 1; border-radius: 0.35em; vertical-align: middle; margin-left: 0.5rem\">movie</span>\n",
       "</mark>\n",
       ", and \n",
       "<mark class=\"entity\" style=\"background: #ddd; padding: 0.45em 0.6em; margin: 0 0.25em; line-height: 1; border-radius: 0.35em;\">\n",
       "    Glory Daze\n",
       "    <span style=\"font-size: 0.8em; font-weight: bold; line-height: 1; border-radius: 0.35em; vertical-align: middle; margin-left: 0.5rem\">movie</span>\n",
       "</mark>\n",
       ", do you have any movie recommendations for me?</div></span>"
      ],
      "text/plain": [
       "<IPython.core.display.HTML object>"
      ]
     },
     "metadata": {},
     "output_type": "display_data"
    },
    {
     "name": "stdout",
     "output_type": "stream",
     "text": [
      "Since I enjoy The Death and Life of Bobby Z, Mouth to Mouth, and Glory Daze, do you have any movie recommendations for me? {'entities': [(14, 43, 'movie'), (45, 59, 'movie'), (65, 75, 'movie'), (99, 108, 'predicate')]}\n",
      "Missing movie label\n"
     ]
    },
    {
     "data": {
      "text/html": [
       "<span class=\"tex2jax_ignore\"><div class=\"entities\" style=\"line-height: 2.5; direction: ltr\">Since I enjoy \n",
       "<mark class=\"entity\" style=\"background: #ddd; padding: 0.45em 0.6em; margin: 0 0.25em; line-height: 1; border-radius: 0.35em;\">\n",
       "    Aloha\n",
       "    <span style=\"font-size: 0.8em; font-weight: bold; line-height: 1; border-radius: 0.35em; vertical-align: middle; margin-left: 0.5rem\">movie</span>\n",
       "</mark>\n",
       ", Scooby-Doo!, \n",
       "<mark class=\"entity\" style=\"background: #ddd; padding: 0.45em 0.6em; margin: 0 0.25em; line-height: 1; border-radius: 0.35em;\">\n",
       "    Želary\n",
       "    <span style=\"font-size: 0.8em; font-weight: bold; line-height: 1; border-radius: 0.35em; vertical-align: middle; margin-left: 0.5rem\">movie</span>\n",
       "</mark>\n",
       ", and \n",
       "<mark class=\"entity\" style=\"background: #ddd; padding: 0.45em 0.6em; margin: 0 0.25em; line-height: 1; border-radius: 0.35em;\">\n",
       "    The Salvation\n",
       "    <span style=\"font-size: 0.8em; font-weight: bold; line-height: 1; border-radius: 0.35em; vertical-align: middle; margin-left: 0.5rem\">movie</span>\n",
       "</mark>\n",
       ", do you have any movie recommendations for me?</div></span>"
      ],
      "text/plain": [
       "<IPython.core.display.HTML object>"
      ]
     },
     "metadata": {},
     "output_type": "display_data"
    },
    {
     "name": "stdout",
     "output_type": "stream",
     "text": [
      "Since I enjoy Aloha, Scooby-Doo!, Želary, and The Salvation, do you have any movie recommendations for me? {'entities': [(14, 32, 'movie'), (34, 40, 'movie'), (46, 59, 'movie'), (83, 92, 'predicate')]}\n",
      "Missing movie label\n"
     ]
    },
    {
     "data": {
      "text/html": [
       "<span class=\"tex2jax_ignore\"><div class=\"entities\" style=\"line-height: 2.5; direction: ltr\">Since I enjoy \n",
       "<mark class=\"entity\" style=\"background: #ddd; padding: 0.45em 0.6em; margin: 0 0.25em; line-height: 1; border-radius: 0.35em;\">\n",
       "    Godzilla, Mothra and\n",
       "    <span style=\"font-size: 0.8em; font-weight: bold; line-height: 1; border-radius: 0.35em; vertical-align: middle; margin-left: 0.5rem\">movie</span>\n",
       "</mark>\n",
       " \n",
       "<mark class=\"entity\" style=\"background: #ddd; padding: 0.45em 0.6em; margin: 0 0.25em; line-height: 1; border-radius: 0.35em;\">\n",
       "    King Ghidorah: Giant Monsters All-Out Attack\n",
       "    <span style=\"font-size: 0.8em; font-weight: bold; line-height: 1; border-radius: 0.35em; vertical-align: middle; margin-left: 0.5rem\">movie</span>\n",
       "</mark>\n",
       ", \n",
       "<mark class=\"entity\" style=\"background: #ddd; padding: 0.45em 0.6em; margin: 0 0.25em; line-height: 1; border-radius: 0.35em;\">\n",
       "    Lassie\n",
       "    <span style=\"font-size: 0.8em; font-weight: bold; line-height: 1; border-radius: 0.35em; vertical-align: middle; margin-left: 0.5rem\">movie</span>\n",
       "</mark>\n",
       ", and \n",
       "<mark class=\"entity\" style=\"background: #ddd; padding: 0.45em 0.6em; margin: 0 0.25em; line-height: 1; border-radius: 0.35em;\">\n",
       "    Charlotte Gray\n",
       "    <span style=\"font-size: 0.8em; font-weight: bold; line-height: 1; border-radius: 0.35em; vertical-align: middle; margin-left: 0.5rem\">movie</span>\n",
       "</mark>\n",
       ", do you have any movie recommendations for me?</div></span>"
      ],
      "text/plain": [
       "<IPython.core.display.HTML object>"
      ]
     },
     "metadata": {},
     "output_type": "display_data"
    },
    {
     "name": "stdout",
     "output_type": "stream",
     "text": [
      "Since I enjoy Godzilla, Mothra and King Ghidorah: Giant Monsters All-Out Attack, Lassie, and Charlotte Gray, do you have any movie recommendations for me? {'entities': [(14, 79, 'movie'), (81, 87, 'movie'), (93, 107, 'movie'), (131, 140, 'predicate')]}\n",
      "Missing movie label\n"
     ]
    },
    {
     "data": {
      "text/html": [
       "<span class=\"tex2jax_ignore\"><div class=\"entities\" style=\"line-height: 2.5; direction: ltr\">Since I enjoy \n",
       "<mark class=\"entity\" style=\"background: #ddd; padding: 0.45em 0.6em; margin: 0 0.25em; line-height: 1; border-radius: 0.35em;\">\n",
       "    Godzilla, Mothra and\n",
       "    <span style=\"font-size: 0.8em; font-weight: bold; line-height: 1; border-radius: 0.35em; vertical-align: middle; margin-left: 0.5rem\">movie</span>\n",
       "</mark>\n",
       " \n",
       "<mark class=\"entity\" style=\"background: #ddd; padding: 0.45em 0.6em; margin: 0 0.25em; line-height: 1; border-radius: 0.35em;\">\n",
       "    King Ghidorah: Giant Monsters All-Out Attack\n",
       "    <span style=\"font-size: 0.8em; font-weight: bold; line-height: 1; border-radius: 0.35em; vertical-align: middle; margin-left: 0.5rem\">movie</span>\n",
       "</mark>\n",
       ", \n",
       "<mark class=\"entity\" style=\"background: #ddd; padding: 0.45em 0.6em; margin: 0 0.25em; line-height: 1; border-radius: 0.35em;\">\n",
       "    Lassie\n",
       "    <span style=\"font-size: 0.8em; font-weight: bold; line-height: 1; border-radius: 0.35em; vertical-align: middle; margin-left: 0.5rem\">movie</span>\n",
       "</mark>\n",
       ", and \n",
       "<mark class=\"entity\" style=\"background: #ddd; padding: 0.45em 0.6em; margin: 0 0.25em; line-height: 1; border-radius: 0.35em;\">\n",
       "    Charlotte Gray\n",
       "    <span style=\"font-size: 0.8em; font-weight: bold; line-height: 1; border-radius: 0.35em; vertical-align: middle; margin-left: 0.5rem\">movie</span>\n",
       "</mark>\n",
       ", do you have any movie recommendations for me?</div></span>"
      ],
      "text/plain": [
       "<IPython.core.display.HTML object>"
      ]
     },
     "metadata": {},
     "output_type": "display_data"
    },
    {
     "name": "stdout",
     "output_type": "stream",
     "text": [
      "Since I enjoy Godzilla, Mothra and King Ghidorah: Giant Monsters All-Out Attack, Lassie, and Charlotte Gray, do you have any movie recommendations for me? {'entities': [(14, 79, 'movie'), (81, 87, 'movie'), (93, 107, 'movie'), (131, 140, 'predicate')]}\n",
      "Missing movie label\n"
     ]
    },
    {
     "data": {
      "text/html": [
       "<span class=\"tex2jax_ignore\"><div class=\"entities\" style=\"line-height: 2.5; direction: ltr\">Since I enjoy \n",
       "<mark class=\"entity\" style=\"background: #ddd; padding: 0.45em 0.6em; margin: 0 0.25em; line-height: 1; border-radius: 0.35em;\">\n",
       "    The Vampire Lovers\n",
       "    <span style=\"font-size: 0.8em; font-weight: bold; line-height: 1; border-radius: 0.35em; vertical-align: middle; margin-left: 0.5rem\">movie</span>\n",
       "</mark>\n",
       ", \n",
       "<mark class=\"entity\" style=\"background: #ddd; padding: 0.45em 0.6em; margin: 0 0.25em; line-height: 1; border-radius: 0.35em;\">\n",
       "    Love\n",
       "    <span style=\"font-size: 0.8em; font-weight: bold; line-height: 1; border-radius: 0.35em; vertical-align: middle; margin-left: 0.5rem\">movie</span>\n",
       "</mark>\n",
       ", and \n",
       "<mark class=\"entity\" style=\"background: #ddd; padding: 0.45em 0.6em; margin: 0 0.25em; line-height: 1; border-radius: 0.35em;\">\n",
       "    Quai d'Orsay\n",
       "    <span style=\"font-size: 0.8em; font-weight: bold; line-height: 1; border-radius: 0.35em; vertical-align: middle; margin-left: 0.5rem\">movie</span>\n",
       "</mark>\n",
       ", do you have any movie recommendations for me?</div></span>"
      ],
      "text/plain": [
       "<IPython.core.display.HTML object>"
      ]
     },
     "metadata": {},
     "output_type": "display_data"
    },
    {
     "name": "stdout",
     "output_type": "stream",
     "text": [
      "Since I enjoy The Vampire Lovers, Love, and Quai d'Orsay, do you have any movie recommendations for me? {'entities': [(14, 32, 'movie'), (26, 30, 'movie'), (44, 56, 'movie'), (80, 89, 'predicate')]}\n",
      "Missing movie label\n"
     ]
    },
    {
     "data": {
      "text/html": [
       "<span class=\"tex2jax_ignore\"><div class=\"entities\" style=\"line-height: 2.5; direction: ltr\">Since I enjoy \n",
       "<mark class=\"entity\" style=\"background: #ddd; padding: 0.45em 0.6em; margin: 0 0.25em; line-height: 1; border-radius: 0.35em;\">\n",
       "    O Brother\n",
       "    <span style=\"font-size: 0.8em; font-weight: bold; line-height: 1; border-radius: 0.35em; vertical-align: middle; margin-left: 0.5rem\">movie</span>\n",
       "</mark>\n",
       ", Where Art Thou?, \n",
       "<mark class=\"entity\" style=\"background: #ddd; padding: 0.45em 0.6em; margin: 0 0.25em; line-height: 1; border-radius: 0.35em;\">\n",
       "    Signs\n",
       "    <span style=\"font-size: 0.8em; font-weight: bold; line-height: 1; border-radius: 0.35em; vertical-align: middle; margin-left: 0.5rem\">movie</span>\n",
       "</mark>\n",
       ", and \n",
       "<mark class=\"entity\" style=\"background: #ddd; padding: 0.45em 0.6em; margin: 0 0.25em; line-height: 1; border-radius: 0.35em;\">\n",
       "    Ali G Indahouse\n",
       "    <span style=\"font-size: 0.8em; font-weight: bold; line-height: 1; border-radius: 0.35em; vertical-align: middle; margin-left: 0.5rem\">movie</span>\n",
       "</mark>\n",
       ", do you have any movie recommendations for me?</div></span>"
      ],
      "text/plain": [
       "<IPython.core.display.HTML object>"
      ]
     },
     "metadata": {},
     "output_type": "display_data"
    },
    {
     "name": "stdout",
     "output_type": "stream",
     "text": [
      "Since I enjoy O Brother, Where Art Thou?, Signs, and Ali G Indahouse, do you have any movie recommendations for me? {'entities': [(14, 40, 'movie'), (42, 47, 'movie'), (53, 68, 'movie'), (92, 101, 'predicate')]}\n",
      "Missing movie label\n"
     ]
    },
    {
     "data": {
      "text/html": [
       "<span class=\"tex2jax_ignore\"><div class=\"entities\" style=\"line-height: 2.5; direction: ltr\">Since I enjoy \n",
       "<mark class=\"entity\" style=\"background: #ddd; padding: 0.45em 0.6em; margin: 0 0.25em; line-height: 1; border-radius: 0.35em;\">\n",
       "    Mortadelo and\n",
       "    <span style=\"font-size: 0.8em; font-weight: bold; line-height: 1; border-radius: 0.35em; vertical-align: middle; margin-left: 0.5rem\">movie</span>\n",
       "</mark>\n",
       " \n",
       "<mark class=\"entity\" style=\"background: #ddd; padding: 0.45em 0.6em; margin: 0 0.25em; line-height: 1; border-radius: 0.35em;\">\n",
       "    Filemon. Mission: Save the Planet\n",
       "    <span style=\"font-size: 0.8em; font-weight: bold; line-height: 1; border-radius: 0.35em; vertical-align: middle; margin-left: 0.5rem\">movie</span>\n",
       "</mark>\n",
       ", \n",
       "<mark class=\"entity\" style=\"background: #ddd; padding: 0.45em 0.6em; margin: 0 0.25em; line-height: 1; border-radius: 0.35em;\">\n",
       "    Euphoria\n",
       "    <span style=\"font-size: 0.8em; font-weight: bold; line-height: 1; border-radius: 0.35em; vertical-align: middle; margin-left: 0.5rem\">movie</span>\n",
       "</mark>\n",
       ", and \n",
       "<mark class=\"entity\" style=\"background: #ddd; padding: 0.45em 0.6em; margin: 0 0.25em; line-height: 1; border-radius: 0.35em;\">\n",
       "    First Girl I Loved\n",
       "    <span style=\"font-size: 0.8em; font-weight: bold; line-height: 1; border-radius: 0.35em; vertical-align: middle; margin-left: 0.5rem\">movie</span>\n",
       "</mark>\n",
       ", do you have any movie recommendations for me?</div></span>"
      ],
      "text/plain": [
       "<IPython.core.display.HTML object>"
      ]
     },
     "metadata": {},
     "output_type": "display_data"
    },
    {
     "name": "stdout",
     "output_type": "stream",
     "text": [
      "Since I enjoy Mortadelo and Filemon. Mission: Save the Planet, Euphoria, and First Girl I Loved, do you have any movie recommendations for me? {'entities': [(14, 61, 'movie'), (63, 71, 'movie'), (77, 95, 'movie'), (119, 128, 'predicate')]}\n",
      "Missing movie label\n"
     ]
    },
    {
     "data": {
      "text/html": [
       "<span class=\"tex2jax_ignore\"><div class=\"entities\" style=\"line-height: 2.5; direction: ltr\">Since I enjoy \n",
       "<mark class=\"entity\" style=\"background: #ddd; padding: 0.45em 0.6em; margin: 0 0.25em; line-height: 1; border-radius: 0.35em;\">\n",
       "    Mortadelo and\n",
       "    <span style=\"font-size: 0.8em; font-weight: bold; line-height: 1; border-radius: 0.35em; vertical-align: middle; margin-left: 0.5rem\">movie</span>\n",
       "</mark>\n",
       " \n",
       "<mark class=\"entity\" style=\"background: #ddd; padding: 0.45em 0.6em; margin: 0 0.25em; line-height: 1; border-radius: 0.35em;\">\n",
       "    Filemon. Mission: Save the Planet\n",
       "    <span style=\"font-size: 0.8em; font-weight: bold; line-height: 1; border-radius: 0.35em; vertical-align: middle; margin-left: 0.5rem\">movie</span>\n",
       "</mark>\n",
       ", \n",
       "<mark class=\"entity\" style=\"background: #ddd; padding: 0.45em 0.6em; margin: 0 0.25em; line-height: 1; border-radius: 0.35em;\">\n",
       "    Euphoria\n",
       "    <span style=\"font-size: 0.8em; font-weight: bold; line-height: 1; border-radius: 0.35em; vertical-align: middle; margin-left: 0.5rem\">movie</span>\n",
       "</mark>\n",
       ", and \n",
       "<mark class=\"entity\" style=\"background: #ddd; padding: 0.45em 0.6em; margin: 0 0.25em; line-height: 1; border-radius: 0.35em;\">\n",
       "    First Girl I Loved\n",
       "    <span style=\"font-size: 0.8em; font-weight: bold; line-height: 1; border-radius: 0.35em; vertical-align: middle; margin-left: 0.5rem\">movie</span>\n",
       "</mark>\n",
       ", do you have any movie recommendations for me?</div></span>"
      ],
      "text/plain": [
       "<IPython.core.display.HTML object>"
      ]
     },
     "metadata": {},
     "output_type": "display_data"
    },
    {
     "name": "stdout",
     "output_type": "stream",
     "text": [
      "Since I enjoy Mortadelo and Filemon. Mission: Save the Planet, Euphoria, and First Girl I Loved, do you have any movie recommendations for me? {'entities': [(14, 61, 'movie'), (63, 71, 'movie'), (77, 95, 'movie'), (119, 128, 'predicate')]}\n",
      "Missing movie label\n"
     ]
    },
    {
     "data": {
      "text/html": [
       "<span class=\"tex2jax_ignore\"><div class=\"entities\" style=\"line-height: 2.5; direction: ltr\">Since I enjoy \n",
       "<mark class=\"entity\" style=\"background: #ddd; padding: 0.45em 0.6em; margin: 0 0.25em; line-height: 1; border-radius: 0.35em;\">\n",
       "    The Sea Inside\n",
       "    <span style=\"font-size: 0.8em; font-weight: bold; line-height: 1; border-radius: 0.35em; vertical-align: middle; margin-left: 0.5rem\">movie</span>\n",
       "</mark>\n",
       ", \n",
       "<mark class=\"entity\" style=\"background: #ddd; padding: 0.45em 0.6em; margin: 0 0.25em; line-height: 1; border-radius: 0.35em;\">\n",
       "    The Insult\n",
       "    <span style=\"font-size: 0.8em; font-weight: bold; line-height: 1; border-radius: 0.35em; vertical-align: middle; margin-left: 0.5rem\">movie</span>\n",
       "</mark>\n",
       ", and \n",
       "<mark class=\"entity\" style=\"background: #ddd; padding: 0.45em 0.6em; margin: 0 0.25em; line-height: 1; border-radius: 0.35em;\">\n",
       "    The Sea\n",
       "    <span style=\"font-size: 0.8em; font-weight: bold; line-height: 1; border-radius: 0.35em; vertical-align: middle; margin-left: 0.5rem\">movie</span>\n",
       "</mark>\n",
       ", do you have any movie recommendations for me?</div></span>"
      ],
      "text/plain": [
       "<IPython.core.display.HTML object>"
      ]
     },
     "metadata": {},
     "output_type": "display_data"
    },
    {
     "name": "stdout",
     "output_type": "stream",
     "text": [
      "Since I enjoy The Sea Inside, The Insult, and The Sea, do you have any movie recommendations for me? {'entities': [(14, 28, 'movie'), (30, 40, 'movie'), (14, 21, 'movie'), (77, 86, 'predicate')]}\n",
      "Missing movie label\n"
     ]
    },
    {
     "data": {
      "text/html": [
       "<span class=\"tex2jax_ignore\"><div class=\"entities\" style=\"line-height: 2.5; direction: ltr\">Since I enjoy \n",
       "<mark class=\"entity\" style=\"background: #ddd; padding: 0.45em 0.6em; margin: 0 0.25em; line-height: 1; border-radius: 0.35em;\">\n",
       "    Halloween\n",
       "    <span style=\"font-size: 0.8em; font-weight: bold; line-height: 1; border-radius: 0.35em; vertical-align: middle; margin-left: 0.5rem\">movie</span>\n",
       "</mark>\n",
       ", \n",
       "<mark class=\"entity\" style=\"background: #ddd; padding: 0.45em 0.6em; margin: 0 0.25em; line-height: 1; border-radius: 0.35em;\">\n",
       "    Twilight\n",
       "    <span style=\"font-size: 0.8em; font-weight: bold; line-height: 1; border-radius: 0.35em; vertical-align: middle; margin-left: 0.5rem\">genre</span>\n",
       "</mark>\n",
       ", and \n",
       "<mark class=\"entity\" style=\"background: #ddd; padding: 0.45em 0.6em; margin: 0 0.25em; line-height: 1; border-radius: 0.35em;\">\n",
       "    Tous les soleils\n",
       "    <span style=\"font-size: 0.8em; font-weight: bold; line-height: 1; border-radius: 0.35em; vertical-align: middle; margin-left: 0.5rem\">movie</span>\n",
       "</mark>\n",
       ", do you have any movie recommendations for me?</div></span>"
      ],
      "text/plain": [
       "<IPython.core.display.HTML object>"
      ]
     },
     "metadata": {},
     "output_type": "display_data"
    },
    {
     "name": "stdout",
     "output_type": "stream",
     "text": [
      "Since I enjoy Halloween, Twilight, and Tous les soleils, do you have any movie recommendations for me? {'entities': [(14, 23, 'movie'), (25, 33, 'movie'), (39, 55, 'movie'), (79, 88, 'predicate')]}\n",
      "Missing genre label\n"
     ]
    },
    {
     "data": {
      "text/html": [
       "<span class=\"tex2jax_ignore\"><div class=\"entities\" style=\"line-height: 2.5; direction: ltr\">Since I enjoy \n",
       "<mark class=\"entity\" style=\"background: #ddd; padding: 0.45em 0.6em; margin: 0 0.25em; line-height: 1; border-radius: 0.35em;\">\n",
       "    Dumb and\n",
       "    <span style=\"font-size: 0.8em; font-weight: bold; line-height: 1; border-radius: 0.35em; vertical-align: middle; margin-left: 0.5rem\">movie</span>\n",
       "</mark>\n",
       " \n",
       "<mark class=\"entity\" style=\"background: #ddd; padding: 0.45em 0.6em; margin: 0 0.25em; line-height: 1; border-radius: 0.35em;\">\n",
       "    Dumberer: When Harry Met Lloyd\n",
       "    <span style=\"font-size: 0.8em; font-weight: bold; line-height: 1; border-radius: 0.35em; vertical-align: middle; margin-left: 0.5rem\">movie</span>\n",
       "</mark>\n",
       ", \n",
       "<mark class=\"entity\" style=\"background: #ddd; padding: 0.45em 0.6em; margin: 0 0.25em; line-height: 1; border-radius: 0.35em;\">\n",
       "    Phantasm\n",
       "    <span style=\"font-size: 0.8em; font-weight: bold; line-height: 1; border-radius: 0.35em; vertical-align: middle; margin-left: 0.5rem\">movie</span>\n",
       "</mark>\n",
       ", and \n",
       "<mark class=\"entity\" style=\"background: #ddd; padding: 0.45em 0.6em; margin: 0 0.25em; line-height: 1; border-radius: 0.35em;\">\n",
       "    Personal Shopper\n",
       "    <span style=\"font-size: 0.8em; font-weight: bold; line-height: 1; border-radius: 0.35em; vertical-align: middle; margin-left: 0.5rem\">movie</span>\n",
       "</mark>\n",
       ", do you have any movie recommendations for me?</div></span>"
      ],
      "text/plain": [
       "<IPython.core.display.HTML object>"
      ]
     },
     "metadata": {},
     "output_type": "display_data"
    },
    {
     "name": "stdout",
     "output_type": "stream",
     "text": [
      "Since I enjoy Dumb and Dumberer: When Harry Met Lloyd, Phantasm, and Personal Shopper, do you have any movie recommendations for me? {'entities': [(14, 53, 'movie'), (55, 63, 'movie'), (69, 85, 'movie'), (109, 118, 'predicate')]}\n",
      "Missing movie label\n"
     ]
    },
    {
     "data": {
      "text/html": [
       "<span class=\"tex2jax_ignore\"><div class=\"entities\" style=\"line-height: 2.5; direction: ltr\">Since I enjoy \n",
       "<mark class=\"entity\" style=\"background: #ddd; padding: 0.45em 0.6em; margin: 0 0.25em; line-height: 1; border-radius: 0.35em;\">\n",
       "    Dumb and\n",
       "    <span style=\"font-size: 0.8em; font-weight: bold; line-height: 1; border-radius: 0.35em; vertical-align: middle; margin-left: 0.5rem\">movie</span>\n",
       "</mark>\n",
       " \n",
       "<mark class=\"entity\" style=\"background: #ddd; padding: 0.45em 0.6em; margin: 0 0.25em; line-height: 1; border-radius: 0.35em;\">\n",
       "    Dumberer: When Harry Met Lloyd\n",
       "    <span style=\"font-size: 0.8em; font-weight: bold; line-height: 1; border-radius: 0.35em; vertical-align: middle; margin-left: 0.5rem\">movie</span>\n",
       "</mark>\n",
       ", \n",
       "<mark class=\"entity\" style=\"background: #ddd; padding: 0.45em 0.6em; margin: 0 0.25em; line-height: 1; border-radius: 0.35em;\">\n",
       "    Phantasm\n",
       "    <span style=\"font-size: 0.8em; font-weight: bold; line-height: 1; border-radius: 0.35em; vertical-align: middle; margin-left: 0.5rem\">movie</span>\n",
       "</mark>\n",
       ", and \n",
       "<mark class=\"entity\" style=\"background: #ddd; padding: 0.45em 0.6em; margin: 0 0.25em; line-height: 1; border-radius: 0.35em;\">\n",
       "    Personal Shopper\n",
       "    <span style=\"font-size: 0.8em; font-weight: bold; line-height: 1; border-radius: 0.35em; vertical-align: middle; margin-left: 0.5rem\">movie</span>\n",
       "</mark>\n",
       ", do you have any movie recommendations for me?</div></span>"
      ],
      "text/plain": [
       "<IPython.core.display.HTML object>"
      ]
     },
     "metadata": {},
     "output_type": "display_data"
    },
    {
     "name": "stdout",
     "output_type": "stream",
     "text": [
      "Since I enjoy Dumb and Dumberer: When Harry Met Lloyd, Phantasm, and Personal Shopper, do you have any movie recommendations for me? {'entities': [(14, 53, 'movie'), (55, 63, 'movie'), (69, 85, 'movie'), (109, 118, 'predicate')]}\n",
      "Missing movie label\n"
     ]
    },
    {
     "data": {
      "text/html": [
       "<span class=\"tex2jax_ignore\"><div class=\"entities\" style=\"line-height: 2.5; direction: ltr\">Since I enjoy \n",
       "<mark class=\"entity\" style=\"background: #ddd; padding: 0.45em 0.6em; margin: 0 0.25em; line-height: 1; border-radius: 0.35em;\">\n",
       "    Jay\n",
       "    <span style=\"font-size: 0.8em; font-weight: bold; line-height: 1; border-radius: 0.35em; vertical-align: middle; margin-left: 0.5rem\">movie</span>\n",
       "</mark>\n",
       " and Silent Bob Strike Back, \n",
       "<mark class=\"entity\" style=\"background: #ddd; padding: 0.45em 0.6em; margin: 0 0.25em; line-height: 1; border-radius: 0.35em;\">\n",
       "    Cougars, Inc.\n",
       "    <span style=\"font-size: 0.8em; font-weight: bold; line-height: 1; border-radius: 0.35em; vertical-align: middle; margin-left: 0.5rem\">movie</span>\n",
       "</mark>\n",
       ", and \n",
       "<mark class=\"entity\" style=\"background: #ddd; padding: 0.45em 0.6em; margin: 0 0.25em; line-height: 1; border-radius: 0.35em;\">\n",
       "    The Little Engine That Could\n",
       "    <span style=\"font-size: 0.8em; font-weight: bold; line-height: 1; border-radius: 0.35em; vertical-align: middle; margin-left: 0.5rem\">movie</span>\n",
       "</mark>\n",
       ", do you have any movie recommendations for me?</div></span>"
      ],
      "text/plain": [
       "<IPython.core.display.HTML object>"
      ]
     },
     "metadata": {},
     "output_type": "display_data"
    },
    {
     "name": "stdout",
     "output_type": "stream",
     "text": [
      "Since I enjoy Jay and Silent Bob Strike Back, Cougars, Inc., and The Little Engine That Could, do you have any movie recommendations for me? {'entities': [(14, 44, 'movie'), (46, 59, 'movie'), (65, 93, 'movie'), (117, 126, 'predicate')]}\n",
      "Missing movie label\n"
     ]
    },
    {
     "data": {
      "text/html": [
       "<span class=\"tex2jax_ignore\"><div class=\"entities\" style=\"line-height: 2.5; direction: ltr\">Since I enjoy \n",
       "<mark class=\"entity\" style=\"background: #ddd; padding: 0.45em 0.6em; margin: 0 0.25em; line-height: 1; border-radius: 0.35em;\">\n",
       "    Resident Evil: Extinction\n",
       "    <span style=\"font-size: 0.8em; font-weight: bold; line-height: 1; border-radius: 0.35em; vertical-align: middle; margin-left: 0.5rem\">movie</span>\n",
       "</mark>\n",
       ", \n",
       "<mark class=\"entity\" style=\"background: #ddd; padding: 0.45em 0.6em; margin: 0 0.25em; line-height: 1; border-radius: 0.35em;\">\n",
       "    Short Skin\n",
       "    <span style=\"font-size: 0.8em; font-weight: bold; line-height: 1; border-radius: 0.35em; vertical-align: middle; margin-left: 0.5rem\">movie</span>\n",
       "</mark>\n",
       ", and \n",
       "<mark class=\"entity\" style=\"background: #ddd; padding: 0.45em 0.6em; margin: 0 0.25em; line-height: 1; border-radius: 0.35em;\">\n",
       "    Evil\n",
       "    <span style=\"font-size: 0.8em; font-weight: bold; line-height: 1; border-radius: 0.35em; vertical-align: middle; margin-left: 0.5rem\">movie</span>\n",
       "</mark>\n",
       ", do you have any movie recommendations for me?</div></span>"
      ],
      "text/plain": [
       "<IPython.core.display.HTML object>"
      ]
     },
     "metadata": {},
     "output_type": "display_data"
    },
    {
     "name": "stdout",
     "output_type": "stream",
     "text": [
      "Since I enjoy Resident Evil: Extinction, Short Skin, and Evil, do you have any movie recommendations for me? {'entities': [(14, 39, 'movie'), (41, 51, 'movie'), (23, 27, 'movie'), (85, 94, 'predicate')]}\n",
      "Missing movie label\n"
     ]
    },
    {
     "data": {
      "text/html": [
       "<span class=\"tex2jax_ignore\"><div class=\"entities\" style=\"line-height: 2.5; direction: ltr\">Since I enjoy \n",
       "<mark class=\"entity\" style=\"background: #ddd; padding: 0.45em 0.6em; margin: 0 0.25em; line-height: 1; border-radius: 0.35em;\">\n",
       "    fifth generation Chinese films\n",
       "    <span style=\"font-size: 0.8em; font-weight: bold; line-height: 1; border-radius: 0.35em; vertical-align: middle; margin-left: 0.5rem\">movie</span>\n",
       "</mark>\n",
       ", \n",
       "<mark class=\"entity\" style=\"background: #ddd; padding: 0.45em 0.6em; margin: 0 0.25em; line-height: 1; border-radius: 0.35em;\">\n",
       "    Cliffhanger\n",
       "    <span style=\"font-size: 0.8em; font-weight: bold; line-height: 1; border-radius: 0.35em; vertical-align: middle; margin-left: 0.5rem\">genre</span>\n",
       "</mark>\n",
       ", and \n",
       "<mark class=\"entity\" style=\"background: #ddd; padding: 0.45em 0.6em; margin: 0 0.25em; line-height: 1; border-radius: 0.35em;\">\n",
       "    The Father\n",
       "    <span style=\"font-size: 0.8em; font-weight: bold; line-height: 1; border-radius: 0.35em; vertical-align: middle; margin-left: 0.5rem\">movie</span>\n",
       "</mark>\n",
       ", do you have any movie recommendations for me?</div></span>"
      ],
      "text/plain": [
       "<IPython.core.display.HTML object>"
      ]
     },
     "metadata": {},
     "output_type": "display_data"
    },
    {
     "name": "stdout",
     "output_type": "stream",
     "text": [
      "Since I enjoy fifth generation Chinese films, Cliffhanger, and The Father, do you have any movie recommendations for me? {'entities': [(14, 44, 'movie'), (46, 57, 'movie'), (63, 73, 'movie'), (97, 106, 'predicate')]}\n",
      "Missing genre label\n"
     ]
    },
    {
     "data": {
      "text/html": [
       "<span class=\"tex2jax_ignore\"><div class=\"entities\" style=\"line-height: 2.5; direction: ltr\">Since I enjoy \n",
       "<mark class=\"entity\" style=\"background: #ddd; padding: 0.45em 0.6em; margin: 0 0.25em; line-height: 1; border-radius: 0.35em;\">\n",
       "    sixth generation Chinese films\n",
       "    <span style=\"font-size: 0.8em; font-weight: bold; line-height: 1; border-radius: 0.35em; vertical-align: middle; margin-left: 0.5rem\">movie</span>\n",
       "</mark>\n",
       ", \n",
       "<mark class=\"entity\" style=\"background: #ddd; padding: 0.45em 0.6em; margin: 0 0.25em; line-height: 1; border-radius: 0.35em;\">\n",
       "    Domino\n",
       "    <span style=\"font-size: 0.8em; font-weight: bold; line-height: 1; border-radius: 0.35em; vertical-align: middle; margin-left: 0.5rem\">name</span>\n",
       "</mark>\n",
       ", and \n",
       "<mark class=\"entity\" style=\"background: #ddd; padding: 0.45em 0.6em; margin: 0 0.25em; line-height: 1; border-radius: 0.35em;\">\n",
       "    The Caiman\n",
       "    <span style=\"font-size: 0.8em; font-weight: bold; line-height: 1; border-radius: 0.35em; vertical-align: middle; margin-left: 0.5rem\">movie</span>\n",
       "</mark>\n",
       ", do you have any movie recommendations for me?</div></span>"
      ],
      "text/plain": [
       "<IPython.core.display.HTML object>"
      ]
     },
     "metadata": {},
     "output_type": "display_data"
    },
    {
     "name": "stdout",
     "output_type": "stream",
     "text": [
      "Since I enjoy sixth generation Chinese films, Domino, and The Caiman, do you have any movie recommendations for me? {'entities': [(14, 44, 'movie'), (46, 52, 'movie'), (58, 68, 'movie'), (92, 101, 'predicate')]}\n",
      "Missing name label\n"
     ]
    },
    {
     "data": {
      "text/html": [
       "<span class=\"tex2jax_ignore\"><div class=\"entities\" style=\"line-height: 2.5; direction: ltr\">Since I enjoy \n",
       "<mark class=\"entity\" style=\"background: #ddd; padding: 0.45em 0.6em; margin: 0 0.25em; line-height: 1; border-radius: 0.35em;\">\n",
       "    X-Men: Days of Future Past, Half Sister\n",
       "    <span style=\"font-size: 0.8em; font-weight: bold; line-height: 1; border-radius: 0.35em; vertical-align: middle; margin-left: 0.5rem\">movie</span>\n",
       "</mark>\n",
       ", \n",
       "<mark class=\"entity\" style=\"background: #ddd; padding: 0.45em 0.6em; margin: 0 0.25em; line-height: 1; border-radius: 0.35em;\">\n",
       "    Full Love\n",
       "    <span style=\"font-size: 0.8em; font-weight: bold; line-height: 1; border-radius: 0.35em; vertical-align: middle; margin-left: 0.5rem\">movie</span>\n",
       "</mark>\n",
       ", and \n",
       "<mark class=\"entity\" style=\"background: #ddd; padding: 0.45em 0.6em; margin: 0 0.25em; line-height: 1; border-radius: 0.35em;\">\n",
       "    Playing Doctor\n",
       "    <span style=\"font-size: 0.8em; font-weight: bold; line-height: 1; border-radius: 0.35em; vertical-align: middle; margin-left: 0.5rem\">movie</span>\n",
       "</mark>\n",
       ", do you have any movie recommendations for me?</div></span>"
      ],
      "text/plain": [
       "<IPython.core.display.HTML object>"
      ]
     },
     "metadata": {},
     "output_type": "display_data"
    },
    {
     "name": "stdout",
     "output_type": "stream",
     "text": [
      "Since I enjoy X-Men: Days of Future Past, Half Sister, Full Love, and Playing Doctor, do you have any movie recommendations for me? {'entities': [(14, 40, 'movie'), (42, 64, 'movie'), (70, 84, 'movie'), (108, 117, 'predicate')]}\n",
      "Missing movie label\n"
     ]
    },
    {
     "data": {
      "text/html": [
       "<span class=\"tex2jax_ignore\"><div class=\"entities\" style=\"line-height: 2.5; direction: ltr\">Since I enjoy \n",
       "<mark class=\"entity\" style=\"background: #ddd; padding: 0.45em 0.6em; margin: 0 0.25em; line-height: 1; border-radius: 0.35em;\">\n",
       "    X-Men: Days of Future Past, Half Sister\n",
       "    <span style=\"font-size: 0.8em; font-weight: bold; line-height: 1; border-radius: 0.35em; vertical-align: middle; margin-left: 0.5rem\">movie</span>\n",
       "</mark>\n",
       ", \n",
       "<mark class=\"entity\" style=\"background: #ddd; padding: 0.45em 0.6em; margin: 0 0.25em; line-height: 1; border-radius: 0.35em;\">\n",
       "    Full Love\n",
       "    <span style=\"font-size: 0.8em; font-weight: bold; line-height: 1; border-radius: 0.35em; vertical-align: middle; margin-left: 0.5rem\">movie</span>\n",
       "</mark>\n",
       ", and \n",
       "<mark class=\"entity\" style=\"background: #ddd; padding: 0.45em 0.6em; margin: 0 0.25em; line-height: 1; border-radius: 0.35em;\">\n",
       "    Playing Doctor\n",
       "    <span style=\"font-size: 0.8em; font-weight: bold; line-height: 1; border-radius: 0.35em; vertical-align: middle; margin-left: 0.5rem\">movie</span>\n",
       "</mark>\n",
       ", do you have any movie recommendations for me?</div></span>"
      ],
      "text/plain": [
       "<IPython.core.display.HTML object>"
      ]
     },
     "metadata": {},
     "output_type": "display_data"
    },
    {
     "name": "stdout",
     "output_type": "stream",
     "text": [
      "Since I enjoy X-Men: Days of Future Past, Half Sister, Full Love, and Playing Doctor, do you have any movie recommendations for me? {'entities': [(14, 40, 'movie'), (42, 64, 'movie'), (70, 84, 'movie'), (108, 117, 'predicate')]}\n",
      "Missing movie label\n"
     ]
    },
    {
     "data": {
      "text/html": [
       "<span class=\"tex2jax_ignore\"><div class=\"entities\" style=\"line-height: 2.5; direction: ltr\">Can you list all the movies starring \n",
       "<mark class=\"entity\" style=\"background: #ddd; padding: 0.45em 0.6em; margin: 0 0.25em; line-height: 1; border-radius: 0.35em;\">\n",
       "    Jeff &quot;Swampy&quot; Marsh\n",
       "    <span style=\"font-size: 0.8em; font-weight: bold; line-height: 1; border-radius: 0.35em; vertical-align: middle; margin-left: 0.5rem\">name</span>\n",
       "</mark>\n",
       ", \n",
       "<mark class=\"entity\" style=\"background: #ddd; padding: 0.45em 0.6em; margin: 0 0.25em; line-height: 1; border-radius: 0.35em;\">\n",
       "    Joshua Fredric Smith\n",
       "    <span style=\"font-size: 0.8em; font-weight: bold; line-height: 1; border-radius: 0.35em; vertical-align: middle; margin-left: 0.5rem\">movie</span>\n",
       "</mark>\n",
       ", and \n",
       "<mark class=\"entity\" style=\"background: #ddd; padding: 0.45em 0.6em; margin: 0 0.25em; line-height: 1; border-radius: 0.35em;\">\n",
       "    Hon Ping Tang\n",
       "    <span style=\"font-size: 0.8em; font-weight: bold; line-height: 1; border-radius: 0.35em; vertical-align: middle; margin-left: 0.5rem\">name</span>\n",
       "</mark>\n",
       "?</div></span>"
      ],
      "text/plain": [
       "<IPython.core.display.HTML object>"
      ]
     },
     "metadata": {},
     "output_type": "display_data"
    },
    {
     "name": "stdout",
     "output_type": "stream",
     "text": [
      "Can you list all the movies starring Jeff \"Swampy\" Marsh, Joshua Fredric Smith, and Hon Ping Tang? {'entities': [(37, 56, 'name'), (58, 78, 'name'), (84, 97, 'name')]}\n",
      "Missing movie label\n"
     ]
    },
    {
     "data": {
      "text/html": [
       "<span class=\"tex2jax_ignore\"><div class=\"entities\" style=\"line-height: 2.5; direction: ltr\">Which actors appeared in both \n",
       "<mark class=\"entity\" style=\"background: #ddd; padding: 0.45em 0.6em; margin: 0 0.25em; line-height: 1; border-radius: 0.35em;\">\n",
       "    According to Spencer\n",
       "    <span style=\"font-size: 0.8em; font-weight: bold; line-height: 1; border-radius: 0.35em; vertical-align: middle; margin-left: 0.5rem\">movie</span>\n",
       "</mark>\n",
       " and \n",
       "<mark class=\"entity\" style=\"background: #ddd; padding: 0.45em 0.6em; margin: 0 0.25em; line-height: 1; border-radius: 0.35em;\">\n",
       "    Titanic\n",
       "    <span style=\"font-size: 0.8em; font-weight: bold; line-height: 1; border-radius: 0.35em; vertical-align: middle; margin-left: 0.5rem\">genre</span>\n",
       "</mark>\n",
       "?</div></span>"
      ],
      "text/plain": [
       "<IPython.core.display.HTML object>"
      ]
     },
     "metadata": {},
     "output_type": "display_data"
    },
    {
     "name": "stdout",
     "output_type": "stream",
     "text": [
      "Which actors appeared in both According to Spencer and Titanic? {'entities': [(30, 50, 'movie'), (55, 62, 'movie')]}\n",
      "Missing genre label\n"
     ]
    },
    {
     "data": {
      "text/html": [
       "<span class=\"tex2jax_ignore\"><div class=\"entities\" style=\"line-height: 2.5; direction: ltr\">Which \n",
       "<mark class=\"entity\" style=\"background: #ddd; padding: 0.45em 0.6em; margin: 0 0.25em; line-height: 1; border-radius: 0.35em;\">\n",
       "    voice actor\n",
       "    <span style=\"font-size: 0.8em; font-weight: bold; line-height: 1; border-radius: 0.35em; vertical-align: middle; margin-left: 0.5rem\">role</span>\n",
       "</mark>\n",
       " or \n",
       "<mark class=\"entity\" style=\"background: #ddd; padding: 0.45em 0.6em; margin: 0 0.25em; line-height: 1; border-radius: 0.35em;\">\n",
       "    actor\n",
       "    <span style=\"font-size: 0.8em; font-weight: bold; line-height: 1; border-radius: 0.35em; vertical-align: middle; margin-left: 0.5rem\">role</span>\n",
       "</mark>\n",
       " contributed to the soundtracks of both \n",
       "<mark class=\"entity\" style=\"background: #ddd; padding: 0.45em 0.6em; margin: 0 0.25em; line-height: 1; border-radius: 0.35em;\">\n",
       "    Il Mare\n",
       "    <span style=\"font-size: 0.8em; font-weight: bold; line-height: 1; border-radius: 0.35em; vertical-align: middle; margin-left: 0.5rem\">movie</span>\n",
       "</mark>\n",
       " and \n",
       "<mark class=\"entity\" style=\"background: #ddd; padding: 0.45em 0.6em; margin: 0 0.25em; line-height: 1; border-radius: 0.35em;\">\n",
       "    The Church\n",
       "    <span style=\"font-size: 0.8em; font-weight: bold; line-height: 1; border-radius: 0.35em; vertical-align: middle; margin-left: 0.5rem\">movie</span>\n",
       "</mark>\n",
       "?</div></span>"
      ],
      "text/plain": [
       "<IPython.core.display.HTML object>"
      ]
     },
     "metadata": {},
     "output_type": "display_data"
    },
    {
     "name": "stdout",
     "output_type": "stream",
     "text": [
      "Which voice actor or actor contributed to the soundtracks of both Il Mare and The Church? {'entities': [(6, 17, 'role'), (12, 17, 'role'), (66, 73, 'movie'), (78, 88, 'movie')]}\n",
      "Missing role label\n"
     ]
    },
    {
     "data": {
      "text/html": [
       "<span class=\"tex2jax_ignore\"><div class=\"entities\" style=\"line-height: 2.5; direction: ltr\">Can you list all the movies starring \n",
       "<mark class=\"entity\" style=\"background: #ddd; padding: 0.45em 0.6em; margin: 0 0.25em; line-height: 1; border-radius: 0.35em;\">\n",
       "    Patrick O'Connell\n",
       "    <span style=\"font-size: 0.8em; font-weight: bold; line-height: 1; border-radius: 0.35em; vertical-align: middle; margin-left: 0.5rem\">name</span>\n",
       "</mark>\n",
       ", \n",
       "<mark class=\"entity\" style=\"background: #ddd; padding: 0.45em 0.6em; margin: 0 0.25em; line-height: 1; border-radius: 0.35em;\">\n",
       "    Christian Baha\n",
       "    <span style=\"font-size: 0.8em; font-weight: bold; line-height: 1; border-radius: 0.35em; vertical-align: middle; margin-left: 0.5rem\">name</span>\n",
       "</mark>\n",
       ", and \n",
       "<mark class=\"entity\" style=\"background: #ddd; padding: 0.45em 0.6em; margin: 0 0.25em; line-height: 1; border-radius: 0.35em;\">\n",
       "    Marjorie Best\n",
       "    <span style=\"font-size: 0.8em; font-weight: bold; line-height: 1; border-radius: 0.35em; vertical-align: middle; margin-left: 0.5rem\">movie</span>\n",
       "</mark>\n",
       "?</div></span>"
      ],
      "text/plain": [
       "<IPython.core.display.HTML object>"
      ]
     },
     "metadata": {},
     "output_type": "display_data"
    },
    {
     "name": "stdout",
     "output_type": "stream",
     "text": [
      "Can you list all the movies starring Patrick O'Connell, Christian Baha, and Marjorie Best? {'entities': [(37, 54, 'name'), (56, 70, 'name'), (76, 89, 'name')]}\n",
      "Missing movie label\n"
     ]
    },
    {
     "data": {
      "text/html": [
       "<span class=\"tex2jax_ignore\"><div class=\"entities\" style=\"line-height: 2.5; direction: ltr\">Can you list all the movies starring both \n",
       "<mark class=\"entity\" style=\"background: #ddd; padding: 0.45em 0.6em; margin: 0 0.25em; line-height: 1; border-radius: 0.35em;\">\n",
       "    Eddie &quot;Lockjaw&quot; Davis\n",
       "    <span style=\"font-size: 0.8em; font-weight: bold; line-height: 1; border-radius: 0.35em; vertical-align: middle; margin-left: 0.5rem\">name</span>\n",
       "</mark>\n",
       " and \n",
       "<mark class=\"entity\" style=\"background: #ddd; padding: 0.45em 0.6em; margin: 0 0.25em; line-height: 1; border-radius: 0.35em;\">\n",
       "    Don Barker\n",
       "    <span style=\"font-size: 0.8em; font-weight: bold; line-height: 1; border-radius: 0.35em; vertical-align: middle; margin-left: 0.5rem\">movie</span>\n",
       "</mark>\n",
       "?</div></span>"
      ],
      "text/plain": [
       "<IPython.core.display.HTML object>"
      ]
     },
     "metadata": {},
     "output_type": "display_data"
    },
    {
     "name": "stdout",
     "output_type": "stream",
     "text": [
      "Can you list all the movies starring both Eddie \"Lockjaw\" Davis and Don Barker? {'entities': [(42, 63, 'name'), (68, 78, 'name')]}\n",
      "Missing movie label\n"
     ]
    },
    {
     "data": {
      "text/html": [
       "<span class=\"tex2jax_ignore\"><div class=\"entities\" style=\"line-height: 2.5; direction: ltr\">Are there any common themes or genres between \n",
       "<mark class=\"entity\" style=\"background: #ddd; padding: 0.45em 0.6em; margin: 0 0.25em; line-height: 1; border-radius: 0.35em;\">\n",
       "    Kamen Rider Fourze the Movie: Space\n",
       "    <span style=\"font-size: 0.8em; font-weight: bold; line-height: 1; border-radius: 0.35em; vertical-align: middle; margin-left: 0.5rem\">movie</span>\n",
       "</mark>\n",
       ", Here We Come! and \n",
       "<mark class=\"entity\" style=\"background: #ddd; padding: 0.45em 0.6em; margin: 0 0.25em; line-height: 1; border-radius: 0.35em;\">\n",
       "    Viktor\n",
       "    <span style=\"font-size: 0.8em; font-weight: bold; line-height: 1; border-radius: 0.35em; vertical-align: middle; margin-left: 0.5rem\">movie</span>\n",
       "</mark>\n",
       "?</div></span>"
      ],
      "text/plain": [
       "<IPython.core.display.HTML object>"
      ]
     },
     "metadata": {},
     "output_type": "display_data"
    },
    {
     "name": "stdout",
     "output_type": "stream",
     "text": [
      "Are there any common themes or genres between Kamen Rider Fourze the Movie: Space, Here We Come! and Viktor? {'entities': [(46, 96, 'movie'), (101, 107, 'movie'), (31, 36, 'predicate')]}\n",
      "Missing movie label\n"
     ]
    },
    {
     "data": {
      "text/html": [
       "<span class=\"tex2jax_ignore\"><div class=\"entities\" style=\"line-height: 2.5; direction: ltr\">Do \n",
       "<mark class=\"entity\" style=\"background: #ddd; padding: 0.45em 0.6em; margin: 0 0.25em; line-height: 1; border-radius: 0.35em;\">\n",
       "    Mona Lisa\n",
       "    <span style=\"font-size: 0.8em; font-weight: bold; line-height: 1; border-radius: 0.35em; vertical-align: middle; margin-left: 0.5rem\">name</span>\n",
       "</mark>\n",
       " and \n",
       "<mark class=\"entity\" style=\"background: #ddd; padding: 0.45em 0.6em; margin: 0 0.25em; line-height: 1; border-radius: 0.35em;\">\n",
       "    Mozart's Sister\n",
       "    <span style=\"font-size: 0.8em; font-weight: bold; line-height: 1; border-radius: 0.35em; vertical-align: middle; margin-left: 0.5rem\">movie</span>\n",
       "</mark>\n",
       " belong to the same film franchise?</div></span>"
      ],
      "text/plain": [
       "<IPython.core.display.HTML object>"
      ]
     },
     "metadata": {},
     "output_type": "display_data"
    },
    {
     "name": "stdout",
     "output_type": "stream",
     "text": [
      "Do Mona Lisa and Mozart's Sister belong to the same film franchise? {'entities': [(3, 12, 'movie'), (17, 32, 'movie')]}\n",
      "Missing name label\n"
     ]
    },
    {
     "data": {
      "text/html": [
       "<span class=\"tex2jax_ignore\"><div class=\"entities\" style=\"line-height: 2.5; direction: ltr\">Do \n",
       "<mark class=\"entity\" style=\"background: #ddd; padding: 0.45em 0.6em; margin: 0 0.25em; line-height: 1; border-radius: 0.35em;\">\n",
       "    Elizabeth I of England\n",
       "    <span style=\"font-size: 0.8em; font-weight: bold; line-height: 1; border-radius: 0.35em; vertical-align: middle; margin-left: 0.5rem\">movie</span>\n",
       "</mark>\n",
       " and \n",
       "<mark class=\"entity\" style=\"background: #ddd; padding: 0.45em 0.6em; margin: 0 0.25em; line-height: 1; border-radius: 0.35em;\">\n",
       "    Julie McWhirter\n",
       "    <span style=\"font-size: 0.8em; font-weight: bold; line-height: 1; border-radius: 0.35em; vertical-align: middle; margin-left: 0.5rem\">movie</span>\n",
       "</mark>\n",
       " appear in \n",
       "<mark class=\"entity\" style=\"background: #ddd; padding: 0.45em 0.6em; margin: 0 0.25em; line-height: 1; border-radius: 0.35em;\">\n",
       "    Believe Me\n",
       "    <span style=\"font-size: 0.8em; font-weight: bold; line-height: 1; border-radius: 0.35em; vertical-align: middle; margin-left: 0.5rem\">movie</span>\n",
       "</mark>\n",
       "</div></span>"
      ],
      "text/plain": [
       "<IPython.core.display.HTML object>"
      ]
     },
     "metadata": {},
     "output_type": "display_data"
    },
    {
     "name": "stdout",
     "output_type": "stream",
     "text": [
      "Do Elizabeth I of England and Julie McWhirter appear in Believe Me {'entities': [(3, 25, 'name'), (30, 45, 'name'), (56, 66, 'movie')]}\n",
      "Missing movie label\n"
     ]
    },
    {
     "data": {
      "text/html": [
       "<span class=\"tex2jax_ignore\"><div class=\"entities\" style=\"line-height: 2.5; direction: ltr\">Do \n",
       "<mark class=\"entity\" style=\"background: #ddd; padding: 0.45em 0.6em; margin: 0 0.25em; line-height: 1; border-radius: 0.35em;\">\n",
       "    Elizabeth I of England\n",
       "    <span style=\"font-size: 0.8em; font-weight: bold; line-height: 1; border-radius: 0.35em; vertical-align: middle; margin-left: 0.5rem\">movie</span>\n",
       "</mark>\n",
       " and \n",
       "<mark class=\"entity\" style=\"background: #ddd; padding: 0.45em 0.6em; margin: 0 0.25em; line-height: 1; border-radius: 0.35em;\">\n",
       "    Julie McWhirter\n",
       "    <span style=\"font-size: 0.8em; font-weight: bold; line-height: 1; border-radius: 0.35em; vertical-align: middle; margin-left: 0.5rem\">movie</span>\n",
       "</mark>\n",
       " appear in \n",
       "<mark class=\"entity\" style=\"background: #ddd; padding: 0.45em 0.6em; margin: 0 0.25em; line-height: 1; border-radius: 0.35em;\">\n",
       "    Believe Me\n",
       "    <span style=\"font-size: 0.8em; font-weight: bold; line-height: 1; border-radius: 0.35em; vertical-align: middle; margin-left: 0.5rem\">movie</span>\n",
       "</mark>\n",
       "</div></span>"
      ],
      "text/plain": [
       "<IPython.core.display.HTML object>"
      ]
     },
     "metadata": {},
     "output_type": "display_data"
    },
    {
     "name": "stdout",
     "output_type": "stream",
     "text": [
      "Do Elizabeth I of England and Julie McWhirter appear in Believe Me {'entities': [(3, 25, 'name'), (30, 45, 'name'), (56, 66, 'movie')]}\n",
      "Missing movie label\n"
     ]
    },
    {
     "data": {
      "text/html": [
       "<span class=\"tex2jax_ignore\"><div class=\"entities\" style=\"line-height: 2.5; direction: ltr\">Can you list all the movies starring both \n",
       "<mark class=\"entity\" style=\"background: #ddd; padding: 0.45em 0.6em; margin: 0 0.25em; line-height: 1; border-radius: 0.35em;\">\n",
       "    Eddie &quot;The Eagle&quot; Edwards\n",
       "    <span style=\"font-size: 0.8em; font-weight: bold; line-height: 1; border-radius: 0.35em; vertical-align: middle; margin-left: 0.5rem\">name</span>\n",
       "</mark>\n",
       " and \n",
       "<mark class=\"entity\" style=\"background: #ddd; padding: 0.45em 0.6em; margin: 0 0.25em; line-height: 1; border-radius: 0.35em;\">\n",
       "    Cedric Wills\n",
       "    <span style=\"font-size: 0.8em; font-weight: bold; line-height: 1; border-radius: 0.35em; vertical-align: middle; margin-left: 0.5rem\">movie</span>\n",
       "</mark>\n",
       "?</div></span>"
      ],
      "text/plain": [
       "<IPython.core.display.HTML object>"
      ]
     },
     "metadata": {},
     "output_type": "display_data"
    },
    {
     "name": "stdout",
     "output_type": "stream",
     "text": [
      "Can you list all the movies starring both Eddie \"The Eagle\" Edwards and Cedric Wills? {'entities': [(42, 67, 'name'), (72, 84, 'name')]}\n",
      "Missing movie label\n"
     ]
    },
    {
     "data": {
      "text/html": [
       "<span class=\"tex2jax_ignore\"><div class=\"entities\" style=\"line-height: 2.5; direction: ltr\">Are there any notable collaborations between \n",
       "<mark class=\"entity\" style=\"background: #ddd; padding: 0.45em 0.6em; margin: 0 0.25em; line-height: 1; border-radius: 0.35em;\">\n",
       "    John D. F. Black\n",
       "    <span style=\"font-size: 0.8em; font-weight: bold; line-height: 1; border-radius: 0.35em; vertical-align: middle; margin-left: 0.5rem\">name</span>\n",
       "</mark>\n",
       ", \n",
       "<mark class=\"entity\" style=\"background: #ddd; padding: 0.45em 0.6em; margin: 0 0.25em; line-height: 1; border-radius: 0.35em;\">\n",
       "    Arnost Kraus\n",
       "    <span style=\"font-size: 0.8em; font-weight: bold; line-height: 1; border-radius: 0.35em; vertical-align: middle; margin-left: 0.5rem\">movie</span>\n",
       "</mark>\n",
       ", and \n",
       "<mark class=\"entity\" style=\"background: #ddd; padding: 0.45em 0.6em; margin: 0 0.25em; line-height: 1; border-radius: 0.35em;\">\n",
       "    Charles M. Schulz\n",
       "    <span style=\"font-size: 0.8em; font-weight: bold; line-height: 1; border-radius: 0.35em; vertical-align: middle; margin-left: 0.5rem\">name</span>\n",
       "</mark>\n",
       " in the film industry?</div></span>"
      ],
      "text/plain": [
       "<IPython.core.display.HTML object>"
      ]
     },
     "metadata": {},
     "output_type": "display_data"
    },
    {
     "name": "stdout",
     "output_type": "stream",
     "text": [
      "Are there any notable collaborations between John D. F. Black, Arnost Kraus, and Charles M. Schulz in the film industry? {'entities': [(45, 61, 'name'), (63, 75, 'name'), (81, 98, 'name')]}\n",
      "Missing movie label\n"
     ]
    },
    {
     "data": {
      "text/html": [
       "<span class=\"tex2jax_ignore\"><div class=\"entities\" style=\"line-height: 2.5; direction: ltr\">Do \n",
       "<mark class=\"entity\" style=\"background: #ddd; padding: 0.45em 0.6em; margin: 0 0.25em; line-height: 1; border-radius: 0.35em;\">\n",
       "    Leonard Penn\n",
       "    <span style=\"font-size: 0.8em; font-weight: bold; line-height: 1; border-radius: 0.35em; vertical-align: middle; margin-left: 0.5rem\">movie</span>\n",
       "</mark>\n",
       " and \n",
       "<mark class=\"entity\" style=\"background: #ddd; padding: 0.45em 0.6em; margin: 0 0.25em; line-height: 1; border-radius: 0.35em;\">\n",
       "    Pasta Oner\n",
       "    <span style=\"font-size: 0.8em; font-weight: bold; line-height: 1; border-radius: 0.35em; vertical-align: middle; margin-left: 0.5rem\">name</span>\n",
       "</mark>\n",
       " have any projects together?</div></span>"
      ],
      "text/plain": [
       "<IPython.core.display.HTML object>"
      ]
     },
     "metadata": {},
     "output_type": "display_data"
    },
    {
     "name": "stdout",
     "output_type": "stream",
     "text": [
      "Do Leonard Penn and Pasta Oner have any projects together? {'entities': [(3, 15, 'name'), (20, 30, 'name')]}\n",
      "Missing movie label\n"
     ]
    },
    {
     "data": {
      "text/html": [
       "<span class=\"tex2jax_ignore\"><div class=\"entities\" style=\"line-height: 2.5; direction: ltr\">Can you list all the movies starring \n",
       "<mark class=\"entity\" style=\"background: #ddd; padding: 0.45em 0.6em; margin: 0 0.25em; line-height: 1; border-radius: 0.35em;\">\n",
       "    Khavn De La Cruz\n",
       "    <span style=\"font-size: 0.8em; font-weight: bold; line-height: 1; border-radius: 0.35em; vertical-align: middle; margin-left: 0.5rem\">name</span>\n",
       "</mark>\n",
       ", \n",
       "<mark class=\"entity\" style=\"background: #ddd; padding: 0.45em 0.6em; margin: 0 0.25em; line-height: 1; border-radius: 0.35em;\">\n",
       "    Roger Gual\n",
       "    <span style=\"font-size: 0.8em; font-weight: bold; line-height: 1; border-radius: 0.35em; vertical-align: middle; margin-left: 0.5rem\">movie</span>\n",
       "</mark>\n",
       ", and \n",
       "<mark class=\"entity\" style=\"background: #ddd; padding: 0.45em 0.6em; margin: 0 0.25em; line-height: 1; border-radius: 0.35em;\">\n",
       "    Benjamin Britten\n",
       "    <span style=\"font-size: 0.8em; font-weight: bold; line-height: 1; border-radius: 0.35em; vertical-align: middle; margin-left: 0.5rem\">name</span>\n",
       "</mark>\n",
       "?</div></span>"
      ],
      "text/plain": [
       "<IPython.core.display.HTML object>"
      ]
     },
     "metadata": {},
     "output_type": "display_data"
    },
    {
     "name": "stdout",
     "output_type": "stream",
     "text": [
      "Can you list all the movies starring Khavn De La Cruz, Roger Gual, and Benjamin Britten? {'entities': [(37, 53, 'name'), (55, 65, 'name'), (71, 87, 'name')]}\n",
      "Missing movie label\n"
     ]
    },
    {
     "data": {
      "text/html": [
       "<span class=\"tex2jax_ignore\"><div class=\"entities\" style=\"line-height: 2.5; direction: ltr\">Do \n",
       "<mark class=\"entity\" style=\"background: #ddd; padding: 0.45em 0.6em; margin: 0 0.25em; line-height: 1; border-radius: 0.35em;\">\n",
       "    Bombo Glory\n",
       "    <span style=\"font-size: 0.8em; font-weight: bold; line-height: 1; border-radius: 0.35em; vertical-align: middle; margin-left: 0.5rem\">name</span>\n",
       "</mark>\n",
       " and \n",
       "<mark class=\"entity\" style=\"background: #ddd; padding: 0.45em 0.6em; margin: 0 0.25em; line-height: 1; border-radius: 0.35em;\">\n",
       "    Joe Ranft\n",
       "    <span style=\"font-size: 0.8em; font-weight: bold; line-height: 1; border-radius: 0.35em; vertical-align: middle; margin-left: 0.5rem\">movie</span>\n",
       "</mark>\n",
       " share the screen in any movies?</div></span>"
      ],
      "text/plain": [
       "<IPython.core.display.HTML object>"
      ]
     },
     "metadata": {},
     "output_type": "display_data"
    },
    {
     "name": "stdout",
     "output_type": "stream",
     "text": [
      "Do Bombo Glory and Joe Ranft share the screen in any movies? {'entities': [(3, 14, 'name'), (19, 28, 'name')]}\n",
      "Missing movie label\n"
     ]
    },
    {
     "data": {
      "text/html": [
       "<span class=\"tex2jax_ignore\"><div class=\"entities\" style=\"line-height: 2.5; direction: ltr\">I'm in the mood for a movie night with diverse genres. Any suggestions for films that include \n",
       "<mark class=\"entity\" style=\"background: #ddd; padding: 0.45em 0.6em; margin: 0 0.25em; line-height: 1; border-radius: 0.35em;\">\n",
       "    mystery fiction\n",
       "    <span style=\"font-size: 0.8em; font-weight: bold; line-height: 1; border-radius: 0.35em; vertical-align: middle; margin-left: 0.5rem\">genre</span>\n",
       "</mark>\n",
       " and \n",
       "<mark class=\"entity\" style=\"background: #ddd; padding: 0.45em 0.6em; margin: 0 0.25em; line-height: 1; border-radius: 0.35em;\">\n",
       "    mystery\n",
       "    <span style=\"font-size: 0.8em; font-weight: bold; line-height: 1; border-radius: 0.35em; vertical-align: middle; margin-left: 0.5rem\">genre</span>\n",
       "</mark>\n",
       "?</div></span>"
      ],
      "text/plain": [
       "<IPython.core.display.HTML object>"
      ]
     },
     "metadata": {},
     "output_type": "display_data"
    },
    {
     "name": "stdout",
     "output_type": "stream",
     "text": [
      "I'm in the mood for a movie night with diverse genres. Any suggestions for films that include mystery fiction and mystery? {'entities': [(94, 109, 'genre'), (94, 101, 'genre'), (47, 52, 'predicate')]}\n",
      "Missing genre label\n"
     ]
    },
    {
     "data": {
      "text/html": [
       "<span class=\"tex2jax_ignore\"><div class=\"entities\" style=\"line-height: 2.5; direction: ltr\">Do \n",
       "<mark class=\"entity\" style=\"background: #ddd; padding: 0.45em 0.6em; margin: 0 0.25em; line-height: 1; border-radius: 0.35em;\">\n",
       "    Brice 3\n",
       "    <span style=\"font-size: 0.8em; font-weight: bold; line-height: 1; border-radius: 0.35em; vertical-align: middle; margin-left: 0.5rem\">movie</span>\n",
       "</mark>\n",
       " and \n",
       "<mark class=\"entity\" style=\"background: #ddd; padding: 0.45em 0.6em; margin: 0 0.25em; line-height: 1; border-radius: 0.35em;\">\n",
       "    Space Jam\n",
       "    <span style=\"font-size: 0.8em; font-weight: bold; line-height: 1; border-radius: 0.35em; vertical-align: middle; margin-left: 0.5rem\">name</span>\n",
       "</mark>\n",
       " belong to the same film franchise?</div></span>"
      ],
      "text/plain": [
       "<IPython.core.display.HTML object>"
      ]
     },
     "metadata": {},
     "output_type": "display_data"
    },
    {
     "name": "stdout",
     "output_type": "stream",
     "text": [
      "Do Brice 3 and Space Jam belong to the same film franchise? {'entities': [(3, 10, 'movie'), (15, 24, 'movie')]}\n",
      "Missing name label\n"
     ]
    },
    {
     "data": {
      "text/html": [
       "<span class=\"tex2jax_ignore\"><div class=\"entities\" style=\"line-height: 2.5; direction: ltr\">Were \n",
       "<mark class=\"entity\" style=\"background: #ddd; padding: 0.45em 0.6em; margin: 0 0.25em; line-height: 1; border-radius: 0.35em;\">\n",
       "    My Daughter\n",
       "    <span style=\"font-size: 0.8em; font-weight: bold; line-height: 1; border-radius: 0.35em; vertical-align: middle; margin-left: 0.5rem\">movie</span>\n",
       "</mark>\n",
       ", \n",
       "<mark class=\"entity\" style=\"background: #ddd; padding: 0.45em 0.6em; margin: 0 0.25em; line-height: 1; border-radius: 0.35em;\">\n",
       "    My Angel and Bloody Mama\n",
       "    <span style=\"font-size: 0.8em; font-weight: bold; line-height: 1; border-radius: 0.35em; vertical-align: middle; margin-left: 0.5rem\">movie</span>\n",
       "</mark>\n",
       " released the same year?</div></span>"
      ],
      "text/plain": [
       "<IPython.core.display.HTML object>"
      ]
     },
     "metadata": {},
     "output_type": "display_data"
    },
    {
     "name": "stdout",
     "output_type": "stream",
     "text": [
      "Were My Daughter, My Angel and Bloody Mama released the same year? {'entities': [(5, 26, 'movie'), (31, 42, 'movie'), (43, 50, 'predicate')]}\n",
      "Missing movie label\n"
     ]
    },
    {
     "data": {
      "text/html": [
       "<span class=\"tex2jax_ignore\"><div class=\"entities\" style=\"line-height: 2.5; direction: ltr\">Were \n",
       "<mark class=\"entity\" style=\"background: #ddd; padding: 0.45em 0.6em; margin: 0 0.25em; line-height: 1; border-radius: 0.35em;\">\n",
       "    My Daughter\n",
       "    <span style=\"font-size: 0.8em; font-weight: bold; line-height: 1; border-radius: 0.35em; vertical-align: middle; margin-left: 0.5rem\">movie</span>\n",
       "</mark>\n",
       ", \n",
       "<mark class=\"entity\" style=\"background: #ddd; padding: 0.45em 0.6em; margin: 0 0.25em; line-height: 1; border-radius: 0.35em;\">\n",
       "    My Angel and Bloody Mama\n",
       "    <span style=\"font-size: 0.8em; font-weight: bold; line-height: 1; border-radius: 0.35em; vertical-align: middle; margin-left: 0.5rem\">movie</span>\n",
       "</mark>\n",
       " released the same year?</div></span>"
      ],
      "text/plain": [
       "<IPython.core.display.HTML object>"
      ]
     },
     "metadata": {},
     "output_type": "display_data"
    },
    {
     "name": "stdout",
     "output_type": "stream",
     "text": [
      "Were My Daughter, My Angel and Bloody Mama released the same year? {'entities': [(5, 26, 'movie'), (31, 42, 'movie'), (43, 50, 'predicate')]}\n",
      "Missing movie label\n"
     ]
    },
    {
     "data": {
      "text/html": [
       "<span class=\"tex2jax_ignore\"><div class=\"entities\" style=\"line-height: 2.5; direction: ltr\">Do \n",
       "<mark class=\"entity\" style=\"background: #ddd; padding: 0.45em 0.6em; margin: 0 0.25em; line-height: 1; border-radius: 0.35em;\">\n",
       "    Zach King\n",
       "    <span style=\"font-size: 0.8em; font-weight: bold; line-height: 1; border-radius: 0.35em; vertical-align: middle; margin-left: 0.5rem\">movie</span>\n",
       "</mark>\n",
       " and \n",
       "<mark class=\"entity\" style=\"background: #ddd; padding: 0.45em 0.6em; margin: 0 0.25em; line-height: 1; border-radius: 0.35em;\">\n",
       "    Negativ\n",
       "    <span style=\"font-size: 0.8em; font-weight: bold; line-height: 1; border-radius: 0.35em; vertical-align: middle; margin-left: 0.5rem\">name</span>\n",
       "</mark>\n",
       " have any projects together?</div></span>"
      ],
      "text/plain": [
       "<IPython.core.display.HTML object>"
      ]
     },
     "metadata": {},
     "output_type": "display_data"
    },
    {
     "name": "stdout",
     "output_type": "stream",
     "text": [
      "Do Zach King and Negativ have any projects together? {'entities': [(3, 12, 'name'), (17, 24, 'name')]}\n",
      "Missing movie label\n"
     ]
    },
    {
     "data": {
      "text/html": [
       "<span class=\"tex2jax_ignore\"><div class=\"entities\" style=\"line-height: 2.5; direction: ltr\">Are there any staff members in common between \n",
       "<mark class=\"entity\" style=\"background: #ddd; padding: 0.45em 0.6em; margin: 0 0.25em; line-height: 1; border-radius: 0.35em;\">\n",
       "    The Rise\n",
       "    <span style=\"font-size: 0.8em; font-weight: bold; line-height: 1; border-radius: 0.35em; vertical-align: middle; margin-left: 0.5rem\">movie</span>\n",
       "</mark>\n",
       " and \n",
       "<mark class=\"entity\" style=\"background: #ddd; padding: 0.45em 0.6em; margin: 0 0.25em; line-height: 1; border-radius: 0.35em;\">\n",
       "    Fall of a White Collar Hooligan\n",
       "    <span style=\"font-size: 0.8em; font-weight: bold; line-height: 1; border-radius: 0.35em; vertical-align: middle; margin-left: 0.5rem\">movie</span>\n",
       "</mark>\n",
       " and \n",
       "<mark class=\"entity\" style=\"background: #ddd; padding: 0.45em 0.6em; margin: 0 0.25em; line-height: 1; border-radius: 0.35em;\">\n",
       "    Babette's Feast\n",
       "    <span style=\"font-size: 0.8em; font-weight: bold; line-height: 1; border-radius: 0.35em; vertical-align: middle; margin-left: 0.5rem\">movie</span>\n",
       "</mark>\n",
       "?</div></span>"
      ],
      "text/plain": [
       "<IPython.core.display.HTML object>"
      ]
     },
     "metadata": {},
     "output_type": "display_data"
    },
    {
     "name": "stdout",
     "output_type": "stream",
     "text": [
      "Are there any staff members in common between The Rise and Fall of a White Collar Hooligan and Babette's Feast? {'entities': [(46, 90, 'movie'), (95, 110, 'movie')]}\n",
      "Missing movie label\n"
     ]
    },
    {
     "data": {
      "text/html": [
       "<span class=\"tex2jax_ignore\"><div class=\"entities\" style=\"line-height: 2.5; direction: ltr\">Are there any staff members in common between \n",
       "<mark class=\"entity\" style=\"background: #ddd; padding: 0.45em 0.6em; margin: 0 0.25em; line-height: 1; border-radius: 0.35em;\">\n",
       "    The Rise\n",
       "    <span style=\"font-size: 0.8em; font-weight: bold; line-height: 1; border-radius: 0.35em; vertical-align: middle; margin-left: 0.5rem\">movie</span>\n",
       "</mark>\n",
       " and \n",
       "<mark class=\"entity\" style=\"background: #ddd; padding: 0.45em 0.6em; margin: 0 0.25em; line-height: 1; border-radius: 0.35em;\">\n",
       "    Fall of a White Collar Hooligan\n",
       "    <span style=\"font-size: 0.8em; font-weight: bold; line-height: 1; border-radius: 0.35em; vertical-align: middle; margin-left: 0.5rem\">movie</span>\n",
       "</mark>\n",
       " and \n",
       "<mark class=\"entity\" style=\"background: #ddd; padding: 0.45em 0.6em; margin: 0 0.25em; line-height: 1; border-radius: 0.35em;\">\n",
       "    Babette's Feast\n",
       "    <span style=\"font-size: 0.8em; font-weight: bold; line-height: 1; border-radius: 0.35em; vertical-align: middle; margin-left: 0.5rem\">movie</span>\n",
       "</mark>\n",
       "?</div></span>"
      ],
      "text/plain": [
       "<IPython.core.display.HTML object>"
      ]
     },
     "metadata": {},
     "output_type": "display_data"
    },
    {
     "name": "stdout",
     "output_type": "stream",
     "text": [
      "Are there any staff members in common between The Rise and Fall of a White Collar Hooligan and Babette's Feast? {'entities': [(46, 90, 'movie'), (95, 110, 'movie')]}\n",
      "Missing movie label\n"
     ]
    },
    {
     "data": {
      "text/html": [
       "<span class=\"tex2jax_ignore\"><div class=\"entities\" style=\"line-height: 2.5; direction: ltr\">Do \n",
       "<mark class=\"entity\" style=\"background: #ddd; padding: 0.45em 0.6em; margin: 0 0.25em; line-height: 1; border-radius: 0.35em;\">\n",
       "    Irma von Cube\n",
       "    <span style=\"font-size: 0.8em; font-weight: bold; line-height: 1; border-radius: 0.35em; vertical-align: middle; margin-left: 0.5rem\">movie</span>\n",
       "</mark>\n",
       " and \n",
       "<mark class=\"entity\" style=\"background: #ddd; padding: 0.45em 0.6em; margin: 0 0.25em; line-height: 1; border-radius: 0.35em;\">\n",
       "    Chris Haywood\n",
       "    <span style=\"font-size: 0.8em; font-weight: bold; line-height: 1; border-radius: 0.35em; vertical-align: middle; margin-left: 0.5rem\">name</span>\n",
       "</mark>\n",
       " appear in the same movie</div></span>"
      ],
      "text/plain": [
       "<IPython.core.display.HTML object>"
      ]
     },
     "metadata": {},
     "output_type": "display_data"
    },
    {
     "name": "stdout",
     "output_type": "stream",
     "text": [
      "Do Irma von Cube and Chris Haywood appear in the same movie {'entities': [(3, 16, 'name'), (21, 34, 'name')]}\n",
      "Missing movie label\n"
     ]
    },
    {
     "data": {
      "text/html": [
       "<span class=\"tex2jax_ignore\"><div class=\"entities\" style=\"line-height: 2.5; direction: ltr\">Do \n",
       "<mark class=\"entity\" style=\"background: #ddd; padding: 0.45em 0.6em; margin: 0 0.25em; line-height: 1; border-radius: 0.35em;\">\n",
       "    Renske de Greef\n",
       "    <span style=\"font-size: 0.8em; font-weight: bold; line-height: 1; border-radius: 0.35em; vertical-align: middle; margin-left: 0.5rem\">movie</span>\n",
       "</mark>\n",
       " and \n",
       "<mark class=\"entity\" style=\"background: #ddd; padding: 0.45em 0.6em; margin: 0 0.25em; line-height: 1; border-radius: 0.35em;\">\n",
       "    Shinya Ōtaki\n",
       "    <span style=\"font-size: 0.8em; font-weight: bold; line-height: 1; border-radius: 0.35em; vertical-align: middle; margin-left: 0.5rem\">name</span>\n",
       "</mark>\n",
       " appear in the same movie</div></span>"
      ],
      "text/plain": [
       "<IPython.core.display.HTML object>"
      ]
     },
     "metadata": {},
     "output_type": "display_data"
    },
    {
     "name": "stdout",
     "output_type": "stream",
     "text": [
      "Do Renske de Greef and Shinya Ōtaki appear in the same movie {'entities': [(3, 18, 'name'), (23, 35, 'name')]}\n",
      "Missing movie label\n"
     ]
    },
    {
     "data": {
      "text/html": [
       "<span class=\"tex2jax_ignore\"><div class=\"entities\" style=\"line-height: 2.5; direction: ltr\">Do \n",
       "<mark class=\"entity\" style=\"background: #ddd; padding: 0.45em 0.6em; margin: 0 0.25em; line-height: 1; border-radius: 0.35em;\">\n",
       "    Focus Jeerakul\n",
       "    <span style=\"font-size: 0.8em; font-weight: bold; line-height: 1; border-radius: 0.35em; vertical-align: middle; margin-left: 0.5rem\">movie</span>\n",
       "</mark>\n",
       " and \n",
       "<mark class=\"entity\" style=\"background: #ddd; padding: 0.45em 0.6em; margin: 0 0.25em; line-height: 1; border-radius: 0.35em;\">\n",
       "    Milli Wilkinson\n",
       "    <span style=\"font-size: 0.8em; font-weight: bold; line-height: 1; border-radius: 0.35em; vertical-align: middle; margin-left: 0.5rem\">name</span>\n",
       "</mark>\n",
       " have any projects together?</div></span>"
      ],
      "text/plain": [
       "<IPython.core.display.HTML object>"
      ]
     },
     "metadata": {},
     "output_type": "display_data"
    },
    {
     "name": "stdout",
     "output_type": "stream",
     "text": [
      "Do Focus Jeerakul and Milli Wilkinson have any projects together? {'entities': [(3, 17, 'name'), (22, 37, 'name')]}\n",
      "Missing movie label\n"
     ]
    },
    {
     "data": {
      "text/html": [
       "<span class=\"tex2jax_ignore\"><div class=\"entities\" style=\"line-height: 2.5; direction: ltr\">Do \n",
       "<mark class=\"entity\" style=\"background: #ddd; padding: 0.45em 0.6em; margin: 0 0.25em; line-height: 1; border-radius: 0.35em;\">\n",
       "    Ginatri S. Noer\n",
       "    <span style=\"font-size: 0.8em; font-weight: bold; line-height: 1; border-radius: 0.35em; vertical-align: middle; margin-left: 0.5rem\">movie</span>\n",
       "</mark>\n",
       " and \n",
       "<mark class=\"entity\" style=\"background: #ddd; padding: 0.45em 0.6em; margin: 0 0.25em; line-height: 1; border-radius: 0.35em;\">\n",
       "    Ole Christoffer Ertvaag\n",
       "    <span style=\"font-size: 0.8em; font-weight: bold; line-height: 1; border-radius: 0.35em; vertical-align: middle; margin-left: 0.5rem\">name</span>\n",
       "</mark>\n",
       " appear in \n",
       "<mark class=\"entity\" style=\"background: #ddd; padding: 0.45em 0.6em; margin: 0 0.25em; line-height: 1; border-radius: 0.35em;\">\n",
       "    American Grindhouse\n",
       "    <span style=\"font-size: 0.8em; font-weight: bold; line-height: 1; border-radius: 0.35em; vertical-align: middle; margin-left: 0.5rem\">movie</span>\n",
       "</mark>\n",
       "</div></span>"
      ],
      "text/plain": [
       "<IPython.core.display.HTML object>"
      ]
     },
     "metadata": {},
     "output_type": "display_data"
    },
    {
     "name": "stdout",
     "output_type": "stream",
     "text": [
      "Do Ginatri S. Noer and Ole Christoffer Ertvaag appear in American Grindhouse {'entities': [(3, 18, 'name'), (23, 46, 'name'), (57, 76, 'movie')]}\n",
      "Missing movie label\n"
     ]
    },
    {
     "data": {
      "text/html": [
       "<span class=\"tex2jax_ignore\"><div class=\"entities\" style=\"line-height: 2.5; direction: ltr\">Do \n",
       "<mark class=\"entity\" style=\"background: #ddd; padding: 0.45em 0.6em; margin: 0 0.25em; line-height: 1; border-radius: 0.35em;\">\n",
       "    Sheep\n",
       "    <span style=\"font-size: 0.8em; font-weight: bold; line-height: 1; border-radius: 0.35em; vertical-align: middle; margin-left: 0.5rem\">movie</span>\n",
       "</mark>\n",
       " and Wolves: Pig Deal and \n",
       "<mark class=\"entity\" style=\"background: #ddd; padding: 0.45em 0.6em; margin: 0 0.25em; line-height: 1; border-radius: 0.35em;\">\n",
       "    Creed II\n",
       "    <span style=\"font-size: 0.8em; font-weight: bold; line-height: 1; border-radius: 0.35em; vertical-align: middle; margin-left: 0.5rem\">movie</span>\n",
       "</mark>\n",
       " belong to the same film franchise?</div></span>"
      ],
      "text/plain": [
       "<IPython.core.display.HTML object>"
      ]
     },
     "metadata": {},
     "output_type": "display_data"
    },
    {
     "name": "stdout",
     "output_type": "stream",
     "text": [
      "Do Sheep and Wolves: Pig Deal and Creed II belong to the same film franchise? {'entities': [(3, 29, 'movie'), (34, 42, 'movie')]}\n",
      "Missing movie label\n"
     ]
    },
    {
     "data": {
      "text/html": [
       "<span class=\"tex2jax_ignore\"><div class=\"entities\" style=\"line-height: 2.5; direction: ltr\">Are there any notable collaborations between \n",
       "<mark class=\"entity\" style=\"background: #ddd; padding: 0.45em 0.6em; margin: 0 0.25em; line-height: 1; border-radius: 0.35em;\">\n",
       "    Elite Zexer\n",
       "    <span style=\"font-size: 0.8em; font-weight: bold; line-height: 1; border-radius: 0.35em; vertical-align: middle; margin-left: 0.5rem\">name</span>\n",
       "</mark>\n",
       ", \n",
       "<mark class=\"entity\" style=\"background: #ddd; padding: 0.45em 0.6em; margin: 0 0.25em; line-height: 1; border-radius: 0.35em;\">\n",
       "    Esha Deol\n",
       "    <span style=\"font-size: 0.8em; font-weight: bold; line-height: 1; border-radius: 0.35em; vertical-align: middle; margin-left: 0.5rem\">movie</span>\n",
       "</mark>\n",
       ", and \n",
       "<mark class=\"entity\" style=\"background: #ddd; padding: 0.45em 0.6em; margin: 0 0.25em; line-height: 1; border-radius: 0.35em;\">\n",
       "    Gábor P. Szabó\n",
       "    <span style=\"font-size: 0.8em; font-weight: bold; line-height: 1; border-radius: 0.35em; vertical-align: middle; margin-left: 0.5rem\">name</span>\n",
       "</mark>\n",
       " in the film industry?</div></span>"
      ],
      "text/plain": [
       "<IPython.core.display.HTML object>"
      ]
     },
     "metadata": {},
     "output_type": "display_data"
    },
    {
     "name": "stdout",
     "output_type": "stream",
     "text": [
      "Are there any notable collaborations between Elite Zexer, Esha Deol, and Gábor P. Szabó in the film industry? {'entities': [(45, 56, 'name'), (58, 67, 'name'), (73, 87, 'name')]}\n",
      "Missing movie label\n"
     ]
    },
    {
     "data": {
      "text/html": [
       "<span class=\"tex2jax_ignore\"><div class=\"entities\" style=\"line-height: 2.5; direction: ltr\">Are there any common themes or genres between \n",
       "<mark class=\"entity\" style=\"background: #ddd; padding: 0.45em 0.6em; margin: 0 0.25em; line-height: 1; border-radius: 0.35em;\">\n",
       "    Chocolat\n",
       "    <span style=\"font-size: 0.8em; font-weight: bold; line-height: 1; border-radius: 0.35em; vertical-align: middle; margin-left: 0.5rem\">movie</span>\n",
       "</mark>\n",
       " and \n",
       "<mark class=\"entity\" style=\"background: #ddd; padding: 0.45em 0.6em; margin: 0 0.25em; line-height: 1; border-radius: 0.35em;\">\n",
       "    Hawaii\n",
       "    <span style=\"font-size: 0.8em; font-weight: bold; line-height: 1; border-radius: 0.35em; vertical-align: middle; margin-left: 0.5rem\">genre</span>\n",
       "</mark>\n",
       "?</div></span>"
      ],
      "text/plain": [
       "<IPython.core.display.HTML object>"
      ]
     },
     "metadata": {},
     "output_type": "display_data"
    },
    {
     "name": "stdout",
     "output_type": "stream",
     "text": [
      "Are there any common themes or genres between Chocolat and Hawaii? {'entities': [(46, 54, 'movie'), (59, 65, 'movie'), (31, 36, 'predicate')]}\n",
      "Missing genre label\n"
     ]
    },
    {
     "data": {
      "text/html": [
       "<span class=\"tex2jax_ignore\"><div class=\"entities\" style=\"line-height: 2.5; direction: ltr\">Are there any common themes or genres between \n",
       "<mark class=\"entity\" style=\"background: #ddd; padding: 0.45em 0.6em; margin: 0 0.25em; line-height: 1; border-radius: 0.35em;\">\n",
       "    Silent Night\n",
       "    <span style=\"font-size: 0.8em; font-weight: bold; line-height: 1; border-radius: 0.35em; vertical-align: middle; margin-left: 0.5rem\">movie</span>\n",
       "</mark>\n",
       ", \n",
       "<mark class=\"entity\" style=\"background: #ddd; padding: 0.45em 0.6em; margin: 0 0.25em; line-height: 1; border-radius: 0.35em;\">\n",
       "    Deadly Night 4: Initiation\n",
       "    <span style=\"font-size: 0.8em; font-weight: bold; line-height: 1; border-radius: 0.35em; vertical-align: middle; margin-left: 0.5rem\">movie</span>\n",
       "</mark>\n",
       " and \n",
       "<mark class=\"entity\" style=\"background: #ddd; padding: 0.45em 0.6em; margin: 0 0.25em; line-height: 1; border-radius: 0.35em;\">\n",
       "    The Founding of a Republic\n",
       "    <span style=\"font-size: 0.8em; font-weight: bold; line-height: 1; border-radius: 0.35em; vertical-align: middle; margin-left: 0.5rem\">movie</span>\n",
       "</mark>\n",
       "?</div></span>"
      ],
      "text/plain": [
       "<IPython.core.display.HTML object>"
      ]
     },
     "metadata": {},
     "output_type": "display_data"
    },
    {
     "name": "stdout",
     "output_type": "stream",
     "text": [
      "Are there any common themes or genres between Silent Night, Deadly Night 4: Initiation and The Founding of a Republic? {'entities': [(46, 86, 'movie'), (91, 117, 'movie'), (31, 36, 'predicate')]}\n",
      "Missing movie label\n"
     ]
    },
    {
     "data": {
      "text/html": [
       "<span class=\"tex2jax_ignore\"><div class=\"entities\" style=\"line-height: 2.5; direction: ltr\">Are there any common themes or genres between \n",
       "<mark class=\"entity\" style=\"background: #ddd; padding: 0.45em 0.6em; margin: 0 0.25em; line-height: 1; border-radius: 0.35em;\">\n",
       "    Silent Night\n",
       "    <span style=\"font-size: 0.8em; font-weight: bold; line-height: 1; border-radius: 0.35em; vertical-align: middle; margin-left: 0.5rem\">movie</span>\n",
       "</mark>\n",
       ", \n",
       "<mark class=\"entity\" style=\"background: #ddd; padding: 0.45em 0.6em; margin: 0 0.25em; line-height: 1; border-radius: 0.35em;\">\n",
       "    Deadly Night 4: Initiation\n",
       "    <span style=\"font-size: 0.8em; font-weight: bold; line-height: 1; border-radius: 0.35em; vertical-align: middle; margin-left: 0.5rem\">movie</span>\n",
       "</mark>\n",
       " and \n",
       "<mark class=\"entity\" style=\"background: #ddd; padding: 0.45em 0.6em; margin: 0 0.25em; line-height: 1; border-radius: 0.35em;\">\n",
       "    The Founding of a Republic\n",
       "    <span style=\"font-size: 0.8em; font-weight: bold; line-height: 1; border-radius: 0.35em; vertical-align: middle; margin-left: 0.5rem\">movie</span>\n",
       "</mark>\n",
       "?</div></span>"
      ],
      "text/plain": [
       "<IPython.core.display.HTML object>"
      ]
     },
     "metadata": {},
     "output_type": "display_data"
    },
    {
     "name": "stdout",
     "output_type": "stream",
     "text": [
      "Are there any common themes or genres between Silent Night, Deadly Night 4: Initiation and The Founding of a Republic? {'entities': [(46, 86, 'movie'), (91, 117, 'movie'), (31, 36, 'predicate')]}\n",
      "Missing movie label\n"
     ]
    },
    {
     "data": {
      "text/html": [
       "<span class=\"tex2jax_ignore\"><div class=\"entities\" style=\"line-height: 2.5; direction: ltr\">Can you list all the movies starring \n",
       "<mark class=\"entity\" style=\"background: #ddd; padding: 0.45em 0.6em; margin: 0 0.25em; line-height: 1; border-radius: 0.35em;\">\n",
       "    Bohemia\n",
       "    <span style=\"font-size: 0.8em; font-weight: bold; line-height: 1; border-radius: 0.35em; vertical-align: middle; margin-left: 0.5rem\">genre</span>\n",
       "</mark>\n",
       ", \n",
       "<mark class=\"entity\" style=\"background: #ddd; padding: 0.45em 0.6em; margin: 0 0.25em; line-height: 1; border-radius: 0.35em;\">\n",
       "    Judith Davis\n",
       "    <span style=\"font-size: 0.8em; font-weight: bold; line-height: 1; border-radius: 0.35em; vertical-align: middle; margin-left: 0.5rem\">name</span>\n",
       "</mark>\n",
       ", and \n",
       "<mark class=\"entity\" style=\"background: #ddd; padding: 0.45em 0.6em; margin: 0 0.25em; line-height: 1; border-radius: 0.35em;\">\n",
       "    Torsten Dewi\n",
       "    <span style=\"font-size: 0.8em; font-weight: bold; line-height: 1; border-radius: 0.35em; vertical-align: middle; margin-left: 0.5rem\">name</span>\n",
       "</mark>\n",
       "?</div></span>"
      ],
      "text/plain": [
       "<IPython.core.display.HTML object>"
      ]
     },
     "metadata": {},
     "output_type": "display_data"
    },
    {
     "name": "stdout",
     "output_type": "stream",
     "text": [
      "Can you list all the movies starring Bohemia, Judith Davis, and Torsten Dewi? {'entities': [(37, 44, 'name'), (46, 58, 'name'), (64, 76, 'name')]}\n",
      "Missing genre label\n"
     ]
    },
    {
     "data": {
      "text/html": [
       "<span class=\"tex2jax_ignore\"><div class=\"entities\" style=\"line-height: 2.5; direction: ltr\">Which movies successfully incorporate both \n",
       "<mark class=\"entity\" style=\"background: #ddd; padding: 0.45em 0.6em; margin: 0 0.25em; line-height: 1; border-radius: 0.35em;\">\n",
       "    historical fiction\n",
       "    <span style=\"font-size: 0.8em; font-weight: bold; line-height: 1; border-radius: 0.35em; vertical-align: middle; margin-left: 0.5rem\">genre</span>\n",
       "</mark>\n",
       " and \n",
       "<mark class=\"entity\" style=\"background: #ddd; padding: 0.45em 0.6em; margin: 0 0.25em; line-height: 1; border-radius: 0.35em;\">\n",
       "    fiction\n",
       "    <span style=\"font-size: 0.8em; font-weight: bold; line-height: 1; border-radius: 0.35em; vertical-align: middle; margin-left: 0.5rem\">genre</span>\n",
       "</mark>\n",
       " in their storytelling?</div></span>"
      ],
      "text/plain": [
       "<IPython.core.display.HTML object>"
      ]
     },
     "metadata": {},
     "output_type": "display_data"
    },
    {
     "name": "stdout",
     "output_type": "stream",
     "text": [
      "Which movies successfully incorporate both historical fiction and fiction in their storytelling? {'entities': [(43, 61, 'genre'), (54, 61, 'genre')]}\n",
      "Missing genre label\n"
     ]
    },
    {
     "data": {
      "text/html": [
       "<span class=\"tex2jax_ignore\"><div class=\"entities\" style=\"line-height: 2.5; direction: ltr\">Which actors from \n",
       "<mark class=\"entity\" style=\"background: #ddd; padding: 0.45em 0.6em; margin: 0 0.25em; line-height: 1; border-radius: 0.35em;\">\n",
       "    O Brother\n",
       "    <span style=\"font-size: 0.8em; font-weight: bold; line-height: 1; border-radius: 0.35em; vertical-align: middle; margin-left: 0.5rem\">movie</span>\n",
       "</mark>\n",
       ", Where Art Thou? and \n",
       "<mark class=\"entity\" style=\"background: #ddd; padding: 0.45em 0.6em; margin: 0 0.25em; line-height: 1; border-radius: 0.35em;\">\n",
       "    Layla M.\n",
       "    <span style=\"font-size: 0.8em; font-weight: bold; line-height: 1; border-radius: 0.35em; vertical-align: middle; margin-left: 0.5rem\">movie</span>\n",
       "</mark>\n",
       " have collaborated in other films?</div></span>"
      ],
      "text/plain": [
       "<IPython.core.display.HTML object>"
      ]
     },
     "metadata": {},
     "output_type": "display_data"
    },
    {
     "name": "stdout",
     "output_type": "stream",
     "text": [
      "Which actors from O Brother, Where Art Thou? and Layla M. have collaborated in other films? {'entities': [(18, 44, 'movie'), (49, 57, 'movie'), (70, 75, 'predicate')]}\n",
      "Missing movie label\n"
     ]
    },
    {
     "data": {
      "text/html": [
       "<span class=\"tex2jax_ignore\"><div class=\"entities\" style=\"line-height: 2.5; direction: ltr\">Do \n",
       "<mark class=\"entity\" style=\"background: #ddd; padding: 0.45em 0.6em; margin: 0 0.25em; line-height: 1; border-radius: 0.35em;\">\n",
       "    Maria an Callas\n",
       "    <span style=\"font-size: 0.8em; font-weight: bold; line-height: 1; border-radius: 0.35em; vertical-align: middle; margin-left: 0.5rem\">name</span>\n",
       "</mark>\n",
       " and \n",
       "<mark class=\"entity\" style=\"background: #ddd; padding: 0.45em 0.6em; margin: 0 0.25em; line-height: 1; border-radius: 0.35em;\">\n",
       "    Little Children\n",
       "    <span style=\"font-size: 0.8em; font-weight: bold; line-height: 1; border-radius: 0.35em; vertical-align: middle; margin-left: 0.5rem\">movie</span>\n",
       "</mark>\n",
       " belong to the same film franchise?</div></span>"
      ],
      "text/plain": [
       "<IPython.core.display.HTML object>"
      ]
     },
     "metadata": {},
     "output_type": "display_data"
    },
    {
     "name": "stdout",
     "output_type": "stream",
     "text": [
      "Do Maria an Callas and Little Children belong to the same film franchise? {'entities': [(3, 18, 'movie'), (23, 38, 'movie')]}\n",
      "Missing name label\n"
     ]
    },
    {
     "data": {
      "text/html": [
       "<span class=\"tex2jax_ignore\"><div class=\"entities\" style=\"line-height: 2.5; direction: ltr\">Are there any notable collaborations between \n",
       "<mark class=\"entity\" style=\"background: #ddd; padding: 0.45em 0.6em; margin: 0 0.25em; line-height: 1; border-radius: 0.35em;\">\n",
       "    Salman the Persian\n",
       "    <span style=\"font-size: 0.8em; font-weight: bold; line-height: 1; border-radius: 0.35em; vertical-align: middle; margin-left: 0.5rem\">name</span>\n",
       "</mark>\n",
       ", \n",
       "<mark class=\"entity\" style=\"background: #ddd; padding: 0.45em 0.6em; margin: 0 0.25em; line-height: 1; border-radius: 0.35em;\">\n",
       "    Susannah Melvoin\n",
       "    <span style=\"font-size: 0.8em; font-weight: bold; line-height: 1; border-radius: 0.35em; vertical-align: middle; margin-left: 0.5rem\">movie</span>\n",
       "</mark>\n",
       ", and \n",
       "<mark class=\"entity\" style=\"background: #ddd; padding: 0.45em 0.6em; margin: 0 0.25em; line-height: 1; border-radius: 0.35em;\">\n",
       "    Frank Marth\n",
       "    <span style=\"font-size: 0.8em; font-weight: bold; line-height: 1; border-radius: 0.35em; vertical-align: middle; margin-left: 0.5rem\">name</span>\n",
       "</mark>\n",
       " in the film industry?</div></span>"
      ],
      "text/plain": [
       "<IPython.core.display.HTML object>"
      ]
     },
     "metadata": {},
     "output_type": "display_data"
    },
    {
     "name": "stdout",
     "output_type": "stream",
     "text": [
      "Are there any notable collaborations between Salman the Persian, Susannah Melvoin, and Frank Marth in the film industry? {'entities': [(45, 63, 'name'), (65, 81, 'name'), (87, 98, 'name')]}\n",
      "Missing movie label\n"
     ]
    },
    {
     "data": {
      "text/html": [
       "<span class=\"tex2jax_ignore\"><div class=\"entities\" style=\"line-height: 2.5; direction: ltr\">Can you list all the movies starring \n",
       "<mark class=\"entity\" style=\"background: #ddd; padding: 0.45em 0.6em; margin: 0 0.25em; line-height: 1; border-radius: 0.35em;\">\n",
       "    Sugith Varughese\n",
       "    <span style=\"font-size: 0.8em; font-weight: bold; line-height: 1; border-radius: 0.35em; vertical-align: middle; margin-left: 0.5rem\">name</span>\n",
       "</mark>\n",
       ", \n",
       "<mark class=\"entity\" style=\"background: #ddd; padding: 0.45em 0.6em; margin: 0 0.25em; line-height: 1; border-radius: 0.35em;\">\n",
       "    Hikari Kajiwara\n",
       "    <span style=\"font-size: 0.8em; font-weight: bold; line-height: 1; border-radius: 0.35em; vertical-align: middle; margin-left: 0.5rem\">name</span>\n",
       "</mark>\n",
       ", and \n",
       "<mark class=\"entity\" style=\"background: #ddd; padding: 0.45em 0.6em; margin: 0 0.25em; line-height: 1; border-radius: 0.35em;\">\n",
       "    Richard C. Currier\n",
       "    <span style=\"font-size: 0.8em; font-weight: bold; line-height: 1; border-radius: 0.35em; vertical-align: middle; margin-left: 0.5rem\">movie</span>\n",
       "</mark>\n",
       "?</div></span>"
      ],
      "text/plain": [
       "<IPython.core.display.HTML object>"
      ]
     },
     "metadata": {},
     "output_type": "display_data"
    },
    {
     "name": "stdout",
     "output_type": "stream",
     "text": [
      "Can you list all the movies starring Sugith Varughese, Hikari Kajiwara, and Richard C. Currier? {'entities': [(37, 53, 'name'), (55, 70, 'name'), (76, 94, 'name')]}\n",
      "Missing movie label\n"
     ]
    },
    {
     "data": {
      "text/html": [
       "<span class=\"tex2jax_ignore\"><div class=\"entities\" style=\"line-height: 2.5; direction: ltr\">Do \n",
       "<mark class=\"entity\" style=\"background: #ddd; padding: 0.45em 0.6em; margin: 0 0.25em; line-height: 1; border-radius: 0.35em;\">\n",
       "    Abdul Aziz (film maker)\n",
       "    <span style=\"font-size: 0.8em; font-weight: bold; line-height: 1; border-radius: 0.35em; vertical-align: middle; margin-left: 0.5rem\">movie</span>\n",
       "</mark>\n",
       " and \n",
       "<mark class=\"entity\" style=\"background: #ddd; padding: 0.45em 0.6em; margin: 0 0.25em; line-height: 1; border-radius: 0.35em;\">\n",
       "    Félix Terrero\n",
       "    <span style=\"font-size: 0.8em; font-weight: bold; line-height: 1; border-radius: 0.35em; vertical-align: middle; margin-left: 0.5rem\">name</span>\n",
       "</mark>\n",
       " have any projects together?</div></span>"
      ],
      "text/plain": [
       "<IPython.core.display.HTML object>"
      ]
     },
     "metadata": {},
     "output_type": "display_data"
    },
    {
     "name": "stdout",
     "output_type": "stream",
     "text": [
      "Do Abdul Aziz (film maker) and Félix Terrero have any projects together? {'entities': [(3, 26, 'name'), (31, 44, 'name')]}\n",
      "Missing movie label\n"
     ]
    },
    {
     "data": {
      "text/html": [
       "<span class=\"tex2jax_ignore\"><div class=\"entities\" style=\"line-height: 2.5; direction: ltr\">Can you provide a list of movies that are known for their unique blend of \n",
       "<mark class=\"entity\" style=\"background: #ddd; padding: 0.45em 0.6em; margin: 0 0.25em; line-height: 1; border-radius: 0.35em;\">\n",
       "    pseudo-documentary\n",
       "    <span style=\"font-size: 0.8em; font-weight: bold; line-height: 1; border-radius: 0.35em; vertical-align: middle; margin-left: 0.5rem\">genre</span>\n",
       "</mark>\n",
       " and \n",
       "<mark class=\"entity\" style=\"background: #ddd; padding: 0.45em 0.6em; margin: 0 0.25em; line-height: 1; border-radius: 0.35em;\">\n",
       "    documentary\n",
       "    <span style=\"font-size: 0.8em; font-weight: bold; line-height: 1; border-radius: 0.35em; vertical-align: middle; margin-left: 0.5rem\">genre</span>\n",
       "</mark>\n",
       "?</div></span>"
      ],
      "text/plain": [
       "<IPython.core.display.HTML object>"
      ]
     },
     "metadata": {},
     "output_type": "display_data"
    },
    {
     "name": "stdout",
     "output_type": "stream",
     "text": [
      "Can you provide a list of movies that are known for their unique blend of pseudo-documentary and documentary? {'entities': [(74, 92, 'genre'), (81, 92, 'genre')]}\n",
      "Missing genre label\n"
     ]
    },
    {
     "data": {
      "text/html": [
       "<span class=\"tex2jax_ignore\"><div class=\"entities\" style=\"line-height: 2.5; direction: ltr\">Which actors from \n",
       "<mark class=\"entity\" style=\"background: #ddd; padding: 0.45em 0.6em; margin: 0 0.25em; line-height: 1; border-radius: 0.35em;\">\n",
       "    Kamen Rider Fourze the Movie: Space\n",
       "    <span style=\"font-size: 0.8em; font-weight: bold; line-height: 1; border-radius: 0.35em; vertical-align: middle; margin-left: 0.5rem\">movie</span>\n",
       "</mark>\n",
       ", Here We Come! and \n",
       "<mark class=\"entity\" style=\"background: #ddd; padding: 0.45em 0.6em; margin: 0 0.25em; line-height: 1; border-radius: 0.35em;\">\n",
       "    The Founding of a Republic\n",
       "    <span style=\"font-size: 0.8em; font-weight: bold; line-height: 1; border-radius: 0.35em; vertical-align: middle; margin-left: 0.5rem\">movie</span>\n",
       "</mark>\n",
       " have collaborated in other films?</div></span>"
      ],
      "text/plain": [
       "<IPython.core.display.HTML object>"
      ]
     },
     "metadata": {},
     "output_type": "display_data"
    },
    {
     "name": "stdout",
     "output_type": "stream",
     "text": [
      "Which actors from Kamen Rider Fourze the Movie: Space, Here We Come! and The Founding of a Republic have collaborated in other films? {'entities': [(18, 68, 'movie'), (73, 99, 'movie'), (112, 117, 'predicate')]}\n",
      "Missing movie label\n"
     ]
    },
    {
     "data": {
      "text/html": [
       "<span class=\"tex2jax_ignore\"><div class=\"entities\" style=\"line-height: 2.5; direction: ltr\">Are there any staff members in common between \n",
       "<mark class=\"entity\" style=\"background: #ddd; padding: 0.45em 0.6em; margin: 0 0.25em; line-height: 1; border-radius: 0.35em;\">\n",
       "    4 Months, 3 Weeks\n",
       "    <span style=\"font-size: 0.8em; font-weight: bold; line-height: 1; border-radius: 0.35em; vertical-align: middle; margin-left: 0.5rem\">movie</span>\n",
       "</mark>\n",
       " and 2 Days and \n",
       "<mark class=\"entity\" style=\"background: #ddd; padding: 0.45em 0.6em; margin: 0 0.25em; line-height: 1; border-radius: 0.35em;\">\n",
       "    Impostor\n",
       "    <span style=\"font-size: 0.8em; font-weight: bold; line-height: 1; border-radius: 0.35em; vertical-align: middle; margin-left: 0.5rem\">movie</span>\n",
       "</mark>\n",
       "?</div></span>"
      ],
      "text/plain": [
       "<IPython.core.display.HTML object>"
      ]
     },
     "metadata": {},
     "output_type": "display_data"
    },
    {
     "name": "stdout",
     "output_type": "stream",
     "text": [
      "Are there any staff members in common between 4 Months, 3 Weeks and 2 Days and Impostor? {'entities': [(46, 74, 'movie'), (79, 87, 'movie')]}\n",
      "Missing movie label\n"
     ]
    },
    {
     "data": {
      "text/html": [
       "<span class=\"tex2jax_ignore\"><div class=\"entities\" style=\"line-height: 2.5; direction: ltr\">Which actors appeared in both \n",
       "<mark class=\"entity\" style=\"background: #ddd; padding: 0.45em 0.6em; margin: 0 0.25em; line-height: 1; border-radius: 0.35em;\">\n",
       "    Butch\n",
       "    <span style=\"font-size: 0.8em; font-weight: bold; line-height: 1; border-radius: 0.35em; vertical-align: middle; margin-left: 0.5rem\">movie</span>\n",
       "</mark>\n",
       " and \n",
       "<mark class=\"entity\" style=\"background: #ddd; padding: 0.45em 0.6em; margin: 0 0.25em; line-height: 1; border-radius: 0.35em;\">\n",
       "    Sundance: The Early Days\n",
       "    <span style=\"font-size: 0.8em; font-weight: bold; line-height: 1; border-radius: 0.35em; vertical-align: middle; margin-left: 0.5rem\">movie</span>\n",
       "</mark>\n",
       " and \n",
       "<mark class=\"entity\" style=\"background: #ddd; padding: 0.45em 0.6em; margin: 0 0.25em; line-height: 1; border-radius: 0.35em;\">\n",
       "    Tupac: Resurrection\n",
       "    <span style=\"font-size: 0.8em; font-weight: bold; line-height: 1; border-radius: 0.35em; vertical-align: middle; margin-left: 0.5rem\">movie</span>\n",
       "</mark>\n",
       "?</div></span>"
      ],
      "text/plain": [
       "<IPython.core.display.HTML object>"
      ]
     },
     "metadata": {},
     "output_type": "display_data"
    },
    {
     "name": "stdout",
     "output_type": "stream",
     "text": [
      "Which actors appeared in both Butch and Sundance: The Early Days and Tupac: Resurrection? {'entities': [(30, 64, 'movie'), (69, 88, 'movie')]}\n",
      "Missing movie label\n"
     ]
    },
    {
     "data": {
      "text/html": [
       "<span class=\"tex2jax_ignore\"><div class=\"entities\" style=\"line-height: 2.5; direction: ltr\">Which actors appeared in both \n",
       "<mark class=\"entity\" style=\"background: #ddd; padding: 0.45em 0.6em; margin: 0 0.25em; line-height: 1; border-radius: 0.35em;\">\n",
       "    Butch\n",
       "    <span style=\"font-size: 0.8em; font-weight: bold; line-height: 1; border-radius: 0.35em; vertical-align: middle; margin-left: 0.5rem\">movie</span>\n",
       "</mark>\n",
       " and \n",
       "<mark class=\"entity\" style=\"background: #ddd; padding: 0.45em 0.6em; margin: 0 0.25em; line-height: 1; border-radius: 0.35em;\">\n",
       "    Sundance: The Early Days\n",
       "    <span style=\"font-size: 0.8em; font-weight: bold; line-height: 1; border-radius: 0.35em; vertical-align: middle; margin-left: 0.5rem\">movie</span>\n",
       "</mark>\n",
       " and \n",
       "<mark class=\"entity\" style=\"background: #ddd; padding: 0.45em 0.6em; margin: 0 0.25em; line-height: 1; border-radius: 0.35em;\">\n",
       "    Tupac: Resurrection\n",
       "    <span style=\"font-size: 0.8em; font-weight: bold; line-height: 1; border-radius: 0.35em; vertical-align: middle; margin-left: 0.5rem\">movie</span>\n",
       "</mark>\n",
       "?</div></span>"
      ],
      "text/plain": [
       "<IPython.core.display.HTML object>"
      ]
     },
     "metadata": {},
     "output_type": "display_data"
    },
    {
     "name": "stdout",
     "output_type": "stream",
     "text": [
      "Which actors appeared in both Butch and Sundance: The Early Days and Tupac: Resurrection? {'entities': [(30, 64, 'movie'), (69, 88, 'movie')]}\n",
      "Missing movie label\n"
     ]
    },
    {
     "data": {
      "text/html": [
       "<span class=\"tex2jax_ignore\"><div class=\"entities\" style=\"line-height: 2.5; direction: ltr\">Do \n",
       "<mark class=\"entity\" style=\"background: #ddd; padding: 0.45em 0.6em; margin: 0 0.25em; line-height: 1; border-radius: 0.35em;\">\n",
       "    Tim Bentinck, 12th Earl of Portland\n",
       "    <span style=\"font-size: 0.8em; font-weight: bold; line-height: 1; border-radius: 0.35em; vertical-align: middle; margin-left: 0.5rem\">movie</span>\n",
       "</mark>\n",
       " and \n",
       "<mark class=\"entity\" style=\"background: #ddd; padding: 0.45em 0.6em; margin: 0 0.25em; line-height: 1; border-radius: 0.35em;\">\n",
       "    Sayed Badreya\n",
       "    <span style=\"font-size: 0.8em; font-weight: bold; line-height: 1; border-radius: 0.35em; vertical-align: middle; margin-left: 0.5rem\">movie</span>\n",
       "</mark>\n",
       " appear in \n",
       "<mark class=\"entity\" style=\"background: #ddd; padding: 0.45em 0.6em; margin: 0 0.25em; line-height: 1; border-radius: 0.35em;\">\n",
       "    Sound City\n",
       "    <span style=\"font-size: 0.8em; font-weight: bold; line-height: 1; border-radius: 0.35em; vertical-align: middle; margin-left: 0.5rem\">movie</span>\n",
       "</mark>\n",
       "</div></span>"
      ],
      "text/plain": [
       "<IPython.core.display.HTML object>"
      ]
     },
     "metadata": {},
     "output_type": "display_data"
    },
    {
     "name": "stdout",
     "output_type": "stream",
     "text": [
      "Do Tim Bentinck, 12th Earl of Portland and Sayed Badreya appear in Sound City {'entities': [(3, 38, 'name'), (43, 56, 'name'), (67, 77, 'movie')]}\n",
      "Missing movie label\n"
     ]
    },
    {
     "data": {
      "text/html": [
       "<span class=\"tex2jax_ignore\"><div class=\"entities\" style=\"line-height: 2.5; direction: ltr\">Do \n",
       "<mark class=\"entity\" style=\"background: #ddd; padding: 0.45em 0.6em; margin: 0 0.25em; line-height: 1; border-radius: 0.35em;\">\n",
       "    Tim Bentinck, 12th Earl of Portland\n",
       "    <span style=\"font-size: 0.8em; font-weight: bold; line-height: 1; border-radius: 0.35em; vertical-align: middle; margin-left: 0.5rem\">movie</span>\n",
       "</mark>\n",
       " and \n",
       "<mark class=\"entity\" style=\"background: #ddd; padding: 0.45em 0.6em; margin: 0 0.25em; line-height: 1; border-radius: 0.35em;\">\n",
       "    Sayed Badreya\n",
       "    <span style=\"font-size: 0.8em; font-weight: bold; line-height: 1; border-radius: 0.35em; vertical-align: middle; margin-left: 0.5rem\">movie</span>\n",
       "</mark>\n",
       " appear in \n",
       "<mark class=\"entity\" style=\"background: #ddd; padding: 0.45em 0.6em; margin: 0 0.25em; line-height: 1; border-radius: 0.35em;\">\n",
       "    Sound City\n",
       "    <span style=\"font-size: 0.8em; font-weight: bold; line-height: 1; border-radius: 0.35em; vertical-align: middle; margin-left: 0.5rem\">movie</span>\n",
       "</mark>\n",
       "</div></span>"
      ],
      "text/plain": [
       "<IPython.core.display.HTML object>"
      ]
     },
     "metadata": {},
     "output_type": "display_data"
    },
    {
     "name": "stdout",
     "output_type": "stream",
     "text": [
      "Do Tim Bentinck, 12th Earl of Portland and Sayed Badreya appear in Sound City {'entities': [(3, 38, 'name'), (43, 56, 'name'), (67, 77, 'movie')]}\n",
      "Missing movie label\n"
     ]
    },
    {
     "data": {
      "text/html": [
       "<span class=\"tex2jax_ignore\"><div class=\"entities\" style=\"line-height: 2.5; direction: ltr\">Recommend me movies with the genres \n",
       "<mark class=\"entity\" style=\"background: #ddd; padding: 0.45em 0.6em; margin: 0 0.25em; line-height: 1; border-radius: 0.35em;\">\n",
       "    historical novel\n",
       "    <span style=\"font-size: 0.8em; font-weight: bold; line-height: 1; border-radius: 0.35em; vertical-align: middle; margin-left: 0.5rem\">genre</span>\n",
       "</mark>\n",
       ", \n",
       "<mark class=\"entity\" style=\"background: #ddd; padding: 0.45em 0.6em; margin: 0 0.25em; line-height: 1; border-radius: 0.35em;\">\n",
       "    psychological thriller\n",
       "    <span style=\"font-size: 0.8em; font-weight: bold; line-height: 1; border-radius: 0.35em; vertical-align: middle; margin-left: 0.5rem\">genre</span>\n",
       "</mark>\n",
       ", and \n",
       "<mark class=\"entity\" style=\"background: #ddd; padding: 0.45em 0.6em; margin: 0 0.25em; line-height: 1; border-radius: 0.35em;\">\n",
       "    thriller\n",
       "    <span style=\"font-size: 0.8em; font-weight: bold; line-height: 1; border-radius: 0.35em; vertical-align: middle; margin-left: 0.5rem\">genre</span>\n",
       "</mark>\n",
       "</div></span>"
      ],
      "text/plain": [
       "<IPython.core.display.HTML object>"
      ]
     },
     "metadata": {},
     "output_type": "display_data"
    },
    {
     "name": "stdout",
     "output_type": "stream",
     "text": [
      "Recommend me movies with the genres historical novel, psychological thriller, and thriller {'entities': [(36, 52, 'genre'), (54, 76, 'genre'), (68, 76, 'genre'), (29, 34, 'predicate')]}\n",
      "Missing genre label\n"
     ]
    },
    {
     "data": {
      "text/html": [
       "<span class=\"tex2jax_ignore\"><div class=\"entities\" style=\"line-height: 2.5; direction: ltr\">Do you have recommendations for movies that showcase a mix of \n",
       "<mark class=\"entity\" style=\"background: #ddd; padding: 0.45em 0.6em; margin: 0 0.25em; line-height: 1; border-radius: 0.35em;\">\n",
       "    supernatural fiction\n",
       "    <span style=\"font-size: 0.8em; font-weight: bold; line-height: 1; border-radius: 0.35em; vertical-align: middle; margin-left: 0.5rem\">genre</span>\n",
       "</mark>\n",
       " and \n",
       "<mark class=\"entity\" style=\"background: #ddd; padding: 0.45em 0.6em; margin: 0 0.25em; line-height: 1; border-radius: 0.35em;\">\n",
       "    fiction\n",
       "    <span style=\"font-size: 0.8em; font-weight: bold; line-height: 1; border-radius: 0.35em; vertical-align: middle; margin-left: 0.5rem\">genre</span>\n",
       "</mark>\n",
       "?</div></span>"
      ],
      "text/plain": [
       "<IPython.core.display.HTML object>"
      ]
     },
     "metadata": {},
     "output_type": "display_data"
    },
    {
     "name": "stdout",
     "output_type": "stream",
     "text": [
      "Do you have recommendations for movies that showcase a mix of supernatural fiction and fiction? {'entities': [(62, 82, 'genre'), (75, 82, 'genre'), (12, 21, 'predicate')]}\n",
      "Missing genre label\n"
     ]
    },
    {
     "data": {
      "text/html": [
       "<span class=\"tex2jax_ignore\"><div class=\"entities\" style=\"line-height: 2.5; direction: ltr\">Which actors appeared in both \n",
       "<mark class=\"entity\" style=\"background: #ddd; padding: 0.45em 0.6em; margin: 0 0.25em; line-height: 1; border-radius: 0.35em;\">\n",
       "    My Big Fat Greek Wedding and Crush\n",
       "    <span style=\"font-size: 0.8em; font-weight: bold; line-height: 1; border-radius: 0.35em; vertical-align: middle; margin-left: 0.5rem\">movie</span>\n",
       "</mark>\n",
       " and \n",
       "<mark class=\"entity\" style=\"background: #ddd; padding: 0.45em 0.6em; margin: 0 0.25em; line-height: 1; border-radius: 0.35em;\">\n",
       "    Blush\n",
       "    <span style=\"font-size: 0.8em; font-weight: bold; line-height: 1; border-radius: 0.35em; vertical-align: middle; margin-left: 0.5rem\">movie</span>\n",
       "</mark>\n",
       "?</div></span>"
      ],
      "text/plain": [
       "<IPython.core.display.HTML object>"
      ]
     },
     "metadata": {},
     "output_type": "display_data"
    },
    {
     "name": "stdout",
     "output_type": "stream",
     "text": [
      "Which actors appeared in both My Big Fat Greek Wedding and Crush and Blush? {'entities': [(30, 54, 'movie'), (59, 74, 'movie')]}\n",
      "Missing movie label\n"
     ]
    },
    {
     "data": {
      "text/html": [
       "<span class=\"tex2jax_ignore\"><div class=\"entities\" style=\"line-height: 2.5; direction: ltr\">Which actors appeared in both \n",
       "<mark class=\"entity\" style=\"background: #ddd; padding: 0.45em 0.6em; margin: 0 0.25em; line-height: 1; border-radius: 0.35em;\">\n",
       "    My Big Fat Greek Wedding and Crush\n",
       "    <span style=\"font-size: 0.8em; font-weight: bold; line-height: 1; border-radius: 0.35em; vertical-align: middle; margin-left: 0.5rem\">movie</span>\n",
       "</mark>\n",
       " and \n",
       "<mark class=\"entity\" style=\"background: #ddd; padding: 0.45em 0.6em; margin: 0 0.25em; line-height: 1; border-radius: 0.35em;\">\n",
       "    Blush\n",
       "    <span style=\"font-size: 0.8em; font-weight: bold; line-height: 1; border-radius: 0.35em; vertical-align: middle; margin-left: 0.5rem\">movie</span>\n",
       "</mark>\n",
       "?</div></span>"
      ],
      "text/plain": [
       "<IPython.core.display.HTML object>"
      ]
     },
     "metadata": {},
     "output_type": "display_data"
    },
    {
     "name": "stdout",
     "output_type": "stream",
     "text": [
      "Which actors appeared in both My Big Fat Greek Wedding and Crush and Blush? {'entities': [(30, 54, 'movie'), (59, 74, 'movie')]}\n",
      "Missing movie label\n"
     ]
    },
    {
     "data": {
      "text/html": [
       "<span class=\"tex2jax_ignore\"><div class=\"entities\" style=\"line-height: 2.5; direction: ltr\">Which \n",
       "<mark class=\"entity\" style=\"background: #ddd; padding: 0.45em 0.6em; margin: 0 0.25em; line-height: 1; border-radius: 0.35em;\">\n",
       "    director of photography\n",
       "    <span style=\"font-size: 0.8em; font-weight: bold; line-height: 1; border-radius: 0.35em; vertical-align: middle; margin-left: 0.5rem\">role</span>\n",
       "</mark>\n",
       " or \n",
       "<mark class=\"entity\" style=\"background: #ddd; padding: 0.45em 0.6em; margin: 0 0.25em; line-height: 1; border-radius: 0.35em;\">\n",
       "    director\n",
       "    <span style=\"font-size: 0.8em; font-weight: bold; line-height: 1; border-radius: 0.35em; vertical-align: middle; margin-left: 0.5rem\">role</span>\n",
       "</mark>\n",
       " contributed to the soundtracks of both \n",
       "<mark class=\"entity\" style=\"background: #ddd; padding: 0.45em 0.6em; margin: 0 0.25em; line-height: 1; border-radius: 0.35em;\">\n",
       "    Blue Jasmine\n",
       "    <span style=\"font-size: 0.8em; font-weight: bold; line-height: 1; border-radius: 0.35em; vertical-align: middle; margin-left: 0.5rem\">movie</span>\n",
       "</mark>\n",
       " and \n",
       "<mark class=\"entity\" style=\"background: #ddd; padding: 0.45em 0.6em; margin: 0 0.25em; line-height: 1; border-radius: 0.35em;\">\n",
       "    Something from Nothing: The Art of Rap\n",
       "    <span style=\"font-size: 0.8em; font-weight: bold; line-height: 1; border-radius: 0.35em; vertical-align: middle; margin-left: 0.5rem\">movie</span>\n",
       "</mark>\n",
       "?</div></span>"
      ],
      "text/plain": [
       "<IPython.core.display.HTML object>"
      ]
     },
     "metadata": {},
     "output_type": "display_data"
    },
    {
     "name": "stdout",
     "output_type": "stream",
     "text": [
      "Which director of photography or director contributed to the soundtracks of both Blue Jasmine and Something from Nothing: The Art of Rap? {'entities': [(6, 29, 'role'), (6, 14, 'role'), (81, 93, 'movie'), (98, 136, 'movie')]}\n",
      "Missing role label\n"
     ]
    },
    {
     "data": {
      "text/html": [
       "<span class=\"tex2jax_ignore\"><div class=\"entities\" style=\"line-height: 2.5; direction: ltr\">Can you \n",
       "<mark class=\"entity\" style=\"background: #ddd; padding: 0.45em 0.6em; margin: 0 0.25em; line-height: 1; border-radius: 0.35em;\">\n",
       "    recommend\n",
       "    <span style=\"font-size: 0.8em; font-weight: bold; line-height: 1; border-radius: 0.35em; vertical-align: middle; margin-left: 0.5rem\">predicate</span>\n",
       "</mark>\n",
       " a movie that showcases the directorial styles of both \n",
       "<mark class=\"entity\" style=\"background: #ddd; padding: 0.45em 0.6em; margin: 0 0.25em; line-height: 1; border-radius: 0.35em;\">\n",
       "    Jazz Vilá\n",
       "    <span style=\"font-size: 0.8em; font-weight: bold; line-height: 1; border-radius: 0.35em; vertical-align: middle; margin-left: 0.5rem\">name</span>\n",
       "</mark>\n",
       " and \n",
       "<mark class=\"entity\" style=\"background: #ddd; padding: 0.45em 0.6em; margin: 0 0.25em; line-height: 1; border-radius: 0.35em;\">\n",
       "    Hannah Robinson\n",
       "    <span style=\"font-size: 0.8em; font-weight: bold; line-height: 1; border-radius: 0.35em; vertical-align: middle; margin-left: 0.5rem\">movie</span>\n",
       "</mark>\n",
       "?</div></span>"
      ],
      "text/plain": [
       "<IPython.core.display.HTML object>"
      ]
     },
     "metadata": {},
     "output_type": "display_data"
    },
    {
     "name": "stdout",
     "output_type": "stream",
     "text": [
      "Can you recommend a movie that showcases the directorial styles of both Jazz Vilá and Hannah Robinson? {'entities': [(72, 81, 'name'), (86, 101, 'name'), (8, 17, 'predicate')]}\n",
      "Missing movie label\n"
     ]
    },
    {
     "data": {
      "text/html": [
       "<span class=\"tex2jax_ignore\"><div class=\"entities\" style=\"line-height: 2.5; direction: ltr\">Are there any common filming locations between \n",
       "<mark class=\"entity\" style=\"background: #ddd; padding: 0.45em 0.6em; margin: 0 0.25em; line-height: 1; border-radius: 0.35em;\">\n",
       "    Merry Christmas\n",
       "    <span style=\"font-size: 0.8em; font-weight: bold; line-height: 1; border-radius: 0.35em; vertical-align: middle; margin-left: 0.5rem\">movie</span>\n",
       "</mark>\n",
       ", \n",
       "<mark class=\"entity\" style=\"background: #ddd; padding: 0.45em 0.6em; margin: 0 0.25em; line-height: 1; border-radius: 0.35em;\">\n",
       "    Mr. Lawrence\n",
       "    <span style=\"font-size: 0.8em; font-weight: bold; line-height: 1; border-radius: 0.35em; vertical-align: middle; margin-left: 0.5rem\">name</span>\n",
       "</mark>\n",
       " and \n",
       "<mark class=\"entity\" style=\"background: #ddd; padding: 0.45em 0.6em; margin: 0 0.25em; line-height: 1; border-radius: 0.35em;\">\n",
       "    Bart Got a Room\n",
       "    <span style=\"font-size: 0.8em; font-weight: bold; line-height: 1; border-radius: 0.35em; vertical-align: middle; margin-left: 0.5rem\">movie</span>\n",
       "</mark>\n",
       "?</div></span>"
      ],
      "text/plain": [
       "<IPython.core.display.HTML object>"
      ]
     },
     "metadata": {},
     "output_type": "display_data"
    },
    {
     "name": "stdout",
     "output_type": "stream",
     "text": [
      "Are there any common filming locations between Merry Christmas, Mr. Lawrence and Bart Got a Room? {'entities': [(47, 76, 'movie'), (81, 96, 'movie')]}\n",
      "Missing movie label\n"
     ]
    },
    {
     "data": {
      "text/html": [
       "<span class=\"tex2jax_ignore\"><div class=\"entities\" style=\"line-height: 2.5; direction: ltr\">Are there any common filming locations between \n",
       "<mark class=\"entity\" style=\"background: #ddd; padding: 0.45em 0.6em; margin: 0 0.25em; line-height: 1; border-radius: 0.35em;\">\n",
       "    Merry Christmas\n",
       "    <span style=\"font-size: 0.8em; font-weight: bold; line-height: 1; border-radius: 0.35em; vertical-align: middle; margin-left: 0.5rem\">movie</span>\n",
       "</mark>\n",
       ", \n",
       "<mark class=\"entity\" style=\"background: #ddd; padding: 0.45em 0.6em; margin: 0 0.25em; line-height: 1; border-radius: 0.35em;\">\n",
       "    Mr. Lawrence\n",
       "    <span style=\"font-size: 0.8em; font-weight: bold; line-height: 1; border-radius: 0.35em; vertical-align: middle; margin-left: 0.5rem\">name</span>\n",
       "</mark>\n",
       " and \n",
       "<mark class=\"entity\" style=\"background: #ddd; padding: 0.45em 0.6em; margin: 0 0.25em; line-height: 1; border-radius: 0.35em;\">\n",
       "    Bart Got a Room\n",
       "    <span style=\"font-size: 0.8em; font-weight: bold; line-height: 1; border-radius: 0.35em; vertical-align: middle; margin-left: 0.5rem\">movie</span>\n",
       "</mark>\n",
       "?</div></span>"
      ],
      "text/plain": [
       "<IPython.core.display.HTML object>"
      ]
     },
     "metadata": {},
     "output_type": "display_data"
    },
    {
     "name": "stdout",
     "output_type": "stream",
     "text": [
      "Are there any common filming locations between Merry Christmas, Mr. Lawrence and Bart Got a Room? {'entities': [(47, 76, 'movie'), (81, 96, 'movie')]}\n",
      "Missing name label\n"
     ]
    },
    {
     "data": {
      "text/html": [
       "<span class=\"tex2jax_ignore\"><div class=\"entities\" style=\"line-height: 2.5; direction: ltr\">Do \n",
       "<mark class=\"entity\" style=\"background: #ddd; padding: 0.45em 0.6em; margin: 0 0.25em; line-height: 1; border-radius: 0.35em;\">\n",
       "    The Big Hit and\n",
       "    <span style=\"font-size: 0.8em; font-weight: bold; line-height: 1; border-radius: 0.35em; vertical-align: middle; margin-left: 0.5rem\">movie</span>\n",
       "</mark>\n",
       " \n",
       "<mark class=\"entity\" style=\"background: #ddd; padding: 0.45em 0.6em; margin: 0 0.25em; line-height: 1; border-radius: 0.35em;\">\n",
       "    Daddy and Them\n",
       "    <span style=\"font-size: 0.8em; font-weight: bold; line-height: 1; border-radius: 0.35em; vertical-align: middle; margin-left: 0.5rem\">movie</span>\n",
       "</mark>\n",
       " share any crew members or production staff?</div></span>"
      ],
      "text/plain": [
       "<IPython.core.display.HTML object>"
      ]
     },
     "metadata": {},
     "output_type": "display_data"
    },
    {
     "name": "stdout",
     "output_type": "stream",
     "text": [
      "Do The Big Hit and Daddy and Them share any crew members or production staff? {'entities': [(3, 14, 'movie'), (19, 33, 'movie')]}\n",
      "Missing movie label\n"
     ]
    },
    {
     "data": {
      "text/html": [
       "<span class=\"tex2jax_ignore\"><div class=\"entities\" style=\"line-height: 2.5; direction: ltr\">Do \n",
       "<mark class=\"entity\" style=\"background: #ddd; padding: 0.45em 0.6em; margin: 0 0.25em; line-height: 1; border-radius: 0.35em;\">\n",
       "    John Randolph of Roanoke\n",
       "    <span style=\"font-size: 0.8em; font-weight: bold; line-height: 1; border-radius: 0.35em; vertical-align: middle; margin-left: 0.5rem\">movie</span>\n",
       "</mark>\n",
       " and \n",
       "<mark class=\"entity\" style=\"background: #ddd; padding: 0.45em 0.6em; margin: 0 0.25em; line-height: 1; border-radius: 0.35em;\">\n",
       "    Éric Fraticelli\n",
       "    <span style=\"font-size: 0.8em; font-weight: bold; line-height: 1; border-radius: 0.35em; vertical-align: middle; margin-left: 0.5rem\">name</span>\n",
       "</mark>\n",
       " share the screen in any movies?</div></span>"
      ],
      "text/plain": [
       "<IPython.core.display.HTML object>"
      ]
     },
     "metadata": {},
     "output_type": "display_data"
    },
    {
     "name": "stdout",
     "output_type": "stream",
     "text": [
      "Do John Randolph of Roanoke and Éric Fraticelli share the screen in any movies? {'entities': [(3, 27, 'name'), (32, 47, 'name')]}\n",
      "Missing movie label\n"
     ]
    },
    {
     "data": {
      "text/html": [
       "<span class=\"tex2jax_ignore\"><div class=\"entities\" style=\"line-height: 2.5; direction: ltr\">Do \n",
       "<mark class=\"entity\" style=\"background: #ddd; padding: 0.45em 0.6em; margin: 0 0.25em; line-height: 1; border-radius: 0.35em;\">\n",
       "    Eagoler Chokh\n",
       "    <span style=\"font-size: 0.8em; font-weight: bold; line-height: 1; border-radius: 0.35em; vertical-align: middle; margin-left: 0.5rem\">name</span>\n",
       "</mark>\n",
       " and \n",
       "<mark class=\"entity\" style=\"background: #ddd; padding: 0.45em 0.6em; margin: 0 0.25em; line-height: 1; border-radius: 0.35em;\">\n",
       "    The Curse of Frankenstein\n",
       "    <span style=\"font-size: 0.8em; font-weight: bold; line-height: 1; border-radius: 0.35em; vertical-align: middle; margin-left: 0.5rem\">movie</span>\n",
       "</mark>\n",
       " belong to the same film franchise?</div></span>"
      ],
      "text/plain": [
       "<IPython.core.display.HTML object>"
      ]
     },
     "metadata": {},
     "output_type": "display_data"
    },
    {
     "name": "stdout",
     "output_type": "stream",
     "text": [
      "Do Eagoler Chokh and The Curse of Frankenstein belong to the same film franchise? {'entities': [(3, 16, 'movie'), (21, 46, 'movie')]}\n",
      "Missing name label\n"
     ]
    },
    {
     "data": {
      "text/html": [
       "<span class=\"tex2jax_ignore\"><div class=\"entities\" style=\"line-height: 2.5; direction: ltr\">Which actors from \n",
       "<mark class=\"entity\" style=\"background: #ddd; padding: 0.45em 0.6em; margin: 0 0.25em; line-height: 1; border-radius: 0.35em;\">\n",
       "    The Young\n",
       "    <span style=\"font-size: 0.8em; font-weight: bold; line-height: 1; border-radius: 0.35em; vertical-align: middle; margin-left: 0.5rem\">movie</span>\n",
       "</mark>\n",
       " and \n",
       "<mark class=\"entity\" style=\"background: #ddd; padding: 0.45em 0.6em; margin: 0 0.25em; line-height: 1; border-radius: 0.35em;\">\n",
       "    Prodigious T. S. Spivet\n",
       "    <span style=\"font-size: 0.8em; font-weight: bold; line-height: 1; border-radius: 0.35em; vertical-align: middle; margin-left: 0.5rem\">movie</span>\n",
       "</mark>\n",
       " and \n",
       "<mark class=\"entity\" style=\"background: #ddd; padding: 0.45em 0.6em; margin: 0 0.25em; line-height: 1; border-radius: 0.35em;\">\n",
       "    Lie with Me\n",
       "    <span style=\"font-size: 0.8em; font-weight: bold; line-height: 1; border-radius: 0.35em; vertical-align: middle; margin-left: 0.5rem\">movie</span>\n",
       "</mark>\n",
       " have collaborated in other films?</div></span>"
      ],
      "text/plain": [
       "<IPython.core.display.HTML object>"
      ]
     },
     "metadata": {},
     "output_type": "display_data"
    },
    {
     "name": "stdout",
     "output_type": "stream",
     "text": [
      "Which actors from The Young and Prodigious T. S. Spivet and Lie with Me have collaborated in other films? {'entities': [(18, 55, 'movie'), (60, 71, 'movie'), (84, 89, 'predicate')]}\n",
      "Missing movie label\n"
     ]
    },
    {
     "data": {
      "text/html": [
       "<span class=\"tex2jax_ignore\"><div class=\"entities\" style=\"line-height: 2.5; direction: ltr\">Which actors from \n",
       "<mark class=\"entity\" style=\"background: #ddd; padding: 0.45em 0.6em; margin: 0 0.25em; line-height: 1; border-radius: 0.35em;\">\n",
       "    The Young\n",
       "    <span style=\"font-size: 0.8em; font-weight: bold; line-height: 1; border-radius: 0.35em; vertical-align: middle; margin-left: 0.5rem\">movie</span>\n",
       "</mark>\n",
       " and \n",
       "<mark class=\"entity\" style=\"background: #ddd; padding: 0.45em 0.6em; margin: 0 0.25em; line-height: 1; border-radius: 0.35em;\">\n",
       "    Prodigious T. S. Spivet\n",
       "    <span style=\"font-size: 0.8em; font-weight: bold; line-height: 1; border-radius: 0.35em; vertical-align: middle; margin-left: 0.5rem\">movie</span>\n",
       "</mark>\n",
       " and \n",
       "<mark class=\"entity\" style=\"background: #ddd; padding: 0.45em 0.6em; margin: 0 0.25em; line-height: 1; border-radius: 0.35em;\">\n",
       "    Lie with Me\n",
       "    <span style=\"font-size: 0.8em; font-weight: bold; line-height: 1; border-radius: 0.35em; vertical-align: middle; margin-left: 0.5rem\">movie</span>\n",
       "</mark>\n",
       " have collaborated in other films?</div></span>"
      ],
      "text/plain": [
       "<IPython.core.display.HTML object>"
      ]
     },
     "metadata": {},
     "output_type": "display_data"
    },
    {
     "name": "stdout",
     "output_type": "stream",
     "text": [
      "Which actors from The Young and Prodigious T. S. Spivet and Lie with Me have collaborated in other films? {'entities': [(18, 55, 'movie'), (60, 71, 'movie'), (84, 89, 'predicate')]}\n",
      "Missing movie label\n"
     ]
    },
    {
     "data": {
      "text/html": [
       "<span class=\"tex2jax_ignore\"><div class=\"entities\" style=\"line-height: 2.5; direction: ltr\">Are there any \n",
       "<mark class=\"entity\" style=\"background: #ddd; padding: 0.45em 0.6em; margin: 0 0.25em; line-height: 1; border-radius: 0.35em;\">\n",
       "    melodrama\n",
       "    <span style=\"font-size: 0.8em; font-weight: bold; line-height: 1; border-radius: 0.35em; vertical-align: middle; margin-left: 0.5rem\">genre</span>\n",
       "</mark>\n",
       " and \n",
       "<mark class=\"entity\" style=\"background: #ddd; padding: 0.45em 0.6em; margin: 0 0.25em; line-height: 1; border-radius: 0.35em;\">\n",
       "    drama\n",
       "    <span style=\"font-size: 0.8em; font-weight: bold; line-height: 1; border-radius: 0.35em; vertical-align: middle; margin-left: 0.5rem\">genre</span>\n",
       "</mark>\n",
       " movies?</div></span>"
      ],
      "text/plain": [
       "<IPython.core.display.HTML object>"
      ]
     },
     "metadata": {},
     "output_type": "display_data"
    },
    {
     "name": "stdout",
     "output_type": "stream",
     "text": [
      "Are there any melodrama and drama movies? {'entities': [(14, 23, 'genre'), (18, 23, 'genre')]}\n",
      "Missing genre label\n"
     ]
    },
    {
     "data": {
      "text/html": [
       "<span class=\"tex2jax_ignore\"><div class=\"entities\" style=\"line-height: 2.5; direction: ltr\">Can you list all the movies starring \n",
       "<mark class=\"entity\" style=\"background: #ddd; padding: 0.45em 0.6em; margin: 0 0.25em; line-height: 1; border-radius: 0.35em;\">\n",
       "    William El-Gardi\n",
       "    <span style=\"font-size: 0.8em; font-weight: bold; line-height: 1; border-radius: 0.35em; vertical-align: middle; margin-left: 0.5rem\">name</span>\n",
       "</mark>\n",
       ", \n",
       "<mark class=\"entity\" style=\"background: #ddd; padding: 0.45em 0.6em; margin: 0 0.25em; line-height: 1; border-radius: 0.35em;\">\n",
       "    Haruna Honcoop\n",
       "    <span style=\"font-size: 0.8em; font-weight: bold; line-height: 1; border-radius: 0.35em; vertical-align: middle; margin-left: 0.5rem\">movie</span>\n",
       "</mark>\n",
       ", and \n",
       "<mark class=\"entity\" style=\"background: #ddd; padding: 0.45em 0.6em; margin: 0 0.25em; line-height: 1; border-radius: 0.35em;\">\n",
       "    Robert Vincent O'Neill\n",
       "    <span style=\"font-size: 0.8em; font-weight: bold; line-height: 1; border-radius: 0.35em; vertical-align: middle; margin-left: 0.5rem\">name</span>\n",
       "</mark>\n",
       "?</div></span>"
      ],
      "text/plain": [
       "<IPython.core.display.HTML object>"
      ]
     },
     "metadata": {},
     "output_type": "display_data"
    },
    {
     "name": "stdout",
     "output_type": "stream",
     "text": [
      "Can you list all the movies starring William El-Gardi, Haruna Honcoop, and Robert Vincent O'Neill? {'entities': [(37, 53, 'name'), (55, 69, 'name'), (75, 97, 'name')]}\n",
      "Missing movie label\n"
     ]
    },
    {
     "data": {
      "text/html": [
       "<span class=\"tex2jax_ignore\"><div class=\"entities\" style=\"line-height: 2.5; direction: ltr\">Can you list all the movies starring \n",
       "<mark class=\"entity\" style=\"background: #ddd; padding: 0.45em 0.6em; margin: 0 0.25em; line-height: 1; border-radius: 0.35em;\">\n",
       "    María Esteve\n",
       "    <span style=\"font-size: 0.8em; font-weight: bold; line-height: 1; border-radius: 0.35em; vertical-align: middle; margin-left: 0.5rem\">name</span>\n",
       "</mark>\n",
       ", \n",
       "<mark class=\"entity\" style=\"background: #ddd; padding: 0.45em 0.6em; margin: 0 0.25em; line-height: 1; border-radius: 0.35em;\">\n",
       "    Hugo Metsers\n",
       "    <span style=\"font-size: 0.8em; font-weight: bold; line-height: 1; border-radius: 0.35em; vertical-align: middle; margin-left: 0.5rem\">name</span>\n",
       "</mark>\n",
       ", and \n",
       "<mark class=\"entity\" style=\"background: #ddd; padding: 0.45em 0.6em; margin: 0 0.25em; line-height: 1; border-radius: 0.35em;\">\n",
       "    Traudel Sperber\n",
       "    <span style=\"font-size: 0.8em; font-weight: bold; line-height: 1; border-radius: 0.35em; vertical-align: middle; margin-left: 0.5rem\">movie</span>\n",
       "</mark>\n",
       "?</div></span>"
      ],
      "text/plain": [
       "<IPython.core.display.HTML object>"
      ]
     },
     "metadata": {},
     "output_type": "display_data"
    },
    {
     "name": "stdout",
     "output_type": "stream",
     "text": [
      "Can you list all the movies starring María Esteve, Hugo Metsers, and Traudel Sperber? {'entities': [(37, 49, 'name'), (51, 63, 'name'), (69, 84, 'name')]}\n",
      "Missing movie label\n"
     ]
    },
    {
     "data": {
      "text/html": [
       "<span class=\"tex2jax_ignore\"><div class=\"entities\" style=\"line-height: 2.5; direction: ltr\">I'm in the mood for a movie night with diverse genres. Any suggestions for films that include \n",
       "<mark class=\"entity\" style=\"background: #ddd; padding: 0.45em 0.6em; margin: 0 0.25em; line-height: 1; border-radius: 0.35em;\">\n",
       "    erotic thriller\n",
       "    <span style=\"font-size: 0.8em; font-weight: bold; line-height: 1; border-radius: 0.35em; vertical-align: middle; margin-left: 0.5rem\">genre</span>\n",
       "</mark>\n",
       " and \n",
       "<mark class=\"entity\" style=\"background: #ddd; padding: 0.45em 0.6em; margin: 0 0.25em; line-height: 1; border-radius: 0.35em;\">\n",
       "    erotic\n",
       "    <span style=\"font-size: 0.8em; font-weight: bold; line-height: 1; border-radius: 0.35em; vertical-align: middle; margin-left: 0.5rem\">genre</span>\n",
       "</mark>\n",
       "?</div></span>"
      ],
      "text/plain": [
       "<IPython.core.display.HTML object>"
      ]
     },
     "metadata": {},
     "output_type": "display_data"
    },
    {
     "name": "stdout",
     "output_type": "stream",
     "text": [
      "I'm in the mood for a movie night with diverse genres. Any suggestions for films that include erotic thriller and erotic? {'entities': [(94, 109, 'genre'), (94, 100, 'genre'), (47, 52, 'predicate')]}\n",
      "Missing genre label\n"
     ]
    },
    {
     "data": {
      "text/html": [
       "<span class=\"tex2jax_ignore\"><div class=\"entities\" style=\"line-height: 2.5; direction: ltr\">Are there any movies that blend the genres of \n",
       "<mark class=\"entity\" style=\"background: #ddd; padding: 0.45em 0.6em; margin: 0 0.25em; line-height: 1; border-radius: 0.35em;\">\n",
       "    television series based on a novel\n",
       "    <span style=\"font-size: 0.8em; font-weight: bold; line-height: 1; border-radius: 0.35em; vertical-align: middle; margin-left: 0.5rem\">genre</span>\n",
       "</mark>\n",
       " and \n",
       "<mark class=\"entity\" style=\"background: #ddd; padding: 0.45em 0.6em; margin: 0 0.25em; line-height: 1; border-radius: 0.35em;\">\n",
       "    novel\n",
       "    <span style=\"font-size: 0.8em; font-weight: bold; line-height: 1; border-radius: 0.35em; vertical-align: middle; margin-left: 0.5rem\">genre</span>\n",
       "</mark>\n",
       "?</div></span>"
      ],
      "text/plain": [
       "<IPython.core.display.HTML object>"
      ]
     },
     "metadata": {},
     "output_type": "display_data"
    },
    {
     "name": "stdout",
     "output_type": "stream",
     "text": [
      "Are there any movies that blend the genres of television series based on a novel and novel? {'entities': [(46, 80, 'genre'), (75, 80, 'genre'), (36, 41, 'predicate')]}\n",
      "Missing genre label\n"
     ]
    },
    {
     "data": {
      "text/html": [
       "<span class=\"tex2jax_ignore\"><div class=\"entities\" style=\"line-height: 2.5; direction: ltr\">Which \n",
       "<mark class=\"entity\" style=\"background: #ddd; padding: 0.45em 0.6em; margin: 0 0.25em; line-height: 1; border-radius: 0.35em;\">\n",
       "    actor\n",
       "    <span style=\"font-size: 0.8em; font-weight: bold; line-height: 1; border-radius: 0.35em; vertical-align: middle; margin-left: 0.5rem\">role</span>\n",
       "</mark>\n",
       " or \n",
       "<mark class=\"entity\" style=\"background: #ddd; padding: 0.45em 0.6em; margin: 0 0.25em; line-height: 1; border-radius: 0.35em;\">\n",
       "    member of the crew of\n",
       "    <span style=\"font-size: 0.8em; font-weight: bold; line-height: 1; border-radius: 0.35em; vertical-align: middle; margin-left: 0.5rem\">role</span>\n",
       "</mark>\n",
       " contributed to the soundtracks of both \n",
       "<mark class=\"entity\" style=\"background: #ddd; padding: 0.45em 0.6em; margin: 0 0.25em; line-height: 1; border-radius: 0.35em;\">\n",
       "    The Perfect Date and Winners\n",
       "    <span style=\"font-size: 0.8em; font-weight: bold; line-height: 1; border-radius: 0.35em; vertical-align: middle; margin-left: 0.5rem\">movie</span>\n",
       "</mark>\n",
       " and \n",
       "<mark class=\"entity\" style=\"background: #ddd; padding: 0.45em 0.6em; margin: 0 0.25em; line-height: 1; border-radius: 0.35em;\">\n",
       "    Sinners\n",
       "    <span style=\"font-size: 0.8em; font-weight: bold; line-height: 1; border-radius: 0.35em; vertical-align: middle; margin-left: 0.5rem\">movie</span>\n",
       "</mark>\n",
       "?</div></span>"
      ],
      "text/plain": [
       "<IPython.core.display.HTML object>"
      ]
     },
     "metadata": {},
     "output_type": "display_data"
    },
    {
     "name": "stdout",
     "output_type": "stream",
     "text": [
      "Which actor or member of the crew of contributed to the soundtracks of both The Perfect Date and Winners and Sinners? {'entities': [(6, 11, 'role'), (15, 36, 'role'), (76, 92, 'movie'), (97, 116, 'movie')]}\n",
      "Missing movie label\n"
     ]
    },
    {
     "data": {
      "text/html": [
       "<span class=\"tex2jax_ignore\"><div class=\"entities\" style=\"line-height: 2.5; direction: ltr\">Which \n",
       "<mark class=\"entity\" style=\"background: #ddd; padding: 0.45em 0.6em; margin: 0 0.25em; line-height: 1; border-radius: 0.35em;\">\n",
       "    actor\n",
       "    <span style=\"font-size: 0.8em; font-weight: bold; line-height: 1; border-radius: 0.35em; vertical-align: middle; margin-left: 0.5rem\">role</span>\n",
       "</mark>\n",
       " or \n",
       "<mark class=\"entity\" style=\"background: #ddd; padding: 0.45em 0.6em; margin: 0 0.25em; line-height: 1; border-radius: 0.35em;\">\n",
       "    member of the crew of\n",
       "    <span style=\"font-size: 0.8em; font-weight: bold; line-height: 1; border-radius: 0.35em; vertical-align: middle; margin-left: 0.5rem\">role</span>\n",
       "</mark>\n",
       " contributed to the soundtracks of both \n",
       "<mark class=\"entity\" style=\"background: #ddd; padding: 0.45em 0.6em; margin: 0 0.25em; line-height: 1; border-radius: 0.35em;\">\n",
       "    The Perfect Date and Winners\n",
       "    <span style=\"font-size: 0.8em; font-weight: bold; line-height: 1; border-radius: 0.35em; vertical-align: middle; margin-left: 0.5rem\">movie</span>\n",
       "</mark>\n",
       " and \n",
       "<mark class=\"entity\" style=\"background: #ddd; padding: 0.45em 0.6em; margin: 0 0.25em; line-height: 1; border-radius: 0.35em;\">\n",
       "    Sinners\n",
       "    <span style=\"font-size: 0.8em; font-weight: bold; line-height: 1; border-radius: 0.35em; vertical-align: middle; margin-left: 0.5rem\">movie</span>\n",
       "</mark>\n",
       "?</div></span>"
      ],
      "text/plain": [
       "<IPython.core.display.HTML object>"
      ]
     },
     "metadata": {},
     "output_type": "display_data"
    },
    {
     "name": "stdout",
     "output_type": "stream",
     "text": [
      "Which actor or member of the crew of contributed to the soundtracks of both The Perfect Date and Winners and Sinners? {'entities': [(6, 11, 'role'), (15, 36, 'role'), (76, 92, 'movie'), (97, 116, 'movie')]}\n",
      "Missing movie label\n"
     ]
    },
    {
     "data": {
      "text/html": [
       "<span class=\"tex2jax_ignore\"><div class=\"entities\" style=\"line-height: 2.5; direction: ltr\">Are there any staff members in common between \n",
       "<mark class=\"entity\" style=\"background: #ddd; padding: 0.45em 0.6em; margin: 0 0.25em; line-height: 1; border-radius: 0.35em;\">\n",
       "    Passenger 57 and Sister\n",
       "    <span style=\"font-size: 0.8em; font-weight: bold; line-height: 1; border-radius: 0.35em; vertical-align: middle; margin-left: 0.5rem\">movie</span>\n",
       "</mark>\n",
       ", Sister?</div></span>"
      ],
      "text/plain": [
       "<IPython.core.display.HTML object>"
      ]
     },
     "metadata": {},
     "output_type": "display_data"
    },
    {
     "name": "stdout",
     "output_type": "stream",
     "text": [
      "Are there any staff members in common between Passenger 57 and Sister, Sister? {'entities': [(46, 58, 'movie'), (63, 77, 'movie')]}\n",
      "Missing movie label\n"
     ]
    },
    {
     "data": {
      "text/html": [
       "<span class=\"tex2jax_ignore\"><div class=\"entities\" style=\"line-height: 2.5; direction: ltr\">I am looking for movies that fall under both \n",
       "<mark class=\"entity\" style=\"background: #ddd; padding: 0.45em 0.6em; margin: 0 0.25em; line-height: 1; border-radius: 0.35em;\">\n",
       "    comedy thriller\n",
       "    <span style=\"font-size: 0.8em; font-weight: bold; line-height: 1; border-radius: 0.35em; vertical-align: middle; margin-left: 0.5rem\">genre</span>\n",
       "</mark>\n",
       " and \n",
       "<mark class=\"entity\" style=\"background: #ddd; padding: 0.45em 0.6em; margin: 0 0.25em; line-height: 1; border-radius: 0.35em;\">\n",
       "    comedy\n",
       "    <span style=\"font-size: 0.8em; font-weight: bold; line-height: 1; border-radius: 0.35em; vertical-align: middle; margin-left: 0.5rem\">genre</span>\n",
       "</mark>\n",
       ". Anything you would \n",
       "<mark class=\"entity\" style=\"background: #ddd; padding: 0.45em 0.6em; margin: 0 0.25em; line-height: 1; border-radius: 0.35em;\">\n",
       "    recommend\n",
       "    <span style=\"font-size: 0.8em; font-weight: bold; line-height: 1; border-radius: 0.35em; vertical-align: middle; margin-left: 0.5rem\">predicate</span>\n",
       "</mark>\n",
       "?</div></span>"
      ],
      "text/plain": [
       "<IPython.core.display.HTML object>"
      ]
     },
     "metadata": {},
     "output_type": "display_data"
    },
    {
     "name": "stdout",
     "output_type": "stream",
     "text": [
      "I am looking for movies that fall under both comedy thriller and comedy. Anything you would recommend? {'entities': [(45, 60, 'genre'), (45, 51, 'genre'), (92, 101, 'predicate')]}\n",
      "Missing genre label\n"
     ]
    },
    {
     "data": {
      "text/html": [
       "<span class=\"tex2jax_ignore\"><div class=\"entities\" style=\"line-height: 2.5; direction: ltr\">Are there any staff members in common between \n",
       "<mark class=\"entity\" style=\"background: #ddd; padding: 0.45em 0.6em; margin: 0 0.25em; line-height: 1; border-radius: 0.35em;\">\n",
       "    Melinda and Melinda\n",
       "    <span style=\"font-size: 0.8em; font-weight: bold; line-height: 1; border-radius: 0.35em; vertical-align: middle; margin-left: 0.5rem\">movie</span>\n",
       "</mark>\n",
       " and \n",
       "<mark class=\"entity\" style=\"background: #ddd; padding: 0.45em 0.6em; margin: 0 0.25em; line-height: 1; border-radius: 0.35em;\">\n",
       "    Rampage\n",
       "    <span style=\"font-size: 0.8em; font-weight: bold; line-height: 1; border-radius: 0.35em; vertical-align: middle; margin-left: 0.5rem\">genre</span>\n",
       "</mark>\n",
       "?</div></span>"
      ],
      "text/plain": [
       "<IPython.core.display.HTML object>"
      ]
     },
     "metadata": {},
     "output_type": "display_data"
    },
    {
     "name": "stdout",
     "output_type": "stream",
     "text": [
      "Are there any staff members in common between Melinda and Melinda and Rampage? {'entities': [(46, 65, 'movie'), (70, 77, 'movie')]}\n",
      "Missing genre label\n"
     ]
    },
    {
     "data": {
      "text/html": [
       "<span class=\"tex2jax_ignore\"><div class=\"entities\" style=\"line-height: 2.5; direction: ltr\">Are there any notable collaborations between \n",
       "<mark class=\"entity\" style=\"background: #ddd; padding: 0.45em 0.6em; margin: 0 0.25em; line-height: 1; border-radius: 0.35em;\">\n",
       "    Kwon Pom-tchäk\n",
       "    <span style=\"font-size: 0.8em; font-weight: bold; line-height: 1; border-radius: 0.35em; vertical-align: middle; margin-left: 0.5rem\">name</span>\n",
       "</mark>\n",
       ", \n",
       "<mark class=\"entity\" style=\"background: #ddd; padding: 0.45em 0.6em; margin: 0 0.25em; line-height: 1; border-radius: 0.35em;\">\n",
       "    Leo Borg\n",
       "    <span style=\"font-size: 0.8em; font-weight: bold; line-height: 1; border-radius: 0.35em; vertical-align: middle; margin-left: 0.5rem\">movie</span>\n",
       "</mark>\n",
       ", and \n",
       "<mark class=\"entity\" style=\"background: #ddd; padding: 0.45em 0.6em; margin: 0 0.25em; line-height: 1; border-radius: 0.35em;\">\n",
       "    Oliver Crawford\n",
       "    <span style=\"font-size: 0.8em; font-weight: bold; line-height: 1; border-radius: 0.35em; vertical-align: middle; margin-left: 0.5rem\">name</span>\n",
       "</mark>\n",
       " in the film industry?</div></span>"
      ],
      "text/plain": [
       "<IPython.core.display.HTML object>"
      ]
     },
     "metadata": {},
     "output_type": "display_data"
    },
    {
     "name": "stdout",
     "output_type": "stream",
     "text": [
      "Are there any notable collaborations between Kwon Pom-tchäk, Leo Borg, and Oliver Crawford in the film industry? {'entities': [(45, 59, 'name'), (61, 69, 'name'), (75, 90, 'name')]}\n",
      "Missing movie label\n"
     ]
    },
    {
     "data": {
      "text/html": [
       "<span class=\"tex2jax_ignore\"><div class=\"entities\" style=\"line-height: 2.5; direction: ltr\">Do \n",
       "<mark class=\"entity\" style=\"background: #ddd; padding: 0.45em 0.6em; margin: 0 0.25em; line-height: 1; border-radius: 0.35em;\">\n",
       "    Preben Lerdorff Rye\n",
       "    <span style=\"font-size: 0.8em; font-weight: bold; line-height: 1; border-radius: 0.35em; vertical-align: middle; margin-left: 0.5rem\">movie</span>\n",
       "</mark>\n",
       " and \n",
       "<mark class=\"entity\" style=\"background: #ddd; padding: 0.45em 0.6em; margin: 0 0.25em; line-height: 1; border-radius: 0.35em;\">\n",
       "    Tracy Droz Tragos\n",
       "    <span style=\"font-size: 0.8em; font-weight: bold; line-height: 1; border-radius: 0.35em; vertical-align: middle; margin-left: 0.5rem\">name</span>\n",
       "</mark>\n",
       " share the screen in any movies?</div></span>"
      ],
      "text/plain": [
       "<IPython.core.display.HTML object>"
      ]
     },
     "metadata": {},
     "output_type": "display_data"
    },
    {
     "name": "stdout",
     "output_type": "stream",
     "text": [
      "Do Preben Lerdorff Rye and Tracy Droz Tragos share the screen in any movies? {'entities': [(3, 22, 'name'), (27, 44, 'name')]}\n",
      "Missing movie label\n"
     ]
    },
    {
     "data": {
      "text/html": [
       "<span class=\"tex2jax_ignore\"><div class=\"entities\" style=\"line-height: 2.5; direction: ltr\">Are there any common filming locations between \n",
       "<mark class=\"entity\" style=\"background: #ddd; padding: 0.45em 0.6em; margin: 0 0.25em; line-height: 1; border-radius: 0.35em;\">\n",
       "    Under the Sun\n",
       "    <span style=\"font-size: 0.8em; font-weight: bold; line-height: 1; border-radius: 0.35em; vertical-align: middle; margin-left: 0.5rem\">movie</span>\n",
       "</mark>\n",
       " and \n",
       "<mark class=\"entity\" style=\"background: #ddd; padding: 0.45em 0.6em; margin: 0 0.25em; line-height: 1; border-radius: 0.35em;\">\n",
       "    Empire\n",
       "    <span style=\"font-size: 0.8em; font-weight: bold; line-height: 1; border-radius: 0.35em; vertical-align: middle; margin-left: 0.5rem\">genre</span>\n",
       "</mark>\n",
       "?</div></span>"
      ],
      "text/plain": [
       "<IPython.core.display.HTML object>"
      ]
     },
     "metadata": {},
     "output_type": "display_data"
    },
    {
     "name": "stdout",
     "output_type": "stream",
     "text": [
      "Are there any common filming locations between Under the Sun and Empire? {'entities': [(47, 60, 'movie'), (65, 71, 'movie')]}\n",
      "Missing genre label\n"
     ]
    },
    {
     "data": {
      "text/html": [
       "<span class=\"tex2jax_ignore\"><div class=\"entities\" style=\"line-height: 2.5; direction: ltr\">Were \n",
       "<mark class=\"entity\" style=\"background: #ddd; padding: 0.45em 0.6em; margin: 0 0.25em; line-height: 1; border-radius: 0.35em;\">\n",
       "    Nicky Larson\n",
       "    <span style=\"font-size: 0.8em; font-weight: bold; line-height: 1; border-radius: 0.35em; vertical-align: middle; margin-left: 0.5rem\">movie</span>\n",
       "</mark>\n",
       " and \n",
       "<mark class=\"entity\" style=\"background: #ddd; padding: 0.45em 0.6em; margin: 0 0.25em; line-height: 1; border-radius: 0.35em;\">\n",
       "    Cupid's Perfume\n",
       "    <span style=\"font-size: 0.8em; font-weight: bold; line-height: 1; border-radius: 0.35em; vertical-align: middle; margin-left: 0.5rem\">movie</span>\n",
       "</mark>\n",
       " and \n",
       "<mark class=\"entity\" style=\"background: #ddd; padding: 0.45em 0.6em; margin: 0 0.25em; line-height: 1; border-radius: 0.35em;\">\n",
       "    The Thin Red Line\n",
       "    <span style=\"font-size: 0.8em; font-weight: bold; line-height: 1; border-radius: 0.35em; vertical-align: middle; margin-left: 0.5rem\">movie</span>\n",
       "</mark>\n",
       " released the same year?</div></span>"
      ],
      "text/plain": [
       "<IPython.core.display.HTML object>"
      ]
     },
     "metadata": {},
     "output_type": "display_data"
    },
    {
     "name": "stdout",
     "output_type": "stream",
     "text": [
      "Were Nicky Larson and Cupid's Perfume and The Thin Red Line released the same year? {'entities': [(5, 37, 'movie'), (42, 59, 'movie'), (60, 67, 'predicate')]}\n",
      "Missing movie label\n"
     ]
    },
    {
     "data": {
      "text/html": [
       "<span class=\"tex2jax_ignore\"><div class=\"entities\" style=\"line-height: 2.5; direction: ltr\">Were \n",
       "<mark class=\"entity\" style=\"background: #ddd; padding: 0.45em 0.6em; margin: 0 0.25em; line-height: 1; border-radius: 0.35em;\">\n",
       "    Nicky Larson\n",
       "    <span style=\"font-size: 0.8em; font-weight: bold; line-height: 1; border-radius: 0.35em; vertical-align: middle; margin-left: 0.5rem\">movie</span>\n",
       "</mark>\n",
       " and \n",
       "<mark class=\"entity\" style=\"background: #ddd; padding: 0.45em 0.6em; margin: 0 0.25em; line-height: 1; border-radius: 0.35em;\">\n",
       "    Cupid's Perfume\n",
       "    <span style=\"font-size: 0.8em; font-weight: bold; line-height: 1; border-radius: 0.35em; vertical-align: middle; margin-left: 0.5rem\">movie</span>\n",
       "</mark>\n",
       " and \n",
       "<mark class=\"entity\" style=\"background: #ddd; padding: 0.45em 0.6em; margin: 0 0.25em; line-height: 1; border-radius: 0.35em;\">\n",
       "    The Thin Red Line\n",
       "    <span style=\"font-size: 0.8em; font-weight: bold; line-height: 1; border-radius: 0.35em; vertical-align: middle; margin-left: 0.5rem\">movie</span>\n",
       "</mark>\n",
       " released the same year?</div></span>"
      ],
      "text/plain": [
       "<IPython.core.display.HTML object>"
      ]
     },
     "metadata": {},
     "output_type": "display_data"
    },
    {
     "name": "stdout",
     "output_type": "stream",
     "text": [
      "Were Nicky Larson and Cupid's Perfume and The Thin Red Line released the same year? {'entities': [(5, 37, 'movie'), (42, 59, 'movie'), (60, 67, 'predicate')]}\n",
      "Missing movie label\n"
     ]
    },
    {
     "data": {
      "text/html": [
       "<span class=\"tex2jax_ignore\"><div class=\"entities\" style=\"line-height: 2.5; direction: ltr\">Are there any notable connections between \n",
       "<mark class=\"entity\" style=\"background: #ddd; padding: 0.45em 0.6em; margin: 0 0.25em; line-height: 1; border-radius: 0.35em;\">\n",
       "    Awesome;\n",
       "    <span style=\"font-size: 0.8em; font-weight: bold; line-height: 1; border-radius: 0.35em; vertical-align: middle; margin-left: 0.5rem\">movie</span>\n",
       "</mark>\n",
       " \n",
       "<mark class=\"entity\" style=\"background: #ddd; padding: 0.45em 0.6em; margin: 0 0.25em; line-height: 1; border-radius: 0.35em;\">\n",
       "    I Fuckin' Shot That!\n",
       "    <span style=\"font-size: 0.8em; font-weight: bold; line-height: 1; border-radius: 0.35em; vertical-align: middle; margin-left: 0.5rem\">movie</span>\n",
       "</mark>\n",
       " and \n",
       "<mark class=\"entity\" style=\"background: #ddd; padding: 0.45em 0.6em; margin: 0 0.25em; line-height: 1; border-radius: 0.35em;\">\n",
       "    Four Shades of Brown\n",
       "    <span style=\"font-size: 0.8em; font-weight: bold; line-height: 1; border-radius: 0.35em; vertical-align: middle; margin-left: 0.5rem\">movie</span>\n",
       "</mark>\n",
       " in terms of directors or producers?</div></span>"
      ],
      "text/plain": [
       "<IPython.core.display.HTML object>"
      ]
     },
     "metadata": {},
     "output_type": "display_data"
    },
    {
     "name": "stdout",
     "output_type": "stream",
     "text": [
      "Are there any notable connections between Awesome; I Fuckin' Shot That! and Four Shades of Brown in terms of directors or producers? {'entities': [(42, 71, 'movie'), (76, 96, 'movie')]}\n",
      "Missing movie label\n"
     ]
    },
    {
     "data": {
      "text/html": [
       "<span class=\"tex2jax_ignore\"><div class=\"entities\" style=\"line-height: 2.5; direction: ltr\">Are there any notable connections between \n",
       "<mark class=\"entity\" style=\"background: #ddd; padding: 0.45em 0.6em; margin: 0 0.25em; line-height: 1; border-radius: 0.35em;\">\n",
       "    Awesome;\n",
       "    <span style=\"font-size: 0.8em; font-weight: bold; line-height: 1; border-radius: 0.35em; vertical-align: middle; margin-left: 0.5rem\">movie</span>\n",
       "</mark>\n",
       " \n",
       "<mark class=\"entity\" style=\"background: #ddd; padding: 0.45em 0.6em; margin: 0 0.25em; line-height: 1; border-radius: 0.35em;\">\n",
       "    I Fuckin' Shot That!\n",
       "    <span style=\"font-size: 0.8em; font-weight: bold; line-height: 1; border-radius: 0.35em; vertical-align: middle; margin-left: 0.5rem\">movie</span>\n",
       "</mark>\n",
       " and \n",
       "<mark class=\"entity\" style=\"background: #ddd; padding: 0.45em 0.6em; margin: 0 0.25em; line-height: 1; border-radius: 0.35em;\">\n",
       "    Four Shades of Brown\n",
       "    <span style=\"font-size: 0.8em; font-weight: bold; line-height: 1; border-radius: 0.35em; vertical-align: middle; margin-left: 0.5rem\">movie</span>\n",
       "</mark>\n",
       " in terms of directors or producers?</div></span>"
      ],
      "text/plain": [
       "<IPython.core.display.HTML object>"
      ]
     },
     "metadata": {},
     "output_type": "display_data"
    },
    {
     "name": "stdout",
     "output_type": "stream",
     "text": [
      "Are there any notable connections between Awesome; I Fuckin' Shot That! and Four Shades of Brown in terms of directors or producers? {'entities': [(42, 71, 'movie'), (76, 96, 'movie')]}\n",
      "Missing movie label\n"
     ]
    },
    {
     "data": {
      "text/html": [
       "<span class=\"tex2jax_ignore\"><div class=\"entities\" style=\"line-height: 2.5; direction: ltr\">Do \n",
       "<mark class=\"entity\" style=\"background: #ddd; padding: 0.45em 0.6em; margin: 0 0.25em; line-height: 1; border-radius: 0.35em;\">\n",
       "    Chico de Luigi\n",
       "    <span style=\"font-size: 0.8em; font-weight: bold; line-height: 1; border-radius: 0.35em; vertical-align: middle; margin-left: 0.5rem\">movie</span>\n",
       "</mark>\n",
       " and \n",
       "<mark class=\"entity\" style=\"background: #ddd; padding: 0.45em 0.6em; margin: 0 0.25em; line-height: 1; border-radius: 0.35em;\">\n",
       "    Patricia Reyes Spíndola\n",
       "    <span style=\"font-size: 0.8em; font-weight: bold; line-height: 1; border-radius: 0.35em; vertical-align: middle; margin-left: 0.5rem\">name</span>\n",
       "</mark>\n",
       " share the screen in any movies?</div></span>"
      ],
      "text/plain": [
       "<IPython.core.display.HTML object>"
      ]
     },
     "metadata": {},
     "output_type": "display_data"
    },
    {
     "name": "stdout",
     "output_type": "stream",
     "text": [
      "Do Chico de Luigi and Patricia Reyes Spíndola share the screen in any movies? {'entities': [(3, 17, 'name'), (22, 45, 'name')]}\n",
      "Missing movie label\n"
     ]
    },
    {
     "data": {
      "text/html": [
       "<span class=\"tex2jax_ignore\"><div class=\"entities\" style=\"line-height: 2.5; direction: ltr\">Do you have recommendations for movies that masterfully balance the genres of both \n",
       "<mark class=\"entity\" style=\"background: #ddd; padding: 0.45em 0.6em; margin: 0 0.25em; line-height: 1; border-radius: 0.35em;\">\n",
       "    Japanese horror\n",
       "    <span style=\"font-size: 0.8em; font-weight: bold; line-height: 1; border-radius: 0.35em; vertical-align: middle; margin-left: 0.5rem\">genre</span>\n",
       "</mark>\n",
       " and \n",
       "<mark class=\"entity\" style=\"background: #ddd; padding: 0.45em 0.6em; margin: 0 0.25em; line-height: 1; border-radius: 0.35em;\">\n",
       "    horror\n",
       "    <span style=\"font-size: 0.8em; font-weight: bold; line-height: 1; border-radius: 0.35em; vertical-align: middle; margin-left: 0.5rem\">genre</span>\n",
       "</mark>\n",
       "?</div></span>"
      ],
      "text/plain": [
       "<IPython.core.display.HTML object>"
      ]
     },
     "metadata": {},
     "output_type": "display_data"
    },
    {
     "name": "stdout",
     "output_type": "stream",
     "text": [
      "Do you have recommendations for movies that masterfully balance the genres of both Japanese horror and horror? {'entities': [(83, 98, 'genre'), (92, 98, 'genre'), (68, 73, 'predicate')]}\n",
      "Missing genre label\n"
     ]
    },
    {
     "data": {
      "text/html": [
       "<span class=\"tex2jax_ignore\"><div class=\"entities\" style=\"line-height: 2.5; direction: ltr\">Do \n",
       "<mark class=\"entity\" style=\"background: #ddd; padding: 0.45em 0.6em; margin: 0 0.25em; line-height: 1; border-radius: 0.35em;\">\n",
       "    Darleen Carr\n",
       "    <span style=\"font-size: 0.8em; font-weight: bold; line-height: 1; border-radius: 0.35em; vertical-align: middle; margin-left: 0.5rem\">name</span>\n",
       "</mark>\n",
       " and \n",
       "<mark class=\"entity\" style=\"background: #ddd; padding: 0.45em 0.6em; margin: 0 0.25em; line-height: 1; border-radius: 0.35em;\">\n",
       "    Pierre Uytterhoeven\n",
       "    <span style=\"font-size: 0.8em; font-weight: bold; line-height: 1; border-radius: 0.35em; vertical-align: middle; margin-left: 0.5rem\">name</span>\n",
       "</mark>\n",
       " appear in \n",
       "<mark class=\"entity\" style=\"background: #ddd; padding: 0.45em 0.6em; margin: 0 0.25em; line-height: 1; border-radius: 0.35em;\">\n",
       "    Who's Your Daddy\n",
       "    <span style=\"font-size: 0.8em; font-weight: bold; line-height: 1; border-radius: 0.35em; vertical-align: middle; margin-left: 0.5rem\">movie</span>\n",
       "</mark>\n",
       "?</div></span>"
      ],
      "text/plain": [
       "<IPython.core.display.HTML object>"
      ]
     },
     "metadata": {},
     "output_type": "display_data"
    },
    {
     "name": "stdout",
     "output_type": "stream",
     "text": [
      "Do Darleen Carr and Pierre Uytterhoeven appear in Who's Your Daddy? {'entities': [(3, 15, 'name'), (20, 39, 'name'), (50, 67, 'movie')]}\n",
      "Missing movie label\n"
     ]
    },
    {
     "data": {
      "text/html": [
       "<span class=\"tex2jax_ignore\"><div class=\"entities\" style=\"line-height: 2.5; direction: ltr\">Do \n",
       "<mark class=\"entity\" style=\"background: #ddd; padding: 0.45em 0.6em; margin: 0 0.25em; line-height: 1; border-radius: 0.35em;\">\n",
       "    Bob Sapp\n",
       "    <span style=\"font-size: 0.8em; font-weight: bold; line-height: 1; border-radius: 0.35em; vertical-align: middle; margin-left: 0.5rem\">name</span>\n",
       "</mark>\n",
       " and \n",
       "<mark class=\"entity\" style=\"background: #ddd; padding: 0.45em 0.6em; margin: 0 0.25em; line-height: 1; border-radius: 0.35em;\">\n",
       "    Roberto Rossellini\n",
       "    <span style=\"font-size: 0.8em; font-weight: bold; line-height: 1; border-radius: 0.35em; vertical-align: middle; margin-left: 0.5rem\">name</span>\n",
       "</mark>\n",
       " appear in \n",
       "<mark class=\"entity\" style=\"background: #ddd; padding: 0.45em 0.6em; margin: 0 0.25em; line-height: 1; border-radius: 0.35em;\">\n",
       "    Man's Favorite Sport\n",
       "    <span style=\"font-size: 0.8em; font-weight: bold; line-height: 1; border-radius: 0.35em; vertical-align: middle; margin-left: 0.5rem\">movie</span>\n",
       "</mark>\n",
       "?</div></span>"
      ],
      "text/plain": [
       "<IPython.core.display.HTML object>"
      ]
     },
     "metadata": {},
     "output_type": "display_data"
    },
    {
     "name": "stdout",
     "output_type": "stream",
     "text": [
      "Do Bob Sapp and Roberto Rossellini appear in Man's Favorite Sport? {'entities': [(3, 11, 'name'), (16, 34, 'name'), (45, 66, 'movie')]}\n",
      "Missing movie label\n"
     ]
    },
    {
     "data": {
      "text/html": [
       "<span class=\"tex2jax_ignore\"><div class=\"entities\" style=\"line-height: 2.5; direction: ltr\">Can you \n",
       "<mark class=\"entity\" style=\"background: #ddd; padding: 0.45em 0.6em; margin: 0 0.25em; line-height: 1; border-radius: 0.35em;\">\n",
       "    suggest\n",
       "    <span style=\"font-size: 0.8em; font-weight: bold; line-height: 1; border-radius: 0.35em; vertical-align: middle; margin-left: 0.5rem\">predicate</span>\n",
       "</mark>\n",
       " films where the cast includes both \n",
       "<mark class=\"entity\" style=\"background: #ddd; padding: 0.45em 0.6em; margin: 0 0.25em; line-height: 1; border-radius: 0.35em;\">\n",
       "    André the Giant\n",
       "    <span style=\"font-size: 0.8em; font-weight: bold; line-height: 1; border-radius: 0.35em; vertical-align: middle; margin-left: 0.5rem\">name</span>\n",
       "</mark>\n",
       " and \n",
       "<mark class=\"entity\" style=\"background: #ddd; padding: 0.45em 0.6em; margin: 0 0.25em; line-height: 1; border-radius: 0.35em;\">\n",
       "    Isabel Torres\n",
       "    <span style=\"font-size: 0.8em; font-weight: bold; line-height: 1; border-radius: 0.35em; vertical-align: middle; margin-left: 0.5rem\">movie</span>\n",
       "</mark>\n",
       "?</div></span>"
      ],
      "text/plain": [
       "<IPython.core.display.HTML object>"
      ]
     },
     "metadata": {},
     "output_type": "display_data"
    },
    {
     "name": "stdout",
     "output_type": "stream",
     "text": [
      "Can you suggest films where the cast includes both André the Giant and Isabel Torres? {'entities': [(51, 66, 'name'), (71, 84, 'name'), (8, 15, 'predicate')]}\n",
      "Missing movie label\n"
     ]
    },
    {
     "data": {
      "text/html": [
       "<span class=\"tex2jax_ignore\"><div class=\"entities\" style=\"line-height: 2.5; direction: ltr\">Are there any common filming locations between \n",
       "<mark class=\"entity\" style=\"background: #ddd; padding: 0.45em 0.6em; margin: 0 0.25em; line-height: 1; border-radius: 0.35em;\">\n",
       "    Silvered Water\n",
       "    <span style=\"font-size: 0.8em; font-weight: bold; line-height: 1; border-radius: 0.35em; vertical-align: middle; margin-left: 0.5rem\">movie</span>\n",
       "</mark>\n",
       ", Syria Self-Portrait and \n",
       "<mark class=\"entity\" style=\"background: #ddd; padding: 0.45em 0.6em; margin: 0 0.25em; line-height: 1; border-radius: 0.35em;\">\n",
       "    Chain Reaction\n",
       "    <span style=\"font-size: 0.8em; font-weight: bold; line-height: 1; border-radius: 0.35em; vertical-align: middle; margin-left: 0.5rem\">movie</span>\n",
       "</mark>\n",
       "?</div></span>"
      ],
      "text/plain": [
       "<IPython.core.display.HTML object>"
      ]
     },
     "metadata": {},
     "output_type": "display_data"
    },
    {
     "name": "stdout",
     "output_type": "stream",
     "text": [
      "Are there any common filming locations between Silvered Water, Syria Self-Portrait and Chain Reaction? {'entities': [(47, 82, 'movie'), (87, 101, 'movie')]}\n",
      "Missing movie label\n"
     ]
    },
    {
     "data": {
      "text/html": [
       "<span class=\"tex2jax_ignore\"><div class=\"entities\" style=\"line-height: 2.5; direction: ltr\">I enjoy movies that combine the elements of \n",
       "<mark class=\"entity\" style=\"background: #ddd; padding: 0.45em 0.6em; margin: 0 0.25em; line-height: 1; border-radius: 0.35em;\">\n",
       "    crime-comedy\n",
       "    <span style=\"font-size: 0.8em; font-weight: bold; line-height: 1; border-radius: 0.35em; vertical-align: middle; margin-left: 0.5rem\">genre</span>\n",
       "</mark>\n",
       " and \n",
       "<mark class=\"entity\" style=\"background: #ddd; padding: 0.45em 0.6em; margin: 0 0.25em; line-height: 1; border-radius: 0.35em;\">\n",
       "    comedy\n",
       "    <span style=\"font-size: 0.8em; font-weight: bold; line-height: 1; border-radius: 0.35em; vertical-align: middle; margin-left: 0.5rem\">genre</span>\n",
       "</mark>\n",
       ". What are your top picks in this \n",
       "<mark class=\"entity\" style=\"background: #ddd; padding: 0.45em 0.6em; margin: 0 0.25em; line-height: 1; border-radius: 0.35em;\">\n",
       "    category\n",
       "    <span style=\"font-size: 0.8em; font-weight: bold; line-height: 1; border-radius: 0.35em; vertical-align: middle; margin-left: 0.5rem\">predicate</span>\n",
       "</mark>\n",
       "?</div></span>"
      ],
      "text/plain": [
       "<IPython.core.display.HTML object>"
      ]
     },
     "metadata": {},
     "output_type": "display_data"
    },
    {
     "name": "stdout",
     "output_type": "stream",
     "text": [
      "I enjoy movies that combine the elements of crime-comedy and comedy. What are your top picks in this category? {'entities': [(44, 56, 'genre'), (50, 56, 'genre'), (101, 109, 'predicate')]}\n",
      "Missing genre label\n"
     ]
    },
    {
     "data": {
      "text/html": [
       "<span class=\"tex2jax_ignore\"><div class=\"entities\" style=\"line-height: 2.5; direction: ltr\">Can you list all the movies starring both \n",
       "<mark class=\"entity\" style=\"background: #ddd; padding: 0.45em 0.6em; margin: 0 0.25em; line-height: 1; border-radius: 0.35em;\">\n",
       "    Ullrich Haupt\n",
       "    <span style=\"font-size: 0.8em; font-weight: bold; line-height: 1; border-radius: 0.35em; vertical-align: middle; margin-left: 0.5rem\">name</span>\n",
       "</mark>\n",
       ", \n",
       "<mark class=\"entity\" style=\"background: #ddd; padding: 0.45em 0.6em; margin: 0 0.25em; line-height: 1; border-radius: 0.35em;\">\n",
       "    Sr.\n",
       "    <span style=\"font-size: 0.8em; font-weight: bold; line-height: 1; border-radius: 0.35em; vertical-align: middle; margin-left: 0.5rem\">name</span>\n",
       "</mark>\n",
       " and \n",
       "<mark class=\"entity\" style=\"background: #ddd; padding: 0.45em 0.6em; margin: 0 0.25em; line-height: 1; border-radius: 0.35em;\">\n",
       "    Kynaston Reeves\n",
       "    <span style=\"font-size: 0.8em; font-weight: bold; line-height: 1; border-radius: 0.35em; vertical-align: middle; margin-left: 0.5rem\">name</span>\n",
       "</mark>\n",
       "?</div></span>"
      ],
      "text/plain": [
       "<IPython.core.display.HTML object>"
      ]
     },
     "metadata": {},
     "output_type": "display_data"
    },
    {
     "name": "stdout",
     "output_type": "stream",
     "text": [
      "Can you list all the movies starring both Ullrich Haupt, Sr. and Kynaston Reeves? {'entities': [(42, 60, 'name'), (65, 80, 'name')]}\n",
      "Missing name label\n"
     ]
    },
    {
     "data": {
      "text/html": [
       "<span class=\"tex2jax_ignore\"><div class=\"entities\" style=\"line-height: 2.5; direction: ltr\">Can you list all the movies starring both \n",
       "<mark class=\"entity\" style=\"background: #ddd; padding: 0.45em 0.6em; margin: 0 0.25em; line-height: 1; border-radius: 0.35em;\">\n",
       "    Ullrich Haupt\n",
       "    <span style=\"font-size: 0.8em; font-weight: bold; line-height: 1; border-radius: 0.35em; vertical-align: middle; margin-left: 0.5rem\">name</span>\n",
       "</mark>\n",
       ", \n",
       "<mark class=\"entity\" style=\"background: #ddd; padding: 0.45em 0.6em; margin: 0 0.25em; line-height: 1; border-radius: 0.35em;\">\n",
       "    Sr.\n",
       "    <span style=\"font-size: 0.8em; font-weight: bold; line-height: 1; border-radius: 0.35em; vertical-align: middle; margin-left: 0.5rem\">name</span>\n",
       "</mark>\n",
       " and \n",
       "<mark class=\"entity\" style=\"background: #ddd; padding: 0.45em 0.6em; margin: 0 0.25em; line-height: 1; border-radius: 0.35em;\">\n",
       "    Kynaston Reeves\n",
       "    <span style=\"font-size: 0.8em; font-weight: bold; line-height: 1; border-radius: 0.35em; vertical-align: middle; margin-left: 0.5rem\">name</span>\n",
       "</mark>\n",
       "?</div></span>"
      ],
      "text/plain": [
       "<IPython.core.display.HTML object>"
      ]
     },
     "metadata": {},
     "output_type": "display_data"
    },
    {
     "name": "stdout",
     "output_type": "stream",
     "text": [
      "Can you list all the movies starring both Ullrich Haupt, Sr. and Kynaston Reeves? {'entities': [(42, 60, 'name'), (65, 80, 'name')]}\n",
      "Missing name label\n"
     ]
    },
    {
     "data": {
      "text/html": [
       "<span class=\"tex2jax_ignore\"><div class=\"entities\" style=\"line-height: 2.5; direction: ltr\">Do \n",
       "<mark class=\"entity\" style=\"background: #ddd; padding: 0.45em 0.6em; margin: 0 0.25em; line-height: 1; border-radius: 0.35em;\">\n",
       "    Sonny Coops Van Utteren\n",
       "    <span style=\"font-size: 0.8em; font-weight: bold; line-height: 1; border-radius: 0.35em; vertical-align: middle; margin-left: 0.5rem\">movie</span>\n",
       "</mark>\n",
       " and \n",
       "<mark class=\"entity\" style=\"background: #ddd; padding: 0.45em 0.6em; margin: 0 0.25em; line-height: 1; border-radius: 0.35em;\">\n",
       "    Mary Somerville\n",
       "    <span style=\"font-size: 0.8em; font-weight: bold; line-height: 1; border-radius: 0.35em; vertical-align: middle; margin-left: 0.5rem\">name</span>\n",
       "</mark>\n",
       " have any projects together?</div></span>"
      ],
      "text/plain": [
       "<IPython.core.display.HTML object>"
      ]
     },
     "metadata": {},
     "output_type": "display_data"
    },
    {
     "name": "stdout",
     "output_type": "stream",
     "text": [
      "Do Sonny Coops Van Utteren and Mary Somerville have any projects together? {'entities': [(3, 26, 'name'), (31, 46, 'name')]}\n",
      "Missing movie label\n"
     ]
    },
    {
     "data": {
      "text/html": [
       "<span class=\"tex2jax_ignore\"><div class=\"entities\" style=\"line-height: 2.5; direction: ltr\">Can you \n",
       "<mark class=\"entity\" style=\"background: #ddd; padding: 0.45em 0.6em; margin: 0 0.25em; line-height: 1; border-radius: 0.35em;\">\n",
       "    recommend\n",
       "    <span style=\"font-size: 0.8em; font-weight: bold; line-height: 1; border-radius: 0.35em; vertical-align: middle; margin-left: 0.5rem\">predicate</span>\n",
       "</mark>\n",
       " me a movie with a similar style than the movies from \n",
       "<mark class=\"entity\" style=\"background: #ddd; padding: 0.45em 0.6em; margin: 0 0.25em; line-height: 1; border-radius: 0.35em;\">\n",
       "    Morten Green\n",
       "    <span style=\"font-size: 0.8em; font-weight: bold; line-height: 1; border-radius: 0.35em; vertical-align: middle; margin-left: 0.5rem\">name</span>\n",
       "</mark>\n",
       " and \n",
       "<mark class=\"entity\" style=\"background: #ddd; padding: 0.45em 0.6em; margin: 0 0.25em; line-height: 1; border-radius: 0.35em;\">\n",
       "    Elizabeth Charlotte\n",
       "    <span style=\"font-size: 0.8em; font-weight: bold; line-height: 1; border-radius: 0.35em; vertical-align: middle; margin-left: 0.5rem\">name</span>\n",
       "</mark>\n",
       ", \n",
       "<mark class=\"entity\" style=\"background: #ddd; padding: 0.45em 0.6em; margin: 0 0.25em; line-height: 1; border-radius: 0.35em;\">\n",
       "    Princess Palatine\n",
       "    <span style=\"font-size: 0.8em; font-weight: bold; line-height: 1; border-radius: 0.35em; vertical-align: middle; margin-left: 0.5rem\">movie</span>\n",
       "</mark>\n",
       "</div></span>"
      ],
      "text/plain": [
       "<IPython.core.display.HTML object>"
      ]
     },
     "metadata": {},
     "output_type": "display_data"
    },
    {
     "name": "stdout",
     "output_type": "stream",
     "text": [
      "Can you recommend me a movie with a similar style than the movies from Morten Green and Elizabeth Charlotte, Princess Palatine {'entities': [(71, 83, 'name'), (88, 126, 'name'), (8, 17, 'predicate')]}\n",
      "Missing name label\n"
     ]
    },
    {
     "data": {
      "text/html": [
       "<span class=\"tex2jax_ignore\"><div class=\"entities\" style=\"line-height: 2.5; direction: ltr\">Can you \n",
       "<mark class=\"entity\" style=\"background: #ddd; padding: 0.45em 0.6em; margin: 0 0.25em; line-height: 1; border-radius: 0.35em;\">\n",
       "    recommend\n",
       "    <span style=\"font-size: 0.8em; font-weight: bold; line-height: 1; border-radius: 0.35em; vertical-align: middle; margin-left: 0.5rem\">predicate</span>\n",
       "</mark>\n",
       " me a movie with a similar style than the movies from \n",
       "<mark class=\"entity\" style=\"background: #ddd; padding: 0.45em 0.6em; margin: 0 0.25em; line-height: 1; border-radius: 0.35em;\">\n",
       "    Morten Green\n",
       "    <span style=\"font-size: 0.8em; font-weight: bold; line-height: 1; border-radius: 0.35em; vertical-align: middle; margin-left: 0.5rem\">name</span>\n",
       "</mark>\n",
       " and \n",
       "<mark class=\"entity\" style=\"background: #ddd; padding: 0.45em 0.6em; margin: 0 0.25em; line-height: 1; border-radius: 0.35em;\">\n",
       "    Elizabeth Charlotte\n",
       "    <span style=\"font-size: 0.8em; font-weight: bold; line-height: 1; border-radius: 0.35em; vertical-align: middle; margin-left: 0.5rem\">name</span>\n",
       "</mark>\n",
       ", \n",
       "<mark class=\"entity\" style=\"background: #ddd; padding: 0.45em 0.6em; margin: 0 0.25em; line-height: 1; border-radius: 0.35em;\">\n",
       "    Princess Palatine\n",
       "    <span style=\"font-size: 0.8em; font-weight: bold; line-height: 1; border-radius: 0.35em; vertical-align: middle; margin-left: 0.5rem\">movie</span>\n",
       "</mark>\n",
       "</div></span>"
      ],
      "text/plain": [
       "<IPython.core.display.HTML object>"
      ]
     },
     "metadata": {},
     "output_type": "display_data"
    },
    {
     "name": "stdout",
     "output_type": "stream",
     "text": [
      "Can you recommend me a movie with a similar style than the movies from Morten Green and Elizabeth Charlotte, Princess Palatine {'entities': [(71, 83, 'name'), (88, 126, 'name'), (8, 17, 'predicate')]}\n",
      "Missing movie label\n"
     ]
    },
    {
     "data": {
      "text/html": [
       "<span class=\"tex2jax_ignore\"><div class=\"entities\" style=\"line-height: 2.5; direction: ltr\">Which \n",
       "<mark class=\"entity\" style=\"background: #ddd; padding: 0.45em 0.6em; margin: 0 0.25em; line-height: 1; border-radius: 0.35em;\">\n",
       "    member of the crew of\n",
       "    <span style=\"font-size: 0.8em; font-weight: bold; line-height: 1; border-radius: 0.35em; vertical-align: middle; margin-left: 0.5rem\">role</span>\n",
       "</mark>\n",
       " or \n",
       "<mark class=\"entity\" style=\"background: #ddd; padding: 0.45em 0.6em; margin: 0 0.25em; line-height: 1; border-radius: 0.35em;\">\n",
       "    animator\n",
       "    <span style=\"font-size: 0.8em; font-weight: bold; line-height: 1; border-radius: 0.35em; vertical-align: middle; margin-left: 0.5rem\">role</span>\n",
       "</mark>\n",
       " contributed to the soundtracks of both \n",
       "<mark class=\"entity\" style=\"background: #ddd; padding: 0.45em 0.6em; margin: 0 0.25em; line-height: 1; border-radius: 0.35em;\">\n",
       "    Mom\n",
       "    <span style=\"font-size: 0.8em; font-weight: bold; line-height: 1; border-radius: 0.35em; vertical-align: middle; margin-left: 0.5rem\">movie</span>\n",
       "</mark>\n",
       " and \n",
       "<mark class=\"entity\" style=\"background: #ddd; padding: 0.45em 0.6em; margin: 0 0.25em; line-height: 1; border-radius: 0.35em;\">\n",
       "    Other Loonies in the Family\n",
       "    <span style=\"font-size: 0.8em; font-weight: bold; line-height: 1; border-radius: 0.35em; vertical-align: middle; margin-left: 0.5rem\">movie</span>\n",
       "</mark>\n",
       " and \n",
       "<mark class=\"entity\" style=\"background: #ddd; padding: 0.45em 0.6em; margin: 0 0.25em; line-height: 1; border-radius: 0.35em;\">\n",
       "    Running on Empty\n",
       "    <span style=\"font-size: 0.8em; font-weight: bold; line-height: 1; border-radius: 0.35em; vertical-align: middle; margin-left: 0.5rem\">movie</span>\n",
       "</mark>\n",
       "?</div></span>"
      ],
      "text/plain": [
       "<IPython.core.display.HTML object>"
      ]
     },
     "metadata": {},
     "output_type": "display_data"
    },
    {
     "name": "stdout",
     "output_type": "stream",
     "text": [
      "Which member of the crew of or animator contributed to the soundtracks of both Mom and Other Loonies in the Family and Running on Empty? {'entities': [(6, 27, 'role'), (31, 39, 'role'), (79, 114, 'movie'), (119, 135, 'movie')]}\n",
      "Missing movie label\n"
     ]
    },
    {
     "data": {
      "text/html": [
       "<span class=\"tex2jax_ignore\"><div class=\"entities\" style=\"line-height: 2.5; direction: ltr\">Which \n",
       "<mark class=\"entity\" style=\"background: #ddd; padding: 0.45em 0.6em; margin: 0 0.25em; line-height: 1; border-radius: 0.35em;\">\n",
       "    member of the crew of\n",
       "    <span style=\"font-size: 0.8em; font-weight: bold; line-height: 1; border-radius: 0.35em; vertical-align: middle; margin-left: 0.5rem\">role</span>\n",
       "</mark>\n",
       " or \n",
       "<mark class=\"entity\" style=\"background: #ddd; padding: 0.45em 0.6em; margin: 0 0.25em; line-height: 1; border-radius: 0.35em;\">\n",
       "    animator\n",
       "    <span style=\"font-size: 0.8em; font-weight: bold; line-height: 1; border-radius: 0.35em; vertical-align: middle; margin-left: 0.5rem\">role</span>\n",
       "</mark>\n",
       " contributed to the soundtracks of both \n",
       "<mark class=\"entity\" style=\"background: #ddd; padding: 0.45em 0.6em; margin: 0 0.25em; line-height: 1; border-radius: 0.35em;\">\n",
       "    Mom\n",
       "    <span style=\"font-size: 0.8em; font-weight: bold; line-height: 1; border-radius: 0.35em; vertical-align: middle; margin-left: 0.5rem\">movie</span>\n",
       "</mark>\n",
       " and \n",
       "<mark class=\"entity\" style=\"background: #ddd; padding: 0.45em 0.6em; margin: 0 0.25em; line-height: 1; border-radius: 0.35em;\">\n",
       "    Other Loonies in the Family\n",
       "    <span style=\"font-size: 0.8em; font-weight: bold; line-height: 1; border-radius: 0.35em; vertical-align: middle; margin-left: 0.5rem\">movie</span>\n",
       "</mark>\n",
       " and \n",
       "<mark class=\"entity\" style=\"background: #ddd; padding: 0.45em 0.6em; margin: 0 0.25em; line-height: 1; border-radius: 0.35em;\">\n",
       "    Running on Empty\n",
       "    <span style=\"font-size: 0.8em; font-weight: bold; line-height: 1; border-radius: 0.35em; vertical-align: middle; margin-left: 0.5rem\">movie</span>\n",
       "</mark>\n",
       "?</div></span>"
      ],
      "text/plain": [
       "<IPython.core.display.HTML object>"
      ]
     },
     "metadata": {},
     "output_type": "display_data"
    },
    {
     "name": "stdout",
     "output_type": "stream",
     "text": [
      "Which member of the crew of or animator contributed to the soundtracks of both Mom and Other Loonies in the Family and Running on Empty? {'entities': [(6, 27, 'role'), (31, 39, 'role'), (79, 114, 'movie'), (119, 135, 'movie')]}\n",
      "Missing movie label\n"
     ]
    },
    {
     "data": {
      "text/html": [
       "<span class=\"tex2jax_ignore\"><div class=\"entities\" style=\"line-height: 2.5; direction: ltr\">Are there any notable collaborations between \n",
       "<mark class=\"entity\" style=\"background: #ddd; padding: 0.45em 0.6em; margin: 0 0.25em; line-height: 1; border-radius: 0.35em;\">\n",
       "    Wilfrid Lawson\n",
       "    <span style=\"font-size: 0.8em; font-weight: bold; line-height: 1; border-radius: 0.35em; vertical-align: middle; margin-left: 0.5rem\">name</span>\n",
       "</mark>\n",
       ", \n",
       "<mark class=\"entity\" style=\"background: #ddd; padding: 0.45em 0.6em; margin: 0 0.25em; line-height: 1; border-radius: 0.35em;\">\n",
       "    Elizabeth II of the United Kingdom\n",
       "    <span style=\"font-size: 0.8em; font-weight: bold; line-height: 1; border-radius: 0.35em; vertical-align: middle; margin-left: 0.5rem\">name</span>\n",
       "</mark>\n",
       ", and \n",
       "<mark class=\"entity\" style=\"background: #ddd; padding: 0.45em 0.6em; margin: 0 0.25em; line-height: 1; border-radius: 0.35em;\">\n",
       "    Stacy Hall\n",
       "    <span style=\"font-size: 0.8em; font-weight: bold; line-height: 1; border-radius: 0.35em; vertical-align: middle; margin-left: 0.5rem\">movie</span>\n",
       "</mark>\n",
       " in the film industry?</div></span>"
      ],
      "text/plain": [
       "<IPython.core.display.HTML object>"
      ]
     },
     "metadata": {},
     "output_type": "display_data"
    },
    {
     "name": "stdout",
     "output_type": "stream",
     "text": [
      "Are there any notable collaborations between Wilfrid Lawson, Elizabeth II of the United Kingdom, and Stacy Hall in the film industry? {'entities': [(45, 59, 'name'), (61, 95, 'name'), (101, 111, 'name')]}\n",
      "Missing movie label\n"
     ]
    },
    {
     "data": {
      "text/html": [
       "<span class=\"tex2jax_ignore\"><div class=\"entities\" style=\"line-height: 2.5; direction: ltr\">Are there any common themes or genres between \n",
       "<mark class=\"entity\" style=\"background: #ddd; padding: 0.45em 0.6em; margin: 0 0.25em; line-height: 1; border-radius: 0.35em;\">\n",
       "    Terms\n",
       "    <span style=\"font-size: 0.8em; font-weight: bold; line-height: 1; border-radius: 0.35em; vertical-align: middle; margin-left: 0.5rem\">movie</span>\n",
       "</mark>\n",
       " and Conditions May Apply and \n",
       "<mark class=\"entity\" style=\"background: #ddd; padding: 0.45em 0.6em; margin: 0 0.25em; line-height: 1; border-radius: 0.35em;\">\n",
       "    Just Buried\n",
       "    <span style=\"font-size: 0.8em; font-weight: bold; line-height: 1; border-radius: 0.35em; vertical-align: middle; margin-left: 0.5rem\">movie</span>\n",
       "</mark>\n",
       "?</div></span>"
      ],
      "text/plain": [
       "<IPython.core.display.HTML object>"
      ]
     },
     "metadata": {},
     "output_type": "display_data"
    },
    {
     "name": "stdout",
     "output_type": "stream",
     "text": [
      "Are there any common themes or genres between Terms and Conditions May Apply and Just Buried? {'entities': [(46, 76, 'movie'), (81, 92, 'movie'), (31, 36, 'predicate')]}\n",
      "Missing movie label\n"
     ]
    },
    {
     "data": {
      "text/html": [
       "<span class=\"tex2jax_ignore\"><div class=\"entities\" style=\"line-height: 2.5; direction: ltr\">Can you recommend movies that span a wide range of genres, including \n",
       "<mark class=\"entity\" style=\"background: #ddd; padding: 0.45em 0.6em; margin: 0 0.25em; line-height: 1; border-radius: 0.35em;\">\n",
       "    political satire\n",
       "    <span style=\"font-size: 0.8em; font-weight: bold; line-height: 1; border-radius: 0.35em; vertical-align: middle; margin-left: 0.5rem\">genre</span>\n",
       "</mark>\n",
       ", \n",
       "<mark class=\"entity\" style=\"background: #ddd; padding: 0.45em 0.6em; margin: 0 0.25em; line-height: 1; border-radius: 0.35em;\">\n",
       "    family drama\n",
       "    <span style=\"font-size: 0.8em; font-weight: bold; line-height: 1; border-radius: 0.35em; vertical-align: middle; margin-left: 0.5rem\">genre</span>\n",
       "</mark>\n",
       ", and \n",
       "<mark class=\"entity\" style=\"background: #ddd; padding: 0.45em 0.6em; margin: 0 0.25em; line-height: 1; border-radius: 0.35em;\">\n",
       "    drama\n",
       "    <span style=\"font-size: 0.8em; font-weight: bold; line-height: 1; border-radius: 0.35em; vertical-align: middle; margin-left: 0.5rem\">genre</span>\n",
       "</mark>\n",
       "?</div></span>"
      ],
      "text/plain": [
       "<IPython.core.display.HTML object>"
      ]
     },
     "metadata": {},
     "output_type": "display_data"
    },
    {
     "name": "stdout",
     "output_type": "stream",
     "text": [
      "Can you recommend movies that span a wide range of genres, including political satire, family drama, and drama? {'entities': [(69, 85, 'genre'), (87, 99, 'genre'), (94, 99, 'genre'), (51, 56, 'predicate')]}\n",
      "Missing genre label\n"
     ]
    },
    {
     "data": {
      "text/html": [
       "<span class=\"tex2jax_ignore\"><div class=\"entities\" style=\"line-height: 2.5; direction: ltr\">Do \n",
       "<mark class=\"entity\" style=\"background: #ddd; padding: 0.45em 0.6em; margin: 0 0.25em; line-height: 1; border-radius: 0.35em;\">\n",
       "    Bhagavad Gita\n",
       "    <span style=\"font-size: 0.8em; font-weight: bold; line-height: 1; border-radius: 0.35em; vertical-align: middle; margin-left: 0.5rem\">name</span>\n",
       "</mark>\n",
       " and \n",
       "<mark class=\"entity\" style=\"background: #ddd; padding: 0.45em 0.6em; margin: 0 0.25em; line-height: 1; border-radius: 0.35em;\">\n",
       "    Stella Dallas\n",
       "    <span style=\"font-size: 0.8em; font-weight: bold; line-height: 1; border-radius: 0.35em; vertical-align: middle; margin-left: 0.5rem\">name</span>\n",
       "</mark>\n",
       " share any crew members or production staff?</div></span>"
      ],
      "text/plain": [
       "<IPython.core.display.HTML object>"
      ]
     },
     "metadata": {},
     "output_type": "display_data"
    },
    {
     "name": "stdout",
     "output_type": "stream",
     "text": [
      "Do Bhagavad Gita and Stella Dallas share any crew members or production staff? {'entities': [(3, 16, 'movie'), (21, 34, 'movie')]}\n",
      "Missing name label\n"
     ]
    },
    {
     "data": {
      "text/html": [
       "<span class=\"tex2jax_ignore\"><div class=\"entities\" style=\"line-height: 2.5; direction: ltr\">Do \n",
       "<mark class=\"entity\" style=\"background: #ddd; padding: 0.45em 0.6em; margin: 0 0.25em; line-height: 1; border-radius: 0.35em;\">\n",
       "    Bhagavad Gita\n",
       "    <span style=\"font-size: 0.8em; font-weight: bold; line-height: 1; border-radius: 0.35em; vertical-align: middle; margin-left: 0.5rem\">name</span>\n",
       "</mark>\n",
       " and \n",
       "<mark class=\"entity\" style=\"background: #ddd; padding: 0.45em 0.6em; margin: 0 0.25em; line-height: 1; border-radius: 0.35em;\">\n",
       "    Stella Dallas\n",
       "    <span style=\"font-size: 0.8em; font-weight: bold; line-height: 1; border-radius: 0.35em; vertical-align: middle; margin-left: 0.5rem\">name</span>\n",
       "</mark>\n",
       " share any crew members or production staff?</div></span>"
      ],
      "text/plain": [
       "<IPython.core.display.HTML object>"
      ]
     },
     "metadata": {},
     "output_type": "display_data"
    },
    {
     "name": "stdout",
     "output_type": "stream",
     "text": [
      "Do Bhagavad Gita and Stella Dallas share any crew members or production staff? {'entities': [(3, 16, 'movie'), (21, 34, 'movie')]}\n",
      "Missing name label\n"
     ]
    },
    {
     "data": {
      "text/html": [
       "<span class=\"tex2jax_ignore\"><div class=\"entities\" style=\"line-height: 2.5; direction: ltr\">Which \n",
       "<mark class=\"entity\" style=\"background: #ddd; padding: 0.45em 0.6em; margin: 0 0.25em; line-height: 1; border-radius: 0.35em;\">\n",
       "    participant\n",
       "    <span style=\"font-size: 0.8em; font-weight: bold; line-height: 1; border-radius: 0.35em; vertical-align: middle; margin-left: 0.5rem\">role</span>\n",
       "</mark>\n",
       " or \n",
       "<mark class=\"entity\" style=\"background: #ddd; padding: 0.45em 0.6em; margin: 0 0.25em; line-height: 1; border-radius: 0.35em;\">\n",
       "    member of the crew of\n",
       "    <span style=\"font-size: 0.8em; font-weight: bold; line-height: 1; border-radius: 0.35em; vertical-align: middle; margin-left: 0.5rem\">role</span>\n",
       "</mark>\n",
       " contributed to the soundtracks of both \n",
       "<mark class=\"entity\" style=\"background: #ddd; padding: 0.45em 0.6em; margin: 0 0.25em; line-height: 1; border-radius: 0.35em;\">\n",
       "    Jay\n",
       "    <span style=\"font-size: 0.8em; font-weight: bold; line-height: 1; border-radius: 0.35em; vertical-align: middle; margin-left: 0.5rem\">movie</span>\n",
       "</mark>\n",
       " and Silent Bob Reboot and \n",
       "<mark class=\"entity\" style=\"background: #ddd; padding: 0.45em 0.6em; margin: 0 0.25em; line-height: 1; border-radius: 0.35em;\">\n",
       "    One Missed Call 2\n",
       "    <span style=\"font-size: 0.8em; font-weight: bold; line-height: 1; border-radius: 0.35em; vertical-align: middle; margin-left: 0.5rem\">movie</span>\n",
       "</mark>\n",
       "?</div></span>"
      ],
      "text/plain": [
       "<IPython.core.display.HTML object>"
      ]
     },
     "metadata": {},
     "output_type": "display_data"
    },
    {
     "name": "stdout",
     "output_type": "stream",
     "text": [
      "Which participant or member of the crew of contributed to the soundtracks of both Jay and Silent Bob Reboot and One Missed Call 2? {'entities': [(6, 17, 'role'), (21, 42, 'role'), (82, 107, 'movie'), (112, 129, 'movie')]}\n",
      "Missing movie label\n"
     ]
    },
    {
     "data": {
      "text/html": [
       "<span class=\"tex2jax_ignore\"><div class=\"entities\" style=\"line-height: 2.5; direction: ltr\">Are there any common themes or genres between \n",
       "<mark class=\"entity\" style=\"background: #ddd; padding: 0.45em 0.6em; margin: 0 0.25em; line-height: 1; border-radius: 0.35em;\">\n",
       "    Love\n",
       "    <span style=\"font-size: 0.8em; font-weight: bold; line-height: 1; border-radius: 0.35em; vertical-align: middle; margin-left: 0.5rem\">movie</span>\n",
       "</mark>\n",
       " and Death on Long Island and \n",
       "<mark class=\"entity\" style=\"background: #ddd; padding: 0.45em 0.6em; margin: 0 0.25em; line-height: 1; border-radius: 0.35em;\">\n",
       "    The Fan\n",
       "    <span style=\"font-size: 0.8em; font-weight: bold; line-height: 1; border-radius: 0.35em; vertical-align: middle; margin-left: 0.5rem\">movie</span>\n",
       "</mark>\n",
       "?</div></span>"
      ],
      "text/plain": [
       "<IPython.core.display.HTML object>"
      ]
     },
     "metadata": {},
     "output_type": "display_data"
    },
    {
     "name": "stdout",
     "output_type": "stream",
     "text": [
      "Are there any common themes or genres between Love and Death on Long Island and The Fan? {'entities': [(46, 75, 'movie'), (80, 87, 'movie'), (31, 36, 'predicate')]}\n",
      "Missing movie label\n"
     ]
    },
    {
     "data": {
      "text/html": [
       "<span class=\"tex2jax_ignore\"><div class=\"entities\" style=\"line-height: 2.5; direction: ltr\">Are there any common themes or genres between \n",
       "<mark class=\"entity\" style=\"background: #ddd; padding: 0.45em 0.6em; margin: 0 0.25em; line-height: 1; border-radius: 0.35em;\">\n",
       "    Totally True Love\n",
       "    <span style=\"font-size: 0.8em; font-weight: bold; line-height: 1; border-radius: 0.35em; vertical-align: middle; margin-left: 0.5rem\">movie</span>\n",
       "</mark>\n",
       " and Raging Sun, \n",
       "<mark class=\"entity\" style=\"background: #ddd; padding: 0.45em 0.6em; margin: 0 0.25em; line-height: 1; border-radius: 0.35em;\">\n",
       "    Raging Sky\n",
       "    <span style=\"font-size: 0.8em; font-weight: bold; line-height: 1; border-radius: 0.35em; vertical-align: middle; margin-left: 0.5rem\">movie</span>\n",
       "</mark>\n",
       "?</div></span>"
      ],
      "text/plain": [
       "<IPython.core.display.HTML object>"
      ]
     },
     "metadata": {},
     "output_type": "display_data"
    },
    {
     "name": "stdout",
     "output_type": "stream",
     "text": [
      "Are there any common themes or genres between Totally True Love and Raging Sun, Raging Sky? {'entities': [(46, 63, 'movie'), (68, 90, 'movie'), (31, 36, 'predicate')]}\n",
      "Missing movie label\n"
     ]
    },
    {
     "data": {
      "text/html": [
       "<span class=\"tex2jax_ignore\"><div class=\"entities\" style=\"line-height: 2.5; direction: ltr\">Do \n",
       "<mark class=\"entity\" style=\"background: #ddd; padding: 0.45em 0.6em; margin: 0 0.25em; line-height: 1; border-radius: 0.35em;\">\n",
       "    Tucker Albrizzi\n",
       "    <span style=\"font-size: 0.8em; font-weight: bold; line-height: 1; border-radius: 0.35em; vertical-align: middle; margin-left: 0.5rem\">movie</span>\n",
       "</mark>\n",
       " and \n",
       "<mark class=\"entity\" style=\"background: #ddd; padding: 0.45em 0.6em; margin: 0 0.25em; line-height: 1; border-radius: 0.35em;\">\n",
       "    Surely Alvelo\n",
       "    <span style=\"font-size: 0.8em; font-weight: bold; line-height: 1; border-radius: 0.35em; vertical-align: middle; margin-left: 0.5rem\">movie</span>\n",
       "</mark>\n",
       " share the screen in any movies?</div></span>"
      ],
      "text/plain": [
       "<IPython.core.display.HTML object>"
      ]
     },
     "metadata": {},
     "output_type": "display_data"
    },
    {
     "name": "stdout",
     "output_type": "stream",
     "text": [
      "Do Tucker Albrizzi and Surely Alvelo share the screen in any movies? {'entities': [(3, 18, 'name'), (23, 36, 'name')]}\n",
      "Missing movie label\n"
     ]
    },
    {
     "data": {
      "text/html": [
       "<span class=\"tex2jax_ignore\"><div class=\"entities\" style=\"line-height: 2.5; direction: ltr\">Do \n",
       "<mark class=\"entity\" style=\"background: #ddd; padding: 0.45em 0.6em; margin: 0 0.25em; line-height: 1; border-radius: 0.35em;\">\n",
       "    Tucker Albrizzi\n",
       "    <span style=\"font-size: 0.8em; font-weight: bold; line-height: 1; border-radius: 0.35em; vertical-align: middle; margin-left: 0.5rem\">movie</span>\n",
       "</mark>\n",
       " and \n",
       "<mark class=\"entity\" style=\"background: #ddd; padding: 0.45em 0.6em; margin: 0 0.25em; line-height: 1; border-radius: 0.35em;\">\n",
       "    Surely Alvelo\n",
       "    <span style=\"font-size: 0.8em; font-weight: bold; line-height: 1; border-radius: 0.35em; vertical-align: middle; margin-left: 0.5rem\">movie</span>\n",
       "</mark>\n",
       " share the screen in any movies?</div></span>"
      ],
      "text/plain": [
       "<IPython.core.display.HTML object>"
      ]
     },
     "metadata": {},
     "output_type": "display_data"
    },
    {
     "name": "stdout",
     "output_type": "stream",
     "text": [
      "Do Tucker Albrizzi and Surely Alvelo share the screen in any movies? {'entities': [(3, 18, 'name'), (23, 36, 'name')]}\n",
      "Missing movie label\n"
     ]
    },
    {
     "data": {
      "text/html": [
       "<span class=\"tex2jax_ignore\"><div class=\"entities\" style=\"line-height: 2.5; direction: ltr\">Are there any notable collaborations between \n",
       "<mark class=\"entity\" style=\"background: #ddd; padding: 0.45em 0.6em; margin: 0 0.25em; line-height: 1; border-radius: 0.35em;\">\n",
       "    Anna May Wong\n",
       "    <span style=\"font-size: 0.8em; font-weight: bold; line-height: 1; border-radius: 0.35em; vertical-align: middle; margin-left: 0.5rem\">name</span>\n",
       "</mark>\n",
       ", \n",
       "<mark class=\"entity\" style=\"background: #ddd; padding: 0.45em 0.6em; margin: 0 0.25em; line-height: 1; border-radius: 0.35em;\">\n",
       "    Christina Bach\n",
       "    <span style=\"font-size: 0.8em; font-weight: bold; line-height: 1; border-radius: 0.35em; vertical-align: middle; margin-left: 0.5rem\">movie</span>\n",
       "</mark>\n",
       ", and \n",
       "<mark class=\"entity\" style=\"background: #ddd; padding: 0.45em 0.6em; margin: 0 0.25em; line-height: 1; border-radius: 0.35em;\">\n",
       "    Robert Anderson\n",
       "    <span style=\"font-size: 0.8em; font-weight: bold; line-height: 1; border-radius: 0.35em; vertical-align: middle; margin-left: 0.5rem\">name</span>\n",
       "</mark>\n",
       " in the film industry?</div></span>"
      ],
      "text/plain": [
       "<IPython.core.display.HTML object>"
      ]
     },
     "metadata": {},
     "output_type": "display_data"
    },
    {
     "name": "stdout",
     "output_type": "stream",
     "text": [
      "Are there any notable collaborations between Anna May Wong, Christina Bach, and Robert Anderson in the film industry? {'entities': [(45, 58, 'name'), (60, 74, 'name'), (80, 95, 'name')]}\n",
      "Missing movie label\n"
     ]
    },
    {
     "data": {
      "text/html": [
       "<span class=\"tex2jax_ignore\"><div class=\"entities\" style=\"line-height: 2.5; direction: ltr\">Are there any notable collaborations between \n",
       "<mark class=\"entity\" style=\"background: #ddd; padding: 0.45em 0.6em; margin: 0 0.25em; line-height: 1; border-radius: 0.35em;\">\n",
       "    Trine Sick\n",
       "    <span style=\"font-size: 0.8em; font-weight: bold; line-height: 1; border-radius: 0.35em; vertical-align: middle; margin-left: 0.5rem\">name</span>\n",
       "</mark>\n",
       ", \n",
       "<mark class=\"entity\" style=\"background: #ddd; padding: 0.45em 0.6em; margin: 0 0.25em; line-height: 1; border-radius: 0.35em;\">\n",
       "    Ben Van Os\n",
       "    <span style=\"font-size: 0.8em; font-weight: bold; line-height: 1; border-radius: 0.35em; vertical-align: middle; margin-left: 0.5rem\">movie</span>\n",
       "</mark>\n",
       ", and \n",
       "<mark class=\"entity\" style=\"background: #ddd; padding: 0.45em 0.6em; margin: 0 0.25em; line-height: 1; border-radius: 0.35em;\">\n",
       "    Linda Laursen\n",
       "    <span style=\"font-size: 0.8em; font-weight: bold; line-height: 1; border-radius: 0.35em; vertical-align: middle; margin-left: 0.5rem\">name</span>\n",
       "</mark>\n",
       " in the film industry?</div></span>"
      ],
      "text/plain": [
       "<IPython.core.display.HTML object>"
      ]
     },
     "metadata": {},
     "output_type": "display_data"
    },
    {
     "name": "stdout",
     "output_type": "stream",
     "text": [
      "Are there any notable collaborations between Trine Sick, Ben Van Os, and Linda Laursen in the film industry? {'entities': [(45, 55, 'name'), (57, 67, 'name'), (73, 86, 'name')]}\n",
      "Missing movie label\n"
     ]
    },
    {
     "data": {
      "text/html": [
       "<span class=\"tex2jax_ignore\"><div class=\"entities\" style=\"line-height: 2.5; direction: ltr\">Are there any common filming locations between \n",
       "<mark class=\"entity\" style=\"background: #ddd; padding: 0.45em 0.6em; margin: 0 0.25em; line-height: 1; border-radius: 0.35em;\">\n",
       "    Get Smart's Bruce and\n",
       "    <span style=\"font-size: 0.8em; font-weight: bold; line-height: 1; border-radius: 0.35em; vertical-align: middle; margin-left: 0.5rem\">movie</span>\n",
       "</mark>\n",
       " \n",
       "<mark class=\"entity\" style=\"background: #ddd; padding: 0.45em 0.6em; margin: 0 0.25em; line-height: 1; border-radius: 0.35em;\">\n",
       "    Lloyd: Out of Control\n",
       "    <span style=\"font-size: 0.8em; font-weight: bold; line-height: 1; border-radius: 0.35em; vertical-align: middle; margin-left: 0.5rem\">movie</span>\n",
       "</mark>\n",
       " and \n",
       "<mark class=\"entity\" style=\"background: #ddd; padding: 0.45em 0.6em; margin: 0 0.25em; line-height: 1; border-radius: 0.35em;\">\n",
       "    My New Partner III\n",
       "    <span style=\"font-size: 0.8em; font-weight: bold; line-height: 1; border-radius: 0.35em; vertical-align: middle; margin-left: 0.5rem\">movie</span>\n",
       "</mark>\n",
       "?</div></span>"
      ],
      "text/plain": [
       "<IPython.core.display.HTML object>"
      ]
     },
     "metadata": {},
     "output_type": "display_data"
    },
    {
     "name": "stdout",
     "output_type": "stream",
     "text": [
      "Are there any common filming locations between Get Smart's Bruce and Lloyd: Out of Control and My New Partner III? {'entities': [(47, 90, 'movie'), (95, 113, 'movie')]}\n",
      "Missing movie label\n"
     ]
    },
    {
     "data": {
      "text/html": [
       "<span class=\"tex2jax_ignore\"><div class=\"entities\" style=\"line-height: 2.5; direction: ltr\">Are there any common filming locations between \n",
       "<mark class=\"entity\" style=\"background: #ddd; padding: 0.45em 0.6em; margin: 0 0.25em; line-height: 1; border-radius: 0.35em;\">\n",
       "    Get Smart's Bruce and\n",
       "    <span style=\"font-size: 0.8em; font-weight: bold; line-height: 1; border-radius: 0.35em; vertical-align: middle; margin-left: 0.5rem\">movie</span>\n",
       "</mark>\n",
       " \n",
       "<mark class=\"entity\" style=\"background: #ddd; padding: 0.45em 0.6em; margin: 0 0.25em; line-height: 1; border-radius: 0.35em;\">\n",
       "    Lloyd: Out of Control\n",
       "    <span style=\"font-size: 0.8em; font-weight: bold; line-height: 1; border-radius: 0.35em; vertical-align: middle; margin-left: 0.5rem\">movie</span>\n",
       "</mark>\n",
       " and \n",
       "<mark class=\"entity\" style=\"background: #ddd; padding: 0.45em 0.6em; margin: 0 0.25em; line-height: 1; border-radius: 0.35em;\">\n",
       "    My New Partner III\n",
       "    <span style=\"font-size: 0.8em; font-weight: bold; line-height: 1; border-radius: 0.35em; vertical-align: middle; margin-left: 0.5rem\">movie</span>\n",
       "</mark>\n",
       "?</div></span>"
      ],
      "text/plain": [
       "<IPython.core.display.HTML object>"
      ]
     },
     "metadata": {},
     "output_type": "display_data"
    },
    {
     "name": "stdout",
     "output_type": "stream",
     "text": [
      "Are there any common filming locations between Get Smart's Bruce and Lloyd: Out of Control and My New Partner III? {'entities': [(47, 90, 'movie'), (95, 113, 'movie')]}\n",
      "Missing movie label\n"
     ]
    },
    {
     "data": {
      "text/html": [
       "<span class=\"tex2jax_ignore\"><div class=\"entities\" style=\"line-height: 2.5; direction: ltr\">Can you list all the movies starring \n",
       "<mark class=\"entity\" style=\"background: #ddd; padding: 0.45em 0.6em; margin: 0 0.25em; line-height: 1; border-radius: 0.35em;\">\n",
       "    Stephen Nichols\n",
       "    <span style=\"font-size: 0.8em; font-weight: bold; line-height: 1; border-radius: 0.35em; vertical-align: middle; margin-left: 0.5rem\">name</span>\n",
       "</mark>\n",
       ", \n",
       "<mark class=\"entity\" style=\"background: #ddd; padding: 0.45em 0.6em; margin: 0 0.25em; line-height: 1; border-radius: 0.35em;\">\n",
       "    Malou Airaudo\n",
       "    <span style=\"font-size: 0.8em; font-weight: bold; line-height: 1; border-radius: 0.35em; vertical-align: middle; margin-left: 0.5rem\">name</span>\n",
       "</mark>\n",
       ", and \n",
       "<mark class=\"entity\" style=\"background: #ddd; padding: 0.45em 0.6em; margin: 0 0.25em; line-height: 1; border-radius: 0.35em;\">\n",
       "    Emidio La Vella\n",
       "    <span style=\"font-size: 0.8em; font-weight: bold; line-height: 1; border-radius: 0.35em; vertical-align: middle; margin-left: 0.5rem\">movie</span>\n",
       "</mark>\n",
       "?</div></span>"
      ],
      "text/plain": [
       "<IPython.core.display.HTML object>"
      ]
     },
     "metadata": {},
     "output_type": "display_data"
    },
    {
     "name": "stdout",
     "output_type": "stream",
     "text": [
      "Can you list all the movies starring Stephen Nichols, Malou Airaudo, and Emidio La Vella? {'entities': [(37, 52, 'name'), (54, 67, 'name'), (73, 88, 'name')]}\n",
      "Missing movie label\n"
     ]
    },
    {
     "data": {
      "text/html": [
       "<span class=\"tex2jax_ignore\"><div class=\"entities\" style=\"line-height: 2.5; direction: ltr\">Do \n",
       "<mark class=\"entity\" style=\"background: #ddd; padding: 0.45em 0.6em; margin: 0 0.25em; line-height: 1; border-radius: 0.35em;\">\n",
       "    Carmina or blow up\n",
       "    <span style=\"font-size: 0.8em; font-weight: bold; line-height: 1; border-radius: 0.35em; vertical-align: middle; margin-left: 0.5rem\">name</span>\n",
       "</mark>\n",
       " and \n",
       "<mark class=\"entity\" style=\"background: #ddd; padding: 0.45em 0.6em; margin: 0 0.25em; line-height: 1; border-radius: 0.35em;\">\n",
       "    Legend\n",
       "    <span style=\"font-size: 0.8em; font-weight: bold; line-height: 1; border-radius: 0.35em; vertical-align: middle; margin-left: 0.5rem\">movie</span>\n",
       "</mark>\n",
       " share any crew members or production staff?</div></span>"
      ],
      "text/plain": [
       "<IPython.core.display.HTML object>"
      ]
     },
     "metadata": {},
     "output_type": "display_data"
    },
    {
     "name": "stdout",
     "output_type": "stream",
     "text": [
      "Do Carmina or blow up and Legend share any crew members or production staff? {'entities': [(3, 21, 'movie'), (26, 32, 'movie')]}\n",
      "Missing name label\n"
     ]
    },
    {
     "data": {
      "text/html": [
       "<span class=\"tex2jax_ignore\"><div class=\"entities\" style=\"line-height: 2.5; direction: ltr\">Which actors appeared in both \n",
       "<mark class=\"entity\" style=\"background: #ddd; padding: 0.45em 0.6em; margin: 0 0.25em; line-height: 1; border-radius: 0.35em;\">\n",
       "    En construcción\n",
       "    <span style=\"font-size: 0.8em; font-weight: bold; line-height: 1; border-radius: 0.35em; vertical-align: middle; margin-left: 0.5rem\">movie</span>\n",
       "</mark>\n",
       " and \n",
       "<mark class=\"entity\" style=\"background: #ddd; padding: 0.45em 0.6em; margin: 0 0.25em; line-height: 1; border-radius: 0.35em;\">\n",
       "    Neandertal\n",
       "    <span style=\"font-size: 0.8em; font-weight: bold; line-height: 1; border-radius: 0.35em; vertical-align: middle; margin-left: 0.5rem\">genre</span>\n",
       "</mark>\n",
       "?</div></span>"
      ],
      "text/plain": [
       "<IPython.core.display.HTML object>"
      ]
     },
     "metadata": {},
     "output_type": "display_data"
    },
    {
     "name": "stdout",
     "output_type": "stream",
     "text": [
      "Which actors appeared in both En construcción and Neandertal? {'entities': [(30, 45, 'movie'), (50, 60, 'movie')]}\n",
      "Missing genre label\n"
     ]
    },
    {
     "data": {
      "text/html": [
       "<span class=\"tex2jax_ignore\"><div class=\"entities\" style=\"line-height: 2.5; direction: ltr\">Are there any notable collaborations between \n",
       "<mark class=\"entity\" style=\"background: #ddd; padding: 0.45em 0.6em; margin: 0 0.25em; line-height: 1; border-radius: 0.35em;\">\n",
       "    Anne Sofie von Otter\n",
       "    <span style=\"font-size: 0.8em; font-weight: bold; line-height: 1; border-radius: 0.35em; vertical-align: middle; margin-left: 0.5rem\">name</span>\n",
       "</mark>\n",
       ", \n",
       "<mark class=\"entity\" style=\"background: #ddd; padding: 0.45em 0.6em; margin: 0 0.25em; line-height: 1; border-radius: 0.35em;\">\n",
       "    Rodney Carrington\n",
       "    <span style=\"font-size: 0.8em; font-weight: bold; line-height: 1; border-radius: 0.35em; vertical-align: middle; margin-left: 0.5rem\">movie</span>\n",
       "</mark>\n",
       ", and \n",
       "<mark class=\"entity\" style=\"background: #ddd; padding: 0.45em 0.6em; margin: 0 0.25em; line-height: 1; border-radius: 0.35em;\">\n",
       "    Jerry Leung\n",
       "    <span style=\"font-size: 0.8em; font-weight: bold; line-height: 1; border-radius: 0.35em; vertical-align: middle; margin-left: 0.5rem\">name</span>\n",
       "</mark>\n",
       " in the film industry?</div></span>"
      ],
      "text/plain": [
       "<IPython.core.display.HTML object>"
      ]
     },
     "metadata": {},
     "output_type": "display_data"
    },
    {
     "name": "stdout",
     "output_type": "stream",
     "text": [
      "Are there any notable collaborations between Anne Sofie von Otter, Rodney Carrington, and Jerry Leung in the film industry? {'entities': [(45, 65, 'name'), (67, 84, 'name'), (90, 101, 'name')]}\n",
      "Missing movie label\n"
     ]
    },
    {
     "data": {
      "text/html": [
       "<span class=\"tex2jax_ignore\"><div class=\"entities\" style=\"line-height: 2.5; direction: ltr\">Which actors from \n",
       "<mark class=\"entity\" style=\"background: #ddd; padding: 0.45em 0.6em; margin: 0 0.25em; line-height: 1; border-radius: 0.35em;\">\n",
       "    The Snake Pit and\n",
       "    <span style=\"font-size: 0.8em; font-weight: bold; line-height: 1; border-radius: 0.35em; vertical-align: middle; margin-left: 0.5rem\">movie</span>\n",
       "</mark>\n",
       " Kiss Me, \n",
       "<mark class=\"entity\" style=\"background: #ddd; padding: 0.45em 0.6em; margin: 0 0.25em; line-height: 1; border-radius: 0.35em;\">\n",
       "    Guido\n",
       "    <span style=\"font-size: 0.8em; font-weight: bold; line-height: 1; border-radius: 0.35em; vertical-align: middle; margin-left: 0.5rem\">movie</span>\n",
       "</mark>\n",
       " have collaborated in other films?</div></span>"
      ],
      "text/plain": [
       "<IPython.core.display.HTML object>"
      ]
     },
     "metadata": {},
     "output_type": "display_data"
    },
    {
     "name": "stdout",
     "output_type": "stream",
     "text": [
      "Which actors from The Snake Pit and Kiss Me, Guido have collaborated in other films? {'entities': [(18, 31, 'movie'), (36, 50, 'movie'), (63, 68, 'predicate')]}\n",
      "Missing movie label\n"
     ]
    },
    {
     "data": {
      "text/html": [
       "<span class=\"tex2jax_ignore\"><div class=\"entities\" style=\"line-height: 2.5; direction: ltr\">Which actors from \n",
       "<mark class=\"entity\" style=\"background: #ddd; padding: 0.45em 0.6em; margin: 0 0.25em; line-height: 1; border-radius: 0.35em;\">\n",
       "    The Snake Pit and\n",
       "    <span style=\"font-size: 0.8em; font-weight: bold; line-height: 1; border-radius: 0.35em; vertical-align: middle; margin-left: 0.5rem\">movie</span>\n",
       "</mark>\n",
       " Kiss Me, \n",
       "<mark class=\"entity\" style=\"background: #ddd; padding: 0.45em 0.6em; margin: 0 0.25em; line-height: 1; border-radius: 0.35em;\">\n",
       "    Guido\n",
       "    <span style=\"font-size: 0.8em; font-weight: bold; line-height: 1; border-radius: 0.35em; vertical-align: middle; margin-left: 0.5rem\">movie</span>\n",
       "</mark>\n",
       " have collaborated in other films?</div></span>"
      ],
      "text/plain": [
       "<IPython.core.display.HTML object>"
      ]
     },
     "metadata": {},
     "output_type": "display_data"
    },
    {
     "name": "stdout",
     "output_type": "stream",
     "text": [
      "Which actors from The Snake Pit and Kiss Me, Guido have collaborated in other films? {'entities': [(18, 31, 'movie'), (36, 50, 'movie'), (63, 68, 'predicate')]}\n",
      "Missing movie label\n"
     ]
    },
    {
     "data": {
      "text/html": [
       "<span class=\"tex2jax_ignore\"><div class=\"entities\" style=\"line-height: 2.5; direction: ltr\">Do \n",
       "<mark class=\"entity\" style=\"background: #ddd; padding: 0.45em 0.6em; margin: 0 0.25em; line-height: 1; border-radius: 0.35em;\">\n",
       "    Spencer Treat Clark\n",
       "    <span style=\"font-size: 0.8em; font-weight: bold; line-height: 1; border-radius: 0.35em; vertical-align: middle; margin-left: 0.5rem\">movie</span>\n",
       "</mark>\n",
       " and \n",
       "<mark class=\"entity\" style=\"background: #ddd; padding: 0.45em 0.6em; margin: 0 0.25em; line-height: 1; border-radius: 0.35em;\">\n",
       "    Catrine Beck\n",
       "    <span style=\"font-size: 0.8em; font-weight: bold; line-height: 1; border-radius: 0.35em; vertical-align: middle; margin-left: 0.5rem\">name</span>\n",
       "</mark>\n",
       " appear in \n",
       "<mark class=\"entity\" style=\"background: #ddd; padding: 0.45em 0.6em; margin: 0 0.25em; line-height: 1; border-radius: 0.35em;\">\n",
       "    Aashiqui\n",
       "    <span style=\"font-size: 0.8em; font-weight: bold; line-height: 1; border-radius: 0.35em; vertical-align: middle; margin-left: 0.5rem\">movie</span>\n",
       "</mark>\n",
       "</div></span>"
      ],
      "text/plain": [
       "<IPython.core.display.HTML object>"
      ]
     },
     "metadata": {},
     "output_type": "display_data"
    },
    {
     "name": "stdout",
     "output_type": "stream",
     "text": [
      "Do Spencer Treat Clark and Catrine Beck appear in Aashiqui {'entities': [(3, 22, 'name'), (27, 39, 'name'), (50, 58, 'movie')]}\n",
      "Missing movie label\n"
     ]
    },
    {
     "data": {
      "text/html": [
       "<span class=\"tex2jax_ignore\"><div class=\"entities\" style=\"line-height: 2.5; direction: ltr\">Can you list all the movies starring \n",
       "<mark class=\"entity\" style=\"background: #ddd; padding: 0.45em 0.6em; margin: 0 0.25em; line-height: 1; border-radius: 0.35em;\">\n",
       "    Calum McNab\n",
       "    <span style=\"font-size: 0.8em; font-weight: bold; line-height: 1; border-radius: 0.35em; vertical-align: middle; margin-left: 0.5rem\">name</span>\n",
       "</mark>\n",
       ", \n",
       "<mark class=\"entity\" style=\"background: #ddd; padding: 0.45em 0.6em; margin: 0 0.25em; line-height: 1; border-radius: 0.35em;\">\n",
       "    Zoltán Rátóti\n",
       "    <span style=\"font-size: 0.8em; font-weight: bold; line-height: 1; border-radius: 0.35em; vertical-align: middle; margin-left: 0.5rem\">name</span>\n",
       "</mark>\n",
       ", and \n",
       "<mark class=\"entity\" style=\"background: #ddd; padding: 0.45em 0.6em; margin: 0 0.25em; line-height: 1; border-radius: 0.35em;\">\n",
       "    Willis Burks II\n",
       "    <span style=\"font-size: 0.8em; font-weight: bold; line-height: 1; border-radius: 0.35em; vertical-align: middle; margin-left: 0.5rem\">movie</span>\n",
       "</mark>\n",
       "?</div></span>"
      ],
      "text/plain": [
       "<IPython.core.display.HTML object>"
      ]
     },
     "metadata": {},
     "output_type": "display_data"
    },
    {
     "name": "stdout",
     "output_type": "stream",
     "text": [
      "Can you list all the movies starring Calum McNab, Zoltán Rátóti, and Willis Burks II? {'entities': [(37, 48, 'name'), (50, 63, 'name'), (69, 84, 'name')]}\n",
      "Missing movie label\n"
     ]
    },
    {
     "data": {
      "text/html": [
       "<span class=\"tex2jax_ignore\"><div class=\"entities\" style=\"line-height: 2.5; direction: ltr\">Do \n",
       "<mark class=\"entity\" style=\"background: #ddd; padding: 0.45em 0.6em; margin: 0 0.25em; line-height: 1; border-radius: 0.35em;\">\n",
       "    Chantal De Freitas\n",
       "    <span style=\"font-size: 0.8em; font-weight: bold; line-height: 1; border-radius: 0.35em; vertical-align: middle; margin-left: 0.5rem\">name</span>\n",
       "</mark>\n",
       " and \n",
       "<mark class=\"entity\" style=\"background: #ddd; padding: 0.45em 0.6em; margin: 0 0.25em; line-height: 1; border-radius: 0.35em;\">\n",
       "    Frank Yablans\n",
       "    <span style=\"font-size: 0.8em; font-weight: bold; line-height: 1; border-radius: 0.35em; vertical-align: middle; margin-left: 0.5rem\">name</span>\n",
       "</mark>\n",
       " appear in \n",
       "<mark class=\"entity\" style=\"background: #ddd; padding: 0.45em 0.6em; margin: 0 0.25em; line-height: 1; border-radius: 0.35em;\">\n",
       "    Qu'est-ce qu'on a fait au Bon Dieu\n",
       "    <span style=\"font-size: 0.8em; font-weight: bold; line-height: 1; border-radius: 0.35em; vertical-align: middle; margin-left: 0.5rem\">movie</span>\n",
       "</mark>\n",
       "?</div></span>"
      ],
      "text/plain": [
       "<IPython.core.display.HTML object>"
      ]
     },
     "metadata": {},
     "output_type": "display_data"
    },
    {
     "name": "stdout",
     "output_type": "stream",
     "text": [
      "Do Chantal De Freitas and Frank Yablans appear in Qu'est-ce qu'on a fait au Bon Dieu? {'entities': [(3, 21, 'name'), (26, 39, 'name'), (50, 85, 'movie')]}\n",
      "Missing movie label\n"
     ]
    },
    {
     "data": {
      "text/html": [
       "<span class=\"tex2jax_ignore\"><div class=\"entities\" style=\"line-height: 2.5; direction: ltr\">Which \n",
       "<mark class=\"entity\" style=\"background: #ddd; padding: 0.45em 0.6em; margin: 0 0.25em; line-height: 1; border-radius: 0.35em;\">\n",
       "    operator\n",
       "    <span style=\"font-size: 0.8em; font-weight: bold; line-height: 1; border-radius: 0.35em; vertical-align: middle; margin-left: 0.5rem\">role</span>\n",
       "</mark>\n",
       " or \n",
       "<mark class=\"entity\" style=\"background: #ddd; padding: 0.45em 0.6em; margin: 0 0.25em; line-height: 1; border-radius: 0.35em;\">\n",
       "    director\n",
       "    <span style=\"font-size: 0.8em; font-weight: bold; line-height: 1; border-radius: 0.35em; vertical-align: middle; margin-left: 0.5rem\">role</span>\n",
       "</mark>\n",
       " contributed to the soundtracks of both \n",
       "<mark class=\"entity\" style=\"background: #ddd; padding: 0.45em 0.6em; margin: 0 0.25em; line-height: 1; border-radius: 0.35em;\">\n",
       "    Hirak Rajar Deshe\n",
       "    <span style=\"font-size: 0.8em; font-weight: bold; line-height: 1; border-radius: 0.35em; vertical-align: middle; margin-left: 0.5rem\">movie</span>\n",
       "</mark>\n",
       " and \n",
       "<mark class=\"entity\" style=\"background: #ddd; padding: 0.45em 0.6em; margin: 0 0.25em; line-height: 1; border-radius: 0.35em;\">\n",
       "    Private Lessons\n",
       "    <span style=\"font-size: 0.8em; font-weight: bold; line-height: 1; border-radius: 0.35em; vertical-align: middle; margin-left: 0.5rem\">name</span>\n",
       "</mark>\n",
       "?</div></span>"
      ],
      "text/plain": [
       "<IPython.core.display.HTML object>"
      ]
     },
     "metadata": {},
     "output_type": "display_data"
    },
    {
     "name": "stdout",
     "output_type": "stream",
     "text": [
      "Which operator or director contributed to the soundtracks of both Hirak Rajar Deshe and Private Lessons? {'entities': [(6, 14, 'role'), (18, 26, 'role'), (66, 83, 'movie'), (88, 103, 'movie')]}\n",
      "Missing name label\n"
     ]
    },
    {
     "data": {
      "text/html": [
       "<span class=\"tex2jax_ignore\"><div class=\"entities\" style=\"line-height: 2.5; direction: ltr\">Which \n",
       "<mark class=\"entity\" style=\"background: #ddd; padding: 0.45em 0.6em; margin: 0 0.25em; line-height: 1; border-radius: 0.35em;\">\n",
       "    member of the crew of\n",
       "    <span style=\"font-size: 0.8em; font-weight: bold; line-height: 1; border-radius: 0.35em; vertical-align: middle; margin-left: 0.5rem\">role</span>\n",
       "</mark>\n",
       " or \n",
       "<mark class=\"entity\" style=\"background: #ddd; padding: 0.45em 0.6em; margin: 0 0.25em; line-height: 1; border-radius: 0.35em;\">\n",
       "    film crew member\n",
       "    <span style=\"font-size: 0.8em; font-weight: bold; line-height: 1; border-radius: 0.35em; vertical-align: middle; margin-left: 0.5rem\">role</span>\n",
       "</mark>\n",
       " contributed to the soundtracks of both \n",
       "<mark class=\"entity\" style=\"background: #ddd; padding: 0.45em 0.6em; margin: 0 0.25em; line-height: 1; border-radius: 0.35em;\">\n",
       "    Julie Johnson\n",
       "    <span style=\"font-size: 0.8em; font-weight: bold; line-height: 1; border-radius: 0.35em; vertical-align: middle; margin-left: 0.5rem\">movie</span>\n",
       "</mark>\n",
       " and \n",
       "<mark class=\"entity\" style=\"background: #ddd; padding: 0.45em 0.6em; margin: 0 0.25em; line-height: 1; border-radius: 0.35em;\">\n",
       "    Karthik Calling Karthik\n",
       "    <span style=\"font-size: 0.8em; font-weight: bold; line-height: 1; border-radius: 0.35em; vertical-align: middle; margin-left: 0.5rem\">name</span>\n",
       "</mark>\n",
       "?</div></span>"
      ],
      "text/plain": [
       "<IPython.core.display.HTML object>"
      ]
     },
     "metadata": {},
     "output_type": "display_data"
    },
    {
     "name": "stdout",
     "output_type": "stream",
     "text": [
      "Which member of the crew of or film crew member contributed to the soundtracks of both Julie Johnson and Karthik Calling Karthik? {'entities': [(6, 27, 'role'), (31, 47, 'role'), (87, 100, 'movie'), (105, 128, 'movie')]}\n",
      "Missing name label\n"
     ]
    },
    {
     "data": {
      "text/html": [
       "<span class=\"tex2jax_ignore\"><div class=\"entities\" style=\"line-height: 2.5; direction: ltr\">Can you \n",
       "<mark class=\"entity\" style=\"background: #ddd; padding: 0.45em 0.6em; margin: 0 0.25em; line-height: 1; border-radius: 0.35em;\">\n",
       "    suggest\n",
       "    <span style=\"font-size: 0.8em; font-weight: bold; line-height: 1; border-radius: 0.35em; vertical-align: middle; margin-left: 0.5rem\">predicate</span>\n",
       "</mark>\n",
       " films where the cast includes both \n",
       "<mark class=\"entity\" style=\"background: #ddd; padding: 0.45em 0.6em; margin: 0 0.25em; line-height: 1; border-radius: 0.35em;\">\n",
       "    Kéthévane Davrichewy\n",
       "    <span style=\"font-size: 0.8em; font-weight: bold; line-height: 1; border-radius: 0.35em; vertical-align: middle; margin-left: 0.5rem\">name</span>\n",
       "</mark>\n",
       " and \n",
       "<mark class=\"entity\" style=\"background: #ddd; padding: 0.45em 0.6em; margin: 0 0.25em; line-height: 1; border-radius: 0.35em;\">\n",
       "    Hephaestion\n",
       "    <span style=\"font-size: 0.8em; font-weight: bold; line-height: 1; border-radius: 0.35em; vertical-align: middle; margin-left: 0.5rem\">genre</span>\n",
       "</mark>\n",
       "?</div></span>"
      ],
      "text/plain": [
       "<IPython.core.display.HTML object>"
      ]
     },
     "metadata": {},
     "output_type": "display_data"
    },
    {
     "name": "stdout",
     "output_type": "stream",
     "text": [
      "Can you suggest films where the cast includes both Kéthévane Davrichewy and Hephaestion? {'entities': [(51, 71, 'name'), (76, 87, 'name'), (8, 15, 'predicate')]}\n",
      "Missing genre label\n"
     ]
    },
    {
     "data": {
      "text/html": [
       "<span class=\"tex2jax_ignore\"><div class=\"entities\" style=\"line-height: 2.5; direction: ltr\">Can you list all the movies starring \n",
       "<mark class=\"entity\" style=\"background: #ddd; padding: 0.45em 0.6em; margin: 0 0.25em; line-height: 1; border-radius: 0.35em;\">\n",
       "    Ajay Devgn\n",
       "    <span style=\"font-size: 0.8em; font-weight: bold; line-height: 1; border-radius: 0.35em; vertical-align: middle; margin-left: 0.5rem\">name</span>\n",
       "</mark>\n",
       ", \n",
       "<mark class=\"entity\" style=\"background: #ddd; padding: 0.45em 0.6em; margin: 0 0.25em; line-height: 1; border-radius: 0.35em;\">\n",
       "    Run\n",
       "    <span style=\"font-size: 0.8em; font-weight: bold; line-height: 1; border-radius: 0.35em; vertical-align: middle; margin-left: 0.5rem\">name</span>\n",
       "</mark>\n",
       ", and \n",
       "<mark class=\"entity\" style=\"background: #ddd; padding: 0.45em 0.6em; margin: 0 0.25em; line-height: 1; border-radius: 0.35em;\">\n",
       "    Yūta Hiraoka\n",
       "    <span style=\"font-size: 0.8em; font-weight: bold; line-height: 1; border-radius: 0.35em; vertical-align: middle; margin-left: 0.5rem\">movie</span>\n",
       "</mark>\n",
       "?</div></span>"
      ],
      "text/plain": [
       "<IPython.core.display.HTML object>"
      ]
     },
     "metadata": {},
     "output_type": "display_data"
    },
    {
     "name": "stdout",
     "output_type": "stream",
     "text": [
      "Can you list all the movies starring Ajay Devgn, Run, and Yūta Hiraoka? {'entities': [(37, 47, 'name'), (49, 52, 'name'), (58, 70, 'name')]}\n",
      "Missing movie label\n"
     ]
    },
    {
     "data": {
      "text/html": [
       "<span class=\"tex2jax_ignore\"><div class=\"entities\" style=\"line-height: 2.5; direction: ltr\">Which \n",
       "<mark class=\"entity\" style=\"background: #ddd; padding: 0.45em 0.6em; margin: 0 0.25em; line-height: 1; border-radius: 0.35em;\">\n",
       "    member of the crew of\n",
       "    <span style=\"font-size: 0.8em; font-weight: bold; line-height: 1; border-radius: 0.35em; vertical-align: middle; margin-left: 0.5rem\">role</span>\n",
       "</mark>\n",
       " or \n",
       "<mark class=\"entity\" style=\"background: #ddd; padding: 0.45em 0.6em; margin: 0 0.25em; line-height: 1; border-radius: 0.35em;\">\n",
       "    film crew member\n",
       "    <span style=\"font-size: 0.8em; font-weight: bold; line-height: 1; border-radius: 0.35em; vertical-align: middle; margin-left: 0.5rem\">role</span>\n",
       "</mark>\n",
       " contributed to the soundtracks of both \n",
       "<mark class=\"entity\" style=\"background: #ddd; padding: 0.45em 0.6em; margin: 0 0.25em; line-height: 1; border-radius: 0.35em;\">\n",
       "    Jean-Philippe\n",
       "    <span style=\"font-size: 0.8em; font-weight: bold; line-height: 1; border-radius: 0.35em; vertical-align: middle; margin-left: 0.5rem\">movie</span>\n",
       "</mark>\n",
       " and \n",
       "<mark class=\"entity\" style=\"background: #ddd; padding: 0.45em 0.6em; margin: 0 0.25em; line-height: 1; border-radius: 0.35em;\">\n",
       "    Silent Sonata\n",
       "    <span style=\"font-size: 0.8em; font-weight: bold; line-height: 1; border-radius: 0.35em; vertical-align: middle; margin-left: 0.5rem\">name</span>\n",
       "</mark>\n",
       "?</div></span>"
      ],
      "text/plain": [
       "<IPython.core.display.HTML object>"
      ]
     },
     "metadata": {},
     "output_type": "display_data"
    },
    {
     "name": "stdout",
     "output_type": "stream",
     "text": [
      "Which member of the crew of or film crew member contributed to the soundtracks of both Jean-Philippe and Silent Sonata? {'entities': [(6, 27, 'role'), (31, 47, 'role'), (87, 100, 'movie'), (105, 118, 'movie')]}\n",
      "Missing name label\n"
     ]
    },
    {
     "data": {
      "text/html": [
       "<span class=\"tex2jax_ignore\"><div class=\"entities\" style=\"line-height: 2.5; direction: ltr\">Do \n",
       "<mark class=\"entity\" style=\"background: #ddd; padding: 0.45em 0.6em; margin: 0 0.25em; line-height: 1; border-radius: 0.35em;\">\n",
       "    Simone Lykke and Duke Mitchell\n",
       "    <span style=\"font-size: 0.8em; font-weight: bold; line-height: 1; border-radius: 0.35em; vertical-align: middle; margin-left: 0.5rem\">name</span>\n",
       "</mark>\n",
       " appear in \n",
       "<mark class=\"entity\" style=\"background: #ddd; padding: 0.45em 0.6em; margin: 0 0.25em; line-height: 1; border-radius: 0.35em;\">\n",
       "    California Solo\n",
       "    <span style=\"font-size: 0.8em; font-weight: bold; line-height: 1; border-radius: 0.35em; vertical-align: middle; margin-left: 0.5rem\">movie</span>\n",
       "</mark>\n",
       "</div></span>"
      ],
      "text/plain": [
       "<IPython.core.display.HTML object>"
      ]
     },
     "metadata": {},
     "output_type": "display_data"
    },
    {
     "name": "stdout",
     "output_type": "stream",
     "text": [
      "Do Simone Lykke and Duke Mitchell appear in California Solo {'entities': [(3, 15, 'name'), (20, 33, 'name'), (44, 59, 'movie')]}\n",
      "Missing name label\n"
     ]
    },
    {
     "data": {
      "text/html": [
       "<span class=\"tex2jax_ignore\"><div class=\"entities\" style=\"line-height: 2.5; direction: ltr\">I enjoy movies that combine the elements of \n",
       "<mark class=\"entity\" style=\"background: #ddd; padding: 0.45em 0.6em; margin: 0 0.25em; line-height: 1; border-radius: 0.35em;\">\n",
       "    supernatural horror\n",
       "    <span style=\"font-size: 0.8em; font-weight: bold; line-height: 1; border-radius: 0.35em; vertical-align: middle; margin-left: 0.5rem\">genre</span>\n",
       "</mark>\n",
       " and \n",
       "<mark class=\"entity\" style=\"background: #ddd; padding: 0.45em 0.6em; margin: 0 0.25em; line-height: 1; border-radius: 0.35em;\">\n",
       "    horror\n",
       "    <span style=\"font-size: 0.8em; font-weight: bold; line-height: 1; border-radius: 0.35em; vertical-align: middle; margin-left: 0.5rem\">genre</span>\n",
       "</mark>\n",
       ". What are your top picks in this \n",
       "<mark class=\"entity\" style=\"background: #ddd; padding: 0.45em 0.6em; margin: 0 0.25em; line-height: 1; border-radius: 0.35em;\">\n",
       "    category\n",
       "    <span style=\"font-size: 0.8em; font-weight: bold; line-height: 1; border-radius: 0.35em; vertical-align: middle; margin-left: 0.5rem\">predicate</span>\n",
       "</mark>\n",
       "?</div></span>"
      ],
      "text/plain": [
       "<IPython.core.display.HTML object>"
      ]
     },
     "metadata": {},
     "output_type": "display_data"
    },
    {
     "name": "stdout",
     "output_type": "stream",
     "text": [
      "I enjoy movies that combine the elements of supernatural horror and horror. What are your top picks in this category? {'entities': [(44, 63, 'genre'), (57, 63, 'genre'), (108, 116, 'predicate')]}\n",
      "Missing genre label\n"
     ]
    },
    {
     "data": {
      "text/html": [
       "<span class=\"tex2jax_ignore\"><div class=\"entities\" style=\"line-height: 2.5; direction: ltr\">Which actors appeared in both \n",
       "<mark class=\"entity\" style=\"background: #ddd; padding: 0.45em 0.6em; margin: 0 0.25em; line-height: 1; border-radius: 0.35em;\">\n",
       "    No Retreat\n",
       "    <span style=\"font-size: 0.8em; font-weight: bold; line-height: 1; border-radius: 0.35em; vertical-align: middle; margin-left: 0.5rem\">movie</span>\n",
       "</mark>\n",
       ", No Surrender 2 and \n",
       "<mark class=\"entity\" style=\"background: #ddd; padding: 0.45em 0.6em; margin: 0 0.25em; line-height: 1; border-radius: 0.35em;\">\n",
       "    It's Your Turn, Honey!\n",
       "    <span style=\"font-size: 0.8em; font-weight: bold; line-height: 1; border-radius: 0.35em; vertical-align: middle; margin-left: 0.5rem\">movie</span>\n",
       "</mark>\n",
       "?</div></span>"
      ],
      "text/plain": [
       "<IPython.core.display.HTML object>"
      ]
     },
     "metadata": {},
     "output_type": "display_data"
    },
    {
     "name": "stdout",
     "output_type": "stream",
     "text": [
      "Which actors appeared in both No Retreat, No Surrender 2 and It's Your Turn, Honey!? {'entities': [(30, 56, 'movie'), (61, 83, 'movie')]}\n",
      "Missing movie label\n"
     ]
    },
    {
     "data": {
      "text/html": [
       "<span class=\"tex2jax_ignore\"><div class=\"entities\" style=\"line-height: 2.5; direction: ltr\">Are there any notable collaborations between \n",
       "<mark class=\"entity\" style=\"background: #ddd; padding: 0.45em 0.6em; margin: 0 0.25em; line-height: 1; border-radius: 0.35em;\">\n",
       "    Crystle Lightning\n",
       "    <span style=\"font-size: 0.8em; font-weight: bold; line-height: 1; border-radius: 0.35em; vertical-align: middle; margin-left: 0.5rem\">name</span>\n",
       "</mark>\n",
       ", \n",
       "<mark class=\"entity\" style=\"background: #ddd; padding: 0.45em 0.6em; margin: 0 0.25em; line-height: 1; border-radius: 0.35em;\">\n",
       "    Al Dempster\n",
       "    <span style=\"font-size: 0.8em; font-weight: bold; line-height: 1; border-radius: 0.35em; vertical-align: middle; margin-left: 0.5rem\">movie</span>\n",
       "</mark>\n",
       ", and \n",
       "<mark class=\"entity\" style=\"background: #ddd; padding: 0.45em 0.6em; margin: 0 0.25em; line-height: 1; border-radius: 0.35em;\">\n",
       "    Gaudeline Sauriol\n",
       "    <span style=\"font-size: 0.8em; font-weight: bold; line-height: 1; border-radius: 0.35em; vertical-align: middle; margin-left: 0.5rem\">name</span>\n",
       "</mark>\n",
       " in the film industry?</div></span>"
      ],
      "text/plain": [
       "<IPython.core.display.HTML object>"
      ]
     },
     "metadata": {},
     "output_type": "display_data"
    },
    {
     "name": "stdout",
     "output_type": "stream",
     "text": [
      "Are there any notable collaborations between Crystle Lightning, Al Dempster, and Gaudeline Sauriol in the film industry? {'entities': [(45, 62, 'name'), (64, 75, 'name'), (81, 98, 'name')]}\n",
      "Missing movie label\n"
     ]
    },
    {
     "data": {
      "text/html": [
       "<span class=\"tex2jax_ignore\"><div class=\"entities\" style=\"line-height: 2.5; direction: ltr\">Do \n",
       "<mark class=\"entity\" style=\"background: #ddd; padding: 0.45em 0.6em; margin: 0 0.25em; line-height: 1; border-radius: 0.35em;\">\n",
       "    Dakota Blue Richards\n",
       "    <span style=\"font-size: 0.8em; font-weight: bold; line-height: 1; border-radius: 0.35em; vertical-align: middle; margin-left: 0.5rem\">movie</span>\n",
       "</mark>\n",
       " and \n",
       "<mark class=\"entity\" style=\"background: #ddd; padding: 0.45em 0.6em; margin: 0 0.25em; line-height: 1; border-radius: 0.35em;\">\n",
       "    Nicholas Oteri\n",
       "    <span style=\"font-size: 0.8em; font-weight: bold; line-height: 1; border-radius: 0.35em; vertical-align: middle; margin-left: 0.5rem\">name</span>\n",
       "</mark>\n",
       " have any projects together?</div></span>"
      ],
      "text/plain": [
       "<IPython.core.display.HTML object>"
      ]
     },
     "metadata": {},
     "output_type": "display_data"
    },
    {
     "name": "stdout",
     "output_type": "stream",
     "text": [
      "Do Dakota Blue Richards and Nicholas Oteri have any projects together? {'entities': [(3, 23, 'name'), (28, 42, 'name')]}\n",
      "Missing movie label\n"
     ]
    },
    {
     "data": {
      "text/html": [
       "<span class=\"tex2jax_ignore\"><div class=\"entities\" style=\"line-height: 2.5; direction: ltr\">Are there any notable connections between \n",
       "<mark class=\"entity\" style=\"background: #ddd; padding: 0.45em 0.6em; margin: 0 0.25em; line-height: 1; border-radius: 0.35em;\">\n",
       "    Boris\n",
       "    <span style=\"font-size: 0.8em; font-weight: bold; line-height: 1; border-radius: 0.35em; vertical-align: middle; margin-left: 0.5rem\">movie</span>\n",
       "</mark>\n",
       " and \n",
       "<mark class=\"entity\" style=\"background: #ddd; padding: 0.45em 0.6em; margin: 0 0.25em; line-height: 1; border-radius: 0.35em;\">\n",
       "    Natasha: The Movie\n",
       "    <span style=\"font-size: 0.8em; font-weight: bold; line-height: 1; border-radius: 0.35em; vertical-align: middle; margin-left: 0.5rem\">movie</span>\n",
       "</mark>\n",
       " and \n",
       "<mark class=\"entity\" style=\"background: #ddd; padding: 0.45em 0.6em; margin: 0 0.25em; line-height: 1; border-radius: 0.35em;\">\n",
       "    Yesterday\n",
       "    <span style=\"font-size: 0.8em; font-weight: bold; line-height: 1; border-radius: 0.35em; vertical-align: middle; margin-left: 0.5rem\">movie</span>\n",
       "</mark>\n",
       " in terms of directors or producers?</div></span>"
      ],
      "text/plain": [
       "<IPython.core.display.HTML object>"
      ]
     },
     "metadata": {},
     "output_type": "display_data"
    },
    {
     "name": "stdout",
     "output_type": "stream",
     "text": [
      "Are there any notable connections between Boris and Natasha: The Movie and Yesterday in terms of directors or producers? {'entities': [(42, 70, 'movie'), (75, 84, 'movie')]}\n",
      "Missing movie label\n"
     ]
    },
    {
     "data": {
      "text/html": [
       "<span class=\"tex2jax_ignore\"><div class=\"entities\" style=\"line-height: 2.5; direction: ltr\">Are there any notable connections between \n",
       "<mark class=\"entity\" style=\"background: #ddd; padding: 0.45em 0.6em; margin: 0 0.25em; line-height: 1; border-radius: 0.35em;\">\n",
       "    Boris\n",
       "    <span style=\"font-size: 0.8em; font-weight: bold; line-height: 1; border-radius: 0.35em; vertical-align: middle; margin-left: 0.5rem\">movie</span>\n",
       "</mark>\n",
       " and \n",
       "<mark class=\"entity\" style=\"background: #ddd; padding: 0.45em 0.6em; margin: 0 0.25em; line-height: 1; border-radius: 0.35em;\">\n",
       "    Natasha: The Movie\n",
       "    <span style=\"font-size: 0.8em; font-weight: bold; line-height: 1; border-radius: 0.35em; vertical-align: middle; margin-left: 0.5rem\">movie</span>\n",
       "</mark>\n",
       " and \n",
       "<mark class=\"entity\" style=\"background: #ddd; padding: 0.45em 0.6em; margin: 0 0.25em; line-height: 1; border-radius: 0.35em;\">\n",
       "    Yesterday\n",
       "    <span style=\"font-size: 0.8em; font-weight: bold; line-height: 1; border-radius: 0.35em; vertical-align: middle; margin-left: 0.5rem\">movie</span>\n",
       "</mark>\n",
       " in terms of directors or producers?</div></span>"
      ],
      "text/plain": [
       "<IPython.core.display.HTML object>"
      ]
     },
     "metadata": {},
     "output_type": "display_data"
    },
    {
     "name": "stdout",
     "output_type": "stream",
     "text": [
      "Are there any notable connections between Boris and Natasha: The Movie and Yesterday in terms of directors or producers? {'entities': [(42, 70, 'movie'), (75, 84, 'movie')]}\n",
      "Missing movie label\n"
     ]
    },
    {
     "data": {
      "text/html": [
       "<span class=\"tex2jax_ignore\"><div class=\"entities\" style=\"line-height: 2.5; direction: ltr\">Do \n",
       "<mark class=\"entity\" style=\"background: #ddd; padding: 0.45em 0.6em; margin: 0 0.25em; line-height: 1; border-radius: 0.35em;\">\n",
       "    Ed &quot;Too Tall&quot; Jones\n",
       "    <span style=\"font-size: 0.8em; font-weight: bold; line-height: 1; border-radius: 0.35em; vertical-align: middle; margin-left: 0.5rem\">movie</span>\n",
       "</mark>\n",
       " and \n",
       "<mark class=\"entity\" style=\"background: #ddd; padding: 0.45em 0.6em; margin: 0 0.25em; line-height: 1; border-radius: 0.35em;\">\n",
       "    Rodrigo Noya\n",
       "    <span style=\"font-size: 0.8em; font-weight: bold; line-height: 1; border-radius: 0.35em; vertical-align: middle; margin-left: 0.5rem\">movie</span>\n",
       "</mark>\n",
       " share the screen in any movies?</div></span>"
      ],
      "text/plain": [
       "<IPython.core.display.HTML object>"
      ]
     },
     "metadata": {},
     "output_type": "display_data"
    },
    {
     "name": "stdout",
     "output_type": "stream",
     "text": [
      "Do Ed \"Too Tall\" Jones and Rodrigo Noya share the screen in any movies? {'entities': [(3, 22, 'name'), (27, 39, 'name')]}\n",
      "Missing movie label\n"
     ]
    },
    {
     "data": {
      "text/html": [
       "<span class=\"tex2jax_ignore\"><div class=\"entities\" style=\"line-height: 2.5; direction: ltr\">Do \n",
       "<mark class=\"entity\" style=\"background: #ddd; padding: 0.45em 0.6em; margin: 0 0.25em; line-height: 1; border-radius: 0.35em;\">\n",
       "    Ed &quot;Too Tall&quot; Jones\n",
       "    <span style=\"font-size: 0.8em; font-weight: bold; line-height: 1; border-radius: 0.35em; vertical-align: middle; margin-left: 0.5rem\">movie</span>\n",
       "</mark>\n",
       " and \n",
       "<mark class=\"entity\" style=\"background: #ddd; padding: 0.45em 0.6em; margin: 0 0.25em; line-height: 1; border-radius: 0.35em;\">\n",
       "    Rodrigo Noya\n",
       "    <span style=\"font-size: 0.8em; font-weight: bold; line-height: 1; border-radius: 0.35em; vertical-align: middle; margin-left: 0.5rem\">movie</span>\n",
       "</mark>\n",
       " share the screen in any movies?</div></span>"
      ],
      "text/plain": [
       "<IPython.core.display.HTML object>"
      ]
     },
     "metadata": {},
     "output_type": "display_data"
    },
    {
     "name": "stdout",
     "output_type": "stream",
     "text": [
      "Do Ed \"Too Tall\" Jones and Rodrigo Noya share the screen in any movies? {'entities': [(3, 22, 'name'), (27, 39, 'name')]}\n",
      "Missing movie label\n"
     ]
    },
    {
     "data": {
      "text/html": [
       "<span class=\"tex2jax_ignore\"><div class=\"entities\" style=\"line-height: 2.5; direction: ltr\">Are there any common filming locations between \n",
       "<mark class=\"entity\" style=\"background: #ddd; padding: 0.45em 0.6em; margin: 0 0.25em; line-height: 1; border-radius: 0.35em;\">\n",
       "    The Opposite Sex\n",
       "    <span style=\"font-size: 0.8em; font-weight: bold; line-height: 1; border-radius: 0.35em; vertical-align: middle; margin-left: 0.5rem\">movie</span>\n",
       "</mark>\n",
       " and \n",
       "<mark class=\"entity\" style=\"background: #ddd; padding: 0.45em 0.6em; margin: 0 0.25em; line-height: 1; border-radius: 0.35em;\">\n",
       "    How to Live with Them\n",
       "    <span style=\"font-size: 0.8em; font-weight: bold; line-height: 1; border-radius: 0.35em; vertical-align: middle; margin-left: 0.5rem\">movie</span>\n",
       "</mark>\n",
       " and \n",
       "<mark class=\"entity\" style=\"background: #ddd; padding: 0.45em 0.6em; margin: 0 0.25em; line-height: 1; border-radius: 0.35em;\">\n",
       "    Elfie Hopkins\n",
       "    <span style=\"font-size: 0.8em; font-weight: bold; line-height: 1; border-radius: 0.35em; vertical-align: middle; margin-left: 0.5rem\">movie</span>\n",
       "</mark>\n",
       "?</div></span>"
      ],
      "text/plain": [
       "<IPython.core.display.HTML object>"
      ]
     },
     "metadata": {},
     "output_type": "display_data"
    },
    {
     "name": "stdout",
     "output_type": "stream",
     "text": [
      "Are there any common filming locations between The Opposite Sex and How to Live with Them and Elfie Hopkins? {'entities': [(47, 89, 'movie'), (94, 107, 'movie')]}\n",
      "Missing movie label\n"
     ]
    },
    {
     "data": {
      "text/html": [
       "<span class=\"tex2jax_ignore\"><div class=\"entities\" style=\"line-height: 2.5; direction: ltr\">Are there any common filming locations between \n",
       "<mark class=\"entity\" style=\"background: #ddd; padding: 0.45em 0.6em; margin: 0 0.25em; line-height: 1; border-radius: 0.35em;\">\n",
       "    The Opposite Sex\n",
       "    <span style=\"font-size: 0.8em; font-weight: bold; line-height: 1; border-radius: 0.35em; vertical-align: middle; margin-left: 0.5rem\">movie</span>\n",
       "</mark>\n",
       " and \n",
       "<mark class=\"entity\" style=\"background: #ddd; padding: 0.45em 0.6em; margin: 0 0.25em; line-height: 1; border-radius: 0.35em;\">\n",
       "    How to Live with Them\n",
       "    <span style=\"font-size: 0.8em; font-weight: bold; line-height: 1; border-radius: 0.35em; vertical-align: middle; margin-left: 0.5rem\">movie</span>\n",
       "</mark>\n",
       " and \n",
       "<mark class=\"entity\" style=\"background: #ddd; padding: 0.45em 0.6em; margin: 0 0.25em; line-height: 1; border-radius: 0.35em;\">\n",
       "    Elfie Hopkins\n",
       "    <span style=\"font-size: 0.8em; font-weight: bold; line-height: 1; border-radius: 0.35em; vertical-align: middle; margin-left: 0.5rem\">movie</span>\n",
       "</mark>\n",
       "?</div></span>"
      ],
      "text/plain": [
       "<IPython.core.display.HTML object>"
      ]
     },
     "metadata": {},
     "output_type": "display_data"
    },
    {
     "name": "stdout",
     "output_type": "stream",
     "text": [
      "Are there any common filming locations between The Opposite Sex and How to Live with Them and Elfie Hopkins? {'entities': [(47, 89, 'movie'), (94, 107, 'movie')]}\n",
      "Missing movie label\n"
     ]
    },
    {
     "data": {
      "text/html": [
       "<span class=\"tex2jax_ignore\"><div class=\"entities\" style=\"line-height: 2.5; direction: ltr\">I am looking for \n",
       "<mark class=\"entity\" style=\"background: #ddd; padding: 0.45em 0.6em; margin: 0 0.25em; line-height: 1; border-radius: 0.35em;\">\n",
       "    fantasy anime and manga\n",
       "    <span style=\"font-size: 0.8em; font-weight: bold; line-height: 1; border-radius: 0.35em; vertical-align: middle; margin-left: 0.5rem\">genre</span>\n",
       "</mark>\n",
       " and \n",
       "<mark class=\"entity\" style=\"background: #ddd; padding: 0.45em 0.6em; margin: 0 0.25em; line-height: 1; border-radius: 0.35em;\">\n",
       "    fantasy\n",
       "    <span style=\"font-size: 0.8em; font-weight: bold; line-height: 1; border-radius: 0.35em; vertical-align: middle; margin-left: 0.5rem\">genre</span>\n",
       "</mark>\n",
       " movies, anything you would \n",
       "<mark class=\"entity\" style=\"background: #ddd; padding: 0.45em 0.6em; margin: 0 0.25em; line-height: 1; border-radius: 0.35em;\">\n",
       "    recommend\n",
       "    <span style=\"font-size: 0.8em; font-weight: bold; line-height: 1; border-radius: 0.35em; vertical-align: middle; margin-left: 0.5rem\">predicate</span>\n",
       "</mark>\n",
       "?</div></span>"
      ],
      "text/plain": [
       "<IPython.core.display.HTML object>"
      ]
     },
     "metadata": {},
     "output_type": "display_data"
    },
    {
     "name": "stdout",
     "output_type": "stream",
     "text": [
      "I am looking for fantasy anime and manga and fantasy movies, anything you would recommend? {'entities': [(17, 40, 'genre'), (17, 24, 'genre'), (80, 89, 'predicate')]}\n",
      "Missing genre label\n"
     ]
    },
    {
     "data": {
      "text/html": [
       "<span class=\"tex2jax_ignore\"><div class=\"entities\" style=\"line-height: 2.5; direction: ltr\">Do \n",
       "<mark class=\"entity\" style=\"background: #ddd; padding: 0.45em 0.6em; margin: 0 0.25em; line-height: 1; border-radius: 0.35em;\">\n",
       "    V. Jude Hill\n",
       "    <span style=\"font-size: 0.8em; font-weight: bold; line-height: 1; border-radius: 0.35em; vertical-align: middle; margin-left: 0.5rem\">movie</span>\n",
       "</mark>\n",
       " and \n",
       "<mark class=\"entity\" style=\"background: #ddd; padding: 0.45em 0.6em; margin: 0 0.25em; line-height: 1; border-radius: 0.35em;\">\n",
       "    Michel Grou\n",
       "    <span style=\"font-size: 0.8em; font-weight: bold; line-height: 1; border-radius: 0.35em; vertical-align: middle; margin-left: 0.5rem\">name</span>\n",
       "</mark>\n",
       " appear in the same movie</div></span>"
      ],
      "text/plain": [
       "<IPython.core.display.HTML object>"
      ]
     },
     "metadata": {},
     "output_type": "display_data"
    },
    {
     "name": "stdout",
     "output_type": "stream",
     "text": [
      "Do V. Jude Hill and Michel Grou appear in the same movie {'entities': [(3, 15, 'name'), (20, 31, 'name')]}\n",
      "Missing movie label\n"
     ]
    },
    {
     "data": {
      "text/html": [
       "<span class=\"tex2jax_ignore\"><div class=\"entities\" style=\"line-height: 2.5; direction: ltr\">Are there any notable collaborations between \n",
       "<mark class=\"entity\" style=\"background: #ddd; padding: 0.45em 0.6em; margin: 0 0.25em; line-height: 1; border-radius: 0.35em;\">\n",
       "    Red Skelton\n",
       "    <span style=\"font-size: 0.8em; font-weight: bold; line-height: 1; border-radius: 0.35em; vertical-align: middle; margin-left: 0.5rem\">name</span>\n",
       "</mark>\n",
       ", \n",
       "<mark class=\"entity\" style=\"background: #ddd; padding: 0.45em 0.6em; margin: 0 0.25em; line-height: 1; border-radius: 0.35em;\">\n",
       "    Sebastian Weber\n",
       "    <span style=\"font-size: 0.8em; font-weight: bold; line-height: 1; border-radius: 0.35em; vertical-align: middle; margin-left: 0.5rem\">movie</span>\n",
       "</mark>\n",
       ", and \n",
       "<mark class=\"entity\" style=\"background: #ddd; padding: 0.45em 0.6em; margin: 0 0.25em; line-height: 1; border-radius: 0.35em;\">\n",
       "    Marquis de Sade\n",
       "    <span style=\"font-size: 0.8em; font-weight: bold; line-height: 1; border-radius: 0.35em; vertical-align: middle; margin-left: 0.5rem\">name</span>\n",
       "</mark>\n",
       " in the film industry?</div></span>"
      ],
      "text/plain": [
       "<IPython.core.display.HTML object>"
      ]
     },
     "metadata": {},
     "output_type": "display_data"
    },
    {
     "name": "stdout",
     "output_type": "stream",
     "text": [
      "Are there any notable collaborations between Red Skelton, Sebastian Weber, and Marquis de Sade in the film industry? {'entities': [(45, 56, 'name'), (58, 73, 'name'), (79, 94, 'name')]}\n",
      "Missing movie label\n"
     ]
    },
    {
     "data": {
      "text/html": [
       "<span class=\"tex2jax_ignore\"><div class=\"entities\" style=\"line-height: 2.5; direction: ltr\">Recommend me movies with the genres \n",
       "<mark class=\"entity\" style=\"background: #ddd; padding: 0.45em 0.6em; margin: 0 0.25em; line-height: 1; border-radius: 0.35em;\">\n",
       "    action comedy\n",
       "    <span style=\"font-size: 0.8em; font-weight: bold; line-height: 1; border-radius: 0.35em; vertical-align: middle; margin-left: 0.5rem\">genre</span>\n",
       "</mark>\n",
       ", \n",
       "<mark class=\"entity\" style=\"background: #ddd; padding: 0.45em 0.6em; margin: 0 0.25em; line-height: 1; border-radius: 0.35em;\">\n",
       "    adventure anime and manga\n",
       "    <span style=\"font-size: 0.8em; font-weight: bold; line-height: 1; border-radius: 0.35em; vertical-align: middle; margin-left: 0.5rem\">genre</span>\n",
       "</mark>\n",
       ", and \n",
       "<mark class=\"entity\" style=\"background: #ddd; padding: 0.45em 0.6em; margin: 0 0.25em; line-height: 1; border-radius: 0.35em;\">\n",
       "    action\n",
       "    <span style=\"font-size: 0.8em; font-weight: bold; line-height: 1; border-radius: 0.35em; vertical-align: middle; margin-left: 0.5rem\">genre</span>\n",
       "</mark>\n",
       "</div></span>"
      ],
      "text/plain": [
       "<IPython.core.display.HTML object>"
      ]
     },
     "metadata": {},
     "output_type": "display_data"
    },
    {
     "name": "stdout",
     "output_type": "stream",
     "text": [
      "Recommend me movies with the genres action comedy, adventure anime and manga, and action {'entities': [(36, 49, 'genre'), (51, 76, 'genre'), (36, 42, 'genre'), (29, 34, 'predicate')]}\n",
      "Missing genre label\n"
     ]
    },
    {
     "data": {
      "text/html": [
       "<span class=\"tex2jax_ignore\"><div class=\"entities\" style=\"line-height: 2.5; direction: ltr\">Can you list all the movies starring \n",
       "<mark class=\"entity\" style=\"background: #ddd; padding: 0.45em 0.6em; margin: 0 0.25em; line-height: 1; border-radius: 0.35em;\">\n",
       "    Patrick Dewolf\n",
       "    <span style=\"font-size: 0.8em; font-weight: bold; line-height: 1; border-radius: 0.35em; vertical-align: middle; margin-left: 0.5rem\">name</span>\n",
       "</mark>\n",
       ", \n",
       "<mark class=\"entity\" style=\"background: #ddd; padding: 0.45em 0.6em; margin: 0 0.25em; line-height: 1; border-radius: 0.35em;\">\n",
       "    Chord Overstreet\n",
       "    <span style=\"font-size: 0.8em; font-weight: bold; line-height: 1; border-radius: 0.35em; vertical-align: middle; margin-left: 0.5rem\">name</span>\n",
       "</mark>\n",
       ", and \n",
       "<mark class=\"entity\" style=\"background: #ddd; padding: 0.45em 0.6em; margin: 0 0.25em; line-height: 1; border-radius: 0.35em;\">\n",
       "    Christophe Guybet\n",
       "    <span style=\"font-size: 0.8em; font-weight: bold; line-height: 1; border-radius: 0.35em; vertical-align: middle; margin-left: 0.5rem\">movie</span>\n",
       "</mark>\n",
       "?</div></span>"
      ],
      "text/plain": [
       "<IPython.core.display.HTML object>"
      ]
     },
     "metadata": {},
     "output_type": "display_data"
    },
    {
     "name": "stdout",
     "output_type": "stream",
     "text": [
      "Can you list all the movies starring Patrick Dewolf, Chord Overstreet, and Christophe Guybet? {'entities': [(37, 51, 'name'), (53, 69, 'name'), (75, 92, 'name')]}\n",
      "Missing movie label\n"
     ]
    },
    {
     "data": {
      "text/html": [
       "<span class=\"tex2jax_ignore\"><div class=\"entities\" style=\"line-height: 2.5; direction: ltr\">Do \n",
       "<mark class=\"entity\" style=\"background: #ddd; padding: 0.45em 0.6em; margin: 0 0.25em; line-height: 1; border-radius: 0.35em;\">\n",
       "    Jonathan Gems\n",
       "    <span style=\"font-size: 0.8em; font-weight: bold; line-height: 1; border-radius: 0.35em; vertical-align: middle; margin-left: 0.5rem\">movie</span>\n",
       "</mark>\n",
       " and \n",
       "<mark class=\"entity\" style=\"background: #ddd; padding: 0.45em 0.6em; margin: 0 0.25em; line-height: 1; border-radius: 0.35em;\">\n",
       "    France Parent\n",
       "    <span style=\"font-size: 0.8em; font-weight: bold; line-height: 1; border-radius: 0.35em; vertical-align: middle; margin-left: 0.5rem\">name</span>\n",
       "</mark>\n",
       " have any projects together?</div></span>"
      ],
      "text/plain": [
       "<IPython.core.display.HTML object>"
      ]
     },
     "metadata": {},
     "output_type": "display_data"
    },
    {
     "name": "stdout",
     "output_type": "stream",
     "text": [
      "Do Jonathan Gems and France Parent have any projects together? {'entities': [(3, 16, 'name'), (21, 34, 'name')]}\n",
      "Missing movie label\n"
     ]
    },
    {
     "data": {
      "text/html": [
       "<span class=\"tex2jax_ignore\"><div class=\"entities\" style=\"line-height: 2.5; direction: ltr\">Were \n",
       "<mark class=\"entity\" style=\"background: #ddd; padding: 0.45em 0.6em; margin: 0 0.25em; line-height: 1; border-radius: 0.35em;\">\n",
       "    A Genius\n",
       "    <span style=\"font-size: 0.8em; font-weight: bold; line-height: 1; border-radius: 0.35em; vertical-align: middle; margin-left: 0.5rem\">movie</span>\n",
       "</mark>\n",
       ", \n",
       "<mark class=\"entity\" style=\"background: #ddd; padding: 0.45em 0.6em; margin: 0 0.25em; line-height: 1; border-radius: 0.35em;\">\n",
       "    Two Partners and a Dupe\n",
       "    <span style=\"font-size: 0.8em; font-weight: bold; line-height: 1; border-radius: 0.35em; vertical-align: middle; margin-left: 0.5rem\">movie</span>\n",
       "</mark>\n",
       " and \n",
       "<mark class=\"entity\" style=\"background: #ddd; padding: 0.45em 0.6em; margin: 0 0.25em; line-height: 1; border-radius: 0.35em;\">\n",
       "    The Contaminated Man\n",
       "    <span style=\"font-size: 0.8em; font-weight: bold; line-height: 1; border-radius: 0.35em; vertical-align: middle; margin-left: 0.5rem\">movie</span>\n",
       "</mark>\n",
       " released the same year?</div></span>"
      ],
      "text/plain": [
       "<IPython.core.display.HTML object>"
      ]
     },
     "metadata": {},
     "output_type": "display_data"
    },
    {
     "name": "stdout",
     "output_type": "stream",
     "text": [
      "Were A Genius, Two Partners and a Dupe and The Contaminated Man released the same year? {'entities': [(5, 38, 'movie'), (43, 63, 'movie'), (64, 71, 'predicate')]}\n",
      "Missing movie label\n"
     ]
    },
    {
     "data": {
      "text/html": [
       "<span class=\"tex2jax_ignore\"><div class=\"entities\" style=\"line-height: 2.5; direction: ltr\">Were \n",
       "<mark class=\"entity\" style=\"background: #ddd; padding: 0.45em 0.6em; margin: 0 0.25em; line-height: 1; border-radius: 0.35em;\">\n",
       "    A Genius\n",
       "    <span style=\"font-size: 0.8em; font-weight: bold; line-height: 1; border-radius: 0.35em; vertical-align: middle; margin-left: 0.5rem\">movie</span>\n",
       "</mark>\n",
       ", \n",
       "<mark class=\"entity\" style=\"background: #ddd; padding: 0.45em 0.6em; margin: 0 0.25em; line-height: 1; border-radius: 0.35em;\">\n",
       "    Two Partners and a Dupe\n",
       "    <span style=\"font-size: 0.8em; font-weight: bold; line-height: 1; border-radius: 0.35em; vertical-align: middle; margin-left: 0.5rem\">movie</span>\n",
       "</mark>\n",
       " and \n",
       "<mark class=\"entity\" style=\"background: #ddd; padding: 0.45em 0.6em; margin: 0 0.25em; line-height: 1; border-radius: 0.35em;\">\n",
       "    The Contaminated Man\n",
       "    <span style=\"font-size: 0.8em; font-weight: bold; line-height: 1; border-radius: 0.35em; vertical-align: middle; margin-left: 0.5rem\">movie</span>\n",
       "</mark>\n",
       " released the same year?</div></span>"
      ],
      "text/plain": [
       "<IPython.core.display.HTML object>"
      ]
     },
     "metadata": {},
     "output_type": "display_data"
    },
    {
     "name": "stdout",
     "output_type": "stream",
     "text": [
      "Were A Genius, Two Partners and a Dupe and The Contaminated Man released the same year? {'entities': [(5, 38, 'movie'), (43, 63, 'movie'), (64, 71, 'predicate')]}\n",
      "Missing movie label\n"
     ]
    },
    {
     "data": {
      "text/html": [
       "<span class=\"tex2jax_ignore\"><div class=\"entities\" style=\"line-height: 2.5; direction: ltr\">Do \n",
       "<mark class=\"entity\" style=\"background: #ddd; padding: 0.45em 0.6em; margin: 0 0.25em; line-height: 1; border-radius: 0.35em;\">\n",
       "    Preston A. Whitmore II\n",
       "    <span style=\"font-size: 0.8em; font-weight: bold; line-height: 1; border-radius: 0.35em; vertical-align: middle; margin-left: 0.5rem\">movie</span>\n",
       "</mark>\n",
       " and \n",
       "<mark class=\"entity\" style=\"background: #ddd; padding: 0.45em 0.6em; margin: 0 0.25em; line-height: 1; border-radius: 0.35em;\">\n",
       "    Jean-Baptiste Lefèvre\n",
       "    <span style=\"font-size: 0.8em; font-weight: bold; line-height: 1; border-radius: 0.35em; vertical-align: middle; margin-left: 0.5rem\">movie</span>\n",
       "</mark>\n",
       " have any projects together?</div></span>"
      ],
      "text/plain": [
       "<IPython.core.display.HTML object>"
      ]
     },
     "metadata": {},
     "output_type": "display_data"
    },
    {
     "name": "stdout",
     "output_type": "stream",
     "text": [
      "Do Preston A. Whitmore II and Jean-Baptiste Lefèvre have any projects together? {'entities': [(3, 25, 'name'), (30, 51, 'name')]}\n",
      "Missing movie label\n"
     ]
    },
    {
     "data": {
      "text/html": [
       "<span class=\"tex2jax_ignore\"><div class=\"entities\" style=\"line-height: 2.5; direction: ltr\">Do \n",
       "<mark class=\"entity\" style=\"background: #ddd; padding: 0.45em 0.6em; margin: 0 0.25em; line-height: 1; border-radius: 0.35em;\">\n",
       "    Preston A. Whitmore II\n",
       "    <span style=\"font-size: 0.8em; font-weight: bold; line-height: 1; border-radius: 0.35em; vertical-align: middle; margin-left: 0.5rem\">movie</span>\n",
       "</mark>\n",
       " and \n",
       "<mark class=\"entity\" style=\"background: #ddd; padding: 0.45em 0.6em; margin: 0 0.25em; line-height: 1; border-radius: 0.35em;\">\n",
       "    Jean-Baptiste Lefèvre\n",
       "    <span style=\"font-size: 0.8em; font-weight: bold; line-height: 1; border-radius: 0.35em; vertical-align: middle; margin-left: 0.5rem\">movie</span>\n",
       "</mark>\n",
       " have any projects together?</div></span>"
      ],
      "text/plain": [
       "<IPython.core.display.HTML object>"
      ]
     },
     "metadata": {},
     "output_type": "display_data"
    },
    {
     "name": "stdout",
     "output_type": "stream",
     "text": [
      "Do Preston A. Whitmore II and Jean-Baptiste Lefèvre have any projects together? {'entities': [(3, 25, 'name'), (30, 51, 'name')]}\n",
      "Missing movie label\n"
     ]
    },
    {
     "data": {
      "text/html": [
       "<span class=\"tex2jax_ignore\"><div class=\"entities\" style=\"line-height: 2.5; direction: ltr\">Which \n",
       "<mark class=\"entity\" style=\"background: #ddd; padding: 0.45em 0.6em; margin: 0 0.25em; line-height: 1; border-radius: 0.35em;\">\n",
       "    film editor\n",
       "    <span style=\"font-size: 0.8em; font-weight: bold; line-height: 1; border-radius: 0.35em; vertical-align: middle; margin-left: 0.5rem\">role</span>\n",
       "</mark>\n",
       " or \n",
       "<mark class=\"entity\" style=\"background: #ddd; padding: 0.45em 0.6em; margin: 0 0.25em; line-height: 1; border-radius: 0.35em;\">\n",
       "    director\n",
       "    <span style=\"font-size: 0.8em; font-weight: bold; line-height: 1; border-radius: 0.35em; vertical-align: middle; margin-left: 0.5rem\">role</span>\n",
       "</mark>\n",
       " contributed to the soundtracks of both \n",
       "<mark class=\"entity\" style=\"background: #ddd; padding: 0.45em 0.6em; margin: 0 0.25em; line-height: 1; border-radius: 0.35em;\">\n",
       "    Arthur Newman\n",
       "    <span style=\"font-size: 0.8em; font-weight: bold; line-height: 1; border-radius: 0.35em; vertical-align: middle; margin-left: 0.5rem\">movie</span>\n",
       "</mark>\n",
       " and \n",
       "<mark class=\"entity\" style=\"background: #ddd; padding: 0.45em 0.6em; margin: 0 0.25em; line-height: 1; border-radius: 0.35em;\">\n",
       "    Effie\n",
       "    <span style=\"font-size: 0.8em; font-weight: bold; line-height: 1; border-radius: 0.35em; vertical-align: middle; margin-left: 0.5rem\">name</span>\n",
       "</mark>\n",
       "?</div></span>"
      ],
      "text/plain": [
       "<IPython.core.display.HTML object>"
      ]
     },
     "metadata": {},
     "output_type": "display_data"
    },
    {
     "name": "stdout",
     "output_type": "stream",
     "text": [
      "Which film editor or director contributed to the soundtracks of both Arthur Newman and Effie? {'entities': [(6, 17, 'role'), (21, 29, 'role'), (69, 82, 'movie'), (87, 92, 'movie')]}\n",
      "Missing name label\n"
     ]
    },
    {
     "data": {
      "text/html": [
       "<span class=\"tex2jax_ignore\"><div class=\"entities\" style=\"line-height: 2.5; direction: ltr\">I enjoy movies that combine the elements of \n",
       "<mark class=\"entity\" style=\"background: #ddd; padding: 0.45em 0.6em; margin: 0 0.25em; line-height: 1; border-radius: 0.35em;\">\n",
       "    horror fiction\n",
       "    <span style=\"font-size: 0.8em; font-weight: bold; line-height: 1; border-radius: 0.35em; vertical-align: middle; margin-left: 0.5rem\">genre</span>\n",
       "</mark>\n",
       " and \n",
       "<mark class=\"entity\" style=\"background: #ddd; padding: 0.45em 0.6em; margin: 0 0.25em; line-height: 1; border-radius: 0.35em;\">\n",
       "    horror\n",
       "    <span style=\"font-size: 0.8em; font-weight: bold; line-height: 1; border-radius: 0.35em; vertical-align: middle; margin-left: 0.5rem\">genre</span>\n",
       "</mark>\n",
       ". What are your top picks in this \n",
       "<mark class=\"entity\" style=\"background: #ddd; padding: 0.45em 0.6em; margin: 0 0.25em; line-height: 1; border-radius: 0.35em;\">\n",
       "    category\n",
       "    <span style=\"font-size: 0.8em; font-weight: bold; line-height: 1; border-radius: 0.35em; vertical-align: middle; margin-left: 0.5rem\">predicate</span>\n",
       "</mark>\n",
       "?</div></span>"
      ],
      "text/plain": [
       "<IPython.core.display.HTML object>"
      ]
     },
     "metadata": {},
     "output_type": "display_data"
    },
    {
     "name": "stdout",
     "output_type": "stream",
     "text": [
      "I enjoy movies that combine the elements of horror fiction and horror. What are your top picks in this category? {'entities': [(44, 58, 'genre'), (44, 50, 'genre'), (103, 111, 'predicate')]}\n",
      "Missing genre label\n"
     ]
    },
    {
     "data": {
      "text/html": [
       "<span class=\"tex2jax_ignore\"><div class=\"entities\" style=\"line-height: 2.5; direction: ltr\">Recommend me movies with the genres \n",
       "<mark class=\"entity\" style=\"background: #ddd; padding: 0.45em 0.6em; margin: 0 0.25em; line-height: 1; border-radius: 0.35em;\">\n",
       "    science fiction anime and manga\n",
       "    <span style=\"font-size: 0.8em; font-weight: bold; line-height: 1; border-radius: 0.35em; vertical-align: middle; margin-left: 0.5rem\">genre</span>\n",
       "</mark>\n",
       ", \n",
       "<mark class=\"entity\" style=\"background: #ddd; padding: 0.45em 0.6em; margin: 0 0.25em; line-height: 1; border-radius: 0.35em;\">\n",
       "    anime\n",
       "    <span style=\"font-size: 0.8em; font-weight: bold; line-height: 1; border-radius: 0.35em; vertical-align: middle; margin-left: 0.5rem\">genre</span>\n",
       "</mark>\n",
       ", and \n",
       "<mark class=\"entity\" style=\"background: #ddd; padding: 0.45em 0.6em; margin: 0 0.25em; line-height: 1; border-radius: 0.35em;\">\n",
       "    neo-noir\n",
       "    <span style=\"font-size: 0.8em; font-weight: bold; line-height: 1; border-radius: 0.35em; vertical-align: middle; margin-left: 0.5rem\">genre</span>\n",
       "</mark>\n",
       "</div></span>"
      ],
      "text/plain": [
       "<IPython.core.display.HTML object>"
      ]
     },
     "metadata": {},
     "output_type": "display_data"
    },
    {
     "name": "stdout",
     "output_type": "stream",
     "text": [
      "Recommend me movies with the genres science fiction anime and manga, anime, and neo-noir {'entities': [(36, 67, 'genre'), (52, 57, 'genre'), (80, 88, 'genre'), (29, 34, 'predicate')]}\n",
      "Missing genre label\n"
     ]
    },
    {
     "data": {
      "text/html": [
       "<span class=\"tex2jax_ignore\"><div class=\"entities\" style=\"line-height: 2.5; direction: ltr\">Can you list all the movies starring \n",
       "<mark class=\"entity\" style=\"background: #ddd; padding: 0.45em 0.6em; margin: 0 0.25em; line-height: 1; border-radius: 0.35em;\">\n",
       "    Breixo Corral\n",
       "    <span style=\"font-size: 0.8em; font-weight: bold; line-height: 1; border-radius: 0.35em; vertical-align: middle; margin-left: 0.5rem\">name</span>\n",
       "</mark>\n",
       ", \n",
       "<mark class=\"entity\" style=\"background: #ddd; padding: 0.45em 0.6em; margin: 0 0.25em; line-height: 1; border-radius: 0.35em;\">\n",
       "    Caprice Benedetti\n",
       "    <span style=\"font-size: 0.8em; font-weight: bold; line-height: 1; border-radius: 0.35em; vertical-align: middle; margin-left: 0.5rem\">name</span>\n",
       "</mark>\n",
       ", and \n",
       "<mark class=\"entity\" style=\"background: #ddd; padding: 0.45em 0.6em; margin: 0 0.25em; line-height: 1; border-radius: 0.35em;\">\n",
       "    Viva\n",
       "    <span style=\"font-size: 0.8em; font-weight: bold; line-height: 1; border-radius: 0.35em; vertical-align: middle; margin-left: 0.5rem\">genre</span>\n",
       "</mark>\n",
       "?</div></span>"
      ],
      "text/plain": [
       "<IPython.core.display.HTML object>"
      ]
     },
     "metadata": {},
     "output_type": "display_data"
    },
    {
     "name": "stdout",
     "output_type": "stream",
     "text": [
      "Can you list all the movies starring Breixo Corral, Caprice Benedetti, and Viva? {'entities': [(37, 50, 'name'), (52, 69, 'name'), (75, 79, 'name')]}\n",
      "Missing genre label\n"
     ]
    },
    {
     "data": {
      "text/html": [
       "<span class=\"tex2jax_ignore\"><div class=\"entities\" style=\"line-height: 2.5; direction: ltr\">Recommend me movies with the genres \n",
       "<mark class=\"entity\" style=\"background: #ddd; padding: 0.45em 0.6em; margin: 0 0.25em; line-height: 1; border-radius: 0.35em;\">\n",
       "    drama television series\n",
       "    <span style=\"font-size: 0.8em; font-weight: bold; line-height: 1; border-radius: 0.35em; vertical-align: middle; margin-left: 0.5rem\">genre</span>\n",
       "</mark>\n",
       ", \n",
       "<mark class=\"entity\" style=\"background: #ddd; padding: 0.45em 0.6em; margin: 0 0.25em; line-height: 1; border-radius: 0.35em;\">\n",
       "    superhero\n",
       "    <span style=\"font-size: 0.8em; font-weight: bold; line-height: 1; border-radius: 0.35em; vertical-align: middle; margin-left: 0.5rem\">genre</span>\n",
       "</mark>\n",
       ", and \n",
       "<mark class=\"entity\" style=\"background: #ddd; padding: 0.45em 0.6em; margin: 0 0.25em; line-height: 1; border-radius: 0.35em;\">\n",
       "    drama\n",
       "    <span style=\"font-size: 0.8em; font-weight: bold; line-height: 1; border-radius: 0.35em; vertical-align: middle; margin-left: 0.5rem\">genre</span>\n",
       "</mark>\n",
       "</div></span>"
      ],
      "text/plain": [
       "<IPython.core.display.HTML object>"
      ]
     },
     "metadata": {},
     "output_type": "display_data"
    },
    {
     "name": "stdout",
     "output_type": "stream",
     "text": [
      "Recommend me movies with the genres drama television series, superhero, and drama {'entities': [(36, 59, 'genre'), (61, 70, 'genre'), (36, 41, 'genre'), (29, 34, 'predicate')]}\n",
      "Missing genre label\n"
     ]
    },
    {
     "data": {
      "text/html": [
       "<span class=\"tex2jax_ignore\"><div class=\"entities\" style=\"line-height: 2.5; direction: ltr\">Do \n",
       "<mark class=\"entity\" style=\"background: #ddd; padding: 0.45em 0.6em; margin: 0 0.25em; line-height: 1; border-radius: 0.35em;\">\n",
       "    Malte Milner Find\n",
       "    <span style=\"font-size: 0.8em; font-weight: bold; line-height: 1; border-radius: 0.35em; vertical-align: middle; margin-left: 0.5rem\">movie</span>\n",
       "</mark>\n",
       " and \n",
       "<mark class=\"entity\" style=\"background: #ddd; padding: 0.45em 0.6em; margin: 0 0.25em; line-height: 1; border-radius: 0.35em;\">\n",
       "    Ivan Lupták\n",
       "    <span style=\"font-size: 0.8em; font-weight: bold; line-height: 1; border-radius: 0.35em; vertical-align: middle; margin-left: 0.5rem\">name</span>\n",
       "</mark>\n",
       " appear in \n",
       "<mark class=\"entity\" style=\"background: #ddd; padding: 0.45em 0.6em; margin: 0 0.25em; line-height: 1; border-radius: 0.35em;\">\n",
       "    Today You Die\n",
       "    <span style=\"font-size: 0.8em; font-weight: bold; line-height: 1; border-radius: 0.35em; vertical-align: middle; margin-left: 0.5rem\">movie</span>\n",
       "</mark>\n",
       "</div></span>"
      ],
      "text/plain": [
       "<IPython.core.display.HTML object>"
      ]
     },
     "metadata": {},
     "output_type": "display_data"
    },
    {
     "name": "stdout",
     "output_type": "stream",
     "text": [
      "Do Malte Milner Find and Ivan Lupták appear in Today You Die {'entities': [(3, 20, 'name'), (25, 36, 'name'), (47, 60, 'movie')]}\n",
      "Missing movie label\n"
     ]
    },
    {
     "data": {
      "text/html": [
       "<span class=\"tex2jax_ignore\"><div class=\"entities\" style=\"line-height: 2.5; direction: ltr\">Can you \n",
       "<mark class=\"entity\" style=\"background: #ddd; padding: 0.45em 0.6em; margin: 0 0.25em; line-height: 1; border-radius: 0.35em;\">\n",
       "    recommend\n",
       "    <span style=\"font-size: 0.8em; font-weight: bold; line-height: 1; border-radius: 0.35em; vertical-align: middle; margin-left: 0.5rem\">predicate</span>\n",
       "</mark>\n",
       " a movie that showcases the directorial styles of both \n",
       "<mark class=\"entity\" style=\"background: #ddd; padding: 0.45em 0.6em; margin: 0 0.25em; line-height: 1; border-radius: 0.35em;\">\n",
       "    Heavy D\n",
       "    <span style=\"font-size: 0.8em; font-weight: bold; line-height: 1; border-radius: 0.35em; vertical-align: middle; margin-left: 0.5rem\">name</span>\n",
       "</mark>\n",
       " and \n",
       "<mark class=\"entity\" style=\"background: #ddd; padding: 0.45em 0.6em; margin: 0 0.25em; line-height: 1; border-radius: 0.35em;\">\n",
       "    David Segel\n",
       "    <span style=\"font-size: 0.8em; font-weight: bold; line-height: 1; border-radius: 0.35em; vertical-align: middle; margin-left: 0.5rem\">movie</span>\n",
       "</mark>\n",
       "?</div></span>"
      ],
      "text/plain": [
       "<IPython.core.display.HTML object>"
      ]
     },
     "metadata": {},
     "output_type": "display_data"
    },
    {
     "name": "stdout",
     "output_type": "stream",
     "text": [
      "Can you recommend a movie that showcases the directorial styles of both Heavy D and David Segel? {'entities': [(72, 79, 'name'), (84, 95, 'name'), (8, 17, 'predicate')]}\n",
      "Missing movie label\n",
      "354820 355217\n"
     ]
    }
   ],
   "source": [
    "total=0\n",
    "correct=0\n",
    "for sentence, entities in TRAIN_DATA:\n",
    "    pred = nlp_model(sentence)\n",
    "    for ent in pred.ents:\n",
    "        total+=1\n",
    "        if (ent.start_char, ent.end_char, ent.label_) in entities['entities']:\n",
    "            correct+=1\n",
    "            #print(ent.label_+\" Correctly found\")\n",
    "        else:\n",
    "            spacy.displacy.render(pred, style=\"ent\", jupyter=True)\n",
    "            print(sentence, entities)\n",
    "            print(\"Missing {} label\".format(ent.label_))\n",
    "            \n",
    "print(correct, total)"
   ]
  },
  {
   "cell_type": "code",
   "execution_count": 48,
   "id": "68f85c91",
   "metadata": {},
   "outputs": [
    {
     "name": "stderr",
     "output_type": "stream",
     "text": [
      "C:\\Users\\jorge\\anaconda3\\envs\\pytorch2\\lib\\site-packages\\spacy\\util.py:910: UserWarning: [W095] Model 'en_pipeline' (0.0.0) was trained with spaCy v3.5.3 and may not be 100% compatible with the current version (3.7.2). If you see errors or degraded performance, download a newer compatible model or retrain your custom model with the current spaCy version. For more details and available updates, run: python -m spacy validate\n",
      "  warnings.warn(warn_msg)\n"
     ]
    },
    {
     "data": {
      "text/html": [
       "<span class=\"tex2jax_ignore\"><div class=\"entities\" style=\"line-height: 2.5; direction: ltr\">Recommend movies like \n",
       "<mark class=\"entity\" style=\"background: #ddd; padding: 0.45em 0.6em; margin: 0 0.25em; line-height: 1; border-radius: 0.35em;\">\n",
       "    Nightmare on Elm Street\n",
       "    <span style=\"font-size: 0.8em; font-weight: bold; line-height: 1; border-radius: 0.35em; vertical-align: middle; margin-left: 0.5rem\">name</span>\n",
       "</mark>\n",
       ", \n",
       "<mark class=\"entity\" style=\"background: #ddd; padding: 0.45em 0.6em; margin: 0 0.25em; line-height: 1; border-radius: 0.35em;\">\n",
       "    Friday the 13th\n",
       "    <span style=\"font-size: 0.8em; font-weight: bold; line-height: 1; border-radius: 0.35em; vertical-align: middle; margin-left: 0.5rem\">movie</span>\n",
       "</mark>\n",
       ", and \n",
       "<mark class=\"entity\" style=\"background: #ddd; padding: 0.45em 0.6em; margin: 0 0.25em; line-height: 1; border-radius: 0.35em;\">\n",
       "    Halloween\n",
       "    <span style=\"font-size: 0.8em; font-weight: bold; line-height: 1; border-radius: 0.35em; vertical-align: middle; margin-left: 0.5rem\">movie</span>\n",
       "</mark>\n",
       ".</div></span>"
      ],
      "text/plain": [
       "<IPython.core.display.HTML object>"
      ]
     },
     "metadata": {},
     "output_type": "display_data"
    }
   ],
   "source": [
    "nlp1 = spacy.load('models/NER/v2_506/') #load the best model\n",
    "doc = nlp1(\"Recommend movies like Nightmare on Elm Street, Friday the 13th, and Halloween.\") # input sample text\n",
    "\n",
    "spacy.displacy.render(doc, style=\"ent\", jupyter=True) # display in Jupyter\n",
    "\n"
   ]
  },
  {
   "cell_type": "code",
   "execution_count": 49,
   "id": "b939748e",
   "metadata": {},
   "outputs": [
    {
     "data": {
      "text/html": [
       "<span class=\"tex2jax_ignore\"><div class=\"entities\" style=\"line-height: 2.5; direction: ltr\">Who is the \n",
       "<mark class=\"entity\" style=\"background: #ddd; padding: 0.45em 0.6em; margin: 0 0.25em; line-height: 1; border-radius: 0.35em;\">\n",
       "    director\n",
       "    <span style=\"font-size: 0.8em; font-weight: bold; line-height: 1; border-radius: 0.35em; vertical-align: middle; margin-left: 0.5rem\">role</span>\n",
       "</mark>\n",
       " of \n",
       "<mark class=\"entity\" style=\"background: #ddd; padding: 0.45em 0.6em; margin: 0 0.25em; line-height: 1; border-radius: 0.35em;\">\n",
       "    Oppenheimer\n",
       "    <span style=\"font-size: 0.8em; font-weight: bold; line-height: 1; border-radius: 0.35em; vertical-align: middle; margin-left: 0.5rem\">movie</span>\n",
       "</mark>\n",
       "?</div></span>"
      ],
      "text/plain": [
       "<IPython.core.display.HTML object>"
      ]
     },
     "metadata": {},
     "output_type": "display_data"
    }
   ],
   "source": [
    "doc = nlp1(\"Who is the director of Oppenheimer?\") # input sample text\n",
    "\n",
    "spacy.displacy.render(doc, style=\"ent\", jupyter=True) # display in Jupyter\n"
   ]
  },
  {
   "cell_type": "code",
   "execution_count": 50,
   "id": "650a8441",
   "metadata": {},
   "outputs": [
    {
     "data": {
      "text/html": [
       "<span class=\"tex2jax_ignore\"><div class=\"entities\" style=\"line-height: 2.5; direction: ltr\">What are the \n",
       "<mark class=\"entity\" style=\"background: #ddd; padding: 0.45em 0.6em; margin: 0 0.25em; line-height: 1; border-radius: 0.35em;\">\n",
       "    best\n",
       "    <span style=\"font-size: 0.8em; font-weight: bold; line-height: 1; border-radius: 0.35em; vertical-align: middle; margin-left: 0.5rem\">order</span>\n",
       "</mark>\n",
       " \n",
       "<mark class=\"entity\" style=\"background: #ddd; padding: 0.45em 0.6em; margin: 0 0.25em; line-height: 1; border-radius: 0.35em;\">\n",
       "    5\n",
       "    <span style=\"font-size: 0.8em; font-weight: bold; line-height: 1; border-radius: 0.35em; vertical-align: middle; margin-left: 0.5rem\">numerical_entity</span>\n",
       "</mark>\n",
       " movies of \n",
       "<mark class=\"entity\" style=\"background: #ddd; padding: 0.45em 0.6em; margin: 0 0.25em; line-height: 1; border-radius: 0.35em;\">\n",
       "    Christopher Nolan\n",
       "    <span style=\"font-size: 0.8em; font-weight: bold; line-height: 1; border-radius: 0.35em; vertical-align: middle; margin-left: 0.5rem\">name</span>\n",
       "</mark>\n",
       "?</div></span>"
      ],
      "text/plain": [
       "<IPython.core.display.HTML object>"
      ]
     },
     "metadata": {},
     "output_type": "display_data"
    }
   ],
   "source": [
    "doc = nlp1(\"What are the best 5 movies of Christopher Nolan?\") # input sample text\n",
    "\n",
    "spacy.displacy.render(doc, style=\"ent\", jupyter=True) # display in Jupyter\n"
   ]
  },
  {
   "cell_type": "code",
   "execution_count": 51,
   "id": "db1b9827",
   "metadata": {},
   "outputs": [
    {
     "data": {
      "text/html": [
       "<span class=\"tex2jax_ignore\"><div class=\"entities\" style=\"line-height: 2.5; direction: ltr\">List the \n",
       "<mark class=\"entity\" style=\"background: #ddd; padding: 0.45em 0.6em; margin: 0 0.25em; line-height: 1; border-radius: 0.35em;\">\n",
       "    top\n",
       "    <span style=\"font-size: 0.8em; font-weight: bold; line-height: 1; border-radius: 0.35em; vertical-align: middle; margin-left: 0.5rem\">order</span>\n",
       "</mark>\n",
       " \n",
       "<mark class=\"entity\" style=\"background: #ddd; padding: 0.45em 0.6em; margin: 0 0.25em; line-height: 1; border-radius: 0.35em;\">\n",
       "    ten\n",
       "    <span style=\"font-size: 0.8em; font-weight: bold; line-height: 1; border-radius: 0.35em; vertical-align: middle; margin-left: 0.5rem\">numerical_entity</span>\n",
       "</mark>\n",
       " \n",
       "<mark class=\"entity\" style=\"background: #ddd; padding: 0.45em 0.6em; margin: 0 0.25em; line-height: 1; border-radius: 0.35em;\">\n",
       "    horror\n",
       "    <span style=\"font-size: 0.8em; font-weight: bold; line-height: 1; border-radius: 0.35em; vertical-align: middle; margin-left: 0.5rem\">genre</span>\n",
       "</mark>\n",
       " movies</div></span>"
      ],
      "text/plain": [
       "<IPython.core.display.HTML object>"
      ]
     },
     "metadata": {},
     "output_type": "display_data"
    }
   ],
   "source": [
    "doc = nlp1(\"List the top ten horror movies\") # input sample text\n",
    "\n",
    "spacy.displacy.render(doc, style=\"ent\", jupyter=True) # display in Jupyter\n"
   ]
  },
  {
   "cell_type": "code",
   "execution_count": 52,
   "id": "b1b2f59a",
   "metadata": {},
   "outputs": [
    {
     "data": {
      "text/html": [
       "<span class=\"tex2jax_ignore\"><div class=\"entities\" style=\"line-height: 2.5; direction: ltr\">Which is the \n",
       "<mark class=\"entity\" style=\"background: #ddd; padding: 0.45em 0.6em; margin: 0 0.25em; line-height: 1; border-radius: 0.35em;\">\n",
       "    best\n",
       "    <span style=\"font-size: 0.8em; font-weight: bold; line-height: 1; border-radius: 0.35em; vertical-align: middle; margin-left: 0.5rem\">order</span>\n",
       "</mark>\n",
       " \n",
       "<mark class=\"entity\" style=\"background: #ddd; padding: 0.45em 0.6em; margin: 0 0.25em; line-height: 1; border-radius: 0.35em;\">\n",
       "    rated\n",
       "    <span style=\"font-size: 0.8em; font-weight: bold; line-height: 1; border-radius: 0.35em; vertical-align: middle; margin-left: 0.5rem\">predicate</span>\n",
       "</mark>\n",
       " \n",
       "<mark class=\"entity\" style=\"background: #ddd; padding: 0.45em 0.6em; margin: 0 0.25em; line-height: 1; border-radius: 0.35em;\">\n",
       "    horror movie\n",
       "    <span style=\"font-size: 0.8em; font-weight: bold; line-height: 1; border-radius: 0.35em; vertical-align: middle; margin-left: 0.5rem\">genre</span>\n",
       "</mark>\n",
       "?</div></span>"
      ],
      "text/plain": [
       "<IPython.core.display.HTML object>"
      ]
     },
     "metadata": {},
     "output_type": "display_data"
    }
   ],
   "source": [
    "doc = nlp1(\"Which is the best rated horror movie?\") # input sample text\n",
    "\n",
    "spacy.displacy.render(doc, style=\"ent\", jupyter=True) # display in Jupyter\n"
   ]
  },
  {
   "cell_type": "code",
   "execution_count": 53,
   "id": "bdacd538",
   "metadata": {},
   "outputs": [
    {
     "data": {
      "text/html": [
       "<span class=\"tex2jax_ignore\"><div class=\"entities\" style=\"line-height: 2.5; direction: ltr\">Who is the \n",
       "<mark class=\"entity\" style=\"background: #ddd; padding: 0.45em 0.6em; margin: 0 0.25em; line-height: 1; border-radius: 0.35em;\">\n",
       "    screenwriter\n",
       "    <span style=\"font-size: 0.8em; font-weight: bold; line-height: 1; border-radius: 0.35em; vertical-align: middle; margin-left: 0.5rem\">role</span>\n",
       "</mark>\n",
       " of \n",
       "<mark class=\"entity\" style=\"background: #ddd; padding: 0.45em 0.6em; margin: 0 0.25em; line-height: 1; border-radius: 0.35em;\">\n",
       "    The Masked Gang: Cyprus\n",
       "    <span style=\"font-size: 0.8em; font-weight: bold; line-height: 1; border-radius: 0.35em; vertical-align: middle; margin-left: 0.5rem\">movie</span>\n",
       "</mark>\n",
       "?</div></span>"
      ],
      "text/plain": [
       "<IPython.core.display.HTML object>"
      ]
     },
     "metadata": {},
     "output_type": "display_data"
    }
   ],
   "source": [
    "doc = nlp1(\"Who is the screenwriter of The Masked Gang: Cyprus?\") # input sample text\n",
    "\n",
    "spacy.displacy.render(doc, style=\"ent\", jupyter=True) # display in Jupyter\n"
   ]
  },
  {
   "cell_type": "code",
   "execution_count": 85,
   "id": "d493e86f",
   "metadata": {},
   "outputs": [
    {
     "name": "stdout",
     "output_type": "stream",
     "text": [
      "year 30 34\n"
     ]
    }
   ],
   "source": [
    "for ent in doc.ents:\n",
    "    print(ent.label_, ent.start_char, ent.end_char)\n"
   ]
  },
  {
   "cell_type": "code",
   "execution_count": null,
   "id": "165fdff6",
   "metadata": {},
   "outputs": [],
   "source": []
  }
 ],
 "metadata": {
  "kernelspec": {
   "display_name": "Python 3 (ipykernel)",
   "language": "python",
   "name": "python3"
  },
  "language_info": {
   "codemirror_mode": {
    "name": "ipython",
    "version": 3
   },
   "file_extension": ".py",
   "mimetype": "text/x-python",
   "name": "python",
   "nbconvert_exporter": "python",
   "pygments_lexer": "ipython3",
   "version": "3.10.13"
  }
 },
 "nbformat": 4,
 "nbformat_minor": 5
}
