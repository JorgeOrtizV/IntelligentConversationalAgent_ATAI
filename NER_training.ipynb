{
 "cells": [
  {
   "cell_type": "code",
   "execution_count": 10,
   "id": "06e1964d",
   "metadata": {},
   "outputs": [],
   "source": [
    "import spacy\n",
    "from spacy import displacy\n",
    "\n",
    "nlp = spacy.load(\"en_core_web_sm\")"
   ]
  },
  {
   "cell_type": "code",
   "execution_count": 11,
   "id": "a4f9cf1d",
   "metadata": {},
   "outputs": [],
   "source": [
    "from rdflib.namespace import Namespace, RDF, RDFS, XSD\n",
    "from rdflib.term import URIRef, Literal\n",
    "import csv\n",
    "import json\n",
    "import networkx as nx\n",
    "import pandas as pd\n",
    "import rdflib\n",
    "from collections import defaultdict, Counter\n",
    "import locale"
   ]
  },
  {
   "cell_type": "code",
   "execution_count": 12,
   "id": "d59d51d4",
   "metadata": {},
   "outputs": [
    {
     "data": {
      "text/plain": [
       "<Graph identifier=N374aa996c5db4373b13cc5a72307b1c2 (<class 'rdflib.graph.Graph'>)>"
      ]
     },
     "execution_count": 12,
     "metadata": {},
     "output_type": "execute_result"
    }
   ],
   "source": [
    "graph = rdflib.Graph()\n",
    "graph.parse('data/14_graph.nt', format='turtle')"
   ]
  },
  {
   "cell_type": "code",
   "execution_count": 13,
   "id": "587179f4",
   "metadata": {},
   "outputs": [],
   "source": [
    "# prefixes used in the graph\n",
    "WD = Namespace('http://www.wikidata.org/entity/')\n",
    "WDT = Namespace('http://www.wikidata.org/prop/direct/')\n",
    "SCHEMA = Namespace('http://schema.org/')\n",
    "DDIS = Namespace('http://ddis.ch/atai/')"
   ]
  },
  {
   "cell_type": "code",
   "execution_count": 14,
   "id": "ecd1993c",
   "metadata": {},
   "outputs": [],
   "source": [
    "entities = set(graph.subjects()) | {s for s in graph.objects() if isinstance(s,URIRef)}\n",
    "predicates = set(graph.predicates())\n",
    "literals = {s for s in graph.objects() if isinstance(s, Literal)}"
   ]
  },
  {
   "cell_type": "code",
   "execution_count": 15,
   "id": "e867bce1",
   "metadata": {},
   "outputs": [
    {
     "data": {
      "text/plain": [
       "364"
      ]
     },
     "execution_count": 15,
     "metadata": {},
     "output_type": "execute_result"
    }
   ],
   "source": [
    "genre_list = {str(uri):str(s) for uri,s in graph.query('''\n",
    "PREFIX ddis: <http://ddis.ch/atai/>\n",
    "PREFIX wd: <http://www.wikidata.org/entity/>\n",
    "PREFIX wdt: <http://www.wikidata.org/prop/direct/>\n",
    "PREFIX schema: <http://schema.org/>\n",
    "SELECT ?genre ?lbl WHERE {\n",
    "?movie wdt:P31 wd:Q11424 .\n",
    "?movie wdt:P136 ?genre .\n",
    "?genre rdfs:label ?lbl .\n",
    "}\n",
    "''')}\n",
    "\n",
    "len(genre_list)"
   ]
  },
  {
   "cell_type": "code",
   "execution_count": 16,
   "id": "ad0ad0e2",
   "metadata": {},
   "outputs": [
    {
     "data": {
      "text/plain": [
       "100157"
      ]
     },
     "execution_count": 16,
     "metadata": {},
     "output_type": "execute_result"
    }
   ],
   "source": [
    "people_list = {str(uri):str(s) for uri,s in graph.query('''\n",
    "PREFIX ddis: <http://ddis.ch/atai/>\n",
    "PREFIX wd: <http://www.wikidata.org/entity/>\n",
    "PREFIX wdt: <http://www.wikidata.org/prop/direct/>\n",
    "PREFIX schema: <http://schema.org/>\n",
    "SELECT ?person ?lbl WHERE {\n",
    "?person wdt:P31 wd:Q5 .\n",
    "?person rdfs:label ?lbl .\n",
    "}\n",
    "''')}\n",
    "\n",
    "len(people_list)"
   ]
  },
  {
   "cell_type": "code",
   "execution_count": 17,
   "id": "cedf2739",
   "metadata": {},
   "outputs": [
    {
     "data": {
      "text/plain": [
       "24384"
      ]
     },
     "execution_count": 17,
     "metadata": {},
     "output_type": "execute_result"
    }
   ],
   "source": [
    "movie_list = {str(uri):str(s) for uri,s in graph.query('''\n",
    "PREFIX ddis: <http://ddis.ch/atai/>\n",
    "PREFIX wd: <http://www.wikidata.org/entity/>\n",
    "PREFIX wdt: <http://www.wikidata.org/prop/direct/>\n",
    "PREFIX schema: <http://schema.org/>\n",
    "SELECT ?movie ?lbl WHERE {\n",
    "?movie wdt:P31 wd:Q11424 .\n",
    "?movie rdfs:label ?lbl .\n",
    "}\n",
    "''')}\n",
    "\n",
    "len(movie_list)"
   ]
  },
  {
   "cell_type": "code",
   "execution_count": 18,
   "id": "656cef68",
   "metadata": {},
   "outputs": [],
   "source": [
    "predicate_dict = {}\n",
    "prefix_string = \"PREFIX ddis: <http://ddis.ch/atai/> PREFIX wd: <http://www.wikidata.org/entity/> PREFIX wdt: <http://www.wikidata.org/prop/direct/> PREFIX schema: <http://schema.org/> \"\n",
    "for uri in predicates:\n",
    "    try:\n",
    "        p = uri.split(\"/\")[-1]\n",
    "        query_string = \"SELECT ?lbl WHERE { wdt:PREDICATE rdfs:label ?lbl . }\".replace(\"PREDICATE\",p)\n",
    "        res = graph.query(prefix_string + query_string)\n",
    "        label, = res\n",
    "        predicate_dict[str(uri)] = str(label[0])\n",
    "    except:\n",
    "        pass"
   ]
  },
  {
   "cell_type": "code",
   "execution_count": 19,
   "id": "d9beba94",
   "metadata": {},
   "outputs": [
    {
     "data": {
      "text/plain": [
       "{'http://www.wikidata.org/prop/direct/P931': 'place served by transport hub',\n",
       " 'http://www.wikidata.org/prop/direct/P6658': 'RCQ classification',\n",
       " 'http://www.wikidata.org/prop/direct/P915': 'filming location',\n",
       " 'http://www.wikidata.org/prop/direct/P108': 'employer',\n",
       " 'http://www.wikidata.org/prop/direct/P22': 'father',\n",
       " 'http://www.wikidata.org/prop/direct/P5970': 'Medierådet rating',\n",
       " 'http://www.wikidata.org/prop/direct/P3428': 'INCAA film rating',\n",
       " 'http://www.wikidata.org/prop/direct/P461': 'opposite of',\n",
       " 'http://www.wikidata.org/prop/direct/P4584': 'first appearance',\n",
       " 'http://www.wikidata.org/prop/direct/P3095': 'practiced by',\n",
       " 'http://www.wikidata.org/prop/direct/P466': 'occupant',\n",
       " 'http://www.wikidata.org/prop/direct/P2408': 'set in period',\n",
       " 'http://www.wikidata.org/prop/direct/P123': 'publisher',\n",
       " 'http://www.wikidata.org/prop/direct/P7327': 'OFLC classification',\n",
       " 'http://www.wikidata.org/prop/direct/P161': 'cast member',\n",
       " 'http://www.wikidata.org/prop/direct/P26': 'spouse',\n",
       " 'http://www.wikidata.org/prop/direct/P31': 'instance of',\n",
       " 'http://www.wikidata.org/prop/direct/P3373': 'sibling',\n",
       " 'http://www.wikidata.org/prop/direct/P195': 'collection',\n",
       " 'http://www.wikidata.org/prop/direct/P800': 'notable work',\n",
       " 'http://www.wikidata.org/prop/direct/P509': 'cause of death',\n",
       " 'http://www.wikidata.org/prop/direct/P3156': 'Australian Classification',\n",
       " 'http://www.wikidata.org/prop/direct/P1366': 'replaced by',\n",
       " 'http://www.wikidata.org/prop/direct/P725': 'voice actor',\n",
       " 'http://www.wikidata.org/prop/direct/P2341': 'indigenous to',\n",
       " 'http://www.wikidata.org/prop/direct/P2348': 'time period',\n",
       " 'http://www.wikidata.org/prop/direct/P937': 'work location',\n",
       " 'http://www.wikidata.org/prop/direct/P941': 'inspired by',\n",
       " 'http://www.wikidata.org/prop/direct/P527': 'has part',\n",
       " 'http://www.wikidata.org/prop/direct/P50': 'author',\n",
       " 'http://www.wikidata.org/prop/direct/P1552': 'has quality',\n",
       " 'http://www.wikidata.org/prop/direct/P138': 'named after',\n",
       " 'http://www.wikidata.org/prop/direct/P25': 'mother',\n",
       " 'http://www.wikidata.org/prop/direct/P3931': 'copyright holder',\n",
       " 'http://www.wikidata.org/prop/direct/P2438': 'narrator',\n",
       " 'http://www.wikidata.org/prop/direct/P3842': 'located in present-day administrative territorial entity',\n",
       " 'http://www.wikidata.org/prop/direct/P793': 'significant event',\n",
       " 'http://www.wikidata.org/prop/direct/P530': 'diplomatic relation',\n",
       " 'http://www.wikidata.org/prop/direct/P135': 'movement',\n",
       " 'http://www.wikidata.org/prop/direct/P425': 'field of this occupation',\n",
       " 'http://www.wikidata.org/prop/direct/P9215': 'set during recurring event',\n",
       " 'http://www.wikidata.org/prop/direct/P485': 'archives at',\n",
       " 'http://www.wikidata.org/prop/direct/P20': 'place of death',\n",
       " 'http://www.wikidata.org/prop/direct/P7936': 'business model',\n",
       " 'http://www.wikidata.org/prop/direct/P828': 'has cause',\n",
       " 'http://www.wikidata.org/prop/direct/P275': 'copyright license',\n",
       " 'http://www.wikidata.org/prop/direct/P8670': 'character designer',\n",
       " 'http://www.wikidata.org/prop/direct/P1142': 'political ideology',\n",
       " 'http://www.wikidata.org/prop/direct/P37': 'official language',\n",
       " 'http://www.wikidata.org/prop/direct/P1875': 'represented by',\n",
       " 'http://www.wikidata.org/prop/direct/P206': 'located in or next to body of water',\n",
       " 'http://www.wikidata.org/prop/direct/P1196': 'manner of death',\n",
       " 'http://www.wikidata.org/prop/direct/P1343': 'described by source',\n",
       " 'http://www.wikidata.org/prop/direct/P4805': 'make-up artist',\n",
       " 'http://www.wikidata.org/prop/direct/P69': 'educated at',\n",
       " 'http://www.wikidata.org/prop/direct/P57': 'director',\n",
       " 'http://www.wikidata.org/prop/direct/P3275': 'storyboard artist',\n",
       " 'http://www.wikidata.org/prop/direct/P629': 'edition or translation of',\n",
       " 'http://www.wikidata.org/prop/direct/P1029': 'crew member(s)',\n",
       " 'http://www.wikidata.org/prop/direct/P3174': 'art director',\n",
       " 'http://www.wikidata.org/prop/direct/P8371': 'references work, tradition or theory',\n",
       " 'http://www.wikidata.org/prop/direct/P3818': 'KMRB film rating',\n",
       " 'http://www.wikidata.org/prop/direct/P641': 'sport',\n",
       " 'http://www.wikidata.org/prop/direct/P2283': 'uses',\n",
       " 'http://www.wikidata.org/prop/direct/P361': 'part of',\n",
       " 'http://www.wikidata.org/prop/direct/P1376': 'capital of',\n",
       " 'http://www.wikidata.org/prop/direct/P8874': 'Hong Kong film rating',\n",
       " 'http://www.wikidata.org/prop/direct/P137': 'operator',\n",
       " 'http://www.wikidata.org/prop/direct/P7047': 'enemy of',\n",
       " 'http://www.wikidata.org/prop/direct/P5028': 'sound designer',\n",
       " 'http://www.wikidata.org/prop/direct/P1877': 'after a work by',\n",
       " 'http://www.wikidata.org/prop/direct/P2061': 'aspect ratio',\n",
       " 'http://www.wikidata.org/prop/direct/P144': 'based on',\n",
       " 'http://www.wikidata.org/prop/direct/P1399': 'convicted of',\n",
       " 'http://www.wikidata.org/prop/direct/P674': 'characters',\n",
       " 'http://www.wikidata.org/prop/direct/P112': 'founded by',\n",
       " 'http://www.wikidata.org/prop/direct/P3834': 'RTC film rating',\n",
       " 'http://www.wikidata.org/prop/direct/P825': 'dedicated to',\n",
       " 'http://www.wikidata.org/prop/direct/P449': 'original broadcaster',\n",
       " 'http://www.wikidata.org/prop/direct/P2142': 'box office',\n",
       " 'http://www.wikidata.org/prop/direct/P131': 'located in the administrative territorial entity',\n",
       " 'http://www.wikidata.org/prop/direct/P2936': 'language used',\n",
       " 'http://www.wikidata.org/prop/direct/P157': 'killed by',\n",
       " 'http://www.wikidata.org/prop/direct/P66': 'ancestral home',\n",
       " 'http://www.wikidata.org/prop/direct/P279': 'subclass of',\n",
       " 'http://www.wikidata.org/prop/direct/P2637': 'RARS rating',\n",
       " 'http://www.wikidata.org/prop/direct/P1431': 'executive producer',\n",
       " 'http://www.wikidata.org/prop/direct/P840': 'narrative location',\n",
       " 'http://www.wikidata.org/prop/direct/P2684': 'Kijkwijzer rating',\n",
       " 'http://www.wikidata.org/prop/direct/P175': 'performer',\n",
       " 'http://www.wikidata.org/prop/direct/P172': 'ethnic group',\n",
       " 'http://www.wikidata.org/prop/direct/P2546': 'sidekick of',\n",
       " 'http://www.wikidata.org/prop/direct/P1576': 'lifestyle',\n",
       " 'http://www.wikidata.org/prop/direct/P737': 'influenced by',\n",
       " 'http://www.wikidata.org/prop/direct/P54': 'member of sports team',\n",
       " 'http://www.wikidata.org/prop/direct/P3300': 'musical conductor',\n",
       " 'http://www.wikidata.org/prop/direct/P150': 'contains administrative territorial entity',\n",
       " 'http://www.wikidata.org/prop/direct/P451': 'unmarried partner',\n",
       " 'http://www.wikidata.org/prop/direct/P306': 'operating system',\n",
       " 'http://www.wikidata.org/prop/direct/P7573': 'IFCO rating',\n",
       " 'http://www.wikidata.org/prop/direct/P452': 'industry',\n",
       " 'http://www.wikidata.org/prop/direct/P180': 'depicts',\n",
       " 'http://www.wikidata.org/prop/direct/P750': 'distributed by',\n",
       " 'http://www.wikidata.org/prop/direct/P101': 'field of work',\n",
       " 'http://www.wikidata.org/prop/direct/P400': 'platform',\n",
       " 'http://www.wikidata.org/prop/direct/P1657': 'MPAA film rating',\n",
       " 'http://www.wikidata.org/prop/direct/P1037': 'director / manager',\n",
       " 'http://www.wikidata.org/prop/direct/P8889': 'MTRCB rating',\n",
       " 'http://www.wikidata.org/prop/direct/P460': 'said to be the same as',\n",
       " 'http://www.wikidata.org/prop/direct/P2650': 'interested in',\n",
       " 'http://www.wikidata.org/prop/direct/P5021': 'assessment',\n",
       " 'http://www.wikidata.org/prop/direct/P8411': 'set in environment',\n",
       " 'http://www.wikidata.org/prop/direct/P3402': 'CNC film rating (Romania)',\n",
       " 'http://www.wikidata.org/prop/direct/P140': 'religion',\n",
       " 'http://www.wikidata.org/prop/direct/P2515': 'costume designer',\n",
       " 'http://www.wikidata.org/prop/direct/P3216': 'ClassInd rating',\n",
       " 'http://www.wikidata.org/prop/direct/P747': 'has edition or translation',\n",
       " 'http://www.wikidata.org/prop/direct/P1299': 'depicted by',\n",
       " 'http://www.wikidata.org/prop/direct/P1532': 'country for sport',\n",
       " 'http://www.wikidata.org/prop/direct/P4908': 'season',\n",
       " 'http://www.wikidata.org/prop/direct/P47': 'shares border with',\n",
       " 'http://www.wikidata.org/prop/direct/P1445': 'fictional universe described in',\n",
       " 'http://www.wikidata.org/prop/direct/P1038': 'relative',\n",
       " 'http://www.wikidata.org/prop/direct/P1027': 'conferred by',\n",
       " 'http://www.wikidata.org/prop/direct/P1589': 'lowest point',\n",
       " 'http://www.wikidata.org/prop/direct/P179': 'part of the series',\n",
       " 'http://www.wikidata.org/prop/direct/P2554': 'production designer',\n",
       " 'http://www.wikidata.org/prop/direct/P479': 'input method',\n",
       " 'http://www.wikidata.org/prop/direct/P462': 'color',\n",
       " 'http://www.wikidata.org/prop/direct/P17': 'country',\n",
       " 'http://www.wikidata.org/prop/direct/P30': 'continent',\n",
       " 'http://www.wikidata.org/prop/direct/P1429': 'has pet',\n",
       " 'http://www.wikidata.org/prop/direct/P2360': 'intended public',\n",
       " 'http://www.wikidata.org/prop/direct/P27': 'country of citizenship',\n",
       " 'http://www.wikidata.org/prop/direct/P241': 'military branch',\n",
       " 'http://www.wikidata.org/prop/direct/P669': 'located on street',\n",
       " 'http://www.wikidata.org/prop/direct/P366': 'use',\n",
       " 'http://www.wikidata.org/prop/direct/P6962': 'narrative motif',\n",
       " 'http://www.wikidata.org/prop/direct/P5072': 'presented in',\n",
       " 'http://www.wikidata.org/prop/direct/P802': 'student',\n",
       " 'http://www.wikidata.org/prop/direct/P190': 'twinned administrative body',\n",
       " 'http://www.wikidata.org/prop/direct/P4608': 'scenographer',\n",
       " 'http://www.wikidata.org/prop/direct/P7937': 'form of creative work',\n",
       " 'http://www.wikidata.org/prop/direct/P1995': 'health specialty',\n",
       " 'http://www.wikidata.org/prop/direct/P5940': 'plot expanded in',\n",
       " 'http://www.wikidata.org/prop/direct/P2756': 'EIRIN film rating',\n",
       " 'http://www.wikidata.org/prop/direct/P1981': 'FSK film rating',\n",
       " 'http://www.wikidata.org/prop/direct/P735': 'given name',\n",
       " 'http://www.wikidata.org/prop/direct/P2629': 'BBFC rating',\n",
       " 'http://www.wikidata.org/prop/direct/P6': 'head of government',\n",
       " 'http://www.wikidata.org/prop/direct/P272': 'production company',\n",
       " 'http://www.wikidata.org/prop/direct/P2416': 'sports discipline competed in',\n",
       " 'http://www.wikidata.org/prop/direct/P276': 'location',\n",
       " 'http://www.wikidata.org/prop/direct/P767': 'contributor to the creative work or subject',\n",
       " 'http://www.wikidata.org/prop/direct/P5389': 'permanent resident of',\n",
       " 'http://www.wikidata.org/prop/direct/P1066': 'student of',\n",
       " 'http://www.wikidata.org/prop/direct/P3650': 'JMK film rating',\n",
       " 'http://www.wikidata.org/prop/direct/P159': 'headquarters location',\n",
       " 'http://www.wikidata.org/prop/direct/P832': 'public holiday',\n",
       " 'http://www.wikidata.org/prop/direct/P1809': 'choreographer',\n",
       " 'http://www.wikidata.org/prop/direct/P1416': 'affiliation',\n",
       " 'http://www.wikidata.org/prop/direct/P3803': 'original film format',\n",
       " 'http://www.wikidata.org/prop/direct/P1542': 'has effect',\n",
       " 'http://www.wikidata.org/prop/direct/P749': 'parent organization',\n",
       " 'http://www.wikidata.org/prop/direct/P1056': 'product or material produced',\n",
       " 'http://www.wikidata.org/prop/direct/P407': 'language of work or name',\n",
       " 'http://www.wikidata.org/prop/direct/P2632': 'place of detention',\n",
       " 'http://www.wikidata.org/prop/direct/P3448': 'stepparent',\n",
       " 'http://www.wikidata.org/prop/direct/P2747': 'Filmiroda rating',\n",
       " 'http://www.wikidata.org/prop/direct/P551': 'residence',\n",
       " 'http://www.wikidata.org/prop/direct/P945': 'allegiance',\n",
       " 'http://www.wikidata.org/prop/direct/P21': 'sex or gender',\n",
       " 'http://www.wikidata.org/prop/direct/P287': 'designed by',\n",
       " 'http://www.wikidata.org/prop/direct/P4437': 'FPB rating',\n",
       " 'http://www.wikidata.org/prop/direct/P463': 'member of',\n",
       " 'http://www.wikidata.org/prop/direct/P127': 'owned by',\n",
       " 'http://www.wikidata.org/prop/direct/P5152': 'KAVI rating',\n",
       " 'http://www.wikidata.org/prop/direct/P2079': 'fabrication method',\n",
       " 'http://www.wikidata.org/prop/direct/P3092': 'film crew member',\n",
       " 'http://www.wikidata.org/prop/direct/P1346': 'winner',\n",
       " 'http://www.wikidata.org/prop/direct/P3301': 'broadcast by',\n",
       " 'http://www.wikidata.org/prop/direct/P5096': 'member of the crew of',\n",
       " 'http://www.wikidata.org/prop/direct/P6886': 'writing language',\n",
       " 'http://www.wikidata.org/prop/direct/P103': 'native language',\n",
       " 'http://www.wikidata.org/prop/direct/P6216': 'copyright status',\n",
       " 'http://www.wikidata.org/prop/direct/P2541': 'operating area',\n",
       " 'http://www.wikidata.org/prop/direct/P437': 'distribution format',\n",
       " 'http://www.wikidata.org/prop/direct/P8345': 'media franchise',\n",
       " 'http://www.wikidata.org/prop/direct/P106': 'occupation',\n",
       " 'http://www.wikidata.org/prop/direct/P18': 'image',\n",
       " 'http://www.wikidata.org/prop/direct/P156': 'followed by',\n",
       " 'http://www.wikidata.org/prop/direct/P577': 'publication date',\n",
       " 'http://www.wikidata.org/prop/direct/P2563': 'superhuman feature or ability',\n",
       " 'http://www.wikidata.org/prop/direct/P1080': 'from narrative universe',\n",
       " 'http://www.wikidata.org/prop/direct/P1269': 'facet of',\n",
       " 'http://www.wikidata.org/prop/direct/P136': 'genre',\n",
       " 'http://www.wikidata.org/prop/direct/P6275': 'copyright representative',\n",
       " 'http://www.wikidata.org/prop/direct/P91': 'sexual orientation',\n",
       " 'http://www.wikidata.org/prop/direct/P1455': 'list of works',\n",
       " 'http://www.wikidata.org/prop/direct/P1434': 'takes place in fictional universe',\n",
       " 'http://www.wikidata.org/prop/direct/P6166': 'quotes work',\n",
       " 'http://www.wikidata.org/prop/direct/P344': 'director of photography',\n",
       " 'http://www.wikidata.org/prop/direct/P921': 'main subject',\n",
       " 'http://www.wikidata.org/prop/direct/P2363': 'NMHH film rating',\n",
       " 'http://www.wikidata.org/prop/direct/P155': 'follows',\n",
       " 'http://www.wikidata.org/prop/direct/P1344': 'participant in',\n",
       " 'http://www.wikidata.org/prop/direct/P2758': 'CNC film rating (France)',\n",
       " 'http://www.wikidata.org/prop/direct/P740': 'location of formation',\n",
       " 'http://www.wikidata.org/prop/direct/P3342': 'significant person',\n",
       " 'http://www.wikidata.org/prop/direct/P40': 'child',\n",
       " 'http://www.wikidata.org/prop/direct/P1441': 'present in work',\n",
       " 'http://www.wikidata.org/prop/direct/P706': 'located on terrain feature',\n",
       " 'http://www.wikidata.org/prop/direct/P364': 'original language of film or TV show',\n",
       " 'http://www.wikidata.org/prop/direct/P5150': 'IGAC rating',\n",
       " 'http://www.wikidata.org/prop/direct/P1382': 'partially coincident with',\n",
       " 'http://www.wikidata.org/prop/direct/P97': 'noble title',\n",
       " 'http://www.wikidata.org/prop/direct/P4969': 'derivative work',\n",
       " 'http://www.wikidata.org/prop/direct/P166': 'award received',\n",
       " 'http://www.wikidata.org/prop/direct/P119': 'place of burial',\n",
       " 'http://www.wikidata.org/prop/direct/P291': 'place of publication',\n",
       " 'http://www.wikidata.org/prop/direct/P3306': 'ICAA rating',\n",
       " 'http://www.wikidata.org/prop/direct/P35': 'head of state',\n",
       " 'http://www.wikidata.org/prop/direct/P1411': 'nominated for',\n",
       " 'http://www.wikidata.org/prop/direct/P1327': 'partner in business or sport',\n",
       " 'http://www.wikidata.org/prop/direct/P170': 'creator',\n",
       " 'http://www.wikidata.org/prop/direct/P1365': 'replaces',\n",
       " 'http://www.wikidata.org/prop/direct/P710': 'participant',\n",
       " 'http://www.wikidata.org/prop/direct/P263': 'official residence',\n",
       " 'http://www.wikidata.org/prop/direct/P1889': 'different from',\n",
       " 'http://www.wikidata.org/prop/direct/P1165': 'home world',\n",
       " 'http://www.wikidata.org/prop/direct/P345': 'IMDb ID',\n",
       " 'http://www.wikidata.org/prop/direct/P1830': 'owner of',\n",
       " 'http://www.wikidata.org/prop/direct/P9086': 'BAMID film rating',\n",
       " 'http://www.wikidata.org/prop/direct/P2860': 'cites work',\n",
       " 'http://www.wikidata.org/prop/direct/P178': 'developer',\n",
       " 'http://www.wikidata.org/prop/direct/P371': 'presenter',\n",
       " 'http://www.wikidata.org/prop/direct/P1001': 'applies to jurisdiction',\n",
       " 'http://www.wikidata.org/prop/direct/P1050': 'medical condition',\n",
       " 'http://www.wikidata.org/prop/direct/P6379': 'has works in the collection',\n",
       " 'http://www.wikidata.org/prop/direct/P5201': 'IMDA rating',\n",
       " 'http://www.wikidata.org/prop/direct/P205': 'basin country',\n",
       " 'http://www.wikidata.org/prop/direct/P19': 'place of birth',\n",
       " 'http://www.wikidata.org/prop/direct/P1040': 'film editor',\n",
       " 'http://www.wikidata.org/prop/direct/P495': 'country of origin',\n",
       " 'http://www.wikidata.org/prop/direct/P1433': 'published in',\n",
       " 'http://www.wikidata.org/prop/direct/P6942': 'animator',\n",
       " 'http://www.wikidata.org/prop/direct/P607': 'conflict',\n",
       " 'http://www.wikidata.org/prop/direct/P1412': 'languages spoken, written or signed',\n",
       " 'http://www.wikidata.org/prop/direct/P7959': 'historic county',\n",
       " 'http://www.wikidata.org/prop/direct/P58': 'screenwriter',\n",
       " 'http://www.wikidata.org/prop/direct/P36': 'capital'}"
      ]
     },
     "execution_count": 19,
     "metadata": {},
     "output_type": "execute_result"
    }
   ],
   "source": [
    "predicate_dict"
   ]
  },
  {
   "cell_type": "code",
   "execution_count": 20,
   "id": "2981c7a1",
   "metadata": {},
   "outputs": [],
   "source": [
    "# Defining some dictionaries for mapping wrods to predicates\n",
    "roles_ner = {\n",
    "    \"actor\":\"P161\",\n",
    "    \"cast\":\"P161\",\n",
    "    \"cast member\":\"P161\",\n",
    "    \"director\":\"P57\",\n",
    "    \"screenwriter\":\"P58\",\n",
    "    \"producer\":\"P162\",\n",
    "    \"developer\" : \"P178\",\n",
    "    \"film editor\" : \"P1040\",\n",
    "    \"director of photography\" : \"P344\",\n",
    "    \"film crew member\" : \"P2079\",\n",
    "    \"choreographer\" : \"P1809\",\n",
    "    #\"father\" : \"P22\",\n",
    "    #\"spouse\" : \"P26\",\n",
    "    \"art director\" : \"P3174\",\n",
    "    #\"winner\" : \"P1346\",\n",
    "    \"author\" : \"P50\",\n",
    "    \"presenter\" : \"P371\",\n",
    "    \"narrator\" : \"P2438\",\n",
    "    \"animator\" : \"P6942\",\n",
    "    \"creator\" : \"P170\",\n",
    "    #\"student\" : \"P802\",\n",
    "    #\"mother\" : \"P25\",\n",
    "    \"participant\" : \"P710\",\n",
    "    \"member of the crew of\" : \"P5096\",\n",
    "    \"voice actor\" : \"P725\",\n",
    "    #\"employer\" : \"P108\",\n",
    "    \"publisher\" : \"P123\",\n",
    "    \"musical conductor\" : \"P3300\",\n",
    "    \"operator\" : \"P137\",\n",
    "    \"performer\" : \"P175\"\n",
    "}\n",
    "\n",
    "actions_ner = {\n",
    "    \"acted\":\"P161\",\n",
    "    \"directed\":\"P57\",\n",
    "    \"screenwrote\":\"P58\",\n",
    "    \"wrote\":\"P58\",\n",
    "    \"written\":\"P58\",\n",
    "    \"produced\":\"P162\",\n",
    "    \"featured\":\"P161\",\n",
    "    \"featuring\":\"P161\", \n",
    "    \"recorded\" : None,\n",
    "    #\"appeared\" : None,\n",
    "    \"appear\" : None,\n",
    "    \"direct\" : None,\n",
    "    #\"produced\" : None,\n",
    "    \"produce\" : None,\n",
    "    \"filmed\" : None,\n",
    "    \"edit\" : None,\n",
    "    #\"film\" : None,\n",
    "    \"edited\" : None,\n",
    "    #\"cast\" : None,\n",
    "    \"shoot\" : None,\n",
    "    \"premiere\" : None,\n",
    "    #\"release\" : None,\n",
    "    \"distribute\" : None,\n",
    "    \"directing\":None,\n",
    "    \"played\": None,\n",
    "    \"made\": None,\n",
    "    \"authored\": None,\n",
    "    \"appears\": None\n",
    "}\n",
    "\n",
    "predicates_ner = {\n",
    "    \"release\" : \"P577\",\n",
    "    \"when\" : \"P577\",\n",
    "    #\"release year\": \"P577\",\n",
    "    \"date\": \"P577\",\n",
    "    \"year\": \"P577\",\n",
    "    #\"date of release\": \"P577\",\n",
    "    \"genre\": \"P136\",\n",
    "    \"type\": \"P136\",\n",
    "    \"category\": \"P136\",\n",
    "    #\"ratings\": \"P444\",\n",
    "    \"rated\": \"P444\",\n",
    "    \"rating\": \"P444\",\n",
    "    \"review\": \"P444\",\n",
    "    \"score\":\"P444\",\n",
    "    # Consider if this is the right place to have it\n",
    "    \"suggest\": None,\n",
    "    \"recommend\": None\n",
    "}\n",
    "\n",
    "numbers_ner = [\n",
    "    \"one\",\n",
    "    \"two\",\n",
    "    \"three\",\n",
    "    \"four\",\n",
    "    \"five\",\n",
    "    \"six\",\n",
    "    \"seven\",\n",
    "    \"eight\",\n",
    "    \"nine\",\n",
    "    \"ten\",\n",
    "    \"eleven\",\n",
    "    \"twelve\",\n",
    "    \"thirteen\",\n",
    "    \"fourteen\",\n",
    "    \"fifteen\",\n",
    "    \"sixteen\",\n",
    "    \"seventeen\",\n",
    "    \"eighteen\",\n",
    "    \"nineteen\",\n",
    "    \"twenty\"\n",
    "]\n",
    "\n",
    "nums = list(range(1, 21))\n",
    "nums = list(map(str, nums))\n",
    "numbers_ner.extend(nums)\n",
    "\n",
    "years_ner = list(range(1678, 2025))\n",
    "years_ner = list(map(str, years_ner))\n",
    "\n",
    "\n",
    "genres_ner = {v.replace(\" film\",\"\"):k for k,v in genre_list.items()}\n",
    "genres_ner = {k.replace(\"genre\",\"\").strip():v for k,v in genres_ner.items()}\n",
    "del(genres_ner['film score'])"
   ]
  },
  {
   "cell_type": "code",
   "execution_count": 21,
   "id": "6d5370a9",
   "metadata": {},
   "outputs": [
    {
     "data": {
      "text/plain": [
       "['one',\n",
       " 'two',\n",
       " 'three',\n",
       " 'four',\n",
       " 'five',\n",
       " 'six',\n",
       " 'seven',\n",
       " 'eight',\n",
       " 'nine',\n",
       " 'ten',\n",
       " 'eleven',\n",
       " 'twelve',\n",
       " 'thirteen',\n",
       " 'fourteen',\n",
       " 'fifteen',\n",
       " 'sixteen',\n",
       " 'seventeen',\n",
       " 'eighteen',\n",
       " 'nineteen',\n",
       " 'twenty',\n",
       " '1',\n",
       " '2',\n",
       " '3',\n",
       " '4',\n",
       " '5',\n",
       " '6',\n",
       " '7',\n",
       " '8',\n",
       " '9',\n",
       " '10',\n",
       " '11',\n",
       " '12',\n",
       " '13',\n",
       " '14',\n",
       " '15',\n",
       " '16',\n",
       " '17',\n",
       " '18',\n",
       " '19',\n",
       " '20']"
      ]
     },
     "execution_count": 21,
     "metadata": {},
     "output_type": "execute_result"
    }
   ],
   "source": [
    "numbers_ner"
   ]
  },
  {
   "cell_type": "code",
   "execution_count": 33,
   "id": "13977863",
   "metadata": {},
   "outputs": [],
   "source": [
    "sentence_list_1=[ #Person search\n",
    "    \"Give me the <role> of <movie_name>\",\n",
    "    \"Give me the name of the <role> of <movie_name>\",\n",
    "    \"I'd like to know the <role>'s name for <movie_name>\",\n",
    "    \"I'm curious about the person who <directed/wrote> <movie_name>\",\n",
    "    \"Identify the <role> of <movie_name>\",\n",
    "    \"Tell me the <role> behind <movie_name>\",\n",
    "    \"Tell me the <role> for <movie_name>\",\n",
    "    \"Tell me the <role> of <movie_name>\",\n",
    "    \"What is the <role>'s name for the movie <movie_name>?\",\n",
    "    \"Who <role> in <movie_name>?\",\n",
    "    \"Who <directed/wrote> <movie_name>?\",\n",
    "    \"Who <directed/wrote> the movie <movie_name>?\",\n",
    "    \"Who is the <role> of <movie_name>?\",\n",
    "    \"Who is the <role> of the film <movie_name>?\",\n",
    "    \"Who oversaw the making of <movie_name>\",\n",
    "    \"Who was in charge of directing <movie_name>?\",\n",
    "    \"Who was the <role> of <movie_name>\"\n",
    "]\n",
    "\n",
    "sentence_list_2 = [ # Movie search\n",
    "    \"Give me a list of <genre> movies directed by <name>\",\n",
    "    \"Give me a list of <genre> movies featuring <name>\",\n",
    "    \"Give me a list of <genre> movies written by <name>\",\n",
    "    \"Give me a list of movies directed by <name>\",\n",
    "    \"Give me a list of movies featuring <name>\",\n",
    "    \"Give me a list of movies written by <name>\",\n",
    "    \"In which movies did <name> played a role?\",\n",
    "    \"In which movies does <name> appear?\",\n",
    "    \"List <genre> films written by <name>\",\n",
    "    \"List movies which were directed by <name>\",\n",
    "    \"List movies which were written by <name>\",\n",
    "    \"List the films made by <name>\",\n",
    "    \"List films authored by <name>\",\n",
    "    \"Retrieve the films authored by <name>\",\n",
    "    \"Retrieve the films directed by <name>\",\n",
    "    \"Retrieve the <genre> films with screenplays authored by <name>\",\n",
    "    \"Select all the movies of <name>\",\n",
    "    \"Select all the movies with <name>\",\n",
    "    \"Show me <genre> movies directed by <name>\",\n",
    "    \"Show me <genre> movies written by <name>\",\n",
    "    \"Show me the films directed by <name>\",\n",
    "    \"Show me movies written by <name>\",\n",
    "    \"Show me the films where <name> appears\",\n",
    "    \"Show me the films with <name> in the cast\",\n",
    "    \"Tell me the movies where <name> makes appearances\",\n",
    "    \"What are the movies with <name> as a cast member?\",\n",
    "    \"Which <genre> films has <name> directed?\",\n",
    "    \"Which <genre> films has <name> written?\",\n",
    "    \"Which films has <name> written?\",\n",
    "    \"Which movies has <name> <acted/wrote>\",\n",
    "    \"Which movies has <name> directed?\"\n",
    "]\n",
    "\n",
    "sentence_list_3 = [ # retrieve release date\n",
    "    \"Could you let me know the release date for <movie_name>?\",\n",
    "    \"Could you tell me when <movie_name> was first shown?\",\n",
    "    \"Give me the release date for <movie_name>\",\n",
    "    \"I'd like to know the release date of the movie <movie_name>\",\n",
    "    \"Please provide the release year for <movie_name>\",\n",
    "    \"Tell me the release date of <movie_name>\",\n",
    "    \"What's the date of release for <movie_name>?\",\n",
    "    \"What's the release year of the movie <movie_name>?\",\n",
    "    \"What's the launch date of <movie_name>?\",\n",
    "    \"What's the debut date for <movie_name>?\",\n",
    "    \"What is the release year of <movie_name>?\",\n",
    "    \"When did <movie_name> come out?\",\n",
    "    \"When did <movie_name> hit the theaters?\",\n",
    "    \"When was <movie_name> released?\",\n",
    "    \"When was <movie_name> launched?\",\n",
    "    \"When was the movie <movie_name> released?\",\n",
    "    \"When did <movie_name> first appear in cinemas?\"\n",
    "]\n",
    "\n",
    "sentence_list_4 = [ # genre\n",
    "    \"Give me the genre for the movie <movie_name>\",\n",
    "    \"I'd like to know the genre of <movie_name>\",\n",
    "    \"I'm curious about the genre of <movie_name>\",\n",
    "    \"In which genre does '<movie_name>' fit?\",\n",
    "    \"Identify the movie genre for <movie_name>\",\n",
    "    \"Tell me the genre of <movie_name>\",\n",
    "    \"Tell me the type of film that is <movie_name>\",\n",
    "    \"What category does <movie_name> fall into?\",\n",
    "    \"What genre is associated with <movie_name>?\",\n",
    "    \"What is the movie genre for <movie_name>?\",\n",
    "    \"What is the genre of <movie_name>?\",\n",
    "    \"Which category does <movie_name> fit into?\",\n",
    "    \"Which genre does the movie <movie_name> belong to?\",\n",
    "    \"Which genre does <movie_name> belong to?\"\n",
    "]\n",
    "\n",
    "sentence_list_5 = [ #ratings\n",
    "    \"Display the movies with the <highest/lowest> ratings\",\n",
    "    \"Give me the <top/bottom> <number> movies based on rating\",\n",
    "    \"Give me the <top/bottom> rated movies\",\n",
    "    \"Give me the <highest/lowest>-rated films\",\n",
    "    \"Give me the <top/bottom> <number> movies based on rating\",\n",
    "    \"Give me the <top/bottom> rated movies\",\n",
    "    \"Give me the movie that has the <highest/lowest> user rating\",\n",
    "    \"I'd like to know the movie with the <highest/lowest> user rating\",\n",
    "    \"I'm curious about the movie with the <highest/lowest> user rating\",\n",
    "    \"Identify the film with the <highest/lowest> user rating\",\n",
    "    \"I want to see the <top/bottom>-rated movies\",\n",
    "    \"List the movies with the <best/worst> ratings\",\n",
    "    \"Provide a list of the <top/bottom>-rated movies\",\n",
    "    \"Retrieve the movies with the <highest/lowest> ratings\",\n",
    "    \"Show me the <highest/lowest>-rated films\",\n",
    "    \"Show the movies with the <best/worst> ratings\",\n",
    "    \"Tell me the film that received the <highest/lowest> user rating\",\n",
    "    \"Tell me the movie with the <highest/lowest> user rating\",\n",
    "    \"What are the most <highest/lowest>-rated films?\",\n",
    "    \"What is the movie with the <highest/lowest> user rating?\",\n",
    "    \"What movie has the <highest/lowest> user rating?\",\n",
    "    \"Which film received the <highest/lowest> user rating?\",\n",
    "    \"Which movie has the <highest/lowest> user rating?\",\n",
    "    \"Which movie is rated the <highest/lowest> by users?\"\n",
    "]\n",
    "\n",
    "sentence_list_6 = [\n",
    "    \"Show me the <highest/lowest>-rated <genre> films\",\n",
    "    \"List the <genre> movies with the <best/worst> ratings\",\n",
    "    \"I want to see the <top/bottom>-rated <genre> movies\",\n",
    "    \"Display the <genre> movies with the <highest/lowest> ratings\",\n",
    "    \"What are the most highly-rated <genre> films?\",\n",
    "    \"Provide a list of the <top/bottom>-rated <genre> movies\",\n",
    "    \"Give me the <highest/lowest>-rated <genre> films\",\n",
    "    \"Show the movies with the <best/worst> <genre> ratings\",\n",
    "    \"Retrieve the movies with the <highest/lowest> <genre> ratings\",\n",
    "]\n",
    "\n",
    "sentence_list_7 = [\n",
    "    \"Show me the <highest/lowest>-rated <genre> films <action> <name>\",\n",
    "    \"List the <genre> movies with the <best/worst> ratings <action> <name>\",\n",
    "    \"I want to see the <top/bottom>-rated <genre> movies <action> <name>\",\n",
    "    \"Display the <genre> movies with the <highest/lowest> ratings <action> <name>\",\n",
    "    \"What are the most highly-rated <genre> films <action> <name>?\",\n",
    "    \"Provide a list of the <top/bottom>-rated <genre> movies <action> <name>\",\n",
    "    \"Give me the <highest/lowest>-rated <genre> films <action> <name>\",\n",
    "    \"Show the movies with the <best/worst> <genre> ratings <action> <name>\",\n",
    "    \"Retrieve the movies with the <highest/lowest> <genre> ratings <action> <name>\",\n",
    "\n",
    "    \"List the <genre> movies <action> <name> with the <best/worst> ratings\",\n",
    "    \"Display the <genre> movies <action> <name> with the <highest/lowest> ratings\",\n",
    "    \"Provide a list of the <top/bottom>-rated <genre> movies\",\n",
    "    \"Show the movies <action> <name> with the <best/worst> <genre> ratings\",\n",
    "    \"Retrieve the movies <action> <name> with the <highest/lowest> <genre> ratings\",\n",
    "]\n",
    "\n",
    "sentence_list_8 = [ # year-related\n",
    "    \"List the movies released in <year>\",\n",
    "    \"Which movies were directed by <name> in <year>?\",\n",
    "    \"What movies were released in <year>?\",\n",
    "    \"What movies did <name> appear in in <year>?\",\n",
    "    \"List the films featuring <name> in <year>\",\n",
    "    \"Provide the filmography of <name> in <year>\",\n",
    "    \"Which movies starred <name> in <year>?\",\n",
    "    \"Which roles were played by <name> in <year>?\"\n",
    "]\n",
    "\n",
    "sentence_list_9 = [ #Top/lowest N (based on release date)\n",
    "    \"What are the <best/worst> <number> movies <name> directed?\",\n",
    "    \"List the <best/worst> <number> movies directed by <name>\",\n",
    "    \"What are the <best/worst> <number> movies <name> directed?\",\n",
    "    \"What are the <best/worst> <number> <genre> movies <name> directed?\",\n",
    "    \"Which are the <best/worst> movies where <name> appeared?\",\n",
    "    \"Can you name the <best/worst> <number> <genre> movies directed by <name>?\",\n",
    "    \"Can you list the <best/worst> <number> films with <name> in the cast?\",\n",
    "    \"What are the <best/worst> <number> movies starring <name>\"\n",
    "]\n",
    "\n",
    "sentence_list_10 = [ #Yes/No\n",
    "    \"Is <name> in the cast of <movie_name>?\",\n",
    "    \"Did <name> direct <movie_name>?\",\n",
    "    \"Was the <movie> released in <year>?\",\n",
    "    \"Is <name> part of the cast of <movie_name>?\",\n",
    "    \"Was <movie_name> released before <year>?\",\n",
    "    \"Is <movie_name> classified as <genre>?\",\n",
    "    \"Did <name> appear in <movie_name>?\",\n",
    "]\n",
    "\n",
    "sentence_list_11 = [\n",
    "    # Movie recommendation\n",
    "    # Three movies\n",
    "    \"Given that I like <movie_name>, <movie_name>, and <movie_name>, can you recommend some movies?\",\n",
    "    \"Recommend movies like <movie_name>, <movie_name>, and <movie_name>\",\n",
    "    \"Since I enjoy <movie_name>, <movie_name>, and <movie_name>, do you have any movie recommendations for me?\",\n",
    "    \"I'm a fan of <movie_name>, <movie_name>, and <movie_name>. Any suggestions for similar movies?\",\n",
    "    \"Considering my liking for <movie_name>, <movie_name>, and <movie_name>, could you suggest some other films I might enjoy?\",\n",
    "    \"Given my interest in <movie_name>, <movie_name>, and <movie_name>, can you recommend additional movies for me to watch?\",\n",
    "    \"If I enjoy <movie_name>, <movie_name>, and <movie_name>, what other movies would you suggest?\",\n",
    "    \"Being a fan of <movie_name>, <movie_name>, and <movie_name>, are there similar movies you'd recommend?\",\n",
    "    \"Since I like <movie_name>, <movie_name>, and <movie_name>, what other movies do you think I might like?\",\n",
    "    \"I've enjoyed <movie_name>, <movie_name>, and <movie_name>. Any recommendations for movies in a similar vein?\",\n",
    "    \"Given my preference for <movie_name>, <movie_name>, and <movie_name>, what other films should I check out?\",\n",
    "    \"If <movie_name>, <movie_name>, and <movie_name> are my preferences, do you have any movie recommendations for me?\",\n",
    "    \"Suggest films similar to <movie_name>, <movie_name>, and <movie_name>\",\n",
    "    \"Can you recommend movies akin to <movie_name>, <movie_name>, and <movie_name>?\",\n",
    "    \"Looking for movies in the same vein as <movie_name>, <movie_name>, and <movie_name>. Any recommendations?\",\n",
    "    \"Seeking recommendations for movies like <movie_name>, <movie_name>, and <movie_name>\",\n",
    "    \"Do you know any movie similar to <movie_name>, <movie_name>, and <movie_name>\",\n",
    "    \"I'm on the lookout for captivating films that share a vibe with <movie_name>, <movie_name>, and <movie_name>. Any suggestions that align with these favorites of mine?\",\n",
    "    \"In the mood for something reminiscent of <movie_name>, <movie_name>, and <movie_name>. Any movie recommendations that capture a similar essence?\",\n",
    "    \"If my taste for movies like <movie_name>, <movie_name>, and <movie_name> is any indication, what other films should I consider watching?\",\n",
    "    \"Looking to expand my movie playlist based on the likes of <movie_name>, <movie_name>, and <movie_name>. Any hidden gems you'd recommend?\",\n",
    "    \"If the cinematic style of <movie_name>, <movie_name>, and <movie_name> resonates with you, could you suggest other films that share a similar appeal?\",\n",
    "    \"Enjoyed the storytelling in <movie_name>, <movie_name>, and <movie_name>. Any recommendations for movies that weave narratives in a comparable fashion?\",\n",
    "    \"Based on the cinematic experience of <movie_name>, <movie_name>, and <movie_name>, are there any other films you'd suggest to keep the excitement alive?\",\n",
    "    \"If the movie magic of <movie_name>, <movie_name>, and <movie_name> has left a lasting impression, what other films do you think would leave me equally enchanted?\",\n",
    "    \"Immersed in the world of <movie_name>, <movie_name>, and <movie_name>, I'm curious about your recommendations for movies that provide a similar level of immersion.\",\n",
    "    \"Exploring films akin to <movie_name>, <movie_name>, and <movie_name> — any suggestions to keep the cinematic journey going?\",\n",
    "    \"Captivated by the storytelling in <movie_name>, <movie_name>, and <movie_name>. What other films do you think would tell a tale in a way that resonates with me?\",\n",
    "    \n",
    "    \n",
    "    \n",
    "    #Two movies\n",
    "    \"Being a fan of <movie_name> and <movie_name>, are there similar movies you'd recommend?\",\n",
    "    \"Based on the cinematic experience of <movie_name> and <movie_name>, are there any other films you'd suggest to keep the excitement alive?\",\n",
    "    \"Can you recommend movies akin to <movie_name> and <movie_name>?\",\n",
    "    \"Captivated by the storytelling in <movie_name> and <movie_name>. What other films do you think would tell a tale in a way that resonates with me?\",\n",
    "    \"Considering my liking for <movie_name> and <movie_name>, could you suggest some other films I might enjoy?\",\n",
    "    \"Do you know any movie similar to <movie_name> and <movie_name>?\",\n",
    "    \"Enjoyed the storytelling in <movie_name> and <movie_name>. Any recommendations for movies that weave narratives in a comparable fashion?\",\n",
    "    \"Given my interest in <movie_name> and <movie_name>, can you recommend additional movies for me to watch?\",\n",
    "    \"Given my preference for <movie_name> and <movie_name>, what other films should I check out?\",\n",
    "    \"I'm a fan of <movie_name> and <movie_name>. Any suggestions for similar movies?\",\n",
    "    \"If I enjoy <movie_name> and <movie_name>, what other movies would you suggest?\",\n",
    "    \"I've enjoyed <movie_name> and <movie_name>. Any recommendations for movies in a similar vein?\",\n",
    "    \"Looking for movies in the same vein as <movie_name> and <movie_name>. Any recommendations?\",\n",
    "    \"Recommend movies like <movie_name> and <movie_name>\",\n",
    "    \"Seeking recommendations for movies like <movie_name> and <movie_name>\",\n",
    "    \"Since I enjoy <movie_name> and <movie_name>, do you have any movie recommendations for me?\",\n",
    "    \"Since I like <movie_name> and <movie_name>, what other movies do you think I might like?\",\n",
    "    \"Suggest films similar to <movie_name> and <movie_name>\",\n",
    "    \"If <movie_name> and <movie_name> are my preferences, do you have any movie recommendations for me?\",\n",
    "    \"Can you recommend movies that share a similar theme or storyline with both <movie_name> and <movie_name>?\",\n",
    "    \n",
    "    #One movie\n",
    "    \"Since I enjoy <movie_name>, do you have any movie recommendations for me?\",\n",
    "    \"Recommend movies like <movie_name>\",\n",
    "    \"I'm a fan of <movie_name>. Any suggestions for similar movies?\",\n",
    "    \"Considering my liking for <movie_name>, could you suggest some other films I might enjoy?\",\n",
    "    \"Given my interest in <movie_name>, can you recommend additional movies for me to watch?\",\n",
    "    \"If I enjoy <movie_name>, what other movies would you suggest?\",\n",
    "    \"Being a fan of <movie_name>, are there similar movies you'd recommend?\",\n",
    "    \"Since I like <movie_name>, what other movies do you think I might like?\",\n",
    "    \"I've enjoyed <movie_name>. Any recommendations for movies in a similar vein?\",\n",
    "    \"Given my preference for <movie_name>, what other films should I check out?\",\n",
    "    \"If <movie_name> is my preference, do you have any movie recommendations for me?\",\n",
    "    \"Suggest films similar to <movie_name>\",\n",
    "    \"Can you recommend movies akin to <movie_name>?\",\n",
    "    \"Looking for movies in the same vein as <movie_name>. Any recommendations?\",\n",
    "    \"Seeking recommendations for movies like <movie_name>\",\n",
    "\n",
    "]\n",
    "\n",
    "# Repeated instances\n",
    "sentence_list_12 = [\n",
    "    # Names\n",
    "    \"Do <name> and <name> appear in <movie_name>\",\n",
    "    \"Do <name> and <name> appear in the same movie\",\n",
    "    \"Have <name> and <name> ever worked together?\",\n",
    "    \"Can you list all the movies starring <name>, <name>, and <name>?\",\n",
    "    \"Can you recommend me a movie with a similar style than the movies from <name> and <name>\", \n",
    "    \"Can you list all the movies starring both <name> and <name>?\",\n",
    "    \"Are there any films where <name>, <name> and <name> collaborated as <role>\",\n",
    "    \"Is there a movie that features both <name> and <name> in prominent roles?\",\n",
    "    \"Have <name> and <name> ever co-directed movies?\",\n",
    "    \"Do <name> and <name> share the screen in any movies?\",\n",
    "    \"Are there any notable collaborations between <name>, <name>, and <name> in the film industry?\",\n",
    "    \"Do <name> and <name> have any projects together?\",\n",
    "    \"Can you recommend a movie that showcases the directorial styles of both <name> and <name>?\",\n",
    "    \"Can you provide a list of films directed by <name> and starring <name>?\",\n",
    "    \"Have <name> and <name> ever been involved in a movie project that received significant critical acclaim?\",\n",
    "    \n",
    "    # Movies\n",
    "    \"Are there any staff members in common between <movie_name> and <movie_name>?\",\n",
    "    \"Were <movie_name> and <movie_name> released the same year?\",\n",
    "    \"Can you suggest films where the cast includes both <name> and <name>?\",\n",
    "    \"Do <movie_name> and <movie_name> share any crew members or production staff?\",\n",
    "    \"Which actors appeared in both <movie_name> and <movie_name>?\",\n",
    "    \"Are there any common themes or genres between <movie_name> and <movie_name>?\",\n",
    "    \"Do <movie_name> and <movie_name> belong to the same film franchise?\",\n",
    "    \"Are there any notable connections between <movie_name> and <movie_name> in terms of directors or producers?\",\n",
    "    \"Which actors from <movie_name> and <movie_name> have collaborated in other films?\",\n",
    "    \"Are there any common filming locations between <movie_name> and <movie_name>?\",\n",
    "    \"Which <role> or <role> contributed to the soundtracks of both <movie_name> and <movie_name>?\",\n",
    "    \n",
    "    # genre\n",
    "    \"Recommend me movies with the genres <genre>, <genre>, and <genre>\",\n",
    "    \"Are there any <genre> and <genre> movies?\",\n",
    "    \"I am looking for <genre> and <genre> movies, anything you would recommend?\",\n",
    "    \"Are there any movies that blend the genres of <genre> and <genre>?\",\n",
    "    \"I am looking for movies that fall under both <genre> and <genre>. Anything you would recommend?\",\n",
    "    \"Can you suggest films that seamlessly combine elements of <genre> and <genre>?\",\n",
    "    \"Which movies successfully incorporate both <genre> and <genre> in their storytelling?\",\n",
    "    \"Do you have recommendations for movies that showcase a mix of <genre> and <genre>?\",\n",
    "    \"I'm interested in exploring the intersection of <genre> and <genre>. Any standout films in that category?\",\n",
    "    \"Can you provide a list of movies that are known for their unique blend of <genre> and <genre>?\",\n",
    "    \"Are there any critically acclaimed movies that successfully navigate the genres of both <genre> and <genre>?\",\n",
    "    \"I enjoy movies that combine the elements of <genre> and <genre>. What are your top picks in this category?\",\n",
    "    \"Can you recommend movies that span a wide range of genres, including <genre>, <genre>, and <genre>?\",\n",
    "    \"I'm in the mood for a movie night with diverse genres. Any suggestions for films that include <genre> and <genre>?\",\n",
    "    \"Do you have recommendations for movies that masterfully balance the genres of both <genre> and <genre>?\"\n",
    "    \n",
    "    \n",
    "]"
   ]
  },
  {
   "cell_type": "code",
   "execution_count": 23,
   "id": "4a0fa77a",
   "metadata": {},
   "outputs": [
    {
     "data": {
      "text/plain": [
       "19999"
      ]
     },
     "execution_count": 23,
     "metadata": {},
     "output_type": "execute_result"
    }
   ],
   "source": [
    "i = 0\n",
    "peoples = list(people_list.values())\n",
    "genres = list(genres_ner.keys())\n",
    "res_s2 = []\n",
    "for name in peoples:\n",
    "    i+=1\n",
    "    if(i==20000):\n",
    "        break\n",
    "        \n",
    "    genre = genres[i%len(genres)]\n",
    "    sentence = sentence_list_2[i%len(sentence_list_2)]\n",
    "    \n",
    "    if(i%2==0):\n",
    "        AoW = \"acted\" \n",
    "    else: \n",
    "        AoW = \"wrote\"\n",
    "    sentence2 = sentence.replace(\"<name>\",name).replace(\"<genre>\",genre)\n",
    "    sentence3 = sentence2.replace(\"<acted/wrote>\",AoW)\n",
    "\n",
    "    ents = [(sentence3.find(name),sentence3.find(name) + len(name), \"name\"),\n",
    "            (sentence3.find(genre),sentence3.find(genre)+len(genre), \"genre\"),\n",
    "            (sentence3.find(AoW),sentence3.find(AoW) + len(AoW), \"action\"),\n",
    "            (sentence3.find(\"directed\"),sentence3.find(\"directed\") + len(\"directed\"), \"action\"),\n",
    "            (sentence3.find(\"written\"),sentence3.find(\"written\") + len(\"written\"), \"action\"),\n",
    "            (sentence3.find(\"featuring\"),sentence3.find(\"featuring\") + len(\"featuring\"), \"action\"),\n",
    "            (sentence3.find(\"played\"),sentence3.find(\"played\") + len(\"played\"), \"action\"),\n",
    "            (sentence3.find(\"appear\"),sentence3.find(\"appear\") + len(\"appear\"), \"action\"),\n",
    "            (sentence3.find(\"made\"),sentence3.find(\"made\") + len(\"made\"), \"action\"),\n",
    "            (sentence3.find(\"authored\"),sentence3.find(\"authored\") + len(\"authored\"), \"action\"),\n",
    "            (sentence3.find(\"appears\"),sentence3.find(\"appears\") + len(\"appears\"), \"action\")]\n",
    "\n",
    "    entities = []\n",
    "    for ent in ents:\n",
    "        if(ent[0]!=-1):\n",
    "            entities.append(ent)\n",
    "\n",
    "\n",
    "    res_s2.append((sentence3,{\"entities\":entities}))\n",
    "    \n",
    "\n",
    "\n",
    "\n",
    "len(res_s2)"
   ]
  },
  {
   "cell_type": "code",
   "execution_count": 24,
   "id": "a01b9307",
   "metadata": {},
   "outputs": [
    {
     "data": {
      "text/plain": [
       "19999"
      ]
     },
     "execution_count": 24,
     "metadata": {},
     "output_type": "execute_result"
    }
   ],
   "source": [
    "i = 0\n",
    "roles = list(roles_ner.keys())\n",
    "movies = list(movie_list.values())\n",
    "res_s1 = []\n",
    "for movie in movies:\n",
    "    i+=1\n",
    "    if(i==20000):\n",
    "        break\n",
    "        \n",
    "    role = roles[i%len(roles)]\n",
    "    sentence = sentence_list_1[i%len(sentence_list_1)]\n",
    "    \n",
    "    if(i%2==0):\n",
    "        AoW = \"directed\" \n",
    "    else: \n",
    "        AoW = \"wrote\"\n",
    "    sentence2 = sentence.replace(\"<role>\",role).replace(\"<movie_name>\",movie)\n",
    "    sentence3 = sentence2.replace(\"<directed/wrote>\",AoW)\n",
    "\n",
    "    ents = [(sentence3.find(role),sentence3.find(role) + len(role), \"role\"),\n",
    "            (sentence3.find(movie),sentence3.find(movie)+len(movie), \"movie\"),\n",
    "            (sentence3.find(AoW),sentence3.find(AoW) + len(AoW), \"action\")]\n",
    "    \n",
    "    for action in actions_ner.keys():\n",
    "        if action in sentence3 and action != AoW:\n",
    "            ents.append((sentence3.find(action),sentence3.find(action) + len(action), \"action\"))\n",
    "            break\n",
    "\n",
    "    entities = []\n",
    "    for ent in ents:\n",
    "        if(ent[0]!=-1):\n",
    "            entities.append(ent)\n",
    "\n",
    "\n",
    "    res_s1.append((sentence3,{\"entities\":entities}))\n",
    "    \n",
    "len(res_s1)"
   ]
  },
  {
   "cell_type": "code",
   "execution_count": 25,
   "id": "5424c333",
   "metadata": {},
   "outputs": [
    {
     "data": {
      "text/plain": [
       "9999"
      ]
     },
     "execution_count": 25,
     "metadata": {},
     "output_type": "execute_result"
    }
   ],
   "source": [
    "i = 0\n",
    "movies = list(movie_list.values())\n",
    "res_s3 = []\n",
    "for movie in movies:\n",
    "    i+=1\n",
    "    if(i==10000):\n",
    "        break\n",
    "        \n",
    "    sentence = sentence_list_3[i%len(sentence_list_3)]\n",
    "    \n",
    "    sentence3 = sentence.replace(\"<movie_name>\",movie)\n",
    "\n",
    "    ents = [(sentence3.find(movie),sentence3.find(movie)+len(movie), \"movie\")]\n",
    "    \n",
    "    for predicate in list(predicates_ner.keys()):\n",
    "        if predicate in sentence3:\n",
    "            ents.append((sentence3.find(predicate),sentence3.find(predicate) + len(predicate), \"predicate\"))\n",
    "\n",
    "    entities = []\n",
    "    for ent in ents:\n",
    "        if(ent[0]!=-1):\n",
    "            entities.append(ent)\n",
    "\n",
    "\n",
    "    res_s3.append((sentence3,{\"entities\":entities}))\n",
    "    \n",
    "len(res_s3)"
   ]
  },
  {
   "cell_type": "code",
   "execution_count": 26,
   "id": "b635cef7",
   "metadata": {},
   "outputs": [
    {
     "data": {
      "text/plain": [
       "9999"
      ]
     },
     "execution_count": 26,
     "metadata": {},
     "output_type": "execute_result"
    }
   ],
   "source": [
    "i = 0\n",
    "movies = list(movie_list.values())\n",
    "res_s4 = []\n",
    "for movie in movies:\n",
    "    i+=1\n",
    "    if(i==10000):\n",
    "        break\n",
    "        \n",
    "    sentence = sentence_list_4[i%len(sentence_list_4)]\n",
    "    \n",
    "    sentence3 = sentence.replace(\"<movie_name>\",movie)\n",
    "\n",
    "    ents = [(sentence3.find(movie),sentence3.find(movie)+len(movie), \"movie\")]\n",
    "    \n",
    "    for predicate in list(predicates_ner.keys()):\n",
    "        if predicate in sentence3:\n",
    "            ents.append((sentence3.find(predicate),sentence3.find(predicate) + len(predicate), \"predicate\"))\n",
    "\n",
    "    entities = []\n",
    "    for ent in ents:\n",
    "        if(ent[0]!=-1):\n",
    "            entities.append(ent)\n",
    "\n",
    "\n",
    "    res_s4.append((sentence3,{\"entities\":entities}))\n",
    "    \n",
    "len(res_s4)"
   ]
  },
  {
   "cell_type": "code",
   "execution_count": 27,
   "id": "b40f3d29",
   "metadata": {},
   "outputs": [
    {
     "data": {
      "text/plain": [
       "30000"
      ]
     },
     "execution_count": 27,
     "metadata": {},
     "output_type": "execute_result"
    }
   ],
   "source": [
    "res_s5 = []\n",
    "i = 0\n",
    "action_list = list(actions_ner.keys())\n",
    "genres = list(genres_ner.keys())\n",
    "\n",
    "sentence_list_567 = sentence_list_5 + sentence_list_6 + sentence_list_7\n",
    "for name in peoples:\n",
    "    i+=1\n",
    "    if(i%2==0):\n",
    "        HoL = \"highest\"\n",
    "        ToB = \"top\"\n",
    "        BoW = \"best\"\n",
    "    else:\n",
    "        HoL = \"lowest\"\n",
    "        ToB = \"bottom\"\n",
    "        BoW = \"worst\"\n",
    "    \n",
    "    action = action_list[i%len(action_list)]\n",
    "    sentence = sentence_list_567[i%len(sentence_list_567)]\n",
    "    genre = genres[i%len(genres)]\n",
    "    number = numbers_ner[i%len(numbers_ner)]\n",
    "    is_number = False\n",
    "    if \"<number>\" in sentence:\n",
    "        is_number = True\n",
    "\n",
    "    sentence2 = sentence.replace(\"<highest/lowest>\",HoL).replace(\"<top/bottom>\",ToB).replace(\"<best/worst>\",BoW)\n",
    "    sentence3 = sentence2.replace(\"<name>\",name).replace(\"<action>\",action).replace(\"<genre>\",genre).replace(\"<number>\", number)\n",
    "    ents = [(sentence3.find(HoL),sentence3.find(HoL) + len(HoL), \"order\"),\n",
    "            (sentence3.find(\"highly\"),sentence3.find(\"highly\") + len(\"highly\"), \"order\"),\n",
    "            (sentence3.find(ToB),sentence3.find(ToB)+len(ToB), \"order\"),\n",
    "            (sentence3.find(genre),sentence3.find(genre) + len(genre), \"genre\"),\n",
    "            (sentence3.find(BoW),sentence3.find(BoW) + len(BoW), \"order\"),\n",
    "            (sentence3.find(name),sentence3.find(name) + len(name), \"name\"),\n",
    "            #(sentence3.find(' '+number+' ')+1,sentence3.find(' '+number+' ')-1 + len(number), \"numerical_entity\")\n",
    "           ]\n",
    "    \n",
    "    for action in actions_ner.keys():\n",
    "        if action in sentence3:\n",
    "            ents.append((sentence3.find(action),sentence3.find(action) + len(action), \"action\"))\n",
    "            \n",
    "    for predicate in list(predicates_ner.keys()):\n",
    "        if predicate in sentence3:\n",
    "            ents.append((sentence3.find(predicate),sentence3.find(predicate) + len(predicate), \"predicate\"))\n",
    "    \n",
    "    if is_number:\n",
    "        ents.append((sentence3.find(' '+number+' ')+1,sentence3.find(' '+number+' ')+1 + len(number), \"numerical_entity\"))\n",
    "\n",
    "    entities = []\n",
    "    for ent in ents:\n",
    "        if(ent[0]!=-1):\n",
    "            entities.append(ent)\n",
    "\n",
    "    res_s5.append((sentence3,{\"entities\":entities}))\n",
    "    \n",
    "    if(i==30000):\n",
    "        break\n",
    "\n",
    "len(res_s5)\n"
   ]
  },
  {
   "cell_type": "code",
   "execution_count": 28,
   "id": "902518a7",
   "metadata": {},
   "outputs": [
    {
     "data": {
      "text/plain": [
       "10000"
      ]
     },
     "execution_count": 28,
     "metadata": {},
     "output_type": "execute_result"
    }
   ],
   "source": [
    "res_s6 = []\n",
    "i = 0\n",
    "genres = list(genres_ner.keys())\n",
    "\n",
    "sentence_list_89 = sentence_list_8 + sentence_list_9\n",
    "for name in peoples:\n",
    "    i+=1\n",
    "    if(i%2==0):\n",
    "        BoW = \"best\"\n",
    "    else:\n",
    "        BoW = \"worst\"\n",
    "    \n",
    "    sentence = sentence_list_89[i%len(sentence_list_89)]\n",
    "    genre = genres[i%len(genres)]\n",
    "    number = numbers_ner[i%len(numbers_ner)]\n",
    "    year = years_ner[i%len(years_ner)]\n",
    "    is_number=False\n",
    "    if \"<number>\" in sentence:\n",
    "        is_number = True\n",
    "\n",
    "    sentence2 = sentence.replace(\"<best/worst>\",BoW).replace(\"<name>\",name)\n",
    "    sentence3 = sentence2.replace(\"<genre>\",genre).replace(\"<year>\",year).replace(\"<number>\", number)\n",
    "    ents = [(sentence3.find(name),sentence3.find(name) + len(name), \"name\"),\n",
    "            (sentence3.find(BoW),sentence3.find(BoW) + len(BoW), \"order\"),\n",
    "            (sentence3.find(genre),sentence3.find(genre) + len(genre), \"genre\"),\n",
    "            (sentence3.find(year),sentence3.find(year) + len(year), \"year\"),\n",
    "           ]\n",
    "    \n",
    "    for action in actions_ner.keys():\n",
    "        if action in sentence3:\n",
    "            ents.append((sentence3.find(action),sentence3.find(action) + len(action), \"action\"))\n",
    "            \n",
    "    for predicate in list(predicates_ner.keys()):\n",
    "        if predicate in sentence3:\n",
    "            ents.append((sentence3.find(predicate),sentence3.find(predicate) + len(predicate), \"predicate\"))\n",
    "    \n",
    "    if is_number:\n",
    "        ents.append((sentence3.find(' '+number+' ')+1,sentence3.find(' '+number+' ')+1 + len(number), \"numerical_entity\"))\n",
    "\n",
    "\n",
    "    entities = []\n",
    "    for ent in ents:\n",
    "        if(ent[0]!=-1):\n",
    "            entities.append(ent)\n",
    "\n",
    "    res_s6.append((sentence3,{\"entities\":entities}))\n",
    "    \n",
    "    if(i==10000):\n",
    "        break\n",
    "\n",
    "len(res_s6)"
   ]
  },
  {
   "cell_type": "code",
   "execution_count": 44,
   "id": "875f0b27",
   "metadata": {},
   "outputs": [
    {
     "data": {
      "text/plain": [
       "24384"
      ]
     },
     "execution_count": 44,
     "metadata": {},
     "output_type": "execute_result"
    }
   ],
   "source": [
    "import random\n",
    "random.seed(42)\n",
    "\n",
    "i = 0\n",
    "predicates = list(predicates_ner.keys())\n",
    "movies = list(movie_list.values())\n",
    "movies_random = list(movie_list.values())\n",
    "res_s7 = []\n",
    "for movie in movies:\n",
    "    i+=1\n",
    "    if(i==20000):\n",
    "        break\n",
    "        \n",
    "    sentence = sentence_list_11[i%len(sentence_list_11)]\n",
    "    \n",
    "    num_movies = sentence.count(\"<movie_name>\")\n",
    "    sentence = sentence.replace(\"<movie_name>\", movie, 1)\n",
    "    ents = [(sentence.find(movie),sentence.find(movie)+len(movie), \"movie\")]\n",
    "    movies_random.remove(movie)\n",
    "    chosen_movies = []\n",
    "    \n",
    "    for i in range(num_movies-1):\n",
    "        next_movie = random.choice(movies_random)\n",
    "        sentence = sentence.replace(\"<movie_name>\", next_movie,1)\n",
    "        ents.append((sentence.find(next_movie),sentence.find(next_movie)+len(next_movie), \"movie\"))\n",
    "        movies_random.remove(next_movie)\n",
    "        chosen_movies.append(next_movie)\n",
    "    \n",
    "    movies_random.append(movie)\n",
    "    movies_random.extend(chosen_movies)\n",
    "\n",
    "    for predicate in predicates:\n",
    "        if predicate in sentence:\n",
    "            ents.append((sentence.find(predicate),sentence.find(predicate) + len(predicate), \"predicate\"))\n",
    "            break\n",
    "\n",
    "    entities = []\n",
    "    for ent in ents:\n",
    "        if(ent[0]!=-1):\n",
    "            entities.append(ent)\n",
    "\n",
    "\n",
    "    res_s7.append((sentence,{\"entities\":entities}))\n",
    "    \n",
    "len(res_s7)"
   ]
  },
  {
   "cell_type": "code",
   "execution_count": 45,
   "id": "5d8092e9",
   "metadata": {},
   "outputs": [
    {
     "data": {
      "text/plain": [
       "19999"
      ]
     },
     "execution_count": 45,
     "metadata": {},
     "output_type": "execute_result"
    }
   ],
   "source": [
    "import re\n",
    "\n",
    "i = 0\n",
    "predicates = list(predicates_ner.keys())\n",
    "movies = list(movie_list.values())\n",
    "peoples = list(people_list.values())\n",
    "peoples_random = list(people_list.values())\n",
    "genres = list(genres_ner.keys())\n",
    "roles = list(roles_ner.keys())\n",
    "res_s8 = []\n",
    "for person in peoples:\n",
    "    i+=1\n",
    "    if(i==20000):\n",
    "        break\n",
    "        \n",
    "    sentence = sentence_list_12[i%len(sentence_list_12)]\n",
    "    \n",
    "    # Find all the replaceable objects\n",
    "    regex = re.compile('(?:<[a-z_]+>)')\n",
    "    matches = re.finditer(regex, sentence)\n",
    "    \n",
    "    ents = []\n",
    "    \n",
    "    #Using random choice since we don't really know how many instances have of each one and would be more complex having multiple loops\n",
    "    people_chosen=[]\n",
    "    movies_chosen=[]\n",
    "    genres_chosen=[]\n",
    "    roles_chosen=[]\n",
    "    for match in matches:\n",
    "        if match.group() == '<name>':\n",
    "            insertion = random.choice(peoples_random)\n",
    "            insertion_type = 'name'\n",
    "            people_chosen.append(insertion)\n",
    "            peoples_random.remove(insertion)\n",
    "        elif match.group() == '<movie_name>':\n",
    "            insertion = random.choice(movies)\n",
    "            insertion_type = 'movie'\n",
    "            movies_chosen.append(insertion)\n",
    "            movies.remove(insertion)\n",
    "        elif match.group() == '<role>':\n",
    "            insertion = random.choice(roles)\n",
    "            insertion_type = 'role'\n",
    "            roles_chosen.append(insertion)\n",
    "            roles.remove(insertion)\n",
    "        elif match.group() == '<genre>':\n",
    "            insertion = random.choice(genres)\n",
    "            insertion_type = 'genre'\n",
    "            genres_chosen.append(insertion)\n",
    "            genres.remove(insertion)\n",
    "        \n",
    "        sentence = sentence.replace(match.group(), insertion,1)\n",
    "        ents.append((sentence.find(insertion),sentence.find(insertion)+len(insertion), insertion_type))\n",
    "        \n",
    "    peoples_random.extend(people_chosen)\n",
    "    movies.extend(movies_chosen)\n",
    "    genres.extend(genres_chosen)\n",
    "    roles.extend(roles_chosen)\n",
    "\n",
    "    for predicate in predicates:\n",
    "        if predicate in sentence:\n",
    "            ents.append((sentence.find(predicate),sentence.find(predicate) + len(predicate), \"predicate\"))\n",
    "            break\n",
    "    \n",
    "    for action in actions_ner.keys():\n",
    "        if action in sentence3:\n",
    "            ents.append((sentence3.find(action),sentence3.find(action) + len(action), \"action\"))\n",
    "\n",
    "    entities = []\n",
    "    for ent in ents:\n",
    "        if(ent[0]!=-1):\n",
    "            entities.append(ent)\n",
    "\n",
    "\n",
    "    res_s8.append((sentence,{\"entities\":entities}))\n",
    "    \n",
    "len(res_s8)"
   ]
  },
  {
   "cell_type": "code",
   "execution_count": 46,
   "id": "c52a0dbd",
   "metadata": {},
   "outputs": [
    {
     "data": {
      "text/plain": [
       "144379"
      ]
     },
     "execution_count": 46,
     "metadata": {},
     "output_type": "execute_result"
    }
   ],
   "source": [
    "TRAIN_DATA = res_s1 + res_s2 + res_s3 + res_s4 + res_s5 + res_s6 + res_s7 + res_s8\n",
    "len(TRAIN_DATA)"
   ]
  },
  {
   "cell_type": "code",
   "execution_count": 47,
   "id": "f64beadb",
   "metadata": {},
   "outputs": [
    {
     "name": "stderr",
     "output_type": "stream",
     "text": [
      " 74%|█████████████████████████████████████████████████████▍                  | 107041/144379 [00:11<00:05, 6472.62it/s]"
     ]
    },
    {
     "name": "stdout",
     "output_type": "stream",
     "text": [
      "Since I enjoy One Breath, Breath, and Demonia, do you have any movie recommendations for me?\n",
      "{'entities': [(14, 24, 'movie'), (18, 24, 'movie'), (38, 45, 'movie'), (69, 78, 'predicate')]}\n",
      "[E1010] Unable to set entity information for token 4 which is included in more than one span in entities, blocked, missing or outside.\n"
     ]
    },
    {
     "name": "stderr",
     "output_type": "stream",
     "text": [
      " 78%|████████████████████████████████████████████████████████▍               | 113165/144379 [00:12<00:04, 6746.45it/s]"
     ]
    },
    {
     "name": "stdout",
     "output_type": "stream",
     "text": [
      "Since I enjoy Deepfrozen, Simple Simon, and Simon, do you have any movie recommendations for me?\n",
      "{'entities': [(14, 24, 'movie'), (26, 38, 'movie'), (33, 38, 'movie'), (73, 82, 'predicate')]}\n",
      "[E1010] Unable to set entity information for token 6 which is included in more than one span in entities, blocked, missing or outside.\n"
     ]
    },
    {
     "name": "stderr",
     "output_type": "stream",
     "text": [
      " 87%|██████████████████████████████████████████████████████████████▌         | 125376/144379 [00:14<00:02, 7156.06it/s]"
     ]
    },
    {
     "name": "stdout",
     "output_type": "stream",
     "text": [
      "Since I enjoy The Sea Inside, The Insult, and The Sea, do you have any movie recommendations for me?\n",
      "{'entities': [(14, 28, 'movie'), (30, 40, 'movie'), (14, 21, 'movie'), (77, 86, 'predicate')]}\n",
      "[E1010] Unable to set entity information for token 3 which is included in more than one span in entities, blocked, missing or outside.\n",
      "Since I enjoy Resident Evil: Extinction, Short Skin, and Evil, do you have any movie recommendations for me?\n",
      "{'entities': [(14, 39, 'movie'), (41, 51, 'movie'), (23, 27, 'movie'), (85, 94, 'predicate')]}\n",
      "[E1010] Unable to set entity information for token 4 which is included in more than one span in entities, blocked, missing or outside.\n",
      "Which voice actor or actor contributed to the soundtracks of both Il Mare and The Church?\n",
      "{'entities': [(6, 17, 'role'), (12, 17, 'role'), (66, 73, 'movie'), (78, 88, 'movie')]}\n",
      "[E1010] Unable to set entity information for token 2 which is included in more than one span in entities, blocked, missing or outside.\n"
     ]
    },
    {
     "name": "stderr",
     "output_type": "stream",
     "text": [
      " 89%|███████████████████████████████████████████████████████████████▉        | 128253/144379 [00:14<00:02, 7156.52it/s]"
     ]
    },
    {
     "name": "stdout",
     "output_type": "stream",
     "text": [
      "I'm in the mood for a movie night with diverse genres. Any suggestions for films that include mystery fiction and mystery?\n",
      "{'entities': [(94, 109, 'genre'), (94, 101, 'genre'), (47, 52, 'predicate')]}\n",
      "[E1010] Unable to set entity information for token 19 which is included in more than one span in entities, blocked, missing or outside.\n",
      "Which movies successfully incorporate both historical fiction and fiction in their storytelling?\n",
      "{'entities': [(43, 61, 'genre'), (54, 61, 'genre')]}\n",
      "[E1010] Unable to set entity information for token 6 which is included in more than one span in entities, blocked, missing or outside.\n"
     ]
    },
    {
     "name": "stderr",
     "output_type": "stream",
     "text": [
      " 90%|█████████████████████████████████████████████████████████████████       | 130419/144379 [00:15<00:01, 7144.42it/s]"
     ]
    },
    {
     "name": "stdout",
     "output_type": "stream",
     "text": [
      "Can you provide a list of movies that are known for their unique blend of pseudo-documentary and documentary?\n",
      "{'entities': [(74, 92, 'genre'), (81, 92, 'genre')]}\n",
      "[E1010] Unable to set entity information for token 17 which is included in more than one span in entities, blocked, missing or outside.\n",
      "Recommend me movies with the genres historical novel, psychological thriller, and thriller\n",
      "{'entities': [(36, 52, 'genre'), (54, 76, 'genre'), (68, 76, 'genre'), (29, 34, 'predicate')]}\n",
      "[E1010] Unable to set entity information for token 10 which is included in more than one span in entities, blocked, missing or outside.\n",
      "Do you have recommendations for movies that showcase a mix of supernatural fiction and fiction?\n",
      "{'entities': [(62, 82, 'genre'), (75, 82, 'genre'), (12, 21, 'predicate')]}\n",
      "[E1010] Unable to set entity information for token 12 which is included in more than one span in entities, blocked, missing or outside.\n",
      "Which director of photography or director contributed to the soundtracks of both Blue Jasmine and Something from Nothing: The Art of Rap?\n",
      "{'entities': [(6, 29, 'role'), (6, 14, 'role'), (81, 93, 'movie'), (98, 136, 'movie')]}\n",
      "[E1010] Unable to set entity information for token 1 which is included in more than one span in entities, blocked, missing or outside.\n"
     ]
    },
    {
     "name": "stderr",
     "output_type": "stream",
     "text": [
      " 92%|██████████████████████████████████████████████████████████████████▌     | 133364/144379 [00:15<00:01, 7213.68it/s]"
     ]
    },
    {
     "name": "stdout",
     "output_type": "stream",
     "text": [
      "I'm in the mood for a movie night with diverse genres. Any suggestions for films that include erotic thriller and erotic?\n",
      "{'entities': [(94, 109, 'genre'), (94, 100, 'genre'), (47, 52, 'predicate')]}\n",
      "[E1010] Unable to set entity information for token 19 which is included in more than one span in entities, blocked, missing or outside.\n",
      "Are there any movies that blend the genres of television series based on a novel and novel?\n",
      "{'entities': [(46, 80, 'genre'), (75, 80, 'genre'), (36, 41, 'predicate')]}\n",
      "[E1010] Unable to set entity information for token 14 which is included in more than one span in entities, blocked, missing or outside.\n",
      "I am looking for movies that fall under both comedy thriller and comedy. Anything you would recommend?\n",
      "{'entities': [(45, 60, 'genre'), (45, 51, 'genre'), (92, 101, 'predicate')]}\n",
      "[E1010] Unable to set entity information for token 9 which is included in more than one span in entities, blocked, missing or outside.\n"
     ]
    },
    {
     "name": "stderr",
     "output_type": "stream",
     "text": [
      " 94%|███████████████████████████████████████████████████████████████████▉    | 136270/144379 [00:16<00:01, 7036.98it/s]"
     ]
    },
    {
     "name": "stdout",
     "output_type": "stream",
     "text": [
      "Do you have recommendations for movies that masterfully balance the genres of both Japanese horror and horror?\n",
      "{'entities': [(83, 98, 'genre'), (92, 98, 'genre'), (68, 73, 'predicate')]}\n",
      "[E1010] Unable to set entity information for token 14 which is included in more than one span in entities, blocked, missing or outside.\n",
      "I enjoy movies that combine the elements of crime-comedy and comedy. What are your top picks in this category?\n",
      "{'entities': [(44, 56, 'genre'), (50, 56, 'genre'), (101, 109, 'predicate')]}\n",
      "[E1010] Unable to set entity information for token 10 which is included in more than one span in entities, blocked, missing or outside.\n"
     ]
    },
    {
     "name": "stderr",
     "output_type": "stream",
     "text": [
      " 96%|█████████████████████████████████████████████████████████████████████   | 138389/144379 [00:16<00:00, 6935.14it/s]"
     ]
    },
    {
     "name": "stdout",
     "output_type": "stream",
     "text": [
      "Can you recommend movies that span a wide range of genres, including political satire, family drama, and drama?\n",
      "{'entities': [(69, 85, 'genre'), (87, 99, 'genre'), (94, 99, 'genre'), (51, 56, 'predicate')]}\n",
      "[E1010] Unable to set entity information for token 17 which is included in more than one span in entities, blocked, missing or outside.\n"
     ]
    },
    {
     "name": "stderr",
     "output_type": "stream",
     "text": [
      " 99%|███████████████████████████████████████████████████████████████████████▏| 142706/144379 [00:16<00:00, 7121.73it/s]"
     ]
    },
    {
     "name": "stdout",
     "output_type": "stream",
     "text": [
      "I enjoy movies that combine the elements of supernatural horror and horror. What are your top picks in this category?\n",
      "{'entities': [(44, 63, 'genre'), (57, 63, 'genre'), (108, 116, 'predicate')]}\n",
      "[E1010] Unable to set entity information for token 9 which is included in more than one span in entities, blocked, missing or outside.\n",
      "I am looking for fantasy anime and manga and fantasy movies, anything you would recommend?\n",
      "{'entities': [(17, 40, 'genre'), (17, 24, 'genre'), (80, 89, 'predicate')]}\n",
      "[E1010] Unable to set entity information for token 4 which is included in more than one span in entities, blocked, missing or outside.\n"
     ]
    },
    {
     "name": "stderr",
     "output_type": "stream",
     "text": [
      "100%|████████████████████████████████████████████████████████████████████████| 144379/144379 [00:17<00:00, 8382.91it/s]"
     ]
    },
    {
     "name": "stdout",
     "output_type": "stream",
     "text": [
      "Recommend me movies with the genres action comedy, adventure anime and manga, and action\n",
      "{'entities': [(36, 49, 'genre'), (51, 76, 'genre'), (36, 42, 'genre'), (29, 34, 'predicate')]}\n",
      "[E1010] Unable to set entity information for token 6 which is included in more than one span in entities, blocked, missing or outside.\n",
      "I enjoy movies that combine the elements of horror fiction and horror. What are your top picks in this category?\n",
      "{'entities': [(44, 58, 'genre'), (44, 50, 'genre'), (103, 111, 'predicate')]}\n",
      "[E1010] Unable to set entity information for token 8 which is included in more than one span in entities, blocked, missing or outside.\n",
      "Recommend me movies with the genres science fiction anime and manga, anime, and neo-noir\n",
      "{'entities': [(36, 67, 'genre'), (52, 57, 'genre'), (80, 88, 'genre'), (29, 34, 'predicate')]}\n",
      "[E1010] Unable to set entity information for token 8 which is included in more than one span in entities, blocked, missing or outside.\n",
      "Recommend me movies with the genres drama television series, superhero, and drama\n",
      "{'entities': [(36, 59, 'genre'), (61, 70, 'genre'), (36, 41, 'genre'), (29, 34, 'predicate')]}\n",
      "[E1010] Unable to set entity information for token 6 which is included in more than one span in entities, blocked, missing or outside.\n",
      "56251\n"
     ]
    },
    {
     "name": "stderr",
     "output_type": "stream",
     "text": [
      "\n"
     ]
    }
   ],
   "source": [
    "import pandas as pd\n",
    "import os\n",
    "from tqdm import tqdm\n",
    "from spacy.tokens import DocBin\n",
    "\n",
    "nlp = spacy.load(\"en_core_web_sm\")\n",
    "\n",
    "db = DocBin() # create a DocBin object\n",
    "\n",
    "count = 0\n",
    "for text, annot in tqdm(TRAIN_DATA): # data in previous format\n",
    "    try:\n",
    "        doc = nlp.make_doc(text) # create doc object from text\n",
    "        ents = []\n",
    "        for start, end, label in annot[\"entities\"]: # add character indexes\n",
    "            span = doc.char_span(start, end, label=label, alignment_mode=\"contract\")\n",
    "            if span is None:\n",
    "                #print(\"Skipping entity\")\n",
    "                count+=1\n",
    "            else:\n",
    "                ents.append(span)\n",
    "        doc.ents = ents # label the text with the ents\n",
    "        db.add(doc)\n",
    "    except Exception as e:\n",
    "        print(text)\n",
    "        print(annot)\n",
    "        print(e)\n",
    "        count+=1\n",
    "print(count)\n",
    "#os.chdir(r'XXXX\\XXXXX')\n",
    "db.to_disk(\"train.spacy\") # save the docbin object"
   ]
  },
  {
   "cell_type": "code",
   "execution_count": null,
   "id": "6fc5cb03",
   "metadata": {},
   "outputs": [],
   "source": [
    "\"Display the Peplum film genre movies with the lowest ratings\"[22:27]"
   ]
  },
  {
   "cell_type": "code",
   "execution_count": null,
   "id": "a784f71f",
   "metadata": {},
   "outputs": [],
   "source": [
    "\"I want to see the top-rated film score movies featured Vanraj Bhatia\"[28:38]"
   ]
  },
  {
   "cell_type": "code",
   "execution_count": null,
   "id": "ff2184ac",
   "metadata": {},
   "outputs": [],
   "source": [
    "predicates_ner.keys()"
   ]
  },
  {
   "cell_type": "markdown",
   "id": "08d03bd4",
   "metadata": {},
   "source": [
    "### Test"
   ]
  },
  {
   "cell_type": "code",
   "execution_count": 32,
   "id": "498f5406",
   "metadata": {},
   "outputs": [
    {
     "ename": "ValueError",
     "evalue": "Unpack failed: incomplete input",
     "output_type": "error",
     "traceback": [
      "\u001b[1;31m---------------------------------------------------------------------------\u001b[0m",
      "\u001b[1;31mValueError\u001b[0m                                Traceback (most recent call last)",
      "Cell \u001b[1;32mIn[32], line 1\u001b[0m\n\u001b[1;32m----> 1\u001b[0m nlp_model \u001b[38;5;241m=\u001b[39m \u001b[43mspacy\u001b[49m\u001b[38;5;241;43m.\u001b[39;49m\u001b[43mload\u001b[49m\u001b[43m(\u001b[49m\u001b[38;5;124;43m'\u001b[39;49m\u001b[38;5;124;43mmodels/NER/loss_78\u001b[39;49m\u001b[38;5;124;43m'\u001b[39;49m\u001b[43m)\u001b[49m\n",
      "File \u001b[1;32m~\\anaconda3\\envs\\pytorch2\\lib\\site-packages\\spacy\\__init__.py:51\u001b[0m, in \u001b[0;36mload\u001b[1;34m(name, vocab, disable, enable, exclude, config)\u001b[0m\n\u001b[0;32m     27\u001b[0m \u001b[38;5;28;01mdef\u001b[39;00m \u001b[38;5;21mload\u001b[39m(\n\u001b[0;32m     28\u001b[0m     name: Union[\u001b[38;5;28mstr\u001b[39m, Path],\n\u001b[0;32m     29\u001b[0m     \u001b[38;5;241m*\u001b[39m,\n\u001b[1;32m   (...)\u001b[0m\n\u001b[0;32m     34\u001b[0m     config: Union[Dict[\u001b[38;5;28mstr\u001b[39m, Any], Config] \u001b[38;5;241m=\u001b[39m util\u001b[38;5;241m.\u001b[39mSimpleFrozenDict(),\n\u001b[0;32m     35\u001b[0m ) \u001b[38;5;241m-\u001b[39m\u001b[38;5;241m>\u001b[39m Language:\n\u001b[0;32m     36\u001b[0m \u001b[38;5;250m    \u001b[39m\u001b[38;5;124;03m\"\"\"Load a spaCy model from an installed package or a local path.\u001b[39;00m\n\u001b[0;32m     37\u001b[0m \n\u001b[0;32m     38\u001b[0m \u001b[38;5;124;03m    name (str): Package name or model path.\u001b[39;00m\n\u001b[1;32m   (...)\u001b[0m\n\u001b[0;32m     49\u001b[0m \u001b[38;5;124;03m    RETURNS (Language): The loaded nlp object.\u001b[39;00m\n\u001b[0;32m     50\u001b[0m \u001b[38;5;124;03m    \"\"\"\u001b[39;00m\n\u001b[1;32m---> 51\u001b[0m     \u001b[38;5;28;01mreturn\u001b[39;00m \u001b[43mutil\u001b[49m\u001b[38;5;241;43m.\u001b[39;49m\u001b[43mload_model\u001b[49m\u001b[43m(\u001b[49m\n\u001b[0;32m     52\u001b[0m \u001b[43m        \u001b[49m\u001b[43mname\u001b[49m\u001b[43m,\u001b[49m\n\u001b[0;32m     53\u001b[0m \u001b[43m        \u001b[49m\u001b[43mvocab\u001b[49m\u001b[38;5;241;43m=\u001b[39;49m\u001b[43mvocab\u001b[49m\u001b[43m,\u001b[49m\n\u001b[0;32m     54\u001b[0m \u001b[43m        \u001b[49m\u001b[43mdisable\u001b[49m\u001b[38;5;241;43m=\u001b[39;49m\u001b[43mdisable\u001b[49m\u001b[43m,\u001b[49m\n\u001b[0;32m     55\u001b[0m \u001b[43m        \u001b[49m\u001b[43menable\u001b[49m\u001b[38;5;241;43m=\u001b[39;49m\u001b[43menable\u001b[49m\u001b[43m,\u001b[49m\n\u001b[0;32m     56\u001b[0m \u001b[43m        \u001b[49m\u001b[43mexclude\u001b[49m\u001b[38;5;241;43m=\u001b[39;49m\u001b[43mexclude\u001b[49m\u001b[43m,\u001b[49m\n\u001b[0;32m     57\u001b[0m \u001b[43m        \u001b[49m\u001b[43mconfig\u001b[49m\u001b[38;5;241;43m=\u001b[39;49m\u001b[43mconfig\u001b[49m\u001b[43m,\u001b[49m\n\u001b[0;32m     58\u001b[0m \u001b[43m    \u001b[49m\u001b[43m)\u001b[49m\n",
      "File \u001b[1;32m~\\anaconda3\\envs\\pytorch2\\lib\\site-packages\\spacy\\util.py:467\u001b[0m, in \u001b[0;36mload_model\u001b[1;34m(name, vocab, disable, enable, exclude, config)\u001b[0m\n\u001b[0;32m    465\u001b[0m         \u001b[38;5;28;01mreturn\u001b[39;00m load_model_from_package(name, \u001b[38;5;241m*\u001b[39m\u001b[38;5;241m*\u001b[39mkwargs)  \u001b[38;5;66;03m# type: ignore[arg-type]\u001b[39;00m\n\u001b[0;32m    466\u001b[0m     \u001b[38;5;28;01mif\u001b[39;00m Path(name)\u001b[38;5;241m.\u001b[39mexists():  \u001b[38;5;66;03m# path to model data directory\u001b[39;00m\n\u001b[1;32m--> 467\u001b[0m         \u001b[38;5;28;01mreturn\u001b[39;00m load_model_from_path(Path(name), \u001b[38;5;241m*\u001b[39m\u001b[38;5;241m*\u001b[39mkwargs)  \u001b[38;5;66;03m# type: ignore[arg-type]\u001b[39;00m\n\u001b[0;32m    468\u001b[0m \u001b[38;5;28;01melif\u001b[39;00m \u001b[38;5;28mhasattr\u001b[39m(name, \u001b[38;5;124m\"\u001b[39m\u001b[38;5;124mexists\u001b[39m\u001b[38;5;124m\"\u001b[39m):  \u001b[38;5;66;03m# Path or Path-like to model data\u001b[39;00m\n\u001b[0;32m    469\u001b[0m     \u001b[38;5;28;01mreturn\u001b[39;00m load_model_from_path(name, \u001b[38;5;241m*\u001b[39m\u001b[38;5;241m*\u001b[39mkwargs)  \u001b[38;5;66;03m# type: ignore[arg-type]\u001b[39;00m\n",
      "File \u001b[1;32m~\\anaconda3\\envs\\pytorch2\\lib\\site-packages\\spacy\\util.py:547\u001b[0m, in \u001b[0;36mload_model_from_path\u001b[1;34m(model_path, meta, vocab, disable, enable, exclude, config)\u001b[0m\n\u001b[0;32m    538\u001b[0m config \u001b[38;5;241m=\u001b[39m load_config(config_path, overrides\u001b[38;5;241m=\u001b[39moverrides)\n\u001b[0;32m    539\u001b[0m nlp \u001b[38;5;241m=\u001b[39m load_model_from_config(\n\u001b[0;32m    540\u001b[0m     config,\n\u001b[0;32m    541\u001b[0m     vocab\u001b[38;5;241m=\u001b[39mvocab,\n\u001b[1;32m   (...)\u001b[0m\n\u001b[0;32m    545\u001b[0m     meta\u001b[38;5;241m=\u001b[39mmeta,\n\u001b[0;32m    546\u001b[0m )\n\u001b[1;32m--> 547\u001b[0m \u001b[38;5;28;01mreturn\u001b[39;00m \u001b[43mnlp\u001b[49m\u001b[38;5;241;43m.\u001b[39;49m\u001b[43mfrom_disk\u001b[49m\u001b[43m(\u001b[49m\u001b[43mmodel_path\u001b[49m\u001b[43m,\u001b[49m\u001b[43m \u001b[49m\u001b[43mexclude\u001b[49m\u001b[38;5;241;43m=\u001b[39;49m\u001b[43mexclude\u001b[49m\u001b[43m,\u001b[49m\u001b[43m \u001b[49m\u001b[43moverrides\u001b[49m\u001b[38;5;241;43m=\u001b[39;49m\u001b[43moverrides\u001b[49m\u001b[43m)\u001b[49m\n",
      "File \u001b[1;32m~\\anaconda3\\envs\\pytorch2\\lib\\site-packages\\spacy\\language.py:2184\u001b[0m, in \u001b[0;36mLanguage.from_disk\u001b[1;34m(self, path, exclude, overrides)\u001b[0m\n\u001b[0;32m   2181\u001b[0m \u001b[38;5;28;01mif\u001b[39;00m \u001b[38;5;129;01mnot\u001b[39;00m (path \u001b[38;5;241m/\u001b[39m \u001b[38;5;124m\"\u001b[39m\u001b[38;5;124mvocab\u001b[39m\u001b[38;5;124m\"\u001b[39m)\u001b[38;5;241m.\u001b[39mexists() \u001b[38;5;129;01mand\u001b[39;00m \u001b[38;5;124m\"\u001b[39m\u001b[38;5;124mvocab\u001b[39m\u001b[38;5;124m\"\u001b[39m \u001b[38;5;129;01mnot\u001b[39;00m \u001b[38;5;129;01min\u001b[39;00m exclude:  \u001b[38;5;66;03m# type: ignore[operator]\u001b[39;00m\n\u001b[0;32m   2182\u001b[0m     \u001b[38;5;66;03m# Convert to list here in case exclude is (default) tuple\u001b[39;00m\n\u001b[0;32m   2183\u001b[0m     exclude \u001b[38;5;241m=\u001b[39m \u001b[38;5;28mlist\u001b[39m(exclude) \u001b[38;5;241m+\u001b[39m [\u001b[38;5;124m\"\u001b[39m\u001b[38;5;124mvocab\u001b[39m\u001b[38;5;124m\"\u001b[39m]\n\u001b[1;32m-> 2184\u001b[0m \u001b[43mutil\u001b[49m\u001b[38;5;241;43m.\u001b[39;49m\u001b[43mfrom_disk\u001b[49m\u001b[43m(\u001b[49m\u001b[43mpath\u001b[49m\u001b[43m,\u001b[49m\u001b[43m \u001b[49m\u001b[43mdeserializers\u001b[49m\u001b[43m,\u001b[49m\u001b[43m \u001b[49m\u001b[43mexclude\u001b[49m\u001b[43m)\u001b[49m  \u001b[38;5;66;03m# type: ignore[arg-type]\u001b[39;00m\n\u001b[0;32m   2185\u001b[0m \u001b[38;5;28mself\u001b[39m\u001b[38;5;241m.\u001b[39m_path \u001b[38;5;241m=\u001b[39m path  \u001b[38;5;66;03m# type: ignore[assignment]\u001b[39;00m\n\u001b[0;32m   2186\u001b[0m \u001b[38;5;28mself\u001b[39m\u001b[38;5;241m.\u001b[39m_link_components()\n",
      "File \u001b[1;32m~\\anaconda3\\envs\\pytorch2\\lib\\site-packages\\spacy\\util.py:1372\u001b[0m, in \u001b[0;36mfrom_disk\u001b[1;34m(path, readers, exclude)\u001b[0m\n\u001b[0;32m   1369\u001b[0m \u001b[38;5;28;01mfor\u001b[39;00m key, reader \u001b[38;5;129;01min\u001b[39;00m readers\u001b[38;5;241m.\u001b[39mitems():\n\u001b[0;32m   1370\u001b[0m     \u001b[38;5;66;03m# Split to support file names like meta.json\u001b[39;00m\n\u001b[0;32m   1371\u001b[0m     \u001b[38;5;28;01mif\u001b[39;00m key\u001b[38;5;241m.\u001b[39msplit(\u001b[38;5;124m\"\u001b[39m\u001b[38;5;124m.\u001b[39m\u001b[38;5;124m\"\u001b[39m)[\u001b[38;5;241m0\u001b[39m] \u001b[38;5;129;01mnot\u001b[39;00m \u001b[38;5;129;01min\u001b[39;00m exclude:\n\u001b[1;32m-> 1372\u001b[0m         \u001b[43mreader\u001b[49m\u001b[43m(\u001b[49m\u001b[43mpath\u001b[49m\u001b[43m \u001b[49m\u001b[38;5;241;43m/\u001b[39;49m\u001b[43m \u001b[49m\u001b[43mkey\u001b[49m\u001b[43m)\u001b[49m\n\u001b[0;32m   1373\u001b[0m \u001b[38;5;28;01mreturn\u001b[39;00m path\n",
      "File \u001b[1;32m~\\anaconda3\\envs\\pytorch2\\lib\\site-packages\\spacy\\language.py:2178\u001b[0m, in \u001b[0;36mLanguage.from_disk.<locals>.<lambda>\u001b[1;34m(p, proc)\u001b[0m\n\u001b[0;32m   2176\u001b[0m     \u001b[38;5;28;01mif\u001b[39;00m \u001b[38;5;129;01mnot\u001b[39;00m \u001b[38;5;28mhasattr\u001b[39m(proc, \u001b[38;5;124m\"\u001b[39m\u001b[38;5;124mfrom_disk\u001b[39m\u001b[38;5;124m\"\u001b[39m):\n\u001b[0;32m   2177\u001b[0m         \u001b[38;5;28;01mcontinue\u001b[39;00m\n\u001b[1;32m-> 2178\u001b[0m     deserializers[name] \u001b[38;5;241m=\u001b[39m \u001b[38;5;28;01mlambda\u001b[39;00m p, proc\u001b[38;5;241m=\u001b[39mproc: \u001b[43mproc\u001b[49m\u001b[38;5;241;43m.\u001b[39;49m\u001b[43mfrom_disk\u001b[49m\u001b[43m(\u001b[49m\u001b[43m  \u001b[49m\u001b[38;5;66;43;03m# type: ignore[misc]\u001b[39;49;00m\n\u001b[0;32m   2179\u001b[0m \u001b[43m        \u001b[49m\u001b[43mp\u001b[49m\u001b[43m,\u001b[49m\u001b[43m \u001b[49m\u001b[43mexclude\u001b[49m\u001b[38;5;241;43m=\u001b[39;49m\u001b[43m[\u001b[49m\u001b[38;5;124;43m\"\u001b[39;49m\u001b[38;5;124;43mvocab\u001b[39;49m\u001b[38;5;124;43m\"\u001b[39;49m\u001b[43m]\u001b[49m\n\u001b[0;32m   2180\u001b[0m \u001b[43m    \u001b[49m\u001b[43m)\u001b[49m\n\u001b[0;32m   2181\u001b[0m \u001b[38;5;28;01mif\u001b[39;00m \u001b[38;5;129;01mnot\u001b[39;00m (path \u001b[38;5;241m/\u001b[39m \u001b[38;5;124m\"\u001b[39m\u001b[38;5;124mvocab\u001b[39m\u001b[38;5;124m\"\u001b[39m)\u001b[38;5;241m.\u001b[39mexists() \u001b[38;5;129;01mand\u001b[39;00m \u001b[38;5;124m\"\u001b[39m\u001b[38;5;124mvocab\u001b[39m\u001b[38;5;124m\"\u001b[39m \u001b[38;5;129;01mnot\u001b[39;00m \u001b[38;5;129;01min\u001b[39;00m exclude:  \u001b[38;5;66;03m# type: ignore[operator]\u001b[39;00m\n\u001b[0;32m   2182\u001b[0m     \u001b[38;5;66;03m# Convert to list here in case exclude is (default) tuple\u001b[39;00m\n\u001b[0;32m   2183\u001b[0m     exclude \u001b[38;5;241m=\u001b[39m \u001b[38;5;28mlist\u001b[39m(exclude) \u001b[38;5;241m+\u001b[39m [\u001b[38;5;124m\"\u001b[39m\u001b[38;5;124mvocab\u001b[39m\u001b[38;5;124m\"\u001b[39m]\n",
      "File \u001b[1;32m~\\anaconda3\\envs\\pytorch2\\lib\\site-packages\\spacy\\pipeline\\trainable_pipe.pyx:343\u001b[0m, in \u001b[0;36mspacy.pipeline.trainable_pipe.TrainablePipe.from_disk\u001b[1;34m()\u001b[0m\n",
      "File \u001b[1;32m~\\anaconda3\\envs\\pytorch2\\lib\\site-packages\\spacy\\util.py:1372\u001b[0m, in \u001b[0;36mfrom_disk\u001b[1;34m(path, readers, exclude)\u001b[0m\n\u001b[0;32m   1369\u001b[0m \u001b[38;5;28;01mfor\u001b[39;00m key, reader \u001b[38;5;129;01min\u001b[39;00m readers\u001b[38;5;241m.\u001b[39mitems():\n\u001b[0;32m   1370\u001b[0m     \u001b[38;5;66;03m# Split to support file names like meta.json\u001b[39;00m\n\u001b[0;32m   1371\u001b[0m     \u001b[38;5;28;01mif\u001b[39;00m key\u001b[38;5;241m.\u001b[39msplit(\u001b[38;5;124m\"\u001b[39m\u001b[38;5;124m.\u001b[39m\u001b[38;5;124m\"\u001b[39m)[\u001b[38;5;241m0\u001b[39m] \u001b[38;5;129;01mnot\u001b[39;00m \u001b[38;5;129;01min\u001b[39;00m exclude:\n\u001b[1;32m-> 1372\u001b[0m         \u001b[43mreader\u001b[49m\u001b[43m(\u001b[49m\u001b[43mpath\u001b[49m\u001b[43m \u001b[49m\u001b[38;5;241;43m/\u001b[39;49m\u001b[43m \u001b[49m\u001b[43mkey\u001b[49m\u001b[43m)\u001b[49m\n\u001b[0;32m   1373\u001b[0m \u001b[38;5;28;01mreturn\u001b[39;00m path\n",
      "File \u001b[1;32m~\\anaconda3\\envs\\pytorch2\\lib\\site-packages\\spacy\\pipeline\\trainable_pipe.pyx:333\u001b[0m, in \u001b[0;36mspacy.pipeline.trainable_pipe.TrainablePipe.from_disk.load_model\u001b[1;34m()\u001b[0m\n",
      "File \u001b[1;32m~\\anaconda3\\envs\\pytorch2\\lib\\site-packages\\spacy\\pipeline\\trainable_pipe.pyx:334\u001b[0m, in \u001b[0;36mspacy.pipeline.trainable_pipe.TrainablePipe.from_disk.load_model\u001b[1;34m()\u001b[0m\n",
      "File \u001b[1;32m~\\anaconda3\\envs\\pytorch2\\lib\\site-packages\\thinc\\model.py:636\u001b[0m, in \u001b[0;36mModel.from_bytes\u001b[1;34m(self, bytes_data)\u001b[0m\n\u001b[0;32m    628\u001b[0m \u001b[38;5;28;01mdef\u001b[39;00m \u001b[38;5;21mfrom_bytes\u001b[39m(\u001b[38;5;28mself\u001b[39m, bytes_data: \u001b[38;5;28mbytes\u001b[39m) \u001b[38;5;241m-\u001b[39m\u001b[38;5;241m>\u001b[39m \u001b[38;5;124m\"\u001b[39m\u001b[38;5;124mModel\u001b[39m\u001b[38;5;124m\"\u001b[39m:\n\u001b[0;32m    629\u001b[0m \u001b[38;5;250m    \u001b[39m\u001b[38;5;124;03m\"\"\"Deserialize the model from a bytes representation. Models are usually\u001b[39;00m\n\u001b[0;32m    630\u001b[0m \u001b[38;5;124;03m    serialized using msgpack, so you should be able to call msgpack.loads()\u001b[39;00m\n\u001b[0;32m    631\u001b[0m \u001b[38;5;124;03m    on the data and get back a dictionary with the contents.\u001b[39;00m\n\u001b[1;32m   (...)\u001b[0m\n\u001b[0;32m    634\u001b[0m \u001b[38;5;124;03m    result from loading and serializing a model.\u001b[39;00m\n\u001b[0;32m    635\u001b[0m \u001b[38;5;124;03m    \"\"\"\u001b[39;00m\n\u001b[1;32m--> 636\u001b[0m     msg \u001b[38;5;241m=\u001b[39m \u001b[43msrsly\u001b[49m\u001b[38;5;241;43m.\u001b[39;49m\u001b[43mmsgpack_loads\u001b[49m\u001b[43m(\u001b[49m\u001b[43mbytes_data\u001b[49m\u001b[43m)\u001b[49m\n\u001b[0;32m    637\u001b[0m     msg \u001b[38;5;241m=\u001b[39m convert_recursive(is_xp_array, \u001b[38;5;28mself\u001b[39m\u001b[38;5;241m.\u001b[39mops\u001b[38;5;241m.\u001b[39masarray, msg)\n\u001b[0;32m    638\u001b[0m     \u001b[38;5;28;01mreturn\u001b[39;00m \u001b[38;5;28mself\u001b[39m\u001b[38;5;241m.\u001b[39mfrom_dict(msg)\n",
      "File \u001b[1;32m~\\anaconda3\\envs\\pytorch2\\lib\\site-packages\\srsly\\_msgpack_api.py:27\u001b[0m, in \u001b[0;36mmsgpack_loads\u001b[1;34m(data, use_list)\u001b[0m\n\u001b[0;32m     25\u001b[0m \u001b[38;5;66;03m# msgpack-python docs suggest disabling gc before unpacking large messages\u001b[39;00m\n\u001b[0;32m     26\u001b[0m gc\u001b[38;5;241m.\u001b[39mdisable()\n\u001b[1;32m---> 27\u001b[0m msg \u001b[38;5;241m=\u001b[39m \u001b[43mmsgpack\u001b[49m\u001b[38;5;241;43m.\u001b[39;49m\u001b[43mloads\u001b[49m\u001b[43m(\u001b[49m\u001b[43mdata\u001b[49m\u001b[43m,\u001b[49m\u001b[43m \u001b[49m\u001b[43mraw\u001b[49m\u001b[38;5;241;43m=\u001b[39;49m\u001b[38;5;28;43;01mFalse\u001b[39;49;00m\u001b[43m,\u001b[49m\u001b[43m \u001b[49m\u001b[43muse_list\u001b[49m\u001b[38;5;241;43m=\u001b[39;49m\u001b[43muse_list\u001b[49m\u001b[43m)\u001b[49m\n\u001b[0;32m     28\u001b[0m gc\u001b[38;5;241m.\u001b[39menable()\n\u001b[0;32m     29\u001b[0m \u001b[38;5;28;01mreturn\u001b[39;00m msg\n",
      "File \u001b[1;32m~\\anaconda3\\envs\\pytorch2\\lib\\site-packages\\srsly\\msgpack\\__init__.py:79\u001b[0m, in \u001b[0;36munpackb\u001b[1;34m(packed, **kwargs)\u001b[0m\n\u001b[0;32m     77\u001b[0m         object_hook \u001b[38;5;241m=\u001b[39m functools\u001b[38;5;241m.\u001b[39mpartial(decoder, chain\u001b[38;5;241m=\u001b[39mobject_hook)\n\u001b[0;32m     78\u001b[0m     kwargs[\u001b[38;5;124m\"\u001b[39m\u001b[38;5;124mobject_hook\u001b[39m\u001b[38;5;124m\"\u001b[39m] \u001b[38;5;241m=\u001b[39m object_hook\n\u001b[1;32m---> 79\u001b[0m \u001b[38;5;28;01mreturn\u001b[39;00m _unpackb(packed, \u001b[38;5;241m*\u001b[39m\u001b[38;5;241m*\u001b[39mkwargs)\n",
      "File \u001b[1;32m~\\anaconda3\\envs\\pytorch2\\lib\\site-packages\\srsly\\msgpack\\_unpacker.pyx:203\u001b[0m, in \u001b[0;36msrsly.msgpack._unpacker.unpackb\u001b[1;34m()\u001b[0m\n",
      "\u001b[1;31mValueError\u001b[0m: Unpack failed: incomplete input"
     ]
    }
   ],
   "source": [
    "nlp_model = spacy.load('models/NER/loss_78')"
   ]
  },
  {
   "cell_type": "code",
   "execution_count": null,
   "id": "9b467cd4",
   "metadata": {},
   "outputs": [],
   "source": [
    "TRAIN_DATA"
   ]
  },
  {
   "cell_type": "code",
   "execution_count": null,
   "id": "886b9b94",
   "metadata": {
    "scrolled": true
   },
   "outputs": [],
   "source": [
    "total=0\n",
    "correct=0\n",
    "for sentence, entities in TRAIN_DATA:\n",
    "    pred = nlp_model(sentence)\n",
    "    for ent in pred.ents:\n",
    "        total+=1\n",
    "        if (ent.start_char, ent.end_char, ent.label_) in entities['entities']:\n",
    "            correct+=1\n",
    "            #print(ent.label_+\" Correctly found\")\n",
    "        else:\n",
    "            spacy.displacy.render(pred, style=\"ent\", jupyter=True)\n",
    "            print(sentence, entities)\n",
    "            print(\"Missing {} label\".format(ent.label_))\n",
    "            \n",
    "print(correct, total)"
   ]
  },
  {
   "cell_type": "code",
   "execution_count": 8,
   "id": "68f85c91",
   "metadata": {},
   "outputs": [
    {
     "data": {
      "text/html": [
       "<span class=\"tex2jax_ignore\"><div class=\"entities\" style=\"line-height: 2.5; direction: ltr\">Recommend movies \n",
       "<mark class=\"entity\" style=\"background: #ddd; padding: 0.45em 0.6em; margin: 0 0.25em; line-height: 1; border-radius: 0.35em;\">\n",
       "    like\n",
       "    <span style=\"font-size: 0.8em; font-weight: bold; line-height: 1; border-radius: 0.35em; vertical-align: middle; margin-left: 0.5rem\">action</span>\n",
       "</mark>\n",
       " \n",
       "<mark class=\"entity\" style=\"background: #ddd; padding: 0.45em 0.6em; margin: 0 0.25em; line-height: 1; border-radius: 0.35em;\">\n",
       "    Nightmare on Elm Street, Friday the 13th, and Halloween.\n",
       "    <span style=\"font-size: 0.8em; font-weight: bold; line-height: 1; border-radius: 0.35em; vertical-align: middle; margin-left: 0.5rem\">name</span>\n",
       "</mark>\n",
       "</div></span>"
      ],
      "text/plain": [
       "<IPython.core.display.HTML object>"
      ]
     },
     "metadata": {},
     "output_type": "display_data"
    }
   ],
   "source": [
    "nlp1 = spacy.load('models/NER/loss_72/') #load the best model\n",
    "doc = nlp1(\"Recommend movies like Nightmare on Elm Street, Friday the 13th, and Halloween.\") # input sample text\n",
    "\n",
    "spacy.displacy.render(doc, style=\"ent\", jupyter=True) # display in Jupyter\n",
    "\n"
   ]
  },
  {
   "cell_type": "code",
   "execution_count": 54,
   "id": "b939748e",
   "metadata": {},
   "outputs": [
    {
     "data": {
      "text/html": [
       "<span class=\"tex2jax_ignore\"><div class=\"entities\" style=\"line-height: 2.5; direction: ltr\">Who is the \n",
       "<mark class=\"entity\" style=\"background: #ddd; padding: 0.45em 0.6em; margin: 0 0.25em; line-height: 1; border-radius: 0.35em;\">\n",
       "    director\n",
       "    <span style=\"font-size: 0.8em; font-weight: bold; line-height: 1; border-radius: 0.35em; vertical-align: middle; margin-left: 0.5rem\">role</span>\n",
       "</mark>\n",
       " of \n",
       "<mark class=\"entity\" style=\"background: #ddd; padding: 0.45em 0.6em; margin: 0 0.25em; line-height: 1; border-radius: 0.35em;\">\n",
       "    Oppenheimer\n",
       "    <span style=\"font-size: 0.8em; font-weight: bold; line-height: 1; border-radius: 0.35em; vertical-align: middle; margin-left: 0.5rem\">movie</span>\n",
       "</mark>\n",
       "?</div></span>"
      ],
      "text/plain": [
       "<IPython.core.display.HTML object>"
      ]
     },
     "metadata": {},
     "output_type": "display_data"
    }
   ],
   "source": [
    "doc = nlp1(\"Who is the director of Oppenheimer?\") # input sample text\n",
    "\n",
    "spacy.displacy.render(doc, style=\"ent\", jupyter=True) # display in Jupyter\n"
   ]
  },
  {
   "cell_type": "code",
   "execution_count": 74,
   "id": "650a8441",
   "metadata": {},
   "outputs": [
    {
     "data": {
      "text/html": [
       "<span class=\"tex2jax_ignore\"><div class=\"entities\" style=\"line-height: 2.5; direction: ltr\">What are the \n",
       "<mark class=\"entity\" style=\"background: #ddd; padding: 0.45em 0.6em; margin: 0 0.25em; line-height: 1; border-radius: 0.35em;\">\n",
       "    best\n",
       "    <span style=\"font-size: 0.8em; font-weight: bold; line-height: 1; border-radius: 0.35em; vertical-align: middle; margin-left: 0.5rem\">order</span>\n",
       "</mark>\n",
       " \n",
       "<mark class=\"entity\" style=\"background: #ddd; padding: 0.45em 0.6em; margin: 0 0.25em; line-height: 1; border-radius: 0.35em;\">\n",
       "    5\n",
       "    <span style=\"font-size: 0.8em; font-weight: bold; line-height: 1; border-radius: 0.35em; vertical-align: middle; margin-left: 0.5rem\">numerical_entity</span>\n",
       "</mark>\n",
       " movies of \n",
       "<mark class=\"entity\" style=\"background: #ddd; padding: 0.45em 0.6em; margin: 0 0.25em; line-height: 1; border-radius: 0.35em;\">\n",
       "    Christopher Nolan\n",
       "    <span style=\"font-size: 0.8em; font-weight: bold; line-height: 1; border-radius: 0.35em; vertical-align: middle; margin-left: 0.5rem\">name</span>\n",
       "</mark>\n",
       "?</div></span>"
      ],
      "text/plain": [
       "<IPython.core.display.HTML object>"
      ]
     },
     "metadata": {},
     "output_type": "display_data"
    }
   ],
   "source": [
    "doc = nlp1(\"What are the best 5 movies of Christopher Nolan?\") # input sample text\n",
    "\n",
    "spacy.displacy.render(doc, style=\"ent\", jupyter=True) # display in Jupyter\n"
   ]
  },
  {
   "cell_type": "code",
   "execution_count": 56,
   "id": "db1b9827",
   "metadata": {},
   "outputs": [
    {
     "data": {
      "text/html": [
       "<span class=\"tex2jax_ignore\"><div class=\"entities\" style=\"line-height: 2.5; direction: ltr\">List the \n",
       "<mark class=\"entity\" style=\"background: #ddd; padding: 0.45em 0.6em; margin: 0 0.25em; line-height: 1; border-radius: 0.35em;\">\n",
       "    top\n",
       "    <span style=\"font-size: 0.8em; font-weight: bold; line-height: 1; border-radius: 0.35em; vertical-align: middle; margin-left: 0.5rem\">order</span>\n",
       "</mark>\n",
       " \n",
       "<mark class=\"entity\" style=\"background: #ddd; padding: 0.45em 0.6em; margin: 0 0.25em; line-height: 1; border-radius: 0.35em;\">\n",
       "    ten\n",
       "    <span style=\"font-size: 0.8em; font-weight: bold; line-height: 1; border-radius: 0.35em; vertical-align: middle; margin-left: 0.5rem\">numerical_entity</span>\n",
       "</mark>\n",
       " \n",
       "<mark class=\"entity\" style=\"background: #ddd; padding: 0.45em 0.6em; margin: 0 0.25em; line-height: 1; border-radius: 0.35em;\">\n",
       "    horror\n",
       "    <span style=\"font-size: 0.8em; font-weight: bold; line-height: 1; border-radius: 0.35em; vertical-align: middle; margin-left: 0.5rem\">genre</span>\n",
       "</mark>\n",
       " movies</div></span>"
      ],
      "text/plain": [
       "<IPython.core.display.HTML object>"
      ]
     },
     "metadata": {},
     "output_type": "display_data"
    }
   ],
   "source": [
    "doc = nlp1(\"List the top ten horror movies\") # input sample text\n",
    "\n",
    "spacy.displacy.render(doc, style=\"ent\", jupyter=True) # display in Jupyter\n"
   ]
  },
  {
   "cell_type": "code",
   "execution_count": 57,
   "id": "b1b2f59a",
   "metadata": {},
   "outputs": [
    {
     "data": {
      "text/html": [
       "<span class=\"tex2jax_ignore\"><div class=\"entities\" style=\"line-height: 2.5; direction: ltr\">Which is the \n",
       "<mark class=\"entity\" style=\"background: #ddd; padding: 0.45em 0.6em; margin: 0 0.25em; line-height: 1; border-radius: 0.35em;\">\n",
       "    best\n",
       "    <span style=\"font-size: 0.8em; font-weight: bold; line-height: 1; border-radius: 0.35em; vertical-align: middle; margin-left: 0.5rem\">order</span>\n",
       "</mark>\n",
       " \n",
       "<mark class=\"entity\" style=\"background: #ddd; padding: 0.45em 0.6em; margin: 0 0.25em; line-height: 1; border-radius: 0.35em;\">\n",
       "    rated\n",
       "    <span style=\"font-size: 0.8em; font-weight: bold; line-height: 1; border-radius: 0.35em; vertical-align: middle; margin-left: 0.5rem\">predicate</span>\n",
       "</mark>\n",
       " \n",
       "<mark class=\"entity\" style=\"background: #ddd; padding: 0.45em 0.6em; margin: 0 0.25em; line-height: 1; border-radius: 0.35em;\">\n",
       "    horror\n",
       "    <span style=\"font-size: 0.8em; font-weight: bold; line-height: 1; border-radius: 0.35em; vertical-align: middle; margin-left: 0.5rem\">genre</span>\n",
       "</mark>\n",
       " movie?</div></span>"
      ],
      "text/plain": [
       "<IPython.core.display.HTML object>"
      ]
     },
     "metadata": {},
     "output_type": "display_data"
    }
   ],
   "source": [
    "doc = nlp1(\"Which is the best rated horror movie?\") # input sample text\n",
    "\n",
    "spacy.displacy.render(doc, style=\"ent\", jupyter=True) # display in Jupyter\n"
   ]
  },
  {
   "cell_type": "code",
   "execution_count": 100,
   "id": "bdacd538",
   "metadata": {},
   "outputs": [
    {
     "data": {
      "text/html": [
       "<span class=\"tex2jax_ignore\"><div class=\"entities\" style=\"line-height: 2.5; direction: ltr\">Who is the \n",
       "<mark class=\"entity\" style=\"background: #ddd; padding: 0.45em 0.6em; margin: 0 0.25em; line-height: 1; border-radius: 0.35em;\">\n",
       "    screenwriter\n",
       "    <span style=\"font-size: 0.8em; font-weight: bold; line-height: 1; border-radius: 0.35em; vertical-align: middle; margin-left: 0.5rem\">role</span>\n",
       "</mark>\n",
       " of \n",
       "<mark class=\"entity\" style=\"background: #ddd; padding: 0.45em 0.6em; margin: 0 0.25em; line-height: 1; border-radius: 0.35em;\">\n",
       "    The Masked Gang: Cyprus\n",
       "    <span style=\"font-size: 0.8em; font-weight: bold; line-height: 1; border-radius: 0.35em; vertical-align: middle; margin-left: 0.5rem\">movie</span>\n",
       "</mark>\n",
       "?</div></span>"
      ],
      "text/plain": [
       "<IPython.core.display.HTML object>"
      ]
     },
     "metadata": {},
     "output_type": "display_data"
    }
   ],
   "source": [
    "doc = nlp1(\"Who is the screenwriter of The Masked Gang: Cyprus?\") # input sample text\n",
    "\n",
    "spacy.displacy.render(doc, style=\"ent\", jupyter=True) # display in Jupyter\n"
   ]
  },
  {
   "cell_type": "code",
   "execution_count": 85,
   "id": "d493e86f",
   "metadata": {},
   "outputs": [
    {
     "name": "stdout",
     "output_type": "stream",
     "text": [
      "year 30 34\n"
     ]
    }
   ],
   "source": [
    "for ent in doc.ents:\n",
    "    print(ent.label_, ent.start_char, ent.end_char)\n"
   ]
  },
  {
   "cell_type": "code",
   "execution_count": null,
   "id": "165fdff6",
   "metadata": {},
   "outputs": [],
   "source": []
  }
 ],
 "metadata": {
  "kernelspec": {
   "display_name": "Python 3 (ipykernel)",
   "language": "python",
   "name": "python3"
  },
  "language_info": {
   "codemirror_mode": {
    "name": "ipython",
    "version": 3
   },
   "file_extension": ".py",
   "mimetype": "text/x-python",
   "name": "python",
   "nbconvert_exporter": "python",
   "pygments_lexer": "ipython3",
   "version": "3.10.13"
  }
 },
 "nbformat": 4,
 "nbformat_minor": 5
}
