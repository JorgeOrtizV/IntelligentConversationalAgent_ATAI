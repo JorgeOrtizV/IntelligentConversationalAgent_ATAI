{
 "cells": [
  {
   "cell_type": "code",
   "execution_count": 1,
   "id": "06e1964d",
   "metadata": {},
   "outputs": [],
   "source": [
    "import spacy\n",
    "from spacy import displacy\n",
    "\n",
    "nlp = spacy.load(\"en_core_web_sm\")"
   ]
  },
  {
   "cell_type": "code",
   "execution_count": 2,
   "id": "a4f9cf1d",
   "metadata": {},
   "outputs": [],
   "source": [
    "from rdflib.namespace import Namespace, RDF, RDFS, XSD\n",
    "from rdflib.term import URIRef, Literal\n",
    "import csv\n",
    "import json\n",
    "import networkx as nx\n",
    "import pandas as pd\n",
    "import rdflib\n",
    "from collections import defaultdict, Counter\n",
    "import locale"
   ]
  },
  {
   "cell_type": "code",
   "execution_count": 3,
   "id": "d59d51d4",
   "metadata": {},
   "outputs": [
    {
     "data": {
      "text/plain": [
       "<Graph identifier=N5cc8320491634a0d8edf30eb150e997c (<class 'rdflib.graph.Graph'>)>"
      ]
     },
     "execution_count": 3,
     "metadata": {},
     "output_type": "execute_result"
    }
   ],
   "source": [
    "graph = rdflib.Graph()\n",
    "graph.parse('data/14_graph.nt', format='turtle')"
   ]
  },
  {
   "cell_type": "code",
   "execution_count": 4,
   "id": "587179f4",
   "metadata": {},
   "outputs": [],
   "source": [
    "# prefixes used in the graph\n",
    "WD = Namespace('http://www.wikidata.org/entity/')\n",
    "WDT = Namespace('http://www.wikidata.org/prop/direct/')\n",
    "SCHEMA = Namespace('http://schema.org/')\n",
    "DDIS = Namespace('http://ddis.ch/atai/')"
   ]
  },
  {
   "cell_type": "code",
   "execution_count": 5,
   "id": "ecd1993c",
   "metadata": {},
   "outputs": [],
   "source": [
    "entities = set(graph.subjects()) | {s for s in graph.objects() if isinstance(s,URIRef)}\n",
    "predicates = set(graph.predicates())\n",
    "literals = {s for s in graph.objects() if isinstance(s, Literal)}"
   ]
  },
  {
   "cell_type": "code",
   "execution_count": 6,
   "id": "e867bce1",
   "metadata": {},
   "outputs": [
    {
     "data": {
      "text/plain": [
       "364"
      ]
     },
     "execution_count": 6,
     "metadata": {},
     "output_type": "execute_result"
    }
   ],
   "source": [
    "genre_list = {str(uri):str(s) for uri,s in graph.query('''\n",
    "PREFIX ddis: <http://ddis.ch/atai/>\n",
    "PREFIX wd: <http://www.wikidata.org/entity/>\n",
    "PREFIX wdt: <http://www.wikidata.org/prop/direct/>\n",
    "PREFIX schema: <http://schema.org/>\n",
    "SELECT ?genre ?lbl WHERE {\n",
    "?movie wdt:P31 wd:Q11424 .\n",
    "?movie wdt:P136 ?genre .\n",
    "?genre rdfs:label ?lbl .\n",
    "}\n",
    "''')}\n",
    "\n",
    "len(genre_list)"
   ]
  },
  {
   "cell_type": "code",
   "execution_count": 7,
   "id": "ad0ad0e2",
   "metadata": {},
   "outputs": [
    {
     "data": {
      "text/plain": [
       "100157"
      ]
     },
     "execution_count": 7,
     "metadata": {},
     "output_type": "execute_result"
    }
   ],
   "source": [
    "people_list = {str(uri):str(s) for uri,s in graph.query('''\n",
    "PREFIX ddis: <http://ddis.ch/atai/>\n",
    "PREFIX wd: <http://www.wikidata.org/entity/>\n",
    "PREFIX wdt: <http://www.wikidata.org/prop/direct/>\n",
    "PREFIX schema: <http://schema.org/>\n",
    "SELECT ?person ?lbl WHERE {\n",
    "?person wdt:P31 wd:Q5 .\n",
    "?person rdfs:label ?lbl .\n",
    "}\n",
    "''')}\n",
    "\n",
    "len(people_list)"
   ]
  },
  {
   "cell_type": "code",
   "execution_count": 8,
   "id": "cedf2739",
   "metadata": {},
   "outputs": [
    {
     "data": {
      "text/plain": [
       "24384"
      ]
     },
     "execution_count": 8,
     "metadata": {},
     "output_type": "execute_result"
    }
   ],
   "source": [
    "movie_list = {str(uri):str(s) for uri,s in graph.query('''\n",
    "PREFIX ddis: <http://ddis.ch/atai/>\n",
    "PREFIX wd: <http://www.wikidata.org/entity/>\n",
    "PREFIX wdt: <http://www.wikidata.org/prop/direct/>\n",
    "PREFIX schema: <http://schema.org/>\n",
    "SELECT ?movie ?lbl WHERE {\n",
    "?movie wdt:P31 wd:Q11424 .\n",
    "?movie rdfs:label ?lbl .\n",
    "}\n",
    "''')}\n",
    "\n",
    "len(movie_list)"
   ]
  },
  {
   "cell_type": "code",
   "execution_count": 9,
   "id": "656cef68",
   "metadata": {},
   "outputs": [],
   "source": [
    "predicate_dict = {}\n",
    "prefix_string = \"PREFIX ddis: <http://ddis.ch/atai/> PREFIX wd: <http://www.wikidata.org/entity/> PREFIX wdt: <http://www.wikidata.org/prop/direct/> PREFIX schema: <http://schema.org/> \"\n",
    "for uri in predicates:\n",
    "    try:\n",
    "        p = uri.split(\"/\")[-1]\n",
    "        query_string = \"SELECT ?lbl WHERE { wdt:PREDICATE rdfs:label ?lbl . }\".replace(\"PREDICATE\",p)\n",
    "        res = graph.query(prefix_string + query_string)\n",
    "        label, = res\n",
    "        predicate_dict[str(uri)] = str(label[0])\n",
    "    except:\n",
    "        pass"
   ]
  },
  {
   "cell_type": "code",
   "execution_count": 10,
   "id": "d9beba94",
   "metadata": {},
   "outputs": [
    {
     "data": {
      "text/plain": [
       "{'http://www.wikidata.org/prop/direct/P629': 'edition or translation of',\n",
       " 'http://www.wikidata.org/prop/direct/P206': 'located in or next to body of water',\n",
       " 'http://www.wikidata.org/prop/direct/P3803': 'original film format',\n",
       " 'http://www.wikidata.org/prop/direct/P136': 'genre',\n",
       " 'http://www.wikidata.org/prop/direct/P6658': 'RCQ classification',\n",
       " 'http://www.wikidata.org/prop/direct/P8411': 'set in environment',\n",
       " 'http://www.wikidata.org/prop/direct/P710': 'participant',\n",
       " 'http://www.wikidata.org/prop/direct/P4805': 'make-up artist',\n",
       " 'http://www.wikidata.org/prop/direct/P2629': 'BBFC rating',\n",
       " 'http://www.wikidata.org/prop/direct/P400': 'platform',\n",
       " 'http://www.wikidata.org/prop/direct/P1040': 'film editor',\n",
       " 'http://www.wikidata.org/prop/direct/P18': 'image',\n",
       " 'http://www.wikidata.org/prop/direct/P5021': 'assessment',\n",
       " 'http://www.wikidata.org/prop/direct/P674': 'characters',\n",
       " 'http://www.wikidata.org/prop/direct/P915': 'filming location',\n",
       " 'http://www.wikidata.org/prop/direct/P91': 'sexual orientation',\n",
       " 'http://www.wikidata.org/prop/direct/P737': 'influenced by',\n",
       " 'http://www.wikidata.org/prop/direct/P54': 'member of sports team',\n",
       " 'http://www.wikidata.org/prop/direct/P479': 'input method',\n",
       " 'http://www.wikidata.org/prop/direct/P40': 'child',\n",
       " 'http://www.wikidata.org/prop/direct/P2363': 'NMHH film rating',\n",
       " 'http://www.wikidata.org/prop/direct/P1433': 'published in',\n",
       " 'http://www.wikidata.org/prop/direct/P35': 'head of state',\n",
       " 'http://www.wikidata.org/prop/direct/P941': 'inspired by',\n",
       " 'http://www.wikidata.org/prop/direct/P2348': 'time period',\n",
       " 'http://www.wikidata.org/prop/direct/P159': 'headquarters location',\n",
       " 'http://www.wikidata.org/prop/direct/P2079': 'fabrication method',\n",
       " 'http://www.wikidata.org/prop/direct/P175': 'performer',\n",
       " 'http://www.wikidata.org/prop/direct/P3216': 'ClassInd rating',\n",
       " 'http://www.wikidata.org/prop/direct/P495': 'country of origin',\n",
       " 'http://www.wikidata.org/prop/direct/P3174': 'art director',\n",
       " 'http://www.wikidata.org/prop/direct/P97': 'noble title',\n",
       " 'http://www.wikidata.org/prop/direct/P750': 'distributed by',\n",
       " 'http://www.wikidata.org/prop/direct/P825': 'dedicated to',\n",
       " 'http://www.wikidata.org/prop/direct/P17': 'country',\n",
       " 'http://www.wikidata.org/prop/direct/P451': 'unmarried partner',\n",
       " 'http://www.wikidata.org/prop/direct/P3300': 'musical conductor',\n",
       " 'http://www.wikidata.org/prop/direct/P3301': 'broadcast by',\n",
       " 'http://www.wikidata.org/prop/direct/P306': 'operating system',\n",
       " 'http://www.wikidata.org/prop/direct/P449': 'original broadcaster',\n",
       " 'http://www.wikidata.org/prop/direct/P1346': 'winner',\n",
       " 'http://www.wikidata.org/prop/direct/P452': 'industry',\n",
       " 'http://www.wikidata.org/prop/direct/P3156': 'Australian Classification',\n",
       " 'http://www.wikidata.org/prop/direct/P37': 'official language',\n",
       " 'http://www.wikidata.org/prop/direct/P3650': 'JMK film rating',\n",
       " 'http://www.wikidata.org/prop/direct/P5096': 'member of the crew of',\n",
       " 'http://www.wikidata.org/prop/direct/P135': 'movement',\n",
       " 'http://www.wikidata.org/prop/direct/P1875': 'represented by',\n",
       " 'http://www.wikidata.org/prop/direct/P6166': 'quotes work',\n",
       " 'http://www.wikidata.org/prop/direct/P3275': 'storyboard artist',\n",
       " 'http://www.wikidata.org/prop/direct/P551': 'residence',\n",
       " 'http://www.wikidata.org/prop/direct/P407': 'language of work or name',\n",
       " 'http://www.wikidata.org/prop/direct/P4908': 'season',\n",
       " 'http://www.wikidata.org/prop/direct/P2541': 'operating area',\n",
       " 'http://www.wikidata.org/prop/direct/P1382': 'partially coincident with',\n",
       " 'http://www.wikidata.org/prop/direct/P140': 'religion',\n",
       " 'http://www.wikidata.org/prop/direct/P1830': 'owner of',\n",
       " 'http://www.wikidata.org/prop/direct/P7327': 'OFLC classification',\n",
       " 'http://www.wikidata.org/prop/direct/P6886': 'writing language',\n",
       " 'http://www.wikidata.org/prop/direct/P161': 'cast member',\n",
       " 'http://www.wikidata.org/prop/direct/P1809': 'choreographer',\n",
       " 'http://www.wikidata.org/prop/direct/P5940': 'plot expanded in',\n",
       " 'http://www.wikidata.org/prop/direct/P462': 'color',\n",
       " 'http://www.wikidata.org/prop/direct/P2936': 'language used',\n",
       " 'http://www.wikidata.org/prop/direct/P179': 'part of the series',\n",
       " 'http://www.wikidata.org/prop/direct/P931': 'place served by transport hub',\n",
       " 'http://www.wikidata.org/prop/direct/P735': 'given name',\n",
       " 'http://www.wikidata.org/prop/direct/P127': 'owned by',\n",
       " 'http://www.wikidata.org/prop/direct/P1056': 'product or material produced',\n",
       " 'http://www.wikidata.org/prop/direct/P19': 'place of birth',\n",
       " 'http://www.wikidata.org/prop/direct/P1441': 'present in work',\n",
       " 'http://www.wikidata.org/prop/direct/P5152': 'KAVI rating',\n",
       " 'http://www.wikidata.org/prop/direct/P6': 'head of government',\n",
       " 'http://www.wikidata.org/prop/direct/P437': 'distribution format',\n",
       " 'http://www.wikidata.org/prop/direct/P30': 'continent',\n",
       " 'http://www.wikidata.org/prop/direct/P7936': 'business model',\n",
       " 'http://www.wikidata.org/prop/direct/P6275': 'copyright representative',\n",
       " 'http://www.wikidata.org/prop/direct/P137': 'operator',\n",
       " 'http://www.wikidata.org/prop/direct/P8345': 'media franchise',\n",
       " 'http://www.wikidata.org/prop/direct/P166': 'award received',\n",
       " 'http://www.wikidata.org/prop/direct/P6962': 'narrative motif',\n",
       " 'http://www.wikidata.org/prop/direct/P2416': 'sports discipline competed in',\n",
       " 'http://www.wikidata.org/prop/direct/P112': 'founded by',\n",
       " 'http://www.wikidata.org/prop/direct/P5201': 'IMDA rating',\n",
       " 'http://www.wikidata.org/prop/direct/P460': 'said to be the same as',\n",
       " 'http://www.wikidata.org/prop/direct/P8371': 'references work, tradition or theory',\n",
       " 'http://www.wikidata.org/prop/direct/P69': 'educated at',\n",
       " 'http://www.wikidata.org/prop/direct/P793': 'significant event',\n",
       " 'http://www.wikidata.org/prop/direct/P123': 'publisher',\n",
       " 'http://www.wikidata.org/prop/direct/P170': 'creator',\n",
       " 'http://www.wikidata.org/prop/direct/P530': 'diplomatic relation',\n",
       " 'http://www.wikidata.org/prop/direct/P749': 'parent organization',\n",
       " 'http://www.wikidata.org/prop/direct/P5072': 'presented in',\n",
       " 'http://www.wikidata.org/prop/direct/P527': 'has part',\n",
       " 'http://www.wikidata.org/prop/direct/P9086': 'BAMID film rating',\n",
       " 'http://www.wikidata.org/prop/direct/P767': 'contributor to the creative work or subject',\n",
       " 'http://www.wikidata.org/prop/direct/P7959': 'historic county',\n",
       " 'http://www.wikidata.org/prop/direct/P921': 'main subject',\n",
       " 'http://www.wikidata.org/prop/direct/P4437': 'FPB rating',\n",
       " 'http://www.wikidata.org/prop/direct/P66': 'ancestral home',\n",
       " 'http://www.wikidata.org/prop/direct/P747': 'has edition or translation',\n",
       " 'http://www.wikidata.org/prop/direct/P2438': 'narrator',\n",
       " 'http://www.wikidata.org/prop/direct/P466': 'occupant',\n",
       " 'http://www.wikidata.org/prop/direct/P3428': 'INCAA film rating',\n",
       " 'http://www.wikidata.org/prop/direct/P190': 'twinned administrative body',\n",
       " 'http://www.wikidata.org/prop/direct/P1080': 'from narrative universe',\n",
       " 'http://www.wikidata.org/prop/direct/P706': 'located on terrain feature',\n",
       " 'http://www.wikidata.org/prop/direct/P25': 'mother',\n",
       " 'http://www.wikidata.org/prop/direct/P3373': 'sibling',\n",
       " 'http://www.wikidata.org/prop/direct/P945': 'allegiance',\n",
       " 'http://www.wikidata.org/prop/direct/P3306': 'ICAA rating',\n",
       " 'http://www.wikidata.org/prop/direct/P577': 'publication date',\n",
       " 'http://www.wikidata.org/prop/direct/P1066': 'student of',\n",
       " 'http://www.wikidata.org/prop/direct/P2637': 'RARS rating',\n",
       " 'http://www.wikidata.org/prop/direct/P3842': 'located in present-day administrative territorial entity',\n",
       " 'http://www.wikidata.org/prop/direct/P2142': 'box office',\n",
       " 'http://www.wikidata.org/prop/direct/P2515': 'costume designer',\n",
       " 'http://www.wikidata.org/prop/direct/P1165': 'home world',\n",
       " 'http://www.wikidata.org/prop/direct/P463': 'member of',\n",
       " 'http://www.wikidata.org/prop/direct/P6216': 'copyright status',\n",
       " 'http://www.wikidata.org/prop/direct/P361': 'part of',\n",
       " 'http://www.wikidata.org/prop/direct/P287': 'designed by',\n",
       " 'http://www.wikidata.org/prop/direct/P1365': 'replaces',\n",
       " 'http://www.wikidata.org/prop/direct/P802': 'student',\n",
       " 'http://www.wikidata.org/prop/direct/P1050': 'medical condition',\n",
       " 'http://www.wikidata.org/prop/direct/P50': 'author',\n",
       " 'http://www.wikidata.org/prop/direct/P241': 'military branch',\n",
       " 'http://www.wikidata.org/prop/direct/P5970': 'Medierådet rating',\n",
       " 'http://www.wikidata.org/prop/direct/P155': 'follows',\n",
       " 'http://www.wikidata.org/prop/direct/P2758': 'CNC film rating (France)',\n",
       " 'http://www.wikidata.org/prop/direct/P144': 'based on',\n",
       " 'http://www.wikidata.org/prop/direct/P1027': 'conferred by',\n",
       " 'http://www.wikidata.org/prop/direct/P485': 'archives at',\n",
       " 'http://www.wikidata.org/prop/direct/P4584': 'first appearance',\n",
       " 'http://www.wikidata.org/prop/direct/P1429': 'has pet',\n",
       " 'http://www.wikidata.org/prop/direct/P108': 'employer',\n",
       " 'http://www.wikidata.org/prop/direct/P103': 'native language',\n",
       " 'http://www.wikidata.org/prop/direct/P272': 'production company',\n",
       " 'http://www.wikidata.org/prop/direct/P22': 'father',\n",
       " 'http://www.wikidata.org/prop/direct/P9215': 'set during recurring event',\n",
       " 'http://www.wikidata.org/prop/direct/P2684': 'Kijkwijzer rating',\n",
       " 'http://www.wikidata.org/prop/direct/P1037': 'director / manager',\n",
       " 'http://www.wikidata.org/prop/direct/P1445': 'fictional universe described in',\n",
       " 'http://www.wikidata.org/prop/direct/P1327': 'partner in business or sport',\n",
       " 'http://www.wikidata.org/prop/direct/P1576': 'lifestyle',\n",
       " 'http://www.wikidata.org/prop/direct/P4608': 'scenographer',\n",
       " 'http://www.wikidata.org/prop/direct/P6942': 'animator',\n",
       " 'http://www.wikidata.org/prop/direct/P2632': 'place of detention',\n",
       " 'http://www.wikidata.org/prop/direct/P669': 'located on street',\n",
       " 'http://www.wikidata.org/prop/direct/P1981': 'FSK film rating',\n",
       " 'http://www.wikidata.org/prop/direct/P47': 'shares border with',\n",
       " 'http://www.wikidata.org/prop/direct/P2546': 'sidekick of',\n",
       " 'http://www.wikidata.org/prop/direct/P172': 'ethnic group',\n",
       " 'http://www.wikidata.org/prop/direct/P740': 'location of formation',\n",
       " 'http://www.wikidata.org/prop/direct/P3448': 'stepparent',\n",
       " 'http://www.wikidata.org/prop/direct/P21': 'sex or gender',\n",
       " 'http://www.wikidata.org/prop/direct/P156': 'followed by',\n",
       " 'http://www.wikidata.org/prop/direct/P1434': 'takes place in fictional universe',\n",
       " 'http://www.wikidata.org/prop/direct/P1589': 'lowest point',\n",
       " 'http://www.wikidata.org/prop/direct/P157': 'killed by',\n",
       " 'http://www.wikidata.org/prop/direct/P279': 'subclass of',\n",
       " 'http://www.wikidata.org/prop/direct/P8874': 'Hong Kong film rating',\n",
       " 'http://www.wikidata.org/prop/direct/P119': 'place of burial',\n",
       " 'http://www.wikidata.org/prop/direct/P26': 'spouse',\n",
       " 'http://www.wikidata.org/prop/direct/P461': 'opposite of',\n",
       " 'http://www.wikidata.org/prop/direct/P1877': 'after a work by',\n",
       " 'http://www.wikidata.org/prop/direct/P1343': 'described by source',\n",
       " 'http://www.wikidata.org/prop/direct/P840': 'narrative location',\n",
       " 'http://www.wikidata.org/prop/direct/P1552': 'has quality',\n",
       " 'http://www.wikidata.org/prop/direct/P58': 'screenwriter',\n",
       " 'http://www.wikidata.org/prop/direct/P150': 'contains administrative territorial entity',\n",
       " 'http://www.wikidata.org/prop/direct/P364': 'original language of film or TV show',\n",
       " 'http://www.wikidata.org/prop/direct/P1196': 'manner of death',\n",
       " 'http://www.wikidata.org/prop/direct/P425': 'field of this occupation',\n",
       " 'http://www.wikidata.org/prop/direct/P131': 'located in the administrative territorial entity',\n",
       " 'http://www.wikidata.org/prop/direct/P1299': 'depicted by',\n",
       " 'http://www.wikidata.org/prop/direct/P2563': 'superhuman feature or ability',\n",
       " 'http://www.wikidata.org/prop/direct/P1542': 'has effect',\n",
       " 'http://www.wikidata.org/prop/direct/P2650': 'interested in',\n",
       " 'http://www.wikidata.org/prop/direct/P509': 'cause of death',\n",
       " 'http://www.wikidata.org/prop/direct/P1657': 'MPAA film rating',\n",
       " 'http://www.wikidata.org/prop/direct/P2860': 'cites work',\n",
       " 'http://www.wikidata.org/prop/direct/P3092': 'film crew member',\n",
       " 'http://www.wikidata.org/prop/direct/P2061': 'aspect ratio',\n",
       " 'http://www.wikidata.org/prop/direct/P180': 'depicts',\n",
       " 'http://www.wikidata.org/prop/direct/P2341': 'indigenous to',\n",
       " 'http://www.wikidata.org/prop/direct/P276': 'location',\n",
       " 'http://www.wikidata.org/prop/direct/P1029': 'crew member(s)',\n",
       " 'http://www.wikidata.org/prop/direct/P101': 'field of work',\n",
       " 'http://www.wikidata.org/prop/direct/P20': 'place of death',\n",
       " 'http://www.wikidata.org/prop/direct/P205': 'basin country',\n",
       " 'http://www.wikidata.org/prop/direct/P7937': 'form of creative work',\n",
       " 'http://www.wikidata.org/prop/direct/P607': 'conflict',\n",
       " 'http://www.wikidata.org/prop/direct/P5028': 'sound designer',\n",
       " 'http://www.wikidata.org/prop/direct/P3095': 'practiced by',\n",
       " 'http://www.wikidata.org/prop/direct/P1412': 'languages spoken, written or signed',\n",
       " 'http://www.wikidata.org/prop/direct/P2283': 'uses',\n",
       " 'http://www.wikidata.org/prop/direct/P291': 'place of publication',\n",
       " 'http://www.wikidata.org/prop/direct/P263': 'official residence',\n",
       " 'http://www.wikidata.org/prop/direct/P195': 'collection',\n",
       " 'http://www.wikidata.org/prop/direct/P1344': 'participant in',\n",
       " 'http://www.wikidata.org/prop/direct/P27': 'country of citizenship',\n",
       " 'http://www.wikidata.org/prop/direct/P641': 'sport',\n",
       " 'http://www.wikidata.org/prop/direct/P2554': 'production designer',\n",
       " 'http://www.wikidata.org/prop/direct/P3818': 'KMRB film rating',\n",
       " 'http://www.wikidata.org/prop/direct/P2408': 'set in period',\n",
       " 'http://www.wikidata.org/prop/direct/P6379': 'has works in the collection',\n",
       " 'http://www.wikidata.org/prop/direct/P3402': 'CNC film rating (Romania)',\n",
       " 'http://www.wikidata.org/prop/direct/P1142': 'political ideology',\n",
       " 'http://www.wikidata.org/prop/direct/P1376': 'capital of',\n",
       " 'http://www.wikidata.org/prop/direct/P1366': 'replaced by',\n",
       " 'http://www.wikidata.org/prop/direct/P344': 'director of photography',\n",
       " 'http://www.wikidata.org/prop/direct/P2747': 'Filmiroda rating',\n",
       " 'http://www.wikidata.org/prop/direct/P800': 'notable work',\n",
       " 'http://www.wikidata.org/prop/direct/P57': 'director',\n",
       " 'http://www.wikidata.org/prop/direct/P1001': 'applies to jurisdiction',\n",
       " 'http://www.wikidata.org/prop/direct/P275': 'copyright license',\n",
       " 'http://www.wikidata.org/prop/direct/P725': 'voice actor',\n",
       " 'http://www.wikidata.org/prop/direct/P366': 'use',\n",
       " 'http://www.wikidata.org/prop/direct/P5389': 'permanent resident of',\n",
       " 'http://www.wikidata.org/prop/direct/P2360': 'intended public',\n",
       " 'http://www.wikidata.org/prop/direct/P8670': 'character designer',\n",
       " 'http://www.wikidata.org/prop/direct/P1038': 'relative',\n",
       " 'http://www.wikidata.org/prop/direct/P3342': 'significant person',\n",
       " 'http://www.wikidata.org/prop/direct/P1411': 'nominated for',\n",
       " 'http://www.wikidata.org/prop/direct/P8889': 'MTRCB rating',\n",
       " 'http://www.wikidata.org/prop/direct/P1889': 'different from',\n",
       " 'http://www.wikidata.org/prop/direct/P2756': 'EIRIN film rating',\n",
       " 'http://www.wikidata.org/prop/direct/P178': 'developer',\n",
       " 'http://www.wikidata.org/prop/direct/P106': 'occupation',\n",
       " 'http://www.wikidata.org/prop/direct/P832': 'public holiday',\n",
       " 'http://www.wikidata.org/prop/direct/P7047': 'enemy of',\n",
       " 'http://www.wikidata.org/prop/direct/P345': 'IMDb ID',\n",
       " 'http://www.wikidata.org/prop/direct/P31': 'instance of',\n",
       " 'http://www.wikidata.org/prop/direct/P1455': 'list of works',\n",
       " 'http://www.wikidata.org/prop/direct/P937': 'work location',\n",
       " 'http://www.wikidata.org/prop/direct/P4969': 'derivative work',\n",
       " 'http://www.wikidata.org/prop/direct/P7573': 'IFCO rating',\n",
       " 'http://www.wikidata.org/prop/direct/P1532': 'country for sport',\n",
       " 'http://www.wikidata.org/prop/direct/P3834': 'RTC film rating',\n",
       " 'http://www.wikidata.org/prop/direct/P3931': 'copyright holder',\n",
       " 'http://www.wikidata.org/prop/direct/P1431': 'executive producer',\n",
       " 'http://www.wikidata.org/prop/direct/P138': 'named after',\n",
       " 'http://www.wikidata.org/prop/direct/P1399': 'convicted of',\n",
       " 'http://www.wikidata.org/prop/direct/P36': 'capital',\n",
       " 'http://www.wikidata.org/prop/direct/P828': 'has cause',\n",
       " 'http://www.wikidata.org/prop/direct/P1416': 'affiliation',\n",
       " 'http://www.wikidata.org/prop/direct/P1995': 'health specialty',\n",
       " 'http://www.wikidata.org/prop/direct/P5150': 'IGAC rating',\n",
       " 'http://www.wikidata.org/prop/direct/P371': 'presenter',\n",
       " 'http://www.wikidata.org/prop/direct/P1269': 'facet of'}"
      ]
     },
     "execution_count": 10,
     "metadata": {},
     "output_type": "execute_result"
    }
   ],
   "source": [
    "predicate_dict"
   ]
  },
  {
   "cell_type": "code",
   "execution_count": 11,
   "id": "2981c7a1",
   "metadata": {},
   "outputs": [],
   "source": [
    "# Defining some dictionaries for mapping wrods to predicates\n",
    "roles_ner = {\n",
    "    \"actor\":\"P161\",\n",
    "    \"cast\":\"P161\",\n",
    "    \"cast member\":\"P161\",\n",
    "    \"director\":\"P57\",\n",
    "    \"screenwriter\":\"P58\",\n",
    "    \"producer\":\"P162\",\n",
    "    \"developer\" : \"P178\",\n",
    "    \"film editor\" : \"P1040\",\n",
    "    \"director of photography\" : \"P344\",\n",
    "    \"film crew member\" : \"P2079\",\n",
    "    \"choreographer\" : \"P1809\",\n",
    "    #\"father\" : \"P22\",\n",
    "    #\"spouse\" : \"P26\",\n",
    "    \"art director\" : \"P3174\",\n",
    "    #\"winner\" : \"P1346\",\n",
    "    \"author\" : \"P50\",\n",
    "    \"presenter\" : \"P371\",\n",
    "    \"narrator\" : \"P2438\",\n",
    "    \"animator\" : \"P6942\",\n",
    "    \"creator\" : \"P170\",\n",
    "    #\"student\" : \"P802\",\n",
    "    #\"mother\" : \"P25\",\n",
    "    \"participant\" : \"P710\",\n",
    "    \"member of the crew of\" : \"P5096\",\n",
    "    \"voice actor\" : \"P725\",\n",
    "    #\"employer\" : \"P108\",\n",
    "    \"publisher\" : \"P123\",\n",
    "    \"musical conductor\" : \"P3300\",\n",
    "    \"operator\" : \"P137\",\n",
    "    \"performer\" : \"P175\"\n",
    "}\n",
    "\n",
    "actions_ner = {\n",
    "    \"acted\":\"P161\",\n",
    "    \"directed\":\"P57\",\n",
    "    \"screenwrote\":\"P58\",\n",
    "    \"wrote\":\"P58\",\n",
    "    \"written\":\"P58\",\n",
    "    \"produced\":\"P162\",\n",
    "    \"featured\":\"P161\",\n",
    "    \"featuring\":\"P161\", \n",
    "    \"recorded\" : None,\n",
    "    #\"appeared\" : None,\n",
    "    \"appear\" : None,\n",
    "    \"direct\" : None,\n",
    "    #\"produced\" : None,\n",
    "    \"produce\" : None,\n",
    "    \"filmed\" : None,\n",
    "    \"edit\" : None,\n",
    "    #\"film\" : None,\n",
    "    \"edited\" : None,\n",
    "    #\"cast\" : None,\n",
    "    \"shoot\" : None,\n",
    "    \"premiere\" : None,\n",
    "    #\"release\" : None,\n",
    "    \"distribute\" : None,\n",
    "    \"directing\":None,\n",
    "    \"played\": None,\n",
    "    \"made\": None,\n",
    "    \"authored\": None,\n",
    "    \"appears\": None\n",
    "}\n",
    "\n",
    "predicates_ner = {\n",
    "    \"release\" : \"P577\",\n",
    "    \"when\" : \"P577\",\n",
    "    #\"release year\": \"P577\",\n",
    "    \"date\": \"P577\",\n",
    "    \"year\": \"P577\",\n",
    "    #\"date of release\": \"P577\",\n",
    "    \"genre\": \"P136\",\n",
    "    \"type\": \"P136\",\n",
    "    \"category\": \"P136\",\n",
    "    #\"ratings\": \"P444\",\n",
    "    \"rated\": \"P444\",\n",
    "    \"rating\": \"P444\",\n",
    "    \"review\": \"P444\",\n",
    "    \"score\":\"P444\"\n",
    "}\n",
    "\n",
    "numbers_ner = [\n",
    "    \"one\",\n",
    "    \"two\",\n",
    "    \"three\",\n",
    "    \"four\",\n",
    "    \"five\",\n",
    "    \"six\",\n",
    "    \"seven\",\n",
    "    \"eight\",\n",
    "    \"nine\",\n",
    "    \"ten\",\n",
    "    \"eleven\",\n",
    "    \"twelve\",\n",
    "    \"thirteen\",\n",
    "    \"fourteen\",\n",
    "    \"fifteen\",\n",
    "    \"sixteen\",\n",
    "    \"seventeen\",\n",
    "    \"eighteen\",\n",
    "    \"nineteen\",\n",
    "    \"twenty\"\n",
    "]\n",
    "\n",
    "nums = list(range(1, 21))\n",
    "nums = list(map(str, nums))\n",
    "numbers_ner.extend(nums)\n",
    "\n",
    "years_ner = list(range(1678, 2025))\n",
    "years_ner = list(map(str, years_ner))\n",
    "\n",
    "\n",
    "genres_ner = {v.replace(\" film\",\"\"):k for k,v in genre_list.items()}\n",
    "genres_ner = {k.replace(\"genre\",\"\").strip():v for k,v in genres_ner.items()}\n",
    "del(genres_ner['film score'])"
   ]
  },
  {
   "cell_type": "code",
   "execution_count": 12,
   "id": "6d5370a9",
   "metadata": {},
   "outputs": [
    {
     "data": {
      "text/plain": [
       "['one',\n",
       " 'two',\n",
       " 'three',\n",
       " 'four',\n",
       " 'five',\n",
       " 'six',\n",
       " 'seven',\n",
       " 'eight',\n",
       " 'nine',\n",
       " 'ten',\n",
       " 'eleven',\n",
       " 'twelve',\n",
       " 'thirteen',\n",
       " 'fourteen',\n",
       " 'fifteen',\n",
       " 'sixteen',\n",
       " 'seventeen',\n",
       " 'eighteen',\n",
       " 'nineteen',\n",
       " 'twenty',\n",
       " '1',\n",
       " '2',\n",
       " '3',\n",
       " '4',\n",
       " '5',\n",
       " '6',\n",
       " '7',\n",
       " '8',\n",
       " '9',\n",
       " '10',\n",
       " '11',\n",
       " '12',\n",
       " '13',\n",
       " '14',\n",
       " '15',\n",
       " '16',\n",
       " '17',\n",
       " '18',\n",
       " '19',\n",
       " '20']"
      ]
     },
     "execution_count": 12,
     "metadata": {},
     "output_type": "execute_result"
    }
   ],
   "source": [
    "numbers_ner"
   ]
  },
  {
   "cell_type": "code",
   "execution_count": 13,
   "id": "13977863",
   "metadata": {},
   "outputs": [],
   "source": [
    "sentence_list_1=[ #Person search\n",
    "    \"Give me the <role> of <movie_name>\",\n",
    "    \"Give me the name of the <role> of <movie_name>\",\n",
    "    \"I'd like to know the <role>'s name for <movie_name>\",\n",
    "    \"I'm curious about the person who <directed/wrote> <movie_name>\",\n",
    "    \"Identify the <role> of <movie_name>\",\n",
    "    \"Tell me the <role> behind <movie_name>\",\n",
    "    \"Tell me the <role> for <movie_name>\",\n",
    "    \"Tell me the <role> of <movie_name>\",\n",
    "    \"What is the <role>'s name for the movie <movie_name>?\",\n",
    "    \"Who <role> in <movie_name>?\",\n",
    "    \"Who <directed/wrote> <movie_name>?\",\n",
    "    \"Who <directed/wrote> the movie <movie_name>?\",\n",
    "    \"Who is the <role> of <movie_name>?\",\n",
    "    \"Who is the <role> of the film <movie_name>?\",\n",
    "    \"Who oversaw the making of <movie_name>\",\n",
    "    \"Who was in charge of directing <movie_name>?\",\n",
    "    \"Who was the <role> of <movie_name>\"\n",
    "]\n",
    "\n",
    "sentence_list_2 = [ # Movie search\n",
    "    \"Give me a list of <genre> movies directed by <name>\",\n",
    "    \"Give me a list of <genre> movies featuring <name>\",\n",
    "    \"Give me a list of <genre> movies written by <name>\",\n",
    "    \"Give me a list of movies directed by <name>\",\n",
    "    \"Give me a list of movies featuring <name>\",\n",
    "    \"Give me a list of movies written by <name>\",\n",
    "    \"In which movies did <name> played a role?\",\n",
    "    \"In which movies does <name> appear?\",\n",
    "    \"List <genre> films written by <name>\",\n",
    "    \"List movies which were directed by <name>\",\n",
    "    \"List movies which were written by <name>\",\n",
    "    \"List the films made by <name>\",\n",
    "    \"List films authored by <name>\",\n",
    "    \"Retrieve the films authored by <name>\",\n",
    "    \"Retrieve the films directed by <name>\",\n",
    "    \"Retrieve the <genre> films with screenplays authored by <name>\",\n",
    "    \"Select all the movies of <name>\",\n",
    "    \"Select all the movies with <name>\",\n",
    "    \"Show me <genre> movies directed by <name>\",\n",
    "    \"Show me <genre> movies written by <name>\",\n",
    "    \"Show me the films directed by <name>\",\n",
    "    \"Show me movies written by <name>\",\n",
    "    \"Show me the films where <name> appears\",\n",
    "    \"Show me the films with <name> in the cast\",\n",
    "    \"Tell me the movies where <name> makes appearances\",\n",
    "    \"What are the movies with <name> as a cast member?\",\n",
    "    \"Which <genre> films has <name> directed?\",\n",
    "    \"Which <genre> films has <name> written?\",\n",
    "    \"Which films has <name> written?\",\n",
    "    \"Which movies has <name> <acted/wrote>\",\n",
    "    \"Which movies has <name> directed?\"\n",
    "]\n",
    "\n",
    "sentence_list_3 = [ # retrieve release date\n",
    "    \"Could you let me know the release date for <movie_name>?\",\n",
    "    \"Could you tell me when <movie_name> was first shown?\",\n",
    "    \"Give me the release date for <movie_name>\",\n",
    "    \"I'd like to know the release date of the movie <movie_name>\",\n",
    "    \"Please provide the release year for <movie_name>\",\n",
    "    \"Tell me the release date of <movie_name>\",\n",
    "    \"What's the date of release for <movie_name>?\",\n",
    "    \"What's the release year of the movie <movie_name>?\",\n",
    "    \"What's the launch date of <movie_name>?\",\n",
    "    \"What's the debut date for <movie_name>?\",\n",
    "    \"What is the release year of <movie_name>?\",\n",
    "    \"When did <movie_name> come out?\",\n",
    "    \"When did <movie_name> hit the theaters?\",\n",
    "    \"When was <movie_name> released?\",\n",
    "    \"When was <movie_name> launched?\",\n",
    "    \"When was the movie <movie_name> released?\",\n",
    "    \"When did <movie_name> first appear in cinemas?\"\n",
    "]\n",
    "\n",
    "sentence_list_4 = [ # genre\n",
    "    \"Give me the genre for the movie <movie_name>\",\n",
    "    \"I'd like to know the genre of <movie_name>\",\n",
    "    \"I'm curious about the genre of <movie_name>\",\n",
    "    \"In which genre does '<movie_name>' fit?\",\n",
    "    \"Identify the movie genre for <movie_name>\",\n",
    "    \"Tell me the genre of <movie_name>\",\n",
    "    \"Tell me the type of film that is <movie_name>\",\n",
    "    \"What category does <movie_name> fall into?\",\n",
    "    \"What genre is associated with <movie_name>?\",\n",
    "    \"What is the movie genre for <movie_name>?\",\n",
    "    \"What is the genre of <movie_name>?\",\n",
    "    \"Which category does <movie_name> fit into?\",\n",
    "    \"Which genre does the movie <movie_name> belong to?\",\n",
    "    \"Which genre does <movie_name> belong to?\"\n",
    "]\n",
    "\n",
    "sentence_list_5 = [ #ratings\n",
    "    \"Display the movies with the <highest/lowest> ratings\",\n",
    "    \"Give me the <top/bottom> <number> movies based on rating\",\n",
    "    \"Give me the <top/bottom> rated movies\",\n",
    "    \"Give me the <highest/lowest>-rated films\",\n",
    "    \"Give me the <top/bottom> <number> movies based on rating\",\n",
    "    \"Give me the <top/bottom> rated movies\",\n",
    "    \"Give me the movie that has the <highest/lowest> user rating\",\n",
    "    \"I'd like to know the movie with the <highest/lowest> user rating\",\n",
    "    \"I'm curious about the movie with the <highest/lowest> user rating\",\n",
    "    \"Identify the film with the <highest/lowest> user rating\",\n",
    "    \"I want to see the <top/bottom>-rated movies\",\n",
    "    \"List the movies with the <best/worst> ratings\",\n",
    "    \"Provide a list of the <top/bottom>-rated movies\",\n",
    "    \"Retrieve the movies with the <highest/lowest> ratings\",\n",
    "    \"Show me the <highest/lowest>-rated films\",\n",
    "    \"Show the movies with the <best/worst> ratings\",\n",
    "    \"Tell me the film that received the <highest/lowest> user rating\",\n",
    "    \"Tell me the movie with the <highest/lowest> user rating\",\n",
    "    \"What are the most <highest/lowest>-rated films?\",\n",
    "    \"What is the movie with the <highest/lowest> user rating?\",\n",
    "    \"What movie has the <highest/lowest> user rating?\",\n",
    "    \"Which film received the <highest/lowest> user rating?\",\n",
    "    \"Which movie has the <highest/lowest> user rating?\",\n",
    "    \"Which movie is rated the <highest/lowest> by users?\"\n",
    "]\n",
    "\n",
    "sentence_list_6 = [\n",
    "    \"Show me the <highest/lowest>-rated <genre> films\",\n",
    "    \"List the <genre> movies with the <best/worst> ratings\",\n",
    "    \"I want to see the <top/bottom>-rated <genre> movies\",\n",
    "    \"Display the <genre> movies with the <highest/lowest> ratings\",\n",
    "    \"What are the most highly-rated <genre> films?\",\n",
    "    \"Provide a list of the <top/bottom>-rated <genre> movies\",\n",
    "    \"Give me the <highest/lowest>-rated <genre> films\",\n",
    "    \"Show the movies with the <best/worst> <genre> ratings\",\n",
    "    \"Retrieve the movies with the <highest/lowest> <genre> ratings\",\n",
    "]\n",
    "\n",
    "sentence_list_7 = [\n",
    "    \"Show me the <highest/lowest>-rated <genre> films <action> <name>\",\n",
    "    \"List the <genre> movies with the <best/worst> ratings <action> <name>\",\n",
    "    \"I want to see the <top/bottom>-rated <genre> movies <action> <name>\",\n",
    "    \"Display the <genre> movies with the <highest/lowest> ratings <action> <name>\",\n",
    "    \"What are the most highly-rated <genre> films <action> <name>?\",\n",
    "    \"Provide a list of the <top/bottom>-rated <genre> movies <action> <name>\",\n",
    "    \"Give me the <highest/lowest>-rated <genre> films <action> <name>\",\n",
    "    \"Show the movies with the <best/worst> <genre> ratings <action> <name>\",\n",
    "    \"Retrieve the movies with the <highest/lowest> <genre> ratings <action> <name>\",\n",
    "\n",
    "    \"List the <genre> movies <action> <name> with the <best/worst> ratings\",\n",
    "    \"Display the <genre> movies <action> <name> with the <highest/lowest> ratings\",\n",
    "    \"Provide a list of the <top/bottom>-rated <genre> movies\",\n",
    "    \"Show the movies <action> <name> with the <best/worst> <genre> ratings\",\n",
    "    \"Retrieve the movies <action> <name> with the <highest/lowest> <genre> ratings\",\n",
    "]\n",
    "\n",
    "sentence_list_8 = [ # year-related\n",
    "    \"List the movies released in <year>\",\n",
    "    \"Which movies were directed by <name> in <year>?\",\n",
    "    \"What movies were released in <year>?\",\n",
    "    \"What movies did <name> appear in in <year>?\",\n",
    "    \"List the films featuring <name> in <year>\",\n",
    "    \"Provide the filmography of <name> in <year>\",\n",
    "    \"Which movies starred <name> in <year>?\",\n",
    "    \"Which roles were played by <name> in <year>?\"\n",
    "]\n",
    "\n",
    "sentence_list_9 = [ #Top/lowest N (based on release date)\n",
    "    \"What are the <best/worst> <number> movies <name> directed?\",\n",
    "    \"List the <best/worst> <number> movies directed by <name>\",\n",
    "    \"What are the <best/worst> <number> movies <name> directed?\",\n",
    "    \"What are the <best/worst> <number> <genre> movies <name> directed?\",\n",
    "    \"Which are the <best/worst> movies where <name> appeared?\",\n",
    "    \"Can you name the <best/worst> <number> <genre> movies directed by <name>?\",\n",
    "    \"Can you list the <best/worst> <number> films with <name> in the cast?\",\n",
    "    \"What are the <best/worst> <number> movies starring <name>\"\n",
    "]\n",
    "\n",
    "sentence_list_10 = [ #Yes/No\n",
    "    \"Is <name> in the cast of <movie_name>?\",\n",
    "    \"Did <name> direct <movie_name>?\",\n",
    "    \"Was the <movie> released in <year>?\",\n",
    "    \"Is <name> part of the cast of <movie_name>?\",\n",
    "    \"Was <movie_name> released before <year>?\",\n",
    "    \"Is <movie_name> classified as <genre>?\",\n",
    "    \"Did <actor_name> appear in <movie_name>?\"\n",
    "]"
   ]
  },
  {
   "cell_type": "code",
   "execution_count": 14,
   "id": "4a0fa77a",
   "metadata": {},
   "outputs": [
    {
     "data": {
      "text/plain": [
       "19999"
      ]
     },
     "execution_count": 14,
     "metadata": {},
     "output_type": "execute_result"
    }
   ],
   "source": [
    "i = 0\n",
    "peoples = list(people_list.values())\n",
    "genres = list(genres_ner.keys())\n",
    "res_s2 = []\n",
    "for name in peoples:\n",
    "    i+=1\n",
    "    if(i==20000):\n",
    "        break\n",
    "        \n",
    "    genre = genres[i%len(genres)]\n",
    "    sentence = sentence_list_2[i%len(sentence_list_2)]\n",
    "    \n",
    "    if(i%2==0):\n",
    "        AoW = \"acted\" \n",
    "    else: \n",
    "        AoW = \"wrote\"\n",
    "    sentence2 = sentence.replace(\"<name>\",name).replace(\"<genre>\",genre)\n",
    "    sentence3 = sentence2.replace(\"<acted/wrote>\",AoW)\n",
    "\n",
    "    ents = [(sentence3.find(name),sentence3.find(name) + len(name), \"name\"),\n",
    "            (sentence3.find(genre),sentence3.find(genre)+len(genre), \"genre\"),\n",
    "            (sentence3.find(AoW),sentence3.find(AoW) + len(AoW), \"action\"),\n",
    "            (sentence3.find(\"directed\"),sentence3.find(\"directed\") + len(\"directed\"), \"action\"),\n",
    "            (sentence3.find(\"written\"),sentence3.find(\"written\") + len(\"written\"), \"action\"),\n",
    "            (sentence3.find(\"featuring\"),sentence3.find(\"featuring\") + len(\"featuring\"), \"action\"),\n",
    "            (sentence3.find(\"played\"),sentence3.find(\"played\") + len(\"played\"), \"action\"),\n",
    "            (sentence3.find(\"appear\"),sentence3.find(\"appear\") + len(\"appear\"), \"action\"),\n",
    "            (sentence3.find(\"made\"),sentence3.find(\"made\") + len(\"made\"), \"action\"),\n",
    "            (sentence3.find(\"authored\"),sentence3.find(\"authored\") + len(\"authored\"), \"action\"),\n",
    "            (sentence3.find(\"appears\"),sentence3.find(\"appears\") + len(\"appears\"), \"action\")]\n",
    "\n",
    "    entities = []\n",
    "    for ent in ents:\n",
    "        if(ent[0]!=-1):\n",
    "            entities.append(ent)\n",
    "\n",
    "\n",
    "    res_s2.append((sentence3,{\"entities\":entities}))\n",
    "    \n",
    "\n",
    "\n",
    "\n",
    "len(res_s2)"
   ]
  },
  {
   "cell_type": "code",
   "execution_count": 15,
   "id": "a01b9307",
   "metadata": {},
   "outputs": [
    {
     "data": {
      "text/plain": [
       "19999"
      ]
     },
     "execution_count": 15,
     "metadata": {},
     "output_type": "execute_result"
    }
   ],
   "source": [
    "i = 0\n",
    "roles = list(roles_ner.keys())\n",
    "movies = list(movie_list.values())\n",
    "res_s1 = []\n",
    "for movie in movies:\n",
    "    i+=1\n",
    "    if(i==20000):\n",
    "        break\n",
    "        \n",
    "    role = roles[i%len(roles)]\n",
    "    sentence = sentence_list_1[i%len(sentence_list_1)]\n",
    "    \n",
    "    if(i%2==0):\n",
    "        AoW = \"directed\" \n",
    "    else: \n",
    "        AoW = \"wrote\"\n",
    "    sentence2 = sentence.replace(\"<role>\",role).replace(\"<movie_name>\",movie)\n",
    "    sentence3 = sentence2.replace(\"<directed/wrote>\",AoW)\n",
    "\n",
    "    ents = [(sentence3.find(role),sentence3.find(role) + len(role), \"role\"),\n",
    "            (sentence3.find(movie),sentence3.find(movie)+len(movie), \"movie\"),\n",
    "            (sentence3.find(AoW),sentence3.find(AoW) + len(AoW), \"action\")]\n",
    "    \n",
    "    for action in actions_ner.keys():\n",
    "        if action in sentence3 and action != AoW:\n",
    "            ents.append((sentence3.find(action),sentence3.find(action) + len(action), \"action\"))\n",
    "            break\n",
    "\n",
    "    entities = []\n",
    "    for ent in ents:\n",
    "        if(ent[0]!=-1):\n",
    "            entities.append(ent)\n",
    "\n",
    "\n",
    "    res_s1.append((sentence3,{\"entities\":entities}))\n",
    "    \n",
    "len(res_s1)"
   ]
  },
  {
   "cell_type": "code",
   "execution_count": 16,
   "id": "5424c333",
   "metadata": {},
   "outputs": [
    {
     "data": {
      "text/plain": [
       "9999"
      ]
     },
     "execution_count": 16,
     "metadata": {},
     "output_type": "execute_result"
    }
   ],
   "source": [
    "i = 0\n",
    "movies = list(movie_list.values())\n",
    "res_s3 = []\n",
    "for movie in movies:\n",
    "    i+=1\n",
    "    if(i==10000):\n",
    "        break\n",
    "        \n",
    "    sentence = sentence_list_3[i%len(sentence_list_3)]\n",
    "    \n",
    "    sentence3 = sentence.replace(\"<movie_name>\",movie)\n",
    "\n",
    "    ents = [(sentence3.find(movie),sentence3.find(movie)+len(movie), \"movie\")]\n",
    "    \n",
    "    for predicate in list(predicates_ner.keys()):\n",
    "        if predicate in sentence3:\n",
    "            ents.append((sentence3.find(predicate),sentence3.find(predicate) + len(predicate), \"predicate\"))\n",
    "\n",
    "    entities = []\n",
    "    for ent in ents:\n",
    "        if(ent[0]!=-1):\n",
    "            entities.append(ent)\n",
    "\n",
    "\n",
    "    res_s3.append((sentence3,{\"entities\":entities}))\n",
    "    \n",
    "len(res_s3)"
   ]
  },
  {
   "cell_type": "code",
   "execution_count": 17,
   "id": "b635cef7",
   "metadata": {},
   "outputs": [
    {
     "data": {
      "text/plain": [
       "9999"
      ]
     },
     "execution_count": 17,
     "metadata": {},
     "output_type": "execute_result"
    }
   ],
   "source": [
    "i = 0\n",
    "movies = list(movie_list.values())\n",
    "res_s4 = []\n",
    "for movie in movies:\n",
    "    i+=1\n",
    "    if(i==10000):\n",
    "        break\n",
    "        \n",
    "    sentence = sentence_list_4[i%len(sentence_list_4)]\n",
    "    \n",
    "    sentence3 = sentence.replace(\"<movie_name>\",movie)\n",
    "\n",
    "    ents = [(sentence3.find(movie),sentence3.find(movie)+len(movie), \"movie\")]\n",
    "    \n",
    "    for predicate in list(predicates_ner.keys()):\n",
    "        if predicate in sentence3:\n",
    "            ents.append((sentence3.find(predicate),sentence3.find(predicate) + len(predicate), \"predicate\"))\n",
    "\n",
    "    entities = []\n",
    "    for ent in ents:\n",
    "        if(ent[0]!=-1):\n",
    "            entities.append(ent)\n",
    "\n",
    "\n",
    "    res_s4.append((sentence3,{\"entities\":entities}))\n",
    "    \n",
    "len(res_s4)"
   ]
  },
  {
   "cell_type": "code",
   "execution_count": 18,
   "id": "b40f3d29",
   "metadata": {},
   "outputs": [
    {
     "data": {
      "text/plain": [
       "30000"
      ]
     },
     "execution_count": 18,
     "metadata": {},
     "output_type": "execute_result"
    }
   ],
   "source": [
    "res_s5 = []\n",
    "i = 0\n",
    "action_list = list(actions_ner.keys())\n",
    "genres = list(genres_ner.keys())\n",
    "\n",
    "sentence_list_567 = sentence_list_5 + sentence_list_6 + sentence_list_7\n",
    "for name in peoples:\n",
    "    i+=1\n",
    "    if(i%2==0):\n",
    "        HoL = \"highest\"\n",
    "        ToB = \"top\"\n",
    "        BoW = \"best\"\n",
    "    else:\n",
    "        HoL = \"lowest\"\n",
    "        ToB = \"bottom\"\n",
    "        BoW = \"worst\"\n",
    "    \n",
    "    action = action_list[i%len(action_list)]\n",
    "    sentence = sentence_list_567[i%len(sentence_list_567)]\n",
    "    genre = genres[i%len(genres)]\n",
    "    number = numbers_ner[i%len(numbers_ner)]\n",
    "    is_number = False\n",
    "    if \"<number>\" in sentence:\n",
    "        is_number = True\n",
    "\n",
    "    sentence2 = sentence.replace(\"<highest/lowest>\",HoL).replace(\"<top/bottom>\",ToB).replace(\"<best/worst>\",BoW)\n",
    "    sentence3 = sentence2.replace(\"<name>\",name).replace(\"<action>\",action).replace(\"<genre>\",genre).replace(\"<number>\", number)\n",
    "    ents = [(sentence3.find(HoL),sentence3.find(HoL) + len(HoL), \"order\"),\n",
    "            (sentence3.find(\"highly\"),sentence3.find(\"highly\") + len(\"highly\"), \"order\"),\n",
    "            (sentence3.find(ToB),sentence3.find(ToB)+len(ToB), \"order\"),\n",
    "            (sentence3.find(genre),sentence3.find(genre) + len(genre), \"genre\"),\n",
    "            (sentence3.find(BoW),sentence3.find(BoW) + len(BoW), \"order\"),\n",
    "            (sentence3.find(name),sentence3.find(name) + len(name), \"name\"),\n",
    "            #(sentence3.find(' '+number+' ')+1,sentence3.find(' '+number+' ')-1 + len(number), \"numerical_entity\")\n",
    "           ]\n",
    "    \n",
    "    for action in actions_ner.keys():\n",
    "        if action in sentence3:\n",
    "            ents.append((sentence3.find(action),sentence3.find(action) + len(action), \"action\"))\n",
    "            \n",
    "    for predicate in list(predicates_ner.keys()):\n",
    "        if predicate in sentence3:\n",
    "            ents.append((sentence3.find(predicate),sentence3.find(predicate) + len(predicate), \"predicate\"))\n",
    "    \n",
    "    if is_number:\n",
    "        ents.append((sentence3.find(' '+number+' ')+1,sentence3.find(' '+number+' ')+1 + len(number), \"numerical_entity\"))\n",
    "\n",
    "    entities = []\n",
    "    for ent in ents:\n",
    "        if(ent[0]!=-1):\n",
    "            entities.append(ent)\n",
    "\n",
    "    res_s5.append((sentence3,{\"entities\":entities}))\n",
    "    \n",
    "    if(i==30000):\n",
    "        break\n",
    "\n",
    "len(res_s5)\n"
   ]
  },
  {
   "cell_type": "code",
   "execution_count": 19,
   "id": "902518a7",
   "metadata": {},
   "outputs": [
    {
     "data": {
      "text/plain": [
       "10000"
      ]
     },
     "execution_count": 19,
     "metadata": {},
     "output_type": "execute_result"
    }
   ],
   "source": [
    "res_s6 = []\n",
    "i = 0\n",
    "genres = list(genres_ner.keys())\n",
    "\n",
    "sentence_list_89 = sentence_list_8 + sentence_list_9\n",
    "for name in peoples:\n",
    "    i+=1\n",
    "    if(i%2==0):\n",
    "        BoW = \"best\"\n",
    "    else:\n",
    "        BoW = \"worst\"\n",
    "    \n",
    "    sentence = sentence_list_89[i%len(sentence_list_89)]\n",
    "    genre = genres[i%len(genres)]\n",
    "    number = numbers_ner[i%len(numbers_ner)]\n",
    "    year = years_ner[i%len(years_ner)]\n",
    "    is_number=False\n",
    "    if \"<number>\" in sentence:\n",
    "        is_number = True\n",
    "\n",
    "    sentence2 = sentence.replace(\"<best/worst>\",BoW).replace(\"<name>\",name)\n",
    "    sentence3 = sentence2.replace(\"<genre>\",genre).replace(\"<year>\",year).replace(\"<number>\", number)\n",
    "    ents = [(sentence3.find(name),sentence3.find(name) + len(name), \"name\"),\n",
    "            (sentence3.find(BoW),sentence3.find(BoW) + len(BoW), \"order\"),\n",
    "            (sentence3.find(genre),sentence3.find(genre) + len(genre), \"genre\"),\n",
    "            (sentence3.find(year),sentence3.find(year) + len(year), \"year\"),\n",
    "           ]\n",
    "    \n",
    "    for action in actions_ner.keys():\n",
    "        if action in sentence3:\n",
    "            ents.append((sentence3.find(action),sentence3.find(action) + len(action), \"action\"))\n",
    "            \n",
    "    for predicate in list(predicates_ner.keys()):\n",
    "        if predicate in sentence3:\n",
    "            ents.append((sentence3.find(predicate),sentence3.find(predicate) + len(predicate), \"predicate\"))\n",
    "    \n",
    "    if is_number:\n",
    "        ents.append((sentence3.find(' '+number+' ')+1,sentence3.find(' '+number+' ')+1 + len(number), \"numerical_entity\"))\n",
    "\n",
    "\n",
    "    entities = []\n",
    "    for ent in ents:\n",
    "        if(ent[0]!=-1):\n",
    "            entities.append(ent)\n",
    "\n",
    "    res_s6.append((sentence3,{\"entities\":entities}))\n",
    "    \n",
    "    if(i==10000):\n",
    "        break\n",
    "\n",
    "len(res_s6)"
   ]
  },
  {
   "cell_type": "code",
   "execution_count": 20,
   "id": "875f0b27",
   "metadata": {},
   "outputs": [
    {
     "data": {
      "text/plain": [
       "[('Which movies were directed by Viktor Krištof in 1679?',\n",
       "  {'entities': [(30, 44, 'name'),\n",
       "    (48, 52, 'year'),\n",
       "    (18, 26, 'action'),\n",
       "    (18, 24, 'action')]}),\n",
       " ('What movies were released in 1680?',\n",
       "  {'entities': [(29, 33, 'year'), (17, 24, 'predicate')]}),\n",
       " ('What movies did Béatrice Thiriet appear in in 1681?',\n",
       "  {'entities': [(16, 32, 'name'), (46, 50, 'year'), (33, 39, 'action')]}),\n",
       " ('List the films featuring Oleg Kapanets in 1682',\n",
       "  {'entities': [(25, 38, 'name'), (42, 46, 'year'), (15, 24, 'action')]}),\n",
       " ('Provide the filmography of Ram Lee in 1683',\n",
       "  {'entities': [(27, 34, 'name'), (38, 42, 'year')]}),\n",
       " ('Which movies starred Gabriel Migliori in 1684?',\n",
       "  {'entities': [(21, 37, 'name'), (41, 45, 'year')]}),\n",
       " ('Which roles were played by Alexander Geringas in 1685?',\n",
       "  {'entities': [(27, 45, 'name'), (49, 53, 'year'), (17, 23, 'action')]}),\n",
       " ('What are the best nine movies José Miguel Wisnik directed?',\n",
       "  {'entities': [(30, 48, 'name'),\n",
       "    (13, 17, 'order'),\n",
       "    (49, 57, 'action'),\n",
       "    (49, 55, 'action'),\n",
       "    (18, 22, 'numerical_entity')]}),\n",
       " ('List the worst ten movies directed by Marco Antônio Guimarães',\n",
       "  {'entities': [(38, 61, 'name'),\n",
       "    (9, 14, 'order'),\n",
       "    (26, 34, 'action'),\n",
       "    (26, 32, 'action'),\n",
       "    (15, 18, 'numerical_entity')]}),\n",
       " ('What are the best eleven movies Mauro Senise directed?',\n",
       "  {'entities': [(32, 44, 'name'),\n",
       "    (13, 17, 'order'),\n",
       "    (45, 53, 'action'),\n",
       "    (45, 51, 'action'),\n",
       "    (18, 24, 'numerical_entity')]}),\n",
       " ('What are the worst twelve gangster movies Oscar Francisco Nascimento directed?',\n",
       "  {'entities': [(42, 68, 'name'),\n",
       "    (13, 18, 'order'),\n",
       "    (26, 34, 'genre'),\n",
       "    (69, 77, 'action'),\n",
       "    (69, 75, 'action'),\n",
       "    (19, 25, 'numerical_entity')]}),\n",
       " ('Which are the best movies where Glenn Miller appeared?',\n",
       "  {'entities': [(32, 44, 'name'), (14, 18, 'order'), (45, 51, 'action')]}),\n",
       " ('Can you name the worst fourteen biographical movies directed by Pierre Volto?',\n",
       "  {'entities': [(64, 76, 'name'),\n",
       "    (17, 22, 'order'),\n",
       "    (32, 44, 'genre'),\n",
       "    (52, 60, 'action'),\n",
       "    (52, 58, 'action'),\n",
       "    (23, 31, 'numerical_entity')]}),\n",
       " ('Can you list the best fifteen films with Carlo Siliotto in the cast?',\n",
       "  {'entities': [(41, 55, 'name'),\n",
       "    (17, 21, 'order'),\n",
       "    (22, 29, 'numerical_entity')]}),\n",
       " ('What are the worst sixteen movies starring Braguinha',\n",
       "  {'entities': [(43, 52, 'name'),\n",
       "    (13, 18, 'order'),\n",
       "    (19, 26, 'numerical_entity')]}),\n",
       " ('List the movies released in 1694',\n",
       "  {'entities': [(28, 32, 'year'), (16, 23, 'predicate')]}),\n",
       " ('Which movies were directed by Jaroslav Bouček in 1695?',\n",
       "  {'entities': [(30, 45, 'name'),\n",
       "    (49, 53, 'year'),\n",
       "    (18, 26, 'action'),\n",
       "    (18, 24, 'action')]}),\n",
       " ('What movies were released in 1696?',\n",
       "  {'entities': [(29, 33, 'year'), (17, 24, 'predicate')]}),\n",
       " ('What movies did Celine Rattray appear in in 1697?',\n",
       "  {'entities': [(16, 30, 'name'), (44, 48, 'year'), (31, 37, 'action')]}),\n",
       " ('List the films featuring Giovanni Korporaal in 1698',\n",
       "  {'entities': [(25, 43, 'name'), (47, 51, 'year'), (15, 24, 'action')]}),\n",
       " ('Provide the filmography of Jürgen Knieper in 1699',\n",
       "  {'entities': [(27, 41, 'name'), (45, 49, 'year')]}),\n",
       " ('Which movies starred Charles Previn in 1700?',\n",
       "  {'entities': [(21, 35, 'name'), (39, 43, 'year')]}),\n",
       " ('Which roles were played by Mel Jarnson in 1701?',\n",
       "  {'entities': [(27, 38, 'name'), (42, 46, 'year'), (17, 23, 'action')]}),\n",
       " ('What are the best 5 movies Carmen Beato directed?',\n",
       "  {'entities': [(27, 39, 'name'),\n",
       "    (13, 17, 'order'),\n",
       "    (40, 48, 'action'),\n",
       "    (40, 46, 'action'),\n",
       "    (18, 19, 'numerical_entity')]}),\n",
       " ('List the worst 6 movies directed by Nico Fidenco',\n",
       "  {'entities': [(36, 48, 'name'),\n",
       "    (9, 14, 'order'),\n",
       "    (24, 32, 'action'),\n",
       "    (24, 30, 'action'),\n",
       "    (15, 16, 'numerical_entity')]}),\n",
       " ('What are the best 7 movies Martina Cariddi directed?',\n",
       "  {'entities': [(27, 42, 'name'),\n",
       "    (13, 17, 'order'),\n",
       "    (43, 51, 'action'),\n",
       "    (43, 49, 'action'),\n",
       "    (18, 19, 'numerical_entity')]}),\n",
       " ('What are the worst 8 romantic comedy movies Aglyamov Khairislam Aglyamovich directed?',\n",
       "  {'entities': [(44, 75, 'name'),\n",
       "    (13, 18, 'order'),\n",
       "    (21, 36, 'genre'),\n",
       "    (76, 84, 'action'),\n",
       "    (76, 82, 'action'),\n",
       "    (19, 20, 'numerical_entity')]}),\n",
       " ('Which are the best movies where Atli Oskar Fjalarsson appeared?',\n",
       "  {'entities': [(32, 53, 'name'), (14, 18, 'order'), (54, 60, 'action')]}),\n",
       " ('Can you name the worst 10 black comedy movies directed by Andrew Duncan?',\n",
       "  {'entities': [(58, 71, 'name'),\n",
       "    (17, 22, 'order'),\n",
       "    (26, 38, 'genre'),\n",
       "    (46, 54, 'action'),\n",
       "    (46, 52, 'action'),\n",
       "    (23, 25, 'numerical_entity')]}),\n",
       " ('Can you list the best 11 films with Toshiyuki Watanabe in the cast?',\n",
       "  {'entities': [(36, 54, 'name'),\n",
       "    (17, 21, 'order'),\n",
       "    (22, 24, 'numerical_entity')]}),\n",
       " ('What are the worst 12 movies starring Charles Mingus',\n",
       "  {'entities': [(38, 52, 'name'),\n",
       "    (13, 18, 'order'),\n",
       "    (19, 21, 'numerical_entity')]}),\n",
       " ('List the movies released in 1710',\n",
       "  {'entities': [(28, 32, 'year'), (16, 23, 'predicate')]}),\n",
       " ('Which movies were directed by Chris Walden in 1711?',\n",
       "  {'entities': [(30, 42, 'name'),\n",
       "    (46, 50, 'year'),\n",
       "    (18, 26, 'action'),\n",
       "    (18, 24, 'action')]}),\n",
       " ('What movies were released in 1712?',\n",
       "  {'entities': [(29, 33, 'year'), (17, 24, 'predicate')]}),\n",
       " ('What movies did Christopher Tin appear in in 1713?',\n",
       "  {'entities': [(16, 31, 'name'), (45, 49, 'year'), (32, 38, 'action')]}),\n",
       " ('List the films featuring Wojciech Jerzy Has in 1714',\n",
       "  {'entities': [(25, 43, 'name'), (47, 51, 'year'), (15, 24, 'action')]}),\n",
       " ('Provide the filmography of Claus Boje in 1715',\n",
       "  {'entities': [(27, 37, 'name'), (41, 45, 'year')]}),\n",
       " ('Which movies starred Clive Langer in 1716?',\n",
       "  {'entities': [(21, 33, 'name'), (37, 41, 'year')]}),\n",
       " ('Which roles were played by Nathan Birnbaum in 1717?',\n",
       "  {'entities': [(27, 42, 'name'), (46, 50, 'year'), (17, 23, 'action')]}),\n",
       " ('What are the best one movies Narasaki directed?',\n",
       "  {'entities': [(29, 37, 'name'),\n",
       "    (13, 17, 'order'),\n",
       "    (38, 46, 'action'),\n",
       "    (38, 44, 'action'),\n",
       "    (18, 21, 'numerical_entity')]}),\n",
       " ('List the worst two movies directed by Corinne Marrinan',\n",
       "  {'entities': [(38, 54, 'name'),\n",
       "    (9, 14, 'order'),\n",
       "    (26, 34, 'action'),\n",
       "    (26, 32, 'action'),\n",
       "    (15, 18, 'numerical_entity')]}),\n",
       " ('What are the best three movies Cornelius Schwehr directed?',\n",
       "  {'entities': [(31, 48, 'name'),\n",
       "    (13, 17, 'order'),\n",
       "    (49, 57, 'action'),\n",
       "    (49, 55, 'action'),\n",
       "    (18, 23, 'numerical_entity')]}),\n",
       " ('What are the worst four buddy movies Tatsuya Kushida directed?',\n",
       "  {'entities': [(37, 52, 'name'),\n",
       "    (13, 18, 'order'),\n",
       "    (24, 29, 'genre'),\n",
       "    (53, 61, 'action'),\n",
       "    (53, 59, 'action'),\n",
       "    (19, 23, 'numerical_entity')]}),\n",
       " ('Which are the best movies where Xavier Marchand appeared?',\n",
       "  {'entities': [(32, 47, 'name'), (14, 18, 'order'), (48, 54, 'action')]}),\n",
       " ('Can you name the worst six political thriller movies directed by Toshiyuki Inoue?',\n",
       "  {'entities': [(65, 80, 'name'),\n",
       "    (17, 22, 'order'),\n",
       "    (27, 45, 'genre'),\n",
       "    (53, 61, 'action'),\n",
       "    (53, 59, 'action'),\n",
       "    (23, 26, 'numerical_entity')]}),\n",
       " ('Can you list the best seven films with Maurice Jaubert in the cast?',\n",
       "  {'entities': [(39, 54, 'name'),\n",
       "    (17, 21, 'order'),\n",
       "    (22, 27, 'numerical_entity')]}),\n",
       " ('What are the worst eight movies starring Yōsuke Yamashita',\n",
       "  {'entities': [(41, 57, 'name'),\n",
       "    (13, 18, 'order'),\n",
       "    (19, 24, 'numerical_entity')]}),\n",
       " ('List the movies released in 1726',\n",
       "  {'entities': [(28, 32, 'year'), (16, 23, 'predicate')]}),\n",
       " ('Which movies were directed by Hiroshi Katō in 1727?',\n",
       "  {'entities': [(30, 42, 'name'),\n",
       "    (46, 50, 'year'),\n",
       "    (18, 26, 'action'),\n",
       "    (18, 24, 'action')]}),\n",
       " ('What movies were released in 1728?',\n",
       "  {'entities': [(29, 33, 'year'), (17, 24, 'predicate')]}),\n",
       " ('What movies did Shōichi Masuo appear in in 1729?',\n",
       "  {'entities': [(16, 29, 'name'), (43, 47, 'year'), (30, 36, 'action')]}),\n",
       " ('List the films featuring Mariya Takeuchi in 1730',\n",
       "  {'entities': [(25, 40, 'name'), (44, 48, 'year'), (15, 24, 'action')]}),\n",
       " ('Provide the filmography of Kan Shimozawa in 1731',\n",
       "  {'entities': [(27, 40, 'name'), (44, 48, 'year')]}),\n",
       " ('Which movies starred Jean-Philippe Rameau in 1732?',\n",
       "  {'entities': [(21, 41, 'name'), (45, 49, 'year')]}),\n",
       " ('Which roles were played by Cy Coleman in 1733?',\n",
       "  {'entities': [(27, 37, 'name'), (41, 45, 'year'), (17, 23, 'action')]}),\n",
       " ('What are the best seventeen movies Takanori Arisawa directed?',\n",
       "  {'entities': [(35, 51, 'name'),\n",
       "    (13, 17, 'order'),\n",
       "    (52, 60, 'action'),\n",
       "    (52, 58, 'action'),\n",
       "    (18, 27, 'numerical_entity')]}),\n",
       " ('List the worst eighteen movies directed by Cyril Morin',\n",
       "  {'entities': [(43, 54, 'name'),\n",
       "    (9, 14, 'order'),\n",
       "    (31, 39, 'action'),\n",
       "    (31, 37, 'action'),\n",
       "    (15, 23, 'numerical_entity')]}),\n",
       " ('What are the best nineteen movies Roberto Cacciapaglia directed?',\n",
       "  {'entities': [(34, 54, 'name'),\n",
       "    (13, 17, 'order'),\n",
       "    (55, 63, 'action'),\n",
       "    (55, 61, 'action'),\n",
       "    (18, 26, 'numerical_entity')]}),\n",
       " ('What are the worst twenty animated movies Imany directed?',\n",
       "  {'entities': [(42, 47, 'name'),\n",
       "    (13, 18, 'order'),\n",
       "    (26, 34, 'genre'),\n",
       "    (48, 56, 'action'),\n",
       "    (48, 54, 'action'),\n",
       "    (19, 25, 'numerical_entity')]}),\n",
       " ('Which are the best movies where Seiichiro Ujiie appeared?',\n",
       "  {'entities': [(32, 47, 'name'), (14, 18, 'order'), (48, 54, 'action')]}),\n",
       " ('Can you name the worst 2 anthology movies directed by Daniel White?',\n",
       "  {'entities': [(54, 66, 'name'),\n",
       "    (17, 22, 'order'),\n",
       "    (25, 34, 'genre'),\n",
       "    (42, 50, 'action'),\n",
       "    (42, 48, 'action'),\n",
       "    (23, 24, 'numerical_entity')]}),\n",
       " ('Can you list the best 3 films with Daniel Melnick in the cast?',\n",
       "  {'entities': [(35, 49, 'name'),\n",
       "    (17, 21, 'order'),\n",
       "    (22, 23, 'numerical_entity')]}),\n",
       " ('What are the worst 4 movies starring Sonja Goslicki',\n",
       "  {'entities': [(37, 51, 'name'),\n",
       "    (13, 18, 'order'),\n",
       "    (19, 20, 'numerical_entity')]}),\n",
       " ('List the movies released in 1742',\n",
       "  {'entities': [(28, 32, 'year'), (16, 23, 'predicate')]}),\n",
       " ('Which movies were directed by Shunji Suzuki in 1743?',\n",
       "  {'entities': [(30, 43, 'name'),\n",
       "    (47, 51, 'year'),\n",
       "    (18, 26, 'action'),\n",
       "    (18, 24, 'action')]}),\n",
       " ('What movies were released in 1744?',\n",
       "  {'entities': [(29, 33, 'year'), (17, 24, 'predicate')]}),\n",
       " ('What movies did Alfonso Vilallonga appear in in 1745?',\n",
       "  {'entities': [(16, 34, 'name'), (48, 52, 'year'), (35, 41, 'action')]}),\n",
       " ('List the films featuring Francisco Ramos Molins in 1746',\n",
       "  {'entities': [(25, 47, 'name'), (51, 55, 'year'), (15, 24, 'action')]}),\n",
       " ('Provide the filmography of Jacek Królik in 1747',\n",
       "  {'entities': [(27, 39, 'name'), (43, 47, 'year')]}),\n",
       " ('Which movies starred Kuba Sienkiewicz in 1748?',\n",
       "  {'entities': [(21, 37, 'name'), (41, 45, 'year')]}),\n",
       " ('Which roles were played by Jerzy Kajetan Frykowski in 1749?',\n",
       "  {'entities': [(27, 50, 'name'), (54, 58, 'year'), (17, 23, 'action')]}),\n",
       " ('What are the best 13 movies David Amram directed?',\n",
       "  {'entities': [(28, 39, 'name'),\n",
       "    (13, 17, 'order'),\n",
       "    (40, 48, 'action'),\n",
       "    (40, 46, 'action'),\n",
       "    (18, 20, 'numerical_entity')]}),\n",
       " ('List the worst 14 movies directed by Dave Pirner',\n",
       "  {'entities': [(37, 48, 'name'),\n",
       "    (9, 14, 'order'),\n",
       "    (25, 33, 'action'),\n",
       "    (25, 31, 'action'),\n",
       "    (15, 17, 'numerical_entity')]}),\n",
       " ('What are the best 15 movies David Buckley directed?',\n",
       "  {'entities': [(28, 41, 'name'),\n",
       "    (13, 17, 'order'),\n",
       "    (42, 50, 'action'),\n",
       "    (42, 48, 'action'),\n",
       "    (18, 20, 'numerical_entity')]}),\n",
       " ('What are the worst 16 B movie movies David Buttolph directed?',\n",
       "  {'entities': [(37, 51, 'name'),\n",
       "    (13, 18, 'order'),\n",
       "    (22, 29, 'genre'),\n",
       "    (52, 60, 'action'),\n",
       "    (52, 58, 'action'),\n",
       "    (19, 21, 'numerical_entity')]}),\n",
       " ('Which are the best movies where David Hempstead appeared?',\n",
       "  {'entities': [(32, 47, 'name'), (14, 18, 'order'), (48, 54, 'action')]}),\n",
       " ('Can you name the worst 18 anti-war movies directed by David Raksin?',\n",
       "  {'entities': [(54, 66, 'name'),\n",
       "    (17, 22, 'order'),\n",
       "    (26, 34, 'genre'),\n",
       "    (42, 50, 'action'),\n",
       "    (42, 48, 'action'),\n",
       "    (23, 25, 'numerical_entity')]}),\n",
       " ('Can you list the best 19 films with Ludek Drizhal in the cast?',\n",
       "  {'entities': [(36, 49, 'name'),\n",
       "    (17, 21, 'order'),\n",
       "    (22, 24, 'numerical_entity')]}),\n",
       " ('What are the worst 20 movies starring David Tomblin',\n",
       "  {'entities': [(38, 51, 'name'),\n",
       "    (13, 18, 'order'),\n",
       "    (19, 21, 'numerical_entity')]}),\n",
       " ('List the movies released in 1758',\n",
       "  {'entities': [(28, 32, 'year'), (16, 23, 'predicate')]}),\n",
       " ('Which movies were directed by Małgorzata Chmielewska in 1759?',\n",
       "  {'entities': [(30, 52, 'name'),\n",
       "    (56, 60, 'year'),\n",
       "    (18, 26, 'action'),\n",
       "    (18, 24, 'action')]}),\n",
       " ('What movies were released in 1760?',\n",
       "  {'entities': [(29, 33, 'year'), (17, 24, 'predicate')]}),\n",
       " ('What movies did András Muhi appear in in 1761?',\n",
       "  {'entities': [(16, 27, 'name'), (41, 45, 'year'), (28, 34, 'action')]}),\n",
       " ('List the films featuring Piotr Dzięcioł in 1762',\n",
       "  {'entities': [(25, 39, 'name'), (43, 47, 'year'), (15, 24, 'action')]}),\n",
       " ('Provide the filmography of Denny Zeitlin in 1763',\n",
       "  {'entities': [(27, 40, 'name'), (44, 48, 'year')]}),\n",
       " ('Which movies starred Timo Lassy in 1764?',\n",
       "  {'entities': [(21, 31, 'name'), (35, 39, 'year')]}),\n",
       " ('Which roles were played by Mark Oliver Everett in 1765?',\n",
       "  {'entities': [(27, 46, 'name'), (50, 54, 'year'), (17, 23, 'action')]}),\n",
       " ('What are the best nine movies Isona Passola i Vidal directed?',\n",
       "  {'entities': [(30, 51, 'name'),\n",
       "    (13, 17, 'order'),\n",
       "    (52, 60, 'action'),\n",
       "    (52, 58, 'action'),\n",
       "    (18, 22, 'numerical_entity')]}),\n",
       " ('List the worst ten movies directed by José Manuel Pagán',\n",
       "  {'entities': [(38, 55, 'name'),\n",
       "    (9, 14, 'order'),\n",
       "    (26, 34, 'action'),\n",
       "    (26, 32, 'action'),\n",
       "    (15, 18, 'numerical_entity')]}),\n",
       " ('What are the best eleven movies Stéphane Moucha directed?',\n",
       "  {'entities': [(32, 47, 'name'),\n",
       "    (13, 17, 'order'),\n",
       "    (48, 56, 'action'),\n",
       "    (48, 54, 'action'),\n",
       "    (18, 24, 'numerical_entity')]}),\n",
       " ('What are the worst twelve comedy of remarriage movies Pascal Gaigne directed?',\n",
       "  {'entities': [(54, 67, 'name'),\n",
       "    (13, 18, 'order'),\n",
       "    (26, 46, 'genre'),\n",
       "    (68, 76, 'action'),\n",
       "    (68, 74, 'action'),\n",
       "    (19, 25, 'numerical_entity')]}),\n",
       " ('Which are the best movies where Jan Štern appeared?',\n",
       "  {'entities': [(32, 41, 'name'), (14, 18, 'order'), (42, 48, 'action')]}),\n",
       " ('Can you name the worst fourteen comedy horror movies directed by Jiří Bečka?',\n",
       "  {'entities': [(65, 75, 'name'),\n",
       "    (17, 22, 'order'),\n",
       "    (32, 45, 'genre'),\n",
       "    (53, 61, 'action'),\n",
       "    (53, 59, 'action'),\n",
       "    (23, 31, 'numerical_entity')]}),\n",
       " ('Can you list the best fifteen films with Jiří Bulis in the cast?',\n",
       "  {'entities': [(41, 51, 'name'),\n",
       "    (17, 21, 'order'),\n",
       "    (22, 29, 'numerical_entity')]}),\n",
       " ('What are the worst sixteen movies starring Jiří Šust',\n",
       "  {'entities': [(43, 52, 'name'),\n",
       "    (13, 18, 'order'),\n",
       "    (19, 26, 'numerical_entity')]}),\n",
       " ('List the movies released in 1774',\n",
       "  {'entities': [(28, 32, 'year'), (16, 23, 'predicate')]}),\n",
       " ('Which movies were directed by Tomáš Vtípil in 1775?',\n",
       "  {'entities': [(30, 42, 'name'),\n",
       "    (46, 50, 'year'),\n",
       "    (18, 26, 'action'),\n",
       "    (18, 24, 'action')]}),\n",
       " ('What movies were released in 1776?',\n",
       "  {'entities': [(29, 33, 'year'), (17, 24, 'predicate')]}),\n",
       " ('What movies did Dick Hyman appear in in 1777?',\n",
       "  {'entities': [(16, 26, 'name'), (40, 44, 'year'), (27, 33, 'action')]}),\n",
       " ('List the films featuring Vladimir Gronskiy in 1778',\n",
       "  {'entities': [(25, 42, 'name'), (46, 50, 'year'), (15, 24, 'action')]}),\n",
       " ('Provide the filmography of Erwin C. Dietrich in 1779',\n",
       "  {'entities': [(27, 44, 'name'), (48, 52, 'year')]}),\n",
       " ('Which movies starred Alex Wilkinson in 1780?',\n",
       "  {'entities': [(21, 35, 'name'), (39, 43, 'year')]}),\n",
       " ('Which roles were played by Hany Adel in 1781?',\n",
       "  {'entities': [(27, 36, 'name'), (40, 44, 'year'), (17, 23, 'action')]}),\n",
       " ('What are the best 5 movies Giancarlo Bigazzi directed?',\n",
       "  {'entities': [(27, 44, 'name'),\n",
       "    (13, 17, 'order'),\n",
       "    (45, 53, 'action'),\n",
       "    (45, 51, 'action'),\n",
       "    (18, 19, 'numerical_entity')]}),\n",
       " ('List the worst 6 movies directed by Marcello Giombini',\n",
       "  {'entities': [(36, 53, 'name'),\n",
       "    (9, 14, 'order'),\n",
       "    (24, 32, 'action'),\n",
       "    (24, 30, 'action'),\n",
       "    (15, 16, 'numerical_entity')]}),\n",
       " ('What are the best 7 movies Ágnes Pataki directed?',\n",
       "  {'entities': [(27, 39, 'name'),\n",
       "    (13, 17, 'order'),\n",
       "    (40, 48, 'action'),\n",
       "    (40, 46, 'action'),\n",
       "    (18, 19, 'numerical_entity')]}),\n",
       " ('What are the worst 8 Bollywood movies Walter Scharf directed?',\n",
       "  {'entities': [(38, 51, 'name'),\n",
       "    (13, 18, 'order'),\n",
       "    (21, 30, 'genre'),\n",
       "    (52, 60, 'action'),\n",
       "    (52, 58, 'action'),\n",
       "    (19, 20, 'numerical_entity')]}),\n",
       " ('Which are the best movies where Arthur Honegger appeared?',\n",
       "  {'entities': [(32, 47, 'name'), (14, 18, 'order'), (48, 54, 'action')]}),\n",
       " ('Can you name the worst 10 mockbuster movies directed by Dikla?',\n",
       "  {'entities': [(56, 61, 'name'),\n",
       "    (17, 22, 'order'),\n",
       "    (26, 36, 'genre'),\n",
       "    (44, 52, 'action'),\n",
       "    (44, 50, 'action'),\n",
       "    (23, 25, 'numerical_entity')]}),\n",
       " ('Can you list the best 11 films with Eran Zur in the cast?',\n",
       "  {'entities': [(36, 44, 'name'),\n",
       "    (17, 21, 'order'),\n",
       "    (22, 24, 'numerical_entity')]}),\n",
       " ('What are the worst 12 movies starring Douglas Gamley',\n",
       "  {'entities': [(38, 52, 'name'),\n",
       "    (13, 18, 'order'),\n",
       "    (19, 21, 'numerical_entity')]}),\n",
       " ('List the movies released in 1790',\n",
       "  {'entities': [(28, 32, 'year'), (16, 23, 'predicate')]}),\n",
       " ('Which movies were directed by Kim Mi-hui in 1791?',\n",
       "  {'entities': [(30, 40, 'name'),\n",
       "    (44, 48, 'year'),\n",
       "    (18, 26, 'action'),\n",
       "    (18, 24, 'action')]}),\n",
       " ('What movies were released in 1792?',\n",
       "  {'entities': [(29, 33, 'year'), (17, 24, 'predicate')]}),\n",
       " ('What movies did Jack Yellen appear in in 1793?',\n",
       "  {'entities': [(16, 27, 'name'), (41, 45, 'year'), (28, 34, 'action')]}),\n",
       " ('List the films featuring Lee Dong-jun in 1794',\n",
       "  {'entities': [(25, 37, 'name'), (41, 45, 'year'), (15, 24, 'action')]}),\n",
       " ('Provide the filmography of Lee Jae-hak in 1795',\n",
       "  {'entities': [(27, 38, 'name'), (42, 46, 'year')]}),\n",
       " ('Which movies starred Ana Stanić in 1796?',\n",
       "  {'entities': [(21, 31, 'name'), (35, 39, 'year')]}),\n",
       " ('Which roles were played by Mikołaj Trzaska in 1797?',\n",
       "  {'entities': [(27, 42, 'name'), (46, 50, 'year'), (17, 23, 'action')]}),\n",
       " ('What are the best one movies Willy Reiber directed?',\n",
       "  {'entities': [(29, 41, 'name'),\n",
       "    (13, 17, 'order'),\n",
       "    (42, 50, 'action'),\n",
       "    (42, 48, 'action'),\n",
       "    (18, 21, 'numerical_entity')]}),\n",
       " ('List the worst two movies directed by Gabriele Crisanti',\n",
       "  {'entities': [(38, 55, 'name'),\n",
       "    (9, 14, 'order'),\n",
       "    (26, 34, 'action'),\n",
       "    (26, 32, 'action'),\n",
       "    (15, 18, 'numerical_entity')]}),\n",
       " ('What are the best three movies Dyson Lovell directed?',\n",
       "  {'entities': [(31, 43, 'name'),\n",
       "    (13, 17, 'order'),\n",
       "    (44, 52, 'action'),\n",
       "    (44, 50, 'action'),\n",
       "    (18, 23, 'numerical_entity')]}),\n",
       " ('What are the worst four knight movies Alfi Kabiljo directed?',\n",
       "  {'entities': [(38, 50, 'name'),\n",
       "    (13, 18, 'order'),\n",
       "    (24, 30, 'genre'),\n",
       "    (51, 59, 'action'),\n",
       "    (51, 57, 'action'),\n",
       "    (19, 23, 'numerical_entity')]}),\n",
       " ('Which are the best movies where Jeff Gibbs appeared?',\n",
       "  {'entities': [(32, 42, 'name'), (14, 18, 'order'), (43, 49, 'action')]}),\n",
       " ('Can you name the worst six propaganda movies directed by Danijel Hočevar?',\n",
       "  {'entities': [(57, 72, 'name'),\n",
       "    (17, 22, 'order'),\n",
       "    (27, 37, 'genre'),\n",
       "    (45, 53, 'action'),\n",
       "    (45, 51, 'action'),\n",
       "    (23, 26, 'numerical_entity')]}),\n",
       " ('Can you list the best seven films with Mitja Vrhovnik Smrekar in the cast?',\n",
       "  {'entities': [(39, 61, 'name'),\n",
       "    (17, 21, 'order'),\n",
       "    (22, 27, 'numerical_entity')]}),\n",
       " ('What are the worst eight movies starring Momčilo Bajagić Bajaga',\n",
       "  {'entities': [(41, 63, 'name'),\n",
       "    (13, 18, 'order'),\n",
       "    (19, 24, 'numerical_entity')]}),\n",
       " ('List the movies released in 1806',\n",
       "  {'entities': [(28, 32, 'year'), (16, 23, 'predicate')]}),\n",
       " ('Which movies were directed by Meredith Willson in 1807?',\n",
       "  {'entities': [(30, 46, 'name'),\n",
       "    (50, 54, 'year'),\n",
       "    (18, 26, 'action'),\n",
       "    (18, 24, 'action'),\n",
       "    (33, 37, 'action')]}),\n",
       " ('What movies were released in 1808?',\n",
       "  {'entities': [(29, 33, 'year'), (17, 24, 'predicate')]}),\n",
       " ('What movies did Jimmy Webb appear in in 1809?',\n",
       "  {'entities': [(16, 26, 'name'), (40, 44, 'year'), (27, 33, 'action')]}),\n",
       " ('List the films featuring Tom Daly in 1810',\n",
       "  {'entities': [(25, 33, 'name'), (37, 41, 'year'), (15, 24, 'action')]}),\n",
       " ('Provide the filmography of Edward Bates in 1811',\n",
       "  {'entities': [(27, 39, 'name'), (43, 47, 'year')]}),\n",
       " ('Which movies starred Edward J. Kay in 1812?',\n",
       "  {'entities': [(21, 34, 'name'), (38, 42, 'year')]}),\n",
       " ('Which roles were played by Edwin Astley in 1813?',\n",
       "  {'entities': [(27, 39, 'name'), (43, 47, 'year'), (17, 23, 'action')]}),\n",
       " ('What are the best seventeen movies Werner Wirsing directed?',\n",
       "  {'entities': [(35, 49, 'name'),\n",
       "    (13, 17, 'order'),\n",
       "    (50, 58, 'action'),\n",
       "    (50, 56, 'action'),\n",
       "    (18, 27, 'numerical_entity')]}),\n",
       " ('List the worst eighteen movies directed by Jonas Dornbach',\n",
       "  {'entities': [(43, 57, 'name'),\n",
       "    (9, 14, 'order'),\n",
       "    (31, 39, 'action'),\n",
       "    (31, 37, 'action'),\n",
       "    (15, 23, 'numerical_entity')]}),\n",
       " ('What are the best nineteen movies Frank McCarthy directed?',\n",
       "  {'entities': [(34, 48, 'name'),\n",
       "    (13, 17, 'order'),\n",
       "    (49, 57, 'action'),\n",
       "    (49, 55, 'action'),\n",
       "    (18, 26, 'numerical_entity')]}),\n",
       " ('What are the worst twenty battle movies Keith Forsey directed?',\n",
       "  {'entities': [(40, 52, 'name'),\n",
       "    (13, 18, 'order'),\n",
       "    (26, 32, 'genre'),\n",
       "    (53, 61, 'action'),\n",
       "    (53, 59, 'action'),\n",
       "    (19, 25, 'numerical_entity')]}),\n",
       " ('Which are the best movies where Martial Solal appeared?',\n",
       "  {'entities': [(32, 45, 'name'), (14, 18, 'order'), (46, 52, 'action')]}),\n",
       " ('Can you name the worst 2 cinematic fairy tale movies directed by Anton Melnik?',\n",
       "  {'entities': [(65, 77, 'name'),\n",
       "    (17, 22, 'order'),\n",
       "    (25, 45, 'genre'),\n",
       "    (53, 61, 'action'),\n",
       "    (53, 59, 'action'),\n",
       "    (23, 24, 'numerical_entity')]}),\n",
       " ('Can you list the best 3 films with Yuki Kajiura in the cast?',\n",
       "  {'entities': [(35, 47, 'name'),\n",
       "    (17, 21, 'order'),\n",
       "    (22, 23, 'numerical_entity')]}),\n",
       " ('What are the worst 4 movies starring Modest Petrovich Mussorgsky',\n",
       "  {'entities': [(37, 64, 'name'),\n",
       "    (13, 18, 'order'),\n",
       "    (19, 20, 'numerical_entity')]}),\n",
       " ('List the movies released in 1822',\n",
       "  {'entities': [(28, 32, 'year'), (16, 23, 'predicate')]}),\n",
       " ('Which movies were directed by Trevor Morris in 1823?',\n",
       "  {'entities': [(30, 43, 'name'),\n",
       "    (47, 51, 'year'),\n",
       "    (18, 26, 'action'),\n",
       "    (18, 24, 'action')]}),\n",
       " ('What movies were released in 1824?',\n",
       "  {'entities': [(29, 33, 'year'), (17, 24, 'predicate')]}),\n",
       " ('What movies did Emmanuel Schotté appear in in 1825?',\n",
       "  {'entities': [(16, 32, 'name'), (46, 50, 'year'), (33, 39, 'action')]}),\n",
       " ('List the films featuring Antonio Musu in 1826',\n",
       "  {'entities': [(25, 37, 'name'), (41, 45, 'year'), (15, 24, 'action')]}),\n",
       " ('Provide the filmography of Floros Floridis in 1827',\n",
       "  {'entities': [(27, 42, 'name'), (46, 50, 'year')]}),\n",
       " ('Which movies starred Milan Kymlicka in 1828?',\n",
       "  {'entities': [(21, 35, 'name'), (39, 43, 'year')]}),\n",
       " ('Which roles were played by Waddy Wachtel in 1829?',\n",
       "  {'entities': [(27, 40, 'name'), (44, 48, 'year'), (17, 23, 'action')]}),\n",
       " ('What are the best 13 movies Günther Fischer directed?',\n",
       "  {'entities': [(28, 43, 'name'),\n",
       "    (13, 17, 'order'),\n",
       "    (44, 52, 'action'),\n",
       "    (44, 50, 'action'),\n",
       "    (18, 20, 'numerical_entity')]}),\n",
       " ('List the worst 14 movies directed by Tom Russell',\n",
       "  {'entities': [(37, 48, 'name'),\n",
       "    (9, 14, 'order'),\n",
       "    (25, 33, 'action'),\n",
       "    (25, 31, 'action'),\n",
       "    (15, 17, 'numerical_entity')]}),\n",
       " ('What are the best 15 movies Enzo Doria directed?',\n",
       "  {'entities': [(28, 38, 'name'),\n",
       "    (13, 17, 'order'),\n",
       "    (39, 47, 'action'),\n",
       "    (39, 45, 'action'),\n",
       "    (18, 20, 'numerical_entity')]}),\n",
       " ('What are the worst 16 alternate history movies Rupert Hine directed?',\n",
       "  {'entities': [(47, 58, 'name'),\n",
       "    (13, 18, 'order'),\n",
       "    (22, 39, 'genre'),\n",
       "    (59, 67, 'action'),\n",
       "    (59, 65, 'action'),\n",
       "    (19, 21, 'numerical_entity')]}),\n",
       " ('Which are the best movies where Page Hamilton appeared?',\n",
       "  {'entities': [(32, 45, 'name'), (14, 18, 'order'), (46, 52, 'action')]}),\n",
       " ('Can you name the worst 18 country music movies directed by Milton H. Greene?',\n",
       "  {'entities': [(59, 75, 'name'),\n",
       "    (17, 22, 'order'),\n",
       "    (26, 39, 'genre'),\n",
       "    (47, 55, 'action'),\n",
       "    (47, 53, 'action'),\n",
       "    (23, 25, 'numerical_entity')]}),\n",
       " ('Can you list the best 19 films with Stavros Xarchakos in the cast?',\n",
       "  {'entities': [(36, 53, 'name'),\n",
       "    (17, 21, 'order'),\n",
       "    (22, 24, 'numerical_entity')]}),\n",
       " ('What are the worst 20 movies starring Louis Sclavis',\n",
       "  {'entities': [(38, 51, 'name'),\n",
       "    (13, 18, 'order'),\n",
       "    (19, 21, 'numerical_entity')]}),\n",
       " ('List the movies released in 1838',\n",
       "  {'entities': [(28, 32, 'year'), (16, 23, 'predicate')]}),\n",
       " ('Which movies were directed by Barnaby Thompson in 1839?',\n",
       "  {'entities': [(30, 46, 'name'),\n",
       "    (50, 54, 'year'),\n",
       "    (18, 26, 'action'),\n",
       "    (18, 24, 'action')]}),\n",
       " ('What movies were released in 1840?',\n",
       "  {'entities': [(29, 33, 'year'), (17, 24, 'predicate')]}),\n",
       " ('What movies did Akira Ifukube appear in in 1841?',\n",
       "  {'entities': [(16, 29, 'name'), (43, 47, 'year'), (30, 36, 'action')]}),\n",
       " ('List the films featuring Fabio Vacchi in 1842',\n",
       "  {'entities': [(25, 37, 'name'), (41, 45, 'year'), (15, 24, 'action')]}),\n",
       " ('Provide the filmography of Jukka Immonen in 1843',\n",
       "  {'entities': [(27, 40, 'name'), (44, 48, 'year')]}),\n",
       " ('Which movies starred Vyacheslav Ovchinnikov in 1844?',\n",
       "  {'entities': [(21, 43, 'name'), (47, 51, 'year')]}),\n",
       " ('Which roles were played by Ludwig Göransson in 1845?',\n",
       "  {'entities': [(27, 43, 'name'), (47, 51, 'year'), (17, 23, 'action')]}),\n",
       " ('What are the best nine movies Marc Jordan directed?',\n",
       "  {'entities': [(30, 41, 'name'),\n",
       "    (13, 17, 'order'),\n",
       "    (42, 50, 'action'),\n",
       "    (42, 48, 'action'),\n",
       "    (18, 22, 'numerical_entity')]}),\n",
       " ('List the worst ten movies directed by Stephen Warbeck',\n",
       "  {'entities': [(38, 53, 'name'),\n",
       "    (9, 14, 'order'),\n",
       "    (26, 34, 'action'),\n",
       "    (26, 32, 'action'),\n",
       "    (15, 18, 'numerical_entity')]}),\n",
       " ('What are the best eleven movies Renaud Garcia-Fons directed?',\n",
       "  {'entities': [(32, 50, 'name'),\n",
       "    (13, 17, 'order'),\n",
       "    (51, 59, 'action'),\n",
       "    (51, 57, 'action'),\n",
       "    (18, 24, 'numerical_entity')]}),\n",
       " ('What are the worst twelve stop-motion animated movies Olivier Delbosc directed?',\n",
       "  {'entities': [(54, 69, 'name'),\n",
       "    (13, 18, 'order'),\n",
       "    (26, 46, 'genre'),\n",
       "    (70, 78, 'action'),\n",
       "    (70, 76, 'action'),\n",
       "    (19, 25, 'numerical_entity')]}),\n",
       " ('Which are the best movies where Wolfram Spyra appeared?',\n",
       "  {'entities': [(32, 45, 'name'), (14, 18, 'order'), (46, 52, 'action')]}),\n",
       " ('Can you name the worst fourteen medical drama movies directed by Isaac Schwartz?',\n",
       "  {'entities': [(65, 79, 'name'),\n",
       "    (17, 22, 'order'),\n",
       "    (32, 45, 'genre'),\n",
       "    (53, 61, 'action'),\n",
       "    (53, 59, 'action'),\n",
       "    (23, 31, 'numerical_entity')]}),\n",
       " ('Can you list the best fifteen films with Pascal Comelade in the cast?',\n",
       "  {'entities': [(41, 56, 'name'),\n",
       "    (17, 21, 'order'),\n",
       "    (22, 29, 'numerical_entity')]}),\n",
       " ('What are the worst sixteen movies starring Roy Webb',\n",
       "  {'entities': [(43, 51, 'name'),\n",
       "    (13, 18, 'order'),\n",
       "    (19, 26, 'numerical_entity')]}),\n",
       " ('List the movies released in 1854',\n",
       "  {'entities': [(28, 32, 'year'), (16, 23, 'predicate')]}),\n",
       " ('Which movies were directed by Josh Ritter in 1855?',\n",
       "  {'entities': [(30, 41, 'name'),\n",
       "    (45, 49, 'year'),\n",
       "    (18, 26, 'action'),\n",
       "    (18, 24, 'action')]}),\n",
       " ('What movies were released in 1856?',\n",
       "  {'entities': [(29, 33, 'year'), (17, 24, 'predicate')]}),\n",
       " ('What movies did Gerald Green appear in in 1857?',\n",
       "  {'entities': [(16, 28, 'name'), (42, 46, 'year'), (29, 35, 'action')]}),\n",
       " ('List the films featuring Louis Gruenberg in 1858',\n",
       "  {'entities': [(25, 40, 'name'), (44, 48, 'year'), (15, 24, 'action')]}),\n",
       " ('Provide the filmography of Robert Charles Winthrop in 1859',\n",
       "  {'entities': [(27, 50, 'name'), (54, 58, 'year')]}),\n",
       " ('Which movies starred George Antheil in 1860?',\n",
       "  {'entities': [(21, 35, 'name'), (39, 43, 'year')]}),\n",
       " ('Which roles were played by Phil Palmer in 1861?',\n",
       "  {'entities': [(27, 38, 'name'), (42, 46, 'year'), (17, 23, 'action')]}),\n",
       " ('What are the best 5 movies Michael Relph directed?',\n",
       "  {'entities': [(27, 40, 'name'),\n",
       "    (13, 17, 'order'),\n",
       "    (41, 49, 'action'),\n",
       "    (41, 47, 'action'),\n",
       "    (18, 19, 'numerical_entity')]}),\n",
       " ('List the worst 6 movies directed by Raymond Lefèvre',\n",
       "  {'entities': [(36, 51, 'name'),\n",
       "    (9, 14, 'order'),\n",
       "    (24, 32, 'action'),\n",
       "    (24, 30, 'action'),\n",
       "    (15, 16, 'numerical_entity')]}),\n",
       " ('What are the best 7 movies Kevin Shields directed?',\n",
       "  {'entities': [(27, 40, 'name'),\n",
       "    (13, 17, 'order'),\n",
       "    (41, 49, 'action'),\n",
       "    (41, 47, 'action'),\n",
       "    (18, 19, 'numerical_entity')]}),\n",
       " ('What are the worst 8 heroic bloodshed movies Gil Mellé directed?',\n",
       "  {'entities': [(45, 54, 'name'),\n",
       "    (13, 18, 'order'),\n",
       "    (21, 37, 'genre'),\n",
       "    (55, 63, 'action'),\n",
       "    (55, 61, 'action'),\n",
       "    (19, 20, 'numerical_entity')]}),\n",
       " ('Which are the best movies where Alexi Murdoch appeared?',\n",
       "  {'entities': [(32, 45, 'name'), (14, 18, 'order'), (46, 52, 'action')]}),\n",
       " ('Can you name the worst 10 hyperlink cinema movies directed by Nathan Larson?',\n",
       "  {'entities': [(62, 75, 'name'),\n",
       "    (17, 22, 'order'),\n",
       "    (26, 42, 'genre'),\n",
       "    (50, 58, 'action'),\n",
       "    (50, 56, 'action'),\n",
       "    (23, 25, 'numerical_entity')]}),\n",
       " ('Can you list the best 11 films with Hugo Montenegro in the cast?',\n",
       "  {'entities': [(36, 51, 'name'),\n",
       "    (17, 21, 'order'),\n",
       "    (22, 24, 'numerical_entity')]}),\n",
       " ('What are the worst 12 movies starring Leszek Możdżer',\n",
       "  {'entities': [(38, 52, 'name'),\n",
       "    (13, 18, 'order'),\n",
       "    (19, 21, 'numerical_entity')]}),\n",
       " ('List the movies released in 1870',\n",
       "  {'entities': [(28, 32, 'year'), (16, 23, 'predicate')]}),\n",
       " ('Which movies were directed by Gordon Jenkins in 1871?',\n",
       "  {'entities': [(30, 44, 'name'),\n",
       "    (48, 52, 'year'),\n",
       "    (18, 26, 'action'),\n",
       "    (18, 24, 'action')]}),\n",
       " ('What movies were released in 1872?',\n",
       "  {'entities': [(29, 33, 'year'), (17, 24, 'predicate')]}),\n",
       " ('What movies did Fabian Römer appear in in 1873?',\n",
       "  {'entities': [(16, 28, 'name'), (42, 46, 'year'), (29, 35, 'action')]}),\n",
       " ('List the films featuring Paolo Fresu in 1874',\n",
       "  {'entities': [(25, 36, 'name'), (40, 44, 'year'), (15, 24, 'action')]}),\n",
       " ('Provide the filmography of Flying Lotus in 1875',\n",
       "  {'entities': [(27, 39, 'name'), (43, 47, 'year')]}),\n",
       " ('Which movies starred Peter Maxwell Davies in 1876?',\n",
       "  {'entities': [(21, 41, 'name'), (45, 49, 'year')]}),\n",
       " ('Which roles were played by Vilayat Khan in 1877?',\n",
       "  {'entities': [(27, 39, 'name'), (43, 47, 'year'), (17, 23, 'action')]}),\n",
       " ('What are the best one movies Schoolly D directed?',\n",
       "  {'entities': [(29, 39, 'name'),\n",
       "    (13, 17, 'order'),\n",
       "    (40, 48, 'action'),\n",
       "    (40, 46, 'action'),\n",
       "    (18, 21, 'numerical_entity')]}),\n",
       " ('List the worst two movies directed by Nitin Sawhney',\n",
       "  {'entities': [(38, 51, 'name'),\n",
       "    (9, 14, 'order'),\n",
       "    (26, 34, 'action'),\n",
       "    (26, 32, 'action'),\n",
       "    (15, 18, 'numerical_entity')]}),\n",
       " ('What are the best three movies Michel Magne directed?',\n",
       "  {'entities': [(31, 43, 'name'),\n",
       "    (13, 17, 'order'),\n",
       "    (44, 52, 'action'),\n",
       "    (44, 50, 'action'),\n",
       "    (18, 23, 'numerical_entity')]}),\n",
       " ('What are the worst four science fiction action movies Pedro Olea directed?',\n",
       "  {'entities': [(54, 64, 'name'),\n",
       "    (13, 18, 'order'),\n",
       "    (24, 46, 'genre'),\n",
       "    (65, 73, 'action'),\n",
       "    (65, 71, 'action'),\n",
       "    (19, 23, 'numerical_entity')]}),\n",
       " ('Which are the best movies where Gary Go appeared?',\n",
       "  {'entities': [(32, 39, 'name'), (14, 18, 'order'), (40, 46, 'action')]}),\n",
       " ('Can you name the worst six Masala movies directed by Karim Debbagh?',\n",
       "  {'entities': [(53, 66, 'name'),\n",
       "    (17, 22, 'order'),\n",
       "    (27, 33, 'genre'),\n",
       "    (41, 49, 'action'),\n",
       "    (41, 47, 'action'),\n",
       "    (23, 26, 'numerical_entity')]}),\n",
       " ('Can you list the best seven films with György Vukán in the cast?',\n",
       "  {'entities': [(39, 51, 'name'),\n",
       "    (17, 21, 'order'),\n",
       "    (22, 27, 'numerical_entity')]}),\n",
       " ('What are the worst eight movies starring Michaela Melián',\n",
       "  {'entities': [(41, 56, 'name'),\n",
       "    (13, 18, 'order'),\n",
       "    (19, 24, 'numerical_entity')]}),\n",
       " ('List the movies released in 1886',\n",
       "  {'entities': [(28, 32, 'year'), (16, 23, 'predicate')]}),\n",
       " ('Which movies were directed by William Perlberg in 1887?',\n",
       "  {'entities': [(30, 46, 'name'),\n",
       "    (50, 54, 'year'),\n",
       "    (18, 26, 'action'),\n",
       "    (18, 24, 'action')]}),\n",
       " ('What movies were released in 1888?',\n",
       "  {'entities': [(29, 33, 'year'), (17, 24, 'predicate')]}),\n",
       " ('What movies did Ville Golovko appear in in 1889?',\n",
       "  {'entities': [(16, 29, 'name'), (43, 47, 'year'), (30, 36, 'action')]}),\n",
       " ('List the films featuring Florent Marchet in 1890',\n",
       "  {'entities': [(25, 40, 'name'), (44, 48, 'year'), (15, 24, 'action')]}),\n",
       " ('Provide the filmography of Arnold Bax in 1891',\n",
       "  {'entities': [(27, 37, 'name'), (41, 45, 'year')]}),\n",
       " (\"Which movies starred Carlos d'Alessio in 1892?\",\n",
       "  {'entities': [(21, 37, 'name'), (41, 45, 'year')]}),\n",
       " ('Which roles were played by Raymond Tarabay in 1893?',\n",
       "  {'entities': [(27, 42, 'name'), (46, 50, 'year'), (17, 23, 'action')]}),\n",
       " ('What are the best seventeen movies Brian Easdale directed?',\n",
       "  {'entities': [(35, 48, 'name'),\n",
       "    (13, 17, 'order'),\n",
       "    (49, 57, 'action'),\n",
       "    (49, 55, 'action'),\n",
       "    (18, 27, 'numerical_entity')]}),\n",
       " ('List the worst eighteen movies directed by Yūji Ōno',\n",
       "  {'entities': [(43, 51, 'name'),\n",
       "    (9, 14, 'order'),\n",
       "    (31, 39, 'action'),\n",
       "    (31, 37, 'action'),\n",
       "    (15, 23, 'numerical_entity')]}),\n",
       " ('What are the best nineteen movies Hansjürgen Pohland directed?',\n",
       "  {'entities': [(34, 52, 'name'),\n",
       "    (13, 17, 'order'),\n",
       "    (53, 61, 'action'),\n",
       "    (53, 59, 'action'),\n",
       "    (18, 26, 'numerical_entity')]}),\n",
       " ('What are the worst twenty supernatural horror movies François Couturier directed?',\n",
       "  {'entities': [(53, 71, 'name'),\n",
       "    (13, 18, 'order'),\n",
       "    (26, 45, 'genre'),\n",
       "    (72, 80, 'action'),\n",
       "    (72, 78, 'action'),\n",
       "    (19, 25, 'numerical_entity')]}),\n",
       " ('Which are the best movies where Sergey Nikolaevich Starostin appeared?',\n",
       "  {'entities': [(32, 60, 'name'), (14, 18, 'order'), (61, 67, 'action')]}),\n",
       " ('Can you name the worst 2 political movies directed by Fred Katz?',\n",
       "  {'entities': [(54, 63, 'name'),\n",
       "    (17, 22, 'order'),\n",
       "    (25, 34, 'genre'),\n",
       "    (42, 50, 'action'),\n",
       "    (42, 48, 'action'),\n",
       "    (23, 24, 'numerical_entity')]}),\n",
       " ('Can you list the best 3 films with Fred Kohlmar in the cast?',\n",
       "  {'entities': [(35, 47, 'name'),\n",
       "    (17, 21, 'order'),\n",
       "    (22, 23, 'numerical_entity')]}),\n",
       " ('What are the worst 4 movies starring Freddie Rich',\n",
       "  {'entities': [(37, 49, 'name'),\n",
       "    (13, 18, 'order'),\n",
       "    (19, 20, 'numerical_entity')]}),\n",
       " ('List the movies released in 1902',\n",
       "  {'entities': [(28, 32, 'year'), (16, 23, 'predicate')]}),\n",
       " ('Which movies were directed by Semiya Simsek in 1903?',\n",
       "  {'entities': [(30, 43, 'name'),\n",
       "    (47, 51, 'year'),\n",
       "    (18, 26, 'action'),\n",
       "    (18, 24, 'action')]}),\n",
       " ('What movies were released in 1904?',\n",
       "  {'entities': [(29, 33, 'year'), (17, 24, 'predicate')]}),\n",
       " ('What movies did Dmitrii Mednikov appear in in 1905?',\n",
       "  {'entities': [(16, 32, 'name'), (46, 50, 'year'), (33, 39, 'action')]}),\n",
       " ('List the films featuring Anton Zlatopolsky in 1906',\n",
       "  {'entities': [(25, 42, 'name'), (46, 50, 'year'), (15, 24, 'action')]}),\n",
       " ('Provide the filmography of Sergey Shumakov in 1907',\n",
       "  {'entities': [(27, 42, 'name'), (46, 50, 'year')]}),\n",
       " ('Which movies starred Gabriel Pascal in 1908?',\n",
       "  {'entities': [(21, 35, 'name'), (39, 43, 'year')]}),\n",
       " ('Which roles were played by Mocean Worker in 1909?',\n",
       "  {'entities': [(27, 40, 'name'), (44, 48, 'year'), (17, 23, 'action')]}),\n",
       " ('What are the best 13 movies Nils Frahm directed?',\n",
       "  {'entities': [(28, 38, 'name'),\n",
       "    (13, 17, 'order'),\n",
       "    (39, 47, 'action'),\n",
       "    (39, 45, 'action'),\n",
       "    (18, 20, 'numerical_entity')]}),\n",
       " ('List the worst 14 movies directed by Kenneth Macgowan',\n",
       "  {'entities': [(37, 53, 'name'),\n",
       "    (9, 14, 'order'),\n",
       "    (25, 33, 'action'),\n",
       "    (25, 31, 'action'),\n",
       "    (15, 17, 'numerical_entity')]}),\n",
       " ('What are the best 15 movies Camille Saint-Saëns directed?',\n",
       "  {'entities': [(28, 47, 'name'),\n",
       "    (13, 17, 'order'),\n",
       "    (48, 56, 'action'),\n",
       "    (48, 54, 'action'),\n",
       "    (18, 20, 'numerical_entity')]}),\n",
       " ('What are the worst 16 post-apocalyptic fiction movies Georg Haentzschel directed?',\n",
       "  {'entities': [(54, 71, 'name'),\n",
       "    (13, 18, 'order'),\n",
       "    (22, 46, 'genre'),\n",
       "    (72, 80, 'action'),\n",
       "    (72, 78, 'action'),\n",
       "    (19, 21, 'numerical_entity')]}),\n",
       " ('Which are the best movies where Georg Riedel appeared?',\n",
       "  {'entities': [(32, 44, 'name'), (14, 18, 'order'), (45, 51, 'action')]}),\n",
       " ('Can you name the worst 18 historical novel movies directed by Oksana Barkovskaya?',\n",
       "  {'entities': [(62, 80, 'name'),\n",
       "    (17, 22, 'order'),\n",
       "    (26, 42, 'genre'),\n",
       "    (50, 58, 'action'),\n",
       "    (50, 56, 'action'),\n",
       "    (23, 25, 'numerical_entity')]}),\n",
       " ('Can you list the best 19 films with George Bassman in the cast?',\n",
       "  {'entities': [(36, 50, 'name'),\n",
       "    (17, 21, 'order'),\n",
       "    (22, 24, 'numerical_entity')]}),\n",
       " ('What are the worst 20 movies starring Denis Poncet',\n",
       "  {'entities': [(38, 50, 'name'),\n",
       "    (13, 18, 'order'),\n",
       "    (19, 21, 'numerical_entity')]}),\n",
       " ('List the movies released in 1918',\n",
       "  {'entities': [(28, 32, 'year'), (16, 23, 'predicate')]}),\n",
       " ('Which movies were directed by Armen Medvedev in 1919?',\n",
       "  {'entities': [(30, 44, 'name'),\n",
       "    (48, 52, 'year'),\n",
       "    (18, 26, 'action'),\n",
       "    (18, 24, 'action')]}),\n",
       " ('What movies were released in 1920?',\n",
       "  {'entities': [(29, 33, 'year'), (17, 24, 'predicate')]}),\n",
       " ('What movies did Georges Dancigers appear in in 1921?',\n",
       "  {'entities': [(16, 33, 'name'), (47, 51, 'year'), (34, 40, 'action')]}),\n",
       " ('List the films featuring William Cagney in 1922',\n",
       "  {'entities': [(25, 39, 'name'), (43, 47, 'year'), (15, 24, 'action')]}),\n",
       " ('Provide the filmography of Static Major in 1923',\n",
       "  {'entities': [(27, 39, 'name'), (43, 47, 'year')]}),\n",
       " ('Which movies starred Gerhard Becker in 1924?',\n",
       "  {'entities': [(21, 35, 'name'), (39, 43, 'year')]}),\n",
       " ('Which roles were played by Kinan Azmeh in 1925?',\n",
       "  {'entities': [(27, 38, 'name'), (42, 46, 'year'), (17, 23, 'action')]}),\n",
       " ('What are the best nine movies Luis Mendo directed?',\n",
       "  {'entities': [(30, 40, 'name'),\n",
       "    (13, 17, 'order'),\n",
       "    (41, 49, 'action'),\n",
       "    (41, 47, 'action'),\n",
       "    (18, 22, 'numerical_entity')]}),\n",
       " ('List the worst ten movies directed by Carole Scotta',\n",
       "  {'entities': [(38, 51, 'name'),\n",
       "    (9, 14, 'order'),\n",
       "    (26, 34, 'action'),\n",
       "    (26, 32, 'action'),\n",
       "    (15, 18, 'numerical_entity')]}),\n",
       " ('What are the best eleven movies Gert Wilden jr. directed?',\n",
       "  {'entities': [(32, 47, 'name'),\n",
       "    (13, 17, 'order'),\n",
       "    (48, 56, 'action'),\n",
       "    (48, 54, 'action'),\n",
       "    (18, 24, 'numerical_entity')]}),\n",
       " ('What are the worst twelve Acid Western movies Michael Minkler directed?',\n",
       "  {'entities': [(46, 61, 'name'),\n",
       "    (13, 18, 'order'),\n",
       "    (26, 38, 'genre'),\n",
       "    (62, 70, 'action'),\n",
       "    (62, 68, 'action'),\n",
       "    (19, 25, 'numerical_entity')]}),\n",
       " ('Which are the best movies where Eduardo Barinaga appeared?',\n",
       "  {'entities': [(32, 48, 'name'), (14, 18, 'order'), (49, 55, 'action')]}),\n",
       " ('Can you name the worst fourteen computer-animated movies directed by Bruno Levy?',\n",
       "  {'entities': [(69, 79, 'name'),\n",
       "    (17, 22, 'order'),\n",
       "    (32, 49, 'genre'),\n",
       "    (57, 65, 'action'),\n",
       "    (57, 63, 'action'),\n",
       "    (23, 31, 'numerical_entity')]}),\n",
       " ('Can you list the best fifteen films with Vadde Ramesh in the cast?',\n",
       "  {'entities': [(41, 53, 'name'),\n",
       "    (17, 21, 'order'),\n",
       "    (22, 29, 'numerical_entity')]}),\n",
       " ('What are the worst sixteen movies starring Qigang Chen',\n",
       "  {'entities': [(43, 54, 'name'),\n",
       "    (13, 18, 'order'),\n",
       "    (19, 26, 'numerical_entity')]}),\n",
       " ('List the movies released in 1934',\n",
       "  {'entities': [(28, 32, 'year'), (16, 23, 'predicate')]}),\n",
       " ('Which movies were directed by Stu Phillips in 1935?',\n",
       "  {'entities': [(30, 42, 'name'),\n",
       "    (46, 50, 'year'),\n",
       "    (18, 26, 'action'),\n",
       "    (18, 24, 'action')]}),\n",
       " ('What movies were released in 1936?',\n",
       "  {'entities': [(29, 33, 'year'), (17, 24, 'predicate')]}),\n",
       " ('What movies did Steve Lynch appear in in 1937?',\n",
       "  {'entities': [(16, 27, 'name'), (41, 45, 'year'), (28, 34, 'action')]}),\n",
       " ('List the films featuring Kit Hain in 1938',\n",
       "  {'entities': [(25, 33, 'name'), (37, 41, 'year'), (15, 24, 'action')]}),\n",
       " ('Provide the filmography of Nicholas Britell in 1939',\n",
       "  {'entities': [(27, 43, 'name'), (47, 51, 'year')]}),\n",
       " ('Which movies starred Jack Livesey in 1940?',\n",
       "  {'entities': [(21, 33, 'name'), (37, 41, 'year')]}),\n",
       " ('Which roles were played by Jonathan Taplin in 1941?',\n",
       "  {'entities': [(27, 42, 'name'), (46, 50, 'year'), (17, 23, 'action')]}),\n",
       " ('What are the best 5 movies Eugen Illin directed?',\n",
       "  {'entities': [(27, 38, 'name'),\n",
       "    (13, 17, 'order'),\n",
       "    (39, 47, 'action'),\n",
       "    (39, 45, 'action'),\n",
       "    (18, 19, 'numerical_entity')]}),\n",
       " ('List the worst 6 movies directed by Greg Kurstin',\n",
       "  {'entities': [(36, 48, 'name'),\n",
       "    (9, 14, 'order'),\n",
       "    (24, 32, 'action'),\n",
       "    (24, 30, 'action'),\n",
       "    (15, 16, 'numerical_entity')]}),\n",
       " ('What are the best 7 movies Florian Volxem directed?',\n",
       "  {'entities': [(27, 41, 'name'),\n",
       "    (13, 17, 'order'),\n",
       "    (42, 50, 'action'),\n",
       "    (42, 48, 'action'),\n",
       "    (18, 19, 'numerical_entity')]}),\n",
       " ('What are the worst 8 psychological novel movies Robert J. Walsh directed?',\n",
       "  {'entities': [(48, 63, 'name'),\n",
       "    (13, 18, 'order'),\n",
       "    (21, 40, 'genre'),\n",
       "    (64, 72, 'action'),\n",
       "    (64, 70, 'action'),\n",
       "    (19, 20, 'numerical_entity')]}),\n",
       " ('Which are the best movies where Niels Gade appeared?',\n",
       "  {'entities': [(32, 42, 'name'), (14, 18, 'order'), (43, 49, 'action')]}),\n",
       " ('Can you name the worst 10 rhythm and blues movies directed by Carlos Fuentes?',\n",
       "  {'entities': [(62, 76, 'name'),\n",
       "    (17, 22, 'order'),\n",
       "    (26, 42, 'genre'),\n",
       "    (50, 58, 'action'),\n",
       "    (50, 56, 'action'),\n",
       "    (23, 25, 'numerical_entity')]}),\n",
       " ('Can you list the best 11 films with Vanraj Bhatia in the cast?',\n",
       "  {'entities': [(36, 49, 'name'),\n",
       "    (17, 21, 'order'),\n",
       "    (22, 24, 'numerical_entity')]}),\n",
       " ('What are the worst 12 movies starring John Dark',\n",
       "  {'entities': [(38, 47, 'name'),\n",
       "    (13, 18, 'order'),\n",
       "    (19, 21, 'numerical_entity')]}),\n",
       " ('List the movies released in 1950',\n",
       "  {'entities': [(28, 32, 'year'), (16, 23, 'predicate')]}),\n",
       " ('Which movies were directed by Daniele Amfitheatrof in 1951?',\n",
       "  {'entities': [(30, 50, 'name'),\n",
       "    (54, 58, 'year'),\n",
       "    (18, 26, 'action'),\n",
       "    (18, 24, 'action')]}),\n",
       " ('What movies were released in 1952?',\n",
       "  {'entities': [(29, 33, 'year'), (17, 24, 'predicate')]}),\n",
       " ('What movies did Gunther Witte appear in in 1953?',\n",
       "  {'entities': [(16, 29, 'name'), (43, 47, 'year'), (30, 36, 'action')]}),\n",
       " ('List the films featuring Gus Viseur in 1954',\n",
       "  {'entities': [(25, 35, 'name'), (39, 43, 'year'), (15, 24, 'action')]}),\n",
       " ('Provide the filmography of Monica C. Lozano in 1955',\n",
       "  {'entities': [(27, 43, 'name'), (47, 51, 'year')]}),\n",
       " ('Which movies starred Ubaldo Continiello in 1956?',\n",
       "  {'entities': [(21, 39, 'name'), (43, 47, 'year')]}),\n",
       " ('Which roles were played by Bonnie Tyler in 1957?',\n",
       "  {'entities': [(27, 39, 'name'), (43, 47, 'year'), (17, 23, 'action')]}),\n",
       " ('What are the best one movies Lele Marchitelli directed?',\n",
       "  {'entities': [(29, 45, 'name'),\n",
       "    (13, 17, 'order'),\n",
       "    (46, 54, 'action'),\n",
       "    (46, 52, 'action'),\n",
       "    (18, 21, 'numerical_entity')]}),\n",
       " ('List the worst two movies directed by Pierre Jansen',\n",
       "  {'entities': [(38, 51, 'name'),\n",
       "    (9, 14, 'order'),\n",
       "    (26, 34, 'action'),\n",
       "    (26, 32, 'action'),\n",
       "    (15, 18, 'numerical_entity')]}),\n",
       " ('What are the best three movies Daniele Patucchi directed?',\n",
       "  {'entities': [(31, 47, 'name'),\n",
       "    (13, 17, 'order'),\n",
       "    (48, 56, 'action'),\n",
       "    (48, 54, 'action'),\n",
       "    (18, 23, 'numerical_entity')]}),\n",
       " ('What are the worst four rock music movies Sergey Melkumov directed?',\n",
       "  {'entities': [(42, 57, 'name'),\n",
       "    (13, 18, 'order'),\n",
       "    (24, 34, 'genre'),\n",
       "    (58, 66, 'action'),\n",
       "    (58, 64, 'action'),\n",
       "    (19, 23, 'numerical_entity')]}),\n",
       " ('Which are the best movies where Alfred Schnittke appeared?',\n",
       "  {'entities': [(32, 48, 'name'), (14, 18, 'order'), (49, 55, 'action')]}),\n",
       " ('Can you name the worst six legal thriller movies directed by Howard Gottfried?',\n",
       "  {'entities': [(61, 77, 'name'),\n",
       "    (17, 22, 'order'),\n",
       "    (27, 41, 'genre'),\n",
       "    (49, 57, 'action'),\n",
       "    (49, 55, 'action'),\n",
       "    (23, 26, 'numerical_entity')]}),\n",
       " ('Can you list the best seven films with Hans Peter Ströer in the cast?',\n",
       "  {'entities': [(39, 56, 'name'),\n",
       "    (17, 21, 'order'),\n",
       "    (22, 27, 'numerical_entity')]}),\n",
       " ('What are the worst eight movies starring Jens Langbein',\n",
       "  {'entities': [(41, 54, 'name'),\n",
       "    (13, 18, 'order'),\n",
       "    (19, 24, 'numerical_entity')]}),\n",
       " ('List the movies released in 1966',\n",
       "  {'entities': [(28, 32, 'year'), (16, 23, 'predicate')]}),\n",
       " ('Which movies were directed by Murray Shostak in 1967?',\n",
       "  {'entities': [(30, 44, 'name'),\n",
       "    (48, 52, 'year'),\n",
       "    (18, 26, 'action'),\n",
       "    (18, 24, 'action')]}),\n",
       " ('What movies were released in 1968?',\n",
       "  {'entities': [(29, 33, 'year'), (17, 24, 'predicate')]}),\n",
       " ('What movies did Harold Rome appear in in 1969?',\n",
       "  {'entities': [(16, 27, 'name'), (41, 45, 'year'), (28, 34, 'action')]}),\n",
       " ('List the films featuring Signe Byrge Sørensen in 1970',\n",
       "  {'entities': [(25, 45, 'name'), (49, 53, 'year'), (15, 24, 'action')]}),\n",
       " ('Provide the filmography of Gabrielle Tana in 1971',\n",
       "  {'entities': [(27, 41, 'name'), (45, 49, 'year')]}),\n",
       " ('Which movies starred Richard Shepherd in 1972?',\n",
       "  {'entities': [(21, 37, 'name'), (41, 45, 'year')]}),\n",
       " ('Which roles were played by Peter Matz in 1973?',\n",
       "  {'entities': [(27, 37, 'name'), (41, 45, 'year'), (17, 23, 'action')]}),\n",
       " ('What are the best seventeen movies Claude Carrère directed?',\n",
       "  {'entities': [(35, 49, 'name'),\n",
       "    (13, 17, 'order'),\n",
       "    (50, 58, 'action'),\n",
       "    (50, 56, 'action'),\n",
       "    (18, 27, 'numerical_entity')]}),\n",
       " ('List the worst eighteen movies directed by Herschel Burke Gilbert',\n",
       "  {'entities': [(43, 65, 'name'),\n",
       "    (9, 14, 'order'),\n",
       "    (31, 39, 'action'),\n",
       "    (31, 37, 'action'),\n",
       "    (15, 23, 'numerical_entity')]}),\n",
       " ('What are the best nineteen movies Leo Erdody directed?',\n",
       "  {'entities': [(34, 44, 'name'),\n",
       "    (13, 17, 'order'),\n",
       "    (45, 53, 'action'),\n",
       "    (45, 51, 'action'),\n",
       "    (18, 26, 'numerical_entity')]}),\n",
       " ('What are the worst twenty crime novel movies Jack J. Gross directed?',\n",
       "  {'entities': [(45, 58, 'name'),\n",
       "    (13, 18, 'order'),\n",
       "    (26, 37, 'genre'),\n",
       "    (59, 67, 'action'),\n",
       "    (59, 65, 'action'),\n",
       "    (19, 25, 'numerical_entity')]}),\n",
       " ('Which are the best movies where Peggi Blu appeared?',\n",
       "  {'entities': [(32, 41, 'name'), (14, 18, 'order'), (42, 48, 'action')]}),\n",
       " ('Can you name the worst 2 locked room mystery movies directed by James B. Donovan?',\n",
       "  {'entities': [(64, 80, 'name'),\n",
       "    (17, 22, 'order'),\n",
       "    (25, 44, 'genre'),\n",
       "    (52, 60, 'action'),\n",
       "    (52, 58, 'action'),\n",
       "    (23, 24, 'numerical_entity')]}),\n",
       " ('Can you list the best 3 films with Gabriel Katzka in the cast?',\n",
       "  {'entities': [(35, 49, 'name'),\n",
       "    (17, 21, 'order'),\n",
       "    (22, 23, 'numerical_entity')]}),\n",
       " ('What are the worst 4 movies starring Hendrik Schwarzer',\n",
       "  {'entities': [(37, 54, 'name'),\n",
       "    (13, 18, 'order'),\n",
       "    (19, 20, 'numerical_entity')]}),\n",
       " ('List the movies released in 1982',\n",
       "  {'entities': [(28, 32, 'year'), (16, 23, 'predicate')]}),\n",
       " ('Which movies were directed by Melissa Marr in 1983?',\n",
       "  {'entities': [(30, 42, 'name'),\n",
       "    (46, 50, 'year'),\n",
       "    (18, 26, 'action'),\n",
       "    (18, 24, 'action')]}),\n",
       " ('What movies were released in 1984?',\n",
       "  {'entities': [(29, 33, 'year'), (17, 24, 'predicate')]}),\n",
       " ('What movies did Marcel Dassault appear in in 1985?',\n",
       "  {'entities': [(16, 31, 'name'), (45, 49, 'year'), (32, 38, 'action')]}),\n",
       " ('List the films featuring Herbert Stothart in 1986',\n",
       "  {'entities': [(25, 41, 'name'), (45, 49, 'year'), (15, 24, 'action')]}),\n",
       " ('Provide the filmography of Cha Seung-jae in 1987',\n",
       "  {'entities': [(27, 40, 'name'), (44, 48, 'year')]}),\n",
       " ('Which movies starred Artie Butler in 1988?',\n",
       "  {'entities': [(21, 33, 'name'), (37, 41, 'year')]}),\n",
       " ('Which roles were played by Allan Zavod in 1989?',\n",
       "  {'entities': [(27, 38, 'name'), (42, 46, 'year'), (17, 23, 'action')]}),\n",
       " ('What are the best 13 movies Michael Riessler directed?',\n",
       "  {'entities': [(28, 44, 'name'),\n",
       "    (13, 17, 'order'),\n",
       "    (45, 53, 'action'),\n",
       "    (45, 51, 'action'),\n",
       "    (18, 20, 'numerical_entity')]}),\n",
       " ('List the worst 14 movies directed by Metinee Kingpayome',\n",
       "  {'entities': [(37, 55, 'name'),\n",
       "    (9, 14, 'order'),\n",
       "    (25, 33, 'action'),\n",
       "    (25, 31, 'action'),\n",
       "    (15, 17, 'numerical_entity')]}),\n",
       " ('What are the best 15 movies Bob Cavallo directed?',\n",
       "  {'entities': [(28, 39, 'name'),\n",
       "    (13, 17, 'order'),\n",
       "    (40, 48, 'action'),\n",
       "    (40, 46, 'action'),\n",
       "    (18, 20, 'numerical_entity')]}),\n",
       " ('What are the worst 16 fantastique movies John McCarthy directed?',\n",
       "  {'entities': [(41, 54, 'name'),\n",
       "    (13, 18, 'order'),\n",
       "    (22, 33, 'genre'),\n",
       "    (55, 63, 'action'),\n",
       "    (55, 61, 'action'),\n",
       "    (19, 21, 'numerical_entity')]}),\n",
       " ('Which are the best movies where Prem Prakash appeared?',\n",
       "  {'entities': [(32, 44, 'name'), (14, 18, 'order'), (45, 51, 'action')]}),\n",
       " ('Can you name the worst 18 noir fiction movies directed by Owen Pallett?',\n",
       "  {'entities': [(58, 70, 'name'),\n",
       "    (17, 22, 'order'),\n",
       "    (26, 38, 'genre'),\n",
       "    (46, 54, 'action'),\n",
       "    (46, 52, 'action'),\n",
       "    (23, 25, 'numerical_entity')]}),\n",
       " ('Can you list the best 19 films with Julian Wass in the cast?',\n",
       "  {'entities': [(36, 47, 'name'),\n",
       "    (17, 21, 'order'),\n",
       "    (22, 24, 'numerical_entity')]}),\n",
       " ('What are the worst 20 movies starring Arnold Stiefel',\n",
       "  {'entities': [(38, 52, 'name'),\n",
       "    (13, 18, 'order'),\n",
       "    (19, 21, 'numerical_entity')]}),\n",
       " ('List the movies released in 1998',\n",
       "  {'entities': [(28, 32, 'year'), (16, 23, 'predicate')]}),\n",
       " ('Which movies were directed by Carlo Tuzii in 1999?',\n",
       "  {'entities': [(30, 41, 'name'),\n",
       "    (45, 49, 'year'),\n",
       "    (18, 26, 'action'),\n",
       "    (18, 24, 'action')]}),\n",
       " ('What movies were released in 2000?',\n",
       "  {'entities': [(29, 33, 'year'), (17, 24, 'predicate')]}),\n",
       " ('What movies did Lee Seung-jae appear in in 2001?',\n",
       "  {'entities': [(16, 29, 'name'), (43, 47, 'year'), (30, 36, 'action')]}),\n",
       " ('List the films featuring Riccardo Del Fra in 2002',\n",
       "  {'entities': [(25, 41, 'name'), (45, 49, 'year'), (15, 24, 'action')]}),\n",
       " ('Provide the filmography of Alicia Remirez in 2003',\n",
       "  {'entities': [(27, 41, 'name'), (45, 49, 'year')]}),\n",
       " ('Which movies starred Aleksandr Litvinov in 2004?',\n",
       "  {'entities': [(21, 39, 'name'), (43, 47, 'year')]}),\n",
       " ('Which roles were played by Knut Schreiner in 2005?',\n",
       "  {'entities': [(27, 41, 'name'), (45, 49, 'year'), (17, 23, 'action')]}),\n",
       " ('What are the best nine movies Alexander Borodin directed?',\n",
       "  {'entities': [(30, 47, 'name'),\n",
       "    (13, 17, 'order'),\n",
       "    (48, 56, 'action'),\n",
       "    (48, 54, 'action'),\n",
       "    (18, 22, 'numerical_entity')]}),\n",
       " ('List the worst ten movies directed by Georgy Malkov',\n",
       "  {'entities': [(38, 51, 'name'),\n",
       "    (9, 14, 'order'),\n",
       "    (26, 34, 'action'),\n",
       "    (26, 32, 'action'),\n",
       "    (15, 18, 'numerical_entity')]}),\n",
       " ('What are the best eleven movies Vladimir Osinsky directed?',\n",
       "  {'entities': [(32, 48, 'name'),\n",
       "    (13, 17, 'order'),\n",
       "    (49, 57, 'action'),\n",
       "    (49, 55, 'action'),\n",
       "    (18, 24, 'numerical_entity')]}),\n",
       " ('What are the worst twelve alternative rock movies Masha Slonim directed?',\n",
       "  {'entities': [(50, 62, 'name'),\n",
       "    (13, 18, 'order'),\n",
       "    (26, 42, 'genre'),\n",
       "    (63, 71, 'action'),\n",
       "    (63, 69, 'action'),\n",
       "    (19, 25, 'numerical_entity')]}),\n",
       " ('Which are the best movies where Arturo Paglia appeared?',\n",
       "  {'entities': [(32, 45, 'name'), (14, 18, 'order'), (46, 52, 'action')]}),\n",
       " ('Can you name the worst fourteen Space Western movies directed by Charles Court?',\n",
       "  {'entities': [(65, 78, 'name'),\n",
       "    (17, 22, 'order'),\n",
       "    (32, 45, 'genre'),\n",
       "    (53, 61, 'action'),\n",
       "    (53, 59, 'action'),\n",
       "    (23, 31, 'numerical_entity')]}),\n",
       " ('Can you list the best fifteen films with Giampaolo Letta in the cast?',\n",
       "  {'entities': [(41, 56, 'name'),\n",
       "    (17, 21, 'order'),\n",
       "    (22, 29, 'numerical_entity')]}),\n",
       " ('What are the worst sixteen movies starring Frank Skinner',\n",
       "  {'entities': [(43, 56, 'name'),\n",
       "    (13, 18, 'order'),\n",
       "    (19, 26, 'numerical_entity')]}),\n",
       " ('List the movies released in 2014',\n",
       "  {'entities': [(28, 32, 'year'), (16, 23, 'predicate')]}),\n",
       " ('Which movies were directed by Javier Ibarretxe in 2015?',\n",
       "  {'entities': [(30, 46, 'name'),\n",
       "    (50, 54, 'year'),\n",
       "    (18, 26, 'action'),\n",
       "    (18, 24, 'action')]}),\n",
       " ('What movies were released in 2016?',\n",
       "  {'entities': [(29, 33, 'year'), (17, 24, 'predicate')]}),\n",
       " ('What movies did Michelle appear in in 2017?',\n",
       "  {'entities': [(16, 24, 'name'), (38, 42, 'year'), (25, 31, 'action')]}),\n",
       " ('List the films featuring Sonia Raule in 2018',\n",
       "  {'entities': [(25, 36, 'name'), (40, 44, 'year'), (15, 24, 'action')]}),\n",
       " ('Provide the filmography of Ingo Ludwig Frenzel in 2019',\n",
       "  {'entities': [(27, 46, 'name'), (50, 54, 'year')]}),\n",
       " ('Which movies starred Andrey Zuyev in 2020?',\n",
       "  {'entities': [(21, 33, 'name'), (37, 41, 'year')]}),\n",
       " ('Which roles were played by Piero Piccioni in 2021?',\n",
       "  {'entities': [(27, 41, 'name'), (45, 49, 'year'), (17, 23, 'action')]}),\n",
       " ('What are the best 5 movies Mowg directed?',\n",
       "  {'entities': [(27, 31, 'name'),\n",
       "    (13, 17, 'order'),\n",
       "    (32, 40, 'action'),\n",
       "    (32, 38, 'action'),\n",
       "    (18, 19, 'numerical_entity')]}),\n",
       " ('List the worst 6 movies directed by Bonar Law',\n",
       "  {'entities': [(36, 45, 'name'),\n",
       "    (9, 14, 'order'),\n",
       "    (24, 32, 'action'),\n",
       "    (24, 30, 'action'),\n",
       "    (15, 16, 'numerical_entity')]}),\n",
       " ('What are the best 7 movies Darya Khlyostkina directed?',\n",
       "  {'entities': [(27, 44, 'name'),\n",
       "    (13, 17, 'order'),\n",
       "    (45, 53, 'action'),\n",
       "    (45, 51, 'action'),\n",
       "    (18, 19, 'numerical_entity')]}),\n",
       " ('What are the worst 8 documentary movies Steve Boeddeker directed?',\n",
       "  {'entities': [(40, 55, 'name'),\n",
       "    (13, 18, 'order'),\n",
       "    (21, 32, 'genre'),\n",
       "    (56, 64, 'action'),\n",
       "    (56, 62, 'action'),\n",
       "    (19, 20, 'numerical_entity')]}),\n",
       " ('Which are the best movies where Johnny Jewel appeared?',\n",
       "  {'entities': [(32, 44, 'name'), (14, 18, 'order'), (45, 51, 'action')]}),\n",
       " ('Can you name the worst 10 historical movies directed by Pascaline Edwards?',\n",
       "  {'entities': [(56, 73, 'name'),\n",
       "    (17, 22, 'order'),\n",
       "    (26, 36, 'genre'),\n",
       "    (44, 52, 'action'),\n",
       "    (44, 50, 'action'),\n",
       "    (23, 25, 'numerical_entity')]}),\n",
       " ('Can you list the best 11 films with Milton Ager in the cast?',\n",
       "  {'entities': [(36, 47, 'name'),\n",
       "    (17, 21, 'order'),\n",
       "    (22, 24, 'numerical_entity')]}),\n",
       " ('What are the worst 12 movies starring Ivan Vandor',\n",
       "  {'entities': [(38, 49, 'name'),\n",
       "    (13, 18, 'order'),\n",
       "    (19, 21, 'numerical_entity')]}),\n",
       " ('List the movies released in 1683',\n",
       "  {'entities': [(28, 32, 'year'), (16, 23, 'predicate')]}),\n",
       " ('Which movies were directed by James V. Monaco in 1684?',\n",
       "  {'entities': [(30, 45, 'name'),\n",
       "    (49, 53, 'year'),\n",
       "    (18, 26, 'action'),\n",
       "    (18, 24, 'action')]}),\n",
       " ('What movies were released in 1685?',\n",
       "  {'entities': [(29, 33, 'year'), (17, 24, 'predicate')]}),\n",
       " ('What movies did Jana Sue Memel appear in in 1686?',\n",
       "  {'entities': [(16, 30, 'name'), (44, 48, 'year'), (31, 37, 'action')]}),\n",
       " ('List the films featuring Jean-Jacques Grunenwald in 1687',\n",
       "  {'entities': [(25, 48, 'name'), (52, 56, 'year'), (15, 24, 'action')]}),\n",
       " ('Provide the filmography of Jean Corti in 1688',\n",
       "  {'entities': [(27, 37, 'name'), (41, 45, 'year')]}),\n",
       " ('Which movies starred Alison Goldfrapp in 1689?',\n",
       "  {'entities': [(21, 37, 'name'), (41, 45, 'year')]}),\n",
       " ('Which roles were played by Ulrich Sinn in 1690?',\n",
       "  {'entities': [(27, 38, 'name'), (42, 46, 'year'), (17, 23, 'action')]}),\n",
       " ('What are the best one movies Joby Talbot directed?',\n",
       "  {'entities': [(29, 40, 'name'),\n",
       "    (13, 17, 'order'),\n",
       "    (41, 49, 'action'),\n",
       "    (41, 47, 'action'),\n",
       "    (18, 21, 'numerical_entity')]}),\n",
       " ('List the worst two movies directed by Jochen Laube',\n",
       "  {'entities': [(38, 50, 'name'),\n",
       "    (9, 14, 'order'),\n",
       "    (26, 34, 'action'),\n",
       "    (26, 32, 'action'),\n",
       "    (15, 18, 'numerical_entity')]}),\n",
       " ('What are the best three movies Joel Hirschhorn directed?',\n",
       "  {'entities': [(31, 46, 'name'),\n",
       "    (13, 17, 'order'),\n",
       "    (47, 55, 'action'),\n",
       "    (47, 53, 'action'),\n",
       "    (18, 23, 'numerical_entity')]}),\n",
       " ('What are the worst four Christmas movies Walter Donaldson directed?',\n",
       "  {'entities': [(41, 57, 'name'),\n",
       "    (13, 18, 'order'),\n",
       "    (24, 33, 'genre'),\n",
       "    (58, 66, 'action'),\n",
       "    (58, 64, 'action'),\n",
       "    (19, 23, 'numerical_entity')]}),\n",
       " ('Which are the best movies where Doug Mitchell appeared?',\n",
       "  {'entities': [(32, 45, 'name'), (14, 18, 'order'), (46, 52, 'action')]}),\n",
       " (\"Can you name the worst six children's movies directed by John Rea?\",\n",
       "  {'entities': [(57, 65, 'name'),\n",
       "    (17, 22, 'order'),\n",
       "    (27, 37, 'genre'),\n",
       "    (45, 53, 'action'),\n",
       "    (45, 51, 'action'),\n",
       "    (23, 26, 'numerical_entity')]}),\n",
       " ('Can you list the best seven films with Vincenzo Bellini in the cast?',\n",
       "  {'entities': [(39, 55, 'name'),\n",
       "    (17, 21, 'order'),\n",
       "    (22, 27, 'numerical_entity')]}),\n",
       " ('What are the worst eight movies starring Joja Wendt',\n",
       "  {'entities': [(41, 51, 'name'),\n",
       "    (13, 18, 'order'),\n",
       "    (19, 24, 'numerical_entity')]}),\n",
       " ('List the movies released in 1699',\n",
       "  {'entities': [(28, 32, 'year'), (16, 23, 'predicate')]}),\n",
       " ('Which movies were directed by Luciano in 1700?',\n",
       "  {'entities': [(30, 37, 'name'),\n",
       "    (41, 45, 'year'),\n",
       "    (18, 26, 'action'),\n",
       "    (18, 24, 'action')]}),\n",
       " ('What movies were released in 1701?',\n",
       "  {'entities': [(29, 33, 'year'), (17, 24, 'predicate')]}),\n",
       " ('What movies did Joseph E. Gershenson appear in in 1702?',\n",
       "  {'entities': [(16, 36, 'name'), (50, 54, 'year'), (37, 43, 'action')]}),\n",
       " ('List the films featuring Josh Homme in 1703',\n",
       "  {'entities': [(25, 35, 'name'), (39, 43, 'year'), (15, 24, 'action')]}),\n",
       " ('Provide the filmography of José Nieto in 1704',\n",
       "  {'entities': [(27, 37, 'name'), (41, 45, 'year')]}),\n",
       " ('Which movies starred Julian Blaustein in 1705?',\n",
       "  {'entities': [(21, 37, 'name'), (41, 45, 'year')]}),\n",
       " ('Which roles were played by Julian Maas in 1706?',\n",
       "  {'entities': [(27, 38, 'name'), (42, 46, 'year'), (17, 23, 'action')]}),\n",
       " ('What are the best seventeen movies Yuri Khanon directed?',\n",
       "  {'entities': [(35, 46, 'name'),\n",
       "    (13, 17, 'order'),\n",
       "    (47, 55, 'action'),\n",
       "    (47, 53, 'action'),\n",
       "    (18, 27, 'numerical_entity')]}),\n",
       " ('List the worst eighteen movies directed by Vasco Rossi',\n",
       "  {'entities': [(43, 54, 'name'),\n",
       "    (9, 14, 'order'),\n",
       "    (31, 39, 'action'),\n",
       "    (31, 37, 'action'),\n",
       "    (15, 23, 'numerical_entity')]}),\n",
       " ('What are the best nineteen movies Kazimierz Serocki directed?',\n",
       "  {'entities': [(34, 51, 'name'),\n",
       "    (13, 17, 'order'),\n",
       "    (52, 60, 'action'),\n",
       "    (52, 58, 'action'),\n",
       "    (18, 26, 'numerical_entity')]}),\n",
       " ('What are the worst twenty buddy cop movies Kadir Sözen directed?',\n",
       "  {'entities': [(43, 54, 'name'),\n",
       "    (13, 18, 'order'),\n",
       "    (26, 35, 'genre'),\n",
       "    (55, 63, 'action'),\n",
       "    (55, 61, 'action'),\n",
       "    (19, 25, 'numerical_entity')]}),\n",
       " ('Which are the best movies where Amy Lee appeared?',\n",
       "  {'entities': [(32, 39, 'name'), (14, 18, 'order'), (40, 46, 'action')]}),\n",
       " ('Can you name the worst 2 police movies directed by Karel Dirka?',\n",
       "  {'entities': [(51, 62, 'name'),\n",
       "    (17, 22, 'order'),\n",
       "    (25, 31, 'genre'),\n",
       "    (39, 47, 'action'),\n",
       "    (39, 45, 'action'),\n",
       "    (23, 24, 'numerical_entity')]}),\n",
       " ('Can you list the best 3 films with Jacques Maumont in the cast?',\n",
       "  {'entities': [(35, 50, 'name'),\n",
       "    (17, 21, 'order'),\n",
       "    (22, 23, 'numerical_entity')]}),\n",
       " ('What are the worst 4 movies starring Thomas Konrad',\n",
       "  {'entities': [(37, 50, 'name'),\n",
       "    (13, 18, 'order'),\n",
       "    (19, 20, 'numerical_entity')]}),\n",
       " ('List the movies released in 1715',\n",
       "  {'entities': [(28, 32, 'year'), (16, 23, 'predicate')]}),\n",
       " ('Which movies were directed by Turi Vasile in 1716?',\n",
       "  {'entities': [(30, 41, 'name'),\n",
       "    (45, 49, 'year'),\n",
       "    (18, 26, 'action'),\n",
       "    (18, 24, 'action')]}),\n",
       " ('What movies were released in 1717?',\n",
       "  {'entities': [(29, 33, 'year'), (17, 24, 'predicate')]}),\n",
       " ('What movies did David Darling appear in in 1718?',\n",
       "  {'entities': [(16, 29, 'name'), (43, 47, 'year'), (30, 36, 'action')]}),\n",
       " ('List the films featuring Louis Forbes in 1719',\n",
       "  {'entities': [(25, 37, 'name'), (41, 45, 'year'), (15, 24, 'action')]}),\n",
       " ('Provide the filmography of Timo Müller in 1720',\n",
       "  {'entities': [(27, 38, 'name'), (42, 46, 'year')]}),\n",
       " ('Which movies starred William Jacobs in 1721?',\n",
       "  {'entities': [(21, 35, 'name'), (39, 43, 'year')]}),\n",
       " ('Which roles were played by Pierre Latour in 1722?',\n",
       "  {'entities': [(27, 40, 'name'), (44, 48, 'year'), (17, 23, 'action')]}),\n",
       " ('What are the best 13 movies Ed Côrtes directed?',\n",
       "  {'entities': [(28, 37, 'name'),\n",
       "    (13, 17, 'order'),\n",
       "    (38, 46, 'action'),\n",
       "    (38, 44, 'action'),\n",
       "    (18, 20, 'numerical_entity')]}),\n",
       " ('List the worst 14 movies directed by Maurice Le Roux',\n",
       "  {'entities': [(37, 52, 'name'),\n",
       "    (9, 14, 'order'),\n",
       "    (25, 33, 'action'),\n",
       "    (25, 31, 'action'),\n",
       "    (15, 17, 'numerical_entity')]}),\n",
       " ('What are the best 15 movies Francisco Augusto Neto Ramos directed?',\n",
       "  {'entities': [(28, 56, 'name'),\n",
       "    (13, 17, 'order'),\n",
       "    (57, 65, 'action'),\n",
       "    (57, 63, 'action'),\n",
       "    (18, 20, 'numerical_entity')]}),\n",
       " ('What are the worst 16 dystopian movies Alex Heffes directed?',\n",
       "  {'entities': [(39, 50, 'name'),\n",
       "    (13, 18, 'order'),\n",
       "    (22, 31, 'genre'),\n",
       "    (51, 59, 'action'),\n",
       "    (51, 57, 'action'),\n",
       "    (19, 21, 'numerical_entity')]}),\n",
       " ('Which are the best movies where Andreas Schneppe appeared?',\n",
       "  {'entities': [(32, 48, 'name'), (14, 18, 'order'), (49, 55, 'action')]}),\n",
       " ('Can you name the worst 18 speculative fiction movies directed by Hanna Elffors Elfström?',\n",
       "  {'entities': [(65, 87, 'name'),\n",
       "    (17, 22, 'order'),\n",
       "    (26, 45, 'genre'),\n",
       "    (53, 61, 'action'),\n",
       "    (53, 59, 'action'),\n",
       "    (23, 25, 'numerical_entity')]}),\n",
       " ('Can you list the best 19 films with Eicca Toppinen in the cast?',\n",
       "  {'entities': [(36, 50, 'name'),\n",
       "    (17, 21, 'order'),\n",
       "    (22, 24, 'numerical_entity')]}),\n",
       " ('What are the worst 20 movies starring Kurt Stocker',\n",
       "  {'entities': [(38, 50, 'name'),\n",
       "    (13, 18, 'order'),\n",
       "    (19, 21, 'numerical_entity')]}),\n",
       " ('List the movies released in 1731',\n",
       "  {'entities': [(28, 32, 'year'), (16, 23, 'predicate')]}),\n",
       " ('Which movies were directed by Edward Elgar in 1732?',\n",
       "  {'entities': [(30, 42, 'name'),\n",
       "    (46, 50, 'year'),\n",
       "    (18, 26, 'action'),\n",
       "    (18, 24, 'action')]}),\n",
       " ('What movies were released in 1733?',\n",
       "  {'entities': [(29, 33, 'year'), (17, 24, 'predicate')]}),\n",
       " ('What movies did Larry Goldings appear in in 1734?',\n",
       "  {'entities': [(16, 30, 'name'), (44, 48, 'year'), (31, 37, 'action')]}),\n",
       " ('List the films featuring Philip Stegers in 1735',\n",
       "  {'entities': [(25, 39, 'name'), (43, 47, 'year'), (15, 24, 'action')]}),\n",
       " ('Provide the filmography of Jim Williams in 1736',\n",
       "  {'entities': [(27, 39, 'name'), (43, 47, 'year')]}),\n",
       " ('Which movies starred Rudolf Abel in 1737?',\n",
       "  {'entities': [(21, 32, 'name'), (36, 40, 'year')]}),\n",
       " ('Which roles were played by An Pierlé in 1738?',\n",
       "  {'entities': [(27, 36, 'name'), (40, 44, 'year'), (17, 23, 'action')]}),\n",
       " ('What are the best nine movies Igor Mishin directed?',\n",
       "  {'entities': [(30, 41, 'name'),\n",
       "    (13, 17, 'order'),\n",
       "    (42, 50, 'action'),\n",
       "    (42, 48, 'action'),\n",
       "    (18, 22, 'numerical_entity')]}),\n",
       " ('List the worst ten movies directed by Lennie Niehaus',\n",
       "  {'entities': [(38, 52, 'name'),\n",
       "    (9, 14, 'order'),\n",
       "    (26, 34, 'action'),\n",
       "    (26, 32, 'action'),\n",
       "    (15, 18, 'numerical_entity')]}),\n",
       " ('What are the best eleven movies Lenny White directed?',\n",
       "  {'entities': [(32, 43, 'name'),\n",
       "    (13, 17, 'order'),\n",
       "    (44, 52, 'action'),\n",
       "    (44, 50, 'action'),\n",
       "    (18, 24, 'numerical_entity')]}),\n",
       " ('What are the worst twelve action thriller movies Leo F. Forbstein directed?',\n",
       "  {'entities': [(49, 65, 'name'),\n",
       "    (13, 18, 'order'),\n",
       "    (26, 41, 'genre'),\n",
       "    (66, 74, 'action'),\n",
       "    (66, 72, 'action'),\n",
       "    (19, 25, 'numerical_entity')]}),\n",
       " ('Which are the best movies where Leo Shuken appeared?',\n",
       "  {'entities': [(32, 42, 'name'), (14, 18, 'order'), (43, 49, 'action')]}),\n",
       " ('Can you name the worst fourteen female buddy movies directed by Pietro Mascagni?',\n",
       "  {'entities': [(64, 79, 'name'),\n",
       "    (17, 22, 'order'),\n",
       "    (32, 44, 'genre'),\n",
       "    (52, 60, 'action'),\n",
       "    (52, 58, 'action'),\n",
       "    (23, 31, 'numerical_entity')]}),\n",
       " ('Can you list the best fifteen films with Leonid Rozhetskin in the cast?',\n",
       "  {'entities': [(41, 58, 'name'),\n",
       "    (17, 21, 'order'),\n",
       "    (22, 29, 'numerical_entity')]}),\n",
       " ('What are the worst sixteen movies starring Henryk Chroscicki',\n",
       "  {'entities': [(43, 60, 'name'),\n",
       "    (13, 18, 'order'),\n",
       "    (19, 26, 'numerical_entity')]}),\n",
       " ('List the movies released in 1747',\n",
       "  {'entities': [(28, 32, 'year'), (16, 23, 'predicate')]}),\n",
       " ('Which movies were directed by Vasily Zaytsev in 1748?',\n",
       "  {'entities': [(30, 44, 'name'),\n",
       "    (48, 52, 'year'),\n",
       "    (18, 26, 'action'),\n",
       "    (18, 24, 'action')]}),\n",
       " ('What movies were released in 1749?',\n",
       "  {'entities': [(29, 33, 'year'), (17, 24, 'predicate')]}),\n",
       " ('What movies did Samuele Bersani appear in in 1750?',\n",
       "  {'entities': [(16, 31, 'name'), (45, 49, 'year'), (32, 38, 'action')]}),\n",
       " ('List the films featuring Leoš Janáček in 1751',\n",
       "  {'entities': [(25, 37, 'name'), (41, 45, 'year'), (15, 24, 'action')]}),\n",
       " ('Provide the filmography of David Choi in 1752',\n",
       "  {'entities': [(27, 37, 'name'), (41, 45, 'year')]}),\n",
       " ('Which movies starred Alexander Scriabin in 1753?',\n",
       "  {'entities': [(21, 39, 'name'), (43, 47, 'year')]}),\n",
       " ('Which roles were played by Carrie Wong in 1754?',\n",
       "  {'entities': [(27, 38, 'name'), (42, 46, 'year'), (17, 23, 'action')]}),\n",
       " ('What are the best 5 movies Loek Dikker directed?',\n",
       "  {'entities': [(27, 38, 'name'),\n",
       "    (13, 17, 'order'),\n",
       "    (39, 47, 'action'),\n",
       "    (39, 45, 'action'),\n",
       "    (18, 19, 'numerical_entity')]}),\n",
       " ('List the worst 6 movies directed by Bolanle Austen-Peters',\n",
       "  {'entities': [(36, 57, 'name'),\n",
       "    (9, 14, 'order'),\n",
       "    (24, 32, 'action'),\n",
       "    (24, 30, 'action'),\n",
       "    (15, 16, 'numerical_entity')]}),\n",
       " ('What are the best 7 movies Erik Satie directed?',\n",
       "  {'entities': [(27, 37, 'name'),\n",
       "    (13, 17, 'order'),\n",
       "    (38, 46, 'action'),\n",
       "    (38, 44, 'action'),\n",
       "    (18, 19, 'numerical_entity')]}),\n",
       " ('What are the worst 8 samurai cinema movies Richard Portman directed?',\n",
       "  {'entities': [(43, 58, 'name'),\n",
       "    (13, 18, 'order'),\n",
       "    (21, 35, 'genre'),\n",
       "    (59, 67, 'action'),\n",
       "    (59, 65, 'action'),\n",
       "    (19, 20, 'numerical_entity')]}),\n",
       " ('Which are the best movies where Lusine appeared?',\n",
       "  {'entities': [(32, 38, 'name'), (14, 18, 'order'), (39, 45, 'action')]}),\n",
       " ('Can you name the worst 10 vampire movies directed by Lydie Auvray?',\n",
       "  {'entities': [(53, 65, 'name'),\n",
       "    (17, 22, 'order'),\n",
       "    (26, 33, 'genre'),\n",
       "    (41, 49, 'action'),\n",
       "    (41, 47, 'action'),\n",
       "    (23, 25, 'numerical_entity')]}),\n",
       " ('Can you list the best 11 films with David Hentschel in the cast?',\n",
       "  {'entities': [(36, 51, 'name'),\n",
       "    (17, 21, 'order'),\n",
       "    (22, 24, 'numerical_entity')]}),\n",
       " ('What are the worst 12 movies starring Yoann Lemoine',\n",
       "  {'entities': [(38, 51, 'name'),\n",
       "    (13, 18, 'order'),\n",
       "    (19, 21, 'numerical_entity')]}),\n",
       " ('List the movies released in 1763',\n",
       "  {'entities': [(28, 32, 'year'), (16, 23, 'predicate')]}),\n",
       " ('Which movies were directed by Marlin Skiles in 1764?',\n",
       "  {'entities': [(30, 43, 'name'),\n",
       "    (47, 51, 'year'),\n",
       "    (18, 26, 'action'),\n",
       "    (18, 24, 'action')]}),\n",
       " ('What movies were released in 1765?',\n",
       "  {'entities': [(29, 33, 'year'), (17, 24, 'predicate')]}),\n",
       " ('What movies did Martin Stock appear in in 1766?',\n",
       "  {'entities': [(16, 28, 'name'), (42, 46, 'year'), (29, 35, 'action')]}),\n",
       " ('List the films featuring Marvin Hatley in 1767',\n",
       "  {'entities': [(25, 38, 'name'), (42, 46, 'year'), (15, 24, 'action')]}),\n",
       " ('Provide the filmography of Mary Selway in 1768',\n",
       "  {'entities': [(27, 38, 'name'), (42, 46, 'year')]}),\n",
       " ('Which movies starred Matt Cohen in 1769?',\n",
       "  {'entities': [(21, 31, 'name'), (35, 39, 'year')]}),\n",
       " ('Which roles were played by Matt Johnson in 1770?',\n",
       "  {'entities': [(27, 39, 'name'), (43, 47, 'year'), (17, 23, 'action')]}),\n",
       " ('What are the best one movies Maurice Yvain directed?',\n",
       "  {'entities': [(29, 42, 'name'),\n",
       "    (13, 17, 'order'),\n",
       "    (43, 51, 'action'),\n",
       "    (43, 49, 'action'),\n",
       "    (18, 21, 'numerical_entity')]}),\n",
       " ('List the worst two movies directed by Francis Poulenc',\n",
       "  {'entities': [(38, 53, 'name'),\n",
       "    (9, 14, 'order'),\n",
       "    (26, 34, 'action'),\n",
       "    (26, 32, 'action'),\n",
       "    (15, 18, 'numerical_entity')]}),\n",
       " ('What are the best three movies Alex Gottlieb directed?',\n",
       "  {'entities': [(31, 44, 'name'),\n",
       "    (13, 17, 'order'),\n",
       "    (45, 53, 'action'),\n",
       "    (45, 51, 'action'),\n",
       "    (18, 23, 'numerical_entity')]}),\n",
       " ('What are the worst four epic movies Lothar Perl directed?',\n",
       "  {'entities': [(36, 47, 'name'),\n",
       "    (13, 18, 'order'),\n",
       "    (24, 28, 'genre'),\n",
       "    (48, 56, 'action'),\n",
       "    (48, 54, 'action'),\n",
       "    (19, 23, 'numerical_entity')]}),\n",
       " ('Which are the best movies where Marta Esteban i Roca appeared?',\n",
       "  {'entities': [(32, 52, 'name'), (14, 18, 'order'), (53, 59, 'action')]}),\n",
       " ('Can you name the worst six crime-comedy movies directed by Michał Lorenc?',\n",
       "  {'entities': [(59, 72, 'name'),\n",
       "    (17, 22, 'order'),\n",
       "    (27, 39, 'genre'),\n",
       "    (47, 55, 'action'),\n",
       "    (47, 53, 'action'),\n",
       "    (23, 26, 'numerical_entity')]}),\n",
       " ('Can you list the best seven films with Michel Michelet in the cast?',\n",
       "  {'entities': [(39, 54, 'name'),\n",
       "    (17, 21, 'order'),\n",
       "    (22, 27, 'numerical_entity')]}),\n",
       " ('What are the worst eight movies starring O.S.T.R.',\n",
       "  {'entities': [(41, 49, 'name'),\n",
       "    (13, 18, 'order'),\n",
       "    (19, 24, 'numerical_entity')]}),\n",
       " ('List the movies released in 1779',\n",
       "  {'entities': [(28, 32, 'year'), (16, 23, 'predicate')]}),\n",
       " ('Which movies were directed by Manuel de Falla in 1780?',\n",
       "  {'entities': [(30, 45, 'name'),\n",
       "    (49, 53, 'year'),\n",
       "    (18, 26, 'action'),\n",
       "    (18, 24, 'action')]}),\n",
       " ('What movies were released in 1781?',\n",
       "  {'entities': [(29, 33, 'year'), (17, 24, 'predicate')]}),\n",
       " ('What movies did RJD2 appear in in 1782?',\n",
       "  {'entities': [(16, 20, 'name'), (34, 38, 'year'), (21, 27, 'action')]}),\n",
       " ('List the films featuring Alexander Knaifel in 1783',\n",
       "  {'entities': [(25, 42, 'name'), (46, 50, 'year'), (15, 24, 'action')]}),\n",
       " ('Provide the filmography of Richard B. Goodwin in 1784',\n",
       "  {'entities': [(27, 45, 'name'), (49, 53, 'year')]}),\n",
       " ('Which movies starred John Lesher in 1785?',\n",
       "  {'entities': [(21, 32, 'name'), (36, 40, 'year')]}),\n",
       " ('Which roles were played by Mino Cinelu in 1786?',\n",
       "  {'entities': [(27, 38, 'name'), (42, 46, 'year'), (17, 23, 'action')]}),\n",
       " ('What are the best seventeen movies Ola Fløttum directed?',\n",
       "  {'entities': [(35, 46, 'name'),\n",
       "    (13, 17, 'order'),\n",
       "    (47, 55, 'action'),\n",
       "    (47, 53, 'action'),\n",
       "    (18, 27, 'numerical_entity')]}),\n",
       " ('List the worst eighteen movies directed by Miroslav Tadić',\n",
       "  {'entities': [(43, 57, 'name'),\n",
       "    (9, 14, 'order'),\n",
       "    (31, 39, 'action'),\n",
       "    (31, 37, 'action'),\n",
       "    (15, 23, 'numerical_entity')]}),\n",
       " ('What are the best nineteen movies Mitch Leigh directed?',\n",
       "  {'entities': [(34, 45, 'name'),\n",
       "    (13, 17, 'order'),\n",
       "    (46, 54, 'action'),\n",
       "    (46, 52, 'action'),\n",
       "    (18, 26, 'numerical_entity')]}),\n",
       " ('What are the worst twenty screwball comedy movies Franco Rossellini directed?',\n",
       "  {'entities': [(50, 67, 'name'),\n",
       "    (13, 18, 'order'),\n",
       "    (26, 42, 'genre'),\n",
       "    (68, 76, 'action'),\n",
       "    (68, 74, 'action'),\n",
       "    (19, 25, 'numerical_entity')]}),\n",
       " ('Which are the best movies where Mondkopf appeared?',\n",
       "  {'entities': [(32, 40, 'name'), (14, 18, 'order'), (41, 47, 'action')]}),\n",
       " ('Can you name the worst 2 cyberpunk movies directed by Walter Cikan?',\n",
       "  {'entities': [(54, 66, 'name'),\n",
       "    (17, 22, 'order'),\n",
       "    (25, 34, 'genre'),\n",
       "    (42, 50, 'action'),\n",
       "    (42, 48, 'action'),\n",
       "    (23, 24, 'numerical_entity')]}),\n",
       " ('Can you list the best 3 films with Nora Grossman in the cast?',\n",
       "  {'entities': [(35, 48, 'name'),\n",
       "    (17, 21, 'order'),\n",
       "    (22, 23, 'numerical_entity')]}),\n",
       " ('What are the worst 4 movies starring Alexey Rybnikov',\n",
       "  {'entities': [(37, 52, 'name'),\n",
       "    (13, 18, 'order'),\n",
       "    (19, 20, 'numerical_entity')]}),\n",
       " ('List the movies released in 1795',\n",
       "  {'entities': [(28, 32, 'year'), (16, 23, 'predicate')]}),\n",
       " ('Which movies were directed by Adriano Cominotto in 1796?',\n",
       "  {'entities': [(30, 47, 'name'),\n",
       "    (51, 55, 'year'),\n",
       "    (18, 26, 'action'),\n",
       "    (18, 24, 'action')]}),\n",
       " ('What movies were released in 1797?',\n",
       "  {'entities': [(29, 33, 'year'), (17, 24, 'predicate')]}),\n",
       " ('What movies did Nathan Wang appear in in 1798?',\n",
       "  {'entities': [(16, 27, 'name'), (41, 45, 'year'), (28, 34, 'action')]}),\n",
       " ('List the films featuring Ralph Burns in 1799',\n",
       "  {'entities': [(25, 36, 'name'), (40, 44, 'year'), (15, 24, 'action')]}),\n",
       " ('Provide the filmography of Vladimir Dashkevich in 1800',\n",
       "  {'entities': [(27, 46, 'name'), (50, 54, 'year')]}),\n",
       " ('Which movies starred Otomo Yoshihide in 1801?',\n",
       "  {'entities': [(21, 36, 'name'), (40, 44, 'year')]}),\n",
       " ('Which roles were played by Cyrille Aufort in 1802?',\n",
       "  {'entities': [(27, 41, 'name'), (45, 49, 'year'), (17, 23, 'action')]}),\n",
       " ('What are the best 13 movies Ned Washington directed?',\n",
       "  {'entities': [(28, 42, 'name'),\n",
       "    (13, 17, 'order'),\n",
       "    (43, 51, 'action'),\n",
       "    (43, 49, 'action'),\n",
       "    (18, 20, 'numerical_entity')]}),\n",
       " ('List the worst 14 movies directed by Neffa',\n",
       "  {'entities': [(37, 42, 'name'),\n",
       "    (9, 14, 'order'),\n",
       "    (25, 33, 'action'),\n",
       "    (25, 31, 'action'),\n",
       "    (15, 17, 'numerical_entity')]}),\n",
       " ('What are the best 15 movies Yevgeny Nikishov directed?',\n",
       "  {'entities': [(28, 44, 'name'),\n",
       "    (13, 17, 'order'),\n",
       "    (45, 53, 'action'),\n",
       "    (45, 51, 'action'),\n",
       "    (18, 20, 'numerical_entity')]}),\n",
       " ('What are the worst 16 miniseries movies Nicholas Sillitoe directed?',\n",
       "  {'entities': [(40, 57, 'name'),\n",
       "    (13, 18, 'order'),\n",
       "    (22, 32, 'genre'),\n",
       "    (58, 66, 'action'),\n",
       "    (58, 64, 'action'),\n",
       "    (19, 21, 'numerical_entity')]}),\n",
       " ('Which are the best movies where Leonid Desyatnikov appeared?',\n",
       "  {'entities': [(32, 50, 'name'), (14, 18, 'order'), (51, 57, 'action')]}),\n",
       " ('Can you name the worst 18 Revisionist Western movies directed by Dan Friedkin?',\n",
       "  {'entities': [(65, 77, 'name'),\n",
       "    (17, 22, 'order'),\n",
       "    (26, 45, 'genre'),\n",
       "    (53, 61, 'action'),\n",
       "    (53, 59, 'action'),\n",
       "    (23, 25, 'numerical_entity')]}),\n",
       " ('Can you list the best 19 films with Ilya Demutsky in the cast?',\n",
       "  {'entities': [(36, 49, 'name'),\n",
       "    (17, 21, 'order'),\n",
       "    (22, 24, 'numerical_entity')]}),\n",
       " ('What are the worst 20 movies starring Rodrigo Teixeira',\n",
       "  {'entities': [(38, 54, 'name'),\n",
       "    (13, 18, 'order'),\n",
       "    (19, 21, 'numerical_entity')]}),\n",
       " ('List the movies released in 1811',\n",
       "  {'entities': [(28, 32, 'year'), (16, 23, 'predicate')]}),\n",
       " ('Which movies were directed by Clarence Öfwerman in 1812?',\n",
       "  {'entities': [(30, 47, 'name'),\n",
       "    (51, 55, 'year'),\n",
       "    (18, 26, 'action'),\n",
       "    (18, 24, 'action')]}),\n",
       " ('What movies were released in 1813?',\n",
       "  {'entities': [(29, 33, 'year'), (17, 24, 'predicate')]}),\n",
       " ('What movies did Andy Cohen appear in in 1814?',\n",
       "  {'entities': [(16, 26, 'name'), (40, 44, 'year'), (27, 33, 'action')]}),\n",
       " ('List the films featuring Karuan in 1815',\n",
       "  {'entities': [(25, 31, 'name'), (35, 39, 'year'), (15, 24, 'action')]}),\n",
       " ('Provide the filmography of Lisa Harrison in 1816',\n",
       "  {'entities': [(27, 40, 'name'), (44, 48, 'year')]}),\n",
       " ('Which movies starred Morrissey in 1817?',\n",
       "  {'entities': [(21, 30, 'name'), (34, 38, 'year')]}),\n",
       " ('Which roles were played by Richard Blumenthal in 1818?',\n",
       "  {'entities': [(27, 45, 'name'), (49, 53, 'year'), (17, 23, 'action')]}),\n",
       " ('What are the best nine movies Oscar Brazzi directed?',\n",
       "  {'entities': [(30, 42, 'name'),\n",
       "    (13, 17, 'order'),\n",
       "    (43, 51, 'action'),\n",
       "    (43, 49, 'action'),\n",
       "    (18, 22, 'numerical_entity')]}),\n",
       " ('List the worst ten movies directed by Oscar Brown, Jr.',\n",
       "  {'entities': [(38, 54, 'name'),\n",
       "    (9, 14, 'order'),\n",
       "    (26, 34, 'action'),\n",
       "    (26, 32, 'action'),\n",
       "    (15, 18, 'numerical_entity')]}),\n",
       " ('What are the best eleven movies Makoto Ozone directed?',\n",
       "  {'entities': [(32, 44, 'name'),\n",
       "    (13, 17, 'order'),\n",
       "    (45, 53, 'action'),\n",
       "    (45, 51, 'action'),\n",
       "    (18, 24, 'numerical_entity')]}),\n",
       " ('What are the worst twelve techno-thriller movies Maury Yeston directed?',\n",
       "  {'entities': [(49, 61, 'name'),\n",
       "    (13, 18, 'order'),\n",
       "    (26, 41, 'genre'),\n",
       "    (62, 70, 'action'),\n",
       "    (62, 68, 'action'),\n",
       "    (19, 25, 'numerical_entity')]}),\n",
       " ('Which are the best movies where M. K. Arjunan appeared?',\n",
       "  {'entities': [(32, 45, 'name'), (14, 18, 'order'), (46, 52, 'action')]}),\n",
       " ('Can you name the worst fourteen dance movies directed by Pasquale Catalano?',\n",
       "  {'entities': [(57, 74, 'name'),\n",
       "    (17, 22, 'order'),\n",
       "    (32, 37, 'genre'),\n",
       "    (45, 53, 'action'),\n",
       "    (45, 51, 'action'),\n",
       "    (23, 31, 'numerical_entity')]}),\n",
       " ('Can you list the best fifteen films with Paul Chihara in the cast?',\n",
       "  {'entities': [(41, 53, 'name'),\n",
       "    (17, 21, 'order'),\n",
       "    (22, 29, 'numerical_entity')]}),\n",
       " ('What are the worst sixteen movies starring Paul Dunlap',\n",
       "  {'entities': [(43, 54, 'name'),\n",
       "    (13, 18, 'order'),\n",
       "    (19, 26, 'numerical_entity')]}),\n",
       " ('List the movies released in 1827',\n",
       "  {'entities': [(28, 32, 'year'), (16, 23, 'predicate')]}),\n",
       " ('Which movies were directed by Alexander Bălănescu in 1828?',\n",
       "  {'entities': [(30, 49, 'name'),\n",
       "    (53, 57, 'year'),\n",
       "    (18, 26, 'action'),\n",
       "    (18, 24, 'action')]}),\n",
       " ('What movies were released in 1829?',\n",
       "  {'entities': [(29, 33, 'year'), (17, 24, 'predicate')]}),\n",
       " ('What movies did Frank Arrigo appear in in 1830?',\n",
       "  {'entities': [(16, 28, 'name'), (42, 46, 'year'), (29, 35, 'action')]}),\n",
       " ('List the films featuring Bugzy Malone in 1831',\n",
       "  {'entities': [(25, 37, 'name'), (41, 45, 'year'), (15, 24, 'action')]}),\n",
       " ('Provide the filmography of Peter Gotthardt in 1832',\n",
       "  {'entities': [(27, 42, 'name'), (46, 50, 'year')]}),\n",
       " ('Which movies starred Peter Hahne in 1833?',\n",
       "  {'entities': [(21, 32, 'name'), (36, 40, 'year')]}),\n",
       " ('Which roles were played by Alex Somers in 1834?',\n",
       "  {'entities': [(27, 38, 'name'), (42, 46, 'year'), (17, 23, 'action')]}),\n",
       " ('What are the best 5 movies Peter Plate directed?',\n",
       "  {'entities': [(27, 38, 'name'),\n",
       "    (13, 17, 'order'),\n",
       "    (39, 47, 'action'),\n",
       "    (39, 45, 'action'),\n",
       "    (18, 19, 'numerical_entity')]}),\n",
       " ('List the worst 6 movies directed by Peter Rodgers Melnick',\n",
       "  {'entities': [(36, 57, 'name'),\n",
       "    (9, 14, 'order'),\n",
       "    (24, 32, 'action'),\n",
       "    (24, 30, 'action'),\n",
       "    (15, 16, 'numerical_entity')]}),\n",
       " ('What are the best 7 movies Manolito directed?',\n",
       "  {'entities': [(27, 35, 'name'),\n",
       "    (13, 17, 'order'),\n",
       "    (36, 44, 'action'),\n",
       "    (36, 42, 'action'),\n",
       "    (18, 19, 'numerical_entity')]}),\n",
       " ('What are the worst 8 historical fiction movies Ralph Vaughan Williams directed?',\n",
       "  {'entities': [(47, 69, 'name'),\n",
       "    (13, 18, 'order'),\n",
       "    (21, 39, 'genre'),\n",
       "    (70, 78, 'action'),\n",
       "    (70, 76, 'action'),\n",
       "    (19, 20, 'numerical_entity')]}),\n",
       " ('Which are the best movies where Karol Sevilla appeared?',\n",
       "  {'entities': [(32, 45, 'name'), (14, 18, 'order'), (46, 52, 'action')]}),\n",
       " ('Can you name the worst 10 supernatural fiction movies directed by Helge Slikker?',\n",
       "  {'entities': [(66, 79, 'name'),\n",
       "    (17, 22, 'order'),\n",
       "    (26, 46, 'genre'),\n",
       "    (54, 62, 'action'),\n",
       "    (54, 60, 'action'),\n",
       "    (23, 25, 'numerical_entity')]}),\n",
       " ('Can you list the best 11 films with DVV Danayya in the cast?',\n",
       "  {'entities': [(36, 47, 'name'),\n",
       "    (17, 21, 'order'),\n",
       "    (22, 24, 'numerical_entity')]}),\n",
       " ('What are the worst 12 movies starring Jan van der Zanden',\n",
       "  {'entities': [(38, 56, 'name'),\n",
       "    (13, 18, 'order'),\n",
       "    (19, 21, 'numerical_entity')]}),\n",
       " ('List the movies released in 1843',\n",
       "  {'entities': [(28, 32, 'year'), (16, 23, 'predicate')]}),\n",
       " ('Which movies were directed by Mikhail Kostylev in 1844?',\n",
       "  {'entities': [(30, 46, 'name'),\n",
       "    (50, 54, 'year'),\n",
       "    (18, 26, 'action'),\n",
       "    (18, 24, 'action')]}),\n",
       " ('What movies were released in 1845?',\n",
       "  {'entities': [(29, 33, 'year'), (17, 24, 'predicate')]}),\n",
       " ('What movies did Yury Kushneryov appear in in 1846?',\n",
       "  {'entities': [(16, 31, 'name'), (45, 49, 'year'), (32, 38, 'action')]}),\n",
       " ('List the films featuring Yuri Kasparov in 1847',\n",
       "  {'entities': [(25, 38, 'name'), (42, 46, 'year'), (15, 24, 'action')]}),\n",
       " ('Provide the filmography of Álvaro Augustín in 1848',\n",
       "  {'entities': [(27, 42, 'name'), (46, 50, 'year')]}),\n",
       " ('Which movies starred Paul Dessau in 1849?',\n",
       "  {'entities': [(21, 32, 'name'), (36, 40, 'year')]}),\n",
       " ('Which roles were played by Ernst Toch in 1850?',\n",
       "  {'entities': [(27, 37, 'name'), (41, 45, 'year'), (17, 23, 'action')]}),\n",
       " ('What are the best one movies Pat Metheny directed?',\n",
       "  {'entities': [(29, 40, 'name'),\n",
       "    (13, 17, 'order'),\n",
       "    (41, 49, 'action'),\n",
       "    (41, 47, 'action'),\n",
       "    (18, 21, 'numerical_entity')]}),\n",
       " ('List the worst two movies directed by Walter Goehr',\n",
       "  {'entities': [(38, 50, 'name'),\n",
       "    (9, 14, 'order'),\n",
       "    (26, 34, 'action'),\n",
       "    (26, 32, 'action'),\n",
       "    (15, 18, 'numerical_entity')]}),\n",
       " ('What are the best three movies Reiner Bredemeyer directed?',\n",
       "  {'entities': [(31, 48, 'name'),\n",
       "    (13, 17, 'order'),\n",
       "    (49, 57, 'action'),\n",
       "    (49, 55, 'action'),\n",
       "    (18, 23, 'numerical_entity')]}),\n",
       " ('What are the worst four romantic drama movies Mátyás Seiber directed?',\n",
       "  {'entities': [(46, 59, 'name'),\n",
       "    (13, 18, 'order'),\n",
       "    (24, 38, 'genre'),\n",
       "    (60, 68, 'action'),\n",
       "    (60, 66, 'action'),\n",
       "    (19, 23, 'numerical_entity')]}),\n",
       " ('Which are the best movies where Rich Robinson appeared?',\n",
       "  {'entities': [(32, 45, 'name'), (14, 18, 'order'), (46, 52, 'action')]}),\n",
       " ('Can you name the worst six transgender movies directed by Robert Blum?',\n",
       "  {'entities': [(58, 69, 'name'),\n",
       "    (17, 22, 'order'),\n",
       "    (27, 38, 'genre'),\n",
       "    (46, 54, 'action'),\n",
       "    (46, 52, 'action'),\n",
       "    (23, 26, 'numerical_entity')]}),\n",
       " ('Can you list the best seven films with Jacek Moczydłowski in the cast?',\n",
       "  {'entities': [(39, 57, 'name'),\n",
       "    (17, 21, 'order'),\n",
       "    (22, 27, 'numerical_entity')]}),\n",
       " ('What are the worst eight movies starring Otto Hermann Kahn',\n",
       "  {'entities': [(41, 58, 'name'),\n",
       "    (13, 18, 'order'),\n",
       "    (19, 24, 'numerical_entity')]}),\n",
       " ('List the movies released in 1859',\n",
       "  {'entities': [(28, 32, 'year'), (16, 23, 'predicate')]}),\n",
       " ('Which movies were directed by Werner R. Heymann in 1860?',\n",
       "  {'entities': [(30, 47, 'name'),\n",
       "    (51, 55, 'year'),\n",
       "    (18, 26, 'action'),\n",
       "    (18, 24, 'action')]}),\n",
       " ('What movies were released in 1861?',\n",
       "  {'entities': [(29, 33, 'year'), (17, 24, 'predicate')]}),\n",
       " ('What movies did Robert Daley appear in in 1862?',\n",
       "  {'entities': [(16, 28, 'name'), (42, 46, 'year'), (29, 35, 'action')]}),\n",
       " ('List the films featuring Robert E. Dolan in 1863',\n",
       "  {'entities': [(25, 40, 'name'), (44, 48, 'year'), (15, 24, 'action')]}),\n",
       " ('Provide the filmography of Robert Irving III in 1864',\n",
       "  {'entities': [(27, 44, 'name'), (48, 52, 'year')]}),\n",
       " ('Which movies starred Roger Bellon in 1865?',\n",
       "  {'entities': [(21, 33, 'name'), (37, 41, 'year')]}),\n",
       " ('Which roles were played by Samuel Barber in 1866?',\n",
       "  {'entities': [(27, 40, 'name'), (44, 48, 'year'), (17, 23, 'action')]}),\n",
       " ('What are the best seventeen movies Glenn Gould directed?',\n",
       "  {'entities': [(35, 46, 'name'),\n",
       "    (13, 17, 'order'),\n",
       "    (47, 55, 'action'),\n",
       "    (47, 53, 'action'),\n",
       "    (18, 27, 'numerical_entity')]}),\n",
       " ('List the worst eighteen movies directed by Sabine Veenendaal',\n",
       "  {'entities': [(43, 60, 'name'),\n",
       "    (9, 14, 'order'),\n",
       "    (31, 39, 'action'),\n",
       "    (31, 37, 'action'),\n",
       "    (15, 23, 'numerical_entity')]}),\n",
       " ('What are the best nineteen movies Andreas Hoge directed?',\n",
       "  {'entities': [(34, 46, 'name'),\n",
       "    (13, 17, 'order'),\n",
       "    (47, 55, 'action'),\n",
       "    (47, 53, 'action'),\n",
       "    (18, 26, 'numerical_entity')]}),\n",
       " ('What are the worst twenty dystopia movies Paul Driessen directed?',\n",
       "  {'entities': [(42, 55, 'name'),\n",
       "    (13, 18, 'order'),\n",
       "    (26, 34, 'genre'),\n",
       "    (56, 64, 'action'),\n",
       "    (56, 62, 'action'),\n",
       "    (19, 25, 'numerical_entity')]}),\n",
       " ('Which are the best movies where Richard Stone appeared?',\n",
       "  {'entities': [(32, 45, 'name'), (14, 18, 'order'), (46, 52, 'action')]}),\n",
       " ('Can you name the worst 2 culture clash comedy movies directed by Fran Villalba?',\n",
       "  {'entities': [(65, 78, 'name'),\n",
       "    (17, 22, 'order'),\n",
       "    (25, 45, 'genre'),\n",
       "    (53, 61, 'action'),\n",
       "    (53, 59, 'action'),\n",
       "    (23, 24, 'numerical_entity')]}),\n",
       " ('Can you list the best 3 films with Ed Guiney in the cast?',\n",
       "  {'entities': [(35, 44, 'name'),\n",
       "    (17, 21, 'order'),\n",
       "    (22, 23, 'numerical_entity')]}),\n",
       " ('What are the worst 4 movies starring Amanda Posey',\n",
       "  {'entities': [(37, 49, 'name'),\n",
       "    (13, 18, 'order'),\n",
       "    (19, 20, 'numerical_entity')]}),\n",
       " ('List the movies released in 1875',\n",
       "  {'entities': [(28, 32, 'year'), (16, 23, 'predicate')]}),\n",
       " ('Which movies were directed by Blye Pagon Faust in 1876?',\n",
       "  {'entities': [(30, 46, 'name'),\n",
       "    (50, 54, 'year'),\n",
       "    (18, 26, 'action'),\n",
       "    (18, 24, 'action')]}),\n",
       " ('What movies were released in 1877?',\n",
       "  {'entities': [(29, 33, 'year'), (17, 24, 'predicate')]}),\n",
       " ('What movies did G.B. Smith appear in in 1878?',\n",
       "  {'entities': [(16, 26, 'name'), (40, 44, 'year'), (27, 33, 'action')]}),\n",
       " ('List the films featuring Barney Reisz in 1879',\n",
       "  {'entities': [(25, 37, 'name'), (41, 45, 'year'), (15, 24, 'action')]}),\n",
       " ('Provide the filmography of Luis Manso in 1880',\n",
       "  {'entities': [(27, 37, 'name'), (41, 45, 'year')]}),\n",
       " ('Which movies starred Wendi Murdoch in 1881?',\n",
       "  {'entities': [(21, 34, 'name'), (38, 42, 'year')]}),\n",
       " ('Which roles were played by Salvatore Bonafede in 1882?',\n",
       "  {'entities': [(27, 45, 'name'), (49, 53, 'year'), (17, 23, 'action')]}),\n",
       " ('What are the best 13 movies Richard Roth directed?',\n",
       "  {'entities': [(28, 40, 'name'),\n",
       "    (13, 17, 'order'),\n",
       "    (41, 49, 'action'),\n",
       "    (41, 47, 'action'),\n",
       "    (18, 20, 'numerical_entity')]}),\n",
       " ('List the worst 14 movies directed by Sandro Aguilar',\n",
       "  {'entities': [(37, 51, 'name'),\n",
       "    (9, 14, 'order'),\n",
       "    (25, 33, 'action'),\n",
       "    (25, 31, 'action'),\n",
       "    (15, 17, 'numerical_entity')]}),\n",
       " ('What are the best 15 movies Preston Corbell directed?',\n",
       "  {'entities': [(28, 43, 'name'),\n",
       "    (13, 17, 'order'),\n",
       "    (44, 52, 'action'),\n",
       "    (44, 50, 'action'),\n",
       "    (18, 20, 'numerical_entity')]}),\n",
       " ('What are the worst 16 play movies Frank Perkins directed?',\n",
       "  {'entities': [(34, 47, 'name'),\n",
       "    (13, 18, 'order'),\n",
       "    (22, 26, 'genre'),\n",
       "    (48, 56, 'action'),\n",
       "    (48, 54, 'action'),\n",
       "    (19, 21, 'numerical_entity')]}),\n",
       " ('Which are the best movies where Aphex Twin appeared?',\n",
       "  {'entities': [(32, 42, 'name'), (14, 18, 'order'), (43, 49, 'action')]}),\n",
       " ('Can you name the worst 18 novel movies directed by Stuart A. Staples?',\n",
       "  {'entities': [(51, 68, 'name'),\n",
       "    (17, 22, 'order'),\n",
       "    (26, 31, 'genre'),\n",
       "    (39, 47, 'action'),\n",
       "    (39, 45, 'action'),\n",
       "    (23, 25, 'numerical_entity')]}),\n",
       " ('Can you list the best 19 films with Seelenluft in the cast?',\n",
       "  {'entities': [(36, 46, 'name'),\n",
       "    (17, 21, 'order'),\n",
       "    (22, 24, 'numerical_entity')]}),\n",
       " ('What are the worst 20 movies starring Jesús Glück Sarasibar',\n",
       "  {'entities': [(38, 59, 'name'),\n",
       "    (13, 18, 'order'),\n",
       "    (19, 21, 'numerical_entity')]}),\n",
       " ('List the movies released in 1891',\n",
       "  {'entities': [(28, 32, 'year'), (16, 23, 'predicate')]}),\n",
       " ('Which movies were directed by Jamie Saft in 1892?',\n",
       "  {'entities': [(30, 40, 'name'),\n",
       "    (44, 48, 'year'),\n",
       "    (18, 26, 'action'),\n",
       "    (18, 24, 'action')]}),\n",
       " ('What movies were released in 1893?',\n",
       "  {'entities': [(29, 33, 'year'), (17, 24, 'predicate')]}),\n",
       " ('What movies did Shunsuke Kikuchi appear in in 1894?',\n",
       "  {'entities': [(16, 32, 'name'), (46, 50, 'year'), (33, 39, 'action')]}),\n",
       " ('List the films featuring Theo Nijland in 1895',\n",
       "  {'entities': [(25, 37, 'name'), (41, 45, 'year'), (15, 24, 'action')]}),\n",
       " ('Provide the filmography of Toshihiko Sahashi in 1896',\n",
       "  {'entities': [(27, 44, 'name'), (48, 52, 'year')]}),\n",
       " ('Which movies starred Ani Di Franco in 1897?',\n",
       "  {'entities': [(21, 34, 'name'), (38, 42, 'year')]}),\n",
       " ('Which roles were played by Gianna Nannini in 1898?',\n",
       "  {'entities': [(27, 41, 'name'), (45, 49, 'year'), (17, 23, 'action')]}),\n",
       " ('What are the best nine movies Johnny Green directed?',\n",
       "  {'entities': [(30, 42, 'name'),\n",
       "    (13, 17, 'order'),\n",
       "    (43, 51, 'action'),\n",
       "    (43, 49, 'action'),\n",
       "    (18, 22, 'numerical_entity')]}),\n",
       " ('List the worst ten movies directed by Ed Harcourt',\n",
       "  {'entities': [(38, 49, 'name'),\n",
       "    (9, 14, 'order'),\n",
       "    (26, 34, 'action'),\n",
       "    (26, 32, 'action'),\n",
       "    (15, 18, 'numerical_entity')]}),\n",
       " ('What are the best eleven movies Beth Gibbons directed?',\n",
       "  {'entities': [(32, 44, 'name'),\n",
       "    (13, 17, 'order'),\n",
       "    (45, 53, 'action'),\n",
       "    (45, 51, 'action'),\n",
       "    (18, 24, 'numerical_entity')]}),\n",
       " ('What are the worst twelve romance anime and manga movies Stefan Nilsson directed?',\n",
       "  {'entities': [(57, 71, 'name'),\n",
       "    (13, 18, 'order'),\n",
       "    (26, 49, 'genre'),\n",
       "    (72, 80, 'action'),\n",
       "    (72, 78, 'action'),\n",
       "    (19, 25, 'numerical_entity')]}),\n",
       " ('Which are the best movies where Purvis Short appeared?',\n",
       "  {'entities': [(32, 44, 'name'), (14, 18, 'order'), (45, 51, 'action')]}),\n",
       " ('Can you name the worst fourteen Jidaigeki movies directed by Roman Vlad?',\n",
       "  {'entities': [(61, 71, 'name'),\n",
       "    (17, 22, 'order'),\n",
       "    (32, 41, 'genre'),\n",
       "    (49, 57, 'action'),\n",
       "    (49, 55, 'action'),\n",
       "    (23, 31, 'numerical_entity')]}),\n",
       " ('Can you list the best fifteen films with Stephan Remmler in the cast?',\n",
       "  {'entities': [(41, 56, 'name'),\n",
       "    (17, 21, 'order'),\n",
       "    (22, 29, 'numerical_entity')]}),\n",
       " ('What are the worst sixteen movies starring Yanni',\n",
       "  {'entities': [(43, 48, 'name'),\n",
       "    (13, 18, 'order'),\n",
       "    (19, 26, 'numerical_entity')]}),\n",
       " ('List the movies released in 1907',\n",
       "  {'entities': [(28, 32, 'year'), (16, 23, 'predicate')]}),\n",
       " ('Which movies were directed by R. Stevie Moore in 1908?',\n",
       "  {'entities': [(30, 45, 'name'),\n",
       "    (49, 53, 'year'),\n",
       "    (18, 26, 'action'),\n",
       "    (18, 24, 'action')]}),\n",
       " ('What movies were released in 1909?',\n",
       "  {'entities': [(29, 33, 'year'), (17, 24, 'predicate')]}),\n",
       " ('What movies did Dirk Impens appear in in 1910?',\n",
       "  {'entities': [(16, 27, 'name'), (41, 45, 'year'), (28, 34, 'action')]}),\n",
       " ('List the films featuring Lo Ta-yu in 1911',\n",
       "  {'entities': [(25, 33, 'name'), (37, 41, 'year'), (15, 24, 'action')]}),\n",
       " ('Provide the filmography of Robert Bevan in 1912',\n",
       "  {'entities': [(27, 39, 'name'), (43, 47, 'year')]}),\n",
       " ('Which movies starred Souad Massi in 1913?',\n",
       "  {'entities': [(21, 32, 'name'), (36, 40, 'year')]}),\n",
       " ('Which roles were played by Christopher Ward in 1914?',\n",
       "  {'entities': [(27, 43, 'name'), (47, 51, 'year'), (17, 23, 'action')]}),\n",
       " ('What are the best 5 movies Ishita Raj Sharma directed?',\n",
       "  {'entities': [(27, 44, 'name'),\n",
       "    (13, 17, 'order'),\n",
       "    (45, 53, 'action'),\n",
       "    (45, 51, 'action'),\n",
       "    (18, 19, 'numerical_entity')]}),\n",
       " ('List the worst 6 movies directed by Melissa Reese',\n",
       "  {'entities': [(36, 49, 'name'),\n",
       "    (9, 14, 'order'),\n",
       "    (24, 32, 'action'),\n",
       "    (24, 30, 'action'),\n",
       "    (15, 16, 'numerical_entity')]}),\n",
       " ('What are the best 7 movies Diane Warren directed?',\n",
       "  {'entities': [(27, 39, 'name'),\n",
       "    (13, 17, 'order'),\n",
       "    (40, 48, 'action'),\n",
       "    (40, 46, 'action'),\n",
       "    (18, 19, 'numerical_entity')]}),\n",
       " ('What are the worst 8 apocalyptic fiction movies Sabine Holtgreve directed?',\n",
       "  {'entities': [(48, 64, 'name'),\n",
       "    (13, 18, 'order'),\n",
       "    (21, 40, 'genre'),\n",
       "    (65, 73, 'action'),\n",
       "    (65, 71, 'action'),\n",
       "    (19, 20, 'numerical_entity')]}),\n",
       " ('Which are the best movies where Ulrike Putz appeared?',\n",
       "  {'entities': [(32, 43, 'name'), (14, 18, 'order'), (44, 50, 'action')]}),\n",
       " ('Can you name the worst 10 world music movies directed by Ikuma Dan?',\n",
       "  {'entities': [(57, 66, 'name'),\n",
       "    (17, 22, 'order'),\n",
       "    (26, 37, 'genre'),\n",
       "    (45, 53, 'action'),\n",
       "    (45, 51, 'action'),\n",
       "    (23, 25, 'numerical_entity')]}),\n",
       " ('Can you list the best 11 films with Michele Braga in the cast?',\n",
       "  {'entities': [(36, 49, 'name'),\n",
       "    (17, 21, 'order'),\n",
       "    (22, 24, 'numerical_entity')]}),\n",
       " ('What are the worst 12 movies starring Chad Fischer',\n",
       "  {'entities': [(38, 50, 'name'),\n",
       "    (13, 18, 'order'),\n",
       "    (19, 21, 'numerical_entity')]}),\n",
       " ('List the movies released in 1923',\n",
       "  {'entities': [(28, 32, 'year'), (16, 23, 'predicate')]}),\n",
       " ('Which movies were directed by Sacha Galperine in 1924?',\n",
       "  {'entities': [(30, 45, 'name'),\n",
       "    (49, 53, 'year'),\n",
       "    (18, 26, 'action'),\n",
       "    (18, 24, 'action')]}),\n",
       " ('What movies were released in 1925?',\n",
       "  {'entities': [(29, 33, 'year'), (17, 24, 'predicate')]}),\n",
       " ('What movies did Carolyn Bennett appear in in 1926?',\n",
       "  {'entities': [(16, 31, 'name'), (45, 49, 'year'), (32, 38, 'action')]}),\n",
       " ('List the films featuring Terry Sanders in 1927',\n",
       "  {'entities': [(25, 38, 'name'), (42, 46, 'year'), (15, 24, 'action')]}),\n",
       " ('Provide the filmography of Jeong Jin-ho in 1928',\n",
       "  {'entities': [(27, 39, 'name'), (43, 47, 'year')]}),\n",
       " ('Which movies starred Adrián Guerra in 1929?',\n",
       "  {'entities': [(21, 34, 'name'), (38, 42, 'year')]}),\n",
       " ('Which roles were played by Enjott Schneider in 1930?',\n",
       "  {'entities': [(27, 43, 'name'), (47, 51, 'year'), (17, 23, 'action')]}),\n",
       " ('What are the best one movies Dianne Reeves directed?',\n",
       "  {'entities': [(29, 42, 'name'),\n",
       "    (13, 17, 'order'),\n",
       "    (43, 51, 'action'),\n",
       "    (43, 49, 'action'),\n",
       "    (18, 21, 'numerical_entity')]}),\n",
       " ('List the worst two movies directed by Thomas Mehlhorn',\n",
       "  {'entities': [(38, 53, 'name'),\n",
       "    (9, 14, 'order'),\n",
       "    (26, 34, 'action'),\n",
       "    (26, 32, 'action'),\n",
       "    (15, 18, 'numerical_entity')]}),\n",
       " ('What are the best three movies Igor Kornelyuk directed?',\n",
       "  {'entities': [(31, 45, 'name'),\n",
       "    (13, 17, 'order'),\n",
       "    (46, 54, 'action'),\n",
       "    (46, 52, 'action'),\n",
       "    (18, 23, 'numerical_entity')]}),\n",
       " (\"What are the worst four children's literature movies Tim Carter directed?\",\n",
       "  {'entities': [(53, 63, 'name'),\n",
       "    (13, 18, 'order'),\n",
       "    (24, 45, 'genre'),\n",
       "    (64, 72, 'action'),\n",
       "    (64, 70, 'action'),\n",
       "    (19, 23, 'numerical_entity')]}),\n",
       " ('Which are the best movies where Tobias Rosen appeared?',\n",
       "  {'entities': [(32, 44, 'name'), (14, 18, 'order'), (45, 51, 'action')]}),\n",
       " ('Can you name the worst six women in prison movies directed by Ottorino Respighi?',\n",
       "  {'entities': [(62, 79, 'name'),\n",
       "    (17, 22, 'order'),\n",
       "    (27, 42, 'genre'),\n",
       "    (50, 58, 'action'),\n",
       "    (50, 56, 'action'),\n",
       "    (23, 26, 'numerical_entity')]}),\n",
       " ('Can you list the best seven films with Daniel Catán in the cast?',\n",
       "  {'entities': [(39, 51, 'name'),\n",
       "    (17, 21, 'order'),\n",
       "    (22, 27, 'numerical_entity')]}),\n",
       " ('What are the worst eight movies starring Vladimir Vinokur',\n",
       "  {'entities': [(41, 57, 'name'),\n",
       "    (13, 18, 'order'),\n",
       "    (19, 24, 'numerical_entity')]}),\n",
       " ('List the movies released in 1939',\n",
       "  {'entities': [(28, 32, 'year'), (16, 23, 'predicate')]}),\n",
       " ('Which movies were directed by Zygmunt Konieczny in 1940?',\n",
       "  {'entities': [(30, 47, 'name'),\n",
       "    (51, 55, 'year'),\n",
       "    (18, 26, 'action'),\n",
       "    (18, 24, 'action')]}),\n",
       " ('What movies were released in 1941?',\n",
       "  {'entities': [(29, 33, 'year'), (17, 24, 'predicate')]}),\n",
       " ('What movies did Andy Fitzgerald appear in in 1942?',\n",
       "  {'entities': [(16, 31, 'name'), (45, 49, 'year'), (32, 38, 'action')]}),\n",
       " ('List the films featuring Olivia Merilahti in 1943',\n",
       "  {'entities': [(25, 41, 'name'), (45, 49, 'year'), (15, 24, 'action')]}),\n",
       " ('Provide the filmography of Giuliani G. De Negri in 1944',\n",
       "  {'entities': [(27, 47, 'name'), (51, 55, 'year')]}),\n",
       " ('Which movies starred Geraldine Hakewill in 1945?',\n",
       "  {'entities': [(21, 39, 'name'), (43, 47, 'year')]}),\n",
       " ('Which roles were played by Nick Launay in 1946?',\n",
       "  {'entities': [(27, 38, 'name'), (42, 46, 'year'), (17, 23, 'action')]}),\n",
       " ('What are the best seventeen movies Bill Curbishley directed?',\n",
       "  {'entities': [(35, 50, 'name'),\n",
       "    (13, 17, 'order'),\n",
       "    (51, 59, 'action'),\n",
       "    (51, 57, 'action'),\n",
       "    (18, 27, 'numerical_entity')]}),\n",
       " ('List the worst eighteen movies directed by Van Alexander',\n",
       "  {'entities': [(43, 56, 'name'),\n",
       "    (9, 14, 'order'),\n",
       "    (31, 39, 'action'),\n",
       "    (31, 37, 'action'),\n",
       "    (15, 23, 'numerical_entity')]}),\n",
       " ('What are the best nineteen movies Oorlagh George directed?',\n",
       "  {'entities': [(34, 48, 'name'),\n",
       "    (13, 17, 'order'),\n",
       "    (49, 57, 'action'),\n",
       "    (49, 55, 'action'),\n",
       "    (18, 26, 'numerical_entity')]}),\n",
       " ('What are the worst twenty kabuki movies Georges Auric directed?',\n",
       "  {'entities': [(40, 53, 'name'),\n",
       "    (13, 18, 'order'),\n",
       "    (26, 32, 'genre'),\n",
       "    (54, 62, 'action'),\n",
       "    (54, 60, 'action'),\n",
       "    (19, 25, 'numerical_entity')]}),\n",
       " ('Which are the best movies where Peter-John Vettese appeared?',\n",
       "  {'entities': [(32, 50, 'name'), (14, 18, 'order'), (51, 57, 'action')]}),\n",
       " ('Can you name the worst 2 tech noir movies directed by Bryce Harper?',\n",
       "  {'entities': [(54, 66, 'name'),\n",
       "    (17, 22, 'order'),\n",
       "    (25, 34, 'genre'),\n",
       "    (42, 50, 'action'),\n",
       "    (42, 48, 'action'),\n",
       "    (23, 24, 'numerical_entity')]}),\n",
       " ('Can you list the best 3 films with Pascal Rogé in the cast?',\n",
       "  {'entities': [(35, 46, 'name'),\n",
       "    (17, 21, 'order'),\n",
       "    (22, 23, 'numerical_entity')]}),\n",
       " ('What are the worst 4 movies starring Pieter Bourke',\n",
       "  {'entities': [(37, 50, 'name'),\n",
       "    (13, 18, 'order'),\n",
       "    (19, 20, 'numerical_entity')]}),\n",
       " ('List the movies released in 1955',\n",
       "  {'entities': [(28, 32, 'year'), (16, 23, 'predicate')]}),\n",
       " ('Which movies were directed by Rick Berg in 1956?',\n",
       "  {'entities': [(30, 39, 'name'),\n",
       "    (43, 47, 'year'),\n",
       "    (18, 26, 'action'),\n",
       "    (18, 24, 'action')]}),\n",
       " ('What movies were released in 1957?',\n",
       "  {'entities': [(29, 33, 'year'), (17, 24, 'predicate')]}),\n",
       " ('What movies did Paul Misraki appear in in 1958?',\n",
       "  {'entities': [(16, 28, 'name'), (42, 46, 'year'), (29, 35, 'action')]}),\n",
       " ('List the films featuring Mike Karz in 1959',\n",
       "  {'entities': [(25, 34, 'name'), (38, 42, 'year'), (15, 24, 'action')]}),\n",
       " ('Provide the filmography of Walid Nakschbandi in 1960',\n",
       "  {'entities': [(27, 44, 'name'), (48, 52, 'year')]}),\n",
       " ('Which movies starred Avshalom Caspi in 1961?',\n",
       "  {'entities': [(21, 35, 'name'), (39, 43, 'year')]}),\n",
       " ('Which roles were played by Jean Rondeau in 1962?',\n",
       "  {'entities': [(27, 39, 'name'), (43, 47, 'year'), (17, 23, 'action')]}),\n",
       " ('What are the best 13 movies Anita Baker directed?',\n",
       "  {'entities': [(28, 39, 'name'),\n",
       "    (13, 17, 'order'),\n",
       "    (40, 48, 'action'),\n",
       "    (40, 46, 'action'),\n",
       "    (18, 20, 'numerical_entity')]}),\n",
       " ('List the worst 14 movies directed by Sarup Singh',\n",
       "  {'entities': [(37, 48, 'name'),\n",
       "    (9, 14, 'order'),\n",
       "    (25, 33, 'action'),\n",
       "    (25, 31, 'action'),\n",
       "    (15, 17, 'numerical_entity')]}),\n",
       " ('What are the best 15 movies Rokia Traoré directed?',\n",
       "  {'entities': [(28, 40, 'name'),\n",
       "    (13, 17, 'order'),\n",
       "    (41, 49, 'action'),\n",
       "    (41, 47, 'action'),\n",
       "    (18, 20, 'numerical_entity')]}),\n",
       " ('What are the worst 16 philosophical fiction movies Peter Bray directed?',\n",
       "  {'entities': [(51, 61, 'name'),\n",
       "    (13, 18, 'order'),\n",
       "    (22, 43, 'genre'),\n",
       "    (62, 70, 'action'),\n",
       "    (62, 68, 'action'),\n",
       "    (19, 21, 'numerical_entity')]}),\n",
       " ('Which are the best movies where Ibrahim Maalouf appeared?',\n",
       "  {'entities': [(32, 47, 'name'), (14, 18, 'order'), (48, 54, 'action')]}),\n",
       " ('Can you name the worst 18 bossa nova movies directed by George Edwards?',\n",
       "  {'entities': [(56, 70, 'name'),\n",
       "    (17, 22, 'order'),\n",
       "    (26, 36, 'genre'),\n",
       "    (44, 52, 'action'),\n",
       "    (44, 50, 'action'),\n",
       "    (23, 25, 'numerical_entity')]}),\n",
       " ('Can you list the best 19 films with Leith Stevens in the cast?',\n",
       "  {'entities': [(36, 49, 'name'),\n",
       "    (17, 21, 'order'),\n",
       "    (22, 24, 'numerical_entity')]}),\n",
       " ('What are the worst 20 movies starring Ivor Forbes Guest',\n",
       "  {'entities': [(38, 55, 'name'),\n",
       "    (13, 18, 'order'),\n",
       "    (19, 21, 'numerical_entity')]}),\n",
       " ('List the movies released in 1971',\n",
       "  {'entities': [(28, 32, 'year'), (16, 23, 'predicate')]}),\n",
       " ('Which movies were directed by Sascha Konietzko in 1972?',\n",
       "  {'entities': [(30, 46, 'name'),\n",
       "    (50, 54, 'year'),\n",
       "    (18, 26, 'action'),\n",
       "    (18, 24, 'action')]}),\n",
       " ('What movies were released in 1973?',\n",
       "  {'entities': [(29, 33, 'year'), (17, 24, 'predicate')]}),\n",
       " ('What movies did Vladimir Chekasin appear in in 1974?',\n",
       "  {'entities': [(16, 33, 'name'), (47, 51, 'year'), (34, 40, 'action')]}),\n",
       " ('List the films featuring Raju Patel in 1975',\n",
       "  {'entities': [(25, 35, 'name'), (39, 43, 'year'), (15, 24, 'action')]}),\n",
       " ('Provide the filmography of Grant-Lee Phillips in 1976',\n",
       "  {'entities': [(27, 45, 'name'), (49, 53, 'year')]}),\n",
       " ('Which movies starred Włodek Pawlik in 1977?',\n",
       "  {'entities': [(21, 34, 'name'), (38, 42, 'year')]}),\n",
       " ('Which roles were played by Vivian Stuart in 1978?',\n",
       "  {'entities': [(27, 40, 'name'), (44, 48, 'year'), (17, 23, 'action')]}),\n",
       " ('What are the best nine movies Alain Romans directed?',\n",
       "  {'entities': [(30, 42, 'name'),\n",
       "    (13, 17, 'order'),\n",
       "    (43, 51, 'action'),\n",
       "    (43, 49, 'action'),\n",
       "    (18, 22, 'numerical_entity')]}),\n",
       " ('List the worst ten movies directed by Antonio Fresa',\n",
       "  {'entities': [(38, 51, 'name'),\n",
       "    (9, 14, 'order'),\n",
       "    (26, 34, 'action'),\n",
       "    (26, 32, 'action'),\n",
       "    (15, 18, 'numerical_entity')]}),\n",
       " ('What are the best eleven movies Simon Channing-Williams directed?',\n",
       "  {'entities': [(32, 55, 'name'),\n",
       "    (13, 17, 'order'),\n",
       "    (56, 64, 'action'),\n",
       "    (56, 62, 'action'),\n",
       "    (18, 24, 'numerical_entity')]}),\n",
       " ('What are the worst twelve robinsonade movies Nicolás Jaar directed?',\n",
       "  {'entities': [(45, 57, 'name'),\n",
       "    (13, 18, 'order'),\n",
       "    (26, 37, 'genre'),\n",
       "    (58, 66, 'action'),\n",
       "    (58, 64, 'action'),\n",
       "    (19, 25, 'numerical_entity')]}),\n",
       " ('Which are the best movies where William Lava appeared?',\n",
       "  {'entities': [(32, 44, 'name'), (14, 18, 'order'), (45, 51, 'action')]}),\n",
       " ('Can you name the worst fourteen cult movies directed by Tetsuya Takahashi?',\n",
       "  {'entities': [(56, 73, 'name'),\n",
       "    (17, 22, 'order'),\n",
       "    (32, 36, 'genre'),\n",
       "    (44, 52, 'action'),\n",
       "    (44, 50, 'action'),\n",
       "    (23, 31, 'numerical_entity')]}),\n",
       " ('Can you list the best fifteen films with Fumio Hayasaka in the cast?',\n",
       "  {'entities': [(41, 55, 'name'),\n",
       "    (17, 21, 'order'),\n",
       "    (22, 29, 'numerical_entity')]}),\n",
       " ('What are the worst sixteen movies starring Eugen Doga',\n",
       "  {'entities': [(43, 53, 'name'),\n",
       "    (13, 18, 'order'),\n",
       "    (19, 26, 'numerical_entity')]}),\n",
       " ('List the movies released in 1987',\n",
       "  {'entities': [(28, 32, 'year'), (16, 23, 'predicate')]}),\n",
       " ('Which movies were directed by Jamie xx in 1988?',\n",
       "  {'entities': [(30, 38, 'name'),\n",
       "    (42, 46, 'year'),\n",
       "    (18, 26, 'action'),\n",
       "    (18, 24, 'action')]}),\n",
       " ('What movies were released in 1989?',\n",
       "  {'entities': [(29, 33, 'year'), (17, 24, 'predicate')]}),\n",
       " ('What movies did Ali N. Aşkın appear in in 1990?',\n",
       "  {'entities': [(16, 28, 'name'), (42, 46, 'year'), (29, 35, 'action')]}),\n",
       " ('List the films featuring Michal Pavlíček in 1991',\n",
       "  {'entities': [(25, 40, 'name'), (44, 48, 'year'), (15, 24, 'action')]}),\n",
       " ('Provide the filmography of Leire Apellaniz in 1992',\n",
       "  {'entities': [(27, 42, 'name'), (46, 50, 'year')]}),\n",
       " ('Which movies starred Niklas Schmidt in 1993?',\n",
       "  {'entities': [(21, 35, 'name'), (39, 43, 'year')]}),\n",
       " ('Which roles were played by Bhaskar Chandavarkar in 1994?',\n",
       "  {'entities': [(27, 47, 'name'), (51, 55, 'year'), (17, 23, 'action')]}),\n",
       " ('What are the best 5 movies Maria Arnal directed?',\n",
       "  {'entities': [(27, 38, 'name'),\n",
       "    (13, 17, 'order'),\n",
       "    (39, 47, 'action'),\n",
       "    (39, 45, 'action'),\n",
       "    (18, 19, 'numerical_entity')]}),\n",
       " ('List the worst 6 movies directed by Kornelije Kovač',\n",
       "  {'entities': [(36, 51, 'name'),\n",
       "    (9, 14, 'order'),\n",
       "    (24, 32, 'action'),\n",
       "    (24, 30, 'action'),\n",
       "    (15, 16, 'numerical_entity')]}),\n",
       " ('What are the best 7 movies Paolo Del Brocco directed?',\n",
       "  {'entities': [(27, 43, 'name'),\n",
       "    (13, 17, 'order'),\n",
       "    (44, 52, 'action'),\n",
       "    (44, 50, 'action'),\n",
       "    (18, 19, 'numerical_entity')]}),\n",
       " ('What are the worst 8 comedy of error movies Salaam Remi directed?',\n",
       "  {'entities': [(44, 55, 'name'),\n",
       "    (13, 18, 'order'),\n",
       "    (21, 36, 'genre'),\n",
       "    (56, 64, 'action'),\n",
       "    (56, 62, 'action'),\n",
       "    (19, 20, 'numerical_entity')]}),\n",
       " ('Which are the best movies where Eleni Karaindrou appeared?',\n",
       "  {'entities': [(32, 48, 'name'), (14, 18, 'order'), (49, 55, 'action')]}),\n",
       " ('Can you name the worst 10 space adventure movies directed by Franco Committeri?',\n",
       "  {'entities': [(61, 78, 'name'),\n",
       "    (17, 22, 'order'),\n",
       "    (26, 41, 'genre'),\n",
       "    (49, 57, 'action'),\n",
       "    (49, 55, 'action'),\n",
       "    (23, 25, 'numerical_entity')]}),\n",
       " ('Can you list the best 11 films with René Mioch in the cast?',\n",
       "  {'entities': [(36, 46, 'name'),\n",
       "    (17, 21, 'order'),\n",
       "    (22, 24, 'numerical_entity')]}),\n",
       " ('What are the worst 12 movies starring Eleazar Gómez',\n",
       "  {'entities': [(38, 51, 'name'),\n",
       "    (13, 18, 'order'),\n",
       "    (19, 21, 'numerical_entity')]}),\n",
       " ('List the movies released in 2003',\n",
       "  {'entities': [(28, 32, 'year'), (16, 23, 'predicate')]}),\n",
       " ('Which movies were directed by Van Morrison in 2004?',\n",
       "  {'entities': [(30, 42, 'name'),\n",
       "    (46, 50, 'year'),\n",
       "    (18, 26, 'action'),\n",
       "    (18, 24, 'action')]}),\n",
       " ('What movies were released in 2005?',\n",
       "  {'entities': [(29, 33, 'year'), (17, 24, 'predicate')]}),\n",
       " ('What movies did Gemma Hayes appear in in 2006?',\n",
       "  {'entities': [(16, 27, 'name'), (41, 45, 'year'), (28, 34, 'action')]}),\n",
       " ('List the films featuring Anne Dudley in 2007',\n",
       "  {'entities': [(25, 36, 'name'), (40, 44, 'year'), (15, 24, 'action')]}),\n",
       " ('Provide the filmography of Yuksek in 2008',\n",
       "  {'entities': [(27, 33, 'name'), (37, 41, 'year')]}),\n",
       " ('Which movies starred Olga Neuwirth in 2009?',\n",
       "  {'entities': [(21, 34, 'name'), (38, 42, 'year')]}),\n",
       " ('Which roles were played by Claudine Muno in 2010?',\n",
       "  {'entities': [(27, 40, 'name'), (44, 48, 'year'), (17, 23, 'action')]}),\n",
       " ('What are the best one movies Anne Lister directed?',\n",
       "  {'entities': [(29, 40, 'name'),\n",
       "    (13, 17, 'order'),\n",
       "    (41, 49, 'action'),\n",
       "    (41, 47, 'action'),\n",
       "    (18, 21, 'numerical_entity')]}),\n",
       " ('List the worst two movies directed by Bryan Burrough',\n",
       "  {'entities': [(38, 52, 'name'),\n",
       "    (9, 14, 'order'),\n",
       "    (26, 34, 'action'),\n",
       "    (26, 32, 'action'),\n",
       "    (15, 18, 'numerical_entity')]}),\n",
       " ('What are the best three movies Michiru Oshima directed?',\n",
       "  {'entities': [(31, 45, 'name'),\n",
       "    (13, 17, 'order'),\n",
       "    (46, 54, 'action'),\n",
       "    (46, 52, 'action'),\n",
       "    (18, 23, 'numerical_entity')]}),\n",
       " ('What are the worst four war movies Nick Seymour directed?',\n",
       "  {'entities': [(35, 47, 'name'),\n",
       "    (13, 18, 'order'),\n",
       "    (24, 27, 'genre'),\n",
       "    (48, 56, 'action'),\n",
       "    (48, 54, 'action'),\n",
       "    (19, 23, 'numerical_entity')]}),\n",
       " ('Which are the best movies where Ross Hunter appeared?',\n",
       "  {'entities': [(32, 43, 'name'), (14, 18, 'order'), (44, 50, 'action')]}),\n",
       " ('Can you name the worst six gangster movies directed by Ivan Graziani?',\n",
       "  {'entities': [(55, 68, 'name'),\n",
       "    (17, 22, 'order'),\n",
       "    (27, 35, 'genre'),\n",
       "    (43, 51, 'action'),\n",
       "    (43, 49, 'action'),\n",
       "    (23, 26, 'numerical_entity')]}),\n",
       " ('Can you list the best seven films with Louise Vesth in the cast?',\n",
       "  {'entities': [(39, 51, 'name'),\n",
       "    (17, 21, 'order'),\n",
       "    (22, 27, 'numerical_entity')]}),\n",
       " ('What are the worst eight movies starring Léon Carré',\n",
       "  {'entities': [(41, 51, 'name'),\n",
       "    (13, 18, 'order'),\n",
       "    (19, 24, 'numerical_entity')]}),\n",
       " ('List the movies released in 2019',\n",
       "  {'entities': [(28, 32, 'year'), (16, 23, 'predicate')]}),\n",
       " ('Which movies were directed by Mina Kubota in 2020?',\n",
       "  {'entities': [(30, 41, 'name'),\n",
       "    (45, 49, 'year'),\n",
       "    (18, 26, 'action'),\n",
       "    (18, 24, 'action')]}),\n",
       " ('What movies were released in 2021?',\n",
       "  {'entities': [(29, 33, 'year'), (17, 24, 'predicate')]}),\n",
       " ('What movies did Nikki Samonas appear in in 2022?',\n",
       "  {'entities': [(16, 29, 'name'), (43, 47, 'year'), (30, 36, 'action')]}),\n",
       " ('List the films featuring Margot Keune in 2023',\n",
       "  {'entities': [(25, 37, 'name'), (41, 45, 'year'), (15, 24, 'action')]}),\n",
       " ('Provide the filmography of Sven Rossenbach in 2024',\n",
       "  {'entities': [(27, 42, 'name'), (46, 50, 'year')]}),\n",
       " ('Which movies starred Roxane Bret in 1678?',\n",
       "  {'entities': [(21, 32, 'name'), (36, 40, 'year')]}),\n",
       " ('Which roles were played by Fedwa Misk in 1679?',\n",
       "  {'entities': [(27, 37, 'name'), (41, 45, 'year'), (17, 23, 'action')]}),\n",
       " ('What are the best seventeen movies Jim Steinman directed?',\n",
       "  {'entities': [(35, 47, 'name'),\n",
       "    (13, 17, 'order'),\n",
       "    (48, 56, 'action'),\n",
       "    (48, 54, 'action'),\n",
       "    (18, 27, 'numerical_entity')]}),\n",
       " ('List the worst eighteen movies directed by Scarlett Estevez',\n",
       "  {'entities': [(43, 59, 'name'),\n",
       "    (9, 14, 'order'),\n",
       "    (31, 39, 'action'),\n",
       "    (31, 37, 'action'),\n",
       "    (15, 23, 'numerical_entity')]}),\n",
       " ('What are the best nineteen movies Al Hoffman directed?',\n",
       "  {'entities': [(34, 44, 'name'),\n",
       "    (13, 17, 'order'),\n",
       "    (45, 53, 'action'),\n",
       "    (45, 51, 'action'),\n",
       "    (18, 26, 'numerical_entity')]}),\n",
       " ('What are the worst twenty family movies Alain Rocca directed?',\n",
       "  {'entities': [(40, 51, 'name'),\n",
       "    (13, 18, 'order'),\n",
       "    (26, 32, 'genre'),\n",
       "    (52, 60, 'action'),\n",
       "    (52, 58, 'action'),\n",
       "    (19, 25, 'numerical_entity')]}),\n",
       " ('Which are the best movies where Aleks Syntek appeared?',\n",
       "  {'entities': [(32, 44, 'name'), (14, 18, 'order'), (45, 51, 'action')]}),\n",
       " ('Can you name the worst 2 romantic comedy movies directed by Alex Ebert?',\n",
       "  {'entities': [(60, 70, 'name'),\n",
       "    (17, 22, 'order'),\n",
       "    (25, 40, 'genre'),\n",
       "    (48, 56, 'action'),\n",
       "    (48, 54, 'action'),\n",
       "    (23, 24, 'numerical_entity')]}),\n",
       " ('Can you list the best 3 films with Guillaume Roussel in the cast?',\n",
       "  {'entities': [(35, 52, 'name'),\n",
       "    (17, 21, 'order'),\n",
       "    (22, 23, 'numerical_entity')]}),\n",
       " ('What are the worst 4 movies starring Antonio Pérez Pérez',\n",
       "  {'entities': [(37, 56, 'name'),\n",
       "    (13, 18, 'order'),\n",
       "    (19, 20, 'numerical_entity')]}),\n",
       " ('List the movies released in 1688',\n",
       "  {'entities': [(28, 32, 'year'), (16, 23, 'predicate')]}),\n",
       " ('Which movies were directed by Imran Ahmad in 1689?',\n",
       "  {'entities': [(30, 41, 'name'),\n",
       "    (45, 49, 'year'),\n",
       "    (18, 26, 'action'),\n",
       "    (18, 24, 'action')]}),\n",
       " ('What movies were released in 1690?',\n",
       "  {'entities': [(29, 33, 'year'), (17, 24, 'predicate')]}),\n",
       " ('What movies did Alejandro Salomon appear in in 1691?',\n",
       "  {'entities': [(16, 33, 'name'), (47, 51, 'year'), (34, 40, 'action')]}),\n",
       " ('List the films featuring Adele Romanski in 1692',\n",
       "  {'entities': [(25, 39, 'name'), (43, 47, 'year'), (15, 24, 'action')]}),\n",
       " ('Provide the filmography of Janine Jackowski in 1693',\n",
       "  {'entities': [(27, 43, 'name'), (47, 51, 'year')]}),\n",
       " ('Which movies starred Oneohtrix Point Never in 1694?',\n",
       "  {'entities': [(21, 42, 'name'), (46, 50, 'year')]}),\n",
       " ('Which roles were played by Arturo Alfonso González Gonzalez in 1695?',\n",
       "  {'entities': [(27, 59, 'name'), (63, 67, 'year'), (17, 23, 'action')]}),\n",
       " ('What are the best 13 movies Anna Udvardy directed?',\n",
       "  {'entities': [(28, 40, 'name'),\n",
       "    (13, 17, 'order'),\n",
       "    (41, 49, 'action'),\n",
       "    (41, 47, 'action'),\n",
       "    (18, 20, 'numerical_entity')]}),\n",
       " ('List the worst 14 movies directed by Lambert',\n",
       "  {'entities': [(37, 44, 'name'),\n",
       "    (9, 14, 'order'),\n",
       "    (25, 33, 'action'),\n",
       "    (25, 31, 'action'),\n",
       "    (15, 17, 'numerical_entity')]}),\n",
       " ('What are the best 15 movies Riz Ortolani directed?',\n",
       "  {'entities': [(28, 40, 'name'),\n",
       "    (13, 17, 'order'),\n",
       "    (41, 49, 'action'),\n",
       "    (41, 47, 'action'),\n",
       "    (18, 20, 'numerical_entity')]}),\n",
       " ('What are the worst 16 slasher movies Kevin Loader directed?',\n",
       "  {'entities': [(37, 49, 'name'),\n",
       "    (13, 18, 'order'),\n",
       "    (22, 29, 'genre'),\n",
       "    (50, 58, 'action'),\n",
       "    (50, 56, 'action'),\n",
       "    (19, 21, 'numerical_entity')]}),\n",
       " ('Which are the best movies where Txetxo Bengoetxea appeared?',\n",
       "  {'entities': [(32, 49, 'name'), (14, 18, 'order'), (50, 56, 'action')]}),\n",
       " ('Can you name the worst 18 buddy movies directed by Guy Gabaldon?',\n",
       "  {'entities': [(51, 63, 'name'),\n",
       "    (17, 22, 'order'),\n",
       "    (26, 31, 'genre'),\n",
       "    (39, 47, 'action'),\n",
       "    (39, 45, 'action'),\n",
       "    (23, 25, 'numerical_entity')]}),\n",
       " ('Can you list the best 19 films with Emily Kasyoka in the cast?',\n",
       "  {'entities': [(36, 49, 'name'),\n",
       "    (17, 21, 'order'),\n",
       "    (22, 24, 'numerical_entity')]}),\n",
       " ('What are the worst 20 movies starring Mehmet Aktaş',\n",
       "  {'entities': [(38, 50, 'name'),\n",
       "    (13, 18, 'order'),\n",
       "    (19, 21, 'numerical_entity')]}),\n",
       " ('List the movies released in 1704',\n",
       "  {'entities': [(28, 32, 'year'), (16, 23, 'predicate')]}),\n",
       " ('Which movies were directed by Brian Reilly in 1705?',\n",
       "  {'entities': [(30, 42, 'name'),\n",
       "    (46, 50, 'year'),\n",
       "    (18, 26, 'action'),\n",
       "    (18, 24, 'action')]}),\n",
       " ('What movies were released in 1706?',\n",
       "  {'entities': [(29, 33, 'year'), (17, 24, 'predicate')]}),\n",
       " ('What movies did Matthew Herbert appear in in 1707?',\n",
       "  {'entities': [(16, 31, 'name'), (45, 49, 'year'), (32, 38, 'action')]}),\n",
       " ('List the films featuring Bob Hilliard in 1708',\n",
       "  {'entities': [(25, 37, 'name'), (41, 45, 'year'), (15, 24, 'action')]}),\n",
       " ('Provide the filmography of Berry Sakharof in 1709',\n",
       "  {'entities': [(27, 41, 'name'), (45, 49, 'year')]}),\n",
       " ('Which movies starred Stephen Carpenter in 1710?',\n",
       "  {'entities': [(21, 38, 'name'), (42, 46, 'year')]}),\n",
       " ('Which roles were played by Patrice Séverac in 1711?',\n",
       "  {'entities': [(27, 42, 'name'), (46, 50, 'year'), (17, 23, 'action')]}),\n",
       " ('What are the best nine movies Brahm Wenger directed?',\n",
       "  {'entities': [(30, 42, 'name'),\n",
       "    (13, 17, 'order'),\n",
       "    (43, 51, 'action'),\n",
       "    (43, 49, 'action'),\n",
       "    (18, 22, 'numerical_entity')]}),\n",
       " ('List the worst ten movies directed by Bruno Fontaine',\n",
       "  {'entities': [(38, 52, 'name'),\n",
       "    (9, 14, 'order'),\n",
       "    (26, 34, 'action'),\n",
       "    (26, 32, 'action'),\n",
       "    (15, 18, 'numerical_entity')]}),\n",
       " ('What are the best eleven movies Ólafur Arnalds directed?',\n",
       "  {'entities': [(32, 46, 'name'),\n",
       "    (13, 17, 'order'),\n",
       "    (47, 55, 'action'),\n",
       "    (47, 53, 'action'),\n",
       "    (18, 24, 'numerical_entity')]}),\n",
       " ('What are the worst twelve mystery movies Carles Cases directed?',\n",
       "  {'entities': [(41, 53, 'name'),\n",
       "    (13, 18, 'order'),\n",
       "    (26, 33, 'genre'),\n",
       "    (54, 62, 'action'),\n",
       "    (54, 60, 'action'),\n",
       "    (19, 25, 'numerical_entity')]}),\n",
       " ('Which are the best movies where Enrique Granados appeared?',\n",
       "  {'entities': [(32, 48, 'name'), (14, 18, 'order'), (49, 55, 'action')]}),\n",
       " ('Can you name the worst fourteen animated movies directed by Henryk Gorecki?',\n",
       "  {'entities': [(60, 74, 'name'),\n",
       "    (17, 22, 'order'),\n",
       "    (32, 40, 'genre'),\n",
       "    (48, 56, 'action'),\n",
       "    (48, 54, 'action'),\n",
       "    (23, 31, 'numerical_entity')]}),\n",
       " ('Can you list the best fifteen films with Joan Manel Vadell Cirer in the cast?',\n",
       "  {'entities': [(41, 64, 'name'),\n",
       "    (17, 21, 'order'),\n",
       "    (22, 29, 'numerical_entity')]}),\n",
       " ('What are the worst sixteen movies starring Richard Sherman',\n",
       "  {'entities': [(43, 58, 'name'),\n",
       "    (13, 18, 'order'),\n",
       "    (19, 26, 'numerical_entity')]}),\n",
       " ('List the movies released in 1720',\n",
       "  {'entities': [(28, 32, 'year'), (16, 23, 'predicate')]}),\n",
       " ('Which movies were directed by Michel Merkt in 1721?',\n",
       "  {'entities': [(30, 42, 'name'),\n",
       "    (46, 50, 'year'),\n",
       "    (18, 26, 'action'),\n",
       "    (18, 24, 'action')]}),\n",
       " ('What movies were released in 1722?',\n",
       "  {'entities': [(29, 33, 'year'), (17, 24, 'predicate')]}),\n",
       " ('What movies did Masahiro Hosoda appear in in 1723?',\n",
       "  {'entities': [(16, 31, 'name'), (45, 49, 'year'), (32, 38, 'action')]}),\n",
       " ('List the films featuring Chris Bacon in 1724',\n",
       "  {'entities': [(25, 36, 'name'), (40, 44, 'year'), (15, 24, 'action')]}),\n",
       " ('Provide the filmography of Chris Lighty in 1725',\n",
       "  {'entities': [(27, 39, 'name'), (43, 47, 'year')]}),\n",
       " ('Which movies starred Sun Myung Moon in 1726?',\n",
       "  {'entities': [(21, 35, 'name'), (39, 43, 'year')]}),\n",
       " ('Which roles were played by Jacques Ibert in 1727?',\n",
       "  {'entities': [(27, 40, 'name'), (44, 48, 'year'), (17, 23, 'action')]}),\n",
       " ('What are the best 5 movies Clinton Shorter directed?',\n",
       "  {'entities': [(27, 42, 'name'),\n",
       "    (13, 17, 'order'),\n",
       "    (43, 51, 'action'),\n",
       "    (43, 49, 'action'),\n",
       "    (18, 19, 'numerical_entity')]}),\n",
       " ('List the worst 6 movies directed by Colin Stetson',\n",
       "  {'entities': [(36, 49, 'name'),\n",
       "    (9, 14, 'order'),\n",
       "    (24, 32, 'action'),\n",
       "    (24, 30, 'action'),\n",
       "    (15, 16, 'numerical_entity')]}),\n",
       " ('What are the best 7 movies Ayano Tsuji directed?',\n",
       "  {'entities': [(27, 38, 'name'),\n",
       "    (13, 17, 'order'),\n",
       "    (39, 47, 'action'),\n",
       "    (39, 45, 'action'),\n",
       "    (18, 19, 'numerical_entity')]}),\n",
       " ('What are the worst 8 flashback movies John Zorn directed?',\n",
       "  {'entities': [(38, 47, 'name'),\n",
       "    (13, 18, 'order'),\n",
       "    (21, 30, 'genre'),\n",
       "    (48, 56, 'action'),\n",
       "    (48, 54, 'action'),\n",
       "    (19, 20, 'numerical_entity')]}),\n",
       " ('Which are the best movies where Nusrat Fateh Ali Khan appeared?',\n",
       "  {'entities': [(32, 53, 'name'), (14, 18, 'order'), (54, 60, 'action')]}),\n",
       " ('Can you name the worst 10 B movie movies directed by Conrad Salinger?',\n",
       "  {'entities': [(53, 68, 'name'),\n",
       "    (17, 22, 'order'),\n",
       "    (26, 33, 'genre'),\n",
       "    (41, 49, 'action'),\n",
       "    (41, 47, 'action'),\n",
       "    (23, 25, 'numerical_entity')]}),\n",
       " ('Can you list the best 11 films with Mike Oldfield in the cast?',\n",
       "  {'entities': [(36, 49, 'name'),\n",
       "    (17, 21, 'order'),\n",
       "    (22, 24, 'numerical_entity')]}),\n",
       " ('What are the worst 12 movies starring Cyril Colbeau-Justin',\n",
       "  {'entities': [(38, 58, 'name'),\n",
       "    (13, 18, 'order'),\n",
       "    (19, 21, 'numerical_entity')]}),\n",
       " ('List the movies released in 1736',\n",
       "  {'entities': [(28, 32, 'year'), (16, 23, 'predicate')]}),\n",
       " ('Which movies were directed by Daniel Goudineau in 1737?',\n",
       "  {'entities': [(30, 46, 'name'),\n",
       "    (50, 54, 'year'),\n",
       "    (18, 26, 'action'),\n",
       "    (18, 24, 'action')]}),\n",
       " ('What movies were released in 1738?',\n",
       "  {'entities': [(29, 33, 'year'), (17, 24, 'predicate')]}),\n",
       " ('What movies did Daniel Wilson appear in in 1739?',\n",
       "  {'entities': [(16, 29, 'name'), (43, 47, 'year'), (30, 36, 'action')]}),\n",
       " ('List the films featuring David Gerber in 1740',\n",
       "  {'entities': [(25, 37, 'name'), (41, 45, 'year'), (15, 24, 'action')]}),\n",
       " ('Provide the filmography of David Lang in 1741',\n",
       "  {'entities': [(27, 37, 'name'), (41, 45, 'year')]}),\n",
       " ('Which movies starred David Parfitt in 1742?',\n",
       "  {'entities': [(21, 34, 'name'), (38, 42, 'year')]}),\n",
       " ('Which roles were played by Chris Brown in 1743?',\n",
       "  {'entities': [(27, 38, 'name'), (42, 46, 'year'), (17, 23, 'action')]}),\n",
       " ('What are the best one movies Denis Héroux directed?',\n",
       "  {'entities': [(29, 41, 'name'),\n",
       "    (13, 17, 'order'),\n",
       "    (42, 50, 'action'),\n",
       "    (42, 48, 'action'),\n",
       "    (18, 21, 'numerical_entity')]}),\n",
       " ('List the worst two movies directed by Desirée Goyette',\n",
       "  {'entities': [(38, 53, 'name'),\n",
       "    (9, 14, 'order'),\n",
       "    (26, 34, 'action'),\n",
       "    (26, 32, 'action'),\n",
       "    (15, 18, 'numerical_entity')]}),\n",
       " ('What are the best three movies Aaron Rosenberg directed?',\n",
       "  {'entities': [(31, 46, 'name'),\n",
       "    (13, 17, 'order'),\n",
       "    (47, 55, 'action'),\n",
       "    (47, 53, 'action'),\n",
       "    (18, 23, 'numerical_entity')]}),\n",
       " ('What are the worst four spaghetti western movies Aaron Schroeder directed?',\n",
       "  {'entities': [(49, 64, 'name'),\n",
       "    (13, 18, 'order'),\n",
       "    (24, 41, 'genre'),\n",
       "    (65, 73, 'action'),\n",
       "    (65, 71, 'action'),\n",
       "    (19, 23, 'numerical_entity')]}),\n",
       " ('Which are the best movies where Barry Manilow appeared?',\n",
       "  {'entities': [(32, 45, 'name'), (14, 18, 'order'), (46, 52, 'action')]}),\n",
       " ('Can you name the worst six comedy of remarriage movies directed by Richard Baker?',\n",
       "  {'entities': [(67, 80, 'name'),\n",
       "    (17, 22, 'order'),\n",
       "    (27, 47, 'genre'),\n",
       "    (55, 63, 'action'),\n",
       "    (55, 61, 'action'),\n",
       "    (23, 26, 'numerical_entity')]}),\n",
       " ('Can you list the best seven films with Dominique Dalcan in the cast?',\n",
       "  {'entities': [(39, 55, 'name'),\n",
       "    (17, 21, 'order'),\n",
       "    (22, 27, 'numerical_entity')]}),\n",
       " ('What are the worst eight movies starring John Digweed',\n",
       "  {'entities': [(41, 53, 'name'),\n",
       "    (13, 18, 'order'),\n",
       "    (19, 24, 'numerical_entity')]}),\n",
       " ('List the movies released in 1752',\n",
       "  {'entities': [(28, 32, 'year'), (16, 23, 'predicate')]}),\n",
       " ('Which movies were directed by Earl Hudson in 1753?',\n",
       "  {'entities': [(30, 41, 'name'),\n",
       "    (45, 49, 'year'),\n",
       "    (18, 26, 'action'),\n",
       "    (18, 24, 'action')]}),\n",
       " ('What movies were released in 1754?',\n",
       "  {'entities': [(29, 33, 'year'), (17, 24, 'predicate')]}),\n",
       " ('What movies did Eduardo Makaroff appear in in 1755?',\n",
       "  {'entities': [(16, 32, 'name'), (46, 50, 'year'), (33, 39, 'action')]}),\n",
       " ('List the films featuring Elda Ferri in 1756',\n",
       "  {'entities': [(25, 35, 'name'), (39, 43, 'year'), (15, 24, 'action')]}),\n",
       " ('Provide the filmography of Enzo Masetti in 1757',\n",
       "  {'entities': [(27, 39, 'name'), (43, 47, 'year')]}),\n",
       " ('Which movies starred George Fernandes in 1758?',\n",
       "  {'entities': [(21, 37, 'name'), (41, 45, 'year')]}),\n",
       " ('Which roles were played by Erkan Oğur in 1759?',\n",
       "  {'entities': [(27, 37, 'name'), (41, 45, 'year'), (17, 23, 'action')]}),\n",
       " ('What are the best seventeen movies John Larkin directed?',\n",
       "  {'entities': [(35, 46, 'name'),\n",
       "    (13, 17, 'order'),\n",
       "    (47, 55, 'action'),\n",
       "    (47, 53, 'action'),\n",
       "    (18, 27, 'numerical_entity')]}),\n",
       " ('List the worst eighteen movies directed by Ben Weinman',\n",
       "  {'entities': [(43, 54, 'name'),\n",
       "    (9, 14, 'order'),\n",
       "    (31, 39, 'action'),\n",
       "    (31, 37, 'action'),\n",
       "    (15, 23, 'numerical_entity')]}),\n",
       " ('What are the best nineteen movies Mel Leven directed?',\n",
       "  {'entities': [(34, 43, 'name'),\n",
       "    (13, 17, 'order'),\n",
       "    (44, 52, 'action'),\n",
       "    (44, 50, 'action'),\n",
       "    (18, 26, 'numerical_entity')]}),\n",
       " ('What are the worst twenty farce movies Fiorenzo Carpi directed?',\n",
       "  {'entities': [(39, 53, 'name'),\n",
       "    (13, 18, 'order'),\n",
       "    (26, 31, 'genre'),\n",
       "    (54, 62, 'action'),\n",
       "    (54, 60, 'action'),\n",
       "    (19, 25, 'numerical_entity')]}),\n",
       " ('Which are the best movies where Abdelhafid Boussouf appeared?',\n",
       "  {'entities': [(32, 51, 'name'), (14, 18, 'order'), (52, 58, 'action')]}),\n",
       " ('Can you name the worst 2 Bollywood movies directed by Francis Lemarque?',\n",
       "  {'entities': [(54, 70, 'name'),\n",
       "    (17, 22, 'order'),\n",
       "    (25, 34, 'genre'),\n",
       "    (42, 50, 'action'),\n",
       "    (42, 48, 'action'),\n",
       "    (23, 24, 'numerical_entity')]}),\n",
       " ('Can you list the best 3 films with Franco Mannino in the cast?',\n",
       "  {'entities': [(35, 49, 'name'),\n",
       "    (17, 21, 'order'),\n",
       "    (22, 23, 'numerical_entity')]}),\n",
       " ('What are the worst 4 movies starring François-Eudes Chanfrault',\n",
       "  {'entities': [(37, 62, 'name'),\n",
       "    (13, 18, 'order'),\n",
       "    (19, 20, 'numerical_entity')]}),\n",
       " ('List the movies released in 1768',\n",
       "  {'entities': [(28, 32, 'year'), (16, 23, 'predicate')]}),\n",
       " ('Which movies were directed by Milt Franklyn in 1769?',\n",
       "  {'entities': [(30, 43, 'name'),\n",
       "    (47, 51, 'year'),\n",
       "    (18, 26, 'action'),\n",
       "    (18, 24, 'action')]}),\n",
       " ('What movies were released in 1770?',\n",
       "  {'entities': [(29, 33, 'year'), (17, 24, 'predicate')]}),\n",
       " ('What movies did Charles Ives appear in in 1771?',\n",
       "  {'entities': [(16, 28, 'name'), (42, 46, 'year'), (29, 35, 'action')]}),\n",
       " ('List the films featuring Curtis Mayfield in 1772',\n",
       "  {'entities': [(25, 40, 'name'), (44, 48, 'year'), (15, 24, 'action')]}),\n",
       " ('Provide the filmography of Gerald Casale in 1773',\n",
       "  {'entities': [(27, 40, 'name'), (44, 48, 'year')]}),\n",
       " ('Which movies starred Ghédalia Tazartès in 1774?',\n",
       "  {'entities': [(21, 38, 'name'), (42, 46, 'year')]}),\n",
       " ('Which roles were played by Giannis Aggelakas in 1775?',\n",
       "  {'entities': [(27, 44, 'name'), (48, 52, 'year'), (17, 23, 'action')]}),\n",
       " ('What are the best 13 movies Gilles Grégoire directed?',\n",
       "  {'entities': [(28, 43, 'name'),\n",
       "    (13, 17, 'order'),\n",
       "    (44, 52, 'action'),\n",
       "    (44, 50, 'action'),\n",
       "    (18, 20, 'numerical_entity')]}),\n",
       " ('List the worst 14 movies directed by William Walton',\n",
       "  {'entities': [(37, 51, 'name'),\n",
       "    (9, 14, 'order'),\n",
       "    (25, 33, 'action'),\n",
       "    (25, 31, 'action'),\n",
       "    (15, 17, 'numerical_entity')]}),\n",
       " ('What are the best 15 movies Yoshiki directed?',\n",
       "  {'entities': [(28, 35, 'name'),\n",
       "    (13, 17, 'order'),\n",
       "    (36, 44, 'action'),\n",
       "    (36, 42, 'action'),\n",
       "    (18, 20, 'numerical_entity')]}),\n",
       " ('What are the worst 16 alien invasion movies Mark Hart directed?',\n",
       "  {'entities': [(44, 53, 'name'),\n",
       "    (13, 18, 'order'),\n",
       "    (22, 36, 'genre'),\n",
       "    (54, 62, 'action'),\n",
       "    (54, 60, 'action'),\n",
       "    (19, 21, 'numerical_entity')]}),\n",
       " ('Which are the best movies where Gray Frederickson appeared?',\n",
       "  {'entities': [(32, 49, 'name'), (14, 18, 'order'), (50, 56, 'action')]}),\n",
       " ('Can you name the worst 18 knight movies directed by John Davis?',\n",
       "  {'entities': [(52, 62, 'name'),\n",
       "    (17, 22, 'order'),\n",
       "    (26, 32, 'genre'),\n",
       "    (40, 48, 'action'),\n",
       "    (40, 46, 'action'),\n",
       "    (23, 25, 'numerical_entity')]}),\n",
       " ('Can you list the best 19 films with Damien Rice in the cast?',\n",
       "  {'entities': [(36, 47, 'name'),\n",
       "    (17, 21, 'order'),\n",
       "    (22, 24, 'numerical_entity')]}),\n",
       " ('What are the worst 20 movies starring Wilson Pickett',\n",
       "  {'entities': [(38, 52, 'name'),\n",
       "    (13, 18, 'order'),\n",
       "    (19, 21, 'numerical_entity')]}),\n",
       " ('List the movies released in 1784',\n",
       "  {'entities': [(28, 32, 'year'), (16, 23, 'predicate')]}),\n",
       " ('Which movies were directed by Per Gessle in 1785?',\n",
       "  {'entities': [(30, 40, 'name'),\n",
       "    (44, 48, 'year'),\n",
       "    (18, 26, 'action'),\n",
       "    (18, 24, 'action')]}),\n",
       " ('What movies were released in 1786?',\n",
       "  {'entities': [(29, 33, 'year'), (17, 24, 'predicate')]}),\n",
       " ('What movies did Trevor Horn appear in in 1787?',\n",
       "  {'entities': [(16, 27, 'name'), (41, 45, 'year'), (28, 34, 'action')]}),\n",
       " ('List the films featuring Joseph Kosuth in 1788',\n",
       "  {'entities': [(25, 38, 'name'), (42, 46, 'year'), (15, 24, 'action')]}),\n",
       " ('Provide the filmography of R. V. Pandit in 1789',\n",
       "  {'entities': [(27, 39, 'name'), (43, 47, 'year')]}),\n",
       " ('Which movies starred Erich Wolfgang Korngold in 1790?',\n",
       "  {'entities': [(21, 44, 'name'), (48, 52, 'year')]}),\n",
       " ('Which roles were played by Herman Stein in 1791?',\n",
       "  {'entities': [(27, 39, 'name'), (43, 47, 'year'), (17, 23, 'action')]}),\n",
       " ('What are the best nine movies Hervé Joseph Lebrun directed?',\n",
       "  {'entities': [(30, 49, 'name'),\n",
       "    (13, 17, 'order'),\n",
       "    (50, 58, 'action'),\n",
       "    (50, 56, 'action'),\n",
       "    (18, 22, 'numerical_entity')]}),\n",
       " ('List the worst ten movies directed by Sidney Bechet',\n",
       "  {'entities': [(38, 51, 'name'),\n",
       "    (9, 14, 'order'),\n",
       "    (26, 34, 'action'),\n",
       "    (26, 32, 'action'),\n",
       "    (15, 18, 'numerical_entity')]}),\n",
       " ('What are the best eleven movies V. Anand Prasad directed?',\n",
       "  {'entities': [(32, 47, 'name'),\n",
       "    (13, 17, 'order'),\n",
       "    (48, 56, 'action'),\n",
       "    (48, 54, 'action'),\n",
       "    (18, 24, 'numerical_entity')]}),\n",
       " ('What are the worst twelve poliziotteschi movies Luigi Ceccarelli directed?',\n",
       "  {'entities': [(48, 64, 'name'),\n",
       "    (13, 18, 'order'),\n",
       "    (26, 40, 'genre'),\n",
       "    (65, 73, 'action'),\n",
       "    (65, 71, 'action'),\n",
       "    (19, 25, 'numerical_entity')]}),\n",
       " ('Which are the best movies where Alex Turner appeared?',\n",
       "  {'entities': [(32, 43, 'name'), (14, 18, 'order'), (44, 50, 'action')]}),\n",
       " ('Can you name the worst fourteen battle movies directed by Daniel Bell?',\n",
       "  {'entities': [(58, 69, 'name'),\n",
       "    (17, 22, 'order'),\n",
       "    (32, 38, 'genre'),\n",
       "    (46, 54, 'action'),\n",
       "    (46, 52, 'action'),\n",
       "    (23, 31, 'numerical_entity')]}),\n",
       " ('Can you list the best fifteen films with Amon Tobin in the cast?',\n",
       "  {'entities': [(41, 51, 'name'),\n",
       "    (17, 21, 'order'),\n",
       "    (22, 29, 'numerical_entity')]}),\n",
       " ('What are the worst sixteen movies starring Jean-Louis Roques',\n",
       "  {'entities': [(43, 60, 'name'),\n",
       "    (13, 18, 'order'),\n",
       "    (19, 26, 'numerical_entity')]}),\n",
       " ('List the movies released in 1800',\n",
       "  {'entities': [(28, 32, 'year'), (16, 23, 'predicate')]}),\n",
       " ('Which movies were directed by Jean-Pierre Dusséaux in 1801?',\n",
       "  {'entities': [(30, 50, 'name'),\n",
       "    (54, 58, 'year'),\n",
       "    (18, 26, 'action'),\n",
       "    (18, 24, 'action')]}),\n",
       " ('What movies were released in 1802?',\n",
       "  {'entities': [(29, 33, 'year'), (17, 24, 'predicate')]}),\n",
       " ('What movies did Dimitri Tiomkin appear in in 1803?',\n",
       "  {'entities': [(16, 31, 'name'), (45, 49, 'year'), (32, 38, 'action')]}),\n",
       " ('List the films featuring Jelly Roll Morton in 1804',\n",
       "  {'entities': [(25, 42, 'name'), (46, 50, 'year'), (15, 24, 'action')]}),\n",
       " ('Provide the filmography of John Tavener in 1805',\n",
       "  {'entities': [(27, 39, 'name'), (43, 47, 'year')]}),\n",
       " ('Which movies starred Jean Thuillier in 1806?',\n",
       "  {'entities': [(21, 35, 'name'), (39, 43, 'year')]}),\n",
       " ('Which roles were played by Jed Kurzel in 1807?',\n",
       "  {'entities': [(27, 37, 'name'), (41, 45, 'year'), (17, 23, 'action')]}),\n",
       " ('What are the best 5 movies Jeff Bowler directed?',\n",
       "  {'entities': [(27, 38, 'name'),\n",
       "    (13, 17, 'order'),\n",
       "    (39, 47, 'action'),\n",
       "    (39, 45, 'action'),\n",
       "    (18, 19, 'numerical_entity')]}),\n",
       " ('List the worst 6 movies directed by Abdullah Ibrahim',\n",
       "  {'entities': [(36, 52, 'name'),\n",
       "    (9, 14, 'order'),\n",
       "    (24, 32, 'action'),\n",
       "    (24, 30, 'action'),\n",
       "    (15, 16, 'numerical_entity')]}),\n",
       " ('What are the best 7 movies Jerry Bresler directed?',\n",
       "  {'entities': [(27, 40, 'name'),\n",
       "    (13, 17, 'order'),\n",
       "    (41, 49, 'action'),\n",
       "    (41, 47, 'action'),\n",
       "    (18, 19, 'numerical_entity')]}),\n",
       " ('What are the worst 8 Kaiju movies Joe Raposo directed?',\n",
       "  {'entities': [(34, 44, 'name'),\n",
       "    (13, 18, 'order'),\n",
       "    (21, 26, 'genre'),\n",
       "    (45, 53, 'action'),\n",
       "    (45, 51, 'action'),\n",
       "    (19, 20, 'numerical_entity')]}),\n",
       " ('Which are the best movies where John Beal appeared?',\n",
       "  {'entities': [(32, 41, 'name'), (14, 18, 'order'), (42, 48, 'action')]}),\n",
       " ('Can you name the worst 10 alternate history movies directed by Abraham Laboriel?',\n",
       "  {'entities': [(63, 79, 'name'),\n",
       "    (17, 22, 'order'),\n",
       "    (26, 43, 'genre'),\n",
       "    (51, 59, 'action'),\n",
       "    (51, 57, 'action'),\n",
       "    (23, 25, 'numerical_entity')]}),\n",
       " ('Can you list the best 11 films with Josephine Wiggs in the cast?',\n",
       "  {'entities': [(36, 51, 'name'),\n",
       "    (17, 21, 'order'),\n",
       "    (22, 24, 'numerical_entity')]}),\n",
       " ('What are the worst 12 movies starring Henri Dutilleux',\n",
       "  {'entities': [(38, 53, 'name'),\n",
       "    (13, 18, 'order'),\n",
       "    (19, 21, 'numerical_entity')]}),\n",
       " ('List the movies released in 1816',\n",
       "  {'entities': [(28, 32, 'year'), (16, 23, 'predicate')]}),\n",
       " ('Which movies were directed by Jérôme Leroy in 1817?',\n",
       "  {'entities': [(30, 42, 'name'),\n",
       "    (46, 50, 'year'),\n",
       "    (18, 26, 'action'),\n",
       "    (18, 24, 'action')]}),\n",
       " ('What movies were released in 1818?',\n",
       "  {'entities': [(29, 33, 'year'), (17, 24, 'predicate')]}),\n",
       " ('What movies did Karl Hajos appear in in 1819?',\n",
       "  {'entities': [(16, 26, 'name'), (40, 44, 'year'), (27, 33, 'action')]}),\n",
       " ('List the films featuring Sufjan Stevens in 1820',\n",
       "  {'entities': [(25, 39, 'name'), (43, 47, 'year'), (15, 24, 'action')]}),\n",
       " ('Provide the filmography of Henning Lohner in 1821',\n",
       "  {'entities': [(27, 41, 'name'), (45, 49, 'year')]}),\n",
       " ('Which movies starred Tony Banks in 1822?',\n",
       "  {'entities': [(21, 31, 'name'), (35, 39, 'year')]}),\n",
       " ('Which roles were played by Paul Oakenfold in 1823?',\n",
       "  {'entities': [(27, 41, 'name'), (45, 49, 'year'), (17, 23, 'action')]}),\n",
       " ('What are the best one movies Laurent Alvarez directed?',\n",
       "  {'entities': [(29, 44, 'name'),\n",
       "    (13, 17, 'order'),\n",
       "    (45, 53, 'action'),\n",
       "    (45, 51, 'action'),\n",
       "    (18, 21, 'numerical_entity')]}),\n",
       " ('List the worst two movies directed by Laurent Levesque',\n",
       "  {'entities': [(38, 54, 'name'),\n",
       "    (9, 14, 'order'),\n",
       "    (26, 34, 'action'),\n",
       "    (26, 32, 'action'),\n",
       "    (15, 18, 'numerical_entity')]}),\n",
       " ('What are the best three movies Teddy Edwards directed?',\n",
       "  {'entities': [(31, 44, 'name'),\n",
       "    (13, 17, 'order'),\n",
       "    (45, 53, 'action'),\n",
       "    (45, 51, 'action'),\n",
       "    (18, 23, 'numerical_entity')]}),\n",
       " ('What are the worst four supernatural movies Henryk Wars directed?',\n",
       "  {'entities': [(44, 55, 'name'),\n",
       "    (13, 18, 'order'),\n",
       "    (24, 36, 'genre'),\n",
       "    (56, 64, 'action'),\n",
       "    (56, 62, 'action'),\n",
       "    (19, 23, 'numerical_entity')]}),\n",
       " ('Which are the best movies where Marcus Miller appeared?',\n",
       "  {'entities': [(32, 45, 'name'), (14, 18, 'order'), (46, 52, 'action')]}),\n",
       " ('Can you name the worst six stop-motion animated movies directed by Billy Sherrill?',\n",
       "  {'entities': [(67, 81, 'name'),\n",
       "    (17, 22, 'order'),\n",
       "    (27, 47, 'genre'),\n",
       "    (55, 63, 'action'),\n",
       "    (55, 61, 'action'),\n",
       "    (23, 26, 'numerical_entity')]}),\n",
       " ('Can you list the best seven films with Levon Minassian in the cast?',\n",
       "  {'entities': [(39, 54, 'name'),\n",
       "    (17, 21, 'order'),\n",
       "    (22, 27, 'numerical_entity')]}),\n",
       " ('What are the worst eight movies starring Grzegorz Ciechowski',\n",
       "  {'entities': [(41, 60, 'name'),\n",
       "    (13, 18, 'order'),\n",
       "    (19, 24, 'numerical_entity')]}),\n",
       " ('List the movies released in 1832',\n",
       "  {'entities': [(28, 32, 'year'), (16, 23, 'predicate')]}),\n",
       " ('Which movies were directed by Francesco De Masi in 1833?',\n",
       "  {'entities': [(30, 47, 'name'),\n",
       "    (51, 55, 'year'),\n",
       "    (18, 26, 'action'),\n",
       "    (18, 24, 'action')]}),\n",
       " ('What movies were released in 1834?',\n",
       "  {'entities': [(29, 33, 'year'), (17, 24, 'predicate')]}),\n",
       " ('What movies did Latif Yahia appear in in 1835?',\n",
       "  {'entities': [(16, 27, 'name'), (41, 45, 'year'), (28, 34, 'action')]}),\n",
       " ('List the films featuring Nikki Sudden in 1836',\n",
       "  {'entities': [(25, 37, 'name'), (41, 45, 'year'), (15, 24, 'action')]}),\n",
       " ('Provide the filmography of Louis de Cahusac in 1837',\n",
       "  {'entities': [(27, 43, 'name'), (47, 51, 'year')]}),\n",
       " ('Which movies starred Tucker Max in 1838?',\n",
       "  {'entities': [(21, 31, 'name'), (35, 39, 'year')]}),\n",
       " ('Which roles were played by Louis F. Edelman in 1839?',\n",
       "  {'entities': [(27, 43, 'name'), (47, 51, 'year'), (17, 23, 'action')]}),\n",
       " ('What are the best seventeen movies Piero Umiliani directed?',\n",
       "  {'entities': [(35, 49, 'name'),\n",
       "    (13, 17, 'order'),\n",
       "    (50, 58, 'action'),\n",
       "    (50, 56, 'action'),\n",
       "    (18, 27, 'numerical_entity')]}),\n",
       " ('List the worst eighteen movies directed by Goffredo Lombardo',\n",
       "  {'entities': [(43, 60, 'name'),\n",
       "    (9, 14, 'order'),\n",
       "    (31, 39, 'action'),\n",
       "    (31, 37, 'action'),\n",
       "    (15, 23, 'numerical_entity')]}),\n",
       " ('What are the best nineteen movies Alessandro Cicognini directed?',\n",
       "  {'entities': [(34, 54, 'name'),\n",
       "    (13, 17, 'order'),\n",
       "    (55, 63, 'action'),\n",
       "    (55, 61, 'action'),\n",
       "    (18, 26, 'numerical_entity')]}),\n",
       " ('What are the worst twenty Eastern movies Lluís Miñarro directed?',\n",
       "  {'entities': [(41, 54, 'name'),\n",
       "    (13, 18, 'order'),\n",
       "    (26, 33, 'genre'),\n",
       "    (55, 63, 'action'),\n",
       "    (55, 61, 'action'),\n",
       "    (19, 25, 'numerical_entity')]}),\n",
       " ('Which are the best movies where Duncan Kenworthy appeared?',\n",
       "  {'entities': [(32, 48, 'name'), (14, 18, 'order'), (49, 55, 'action')]}),\n",
       " ('Can you name the worst 2 heroic bloodshed movies directed by James Dooley?',\n",
       "  {'entities': [(61, 73, 'name'),\n",
       "    (17, 22, 'order'),\n",
       "    (25, 41, 'genre'),\n",
       "    (49, 57, 'action'),\n",
       "    (49, 55, 'action'),\n",
       "    (23, 24, 'numerical_entity')]}),\n",
       " ('Can you list the best 3 films with Richard M. Goodwin in the cast?',\n",
       "  {'entities': [(35, 53, 'name'),\n",
       "    (17, 21, 'order'),\n",
       "    (22, 23, 'numerical_entity')]}),\n",
       " ('What are the worst 4 movies starring Richard Elliot',\n",
       "  {'entities': [(37, 51, 'name'),\n",
       "    (13, 18, 'order'),\n",
       "    (19, 20, 'numerical_entity')]}),\n",
       " ('List the movies released in 1848',\n",
       "  {'entities': [(28, 32, 'year'), (16, 23, 'predicate')]}),\n",
       " ('Which movies were directed by Cyril J. Mockridge in 1849?',\n",
       "  {'entities': [(30, 48, 'name'),\n",
       "    (52, 56, 'year'),\n",
       "    (18, 26, 'action'),\n",
       "    (18, 24, 'action')]}),\n",
       " ('What movies were released in 1850?',\n",
       "  {'entities': [(29, 33, 'year'), (17, 24, 'predicate')]}),\n",
       " ('What movies did Martin Pope appear in in 1851?',\n",
       "  {'entities': [(16, 27, 'name'), (41, 45, 'year'), (28, 34, 'action')]}),\n",
       " ('List the films featuring Mary Church Terrell in 1852',\n",
       "  {'entities': [(25, 44, 'name'), (48, 52, 'year'), (15, 24, 'action')]}),\n",
       " ('Provide the filmography of Matthieu Gonet in 1853',\n",
       "  {'entities': [(27, 41, 'name'), (45, 49, 'year')]}),\n",
       " ('Which movies starred Mario Nascimbene in 1854?',\n",
       "  {'entities': [(21, 37, 'name'), (41, 45, 'year')]}),\n",
       " ('Which roles were played by Evzen Kolar in 1855?',\n",
       "  {'entities': [(27, 38, 'name'), (42, 46, 'year'), (17, 23, 'action')]}),\n",
       " ('What are the best 13 movies Michael Price directed?',\n",
       "  {'entities': [(28, 41, 'name'),\n",
       "    (13, 17, 'order'),\n",
       "    (42, 50, 'action'),\n",
       "    (42, 48, 'action'),\n",
       "    (18, 20, 'numerical_entity')]}),\n",
       " ('List the worst 14 movies directed by Michael Tadross',\n",
       "  {'entities': [(37, 52, 'name'),\n",
       "    (9, 14, 'order'),\n",
       "    (25, 33, 'action'),\n",
       "    (25, 31, 'action'),\n",
       "    (15, 17, 'numerical_entity')]}),\n",
       " ('What are the best 15 movies Timothy Ballard directed?',\n",
       "  {'entities': [(28, 43, 'name'),\n",
       "    (13, 17, 'order'),\n",
       "    (44, 52, 'action'),\n",
       "    (44, 50, 'action'),\n",
       "    (18, 20, 'numerical_entity')]}),\n",
       " ('What are the worst 16 social comedy movies W. Franke Harling directed?',\n",
       "  {'entities': [(43, 60, 'name'),\n",
       "    (13, 18, 'order'),\n",
       "    (22, 35, 'genre'),\n",
       "    (61, 69, 'action'),\n",
       "    (61, 67, 'action'),\n",
       "    (19, 21, 'numerical_entity')]}),\n",
       " ('Which are the best movies where Talvin Singh appeared?',\n",
       "  {'entities': [(32, 44, 'name'), (14, 18, 'order'), (45, 51, 'action')]}),\n",
       " ('Can you name the worst 18 science fiction action movies directed by Gary Numan?',\n",
       "  {'entities': [(68, 78, 'name'),\n",
       "    (17, 22, 'order'),\n",
       "    (26, 48, 'genre'),\n",
       "    (56, 64, 'action'),\n",
       "    (56, 62, 'action'),\n",
       "    (23, 25, 'numerical_entity')]}),\n",
       " ('Can you list the best 19 films with Ken Thorne in the cast?',\n",
       "  {'entities': [(36, 46, 'name'),\n",
       "    (17, 21, 'order'),\n",
       "    (22, 24, 'numerical_entity')]}),\n",
       " ('What are the worst 20 movies starring John Leipold',\n",
       "  {'entities': [(38, 50, 'name'),\n",
       "    (13, 18, 'order'),\n",
       "    (19, 21, 'numerical_entity')]}),\n",
       " ('List the movies released in 1864',\n",
       "  {'entities': [(28, 32, 'year'), (16, 23, 'predicate')]}),\n",
       " ('Which movies were directed by Carlos Jean in 1865?',\n",
       "  {'entities': [(30, 41, 'name'),\n",
       "    (45, 49, 'year'),\n",
       "    (18, 26, 'action'),\n",
       "    (18, 24, 'action')]}),\n",
       " ('What movies were released in 1866?',\n",
       "  {'entities': [(29, 33, 'year'), (17, 24, 'predicate')]}),\n",
       " ('What movies did Karl Jenkins appear in in 1867?',\n",
       "  {'entities': [(16, 28, 'name'), (42, 46, 'year'), (29, 35, 'action')]}),\n",
       " ('List the films featuring Walter Bedell Smith in 1868',\n",
       "  {'entities': [(25, 44, 'name'), (48, 52, 'year'), (15, 24, 'action')]}),\n",
       " ('Provide the filmography of Neil Davidge in 1869',\n",
       "  {'entities': [(27, 39, 'name'), (43, 47, 'year')]}),\n",
       " ('Which movies starred Nico Muhly in 1870?',\n",
       "  {'entities': [(21, 31, 'name'), (35, 39, 'year')]}),\n",
       " ('Which roles were played by Nicolas Errèra in 1871?',\n",
       "  {'entities': [(27, 41, 'name'), (45, 49, 'year'), (17, 23, 'action')]}),\n",
       " ('What are the best nine movies Bappi Lahiri directed?',\n",
       "  {'entities': [(30, 42, 'name'),\n",
       "    (13, 17, 'order'),\n",
       "    (43, 51, 'action'),\n",
       "    (43, 49, 'action'),\n",
       "    (18, 22, 'numerical_entity')]}),\n",
       " ('List the worst ten movies directed by Herbert Lincoln Clarke',\n",
       "  {'entities': [(38, 60, 'name'),\n",
       "    (9, 14, 'order'),\n",
       "    (26, 34, 'action'),\n",
       "    (26, 32, 'action'),\n",
       "    (15, 18, 'numerical_entity')]}),\n",
       " ('What are the best eleven movies Pascal Humbert directed?',\n",
       "  {'entities': [(32, 46, 'name'),\n",
       "    (13, 17, 'order'),\n",
       "    (47, 55, 'action'),\n",
       "    (47, 53, 'action'),\n",
       "    (18, 24, 'numerical_entity')]}),\n",
       " ('What are the worst twelve biography movies Pascale Dauman directed?',\n",
       "  {'entities': [(43, 57, 'name'),\n",
       "    (13, 18, 'order'),\n",
       "    (26, 35, 'genre'),\n",
       "    (58, 66, 'action'),\n",
       "    (58, 64, 'action'),\n",
       "    (19, 25, 'numerical_entity')]}),\n",
       " ('Which are the best movies where Lew Grade appeared?',\n",
       "  {'entities': [(32, 41, 'name'), (14, 18, 'order'), (42, 48, 'action')]}),\n",
       " ('Can you name the worst fourteen supernatural horror movies directed by Patrice Ledoux?',\n",
       "  {'entities': [(71, 85, 'name'),\n",
       "    (17, 22, 'order'),\n",
       "    (32, 51, 'genre'),\n",
       "    (59, 67, 'action'),\n",
       "    (59, 65, 'action'),\n",
       "    (23, 31, 'numerical_entity')]}),\n",
       " ('Can you list the best fifteen films with Paul Claudon in the cast?',\n",
       "  {'entities': [(41, 53, 'name'),\n",
       "    (17, 21, 'order'),\n",
       "    (22, 29, 'numerical_entity')]}),\n",
       " ('What are the worst sixteen movies starring Paul Sawtell',\n",
       "  {'entities': [(43, 55, 'name'),\n",
       "    (13, 18, 'order'),\n",
       "    (19, 26, 'numerical_entity')]}),\n",
       " ('List the movies released in 1880',\n",
       "  {'entities': [(28, 32, 'year'), (16, 23, 'predicate')]}),\n",
       " ('Which movies were directed by Pete Haycock in 1881?',\n",
       "  {'entities': [(30, 42, 'name'),\n",
       "    (46, 50, 'year'),\n",
       "    (18, 26, 'action'),\n",
       "    (18, 24, 'action')]}),\n",
       " ('What movies were released in 1882?',\n",
       "  {'entities': [(29, 33, 'year'), (17, 24, 'predicate')]}),\n",
       " ('What movies did Phil Davies appear in in 1883?',\n",
       "  {'entities': [(16, 27, 'name'), (41, 45, 'year'), (28, 34, 'action')]}),\n",
       " ('List the films featuring Philippe Avril in 1884',\n",
       "  {'entities': [(25, 39, 'name'), (43, 47, 'year'), (15, 24, 'action')]}),\n",
       " ('Provide the filmography of Philippe Hersant in 1885',\n",
       "  {'entities': [(27, 43, 'name'), (47, 51, 'year')]}),\n",
       " ('Which movies starred Emil Petrovics in 1886?',\n",
       "  {'entities': [(21, 35, 'name'), (39, 43, 'year')]}),\n",
       " ('Which roles were played by Nacho Mastretta in 1887?',\n",
       "  {'entities': [(27, 42, 'name'), (46, 50, 'year'), (17, 23, 'action')]}),\n",
       " ('What are the best 5 movies Jeff Barry directed?',\n",
       "  {'entities': [(27, 37, 'name'),\n",
       "    (13, 17, 'order'),\n",
       "    (38, 46, 'action'),\n",
       "    (38, 44, 'action'),\n",
       "    (18, 19, 'numerical_entity')]}),\n",
       " ('List the worst 6 movies directed by Voki Kostić',\n",
       "  {'entities': [(36, 47, 'name'),\n",
       "    (9, 14, 'order'),\n",
       "    (24, 32, 'action'),\n",
       "    (24, 30, 'action'),\n",
       "    (15, 16, 'numerical_entity')]}),\n",
       " ('What are the best 7 movies Mason Williams directed?',\n",
       "  {'entities': [(27, 41, 'name'),\n",
       "    (13, 17, 'order'),\n",
       "    (42, 50, 'action'),\n",
       "    (42, 48, 'action'),\n",
       "    (18, 19, 'numerical_entity')]}),\n",
       " (\"What are the worst 8 Commedia all'italiana movies Denis Johnson directed?\",\n",
       "  {'entities': [(50, 63, 'name'),\n",
       "    (13, 18, 'order'),\n",
       "    (21, 42, 'genre'),\n",
       "    (64, 72, 'action'),\n",
       "    (64, 70, 'action'),\n",
       "    (19, 20, 'numerical_entity')]}),\n",
       " ('Which are the best movies where Raphaël Millet appeared?',\n",
       "  {'entities': [(32, 46, 'name'), (14, 18, 'order'), (47, 53, 'action')]}),\n",
       " ('Can you name the worst 10 post-apocalyptic fiction movies directed by Raymond Borderie?',\n",
       "  {'entities': [(70, 86, 'name'),\n",
       "    (17, 22, 'order'),\n",
       "    (26, 50, 'genre'),\n",
       "    (58, 66, 'action'),\n",
       "    (58, 64, 'action'),\n",
       "    (23, 25, 'numerical_entity')]}),\n",
       " ('Can you list the best 11 films with Raymond Eger in the cast?',\n",
       "  {'entities': [(36, 48, 'name'),\n",
       "    (17, 21, 'order'),\n",
       "    (22, 24, 'numerical_entity')]}),\n",
       " ('What are the worst 12 movies starring Dmitry Pavlov',\n",
       "  {'entities': [(38, 51, 'name'),\n",
       "    (13, 18, 'order'),\n",
       "    (19, 21, 'numerical_entity')]}),\n",
       " ('List the movies released in 1896',\n",
       "  {'entities': [(28, 32, 'year'), (16, 23, 'predicate')]}),\n",
       " ('Which movies were directed by Glenn Slater in 1897?',\n",
       "  {'entities': [(30, 42, 'name'),\n",
       "    (46, 50, 'year'),\n",
       "    (18, 26, 'action'),\n",
       "    (18, 24, 'action')]}),\n",
       " ('What movies were released in 1898?',\n",
       "  {'entities': [(29, 33, 'year'), (17, 24, 'predicate')]}),\n",
       " ('What movies did Charles Calello appear in in 1899?',\n",
       "  {'entities': [(16, 31, 'name'), (45, 49, 'year'), (32, 38, 'action')]}),\n",
       " ('List the films featuring Pierre Braunberger in 1900',\n",
       "  {'entities': [(25, 43, 'name'), (47, 51, 'year'), (15, 24, 'action')]}),\n",
       " ('Provide the filmography of John Wells in 1901',\n",
       "  {'entities': [(27, 37, 'name'), (41, 45, 'year')]}),\n",
       " ('Which movies starred Oleg Yanchenko in 1902?',\n",
       "  {'entities': [(21, 35, 'name'), (39, 43, 'year')]}),\n",
       " ('Which roles were played by Samir Joubran in 1903?',\n",
       "  {'entities': [(27, 40, 'name'), (44, 48, 'year'), (17, 23, 'action')]}),\n",
       " ('What are the best one movies Pandro S. Berman directed?',\n",
       "  {'entities': [(29, 45, 'name'),\n",
       "    (13, 17, 'order'),\n",
       "    (46, 54, 'action'),\n",
       "    (46, 52, 'action'),\n",
       "    (18, 21, 'numerical_entity')]}),\n",
       " ('List the worst two movies directed by Saïd Ben Saïd',\n",
       "  {'entities': [(38, 51, 'name'),\n",
       "    (9, 14, 'order'),\n",
       "    (26, 34, 'action'),\n",
       "    (26, 32, 'action'),\n",
       "    (15, 18, 'numerical_entity')]}),\n",
       " ('What are the best three movies Gia Kancheli directed?',\n",
       "  {'entities': [(31, 43, 'name'),\n",
       "    (13, 17, 'order'),\n",
       "    (44, 52, 'action'),\n",
       "    (44, 50, 'action'),\n",
       "    (18, 23, 'numerical_entity')]}),\n",
       " ('What are the worst four nonlinear narrative movies Hossein Alizadeh directed?',\n",
       "  {'entities': [(51, 67, 'name'),\n",
       "    (13, 18, 'order'),\n",
       "    (24, 43, 'genre'),\n",
       "    (68, 76, 'action'),\n",
       "    (68, 74, 'action'),\n",
       "    (19, 23, 'numerical_entity')]}),\n",
       " ('Which are the best movies where Alex North appeared?',\n",
       "  {'entities': [(32, 42, 'name'), (14, 18, 'order'), (43, 49, 'action')]}),\n",
       " ('Can you name the worst six Acid Western movies directed by Stanley R. Jaffe?',\n",
       "  {'entities': [(59, 75, 'name'),\n",
       "    (17, 22, 'order'),\n",
       "    (27, 39, 'genre'),\n",
       "    (47, 55, 'action'),\n",
       "    (47, 53, 'action'),\n",
       "    (23, 26, 'numerical_entity')]}),\n",
       " ('Can you list the best seven films with Jan Jirásek in the cast?',\n",
       "  {'entities': [(39, 50, 'name'),\n",
       "    (17, 21, 'order'),\n",
       "    (22, 27, 'numerical_entity')]}),\n",
       " ('What are the worst eight movies starring Stephen Bishop',\n",
       "  {'entities': [(41, 55, 'name'),\n",
       "    (13, 18, 'order'),\n",
       "    (19, 24, 'numerical_entity')]}),\n",
       " ('List the movies released in 1912',\n",
       "  {'entities': [(28, 32, 'year'), (16, 23, 'predicate')]}),\n",
       " ('Which movies were directed by Steve Thompson in 1913?',\n",
       "  {'entities': [(30, 44, 'name'),\n",
       "    (48, 52, 'year'),\n",
       "    (18, 26, 'action'),\n",
       "    (18, 24, 'action')]}),\n",
       " ('What movies were released in 1914?',\n",
       "  {'entities': [(29, 33, 'year'), (17, 24, 'predicate')]}),\n",
       " ('What movies did Adam Saunders appear in in 1915?',\n",
       "  {'entities': [(16, 29, 'name'), (43, 47, 'year'), (30, 36, 'action')]}),\n",
       " ('List the films featuring Miroslav Žbirka in 1916',\n",
       "  {'entities': [(25, 40, 'name'), (44, 48, 'year'), (15, 24, 'action')]}),\n",
       " ('Provide the filmography of Sébastien Schuller in 1917',\n",
       "  {'entities': [(27, 45, 'name'), (49, 53, 'year')]}),\n",
       " ('Which movies starred Resul Pookutty in 1918?',\n",
       "  {'entities': [(21, 35, 'name'), (39, 43, 'year')]}),\n",
       " ('Which roles were played by Johnson in 1919?',\n",
       "  {'entities': [(27, 34, 'name'), (38, 42, 'year'), (17, 23, 'action')]}),\n",
       " ('What are the best seventeen movies The Toxic Avenger directed?',\n",
       "  {'entities': [(35, 52, 'name'),\n",
       "    (13, 17, 'order'),\n",
       "    (53, 61, 'action'),\n",
       "    (53, 59, 'action'),\n",
       "    (18, 27, 'numerical_entity')]}),\n",
       " ('List the worst eighteen movies directed by Brooke Benjamin',\n",
       "  {'entities': [(43, 58, 'name'),\n",
       "    (9, 14, 'order'),\n",
       "    (31, 39, 'action'),\n",
       "    (31, 37, 'action'),\n",
       "    (15, 23, 'numerical_entity')]}),\n",
       " ('What are the best nineteen movies Roberto Cavalli directed?',\n",
       "  {'entities': [(34, 49, 'name'),\n",
       "    (13, 17, 'order'),\n",
       "    (50, 58, 'action'),\n",
       "    (50, 56, 'action'),\n",
       "    (18, 26, 'numerical_entity')]}),\n",
       " ('What are the worst twenty animated with LGBT character(s) movies Alfredo Catalani directed?',\n",
       "  {'entities': [(65, 81, 'name'),\n",
       "    (13, 18, 'order'),\n",
       "    (26, 57, 'genre'),\n",
       "    (82, 90, 'action'),\n",
       "    (82, 88, 'action'),\n",
       "    (19, 25, 'numerical_entity')]}),\n",
       " ('Which are the best movies where Tim Atack appeared?',\n",
       "  {'entities': [(32, 41, 'name'), (14, 18, 'order'), (42, 48, 'action')]}),\n",
       " ('Can you name the worst 2 psychological novel movies directed by Todd Zeile?',\n",
       "  {'entities': [(64, 74, 'name'),\n",
       "    (17, 22, 'order'),\n",
       "    (25, 44, 'genre'),\n",
       "    (52, 60, 'action'),\n",
       "    (52, 58, 'action'),\n",
       "    (23, 24, 'numerical_entity')]}),\n",
       " ('Can you list the best 3 films with Alex Young in the cast?',\n",
       "  {'entities': [(35, 45, 'name'),\n",
       "    (17, 21, 'order'),\n",
       "    (22, 23, 'numerical_entity')]}),\n",
       " ('What are the worst 4 movies starring Jean-Jacques Sempé',\n",
       "  {'entities': [(37, 55, 'name'),\n",
       "    (13, 18, 'order'),\n",
       "    (19, 20, 'numerical_entity')]}),\n",
       " ('List the movies released in 1928',\n",
       "  {'entities': [(28, 32, 'year'), (16, 23, 'predicate')]}),\n",
       " ('Which movies were directed by Brad Mehldau in 1929?',\n",
       "  {'entities': [(30, 42, 'name'),\n",
       "    (46, 50, 'year'),\n",
       "    (18, 26, 'action'),\n",
       "    (18, 24, 'action')]}),\n",
       " ('What movies were released in 1930?',\n",
       "  {'entities': [(29, 33, 'year'), (17, 24, 'predicate')]}),\n",
       " ('What movies did Pierre Fournier appear in in 1931?',\n",
       "  {'entities': [(16, 31, 'name'), (45, 49, 'year'), (32, 38, 'action')]}),\n",
       " ('List the films featuring Walter Hus in 1932',\n",
       "  {'entities': [(25, 35, 'name'), (39, 43, 'year'), (15, 24, 'action')]}),\n",
       " ('Provide the filmography of Will Gregory in 1933',\n",
       "  {'entities': [(27, 39, 'name'), (43, 47, 'year')]}),\n",
       " ('Which movies starred William Loose in 1934?',\n",
       "  {'entities': [(21, 34, 'name'), (38, 42, 'year')]}),\n",
       " ('Which roles were played by Yves Rousset-Rouard in 1935?',\n",
       "  {'entities': [(27, 46, 'name'), (50, 54, 'year'), (17, 23, 'action')]}),\n",
       " ('What are the best 13 movies Édouard Corniglion-Molinier directed?',\n",
       "  {'entities': [(28, 55, 'name'),\n",
       "    (13, 17, 'order'),\n",
       "    (56, 64, 'action'),\n",
       "    (56, 62, 'action'),\n",
       "    (18, 20, 'numerical_entity')]}),\n",
       " ('List the worst 14 movies directed by Ravi',\n",
       "  {'entities': [(37, 41, 'name'),\n",
       "    (9, 14, 'order'),\n",
       "    (25, 33, 'action'),\n",
       "    (25, 31, 'action'),\n",
       "    (15, 17, 'numerical_entity')]}),\n",
       " ('What are the best 15 movies Pritish Nandy directed?',\n",
       "  {'entities': [(28, 41, 'name'),\n",
       "    (13, 17, 'order'),\n",
       "    (42, 50, 'action'),\n",
       "    (42, 48, 'action'),\n",
       "    (18, 20, 'numerical_entity')]}),\n",
       " ('What are the worst 16 school anime and manga movies Chaz Jankel directed?',\n",
       "  {'entities': [(52, 63, 'name'),\n",
       "    (13, 18, 'order'),\n",
       "    (22, 44, 'genre'),\n",
       "    (64, 72, 'action'),\n",
       "    (64, 70, 'action'),\n",
       "    (19, 21, 'numerical_entity')]}),\n",
       " ('Which are the best movies where Trentemøller appeared?',\n",
       "  {'entities': [(32, 44, 'name'), (14, 18, 'order'), (45, 51, 'action')]}),\n",
       " ('Can you name the worst 18 rock music movies directed by Achille Manzotti?',\n",
       "  {'entities': [(56, 72, 'name'),\n",
       "    (17, 22, 'order'),\n",
       "    (26, 36, 'genre'),\n",
       "    (44, 52, 'action'),\n",
       "    (44, 50, 'action'),\n",
       "    (23, 25, 'numerical_entity')]}),\n",
       " ('Can you list the best 19 films with Paul Young in the cast?',\n",
       "  {'entities': [(36, 46, 'name'),\n",
       "    (17, 21, 'order'),\n",
       "    (22, 24, 'numerical_entity')]}),\n",
       " ('What are the worst 20 movies starring Alessandro Blocksteiner',\n",
       "  {'entities': [(38, 61, 'name'),\n",
       "    (13, 18, 'order'),\n",
       "    (19, 21, 'numerical_entity')]}),\n",
       " ('List the movies released in 1944',\n",
       "  {'entities': [(28, 32, 'year'), (16, 23, 'predicate')]}),\n",
       " ('Which movies were directed by Amir in 1945?',\n",
       "  {'entities': [(30, 34, 'name'),\n",
       "    (38, 42, 'year'),\n",
       "    (18, 26, 'action'),\n",
       "    (18, 24, 'action')]}),\n",
       " ('What movies were released in 1946?',\n",
       "  {'entities': [(29, 33, 'year'), (17, 24, 'predicate')]}),\n",
       " ('What movies did Arrigo Colombo appear in in 1947?',\n",
       "  {'entities': [(16, 30, 'name'), (44, 48, 'year'), (31, 37, 'action')]}),\n",
       " ('List the films featuring Mohammed Zahur Khayyam in 1948',\n",
       "  {'entities': [(25, 47, 'name'), (51, 55, 'year'), (15, 24, 'action')]}),\n",
       " ('Provide the filmography of Bino Cicogna in 1949',\n",
       "  {'entities': [(27, 39, 'name'), (43, 47, 'year')]}),\n",
       " ('Which movies starred Leo Robin in 1950?',\n",
       "  {'entities': [(21, 30, 'name'), (34, 38, 'year')]}),\n",
       " ('Which roles were played by Burton Lane in 1951?',\n",
       "  {'entities': [(27, 38, 'name'), (42, 46, 'year'), (17, 23, 'action')]}),\n",
       " ('What are the best nine movies Ralph Rainger directed?',\n",
       "  {'entities': [(30, 43, 'name'),\n",
       "    (13, 17, 'order'),\n",
       "    (44, 52, 'action'),\n",
       "    (44, 50, 'action'),\n",
       "    (18, 22, 'numerical_entity')]}),\n",
       " ('List the worst ten movies directed by Buck Sanders',\n",
       "  {'entities': [(38, 50, 'name'),\n",
       "    (9, 14, 'order'),\n",
       "    (26, 34, 'action'),\n",
       "    (26, 32, 'action'),\n",
       "    (15, 18, 'numerical_entity')]}),\n",
       " ('What are the best eleven movies George S. Clinton directed?',\n",
       "  {'entities': [(32, 49, 'name'),\n",
       "    (13, 17, 'order'),\n",
       "    (50, 58, 'action'),\n",
       "    (50, 56, 'action'),\n",
       "    (18, 24, 'numerical_entity')]}),\n",
       " ('What are the worst twelve medical thriller movies Tristram Cary directed?',\n",
       "  {'entities': [(50, 63, 'name'),\n",
       "    (13, 18, 'order'),\n",
       "    (26, 42, 'genre'),\n",
       "    (64, 72, 'action'),\n",
       "    (64, 70, 'action'),\n",
       "    (19, 25, 'numerical_entity')]}),\n",
       " ('Which are the best movies where Todd Rundgren appeared?',\n",
       "  {'entities': [(32, 45, 'name'), (14, 18, 'order'), (46, 52, 'action')]}),\n",
       " ('Can you name the worst fourteen crime novel movies directed by James Wilson?',\n",
       "  {'entities': [(63, 75, 'name'),\n",
       "    (17, 22, 'order'),\n",
       "    (32, 43, 'genre'),\n",
       "    (51, 59, 'action'),\n",
       "    (51, 57, 'action'),\n",
       "    (23, 31, 'numerical_entity')]}),\n",
       " ('Can you list the best fifteen films with Terry Riley in the cast?',\n",
       "  {'entities': [(41, 52, 'name'),\n",
       "    (17, 21, 'order'),\n",
       "    (22, 29, 'numerical_entity')]}),\n",
       " ('What are the worst sixteen movies starring Carlo Andrea Bixio',\n",
       "  {'entities': [(43, 61, 'name'),\n",
       "    (13, 18, 'order'),\n",
       "    (19, 26, 'numerical_entity')]}),\n",
       " ('List the movies released in 1960',\n",
       "  {'entities': [(28, 32, 'year'), (16, 23, 'predicate')]}),\n",
       " ('Which movies were directed by Carlo Maria Cordio in 1961?',\n",
       "  {'entities': [(30, 48, 'name'),\n",
       "    (52, 56, 'year'),\n",
       "    (18, 26, 'action'),\n",
       "    (18, 24, 'action')]}),\n",
       " ('What movies were released in 1962?',\n",
       "  {'entities': [(29, 33, 'year'), (17, 24, 'predicate')]}),\n",
       " ('What movies did Carlo Virzì appear in in 1963?',\n",
       "  {'entities': [(16, 27, 'name'), (41, 45, 'year'), (28, 34, 'action')]}),\n",
       " ('List the films featuring Gil Goldstein in 1964',\n",
       "  {'entities': [(25, 38, 'name'), (42, 46, 'year'), (15, 24, 'action')]}),\n",
       " ('Provide the filmography of Frank Bridge in 1965',\n",
       "  {'entities': [(27, 39, 'name'), (43, 47, 'year')]}),\n",
       " ('Which movies starred Jan Hammer in 1966?',\n",
       "  {'entities': [(21, 31, 'name'), (35, 39, 'year')]}),\n",
       " ('Which roles were played by Christopher Page in 1967?',\n",
       "  {'entities': [(27, 43, 'name'), (47, 51, 'year'), (17, 23, 'action')]}),\n",
       " ('What are the best 5 movies Ernö Rapée directed?',\n",
       "  {'entities': [(27, 37, 'name'),\n",
       "    (13, 17, 'order'),\n",
       "    (38, 46, 'action'),\n",
       "    (38, 44, 'action'),\n",
       "    (18, 19, 'numerical_entity')]}),\n",
       " ('List the worst 6 movies directed by Andrzej Trzaskowski',\n",
       "  {'entities': [(36, 55, 'name'),\n",
       "    (9, 14, 'order'),\n",
       "    (24, 32, 'action'),\n",
       "    (24, 30, 'action'),\n",
       "    (15, 16, 'numerical_entity')]}),\n",
       " ('What are the best 7 movies Dan Hicks directed?',\n",
       "  {'entities': [(27, 36, 'name'),\n",
       "    (13, 17, 'order'),\n",
       "    (37, 45, 'action'),\n",
       "    (37, 43, 'action'),\n",
       "    (18, 19, 'numerical_entity')]}),\n",
       " ('What are the worst 8 image movies Daniele Sepe directed?',\n",
       "  {'entities': [(34, 46, 'name'),\n",
       "    (13, 18, 'order'),\n",
       "    (21, 26, 'genre'),\n",
       "    (47, 55, 'action'),\n",
       "    (47, 53, 'action'),\n",
       "    (19, 20, 'numerical_entity')]}),\n",
       " ('Which are the best movies where David Zippel appeared?',\n",
       "  {'entities': [(32, 44, 'name'), (14, 18, 'order'), (45, 51, 'action')]}),\n",
       " ('Can you name the worst 10 fantastique movies directed by Deantoni Parks?',\n",
       "  {'entities': [(57, 71, 'name'),\n",
       "    (17, 22, 'order'),\n",
       "    (26, 37, 'genre'),\n",
       "    (45, 53, 'action'),\n",
       "    (45, 51, 'action'),\n",
       "    (23, 25, 'numerical_entity')]}),\n",
       " ('Can you list the best 11 films with Ben Sidran in the cast?',\n",
       "  {'entities': [(36, 46, 'name'),\n",
       "    (17, 21, 'order'),\n",
       "    (22, 24, 'numerical_entity')]}),\n",
       " ('What are the worst 12 movies starring Bruce Fowler',\n",
       "  {'entities': [(38, 50, 'name'),\n",
       "    (13, 18, 'order'),\n",
       "    (19, 21, 'numerical_entity')]}),\n",
       " ('List the movies released in 1976',\n",
       "  {'entities': [(28, 32, 'year'), (16, 23, 'predicate')]}),\n",
       " ('Which movies were directed by Donato Leoni in 1977?',\n",
       "  {'entities': [(30, 42, 'name'),\n",
       "    (46, 50, 'year'),\n",
       "    (18, 26, 'action'),\n",
       "    (18, 24, 'action')]}),\n",
       " ('What movies were released in 1978?',\n",
       "  {'entities': [(29, 33, 'year'), (17, 24, 'predicate')]}),\n",
       " ('What movies did Harold Faltermeyer appear in in 1979?',\n",
       "  {'entities': [(16, 34, 'name'), (48, 52, 'year'), (35, 41, 'action')]}),\n",
       " ('List the films featuring Adrian Cronauer in 1980',\n",
       "  {'entities': [(25, 40, 'name'), (44, 48, 'year'), (15, 24, 'action')]}),\n",
       " ('Provide the filmography of Ezio Bosso in 1981',\n",
       "  {'entities': [(27, 37, 'name'), (41, 45, 'year')]}),\n",
       " ('Which movies starred Fabio Liberatori in 1982?',\n",
       "  {'entities': [(21, 37, 'name'), (41, 45, 'year')]}),\n",
       " ('Which roles were played by Adrian Sieber in 1983?',\n",
       "  {'entities': [(27, 40, 'name'), (44, 48, 'year'), (17, 23, 'action')]}),\n",
       " ('What are the best one movies Paul Buckmaster directed?',\n",
       "  {'entities': [(29, 44, 'name'),\n",
       "    (13, 17, 'order'),\n",
       "    (45, 53, 'action'),\n",
       "    (45, 51, 'action'),\n",
       "    (18, 21, 'numerical_entity')]}),\n",
       " ...]"
      ]
     },
     "execution_count": 20,
     "metadata": {},
     "output_type": "execute_result"
    }
   ],
   "source": [
    "res_s6"
   ]
  },
  {
   "cell_type": "code",
   "execution_count": 21,
   "id": "c52a0dbd",
   "metadata": {},
   "outputs": [
    {
     "data": {
      "text/plain": [
       "99996"
      ]
     },
     "execution_count": 21,
     "metadata": {},
     "output_type": "execute_result"
    }
   ],
   "source": [
    "TRAIN_DATA = res_s1 + res_s2 + res_s3 + res_s4 + res_s5 + res_s6\n",
    "len(TRAIN_DATA)"
   ]
  },
  {
   "cell_type": "code",
   "execution_count": null,
   "id": "f64beadb",
   "metadata": {},
   "outputs": [],
   "source": [
    "import pandas as pd\n",
    "import os\n",
    "from tqdm import tqdm\n",
    "from spacy.tokens import DocBin\n",
    "\n",
    "nlp = spacy.load(\"en_core_web_sm\")\n",
    "\n",
    "db = DocBin() # create a DocBin object\n",
    "\n",
    "count = 0\n",
    "for text, annot in tqdm(TRAIN_DATA): # data in previous format\n",
    "    try:\n",
    "        doc = nlp.make_doc(text) # create doc object from text\n",
    "        ents = []\n",
    "        for start, end, label in annot[\"entities\"]: # add character indexes\n",
    "            span = doc.char_span(start, end, label=label, alignment_mode=\"contract\")\n",
    "            if span is None:\n",
    "                #print(\"Skipping entity\")\n",
    "                count+=1\n",
    "            else:\n",
    "                ents.append(span)\n",
    "        doc.ents = ents # label the text with the ents\n",
    "        db.add(doc)\n",
    "    except Exception as e:\n",
    "        print(text)\n",
    "        print(annot)\n",
    "        print(e)\n",
    "        count+=1\n",
    "print(count)\n",
    "#os.chdir(r'XXXX\\XXXXX')\n",
    "db.to_disk(\"train.spacy\") # save the docbin object"
   ]
  },
  {
   "cell_type": "code",
   "execution_count": null,
   "id": "6fc5cb03",
   "metadata": {},
   "outputs": [],
   "source": [
    "\"Display the Peplum film genre movies with the lowest ratings\"[22:27]"
   ]
  },
  {
   "cell_type": "code",
   "execution_count": null,
   "id": "a784f71f",
   "metadata": {},
   "outputs": [],
   "source": [
    "\"I want to see the top-rated film score movies featured Vanraj Bhatia\"[28:38]"
   ]
  },
  {
   "cell_type": "code",
   "execution_count": null,
   "id": "ff2184ac",
   "metadata": {},
   "outputs": [],
   "source": [
    "predicates_ner.keys()"
   ]
  },
  {
   "cell_type": "markdown",
   "id": "ee149aea",
   "metadata": {},
   "source": [
    "### Test"
   ]
  },
  {
   "cell_type": "code",
   "execution_count": 22,
   "id": "498f5406",
   "metadata": {},
   "outputs": [
    {
     "name": "stderr",
     "output_type": "stream",
     "text": [
      "C:\\Users\\jorge\\anaconda3\\envs\\pytorch2\\lib\\site-packages\\spacy\\util.py:910: UserWarning: [W095] Model 'en_pipeline' (0.0.0) was trained with spaCy v3.5.3 and may not be 100% compatible with the current version (3.7.2). If you see errors or degraded performance, download a newer compatible model or retrain your custom model with the current spaCy version. For more details and available updates, run: python -m spacy validate\n",
      "  warnings.warn(warn_msg)\n"
     ]
    }
   ],
   "source": [
    "nlp_model = spacy.load('models/NER/loss_100')"
   ]
  },
  {
   "cell_type": "code",
   "execution_count": 23,
   "id": "a6c5f86e",
   "metadata": {},
   "outputs": [
    {
     "data": {
      "text/plain": [
       "[('Give me the name of the cast of Jan Dara',\n",
       "  {'entities': [(24, 28, 'role'), (32, 40, 'movie')]}),\n",
       " (\"I'd like to know the cast member's name for Moondram Pirai\",\n",
       "  {'entities': [(21, 32, 'role'), (44, 58, 'movie')]}),\n",
       " (\"I'm curious about the person who wrote Buffalo Bill and the Indians, or Sitting Bull's History Lesson\",\n",
       "  {'entities': [(39, 101, 'movie'), (33, 38, 'action')]}),\n",
       " ('Identify the screenwriter of What We Wanted',\n",
       "  {'entities': [(13, 25, 'role'), (29, 43, 'movie')]}),\n",
       " ('Tell me the producer behind Wanted: Dead or Alive',\n",
       "  {'entities': [(12, 20, 'role'), (28, 49, 'movie'), (12, 19, 'action')]}),\n",
       " ('Tell me the developer for Linger',\n",
       "  {'entities': [(12, 21, 'role'), (26, 32, 'movie')]}),\n",
       " ('Tell me the film editor of Eastern Condors',\n",
       "  {'entities': [(12, 23, 'role'), (27, 42, 'movie'), (17, 21, 'action')]}),\n",
       " (\"What is the director of photography's name for the movie Amerika?\",\n",
       "  {'entities': [(12, 35, 'role'), (57, 64, 'movie'), (12, 18, 'action')]}),\n",
       " ('Who film crew member in Bukowski: Born into This?',\n",
       "  {'entities': [(4, 20, 'role'), (24, 48, 'movie')]}),\n",
       " ('Who directed Fatal Move?',\n",
       "  {'entities': [(13, 23, 'movie'), (4, 12, 'action'), (4, 10, 'action')]}),\n",
       " ('Who wrote the movie On the Mountain of Tai Hang?',\n",
       "  {'entities': [(20, 47, 'movie'), (4, 9, 'action')]}),\n",
       " ('Who is the author of Forever Enthralled?',\n",
       "  {'entities': [(11, 17, 'role'), (21, 39, 'movie')]}),\n",
       " ('Who is the presenter of the film Kill the Irishman?',\n",
       "  {'entities': [(11, 20, 'role'), (33, 50, 'movie')]}),\n",
       " ('Who oversaw the making of Bullseye!', {'entities': [(26, 35, 'movie')]}),\n",
       " ('Who was in charge of directing Bully?',\n",
       "  {'entities': [(31, 36, 'movie'), (21, 27, 'action')]}),\n",
       " ('Who was the creator of Dry Wind',\n",
       "  {'entities': [(12, 19, 'role'), (23, 31, 'movie')]}),\n",
       " ('Give me the participant of The Big Hit',\n",
       "  {'entities': [(12, 23, 'role'), (27, 38, 'movie')]}),\n",
       " ('Give me the name of the member of the crew of of Angels Fallen',\n",
       "  {'entities': [(24, 45, 'role'), (49, 62, 'movie')]}),\n",
       " (\"I'd like to know the voice actor's name for Gagarine\",\n",
       "  {'entities': [(21, 32, 'role'), (44, 52, 'movie')]}),\n",
       " (\"I'm curious about the person who directed Golimaar\",\n",
       "  {'entities': [(42, 50, 'movie'), (33, 41, 'action'), (33, 39, 'action')]}),\n",
       " ('Identify the musical conductor of Adhurs',\n",
       "  {'entities': [(13, 30, 'role'), (34, 40, 'movie')]}),\n",
       " ('Tell me the operator behind Rose Island',\n",
       "  {'entities': [(12, 20, 'role'), (28, 39, 'movie')]}),\n",
       " ('Tell me the performer for Simha',\n",
       "  {'entities': [(12, 21, 'role'), (26, 31, 'movie')]}),\n",
       " ('Tell me the actor of Rakta Charitra',\n",
       "  {'entities': [(12, 17, 'role'), (21, 35, 'movie')]}),\n",
       " (\"What is the cast's name for the movie Khaleja?\",\n",
       "  {'entities': [(12, 16, 'role'), (38, 45, 'movie')]}),\n",
       " ('Who cast member in Gorillas in the Mist?',\n",
       "  {'entities': [(4, 15, 'role'), (19, 39, 'movie')]}),\n",
       " ('Who wrote Operation Christmas Drop?',\n",
       "  {'entities': [(10, 34, 'movie'), (4, 9, 'action')]}),\n",
       " ('Who directed the movie Jasmine Women?',\n",
       "  {'entities': [(23, 36, 'movie'), (4, 12, 'action'), (4, 10, 'action')]}),\n",
       " ('Who is the producer of Blind Mountain?',\n",
       "  {'entities': [(11, 19, 'role'), (23, 37, 'movie'), (11, 18, 'action')]}),\n",
       " ('Who is the developer of the film Turn Left, Turn Right?',\n",
       "  {'entities': [(11, 20, 'role'), (33, 54, 'movie')]}),\n",
       " ('Who oversaw the making of Burke & Hare', {'entities': [(26, 38, 'movie')]}),\n",
       " ('Who was in charge of directing Burma VJ?',\n",
       "  {'entities': [(31, 39, 'movie'), (21, 27, 'action')]}),\n",
       " ('Who was the film crew member of Burning Bright',\n",
       "  {'entities': [(12, 28, 'role'), (32, 46, 'movie')]}),\n",
       " ('Give me the choreographer of Butter',\n",
       "  {'entities': [(12, 25, 'role'), (29, 35, 'movie')]}),\n",
       " ('Give me the name of the art director of Population Boom',\n",
       "  {'entities': [(24, 36, 'role'), (40, 55, 'movie'), (28, 34, 'action')]}),\n",
       " (\"I'd like to know the author's name for Bye Bye Love\",\n",
       "  {'entities': [(21, 27, 'role'), (39, 51, 'movie')]}),\n",
       " (\"I'm curious about the person who wrote Bye Bye Blackbird\",\n",
       "  {'entities': [(39, 56, 'movie'), (33, 38, 'action')]}),\n",
       " ('Identify the narrator of Bye Bye Birdie',\n",
       "  {'entities': [(13, 21, 'role'), (25, 39, 'movie')]}),\n",
       " ('Tell me the animator behind Bye Bye Bluebird',\n",
       "  {'entities': [(12, 20, 'role'), (28, 44, 'movie')]}),\n",
       " ('Tell me the creator for The Chinese Feast',\n",
       "  {'entities': [(12, 19, 'role'), (24, 41, 'movie')]}),\n",
       " ('Tell me the participant of Stage Door',\n",
       "  {'entities': [(12, 23, 'role'), (27, 37, 'movie')]}),\n",
       " (\"What is the member of the crew of's name for the movie The Truth About Jane and Sam?\",\n",
       "  {'entities': [(12, 33, 'role'), (55, 83, 'movie')]}),\n",
       " ('Who voice actor in The Longest Nite?',\n",
       "  {'entities': [(4, 15, 'role'), (19, 35, 'movie')]}),\n",
       " ('Who directed Naked Killer?',\n",
       "  {'entities': [(13, 25, 'movie'), (4, 12, 'action'), (4, 10, 'action')]}),\n",
       " ('Who wrote the movie C.I.D.?',\n",
       "  {'entities': [(20, 26, 'movie'), (4, 9, 'action')]}),\n",
       " ('Who is the operator of C.R.A.Z.Y.?',\n",
       "  {'entities': [(11, 19, 'role'), (23, 33, 'movie')]}),\n",
       " ('Who is the performer of the film The Super?',\n",
       "  {'entities': [(11, 20, 'role'), (33, 42, 'movie')]}),\n",
       " ('Who oversaw the making of Notes for My Son',\n",
       "  {'entities': [(26, 42, 'movie')]}),\n",
       " ('Who was in charge of directing CSNY/Déjà Vu?',\n",
       "  {'entities': [(31, 43, 'movie'), (21, 27, 'action')]}),\n",
       " ('Who was the cast member of Cash',\n",
       "  {'entities': [(12, 23, 'role'), (27, 31, 'movie')]}),\n",
       " ('Give me the director of Cash',\n",
       "  {'entities': [(12, 20, 'role'), (24, 28, 'movie'), (12, 18, 'action')]}),\n",
       " ('Give me the name of the screenwriter of Nightbreed',\n",
       "  {'entities': [(24, 36, 'role'), (40, 50, 'movie')]}),\n",
       " (\"I'd like to know the producer's name for Kaos\",\n",
       "  {'entities': [(21, 29, 'role'), (41, 45, 'movie'), (21, 28, 'action')]}),\n",
       " (\"I'm curious about the person who directed Cadillac Man\",\n",
       "  {'entities': [(42, 54, 'movie'), (33, 41, 'action'), (33, 39, 'action')]}),\n",
       " ('Identify the film editor of Caged',\n",
       "  {'entities': [(13, 24, 'role'), (28, 33, 'movie'), (18, 22, 'action')]}),\n",
       " ('Tell me the director of photography behind Cairo Time',\n",
       "  {'entities': [(12, 35, 'role'), (43, 53, 'movie'), (12, 18, 'action')]}),\n",
       " ('Tell me the film crew member for Daisy Diamond',\n",
       "  {'entities': [(12, 28, 'role'), (33, 46, 'movie')]}),\n",
       " ('Tell me the choreographer of The Baytown Outlaws',\n",
       "  {'entities': [(12, 25, 'role'), (29, 48, 'movie')]}),\n",
       " (\"What is the art director's name for the movie The Man from the Alamo?\",\n",
       "  {'entities': [(12, 24, 'role'), (46, 68, 'movie'), (16, 22, 'action')]}),\n",
       " ('Who author in Fade to Black?',\n",
       "  {'entities': [(4, 10, 'role'), (14, 27, 'movie')]}),\n",
       " ('Who wrote I Hate Luv Storys?',\n",
       "  {'entities': [(10, 27, 'movie'), (4, 9, 'action')]}),\n",
       " ('Who directed the movie Elena?',\n",
       "  {'entities': [(23, 28, 'movie'), (4, 12, 'action'), (4, 10, 'action')]}),\n",
       " ('Who is the animator of The Wedding Date?',\n",
       "  {'entities': [(11, 19, 'role'), (23, 39, 'movie')]}),\n",
       " ('Who is the creator of the film Revolution?',\n",
       "  {'entities': [(11, 18, 'role'), (31, 41, 'movie')]}),\n",
       " ('Who oversaw the making of Heart Condition',\n",
       "  {'entities': [(26, 41, 'movie')]}),\n",
       " ('Who was in charge of directing White Sands?',\n",
       "  {'entities': [(31, 42, 'movie'), (21, 27, 'action')]}),\n",
       " ('Who was the voice actor of K-9',\n",
       "  {'entities': [(12, 23, 'role'), (27, 30, 'movie')]}),\n",
       " ('Give me the publisher of The Cave',\n",
       "  {'entities': [(12, 21, 'role'), (25, 33, 'movie')]}),\n",
       " ('Give me the name of the musical conductor of Women in Temptation',\n",
       "  {'entities': [(24, 41, 'role'), (45, 64, 'movie')]}),\n",
       " (\"I'd like to know the operator's name for Jonas Brothers: The 3D Concert Experience\",\n",
       "  {'entities': [(21, 29, 'role'), (41, 82, 'movie')]}),\n",
       " (\"I'm curious about the person who wrote Justice, My Foot!\",\n",
       "  {'entities': [(39, 56, 'movie'), (33, 38, 'action')]}),\n",
       " ('Identify the actor of George Michael: A Different Story',\n",
       "  {'entities': [(13, 18, 'role'), (22, 55, 'movie')]}),\n",
       " ('Tell me the cast behind Bernie',\n",
       "  {'entities': [(12, 16, 'role'), (24, 30, 'movie')]}),\n",
       " ('Tell me the cast member for Along the Navajo Trail',\n",
       "  {'entities': [(12, 23, 'role'), (28, 50, 'movie')]}),\n",
       " ('Tell me the director of Amusement',\n",
       "  {'entities': [(12, 20, 'role'), (24, 33, 'movie'), (12, 18, 'action')]}),\n",
       " (\"What is the screenwriter's name for the movie The Public Eye?\",\n",
       "  {'entities': [(12, 24, 'role'), (46, 60, 'movie')]}),\n",
       " (\"Who producer in Susan's Plan?\",\n",
       "  {'entities': [(4, 12, 'role'), (16, 28, 'movie'), (4, 11, 'action')]}),\n",
       " ('Who directed Camouflage?',\n",
       "  {'entities': [(13, 23, 'movie'), (4, 12, 'action'), (4, 10, 'action')]}),\n",
       " ('Who wrote the movie Camp 14: Total Control Zone?',\n",
       "  {'entities': [(20, 47, 'movie'), (4, 9, 'action')]}),\n",
       " ('Who is the director of photography of Armadillo?',\n",
       "  {'entities': [(11, 34, 'role'), (38, 47, 'movie'), (11, 17, 'action')]}),\n",
       " ('Who is the film crew member of the film Inherit the Wind?',\n",
       "  {'entities': [(11, 27, 'role'), (40, 56, 'movie')]}),\n",
       " ('Who oversaw the making of Tatie Danielle',\n",
       "  {'entities': [(26, 40, 'movie')]}),\n",
       " ('Who was in charge of directing Jaime?',\n",
       "  {'entities': [(31, 36, 'movie'), (21, 27, 'action')]}),\n",
       " ('Who was the author of Ricochet',\n",
       "  {'entities': [(12, 18, 'role'), (22, 30, 'movie')]}),\n",
       " ('Give me the presenter of Loverboy',\n",
       "  {'entities': [(12, 21, 'role'), (25, 33, 'movie')]}),\n",
       " ('Give me the name of the narrator of Empire of the Wolves',\n",
       "  {'entities': [(24, 32, 'role'), (36, 56, 'movie')]}),\n",
       " (\"I'd like to know the animator's name for Killer Tongue\",\n",
       "  {'entities': [(21, 29, 'role'), (41, 54, 'movie')]}),\n",
       " (\"I'm curious about the person who directed The Dognapper\",\n",
       "  {'entities': [(42, 55, 'movie'), (33, 41, 'action'), (33, 39, 'action')]}),\n",
       " ('Identify the participant of Canaris',\n",
       "  {'entities': [(13, 24, 'role'), (28, 35, 'movie')]}),\n",
       " ('Tell me the member of the crew of behind Meet Wally Sparks',\n",
       "  {'entities': [(12, 33, 'role'), (41, 58, 'movie')]}),\n",
       " ('Tell me the voice actor for Meu Passado Me Condena',\n",
       "  {'entities': [(12, 23, 'role'), (28, 50, 'movie')]}),\n",
       " ('Tell me the publisher of Minha Mãe é uma Peça',\n",
       "  {'entities': [(12, 21, 'role'), (25, 45, 'movie')]}),\n",
       " (\"What is the musical conductor's name for the movie Declaration of War?\",\n",
       "  {'entities': [(12, 29, 'role'), (51, 69, 'movie')]}),\n",
       " ('Who operator in Hum Tum?',\n",
       "  {'entities': [(4, 12, 'role'), (16, 23, 'movie')]}),\n",
       " ('Who wrote Welcome to the Jungle?',\n",
       "  {'entities': [(10, 31, 'movie'), (4, 9, 'action')]}),\n",
       " ('Who directed the movie Sleeping Beauty?',\n",
       "  {'entities': [(23, 38, 'movie'), (4, 12, 'action'), (4, 10, 'action')]}),\n",
       " ('Who is the cast of Necrosis?',\n",
       "  {'entities': [(11, 15, 'role'), (19, 27, 'movie')]}),\n",
       " ('Who is the cast member of the film Second Name?',\n",
       "  {'entities': [(11, 22, 'role'), (35, 46, 'movie')]}),\n",
       " ('Who oversaw the making of The Middle of the World',\n",
       "  {'entities': [(26, 49, 'movie')]}),\n",
       " ('Who was in charge of directing Suely in the Sky?',\n",
       "  {'entities': [(31, 47, 'movie'), (21, 27, 'action')]}),\n",
       " ('Who was the producer of The Man Who Copied',\n",
       "  {'entities': [(12, 20, 'role'), (24, 42, 'movie'), (12, 19, 'action')]}),\n",
       " ('Give me the developer of Time and the Wind',\n",
       "  {'entities': [(12, 21, 'role'), (25, 42, 'movie')]}),\n",
       " (\"Give me the name of the film editor of Can't Buy Me Love\",\n",
       "  {'entities': [(24, 35, 'role'), (39, 56, 'movie'), (29, 33, 'action')]}),\n",
       " (\"I'd like to know the director of photography's name for Blue Eyes\",\n",
       "  {'entities': [(21, 44, 'role'), (56, 65, 'movie'), (21, 27, 'action')]}),\n",
       " (\"I'm curious about the person who wrote Artificial Paradises\",\n",
       "  {'entities': [(39, 59, 'movie'), (33, 38, 'action')]}),\n",
       " ('Identify the choreographer of Captain Newman, M.D.',\n",
       "  {'entities': [(13, 26, 'role'), (30, 50, 'movie')]}),\n",
       " ('Tell me the art director behind Captain Ron',\n",
       "  {'entities': [(12, 24, 'role'), (32, 43, 'movie'), (16, 22, 'action')]}),\n",
       " ('Tell me the author for Captive',\n",
       "  {'entities': [(12, 18, 'role'), (23, 30, 'movie')]}),\n",
       " ('Tell me the presenter of Captivity',\n",
       "  {'entities': [(12, 21, 'role'), (25, 34, 'movie')]}),\n",
       " (\"What is the narrator's name for the movie Wrestling Ernest Hemingway?\",\n",
       "  {'entities': [(12, 20, 'role'), (42, 68, 'movie')]}),\n",
       " ('Who animator in Caravaggio?',\n",
       "  {'entities': [(4, 12, 'role'), (16, 26, 'movie')]}),\n",
       " ('Who directed Forbidden to Forbid?',\n",
       "  {'entities': [(13, 32, 'movie'), (4, 12, 'action'), (4, 10, 'action')]}),\n",
       " ('Who wrote the movie Under the Same Moon?',\n",
       "  {'entities': [(20, 39, 'movie'), (4, 9, 'action')]}),\n",
       " ('Who is the member of the crew of of Swallowtail?',\n",
       "  {'entities': [(11, 32, 'role'), (36, 47, 'movie')]}),\n",
       " ('Who is the voice actor of the film Somewhere Slow?',\n",
       "  {'entities': [(11, 22, 'role'), (35, 49, 'movie')]}),\n",
       " ('Who oversaw the making of Somos tão Jovens',\n",
       "  {'entities': [(26, 42, 'movie')]}),\n",
       " ('Who was in charge of directing How to Succeed in Business Without Really Trying?',\n",
       "  {'entities': [(31, 79, 'movie'), (21, 27, 'action')]}),\n",
       " ('Who was the operator of Totalmente Inocentes',\n",
       "  {'entities': [(12, 20, 'role'), (24, 44, 'movie')]}),\n",
       " ('Give me the performer of Transcendence',\n",
       "  {'entities': [(12, 21, 'role'), (25, 38, 'movie')]}),\n",
       " ('Give me the name of the actor of Air Doll',\n",
       "  {'entities': [(24, 29, 'role'), (33, 41, 'movie')]}),\n",
       " (\"I'd like to know the cast's name for VIPs\",\n",
       "  {'entities': [(21, 25, 'role'), (37, 41, 'movie')]}),\n",
       " (\"I'm curious about the person who directed Vai que Dá Certo\",\n",
       "  {'entities': [(42, 58, 'movie'), (33, 41, 'action'), (33, 39, 'action')]}),\n",
       " ('Identify the director of Christmas Crossfire',\n",
       "  {'entities': [(13, 21, 'role'), (25, 44, 'movie'), (13, 19, 'action')]}),\n",
       " ('Tell me the screenwriter behind Martial Arts of Shaolin',\n",
       "  {'entities': [(12, 24, 'role'), (32, 55, 'movie')]}),\n",
       " ('Tell me the producer for Kovář z Podlesí',\n",
       "  {'entities': [(12, 20, 'role'), (25, 40, 'movie'), (12, 19, 'action')]}),\n",
       " ('Tell me the developer of Freak City',\n",
       "  {'entities': [(12, 21, 'role'), (25, 35, 'movie')]}),\n",
       " (\"What is the film editor's name for the movie Three Comrades?\",\n",
       "  {'entities': [(12, 23, 'role'), (45, 59, 'movie'), (17, 21, 'action')]}),\n",
       " ('Who director of photography in Belzebuth?',\n",
       "  {'entities': [(4, 27, 'role'), (31, 40, 'movie'), (4, 10, 'action')]}),\n",
       " ('Who wrote Day of the Comet?',\n",
       "  {'entities': [(10, 26, 'movie'), (4, 9, 'action')]}),\n",
       " (\"Who directed the movie Carla's Song?\",\n",
       "  {'entities': [(23, 35, 'movie'), (4, 12, 'action'), (4, 10, 'action')]}),\n",
       " ('Who is the art director of All or Nothing?',\n",
       "  {'entities': [(11, 23, 'role'), (27, 41, 'movie'), (15, 21, 'action')]}),\n",
       " ('Who is the author of the film An Invisible Sign?',\n",
       "  {'entities': [(11, 17, 'role'), (30, 47, 'movie')]}),\n",
       " ('Who oversaw the making of Suddenly', {'entities': [(26, 34, 'movie')]}),\n",
       " ('Who was in charge of directing Better Off Dead?',\n",
       "  {'entities': [(31, 46, 'movie'), (21, 27, 'action')]}),\n",
       " ('Who was the animator of Perhaps Love',\n",
       "  {'entities': [(12, 20, 'role'), (24, 36, 'movie')]}),\n",
       " ('Give me the creator of The Message',\n",
       "  {'entities': [(12, 19, 'role'), (23, 34, 'movie')]}),\n",
       " ('Give me the name of the participant of Avalon',\n",
       "  {'entities': [(24, 35, 'role'), (39, 45, 'movie')]}),\n",
       " (\"I'd like to know the member of the crew of's name for Babylon Disease\",\n",
       "  {'entities': [(21, 42, 'role'), (54, 69, 'movie')]}),\n",
       " (\"I'm curious about the person who wrote Nada Sōsō\",\n",
       "  {'entities': [(39, 48, 'movie'), (33, 38, 'action')]}),\n",
       " ('Identify the publisher of The Man Who Would Be King',\n",
       "  {'entities': [(13, 22, 'role'), (26, 51, 'movie')]}),\n",
       " ('Tell me the musical conductor behind Taare Zameen Par',\n",
       "  {'entities': [(12, 29, 'role'), (37, 53, 'movie')]}),\n",
       " ('Tell me the operator for The Bench',\n",
       "  {'entities': [(12, 20, 'role'), (25, 34, 'movie')]}),\n",
       " ('Tell me the performer of Lightyear',\n",
       "  {'entities': [(12, 21, 'role'), (25, 34, 'movie')]}),\n",
       " (\"What is the actor's name for the movie Departures?\",\n",
       "  {'entities': [(12, 17, 'role'), (39, 49, 'movie')]}),\n",
       " ('Who cast in The Second Awakening of Christa Klages?',\n",
       "  {'entities': [(4, 8, 'role'), (12, 50, 'movie')]}),\n",
       " ('Who directed Alexander?',\n",
       "  {'entities': [(13, 22, 'movie'), (4, 12, 'action'), (4, 10, 'action')]}),\n",
       " ('Who wrote the movie New York Doll?',\n",
       "  {'entities': [(20, 33, 'movie'), (4, 9, 'action')]}),\n",
       " ('Who is the screenwriter of Casa de los Babys?',\n",
       "  {'entities': [(11, 23, 'role'), (27, 44, 'movie')]}),\n",
       " ('Who is the producer of the film Coda?',\n",
       "  {'entities': [(11, 19, 'role'), (32, 36, 'movie'), (11, 18, 'action')]}),\n",
       " ('Who oversaw the making of Devil in the Flesh 2',\n",
       "  {'entities': [(26, 46, 'movie')]}),\n",
       " ('Who was in charge of directing Stakeout?',\n",
       "  {'entities': [(31, 39, 'movie'), (21, 27, 'action')]}),\n",
       " ('Who was the director of photography of Black Rain',\n",
       "  {'entities': [(12, 35, 'role'), (39, 49, 'movie'), (12, 18, 'action')]}),\n",
       " ('Give me the film crew member of Cass',\n",
       "  {'entities': [(12, 28, 'role'), (32, 36, 'movie')]}),\n",
       " ('Give me the name of the choreographer of Casshern',\n",
       "  {'entities': [(24, 37, 'role'), (41, 49, 'movie')]}),\n",
       " (\"I'd like to know the art director's name for A Man Comes Home\",\n",
       "  {'entities': [(21, 33, 'role'), (45, 61, 'movie'), (25, 31, 'action')]}),\n",
       " (\"I'm curious about the person who directed The Visitor\",\n",
       "  {'entities': [(42, 53, 'movie'), (33, 41, 'action'), (33, 39, 'action')]}),\n",
       " ('Identify the presenter of Knuckledust',\n",
       "  {'entities': [(13, 22, 'role'), (26, 37, 'movie')]}),\n",
       " ('Tell me the narrator behind Secret Magic Control Agency',\n",
       "  {'entities': [(12, 20, 'role'), (28, 55, 'movie')]}),\n",
       " ('Tell me the animator for Spy Game',\n",
       "  {'entities': [(12, 20, 'role'), (25, 33, 'movie')]}),\n",
       " ('Tell me the creator of Castle Freak',\n",
       "  {'entities': [(12, 19, 'role'), (23, 35, 'movie')]}),\n",
       " (\"What is the participant's name for the movie This Means War?\",\n",
       "  {'entities': [(12, 23, 'role'), (45, 59, 'movie')]}),\n",
       " ('Who member of the crew of in Undercover Kitty?',\n",
       "  {'entities': [(4, 25, 'role'), (29, 45, 'movie')]}),\n",
       " ('Who wrote The Last Metro?',\n",
       "  {'entities': [(10, 24, 'movie'), (4, 9, 'action')]}),\n",
       " ('Who directed the movie Freud Leaving Home?',\n",
       "  {'entities': [(23, 41, 'movie'), (4, 12, 'action'), (4, 10, 'action')]}),\n",
       " ('Who is the musical conductor of Showdown in Little Tokyo?',\n",
       "  {'entities': [(11, 28, 'role'), (32, 56, 'movie')]}),\n",
       " ('Who is the operator of the film Divine Secrets of the Ya-Ya Sisterhood?',\n",
       "  {'entities': [(11, 19, 'role'), (32, 70, 'movie')]}),\n",
       " ('Who oversaw the making of Cat Run', {'entities': [(26, 33, 'movie')]}),\n",
       " ('Who was in charge of directing Immortals?',\n",
       "  {'entities': [(31, 40, 'movie'), (21, 27, 'action')]}),\n",
       " ('Who was the cast of Catchfire',\n",
       "  {'entities': [(12, 16, 'role'), (20, 29, 'movie')]}),\n",
       " ('Give me the cast member of Catch a Fire',\n",
       "  {'entities': [(12, 23, 'role'), (27, 39, 'movie')]}),\n",
       " ('Give me the name of the director of Happythankyoumoreplease',\n",
       "  {'entities': [(24, 32, 'role'), (36, 59, 'movie'), (24, 30, 'action')]}),\n",
       " (\"I'd like to know the screenwriter's name for Caterpillar\",\n",
       "  {'entities': [(21, 33, 'role'), (45, 56, 'movie')]}),\n",
       " (\"I'm curious about the person who wrote Existenz\",\n",
       "  {'entities': [(39, 47, 'movie'), (33, 38, 'action')]}),\n",
       " ('Identify the developer of Cutthroat Island',\n",
       "  {'entities': [(13, 22, 'role'), (26, 42, 'movie')]}),\n",
       " ('Tell me the film editor behind Caught',\n",
       "  {'entities': [(12, 23, 'role'), (31, 37, 'movie'), (17, 21, 'action')]}),\n",
       " ('Tell me the director of photography for Caveman',\n",
       "  {'entities': [(12, 35, 'role'), (40, 47, 'movie'), (12, 18, 'action')]}),\n",
       " (\"Tell me the film crew member of New Year's Eve\",\n",
       "  {'entities': [(12, 28, 'role'), (32, 46, 'movie')]}),\n",
       " (\"What is the choreographer's name for the movie Bianca?\",\n",
       "  {'entities': [(12, 25, 'role'), (47, 53, 'movie')]}),\n",
       " ('Who art director in The Keys to the House?',\n",
       "  {'entities': [(4, 16, 'role'), (20, 41, 'movie'), (8, 14, 'action')]}),\n",
       " ('Who directed I Wish?',\n",
       "  {'entities': [(13, 19, 'movie'), (4, 12, 'action'), (4, 10, 'action')]}),\n",
       " ('Who wrote the movie IMurders?',\n",
       "  {'entities': [(20, 28, 'movie'), (4, 9, 'action')]}),\n",
       " ('Who is the narrator of In Your Veins?',\n",
       "  {'entities': [(11, 19, 'role'), (23, 36, 'movie')]}),\n",
       " ('Who is the animator of the film Villain?',\n",
       "  {'entities': [(11, 19, 'role'), (32, 39, 'movie')]}),\n",
       " ('Who oversaw the making of Jackass 2.5', {'entities': [(26, 37, 'movie')]}),\n",
       " ('Who was in charge of directing I Miss You?',\n",
       "  {'entities': [(31, 41, 'movie'), (21, 27, 'action')]}),\n",
       " ('Who was the member of the crew of of Central Station',\n",
       "  {'entities': [(12, 33, 'role'), (37, 52, 'movie')]}),\n",
       " ('Give me the voice actor of The Great Magician',\n",
       "  {'entities': [(12, 23, 'role'), (27, 45, 'movie')]}),\n",
       " ('Give me the name of the publisher of Pinocchio',\n",
       "  {'entities': [(24, 33, 'role'), (37, 46, 'movie')]}),\n",
       " (\"I'd like to know the musical conductor's name for The Conquest\",\n",
       "  {'entities': [(21, 38, 'role'), (50, 62, 'movie')]}),\n",
       " (\"I'm curious about the person who directed I Just Didn't Do It\",\n",
       "  {'entities': [(42, 61, 'movie'), (33, 41, 'action'), (33, 39, 'action')]}),\n",
       " ('Identify the performer of Shed No Tears',\n",
       "  {'entities': [(13, 22, 'role'), (26, 39, 'movie')]}),\n",
       " ('Tell me the actor behind A Ghost of a Chance',\n",
       "  {'entities': [(12, 17, 'role'), (25, 44, 'movie')]}),\n",
       " ('Tell me the cast for Kamisama no Karute',\n",
       "  {'entities': [(12, 16, 'role'), (21, 39, 'movie')]}),\n",
       " ('Tell me the cast member of The Perfect Game',\n",
       "  {'entities': [(12, 23, 'role'), (27, 43, 'movie')]}),\n",
       " (\"What is the director's name for the movie Carmen?\",\n",
       "  {'entities': [(12, 20, 'role'), (42, 48, 'movie'), (12, 18, 'action')]}),\n",
       " ('Who screenwriter in Kansas City Confidential?',\n",
       "  {'entities': [(4, 16, 'role'), (20, 44, 'movie')]}),\n",
       " ('Who wrote The Conviction?',\n",
       "  {'entities': [(10, 24, 'movie'), (4, 9, 'action')]}),\n",
       " ('Who directed the movie Anxiety?',\n",
       "  {'entities': [(23, 30, 'movie'), (4, 12, 'action'), (4, 10, 'action')]}),\n",
       " ('Who is the film editor of A Lady Without Passport?',\n",
       "  {'entities': [(11, 22, 'role'), (26, 49, 'movie'), (16, 20, 'action')]}),\n",
       " ('Who is the director of photography of the film Fire with Fire?',\n",
       "  {'entities': [(11, 34, 'role'), (47, 61, 'movie'), (11, 17, 'action')]}),\n",
       " (\"Who oversaw the making of Just Another Pandora's Box\",\n",
       "  {'entities': [(26, 52, 'movie')]}),\n",
       " ('Who was in charge of directing The Glass Menagerie?',\n",
       "  {'entities': [(31, 50, 'movie'), (21, 27, 'action')]}),\n",
       " ('Who was the art director of The Ear',\n",
       "  {'entities': [(12, 24, 'role'), (28, 35, 'movie'), (16, 22, 'action')]}),\n",
       " ('Give me the author of The Big Bang',\n",
       "  {'entities': [(12, 18, 'role'), (22, 34, 'movie')]}),\n",
       " ('Give me the name of the presenter of Persona non grata',\n",
       "  {'entities': [(24, 33, 'role'), (37, 54, 'movie')]}),\n",
       " (\"I'd like to know the narrator's name for Hara-Kiri: Death of a Samurai\",\n",
       "  {'entities': [(21, 29, 'role'), (41, 70, 'movie')]}),\n",
       " (\"I'm curious about the person who wrote Gente di Roma\",\n",
       "  {'entities': [(39, 52, 'movie'), (33, 38, 'action')]}),\n",
       " ('Identify the creator of Vanilla and Chocolate',\n",
       "  {'entities': [(13, 20, 'role'), (24, 45, 'movie')]}),\n",
       " ('Tell me the participant behind Chaahat',\n",
       "  {'entities': [(12, 23, 'role'), (31, 38, 'movie')]}),\n",
       " ('Tell me the member of the crew of for The Consequences of Love',\n",
       "  {'entities': [(12, 33, 'role'), (38, 62, 'movie')]}),\n",
       " ('Tell me the voice actor of The Bankers of God: The Calvi Affair',\n",
       "  {'entities': [(12, 23, 'role'), (27, 63, 'movie')]}),\n",
       " (\"What is the publisher's name for the movie Sadako 3D?\",\n",
       "  {'entities': [(12, 21, 'role'), (43, 52, 'movie')]}),\n",
       " (\"Who musical conductor in Lorenzo's Oil?\",\n",
       "  {'entities': [(4, 21, 'role'), (25, 38, 'movie')]}),\n",
       " ('Who directed Waltz for Monica?',\n",
       "  {'entities': [(13, 29, 'movie'), (4, 12, 'action'), (4, 10, 'action')]}),\n",
       " ('Who wrote the movie Jeepers Creepers: Reborn?',\n",
       "  {'entities': [(20, 44, 'movie'), (4, 9, 'action')]}),\n",
       " ('Who is the actor of Kueki Ressha?',\n",
       "  {'entities': [(11, 16, 'role'), (20, 32, 'movie')]}),\n",
       " (\"Who is the cast of the film Adam's Rib?\",\n",
       "  {'entities': [(11, 15, 'role'), (28, 38, 'movie')]}),\n",
       " ('Who oversaw the making of Janie Jones', {'entities': [(26, 37, 'movie')]}),\n",
       " ('Who was in charge of directing Chal Mere Bhai?',\n",
       "  {'entities': [(31, 45, 'movie'), (21, 27, 'action')]}),\n",
       " ('Who was the screenwriter of Beyond Outrage',\n",
       "  {'entities': [(12, 24, 'role'), (28, 42, 'movie')]}),\n",
       " ('Give me the producer of Keep the Lights On',\n",
       "  {'entities': [(12, 20, 'role'), (24, 42, 'movie'), (12, 19, 'action')]}),\n",
       " ('Give me the name of the developer of Volcano',\n",
       "  {'entities': [(24, 33, 'role'), (37, 44, 'movie')]}),\n",
       " (\"I'd like to know the film editor's name for Like Someone in Love\",\n",
       "  {'entities': [(21, 32, 'role'), (44, 64, 'movie'), (26, 30, 'action')]}),\n",
       " (\"I'm curious about the person who directed Needle\",\n",
       "  {'entities': [(42, 48, 'movie'), (33, 41, 'action'), (33, 39, 'action')]}),\n",
       " ('Identify the film crew member of Eddie and the Cruisers',\n",
       "  {'entities': [(13, 29, 'role'), (33, 55, 'movie')]}),\n",
       " ('Tell me the choreographer behind Saimir',\n",
       "  {'entities': [(12, 25, 'role'), (33, 39, 'movie')]}),\n",
       " ('Tell me the art director for Blue Spring',\n",
       "  {'entities': [(12, 24, 'role'), (29, 40, 'movie'), (16, 22, 'action')]}),\n",
       " ('Tell me the author of Chalte Chalte',\n",
       "  {'entities': [(12, 18, 'role'), (22, 35, 'movie')]}),\n",
       " (\"What is the presenter's name for the movie The Good Doctor?\",\n",
       "  {'entities': [(12, 21, 'role'), (43, 58, 'movie')]}),\n",
       " ('Who narrator in ATM?', {'entities': [(4, 12, 'role'), (16, 19, 'movie')]}),\n",
       " ('Who wrote Chamatkar?', {'entities': [(10, 19, 'movie'), (4, 9, 'action')]}),\n",
       " ('Who directed the movie Chameli?',\n",
       "  {'entities': [(23, 30, 'movie'), (4, 12, 'action'), (4, 10, 'action')]}),\n",
       " ('Who is the participant of Original?',\n",
       "  {'entities': [(11, 22, 'role'), (26, 34, 'movie')]}),\n",
       " ('Who is the member of the crew of of the film A Prophet?',\n",
       "  {'entities': [(11, 32, 'role'), (45, 54, 'movie')]}),\n",
       " ('Who oversaw the making of Seaspiracy', {'entities': [(26, 36, 'movie')]}),\n",
       " ('Who was in charge of directing Chandani - The daughter of the elephant whisperer?',\n",
       "  {'entities': [(31, 80, 'movie'), (21, 27, 'action')]}),\n",
       " ('Who was the musical conductor of Chandni Chowk to China',\n",
       "  {'entities': [(12, 29, 'role'), (33, 55, 'movie')]}),\n",
       " ('Give me the operator of Change My Life',\n",
       "  {'entities': [(12, 20, 'role'), (24, 38, 'movie')]}),\n",
       " ('Give me the name of the performer of Changing Times',\n",
       "  {'entities': [(24, 33, 'role'), (37, 51, 'movie')]}),\n",
       " (\"I'd like to know the actor's name for To Hell and Back: The Kane Hodder Story\",\n",
       "  {'entities': [(21, 26, 'role'), (38, 77, 'movie')]}),\n",
       " (\"I'm curious about the person who wrote The Singer\",\n",
       "  {'entities': [(39, 49, 'movie'), (33, 38, 'action')]}),\n",
       " ('Identify the cast member of Love Songs',\n",
       "  {'entities': [(13, 24, 'role'), (28, 38, 'movie')]}),\n",
       " ('Tell me the director behind Chaos',\n",
       "  {'entities': [(12, 20, 'role'), (28, 33, 'movie'), (12, 18, 'action')]}),\n",
       " ('Tell me the screenwriter for The Defiant Ones',\n",
       "  {'entities': [(12, 24, 'role'), (29, 45, 'movie')]}),\n",
       " ('Tell me the producer of Profetia',\n",
       "  {'entities': [(12, 20, 'role'), (24, 32, 'movie'), (12, 19, 'action')]}),\n",
       " (\"What is the developer's name for the movie Jingle All the Way?\",\n",
       "  {'entities': [(12, 21, 'role'), (43, 61, 'movie')]}),\n",
       " ('Who film editor in Death Hunt?',\n",
       "  {'entities': [(4, 15, 'role'), (19, 29, 'movie'), (9, 13, 'action')]}),\n",
       " ('Who directed Underground?',\n",
       "  {'entities': [(13, 24, 'movie'), (4, 12, 'action'), (4, 10, 'action')]}),\n",
       " ('Who wrote the movie Nothing to Lose?',\n",
       "  {'entities': [(20, 35, 'movie'), (4, 9, 'action')]}),\n",
       " ('Who is the choreographer of Straight to Hell?',\n",
       "  {'entities': [(11, 24, 'role'), (28, 44, 'movie')]}),\n",
       " ('Who is the art director of the film The Hidden Blade?',\n",
       "  {'entities': [(11, 23, 'role'), (36, 52, 'movie'), (15, 21, 'action')]}),\n",
       " (\"Who oversaw the making of Sullivan's Travels\",\n",
       "  {'entities': [(26, 44, 'movie')]}),\n",
       " ('Who was in charge of directing Jackass 3D?',\n",
       "  {'entities': [(31, 41, 'movie'), (21, 27, 'action')]}),\n",
       " ('Who was the narrator of Linda Linda Linda',\n",
       "  {'entities': [(12, 20, 'role'), (24, 41, 'movie')]}),\n",
       " ('Give me the animator of His Girl Friday',\n",
       "  {'entities': [(12, 20, 'role'), (24, 39, 'movie')]}),\n",
       " ('Give me the name of the creator of Simon & Malou',\n",
       "  {'entities': [(24, 31, 'role'), (35, 48, 'movie')]}),\n",
       " (\"I'd like to know the participant's name for My Best Friend Is a Vampire\",\n",
       "  {'entities': [(21, 32, 'role'), (44, 71, 'movie')]}),\n",
       " (\"I'm curious about the person who directed Grizzly Man\",\n",
       "  {'entities': [(42, 53, 'movie'), (33, 41, 'action'), (33, 39, 'action')]}),\n",
       " ('Identify the voice actor of Charly',\n",
       "  {'entities': [(13, 24, 'role'), (28, 34, 'movie')]}),\n",
       " ('Tell me the publisher behind Visible Secret',\n",
       "  {'entities': [(12, 21, 'role'), (29, 43, 'movie')]}),\n",
       " ('Tell me the musical conductor for Casper and Emma on Safari',\n",
       "  {'entities': [(12, 29, 'role'), (34, 59, 'movie')]}),\n",
       " ('Tell me the operator of Chasers',\n",
       "  {'entities': [(12, 20, 'role'), (24, 31, 'movie')]}),\n",
       " (\"What is the performer's name for the movie Veer-Zaara?\",\n",
       "  {'entities': [(12, 21, 'role'), (43, 53, 'movie')]}),\n",
       " (\"Who actor in Hell's Angels?\",\n",
       "  {'entities': [(4, 9, 'role'), (13, 26, 'movie')]}),\n",
       " ('Who wrote Cloudboy?', {'entities': [(10, 18, 'movie'), (4, 9, 'action')]}),\n",
       " ('Who directed the movie Lies and Fat Girls?',\n",
       "  {'entities': [(23, 41, 'movie'), (4, 12, 'action'), (4, 10, 'action')]}),\n",
       " ('Who is the director of A Classic Horror Story?',\n",
       "  {'entities': [(11, 19, 'role'), (23, 45, 'movie'), (11, 17, 'action')]}),\n",
       " ('Who is the screenwriter of the film Pure?',\n",
       "  {'entities': [(11, 23, 'role'), (36, 40, 'movie')]}),\n",
       " ('Who oversaw the making of Break Through!',\n",
       "  {'entities': [(26, 40, 'movie')]}),\n",
       " ('Who was in charge of directing Cherry 2000?',\n",
       "  {'entities': [(31, 42, 'movie'), (21, 27, 'action')]}),\n",
       " (\"Who was the film editor of God Forgives... I Don't!\",\n",
       "  {'entities': [(12, 23, 'role'), (27, 51, 'movie'), (17, 21, 'action')]}),\n",
       " ('Give me the director of photography of Keane',\n",
       "  {'entities': [(12, 35, 'role'), (39, 44, 'movie'), (12, 18, 'action')]}),\n",
       " ('Give me the name of the film crew member of Love and Rage',\n",
       "  {'entities': [(24, 40, 'role'), (44, 57, 'movie')]}),\n",
       " (\"I'd like to know the choreographer's name for Cheyenne Autumn\",\n",
       "  {'entities': [(21, 34, 'role'), (46, 61, 'movie')]}),\n",
       " (\"I'm curious about the person who wrote Chicago Cab\",\n",
       "  {'entities': [(39, 50, 'movie'), (33, 38, 'action')]}),\n",
       " ('Identify the author of Escape from Mogadishu',\n",
       "  {'entities': [(13, 19, 'role'), (23, 44, 'movie')]}),\n",
       " ('Tell me the presenter behind Japón',\n",
       "  {'entities': [(12, 21, 'role'), (29, 34, 'movie')]}),\n",
       " ('Tell me the narrator for Zero Day',\n",
       "  {'entities': [(12, 20, 'role'), (25, 33, 'movie')]}),\n",
       " ('Tell me the animator of April Story',\n",
       "  {'entities': [(12, 20, 'role'), (24, 35, 'movie')]}),\n",
       " (\"What is the creator's name for the movie Hostage: Missing Celebrity?\",\n",
       "  {'entities': [(12, 19, 'role'), (41, 67, 'movie')]}),\n",
       " ('Who participant in North?',\n",
       "  {'entities': [(4, 15, 'role'), (19, 24, 'movie')]}),\n",
       " ('Who directed Tomme tønner?',\n",
       "  {'entities': [(13, 25, 'movie'), (4, 12, 'action'), (4, 10, 'action')]}),\n",
       " ('Who wrote the movie The Chef, the Actor, the Scoundrel?',\n",
       "  {'entities': [(20, 54, 'movie'), (4, 9, 'action')]}),\n",
       " ('Who is the publisher of Hong Kong Confidential?',\n",
       "  {'entities': [(11, 20, 'role'), (24, 46, 'movie')]}),\n",
       " ('Who is the musical conductor of the film Dear Friends?',\n",
       "  {'entities': [(11, 28, 'role'), (41, 53, 'movie')]}),\n",
       " ('Who oversaw the making of Strings', {'entities': [(26, 33, 'movie')]}),\n",
       " ('Who was in charge of directing Tenshi no Koi?',\n",
       "  {'entities': [(31, 44, 'movie'), (21, 27, 'action')]}),\n",
       " ('Who was the actor of Countdown to Zero',\n",
       "  {'entities': [(12, 17, 'role'), (21, 38, 'movie')]}),\n",
       " ('Give me the cast of The Founding of a Party',\n",
       "  {'entities': [(12, 16, 'role'), (20, 43, 'movie')]}),\n",
       " ('Give me the name of the cast member of Chisum',\n",
       "  {'entities': [(24, 35, 'role'), (39, 45, 'movie')]}),\n",
       " (\"I'd like to know the director's name for The Stool Pigeon\",\n",
       "  {'entities': [(21, 29, 'role'), (41, 57, 'movie'), (21, 27, 'action')]}),\n",
       " (\"I'm curious about the person who directed Choke\",\n",
       "  {'entities': [(42, 47, 'movie'), (33, 41, 'action'), (33, 39, 'action')]}),\n",
       " ('Identify the producer of Choking Hazard',\n",
       "  {'entities': [(13, 21, 'role'), (25, 39, 'movie'), (13, 20, 'action')]}),\n",
       " ('Tell me the developer behind Beast Stalker',\n",
       "  {'entities': [(12, 21, 'role'), (29, 42, 'movie')]}),\n",
       " ('Tell me the film editor for Ugetsu',\n",
       "  {'entities': [(12, 23, 'role'), (28, 34, 'movie'), (17, 21, 'action')]}),\n",
       " ('Tell me the director of photography of Swing Kids',\n",
       "  {'entities': [(12, 35, 'role'), (39, 49, 'movie'), (12, 18, 'action')]}),\n",
       " (\"What is the film crew member's name for the movie Gallipoli?\",\n",
       "  {'entities': [(12, 28, 'role'), (50, 59, 'movie')]}),\n",
       " ('Who choreographer in Antitrust?',\n",
       "  {'entities': [(4, 17, 'role'), (21, 30, 'movie')]}),\n",
       " ('Who wrote The Truce?', {'entities': [(10, 19, 'movie'), (4, 9, 'action')]}),\n",
       " ('Who directed the movie Street Angel?',\n",
       "  {'entities': [(23, 35, 'movie'), (4, 12, 'action'), (4, 10, 'action')]}),\n",
       " ('Who is the presenter of Undisputed II: Last Man Standing?',\n",
       "  {'entities': [(11, 20, 'role'), (24, 56, 'movie')]}),\n",
       " ('Who is the narrator of the film The Magician?',\n",
       "  {'entities': [(11, 19, 'role'), (32, 44, 'movie')]}),\n",
       " ('Who oversaw the making of Truck Turner', {'entities': [(26, 38, 'movie')]}),\n",
       " ('Who was in charge of directing Sky Fighters?',\n",
       "  {'entities': [(31, 43, 'movie'), (21, 27, 'action')]}),\n",
       " ('Who was the participant of Cohen and Tate',\n",
       "  {'entities': [(12, 23, 'role'), (27, 41, 'movie')]}),\n",
       " (\"Give me the member of the crew of of Christina's House\",\n",
       "  {'entities': [(12, 33, 'role'), (37, 54, 'movie')]}),\n",
       " ('Give me the name of the voice actor of Johnny Handsome',\n",
       "  {'entities': [(24, 35, 'role'), (39, 54, 'movie')]}),\n",
       " (\"I'd like to know the publisher's name for Men at Work\",\n",
       "  {'entities': [(21, 30, 'role'), (42, 53, 'movie')]}),\n",
       " (\"I'm curious about the person who wrote Witchery\",\n",
       "  {'entities': [(39, 47, 'movie'), (33, 38, 'action')]}),\n",
       " ('Identify the operator of Magic Kitchen',\n",
       "  {'entities': [(13, 21, 'role'), (25, 38, 'movie')]}),\n",
       " ('Tell me the performer behind The 5th Quarter',\n",
       "  {'entities': [(12, 21, 'role'), (29, 44, 'movie')]}),\n",
       " ('Tell me the actor for Díra u Hanušovic',\n",
       "  {'entities': [(12, 17, 'role'), (22, 38, 'movie')]}),\n",
       " ('Tell me the cast of I, Olga Hepnarová',\n",
       "  {'entities': [(12, 16, 'role'), (20, 37, 'movie')]}),\n",
       " (\"What is the cast member's name for the movie Big Eyes?\",\n",
       "  {'entities': [(12, 23, 'role'), (45, 53, 'movie')]}),\n",
       " ('Who director in Pee Mak?',\n",
       "  {'entities': [(4, 12, 'role'), (16, 23, 'movie'), (4, 10, 'action')]}),\n",
       " ('Who directed An Earthly Paradise For The Eyes?',\n",
       "  {'entities': [(13, 45, 'movie'), (4, 12, 'action'), (4, 10, 'action')]}),\n",
       " ('Who wrote the movie Ip Man: The Final Fight?',\n",
       "  {'entities': [(20, 43, 'movie'), (4, 9, 'action')]}),\n",
       " (\"Who is the developer of Let's Get Lost?\",\n",
       "  {'entities': [(11, 20, 'role'), (24, 38, 'movie')]}),\n",
       " ('Who is the film editor of the film Badges of Fury?',\n",
       "  {'entities': [(11, 22, 'role'), (35, 49, 'movie'), (16, 20, 'action')]}),\n",
       " ('Who oversaw the making of The Bait', {'entities': [(26, 34, 'movie')]}),\n",
       " (\"Who was in charge of directing Don't Go Breaking My Heart?\",\n",
       "  {'entities': [(31, 57, 'movie'), (21, 27, 'action')]}),\n",
       " ('Who was the choreographer of Akame 48 Waterfalls',\n",
       "  {'entities': [(12, 25, 'role'), (29, 48, 'movie')]}),\n",
       " ('Give me the art director of Christ Stopped at Eboli',\n",
       "  {'entities': [(12, 24, 'role'), (28, 51, 'movie'), (16, 22, 'action')]}),\n",
       " ('Give me the name of the author of Kagero-za',\n",
       "  {'entities': [(24, 30, 'role'), (34, 43, 'movie')]}),\n",
       " (\"I'd like to know the presenter's name for A True Mob Story\",\n",
       "  {'entities': [(21, 30, 'role'), (42, 58, 'movie')]}),\n",
       " (\"I'm curious about the person who directed Shanghai Grand\",\n",
       "  {'entities': [(42, 56, 'movie'), (33, 41, 'action'), (33, 39, 'action')]}),\n",
       " ('Identify the animator of Chromophobia',\n",
       "  {'entities': [(13, 21, 'role'), (25, 37, 'movie')]}),\n",
       " ('Tell me the creator behind Lee Rock',\n",
       "  {'entities': [(12, 19, 'role'), (27, 35, 'movie')]}),\n",
       " ('Tell me the participant for Chrysalis',\n",
       "  {'entities': [(12, 23, 'role'), (28, 37, 'movie')]}),\n",
       " ('Tell me the member of the crew of of The House of Smiles',\n",
       "  {'entities': [(12, 33, 'role'), (37, 56, 'movie')]}),\n",
       " (\"What is the voice actor's name for the movie Woman Sesame Oil Maker?\",\n",
       "  {'entities': [(12, 23, 'role'), (45, 67, 'movie')]}),\n",
       " ('Who publisher in Unknown Chaplin?',\n",
       "  {'entities': [(4, 13, 'role'), (17, 32, 'movie')]}),\n",
       " ('Who wrote Blood of the Innocent?',\n",
       "  {'entities': [(10, 31, 'movie'), (4, 9, 'action')]}),\n",
       " ('Who directed the movie Vlad?',\n",
       "  {'entities': [(23, 27, 'movie'), (4, 12, 'action'), (4, 10, 'action')]}),\n",
       " ('Who is the performer of Sophie?',\n",
       "  {'entities': [(11, 20, 'role'), (24, 30, 'movie')]}),\n",
       " ('Who is the actor of the film Escape?',\n",
       "  {'entities': [(11, 16, 'role'), (29, 35, 'movie')]}),\n",
       " ('Who oversaw the making of Concrete Blondes',\n",
       "  {'entities': [(26, 42, 'movie')]}),\n",
       " ('Who was in charge of directing A Few Good Men?',\n",
       "  {'entities': [(31, 45, 'movie'), (21, 27, 'action')]}),\n",
       " ('Who was the director of Born to Kill',\n",
       "  {'entities': [(12, 20, 'role'), (24, 36, 'movie'), (12, 18, 'action')]}),\n",
       " ('Give me the screenwriter of Min and Bill',\n",
       "  {'entities': [(12, 24, 'role'), (28, 40, 'movie')]}),\n",
       " ('Give me the name of the producer of Return to Horror High',\n",
       "  {'entities': [(24, 32, 'role'), (36, 57, 'movie'), (24, 31, 'action')]}),\n",
       " (\"I'd like to know the developer's name for Big Trouble\",\n",
       "  {'entities': [(21, 30, 'role'), (42, 53, 'movie')]}),\n",
       " (\"I'm curious about the person who wrote Flying Swords of Dragon Gate\",\n",
       "  {'entities': [(39, 67, 'movie'), (33, 38, 'action')]}),\n",
       " ('Identify the director of photography of Skagerrak',\n",
       "  {'entities': [(13, 36, 'role'), (40, 49, 'movie'), (13, 19, 'action')]}),\n",
       " ('Tell me the film crew member behind Children of the Century',\n",
       "  {'entities': [(12, 28, 'role'), (36, 59, 'movie')]}),\n",
       " ('Tell me the choreographer for Moshidora',\n",
       "  {'entities': [(12, 25, 'role'), (30, 39, 'movie')]}),\n",
       " ('Tell me the art director of Kikujiro',\n",
       "  {'entities': [(12, 24, 'role'), (28, 36, 'movie'), (16, 22, 'action')]}),\n",
       " (\"What is the author's name for the movie Marked for Death?\",\n",
       "  {'entities': [(12, 18, 'role'), (40, 56, 'movie')]}),\n",
       " ('Who presenter in Evening?',\n",
       "  {'entities': [(4, 13, 'role'), (17, 24, 'movie')]}),\n",
       " ('Who directed Showtime?',\n",
       "  {'entities': [(13, 21, 'movie'), (4, 12, 'action'), (4, 10, 'action')]}),\n",
       " ('Who wrote the movie Circus?',\n",
       "  {'entities': [(20, 26, 'movie'), (4, 9, 'action')]}),\n",
       " ('Who is the creator of Circus World?',\n",
       "  {'entities': [(11, 18, 'role'), (22, 34, 'movie')]}),\n",
       " ('Who is the participant of the film Black Snow?',\n",
       "  {'entities': [(11, 22, 'role'), (35, 45, 'movie')]}),\n",
       " ('Who oversaw the making of The Adventurers',\n",
       "  {'entities': [(26, 41, 'movie')]}),\n",
       " ('Who was in charge of directing Howling III?',\n",
       "  {'entities': [(31, 42, 'movie'), (21, 27, 'action')]}),\n",
       " ('Who was the publisher of Mulholland Falls',\n",
       "  {'entities': [(12, 21, 'role'), (25, 41, 'movie')]}),\n",
       " ('Give me the musical conductor of Double Tap',\n",
       "  {'entities': [(12, 29, 'role'), (33, 43, 'movie')]}),\n",
       " ('Give me the name of the operator of Almost Human',\n",
       "  {'entities': [(24, 32, 'role'), (36, 48, 'movie')]}),\n",
       " (\"I'd like to know the performer's name for Big Fish & Begonia\",\n",
       "  {'entities': [(21, 30, 'role'), (42, 60, 'movie')]}),\n",
       " (\"I'm curious about the person who directed The Rooftop\",\n",
       "  {'entities': [(42, 53, 'movie'), (33, 41, 'action'), (33, 39, 'action')]}),\n",
       " ('Identify the cast of City of Ghosts',\n",
       "  {'entities': [(13, 17, 'role'), (21, 35, 'movie')]}),\n",
       " ('Tell me the cast member behind The Tall Blond Man with One Black Shoe',\n",
       "  {'entities': [(12, 23, 'role'), (31, 69, 'movie')]}),\n",
       " ('Tell me the director for Yuva',\n",
       "  {'entities': [(12, 20, 'role'), (25, 29, 'movie'), (12, 18, 'action')]}),\n",
       " ('Tell me the screenwriter of Battle of Warsaw 1920',\n",
       "  {'entities': [(12, 24, 'role'), (28, 49, 'movie')]}),\n",
       " (\"What is the producer's name for the movie Suicide Room?\",\n",
       "  {'entities': [(12, 20, 'role'), (42, 54, 'movie'), (12, 19, 'action')]}),\n",
       " ('Who developer in Little Moscow?',\n",
       "  {'entities': [(4, 13, 'role'), (17, 30, 'movie')]}),\n",
       " ('Who wrote Rope?', {'entities': [(10, 14, 'movie'), (4, 9, 'action')]}),\n",
       " ('Who directed the movie Tiny Times?',\n",
       "  {'entities': [(23, 33, 'movie'), (4, 12, 'action'), (4, 10, 'action')]}),\n",
       " ('Who is the film crew member of The Malay Chronicles: Bloodlines?',\n",
       "  {'entities': [(11, 27, 'role'), (31, 63, 'movie')]}),\n",
       " ('Who is the choreographer of the film Kokoda?',\n",
       "  {'entities': [(11, 24, 'role'), (37, 43, 'movie')]}),\n",
       " ('Who oversaw the making of Indie Game: The Movie',\n",
       "  {'entities': [(26, 47, 'movie')]}),\n",
       " ('Who was in charge of directing Vishwanatha Nayakudu?',\n",
       "  {'entities': [(31, 51, 'movie'), (21, 27, 'action')]}),\n",
       " ('Who was the presenter of Go Go Tales',\n",
       "  {'entities': [(12, 21, 'role'), (25, 36, 'movie')]}),\n",
       " ('Give me the narrator of Hello Mary Lou: Prom Night II',\n",
       "  {'entities': [(12, 20, 'role'), (24, 53, 'movie')]}),\n",
       " ('Give me the name of the animator of Trekkies',\n",
       "  {'entities': [(24, 32, 'role'), (36, 44, 'movie')]}),\n",
       " (\"I'd like to know the creator's name for Do Anjaane\",\n",
       "  {'entities': [(21, 28, 'role'), (40, 50, 'movie')]}),\n",
       " (\"I'm curious about the person who wrote Cleaner\",\n",
       "  {'entities': [(39, 46, 'movie'), (33, 38, 'action')]}),\n",
       " ('Identify the member of the crew of of Mausam',\n",
       "  {'entities': [(13, 34, 'role'), (38, 44, 'movie')]}),\n",
       " ('Tell me the voice actor behind Insaaf Ka Tarazu',\n",
       "  {'entities': [(12, 23, 'role'), (31, 47, 'movie')]}),\n",
       " ('Tell me the publisher for Life Without Principle',\n",
       "  {'entities': [(12, 21, 'role'), (26, 48, 'movie')]}),\n",
       " ('Tell me the musical conductor of Venghai',\n",
       "  {'entities': [(12, 29, 'role'), (33, 40, 'movie')]}),\n",
       " (\"What is the operator's name for the movie Veppam?\",\n",
       "  {'entities': [(12, 20, 'role'), (42, 48, 'movie')]}),\n",
       " ('Who performer in Cleopatra?',\n",
       "  {'entities': [(4, 13, 'role'), (17, 26, 'movie')]}),\n",
       " ('Who directed Macao?',\n",
       "  {'entities': [(13, 18, 'movie'), (4, 12, 'action'), (4, 10, 'action')]}),\n",
       " ('Who wrote the movie Clockwise?',\n",
       "  {'entities': [(20, 29, 'movie'), (4, 9, 'action')]}),\n",
       " ('Who is the cast member of Mashaal?',\n",
       "  {'entities': [(11, 22, 'role'), (26, 33, 'movie')]}),\n",
       " ('Who is the director of the film Closet Land?',\n",
       "  {'entities': [(11, 19, 'role'), (32, 43, 'movie'), (11, 17, 'action')]}),\n",
       " ('Who oversaw the making of Closing the Ring',\n",
       "  {'entities': [(26, 42, 'movie')]}),\n",
       " ('Who was in charge of directing Club Dread?',\n",
       "  {'entities': [(31, 41, 'movie'), (21, 27, 'action')]}),\n",
       " ('Who was the developer of Club Paradise',\n",
       "  {'entities': [(12, 21, 'role'), (25, 38, 'movie')]}),\n",
       " ('Give me the film editor of A Thousand Words',\n",
       "  {'entities': [(12, 23, 'role'), (27, 43, 'movie'), (17, 21, 'action')]}),\n",
       " ('Give me the name of the director of photography of Flickering Lights',\n",
       "  {'entities': [(24, 47, 'role'), (51, 68, 'movie'), (24, 30, 'action')]}),\n",
       " (\"I'd like to know the film crew member's name for Coach Carter\",\n",
       "  {'entities': [(21, 37, 'role'), (49, 61, 'movie')]}),\n",
       " (\"I'm curious about the person who directed Chasing Papi\",\n",
       "  {'entities': [(42, 54, 'movie'), (33, 41, 'action'), (33, 39, 'action')]}),\n",
       " ('Identify the art director of Ghatak: Lethal',\n",
       "  {'entities': [(13, 25, 'role'), (29, 43, 'movie'), (17, 23, 'action')]}),\n",
       " ('Tell me the author behind Code 46',\n",
       "  {'entities': [(12, 18, 'role'), (26, 33, 'movie')]}),\n",
       " ('Tell me the presenter for Code Name: The Cleaner',\n",
       "  {'entities': [(12, 21, 'role'), (26, 48, 'movie')]}),\n",
       " ('Tell me the narrator of Dev',\n",
       "  {'entities': [(12, 20, 'role'), (24, 27, 'movie')]}),\n",
       " (\"What is the animator's name for the movie Nights on the Road?\",\n",
       "  {'entities': [(12, 20, 'role'), (42, 60, 'movie')]}),\n",
       " ('Who creator in The Street with No Name?',\n",
       "  {'entities': [(4, 11, 'role'), (15, 38, 'movie')]}),\n",
       " ('Who wrote Nobel Son?', {'entities': [(10, 19, 'movie'), (4, 9, 'action')]}),\n",
       " ('Who directed the movie When the Sea Rises?',\n",
       "  {'entities': [(23, 41, 'movie'), (4, 12, 'action'), (4, 10, 'action')]}),\n",
       " ('Who is the voice actor of Yuppi du?',\n",
       "  {'entities': [(11, 22, 'role'), (26, 34, 'movie')]}),\n",
       " ('Who is the publisher of the film Le Marginal?',\n",
       "  {'entities': [(11, 20, 'role'), (33, 44, 'movie')]}),\n",
       " ('Who oversaw the making of Coldblooded', {'entities': [(26, 37, 'movie')]}),\n",
       " ('Who was in charge of directing Cold Fever?',\n",
       "  {'entities': [(31, 41, 'movie'), (21, 27, 'action')]}),\n",
       " ('Who was the performer of Cold Creek Manor',\n",
       "  {'entities': [(12, 21, 'role'), (25, 41, 'movie')]}),\n",
       " ('Give me the actor of Cold Prey 2',\n",
       "  {'entities': [(12, 17, 'role'), (21, 32, 'movie')]}),\n",
       " ('Give me the name of the cast of As the Light Goes Out',\n",
       "  {'entities': [(24, 28, 'role'), (32, 53, 'movie')]}),\n",
       " (\"I'd like to know the cast member's name for Jonah Who Lived in the Whale\",\n",
       "  {'entities': [(21, 32, 'role'), (44, 72, 'movie')]}),\n",
       " (\"I'm curious about the person who wrote College Road Trip\",\n",
       "  {'entities': [(39, 56, 'movie'), (33, 38, 'action')]}),\n",
       " ('Identify the screenwriter of Sherlock Holmes',\n",
       "  {'entities': [(13, 25, 'role'), (29, 44, 'movie')]}),\n",
       " ('Tell me the producer behind Tere Naam',\n",
       "  {'entities': [(12, 20, 'role'), (28, 37, 'movie'), (12, 19, 'action')]}),\n",
       " ('Tell me the developer for Fled',\n",
       "  {'entities': [(12, 21, 'role'), (26, 30, 'movie')]}),\n",
       " ('Tell me the film editor of The Five Pennies',\n",
       "  {'entities': [(12, 23, 'role'), (27, 43, 'movie'), (17, 21, 'action')]}),\n",
       " (\"What is the director of photography's name for the movie Off Beat?\",\n",
       "  {'entities': [(12, 35, 'role'), (57, 65, 'movie'), (12, 18, 'action')]}),\n",
       " ('Who film crew member in Color of Night?',\n",
       "  {'entities': [(4, 20, 'role'), (24, 38, 'movie')]}),\n",
       " ('Who directed Colors?',\n",
       "  {'entities': [(13, 19, 'movie'), (4, 12, 'action'), (4, 10, 'action')]}),\n",
       " ('Who wrote the movie Babes in Toyland?',\n",
       "  {'entities': [(20, 36, 'movie'), (4, 9, 'action')]}),\n",
       " ('Who is the author of High Crimes?',\n",
       "  {'entities': [(11, 17, 'role'), (21, 32, 'movie')]}),\n",
       " ('Who is the presenter of the film Sunshine Cleaning?',\n",
       "  {'entities': [(11, 20, 'role'), (33, 50, 'movie')]}),\n",
       " ('Who oversaw the making of Hellsinki', {'entities': [(26, 35, 'movie')]}),\n",
       " (\"Who was in charge of directing I Don't Speak English?\",\n",
       "  {'entities': [(31, 52, 'movie'), (21, 27, 'action')]}),\n",
       " ('Who was the creator of Them',\n",
       "  {'entities': [(12, 19, 'role'), (23, 27, 'movie')]}),\n",
       " ('Give me the participant of Rigor Mortis',\n",
       "  {'entities': [(12, 23, 'role'), (27, 39, 'movie')]}),\n",
       " ('Give me the name of the member of the crew of of The Dancer Upstairs',\n",
       "  {'entities': [(24, 45, 'role'), (49, 68, 'movie')]}),\n",
       " (\"I'd like to know the voice actor's name for Curiosity Kills the Cat\",\n",
       "  {'entities': [(21, 32, 'role'), (44, 67, 'movie')]}),\n",
       " (\"I'm curious about the person who directed Comandante\",\n",
       "  {'entities': [(42, 52, 'movie'), (33, 41, 'action'), (33, 39, 'action')]}),\n",
       " (\"Identify the musical conductor of I'll Be There\",\n",
       "  {'entities': [(13, 30, 'role'), (34, 47, 'movie')]}),\n",
       " ('Tell me the operator behind The Island',\n",
       "  {'entities': [(12, 20, 'role'), (28, 38, 'movie')]}),\n",
       " ('Tell me the performer for Tender Mercies',\n",
       "  {'entities': [(12, 21, 'role'), (26, 40, 'movie')]}),\n",
       " ('Tell me the actor of Nouvelle Vague',\n",
       "  {'entities': [(12, 17, 'role'), (21, 35, 'movie')]}),\n",
       " (\"What is the cast's name for the movie The Chronicle of Anna Magdalena Bach?\",\n",
       "  {'entities': [(12, 16, 'role'), (38, 74, 'movie')]}),\n",
       " ('Who cast member in Career Opportunities?',\n",
       "  {'entities': [(4, 15, 'role'), (19, 39, 'movie')]}),\n",
       " ('Who wrote Naayika?', {'entities': [(10, 17, 'movie'), (4, 9, 'action')]}),\n",
       " ('Who directed the movie Overnight Delivery?',\n",
       "  {'entities': [(23, 41, 'movie'), (4, 12, 'action'), (4, 10, 'action')]}),\n",
       " ('Who is the producer of Cougar Club?',\n",
       "  {'entities': [(11, 19, 'role'), (23, 34, 'movie'), (11, 18, 'action')]}),\n",
       " ('Who is the developer of the film The Cruelest Day?',\n",
       "  {'entities': [(11, 20, 'role'), (33, 49, 'movie')]}),\n",
       " ('Who oversaw the making of The Mourning Forest',\n",
       "  {'entities': [(26, 45, 'movie')]}),\n",
       " ('Who was in charge of directing A No-Hit No-Run Summer?',\n",
       "  {'entities': [(31, 53, 'movie'), (21, 27, 'action')]}),\n",
       " ('Who was the film crew member of The Liberator',\n",
       "  {'entities': [(12, 28, 'role'), (32, 45, 'movie')]}),\n",
       " ('Give me the choreographer of Foolish Wives',\n",
       "  {'entities': [(12, 25, 'role'), (29, 42, 'movie')]}),\n",
       " ('Give me the name of the art director of Something New',\n",
       "  {'entities': [(24, 36, 'role'), (40, 53, 'movie'), (28, 34, 'action')]}),\n",
       " (\"I'd like to know the author's name for Down to Earth\",\n",
       "  {'entities': [(21, 27, 'role'), (39, 52, 'movie')]}),\n",
       " (\"I'm curious about the person who wrote The Woman Next Door\",\n",
       "  {'entities': [(39, 58, 'movie'), (33, 38, 'action')]}),\n",
       " ('Identify the narrator of Rachel Getting Married',\n",
       "  {'entities': [(13, 21, 'role'), (25, 47, 'movie')]}),\n",
       " (\"Tell me the animator behind The Emperor's New Clothes\",\n",
       "  {'entities': [(12, 20, 'role'), (28, 53, 'movie')]}),\n",
       " ('Tell me the creator for Dawson Isla 10',\n",
       "  {'entities': [(12, 19, 'role'), (24, 38, 'movie')]}),\n",
       " ('Tell me the participant of The Hireling',\n",
       "  {'entities': [(12, 23, 'role'), (27, 39, 'movie')]}),\n",
       " (\"What is the member of the crew of's name for the movie Ronda nocturna?\",\n",
       "  {'entities': [(12, 33, 'role'), (55, 69, 'movie')]}),\n",
       " ('Who voice actor in The Four-Faced Liar?',\n",
       "  {'entities': [(4, 15, 'role'), (19, 38, 'movie')]}),\n",
       " ('Who directed Garm Wars: The Last Druid?',\n",
       "  {'entities': [(13, 38, 'movie'), (4, 12, 'action'), (4, 10, 'action')]}),\n",
       " ('Who wrote the movie Dead Space: Downfall?',\n",
       "  {'entities': [(20, 40, 'movie'), (4, 9, 'action')]}),\n",
       " ('Who is the operator of The Body?',\n",
       "  {'entities': [(11, 19, 'role'), (23, 31, 'movie')]}),\n",
       " ('Who is the performer of the film Forgotten?',\n",
       "  {'entities': [(11, 20, 'role'), (33, 42, 'movie')]}),\n",
       " ('Who oversaw the making of Saratoga Trunk',\n",
       "  {'entities': [(26, 40, 'movie')]}),\n",
       " ('Who was in charge of directing The War of the Roses?',\n",
       "  {'entities': [(31, 51, 'movie'), (21, 27, 'action')]}),\n",
       " ('Who was the cast member of Nameless Gangster',\n",
       "  {'entities': [(12, 23, 'role'), (27, 44, 'movie')]}),\n",
       " ('Give me the director of Definitely, Maybe',\n",
       "  {'entities': [(12, 20, 'role'), (24, 41, 'movie'), (12, 18, 'action')]}),\n",
       " ('Give me the name of the screenwriter of Soul Men',\n",
       "  {'entities': [(24, 36, 'role'), (40, 48, 'movie')]}),\n",
       " (\"I'd like to know the producer's name for Nidra\",\n",
       "  {'entities': [(21, 29, 'role'), (41, 46, 'movie'), (21, 28, 'action')]}),\n",
       " (\"I'm curious about the person who directed Mogambo\",\n",
       "  {'entities': [(42, 49, 'movie'), (33, 41, 'action'), (33, 39, 'action')]}),\n",
       " ('Identify the film editor of Denis',\n",
       "  {'entities': [(13, 24, 'role'), (28, 33, 'movie'), (18, 22, 'action')]}),\n",
       " ('Tell me the director of photography behind Born Romantic',\n",
       "  {'entities': [(12, 35, 'role'), (43, 56, 'movie'), (12, 18, 'action')]}),\n",
       " ('Tell me the film crew member for Me and the Kid',\n",
       "  {'entities': [(12, 28, 'role'), (33, 47, 'movie')]}),\n",
       " ('Tell me the choreographer of NECK',\n",
       "  {'entities': [(12, 25, 'role'), (29, 33, 'movie')]}),\n",
       " (\"What is the art director's name for the movie The Number 23?\",\n",
       "  {'entities': [(12, 24, 'role'), (46, 59, 'movie'), (16, 22, 'action')]}),\n",
       " ('Who author in Live Free or Die?',\n",
       "  {'entities': [(4, 10, 'role'), (14, 30, 'movie')]}),\n",
       " ('Who wrote Hidden Agenda?',\n",
       "  {'entities': [(10, 23, 'movie'), (4, 9, 'action')]}),\n",
       " ('Who directed the movie Brotherhood of the Wolf?',\n",
       "  {'entities': [(23, 46, 'movie'), (4, 12, 'action'), (4, 10, 'action')]}),\n",
       " ('Who is the animator of Prime?',\n",
       "  {'entities': [(11, 19, 'role'), (23, 28, 'movie')]}),\n",
       " ('Who is the creator of the film Double Zero?',\n",
       "  {'entities': [(11, 18, 'role'), (31, 42, 'movie')]}),\n",
       " ('Who oversaw the making of Hide and Seek',\n",
       "  {'entities': [(26, 39, 'movie')]}),\n",
       " ('Who was in charge of directing Horror Stories?',\n",
       "  {'entities': [(31, 45, 'movie'), (21, 27, 'action')]}),\n",
       " ('Who was the voice actor of Condorman',\n",
       "  {'entities': [(12, 23, 'role'), (27, 36, 'movie')]}),\n",
       " ('Give me the publisher of Frankenhooker',\n",
       "  {'entities': [(12, 21, 'role'), (25, 38, 'movie')]}),\n",
       " ('Give me the name of the musical conductor of Six Days Seven Nights',\n",
       "  {'entities': [(24, 41, 'role'), (45, 66, 'movie')]}),\n",
       " (\"I'd like to know the operator's name for Tightrope\",\n",
       "  {'entities': [(21, 29, 'role'), (41, 50, 'movie')]}),\n",
       " (\"I'm curious about the person who wrote Louise Hires a Contract Killer\",\n",
       "  {'entities': [(39, 69, 'movie'), (33, 38, 'action')]}),\n",
       " ('Identify the actor of The Day of the Dolphin',\n",
       "  {'entities': [(13, 18, 'role'), (22, 44, 'movie')]}),\n",
       " ('Tell me the cast behind Hana-bi',\n",
       "  {'entities': [(12, 16, 'role'), (24, 31, 'movie')]}),\n",
       " ('Tell me the cast member for Kill Theory',\n",
       "  {'entities': [(12, 23, 'role'), (28, 39, 'movie')]}),\n",
       " ('Tell me the director of Le cousin',\n",
       "  {'entities': [(12, 20, 'role'), (24, 33, 'movie'), (12, 18, 'action')]}),\n",
       " (\"What is the screenwriter's name for the movie The Geisha House?\",\n",
       "  {'entities': [(12, 24, 'role'), (46, 62, 'movie')]}),\n",
       " ('Who producer in Replay?',\n",
       "  {'entities': [(4, 12, 'role'), (16, 22, 'movie'), (4, 11, 'action')]}),\n",
       " ('Who directed Wonderland?',\n",
       "  {'entities': [(13, 23, 'movie'), (4, 12, 'action'), (4, 10, 'action')]}),\n",
       " ('Who wrote the movie Connie and Carla?',\n",
       "  {'entities': [(20, 36, 'movie'), (4, 9, 'action')]}),\n",
       " (\"Who is the director of photography of Connors' War?\",\n",
       "  {'entities': [(11, 34, 'role'), (38, 50, 'movie'), (11, 17, 'action')]}),\n",
       " ('Who is the film crew member of the film Conquest?',\n",
       "  {'entities': [(11, 27, 'role'), (40, 48, 'movie')]}),\n",
       " ('Who oversaw the making of Casualties of War',\n",
       "  {'entities': [(26, 43, 'movie')]}),\n",
       " ('Who was in charge of directing Husbands in Goa?',\n",
       "  {'entities': [(31, 46, 'movie'), (21, 27, 'action')]}),\n",
       " ('Who was the author of The Colonel',\n",
       "  {'entities': [(12, 18, 'role'), (22, 33, 'movie')]}),\n",
       " ('Give me the presenter of Crane',\n",
       "  {'entities': [(12, 21, 'role'), (25, 30, 'movie')]}),\n",
       " ('Give me the name of the narrator of Dark City',\n",
       "  {'entities': [(24, 32, 'role'), (36, 45, 'movie')]}),\n",
       " (\"I'd like to know the animator's name for God Is Great and I'm Not\",\n",
       "  {'entities': [(21, 29, 'role'), (41, 65, 'movie')]}),\n",
       " (\"I'm curious about the person who directed Trouble with the Curve\",\n",
       "  {'entities': [(42, 64, 'movie'), (33, 41, 'action'), (33, 39, 'action')]}),\n",
       " ('Identify the participant of My Gal Sal',\n",
       "  {'entities': [(13, 24, 'role'), (28, 38, 'movie')]}),\n",
       " ('Tell me the member of the crew of behind True Romance',\n",
       "  {'entities': [(12, 33, 'role'), (41, 53, 'movie')]}),\n",
       " ('Tell me the voice actor for Queen to Play',\n",
       "  {'entities': [(12, 23, 'role'), (28, 41, 'movie')]}),\n",
       " (\"Tell me the publisher of It's Not Me, I Swear!\",\n",
       "  {'entities': [(12, 21, 'role'), (25, 46, 'movie')]}),\n",
       " (\"What is the musical conductor's name for the movie Colour Me Kubrick?\",\n",
       "  {'entities': [(12, 29, 'role'), (51, 68, 'movie')]}),\n",
       " ('Who operator in Year One?',\n",
       "  {'entities': [(4, 12, 'role'), (16, 24, 'movie')]}),\n",
       " ('Who wrote Daybreakers?',\n",
       "  {'entities': [(10, 21, 'movie'), (4, 9, 'action')]}),\n",
       " ('Who directed the movie The Black Orchid?',\n",
       "  {'entities': [(23, 39, 'movie'), (4, 12, 'action'), (4, 10, 'action')]}),\n",
       " ('Who is the cast of Hall Pass?',\n",
       "  {'entities': [(11, 15, 'role'), (19, 28, 'movie')]}),\n",
       " ('Who is the cast member of the film Crazy Heart?',\n",
       "  {'entities': [(11, 22, 'role'), (35, 46, 'movie')]}),\n",
       " ('Who oversaw the making of The Girl in the Park',\n",
       "  {'entities': [(26, 46, 'movie')]}),\n",
       " ('Who was in charge of directing I Love You Phillip Morris?',\n",
       "  {'entities': [(31, 56, 'movie'), (21, 27, 'action')]}),\n",
       " ('Who was the producer of Contraband',\n",
       "  {'entities': [(12, 20, 'role'), (24, 34, 'movie'), (12, 19, 'action')]}),\n",
       " ('Give me the developer of Control',\n",
       "  {'entities': [(12, 21, 'role'), (25, 32, 'movie')]}),\n",
       " ('Give me the name of the film editor of Control',\n",
       "  {'entities': [(24, 35, 'role'), (39, 46, 'movie'), (29, 33, 'action')]}),\n",
       " (\"I'd like to know the director of photography's name for Make the Yuletide Gay\",\n",
       "  {'entities': [(21, 44, 'role'), (56, 77, 'movie'), (21, 27, 'action')]}),\n",
       " (\"I'm curious about the person who wrote Barnyard\",\n",
       "  {'entities': [(39, 47, 'movie'), (33, 38, 'action')]}),\n",
       " ('Identify the choreographer of Push',\n",
       "  {'entities': [(13, 26, 'role'), (30, 34, 'movie')]}),\n",
       " ('Tell me the art director behind The Convent',\n",
       "  {'entities': [(12, 24, 'role'), (32, 43, 'movie'), (16, 22, 'action')]}),\n",
       " ('Tell me the author for The Milk of Sorrow',\n",
       "  {'entities': [(12, 18, 'role'), (23, 41, 'movie')]}),\n",
       " ('Tell me the presenter of Conversations with Other Women',\n",
       "  {'entities': [(12, 21, 'role'), (25, 55, 'movie')]}),\n",
       " (\"What is the narrator's name for the movie Tangled?\",\n",
       "  {'entities': [(12, 20, 'role'), (42, 49, 'movie')]}),\n",
       " ('Who animator in Norbit?',\n",
       "  {'entities': [(4, 12, 'role'), (16, 22, 'movie')]}),\n",
       " ('Who directed Cookie?',\n",
       "  {'entities': [(13, 19, 'movie'), (4, 12, 'action'), (4, 10, 'action')]}),\n",
       " ('Who wrote the movie Cooking History?',\n",
       "  {'entities': [(20, 35, 'movie'), (4, 9, 'action')]}),\n",
       " (\"Who is the member of the crew of of Goya's Ghosts?\",\n",
       "  {'entities': [(11, 32, 'role'), (36, 49, 'movie')]}),\n",
       " ('Who is the voice actor of the film East of Eden?',\n",
       "  {'entities': [(11, 22, 'role'), (35, 47, 'movie')]}),\n",
       " ('Who oversaw the making of The Double Life of Véronique',\n",
       "  {'entities': [(26, 54, 'movie')]}),\n",
       " ('Who was in charge of directing The Skin I Live In?',\n",
       "  {'entities': [(31, 49, 'movie'), (21, 27, 'action')]}),\n",
       " ('Who was the operator of Of Gods and Men',\n",
       "  {'entities': [(12, 20, 'role'), (24, 39, 'movie')]}),\n",
       " ('Give me the performer of Come and See',\n",
       "  {'entities': [(12, 21, 'role'), (25, 37, 'movie')]}),\n",
       " ('Give me the name of the actor of Saidoweizu',\n",
       "  {'entities': [(24, 29, 'role'), (33, 43, 'movie')]}),\n",
       " (\"I'd like to know the cast's name for The 9th Company\",\n",
       "  {'entities': [(21, 25, 'role'), (37, 52, 'movie')]}),\n",
       " (\"I'm curious about the person who directed Elizabethtown\",\n",
       "  {'entities': [(42, 55, 'movie'), (33, 41, 'action'), (33, 39, 'action')]}),\n",
       " ('Identify the director of The Rite',\n",
       "  {'entities': [(13, 21, 'role'), (25, 33, 'movie'), (13, 19, 'action')]}),\n",
       " ('Tell me the screenwriter behind Far from Heaven',\n",
       "  {'entities': [(12, 24, 'role'), (32, 47, 'movie')]}),\n",
       " ('Tell me the producer for Mammuth',\n",
       "  {'entities': [(12, 20, 'role'), (25, 32, 'movie'), (12, 19, 'action')]}),\n",
       " ('Tell me the developer of The Merry Widow',\n",
       "  {'entities': [(12, 21, 'role'), (25, 40, 'movie')]}),\n",
       " (\"What is the film editor's name for the movie The Slammin' Salmon?\",\n",
       "  {'entities': [(12, 23, 'role'), (45, 64, 'movie'), (17, 21, 'action')]}),\n",
       " ('Who director of photography in Suddenly, Last Summer?',\n",
       "  {'entities': [(4, 27, 'role'), (31, 52, 'movie'), (4, 10, 'action')]}),\n",
       " ('Who wrote P.S. Your Cat Is Dead?',\n",
       "  {'entities': [(10, 31, 'movie'), (4, 9, 'action')]}),\n",
       " ('Who directed the movie The Hot Chick?',\n",
       "  {'entities': [(23, 36, 'movie'), (4, 12, 'action'), (4, 10, 'action')]}),\n",
       " ('Who is the art director of Showdown in Seoul?',\n",
       "  {'entities': [(11, 23, 'role'), (27, 44, 'movie'), (15, 21, 'action')]}),\n",
       " ('Who is the author of the film Cops & Robbersons?',\n",
       "  {'entities': [(11, 17, 'role'), (30, 47, 'movie')]}),\n",
       " ('Who oversaw the making of Rollover', {'entities': [(26, 34, 'movie')]}),\n",
       " ('Who was in charge of directing Capturing Dad?',\n",
       "  {'entities': [(31, 44, 'movie'), (21, 27, 'action')]}),\n",
       " ('Who was the animator of Warlock: The Armageddon',\n",
       "  {'entities': [(12, 20, 'role'), (24, 47, 'movie')]}),\n",
       " ('Give me the creator of Demons of War',\n",
       "  {'entities': [(12, 19, 'role'), (23, 36, 'movie')]}),\n",
       " ('Give me the name of the participant of Green Street',\n",
       "  {'entities': [(24, 35, 'role'), (39, 51, 'movie')]}),\n",
       " (\"I'd like to know the member of the crew of's name for Sri Rama Rajyam\",\n",
       "  {'entities': [(21, 42, 'role'), (54, 69, 'movie')]}),\n",
       " (\"I'm curious about the person who wrote The Wedding Singer\",\n",
       "  {'entities': [(39, 57, 'movie'), (33, 38, 'action')]}),\n",
       " ('Identify the publisher of Red River',\n",
       "  {'entities': [(13, 22, 'role'), (26, 35, 'movie')]}),\n",
       " ('Tell me the musical conductor behind Three Lives and Only One Death',\n",
       "  {'entities': [(12, 29, 'role'), (37, 67, 'movie')]}),\n",
       " ('Tell me the operator for Green Snake',\n",
       "  {'entities': [(12, 20, 'role'), (25, 36, 'movie')]}),\n",
       " ('Tell me the performer of Freaks',\n",
       "  {'entities': [(12, 21, 'role'), (25, 31, 'movie')]}),\n",
       " (\"What is the actor's name for the movie Napoleon Dynamite?\",\n",
       "  {'entities': [(12, 17, 'role'), (39, 56, 'movie')]}),\n",
       " ('Who cast in Under the Hawthorn Tree?',\n",
       "  {'entities': [(4, 8, 'role'), (12, 35, 'movie')]}),\n",
       " ('Who directed Oskar & Josefine?',\n",
       "  {'entities': [(13, 29, 'movie'), (4, 12, 'action'), (4, 10, 'action')]}),\n",
       " ('Who wrote the movie The Whisperers?',\n",
       "  {'entities': [(20, 34, 'movie'), (4, 9, 'action')]}),\n",
       " ('Who is the screenwriter of The Sweetest Thing?',\n",
       "  {'entities': [(11, 23, 'role'), (27, 45, 'movie')]}),\n",
       " ('Who is the producer of the film The Profession of Arms?',\n",
       "  {'entities': [(11, 19, 'role'), (32, 54, 'movie'), (11, 18, 'action')]}),\n",
       " ('Who oversaw the making of Strays', {'entities': [(26, 32, 'movie')]}),\n",
       " ('Who was in charge of directing Ed?',\n",
       "  {'entities': [(31, 33, 'movie'), (21, 27, 'action')]}),\n",
       " ('Who was the director of photography of Magadheera',\n",
       "  {'entities': [(12, 35, 'role'), (39, 49, 'movie'), (12, 18, 'action')]}),\n",
       " ('Give me the film crew member of Vanishing Point',\n",
       "  {'entities': [(12, 28, 'role'), (32, 47, 'movie')]}),\n",
       " ('Give me the name of the choreographer of Little Maestra',\n",
       "  {'entities': [(24, 37, 'role'), (41, 55, 'movie')]}),\n",
       " (\"I'd like to know the art director's name for Invisible Target\",\n",
       "  {'entities': [(21, 33, 'role'), (45, 61, 'movie'), (25, 31, 'action')]}),\n",
       " (\"I'm curious about the person who directed Corrina, Corrina\",\n",
       "  {'entities': [(42, 58, 'movie'), (33, 41, 'action'), (33, 39, 'action')]}),\n",
       " ('Identify the presenter of The Corruptor',\n",
       "  {'entities': [(13, 22, 'role'), (26, 39, 'movie')]}),\n",
       " ('Tell me the narrator behind A Chinese Ghost Story',\n",
       "  {'entities': [(12, 20, 'role'), (28, 49, 'movie')]}),\n",
       " ('Tell me the animator for For Keeps',\n",
       "  {'entities': [(12, 20, 'role'), (25, 34, 'movie')]}),\n",
       " ('Tell me the creator of Ladyhawke',\n",
       "  {'entities': [(12, 19, 'role'), (23, 32, 'movie')]}),\n",
       " (\"What is the participant's name for the movie Contre-enquête?\",\n",
       "  {'entities': [(12, 23, 'role'), (45, 59, 'movie')]}),\n",
       " ('Who member of the crew of in Runaway Train?',\n",
       "  {'entities': [(4, 25, 'role'), (29, 42, 'movie')]}),\n",
       " ('Who wrote J. Edgar?', {'entities': [(10, 18, 'movie'), (4, 9, 'action')]}),\n",
       " ('Who directed the movie Country Strong?',\n",
       "  {'entities': [(23, 37, 'movie'), (4, 12, 'action'), (4, 10, 'action')]}),\n",
       " ('Who is the musical conductor of Jack Brooks: Monster Slayer?',\n",
       "  {'entities': [(11, 28, 'role'), (32, 59, 'movie')]}),\n",
       " ('Who is the operator of the film My Bloody Valentine 3D?',\n",
       "  {'entities': [(11, 19, 'role'), (32, 54, 'movie')]}),\n",
       " ('Who oversaw the making of Dirty', {'entities': [(26, 31, 'movie')]}),\n",
       " ('Who was in charge of directing Spice World?',\n",
       "  {'entities': [(31, 42, 'movie'), (21, 27, 'action')]}),\n",
       " ('Who was the cast of Sydney White',\n",
       "  {'entities': [(12, 16, 'role'), (20, 32, 'movie')]}),\n",
       " ('Give me the cast member of Hollywoodland',\n",
       "  {'entities': [(12, 23, 'role'), (27, 40, 'movie')]}),\n",
       " ('Give me the name of the director of Adrift in Tokyo',\n",
       "  {'entities': [(24, 32, 'role'), (36, 51, 'movie'), (24, 30, 'action')]}),\n",
       " (\"I'd like to know the screenwriter's name for Dance of the Dead\",\n",
       "  {'entities': [(21, 33, 'role'), (45, 62, 'movie')]}),\n",
       " (\"I'm curious about the person who wrote Cyborg She\",\n",
       "  {'entities': [(39, 49, 'movie'), (33, 38, 'action')]}),\n",
       " ('Identify the developer of Jackass Number Two',\n",
       "  {'entities': [(13, 22, 'role'), (26, 44, 'movie')]}),\n",
       " ('Tell me the film editor behind Poppoya',\n",
       "  {'entities': [(12, 23, 'role'), (31, 38, 'movie'), (17, 21, 'action')]}),\n",
       " ('Tell me the director of photography for That Obscure Object of Desire',\n",
       "  {'entities': [(12, 35, 'role'), (40, 69, 'movie'), (12, 18, 'action')]}),\n",
       " ('Tell me the film crew member of In Good Company',\n",
       "  {'entities': [(12, 28, 'role'), (32, 47, 'movie')]}),\n",
       " (\"What is the choreographer's name for the movie The Monitor?\",\n",
       "  {'entities': [(12, 25, 'role'), (47, 58, 'movie')]}),\n",
       " ('Who art director in The Goddess of 1967?',\n",
       "  {'entities': [(4, 16, 'role'), (20, 39, 'movie'), (8, 14, 'action')]}),\n",
       " ('Who directed Soldier?',\n",
       "  {'entities': [(13, 20, 'movie'), (4, 12, 'action'), (4, 10, 'action')]}),\n",
       " ('Who wrote the movie When in Rome?',\n",
       "  {'entities': [(20, 32, 'movie'), (4, 9, 'action')]}),\n",
       " ('Who is the narrator of The Robe?',\n",
       "  {'entities': [(11, 19, 'role'), (23, 31, 'movie')]}),\n",
       " ('Who is the animator of the film Top Hat?',\n",
       "  {'entities': [(11, 19, 'role'), (32, 39, 'movie')]}),\n",
       " ('Who oversaw the making of Venus in Fur', {'entities': [(26, 38, 'movie')]}),\n",
       " ('Who was in charge of directing Turistas?',\n",
       "  {'entities': [(31, 39, 'movie'), (21, 27, 'action')]}),\n",
       " ('Who was the member of the crew of of Crazy',\n",
       "  {'entities': [(12, 33, 'role'), (37, 42, 'movie')]}),\n",
       " ('Give me the voice actor of The Eye',\n",
       "  {'entities': [(12, 23, 'role'), (27, 34, 'movie')]}),\n",
       " ('Give me the name of the publisher of Fatal Instinct',\n",
       "  {'entities': [(24, 33, 'role'), (37, 51, 'movie')]}),\n",
       " (\"I'd like to know the musical conductor's name for Chasing Destiny\",\n",
       "  {'entities': [(21, 38, 'role'), (50, 65, 'movie')]}),\n",
       " (\"I'm curious about the person who directed StreetDance 2\",\n",
       "  {'entities': [(42, 55, 'movie'), (33, 41, 'action'), (33, 39, 'action')]}),\n",
       " ('Identify the performer of Battle of Los Angeles',\n",
       "  {'entities': [(13, 22, 'role'), (26, 47, 'movie')]}),\n",
       " ('Tell me the actor behind Vision Quest',\n",
       "  {'entities': [(12, 17, 'role'), (25, 37, 'movie')]}),\n",
       " ('Tell me the cast for Paranoid Park',\n",
       "  {'entities': [(12, 16, 'role'), (21, 34, 'movie')]}),\n",
       " ('Tell me the cast member of George Harrison: Living in the Material World',\n",
       "  {'entities': [(12, 23, 'role'), (27, 72, 'movie')]}),\n",
       " (\"What is the director's name for the movie Creator?\",\n",
       "  {'entities': [(12, 20, 'role'), (42, 49, 'movie'), (12, 18, 'action')]}),\n",
       " ('Who screenwriter in After Life?',\n",
       "  {'entities': [(4, 16, 'role'), (20, 30, 'movie')]}),\n",
       " ('Who wrote Borgman?', {'entities': [(10, 17, 'movie'), (4, 9, 'action')]}),\n",
       " ('Who directed the movie 12 and Holding?',\n",
       "  {'entities': [(23, 37, 'movie'), (4, 12, 'action'), (4, 10, 'action')]}),\n",
       " ('Who is the film editor of Face?',\n",
       "  {'entities': [(11, 22, 'role'), (26, 30, 'movie'), (16, 20, 'action')]}),\n",
       " (\"Who is the director of photography of the film The Devil's Path?\",\n",
       "  {'entities': [(11, 34, 'role'), (47, 63, 'movie'), (11, 17, 'action')]}),\n",
       " ('Who oversaw the making of Gracie', {'entities': [(26, 32, 'movie')]}),\n",
       " ('Who was in charge of directing Mademoiselle Chambon?',\n",
       "  {'entities': [(31, 51, 'movie'), (21, 27, 'action')]}),\n",
       " ('Who was the art director of Crimson Tide',\n",
       "  {'entities': [(12, 24, 'role'), (28, 40, 'movie'), (16, 22, 'action')]}),\n",
       " (\"Give me the author of They Shoot Horses, Don't They?\",\n",
       "  {'entities': [(12, 18, 'role'), (22, 52, 'movie')]}),\n",
       " ('Give me the name of the presenter of The Messenger: The Story of Joan of Arc',\n",
       "  {'entities': [(24, 33, 'role'), (37, 76, 'movie')]}),\n",
       " (\"I'd like to know the narrator's name for Soul Food\",\n",
       "  {'entities': [(21, 29, 'role'), (41, 50, 'movie')]}),\n",
       " (\"I'm curious about the person who wrote The Path to 9/11\",\n",
       "  {'entities': [(39, 55, 'movie'), (33, 38, 'action')]}),\n",
       " ('Identify the creator of Finding Forrester',\n",
       "  {'entities': [(13, 20, 'role'), (24, 41, 'movie')]}),\n",
       " ('Tell me the participant behind Mutants',\n",
       "  {'entities': [(12, 23, 'role'), (31, 38, 'movie')]}),\n",
       " ('Tell me the member of the crew of for Rat Race',\n",
       "  {'entities': [(12, 33, 'role'), (38, 46, 'movie')]}),\n",
       " ('Tell me the voice actor of The Crocodile Hunter: Collision Course',\n",
       "  {'entities': [(12, 23, 'role'), (27, 65, 'movie')]}),\n",
       " (\"What is the publisher's name for the movie A Knight's Tale?\",\n",
       "  {'entities': [(12, 21, 'role'), (43, 58, 'movie')]}),\n",
       " ('Who musical conductor in Cromwell?',\n",
       "  {'entities': [(4, 21, 'role'), (25, 33, 'movie')]}),\n",
       " ('Who directed To the Wonder?',\n",
       "  {'entities': [(13, 26, 'movie'), (4, 12, 'action'), (4, 10, 'action')]}),\n",
       " ('Who wrote the movie Shallow Hal?',\n",
       "  {'entities': [(20, 31, 'movie'), (4, 9, 'action')]}),\n",
       " ('Who is the actor of Cronos?',\n",
       "  {'entities': [(11, 16, 'role'), (20, 26, 'movie')]}),\n",
       " ('Who is the cast of the film The Recruit?',\n",
       "  {'entities': [(11, 15, 'role'), (28, 39, 'movie')]}),\n",
       " ('Who oversaw the making of Cross Creek', {'entities': [(26, 37, 'movie')]}),\n",
       " ('Who was in charge of directing Public Access?',\n",
       "  {'entities': [(31, 44, 'movie'), (21, 27, 'action')]}),\n",
       " ('Who was the screenwriter of The Crossing Guard',\n",
       "  {'entities': [(12, 24, 'role'), (28, 46, 'movie')]}),\n",
       " ('Give me the producer of John Q',\n",
       "  {'entities': [(12, 20, 'role'), (24, 30, 'movie'), (12, 19, 'action')]}),\n",
       " ('Give me the name of the developer of Striptease',\n",
       "  {'entities': [(24, 33, 'role'), (37, 47, 'movie')]}),\n",
       " (\"I'd like to know the film editor's name for Faithless\",\n",
       "  {'entities': [(21, 32, 'role'), (44, 53, 'movie'), (26, 30, 'action')]}),\n",
       " (\"I'm curious about the person who directed The Heiress\",\n",
       "  {'entities': [(42, 53, 'movie'), (33, 41, 'action'), (33, 39, 'action')]}),\n",
       " ('Identify the film crew member of Vexille',\n",
       "  {'entities': [(13, 29, 'role'), (33, 40, 'movie')]}),\n",
       " ('Tell me the choreographer behind Croupier',\n",
       "  {'entities': [(12, 25, 'role'), (33, 41, 'movie')]}),\n",
       " ('Tell me the art director for The Peacemaker',\n",
       "  {'entities': [(12, 24, 'role'), (29, 43, 'movie'), (16, 22, 'action')]}),\n",
       " ('Tell me the author of Little Buddha',\n",
       "  {'entities': [(12, 18, 'role'), (22, 35, 'movie')]}),\n",
       " (\"What is the presenter's name for the movie The Legend of Bagger Vance?\",\n",
       "  {'entities': [(12, 21, 'role'), (43, 69, 'movie')]}),\n",
       " ('Who narrator in Thirteen?',\n",
       "  {'entities': [(4, 12, 'role'), (16, 24, 'movie')]}),\n",
       " ('Who wrote Executive Decision?',\n",
       "  {'entities': [(10, 28, 'movie'), (4, 9, 'action')]}),\n",
       " ('Who directed the movie Cry Wolf?',\n",
       "  {'entities': [(23, 31, 'movie'), (4, 12, 'action'), (4, 10, 'action')]}),\n",
       " ('Who is the participant of Lebanon?',\n",
       "  {'entities': [(11, 22, 'role'), (26, 33, 'movie')]}),\n",
       " ('Who is the member of the crew of of the film The Buried Forest?',\n",
       "  {'entities': [(11, 32, 'role'), (45, 62, 'movie')]}),\n",
       " ('Who oversaw the making of Just the Wind',\n",
       "  {'entities': [(26, 39, 'movie')]}),\n",
       " ('Who was in charge of directing Rabbit-Proof Fence?',\n",
       "  {'entities': [(31, 49, 'movie'), (21, 27, 'action')]}),\n",
       " ('Who was the musical conductor of Pane, amore e...',\n",
       "  {'entities': [(12, 29, 'role'), (33, 49, 'movie')]}),\n",
       " ('Give me the operator of Thirteen Conversations About One Thing',\n",
       "  {'entities': [(12, 20, 'role'), (24, 62, 'movie')]}),\n",
       " ('Give me the name of the performer of Uptown Girls',\n",
       "  {'entities': [(24, 33, 'role'), (37, 49, 'movie')]}),\n",
       " (\"I'd like to know the actor's name for Sands of Iwo Jima\",\n",
       "  {'entities': [(21, 26, 'role'), (38, 55, 'movie')]}),\n",
       " (\"I'm curious about the person who wrote Hitman Hart: Wrestling with Shadows\",\n",
       "  {'entities': [(39, 74, 'movie'), (33, 38, 'action')]}),\n",
       " ('Identify the cast member of The House on Telegraph Hill',\n",
       "  {'entities': [(13, 24, 'role'), (28, 55, 'movie')]}),\n",
       " ('Tell me the director behind The Dove',\n",
       "  {'entities': [(12, 20, 'role'), (28, 36, 'movie'), (12, 18, 'action')]}),\n",
       " ('Tell me the screenwriter for Tell-Tale',\n",
       "  {'entities': [(12, 24, 'role'), (29, 38, 'movie')]}),\n",
       " ('Tell me the producer of Keeping Up with the Steins',\n",
       "  {'entities': [(12, 20, 'role'), (24, 50, 'movie'), (12, 19, 'action')]}),\n",
       " (\"What is the developer's name for the movie A Night in the Life of Jimmy Reardon?\",\n",
       "  {'entities': [(12, 21, 'role'), (43, 79, 'movie')]}),\n",
       " ('Who film editor in Cure?',\n",
       "  {'entities': [(4, 15, 'role'), (19, 23, 'movie'), (9, 13, 'action')]}),\n",
       " ('Who directed Youth in Revolt?',\n",
       "  {'entities': [(13, 28, 'movie'), (4, 12, 'action'), (4, 10, 'action')]}),\n",
       " ('Who wrote the movie Father of the Bride?',\n",
       "  {'entities': [(20, 39, 'movie'), (4, 9, 'action')]}),\n",
       " ('Who is the choreographer of Saint Clara?',\n",
       "  {'entities': [(11, 24, 'role'), (28, 39, 'movie')]}),\n",
       " ('Who is the art director of the film The Firm?',\n",
       "  {'entities': [(11, 23, 'role'), (36, 44, 'movie'), (15, 21, 'action')]}),\n",
       " ('Who oversaw the making of Sleepers', {'entities': [(26, 34, 'movie')]}),\n",
       " ('Who was in charge of directing The Abominable Dr. Phibes?',\n",
       "  {'entities': [(31, 56, 'movie'), (21, 27, 'action')]}),\n",
       " (\"Who was the narrator of A Nightmare on Elm Street 2: Freddy's Revenge\",\n",
       "  {'entities': [(12, 20, 'role'), (24, 69, 'movie')]}),\n",
       " ('Give me the animator of Not Another Teen Movie',\n",
       "  {'entities': [(12, 20, 'role'), (24, 46, 'movie')]}),\n",
       " ('Give me the name of the creator of Code of Silence',\n",
       "  {'entities': [(24, 31, 'role'), (35, 50, 'movie')]}),\n",
       " (\"I'd like to know the participant's name for Veronica Guerin\",\n",
       "  {'entities': [(21, 32, 'role'), (44, 59, 'movie')]}),\n",
       " (\"I'm curious about the person who directed The Replacements\",\n",
       "  {'entities': [(42, 58, 'movie'), (33, 41, 'action'), (33, 39, 'action')]}),\n",
       " ('Identify the voice actor of Helen Keller in Her Story',\n",
       "  {'entities': [(13, 24, 'role'), (28, 53, 'movie')]}),\n",
       " ('Tell me the publisher behind The Slurb',\n",
       "  {'entities': [(12, 21, 'role'), (29, 38, 'movie')]}),\n",
       " (\"Tell me the musical conductor for Cutter's Way\",\n",
       "  {'entities': [(12, 29, 'role'), (34, 46, 'movie')]}),\n",
       " ('Tell me the operator of A Somewhat Gentle Man',\n",
       "  {'entities': [(12, 20, 'role'), (24, 45, 'movie')]}),\n",
       " (\"What is the performer's name for the movie The Legend of 1900?\",\n",
       "  {'entities': [(12, 21, 'role'), (43, 61, 'movie')]}),\n",
       " ('Who actor in Deep Rising?',\n",
       "  {'entities': [(4, 9, 'role'), (13, 24, 'movie')]}),\n",
       " ('Who wrote Cyborg 2?', {'entities': [(10, 18, 'movie'), (4, 9, 'action')]}),\n",
       " ('Who directed the movie Pacific Heights?',\n",
       "  {'entities': [(23, 38, 'movie'), (4, 12, 'action'), (4, 10, 'action')]}),\n",
       " ('Who is the director of Jack the Bear?',\n",
       "  {'entities': [(11, 19, 'role'), (23, 36, 'movie'), (11, 17, 'action')]}),\n",
       " ('Who is the screenwriter of the film Cypher?',\n",
       "  {'entities': [(11, 23, 'role'), (36, 42, 'movie')]}),\n",
       " ('Who oversaw the making of Cypher', {'entities': [(26, 32, 'movie')]}),\n",
       " ('Who was in charge of directing 4 Little Girls?',\n",
       "  {'entities': [(31, 45, 'movie'), (21, 27, 'action')]}),\n",
       " ('Who was the film editor of My Life to Live',\n",
       "  {'entities': [(12, 23, 'role'), (27, 42, 'movie'), (17, 21, 'action')]}),\n",
       " ('Give me the director of photography of Stealth',\n",
       "  {'entities': [(12, 35, 'role'), (39, 46, 'movie'), (12, 18, 'action')]}),\n",
       " ('Give me the name of the film crew member of The Naked Brothers Band: The Movie',\n",
       "  {'entities': [(24, 40, 'role'), (44, 78, 'movie')]}),\n",
       " (\"I'd like to know the choreographer's name for Tortilla Soup\",\n",
       "  {'entities': [(21, 34, 'role'), (46, 59, 'movie')]}),\n",
       " (\"I'm curious about the person who wrote The Widow of Saint-Pierre\",\n",
       "  {'entities': [(39, 64, 'movie'), (33, 38, 'action')]}),\n",
       " ('Identify the author of Puerta de Hierro, el exilio de Perón',\n",
       "  {'entities': [(13, 19, 'role'), (23, 59, 'movie')]}),\n",
       " ('Tell me the presenter behind Dolls',\n",
       "  {'entities': [(12, 21, 'role'), (29, 34, 'movie')]}),\n",
       " ('Tell me the narrator for The Westerner',\n",
       "  {'entities': [(12, 20, 'role'), (25, 38, 'movie')]}),\n",
       " ('Tell me the animator of Come and Get It',\n",
       "  {'entities': [(12, 20, 'role'), (24, 39, 'movie')]}),\n",
       " (\"What is the creator's name for the movie Summer of Sam?\",\n",
       "  {'entities': [(12, 19, 'role'), (41, 54, 'movie')]}),\n",
       " ('Who participant in Gunde Jaari Gallanthayyinde?',\n",
       "  {'entities': [(4, 15, 'role'), (19, 46, 'movie')]}),\n",
       " ('Who directed Red Scorpion?',\n",
       "  {'entities': [(13, 25, 'movie'), (4, 12, 'action'), (4, 10, 'action')]}),\n",
       " ('Who wrote the movie Death Watch?',\n",
       "  {'entities': [(20, 31, 'movie'), (4, 9, 'action')]}),\n",
       " ('Who is the publisher of Tokyo Family?',\n",
       "  {'entities': [(11, 20, 'role'), (24, 36, 'movie')]}),\n",
       " ('Who is the musical conductor of the film Shinjuku Incident?',\n",
       "  {'entities': [(11, 28, 'role'), (41, 58, 'movie')]}),\n",
       " ('Who oversaw the making of Detroit Metal City',\n",
       "  {'entities': [(26, 44, 'movie')]}),\n",
       " ('Who was in charge of directing Voyage to the Beginning of the World?',\n",
       "  {'entities': [(31, 67, 'movie'), (21, 27, 'action')]}),\n",
       " ('Who was the actor of The Package',\n",
       "  {'entities': [(12, 17, 'role'), (21, 32, 'movie')]}),\n",
       " ('Give me the cast of Sukiyaki Western Django',\n",
       "  {'entities': [(12, 16, 'role'), (20, 43, 'movie')]}),\n",
       " ('Give me the name of the cast member of The Terminators',\n",
       "  {'entities': [(24, 35, 'role'), (39, 54, 'movie')]}),\n",
       " (\"I'd like to know the director's name for I Come with the Rain\",\n",
       "  {'entities': [(21, 29, 'role'), (41, 61, 'movie'), (21, 27, 'action')]}),\n",
       " (\"I'm curious about the person who directed Stuck\",\n",
       "  {'entities': [(42, 47, 'movie'), (33, 41, 'action'), (33, 39, 'action')]}),\n",
       " ('Identify the producer of Ichi',\n",
       "  {'entities': [(13, 21, 'role'), (25, 29, 'movie'), (13, 20, 'action')]}),\n",
       " ('Tell me the developer behind Il Divo',\n",
       "  {'entities': [(12, 21, 'role'), (29, 36, 'movie')]}),\n",
       " ('Tell me the film editor for Dying Breed',\n",
       "  {'entities': [(12, 23, 'role'), (28, 39, 'movie'), (17, 21, 'action')]}),\n",
       " ('Tell me the director of photography of 4:44 Last Day on Earth',\n",
       "  {'entities': [(12, 35, 'role'), (39, 61, 'movie'), (12, 18, 'action')]}),\n",
       " (\"What is the film crew member's name for the movie Comedy of Innocence?\",\n",
       "  {'entities': [(12, 28, 'role'), (50, 69, 'movie')]}),\n",
       " ('Who choreographer in La Promesse?',\n",
       "  {'entities': [(4, 17, 'role'), (21, 32, 'movie')]}),\n",
       " ('Who wrote Fifty Pills?',\n",
       "  {'entities': [(10, 21, 'movie'), (4, 9, 'action')]}),\n",
       " ('Who directed the movie Murder in the First?',\n",
       "  {'entities': [(23, 42, 'movie'), (4, 12, 'action'), (4, 10, 'action')]}),\n",
       " ('Who is the presenter of Shuttle?',\n",
       "  {'entities': [(11, 20, 'role'), (24, 31, 'movie')]}),\n",
       " (\"Who is the narrator of the film World's Greatest Dad?\",\n",
       "  {'entities': [(11, 19, 'role'), (32, 52, 'movie')]}),\n",
       " ('Who oversaw the making of Half Nelson', {'entities': [(26, 37, 'movie')]}),\n",
       " ('Who was in charge of directing Soul Surfer?',\n",
       "  {'entities': [(31, 42, 'movie'), (21, 27, 'action')]}),\n",
       " ('Who was the participant of The Kiyosu Conference',\n",
       "  {'entities': [(12, 23, 'role'), (27, 48, 'movie')]}),\n",
       " ('Give me the member of the crew of of Welcome to the Rileys',\n",
       "  {'entities': [(12, 33, 'role'), (37, 58, 'movie')]}),\n",
       " ('Give me the name of the voice actor of The Ringer',\n",
       "  {'entities': [(24, 35, 'role'), (39, 49, 'movie')]}),\n",
       " (\"I'd like to know the publisher's name for The Eel\",\n",
       "  {'entities': [(21, 30, 'role'), (42, 49, 'movie')]}),\n",
       " (\"I'm curious about the person who wrote Dad\",\n",
       "  {'entities': [(39, 42, 'movie'), (33, 38, 'action')]}),\n",
       " ('Identify the operator of Daddy and Them',\n",
       "  {'entities': [(13, 21, 'role'), (25, 39, 'movie')]}),\n",
       " (\"Tell me the performer behind Daddy's Little Girls\",\n",
       "  {'entities': [(12, 21, 'role'), (29, 49, 'movie')]}),\n",
       " ('Tell me the actor for A Scene at the Sea',\n",
       "  {'entities': [(12, 17, 'role'), (22, 40, 'movie')]}),\n",
       " (\"Tell me the cast of Daft Punk's Electroma\",\n",
       "  {'entities': [(12, 16, 'role'), (20, 41, 'movie')]}),\n",
       " (\"What is the cast member's name for the movie Evil Aliens?\",\n",
       "  {'entities': [(12, 23, 'role'), (45, 56, 'movie')]}),\n",
       " ('Who director in Hello Stranger?',\n",
       "  {'entities': [(4, 12, 'role'), (16, 30, 'movie'), (4, 10, 'action')]}),\n",
       " ('Who directed Dahmer?',\n",
       "  {'entities': [(13, 19, 'movie'), (4, 12, 'action'), (4, 10, 'action')]}),\n",
       " ('Who wrote the movie One Million Yen Girl?',\n",
       "  {'entities': [(20, 40, 'movie'), (4, 9, 'action')]}),\n",
       " ('Who is the developer of The Last Time I Saw Paris?',\n",
       "  {'entities': [(11, 20, 'role'), (24, 49, 'movie')]}),\n",
       " ('Who is the film editor of the film A Werewolf Boy?',\n",
       "  {'entities': [(11, 22, 'role'), (35, 49, 'movie'), (16, 20, 'action')]}),\n",
       " ('Who oversaw the making of Noises Off', {'entities': [(26, 36, 'movie')]}),\n",
       " ('Who was in charge of directing Dan in Real Life?',\n",
       "  {'entities': [(31, 47, 'movie'), (21, 27, 'action')]}),\n",
       " ('Who was the choreographer of Diary of a Country Priest',\n",
       "  {'entities': [(12, 25, 'role'), (29, 54, 'movie')]}),\n",
       " ('Give me the art director of Dance with a Stranger',\n",
       "  {'entities': [(12, 24, 'role'), (28, 49, 'movie'), (16, 22, 'action')]}),\n",
       " ('Give me the name of the author of The Year of the Wolf',\n",
       "  {'entities': [(24, 30, 'role'), (34, 54, 'movie')]}),\n",
       " (\"I'd like to know the presenter's name for Daniel – Der Zauberer\",\n",
       "  {'entities': [(21, 30, 'role'), (42, 63, 'movie')]}),\n",
       " (\"I'm curious about the person who directed The Prince and the Showgirl\",\n",
       "  {'entities': [(42, 69, 'movie'), (33, 41, 'action'), (33, 39, 'action')]}),\n",
       " ('Identify the animator of A Castle in Italy',\n",
       "  {'entities': [(13, 21, 'role'), (25, 42, 'movie')]}),\n",
       " ('Tell me the creator behind Eraserhead',\n",
       "  {'entities': [(12, 19, 'role'), (27, 37, 'movie')]}),\n",
       " ('Tell me the participant for A New Kind of Love',\n",
       "  {'entities': [(12, 23, 'role'), (28, 46, 'movie')]}),\n",
       " ('Tell me the member of the crew of of Breath',\n",
       "  {'entities': [(12, 33, 'role'), (37, 43, 'movie')]}),\n",
       " (\"What is the voice actor's name for the movie The Young in Heart?\",\n",
       "  {'entities': [(12, 23, 'role'), (45, 63, 'movie')]}),\n",
       " ('Who publisher in Sweethearts?',\n",
       "  {'entities': [(4, 13, 'role'), (17, 28, 'movie')]}),\n",
       " ('Who wrote Lajja?', {'entities': [(10, 15, 'movie'), (4, 9, 'action')]}),\n",
       " ('Who directed the movie The Best Man?',\n",
       "  {'entities': [(23, 35, 'movie'), (4, 12, 'action'), (4, 10, 'action')]}),\n",
       " ('Who is the performer of Money Train?',\n",
       "  {'entities': [(11, 20, 'role'), (24, 35, 'movie')]}),\n",
       " ('Who is the actor of the film Trauma?',\n",
       "  {'entities': [(11, 16, 'role'), (29, 35, 'movie')]}),\n",
       " ('Who oversaw the making of Search and Destroy',\n",
       "  {'entities': [(26, 44, 'movie')]}),\n",
       " ('Who was in charge of directing Elephant?',\n",
       "  {'entities': [(31, 39, 'movie'), (21, 27, 'action')]}),\n",
       " ('Who was the director of World Without End',\n",
       "  {'entities': [(12, 20, 'role'), (24, 41, 'movie'), (12, 18, 'action')]}),\n",
       " ('Give me the screenwriter of De Lift',\n",
       "  {'entities': [(12, 24, 'role'), (28, 35, 'movie')]}),\n",
       " ('Give me the name of the producer of Storm',\n",
       "  {'entities': [(24, 32, 'role'), (36, 41, 'movie'), (24, 31, 'action')]}),\n",
       " (\"I'd like to know the developer's name for Runaway\",\n",
       "  {'entities': [(21, 30, 'role'), (42, 49, 'movie')]}),\n",
       " (\"I'm curious about the person who wrote Paul\",\n",
       "  {'entities': [(39, 43, 'movie'), (33, 38, 'action')]}),\n",
       " ('Identify the director of photography of Of Human Bondage',\n",
       "  {'entities': [(13, 36, 'role'), (40, 56, 'movie'), (13, 19, 'action')]}),\n",
       " ('Tell me the film crew member behind Dare',\n",
       "  {'entities': [(12, 28, 'role'), (36, 40, 'movie')]}),\n",
       " ('Tell me the choreographer for Case 39',\n",
       "  {'entities': [(12, 25, 'role'), (30, 37, 'movie')]}),\n",
       " ('Tell me the art director of Rabbit Hole',\n",
       "  {'entities': [(12, 24, 'role'), (28, 39, 'movie'), (16, 22, 'action')]}),\n",
       " (\"What is the author's name for the movie Danton?\",\n",
       "  {'entities': [(12, 18, 'role'), (40, 46, 'movie')]}),\n",
       " ('Who presenter in Killers?',\n",
       "  {'entities': [(4, 13, 'role'), (17, 24, 'movie')]}),\n",
       " ('Who directed 16 Years of Alcohol?',\n",
       "  {'entities': [(13, 32, 'movie'), (4, 12, 'action'), (4, 10, 'action')]}),\n",
       " ('Who wrote the movie Duplicity?',\n",
       "  {'entities': [(20, 29, 'movie'), (4, 9, 'action')]}),\n",
       " ('Who is the creator of Racing Stripes?',\n",
       "  {'entities': [(11, 18, 'role'), (22, 36, 'movie')]}),\n",
       " ('Who is the participant of the film Darfur?',\n",
       "  {'entities': [(11, 22, 'role'), (35, 41, 'movie')]}),\n",
       " ('Who oversaw the making of Shamo', {'entities': [(26, 31, 'movie')]}),\n",
       " ('Who was in charge of directing The Wizard of Gore?',\n",
       "  {'entities': [(31, 49, 'movie'), (21, 27, 'action')]}),\n",
       " ('Who was the publisher of Dark Wolf',\n",
       "  {'entities': [(12, 21, 'role'), (25, 34, 'movie')]}),\n",
       " ('Give me the musical conductor of I Come in Peace',\n",
       "  {'entities': [(12, 29, 'role'), (33, 48, 'movie')]}),\n",
       " ('Give me the name of the operator of Dark Water',\n",
       "  {'entities': [(24, 32, 'role'), (36, 46, 'movie')]}),\n",
       " (\"I'd like to know the performer's name for Darkness\",\n",
       "  {'entities': [(21, 30, 'role'), (42, 50, 'movie')]}),\n",
       " (\"I'm curious about the person who directed Darling\",\n",
       "  {'entities': [(42, 49, 'movie'), (33, 41, 'action'), (33, 39, 'action')]}),\n",
       " ('Identify the cast of The Ten',\n",
       "  {'entities': [(13, 17, 'role'), (21, 28, 'movie')]}),\n",
       " ('Tell me the cast member behind Eye of the Beholder',\n",
       "  {'entities': [(12, 23, 'role'), (31, 50, 'movie')]}),\n",
       " ('Tell me the director for The Crush',\n",
       "  {'entities': [(12, 20, 'role'), (25, 34, 'movie'), (12, 18, 'action')]}),\n",
       " ('Tell me the screenwriter of After Death',\n",
       "  {'entities': [(12, 24, 'role'), (28, 39, 'movie')]}),\n",
       " (\"What is the producer's name for the movie Jungle Book?\",\n",
       "  {'entities': [(12, 20, 'role'), (42, 53, 'movie'), (12, 19, 'action')]}),\n",
       " (\"Who developer in Margaret's Museum?\",\n",
       "  {'entities': [(4, 13, 'role'), (17, 34, 'movie')]}),\n",
       " ('Who wrote The Inquiry?',\n",
       "  {'entities': [(10, 21, 'movie'), (4, 9, 'action')]}),\n",
       " ('Who directed the movie Home from the Hill?',\n",
       "  {'entities': [(23, 41, 'movie'), (4, 12, 'action'), (4, 10, 'action')]}),\n",
       " (\"Who is the film crew member of Frenchman's Creek?\",\n",
       "  {'entities': [(11, 27, 'role'), (31, 48, 'movie')]}),\n",
       " ('Who is the choreographer of the film Le Radeau de la Méduse?',\n",
       "  {'entities': [(11, 24, 'role'), (37, 59, 'movie')]}),\n",
       " ('Who oversaw the making of Scorpion in Love',\n",
       "  {'entities': [(26, 42, 'movie')]}),\n",
       " ('Who was in charge of directing Mississippi Mermaid?',\n",
       "  {'entities': [(31, 50, 'movie'), (21, 27, 'action')]}),\n",
       " ('Who was the presenter of Treasure of the Four Crowns',\n",
       "  {'entities': [(12, 21, 'role'), (25, 52, 'movie')]}),\n",
       " ('Give me the narrator of The Blue Butterfly',\n",
       "  {'entities': [(12, 20, 'role'), (24, 42, 'movie')]}),\n",
       " ('Give me the name of the animator of The Secret of Santa Vittoria',\n",
       "  {'entities': [(24, 32, 'role'), (36, 64, 'movie')]}),\n",
       " (\"I'd like to know the creator's name for The Letter\",\n",
       "  {'entities': [(21, 28, 'role'), (40, 50, 'movie')]}),\n",
       " (\"I'm curious about the person who wrote La jaula de oro\",\n",
       "  {'entities': [(39, 54, 'movie'), (33, 38, 'action')]}),\n",
       " ('Identify the member of the crew of of The Gilded Cage',\n",
       "  {'entities': [(13, 34, 'role'), (38, 53, 'movie')]}),\n",
       " ('Tell me the voice actor behind Miele',\n",
       "  {'entities': [(12, 23, 'role'), (31, 36, 'movie')]}),\n",
       " (\"Tell me the publisher for L'argent des autres\",\n",
       "  {'entities': [(12, 21, 'role'), (26, 45, 'movie')]}),\n",
       " (\"Tell me the musical conductor of Other People's Money\",\n",
       "  {'entities': [(12, 29, 'role'), (33, 53, 'movie')]}),\n",
       " (\"What is the operator's name for the movie The Weight of Chains?\",\n",
       "  {'entities': [(12, 20, 'role'), (42, 62, 'movie')]}),\n",
       " ('Who performer in The Weight of Water?',\n",
       "  {'entities': [(4, 13, 'role'), (17, 36, 'movie')]}),\n",
       " ('Who directed Happiness?',\n",
       "  {'entities': [(13, 22, 'movie'), (4, 12, 'action'), (4, 10, 'action')]}),\n",
       " ('Who wrote the movie The Lavender Hill Mob?',\n",
       "  {'entities': [(20, 41, 'movie'), (4, 9, 'action')]}),\n",
       " ('Who is the cast member of The Black Torment?',\n",
       "  {'entities': [(11, 22, 'role'), (26, 43, 'movie')]}),\n",
       " ('Who is the director of the film The Changeling?',\n",
       "  {'entities': [(11, 19, 'role'), (32, 46, 'movie'), (11, 17, 'action')]}),\n",
       " ('Who oversaw the making of King of the Ants',\n",
       "  {'entities': [(26, 42, 'movie')]}),\n",
       " ('Who was in charge of directing The Affair of the Necklace?',\n",
       "  {'entities': [(31, 57, 'movie'), (21, 27, 'action')]}),\n",
       " ('Who was the developer of Sentimental Destinies',\n",
       "  {'entities': [(12, 21, 'role'), (25, 46, 'movie')]}),\n",
       " (\"Give me the film editor of Troma's War\",\n",
       "  {'entities': [(12, 23, 'role'), (27, 38, 'movie'), (17, 21, 'action')]}),\n",
       " ('Give me the name of the director of photography of House of the Sleeping Beauties',\n",
       "  {'entities': [(24, 47, 'role'), (51, 81, 'movie'), (24, 30, 'action')]}),\n",
       " (\"I'd like to know the film crew member's name for Las vidas de Celia\",\n",
       "  {'entities': [(21, 37, 'role'), (49, 67, 'movie')]}),\n",
       " (\"I'm curious about the person who directed The Chalk Garden\",\n",
       "  {'entities': [(42, 58, 'movie'), (33, 41, 'action'), (33, 39, 'action')]}),\n",
       " ('Identify the art director of The Heart Is a Dark Forest',\n",
       "  {'entities': [(13, 25, 'role'), (29, 55, 'movie'), (17, 23, 'action')]}),\n",
       " ('Tell me the author behind The Heart of Jenin',\n",
       "  {'entities': [(12, 18, 'role'), (26, 44, 'movie')]}),\n",
       " ('Tell me the presenter for Beneath the 12-Mile Reef',\n",
       "  {'entities': [(12, 21, 'role'), (26, 50, 'movie')]}),\n",
       " ('Tell me the narrator of The Year My Parents Went on Vacation',\n",
       "  {'entities': [(12, 20, 'role'), (24, 60, 'movie')]}),\n",
       " (\"What is the animator's name for the movie The Year My Voice Broke?\",\n",
       "  {'entities': [(12, 20, 'role'), (42, 65, 'movie')]}),\n",
       " ('Who creator in The Gospel of John?',\n",
       "  {'entities': [(4, 11, 'role'), (15, 33, 'movie')]}),\n",
       " ('Who wrote Under the Sun?',\n",
       "  {'entities': [(10, 23, 'movie'), (4, 9, 'action')]}),\n",
       " ('Who directed the movie House of Cards?',\n",
       "  {'entities': [(23, 37, 'movie'), (4, 12, 'action'), (4, 10, 'action')]}),\n",
       " ('Who is the voice actor of The Child?',\n",
       "  {'entities': [(11, 22, 'role'), (26, 35, 'movie')]}),\n",
       " ('Who is the publisher of the film The Guardian?',\n",
       "  {'entities': [(11, 20, 'role'), (33, 45, 'movie')]}),\n",
       " ('Who oversaw the making of Crimes of the Heart',\n",
       "  {'entities': [(26, 45, 'movie')]}),\n",
       " ('Who was in charge of directing She-Wolf of London?',\n",
       "  {'entities': [(31, 49, 'movie'), (21, 27, 'action')]}),\n",
       " ('Who was the performer of Le Concert',\n",
       "  {'entities': [(12, 21, 'role'), (25, 35, 'movie')]}),\n",
       " ('Give me the actor of My Afternoons with Margueritte',\n",
       "  {'entities': [(12, 17, 'role'), (21, 51, 'movie')]}),\n",
       " ('Give me the name of the cast of The Coverup',\n",
       "  {'entities': [(24, 28, 'role'), (32, 43, 'movie')]}),\n",
       " (\"I'd like to know the cast member's name for Mr. Skeffington\",\n",
       "  {'entities': [(21, 32, 'role'), (44, 59, 'movie')]}),\n",
       " (\"I'm curious about the person who wrote Kings and Queen\",\n",
       "  {'entities': [(39, 54, 'movie'), (33, 38, 'action')]}),\n",
       " ('Identify the screenwriter of Das Leben ist zu lang',\n",
       "  {'entities': [(13, 25, 'role'), (29, 50, 'movie')]}),\n",
       " (\"Tell me the producer behind Things to Do in Denver When You're Dead\",\n",
       "  {'entities': [(12, 20, 'role'), (28, 67, 'movie'), (12, 19, 'action')]}),\n",
       " ('Tell me the developer for Let Sleeping Corpses Lie',\n",
       "  {'entities': [(12, 21, 'role'), (26, 50, 'movie')]}),\n",
       " ('Tell me the film editor of Six Degrees of Separation',\n",
       "  {'entities': [(12, 23, 'role'), (27, 52, 'movie'), (17, 21, 'action')]}),\n",
       " (\"What is the director of photography's name for the movie The Song of Sparrows?\",\n",
       "  {'entities': [(12, 35, 'role'), (57, 77, 'movie'), (12, 18, 'action')]}),\n",
       " ('Who film crew member in Sylvia?',\n",
       "  {'entities': [(4, 20, 'role'), (24, 30, 'movie')]}),\n",
       " (\"Who directed River's Edge?\",\n",
       "  {'entities': [(13, 25, 'movie'), (4, 12, 'action'), (4, 10, 'action')]}),\n",
       " ('Who wrote the movie Hot Millions?',\n",
       "  {'entities': [(20, 32, 'movie'), (4, 9, 'action')]}),\n",
       " ('Who is the author of The Page Turner?',\n",
       "  {'entities': [(11, 17, 'role'), (21, 36, 'movie')]}),\n",
       " ('Who is the presenter of the film Rosemary?',\n",
       "  {'entities': [(11, 20, 'role'), (33, 41, 'movie')]}),\n",
       " ('Who oversaw the making of Mai Mai Miracle',\n",
       "  {'entities': [(26, 41, 'movie')]}),\n",
       " ('Who was in charge of directing Blind Detective?',\n",
       "  {'entities': [(31, 46, 'movie'), (21, 27, 'action')]}),\n",
       " ('Who was the creator of Ship of Fools',\n",
       "  {'entities': [(12, 19, 'role'), (23, 36, 'movie')]}),\n",
       " ('Give me the participant of The Osterman Weekend',\n",
       "  {'entities': [(12, 23, 'role'), (27, 47, 'movie')]}),\n",
       " ('Give me the name of the member of the crew of of The Scent of Yvonne',\n",
       "  {'entities': [(24, 45, 'role'), (49, 68, 'movie')]}),\n",
       " (\"I'd like to know the voice actor's name for The Private Life of Henry VIII\",\n",
       "  {'entities': [(21, 32, 'role'), (44, 74, 'movie')]}),\n",
       " (\"I'm curious about the person who directed Quemar las Naves\",\n",
       "  {'entities': [(42, 58, 'movie'), (33, 41, 'action'), (33, 39, 'action')]}),\n",
       " ('Identify the musical conductor of The Believers',\n",
       "  {'entities': [(13, 30, 'role'), (34, 47, 'movie')]}),\n",
       " ('Tell me the operator behind Salt of this Sea',\n",
       "  {'entities': [(12, 20, 'role'), (28, 44, 'movie')]}),\n",
       " ('Tell me the performer for The Bedroom Window',\n",
       "  {'entities': [(12, 21, 'role'), (26, 44, 'movie')]}),\n",
       " ('Tell me the actor of Potiche',\n",
       "  {'entities': [(12, 17, 'role'), (21, 28, 'movie')]}),\n",
       " (\"What is the cast's name for the movie Here Comes the Boom?\",\n",
       "  {'entities': [(12, 16, 'role'), (38, 57, 'movie')]}),\n",
       " (\"Who cast member in Spider's Web?\",\n",
       "  {'entities': [(4, 15, 'role'), (19, 31, 'movie')]}),\n",
       " ('Who wrote The Brain?', {'entities': [(10, 19, 'movie'), (4, 9, 'action')]}),\n",
       " ('Who directed the movie Valley of the Dolls?',\n",
       "  {'entities': [(23, 42, 'movie'), (4, 12, 'action'), (4, 10, 'action')]}),\n",
       " ('Who is the producer of Last of the Dogmen?',\n",
       "  {'entities': [(11, 19, 'role'), (23, 41, 'movie'), (11, 18, 'action')]}),\n",
       " ('Who is the developer of the film Batteries Not Included?',\n",
       "  {'entities': [(11, 20, 'role'), (33, 55, 'movie')]}),\n",
       " ('Who oversaw the making of The Baby of Mâcon',\n",
       "  {'entities': [(26, 43, 'movie')]}),\n",
       " ('Who was in charge of directing Little Man Tate?',\n",
       "  {'entities': [(31, 46, 'movie'), (21, 27, 'action')]}),\n",
       " ('Who was the film crew member of Blue Thunder',\n",
       "  {'entities': [(12, 28, 'role'), (32, 44, 'movie')]}),\n",
       " ('Give me the choreographer of The Flying Classroom',\n",
       "  {'entities': [(12, 25, 'role'), (29, 49, 'movie')]}),\n",
       " ('Give me the name of the art director of An Impudent Girl',\n",
       "  {'entities': [(24, 36, 'role'), (40, 56, 'movie'), (28, 34, 'action')]}),\n",
       " (\"I'd like to know the author's name for How Much Does the Trojan Horse Weigh?\",\n",
       "  {'entities': [(21, 27, 'role'), (39, 76, 'movie')]}),\n",
       " (\"I'm curious about the person who wrote The Yellow Handkerchief\",\n",
       "  {'entities': [(39, 62, 'movie'), (33, 38, 'action')]}),\n",
       " ('Identify the narrator of The Promised Land',\n",
       "  {'entities': [(13, 21, 'role'), (25, 42, 'movie')]}),\n",
       " ('Tell me the animator behind Celtic Pride',\n",
       "  {'entities': [(12, 20, 'role'), (28, 40, 'movie')]}),\n",
       " (\"Tell me the creator for The Brink's Job\",\n",
       "  {'entities': [(12, 19, 'role'), (24, 39, 'movie')]}),\n",
       " ('Tell me the participant of The Competition',\n",
       "  {'entities': [(12, 23, 'role'), (27, 42, 'movie')]}),\n",
       " (\"What is the member of the crew of's name for the movie Quatermass and the Pit?\",\n",
       "  {'entities': [(12, 33, 'role'), (55, 77, 'movie')]}),\n",
       " ('Who voice actor in The Corn Is Green?',\n",
       "  {'entities': [(4, 15, 'role'), (19, 36, 'movie')]}),\n",
       " ('Who directed The Teahouse of the August Moon?',\n",
       "  {'entities': [(13, 44, 'movie'), (4, 12, 'action'), (4, 10, 'action')]}),\n",
       " ('Who wrote the movie The Last Detail?',\n",
       "  {'entities': [(20, 35, 'movie'), (4, 9, 'action')]}),\n",
       " ('Who is the operator of The Silence?',\n",
       "  {'entities': [(11, 19, 'role'), (23, 34, 'movie')]}),\n",
       " ('Who is the performer of the film Bang the Drum Slowly?',\n",
       "  {'entities': [(11, 20, 'role'), (33, 53, 'movie')]}),\n",
       " ('Who oversaw the making of Testament', {'entities': [(26, 35, 'movie')]}),\n",
       " ('Who was in charge of directing The Mean Season?',\n",
       "  {'entities': [(31, 46, 'movie'), (21, 27, 'action')]}),\n",
       " ('Who was the cast member of Two for the Money',\n",
       "  {'entities': [(12, 23, 'role'), (27, 44, 'movie')]}),\n",
       " ('Give me the director of Black-White-Red Four Poster',\n",
       "  {'entities': [(12, 20, 'role'), (24, 51, 'movie'), (12, 18, 'action')]}),\n",
       " ('Give me the name of the screenwriter of Cradle Will Rock',\n",
       "  {'entities': [(24, 36, 'role'), (40, 56, 'movie')]}),\n",
       " (\"I'd like to know the producer's name for Sorority Boys\",\n",
       "  {'entities': [(21, 29, 'role'), (41, 54, 'movie'), (21, 28, 'action')]}),\n",
       " (\"I'm curious about the person who directed The Seventh Cross\",\n",
       "  {'entities': [(42, 59, 'movie'), (33, 41, 'action'), (33, 39, 'action')]}),\n",
       " ('Identify the film editor of Silent Rage',\n",
       "  {'entities': [(13, 24, 'role'), (28, 39, 'movie'), (18, 22, 'action')]}),\n",
       " ('Tell me the director of photography behind The Nest',\n",
       "  {'entities': [(12, 35, 'role'), (43, 51, 'movie'), (12, 18, 'action')]}),\n",
       " ('Tell me the film crew member for The Ultimate Gift',\n",
       "  {'entities': [(12, 28, 'role'), (33, 50, 'movie')]}),\n",
       " ('Tell me the choreographer of California Suite',\n",
       "  {'entities': [(12, 25, 'role'), (29, 45, 'movie')]}),\n",
       " (\"What is the art director's name for the movie Life Actually?\",\n",
       "  {'entities': [(12, 24, 'role'), (46, 59, 'movie'), (16, 22, 'action')]}),\n",
       " ('Who author in The Man on the Train?',\n",
       "  {'entities': [(4, 10, 'role'), (14, 34, 'movie')]}),\n",
       " ('Who wrote Janosik: A True Story?',\n",
       "  {'entities': [(10, 31, 'movie'), (4, 9, 'action')]}),\n",
       " ('Who directed the movie Panther?',\n",
       "  {'entities': [(23, 30, 'movie'), (4, 12, 'action'), (4, 10, 'action')]}),\n",
       " ('Who is the animator of Joanna?',\n",
       "  {'entities': [(11, 19, 'role'), (23, 29, 'movie')]}),\n",
       " ('Who is the creator of the film The Piano?',\n",
       "  {'entities': [(11, 18, 'role'), (31, 40, 'movie')]}),\n",
       " ('Who oversaw the making of Kabul Express',\n",
       "  {'entities': [(26, 39, 'movie')]}),\n",
       " ('Who was in charge of directing Wilbur Wants to Kill Himself?',\n",
       "  {'entities': [(31, 59, 'movie'), (21, 27, 'action')]}),\n",
       " ('Who was the voice actor of David Copperfield',\n",
       "  {'entities': [(12, 23, 'role'), (27, 44, 'movie')]}),\n",
       " ('Give me the publisher of Druids',\n",
       "  {'entities': [(12, 21, 'role'), (25, 31, 'movie')]}),\n",
       " ('Give me the name of the musical conductor of The Sun King',\n",
       "  {'entities': [(24, 41, 'role'), (45, 57, 'movie')]}),\n",
       " (\"I'd like to know the operator's name for Kudrat\",\n",
       "  {'entities': [(21, 29, 'role'), (41, 47, 'movie')]}),\n",
       " (\"I'm curious about the person who wrote Max Pinlig\",\n",
       "  {'entities': [(39, 49, 'movie'), (33, 38, 'action')]}),\n",
       " ('Identify the actor of Max et Jérémie',\n",
       "  {'entities': [(13, 18, 'role'), (22, 36, 'movie')]}),\n",
       " ('Tell me the cast behind Little Zizou',\n",
       "  {'entities': [(12, 16, 'role'), (24, 36, 'movie')]}),\n",
       " ('Tell me the cast member for Beyond the Mat',\n",
       "  {'entities': [(12, 23, 'role'), (28, 42, 'movie')]}),\n",
       " ('Tell me the director of Czech-Made Man',\n",
       "  {'entities': [(12, 20, 'role'), (24, 38, 'movie'), (12, 18, 'action')]}),\n",
       " (\"What is the screenwriter's name for the movie Mujhe Kucch Kehna Hai?\",\n",
       "  {'entities': [(12, 24, 'role'), (46, 67, 'movie')]}),\n",
       " (\"Who producer in My Father's Bike?\",\n",
       "  {'entities': [(4, 12, 'role'), (16, 32, 'movie'), (4, 11, 'action')]}),\n",
       " ('Who directed Hope?',\n",
       "  {'entities': [(13, 17, 'movie'), (4, 12, 'action'), (4, 10, 'action')]}),\n",
       " ('Who wrote the movie Operacja Samum?',\n",
       "  {'entities': [(20, 34, 'movie'), (4, 9, 'action')]}),\n",
       " ('Who is the director of photography of The Storm?',\n",
       "  {'entities': [(11, 34, 'role'), (38, 47, 'movie'), (11, 17, 'action')]}),\n",
       " ('Who is the film crew member of the film Dead End?',\n",
       "  {'entities': [(11, 27, 'role'), (40, 48, 'movie')]}),\n",
       " ('Who oversaw the making of The Dead Girl',\n",
       "  {'entities': [(26, 39, 'movie')]}),\n",
       " ('Who was in charge of directing Dead Presidents?',\n",
       "  {'entities': [(31, 46, 'movie'), (21, 27, 'action')]}),\n",
       " ('Who was the author of Deadline',\n",
       "  {'entities': [(12, 18, 'role'), (22, 30, 'movie')]}),\n",
       " (\"Give me the presenter of Lion's Den\",\n",
       "  {'entities': [(12, 21, 'role'), (25, 35, 'movie')]}),\n",
       " ('Give me the name of the narrator of Pistol Whipped',\n",
       "  {'entities': [(24, 32, 'role'), (36, 50, 'movie')]}),\n",
       " (\"I'd like to know the animator's name for Money Is Not Everything\",\n",
       "  {'entities': [(21, 29, 'role'), (41, 64, 'movie')]}),\n",
       " (\"I'm curious about the person who directed Debtocracy\",\n",
       "  {'entities': [(42, 52, 'movie'), (33, 41, 'action'), (33, 39, 'action')]}),\n",
       " ('Identify the participant of DonT Stop',\n",
       "  {'entities': [(13, 24, 'role'), (28, 37, 'movie')]}),\n",
       " ('Tell me the member of the crew of behind Decoy',\n",
       "  {'entities': [(12, 33, 'role'), (41, 46, 'movie')]}),\n",
       " ('Tell me the voice actor for Strangeland',\n",
       "  {'entities': [(12, 23, 'role'), (28, 39, 'movie')]}),\n",
       " ('Tell me the publisher of Deep Blue',\n",
       "  {'entities': [(12, 21, 'role'), (25, 34, 'movie')]}),\n",
       " (\"What is the musical conductor's name for the movie Deep Core?\",\n",
       "  {'entities': [(12, 29, 'role'), (51, 60, 'movie')]}),\n",
       " ('Who operator in DeepStar Six?',\n",
       "  {'entities': [(4, 12, 'role'), (16, 28, 'movie')]}),\n",
       " ('Who wrote Deewaar?', {'entities': [(10, 17, 'movie'), (4, 9, 'action')]}),\n",
       " ('Who directed the movie Defendor?',\n",
       "  {'entities': [(23, 31, 'movie'), (4, 12, 'action'), (4, 10, 'action')]}),\n",
       " ('Who is the cast of The Ex?',\n",
       "  {'entities': [(11, 15, 'role'), (19, 25, 'movie')]}),\n",
       " ('Who is the cast member of the film Sweet Smell of Success?',\n",
       "  {'entities': [(11, 22, 'role'), (35, 57, 'movie')]}),\n",
       " ('Who oversaw the making of The Way', {'entities': [(26, 33, 'movie')]}),\n",
       " ('Who was in charge of directing Yours, Mine and Ours?',\n",
       "  {'entities': [(31, 51, 'movie'), (21, 27, 'action')]}),\n",
       " ('Who was the producer of Catch the Heat',\n",
       "  {'entities': [(12, 20, 'role'), (24, 38, 'movie'), (12, 19, 'action')]}),\n",
       " ('Give me the developer of Deliver Us from Evil',\n",
       "  {'entities': [(12, 21, 'role'), (25, 45, 'movie')]}),\n",
       " ('Give me the name of the film editor of 8-Ball',\n",
       "  {'entities': [(24, 35, 'role'), (39, 45, 'movie'), (29, 33, 'action')]}),\n",
       " (\"I'd like to know the director of photography's name for The Wings of Eagles\",\n",
       "  {'entities': [(21, 44, 'role'), (56, 75, 'movie'), (21, 27, 'action')]}),\n",
       " (\"I'm curious about the person who wrote Nearest to Heaven\",\n",
       "  {'entities': [(39, 56, 'movie'), (33, 38, 'action')]}),\n",
       " ('Identify the choreographer of Dementia 13',\n",
       "  {'entities': [(13, 26, 'role'), (30, 41, 'movie')]}),\n",
       " ('Tell me the art director behind Johnny Eager',\n",
       "  {'entities': [(12, 24, 'role'), (32, 44, 'movie'), (16, 22, 'action')]}),\n",
       " ('Tell me the author for Swing Girls',\n",
       "  {'entities': [(12, 18, 'role'), (23, 34, 'movie')]}),\n",
       " ('Tell me the presenter of Inazuma Eleven: Saikyō Gundan Ōga Shūrai',\n",
       "  {'entities': [(12, 21, 'role'), (25, 65, 'movie')]}),\n",
       " (\"What is the narrator's name for the movie The Dudesons Movie?\",\n",
       "  {'entities': [(12, 20, 'role'), (42, 60, 'movie')]}),\n",
       " ('Who animator in Mr. Vampire?',\n",
       "  {'entities': [(4, 12, 'role'), (16, 27, 'movie')]}),\n",
       " (\"Who directed Man's Favorite Sport??\",\n",
       "  {'entities': [(13, 34, 'movie'), (4, 12, 'action'), (4, 10, 'action')]}),\n",
       " ('Who wrote the movie Helmiä ja sikoja?',\n",
       "  {'entities': [(20, 36, 'movie'), (4, 9, 'action')]}),\n",
       " ('Who is the member of the crew of of The House?',\n",
       "  {'entities': [(11, 32, 'role'), (36, 45, 'movie')]}),\n",
       " ('Who is the voice actor of the film Demonlover?',\n",
       "  {'entities': [(11, 22, 'role'), (35, 45, 'movie')]}),\n",
       " ('Who oversaw the making of The Unforgiven',\n",
       "  {'entities': [(26, 40, 'movie')]}),\n",
       " ('Who was in charge of directing Kadal?',\n",
       "  {'entities': [(31, 36, 'movie'), (21, 27, 'action')]}),\n",
       " ('Who was the operator of The Last Wedding',\n",
       "  {'entities': [(12, 20, 'role'), (24, 40, 'movie')]}),\n",
       " ('Give me the performer of Vendeta',\n",
       "  {'entities': [(12, 21, 'role'), (25, 32, 'movie')]}),\n",
       " ('Give me the name of the actor of The Cowboy and the Lady',\n",
       "  {'entities': [(24, 29, 'role'), (33, 56, 'movie')]}),\n",
       " (\"I'd like to know the cast's name for Fermat's Room\",\n",
       "  {'entities': [(21, 25, 'role'), (37, 50, 'movie')]}),\n",
       " (\"I'm curious about the person who directed Aadukalam\",\n",
       "  {'entities': [(42, 51, 'movie'), (33, 41, 'action'), (33, 39, 'action')]}),\n",
       " ('Identify the director of Princess',\n",
       "  {'entities': [(13, 21, 'role'), (25, 33, 'movie'), (13, 19, 'action')]}),\n",
       " ('Tell me the screenwriter behind Garbage Prince',\n",
       "  {'entities': [(12, 24, 'role'), (32, 46, 'movie')]}),\n",
       " ('Tell me the producer for Sibelius',\n",
       "  {'entities': [(12, 20, 'role'), (25, 33, 'movie'), (12, 19, 'action')]}),\n",
       " ('Tell me the developer of Blind Dating',\n",
       "  {'entities': [(12, 21, 'role'), (25, 37, 'movie')]}),\n",
       " (\"What is the film editor's name for the movie Canned Dreams?\",\n",
       "  {'entities': [(12, 23, 'role'), (45, 58, 'movie'), (17, 21, 'action')]}),\n",
       " ('Who director of photography in Grave Encounters?',\n",
       "  {'entities': [(4, 27, 'role'), (31, 47, 'movie'), (4, 10, 'action')]}),\n",
       " ('Who wrote Marley?', {'entities': [(10, 16, 'movie'), (4, 9, 'action')]}),\n",
       " ('Who directed the movie Everything Must Go?',\n",
       "  {'entities': [(23, 41, 'movie'), (4, 12, 'action'), (4, 10, 'action')]}),\n",
       " (\"Who is the art director of De l'autre côté du lit?\",\n",
       "  {'entities': [(11, 23, 'role'), (27, 49, 'movie'), (15, 21, 'action')]}),\n",
       " ('Who is the author of the film Valo?',\n",
       "  {'entities': [(11, 17, 'role'), (30, 34, 'movie')]}),\n",
       " ('Who oversaw the making of P2', {'entities': [(26, 28, 'movie')]}),\n",
       " ('Who was in charge of directing Taboo?',\n",
       "  {'entities': [(31, 36, 'movie'), (21, 27, 'action')]}),\n",
       " ('Who was the animator of Not One Less',\n",
       "  {'entities': [(12, 20, 'role'), (24, 36, 'movie')]}),\n",
       " ('Give me the creator of Bright Star',\n",
       "  {'entities': [(12, 19, 'role'), (23, 34, 'movie')]}),\n",
       " ('Give me the name of the participant of Shadowzone',\n",
       "  {'entities': [(24, 35, 'role'), (39, 49, 'movie')]}),\n",
       " (\"I'd like to know the member of the crew of's name for Swing Time\",\n",
       "  {'entities': [(21, 42, 'role'), (54, 64, 'movie')]}),\n",
       " (\"I'm curious about the person who wrote The Banger Sisters\",\n",
       "  {'entities': [(39, 57, 'movie'), (33, 38, 'action')]}),\n",
       " ('Identify the publisher of Hurricane',\n",
       "  {'entities': [(13, 22, 'role'), (26, 35, 'movie')]}),\n",
       " ('Tell me the musical conductor behind Between Strangers',\n",
       "  {'entities': [(12, 29, 'role'), (37, 54, 'movie')]}),\n",
       " ('Tell me the operator for Monkeybone',\n",
       "  {'entities': [(12, 20, 'role'), (25, 35, 'movie')]}),\n",
       " (\"Tell me the performer of Gone Fishin'\",\n",
       "  {'entities': [(12, 21, 'role'), (25, 37, 'movie')]}),\n",
       " (\"What is the actor's name for the movie The Holcroft Covenant?\",\n",
       "  {'entities': [(12, 17, 'role'), (39, 60, 'movie')]}),\n",
       " ('Who cast in The Albanian?',\n",
       "  {'entities': [(4, 8, 'role'), (12, 24, 'movie')]}),\n",
       " ('Who directed El otro?',\n",
       "  {'entities': [(13, 20, 'movie'), (4, 12, 'action'), (4, 10, 'action')]}),\n",
       " ('Who wrote the movie The Assault?',\n",
       "  {'entities': [(20, 31, 'movie'), (4, 9, 'action')]}),\n",
       " ('Who is the screenwriter of The Architect?',\n",
       "  {'entities': [(11, 23, 'role'), (27, 40, 'movie')]}),\n",
       " ('Who is the producer of the film Heartbreaker?',\n",
       "  {'entities': [(11, 19, 'role'), (32, 44, 'movie'), (11, 18, 'action')]}),\n",
       " ('Who oversaw the making of One 2 Ka 4', {'entities': [(26, 36, 'movie')]}),\n",
       " ('Who was in charge of directing Hana and Alice?',\n",
       "  {'entities': [(31, 45, 'movie'), (21, 27, 'action')]}),\n",
       " ('Who was the director of photography of The Beekeeper',\n",
       "  {'entities': [(12, 35, 'role'), (39, 52, 'movie'), (12, 18, 'action')]}),\n",
       " ('Give me the film crew member of The Lair of the White Worm',\n",
       "  {'entities': [(12, 28, 'role'), (32, 58, 'movie')]}),\n",
       " ('Give me the name of the choreographer of August',\n",
       "  {'entities': [(24, 37, 'role'), (41, 47, 'movie')]}),\n",
       " (\"I'd like to know the art director's name for Chill Factor\",\n",
       "  {'entities': [(21, 33, 'role'), (45, 57, 'movie'), (25, 31, 'action')]}),\n",
       " (\"I'm curious about the person who directed Swing Vote\",\n",
       "  {'entities': [(42, 52, 'movie'), (33, 41, 'action'), (33, 39, 'action')]}),\n",
       " ('Identify the presenter of The Commander',\n",
       "  {'entities': [(13, 22, 'role'), (26, 39, 'movie')]}),\n",
       " ('Tell me the narrator behind Boom Town',\n",
       "  {'entities': [(12, 20, 'role'), (28, 37, 'movie')]}),\n",
       " ('Tell me the animator for The Scent of Green Papaya',\n",
       "  {'entities': [(12, 20, 'role'), (25, 50, 'movie')]}),\n",
       " ('Tell me the creator of The Polar Bear',\n",
       "  {'entities': [(12, 19, 'role'), (23, 37, 'movie')]}),\n",
       " (\"What is the participant's name for the movie The Conqueror?\",\n",
       "  {'entities': [(12, 23, 'role'), (45, 58, 'movie')]}),\n",
       " ('Who member of the crew of in The Falcon and the Snowman?',\n",
       "  {'entities': [(4, 25, 'role'), (29, 55, 'movie')]}),\n",
       " ('Who wrote 5 Fingers?', {'entities': [(10, 19, 'movie'), (4, 9, 'action')]}),\n",
       " ('Who directed the movie Fireproof?',\n",
       "  {'entities': [(23, 32, 'movie'), (4, 12, 'action'), (4, 10, 'action')]}),\n",
       " (\"Who is the musical conductor of The Fireman's Ball?\",\n",
       "  {'entities': [(11, 28, 'role'), (32, 50, 'movie')]}),\n",
       " ('Who is the operator of the film Dragonfly?',\n",
       "  {'entities': [(11, 19, 'role'), (32, 41, 'movie')]}),\n",
       " ('Who oversaw the making of Büyü', {'entities': [(26, 30, 'movie')]}),\n",
       " ('Who was in charge of directing Ip Man 2?',\n",
       "  {'entities': [(31, 39, 'movie'), (21, 27, 'action')]}),\n",
       " ('Who was the cast of An American Haunting',\n",
       "  {'entities': [(12, 16, 'role'), (20, 40, 'movie')]}),\n",
       " ('Give me the cast member of Sphinx',\n",
       "  {'entities': [(12, 23, 'role'), (27, 33, 'movie')]}),\n",
       " ('Give me the name of the director of The Vanishing Point',\n",
       "  {'entities': [(24, 32, 'role'), (36, 55, 'movie'), (24, 30, 'action')]}),\n",
       " (\"I'd like to know the screenwriter's name for Criminal Law\",\n",
       "  {'entities': [(21, 33, 'role'), (45, 57, 'movie')]}),\n",
       " (\"I'm curious about the person who wrote Beau Travail\",\n",
       "  {'entities': [(39, 51, 'movie'), (33, 38, 'action')]}),\n",
       " ('Identify the developer of The Fox and the Child',\n",
       "  {'entities': [(13, 22, 'role'), (26, 47, 'movie')]}),\n",
       " ('Tell me the film editor behind The Reivers',\n",
       "  {'entities': [(12, 23, 'role'), (31, 42, 'movie'), (17, 21, 'action')]}),\n",
       " ('Tell me the director of photography for Winners and Sinners',\n",
       "  {'entities': [(12, 35, 'role'), (40, 59, 'movie'), (12, 18, 'action')]}),\n",
       " ('Tell me the film crew member of Ghost of Mae Nak',\n",
       "  {'entities': [(12, 28, 'role'), (32, 48, 'movie')]}),\n",
       " (\"What is the choreographer's name for the movie Chandramukhi?\",\n",
       "  {'entities': [(12, 25, 'role'), (47, 59, 'movie')]}),\n",
       " ('Who art director in Affliction?',\n",
       "  {'entities': [(4, 16, 'role'), (20, 30, 'movie'), (8, 14, 'action')]}),\n",
       " ('Who directed The General?',\n",
       "  {'entities': [(13, 24, 'movie'), (4, 12, 'action'), (4, 10, 'action')]}),\n",
       " ('Who wrote the movie The General Died at Dawn?',\n",
       "  {'entities': [(20, 44, 'movie'), (4, 9, 'action')]}),\n",
       " ('Who is the narrator of An Eye for an Eye?',\n",
       "  {'entities': [(11, 19, 'role'), (23, 40, 'movie')]}),\n",
       " ('Who is the animator of the film Big Man Japan?',\n",
       "  {'entities': [(11, 19, 'role'), (32, 45, 'movie')]}),\n",
       " ('Who oversaw the making of Holy Man', {'entities': [(26, 34, 'movie')]}),\n",
       " ...]"
      ]
     },
     "execution_count": 23,
     "metadata": {},
     "output_type": "execute_result"
    }
   ],
   "source": [
    "TRAIN_DATA"
   ]
  },
  {
   "cell_type": "code",
   "execution_count": 24,
   "id": "5bb41862",
   "metadata": {
    "scrolled": true
   },
   "outputs": [
    {
     "data": {
      "text/html": [
       "<span class=\"tex2jax_ignore\"><div class=\"entities\" style=\"line-height: 2.5; direction: ltr\">Give me the \n",
       "<mark class=\"entity\" style=\"background: #ddd; padding: 0.45em 0.6em; margin: 0 0.25em; line-height: 1; border-radius: 0.35em;\">\n",
       "    author\n",
       "    <span style=\"font-size: 0.8em; font-weight: bold; line-height: 1; border-radius: 0.35em; vertical-align: middle; margin-left: 0.5rem\">role</span>\n",
       "</mark>\n",
       " of \n",
       "<mark class=\"entity\" style=\"background: #ddd; padding: 0.45em 0.6em; margin: 0 0.25em; line-height: 1; border-radius: 0.35em;\">\n",
       "    They Shoot Horses, Don't They\n",
       "    <span style=\"font-size: 0.8em; font-weight: bold; line-height: 1; border-radius: 0.35em; vertical-align: middle; margin-left: 0.5rem\">movie</span>\n",
       "</mark>\n",
       "?</div></span>"
      ],
      "text/plain": [
       "<IPython.core.display.HTML object>"
      ]
     },
     "metadata": {},
     "output_type": "display_data"
    },
    {
     "name": "stdout",
     "output_type": "stream",
     "text": [
      "Give me the author of They Shoot Horses, Don't They? {'entities': [(12, 18, 'role'), (22, 52, 'movie')]}\n",
      "Missing movie label\n"
     ]
    },
    {
     "data": {
      "text/html": [
       "<span class=\"tex2jax_ignore\"><div class=\"entities\" style=\"line-height: 2.5; direction: ltr\">I'd like to know the \n",
       "<mark class=\"entity\" style=\"background: #ddd; padding: 0.45em 0.6em; margin: 0 0.25em; line-height: 1; border-radius: 0.35em;\">\n",
       "    author\n",
       "    <span style=\"font-size: 0.8em; font-weight: bold; line-height: 1; border-radius: 0.35em; vertical-align: middle; margin-left: 0.5rem\">role</span>\n",
       "</mark>\n",
       "'s name for \n",
       "<mark class=\"entity\" style=\"background: #ddd; padding: 0.45em 0.6em; margin: 0 0.25em; line-height: 1; border-radius: 0.35em;\">\n",
       "    How Much Does the Trojan Horse Weigh\n",
       "    <span style=\"font-size: 0.8em; font-weight: bold; line-height: 1; border-radius: 0.35em; vertical-align: middle; margin-left: 0.5rem\">movie</span>\n",
       "</mark>\n",
       "?</div></span>"
      ],
      "text/plain": [
       "<IPython.core.display.HTML object>"
      ]
     },
     "metadata": {},
     "output_type": "display_data"
    },
    {
     "name": "stdout",
     "output_type": "stream",
     "text": [
      "I'd like to know the author's name for How Much Does the Trojan Horse Weigh? {'entities': [(21, 27, 'role'), (39, 76, 'movie')]}\n",
      "Missing movie label\n"
     ]
    },
    {
     "data": {
      "text/html": [
       "<span class=\"tex2jax_ignore\"><div class=\"entities\" style=\"line-height: 2.5; direction: ltr\">Tell me the \n",
       "<mark class=\"entity\" style=\"background: #ddd; padding: 0.45em 0.6em; margin: 0 0.25em; line-height: 1; border-radius: 0.35em;\">\n",
       "    performer\n",
       "    <span style=\"font-size: 0.8em; font-weight: bold; line-height: 1; border-radius: 0.35em; vertical-align: middle; margin-left: 0.5rem\">role</span>\n",
       "</mark>\n",
       " of \n",
       "<mark class=\"entity\" style=\"background: #ddd; padding: 0.45em 0.6em; margin: 0 0.25em; line-height: 1; border-radius: 0.35em;\">\n",
       "    Gone Fishin\n",
       "    <span style=\"font-size: 0.8em; font-weight: bold; line-height: 1; border-radius: 0.35em; vertical-align: middle; margin-left: 0.5rem\">movie</span>\n",
       "</mark>\n",
       "'</div></span>"
      ],
      "text/plain": [
       "<IPython.core.display.HTML object>"
      ]
     },
     "metadata": {},
     "output_type": "display_data"
    },
    {
     "name": "stdout",
     "output_type": "stream",
     "text": [
      "Tell me the performer of Gone Fishin' {'entities': [(12, 21, 'role'), (25, 37, 'movie')]}\n",
      "Missing movie label\n"
     ]
    },
    {
     "data": {
      "text/html": [
       "<span class=\"tex2jax_ignore\"><div class=\"entities\" style=\"line-height: 2.5; direction: ltr\">Who oversaw the making of \n",
       "<mark class=\"entity\" style=\"background: #ddd; padding: 0.45em 0.6em; margin: 0 0.25em; line-height: 1; border-radius: 0.35em;\">\n",
       "    What Have They Done to Your Daughters\n",
       "    <span style=\"font-size: 0.8em; font-weight: bold; line-height: 1; border-radius: 0.35em; vertical-align: middle; margin-left: 0.5rem\">movie</span>\n",
       "</mark>\n",
       "?</div></span>"
      ],
      "text/plain": [
       "<IPython.core.display.HTML object>"
      ]
     },
     "metadata": {},
     "output_type": "display_data"
    },
    {
     "name": "stdout",
     "output_type": "stream",
     "text": [
      "Who oversaw the making of What Have They Done to Your Daughters? {'entities': [(26, 64, 'movie')]}\n",
      "Missing movie label\n"
     ]
    },
    {
     "data": {
      "text/html": [
       "<span class=\"tex2jax_ignore\"><div class=\"entities\" style=\"line-height: 2.5; direction: ltr\">Tell me the \n",
       "<mark class=\"entity\" style=\"background: #ddd; padding: 0.45em 0.6em; margin: 0 0.25em; line-height: 1; border-radius: 0.35em;\">\n",
       "    musical conductor\n",
       "    <span style=\"font-size: 0.8em; font-weight: bold; line-height: 1; border-radius: 0.35em; vertical-align: middle; margin-left: 0.5rem\">role</span>\n",
       "</mark>\n",
       " for \n",
       "<mark class=\"entity\" style=\"background: #ddd; padding: 0.45em 0.6em; margin: 0 0.25em; line-height: 1; border-radius: 0.35em;\">\n",
       "    What's in a Name\n",
       "    <span style=\"font-size: 0.8em; font-weight: bold; line-height: 1; border-radius: 0.35em; vertical-align: middle; margin-left: 0.5rem\">movie</span>\n",
       "</mark>\n",
       "?</div></span>"
      ],
      "text/plain": [
       "<IPython.core.display.HTML object>"
      ]
     },
     "metadata": {},
     "output_type": "display_data"
    },
    {
     "name": "stdout",
     "output_type": "stream",
     "text": [
      "Tell me the musical conductor for What's in a Name? {'entities': [(12, 29, 'role'), (34, 51, 'movie')]}\n",
      "Missing movie label\n"
     ]
    },
    {
     "data": {
      "text/html": [
       "<span class=\"tex2jax_ignore\"><div class=\"entities\" style=\"line-height: 2.5; direction: ltr\">Give me the \n",
       "<mark class=\"entity\" style=\"background: #ddd; padding: 0.45em 0.6em; margin: 0 0.25em; line-height: 1; border-radius: 0.35em;\">\n",
       "    cast\n",
       "    <span style=\"font-size: 0.8em; font-weight: bold; line-height: 1; border-radius: 0.35em; vertical-align: middle; margin-left: 0.5rem\">role</span>\n",
       "</mark>\n",
       " of \n",
       "<mark class=\"entity\" style=\"background: #ddd; padding: 0.45em 0.6em; margin: 0 0.25em; line-height: 1; border-radius: 0.35em;\">\n",
       "    Shall We Dance\n",
       "    <span style=\"font-size: 0.8em; font-weight: bold; line-height: 1; border-radius: 0.35em; vertical-align: middle; margin-left: 0.5rem\">movie</span>\n",
       "</mark>\n",
       "?</div></span>"
      ],
      "text/plain": [
       "<IPython.core.display.HTML object>"
      ]
     },
     "metadata": {},
     "output_type": "display_data"
    },
    {
     "name": "stdout",
     "output_type": "stream",
     "text": [
      "Give me the cast of Shall We Dance? {'entities': [(12, 16, 'role'), (20, 35, 'movie')]}\n",
      "Missing movie label\n"
     ]
    },
    {
     "data": {
      "text/html": [
       "<span class=\"tex2jax_ignore\"><div class=\"entities\" style=\"line-height: 2.5; direction: ltr\">Who is the \n",
       "<mark class=\"entity\" style=\"background: #ddd; padding: 0.45em 0.6em; margin: 0 0.25em; line-height: 1; border-radius: 0.35em;\">\n",
       "    director of photography\n",
       "    <span style=\"font-size: 0.8em; font-weight: bold; line-height: 1; border-radius: 0.35em; vertical-align: middle; margin-left: 0.5rem\">role</span>\n",
       "</mark>\n",
       " of \n",
       "<mark class=\"entity\" style=\"background: #ddd; padding: 0.45em 0.6em; margin: 0 0.25em; line-height: 1; border-radius: 0.35em;\">\n",
       "    1969\n",
       "    <span style=\"font-size: 0.8em; font-weight: bold; line-height: 1; border-radius: 0.35em; vertical-align: middle; margin-left: 0.5rem\">year</span>\n",
       "</mark>\n",
       "?</div></span>"
      ],
      "text/plain": [
       "<IPython.core.display.HTML object>"
      ]
     },
     "metadata": {},
     "output_type": "display_data"
    },
    {
     "name": "stdout",
     "output_type": "stream",
     "text": [
      "Who is the director of photography of 1969? {'entities': [(11, 34, 'role'), (38, 42, 'movie'), (11, 17, 'action')]}\n",
      "Missing year label\n"
     ]
    },
    {
     "data": {
      "text/html": [
       "<span class=\"tex2jax_ignore\"><div class=\"entities\" style=\"line-height: 2.5; direction: ltr\">I'd like to know the \n",
       "<mark class=\"entity\" style=\"background: #ddd; padding: 0.45em 0.6em; margin: 0 0.25em; line-height: 1; border-radius: 0.35em;\">\n",
       "    film editor\n",
       "    <span style=\"font-size: 0.8em; font-weight: bold; line-height: 1; border-radius: 0.35em; vertical-align: middle; margin-left: 0.5rem\">role</span>\n",
       "</mark>\n",
       "'s name for \n",
       "<mark class=\"entity\" style=\"background: #ddd; padding: 0.45em 0.6em; margin: 0 0.25em; line-height: 1; border-radius: 0.35em;\">\n",
       "    Maine Pyaar Kyun Kiya\n",
       "    <span style=\"font-size: 0.8em; font-weight: bold; line-height: 1; border-radius: 0.35em; vertical-align: middle; margin-left: 0.5rem\">movie</span>\n",
       "</mark>\n",
       "?</div></span>"
      ],
      "text/plain": [
       "<IPython.core.display.HTML object>"
      ]
     },
     "metadata": {},
     "output_type": "display_data"
    },
    {
     "name": "stdout",
     "output_type": "stream",
     "text": [
      "I'd like to know the film editor's name for Maine Pyaar Kyun Kiya? {'entities': [(21, 32, 'role'), (44, 66, 'movie'), (26, 30, 'action')]}\n",
      "Missing movie label\n"
     ]
    },
    {
     "data": {
      "text/html": [
       "<span class=\"tex2jax_ignore\"><div class=\"entities\" style=\"line-height: 2.5; direction: ltr\">Give me the name of the \n",
       "<mark class=\"entity\" style=\"background: #ddd; padding: 0.45em 0.6em; margin: 0 0.25em; line-height: 1; border-radius: 0.35em;\">\n",
       "    author\n",
       "    <span style=\"font-size: 0.8em; font-weight: bold; line-height: 1; border-radius: 0.35em; vertical-align: middle; margin-left: 0.5rem\">role</span>\n",
       "</mark>\n",
       " of \n",
       "<mark class=\"entity\" style=\"background: #ddd; padding: 0.45em 0.6em; margin: 0 0.25em; line-height: 1; border-radius: 0.35em;\">\n",
       "    My Son, My Son, What Have Ye Done\n",
       "    <span style=\"font-size: 0.8em; font-weight: bold; line-height: 1; border-radius: 0.35em; vertical-align: middle; margin-left: 0.5rem\">movie</span>\n",
       "</mark>\n",
       "?</div></span>"
      ],
      "text/plain": [
       "<IPython.core.display.HTML object>"
      ]
     },
     "metadata": {},
     "output_type": "display_data"
    },
    {
     "name": "stdout",
     "output_type": "stream",
     "text": [
      "Give me the name of the author of My Son, My Son, What Have Ye Done? {'entities': [(24, 30, 'role'), (34, 68, 'movie')]}\n",
      "Missing movie label\n"
     ]
    },
    {
     "data": {
      "text/html": [
       "<span class=\"tex2jax_ignore\"><div class=\"entities\" style=\"line-height: 2.5; direction: ltr\">I'd like to know the \n",
       "<mark class=\"entity\" style=\"background: #ddd; padding: 0.45em 0.6em; margin: 0 0.25em; line-height: 1; border-radius: 0.35em;\">\n",
       "    developer\n",
       "    <span style=\"font-size: 0.8em; font-weight: bold; line-height: 1; border-radius: 0.35em; vertical-align: middle; margin-left: 0.5rem\">role</span>\n",
       "</mark>\n",
       "'s name for \n",
       "<mark class=\"entity\" style=\"background: #ddd; padding: 0.45em 0.6em; margin: 0 0.25em; line-height: 1; border-radius: 0.35em;\">\n",
       "    Who Killed the Electric Car\n",
       "    <span style=\"font-size: 0.8em; font-weight: bold; line-height: 1; border-radius: 0.35em; vertical-align: middle; margin-left: 0.5rem\">movie</span>\n",
       "</mark>\n",
       "?</div></span>"
      ],
      "text/plain": [
       "<IPython.core.display.HTML object>"
      ]
     },
     "metadata": {},
     "output_type": "display_data"
    },
    {
     "name": "stdout",
     "output_type": "stream",
     "text": [
      "I'd like to know the developer's name for Who Killed the Electric Car? {'entities': [(21, 30, 'role'), (42, 70, 'movie')]}\n",
      "Missing movie label\n"
     ]
    },
    {
     "data": {
      "text/html": [
       "<span class=\"tex2jax_ignore\"><div class=\"entities\" style=\"line-height: 2.5; direction: ltr\">I'd like to know the \n",
       "<mark class=\"entity\" style=\"background: #ddd; padding: 0.45em 0.6em; margin: 0 0.25em; line-height: 1; border-radius: 0.35em;\">\n",
       "    cast\n",
       "    <span style=\"font-size: 0.8em; font-weight: bold; line-height: 1; border-radius: 0.35em; vertical-align: middle; margin-left: 0.5rem\">role</span>\n",
       "</mark>\n",
       "'s name for \n",
       "<mark class=\"entity\" style=\"background: #ddd; padding: 0.45em 0.6em; margin: 0 0.25em; line-height: 1; border-radius: 0.35em;\">\n",
       "    1971\n",
       "    <span style=\"font-size: 0.8em; font-weight: bold; line-height: 1; border-radius: 0.35em; vertical-align: middle; margin-left: 0.5rem\">year</span>\n",
       "</mark>\n",
       "</div></span>"
      ],
      "text/plain": [
       "<IPython.core.display.HTML object>"
      ]
     },
     "metadata": {},
     "output_type": "display_data"
    },
    {
     "name": "stdout",
     "output_type": "stream",
     "text": [
      "I'd like to know the cast's name for 1971 {'entities': [(21, 25, 'role'), (37, 41, 'movie')]}\n",
      "Missing year label\n"
     ]
    },
    {
     "data": {
      "text/html": [
       "<span class=\"tex2jax_ignore\"><div class=\"entities\" style=\"line-height: 2.5; direction: ltr\">Give me the \n",
       "<mark class=\"entity\" style=\"background: #ddd; padding: 0.45em 0.6em; margin: 0 0.25em; line-height: 1; border-radius: 0.35em;\">\n",
       "    animator\n",
       "    <span style=\"font-size: 0.8em; font-weight: bold; line-height: 1; border-radius: 0.35em; vertical-align: middle; margin-left: 0.5rem\">role</span>\n",
       "</mark>\n",
       " of \n",
       "<mark class=\"entity\" style=\"background: #ddd; padding: 0.45em 0.6em; margin: 0 0.25em; line-height: 1; border-radius: 0.35em;\">\n",
       "    Shall We Kiss\n",
       "    <span style=\"font-size: 0.8em; font-weight: bold; line-height: 1; border-radius: 0.35em; vertical-align: middle; margin-left: 0.5rem\">movie</span>\n",
       "</mark>\n",
       "?</div></span>"
      ],
      "text/plain": [
       "<IPython.core.display.HTML object>"
      ]
     },
     "metadata": {},
     "output_type": "display_data"
    },
    {
     "name": "stdout",
     "output_type": "stream",
     "text": [
      "Give me the animator of Shall We Kiss? {'entities': [(12, 20, 'role'), (24, 38, 'movie')]}\n",
      "Missing movie label\n"
     ]
    },
    {
     "data": {
      "text/html": [
       "<span class=\"tex2jax_ignore\"><div class=\"entities\" style=\"line-height: 2.5; direction: ltr\">Tell me the \n",
       "<mark class=\"entity\" style=\"background: #ddd; padding: 0.45em 0.6em; margin: 0 0.25em; line-height: 1; border-radius: 0.35em;\">\n",
       "    film crew member\n",
       "    <span style=\"font-size: 0.8em; font-weight: bold; line-height: 1; border-radius: 0.35em; vertical-align: middle; margin-left: 0.5rem\">role</span>\n",
       "</mark>\n",
       " behind \n",
       "<mark class=\"entity\" style=\"background: #ddd; padding: 0.45em 0.6em; margin: 0 0.25em; line-height: 1; border-radius: 0.35em;\">\n",
       "    Is the Man Who Is Tall Happy\n",
       "    <span style=\"font-size: 0.8em; font-weight: bold; line-height: 1; border-radius: 0.35em; vertical-align: middle; margin-left: 0.5rem\">movie</span>\n",
       "</mark>\n",
       "?</div></span>"
      ],
      "text/plain": [
       "<IPython.core.display.HTML object>"
      ]
     },
     "metadata": {},
     "output_type": "display_data"
    },
    {
     "name": "stdout",
     "output_type": "stream",
     "text": [
      "Tell me the film crew member behind Is the Man Who Is Tall Happy? {'entities': [(12, 28, 'role'), (36, 65, 'movie')]}\n",
      "Missing movie label\n"
     ]
    },
    {
     "data": {
      "text/html": [
       "<span class=\"tex2jax_ignore\"><div class=\"entities\" style=\"line-height: 2.5; direction: ltr\">Tell me the \n",
       "<mark class=\"entity\" style=\"background: #ddd; padding: 0.45em 0.6em; margin: 0 0.25em; line-height: 1; border-radius: 0.35em;\">\n",
       "    screenwriter\n",
       "    <span style=\"font-size: 0.8em; font-weight: bold; line-height: 1; border-radius: 0.35em; vertical-align: middle; margin-left: 0.5rem\">role</span>\n",
       "</mark>\n",
       " of \n",
       "<mark class=\"entity\" style=\"background: #ddd; padding: 0.45em 0.6em; margin: 0 0.25em; line-height: 1; border-radius: 0.35em;\">\n",
       "    What Next, Corporal Hargrove\n",
       "    <span style=\"font-size: 0.8em; font-weight: bold; line-height: 1; border-radius: 0.35em; vertical-align: middle; margin-left: 0.5rem\">movie</span>\n",
       "</mark>\n",
       "?</div></span>"
      ],
      "text/plain": [
       "<IPython.core.display.HTML object>"
      ]
     },
     "metadata": {},
     "output_type": "display_data"
    },
    {
     "name": "stdout",
     "output_type": "stream",
     "text": [
      "Tell me the screenwriter of What Next, Corporal Hargrove? {'entities': [(12, 24, 'role'), (28, 57, 'movie')]}\n",
      "Missing movie label\n"
     ]
    },
    {
     "data": {
      "text/html": [
       "<span class=\"tex2jax_ignore\"><div class=\"entities\" style=\"line-height: 2.5; direction: ltr\">Give me the \n",
       "<mark class=\"entity\" style=\"background: #ddd; padding: 0.45em 0.6em; margin: 0 0.25em; line-height: 1; border-radius: 0.35em;\">\n",
       "    choreographer\n",
       "    <span style=\"font-size: 0.8em; font-weight: bold; line-height: 1; border-radius: 0.35em; vertical-align: middle; margin-left: 0.5rem\">role</span>\n",
       "</mark>\n",
       " of \n",
       "<mark class=\"entity\" style=\"background: #ddd; padding: 0.45em 0.6em; margin: 0 0.25em; line-height: 1; border-radius: 0.35em;\">\n",
       "    Hur många kramar finns det i världen\n",
       "    <span style=\"font-size: 0.8em; font-weight: bold; line-height: 1; border-radius: 0.35em; vertical-align: middle; margin-left: 0.5rem\">movie</span>\n",
       "</mark>\n",
       "?</div></span>"
      ],
      "text/plain": [
       "<IPython.core.display.HTML object>"
      ]
     },
     "metadata": {},
     "output_type": "display_data"
    },
    {
     "name": "stdout",
     "output_type": "stream",
     "text": [
      "Give me the choreographer of Hur många kramar finns det i världen? {'entities': [(12, 25, 'role'), (29, 66, 'movie')]}\n",
      "Missing movie label\n"
     ]
    },
    {
     "data": {
      "text/html": [
       "<span class=\"tex2jax_ignore\"><div class=\"entities\" style=\"line-height: 2.5; direction: ltr\">Identify the \n",
       "<mark class=\"entity\" style=\"background: #ddd; padding: 0.45em 0.6em; margin: 0 0.25em; line-height: 1; border-radius: 0.35em;\">\n",
       "    voice actor\n",
       "    <span style=\"font-size: 0.8em; font-weight: bold; line-height: 1; border-radius: 0.35em; vertical-align: middle; margin-left: 0.5rem\">role</span>\n",
       "</mark>\n",
       " of \n",
       "<mark class=\"entity\" style=\"background: #ddd; padding: 0.45em 0.6em; margin: 0 0.25em; line-height: 1; border-radius: 0.35em;\">\n",
       "    What the Bleep Do We Know!\n",
       "    <span style=\"font-size: 0.8em; font-weight: bold; line-height: 1; border-radius: 0.35em; vertical-align: middle; margin-left: 0.5rem\">movie</span>\n",
       "</mark>\n",
       "?</div></span>"
      ],
      "text/plain": [
       "<IPython.core.display.HTML object>"
      ]
     },
     "metadata": {},
     "output_type": "display_data"
    },
    {
     "name": "stdout",
     "output_type": "stream",
     "text": [
      "Identify the voice actor of What the Bleep Do We Know!? {'entities': [(13, 24, 'role'), (28, 55, 'movie')]}\n",
      "Missing movie label\n"
     ]
    },
    {
     "data": {
      "text/html": [
       "<span class=\"tex2jax_ignore\"><div class=\"entities\" style=\"line-height: 2.5; direction: ltr\">Who oversaw the making of \n",
       "<mark class=\"entity\" style=\"background: #ddd; padding: 0.45em 0.6em; margin: 0 0.25em; line-height: 1; border-radius: 0.35em;\">\n",
       "    Who's Your Caddy\n",
       "    <span style=\"font-size: 0.8em; font-weight: bold; line-height: 1; border-radius: 0.35em; vertical-align: middle; margin-left: 0.5rem\">movie</span>\n",
       "</mark>\n",
       "?</div></span>"
      ],
      "text/plain": [
       "<IPython.core.display.HTML object>"
      ]
     },
     "metadata": {},
     "output_type": "display_data"
    },
    {
     "name": "stdout",
     "output_type": "stream",
     "text": [
      "Who oversaw the making of Who's Your Caddy? {'entities': [(26, 43, 'movie')]}\n",
      "Missing movie label\n"
     ]
    },
    {
     "data": {
      "text/html": [
       "<span class=\"tex2jax_ignore\"><div class=\"entities\" style=\"line-height: 2.5; direction: ltr\">I'd like to know the \n",
       "<mark class=\"entity\" style=\"background: #ddd; padding: 0.45em 0.6em; margin: 0 0.25em; line-height: 1; border-radius: 0.35em;\">\n",
       "    operator\n",
       "    <span style=\"font-size: 0.8em; font-weight: bold; line-height: 1; border-radius: 0.35em; vertical-align: middle; margin-left: 0.5rem\">role</span>\n",
       "</mark>\n",
       "'s name for \n",
       "<mark class=\"entity\" style=\"background: #ddd; padding: 0.45em 0.6em; margin: 0 0.25em; line-height: 1; border-radius: 0.35em;\">\n",
       "    Whoever Slew Auntie Roo\n",
       "    <span style=\"font-size: 0.8em; font-weight: bold; line-height: 1; border-radius: 0.35em; vertical-align: middle; margin-left: 0.5rem\">movie</span>\n",
       "</mark>\n",
       "?</div></span>"
      ],
      "text/plain": [
       "<IPython.core.display.HTML object>"
      ]
     },
     "metadata": {},
     "output_type": "display_data"
    },
    {
     "name": "stdout",
     "output_type": "stream",
     "text": [
      "I'd like to know the operator's name for Whoever Slew Auntie Roo? {'entities': [(21, 29, 'role'), (41, 65, 'movie')]}\n",
      "Missing movie label\n"
     ]
    },
    {
     "data": {
      "text/html": [
       "<span class=\"tex2jax_ignore\"><div class=\"entities\" style=\"line-height: 2.5; direction: ltr\">Who is the \n",
       "<mark class=\"entity\" style=\"background: #ddd; padding: 0.45em 0.6em; margin: 0 0.25em; line-height: 1; border-radius: 0.35em;\">\n",
       "    art director\n",
       "    <span style=\"font-size: 0.8em; font-weight: bold; line-height: 1; border-radius: 0.35em; vertical-align: middle; margin-left: 0.5rem\">role</span>\n",
       "</mark>\n",
       " of the \n",
       "<mark class=\"entity\" style=\"background: #ddd; padding: 0.45em 0.6em; margin: 0 0.25em; line-height: 1; border-radius: 0.35em;\">\n",
       "    film Director's Cut\n",
       "    <span style=\"font-size: 0.8em; font-weight: bold; line-height: 1; border-radius: 0.35em; vertical-align: middle; margin-left: 0.5rem\">role</span>\n",
       "</mark>\n",
       "?</div></span>"
      ],
      "text/plain": [
       "<IPython.core.display.HTML object>"
      ]
     },
     "metadata": {},
     "output_type": "display_data"
    },
    {
     "name": "stdout",
     "output_type": "stream",
     "text": [
      "Who is the art director of the film Director's Cut? {'entities': [(11, 23, 'role'), (36, 50, 'movie'), (15, 21, 'action')]}\n",
      "Missing role label\n"
     ]
    },
    {
     "data": {
      "text/html": [
       "<span class=\"tex2jax_ignore\"><div class=\"entities\" style=\"line-height: 2.5; direction: ltr\">Tell me the \n",
       "<mark class=\"entity\" style=\"background: #ddd; padding: 0.45em 0.6em; margin: 0 0.25em; line-height: 1; border-radius: 0.35em;\">\n",
       "    cast\n",
       "    <span style=\"font-size: 0.8em; font-weight: bold; line-height: 1; border-radius: 0.35em; vertical-align: middle; margin-left: 0.5rem\">role</span>\n",
       "</mark>\n",
       " behind \n",
       "<mark class=\"entity\" style=\"background: #ddd; padding: 0.45em 0.6em; margin: 0 0.25em; line-height: 1; border-radius: 0.35em;\">\n",
       "    Tell\n",
       "    <span style=\"font-size: 0.8em; font-weight: bold; line-height: 1; border-radius: 0.35em; vertical-align: middle; margin-left: 0.5rem\">movie</span>\n",
       "</mark>\n",
       "</div></span>"
      ],
      "text/plain": [
       "<IPython.core.display.HTML object>"
      ]
     },
     "metadata": {},
     "output_type": "display_data"
    },
    {
     "name": "stdout",
     "output_type": "stream",
     "text": [
      "Tell me the cast behind Tell {'entities': [(12, 16, 'role'), (0, 4, 'movie')]}\n",
      "Missing movie label\n"
     ]
    },
    {
     "data": {
      "text/html": [
       "<span class=\"tex2jax_ignore\"><div class=\"entities\" style=\"line-height: 2.5; direction: ltr\">Tell me the \n",
       "<mark class=\"entity\" style=\"background: #ddd; padding: 0.45em 0.6em; margin: 0 0.25em; line-height: 1; border-radius: 0.35em;\">\n",
       "    developer\n",
       "    <span style=\"font-size: 0.8em; font-weight: bold; line-height: 1; border-radius: 0.35em; vertical-align: middle; margin-left: 0.5rem\">role</span>\n",
       "</mark>\n",
       " behind \n",
       "<mark class=\"entity\" style=\"background: #ddd; padding: 0.45em 0.6em; margin: 0 0.25em; line-height: 1; border-radius: 0.35em;\">\n",
       "    What's New Pussycat\n",
       "    <span style=\"font-size: 0.8em; font-weight: bold; line-height: 1; border-radius: 0.35em; vertical-align: middle; margin-left: 0.5rem\">movie</span>\n",
       "</mark>\n",
       "?</div></span>"
      ],
      "text/plain": [
       "<IPython.core.display.HTML object>"
      ]
     },
     "metadata": {},
     "output_type": "display_data"
    },
    {
     "name": "stdout",
     "output_type": "stream",
     "text": [
      "Tell me the developer behind What's New Pussycat? {'entities': [(12, 21, 'role'), (29, 49, 'movie')]}\n",
      "Missing movie label\n"
     ]
    },
    {
     "data": {
      "text/html": [
       "<span class=\"tex2jax_ignore\"><div class=\"entities\" style=\"line-height: 2.5; direction: ltr\">Tell me the \n",
       "<mark class=\"entity\" style=\"background: #ddd; padding: 0.45em 0.6em; margin: 0 0.25em; line-height: 1; border-radius: 0.35em;\">\n",
       "    developer\n",
       "    <span style=\"font-size: 0.8em; font-weight: bold; line-height: 1; border-radius: 0.35em; vertical-align: middle; margin-left: 0.5rem\">role</span>\n",
       "</mark>\n",
       " for \n",
       "<mark class=\"entity\" style=\"background: #ddd; padding: 0.45em 0.6em; margin: 0 0.25em; line-height: 1; border-radius: 0.35em;\">\n",
       "    10 Billion - What's on\n",
       "    <span style=\"font-size: 0.8em; font-weight: bold; line-height: 1; border-radius: 0.35em; vertical-align: middle; margin-left: 0.5rem\">movie</span>\n",
       "</mark>\n",
       " your plate?</div></span>"
      ],
      "text/plain": [
       "<IPython.core.display.HTML object>"
      ]
     },
     "metadata": {},
     "output_type": "display_data"
    },
    {
     "name": "stdout",
     "output_type": "stream",
     "text": [
      "Tell me the developer for 10 Billion - What's on your plate? {'entities': [(12, 21, 'role'), (26, 60, 'movie')]}\n",
      "Missing movie label\n"
     ]
    },
    {
     "data": {
      "text/html": [
       "<span class=\"tex2jax_ignore\"><div class=\"entities\" style=\"line-height: 2.5; direction: ltr\">Who is the \n",
       "<mark class=\"entity\" style=\"background: #ddd; padding: 0.45em 0.6em; margin: 0 0.25em; line-height: 1; border-radius: 0.35em;\">\n",
       "    choreographer\n",
       "    <span style=\"font-size: 0.8em; font-weight: bold; line-height: 1; border-radius: 0.35em; vertical-align: middle; margin-left: 0.5rem\">role</span>\n",
       "</mark>\n",
       " of the film \n",
       "<mark class=\"entity\" style=\"background: #ddd; padding: 0.45em 0.6em; margin: 0 0.25em; line-height: 1; border-radius: 0.35em;\">\n",
       "    Takeshis\n",
       "    <span style=\"font-size: 0.8em; font-weight: bold; line-height: 1; border-radius: 0.35em; vertical-align: middle; margin-left: 0.5rem\">movie</span>\n",
       "</mark>\n",
       "'?</div></span>"
      ],
      "text/plain": [
       "<IPython.core.display.HTML object>"
      ]
     },
     "metadata": {},
     "output_type": "display_data"
    },
    {
     "name": "stdout",
     "output_type": "stream",
     "text": [
      "Who is the choreographer of the film Takeshis'? {'entities': [(11, 24, 'role'), (37, 46, 'movie')]}\n",
      "Missing movie label\n"
     ]
    },
    {
     "data": {
      "text/html": [
       "<span class=\"tex2jax_ignore\"><div class=\"entities\" style=\"line-height: 2.5; direction: ltr\">Who is the \n",
       "<mark class=\"entity\" style=\"background: #ddd; padding: 0.45em 0.6em; margin: 0 0.25em; line-height: 1; border-radius: 0.35em;\">\n",
       "    director\n",
       "    <span style=\"font-size: 0.8em; font-weight: bold; line-height: 1; border-radius: 0.35em; vertical-align: middle; margin-left: 0.5rem\">role</span>\n",
       "</mark>\n",
       " of the film \n",
       "<mark class=\"entity\" style=\"background: #ddd; padding: 0.45em 0.6em; margin: 0 0.25em; line-height: 1; border-radius: 0.35em;\">\n",
       "    1911\n",
       "    <span style=\"font-size: 0.8em; font-weight: bold; line-height: 1; border-radius: 0.35em; vertical-align: middle; margin-left: 0.5rem\">year</span>\n",
       "</mark>\n",
       "?</div></span>"
      ],
      "text/plain": [
       "<IPython.core.display.HTML object>"
      ]
     },
     "metadata": {},
     "output_type": "display_data"
    },
    {
     "name": "stdout",
     "output_type": "stream",
     "text": [
      "Who is the director of the film 1911? {'entities': [(11, 19, 'role'), (32, 36, 'movie'), (11, 17, 'action')]}\n",
      "Missing year label\n"
     ]
    },
    {
     "data": {
      "text/html": [
       "<span class=\"tex2jax_ignore\"><div class=\"entities\" style=\"line-height: 2.5; direction: ltr\">Tell me the \n",
       "<mark class=\"entity\" style=\"background: #ddd; padding: 0.45em 0.6em; margin: 0 0.25em; line-height: 1; border-radius: 0.35em;\">\n",
       "    performer\n",
       "    <span style=\"font-size: 0.8em; font-weight: bold; line-height: 1; border-radius: 0.35em; vertical-align: middle; margin-left: 0.5rem\">role</span>\n",
       "</mark>\n",
       " for \n",
       "<mark class=\"entity\" style=\"background: #ddd; padding: 0.45em 0.6em; margin: 0 0.25em; line-height: 1; border-radius: 0.35em;\">\n",
       "    Why Not Me\n",
       "    <span style=\"font-size: 0.8em; font-weight: bold; line-height: 1; border-radius: 0.35em; vertical-align: middle; margin-left: 0.5rem\">movie</span>\n",
       "</mark>\n",
       "?</div></span>"
      ],
      "text/plain": [
       "<IPython.core.display.HTML object>"
      ]
     },
     "metadata": {},
     "output_type": "display_data"
    },
    {
     "name": "stdout",
     "output_type": "stream",
     "text": [
      "Tell me the performer for Why Not Me? {'entities': [(12, 21, 'role'), (26, 37, 'movie')]}\n",
      "Missing movie label\n"
     ]
    },
    {
     "data": {
      "text/html": [
       "<span class=\"tex2jax_ignore\"><div class=\"entities\" style=\"line-height: 2.5; direction: ltr\">Tell me the \n",
       "<mark class=\"entity\" style=\"background: #ddd; padding: 0.45em 0.6em; margin: 0 0.25em; line-height: 1; border-radius: 0.35em;\">\n",
       "    developer\n",
       "    <span style=\"font-size: 0.8em; font-weight: bold; line-height: 1; border-radius: 0.35em; vertical-align: middle; margin-left: 0.5rem\">role</span>\n",
       "</mark>\n",
       " of \n",
       "<mark class=\"entity\" style=\"background: #ddd; padding: 0.45em 0.6em; margin: 0 0.25em; line-height: 1; border-radius: 0.35em;\">\n",
       "    Where Is Kyra\n",
       "    <span style=\"font-size: 0.8em; font-weight: bold; line-height: 1; border-radius: 0.35em; vertical-align: middle; margin-left: 0.5rem\">movie</span>\n",
       "</mark>\n",
       "?</div></span>"
      ],
      "text/plain": [
       "<IPython.core.display.HTML object>"
      ]
     },
     "metadata": {},
     "output_type": "display_data"
    },
    {
     "name": "stdout",
     "output_type": "stream",
     "text": [
      "Tell me the developer of Where Is Kyra? {'entities': [(12, 21, 'role'), (25, 39, 'movie')]}\n",
      "Missing movie label\n"
     ]
    },
    {
     "data": {
      "text/html": [
       "<span class=\"tex2jax_ignore\"><div class=\"entities\" style=\"line-height: 2.5; direction: ltr\">I'd like to know the \n",
       "<mark class=\"entity\" style=\"background: #ddd; padding: 0.45em 0.6em; margin: 0 0.25em; line-height: 1; border-radius: 0.35em;\">\n",
       "    operator\n",
       "    <span style=\"font-size: 0.8em; font-weight: bold; line-height: 1; border-radius: 0.35em; vertical-align: middle; margin-left: 0.5rem\">role</span>\n",
       "</mark>\n",
       "'s name for \n",
       "<mark class=\"entity\" style=\"background: #ddd; padding: 0.45em 0.6em; margin: 0 0.25em; line-height: 1; border-radius: 0.35em;\">\n",
       "    Casual Sex\n",
       "    <span style=\"font-size: 0.8em; font-weight: bold; line-height: 1; border-radius: 0.35em; vertical-align: middle; margin-left: 0.5rem\">movie</span>\n",
       "</mark>\n",
       "?</div></span>"
      ],
      "text/plain": [
       "<IPython.core.display.HTML object>"
      ]
     },
     "metadata": {},
     "output_type": "display_data"
    },
    {
     "name": "stdout",
     "output_type": "stream",
     "text": [
      "I'd like to know the operator's name for Casual Sex? {'entities': [(21, 29, 'role'), (41, 52, 'movie')]}\n",
      "Missing movie label\n"
     ]
    },
    {
     "data": {
      "text/html": [
       "<span class=\"tex2jax_ignore\"><div class=\"entities\" style=\"line-height: 2.5; direction: ltr\">What is the \n",
       "<mark class=\"entity\" style=\"background: #ddd; padding: 0.45em 0.6em; margin: 0 0.25em; line-height: 1; border-radius: 0.35em;\">\n",
       "    voice actor\n",
       "    <span style=\"font-size: 0.8em; font-weight: bold; line-height: 1; border-radius: 0.35em; vertical-align: middle; margin-left: 0.5rem\">role</span>\n",
       "</mark>\n",
       "'s name for the movie \n",
       "<mark class=\"entity\" style=\"background: #ddd; padding: 0.45em 0.6em; margin: 0 0.25em; line-height: 1; border-radius: 0.35em;\">\n",
       "    Losing is a matter of\n",
       "    <span style=\"font-size: 0.8em; font-weight: bold; line-height: 1; border-radius: 0.35em; vertical-align: middle; margin-left: 0.5rem\">movie</span>\n",
       "</mark>\n",
       " method?</div></span>"
      ],
      "text/plain": [
       "<IPython.core.display.HTML object>"
      ]
     },
     "metadata": {},
     "output_type": "display_data"
    },
    {
     "name": "stdout",
     "output_type": "stream",
     "text": [
      "What is the voice actor's name for the movie Losing is a matter of method? {'entities': [(12, 23, 'role'), (45, 73, 'movie')]}\n",
      "Missing movie label\n"
     ]
    },
    {
     "data": {
      "text/html": [
       "<span class=\"tex2jax_ignore\"><div class=\"entities\" style=\"line-height: 2.5; direction: ltr\">What is the \n",
       "<mark class=\"entity\" style=\"background: #ddd; padding: 0.45em 0.6em; margin: 0 0.25em; line-height: 1; border-radius: 0.35em;\">\n",
       "    operator\n",
       "    <span style=\"font-size: 0.8em; font-weight: bold; line-height: 1; border-radius: 0.35em; vertical-align: middle; margin-left: 0.5rem\">role</span>\n",
       "</mark>\n",
       "'s name for the movie \n",
       "<mark class=\"entity\" style=\"background: #ddd; padding: 0.45em 0.6em; margin: 0 0.25em; line-height: 1; border-radius: 0.35em;\">\n",
       "    Puerto\n",
       "    <span style=\"font-size: 0.8em; font-weight: bold; line-height: 1; border-radius: 0.35em; vertical-align: middle; margin-left: 0.5rem\">movie</span>\n",
       "</mark>\n",
       " Ricans in \n",
       "<mark class=\"entity\" style=\"background: #ddd; padding: 0.45em 0.6em; margin: 0 0.25em; line-height: 1; border-radius: 0.35em;\">\n",
       "    Paris\n",
       "    <span style=\"font-size: 0.8em; font-weight: bold; line-height: 1; border-radius: 0.35em; vertical-align: middle; margin-left: 0.5rem\">movie</span>\n",
       "</mark>\n",
       "?</div></span>"
      ],
      "text/plain": [
       "<IPython.core.display.HTML object>"
      ]
     },
     "metadata": {},
     "output_type": "display_data"
    },
    {
     "name": "stdout",
     "output_type": "stream",
     "text": [
      "What is the operator's name for the movie Puerto Ricans in Paris? {'entities': [(12, 20, 'role'), (42, 64, 'movie')]}\n",
      "Missing movie label\n"
     ]
    },
    {
     "data": {
      "text/html": [
       "<span class=\"tex2jax_ignore\"><div class=\"entities\" style=\"line-height: 2.5; direction: ltr\">What is the \n",
       "<mark class=\"entity\" style=\"background: #ddd; padding: 0.45em 0.6em; margin: 0 0.25em; line-height: 1; border-radius: 0.35em;\">\n",
       "    operator\n",
       "    <span style=\"font-size: 0.8em; font-weight: bold; line-height: 1; border-radius: 0.35em; vertical-align: middle; margin-left: 0.5rem\">role</span>\n",
       "</mark>\n",
       "'s name for the movie \n",
       "<mark class=\"entity\" style=\"background: #ddd; padding: 0.45em 0.6em; margin: 0 0.25em; line-height: 1; border-radius: 0.35em;\">\n",
       "    Puerto\n",
       "    <span style=\"font-size: 0.8em; font-weight: bold; line-height: 1; border-radius: 0.35em; vertical-align: middle; margin-left: 0.5rem\">movie</span>\n",
       "</mark>\n",
       " Ricans in \n",
       "<mark class=\"entity\" style=\"background: #ddd; padding: 0.45em 0.6em; margin: 0 0.25em; line-height: 1; border-radius: 0.35em;\">\n",
       "    Paris\n",
       "    <span style=\"font-size: 0.8em; font-weight: bold; line-height: 1; border-radius: 0.35em; vertical-align: middle; margin-left: 0.5rem\">movie</span>\n",
       "</mark>\n",
       "?</div></span>"
      ],
      "text/plain": [
       "<IPython.core.display.HTML object>"
      ]
     },
     "metadata": {},
     "output_type": "display_data"
    },
    {
     "name": "stdout",
     "output_type": "stream",
     "text": [
      "What is the operator's name for the movie Puerto Ricans in Paris? {'entities': [(12, 20, 'role'), (42, 64, 'movie')]}\n",
      "Missing movie label\n"
     ]
    },
    {
     "data": {
      "text/html": [
       "<span class=\"tex2jax_ignore\"><div class=\"entities\" style=\"line-height: 2.5; direction: ltr\">Give me the \n",
       "<mark class=\"entity\" style=\"background: #ddd; padding: 0.45em 0.6em; margin: 0 0.25em; line-height: 1; border-radius: 0.35em;\">\n",
       "    musical conductor\n",
       "    <span style=\"font-size: 0.8em; font-weight: bold; line-height: 1; border-radius: 0.35em; vertical-align: middle; margin-left: 0.5rem\">role</span>\n",
       "</mark>\n",
       " of \n",
       "<mark class=\"entity\" style=\"background: #ddd; padding: 0.45em 0.6em; margin: 0 0.25em; line-height: 1; border-radius: 0.35em;\">\n",
       "    Why Me\n",
       "    <span style=\"font-size: 0.8em; font-weight: bold; line-height: 1; border-radius: 0.35em; vertical-align: middle; margin-left: 0.5rem\">movie</span>\n",
       "</mark>\n",
       "?</div></span>"
      ],
      "text/plain": [
       "<IPython.core.display.HTML object>"
      ]
     },
     "metadata": {},
     "output_type": "display_data"
    },
    {
     "name": "stdout",
     "output_type": "stream",
     "text": [
      "Give me the musical conductor of Why Me? {'entities': [(12, 29, 'role'), (33, 40, 'movie')]}\n",
      "Missing movie label\n"
     ]
    },
    {
     "data": {
      "text/html": [
       "<span class=\"tex2jax_ignore\"><div class=\"entities\" style=\"line-height: 2.5; direction: ltr\">I'd like to know the \n",
       "<mark class=\"entity\" style=\"background: #ddd; padding: 0.45em 0.6em; margin: 0 0.25em; line-height: 1; border-radius: 0.35em;\">\n",
       "    narrator\n",
       "    <span style=\"font-size: 0.8em; font-weight: bold; line-height: 1; border-radius: 0.35em; vertical-align: middle; margin-left: 0.5rem\">role</span>\n",
       "</mark>\n",
       "'s name for \n",
       "<mark class=\"entity\" style=\"background: #ddd; padding: 0.45em 0.6em; margin: 0 0.25em; line-height: 1; border-radius: 0.35em;\">\n",
       "    Cool Kids Do\n",
       "    <span style=\"font-size: 0.8em; font-weight: bold; line-height: 1; border-radius: 0.35em; vertical-align: middle; margin-left: 0.5rem\">movie</span>\n",
       "</mark>\n",
       "n't Cry</div></span>"
      ],
      "text/plain": [
       "<IPython.core.display.HTML object>"
      ]
     },
     "metadata": {},
     "output_type": "display_data"
    },
    {
     "name": "stdout",
     "output_type": "stream",
     "text": [
      "I'd like to know the narrator's name for Cool Kids Don't Cry {'entities': [(21, 29, 'role'), (41, 60, 'movie')]}\n",
      "Missing movie label\n"
     ]
    },
    {
     "data": {
      "text/html": [
       "<span class=\"tex2jax_ignore\"><div class=\"entities\" style=\"line-height: 2.5; direction: ltr\">Give me the name of the \n",
       "<mark class=\"entity\" style=\"background: #ddd; padding: 0.45em 0.6em; margin: 0 0.25em; line-height: 1; border-radius: 0.35em;\">\n",
       "    creator\n",
       "    <span style=\"font-size: 0.8em; font-weight: bold; line-height: 1; border-radius: 0.35em; vertical-align: middle; margin-left: 0.5rem\">role</span>\n",
       "</mark>\n",
       " of \n",
       "<mark class=\"entity\" style=\"background: #ddd; padding: 0.45em 0.6em; margin: 0 0.25em; line-height: 1; border-radius: 0.35em;\">\n",
       "    California Dreamin\n",
       "    <span style=\"font-size: 0.8em; font-weight: bold; line-height: 1; border-radius: 0.35em; vertical-align: middle; margin-left: 0.5rem\">movie</span>\n",
       "</mark>\n",
       "'</div></span>"
      ],
      "text/plain": [
       "<IPython.core.display.HTML object>"
      ]
     },
     "metadata": {},
     "output_type": "display_data"
    },
    {
     "name": "stdout",
     "output_type": "stream",
     "text": [
      "Give me the name of the creator of California Dreamin' {'entities': [(24, 31, 'role'), (35, 54, 'movie')]}\n",
      "Missing movie label\n"
     ]
    },
    {
     "data": {
      "text/html": [
       "<span class=\"tex2jax_ignore\"><div class=\"entities\" style=\"line-height: 2.5; direction: ltr\">Identify the \n",
       "<mark class=\"entity\" style=\"background: #ddd; padding: 0.45em 0.6em; margin: 0 0.25em; line-height: 1; border-radius: 0.35em;\">\n",
       "    art director\n",
       "    <span style=\"font-size: 0.8em; font-weight: bold; line-height: 1; border-radius: 0.35em; vertical-align: middle; margin-left: 0.5rem\">role</span>\n",
       "</mark>\n",
       " of \n",
       "<mark class=\"entity\" style=\"background: #ddd; padding: 0.45em 0.6em; margin: 0 0.25em; line-height: 1; border-radius: 0.35em;\">\n",
       "    Who's Afraid of Virginia Woolf\n",
       "    <span style=\"font-size: 0.8em; font-weight: bold; line-height: 1; border-radius: 0.35em; vertical-align: middle; margin-left: 0.5rem\">movie</span>\n",
       "</mark>\n",
       "?</div></span>"
      ],
      "text/plain": [
       "<IPython.core.display.HTML object>"
      ]
     },
     "metadata": {},
     "output_type": "display_data"
    },
    {
     "name": "stdout",
     "output_type": "stream",
     "text": [
      "Identify the art director of Who's Afraid of Virginia Woolf? {'entities': [(13, 25, 'role'), (29, 60, 'movie'), (17, 23, 'action')]}\n",
      "Missing movie label\n"
     ]
    },
    {
     "data": {
      "text/html": [
       "<span class=\"tex2jax_ignore\"><div class=\"entities\" style=\"line-height: 2.5; direction: ltr\">Who oversaw the making of \n",
       "<mark class=\"entity\" style=\"background: #ddd; padding: 0.45em 0.6em; margin: 0 0.25em; line-height: 1; border-radius: 0.35em;\">\n",
       "    Mais qui a tué Pamela Rose\n",
       "    <span style=\"font-size: 0.8em; font-weight: bold; line-height: 1; border-radius: 0.35em; vertical-align: middle; margin-left: 0.5rem\">movie</span>\n",
       "</mark>\n",
       "?</div></span>"
      ],
      "text/plain": [
       "<IPython.core.display.HTML object>"
      ]
     },
     "metadata": {},
     "output_type": "display_data"
    },
    {
     "name": "stdout",
     "output_type": "stream",
     "text": [
      "Who oversaw the making of Mais qui a tué Pamela Rose? {'entities': [(26, 53, 'movie')]}\n",
      "Missing movie label\n"
     ]
    },
    {
     "data": {
      "text/html": [
       "<span class=\"tex2jax_ignore\"><div class=\"entities\" style=\"line-height: 2.5; direction: ltr\">Give me the name of the \n",
       "<mark class=\"entity\" style=\"background: #ddd; padding: 0.45em 0.6em; margin: 0 0.25em; line-height: 1; border-radius: 0.35em;\">\n",
       "    producer\n",
       "    <span style=\"font-size: 0.8em; font-weight: bold; line-height: 1; border-radius: 0.35em; vertical-align: middle; margin-left: 0.5rem\">role</span>\n",
       "</mark>\n",
       " of \n",
       "<mark class=\"entity\" style=\"background: #ddd; padding: 0.45em 0.6em; margin: 0 0.25em; line-height: 1; border-radius: 0.35em;\">\n",
       "    What Have You Done to Solange\n",
       "    <span style=\"font-size: 0.8em; font-weight: bold; line-height: 1; border-radius: 0.35em; vertical-align: middle; margin-left: 0.5rem\">movie</span>\n",
       "</mark>\n",
       "?</div></span>"
      ],
      "text/plain": [
       "<IPython.core.display.HTML object>"
      ]
     },
     "metadata": {},
     "output_type": "display_data"
    },
    {
     "name": "stdout",
     "output_type": "stream",
     "text": [
      "Give me the name of the producer of What Have You Done to Solange? {'entities': [(24, 32, 'role'), (36, 66, 'movie'), (24, 31, 'action')]}\n",
      "Missing movie label\n"
     ]
    },
    {
     "data": {
      "text/html": [
       "<span class=\"tex2jax_ignore\"><div class=\"entities\" style=\"line-height: 2.5; direction: ltr\">Tell me the \n",
       "<mark class=\"entity\" style=\"background: #ddd; padding: 0.45em 0.6em; margin: 0 0.25em; line-height: 1; border-radius: 0.35em;\">\n",
       "    cast member\n",
       "    <span style=\"font-size: 0.8em; font-weight: bold; line-height: 1; border-radius: 0.35em; vertical-align: middle; margin-left: 0.5rem\">role</span>\n",
       "</mark>\n",
       " behind \n",
       "<mark class=\"entity\" style=\"background: #ddd; padding: 0.45em 0.6em; margin: 0 0.25em; line-height: 1; border-radius: 0.35em;\">\n",
       "    What’s Going On\n",
       "    <span style=\"font-size: 0.8em; font-weight: bold; line-height: 1; border-radius: 0.35em; vertical-align: middle; margin-left: 0.5rem\">movie</span>\n",
       "</mark>\n",
       "?</div></span>"
      ],
      "text/plain": [
       "<IPython.core.display.HTML object>"
      ]
     },
     "metadata": {},
     "output_type": "display_data"
    },
    {
     "name": "stdout",
     "output_type": "stream",
     "text": [
      "Tell me the cast member behind What’s Going On? {'entities': [(12, 23, 'role'), (31, 47, 'movie')]}\n",
      "Missing movie label\n"
     ]
    },
    {
     "data": {
      "text/html": [
       "<span class=\"tex2jax_ignore\"><div class=\"entities\" style=\"line-height: 2.5; direction: ltr\">Tell me the \n",
       "<mark class=\"entity\" style=\"background: #ddd; padding: 0.45em 0.6em; margin: 0 0.25em; line-height: 1; border-radius: 0.35em;\">\n",
       "    screenwriter\n",
       "    <span style=\"font-size: 0.8em; font-weight: bold; line-height: 1; border-radius: 0.35em; vertical-align: middle; margin-left: 0.5rem\">role</span>\n",
       "</mark>\n",
       " of \n",
       "<mark class=\"entity\" style=\"background: #ddd; padding: 0.45em 0.6em; margin: 0 0.25em; line-height: 1; border-radius: 0.35em;\">\n",
       "    What's the Matter with Helen\n",
       "    <span style=\"font-size: 0.8em; font-weight: bold; line-height: 1; border-radius: 0.35em; vertical-align: middle; margin-left: 0.5rem\">movie</span>\n",
       "</mark>\n",
       "?</div></span>"
      ],
      "text/plain": [
       "<IPython.core.display.HTML object>"
      ]
     },
     "metadata": {},
     "output_type": "display_data"
    },
    {
     "name": "stdout",
     "output_type": "stream",
     "text": [
      "Tell me the screenwriter of What's the Matter with Helen? {'entities': [(12, 24, 'role'), (28, 57, 'movie')]}\n",
      "Missing movie label\n"
     ]
    },
    {
     "data": {
      "text/html": [
       "<span class=\"tex2jax_ignore\"><div class=\"entities\" style=\"line-height: 2.5; direction: ltr\">I'd like to know the \n",
       "<mark class=\"entity\" style=\"background: #ddd; padding: 0.45em 0.6em; margin: 0 0.25em; line-height: 1; border-radius: 0.35em;\">\n",
       "    creator\n",
       "    <span style=\"font-size: 0.8em; font-weight: bold; line-height: 1; border-radius: 0.35em; vertical-align: middle; margin-left: 0.5rem\">role</span>\n",
       "</mark>\n",
       "'s name for \n",
       "<mark class=\"entity\" style=\"background: #ddd; padding: 0.45em 0.6em; margin: 0 0.25em; line-height: 1; border-radius: 0.35em;\">\n",
       "    Will It Snow for Christmas\n",
       "    <span style=\"font-size: 0.8em; font-weight: bold; line-height: 1; border-radius: 0.35em; vertical-align: middle; margin-left: 0.5rem\">movie</span>\n",
       "</mark>\n",
       "?</div></span>"
      ],
      "text/plain": [
       "<IPython.core.display.HTML object>"
      ]
     },
     "metadata": {},
     "output_type": "display_data"
    },
    {
     "name": "stdout",
     "output_type": "stream",
     "text": [
      "I'd like to know the creator's name for Will It Snow for Christmas? {'entities': [(21, 28, 'role'), (40, 67, 'movie')]}\n",
      "Missing movie label\n"
     ]
    },
    {
     "data": {
      "text/html": [
       "<span class=\"tex2jax_ignore\"><div class=\"entities\" style=\"line-height: 2.5; direction: ltr\">Identify the \n",
       "<mark class=\"entity\" style=\"background: #ddd; padding: 0.45em 0.6em; margin: 0 0.25em; line-height: 1; border-radius: 0.35em;\">\n",
       "    art director\n",
       "    <span style=\"font-size: 0.8em; font-weight: bold; line-height: 1; border-radius: 0.35em; vertical-align: middle; margin-left: 0.5rem\">role</span>\n",
       "</mark>\n",
       " of \n",
       "<mark class=\"entity\" style=\"background: #ddd; padding: 0.45em 0.6em; margin: 0 0.25em; line-height: 1; border-radius: 0.35em;\">\n",
       "    Ça se soigne\n",
       "    <span style=\"font-size: 0.8em; font-weight: bold; line-height: 1; border-radius: 0.35em; vertical-align: middle; margin-left: 0.5rem\">movie</span>\n",
       "</mark>\n",
       "?</div></span>"
      ],
      "text/plain": [
       "<IPython.core.display.HTML object>"
      ]
     },
     "metadata": {},
     "output_type": "display_data"
    },
    {
     "name": "stdout",
     "output_type": "stream",
     "text": [
      "Identify the art director of Ça se soigne? {'entities': [(13, 25, 'role'), (29, 42, 'movie'), (17, 23, 'action')]}\n",
      "Missing movie label\n"
     ]
    },
    {
     "data": {
      "text/html": [
       "<span class=\"tex2jax_ignore\"><div class=\"entities\" style=\"line-height: 2.5; direction: ltr\">Who oversaw the making of \n",
       "<mark class=\"entity\" style=\"background: #ddd; padding: 0.45em 0.6em; margin: 0 0.25em; line-height: 1; border-radius: 0.35em;\">\n",
       "    1776\n",
       "    <span style=\"font-size: 0.8em; font-weight: bold; line-height: 1; border-radius: 0.35em; vertical-align: middle; margin-left: 0.5rem\">year</span>\n",
       "</mark>\n",
       "</div></span>"
      ],
      "text/plain": [
       "<IPython.core.display.HTML object>"
      ]
     },
     "metadata": {},
     "output_type": "display_data"
    },
    {
     "name": "stdout",
     "output_type": "stream",
     "text": [
      "Who oversaw the making of 1776 {'entities': [(26, 30, 'movie')]}\n",
      "Missing year label\n"
     ]
    },
    {
     "data": {
      "text/html": [
       "<span class=\"tex2jax_ignore\"><div class=\"entities\" style=\"line-height: 2.5; direction: ltr\">Give me the \n",
       "<mark class=\"entity\" style=\"background: #ddd; padding: 0.45em 0.6em; margin: 0 0.25em; line-height: 1; border-radius: 0.35em;\">\n",
       "    publisher\n",
       "    <span style=\"font-size: 0.8em; font-weight: bold; line-height: 1; border-radius: 0.35em; vertical-align: middle; margin-left: 0.5rem\">role</span>\n",
       "</mark>\n",
       " of \n",
       "<mark class=\"entity\" style=\"background: #ddd; padding: 0.45em 0.6em; margin: 0 0.25em; line-height: 1; border-radius: 0.35em;\">\n",
       "    Where in the World Is Osama Bin Laden\n",
       "    <span style=\"font-size: 0.8em; font-weight: bold; line-height: 1; border-radius: 0.35em; vertical-align: middle; margin-left: 0.5rem\">movie</span>\n",
       "</mark>\n",
       "?</div></span>"
      ],
      "text/plain": [
       "<IPython.core.display.HTML object>"
      ]
     },
     "metadata": {},
     "output_type": "display_data"
    },
    {
     "name": "stdout",
     "output_type": "stream",
     "text": [
      "Give me the publisher of Where in the World Is Osama Bin Laden? {'entities': [(12, 21, 'role'), (25, 63, 'movie')]}\n",
      "Missing movie label\n"
     ]
    },
    {
     "data": {
      "text/html": [
       "<span class=\"tex2jax_ignore\"><div class=\"entities\" style=\"line-height: 2.5; direction: ltr\">Identify the \n",
       "<mark class=\"entity\" style=\"background: #ddd; padding: 0.45em 0.6em; margin: 0 0.25em; line-height: 1; border-radius: 0.35em;\">\n",
       "    film crew member\n",
       "    <span style=\"font-size: 0.8em; font-weight: bold; line-height: 1; border-radius: 0.35em; vertical-align: middle; margin-left: 0.5rem\">role</span>\n",
       "</mark>\n",
       " of \n",
       "<mark class=\"entity\" style=\"background: #ddd; padding: 0.45em 0.6em; margin: 0 0.25em; line-height: 1; border-radius: 0.35em;\">\n",
       "    Did You Hear About the Morgans\n",
       "    <span style=\"font-size: 0.8em; font-weight: bold; line-height: 1; border-radius: 0.35em; vertical-align: middle; margin-left: 0.5rem\">movie</span>\n",
       "</mark>\n",
       "?</div></span>"
      ],
      "text/plain": [
       "<IPython.core.display.HTML object>"
      ]
     },
     "metadata": {},
     "output_type": "display_data"
    },
    {
     "name": "stdout",
     "output_type": "stream",
     "text": [
      "Identify the film crew member of Did You Hear About the Morgans? {'entities': [(13, 29, 'role'), (33, 64, 'movie')]}\n",
      "Missing movie label\n"
     ]
    },
    {
     "data": {
      "text/html": [
       "<span class=\"tex2jax_ignore\"><div class=\"entities\" style=\"line-height: 2.5; direction: ltr\">I'm curious about the person who \n",
       "<mark class=\"entity\" style=\"background: #ddd; padding: 0.45em 0.6em; margin: 0 0.25em; line-height: 1; border-radius: 0.35em;\">\n",
       "    directed\n",
       "    <span style=\"font-size: 0.8em; font-weight: bold; line-height: 1; border-radius: 0.35em; vertical-align: middle; margin-left: 0.5rem\">action</span>\n",
       "</mark>\n",
       " \n",
       "<mark class=\"entity\" style=\"background: #ddd; padding: 0.45em 0.6em; margin: 0 0.25em; line-height: 1; border-radius: 0.35em;\">\n",
       "    What's Your Number\n",
       "    <span style=\"font-size: 0.8em; font-weight: bold; line-height: 1; border-radius: 0.35em; vertical-align: middle; margin-left: 0.5rem\">movie</span>\n",
       "</mark>\n",
       "?</div></span>"
      ],
      "text/plain": [
       "<IPython.core.display.HTML object>"
      ]
     },
     "metadata": {},
     "output_type": "display_data"
    },
    {
     "name": "stdout",
     "output_type": "stream",
     "text": [
      "I'm curious about the person who directed What's Your Number? {'entities': [(42, 61, 'movie'), (33, 41, 'action'), (33, 39, 'action')]}\n",
      "Missing movie label\n"
     ]
    },
    {
     "data": {
      "text/html": [
       "<span class=\"tex2jax_ignore\"><div class=\"entities\" style=\"line-height: 2.5; direction: ltr\">Tell me the \n",
       "<mark class=\"entity\" style=\"background: #ddd; padding: 0.45em 0.6em; margin: 0 0.25em; line-height: 1; border-radius: 0.35em;\">\n",
       "    performer\n",
       "    <span style=\"font-size: 0.8em; font-weight: bold; line-height: 1; border-radius: 0.35em; vertical-align: middle; margin-left: 0.5rem\">role</span>\n",
       "</mark>\n",
       " for \n",
       "<mark class=\"entity\" style=\"background: #ddd; padding: 0.45em 0.6em; margin: 0 0.25em; line-height: 1; border-radius: 0.35em;\">\n",
       "    Who Killed Pasolini\n",
       "    <span style=\"font-size: 0.8em; font-weight: bold; line-height: 1; border-radius: 0.35em; vertical-align: middle; margin-left: 0.5rem\">movie</span>\n",
       "</mark>\n",
       "?</div></span>"
      ],
      "text/plain": [
       "<IPython.core.display.HTML object>"
      ]
     },
     "metadata": {},
     "output_type": "display_data"
    },
    {
     "name": "stdout",
     "output_type": "stream",
     "text": [
      "Tell me the performer for Who Killed Pasolini? {'entities': [(12, 21, 'role'), (26, 46, 'movie')]}\n",
      "Missing movie label\n"
     ]
    },
    {
     "data": {
      "text/html": [
       "<span class=\"tex2jax_ignore\"><div class=\"entities\" style=\"line-height: 2.5; direction: ltr\">Who was in charge of directing \n",
       "<mark class=\"entity\" style=\"background: #ddd; padding: 0.45em 0.6em; margin: 0 0.25em; line-height: 1; border-radius: 0.35em;\">\n",
       "    Dumplin\n",
       "    <span style=\"font-size: 0.8em; font-weight: bold; line-height: 1; border-radius: 0.35em; vertical-align: middle; margin-left: 0.5rem\">movie</span>\n",
       "</mark>\n",
       "'?</div></span>"
      ],
      "text/plain": [
       "<IPython.core.display.HTML object>"
      ]
     },
     "metadata": {},
     "output_type": "display_data"
    },
    {
     "name": "stdout",
     "output_type": "stream",
     "text": [
      "Who was in charge of directing Dumplin'? {'entities': [(31, 39, 'movie'), (21, 27, 'action')]}\n",
      "Missing movie label\n"
     ]
    },
    {
     "data": {
      "text/html": [
       "<span class=\"tex2jax_ignore\"><div class=\"entities\" style=\"line-height: 2.5; direction: ltr\">Tell me the \n",
       "<mark class=\"entity\" style=\"background: #ddd; padding: 0.45em 0.6em; margin: 0 0.25em; line-height: 1; border-radius: 0.35em;\">\n",
       "    member of the crew of\n",
       "    <span style=\"font-size: 0.8em; font-weight: bold; line-height: 1; border-radius: 0.35em; vertical-align: middle; margin-left: 0.5rem\">role</span>\n",
       "</mark>\n",
       " behind \n",
       "<mark class=\"entity\" style=\"background: #ddd; padding: 0.45em 0.6em; margin: 0 0.25em; line-height: 1; border-radius: 0.35em;\">\n",
       "    Quo Vadis, Baby\n",
       "    <span style=\"font-size: 0.8em; font-weight: bold; line-height: 1; border-radius: 0.35em; vertical-align: middle; margin-left: 0.5rem\">movie</span>\n",
       "</mark>\n",
       "?</div></span>"
      ],
      "text/plain": [
       "<IPython.core.display.HTML object>"
      ]
     },
     "metadata": {},
     "output_type": "display_data"
    },
    {
     "name": "stdout",
     "output_type": "stream",
     "text": [
      "Tell me the member of the crew of behind Quo Vadis, Baby? {'entities': [(12, 33, 'role'), (41, 57, 'movie')]}\n",
      "Missing movie label\n"
     ]
    },
    {
     "data": {
      "text/html": [
       "<span class=\"tex2jax_ignore\"><div class=\"entities\" style=\"line-height: 2.5; direction: ltr\">Tell me the \n",
       "<mark class=\"entity\" style=\"background: #ddd; padding: 0.45em 0.6em; margin: 0 0.25em; line-height: 1; border-radius: 0.35em;\">\n",
       "    director of photography\n",
       "    <span style=\"font-size: 0.8em; font-weight: bold; line-height: 1; border-radius: 0.35em; vertical-align: middle; margin-left: 0.5rem\">role</span>\n",
       "</mark>\n",
       " for \n",
       "<mark class=\"entity\" style=\"background: #ddd; padding: 0.45em 0.6em; margin: 0 0.25em; line-height: 1; border-radius: 0.35em;\">\n",
       "    Do You Know Claudia\n",
       "    <span style=\"font-size: 0.8em; font-weight: bold; line-height: 1; border-radius: 0.35em; vertical-align: middle; margin-left: 0.5rem\">movie</span>\n",
       "</mark>\n",
       "?</div></span>"
      ],
      "text/plain": [
       "<IPython.core.display.HTML object>"
      ]
     },
     "metadata": {},
     "output_type": "display_data"
    },
    {
     "name": "stdout",
     "output_type": "stream",
     "text": [
      "Tell me the director of photography for Do You Know Claudia? {'entities': [(12, 35, 'role'), (40, 60, 'movie'), (12, 18, 'action')]}\n",
      "Missing movie label\n"
     ]
    },
    {
     "data": {
      "text/html": [
       "<span class=\"tex2jax_ignore\"><div class=\"entities\" style=\"line-height: 2.5; direction: ltr\">Give me the \n",
       "<mark class=\"entity\" style=\"background: #ddd; padding: 0.45em 0.6em; margin: 0 0.25em; line-height: 1; border-radius: 0.35em;\">\n",
       "    screenwriter\n",
       "    <span style=\"font-size: 0.8em; font-weight: bold; line-height: 1; border-radius: 0.35em; vertical-align: middle; margin-left: 0.5rem\">role</span>\n",
       "</mark>\n",
       " of \n",
       "<mark class=\"entity\" style=\"background: #ddd; padding: 0.45em 0.6em; margin: 0 0.25em; line-height: 1; border-radius: 0.35em;\">\n",
       "    Is Anybody There\n",
       "    <span style=\"font-size: 0.8em; font-weight: bold; line-height: 1; border-radius: 0.35em; vertical-align: middle; margin-left: 0.5rem\">movie</span>\n",
       "</mark>\n",
       "?</div></span>"
      ],
      "text/plain": [
       "<IPython.core.display.HTML object>"
      ]
     },
     "metadata": {},
     "output_type": "display_data"
    },
    {
     "name": "stdout",
     "output_type": "stream",
     "text": [
      "Give me the screenwriter of Is Anybody There? {'entities': [(12, 24, 'role'), (28, 45, 'movie')]}\n",
      "Missing movie label\n"
     ]
    },
    {
     "data": {
      "text/html": [
       "<span class=\"tex2jax_ignore\"><div class=\"entities\" style=\"line-height: 2.5; direction: ltr\">Who was in charge of directing \n",
       "<mark class=\"entity\" style=\"background: #ddd; padding: 0.45em 0.6em; margin: 0 0.25em; line-height: 1; border-radius: 0.35em;\">\n",
       "    Hangin\n",
       "    <span style=\"font-size: 0.8em; font-weight: bold; line-height: 1; border-radius: 0.35em; vertical-align: middle; margin-left: 0.5rem\">movie</span>\n",
       "</mark>\n",
       "' with the Homeboys?</div></span>"
      ],
      "text/plain": [
       "<IPython.core.display.HTML object>"
      ]
     },
     "metadata": {},
     "output_type": "display_data"
    },
    {
     "name": "stdout",
     "output_type": "stream",
     "text": [
      "Who was in charge of directing Hangin' with the Homeboys? {'entities': [(31, 56, 'movie'), (21, 27, 'action')]}\n",
      "Missing movie label\n"
     ]
    },
    {
     "data": {
      "text/html": [
       "<span class=\"tex2jax_ignore\"><div class=\"entities\" style=\"line-height: 2.5; direction: ltr\">Give me the \n",
       "<mark class=\"entity\" style=\"background: #ddd; padding: 0.45em 0.6em; margin: 0 0.25em; line-height: 1; border-radius: 0.35em;\">\n",
       "    film editor\n",
       "    <span style=\"font-size: 0.8em; font-weight: bold; line-height: 1; border-radius: 0.35em; vertical-align: middle; margin-left: 0.5rem\">role</span>\n",
       "</mark>\n",
       " of \n",
       "<mark class=\"entity\" style=\"background: #ddd; padding: 0.45em 0.6em; margin: 0 0.25em; line-height: 1; border-radius: 0.35em;\">\n",
       "    Boys Do\n",
       "    <span style=\"font-size: 0.8em; font-weight: bold; line-height: 1; border-radius: 0.35em; vertical-align: middle; margin-left: 0.5rem\">movie</span>\n",
       "</mark>\n",
       "n't Cry</div></span>"
      ],
      "text/plain": [
       "<IPython.core.display.HTML object>"
      ]
     },
     "metadata": {},
     "output_type": "display_data"
    },
    {
     "name": "stdout",
     "output_type": "stream",
     "text": [
      "Give me the film editor of Boys Don't Cry {'entities': [(12, 23, 'role'), (27, 41, 'movie'), (17, 21, 'action')]}\n",
      "Missing movie label\n"
     ]
    },
    {
     "data": {
      "text/html": [
       "<span class=\"tex2jax_ignore\"><div class=\"entities\" style=\"line-height: 2.5; direction: ltr\">I'm curious about the person who \n",
       "<mark class=\"entity\" style=\"background: #ddd; padding: 0.45em 0.6em; margin: 0 0.25em; line-height: 1; border-radius: 0.35em;\">\n",
       "    wrote\n",
       "    <span style=\"font-size: 0.8em; font-weight: bold; line-height: 1; border-radius: 0.35em; vertical-align: middle; margin-left: 0.5rem\">action</span>\n",
       "</mark>\n",
       " \n",
       "<mark class=\"entity\" style=\"background: #ddd; padding: 0.45em 0.6em; margin: 0 0.25em; line-height: 1; border-radius: 0.35em;\">\n",
       "    Where Is Fred\n",
       "    <span style=\"font-size: 0.8em; font-weight: bold; line-height: 1; border-radius: 0.35em; vertical-align: middle; margin-left: 0.5rem\">movie</span>\n",
       "</mark>\n",
       "?</div></span>"
      ],
      "text/plain": [
       "<IPython.core.display.HTML object>"
      ]
     },
     "metadata": {},
     "output_type": "display_data"
    },
    {
     "name": "stdout",
     "output_type": "stream",
     "text": [
      "I'm curious about the person who wrote Where Is Fred? {'entities': [(39, 53, 'movie'), (33, 38, 'action')]}\n",
      "Missing movie label\n"
     ]
    },
    {
     "data": {
      "text/html": [
       "<span class=\"tex2jax_ignore\"><div class=\"entities\" style=\"line-height: 2.5; direction: ltr\">Identify the \n",
       "<mark class=\"entity\" style=\"background: #ddd; padding: 0.45em 0.6em; margin: 0 0.25em; line-height: 1; border-radius: 0.35em;\">\n",
       "    performer\n",
       "    <span style=\"font-size: 0.8em; font-weight: bold; line-height: 1; border-radius: 0.35em; vertical-align: middle; margin-left: 0.5rem\">role</span>\n",
       "</mark>\n",
       " of \n",
       "<mark class=\"entity\" style=\"background: #ddd; padding: 0.45em 0.6em; margin: 0 0.25em; line-height: 1; border-radius: 0.35em;\">\n",
       "    Those who are\n",
       "    <span style=\"font-size: 0.8em; font-weight: bold; line-height: 1; border-radius: 0.35em; vertical-align: middle; margin-left: 0.5rem\">movie</span>\n",
       "</mark>\n",
       " fine</div></span>"
      ],
      "text/plain": [
       "<IPython.core.display.HTML object>"
      ]
     },
     "metadata": {},
     "output_type": "display_data"
    },
    {
     "name": "stdout",
     "output_type": "stream",
     "text": [
      "Identify the performer of Those who are fine {'entities': [(13, 22, 'role'), (26, 44, 'movie')]}\n",
      "Missing movie label\n"
     ]
    },
    {
     "data": {
      "text/html": [
       "<span class=\"tex2jax_ignore\"><div class=\"entities\" style=\"line-height: 2.5; direction: ltr\">Tell me the \n",
       "<mark class=\"entity\" style=\"background: #ddd; padding: 0.45em 0.6em; margin: 0 0.25em; line-height: 1; border-radius: 0.35em;\">\n",
       "    participant\n",
       "    <span style=\"font-size: 0.8em; font-weight: bold; line-height: 1; border-radius: 0.35em; vertical-align: middle; margin-left: 0.5rem\">role</span>\n",
       "</mark>\n",
       " behind \n",
       "<mark class=\"entity\" style=\"background: #ddd; padding: 0.45em 0.6em; margin: 0 0.25em; line-height: 1; border-radius: 0.35em;\">\n",
       "    Anthony Kaun Hai\n",
       "    <span style=\"font-size: 0.8em; font-weight: bold; line-height: 1; border-radius: 0.35em; vertical-align: middle; margin-left: 0.5rem\">movie</span>\n",
       "</mark>\n",
       "?</div></span>"
      ],
      "text/plain": [
       "<IPython.core.display.HTML object>"
      ]
     },
     "metadata": {},
     "output_type": "display_data"
    },
    {
     "name": "stdout",
     "output_type": "stream",
     "text": [
      "Tell me the participant behind Anthony Kaun Hai? {'entities': [(12, 23, 'role'), (31, 48, 'movie')]}\n",
      "Missing movie label\n"
     ]
    },
    {
     "data": {
      "text/html": [
       "<span class=\"tex2jax_ignore\"><div class=\"entities\" style=\"line-height: 2.5; direction: ltr\">Who was the \n",
       "<mark class=\"entity\" style=\"background: #ddd; padding: 0.45em 0.6em; margin: 0 0.25em; line-height: 1; border-radius: 0.35em;\">\n",
       "    screenwriter\n",
       "    <span style=\"font-size: 0.8em; font-weight: bold; line-height: 1; border-radius: 0.35em; vertical-align: middle; margin-left: 0.5rem\">role</span>\n",
       "</mark>\n",
       " of \n",
       "<mark class=\"entity\" style=\"background: #ddd; padding: 0.45em 0.6em; margin: 0 0.25em; line-height: 1; border-radius: 0.35em;\">\n",
       "    Any Questions for Ben\n",
       "    <span style=\"font-size: 0.8em; font-weight: bold; line-height: 1; border-radius: 0.35em; vertical-align: middle; margin-left: 0.5rem\">movie</span>\n",
       "</mark>\n",
       "?</div></span>"
      ],
      "text/plain": [
       "<IPython.core.display.HTML object>"
      ]
     },
     "metadata": {},
     "output_type": "display_data"
    },
    {
     "name": "stdout",
     "output_type": "stream",
     "text": [
      "Who was the screenwriter of Any Questions for Ben? {'entities': [(12, 24, 'role'), (28, 50, 'movie')]}\n",
      "Missing movie label\n"
     ]
    },
    {
     "data": {
      "text/html": [
       "<span class=\"tex2jax_ignore\"><div class=\"entities\" style=\"line-height: 2.5; direction: ltr\">I'm curious about the person who \n",
       "<mark class=\"entity\" style=\"background: #ddd; padding: 0.45em 0.6em; margin: 0 0.25em; line-height: 1; border-radius: 0.35em;\">\n",
       "    directed\n",
       "    <span style=\"font-size: 0.8em; font-weight: bold; line-height: 1; border-radius: 0.35em; vertical-align: middle; margin-left: 0.5rem\">action</span>\n",
       "</mark>\n",
       " \n",
       "<mark class=\"entity\" style=\"background: #ddd; padding: 0.45em 0.6em; margin: 0 0.25em; line-height: 1; border-radius: 0.35em;\">\n",
       "    If Not Us, Who\n",
       "    <span style=\"font-size: 0.8em; font-weight: bold; line-height: 1; border-radius: 0.35em; vertical-align: middle; margin-left: 0.5rem\">movie</span>\n",
       "</mark>\n",
       "?</div></span>"
      ],
      "text/plain": [
       "<IPython.core.display.HTML object>"
      ]
     },
     "metadata": {},
     "output_type": "display_data"
    },
    {
     "name": "stdout",
     "output_type": "stream",
     "text": [
      "I'm curious about the person who directed If Not Us, Who? {'entities': [(42, 57, 'movie'), (33, 41, 'action'), (33, 39, 'action')]}\n",
      "Missing movie label\n"
     ]
    },
    {
     "data": {
      "text/html": [
       "<span class=\"tex2jax_ignore\"><div class=\"entities\" style=\"line-height: 2.5; direction: ltr\">Who was the \n",
       "<mark class=\"entity\" style=\"background: #ddd; padding: 0.45em 0.6em; margin: 0 0.25em; line-height: 1; border-radius: 0.35em;\">\n",
       "    film editor\n",
       "    <span style=\"font-size: 0.8em; font-weight: bold; line-height: 1; border-radius: 0.35em; vertical-align: middle; margin-left: 0.5rem\">role</span>\n",
       "</mark>\n",
       " of \n",
       "<mark class=\"entity\" style=\"background: #ddd; padding: 0.45em 0.6em; margin: 0 0.25em; line-height: 1; border-radius: 0.35em;\">\n",
       "    I Saw What You\n",
       "    <span style=\"font-size: 0.8em; font-weight: bold; line-height: 1; border-radius: 0.35em; vertical-align: middle; margin-left: 0.5rem\">movie</span>\n",
       "</mark>\n",
       " Did</div></span>"
      ],
      "text/plain": [
       "<IPython.core.display.HTML object>"
      ]
     },
     "metadata": {},
     "output_type": "display_data"
    },
    {
     "name": "stdout",
     "output_type": "stream",
     "text": [
      "Who was the film editor of I Saw What You Did {'entities': [(12, 23, 'role'), (27, 45, 'movie'), (17, 21, 'action')]}\n",
      "Missing movie label\n"
     ]
    },
    {
     "data": {
      "text/html": [
       "<span class=\"tex2jax_ignore\"><div class=\"entities\" style=\"line-height: 2.5; direction: ltr\">Give me the \n",
       "<mark class=\"entity\" style=\"background: #ddd; padding: 0.45em 0.6em; margin: 0 0.25em; line-height: 1; border-radius: 0.35em;\">\n",
       "    participant\n",
       "    <span style=\"font-size: 0.8em; font-weight: bold; line-height: 1; border-radius: 0.35em; vertical-align: middle; margin-left: 0.5rem\">role</span>\n",
       "</mark>\n",
       " of \n",
       "<mark class=\"entity\" style=\"background: #ddd; padding: 0.45em 0.6em; margin: 0 0.25em; line-height: 1; border-radius: 0.35em;\">\n",
       "    Won't You Be My Neighbor\n",
       "    <span style=\"font-size: 0.8em; font-weight: bold; line-height: 1; border-radius: 0.35em; vertical-align: middle; margin-left: 0.5rem\">movie</span>\n",
       "</mark>\n",
       "?</div></span>"
      ],
      "text/plain": [
       "<IPython.core.display.HTML object>"
      ]
     },
     "metadata": {},
     "output_type": "display_data"
    },
    {
     "name": "stdout",
     "output_type": "stream",
     "text": [
      "Give me the participant of Won't You Be My Neighbor? {'entities': [(12, 23, 'role'), (27, 52, 'movie')]}\n",
      "Missing movie label\n"
     ]
    },
    {
     "data": {
      "text/html": [
       "<span class=\"tex2jax_ignore\"><div class=\"entities\" style=\"line-height: 2.5; direction: ltr\">What is the \n",
       "<mark class=\"entity\" style=\"background: #ddd; padding: 0.45em 0.6em; margin: 0 0.25em; line-height: 1; border-radius: 0.35em;\">\n",
       "    art director\n",
       "    <span style=\"font-size: 0.8em; font-weight: bold; line-height: 1; border-radius: 0.35em; vertical-align: middle; margin-left: 0.5rem\">role</span>\n",
       "</mark>\n",
       "'s name for the movie \n",
       "<mark class=\"entity\" style=\"background: #ddd; padding: 0.45em 0.6em; margin: 0 0.25em; line-height: 1; border-radius: 0.35em;\">\n",
       "    Safari – Match me if you\n",
       "    <span style=\"font-size: 0.8em; font-weight: bold; line-height: 1; border-radius: 0.35em; vertical-align: middle; margin-left: 0.5rem\">movie</span>\n",
       "</mark>\n",
       " can?</div></span>"
      ],
      "text/plain": [
       "<IPython.core.display.HTML object>"
      ]
     },
     "metadata": {},
     "output_type": "display_data"
    },
    {
     "name": "stdout",
     "output_type": "stream",
     "text": [
      "What is the art director's name for the movie Safari – Match me if you can? {'entities': [(12, 24, 'role'), (46, 74, 'movie'), (16, 22, 'action')]}\n",
      "Missing movie label\n"
     ]
    },
    {
     "data": {
      "text/html": [
       "<span class=\"tex2jax_ignore\"><div class=\"entities\" style=\"line-height: 2.5; direction: ltr\">Who \n",
       "<mark class=\"entity\" style=\"background: #ddd; padding: 0.45em 0.6em; margin: 0 0.25em; line-height: 1; border-radius: 0.35em;\">\n",
       "    producer\n",
       "    <span style=\"font-size: 0.8em; font-weight: bold; line-height: 1; border-radius: 0.35em; vertical-align: middle; margin-left: 0.5rem\">role</span>\n",
       "</mark>\n",
       " in \n",
       "<mark class=\"entity\" style=\"background: #ddd; padding: 0.45em 0.6em; margin: 0 0.25em; line-height: 1; border-radius: 0.35em;\">\n",
       "    A Witness\n",
       "    <span style=\"font-size: 0.8em; font-weight: bold; line-height: 1; border-radius: 0.35em; vertical-align: middle; margin-left: 0.5rem\">movie</span>\n",
       "</mark>\n",
       " out of the \n",
       "<mark class=\"entity\" style=\"background: #ddd; padding: 0.45em 0.6em; margin: 0 0.25em; line-height: 1; border-radius: 0.35em;\">\n",
       "    Blue\n",
       "    <span style=\"font-size: 0.8em; font-weight: bold; line-height: 1; border-radius: 0.35em; vertical-align: middle; margin-left: 0.5rem\">movie</span>\n",
       "</mark>\n",
       "?</div></span>"
      ],
      "text/plain": [
       "<IPython.core.display.HTML object>"
      ]
     },
     "metadata": {},
     "output_type": "display_data"
    },
    {
     "name": "stdout",
     "output_type": "stream",
     "text": [
      "Who producer in A Witness out of the Blue? {'entities': [(4, 12, 'role'), (16, 41, 'movie'), (4, 11, 'action')]}\n",
      "Missing movie label\n"
     ]
    },
    {
     "data": {
      "text/html": [
       "<span class=\"tex2jax_ignore\"><div class=\"entities\" style=\"line-height: 2.5; direction: ltr\">Who \n",
       "<mark class=\"entity\" style=\"background: #ddd; padding: 0.45em 0.6em; margin: 0 0.25em; line-height: 1; border-radius: 0.35em;\">\n",
       "    producer\n",
       "    <span style=\"font-size: 0.8em; font-weight: bold; line-height: 1; border-radius: 0.35em; vertical-align: middle; margin-left: 0.5rem\">role</span>\n",
       "</mark>\n",
       " in \n",
       "<mark class=\"entity\" style=\"background: #ddd; padding: 0.45em 0.6em; margin: 0 0.25em; line-height: 1; border-radius: 0.35em;\">\n",
       "    A Witness\n",
       "    <span style=\"font-size: 0.8em; font-weight: bold; line-height: 1; border-radius: 0.35em; vertical-align: middle; margin-left: 0.5rem\">movie</span>\n",
       "</mark>\n",
       " out of the \n",
       "<mark class=\"entity\" style=\"background: #ddd; padding: 0.45em 0.6em; margin: 0 0.25em; line-height: 1; border-radius: 0.35em;\">\n",
       "    Blue\n",
       "    <span style=\"font-size: 0.8em; font-weight: bold; line-height: 1; border-radius: 0.35em; vertical-align: middle; margin-left: 0.5rem\">movie</span>\n",
       "</mark>\n",
       "?</div></span>"
      ],
      "text/plain": [
       "<IPython.core.display.HTML object>"
      ]
     },
     "metadata": {},
     "output_type": "display_data"
    },
    {
     "name": "stdout",
     "output_type": "stream",
     "text": [
      "Who producer in A Witness out of the Blue? {'entities': [(4, 12, 'role'), (16, 41, 'movie'), (4, 11, 'action')]}\n",
      "Missing movie label\n"
     ]
    },
    {
     "data": {
      "text/html": [
       "<span class=\"tex2jax_ignore\"><div class=\"entities\" style=\"line-height: 2.5; direction: ltr\">Give me the \n",
       "<mark class=\"entity\" style=\"background: #ddd; padding: 0.45em 0.6em; margin: 0 0.25em; line-height: 1; border-radius: 0.35em;\">\n",
       "    film crew member\n",
       "    <span style=\"font-size: 0.8em; font-weight: bold; line-height: 1; border-radius: 0.35em; vertical-align: middle; margin-left: 0.5rem\">role</span>\n",
       "</mark>\n",
       " of \n",
       "<mark class=\"entity\" style=\"background: #ddd; padding: 0.45em 0.6em; margin: 0 0.25em; line-height: 1; border-radius: 0.35em;\">\n",
       "    Why Has Bodhi-Dharma Left for the East\n",
       "    <span style=\"font-size: 0.8em; font-weight: bold; line-height: 1; border-radius: 0.35em; vertical-align: middle; margin-left: 0.5rem\">movie</span>\n",
       "</mark>\n",
       "?</div></span>"
      ],
      "text/plain": [
       "<IPython.core.display.HTML object>"
      ]
     },
     "metadata": {},
     "output_type": "display_data"
    },
    {
     "name": "stdout",
     "output_type": "stream",
     "text": [
      "Give me the film crew member of Why Has Bodhi-Dharma Left for the East? {'entities': [(12, 28, 'role'), (32, 71, 'movie')]}\n",
      "Missing movie label\n"
     ]
    },
    {
     "data": {
      "text/html": [
       "<span class=\"tex2jax_ignore\"><div class=\"entities\" style=\"line-height: 2.5; direction: ltr\">Who oversaw the making of \n",
       "<mark class=\"entity\" style=\"background: #ddd; padding: 0.45em 0.6em; margin: 0 0.25em; line-height: 1; border-radius: 0.35em;\">\n",
       "    À cause des filles..\n",
       "    <span style=\"font-size: 0.8em; font-weight: bold; line-height: 1; border-radius: 0.35em; vertical-align: middle; margin-left: 0.5rem\">movie</span>\n",
       "</mark>\n",
       "?</div></span>"
      ],
      "text/plain": [
       "<IPython.core.display.HTML object>"
      ]
     },
     "metadata": {},
     "output_type": "display_data"
    },
    {
     "name": "stdout",
     "output_type": "stream",
     "text": [
      "Who oversaw the making of À cause des filles..? {'entities': [(26, 47, 'movie')]}\n",
      "Missing movie label\n"
     ]
    },
    {
     "data": {
      "text/html": [
       "<span class=\"tex2jax_ignore\"><div class=\"entities\" style=\"line-height: 2.5; direction: ltr\">Who \n",
       "<mark class=\"entity\" style=\"background: #ddd; padding: 0.45em 0.6em; margin: 0 0.25em; line-height: 1; border-radius: 0.35em;\">\n",
       "    director of photography\n",
       "    <span style=\"font-size: 0.8em; font-weight: bold; line-height: 1; border-radius: 0.35em; vertical-align: middle; margin-left: 0.5rem\">role</span>\n",
       "</mark>\n",
       " in \n",
       "<mark class=\"entity\" style=\"background: #ddd; padding: 0.45em 0.6em; margin: 0 0.25em; line-height: 1; border-radius: 0.35em;\">\n",
       "    Kingdom\n",
       "    <span style=\"font-size: 0.8em; font-weight: bold; line-height: 1; border-radius: 0.35em; vertical-align: middle; margin-left: 0.5rem\">year</span>\n",
       "</mark>\n",
       "?</div></span>"
      ],
      "text/plain": [
       "<IPython.core.display.HTML object>"
      ]
     },
     "metadata": {},
     "output_type": "display_data"
    },
    {
     "name": "stdout",
     "output_type": "stream",
     "text": [
      "Who director of photography in Kingdom? {'entities': [(4, 27, 'role'), (31, 38, 'movie'), (4, 10, 'action')]}\n",
      "Missing year label\n"
     ]
    },
    {
     "data": {
      "text/html": [
       "<span class=\"tex2jax_ignore\"><div class=\"entities\" style=\"line-height: 2.5; direction: ltr\">Tell me the \n",
       "<mark class=\"entity\" style=\"background: #ddd; padding: 0.45em 0.6em; margin: 0 0.25em; line-height: 1; border-radius: 0.35em;\">\n",
       "    author\n",
       "    <span style=\"font-size: 0.8em; font-weight: bold; line-height: 1; border-radius: 0.35em; vertical-align: middle; margin-left: 0.5rem\">role</span>\n",
       "</mark>\n",
       " for \n",
       "<mark class=\"entity\" style=\"background: #ddd; padding: 0.45em 0.6em; margin: 0 0.25em; line-height: 1; border-radius: 0.35em;\">\n",
       "    1917\n",
       "    <span style=\"font-size: 0.8em; font-weight: bold; line-height: 1; border-radius: 0.35em; vertical-align: middle; margin-left: 0.5rem\">year</span>\n",
       "</mark>\n",
       "</div></span>"
      ],
      "text/plain": [
       "<IPython.core.display.HTML object>"
      ]
     },
     "metadata": {},
     "output_type": "display_data"
    },
    {
     "name": "stdout",
     "output_type": "stream",
     "text": [
      "Tell me the author for 1917 {'entities': [(12, 18, 'role'), (23, 27, 'movie')]}\n",
      "Missing year label\n"
     ]
    },
    {
     "data": {
      "text/html": [
       "<span class=\"tex2jax_ignore\"><div class=\"entities\" style=\"line-height: 2.5; direction: ltr\">Tell me the \n",
       "<mark class=\"entity\" style=\"background: #ddd; padding: 0.45em 0.6em; margin: 0 0.25em; line-height: 1; border-radius: 0.35em;\">\n",
       "    actor\n",
       "    <span style=\"font-size: 0.8em; font-weight: bold; line-height: 1; border-radius: 0.35em; vertical-align: middle; margin-left: 0.5rem\">role</span>\n",
       "</mark>\n",
       " behind \n",
       "<mark class=\"entity\" style=\"background: #ddd; padding: 0.45em 0.6em; margin: 0 0.25em; line-height: 1; border-radius: 0.35em;\">\n",
       "    Kalamazoo\n",
       "    <span style=\"font-size: 0.8em; font-weight: bold; line-height: 1; border-radius: 0.35em; vertical-align: middle; margin-left: 0.5rem\">movie</span>\n",
       "</mark>\n",
       "?</div></span>"
      ],
      "text/plain": [
       "<IPython.core.display.HTML object>"
      ]
     },
     "metadata": {},
     "output_type": "display_data"
    },
    {
     "name": "stdout",
     "output_type": "stream",
     "text": [
      "Tell me the actor behind Kalamazoo? {'entities': [(12, 17, 'role'), (25, 35, 'movie')]}\n",
      "Missing movie label\n"
     ]
    },
    {
     "data": {
      "text/html": [
       "<span class=\"tex2jax_ignore\"><div class=\"entities\" style=\"line-height: 2.5; direction: ltr\">Who \n",
       "<mark class=\"entity\" style=\"background: #ddd; padding: 0.45em 0.6em; margin: 0 0.25em; line-height: 1; border-radius: 0.35em;\">\n",
       "    participant\n",
       "    <span style=\"font-size: 0.8em; font-weight: bold; line-height: 1; border-radius: 0.35em; vertical-align: middle; margin-left: 0.5rem\">role</span>\n",
       "</mark>\n",
       " in \n",
       "<mark class=\"entity\" style=\"background: #ddd; padding: 0.45em 0.6em; margin: 0 0.25em; line-height: 1; border-radius: 0.35em;\">\n",
       "    Get Rich or Die Tryin\n",
       "    <span style=\"font-size: 0.8em; font-weight: bold; line-height: 1; border-radius: 0.35em; vertical-align: middle; margin-left: 0.5rem\">movie</span>\n",
       "</mark>\n",
       "'?</div></span>"
      ],
      "text/plain": [
       "<IPython.core.display.HTML object>"
      ]
     },
     "metadata": {},
     "output_type": "display_data"
    },
    {
     "name": "stdout",
     "output_type": "stream",
     "text": [
      "Who participant in Get Rich or Die Tryin'? {'entities': [(4, 15, 'role'), (19, 41, 'movie')]}\n",
      "Missing movie label\n"
     ]
    },
    {
     "data": {
      "text/html": [
       "<span class=\"tex2jax_ignore\"><div class=\"entities\" style=\"line-height: 2.5; direction: ltr\">I'm curious about the person who \n",
       "<mark class=\"entity\" style=\"background: #ddd; padding: 0.45em 0.6em; margin: 0 0.25em; line-height: 1; border-radius: 0.35em;\">\n",
       "    wrote\n",
       "    <span style=\"font-size: 0.8em; font-weight: bold; line-height: 1; border-radius: 0.35em; vertical-align: middle; margin-left: 0.5rem\">action</span>\n",
       "</mark>\n",
       " \n",
       "<mark class=\"entity\" style=\"background: #ddd; padding: 0.45em 0.6em; margin: 0 0.25em; line-height: 1; border-radius: 0.35em;\">\n",
       "    Shall We Dance\n",
       "    <span style=\"font-size: 0.8em; font-weight: bold; line-height: 1; border-radius: 0.35em; vertical-align: middle; margin-left: 0.5rem\">movie</span>\n",
       "</mark>\n",
       "?</div></span>"
      ],
      "text/plain": [
       "<IPython.core.display.HTML object>"
      ]
     },
     "metadata": {},
     "output_type": "display_data"
    },
    {
     "name": "stdout",
     "output_type": "stream",
     "text": [
      "I'm curious about the person who wrote Shall We Dance? {'entities': [(39, 54, 'movie'), (33, 38, 'action')]}\n",
      "Missing movie label\n"
     ]
    },
    {
     "data": {
      "text/html": [
       "<span class=\"tex2jax_ignore\"><div class=\"entities\" style=\"line-height: 2.5; direction: ltr\">Give me the name of the \n",
       "<mark class=\"entity\" style=\"background: #ddd; padding: 0.45em 0.6em; margin: 0 0.25em; line-height: 1; border-radius: 0.35em;\">\n",
       "    member of the crew of\n",
       "    <span style=\"font-size: 0.8em; font-weight: bold; line-height: 1; border-radius: 0.35em; vertical-align: middle; margin-left: 0.5rem\">role</span>\n",
       "</mark>\n",
       " of \n",
       "<mark class=\"entity\" style=\"background: #ddd; padding: 0.45em 0.6em; margin: 0 0.25em; line-height: 1; border-radius: 0.35em;\">\n",
       "    Getting Any\n",
       "    <span style=\"font-size: 0.8em; font-weight: bold; line-height: 1; border-radius: 0.35em; vertical-align: middle; margin-left: 0.5rem\">movie</span>\n",
       "</mark>\n",
       "?</div></span>"
      ],
      "text/plain": [
       "<IPython.core.display.HTML object>"
      ]
     },
     "metadata": {},
     "output_type": "display_data"
    },
    {
     "name": "stdout",
     "output_type": "stream",
     "text": [
      "Give me the name of the member of the crew of of Getting Any? {'entities': [(24, 45, 'role'), (49, 61, 'movie')]}\n",
      "Missing movie label\n"
     ]
    },
    {
     "data": {
      "text/html": [
       "<span class=\"tex2jax_ignore\"><div class=\"entities\" style=\"line-height: 2.5; direction: ltr\">I'd like to know the \n",
       "<mark class=\"entity\" style=\"background: #ddd; padding: 0.45em 0.6em; margin: 0 0.25em; line-height: 1; border-radius: 0.35em;\">\n",
       "    cast member\n",
       "    <span style=\"font-size: 0.8em; font-weight: bold; line-height: 1; border-radius: 0.35em; vertical-align: middle; margin-left: 0.5rem\">role</span>\n",
       "</mark>\n",
       "'s name for \n",
       "<mark class=\"entity\" style=\"background: #ddd; padding: 0.45em 0.6em; margin: 0 0.25em; line-height: 1; border-radius: 0.35em;\">\n",
       "    What's New About Love\n",
       "    <span style=\"font-size: 0.8em; font-weight: bold; line-height: 1; border-radius: 0.35em; vertical-align: middle; margin-left: 0.5rem\">movie</span>\n",
       "</mark>\n",
       "?</div></span>"
      ],
      "text/plain": [
       "<IPython.core.display.HTML object>"
      ]
     },
     "metadata": {},
     "output_type": "display_data"
    },
    {
     "name": "stdout",
     "output_type": "stream",
     "text": [
      "I'd like to know the cast member's name for What's New About Love? {'entities': [(21, 32, 'role'), (44, 66, 'movie')]}\n",
      "Missing movie label\n"
     ]
    },
    {
     "data": {
      "text/html": [
       "<span class=\"tex2jax_ignore\"><div class=\"entities\" style=\"line-height: 2.5; direction: ltr\">I'm curious about the person who \n",
       "<mark class=\"entity\" style=\"background: #ddd; padding: 0.45em 0.6em; margin: 0 0.25em; line-height: 1; border-radius: 0.35em;\">\n",
       "    wrote\n",
       "    <span style=\"font-size: 0.8em; font-weight: bold; line-height: 1; border-radius: 0.35em; vertical-align: middle; margin-left: 0.5rem\">action</span>\n",
       "</mark>\n",
       " \n",
       "<mark class=\"entity\" style=\"background: #ddd; padding: 0.45em 0.6em; margin: 0 0.25em; line-height: 1; border-radius: 0.35em;\">\n",
       "    What's Your Raashee\n",
       "    <span style=\"font-size: 0.8em; font-weight: bold; line-height: 1; border-radius: 0.35em; vertical-align: middle; margin-left: 0.5rem\">movie</span>\n",
       "</mark>\n",
       "?</div></span>"
      ],
      "text/plain": [
       "<IPython.core.display.HTML object>"
      ]
     },
     "metadata": {},
     "output_type": "display_data"
    },
    {
     "name": "stdout",
     "output_type": "stream",
     "text": [
      "I'm curious about the person who wrote What's Your Raashee? {'entities': [(39, 59, 'movie'), (33, 38, 'action')]}\n",
      "Missing movie label\n"
     ]
    },
    {
     "data": {
      "text/html": [
       "<span class=\"tex2jax_ignore\"><div class=\"entities\" style=\"line-height: 2.5; direction: ltr\">Who oversaw the making of \n",
       "<mark class=\"entity\" style=\"background: #ddd; padding: 0.45em 0.6em; margin: 0 0.25em; line-height: 1; border-radius: 0.35em;\">\n",
       "    Where Is Madame Catherine\n",
       "    <span style=\"font-size: 0.8em; font-weight: bold; line-height: 1; border-radius: 0.35em; vertical-align: middle; margin-left: 0.5rem\">movie</span>\n",
       "</mark>\n",
       "?</div></span>"
      ],
      "text/plain": [
       "<IPython.core.display.HTML object>"
      ]
     },
     "metadata": {},
     "output_type": "display_data"
    },
    {
     "name": "stdout",
     "output_type": "stream",
     "text": [
      "Who oversaw the making of Where Is Madame Catherine? {'entities': [(26, 52, 'movie')]}\n",
      "Missing movie label\n"
     ]
    },
    {
     "data": {
      "text/html": [
       "<span class=\"tex2jax_ignore\"><div class=\"entities\" style=\"line-height: 2.5; direction: ltr\">Give me the \n",
       "<mark class=\"entity\" style=\"background: #ddd; padding: 0.45em 0.6em; margin: 0 0.25em; line-height: 1; border-radius: 0.35em;\">\n",
       "    participant\n",
       "    <span style=\"font-size: 0.8em; font-weight: bold; line-height: 1; border-radius: 0.35em; vertical-align: middle; margin-left: 0.5rem\">role</span>\n",
       "</mark>\n",
       " of \n",
       "<mark class=\"entity\" style=\"background: #ddd; padding: 0.45em 0.6em; margin: 0 0.25em; line-height: 1; border-radius: 0.35em;\">\n",
       "    Who's the Woman, Who's the Man\n",
       "    <span style=\"font-size: 0.8em; font-weight: bold; line-height: 1; border-radius: 0.35em; vertical-align: middle; margin-left: 0.5rem\">movie</span>\n",
       "</mark>\n",
       "?</div></span>"
      ],
      "text/plain": [
       "<IPython.core.display.HTML object>"
      ]
     },
     "metadata": {},
     "output_type": "display_data"
    },
    {
     "name": "stdout",
     "output_type": "stream",
     "text": [
      "Give me the participant of Who's the Woman, Who's the Man? {'entities': [(12, 23, 'role'), (27, 58, 'movie')]}\n",
      "Missing movie label\n"
     ]
    },
    {
     "data": {
      "text/html": [
       "<span class=\"tex2jax_ignore\"><div class=\"entities\" style=\"line-height: 2.5; direction: ltr\">Give me the name of the \n",
       "<mark class=\"entity\" style=\"background: #ddd; padding: 0.45em 0.6em; margin: 0 0.25em; line-height: 1; border-radius: 0.35em;\">\n",
       "    member of the crew of\n",
       "    <span style=\"font-size: 0.8em; font-weight: bold; line-height: 1; border-radius: 0.35em; vertical-align: middle; margin-left: 0.5rem\">role</span>\n",
       "</mark>\n",
       " of \n",
       "<mark class=\"entity\" style=\"background: #ddd; padding: 0.45em 0.6em; margin: 0 0.25em; line-height: 1; border-radius: 0.35em;\">\n",
       "    Who Is Harry Nilsson (And Why Is Everybody Talkin' About Him)\n",
       "    <span style=\"font-size: 0.8em; font-weight: bold; line-height: 1; border-radius: 0.35em; vertical-align: middle; margin-left: 0.5rem\">movie</span>\n",
       "</mark>\n",
       "?</div></span>"
      ],
      "text/plain": [
       "<IPython.core.display.HTML object>"
      ]
     },
     "metadata": {},
     "output_type": "display_data"
    },
    {
     "name": "stdout",
     "output_type": "stream",
     "text": [
      "Give me the name of the member of the crew of of Who Is Harry Nilsson (And Why Is Everybody Talkin' About Him)? {'entities': [(24, 45, 'role'), (49, 111, 'movie')]}\n",
      "Missing movie label\n"
     ]
    },
    {
     "data": {
      "text/html": [
       "<span class=\"tex2jax_ignore\"><div class=\"entities\" style=\"line-height: 2.5; direction: ltr\">I'm curious about the person who \n",
       "<mark class=\"entity\" style=\"background: #ddd; padding: 0.45em 0.6em; margin: 0 0.25em; line-height: 1; border-radius: 0.35em;\">\n",
       "    directed\n",
       "    <span style=\"font-size: 0.8em; font-weight: bold; line-height: 1; border-radius: 0.35em; vertical-align: middle; margin-left: 0.5rem\">action</span>\n",
       "</mark>\n",
       " \n",
       "<mark class=\"entity\" style=\"background: #ddd; padding: 0.45em 0.6em; margin: 0 0.25em; line-height: 1; border-radius: 0.35em;\">\n",
       "    Why Don't You Play in Hell\n",
       "    <span style=\"font-size: 0.8em; font-weight: bold; line-height: 1; border-radius: 0.35em; vertical-align: middle; margin-left: 0.5rem\">movie</span>\n",
       "</mark>\n",
       "?</div></span>"
      ],
      "text/plain": [
       "<IPython.core.display.HTML object>"
      ]
     },
     "metadata": {},
     "output_type": "display_data"
    },
    {
     "name": "stdout",
     "output_type": "stream",
     "text": [
      "I'm curious about the person who directed Why Don't You Play in Hell? {'entities': [(42, 69, 'movie'), (33, 41, 'action'), (33, 39, 'action')]}\n",
      "Missing movie label\n"
     ]
    },
    {
     "data": {
      "text/html": [
       "<span class=\"tex2jax_ignore\"><div class=\"entities\" style=\"line-height: 2.5; direction: ltr\">I'd like to know the \n",
       "<mark class=\"entity\" style=\"background: #ddd; padding: 0.45em 0.6em; margin: 0 0.25em; line-height: 1; border-radius: 0.35em;\">\n",
       "    member of the crew of\n",
       "    <span style=\"font-size: 0.8em; font-weight: bold; line-height: 1; border-radius: 0.35em; vertical-align: middle; margin-left: 0.5rem\">role</span>\n",
       "</mark>\n",
       "'s name for \n",
       "<mark class=\"entity\" style=\"background: #ddd; padding: 0.45em 0.6em; margin: 0 0.25em; line-height: 1; border-radius: 0.35em;\">\n",
       "    Big Girls Do\n",
       "    <span style=\"font-size: 0.8em; font-weight: bold; line-height: 1; border-radius: 0.35em; vertical-align: middle; margin-left: 0.5rem\">movie</span>\n",
       "</mark>\n",
       "n't Cry</div></span>"
      ],
      "text/plain": [
       "<IPython.core.display.HTML object>"
      ]
     },
     "metadata": {},
     "output_type": "display_data"
    },
    {
     "name": "stdout",
     "output_type": "stream",
     "text": [
      "I'd like to know the member of the crew of's name for Big Girls Don't Cry {'entities': [(21, 42, 'role'), (54, 73, 'movie')]}\n",
      "Missing movie label\n"
     ]
    },
    {
     "data": {
      "text/html": [
       "<span class=\"tex2jax_ignore\"><div class=\"entities\" style=\"line-height: 2.5; direction: ltr\">I'd like to know the \n",
       "<mark class=\"entity\" style=\"background: #ddd; padding: 0.45em 0.6em; margin: 0 0.25em; line-height: 1; border-radius: 0.35em;\">\n",
       "    director\n",
       "    <span style=\"font-size: 0.8em; font-weight: bold; line-height: 1; border-radius: 0.35em; vertical-align: middle; margin-left: 0.5rem\">role</span>\n",
       "</mark>\n",
       "'s name for \n",
       "<mark class=\"entity\" style=\"background: #ddd; padding: 0.45em 0.6em; margin: 0 0.25em; line-height: 1; border-radius: 0.35em;\">\n",
       "    star trek 2023\n",
       "    <span style=\"font-size: 0.8em; font-weight: bold; line-height: 1; border-radius: 0.35em; vertical-align: middle; margin-left: 0.5rem\">movie</span>\n",
       "</mark>\n",
       " movie</div></span>"
      ],
      "text/plain": [
       "<IPython.core.display.HTML object>"
      ]
     },
     "metadata": {},
     "output_type": "display_data"
    },
    {
     "name": "stdout",
     "output_type": "stream",
     "text": [
      "I'd like to know the director's name for star trek 2023 movie {'entities': [(21, 29, 'role'), (41, 61, 'movie'), (21, 27, 'action')]}\n",
      "Missing movie label\n"
     ]
    },
    {
     "data": {
      "text/html": [
       "<span class=\"tex2jax_ignore\"><div class=\"entities\" style=\"line-height: 2.5; direction: ltr\">Identify the \n",
       "<mark class=\"entity\" style=\"background: #ddd; padding: 0.45em 0.6em; margin: 0 0.25em; line-height: 1; border-radius: 0.35em;\">\n",
       "    creator\n",
       "    <span style=\"font-size: 0.8em; font-weight: bold; line-height: 1; border-radius: 0.35em; vertical-align: middle; margin-left: 0.5rem\">role</span>\n",
       "</mark>\n",
       " of \n",
       "<mark class=\"entity\" style=\"background: #ddd; padding: 0.45em 0.6em; margin: 0 0.25em; line-height: 1; border-radius: 0.35em;\">\n",
       "    What Happened, Miss Simone\n",
       "    <span style=\"font-size: 0.8em; font-weight: bold; line-height: 1; border-radius: 0.35em; vertical-align: middle; margin-left: 0.5rem\">movie</span>\n",
       "</mark>\n",
       "?</div></span>"
      ],
      "text/plain": [
       "<IPython.core.display.HTML object>"
      ]
     },
     "metadata": {},
     "output_type": "display_data"
    },
    {
     "name": "stdout",
     "output_type": "stream",
     "text": [
      "Identify the creator of What Happened, Miss Simone? {'entities': [(13, 20, 'role'), (24, 51, 'movie')]}\n",
      "Missing movie label\n"
     ]
    },
    {
     "data": {
      "text/html": [
       "<span class=\"tex2jax_ignore\"><div class=\"entities\" style=\"line-height: 2.5; direction: ltr\">Who \n",
       "<mark class=\"entity\" style=\"background: #ddd; padding: 0.45em 0.6em; margin: 0 0.25em; line-height: 1; border-radius: 0.35em;\">\n",
       "    wrote\n",
       "    <span style=\"font-size: 0.8em; font-weight: bold; line-height: 1; border-radius: 0.35em; vertical-align: middle; margin-left: 0.5rem\">action</span>\n",
       "</mark>\n",
       " \n",
       "<mark class=\"entity\" style=\"background: #ddd; padding: 0.45em 0.6em; margin: 0 0.25em; line-height: 1; border-radius: 0.35em;\">\n",
       "    Robert Rylands\n",
       "    <span style=\"font-size: 0.8em; font-weight: bold; line-height: 1; border-radius: 0.35em; vertical-align: middle; margin-left: 0.5rem\">movie</span>\n",
       "</mark>\n",
       "' \n",
       "<mark class=\"entity\" style=\"background: #ddd; padding: 0.45em 0.6em; margin: 0 0.25em; line-height: 1; border-radius: 0.35em;\">\n",
       "    last journey\n",
       "    <span style=\"font-size: 0.8em; font-weight: bold; line-height: 1; border-radius: 0.35em; vertical-align: middle; margin-left: 0.5rem\">name</span>\n",
       "</mark>\n",
       "?</div></span>"
      ],
      "text/plain": [
       "<IPython.core.display.HTML object>"
      ]
     },
     "metadata": {},
     "output_type": "display_data"
    },
    {
     "name": "stdout",
     "output_type": "stream",
     "text": [
      "Who wrote Robert Rylands' last journey? {'entities': [(10, 38, 'movie'), (4, 9, 'action')]}\n",
      "Missing movie label\n"
     ]
    },
    {
     "data": {
      "text/html": [
       "<span class=\"tex2jax_ignore\"><div class=\"entities\" style=\"line-height: 2.5; direction: ltr\">Who \n",
       "<mark class=\"entity\" style=\"background: #ddd; padding: 0.45em 0.6em; margin: 0 0.25em; line-height: 1; border-radius: 0.35em;\">\n",
       "    wrote\n",
       "    <span style=\"font-size: 0.8em; font-weight: bold; line-height: 1; border-radius: 0.35em; vertical-align: middle; margin-left: 0.5rem\">action</span>\n",
       "</mark>\n",
       " \n",
       "<mark class=\"entity\" style=\"background: #ddd; padding: 0.45em 0.6em; margin: 0 0.25em; line-height: 1; border-radius: 0.35em;\">\n",
       "    Robert Rylands\n",
       "    <span style=\"font-size: 0.8em; font-weight: bold; line-height: 1; border-radius: 0.35em; vertical-align: middle; margin-left: 0.5rem\">movie</span>\n",
       "</mark>\n",
       "' \n",
       "<mark class=\"entity\" style=\"background: #ddd; padding: 0.45em 0.6em; margin: 0 0.25em; line-height: 1; border-radius: 0.35em;\">\n",
       "    last journey\n",
       "    <span style=\"font-size: 0.8em; font-weight: bold; line-height: 1; border-radius: 0.35em; vertical-align: middle; margin-left: 0.5rem\">name</span>\n",
       "</mark>\n",
       "?</div></span>"
      ],
      "text/plain": [
       "<IPython.core.display.HTML object>"
      ]
     },
     "metadata": {},
     "output_type": "display_data"
    },
    {
     "name": "stdout",
     "output_type": "stream",
     "text": [
      "Who wrote Robert Rylands' last journey? {'entities': [(10, 38, 'movie'), (4, 9, 'action')]}\n",
      "Missing name label\n"
     ]
    },
    {
     "data": {
      "text/html": [
       "<span class=\"tex2jax_ignore\"><div class=\"entities\" style=\"line-height: 2.5; direction: ltr\">Tell me the \n",
       "<mark class=\"entity\" style=\"background: #ddd; padding: 0.45em 0.6em; margin: 0 0.25em; line-height: 1; border-radius: 0.35em;\">\n",
       "    participant\n",
       "    <span style=\"font-size: 0.8em; font-weight: bold; line-height: 1; border-radius: 0.35em; vertical-align: middle; margin-left: 0.5rem\">role</span>\n",
       "</mark>\n",
       " for \n",
       "<mark class=\"entity\" style=\"background: #ddd; padding: 0.45em 0.6em; margin: 0 0.25em; line-height: 1; border-radius: 0.35em;\">\n",
       "    What Price Hollywood\n",
       "    <span style=\"font-size: 0.8em; font-weight: bold; line-height: 1; border-radius: 0.35em; vertical-align: middle; margin-left: 0.5rem\">movie</span>\n",
       "</mark>\n",
       "?</div></span>"
      ],
      "text/plain": [
       "<IPython.core.display.HTML object>"
      ]
     },
     "metadata": {},
     "output_type": "display_data"
    },
    {
     "name": "stdout",
     "output_type": "stream",
     "text": [
      "Tell me the participant for What Price Hollywood? {'entities': [(12, 23, 'role'), (28, 49, 'movie')]}\n",
      "Missing movie label\n"
     ]
    },
    {
     "data": {
      "text/html": [
       "<span class=\"tex2jax_ignore\"><div class=\"entities\" style=\"line-height: 2.5; direction: ltr\">What is the \n",
       "<mark class=\"entity\" style=\"background: #ddd; padding: 0.45em 0.6em; margin: 0 0.25em; line-height: 1; border-radius: 0.35em;\">\n",
       "    voice actor\n",
       "    <span style=\"font-size: 0.8em; font-weight: bold; line-height: 1; border-radius: 0.35em; vertical-align: middle; margin-left: 0.5rem\">role</span>\n",
       "</mark>\n",
       "'s name for the movie \n",
       "<mark class=\"entity\" style=\"background: #ddd; padding: 0.45em 0.6em; margin: 0 0.25em; line-height: 1; border-radius: 0.35em;\">\n",
       "    1408\n",
       "    <span style=\"font-size: 0.8em; font-weight: bold; line-height: 1; border-radius: 0.35em; vertical-align: middle; margin-left: 0.5rem\">year</span>\n",
       "</mark>\n",
       "?</div></span>"
      ],
      "text/plain": [
       "<IPython.core.display.HTML object>"
      ]
     },
     "metadata": {},
     "output_type": "display_data"
    },
    {
     "name": "stdout",
     "output_type": "stream",
     "text": [
      "What is the voice actor's name for the movie 1408? {'entities': [(12, 23, 'role'), (45, 49, 'movie')]}\n",
      "Missing year label\n"
     ]
    },
    {
     "data": {
      "text/html": [
       "<span class=\"tex2jax_ignore\"><div class=\"entities\" style=\"line-height: 2.5; direction: ltr\">Tell me the \n",
       "<mark class=\"entity\" style=\"background: #ddd; padding: 0.45em 0.6em; margin: 0 0.25em; line-height: 1; border-radius: 0.35em;\">\n",
       "    choreographer\n",
       "    <span style=\"font-size: 0.8em; font-weight: bold; line-height: 1; border-radius: 0.35em; vertical-align: middle; margin-left: 0.5rem\">role</span>\n",
       "</mark>\n",
       " for \n",
       "<mark class=\"entity\" style=\"background: #ddd; padding: 0.45em 0.6em; margin: 0 0.25em; line-height: 1; border-radius: 0.35em;\">\n",
       "    The Death of &quot;Superman Lives&quot;: What Happened\n",
       "    <span style=\"font-size: 0.8em; font-weight: bold; line-height: 1; border-radius: 0.35em; vertical-align: middle; margin-left: 0.5rem\">movie</span>\n",
       "</mark>\n",
       "?</div></span>"
      ],
      "text/plain": [
       "<IPython.core.display.HTML object>"
      ]
     },
     "metadata": {},
     "output_type": "display_data"
    },
    {
     "name": "stdout",
     "output_type": "stream",
     "text": [
      "Tell me the choreographer for The Death of \"Superman Lives\": What Happened? {'entities': [(12, 25, 'role'), (30, 75, 'movie')]}\n",
      "Missing movie label\n"
     ]
    },
    {
     "data": {
      "text/html": [
       "<span class=\"tex2jax_ignore\"><div class=\"entities\" style=\"line-height: 2.5; direction: ltr\">I'd like to know the \n",
       "<mark class=\"entity\" style=\"background: #ddd; padding: 0.45em 0.6em; margin: 0 0.25em; line-height: 1; border-radius: 0.35em;\">\n",
       "    film crew member\n",
       "    <span style=\"font-size: 0.8em; font-weight: bold; line-height: 1; border-radius: 0.35em; vertical-align: middle; margin-left: 0.5rem\">role</span>\n",
       "</mark>\n",
       "'s name for \n",
       "<mark class=\"entity\" style=\"background: #ddd; padding: 0.45em 0.6em; margin: 0 0.25em; line-height: 1; border-radius: 0.35em;\">\n",
       "    Ocho apellidos\n",
       "    <span style=\"font-size: 0.8em; font-weight: bold; line-height: 1; border-radius: 0.35em; vertical-align: middle; margin-left: 0.5rem\">movie</span>\n",
       "</mark>\n",
       " catalanes</div></span>"
      ],
      "text/plain": [
       "<IPython.core.display.HTML object>"
      ]
     },
     "metadata": {},
     "output_type": "display_data"
    },
    {
     "name": "stdout",
     "output_type": "stream",
     "text": [
      "I'd like to know the film crew member's name for Ocho apellidos catalanes {'entities': [(21, 37, 'role'), (49, 73, 'movie')]}\n",
      "Missing movie label\n"
     ]
    },
    {
     "data": {
      "text/html": [
       "<span class=\"tex2jax_ignore\"><div class=\"entities\" style=\"line-height: 2.5; direction: ltr\">Identify the \n",
       "<mark class=\"entity\" style=\"background: #ddd; padding: 0.45em 0.6em; margin: 0 0.25em; line-height: 1; border-radius: 0.35em;\">\n",
       "    art director\n",
       "    <span style=\"font-size: 0.8em; font-weight: bold; line-height: 1; border-radius: 0.35em; vertical-align: middle; margin-left: 0.5rem\">role</span>\n",
       "</mark>\n",
       " of \n",
       "<mark class=\"entity\" style=\"background: #ddd; padding: 0.45em 0.6em; margin: 0 0.25em; line-height: 1; border-radius: 0.35em;\">\n",
       "    1941\n",
       "    <span style=\"font-size: 0.8em; font-weight: bold; line-height: 1; border-radius: 0.35em; vertical-align: middle; margin-left: 0.5rem\">year</span>\n",
       "</mark>\n",
       "</div></span>"
      ],
      "text/plain": [
       "<IPython.core.display.HTML object>"
      ]
     },
     "metadata": {},
     "output_type": "display_data"
    },
    {
     "name": "stdout",
     "output_type": "stream",
     "text": [
      "Identify the art director of 1941 {'entities': [(13, 25, 'role'), (29, 33, 'movie'), (17, 23, 'action')]}\n",
      "Missing year label\n"
     ]
    },
    {
     "data": {
      "text/html": [
       "<span class=\"tex2jax_ignore\"><div class=\"entities\" style=\"line-height: 2.5; direction: ltr\">Who was the \n",
       "<mark class=\"entity\" style=\"background: #ddd; padding: 0.45em 0.6em; margin: 0 0.25em; line-height: 1; border-radius: 0.35em;\">\n",
       "    animator\n",
       "    <span style=\"font-size: 0.8em; font-weight: bold; line-height: 1; border-radius: 0.35em; vertical-align: middle; margin-left: 0.5rem\">role</span>\n",
       "</mark>\n",
       " of \n",
       "<mark class=\"entity\" style=\"background: #ddd; padding: 0.45em 0.6em; margin: 0 0.25em; line-height: 1; border-radius: 0.35em;\">\n",
       "    Quo vado\n",
       "    <span style=\"font-size: 0.8em; font-weight: bold; line-height: 1; border-radius: 0.35em; vertical-align: middle; margin-left: 0.5rem\">movie</span>\n",
       "</mark>\n",
       "?</div></span>"
      ],
      "text/plain": [
       "<IPython.core.display.HTML object>"
      ]
     },
     "metadata": {},
     "output_type": "display_data"
    },
    {
     "name": "stdout",
     "output_type": "stream",
     "text": [
      "Who was the animator of Quo vado? {'entities': [(12, 20, 'role'), (24, 33, 'movie')]}\n",
      "Missing movie label\n"
     ]
    },
    {
     "data": {
      "text/html": [
       "<span class=\"tex2jax_ignore\"><div class=\"entities\" style=\"line-height: 2.5; direction: ltr\">Give me the \n",
       "<mark class=\"entity\" style=\"background: #ddd; padding: 0.45em 0.6em; margin: 0 0.25em; line-height: 1; border-radius: 0.35em;\">\n",
       "    creator\n",
       "    <span style=\"font-size: 0.8em; font-weight: bold; line-height: 1; border-radius: 0.35em; vertical-align: middle; margin-left: 0.5rem\">role</span>\n",
       "</mark>\n",
       " of \n",
       "<mark class=\"entity\" style=\"background: #ddd; padding: 0.45em 0.6em; margin: 0 0.25em; line-height: 1; border-radius: 0.35em;\">\n",
       "    What Ever Happened to Baby Jane\n",
       "    <span style=\"font-size: 0.8em; font-weight: bold; line-height: 1; border-radius: 0.35em; vertical-align: middle; margin-left: 0.5rem\">movie</span>\n",
       "</mark>\n",
       "?</div></span>"
      ],
      "text/plain": [
       "<IPython.core.display.HTML object>"
      ]
     },
     "metadata": {},
     "output_type": "display_data"
    },
    {
     "name": "stdout",
     "output_type": "stream",
     "text": [
      "Give me the creator of What Ever Happened to Baby Jane? {'entities': [(12, 19, 'role'), (23, 55, 'movie')]}\n",
      "Missing movie label\n"
     ]
    },
    {
     "data": {
      "text/html": [
       "<span class=\"tex2jax_ignore\"><div class=\"entities\" style=\"line-height: 2.5; direction: ltr\">Who is the \n",
       "<mark class=\"entity\" style=\"background: #ddd; padding: 0.45em 0.6em; margin: 0 0.25em; line-height: 1; border-radius: 0.35em;\">\n",
       "    screenwriter\n",
       "    <span style=\"font-size: 0.8em; font-weight: bold; line-height: 1; border-radius: 0.35em; vertical-align: middle; margin-left: 0.5rem\">role</span>\n",
       "</mark>\n",
       " of the \n",
       "<mark class=\"entity\" style=\"background: #ddd; padding: 0.45em 0.6em; margin: 0 0.25em; line-height: 1; border-radius: 0.35em;\">\n",
       "    film Tom of Finland\n",
       "    <span style=\"font-size: 0.8em; font-weight: bold; line-height: 1; border-radius: 0.35em; vertical-align: middle; margin-left: 0.5rem\">role</span>\n",
       "</mark>\n",
       "?</div></span>"
      ],
      "text/plain": [
       "<IPython.core.display.HTML object>"
      ]
     },
     "metadata": {},
     "output_type": "display_data"
    },
    {
     "name": "stdout",
     "output_type": "stream",
     "text": [
      "Who is the screenwriter of the film Tom of Finland? {'entities': [(11, 23, 'role'), (36, 50, 'movie')]}\n",
      "Missing role label\n"
     ]
    },
    {
     "data": {
      "text/html": [
       "<span class=\"tex2jax_ignore\"><div class=\"entities\" style=\"line-height: 2.5; direction: ltr\">Give me the name of the \n",
       "<mark class=\"entity\" style=\"background: #ddd; padding: 0.45em 0.6em; margin: 0 0.25em; line-height: 1; border-radius: 0.35em;\">\n",
       "    film crew member\n",
       "    <span style=\"font-size: 0.8em; font-weight: bold; line-height: 1; border-radius: 0.35em; vertical-align: middle; margin-left: 0.5rem\">role</span>\n",
       "</mark>\n",
       " of \n",
       "<mark class=\"entity\" style=\"background: #ddd; padding: 0.45em 0.6em; margin: 0 0.25em; line-height: 1; border-radius: 0.35em;\">\n",
       "    1920\n",
       "    <span style=\"font-size: 0.8em; font-weight: bold; line-height: 1; border-radius: 0.35em; vertical-align: middle; margin-left: 0.5rem\">year</span>\n",
       "</mark>\n",
       "</div></span>"
      ],
      "text/plain": [
       "<IPython.core.display.HTML object>"
      ]
     },
     "metadata": {},
     "output_type": "display_data"
    },
    {
     "name": "stdout",
     "output_type": "stream",
     "text": [
      "Give me the name of the film crew member of 1920 {'entities': [(24, 40, 'role'), (44, 48, 'movie')]}\n",
      "Missing year label\n"
     ]
    },
    {
     "data": {
      "text/html": [
       "<span class=\"tex2jax_ignore\"><div class=\"entities\" style=\"line-height: 2.5; direction: ltr\">Tell me the \n",
       "<mark class=\"entity\" style=\"background: #ddd; padding: 0.45em 0.6em; margin: 0 0.25em; line-height: 1; border-radius: 0.35em;\">\n",
       "    presenter\n",
       "    <span style=\"font-size: 0.8em; font-weight: bold; line-height: 1; border-radius: 0.35em; vertical-align: middle; margin-left: 0.5rem\">role</span>\n",
       "</mark>\n",
       " behind \n",
       "<mark class=\"entity\" style=\"background: #ddd; padding: 0.45em 0.6em; margin: 0 0.25em; line-height: 1; border-radius: 0.35em;\">\n",
       "    1981\n",
       "    <span style=\"font-size: 0.8em; font-weight: bold; line-height: 1; border-radius: 0.35em; vertical-align: middle; margin-left: 0.5rem\">year</span>\n",
       "</mark>\n",
       "</div></span>"
      ],
      "text/plain": [
       "<IPython.core.display.HTML object>"
      ]
     },
     "metadata": {},
     "output_type": "display_data"
    },
    {
     "name": "stdout",
     "output_type": "stream",
     "text": [
      "Tell me the presenter behind 1981 {'entities': [(12, 21, 'role'), (29, 33, 'movie')]}\n",
      "Missing year label\n"
     ]
    },
    {
     "data": {
      "text/html": [
       "<span class=\"tex2jax_ignore\"><div class=\"entities\" style=\"line-height: 2.5; direction: ltr\">Tell me the \n",
       "<mark class=\"entity\" style=\"background: #ddd; padding: 0.45em 0.6em; margin: 0 0.25em; line-height: 1; border-radius: 0.35em;\">\n",
       "    performer\n",
       "    <span style=\"font-size: 0.8em; font-weight: bold; line-height: 1; border-radius: 0.35em; vertical-align: middle; margin-left: 0.5rem\">role</span>\n",
       "</mark>\n",
       " behind \n",
       "<mark class=\"entity\" style=\"background: #ddd; padding: 0.45em 0.6em; margin: 0 0.25em; line-height: 1; border-radius: 0.35em;\">\n",
       "    Mom or Dad\n",
       "    <span style=\"font-size: 0.8em; font-weight: bold; line-height: 1; border-radius: 0.35em; vertical-align: middle; margin-left: 0.5rem\">movie</span>\n",
       "</mark>\n",
       "?</div></span>"
      ],
      "text/plain": [
       "<IPython.core.display.HTML object>"
      ]
     },
     "metadata": {},
     "output_type": "display_data"
    },
    {
     "name": "stdout",
     "output_type": "stream",
     "text": [
      "Tell me the performer behind Mom or Dad? {'entities': [(12, 21, 'role'), (29, 40, 'movie')]}\n",
      "Missing movie label\n"
     ]
    },
    {
     "data": {
      "text/html": [
       "<span class=\"tex2jax_ignore\"><div class=\"entities\" style=\"line-height: 2.5; direction: ltr\">Tell me the \n",
       "<mark class=\"entity\" style=\"background: #ddd; padding: 0.45em 0.6em; margin: 0 0.25em; line-height: 1; border-radius: 0.35em;\">\n",
       "    art director\n",
       "    <span style=\"font-size: 0.8em; font-weight: bold; line-height: 1; border-radius: 0.35em; vertical-align: middle; margin-left: 0.5rem\">role</span>\n",
       "</mark>\n",
       " of \n",
       "<mark class=\"entity\" style=\"background: #ddd; padding: 0.45em 0.6em; margin: 0 0.25em; line-height: 1; border-radius: 0.35em;\">\n",
       "    Carmina or blow\n",
       "    <span style=\"font-size: 0.8em; font-weight: bold; line-height: 1; border-radius: 0.35em; vertical-align: middle; margin-left: 0.5rem\">movie</span>\n",
       "</mark>\n",
       " up</div></span>"
      ],
      "text/plain": [
       "<IPython.core.display.HTML object>"
      ]
     },
     "metadata": {},
     "output_type": "display_data"
    },
    {
     "name": "stdout",
     "output_type": "stream",
     "text": [
      "Tell me the art director of Carmina or blow up {'entities': [(12, 24, 'role'), (28, 46, 'movie'), (16, 22, 'action')]}\n",
      "Missing movie label\n"
     ]
    },
    {
     "data": {
      "text/html": [
       "<span class=\"tex2jax_ignore\"><div class=\"entities\" style=\"line-height: 2.5; direction: ltr\">Tell me the \n",
       "<mark class=\"entity\" style=\"background: #ddd; padding: 0.45em 0.6em; margin: 0 0.25em; line-height: 1; border-radius: 0.35em;\">\n",
       "    presenter\n",
       "    <span style=\"font-size: 0.8em; font-weight: bold; line-height: 1; border-radius: 0.35em; vertical-align: middle; margin-left: 0.5rem\">role</span>\n",
       "</mark>\n",
       " of \n",
       "<mark class=\"entity\" style=\"background: #ddd; padding: 0.45em 0.6em; margin: 0 0.25em; line-height: 1; border-radius: 0.35em;\">\n",
       "    Why Did I Get Married\n",
       "    <span style=\"font-size: 0.8em; font-weight: bold; line-height: 1; border-radius: 0.35em; vertical-align: middle; margin-left: 0.5rem\">movie</span>\n",
       "</mark>\n",
       "?</div></span>"
      ],
      "text/plain": [
       "<IPython.core.display.HTML object>"
      ]
     },
     "metadata": {},
     "output_type": "display_data"
    },
    {
     "name": "stdout",
     "output_type": "stream",
     "text": [
      "Tell me the presenter of Why Did I Get Married? {'entities': [(12, 21, 'role'), (25, 47, 'movie')]}\n",
      "Missing movie label\n"
     ]
    },
    {
     "data": {
      "text/html": [
       "<span class=\"tex2jax_ignore\"><div class=\"entities\" style=\"line-height: 2.5; direction: ltr\">Give me the \n",
       "<mark class=\"entity\" style=\"background: #ddd; padding: 0.45em 0.6em; margin: 0 0.25em; line-height: 1; border-radius: 0.35em;\">\n",
       "    voice actor\n",
       "    <span style=\"font-size: 0.8em; font-weight: bold; line-height: 1; border-radius: 0.35em; vertical-align: middle; margin-left: 0.5rem\">role</span>\n",
       "</mark>\n",
       " of '\n",
       "<mark class=\"entity\" style=\"background: #ddd; padding: 0.45em 0.6em; margin: 0 0.25em; line-height: 1; border-radius: 0.35em;\">\n",
       "    night, Mother\n",
       "    <span style=\"font-size: 0.8em; font-weight: bold; line-height: 1; border-radius: 0.35em; vertical-align: middle; margin-left: 0.5rem\">movie</span>\n",
       "</mark>\n",
       "</div></span>"
      ],
      "text/plain": [
       "<IPython.core.display.HTML object>"
      ]
     },
     "metadata": {},
     "output_type": "display_data"
    },
    {
     "name": "stdout",
     "output_type": "stream",
     "text": [
      "Give me the voice actor of 'night, Mother {'entities': [(12, 23, 'role'), (27, 41, 'movie')]}\n",
      "Missing movie label\n"
     ]
    },
    {
     "data": {
      "text/html": [
       "<span class=\"tex2jax_ignore\"><div class=\"entities\" style=\"line-height: 2.5; direction: ltr\">Who is the \n",
       "<mark class=\"entity\" style=\"background: #ddd; padding: 0.45em 0.6em; margin: 0 0.25em; line-height: 1; border-radius: 0.35em;\">\n",
       "    participant\n",
       "    <span style=\"font-size: 0.8em; font-weight: bold; line-height: 1; border-radius: 0.35em; vertical-align: middle; margin-left: 0.5rem\">role</span>\n",
       "</mark>\n",
       " of the \n",
       "<mark class=\"entity\" style=\"background: #ddd; padding: 0.45em 0.6em; margin: 0 0.25em; line-height: 1; border-radius: 0.35em;\">\n",
       "    film 247°F\n",
       "    <span style=\"font-size: 0.8em; font-weight: bold; line-height: 1; border-radius: 0.35em; vertical-align: middle; margin-left: 0.5rem\">role</span>\n",
       "</mark>\n",
       "?</div></span>"
      ],
      "text/plain": [
       "<IPython.core.display.HTML object>"
      ]
     },
     "metadata": {},
     "output_type": "display_data"
    },
    {
     "name": "stdout",
     "output_type": "stream",
     "text": [
      "Who is the participant of the film 247°F? {'entities': [(11, 22, 'role'), (35, 40, 'movie')]}\n",
      "Missing role label\n"
     ]
    },
    {
     "data": {
      "text/html": [
       "<span class=\"tex2jax_ignore\"><div class=\"entities\" style=\"line-height: 2.5; direction: ltr\">List \n",
       "<mark class=\"entity\" style=\"background: #ddd; padding: 0.45em 0.6em; margin: 0 0.25em; line-height: 1; border-radius: 0.35em;\">\n",
       "    pirate\n",
       "    <span style=\"font-size: 0.8em; font-weight: bold; line-height: 1; border-radius: 0.35em; vertical-align: middle; margin-left: 0.5rem\">genre</span>\n",
       "</mark>\n",
       " films \n",
       "<mark class=\"entity\" style=\"background: #ddd; padding: 0.45em 0.6em; margin: 0 0.25em; line-height: 1; border-radius: 0.35em;\">\n",
       "    written\n",
       "    <span style=\"font-size: 0.8em; font-weight: bold; line-height: 1; border-radius: 0.35em; vertical-align: middle; margin-left: 0.5rem\">action</span>\n",
       "</mark>\n",
       " by \n",
       "<mark class=\"entity\" style=\"background: #ddd; padding: 0.45em 0.6em; margin: 0 0.25em; line-height: 1; border-radius: 0.35em;\">\n",
       "    Abdul Aziz (\n",
       "    <span style=\"font-size: 0.8em; font-weight: bold; line-height: 1; border-radius: 0.35em; vertical-align: middle; margin-left: 0.5rem\">name</span>\n",
       "</mark>\n",
       "\n",
       "<mark class=\"entity\" style=\"background: #ddd; padding: 0.45em 0.6em; margin: 0 0.25em; line-height: 1; border-radius: 0.35em;\">\n",
       "    film\n",
       "    <span style=\"font-size: 0.8em; font-weight: bold; line-height: 1; border-radius: 0.35em; vertical-align: middle; margin-left: 0.5rem\">action</span>\n",
       "</mark>\n",
       " maker\n",
       "<mark class=\"entity\" style=\"background: #ddd; padding: 0.45em 0.6em; margin: 0 0.25em; line-height: 1; border-radius: 0.35em;\">\n",
       "    )\n",
       "    <span style=\"font-size: 0.8em; font-weight: bold; line-height: 1; border-radius: 0.35em; vertical-align: middle; margin-left: 0.5rem\">name</span>\n",
       "</mark>\n",
       "</div></span>"
      ],
      "text/plain": [
       "<IPython.core.display.HTML object>"
      ]
     },
     "metadata": {},
     "output_type": "display_data"
    },
    {
     "name": "stdout",
     "output_type": "stream",
     "text": [
      "List pirate films written by Abdul Aziz (film maker) {'entities': [(29, 52, 'name'), (5, 11, 'genre'), (18, 25, 'action')]}\n",
      "Missing name label\n"
     ]
    },
    {
     "data": {
      "text/html": [
       "<span class=\"tex2jax_ignore\"><div class=\"entities\" style=\"line-height: 2.5; direction: ltr\">List \n",
       "<mark class=\"entity\" style=\"background: #ddd; padding: 0.45em 0.6em; margin: 0 0.25em; line-height: 1; border-radius: 0.35em;\">\n",
       "    pirate\n",
       "    <span style=\"font-size: 0.8em; font-weight: bold; line-height: 1; border-radius: 0.35em; vertical-align: middle; margin-left: 0.5rem\">genre</span>\n",
       "</mark>\n",
       " films \n",
       "<mark class=\"entity\" style=\"background: #ddd; padding: 0.45em 0.6em; margin: 0 0.25em; line-height: 1; border-radius: 0.35em;\">\n",
       "    written\n",
       "    <span style=\"font-size: 0.8em; font-weight: bold; line-height: 1; border-radius: 0.35em; vertical-align: middle; margin-left: 0.5rem\">action</span>\n",
       "</mark>\n",
       " by \n",
       "<mark class=\"entity\" style=\"background: #ddd; padding: 0.45em 0.6em; margin: 0 0.25em; line-height: 1; border-radius: 0.35em;\">\n",
       "    Abdul Aziz (\n",
       "    <span style=\"font-size: 0.8em; font-weight: bold; line-height: 1; border-radius: 0.35em; vertical-align: middle; margin-left: 0.5rem\">name</span>\n",
       "</mark>\n",
       "\n",
       "<mark class=\"entity\" style=\"background: #ddd; padding: 0.45em 0.6em; margin: 0 0.25em; line-height: 1; border-radius: 0.35em;\">\n",
       "    film\n",
       "    <span style=\"font-size: 0.8em; font-weight: bold; line-height: 1; border-radius: 0.35em; vertical-align: middle; margin-left: 0.5rem\">action</span>\n",
       "</mark>\n",
       " maker\n",
       "<mark class=\"entity\" style=\"background: #ddd; padding: 0.45em 0.6em; margin: 0 0.25em; line-height: 1; border-radius: 0.35em;\">\n",
       "    )\n",
       "    <span style=\"font-size: 0.8em; font-weight: bold; line-height: 1; border-radius: 0.35em; vertical-align: middle; margin-left: 0.5rem\">name</span>\n",
       "</mark>\n",
       "</div></span>"
      ],
      "text/plain": [
       "<IPython.core.display.HTML object>"
      ]
     },
     "metadata": {},
     "output_type": "display_data"
    },
    {
     "name": "stdout",
     "output_type": "stream",
     "text": [
      "List pirate films written by Abdul Aziz (film maker) {'entities': [(29, 52, 'name'), (5, 11, 'genre'), (18, 25, 'action')]}\n",
      "Missing action label\n"
     ]
    },
    {
     "data": {
      "text/html": [
       "<span class=\"tex2jax_ignore\"><div class=\"entities\" style=\"line-height: 2.5; direction: ltr\">List \n",
       "<mark class=\"entity\" style=\"background: #ddd; padding: 0.45em 0.6em; margin: 0 0.25em; line-height: 1; border-radius: 0.35em;\">\n",
       "    pirate\n",
       "    <span style=\"font-size: 0.8em; font-weight: bold; line-height: 1; border-radius: 0.35em; vertical-align: middle; margin-left: 0.5rem\">genre</span>\n",
       "</mark>\n",
       " films \n",
       "<mark class=\"entity\" style=\"background: #ddd; padding: 0.45em 0.6em; margin: 0 0.25em; line-height: 1; border-radius: 0.35em;\">\n",
       "    written\n",
       "    <span style=\"font-size: 0.8em; font-weight: bold; line-height: 1; border-radius: 0.35em; vertical-align: middle; margin-left: 0.5rem\">action</span>\n",
       "</mark>\n",
       " by \n",
       "<mark class=\"entity\" style=\"background: #ddd; padding: 0.45em 0.6em; margin: 0 0.25em; line-height: 1; border-radius: 0.35em;\">\n",
       "    Abdul Aziz (\n",
       "    <span style=\"font-size: 0.8em; font-weight: bold; line-height: 1; border-radius: 0.35em; vertical-align: middle; margin-left: 0.5rem\">name</span>\n",
       "</mark>\n",
       "\n",
       "<mark class=\"entity\" style=\"background: #ddd; padding: 0.45em 0.6em; margin: 0 0.25em; line-height: 1; border-radius: 0.35em;\">\n",
       "    film\n",
       "    <span style=\"font-size: 0.8em; font-weight: bold; line-height: 1; border-radius: 0.35em; vertical-align: middle; margin-left: 0.5rem\">action</span>\n",
       "</mark>\n",
       " maker\n",
       "<mark class=\"entity\" style=\"background: #ddd; padding: 0.45em 0.6em; margin: 0 0.25em; line-height: 1; border-radius: 0.35em;\">\n",
       "    )\n",
       "    <span style=\"font-size: 0.8em; font-weight: bold; line-height: 1; border-radius: 0.35em; vertical-align: middle; margin-left: 0.5rem\">name</span>\n",
       "</mark>\n",
       "</div></span>"
      ],
      "text/plain": [
       "<IPython.core.display.HTML object>"
      ]
     },
     "metadata": {},
     "output_type": "display_data"
    },
    {
     "name": "stdout",
     "output_type": "stream",
     "text": [
      "List pirate films written by Abdul Aziz (film maker) {'entities': [(29, 52, 'name'), (5, 11, 'genre'), (18, 25, 'action')]}\n",
      "Missing name label\n"
     ]
    },
    {
     "data": {
      "text/html": [
       "<span class=\"tex2jax_ignore\"><div class=\"entities\" style=\"line-height: 2.5; direction: ltr\">Show me \n",
       "<mark class=\"entity\" style=\"background: #ddd; padding: 0.45em 0.6em; margin: 0 0.25em; line-height: 1; border-radius: 0.35em;\">\n",
       "    time\n",
       "    <span style=\"font-size: 0.8em; font-weight: bold; line-height: 1; border-radius: 0.35em; vertical-align: middle; margin-left: 0.5rem\">predicate</span>\n",
       "</mark>\n",
       "\n",
       "<mark class=\"entity\" style=\"background: #ddd; padding: 0.45em 0.6em; margin: 0 0.25em; line-height: 1; border-radius: 0.35em;\">\n",
       "    -travel\n",
       "    <span style=\"font-size: 0.8em; font-weight: bold; line-height: 1; border-radius: 0.35em; vertical-align: middle; margin-left: 0.5rem\">movie</span>\n",
       "</mark>\n",
       " movies \n",
       "<mark class=\"entity\" style=\"background: #ddd; padding: 0.45em 0.6em; margin: 0 0.25em; line-height: 1; border-radius: 0.35em;\">\n",
       "    written\n",
       "    <span style=\"font-size: 0.8em; font-weight: bold; line-height: 1; border-radius: 0.35em; vertical-align: middle; margin-left: 0.5rem\">action</span>\n",
       "</mark>\n",
       " by \n",
       "<mark class=\"entity\" style=\"background: #ddd; padding: 0.45em 0.6em; margin: 0 0.25em; line-height: 1; border-radius: 0.35em;\">\n",
       "    Kirk Francis\n",
       "    <span style=\"font-size: 0.8em; font-weight: bold; line-height: 1; border-radius: 0.35em; vertical-align: middle; margin-left: 0.5rem\">name</span>\n",
       "</mark>\n",
       "</div></span>"
      ],
      "text/plain": [
       "<IPython.core.display.HTML object>"
      ]
     },
     "metadata": {},
     "output_type": "display_data"
    },
    {
     "name": "stdout",
     "output_type": "stream",
     "text": [
      "Show me time-travel movies written by Kirk Francis {'entities': [(38, 50, 'name'), (8, 19, 'genre'), (27, 34, 'action')]}\n",
      "Missing predicate label\n"
     ]
    },
    {
     "data": {
      "text/html": [
       "<span class=\"tex2jax_ignore\"><div class=\"entities\" style=\"line-height: 2.5; direction: ltr\">Show me \n",
       "<mark class=\"entity\" style=\"background: #ddd; padding: 0.45em 0.6em; margin: 0 0.25em; line-height: 1; border-radius: 0.35em;\">\n",
       "    time\n",
       "    <span style=\"font-size: 0.8em; font-weight: bold; line-height: 1; border-radius: 0.35em; vertical-align: middle; margin-left: 0.5rem\">predicate</span>\n",
       "</mark>\n",
       "\n",
       "<mark class=\"entity\" style=\"background: #ddd; padding: 0.45em 0.6em; margin: 0 0.25em; line-height: 1; border-radius: 0.35em;\">\n",
       "    -travel\n",
       "    <span style=\"font-size: 0.8em; font-weight: bold; line-height: 1; border-radius: 0.35em; vertical-align: middle; margin-left: 0.5rem\">movie</span>\n",
       "</mark>\n",
       " movies \n",
       "<mark class=\"entity\" style=\"background: #ddd; padding: 0.45em 0.6em; margin: 0 0.25em; line-height: 1; border-radius: 0.35em;\">\n",
       "    written\n",
       "    <span style=\"font-size: 0.8em; font-weight: bold; line-height: 1; border-radius: 0.35em; vertical-align: middle; margin-left: 0.5rem\">action</span>\n",
       "</mark>\n",
       " by \n",
       "<mark class=\"entity\" style=\"background: #ddd; padding: 0.45em 0.6em; margin: 0 0.25em; line-height: 1; border-radius: 0.35em;\">\n",
       "    Kirk Francis\n",
       "    <span style=\"font-size: 0.8em; font-weight: bold; line-height: 1; border-radius: 0.35em; vertical-align: middle; margin-left: 0.5rem\">name</span>\n",
       "</mark>\n",
       "</div></span>"
      ],
      "text/plain": [
       "<IPython.core.display.HTML object>"
      ]
     },
     "metadata": {},
     "output_type": "display_data"
    },
    {
     "name": "stdout",
     "output_type": "stream",
     "text": [
      "Show me time-travel movies written by Kirk Francis {'entities': [(38, 50, 'name'), (8, 19, 'genre'), (27, 34, 'action')]}\n",
      "Missing movie label\n"
     ]
    },
    {
     "data": {
      "text/html": [
       "<span class=\"tex2jax_ignore\"><div class=\"entities\" style=\"line-height: 2.5; direction: ltr\">List \n",
       "<mark class=\"entity\" style=\"background: #ddd; padding: 0.45em 0.6em; margin: 0 0.25em; line-height: 1; border-radius: 0.35em;\">\n",
       "    film based on literature\n",
       "    <span style=\"font-size: 0.8em; font-weight: bold; line-height: 1; border-radius: 0.35em; vertical-align: middle; margin-left: 0.5rem\">role</span>\n",
       "</mark>\n",
       " films \n",
       "<mark class=\"entity\" style=\"background: #ddd; padding: 0.45em 0.6em; margin: 0 0.25em; line-height: 1; border-radius: 0.35em;\">\n",
       "    written\n",
       "    <span style=\"font-size: 0.8em; font-weight: bold; line-height: 1; border-radius: 0.35em; vertical-align: middle; margin-left: 0.5rem\">action</span>\n",
       "</mark>\n",
       " by \n",
       "<mark class=\"entity\" style=\"background: #ddd; padding: 0.45em 0.6em; margin: 0 0.25em; line-height: 1; border-radius: 0.35em;\">\n",
       "    Massimo Cipollina\n",
       "    <span style=\"font-size: 0.8em; font-weight: bold; line-height: 1; border-radius: 0.35em; vertical-align: middle; margin-left: 0.5rem\">name</span>\n",
       "</mark>\n",
       "</div></span>"
      ],
      "text/plain": [
       "<IPython.core.display.HTML object>"
      ]
     },
     "metadata": {},
     "output_type": "display_data"
    },
    {
     "name": "stdout",
     "output_type": "stream",
     "text": [
      "List film based on literature films written by Massimo Cipollina {'entities': [(47, 64, 'name'), (5, 29, 'genre'), (36, 43, 'action')]}\n",
      "Missing role label\n"
     ]
    },
    {
     "data": {
      "text/html": [
       "<span class=\"tex2jax_ignore\"><div class=\"entities\" style=\"line-height: 2.5; direction: ltr\">List Slavic \n",
       "<mark class=\"entity\" style=\"background: #ddd; padding: 0.45em 0.6em; margin: 0 0.25em; line-height: 1; border-radius: 0.35em;\">\n",
       "    fantasy\n",
       "    <span style=\"font-size: 0.8em; font-weight: bold; line-height: 1; border-radius: 0.35em; vertical-align: middle; margin-left: 0.5rem\">genre</span>\n",
       "</mark>\n",
       " films \n",
       "<mark class=\"entity\" style=\"background: #ddd; padding: 0.45em 0.6em; margin: 0 0.25em; line-height: 1; border-radius: 0.35em;\">\n",
       "    written\n",
       "    <span style=\"font-size: 0.8em; font-weight: bold; line-height: 1; border-radius: 0.35em; vertical-align: middle; margin-left: 0.5rem\">action</span>\n",
       "</mark>\n",
       " by \n",
       "<mark class=\"entity\" style=\"background: #ddd; padding: 0.45em 0.6em; margin: 0 0.25em; line-height: 1; border-radius: 0.35em;\">\n",
       "    Araba Walton\n",
       "    <span style=\"font-size: 0.8em; font-weight: bold; line-height: 1; border-radius: 0.35em; vertical-align: middle; margin-left: 0.5rem\">name</span>\n",
       "</mark>\n",
       "</div></span>"
      ],
      "text/plain": [
       "<IPython.core.display.HTML object>"
      ]
     },
     "metadata": {},
     "output_type": "display_data"
    },
    {
     "name": "stdout",
     "output_type": "stream",
     "text": [
      "List Slavic fantasy films written by Araba Walton {'entities': [(37, 49, 'name'), (5, 19, 'genre'), (26, 33, 'action')]}\n",
      "Missing genre label\n"
     ]
    },
    {
     "data": {
      "text/html": [
       "<span class=\"tex2jax_ignore\"><div class=\"entities\" style=\"line-height: 2.5; direction: ltr\">Show me \n",
       "<mark class=\"entity\" style=\"background: #ddd; padding: 0.45em 0.6em; margin: 0 0.25em; line-height: 1; border-radius: 0.35em;\">\n",
       "    time\n",
       "    <span style=\"font-size: 0.8em; font-weight: bold; line-height: 1; border-radius: 0.35em; vertical-align: middle; margin-left: 0.5rem\">predicate</span>\n",
       "</mark>\n",
       "\n",
       "<mark class=\"entity\" style=\"background: #ddd; padding: 0.45em 0.6em; margin: 0 0.25em; line-height: 1; border-radius: 0.35em;\">\n",
       "    -travel\n",
       "    <span style=\"font-size: 0.8em; font-weight: bold; line-height: 1; border-radius: 0.35em; vertical-align: middle; margin-left: 0.5rem\">movie</span>\n",
       "</mark>\n",
       " movies \n",
       "<mark class=\"entity\" style=\"background: #ddd; padding: 0.45em 0.6em; margin: 0 0.25em; line-height: 1; border-radius: 0.35em;\">\n",
       "    directed\n",
       "    <span style=\"font-size: 0.8em; font-weight: bold; line-height: 1; border-radius: 0.35em; vertical-align: middle; margin-left: 0.5rem\">action</span>\n",
       "</mark>\n",
       " by \n",
       "<mark class=\"entity\" style=\"background: #ddd; padding: 0.45em 0.6em; margin: 0 0.25em; line-height: 1; border-radius: 0.35em;\">\n",
       "    Karina Seweryn\n",
       "    <span style=\"font-size: 0.8em; font-weight: bold; line-height: 1; border-radius: 0.35em; vertical-align: middle; margin-left: 0.5rem\">name</span>\n",
       "</mark>\n",
       "</div></span>"
      ],
      "text/plain": [
       "<IPython.core.display.HTML object>"
      ]
     },
     "metadata": {},
     "output_type": "display_data"
    },
    {
     "name": "stdout",
     "output_type": "stream",
     "text": [
      "Show me time-travel movies directed by Karina Seweryn {'entities': [(39, 53, 'name'), (8, 19, 'genre'), (27, 35, 'action')]}\n",
      "Missing predicate label\n"
     ]
    },
    {
     "data": {
      "text/html": [
       "<span class=\"tex2jax_ignore\"><div class=\"entities\" style=\"line-height: 2.5; direction: ltr\">Show me \n",
       "<mark class=\"entity\" style=\"background: #ddd; padding: 0.45em 0.6em; margin: 0 0.25em; line-height: 1; border-radius: 0.35em;\">\n",
       "    time\n",
       "    <span style=\"font-size: 0.8em; font-weight: bold; line-height: 1; border-radius: 0.35em; vertical-align: middle; margin-left: 0.5rem\">predicate</span>\n",
       "</mark>\n",
       "\n",
       "<mark class=\"entity\" style=\"background: #ddd; padding: 0.45em 0.6em; margin: 0 0.25em; line-height: 1; border-radius: 0.35em;\">\n",
       "    -travel\n",
       "    <span style=\"font-size: 0.8em; font-weight: bold; line-height: 1; border-radius: 0.35em; vertical-align: middle; margin-left: 0.5rem\">movie</span>\n",
       "</mark>\n",
       " movies \n",
       "<mark class=\"entity\" style=\"background: #ddd; padding: 0.45em 0.6em; margin: 0 0.25em; line-height: 1; border-radius: 0.35em;\">\n",
       "    directed\n",
       "    <span style=\"font-size: 0.8em; font-weight: bold; line-height: 1; border-radius: 0.35em; vertical-align: middle; margin-left: 0.5rem\">action</span>\n",
       "</mark>\n",
       " by \n",
       "<mark class=\"entity\" style=\"background: #ddd; padding: 0.45em 0.6em; margin: 0 0.25em; line-height: 1; border-radius: 0.35em;\">\n",
       "    Karina Seweryn\n",
       "    <span style=\"font-size: 0.8em; font-weight: bold; line-height: 1; border-radius: 0.35em; vertical-align: middle; margin-left: 0.5rem\">name</span>\n",
       "</mark>\n",
       "</div></span>"
      ],
      "text/plain": [
       "<IPython.core.display.HTML object>"
      ]
     },
     "metadata": {},
     "output_type": "display_data"
    },
    {
     "name": "stdout",
     "output_type": "stream",
     "text": [
      "Show me time-travel movies directed by Karina Seweryn {'entities': [(39, 53, 'name'), (8, 19, 'genre'), (27, 35, 'action')]}\n",
      "Missing movie label\n"
     ]
    },
    {
     "data": {
      "text/html": [
       "<span class=\"tex2jax_ignore\"><div class=\"entities\" style=\"line-height: 2.5; direction: ltr\">List Love \n",
       "<mark class=\"entity\" style=\"background: #ddd; padding: 0.45em 0.6em; margin: 0 0.25em; line-height: 1; border-radius: 0.35em;\">\n",
       "    Story\n",
       "    <span style=\"font-size: 0.8em; font-weight: bold; line-height: 1; border-radius: 0.35em; vertical-align: middle; margin-left: 0.5rem\">genre</span>\n",
       "</mark>\n",
       " films \n",
       "<mark class=\"entity\" style=\"background: #ddd; padding: 0.45em 0.6em; margin: 0 0.25em; line-height: 1; border-radius: 0.35em;\">\n",
       "    written\n",
       "    <span style=\"font-size: 0.8em; font-weight: bold; line-height: 1; border-radius: 0.35em; vertical-align: middle; margin-left: 0.5rem\">action</span>\n",
       "</mark>\n",
       " by \n",
       "<mark class=\"entity\" style=\"background: #ddd; padding: 0.45em 0.6em; margin: 0 0.25em; line-height: 1; border-radius: 0.35em;\">\n",
       "    Julieta Szönyi\n",
       "    <span style=\"font-size: 0.8em; font-weight: bold; line-height: 1; border-radius: 0.35em; vertical-align: middle; margin-left: 0.5rem\">name</span>\n",
       "</mark>\n",
       "</div></span>"
      ],
      "text/plain": [
       "<IPython.core.display.HTML object>"
      ]
     },
     "metadata": {},
     "output_type": "display_data"
    },
    {
     "name": "stdout",
     "output_type": "stream",
     "text": [
      "List Love Story films written by Julieta Szönyi {'entities': [(33, 47, 'name'), (5, 15, 'genre'), (22, 29, 'action')]}\n",
      "Missing genre label\n"
     ]
    },
    {
     "data": {
      "text/html": [
       "<span class=\"tex2jax_ignore\"><div class=\"entities\" style=\"line-height: 2.5; direction: ltr\">Tell me the movies where \n",
       "<mark class=\"entity\" style=\"background: #ddd; padding: 0.45em 0.6em; margin: 0 0.25em; line-height: 1; border-radius: 0.35em;\">\n",
       "    JR makes\n",
       "    <span style=\"font-size: 0.8em; font-weight: bold; line-height: 1; border-radius: 0.35em; vertical-align: middle; margin-left: 0.5rem\">role</span>\n",
       "</mark>\n",
       " appearances</div></span>"
      ],
      "text/plain": [
       "<IPython.core.display.HTML object>"
      ]
     },
     "metadata": {},
     "output_type": "display_data"
    },
    {
     "name": "stdout",
     "output_type": "stream",
     "text": [
      "Tell me the movies where JR makes appearances {'entities': [(25, 27, 'name'), (34, 40, 'action')]}\n",
      "Missing role label\n"
     ]
    },
    {
     "data": {
      "text/html": [
       "<span class=\"tex2jax_ignore\"><div class=\"entities\" style=\"line-height: 2.5; direction: ltr\">Which \n",
       "<mark class=\"entity\" style=\"background: #ddd; padding: 0.45em 0.6em; margin: 0 0.25em; line-height: 1; border-radius: 0.35em;\">\n",
       "    religious satire\n",
       "    <span style=\"font-size: 0.8em; font-weight: bold; line-height: 1; border-radius: 0.35em; vertical-align: middle; margin-left: 0.5rem\">genre</span>\n",
       "</mark>\n",
       " films has \n",
       "<mark class=\"entity\" style=\"background: #ddd; padding: 0.45em 0.6em; margin: 0 0.25em; line-height: 1; border-radius: 0.35em;\">\n",
       "    John F. Link Sr\n",
       "    <span style=\"font-size: 0.8em; font-weight: bold; line-height: 1; border-radius: 0.35em; vertical-align: middle; margin-left: 0.5rem\">name</span>\n",
       "</mark>\n",
       ". \n",
       "<mark class=\"entity\" style=\"background: #ddd; padding: 0.45em 0.6em; margin: 0 0.25em; line-height: 1; border-radius: 0.35em;\">\n",
       "    directed\n",
       "    <span style=\"font-size: 0.8em; font-weight: bold; line-height: 1; border-radius: 0.35em; vertical-align: middle; margin-left: 0.5rem\">action</span>\n",
       "</mark>\n",
       "?</div></span>"
      ],
      "text/plain": [
       "<IPython.core.display.HTML object>"
      ]
     },
     "metadata": {},
     "output_type": "display_data"
    },
    {
     "name": "stdout",
     "output_type": "stream",
     "text": [
      "Which religious satire films has John F. Link Sr. directed? {'entities': [(33, 49, 'name'), (6, 22, 'genre'), (50, 58, 'action')]}\n",
      "Missing name label\n"
     ]
    },
    {
     "data": {
      "text/html": [
       "<span class=\"tex2jax_ignore\"><div class=\"entities\" style=\"line-height: 2.5; direction: ltr\">Give me a list of movies \n",
       "<mark class=\"entity\" style=\"background: #ddd; padding: 0.45em 0.6em; margin: 0 0.25em; line-height: 1; border-radius: 0.35em;\">\n",
       "    written\n",
       "    <span style=\"font-size: 0.8em; font-weight: bold; line-height: 1; border-radius: 0.35em; vertical-align: middle; margin-left: 0.5rem\">action</span>\n",
       "</mark>\n",
       " by \n",
       "<mark class=\"entity\" style=\"background: #ddd; padding: 0.45em 0.6em; margin: 0 0.25em; line-height: 1; border-radius: 0.35em;\">\n",
       "    Ron\n",
       "    <span style=\"font-size: 0.8em; font-weight: bold; line-height: 1; border-radius: 0.35em; vertical-align: middle; margin-left: 0.5rem\">name</span>\n",
       "</mark>\n",
       " Yerxa</div></span>"
      ],
      "text/plain": [
       "<IPython.core.display.HTML object>"
      ]
     },
     "metadata": {},
     "output_type": "display_data"
    },
    {
     "name": "stdout",
     "output_type": "stream",
     "text": [
      "Give me a list of movies written by Ron Yerxa {'entities': [(36, 45, 'name'), (25, 32, 'action')]}\n",
      "Missing name label\n"
     ]
    },
    {
     "data": {
      "text/html": [
       "<span class=\"tex2jax_ignore\"><div class=\"entities\" style=\"line-height: 2.5; direction: ltr\">List \n",
       "<mark class=\"entity\" style=\"background: #ddd; padding: 0.45em 0.6em; margin: 0 0.25em; line-height: 1; border-radius: 0.35em;\">\n",
       "    film based on a novel\n",
       "    <span style=\"font-size: 0.8em; font-weight: bold; line-height: 1; border-radius: 0.35em; vertical-align: middle; margin-left: 0.5rem\">role</span>\n",
       "</mark>\n",
       " films \n",
       "<mark class=\"entity\" style=\"background: #ddd; padding: 0.45em 0.6em; margin: 0 0.25em; line-height: 1; border-radius: 0.35em;\">\n",
       "    written\n",
       "    <span style=\"font-size: 0.8em; font-weight: bold; line-height: 1; border-radius: 0.35em; vertical-align: middle; margin-left: 0.5rem\">action</span>\n",
       "</mark>\n",
       " by \n",
       "<mark class=\"entity\" style=\"background: #ddd; padding: 0.45em 0.6em; margin: 0 0.25em; line-height: 1; border-radius: 0.35em;\">\n",
       "    Sara Ishaq\n",
       "    <span style=\"font-size: 0.8em; font-weight: bold; line-height: 1; border-radius: 0.35em; vertical-align: middle; margin-left: 0.5rem\">name</span>\n",
       "</mark>\n",
       "</div></span>"
      ],
      "text/plain": [
       "<IPython.core.display.HTML object>"
      ]
     },
     "metadata": {},
     "output_type": "display_data"
    },
    {
     "name": "stdout",
     "output_type": "stream",
     "text": [
      "List film based on a novel films written by Sara Ishaq {'entities': [(44, 54, 'name'), (5, 26, 'genre'), (33, 40, 'action')]}\n",
      "Missing role label\n"
     ]
    },
    {
     "data": {
      "text/html": [
       "<span class=\"tex2jax_ignore\"><div class=\"entities\" style=\"line-height: 2.5; direction: ltr\">Show me the films where \n",
       "<mark class=\"entity\" style=\"background: #ddd; padding: 0.45em 0.6em; margin: 0 0.25em; line-height: 1; border-radius: 0.35em;\">\n",
       "    Kim Dong-\n",
       "    <span style=\"font-size: 0.8em; font-weight: bold; line-height: 1; border-radius: 0.35em; vertical-align: middle; margin-left: 0.5rem\">name</span>\n",
       "</mark>\n",
       "won \n",
       "<mark class=\"entity\" style=\"background: #ddd; padding: 0.45em 0.6em; margin: 0 0.25em; line-height: 1; border-radius: 0.35em;\">\n",
       "    appears\n",
       "    <span style=\"font-size: 0.8em; font-weight: bold; line-height: 1; border-radius: 0.35em; vertical-align: middle; margin-left: 0.5rem\">action</span>\n",
       "</mark>\n",
       "</div></span>"
      ],
      "text/plain": [
       "<IPython.core.display.HTML object>"
      ]
     },
     "metadata": {},
     "output_type": "display_data"
    },
    {
     "name": "stdout",
     "output_type": "stream",
     "text": [
      "Show me the films where Kim Dong-won appears {'entities': [(24, 36, 'name'), (37, 43, 'action'), (37, 44, 'action')]}\n",
      "Missing name label\n"
     ]
    },
    {
     "data": {
      "text/html": [
       "<span class=\"tex2jax_ignore\"><div class=\"entities\" style=\"line-height: 2.5; direction: ltr\">List buddy \n",
       "<mark class=\"entity\" style=\"background: #ddd; padding: 0.45em 0.6em; margin: 0 0.25em; line-height: 1; border-radius: 0.35em;\">\n",
       "    cop\n",
       "    <span style=\"font-size: 0.8em; font-weight: bold; line-height: 1; border-radius: 0.35em; vertical-align: middle; margin-left: 0.5rem\">genre</span>\n",
       "</mark>\n",
       " films \n",
       "<mark class=\"entity\" style=\"background: #ddd; padding: 0.45em 0.6em; margin: 0 0.25em; line-height: 1; border-radius: 0.35em;\">\n",
       "    written\n",
       "    <span style=\"font-size: 0.8em; font-weight: bold; line-height: 1; border-radius: 0.35em; vertical-align: middle; margin-left: 0.5rem\">action</span>\n",
       "</mark>\n",
       " by \n",
       "<mark class=\"entity\" style=\"background: #ddd; padding: 0.45em 0.6em; margin: 0 0.25em; line-height: 1; border-radius: 0.35em;\">\n",
       "    Keeley Forsyth\n",
       "    <span style=\"font-size: 0.8em; font-weight: bold; line-height: 1; border-radius: 0.35em; vertical-align: middle; margin-left: 0.5rem\">name</span>\n",
       "</mark>\n",
       "</div></span>"
      ],
      "text/plain": [
       "<IPython.core.display.HTML object>"
      ]
     },
     "metadata": {},
     "output_type": "display_data"
    },
    {
     "name": "stdout",
     "output_type": "stream",
     "text": [
      "List buddy cop films written by Keeley Forsyth {'entities': [(32, 46, 'name'), (5, 14, 'genre'), (21, 28, 'action')]}\n",
      "Missing genre label\n"
     ]
    },
    {
     "data": {
      "text/html": [
       "<span class=\"tex2jax_ignore\"><div class=\"entities\" style=\"line-height: 2.5; direction: ltr\">Which movies has \n",
       "<mark class=\"entity\" style=\"background: #ddd; padding: 0.45em 0.6em; margin: 0 0.25em; line-height: 1; border-radius: 0.35em;\">\n",
       "    Simone\n",
       "    <span style=\"font-size: 0.8em; font-weight: bold; line-height: 1; border-radius: 0.35em; vertical-align: middle; margin-left: 0.5rem\">name</span>\n",
       "</mark>\n",
       " McAullay \n",
       "<mark class=\"entity\" style=\"background: #ddd; padding: 0.45em 0.6em; margin: 0 0.25em; line-height: 1; border-radius: 0.35em;\">\n",
       "    acted\n",
       "    <span style=\"font-size: 0.8em; font-weight: bold; line-height: 1; border-radius: 0.35em; vertical-align: middle; margin-left: 0.5rem\">action</span>\n",
       "</mark>\n",
       "</div></span>"
      ],
      "text/plain": [
       "<IPython.core.display.HTML object>"
      ]
     },
     "metadata": {},
     "output_type": "display_data"
    },
    {
     "name": "stdout",
     "output_type": "stream",
     "text": [
      "Which movies has Simone McAullay acted {'entities': [(17, 32, 'name'), (33, 38, 'action')]}\n",
      "Missing name label\n"
     ]
    },
    {
     "data": {
      "text/html": [
       "<span class=\"tex2jax_ignore\"><div class=\"entities\" style=\"line-height: 2.5; direction: ltr\">List \n",
       "<mark class=\"entity\" style=\"background: #ddd; padding: 0.45em 0.6em; margin: 0 0.25em; line-height: 1; border-radius: 0.35em;\">\n",
       "    film based on books\n",
       "    <span style=\"font-size: 0.8em; font-weight: bold; line-height: 1; border-radius: 0.35em; vertical-align: middle; margin-left: 0.5rem\">role</span>\n",
       "</mark>\n",
       " films \n",
       "<mark class=\"entity\" style=\"background: #ddd; padding: 0.45em 0.6em; margin: 0 0.25em; line-height: 1; border-radius: 0.35em;\">\n",
       "    written\n",
       "    <span style=\"font-size: 0.8em; font-weight: bold; line-height: 1; border-radius: 0.35em; vertical-align: middle; margin-left: 0.5rem\">action</span>\n",
       "</mark>\n",
       " by \n",
       "<mark class=\"entity\" style=\"background: #ddd; padding: 0.45em 0.6em; margin: 0 0.25em; line-height: 1; border-radius: 0.35em;\">\n",
       "    Lajos Bertók\n",
       "    <span style=\"font-size: 0.8em; font-weight: bold; line-height: 1; border-radius: 0.35em; vertical-align: middle; margin-left: 0.5rem\">name</span>\n",
       "</mark>\n",
       "</div></span>"
      ],
      "text/plain": [
       "<IPython.core.display.HTML object>"
      ]
     },
     "metadata": {},
     "output_type": "display_data"
    },
    {
     "name": "stdout",
     "output_type": "stream",
     "text": [
      "List film based on books films written by Lajos Bertók {'entities': [(42, 54, 'name'), (5, 24, 'genre'), (31, 38, 'action')]}\n",
      "Missing role label\n"
     ]
    },
    {
     "data": {
      "text/html": [
       "<span class=\"tex2jax_ignore\"><div class=\"entities\" style=\"line-height: 2.5; direction: ltr\">Give me a list of \n",
       "<mark class=\"entity\" style=\"background: #ddd; padding: 0.45em 0.6em; margin: 0 0.25em; line-height: 1; border-radius: 0.35em;\">\n",
       "    film noir\n",
       "    <span style=\"font-size: 0.8em; font-weight: bold; line-height: 1; border-radius: 0.35em; vertical-align: middle; margin-left: 0.5rem\">genre</span>\n",
       "</mark>\n",
       " movies \n",
       "<mark class=\"entity\" style=\"background: #ddd; padding: 0.45em 0.6em; margin: 0 0.25em; line-height: 1; border-radius: 0.35em;\">\n",
       "    featuring\n",
       "    <span style=\"font-size: 0.8em; font-weight: bold; line-height: 1; border-radius: 0.35em; vertical-align: middle; margin-left: 0.5rem\">action</span>\n",
       "</mark>\n",
       " \n",
       "<mark class=\"entity\" style=\"background: #ddd; padding: 0.45em 0.6em; margin: 0 0.25em; line-height: 1; border-radius: 0.35em;\">\n",
       "    Lee\n",
       "    <span style=\"font-size: 0.8em; font-weight: bold; line-height: 1; border-radius: 0.35em; vertical-align: middle; margin-left: 0.5rem\">name</span>\n",
       "</mark>\n",
       " Do-kyeong</div></span>"
      ],
      "text/plain": [
       "<IPython.core.display.HTML object>"
      ]
     },
     "metadata": {},
     "output_type": "display_data"
    },
    {
     "name": "stdout",
     "output_type": "stream",
     "text": [
      "Give me a list of film noir movies featuring Lee Do-kyeong {'entities': [(45, 58, 'name'), (18, 27, 'genre'), (35, 44, 'action')]}\n",
      "Missing name label\n"
     ]
    },
    {
     "data": {
      "text/html": [
       "<span class=\"tex2jax_ignore\"><div class=\"entities\" style=\"line-height: 2.5; direction: ltr\">Which \n",
       "<mark class=\"entity\" style=\"background: #ddd; padding: 0.45em 0.6em; margin: 0 0.25em; line-height: 1; border-radius: 0.35em;\">\n",
       "    world music\n",
       "    <span style=\"font-size: 0.8em; font-weight: bold; line-height: 1; border-radius: 0.35em; vertical-align: middle; margin-left: 0.5rem\">genre</span>\n",
       "</mark>\n",
       " films has \n",
       "<mark class=\"entity\" style=\"background: #ddd; padding: 0.45em 0.6em; margin: 0 0.25em; line-height: 1; border-radius: 0.35em;\">\n",
       "    Čo Pjong-\n",
       "    <span style=\"font-size: 0.8em; font-weight: bold; line-height: 1; border-radius: 0.35em; vertical-align: middle; margin-left: 0.5rem\">name</span>\n",
       "</mark>\n",
       "gju \n",
       "<mark class=\"entity\" style=\"background: #ddd; padding: 0.45em 0.6em; margin: 0 0.25em; line-height: 1; border-radius: 0.35em;\">\n",
       "    written\n",
       "    <span style=\"font-size: 0.8em; font-weight: bold; line-height: 1; border-radius: 0.35em; vertical-align: middle; margin-left: 0.5rem\">action</span>\n",
       "</mark>\n",
       "?</div></span>"
      ],
      "text/plain": [
       "<IPython.core.display.HTML object>"
      ]
     },
     "metadata": {},
     "output_type": "display_data"
    },
    {
     "name": "stdout",
     "output_type": "stream",
     "text": [
      "Which world music films has Čo Pjong-gju written? {'entities': [(28, 40, 'name'), (6, 17, 'genre'), (41, 48, 'action')]}\n",
      "Missing name label\n"
     ]
    },
    {
     "data": {
      "text/html": [
       "<span class=\"tex2jax_ignore\"><div class=\"entities\" style=\"line-height: 2.5; direction: ltr\">Show me \n",
       "<mark class=\"entity\" style=\"background: #ddd; padding: 0.45em 0.6em; margin: 0 0.25em; line-height: 1; border-radius: 0.35em;\">\n",
       "    time\n",
       "    <span style=\"font-size: 0.8em; font-weight: bold; line-height: 1; border-radius: 0.35em; vertical-align: middle; margin-left: 0.5rem\">predicate</span>\n",
       "</mark>\n",
       "\n",
       "<mark class=\"entity\" style=\"background: #ddd; padding: 0.45em 0.6em; margin: 0 0.25em; line-height: 1; border-radius: 0.35em;\">\n",
       "    -travel\n",
       "    <span style=\"font-size: 0.8em; font-weight: bold; line-height: 1; border-radius: 0.35em; vertical-align: middle; margin-left: 0.5rem\">movie</span>\n",
       "</mark>\n",
       " movies \n",
       "<mark class=\"entity\" style=\"background: #ddd; padding: 0.45em 0.6em; margin: 0 0.25em; line-height: 1; border-radius: 0.35em;\">\n",
       "    written\n",
       "    <span style=\"font-size: 0.8em; font-weight: bold; line-height: 1; border-radius: 0.35em; vertical-align: middle; margin-left: 0.5rem\">action</span>\n",
       "</mark>\n",
       " by \n",
       "<mark class=\"entity\" style=\"background: #ddd; padding: 0.45em 0.6em; margin: 0 0.25em; line-height: 1; border-radius: 0.35em;\">\n",
       "    Greg Finton\n",
       "    <span style=\"font-size: 0.8em; font-weight: bold; line-height: 1; border-radius: 0.35em; vertical-align: middle; margin-left: 0.5rem\">name</span>\n",
       "</mark>\n",
       "</div></span>"
      ],
      "text/plain": [
       "<IPython.core.display.HTML object>"
      ]
     },
     "metadata": {},
     "output_type": "display_data"
    },
    {
     "name": "stdout",
     "output_type": "stream",
     "text": [
      "Show me time-travel movies written by Greg Finton {'entities': [(38, 49, 'name'), (8, 19, 'genre'), (27, 34, 'action')]}\n",
      "Missing predicate label\n"
     ]
    },
    {
     "data": {
      "text/html": [
       "<span class=\"tex2jax_ignore\"><div class=\"entities\" style=\"line-height: 2.5; direction: ltr\">Show me \n",
       "<mark class=\"entity\" style=\"background: #ddd; padding: 0.45em 0.6em; margin: 0 0.25em; line-height: 1; border-radius: 0.35em;\">\n",
       "    time\n",
       "    <span style=\"font-size: 0.8em; font-weight: bold; line-height: 1; border-radius: 0.35em; vertical-align: middle; margin-left: 0.5rem\">predicate</span>\n",
       "</mark>\n",
       "\n",
       "<mark class=\"entity\" style=\"background: #ddd; padding: 0.45em 0.6em; margin: 0 0.25em; line-height: 1; border-radius: 0.35em;\">\n",
       "    -travel\n",
       "    <span style=\"font-size: 0.8em; font-weight: bold; line-height: 1; border-radius: 0.35em; vertical-align: middle; margin-left: 0.5rem\">movie</span>\n",
       "</mark>\n",
       " movies \n",
       "<mark class=\"entity\" style=\"background: #ddd; padding: 0.45em 0.6em; margin: 0 0.25em; line-height: 1; border-radius: 0.35em;\">\n",
       "    written\n",
       "    <span style=\"font-size: 0.8em; font-weight: bold; line-height: 1; border-radius: 0.35em; vertical-align: middle; margin-left: 0.5rem\">action</span>\n",
       "</mark>\n",
       " by \n",
       "<mark class=\"entity\" style=\"background: #ddd; padding: 0.45em 0.6em; margin: 0 0.25em; line-height: 1; border-radius: 0.35em;\">\n",
       "    Greg Finton\n",
       "    <span style=\"font-size: 0.8em; font-weight: bold; line-height: 1; border-radius: 0.35em; vertical-align: middle; margin-left: 0.5rem\">name</span>\n",
       "</mark>\n",
       "</div></span>"
      ],
      "text/plain": [
       "<IPython.core.display.HTML object>"
      ]
     },
     "metadata": {},
     "output_type": "display_data"
    },
    {
     "name": "stdout",
     "output_type": "stream",
     "text": [
      "Show me time-travel movies written by Greg Finton {'entities': [(38, 49, 'name'), (8, 19, 'genre'), (27, 34, 'action')]}\n",
      "Missing movie label\n"
     ]
    },
    {
     "data": {
      "text/html": [
       "<span class=\"tex2jax_ignore\"><div class=\"entities\" style=\"line-height: 2.5; direction: ltr\">Select all the movies of \n",
       "<mark class=\"entity\" style=\"background: #ddd; padding: 0.45em 0.6em; margin: 0 0.25em; line-height: 1; border-radius: 0.35em;\">\n",
       "    Ismael\n",
       "    <span style=\"font-size: 0.8em; font-weight: bold; line-height: 1; border-radius: 0.35em; vertical-align: middle; margin-left: 0.5rem\">name</span>\n",
       "</mark>\n",
       " 'East' \n",
       "<mark class=\"entity\" style=\"background: #ddd; padding: 0.45em 0.6em; margin: 0 0.25em; line-height: 1; border-radius: 0.35em;\">\n",
       "    Carlo\n",
       "    <span style=\"font-size: 0.8em; font-weight: bold; line-height: 1; border-radius: 0.35em; vertical-align: middle; margin-left: 0.5rem\">name</span>\n",
       "</mark>\n",
       "</div></span>"
      ],
      "text/plain": [
       "<IPython.core.display.HTML object>"
      ]
     },
     "metadata": {},
     "output_type": "display_data"
    },
    {
     "name": "stdout",
     "output_type": "stream",
     "text": [
      "Select all the movies of Ismael 'East' Carlo {'entities': [(25, 44, 'name')]}\n",
      "Missing name label\n"
     ]
    },
    {
     "data": {
      "text/html": [
       "<span class=\"tex2jax_ignore\"><div class=\"entities\" style=\"line-height: 2.5; direction: ltr\">Select all the movies of \n",
       "<mark class=\"entity\" style=\"background: #ddd; padding: 0.45em 0.6em; margin: 0 0.25em; line-height: 1; border-radius: 0.35em;\">\n",
       "    Ismael\n",
       "    <span style=\"font-size: 0.8em; font-weight: bold; line-height: 1; border-radius: 0.35em; vertical-align: middle; margin-left: 0.5rem\">name</span>\n",
       "</mark>\n",
       " 'East' \n",
       "<mark class=\"entity\" style=\"background: #ddd; padding: 0.45em 0.6em; margin: 0 0.25em; line-height: 1; border-radius: 0.35em;\">\n",
       "    Carlo\n",
       "    <span style=\"font-size: 0.8em; font-weight: bold; line-height: 1; border-radius: 0.35em; vertical-align: middle; margin-left: 0.5rem\">name</span>\n",
       "</mark>\n",
       "</div></span>"
      ],
      "text/plain": [
       "<IPython.core.display.HTML object>"
      ]
     },
     "metadata": {},
     "output_type": "display_data"
    },
    {
     "name": "stdout",
     "output_type": "stream",
     "text": [
      "Select all the movies of Ismael 'East' Carlo {'entities': [(25, 44, 'name')]}\n",
      "Missing name label\n"
     ]
    },
    {
     "data": {
      "text/html": [
       "<span class=\"tex2jax_ignore\"><div class=\"entities\" style=\"line-height: 2.5; direction: ltr\">List \n",
       "<mark class=\"entity\" style=\"background: #ddd; padding: 0.45em 0.6em; margin: 0 0.25em; line-height: 1; border-radius: 0.35em;\">\n",
       "    film based on literature\n",
       "    <span style=\"font-size: 0.8em; font-weight: bold; line-height: 1; border-radius: 0.35em; vertical-align: middle; margin-left: 0.5rem\">role</span>\n",
       "</mark>\n",
       " films \n",
       "<mark class=\"entity\" style=\"background: #ddd; padding: 0.45em 0.6em; margin: 0 0.25em; line-height: 1; border-radius: 0.35em;\">\n",
       "    written\n",
       "    <span style=\"font-size: 0.8em; font-weight: bold; line-height: 1; border-radius: 0.35em; vertical-align: middle; margin-left: 0.5rem\">action</span>\n",
       "</mark>\n",
       " by \n",
       "<mark class=\"entity\" style=\"background: #ddd; padding: 0.45em 0.6em; margin: 0 0.25em; line-height: 1; border-radius: 0.35em;\">\n",
       "    Ryuji Sainei\n",
       "    <span style=\"font-size: 0.8em; font-weight: bold; line-height: 1; border-radius: 0.35em; vertical-align: middle; margin-left: 0.5rem\">name</span>\n",
       "</mark>\n",
       "</div></span>"
      ],
      "text/plain": [
       "<IPython.core.display.HTML object>"
      ]
     },
     "metadata": {},
     "output_type": "display_data"
    },
    {
     "name": "stdout",
     "output_type": "stream",
     "text": [
      "List film based on literature films written by Ryuji Sainei {'entities': [(47, 59, 'name'), (5, 29, 'genre'), (36, 43, 'action')]}\n",
      "Missing role label\n"
     ]
    },
    {
     "data": {
      "text/html": [
       "<span class=\"tex2jax_ignore\"><div class=\"entities\" style=\"line-height: 2.5; direction: ltr\">List Slavic \n",
       "<mark class=\"entity\" style=\"background: #ddd; padding: 0.45em 0.6em; margin: 0 0.25em; line-height: 1; border-radius: 0.35em;\">\n",
       "    fantasy\n",
       "    <span style=\"font-size: 0.8em; font-weight: bold; line-height: 1; border-radius: 0.35em; vertical-align: middle; margin-left: 0.5rem\">genre</span>\n",
       "</mark>\n",
       " films \n",
       "<mark class=\"entity\" style=\"background: #ddd; padding: 0.45em 0.6em; margin: 0 0.25em; line-height: 1; border-radius: 0.35em;\">\n",
       "    written\n",
       "    <span style=\"font-size: 0.8em; font-weight: bold; line-height: 1; border-radius: 0.35em; vertical-align: middle; margin-left: 0.5rem\">action</span>\n",
       "</mark>\n",
       " by \n",
       "<mark class=\"entity\" style=\"background: #ddd; padding: 0.45em 0.6em; margin: 0 0.25em; line-height: 1; border-radius: 0.35em;\">\n",
       "    Knut Hake\n",
       "    <span style=\"font-size: 0.8em; font-weight: bold; line-height: 1; border-radius: 0.35em; vertical-align: middle; margin-left: 0.5rem\">name</span>\n",
       "</mark>\n",
       "</div></span>"
      ],
      "text/plain": [
       "<IPython.core.display.HTML object>"
      ]
     },
     "metadata": {},
     "output_type": "display_data"
    },
    {
     "name": "stdout",
     "output_type": "stream",
     "text": [
      "List Slavic fantasy films written by Knut Hake {'entities': [(37, 46, 'name'), (5, 19, 'genre'), (26, 33, 'action')]}\n",
      "Missing genre label\n"
     ]
    },
    {
     "data": {
      "text/html": [
       "<span class=\"tex2jax_ignore\"><div class=\"entities\" style=\"line-height: 2.5; direction: ltr\">Show me \n",
       "<mark class=\"entity\" style=\"background: #ddd; padding: 0.45em 0.6em; margin: 0 0.25em; line-height: 1; border-radius: 0.35em;\">\n",
       "    time\n",
       "    <span style=\"font-size: 0.8em; font-weight: bold; line-height: 1; border-radius: 0.35em; vertical-align: middle; margin-left: 0.5rem\">predicate</span>\n",
       "</mark>\n",
       "\n",
       "<mark class=\"entity\" style=\"background: #ddd; padding: 0.45em 0.6em; margin: 0 0.25em; line-height: 1; border-radius: 0.35em;\">\n",
       "    -travel\n",
       "    <span style=\"font-size: 0.8em; font-weight: bold; line-height: 1; border-radius: 0.35em; vertical-align: middle; margin-left: 0.5rem\">movie</span>\n",
       "</mark>\n",
       " movies \n",
       "<mark class=\"entity\" style=\"background: #ddd; padding: 0.45em 0.6em; margin: 0 0.25em; line-height: 1; border-radius: 0.35em;\">\n",
       "    directed\n",
       "    <span style=\"font-size: 0.8em; font-weight: bold; line-height: 1; border-radius: 0.35em; vertical-align: middle; margin-left: 0.5rem\">action</span>\n",
       "</mark>\n",
       " by \n",
       "<mark class=\"entity\" style=\"background: #ddd; padding: 0.45em 0.6em; margin: 0 0.25em; line-height: 1; border-radius: 0.35em;\">\n",
       "    John Gill\n",
       "    <span style=\"font-size: 0.8em; font-weight: bold; line-height: 1; border-radius: 0.35em; vertical-align: middle; margin-left: 0.5rem\">name</span>\n",
       "</mark>\n",
       "</div></span>"
      ],
      "text/plain": [
       "<IPython.core.display.HTML object>"
      ]
     },
     "metadata": {},
     "output_type": "display_data"
    },
    {
     "name": "stdout",
     "output_type": "stream",
     "text": [
      "Show me time-travel movies directed by John Gill {'entities': [(39, 48, 'name'), (8, 19, 'genre'), (27, 35, 'action')]}\n",
      "Missing predicate label\n"
     ]
    },
    {
     "data": {
      "text/html": [
       "<span class=\"tex2jax_ignore\"><div class=\"entities\" style=\"line-height: 2.5; direction: ltr\">Show me \n",
       "<mark class=\"entity\" style=\"background: #ddd; padding: 0.45em 0.6em; margin: 0 0.25em; line-height: 1; border-radius: 0.35em;\">\n",
       "    time\n",
       "    <span style=\"font-size: 0.8em; font-weight: bold; line-height: 1; border-radius: 0.35em; vertical-align: middle; margin-left: 0.5rem\">predicate</span>\n",
       "</mark>\n",
       "\n",
       "<mark class=\"entity\" style=\"background: #ddd; padding: 0.45em 0.6em; margin: 0 0.25em; line-height: 1; border-radius: 0.35em;\">\n",
       "    -travel\n",
       "    <span style=\"font-size: 0.8em; font-weight: bold; line-height: 1; border-radius: 0.35em; vertical-align: middle; margin-left: 0.5rem\">movie</span>\n",
       "</mark>\n",
       " movies \n",
       "<mark class=\"entity\" style=\"background: #ddd; padding: 0.45em 0.6em; margin: 0 0.25em; line-height: 1; border-radius: 0.35em;\">\n",
       "    directed\n",
       "    <span style=\"font-size: 0.8em; font-weight: bold; line-height: 1; border-radius: 0.35em; vertical-align: middle; margin-left: 0.5rem\">action</span>\n",
       "</mark>\n",
       " by \n",
       "<mark class=\"entity\" style=\"background: #ddd; padding: 0.45em 0.6em; margin: 0 0.25em; line-height: 1; border-radius: 0.35em;\">\n",
       "    John Gill\n",
       "    <span style=\"font-size: 0.8em; font-weight: bold; line-height: 1; border-radius: 0.35em; vertical-align: middle; margin-left: 0.5rem\">name</span>\n",
       "</mark>\n",
       "</div></span>"
      ],
      "text/plain": [
       "<IPython.core.display.HTML object>"
      ]
     },
     "metadata": {},
     "output_type": "display_data"
    },
    {
     "name": "stdout",
     "output_type": "stream",
     "text": [
      "Show me time-travel movies directed by John Gill {'entities': [(39, 48, 'name'), (8, 19, 'genre'), (27, 35, 'action')]}\n",
      "Missing movie label\n"
     ]
    },
    {
     "data": {
      "text/html": [
       "<span class=\"tex2jax_ignore\"><div class=\"entities\" style=\"line-height: 2.5; direction: ltr\">Give me a list of \n",
       "<mark class=\"entity\" style=\"background: #ddd; padding: 0.45em 0.6em; margin: 0 0.25em; line-height: 1; border-radius: 0.35em;\">\n",
       "    medical drama\n",
       "    <span style=\"font-size: 0.8em; font-weight: bold; line-height: 1; border-radius: 0.35em; vertical-align: middle; margin-left: 0.5rem\">genre</span>\n",
       "</mark>\n",
       " movies \n",
       "<mark class=\"entity\" style=\"background: #ddd; padding: 0.45em 0.6em; margin: 0 0.25em; line-height: 1; border-radius: 0.35em;\">\n",
       "    featuring\n",
       "    <span style=\"font-size: 0.8em; font-weight: bold; line-height: 1; border-radius: 0.35em; vertical-align: middle; margin-left: 0.5rem\">action</span>\n",
       "</mark>\n",
       " \n",
       "<mark class=\"entity\" style=\"background: #ddd; padding: 0.45em 0.6em; margin: 0 0.25em; line-height: 1; border-radius: 0.35em;\">\n",
       "    Patrick\n",
       "    <span style=\"font-size: 0.8em; font-weight: bold; line-height: 1; border-radius: 0.35em; vertical-align: middle; margin-left: 0.5rem\">name</span>\n",
       "</mark>\n",
       " New</div></span>"
      ],
      "text/plain": [
       "<IPython.core.display.HTML object>"
      ]
     },
     "metadata": {},
     "output_type": "display_data"
    },
    {
     "name": "stdout",
     "output_type": "stream",
     "text": [
      "Give me a list of medical drama movies featuring Patrick New {'entities': [(49, 60, 'name'), (18, 31, 'genre'), (39, 48, 'action')]}\n",
      "Missing name label\n"
     ]
    },
    {
     "data": {
      "text/html": [
       "<span class=\"tex2jax_ignore\"><div class=\"entities\" style=\"line-height: 2.5; direction: ltr\">List Love \n",
       "<mark class=\"entity\" style=\"background: #ddd; padding: 0.45em 0.6em; margin: 0 0.25em; line-height: 1; border-radius: 0.35em;\">\n",
       "    Story\n",
       "    <span style=\"font-size: 0.8em; font-weight: bold; line-height: 1; border-radius: 0.35em; vertical-align: middle; margin-left: 0.5rem\">genre</span>\n",
       "</mark>\n",
       " films \n",
       "<mark class=\"entity\" style=\"background: #ddd; padding: 0.45em 0.6em; margin: 0 0.25em; line-height: 1; border-radius: 0.35em;\">\n",
       "    written\n",
       "    <span style=\"font-size: 0.8em; font-weight: bold; line-height: 1; border-radius: 0.35em; vertical-align: middle; margin-left: 0.5rem\">action</span>\n",
       "</mark>\n",
       " by \n",
       "<mark class=\"entity\" style=\"background: #ddd; padding: 0.45em 0.6em; margin: 0 0.25em; line-height: 1; border-radius: 0.35em;\">\n",
       "    Grady Bowman\n",
       "    <span style=\"font-size: 0.8em; font-weight: bold; line-height: 1; border-radius: 0.35em; vertical-align: middle; margin-left: 0.5rem\">name</span>\n",
       "</mark>\n",
       "</div></span>"
      ],
      "text/plain": [
       "<IPython.core.display.HTML object>"
      ]
     },
     "metadata": {},
     "output_type": "display_data"
    },
    {
     "name": "stdout",
     "output_type": "stream",
     "text": [
      "List Love Story films written by Grady Bowman {'entities': [(33, 45, 'name'), (5, 15, 'genre'), (22, 29, 'action')]}\n",
      "Missing genre label\n"
     ]
    },
    {
     "data": {
      "text/html": [
       "<span class=\"tex2jax_ignore\"><div class=\"entities\" style=\"line-height: 2.5; direction: ltr\">Which movies has \n",
       "<mark class=\"entity\" style=\"background: #ddd; padding: 0.45em 0.6em; margin: 0 0.25em; line-height: 1; border-radius: 0.35em;\">\n",
       "    Daniel\n",
       "    <span style=\"font-size: 0.8em; font-weight: bold; line-height: 1; border-radius: 0.35em; vertical-align: middle; margin-left: 0.5rem\">name</span>\n",
       "</mark>\n",
       " Dow \n",
       "<mark class=\"entity\" style=\"background: #ddd; padding: 0.45em 0.6em; margin: 0 0.25em; line-height: 1; border-radius: 0.35em;\">\n",
       "    acted\n",
       "    <span style=\"font-size: 0.8em; font-weight: bold; line-height: 1; border-radius: 0.35em; vertical-align: middle; margin-left: 0.5rem\">action</span>\n",
       "</mark>\n",
       "</div></span>"
      ],
      "text/plain": [
       "<IPython.core.display.HTML object>"
      ]
     },
     "metadata": {},
     "output_type": "display_data"
    },
    {
     "name": "stdout",
     "output_type": "stream",
     "text": [
      "Which movies has Daniel Dow acted {'entities': [(17, 27, 'name'), (28, 33, 'action')]}\n",
      "Missing name label\n"
     ]
    },
    {
     "data": {
      "text/html": [
       "<span class=\"tex2jax_ignore\"><div class=\"entities\" style=\"line-height: 2.5; direction: ltr\">List \n",
       "<mark class=\"entity\" style=\"background: #ddd; padding: 0.45em 0.6em; margin: 0 0.25em; line-height: 1; border-radius: 0.35em;\">\n",
       "    film based on a novel\n",
       "    <span style=\"font-size: 0.8em; font-weight: bold; line-height: 1; border-radius: 0.35em; vertical-align: middle; margin-left: 0.5rem\">role</span>\n",
       "</mark>\n",
       " films \n",
       "<mark class=\"entity\" style=\"background: #ddd; padding: 0.45em 0.6em; margin: 0 0.25em; line-height: 1; border-radius: 0.35em;\">\n",
       "    written\n",
       "    <span style=\"font-size: 0.8em; font-weight: bold; line-height: 1; border-radius: 0.35em; vertical-align: middle; margin-left: 0.5rem\">action</span>\n",
       "</mark>\n",
       " by \n",
       "<mark class=\"entity\" style=\"background: #ddd; padding: 0.45em 0.6em; margin: 0 0.25em; line-height: 1; border-radius: 0.35em;\">\n",
       "    Viktor Klem\n",
       "    <span style=\"font-size: 0.8em; font-weight: bold; line-height: 1; border-radius: 0.35em; vertical-align: middle; margin-left: 0.5rem\">name</span>\n",
       "</mark>\n",
       "</div></span>"
      ],
      "text/plain": [
       "<IPython.core.display.HTML object>"
      ]
     },
     "metadata": {},
     "output_type": "display_data"
    },
    {
     "name": "stdout",
     "output_type": "stream",
     "text": [
      "List film based on a novel films written by Viktor Klem {'entities': [(44, 55, 'name'), (5, 26, 'genre'), (33, 40, 'action')]}\n",
      "Missing role label\n"
     ]
    },
    {
     "data": {
      "text/html": [
       "<span class=\"tex2jax_ignore\"><div class=\"entities\" style=\"line-height: 2.5; direction: ltr\">List buddy \n",
       "<mark class=\"entity\" style=\"background: #ddd; padding: 0.45em 0.6em; margin: 0 0.25em; line-height: 1; border-radius: 0.35em;\">\n",
       "    cop\n",
       "    <span style=\"font-size: 0.8em; font-weight: bold; line-height: 1; border-radius: 0.35em; vertical-align: middle; margin-left: 0.5rem\">genre</span>\n",
       "</mark>\n",
       " films \n",
       "<mark class=\"entity\" style=\"background: #ddd; padding: 0.45em 0.6em; margin: 0 0.25em; line-height: 1; border-radius: 0.35em;\">\n",
       "    written\n",
       "    <span style=\"font-size: 0.8em; font-weight: bold; line-height: 1; border-radius: 0.35em; vertical-align: middle; margin-left: 0.5rem\">action</span>\n",
       "</mark>\n",
       " by \n",
       "<mark class=\"entity\" style=\"background: #ddd; padding: 0.45em 0.6em; margin: 0 0.25em; line-height: 1; border-radius: 0.35em;\">\n",
       "    Craterus\n",
       "    <span style=\"font-size: 0.8em; font-weight: bold; line-height: 1; border-radius: 0.35em; vertical-align: middle; margin-left: 0.5rem\">name</span>\n",
       "</mark>\n",
       "</div></span>"
      ],
      "text/plain": [
       "<IPython.core.display.HTML object>"
      ]
     },
     "metadata": {},
     "output_type": "display_data"
    },
    {
     "name": "stdout",
     "output_type": "stream",
     "text": [
      "List buddy cop films written by Craterus {'entities': [(32, 40, 'name'), (5, 14, 'genre'), (21, 28, 'action')]}\n",
      "Missing genre label\n"
     ]
    },
    {
     "data": {
      "text/html": [
       "<span class=\"tex2jax_ignore\"><div class=\"entities\" style=\"line-height: 2.5; direction: ltr\">List \n",
       "<mark class=\"entity\" style=\"background: #ddd; padding: 0.45em 0.6em; margin: 0 0.25em; line-height: 1; border-radius: 0.35em;\">\n",
       "    film based on books\n",
       "    <span style=\"font-size: 0.8em; font-weight: bold; line-height: 1; border-radius: 0.35em; vertical-align: middle; margin-left: 0.5rem\">role</span>\n",
       "</mark>\n",
       " films \n",
       "<mark class=\"entity\" style=\"background: #ddd; padding: 0.45em 0.6em; margin: 0 0.25em; line-height: 1; border-radius: 0.35em;\">\n",
       "    written\n",
       "    <span style=\"font-size: 0.8em; font-weight: bold; line-height: 1; border-radius: 0.35em; vertical-align: middle; margin-left: 0.5rem\">action</span>\n",
       "</mark>\n",
       " by \n",
       "<mark class=\"entity\" style=\"background: #ddd; padding: 0.45em 0.6em; margin: 0 0.25em; line-height: 1; border-radius: 0.35em;\">\n",
       "    Derek Hanekom\n",
       "    <span style=\"font-size: 0.8em; font-weight: bold; line-height: 1; border-radius: 0.35em; vertical-align: middle; margin-left: 0.5rem\">name</span>\n",
       "</mark>\n",
       "</div></span>"
      ],
      "text/plain": [
       "<IPython.core.display.HTML object>"
      ]
     },
     "metadata": {},
     "output_type": "display_data"
    },
    {
     "name": "stdout",
     "output_type": "stream",
     "text": [
      "List film based on books films written by Derek Hanekom {'entities': [(42, 55, 'name'), (5, 24, 'genre'), (31, 38, 'action')]}\n",
      "Missing role label\n"
     ]
    },
    {
     "data": {
      "text/html": [
       "<span class=\"tex2jax_ignore\"><div class=\"entities\" style=\"line-height: 2.5; direction: ltr\">Give me the \n",
       "<mark class=\"entity\" style=\"background: #ddd; padding: 0.45em 0.6em; margin: 0 0.25em; line-height: 1; border-radius: 0.35em;\">\n",
       "    release\n",
       "    <span style=\"font-size: 0.8em; font-weight: bold; line-height: 1; border-radius: 0.35em; vertical-align: middle; margin-left: 0.5rem\">predicate</span>\n",
       "</mark>\n",
       " \n",
       "<mark class=\"entity\" style=\"background: #ddd; padding: 0.45em 0.6em; margin: 0 0.25em; line-height: 1; border-radius: 0.35em;\">\n",
       "    date\n",
       "    <span style=\"font-size: 0.8em; font-weight: bold; line-height: 1; border-radius: 0.35em; vertical-align: middle; margin-left: 0.5rem\">predicate</span>\n",
       "</mark>\n",
       " for \n",
       "<mark class=\"entity\" style=\"background: #ddd; padding: 0.45em 0.6em; margin: 0 0.25em; line-height: 1; border-radius: 0.35em;\">\n",
       "    How Much Does the Trojan Horse Weigh\n",
       "    <span style=\"font-size: 0.8em; font-weight: bold; line-height: 1; border-radius: 0.35em; vertical-align: middle; margin-left: 0.5rem\">movie</span>\n",
       "</mark>\n",
       "?</div></span>"
      ],
      "text/plain": [
       "<IPython.core.display.HTML object>"
      ]
     },
     "metadata": {},
     "output_type": "display_data"
    },
    {
     "name": "stdout",
     "output_type": "stream",
     "text": [
      "Give me the release date for How Much Does the Trojan Horse Weigh? {'entities': [(29, 66, 'movie'), (12, 19, 'predicate'), (20, 24, 'predicate')]}\n",
      "Missing movie label\n"
     ]
    },
    {
     "data": {
      "text/html": [
       "<span class=\"tex2jax_ignore\"><div class=\"entities\" style=\"line-height: 2.5; direction: ltr\">What's the \n",
       "<mark class=\"entity\" style=\"background: #ddd; padding: 0.45em 0.6em; margin: 0 0.25em; line-height: 1; border-radius: 0.35em;\">\n",
       "    release\n",
       "    <span style=\"font-size: 0.8em; font-weight: bold; line-height: 1; border-radius: 0.35em; vertical-align: middle; margin-left: 0.5rem\">predicate</span>\n",
       "</mark>\n",
       " \n",
       "<mark class=\"entity\" style=\"background: #ddd; padding: 0.45em 0.6em; margin: 0 0.25em; line-height: 1; border-radius: 0.35em;\">\n",
       "    year\n",
       "    <span style=\"font-size: 0.8em; font-weight: bold; line-height: 1; border-radius: 0.35em; vertical-align: middle; margin-left: 0.5rem\">predicate</span>\n",
       "</mark>\n",
       " of the movie \n",
       "<mark class=\"entity\" style=\"background: #ddd; padding: 0.45em 0.6em; margin: 0 0.25em; line-height: 1; border-radius: 0.35em;\">\n",
       "    Gone Fishin\n",
       "    <span style=\"font-size: 0.8em; font-weight: bold; line-height: 1; border-radius: 0.35em; vertical-align: middle; margin-left: 0.5rem\">movie</span>\n",
       "</mark>\n",
       "'?</div></span>"
      ],
      "text/plain": [
       "<IPython.core.display.HTML object>"
      ]
     },
     "metadata": {},
     "output_type": "display_data"
    },
    {
     "name": "stdout",
     "output_type": "stream",
     "text": [
      "What's the release year of the movie Gone Fishin'? {'entities': [(37, 49, 'movie'), (11, 18, 'predicate'), (19, 23, 'predicate')]}\n",
      "Missing movie label\n"
     ]
    },
    {
     "data": {
      "text/html": [
       "<span class=\"tex2jax_ignore\"><div class=\"entities\" style=\"line-height: 2.5; direction: ltr\">When did \n",
       "<mark class=\"entity\" style=\"background: #ddd; padding: 0.45em 0.6em; margin: 0 0.25em; line-height: 1; border-radius: 0.35em;\">\n",
       "    1969\n",
       "    <span style=\"font-size: 0.8em; font-weight: bold; line-height: 1; border-radius: 0.35em; vertical-align: middle; margin-left: 0.5rem\">year</span>\n",
       "</mark>\n",
       " hit the theaters?</div></span>"
      ],
      "text/plain": [
       "<IPython.core.display.HTML object>"
      ]
     },
     "metadata": {},
     "output_type": "display_data"
    },
    {
     "name": "stdout",
     "output_type": "stream",
     "text": [
      "When did 1969 hit the theaters? {'entities': [(9, 13, 'movie')]}\n",
      "Missing year label\n"
     ]
    },
    {
     "data": {
      "text/html": [
       "<span class=\"tex2jax_ignore\"><div class=\"entities\" style=\"line-height: 2.5; direction: ltr\">Give me the \n",
       "<mark class=\"entity\" style=\"background: #ddd; padding: 0.45em 0.6em; margin: 0 0.25em; line-height: 1; border-radius: 0.35em;\">\n",
       "    release\n",
       "    <span style=\"font-size: 0.8em; font-weight: bold; line-height: 1; border-radius: 0.35em; vertical-align: middle; margin-left: 0.5rem\">predicate</span>\n",
       "</mark>\n",
       " \n",
       "<mark class=\"entity\" style=\"background: #ddd; padding: 0.45em 0.6em; margin: 0 0.25em; line-height: 1; border-radius: 0.35em;\">\n",
       "    date\n",
       "    <span style=\"font-size: 0.8em; font-weight: bold; line-height: 1; border-radius: 0.35em; vertical-align: middle; margin-left: 0.5rem\">predicate</span>\n",
       "</mark>\n",
       " for \n",
       "<mark class=\"entity\" style=\"background: #ddd; padding: 0.45em 0.6em; margin: 0 0.25em; line-height: 1; border-radius: 0.35em;\">\n",
       "    Maine Pyaar Kyun Kiya\n",
       "    <span style=\"font-size: 0.8em; font-weight: bold; line-height: 1; border-radius: 0.35em; vertical-align: middle; margin-left: 0.5rem\">movie</span>\n",
       "</mark>\n",
       "?</div></span>"
      ],
      "text/plain": [
       "<IPython.core.display.HTML object>"
      ]
     },
     "metadata": {},
     "output_type": "display_data"
    },
    {
     "name": "stdout",
     "output_type": "stream",
     "text": [
      "Give me the release date for Maine Pyaar Kyun Kiya? {'entities': [(29, 51, 'movie'), (12, 19, 'predicate'), (20, 24, 'predicate')]}\n",
      "Missing movie label\n"
     ]
    },
    {
     "data": {
      "text/html": [
       "<span class=\"tex2jax_ignore\"><div class=\"entities\" style=\"line-height: 2.5; direction: ltr\">Give me the \n",
       "<mark class=\"entity\" style=\"background: #ddd; padding: 0.45em 0.6em; margin: 0 0.25em; line-height: 1; border-radius: 0.35em;\">\n",
       "    release\n",
       "    <span style=\"font-size: 0.8em; font-weight: bold; line-height: 1; border-radius: 0.35em; vertical-align: middle; margin-left: 0.5rem\">predicate</span>\n",
       "</mark>\n",
       " \n",
       "<mark class=\"entity\" style=\"background: #ddd; padding: 0.45em 0.6em; margin: 0 0.25em; line-height: 1; border-radius: 0.35em;\">\n",
       "    date\n",
       "    <span style=\"font-size: 0.8em; font-weight: bold; line-height: 1; border-radius: 0.35em; vertical-align: middle; margin-left: 0.5rem\">predicate</span>\n",
       "</mark>\n",
       " for \n",
       "<mark class=\"entity\" style=\"background: #ddd; padding: 0.45em 0.6em; margin: 0 0.25em; line-height: 1; border-radius: 0.35em;\">\n",
       "    Who Killed the Electric Car\n",
       "    <span style=\"font-size: 0.8em; font-weight: bold; line-height: 1; border-radius: 0.35em; vertical-align: middle; margin-left: 0.5rem\">movie</span>\n",
       "</mark>\n",
       "?</div></span>"
      ],
      "text/plain": [
       "<IPython.core.display.HTML object>"
      ]
     },
     "metadata": {},
     "output_type": "display_data"
    },
    {
     "name": "stdout",
     "output_type": "stream",
     "text": [
      "Give me the release date for Who Killed the Electric Car? {'entities': [(29, 57, 'movie'), (12, 19, 'predicate'), (20, 24, 'predicate')]}\n",
      "Missing movie label\n"
     ]
    },
    {
     "data": {
      "text/html": [
       "<span class=\"tex2jax_ignore\"><div class=\"entities\" style=\"line-height: 2.5; direction: ltr\">Give me the \n",
       "<mark class=\"entity\" style=\"background: #ddd; padding: 0.45em 0.6em; margin: 0 0.25em; line-height: 1; border-radius: 0.35em;\">\n",
       "    release\n",
       "    <span style=\"font-size: 0.8em; font-weight: bold; line-height: 1; border-radius: 0.35em; vertical-align: middle; margin-left: 0.5rem\">predicate</span>\n",
       "</mark>\n",
       " \n",
       "<mark class=\"entity\" style=\"background: #ddd; padding: 0.45em 0.6em; margin: 0 0.25em; line-height: 1; border-radius: 0.35em;\">\n",
       "    date\n",
       "    <span style=\"font-size: 0.8em; font-weight: bold; line-height: 1; border-radius: 0.35em; vertical-align: middle; margin-left: 0.5rem\">predicate</span>\n",
       "</mark>\n",
       " for \n",
       "<mark class=\"entity\" style=\"background: #ddd; padding: 0.45em 0.6em; margin: 0 0.25em; line-height: 1; border-radius: 0.35em;\">\n",
       "    1971\n",
       "    <span style=\"font-size: 0.8em; font-weight: bold; line-height: 1; border-radius: 0.35em; vertical-align: middle; margin-left: 0.5rem\">year</span>\n",
       "</mark>\n",
       "</div></span>"
      ],
      "text/plain": [
       "<IPython.core.display.HTML object>"
      ]
     },
     "metadata": {},
     "output_type": "display_data"
    },
    {
     "name": "stdout",
     "output_type": "stream",
     "text": [
      "Give me the release date for 1971 {'entities': [(29, 33, 'movie'), (12, 19, 'predicate'), (20, 24, 'predicate')]}\n",
      "Missing year label\n"
     ]
    },
    {
     "data": {
      "text/html": [
       "<span class=\"tex2jax_ignore\"><div class=\"entities\" style=\"line-height: 2.5; direction: ltr\">Tell me the \n",
       "<mark class=\"entity\" style=\"background: #ddd; padding: 0.45em 0.6em; margin: 0 0.25em; line-height: 1; border-radius: 0.35em;\">\n",
       "    release\n",
       "    <span style=\"font-size: 0.8em; font-weight: bold; line-height: 1; border-radius: 0.35em; vertical-align: middle; margin-left: 0.5rem\">predicate</span>\n",
       "</mark>\n",
       " \n",
       "<mark class=\"entity\" style=\"background: #ddd; padding: 0.45em 0.6em; margin: 0 0.25em; line-height: 1; border-radius: 0.35em;\">\n",
       "    date\n",
       "    <span style=\"font-size: 0.8em; font-weight: bold; line-height: 1; border-radius: 0.35em; vertical-align: middle; margin-left: 0.5rem\">predicate</span>\n",
       "</mark>\n",
       " of \n",
       "<mark class=\"entity\" style=\"background: #ddd; padding: 0.45em 0.6em; margin: 0 0.25em; line-height: 1; border-radius: 0.35em;\">\n",
       "    Is the Man Who Is Tall Happy\n",
       "    <span style=\"font-size: 0.8em; font-weight: bold; line-height: 1; border-radius: 0.35em; vertical-align: middle; margin-left: 0.5rem\">movie</span>\n",
       "</mark>\n",
       "?</div></span>"
      ],
      "text/plain": [
       "<IPython.core.display.HTML object>"
      ]
     },
     "metadata": {},
     "output_type": "display_data"
    },
    {
     "name": "stdout",
     "output_type": "stream",
     "text": [
      "Tell me the release date of Is the Man Who Is Tall Happy? {'entities': [(28, 57, 'movie'), (12, 19, 'predicate'), (20, 24, 'predicate')]}\n",
      "Missing movie label\n"
     ]
    },
    {
     "data": {
      "text/html": [
       "<span class=\"tex2jax_ignore\"><div class=\"entities\" style=\"line-height: 2.5; direction: ltr\">Please provide the \n",
       "<mark class=\"entity\" style=\"background: #ddd; padding: 0.45em 0.6em; margin: 0 0.25em; line-height: 1; border-radius: 0.35em;\">\n",
       "    release\n",
       "    <span style=\"font-size: 0.8em; font-weight: bold; line-height: 1; border-radius: 0.35em; vertical-align: middle; margin-left: 0.5rem\">predicate</span>\n",
       "</mark>\n",
       " \n",
       "<mark class=\"entity\" style=\"background: #ddd; padding: 0.45em 0.6em; margin: 0 0.25em; line-height: 1; border-radius: 0.35em;\">\n",
       "    year\n",
       "    <span style=\"font-size: 0.8em; font-weight: bold; line-height: 1; border-radius: 0.35em; vertical-align: middle; margin-left: 0.5rem\">predicate</span>\n",
       "</mark>\n",
       " for \n",
       "<mark class=\"entity\" style=\"background: #ddd; padding: 0.45em 0.6em; margin: 0 0.25em; line-height: 1; border-radius: 0.35em;\">\n",
       "    What the Bleep Do We Know!\n",
       "    <span style=\"font-size: 0.8em; font-weight: bold; line-height: 1; border-radius: 0.35em; vertical-align: middle; margin-left: 0.5rem\">movie</span>\n",
       "</mark>\n",
       "?</div></span>"
      ],
      "text/plain": [
       "<IPython.core.display.HTML object>"
      ]
     },
     "metadata": {},
     "output_type": "display_data"
    },
    {
     "name": "stdout",
     "output_type": "stream",
     "text": [
      "Please provide the release year for What the Bleep Do We Know!? {'entities': [(36, 63, 'movie'), (19, 26, 'predicate'), (27, 31, 'predicate')]}\n",
      "Missing movie label\n"
     ]
    },
    {
     "data": {
      "text/html": [
       "<span class=\"tex2jax_ignore\"><div class=\"entities\" style=\"line-height: 2.5; direction: ltr\">Give me the \n",
       "<mark class=\"entity\" style=\"background: #ddd; padding: 0.45em 0.6em; margin: 0 0.25em; line-height: 1; border-radius: 0.35em;\">\n",
       "    release\n",
       "    <span style=\"font-size: 0.8em; font-weight: bold; line-height: 1; border-radius: 0.35em; vertical-align: middle; margin-left: 0.5rem\">predicate</span>\n",
       "</mark>\n",
       " \n",
       "<mark class=\"entity\" style=\"background: #ddd; padding: 0.45em 0.6em; margin: 0 0.25em; line-height: 1; border-radius: 0.35em;\">\n",
       "    date\n",
       "    <span style=\"font-size: 0.8em; font-weight: bold; line-height: 1; border-radius: 0.35em; vertical-align: middle; margin-left: 0.5rem\">predicate</span>\n",
       "</mark>\n",
       " for \n",
       "<mark class=\"entity\" style=\"background: #ddd; padding: 0.45em 0.6em; margin: 0 0.25em; line-height: 1; border-radius: 0.35em;\">\n",
       "    Whoever Slew Auntie Roo\n",
       "    <span style=\"font-size: 0.8em; font-weight: bold; line-height: 1; border-radius: 0.35em; vertical-align: middle; margin-left: 0.5rem\">movie</span>\n",
       "</mark>\n",
       "?</div></span>"
      ],
      "text/plain": [
       "<IPython.core.display.HTML object>"
      ]
     },
     "metadata": {},
     "output_type": "display_data"
    },
    {
     "name": "stdout",
     "output_type": "stream",
     "text": [
      "Give me the release date for Whoever Slew Auntie Roo? {'entities': [(29, 53, 'movie'), (12, 19, 'predicate'), (20, 24, 'predicate')]}\n",
      "Missing movie label\n"
     ]
    },
    {
     "data": {
      "text/html": [
       "<span class=\"tex2jax_ignore\"><div class=\"entities\" style=\"line-height: 2.5; direction: ltr\">Tell me the \n",
       "<mark class=\"entity\" style=\"background: #ddd; padding: 0.45em 0.6em; margin: 0 0.25em; line-height: 1; border-radius: 0.35em;\">\n",
       "    release\n",
       "    <span style=\"font-size: 0.8em; font-weight: bold; line-height: 1; border-radius: 0.35em; vertical-align: middle; margin-left: 0.5rem\">predicate</span>\n",
       "</mark>\n",
       " \n",
       "<mark class=\"entity\" style=\"background: #ddd; padding: 0.45em 0.6em; margin: 0 0.25em; line-height: 1; border-radius: 0.35em;\">\n",
       "    date\n",
       "    <span style=\"font-size: 0.8em; font-weight: bold; line-height: 1; border-radius: 0.35em; vertical-align: middle; margin-left: 0.5rem\">predicate</span>\n",
       "</mark>\n",
       " of \n",
       "<mark class=\"entity\" style=\"background: #ddd; padding: 0.45em 0.6em; margin: 0 0.25em; line-height: 1; border-radius: 0.35em;\">\n",
       "    Tell\n",
       "    <span style=\"font-size: 0.8em; font-weight: bold; line-height: 1; border-radius: 0.35em; vertical-align: middle; margin-left: 0.5rem\">movie</span>\n",
       "</mark>\n",
       "</div></span>"
      ],
      "text/plain": [
       "<IPython.core.display.HTML object>"
      ]
     },
     "metadata": {},
     "output_type": "display_data"
    },
    {
     "name": "stdout",
     "output_type": "stream",
     "text": [
      "Tell me the release date of Tell {'entities': [(0, 4, 'movie'), (12, 19, 'predicate'), (20, 24, 'predicate')]}\n",
      "Missing movie label\n"
     ]
    },
    {
     "data": {
      "text/html": [
       "<span class=\"tex2jax_ignore\"><div class=\"entities\" style=\"line-height: 2.5; direction: ltr\">Tell me the \n",
       "<mark class=\"entity\" style=\"background: #ddd; padding: 0.45em 0.6em; margin: 0 0.25em; line-height: 1; border-radius: 0.35em;\">\n",
       "    release\n",
       "    <span style=\"font-size: 0.8em; font-weight: bold; line-height: 1; border-radius: 0.35em; vertical-align: middle; margin-left: 0.5rem\">predicate</span>\n",
       "</mark>\n",
       " \n",
       "<mark class=\"entity\" style=\"background: #ddd; padding: 0.45em 0.6em; margin: 0 0.25em; line-height: 1; border-radius: 0.35em;\">\n",
       "    date\n",
       "    <span style=\"font-size: 0.8em; font-weight: bold; line-height: 1; border-radius: 0.35em; vertical-align: middle; margin-left: 0.5rem\">predicate</span>\n",
       "</mark>\n",
       " of \n",
       "<mark class=\"entity\" style=\"background: #ddd; padding: 0.45em 0.6em; margin: 0 0.25em; line-height: 1; border-radius: 0.35em;\">\n",
       "    What's New Pussycat\n",
       "    <span style=\"font-size: 0.8em; font-weight: bold; line-height: 1; border-radius: 0.35em; vertical-align: middle; margin-left: 0.5rem\">movie</span>\n",
       "</mark>\n",
       "?</div></span>"
      ],
      "text/plain": [
       "<IPython.core.display.HTML object>"
      ]
     },
     "metadata": {},
     "output_type": "display_data"
    },
    {
     "name": "stdout",
     "output_type": "stream",
     "text": [
      "Tell me the release date of What's New Pussycat? {'entities': [(28, 48, 'movie'), (12, 19, 'predicate'), (20, 24, 'predicate')]}\n",
      "Missing movie label\n"
     ]
    },
    {
     "data": {
      "text/html": [
       "<span class=\"tex2jax_ignore\"><div class=\"entities\" style=\"line-height: 2.5; direction: ltr\">What's the \n",
       "<mark class=\"entity\" style=\"background: #ddd; padding: 0.45em 0.6em; margin: 0 0.25em; line-height: 1; border-radius: 0.35em;\">\n",
       "    date\n",
       "    <span style=\"font-size: 0.8em; font-weight: bold; line-height: 1; border-radius: 0.35em; vertical-align: middle; margin-left: 0.5rem\">predicate</span>\n",
       "</mark>\n",
       " of \n",
       "<mark class=\"entity\" style=\"background: #ddd; padding: 0.45em 0.6em; margin: 0 0.25em; line-height: 1; border-radius: 0.35em;\">\n",
       "    release\n",
       "    <span style=\"font-size: 0.8em; font-weight: bold; line-height: 1; border-radius: 0.35em; vertical-align: middle; margin-left: 0.5rem\">predicate</span>\n",
       "</mark>\n",
       " for \n",
       "<mark class=\"entity\" style=\"background: #ddd; padding: 0.45em 0.6em; margin: 0 0.25em; line-height: 1; border-radius: 0.35em;\">\n",
       "    10 Billion - What's on\n",
       "    <span style=\"font-size: 0.8em; font-weight: bold; line-height: 1; border-radius: 0.35em; vertical-align: middle; margin-left: 0.5rem\">movie</span>\n",
       "</mark>\n",
       " your plate??</div></span>"
      ],
      "text/plain": [
       "<IPython.core.display.HTML object>"
      ]
     },
     "metadata": {},
     "output_type": "display_data"
    },
    {
     "name": "stdout",
     "output_type": "stream",
     "text": [
      "What's the date of release for 10 Billion - What's on your plate?? {'entities': [(31, 65, 'movie'), (19, 26, 'predicate'), (11, 15, 'predicate')]}\n",
      "Missing movie label\n"
     ]
    },
    {
     "data": {
      "text/html": [
       "<span class=\"tex2jax_ignore\"><div class=\"entities\" style=\"line-height: 2.5; direction: ltr\">When was \n",
       "<mark class=\"entity\" style=\"background: #ddd; padding: 0.45em 0.6em; margin: 0 0.25em; line-height: 1; border-radius: 0.35em;\">\n",
       "    Takeshis\n",
       "    <span style=\"font-size: 0.8em; font-weight: bold; line-height: 1; border-radius: 0.35em; vertical-align: middle; margin-left: 0.5rem\">movie</span>\n",
       "</mark>\n",
       "' released?</div></span>"
      ],
      "text/plain": [
       "<IPython.core.display.HTML object>"
      ]
     },
     "metadata": {},
     "output_type": "display_data"
    },
    {
     "name": "stdout",
     "output_type": "stream",
     "text": [
      "When was Takeshis' released? {'entities': [(9, 18, 'movie'), (19, 26, 'predicate')]}\n",
      "Missing movie label\n"
     ]
    },
    {
     "data": {
      "text/html": [
       "<span class=\"tex2jax_ignore\"><div class=\"entities\" style=\"line-height: 2.5; direction: ltr\">When was \n",
       "<mark class=\"entity\" style=\"background: #ddd; padding: 0.45em 0.6em; margin: 0 0.25em; line-height: 1; border-radius: 0.35em;\">\n",
       "    1911\n",
       "    <span style=\"font-size: 0.8em; font-weight: bold; line-height: 1; border-radius: 0.35em; vertical-align: middle; margin-left: 0.5rem\">year</span>\n",
       "</mark>\n",
       " released?</div></span>"
      ],
      "text/plain": [
       "<IPython.core.display.HTML object>"
      ]
     },
     "metadata": {},
     "output_type": "display_data"
    },
    {
     "name": "stdout",
     "output_type": "stream",
     "text": [
      "When was 1911 released? {'entities': [(9, 13, 'movie'), (14, 21, 'predicate')]}\n",
      "Missing year label\n"
     ]
    },
    {
     "data": {
      "text/html": [
       "<span class=\"tex2jax_ignore\"><div class=\"entities\" style=\"line-height: 2.5; direction: ltr\">What is the \n",
       "<mark class=\"entity\" style=\"background: #ddd; padding: 0.45em 0.6em; margin: 0 0.25em; line-height: 1; border-radius: 0.35em;\">\n",
       "    release\n",
       "    <span style=\"font-size: 0.8em; font-weight: bold; line-height: 1; border-radius: 0.35em; vertical-align: middle; margin-left: 0.5rem\">predicate</span>\n",
       "</mark>\n",
       " \n",
       "<mark class=\"entity\" style=\"background: #ddd; padding: 0.45em 0.6em; margin: 0 0.25em; line-height: 1; border-radius: 0.35em;\">\n",
       "    year\n",
       "    <span style=\"font-size: 0.8em; font-weight: bold; line-height: 1; border-radius: 0.35em; vertical-align: middle; margin-left: 0.5rem\">predicate</span>\n",
       "</mark>\n",
       " of '\n",
       "<mark class=\"entity\" style=\"background: #ddd; padding: 0.45em 0.6em; margin: 0 0.25em; line-height: 1; border-radius: 0.35em;\">\n",
       "    Til There Was You\n",
       "    <span style=\"font-size: 0.8em; font-weight: bold; line-height: 1; border-radius: 0.35em; vertical-align: middle; margin-left: 0.5rem\">movie</span>\n",
       "</mark>\n",
       "?</div></span>"
      ],
      "text/plain": [
       "<IPython.core.display.HTML object>"
      ]
     },
     "metadata": {},
     "output_type": "display_data"
    },
    {
     "name": "stdout",
     "output_type": "stream",
     "text": [
      "What is the release year of 'Til There Was You? {'entities': [(28, 46, 'movie'), (12, 19, 'predicate'), (20, 24, 'predicate')]}\n",
      "Missing movie label\n"
     ]
    },
    {
     "data": {
      "text/html": [
       "<span class=\"tex2jax_ignore\"><div class=\"entities\" style=\"line-height: 2.5; direction: ltr\">Give me the \n",
       "<mark class=\"entity\" style=\"background: #ddd; padding: 0.45em 0.6em; margin: 0 0.25em; line-height: 1; border-radius: 0.35em;\">\n",
       "    release\n",
       "    <span style=\"font-size: 0.8em; font-weight: bold; line-height: 1; border-radius: 0.35em; vertical-align: middle; margin-left: 0.5rem\">predicate</span>\n",
       "</mark>\n",
       " \n",
       "<mark class=\"entity\" style=\"background: #ddd; padding: 0.45em 0.6em; margin: 0 0.25em; line-height: 1; border-radius: 0.35em;\">\n",
       "    date\n",
       "    <span style=\"font-size: 0.8em; font-weight: bold; line-height: 1; border-radius: 0.35em; vertical-align: middle; margin-left: 0.5rem\">predicate</span>\n",
       "</mark>\n",
       " for \n",
       "<mark class=\"entity\" style=\"background: #ddd; padding: 0.45em 0.6em; margin: 0 0.25em; line-height: 1; border-radius: 0.35em;\">\n",
       "    Casual Sex\n",
       "    <span style=\"font-size: 0.8em; font-weight: bold; line-height: 1; border-radius: 0.35em; vertical-align: middle; margin-left: 0.5rem\">movie</span>\n",
       "</mark>\n",
       "?</div></span>"
      ],
      "text/plain": [
       "<IPython.core.display.HTML object>"
      ]
     },
     "metadata": {},
     "output_type": "display_data"
    },
    {
     "name": "stdout",
     "output_type": "stream",
     "text": [
      "Give me the release date for Casual Sex? {'entities': [(29, 40, 'movie'), (12, 19, 'predicate'), (20, 24, 'predicate')]}\n",
      "Missing movie label\n"
     ]
    },
    {
     "data": {
      "text/html": [
       "<span class=\"tex2jax_ignore\"><div class=\"entities\" style=\"line-height: 2.5; direction: ltr\">What's the launch \n",
       "<mark class=\"entity\" style=\"background: #ddd; padding: 0.45em 0.6em; margin: 0 0.25em; line-height: 1; border-radius: 0.35em;\">\n",
       "    date\n",
       "    <span style=\"font-size: 0.8em; font-weight: bold; line-height: 1; border-radius: 0.35em; vertical-align: middle; margin-left: 0.5rem\">predicate</span>\n",
       "</mark>\n",
       " of \n",
       "<mark class=\"entity\" style=\"background: #ddd; padding: 0.45em 0.6em; margin: 0 0.25em; line-height: 1; border-radius: 0.35em;\">\n",
       "    Losing is a matter of\n",
       "    <span style=\"font-size: 0.8em; font-weight: bold; line-height: 1; border-radius: 0.35em; vertical-align: middle; margin-left: 0.5rem\">movie</span>\n",
       "</mark>\n",
       " method?</div></span>"
      ],
      "text/plain": [
       "<IPython.core.display.HTML object>"
      ]
     },
     "metadata": {},
     "output_type": "display_data"
    },
    {
     "name": "stdout",
     "output_type": "stream",
     "text": [
      "What's the launch date of Losing is a matter of method? {'entities': [(26, 54, 'movie'), (18, 22, 'predicate')]}\n",
      "Missing movie label\n"
     ]
    },
    {
     "data": {
      "text/html": [
       "<span class=\"tex2jax_ignore\"><div class=\"entities\" style=\"line-height: 2.5; direction: ltr\">Give me the \n",
       "<mark class=\"entity\" style=\"background: #ddd; padding: 0.45em 0.6em; margin: 0 0.25em; line-height: 1; border-radius: 0.35em;\">\n",
       "    release\n",
       "    <span style=\"font-size: 0.8em; font-weight: bold; line-height: 1; border-radius: 0.35em; vertical-align: middle; margin-left: 0.5rem\">predicate</span>\n",
       "</mark>\n",
       " \n",
       "<mark class=\"entity\" style=\"background: #ddd; padding: 0.45em 0.6em; margin: 0 0.25em; line-height: 1; border-radius: 0.35em;\">\n",
       "    date\n",
       "    <span style=\"font-size: 0.8em; font-weight: bold; line-height: 1; border-radius: 0.35em; vertical-align: middle; margin-left: 0.5rem\">predicate</span>\n",
       "</mark>\n",
       " for \n",
       "<mark class=\"entity\" style=\"background: #ddd; padding: 0.45em 0.6em; margin: 0 0.25em; line-height: 1; border-radius: 0.35em;\">\n",
       "    Cool Kids Do\n",
       "    <span style=\"font-size: 0.8em; font-weight: bold; line-height: 1; border-radius: 0.35em; vertical-align: middle; margin-left: 0.5rem\">movie</span>\n",
       "</mark>\n",
       "n't Cry</div></span>"
      ],
      "text/plain": [
       "<IPython.core.display.HTML object>"
      ]
     },
     "metadata": {},
     "output_type": "display_data"
    },
    {
     "name": "stdout",
     "output_type": "stream",
     "text": [
      "Give me the release date for Cool Kids Don't Cry {'entities': [(29, 48, 'movie'), (12, 19, 'predicate'), (20, 24, 'predicate')]}\n",
      "Missing movie label\n"
     ]
    },
    {
     "data": {
      "text/html": [
       "<span class=\"tex2jax_ignore\"><div class=\"entities\" style=\"line-height: 2.5; direction: ltr\">Could you tell me \n",
       "<mark class=\"entity\" style=\"background: #ddd; padding: 0.45em 0.6em; margin: 0 0.25em; line-height: 1; border-radius: 0.35em;\">\n",
       "    when\n",
       "    <span style=\"font-size: 0.8em; font-weight: bold; line-height: 1; border-radius: 0.35em; vertical-align: middle; margin-left: 0.5rem\">predicate</span>\n",
       "</mark>\n",
       " \n",
       "<mark class=\"entity\" style=\"background: #ddd; padding: 0.45em 0.6em; margin: 0 0.25em; line-height: 1; border-radius: 0.35em;\">\n",
       "    1945\n",
       "    <span style=\"font-size: 0.8em; font-weight: bold; line-height: 1; border-radius: 0.35em; vertical-align: middle; margin-left: 0.5rem\">year</span>\n",
       "</mark>\n",
       " was first shown?</div></span>"
      ],
      "text/plain": [
       "<IPython.core.display.HTML object>"
      ]
     },
     "metadata": {},
     "output_type": "display_data"
    },
    {
     "name": "stdout",
     "output_type": "stream",
     "text": [
      "Could you tell me when 1945 was first shown? {'entities': [(23, 27, 'movie'), (18, 22, 'predicate')]}\n",
      "Missing year label\n"
     ]
    },
    {
     "data": {
      "text/html": [
       "<span class=\"tex2jax_ignore\"><div class=\"entities\" style=\"line-height: 2.5; direction: ltr\">Could you tell me \n",
       "<mark class=\"entity\" style=\"background: #ddd; padding: 0.45em 0.6em; margin: 0 0.25em; line-height: 1; border-radius: 0.35em;\">\n",
       "    when\n",
       "    <span style=\"font-size: 0.8em; font-weight: bold; line-height: 1; border-radius: 0.35em; vertical-align: middle; margin-left: 0.5rem\">predicate</span>\n",
       "</mark>\n",
       " \n",
       "<mark class=\"entity\" style=\"background: #ddd; padding: 0.45em 0.6em; margin: 0 0.25em; line-height: 1; border-radius: 0.35em;\">\n",
       "    California Dreamin\n",
       "    <span style=\"font-size: 0.8em; font-weight: bold; line-height: 1; border-radius: 0.35em; vertical-align: middle; margin-left: 0.5rem\">movie</span>\n",
       "</mark>\n",
       "' was first shown?</div></span>"
      ],
      "text/plain": [
       "<IPython.core.display.HTML object>"
      ]
     },
     "metadata": {},
     "output_type": "display_data"
    },
    {
     "name": "stdout",
     "output_type": "stream",
     "text": [
      "Could you tell me when California Dreamin' was first shown? {'entities': [(23, 42, 'movie'), (18, 22, 'predicate')]}\n",
      "Missing movie label\n"
     ]
    },
    {
     "data": {
      "text/html": [
       "<span class=\"tex2jax_ignore\"><div class=\"entities\" style=\"line-height: 2.5; direction: ltr\">Please provide the \n",
       "<mark class=\"entity\" style=\"background: #ddd; padding: 0.45em 0.6em; margin: 0 0.25em; line-height: 1; border-radius: 0.35em;\">\n",
       "    release\n",
       "    <span style=\"font-size: 0.8em; font-weight: bold; line-height: 1; border-radius: 0.35em; vertical-align: middle; margin-left: 0.5rem\">predicate</span>\n",
       "</mark>\n",
       " \n",
       "<mark class=\"entity\" style=\"background: #ddd; padding: 0.45em 0.6em; margin: 0 0.25em; line-height: 1; border-radius: 0.35em;\">\n",
       "    year\n",
       "    <span style=\"font-size: 0.8em; font-weight: bold; line-height: 1; border-radius: 0.35em; vertical-align: middle; margin-left: 0.5rem\">predicate</span>\n",
       "</mark>\n",
       " for \n",
       "<mark class=\"entity\" style=\"background: #ddd; padding: 0.45em 0.6em; margin: 0 0.25em; line-height: 1; border-radius: 0.35em;\">\n",
       "    Who's Afraid of Virginia Woolf\n",
       "    <span style=\"font-size: 0.8em; font-weight: bold; line-height: 1; border-radius: 0.35em; vertical-align: middle; margin-left: 0.5rem\">movie</span>\n",
       "</mark>\n",
       "?</div></span>"
      ],
      "text/plain": [
       "<IPython.core.display.HTML object>"
      ]
     },
     "metadata": {},
     "output_type": "display_data"
    },
    {
     "name": "stdout",
     "output_type": "stream",
     "text": [
      "Please provide the release year for Who's Afraid of Virginia Woolf? {'entities': [(36, 67, 'movie'), (19, 26, 'predicate'), (27, 31, 'predicate')]}\n",
      "Missing movie label\n"
     ]
    },
    {
     "data": {
      "text/html": [
       "<span class=\"tex2jax_ignore\"><div class=\"entities\" style=\"line-height: 2.5; direction: ltr\">When was \n",
       "<mark class=\"entity\" style=\"background: #ddd; padding: 0.45em 0.6em; margin: 0 0.25em; line-height: 1; border-radius: 0.35em;\">\n",
       "    Mais qui a tué Pamela Rose\n",
       "    <span style=\"font-size: 0.8em; font-weight: bold; line-height: 1; border-radius: 0.35em; vertical-align: middle; margin-left: 0.5rem\">movie</span>\n",
       "</mark>\n",
       "? launched?</div></span>"
      ],
      "text/plain": [
       "<IPython.core.display.HTML object>"
      ]
     },
     "metadata": {},
     "output_type": "display_data"
    },
    {
     "name": "stdout",
     "output_type": "stream",
     "text": [
      "When was Mais qui a tué Pamela Rose? launched? {'entities': [(9, 36, 'movie')]}\n",
      "Missing movie label\n"
     ]
    },
    {
     "data": {
      "text/html": [
       "<span class=\"tex2jax_ignore\"><div class=\"entities\" style=\"line-height: 2.5; direction: ltr\">Identify the movie \n",
       "<mark class=\"entity\" style=\"background: #ddd; padding: 0.45em 0.6em; margin: 0 0.25em; line-height: 1; border-radius: 0.35em;\">\n",
       "    genre\n",
       "    <span style=\"font-size: 0.8em; font-weight: bold; line-height: 1; border-radius: 0.35em; vertical-align: middle; margin-left: 0.5rem\">predicate</span>\n",
       "</mark>\n",
       " for \n",
       "<mark class=\"entity\" style=\"background: #ddd; padding: 0.45em 0.6em; margin: 0 0.25em; line-height: 1; border-radius: 0.35em;\">\n",
       "    Man's Favorite Sport\n",
       "    <span style=\"font-size: 0.8em; font-weight: bold; line-height: 1; border-radius: 0.35em; vertical-align: middle; margin-left: 0.5rem\">movie</span>\n",
       "</mark>\n",
       "?</div></span>"
      ],
      "text/plain": [
       "<IPython.core.display.HTML object>"
      ]
     },
     "metadata": {},
     "output_type": "display_data"
    },
    {
     "name": "stdout",
     "output_type": "stream",
     "text": [
      "Identify the movie genre for Man's Favorite Sport? {'entities': [(29, 50, 'movie'), (19, 24, 'predicate')]}\n",
      "Missing movie label\n"
     ]
    },
    {
     "data": {
      "text/html": [
       "<span class=\"tex2jax_ignore\"><div class=\"entities\" style=\"line-height: 2.5; direction: ltr\">Identify the movie \n",
       "<mark class=\"entity\" style=\"background: #ddd; padding: 0.45em 0.6em; margin: 0 0.25em; line-height: 1; border-radius: 0.35em;\">\n",
       "    genre\n",
       "    <span style=\"font-size: 0.8em; font-weight: bold; line-height: 1; border-radius: 0.35em; vertical-align: middle; margin-left: 0.5rem\">predicate</span>\n",
       "</mark>\n",
       " for \n",
       "<mark class=\"entity\" style=\"background: #ddd; padding: 0.45em 0.6em; margin: 0 0.25em; line-height: 1; border-radius: 0.35em;\">\n",
       "    What Have They Done to Your Daughters\n",
       "    <span style=\"font-size: 0.8em; font-weight: bold; line-height: 1; border-radius: 0.35em; vertical-align: middle; margin-left: 0.5rem\">movie</span>\n",
       "</mark>\n",
       "?</div></span>"
      ],
      "text/plain": [
       "<IPython.core.display.HTML object>"
      ]
     },
     "metadata": {},
     "output_type": "display_data"
    },
    {
     "name": "stdout",
     "output_type": "stream",
     "text": [
      "Identify the movie genre for What Have They Done to Your Daughters? {'entities': [(29, 67, 'movie'), (19, 24, 'predicate')]}\n",
      "Missing movie label\n"
     ]
    },
    {
     "data": {
      "text/html": [
       "<span class=\"tex2jax_ignore\"><div class=\"entities\" style=\"line-height: 2.5; direction: ltr\">Give me the \n",
       "<mark class=\"entity\" style=\"background: #ddd; padding: 0.45em 0.6em; margin: 0 0.25em; line-height: 1; border-radius: 0.35em;\">\n",
       "    genre\n",
       "    <span style=\"font-size: 0.8em; font-weight: bold; line-height: 1; border-radius: 0.35em; vertical-align: middle; margin-left: 0.5rem\">predicate</span>\n",
       "</mark>\n",
       " for the movie \n",
       "<mark class=\"entity\" style=\"background: #ddd; padding: 0.45em 0.6em; margin: 0 0.25em; line-height: 1; border-radius: 0.35em;\">\n",
       "    Daddy's Dyin': Who's Got the Will\n",
       "    <span style=\"font-size: 0.8em; font-weight: bold; line-height: 1; border-radius: 0.35em; vertical-align: middle; margin-left: 0.5rem\">movie</span>\n",
       "</mark>\n",
       "?</div></span>"
      ],
      "text/plain": [
       "<IPython.core.display.HTML object>"
      ]
     },
     "metadata": {},
     "output_type": "display_data"
    },
    {
     "name": "stdout",
     "output_type": "stream",
     "text": [
      "Give me the genre for the movie Daddy's Dyin': Who's Got the Will? {'entities': [(32, 66, 'movie'), (12, 17, 'predicate')]}\n",
      "Missing movie label\n"
     ]
    },
    {
     "data": {
      "text/html": [
       "<span class=\"tex2jax_ignore\"><div class=\"entities\" style=\"line-height: 2.5; direction: ltr\">I'm curious about the \n",
       "<mark class=\"entity\" style=\"background: #ddd; padding: 0.45em 0.6em; margin: 0 0.25em; line-height: 1; border-radius: 0.35em;\">\n",
       "    genre\n",
       "    <span style=\"font-size: 0.8em; font-weight: bold; line-height: 1; border-radius: 0.35em; vertical-align: middle; margin-left: 0.5rem\">predicate</span>\n",
       "</mark>\n",
       " of \n",
       "<mark class=\"entity\" style=\"background: #ddd; padding: 0.45em 0.6em; margin: 0 0.25em; line-height: 1; border-radius: 0.35em;\">\n",
       "    1969\n",
       "    <span style=\"font-size: 0.8em; font-weight: bold; line-height: 1; border-radius: 0.35em; vertical-align: middle; margin-left: 0.5rem\">year</span>\n",
       "</mark>\n",
       "</div></span>"
      ],
      "text/plain": [
       "<IPython.core.display.HTML object>"
      ]
     },
     "metadata": {},
     "output_type": "display_data"
    },
    {
     "name": "stdout",
     "output_type": "stream",
     "text": [
      "I'm curious about the genre of 1969 {'entities': [(31, 35, 'movie'), (22, 27, 'predicate')]}\n",
      "Missing year label\n"
     ]
    },
    {
     "data": {
      "text/html": [
       "<span class=\"tex2jax_ignore\"><div class=\"entities\" style=\"line-height: 2.5; direction: ltr\">Tell me the \n",
       "<mark class=\"entity\" style=\"background: #ddd; padding: 0.45em 0.6em; margin: 0 0.25em; line-height: 1; border-radius: 0.35em;\">\n",
       "    type\n",
       "    <span style=\"font-size: 0.8em; font-weight: bold; line-height: 1; border-radius: 0.35em; vertical-align: middle; margin-left: 0.5rem\">predicate</span>\n",
       "</mark>\n",
       " of film that is \n",
       "<mark class=\"entity\" style=\"background: #ddd; padding: 0.45em 0.6em; margin: 0 0.25em; line-height: 1; border-radius: 0.35em;\">\n",
       "    Do Fish Do It\n",
       "    <span style=\"font-size: 0.8em; font-weight: bold; line-height: 1; border-radius: 0.35em; vertical-align: middle; margin-left: 0.5rem\">movie</span>\n",
       "</mark>\n",
       "?</div></span>"
      ],
      "text/plain": [
       "<IPython.core.display.HTML object>"
      ]
     },
     "metadata": {},
     "output_type": "display_data"
    },
    {
     "name": "stdout",
     "output_type": "stream",
     "text": [
      "Tell me the type of film that is Do Fish Do It? {'entities': [(33, 47, 'movie'), (12, 16, 'predicate')]}\n",
      "Missing movie label\n"
     ]
    },
    {
     "data": {
      "text/html": [
       "<span class=\"tex2jax_ignore\"><div class=\"entities\" style=\"line-height: 2.5; direction: ltr\">Give me the \n",
       "<mark class=\"entity\" style=\"background: #ddd; padding: 0.45em 0.6em; margin: 0 0.25em; line-height: 1; border-radius: 0.35em;\">\n",
       "    genre\n",
       "    <span style=\"font-size: 0.8em; font-weight: bold; line-height: 1; border-radius: 0.35em; vertical-align: middle; margin-left: 0.5rem\">predicate</span>\n",
       "</mark>\n",
       " for the movie \n",
       "<mark class=\"entity\" style=\"background: #ddd; padding: 0.45em 0.6em; margin: 0 0.25em; line-height: 1; border-radius: 0.35em;\">\n",
       "    My Son, My Son, What Have Ye Done\n",
       "    <span style=\"font-size: 0.8em; font-weight: bold; line-height: 1; border-radius: 0.35em; vertical-align: middle; margin-left: 0.5rem\">movie</span>\n",
       "</mark>\n",
       "?</div></span>"
      ],
      "text/plain": [
       "<IPython.core.display.HTML object>"
      ]
     },
     "metadata": {},
     "output_type": "display_data"
    },
    {
     "name": "stdout",
     "output_type": "stream",
     "text": [
      "Give me the genre for the movie My Son, My Son, What Have Ye Done? {'entities': [(32, 66, 'movie'), (12, 17, 'predicate')]}\n",
      "Missing movie label\n"
     ]
    },
    {
     "data": {
      "text/html": [
       "<span class=\"tex2jax_ignore\"><div class=\"entities\" style=\"line-height: 2.5; direction: ltr\">Identify the movie \n",
       "<mark class=\"entity\" style=\"background: #ddd; padding: 0.45em 0.6em; margin: 0 0.25em; line-height: 1; border-radius: 0.35em;\">\n",
       "    genre\n",
       "    <span style=\"font-size: 0.8em; font-weight: bold; line-height: 1; border-radius: 0.35em; vertical-align: middle; margin-left: 0.5rem\">predicate</span>\n",
       "</mark>\n",
       " for \n",
       "<mark class=\"entity\" style=\"background: #ddd; padding: 0.45em 0.6em; margin: 0 0.25em; line-height: 1; border-radius: 0.35em;\">\n",
       "    Who Killed the Electric Car\n",
       "    <span style=\"font-size: 0.8em; font-weight: bold; line-height: 1; border-radius: 0.35em; vertical-align: middle; margin-left: 0.5rem\">movie</span>\n",
       "</mark>\n",
       "?</div></span>"
      ],
      "text/plain": [
       "<IPython.core.display.HTML object>"
      ]
     },
     "metadata": {},
     "output_type": "display_data"
    },
    {
     "name": "stdout",
     "output_type": "stream",
     "text": [
      "Identify the movie genre for Who Killed the Electric Car? {'entities': [(29, 57, 'movie'), (19, 24, 'predicate')]}\n",
      "Missing movie label\n"
     ]
    },
    {
     "data": {
      "text/html": [
       "<span class=\"tex2jax_ignore\"><div class=\"entities\" style=\"line-height: 2.5; direction: ltr\">Tell me the \n",
       "<mark class=\"entity\" style=\"background: #ddd; padding: 0.45em 0.6em; margin: 0 0.25em; line-height: 1; border-radius: 0.35em;\">\n",
       "    type\n",
       "    <span style=\"font-size: 0.8em; font-weight: bold; line-height: 1; border-radius: 0.35em; vertical-align: middle; margin-left: 0.5rem\">predicate</span>\n",
       "</mark>\n",
       " of film that is \n",
       "<mark class=\"entity\" style=\"background: #ddd; padding: 0.45em 0.6em; margin: 0 0.25em; line-height: 1; border-radius: 0.35em;\">\n",
       "    What Becomes of the Broken Hearted\n",
       "    <span style=\"font-size: 0.8em; font-weight: bold; line-height: 1; border-radius: 0.35em; vertical-align: middle; margin-left: 0.5rem\">movie</span>\n",
       "</mark>\n",
       "?</div></span>"
      ],
      "text/plain": [
       "<IPython.core.display.HTML object>"
      ]
     },
     "metadata": {},
     "output_type": "display_data"
    },
    {
     "name": "stdout",
     "output_type": "stream",
     "text": [
      "Tell me the type of film that is What Becomes of the Broken Hearted? {'entities': [(33, 68, 'movie'), (12, 16, 'predicate')]}\n",
      "Missing movie label\n"
     ]
    },
    {
     "data": {
      "text/html": [
       "<span class=\"tex2jax_ignore\"><div class=\"entities\" style=\"line-height: 2.5; direction: ltr\">Tell me the \n",
       "<mark class=\"entity\" style=\"background: #ddd; padding: 0.45em 0.6em; margin: 0 0.25em; line-height: 1; border-radius: 0.35em;\">\n",
       "    genre\n",
       "    <span style=\"font-size: 0.8em; font-weight: bold; line-height: 1; border-radius: 0.35em; vertical-align: middle; margin-left: 0.5rem\">predicate</span>\n",
       "</mark>\n",
       " of \n",
       "<mark class=\"entity\" style=\"background: #ddd; padding: 0.45em 0.6em; margin: 0 0.25em; line-height: 1; border-radius: 0.35em;\">\n",
       "    Shall We Kiss\n",
       "    <span style=\"font-size: 0.8em; font-weight: bold; line-height: 1; border-radius: 0.35em; vertical-align: middle; margin-left: 0.5rem\">movie</span>\n",
       "</mark>\n",
       "?</div></span>"
      ],
      "text/plain": [
       "<IPython.core.display.HTML object>"
      ]
     },
     "metadata": {},
     "output_type": "display_data"
    },
    {
     "name": "stdout",
     "output_type": "stream",
     "text": [
      "Tell me the genre of Shall We Kiss? {'entities': [(21, 35, 'movie'), (12, 17, 'predicate')]}\n",
      "Missing movie label\n"
     ]
    },
    {
     "data": {
      "text/html": [
       "<span class=\"tex2jax_ignore\"><div class=\"entities\" style=\"line-height: 2.5; direction: ltr\">I'd like to know the \n",
       "<mark class=\"entity\" style=\"background: #ddd; padding: 0.45em 0.6em; margin: 0 0.25em; line-height: 1; border-radius: 0.35em;\">\n",
       "    genre\n",
       "    <span style=\"font-size: 0.8em; font-weight: bold; line-height: 1; border-radius: 0.35em; vertical-align: middle; margin-left: 0.5rem\">predicate</span>\n",
       "</mark>\n",
       " of \n",
       "<mark class=\"entity\" style=\"background: #ddd; padding: 0.45em 0.6em; margin: 0 0.25em; line-height: 1; border-radius: 0.35em;\">\n",
       "    Who's the Man\n",
       "    <span style=\"font-size: 0.8em; font-weight: bold; line-height: 1; border-radius: 0.35em; vertical-align: middle; margin-left: 0.5rem\">movie</span>\n",
       "</mark>\n",
       "?</div></span>"
      ],
      "text/plain": [
       "<IPython.core.display.HTML object>"
      ]
     },
     "metadata": {},
     "output_type": "display_data"
    },
    {
     "name": "stdout",
     "output_type": "stream",
     "text": [
      "I'd like to know the genre of Who's the Man? {'entities': [(30, 44, 'movie'), (21, 26, 'predicate')]}\n",
      "Missing movie label\n"
     ]
    },
    {
     "data": {
      "text/html": [
       "<span class=\"tex2jax_ignore\"><div class=\"entities\" style=\"line-height: 2.5; direction: ltr\">Which \n",
       "<mark class=\"entity\" style=\"background: #ddd; padding: 0.45em 0.6em; margin: 0 0.25em; line-height: 1; border-radius: 0.35em;\">\n",
       "    category\n",
       "    <span style=\"font-size: 0.8em; font-weight: bold; line-height: 1; border-radius: 0.35em; vertical-align: middle; margin-left: 0.5rem\">predicate</span>\n",
       "</mark>\n",
       " does \n",
       "<mark class=\"entity\" style=\"background: #ddd; padding: 0.45em 0.6em; margin: 0 0.25em; line-height: 1; border-radius: 0.35em;\">\n",
       "    Is the Man Who Is Tall Happy\n",
       "    <span style=\"font-size: 0.8em; font-weight: bold; line-height: 1; border-radius: 0.35em; vertical-align: middle; margin-left: 0.5rem\">movie</span>\n",
       "</mark>\n",
       "? fit into?</div></span>"
      ],
      "text/plain": [
       "<IPython.core.display.HTML object>"
      ]
     },
     "metadata": {},
     "output_type": "display_data"
    },
    {
     "name": "stdout",
     "output_type": "stream",
     "text": [
      "Which category does Is the Man Who Is Tall Happy? fit into? {'entities': [(20, 49, 'movie'), (6, 14, 'predicate')]}\n",
      "Missing movie label\n"
     ]
    },
    {
     "data": {
      "text/html": [
       "<span class=\"tex2jax_ignore\"><div class=\"entities\" style=\"line-height: 2.5; direction: ltr\">Tell me the \n",
       "<mark class=\"entity\" style=\"background: #ddd; padding: 0.45em 0.6em; margin: 0 0.25em; line-height: 1; border-radius: 0.35em;\">\n",
       "    genre\n",
       "    <span style=\"font-size: 0.8em; font-weight: bold; line-height: 1; border-radius: 0.35em; vertical-align: middle; margin-left: 0.5rem\">predicate</span>\n",
       "</mark>\n",
       " of \n",
       "<mark class=\"entity\" style=\"background: #ddd; padding: 0.45em 0.6em; margin: 0 0.25em; line-height: 1; border-radius: 0.35em;\">\n",
       "    Indovina chi viene a Natale\n",
       "    <span style=\"font-size: 0.8em; font-weight: bold; line-height: 1; border-radius: 0.35em; vertical-align: middle; margin-left: 0.5rem\">movie</span>\n",
       "</mark>\n",
       "?</div></span>"
      ],
      "text/plain": [
       "<IPython.core.display.HTML object>"
      ]
     },
     "metadata": {},
     "output_type": "display_data"
    },
    {
     "name": "stdout",
     "output_type": "stream",
     "text": [
      "Tell me the genre of Indovina chi viene a Natale? {'entities': [(21, 49, 'movie'), (12, 17, 'predicate')]}\n",
      "Missing movie label\n"
     ]
    },
    {
     "data": {
      "text/html": [
       "<span class=\"tex2jax_ignore\"><div class=\"entities\" style=\"line-height: 2.5; direction: ltr\">Identify the movie \n",
       "<mark class=\"entity\" style=\"background: #ddd; padding: 0.45em 0.6em; margin: 0 0.25em; line-height: 1; border-radius: 0.35em;\">\n",
       "    genre\n",
       "    <span style=\"font-size: 0.8em; font-weight: bold; line-height: 1; border-radius: 0.35em; vertical-align: middle; margin-left: 0.5rem\">predicate</span>\n",
       "</mark>\n",
       " for \n",
       "<mark class=\"entity\" style=\"background: #ddd; padding: 0.45em 0.6em; margin: 0 0.25em; line-height: 1; border-radius: 0.35em;\">\n",
       "    What Next, Corporal Hargrove\n",
       "    <span style=\"font-size: 0.8em; font-weight: bold; line-height: 1; border-radius: 0.35em; vertical-align: middle; margin-left: 0.5rem\">movie</span>\n",
       "</mark>\n",
       "?</div></span>"
      ],
      "text/plain": [
       "<IPython.core.display.HTML object>"
      ]
     },
     "metadata": {},
     "output_type": "display_data"
    },
    {
     "name": "stdout",
     "output_type": "stream",
     "text": [
      "Identify the movie genre for What Next, Corporal Hargrove? {'entities': [(29, 58, 'movie'), (19, 24, 'predicate')]}\n",
      "Missing movie label\n"
     ]
    },
    {
     "data": {
      "text/html": [
       "<span class=\"tex2jax_ignore\"><div class=\"entities\" style=\"line-height: 2.5; direction: ltr\">I'd like to know the \n",
       "<mark class=\"entity\" style=\"background: #ddd; padding: 0.45em 0.6em; margin: 0 0.25em; line-height: 1; border-radius: 0.35em;\">\n",
       "    genre\n",
       "    <span style=\"font-size: 0.8em; font-weight: bold; line-height: 1; border-radius: 0.35em; vertical-align: middle; margin-left: 0.5rem\">predicate</span>\n",
       "</mark>\n",
       " of \n",
       "<mark class=\"entity\" style=\"background: #ddd; padding: 0.45em 0.6em; margin: 0 0.25em; line-height: 1; border-radius: 0.35em;\">\n",
       "    Who's Your Daddy\n",
       "    <span style=\"font-size: 0.8em; font-weight: bold; line-height: 1; border-radius: 0.35em; vertical-align: middle; margin-left: 0.5rem\">movie</span>\n",
       "</mark>\n",
       "?</div></span>"
      ],
      "text/plain": [
       "<IPython.core.display.HTML object>"
      ]
     },
     "metadata": {},
     "output_type": "display_data"
    },
    {
     "name": "stdout",
     "output_type": "stream",
     "text": [
      "I'd like to know the genre of Who's Your Daddy? {'entities': [(30, 47, 'movie'), (21, 26, 'predicate')]}\n",
      "Missing movie label\n"
     ]
    },
    {
     "data": {
      "text/html": [
       "<span class=\"tex2jax_ignore\"><div class=\"entities\" style=\"line-height: 2.5; direction: ltr\">I'd like to know the \n",
       "<mark class=\"entity\" style=\"background: #ddd; padding: 0.45em 0.6em; margin: 0 0.25em; line-height: 1; border-radius: 0.35em;\">\n",
       "    genre\n",
       "    <span style=\"font-size: 0.8em; font-weight: bold; line-height: 1; border-radius: 0.35em; vertical-align: middle; margin-left: 0.5rem\">predicate</span>\n",
       "</mark>\n",
       " of \n",
       "<mark class=\"entity\" style=\"background: #ddd; padding: 0.45em 0.6em; margin: 0 0.25em; line-height: 1; border-radius: 0.35em;\">\n",
       "    Who's Your Caddy\n",
       "    <span style=\"font-size: 0.8em; font-weight: bold; line-height: 1; border-radius: 0.35em; vertical-align: middle; margin-left: 0.5rem\">movie</span>\n",
       "</mark>\n",
       "?</div></span>"
      ],
      "text/plain": [
       "<IPython.core.display.HTML object>"
      ]
     },
     "metadata": {},
     "output_type": "display_data"
    },
    {
     "name": "stdout",
     "output_type": "stream",
     "text": [
      "I'd like to know the genre of Who's Your Caddy? {'entities': [(30, 47, 'movie'), (21, 26, 'predicate')]}\n",
      "Missing movie label\n"
     ]
    },
    {
     "data": {
      "text/html": [
       "<span class=\"tex2jax_ignore\"><div class=\"entities\" style=\"line-height: 2.5; direction: ltr\">Identify the movie \n",
       "<mark class=\"entity\" style=\"background: #ddd; padding: 0.45em 0.6em; margin: 0 0.25em; line-height: 1; border-radius: 0.35em;\">\n",
       "    genre\n",
       "    <span style=\"font-size: 0.8em; font-weight: bold; line-height: 1; border-radius: 0.35em; vertical-align: middle; margin-left: 0.5rem\">predicate</span>\n",
       "</mark>\n",
       " for \n",
       "<mark class=\"entity\" style=\"background: #ddd; padding: 0.45em 0.6em; margin: 0 0.25em; line-height: 1; border-radius: 0.35em;\">\n",
       "    10 Billion - What's on\n",
       "    <span style=\"font-size: 0.8em; font-weight: bold; line-height: 1; border-radius: 0.35em; vertical-align: middle; margin-left: 0.5rem\">movie</span>\n",
       "</mark>\n",
       " your plate?</div></span>"
      ],
      "text/plain": [
       "<IPython.core.display.HTML object>"
      ]
     },
     "metadata": {},
     "output_type": "display_data"
    },
    {
     "name": "stdout",
     "output_type": "stream",
     "text": [
      "Identify the movie genre for 10 Billion - What's on your plate? {'entities': [(29, 63, 'movie'), (19, 24, 'predicate')]}\n",
      "Missing movie label\n"
     ]
    },
    {
     "data": {
      "text/html": [
       "<span class=\"tex2jax_ignore\"><div class=\"entities\" style=\"line-height: 2.5; direction: ltr\">Identify the movie \n",
       "<mark class=\"entity\" style=\"background: #ddd; padding: 0.45em 0.6em; margin: 0 0.25em; line-height: 1; border-radius: 0.35em;\">\n",
       "    genre\n",
       "    <span style=\"font-size: 0.8em; font-weight: bold; line-height: 1; border-radius: 0.35em; vertical-align: middle; margin-left: 0.5rem\">predicate</span>\n",
       "</mark>\n",
       " for \n",
       "<mark class=\"entity\" style=\"background: #ddd; padding: 0.45em 0.6em; margin: 0 0.25em; line-height: 1; border-radius: 0.35em;\">\n",
       "    Takeshis\n",
       "    <span style=\"font-size: 0.8em; font-weight: bold; line-height: 1; border-radius: 0.35em; vertical-align: middle; margin-left: 0.5rem\">movie</span>\n",
       "</mark>\n",
       "'</div></span>"
      ],
      "text/plain": [
       "<IPython.core.display.HTML object>"
      ]
     },
     "metadata": {},
     "output_type": "display_data"
    },
    {
     "name": "stdout",
     "output_type": "stream",
     "text": [
      "Identify the movie genre for Takeshis' {'entities': [(29, 38, 'movie'), (19, 24, 'predicate')]}\n",
      "Missing movie label\n"
     ]
    },
    {
     "data": {
      "text/html": [
       "<span class=\"tex2jax_ignore\"><div class=\"entities\" style=\"line-height: 2.5; direction: ltr\">I'd like to know the \n",
       "<mark class=\"entity\" style=\"background: #ddd; padding: 0.45em 0.6em; margin: 0 0.25em; line-height: 1; border-radius: 0.35em;\">\n",
       "    genre\n",
       "    <span style=\"font-size: 0.8em; font-weight: bold; line-height: 1; border-radius: 0.35em; vertical-align: middle; margin-left: 0.5rem\">predicate</span>\n",
       "</mark>\n",
       " of \n",
       "<mark class=\"entity\" style=\"background: #ddd; padding: 0.45em 0.6em; margin: 0 0.25em; line-height: 1; border-radius: 0.35em;\">\n",
       "    Riley's First Date\n",
       "    <span style=\"font-size: 0.8em; font-weight: bold; line-height: 1; border-radius: 0.35em; vertical-align: middle; margin-left: 0.5rem\">movie</span>\n",
       "</mark>\n",
       "?</div></span>"
      ],
      "text/plain": [
       "<IPython.core.display.HTML object>"
      ]
     },
     "metadata": {},
     "output_type": "display_data"
    },
    {
     "name": "stdout",
     "output_type": "stream",
     "text": [
      "I'd like to know the genre of Riley's First Date? {'entities': [(30, 49, 'movie'), (21, 26, 'predicate')]}\n",
      "Missing movie label\n"
     ]
    },
    {
     "data": {
      "text/html": [
       "<span class=\"tex2jax_ignore\"><div class=\"entities\" style=\"line-height: 2.5; direction: ltr\">I'm curious about the \n",
       "<mark class=\"entity\" style=\"background: #ddd; padding: 0.45em 0.6em; margin: 0 0.25em; line-height: 1; border-radius: 0.35em;\">\n",
       "    genre\n",
       "    <span style=\"font-size: 0.8em; font-weight: bold; line-height: 1; border-radius: 0.35em; vertical-align: middle; margin-left: 0.5rem\">predicate</span>\n",
       "</mark>\n",
       " of \n",
       "<mark class=\"entity\" style=\"background: #ddd; padding: 0.45em 0.6em; margin: 0 0.25em; line-height: 1; border-radius: 0.35em;\">\n",
       "    Where Is Kyra\n",
       "    <span style=\"font-size: 0.8em; font-weight: bold; line-height: 1; border-radius: 0.35em; vertical-align: middle; margin-left: 0.5rem\">movie</span>\n",
       "</mark>\n",
       "?</div></span>"
      ],
      "text/plain": [
       "<IPython.core.display.HTML object>"
      ]
     },
     "metadata": {},
     "output_type": "display_data"
    },
    {
     "name": "stdout",
     "output_type": "stream",
     "text": [
      "I'm curious about the genre of Where Is Kyra? {'entities': [(31, 45, 'movie'), (22, 27, 'predicate')]}\n",
      "Missing movie label\n"
     ]
    },
    {
     "data": {
      "text/html": [
       "<span class=\"tex2jax_ignore\"><div class=\"entities\" style=\"line-height: 2.5; direction: ltr\">Give me the \n",
       "<mark class=\"entity\" style=\"background: #ddd; padding: 0.45em 0.6em; margin: 0 0.25em; line-height: 1; border-radius: 0.35em;\">\n",
       "    genre\n",
       "    <span style=\"font-size: 0.8em; font-weight: bold; line-height: 1; border-radius: 0.35em; vertical-align: middle; margin-left: 0.5rem\">predicate</span>\n",
       "</mark>\n",
       " for the movie \n",
       "<mark class=\"entity\" style=\"background: #ddd; padding: 0.45em 0.6em; margin: 0 0.25em; line-height: 1; border-radius: 0.35em;\">\n",
       "    Why Him\n",
       "    <span style=\"font-size: 0.8em; font-weight: bold; line-height: 1; border-radius: 0.35em; vertical-align: middle; margin-left: 0.5rem\">movie</span>\n",
       "</mark>\n",
       "?</div></span>"
      ],
      "text/plain": [
       "<IPython.core.display.HTML object>"
      ]
     },
     "metadata": {},
     "output_type": "display_data"
    },
    {
     "name": "stdout",
     "output_type": "stream",
     "text": [
      "Give me the genre for the movie Why Him? {'entities': [(32, 40, 'movie'), (12, 17, 'predicate')]}\n",
      "Missing movie label\n"
     ]
    },
    {
     "data": {
      "text/html": [
       "<span class=\"tex2jax_ignore\"><div class=\"entities\" style=\"line-height: 2.5; direction: ltr\">In which \n",
       "<mark class=\"entity\" style=\"background: #ddd; padding: 0.45em 0.6em; margin: 0 0.25em; line-height: 1; border-radius: 0.35em;\">\n",
       "    genre\n",
       "    <span style=\"font-size: 0.8em; font-weight: bold; line-height: 1; border-radius: 0.35em; vertical-align: middle; margin-left: 0.5rem\">predicate</span>\n",
       "</mark>\n",
       " does \n",
       "<mark class=\"entity\" style=\"background: #ddd; padding: 0.45em 0.6em; margin: 0 0.25em; line-height: 1; border-radius: 0.35em;\">\n",
       "    ''Til There Was You\n",
       "    <span style=\"font-size: 0.8em; font-weight: bold; line-height: 1; border-radius: 0.35em; vertical-align: middle; margin-left: 0.5rem\">movie</span>\n",
       "</mark>\n",
       "' fit?</div></span>"
      ],
      "text/plain": [
       "<IPython.core.display.HTML object>"
      ]
     },
     "metadata": {},
     "output_type": "display_data"
    },
    {
     "name": "stdout",
     "output_type": "stream",
     "text": [
      "In which genre does ''Til There Was You' fit? {'entities': [(21, 39, 'movie'), (9, 14, 'predicate')]}\n",
      "Missing movie label\n"
     ]
    },
    {
     "data": {
      "text/html": [
       "<span class=\"tex2jax_ignore\"><div class=\"entities\" style=\"line-height: 2.5; direction: ltr\">Identify the movie \n",
       "<mark class=\"entity\" style=\"background: #ddd; padding: 0.45em 0.6em; margin: 0 0.25em; line-height: 1; border-radius: 0.35em;\">\n",
       "    genre\n",
       "    <span style=\"font-size: 0.8em; font-weight: bold; line-height: 1; border-radius: 0.35em; vertical-align: middle; margin-left: 0.5rem\">predicate</span>\n",
       "</mark>\n",
       " for \n",
       "<mark class=\"entity\" style=\"background: #ddd; padding: 0.45em 0.6em; margin: 0 0.25em; line-height: 1; border-radius: 0.35em;\">\n",
       "    Casual Sex\n",
       "    <span style=\"font-size: 0.8em; font-weight: bold; line-height: 1; border-radius: 0.35em; vertical-align: middle; margin-left: 0.5rem\">movie</span>\n",
       "</mark>\n",
       "?</div></span>"
      ],
      "text/plain": [
       "<IPython.core.display.HTML object>"
      ]
     },
     "metadata": {},
     "output_type": "display_data"
    },
    {
     "name": "stdout",
     "output_type": "stream",
     "text": [
      "Identify the movie genre for Casual Sex? {'entities': [(29, 40, 'movie'), (19, 24, 'predicate')]}\n",
      "Missing movie label\n"
     ]
    },
    {
     "data": {
      "text/html": [
       "<span class=\"tex2jax_ignore\"><div class=\"entities\" style=\"line-height: 2.5; direction: ltr\">Tell me the \n",
       "<mark class=\"entity\" style=\"background: #ddd; padding: 0.45em 0.6em; margin: 0 0.25em; line-height: 1; border-radius: 0.35em;\">\n",
       "    type\n",
       "    <span style=\"font-size: 0.8em; font-weight: bold; line-height: 1; border-radius: 0.35em; vertical-align: middle; margin-left: 0.5rem\">predicate</span>\n",
       "</mark>\n",
       " of film that is \n",
       "<mark class=\"entity\" style=\"background: #ddd; padding: 0.45em 0.6em; margin: 0 0.25em; line-height: 1; border-radius: 0.35em;\">\n",
       "    What's Cooking\n",
       "    <span style=\"font-size: 0.8em; font-weight: bold; line-height: 1; border-radius: 0.35em; vertical-align: middle; margin-left: 0.5rem\">movie</span>\n",
       "</mark>\n",
       "?</div></span>"
      ],
      "text/plain": [
       "<IPython.core.display.HTML object>"
      ]
     },
     "metadata": {},
     "output_type": "display_data"
    },
    {
     "name": "stdout",
     "output_type": "stream",
     "text": [
      "Tell me the type of film that is What's Cooking? {'entities': [(33, 48, 'movie'), (12, 16, 'predicate')]}\n",
      "Missing movie label\n"
     ]
    },
    {
     "data": {
      "text/html": [
       "<span class=\"tex2jax_ignore\"><div class=\"entities\" style=\"line-height: 2.5; direction: ltr\">Identify the movie \n",
       "<mark class=\"entity\" style=\"background: #ddd; padding: 0.45em 0.6em; margin: 0 0.25em; line-height: 1; border-radius: 0.35em;\">\n",
       "    genre\n",
       "    <span style=\"font-size: 0.8em; font-weight: bold; line-height: 1; border-radius: 0.35em; vertical-align: middle; margin-left: 0.5rem\">predicate</span>\n",
       "</mark>\n",
       " for \n",
       "<mark class=\"entity\" style=\"background: #ddd; padding: 0.45em 0.6em; margin: 0 0.25em; line-height: 1; border-radius: 0.35em;\">\n",
       "    Cool Kids Do\n",
       "    <span style=\"font-size: 0.8em; font-weight: bold; line-height: 1; border-radius: 0.35em; vertical-align: middle; margin-left: 0.5rem\">movie</span>\n",
       "</mark>\n",
       "n't Cry</div></span>"
      ],
      "text/plain": [
       "<IPython.core.display.HTML object>"
      ]
     },
     "metadata": {},
     "output_type": "display_data"
    },
    {
     "name": "stdout",
     "output_type": "stream",
     "text": [
      "Identify the movie genre for Cool Kids Don't Cry {'entities': [(29, 48, 'movie'), (19, 24, 'predicate')]}\n",
      "Missing movie label\n"
     ]
    },
    {
     "data": {
      "text/html": [
       "<span class=\"tex2jax_ignore\"><div class=\"entities\" style=\"line-height: 2.5; direction: ltr\">I'd like to know the \n",
       "<mark class=\"entity\" style=\"background: #ddd; padding: 0.45em 0.6em; margin: 0 0.25em; line-height: 1; border-radius: 0.35em;\">\n",
       "    genre\n",
       "    <span style=\"font-size: 0.8em; font-weight: bold; line-height: 1; border-radius: 0.35em; vertical-align: middle; margin-left: 0.5rem\">predicate</span>\n",
       "</mark>\n",
       " of \n",
       "<mark class=\"entity\" style=\"background: #ddd; padding: 0.45em 0.6em; margin: 0 0.25em; line-height: 1; border-radius: 0.35em;\">\n",
       "    Offline: Are You Ready for the Next Level\n",
       "    <span style=\"font-size: 0.8em; font-weight: bold; line-height: 1; border-radius: 0.35em; vertical-align: middle; margin-left: 0.5rem\">movie</span>\n",
       "</mark>\n",
       "?</div></span>"
      ],
      "text/plain": [
       "<IPython.core.display.HTML object>"
      ]
     },
     "metadata": {},
     "output_type": "display_data"
    },
    {
     "name": "stdout",
     "output_type": "stream",
     "text": [
      "I'd like to know the genre of Offline: Are You Ready for the Next Level? {'entities': [(30, 72, 'movie'), (21, 26, 'predicate')]}\n",
      "Missing movie label\n"
     ]
    },
    {
     "data": {
      "text/html": [
       "<span class=\"tex2jax_ignore\"><div class=\"entities\" style=\"line-height: 2.5; direction: ltr\">Which \n",
       "<mark class=\"entity\" style=\"background: #ddd; padding: 0.45em 0.6em; margin: 0 0.25em; line-height: 1; border-radius: 0.35em;\">\n",
       "    category\n",
       "    <span style=\"font-size: 0.8em; font-weight: bold; line-height: 1; border-radius: 0.35em; vertical-align: middle; margin-left: 0.5rem\">predicate</span>\n",
       "</mark>\n",
       " does \n",
       "<mark class=\"entity\" style=\"background: #ddd; padding: 0.45em 0.6em; margin: 0 0.25em; line-height: 1; border-radius: 0.35em;\">\n",
       "    100\n",
       "    <span style=\"font-size: 0.8em; font-weight: bold; line-height: 1; border-radius: 0.35em; vertical-align: middle; margin-left: 0.5rem\">movie</span>\n",
       "</mark>\n",
       " metros fit into?</div></span>"
      ],
      "text/plain": [
       "<IPython.core.display.HTML object>"
      ]
     },
     "metadata": {},
     "output_type": "display_data"
    },
    {
     "name": "stdout",
     "output_type": "stream",
     "text": [
      "Which category does 100 metros fit into? {'entities': [(20, 30, 'movie'), (6, 14, 'predicate')]}\n",
      "Missing movie label\n"
     ]
    },
    {
     "data": {
      "text/html": [
       "<span class=\"tex2jax_ignore\"><div class=\"entities\" style=\"line-height: 2.5; direction: ltr\">Which \n",
       "<mark class=\"entity\" style=\"background: #ddd; padding: 0.45em 0.6em; margin: 0 0.25em; line-height: 1; border-radius: 0.35em;\">\n",
       "    category\n",
       "    <span style=\"font-size: 0.8em; font-weight: bold; line-height: 1; border-radius: 0.35em; vertical-align: middle; margin-left: 0.5rem\">predicate</span>\n",
       "</mark>\n",
       " does \n",
       "<mark class=\"entity\" style=\"background: #ddd; padding: 0.45em 0.6em; margin: 0 0.25em; line-height: 1; border-radius: 0.35em;\">\n",
       "    Can You Ever Forgive Me\n",
       "    <span style=\"font-size: 0.8em; font-weight: bold; line-height: 1; border-radius: 0.35em; vertical-align: middle; margin-left: 0.5rem\">movie</span>\n",
       "</mark>\n",
       "? fit into?</div></span>"
      ],
      "text/plain": [
       "<IPython.core.display.HTML object>"
      ]
     },
     "metadata": {},
     "output_type": "display_data"
    },
    {
     "name": "stdout",
     "output_type": "stream",
     "text": [
      "Which category does Can You Ever Forgive Me? fit into? {'entities': [(20, 44, 'movie'), (6, 14, 'predicate')]}\n",
      "Missing movie label\n"
     ]
    },
    {
     "data": {
      "text/html": [
       "<span class=\"tex2jax_ignore\"><div class=\"entities\" style=\"line-height: 2.5; direction: ltr\">What is the movie \n",
       "<mark class=\"entity\" style=\"background: #ddd; padding: 0.45em 0.6em; margin: 0 0.25em; line-height: 1; border-radius: 0.35em;\">\n",
       "    genre\n",
       "    <span style=\"font-size: 0.8em; font-weight: bold; line-height: 1; border-radius: 0.35em; vertical-align: middle; margin-left: 0.5rem\">predicate</span>\n",
       "</mark>\n",
       " for \n",
       "<mark class=\"entity\" style=\"background: #ddd; padding: 0.45em 0.6em; margin: 0 0.25em; line-height: 1; border-radius: 0.35em;\">\n",
       "    1945\n",
       "    <span style=\"font-size: 0.8em; font-weight: bold; line-height: 1; border-radius: 0.35em; vertical-align: middle; margin-left: 0.5rem\">year</span>\n",
       "</mark>\n",
       "?</div></span>"
      ],
      "text/plain": [
       "<IPython.core.display.HTML object>"
      ]
     },
     "metadata": {},
     "output_type": "display_data"
    },
    {
     "name": "stdout",
     "output_type": "stream",
     "text": [
      "What is the movie genre for 1945? {'entities': [(28, 32, 'movie'), (18, 23, 'predicate')]}\n",
      "Missing year label\n"
     ]
    },
    {
     "data": {
      "text/html": [
       "<span class=\"tex2jax_ignore\"><div class=\"entities\" style=\"line-height: 2.5; direction: ltr\">I'm curious about the \n",
       "<mark class=\"entity\" style=\"background: #ddd; padding: 0.45em 0.6em; margin: 0 0.25em; line-height: 1; border-radius: 0.35em;\">\n",
       "    genre\n",
       "    <span style=\"font-size: 0.8em; font-weight: bold; line-height: 1; border-radius: 0.35em; vertical-align: middle; margin-left: 0.5rem\">predicate</span>\n",
       "</mark>\n",
       " of \n",
       "<mark class=\"entity\" style=\"background: #ddd; padding: 0.45em 0.6em; margin: 0 0.25em; line-height: 1; border-radius: 0.35em;\">\n",
       "    California Dreamin\n",
       "    <span style=\"font-size: 0.8em; font-weight: bold; line-height: 1; border-radius: 0.35em; vertical-align: middle; margin-left: 0.5rem\">movie</span>\n",
       "</mark>\n",
       "'</div></span>"
      ],
      "text/plain": [
       "<IPython.core.display.HTML object>"
      ]
     },
     "metadata": {},
     "output_type": "display_data"
    },
    {
     "name": "stdout",
     "output_type": "stream",
     "text": [
      "I'm curious about the genre of California Dreamin' {'entities': [(31, 50, 'movie'), (22, 27, 'predicate')]}\n",
      "Missing movie label\n"
     ]
    },
    {
     "data": {
      "text/html": [
       "<span class=\"tex2jax_ignore\"><div class=\"entities\" style=\"line-height: 2.5; direction: ltr\">I'd like to know the \n",
       "<mark class=\"entity\" style=\"background: #ddd; padding: 0.45em 0.6em; margin: 0 0.25em; line-height: 1; border-radius: 0.35em;\">\n",
       "    genre\n",
       "    <span style=\"font-size: 0.8em; font-weight: bold; line-height: 1; border-radius: 0.35em; vertical-align: middle; margin-left: 0.5rem\">predicate</span>\n",
       "</mark>\n",
       " of \n",
       "<mark class=\"entity\" style=\"background: #ddd; padding: 0.45em 0.6em; margin: 0 0.25em; line-height: 1; border-radius: 0.35em;\">\n",
       "    Are All Men Pedophiles\n",
       "    <span style=\"font-size: 0.8em; font-weight: bold; line-height: 1; border-radius: 0.35em; vertical-align: middle; margin-left: 0.5rem\">movie</span>\n",
       "</mark>\n",
       "?</div></span>"
      ],
      "text/plain": [
       "<IPython.core.display.HTML object>"
      ]
     },
     "metadata": {},
     "output_type": "display_data"
    },
    {
     "name": "stdout",
     "output_type": "stream",
     "text": [
      "I'd like to know the genre of Are All Men Pedophiles? {'entities': [(30, 53, 'movie'), (21, 26, 'predicate')]}\n",
      "Missing movie label\n"
     ]
    },
    {
     "data": {
      "text/html": [
       "<span class=\"tex2jax_ignore\"><div class=\"entities\" style=\"line-height: 2.5; direction: ltr\">I'm curious about the \n",
       "<mark class=\"entity\" style=\"background: #ddd; padding: 0.45em 0.6em; margin: 0 0.25em; line-height: 1; border-radius: 0.35em;\">\n",
       "    genre\n",
       "    <span style=\"font-size: 0.8em; font-weight: bold; line-height: 1; border-radius: 0.35em; vertical-align: middle; margin-left: 0.5rem\">predicate</span>\n",
       "</mark>\n",
       " of '\n",
       "<mark class=\"entity\" style=\"background: #ddd; padding: 0.45em 0.6em; margin: 0 0.25em; line-height: 1; border-radius: 0.35em;\">\n",
       "    R Xmas\n",
       "    <span style=\"font-size: 0.8em; font-weight: bold; line-height: 1; border-radius: 0.35em; vertical-align: middle; margin-left: 0.5rem\">movie</span>\n",
       "</mark>\n",
       "</div></span>"
      ],
      "text/plain": [
       "<IPython.core.display.HTML object>"
      ]
     },
     "metadata": {},
     "output_type": "display_data"
    },
    {
     "name": "stdout",
     "output_type": "stream",
     "text": [
      "I'm curious about the genre of 'R Xmas {'entities': [(31, 38, 'movie'), (22, 27, 'predicate')]}\n",
      "Missing movie label\n"
     ]
    },
    {
     "data": {
      "text/html": [
       "<span class=\"tex2jax_ignore\"><div class=\"entities\" style=\"line-height: 2.5; direction: ltr\">Tell me the \n",
       "<mark class=\"entity\" style=\"background: #ddd; padding: 0.45em 0.6em; margin: 0 0.25em; line-height: 1; border-radius: 0.35em;\">\n",
       "    genre\n",
       "    <span style=\"font-size: 0.8em; font-weight: bold; line-height: 1; border-radius: 0.35em; vertical-align: middle; margin-left: 0.5rem\">predicate</span>\n",
       "</mark>\n",
       " of \n",
       "<mark class=\"entity\" style=\"background: #ddd; padding: 0.45em 0.6em; margin: 0 0.25em; line-height: 1; border-radius: 0.35em;\">\n",
       "    Hi, Are You Alone\n",
       "    <span style=\"font-size: 0.8em; font-weight: bold; line-height: 1; border-radius: 0.35em; vertical-align: middle; margin-left: 0.5rem\">movie</span>\n",
       "</mark>\n",
       "?</div></span>"
      ],
      "text/plain": [
       "<IPython.core.display.HTML object>"
      ]
     },
     "metadata": {},
     "output_type": "display_data"
    },
    {
     "name": "stdout",
     "output_type": "stream",
     "text": [
      "Tell me the genre of Hi, Are You Alone? {'entities': [(21, 39, 'movie'), (12, 17, 'predicate')]}\n",
      "Missing movie label\n"
     ]
    },
    {
     "data": {
      "text/html": [
       "<span class=\"tex2jax_ignore\"><div class=\"entities\" style=\"line-height: 2.5; direction: ltr\">Tell me the \n",
       "<mark class=\"entity\" style=\"background: #ddd; padding: 0.45em 0.6em; margin: 0 0.25em; line-height: 1; border-radius: 0.35em;\">\n",
       "    genre\n",
       "    <span style=\"font-size: 0.8em; font-weight: bold; line-height: 1; border-radius: 0.35em; vertical-align: middle; margin-left: 0.5rem\">predicate</span>\n",
       "</mark>\n",
       " of \n",
       "<mark class=\"entity\" style=\"background: #ddd; padding: 0.45em 0.6em; margin: 0 0.25em; line-height: 1; border-radius: 0.35em;\">\n",
       "    Who's Afraid of Virginia Woolf\n",
       "    <span style=\"font-size: 0.8em; font-weight: bold; line-height: 1; border-radius: 0.35em; vertical-align: middle; margin-left: 0.5rem\">movie</span>\n",
       "</mark>\n",
       "?</div></span>"
      ],
      "text/plain": [
       "<IPython.core.display.HTML object>"
      ]
     },
     "metadata": {},
     "output_type": "display_data"
    },
    {
     "name": "stdout",
     "output_type": "stream",
     "text": [
      "Tell me the genre of Who's Afraid of Virginia Woolf? {'entities': [(21, 52, 'movie'), (12, 17, 'predicate')]}\n",
      "Missing movie label\n"
     ]
    },
    {
     "data": {
      "text/html": [
       "<span class=\"tex2jax_ignore\"><div class=\"entities\" style=\"line-height: 2.5; direction: ltr\">Which \n",
       "<mark class=\"entity\" style=\"background: #ddd; padding: 0.45em 0.6em; margin: 0 0.25em; line-height: 1; border-radius: 0.35em;\">\n",
       "    category\n",
       "    <span style=\"font-size: 0.8em; font-weight: bold; line-height: 1; border-radius: 0.35em; vertical-align: middle; margin-left: 0.5rem\">predicate</span>\n",
       "</mark>\n",
       " does \n",
       "<mark class=\"entity\" style=\"background: #ddd; padding: 0.45em 0.6em; margin: 0 0.25em; line-height: 1; border-radius: 0.35em;\">\n",
       "    Why (Not) Brazil\n",
       "    <span style=\"font-size: 0.8em; font-weight: bold; line-height: 1; border-radius: 0.35em; vertical-align: middle; margin-left: 0.5rem\">movie</span>\n",
       "</mark>\n",
       "? fit into?</div></span>"
      ],
      "text/plain": [
       "<IPython.core.display.HTML object>"
      ]
     },
     "metadata": {},
     "output_type": "display_data"
    },
    {
     "name": "stdout",
     "output_type": "stream",
     "text": [
      "Which category does Why (Not) Brazil? fit into? {'entities': [(20, 37, 'movie'), (6, 14, 'predicate')]}\n",
      "Missing movie label\n"
     ]
    },
    {
     "data": {
      "text/html": [
       "<span class=\"tex2jax_ignore\"><div class=\"entities\" style=\"line-height: 2.5; direction: ltr\">Retrieve the movies \n",
       "<mark class=\"entity\" style=\"background: #ddd; padding: 0.45em 0.6em; margin: 0 0.25em; line-height: 1; border-radius: 0.35em;\">\n",
       "    filmed\n",
       "    <span style=\"font-size: 0.8em; font-weight: bold; line-height: 1; border-radius: 0.35em; vertical-align: middle; margin-left: 0.5rem\">action</span>\n",
       "</mark>\n",
       " \n",
       "<mark class=\"entity\" style=\"background: #ddd; padding: 0.45em 0.6em; margin: 0 0.25em; line-height: 1; border-radius: 0.35em;\">\n",
       "    He Ye with\n",
       "    <span style=\"font-size: 0.8em; font-weight: bold; line-height: 1; border-radius: 0.35em; vertical-align: middle; margin-left: 0.5rem\">name</span>\n",
       "</mark>\n",
       " the \n",
       "<mark class=\"entity\" style=\"background: #ddd; padding: 0.45em 0.6em; margin: 0 0.25em; line-height: 1; border-radius: 0.35em;\">\n",
       "    highest\n",
       "    <span style=\"font-size: 0.8em; font-weight: bold; line-height: 1; border-radius: 0.35em; vertical-align: middle; margin-left: 0.5rem\">order</span>\n",
       "</mark>\n",
       " \n",
       "<mark class=\"entity\" style=\"background: #ddd; padding: 0.45em 0.6em; margin: 0 0.25em; line-height: 1; border-radius: 0.35em;\">\n",
       "    female buddy\n",
       "    <span style=\"font-size: 0.8em; font-weight: bold; line-height: 1; border-radius: 0.35em; vertical-align: middle; margin-left: 0.5rem\">genre</span>\n",
       "</mark>\n",
       " ratings</div></span>"
      ],
      "text/plain": [
       "<IPython.core.display.HTML object>"
      ]
     },
     "metadata": {},
     "output_type": "display_data"
    },
    {
     "name": "stdout",
     "output_type": "stream",
     "text": [
      "Retrieve the movies filmed He Ye with the highest female buddy ratings {'entities': [(42, 49, 'order'), (50, 62, 'genre'), (27, 32, 'name'), (20, 26, 'action'), (63, 69, 'predicate')]}\n",
      "Missing name label\n"
     ]
    },
    {
     "data": {
      "text/html": [
       "<span class=\"tex2jax_ignore\"><div class=\"entities\" style=\"line-height: 2.5; direction: ltr\">List the \n",
       "<mark class=\"entity\" style=\"background: #ddd; padding: 0.45em 0.6em; margin: 0 0.25em; line-height: 1; border-radius: 0.35em;\">\n",
       "    psychological thriller\n",
       "    <span style=\"font-size: 0.8em; font-weight: bold; line-height: 1; border-radius: 0.35em; vertical-align: middle; margin-left: 0.5rem\">genre</span>\n",
       "</mark>\n",
       " movies \n",
       "<mark class=\"entity\" style=\"background: #ddd; padding: 0.45em 0.6em; margin: 0 0.25em; line-height: 1; border-radius: 0.35em;\">\n",
       "    played\n",
       "    <span style=\"font-size: 0.8em; font-weight: bold; line-height: 1; border-radius: 0.35em; vertical-align: middle; margin-left: 0.5rem\">action</span>\n",
       "</mark>\n",
       " \n",
       "<mark class=\"entity\" style=\"background: #ddd; padding: 0.45em 0.6em; margin: 0 0.25em; line-height: 1; border-radius: 0.35em;\">\n",
       "    Park Min-ha with\n",
       "    <span style=\"font-size: 0.8em; font-weight: bold; line-height: 1; border-radius: 0.35em; vertical-align: middle; margin-left: 0.5rem\">name</span>\n",
       "</mark>\n",
       " the \n",
       "<mark class=\"entity\" style=\"background: #ddd; padding: 0.45em 0.6em; margin: 0 0.25em; line-height: 1; border-radius: 0.35em;\">\n",
       "    worst\n",
       "    <span style=\"font-size: 0.8em; font-weight: bold; line-height: 1; border-radius: 0.35em; vertical-align: middle; margin-left: 0.5rem\">order</span>\n",
       "</mark>\n",
       " ratings</div></span>"
      ],
      "text/plain": [
       "<IPython.core.display.HTML object>"
      ]
     },
     "metadata": {},
     "output_type": "display_data"
    },
    {
     "name": "stdout",
     "output_type": "stream",
     "text": [
      "List the psychological thriller movies played Park Min-ha with the worst ratings {'entities': [(9, 31, 'genre'), (67, 72, 'order'), (46, 57, 'name'), (39, 45, 'action'), (73, 79, 'predicate')]}\n",
      "Missing name label\n"
     ]
    },
    {
     "data": {
      "text/html": [
       "<span class=\"tex2jax_ignore\"><div class=\"entities\" style=\"line-height: 2.5; direction: ltr\">Retrieve the movies \n",
       "<mark class=\"entity\" style=\"background: #ddd; padding: 0.45em 0.6em; margin: 0 0.25em; line-height: 1; border-radius: 0.35em;\">\n",
       "    acted\n",
       "    <span style=\"font-size: 0.8em; font-weight: bold; line-height: 1; border-radius: 0.35em; vertical-align: middle; margin-left: 0.5rem\">action</span>\n",
       "</mark>\n",
       " \n",
       "<mark class=\"entity\" style=\"background: #ddd; padding: 0.45em 0.6em; margin: 0 0.25em; line-height: 1; border-radius: 0.35em;\">\n",
       "    Park Ji-yeon with\n",
       "    <span style=\"font-size: 0.8em; font-weight: bold; line-height: 1; border-radius: 0.35em; vertical-align: middle; margin-left: 0.5rem\">name</span>\n",
       "</mark>\n",
       " the \n",
       "<mark class=\"entity\" style=\"background: #ddd; padding: 0.45em 0.6em; margin: 0 0.25em; line-height: 1; border-radius: 0.35em;\">\n",
       "    lowest\n",
       "    <span style=\"font-size: 0.8em; font-weight: bold; line-height: 1; border-radius: 0.35em; vertical-align: middle; margin-left: 0.5rem\">order</span>\n",
       "</mark>\n",
       " \n",
       "<mark class=\"entity\" style=\"background: #ddd; padding: 0.45em 0.6em; margin: 0 0.25em; line-height: 1; border-radius: 0.35em;\">\n",
       "    animated\n",
       "    <span style=\"font-size: 0.8em; font-weight: bold; line-height: 1; border-radius: 0.35em; vertical-align: middle; margin-left: 0.5rem\">genre</span>\n",
       "</mark>\n",
       " ratings</div></span>"
      ],
      "text/plain": [
       "<IPython.core.display.HTML object>"
      ]
     },
     "metadata": {},
     "output_type": "display_data"
    },
    {
     "name": "stdout",
     "output_type": "stream",
     "text": [
      "Retrieve the movies acted Park Ji-yeon with the lowest animated ratings {'entities': [(48, 54, 'order'), (55, 63, 'genre'), (26, 38, 'name'), (20, 25, 'action'), (64, 70, 'predicate')]}\n",
      "Missing name label\n"
     ]
    },
    {
     "data": {
      "text/html": [
       "<span class=\"tex2jax_ignore\"><div class=\"entities\" style=\"line-height: 2.5; direction: ltr\">Show the movies \n",
       "<mark class=\"entity\" style=\"background: #ddd; padding: 0.45em 0.6em; margin: 0 0.25em; line-height: 1; border-radius: 0.35em;\">\n",
       "    acted\n",
       "    <span style=\"font-size: 0.8em; font-weight: bold; line-height: 1; border-radius: 0.35em; vertical-align: middle; margin-left: 0.5rem\">action</span>\n",
       "</mark>\n",
       " \n",
       "<mark class=\"entity\" style=\"background: #ddd; padding: 0.45em 0.6em; margin: 0 0.25em; line-height: 1; border-radius: 0.35em;\">\n",
       "    Jin Seon-kyu with\n",
       "    <span style=\"font-size: 0.8em; font-weight: bold; line-height: 1; border-radius: 0.35em; vertical-align: middle; margin-left: 0.5rem\">name</span>\n",
       "</mark>\n",
       " the \n",
       "<mark class=\"entity\" style=\"background: #ddd; padding: 0.45em 0.6em; margin: 0 0.25em; line-height: 1; border-radius: 0.35em;\">\n",
       "    worst\n",
       "    <span style=\"font-size: 0.8em; font-weight: bold; line-height: 1; border-radius: 0.35em; vertical-align: middle; margin-left: 0.5rem\">order</span>\n",
       "</mark>\n",
       " \n",
       "<mark class=\"entity\" style=\"background: #ddd; padding: 0.45em 0.6em; margin: 0 0.25em; line-height: 1; border-radius: 0.35em;\">\n",
       "    farce\n",
       "    <span style=\"font-size: 0.8em; font-weight: bold; line-height: 1; border-radius: 0.35em; vertical-align: middle; margin-left: 0.5rem\">genre</span>\n",
       "</mark>\n",
       " ratings</div></span>"
      ],
      "text/plain": [
       "<IPython.core.display.HTML object>"
      ]
     },
     "metadata": {},
     "output_type": "display_data"
    },
    {
     "name": "stdout",
     "output_type": "stream",
     "text": [
      "Show the movies acted Jin Seon-kyu with the worst farce ratings {'entities': [(50, 55, 'genre'), (44, 49, 'order'), (22, 34, 'name'), (16, 21, 'action'), (56, 62, 'predicate')]}\n",
      "Missing name label\n"
     ]
    },
    {
     "data": {
      "text/html": [
       "<span class=\"tex2jax_ignore\"><div class=\"entities\" style=\"line-height: 2.5; direction: ltr\">Retrieve the movies \n",
       "<mark class=\"entity\" style=\"background: #ddd; padding: 0.45em 0.6em; margin: 0 0.25em; line-height: 1; border-radius: 0.35em;\">\n",
       "    recorded\n",
       "    <span style=\"font-size: 0.8em; font-weight: bold; line-height: 1; border-radius: 0.35em; vertical-align: middle; margin-left: 0.5rem\">action</span>\n",
       "</mark>\n",
       " \n",
       "<mark class=\"entity\" style=\"background: #ddd; padding: 0.45em 0.6em; margin: 0 0.25em; line-height: 1; border-radius: 0.35em;\">\n",
       "    Choi Woo-jae with\n",
       "    <span style=\"font-size: 0.8em; font-weight: bold; line-height: 1; border-radius: 0.35em; vertical-align: middle; margin-left: 0.5rem\">name</span>\n",
       "</mark>\n",
       " the \n",
       "<mark class=\"entity\" style=\"background: #ddd; padding: 0.45em 0.6em; margin: 0 0.25em; line-height: 1; border-radius: 0.35em;\">\n",
       "    lowest\n",
       "    <span style=\"font-size: 0.8em; font-weight: bold; line-height: 1; border-radius: 0.35em; vertical-align: middle; margin-left: 0.5rem\">order</span>\n",
       "</mark>\n",
       " \n",
       "<mark class=\"entity\" style=\"background: #ddd; padding: 0.45em 0.6em; margin: 0 0.25em; line-height: 1; border-radius: 0.35em;\">\n",
       "    silent\n",
       "    <span style=\"font-size: 0.8em; font-weight: bold; line-height: 1; border-radius: 0.35em; vertical-align: middle; margin-left: 0.5rem\">genre</span>\n",
       "</mark>\n",
       " ratings</div></span>"
      ],
      "text/plain": [
       "<IPython.core.display.HTML object>"
      ]
     },
     "metadata": {},
     "output_type": "display_data"
    },
    {
     "name": "stdout",
     "output_type": "stream",
     "text": [
      "Retrieve the movies recorded Choi Woo-jae with the lowest silent ratings {'entities': [(51, 57, 'order'), (58, 64, 'genre'), (29, 41, 'name'), (20, 28, 'action'), (65, 71, 'predicate')]}\n",
      "Missing name label\n"
     ]
    },
    {
     "data": {
      "text/html": [
       "<span class=\"tex2jax_ignore\"><div class=\"entities\" style=\"line-height: 2.5; direction: ltr\">What are the most \n",
       "<mark class=\"entity\" style=\"background: #ddd; padding: 0.45em 0.6em; margin: 0 0.25em; line-height: 1; border-radius: 0.35em;\">\n",
       "    highly\n",
       "    <span style=\"font-size: 0.8em; font-weight: bold; line-height: 1; border-radius: 0.35em; vertical-align: middle; margin-left: 0.5rem\">order</span>\n",
       "</mark>\n",
       "-\n",
       "<mark class=\"entity\" style=\"background: #ddd; padding: 0.45em 0.6em; margin: 0 0.25em; line-height: 1; border-radius: 0.35em;\">\n",
       "    rated\n",
       "    <span style=\"font-size: 0.8em; font-weight: bold; line-height: 1; border-radius: 0.35em; vertical-align: middle; margin-left: 0.5rem\">predicate</span>\n",
       "</mark>\n",
       " \n",
       "<mark class=\"entity\" style=\"background: #ddd; padding: 0.45em 0.6em; margin: 0 0.25em; line-height: 1; border-radius: 0.35em;\">\n",
       "    traditionally animated\n",
       "    <span style=\"font-size: 0.8em; font-weight: bold; line-height: 1; border-radius: 0.35em; vertical-align: middle; margin-left: 0.5rem\">genre</span>\n",
       "</mark>\n",
       " films \n",
       "<mark class=\"entity\" style=\"background: #ddd; padding: 0.45em 0.6em; margin: 0 0.25em; line-height: 1; border-radius: 0.35em;\">\n",
       "    written\n",
       "    <span style=\"font-size: 0.8em; font-weight: bold; line-height: 1; border-radius: 0.35em; vertical-align: middle; margin-left: 0.5rem\">action</span>\n",
       "</mark>\n",
       " \n",
       "<mark class=\"entity\" style=\"background: #ddd; padding: 0.45em 0.6em; margin: 0 0.25em; line-height: 1; border-radius: 0.35em;\">\n",
       "    Peggy\n",
       "    <span style=\"font-size: 0.8em; font-weight: bold; line-height: 1; border-radius: 0.35em; vertical-align: middle; margin-left: 0.5rem\">name</span>\n",
       "</mark>\n",
       " Dow?</div></span>"
      ],
      "text/plain": [
       "<IPython.core.display.HTML object>"
      ]
     },
     "metadata": {},
     "output_type": "display_data"
    },
    {
     "name": "stdout",
     "output_type": "stream",
     "text": [
      "What are the most highly-rated traditionally animated films written Peggy Dow? {'entities': [(18, 24, 'order'), (31, 53, 'genre'), (68, 77, 'name'), (60, 67, 'action'), (25, 30, 'predicate')]}\n",
      "Missing name label\n"
     ]
    },
    {
     "data": {
      "text/html": [
       "<span class=\"tex2jax_ignore\"><div class=\"entities\" style=\"line-height: 2.5; direction: ltr\">Display the \n",
       "<mark class=\"entity\" style=\"background: #ddd; padding: 0.45em 0.6em; margin: 0 0.25em; line-height: 1; border-radius: 0.35em;\">\n",
       "    psychological thriller\n",
       "    <span style=\"font-size: 0.8em; font-weight: bold; line-height: 1; border-radius: 0.35em; vertical-align: middle; margin-left: 0.5rem\">genre</span>\n",
       "</mark>\n",
       " movies \n",
       "<mark class=\"entity\" style=\"background: #ddd; padding: 0.45em 0.6em; margin: 0 0.25em; line-height: 1; border-radius: 0.35em;\">\n",
       "    distribute\n",
       "    <span style=\"font-size: 0.8em; font-weight: bold; line-height: 1; border-radius: 0.35em; vertical-align: middle; margin-left: 0.5rem\">action</span>\n",
       "</mark>\n",
       " \n",
       "<mark class=\"entity\" style=\"background: #ddd; padding: 0.45em 0.6em; margin: 0 0.25em; line-height: 1; border-radius: 0.35em;\">\n",
       "    Choi Ro-woon with\n",
       "    <span style=\"font-size: 0.8em; font-weight: bold; line-height: 1; border-radius: 0.35em; vertical-align: middle; margin-left: 0.5rem\">name</span>\n",
       "</mark>\n",
       " the \n",
       "<mark class=\"entity\" style=\"background: #ddd; padding: 0.45em 0.6em; margin: 0 0.25em; line-height: 1; border-radius: 0.35em;\">\n",
       "    lowest\n",
       "    <span style=\"font-size: 0.8em; font-weight: bold; line-height: 1; border-radius: 0.35em; vertical-align: middle; margin-left: 0.5rem\">order</span>\n",
       "</mark>\n",
       " ratings</div></span>"
      ],
      "text/plain": [
       "<IPython.core.display.HTML object>"
      ]
     },
     "metadata": {},
     "output_type": "display_data"
    },
    {
     "name": "stdout",
     "output_type": "stream",
     "text": [
      "Display the psychological thriller movies distribute Choi Ro-woon with the lowest ratings {'entities': [(75, 81, 'order'), (12, 34, 'genre'), (53, 65, 'name'), (42, 52, 'action'), (82, 88, 'predicate')]}\n",
      "Missing name label\n"
     ]
    },
    {
     "data": {
      "text/html": [
       "<span class=\"tex2jax_ignore\"><div class=\"entities\" style=\"line-height: 2.5; direction: ltr\">List the \n",
       "<mark class=\"entity\" style=\"background: #ddd; padding: 0.45em 0.6em; margin: 0 0.25em; line-height: 1; border-radius: 0.35em;\">\n",
       "    comedy horror\n",
       "    <span style=\"font-size: 0.8em; font-weight: bold; line-height: 1; border-radius: 0.35em; vertical-align: middle; margin-left: 0.5rem\">genre</span>\n",
       "</mark>\n",
       " movies with the \n",
       "<mark class=\"entity\" style=\"background: #ddd; padding: 0.45em 0.6em; margin: 0 0.25em; line-height: 1; border-radius: 0.35em;\">\n",
       "    worst\n",
       "    <span style=\"font-size: 0.8em; font-weight: bold; line-height: 1; border-radius: 0.35em; vertical-align: middle; margin-left: 0.5rem\">order</span>\n",
       "</mark>\n",
       " ratings \n",
       "<mark class=\"entity\" style=\"background: #ddd; padding: 0.45em 0.6em; margin: 0 0.25em; line-height: 1; border-radius: 0.35em;\">\n",
       "    appear\n",
       "    <span style=\"font-size: 0.8em; font-weight: bold; line-height: 1; border-radius: 0.35em; vertical-align: middle; margin-left: 0.5rem\">action</span>\n",
       "</mark>\n",
       " \n",
       "<mark class=\"entity\" style=\"background: #ddd; padding: 0.45em 0.6em; margin: 0 0.25em; line-height: 1; border-radius: 0.35em;\">\n",
       "    Ron\n",
       "    <span style=\"font-size: 0.8em; font-weight: bold; line-height: 1; border-radius: 0.35em; vertical-align: middle; margin-left: 0.5rem\">name</span>\n",
       "</mark>\n",
       " Yerxa</div></span>"
      ],
      "text/plain": [
       "<IPython.core.display.HTML object>"
      ]
     },
     "metadata": {},
     "output_type": "display_data"
    },
    {
     "name": "stdout",
     "output_type": "stream",
     "text": [
      "List the comedy horror movies with the worst ratings appear Ron Yerxa {'entities': [(9, 22, 'genre'), (39, 44, 'order'), (60, 69, 'name'), (53, 59, 'action'), (45, 51, 'predicate')]}\n",
      "Missing name label\n"
     ]
    },
    {
     "data": {
      "text/html": [
       "<span class=\"tex2jax_ignore\"><div class=\"entities\" style=\"line-height: 2.5; direction: ltr\">Retrieve the movies \n",
       "<mark class=\"entity\" style=\"background: #ddd; padding: 0.45em 0.6em; margin: 0 0.25em; line-height: 1; border-radius: 0.35em;\">\n",
       "    appears\n",
       "    <span style=\"font-size: 0.8em; font-weight: bold; line-height: 1; border-radius: 0.35em; vertical-align: middle; margin-left: 0.5rem\">action</span>\n",
       "</mark>\n",
       " \n",
       "<mark class=\"entity\" style=\"background: #ddd; padding: 0.45em 0.6em; margin: 0 0.25em; line-height: 1; border-radius: 0.35em;\">\n",
       "    Ko Chun Man with\n",
       "    <span style=\"font-size: 0.8em; font-weight: bold; line-height: 1; border-radius: 0.35em; vertical-align: middle; margin-left: 0.5rem\">name</span>\n",
       "</mark>\n",
       " the \n",
       "<mark class=\"entity\" style=\"background: #ddd; padding: 0.45em 0.6em; margin: 0 0.25em; line-height: 1; border-radius: 0.35em;\">\n",
       "    highest\n",
       "    <span style=\"font-size: 0.8em; font-weight: bold; line-height: 1; border-radius: 0.35em; vertical-align: middle; margin-left: 0.5rem\">order</span>\n",
       "</mark>\n",
       " \n",
       "<mark class=\"entity\" style=\"background: #ddd; padding: 0.45em 0.6em; margin: 0 0.25em; line-height: 1; border-radius: 0.35em;\">\n",
       "    fictional crossover\n",
       "    <span style=\"font-size: 0.8em; font-weight: bold; line-height: 1; border-radius: 0.35em; vertical-align: middle; margin-left: 0.5rem\">genre</span>\n",
       "</mark>\n",
       " ratings</div></span>"
      ],
      "text/plain": [
       "<IPython.core.display.HTML object>"
      ]
     },
     "metadata": {},
     "output_type": "display_data"
    },
    {
     "name": "stdout",
     "output_type": "stream",
     "text": [
      "Retrieve the movies appears Ko Chun Man with the highest fictional crossover ratings {'entities': [(49, 56, 'order'), (57, 76, 'genre'), (28, 39, 'name'), (20, 26, 'action'), (20, 27, 'action'), (77, 83, 'predicate')]}\n",
      "Missing name label\n"
     ]
    },
    {
     "data": {
      "text/html": [
       "<span class=\"tex2jax_ignore\"><div class=\"entities\" style=\"line-height: 2.5; direction: ltr\">List the \n",
       "<mark class=\"entity\" style=\"background: #ddd; padding: 0.45em 0.6em; margin: 0 0.25em; line-height: 1; border-radius: 0.35em;\">\n",
       "    comedy horror\n",
       "    <span style=\"font-size: 0.8em; font-weight: bold; line-height: 1; border-radius: 0.35em; vertical-align: middle; margin-left: 0.5rem\">genre</span>\n",
       "</mark>\n",
       " movies \n",
       "<mark class=\"entity\" style=\"background: #ddd; padding: 0.45em 0.6em; margin: 0 0.25em; line-height: 1; border-radius: 0.35em;\">\n",
       "    directed\n",
       "    <span style=\"font-size: 0.8em; font-weight: bold; line-height: 1; border-radius: 0.35em; vertical-align: middle; margin-left: 0.5rem\">action</span>\n",
       "</mark>\n",
       " \n",
       "<mark class=\"entity\" style=\"background: #ddd; padding: 0.45em 0.6em; margin: 0 0.25em; line-height: 1; border-radius: 0.35em;\">\n",
       "    Lee Seung-ho with\n",
       "    <span style=\"font-size: 0.8em; font-weight: bold; line-height: 1; border-radius: 0.35em; vertical-align: middle; margin-left: 0.5rem\">name</span>\n",
       "</mark>\n",
       " the \n",
       "<mark class=\"entity\" style=\"background: #ddd; padding: 0.45em 0.6em; margin: 0 0.25em; line-height: 1; border-radius: 0.35em;\">\n",
       "    best\n",
       "    <span style=\"font-size: 0.8em; font-weight: bold; line-height: 1; border-radius: 0.35em; vertical-align: middle; margin-left: 0.5rem\">order</span>\n",
       "</mark>\n",
       " ratings</div></span>"
      ],
      "text/plain": [
       "<IPython.core.display.HTML object>"
      ]
     },
     "metadata": {},
     "output_type": "display_data"
    },
    {
     "name": "stdout",
     "output_type": "stream",
     "text": [
      "List the comedy horror movies directed Lee Seung-ho with the best ratings {'entities': [(9, 22, 'genre'), (61, 65, 'order'), (39, 51, 'name'), (30, 38, 'action'), (30, 36, 'action'), (66, 72, 'predicate')]}\n",
      "Missing name label\n"
     ]
    },
    {
     "data": {
      "text/html": [
       "<span class=\"tex2jax_ignore\"><div class=\"entities\" style=\"line-height: 2.5; direction: ltr\">Display the \n",
       "<mark class=\"entity\" style=\"background: #ddd; padding: 0.45em 0.6em; margin: 0 0.25em; line-height: 1; border-radius: 0.35em;\">\n",
       "    coming-of-age\n",
       "    <span style=\"font-size: 0.8em; font-weight: bold; line-height: 1; border-radius: 0.35em; vertical-align: middle; margin-left: 0.5rem\">genre</span>\n",
       "</mark>\n",
       " movies \n",
       "<mark class=\"entity\" style=\"background: #ddd; padding: 0.45em 0.6em; margin: 0 0.25em; line-height: 1; border-radius: 0.35em;\">\n",
       "    screenwrote\n",
       "    <span style=\"font-size: 0.8em; font-weight: bold; line-height: 1; border-radius: 0.35em; vertical-align: middle; margin-left: 0.5rem\">action</span>\n",
       "</mark>\n",
       " \n",
       "<mark class=\"entity\" style=\"background: #ddd; padding: 0.45em 0.6em; margin: 0 0.25em; line-height: 1; border-radius: 0.35em;\">\n",
       "    Sophie van der Stap with\n",
       "    <span style=\"font-size: 0.8em; font-weight: bold; line-height: 1; border-radius: 0.35em; vertical-align: middle; margin-left: 0.5rem\">name</span>\n",
       "</mark>\n",
       " the \n",
       "<mark class=\"entity\" style=\"background: #ddd; padding: 0.45em 0.6em; margin: 0 0.25em; line-height: 1; border-radius: 0.35em;\">\n",
       "    highest\n",
       "    <span style=\"font-size: 0.8em; font-weight: bold; line-height: 1; border-radius: 0.35em; vertical-align: middle; margin-left: 0.5rem\">order</span>\n",
       "</mark>\n",
       " ratings</div></span>"
      ],
      "text/plain": [
       "<IPython.core.display.HTML object>"
      ]
     },
     "metadata": {},
     "output_type": "display_data"
    },
    {
     "name": "stdout",
     "output_type": "stream",
     "text": [
      "Display the coming-of-age movies screenwrote Sophie van der Stap with the highest ratings {'entities': [(74, 81, 'order'), (12, 25, 'genre'), (45, 64, 'name'), (33, 44, 'action'), (39, 44, 'action'), (82, 88, 'predicate')]}\n",
      "Missing name label\n"
     ]
    },
    {
     "data": {
      "text/html": [
       "<span class=\"tex2jax_ignore\"><div class=\"entities\" style=\"line-height: 2.5; direction: ltr\">Retrieve the movies \n",
       "<mark class=\"entity\" style=\"background: #ddd; padding: 0.45em 0.6em; margin: 0 0.25em; line-height: 1; border-radius: 0.35em;\">\n",
       "    recorded\n",
       "    <span style=\"font-size: 0.8em; font-weight: bold; line-height: 1; border-radius: 0.35em; vertical-align: middle; margin-left: 0.5rem\">action</span>\n",
       "</mark>\n",
       " \n",
       "<mark class=\"entity\" style=\"background: #ddd; padding: 0.45em 0.6em; margin: 0 0.25em; line-height: 1; border-radius: 0.35em;\">\n",
       "    Ko Kyu-pil with\n",
       "    <span style=\"font-size: 0.8em; font-weight: bold; line-height: 1; border-radius: 0.35em; vertical-align: middle; margin-left: 0.5rem\">name</span>\n",
       "</mark>\n",
       " the \n",
       "<mark class=\"entity\" style=\"background: #ddd; padding: 0.45em 0.6em; margin: 0 0.25em; line-height: 1; border-radius: 0.35em;\">\n",
       "    highest\n",
       "    <span style=\"font-size: 0.8em; font-weight: bold; line-height: 1; border-radius: 0.35em; vertical-align: middle; margin-left: 0.5rem\">order</span>\n",
       "</mark>\n",
       " \n",
       "<mark class=\"entity\" style=\"background: #ddd; padding: 0.45em 0.6em; margin: 0 0.25em; line-height: 1; border-radius: 0.35em;\">\n",
       "    comedic television series\n",
       "    <span style=\"font-size: 0.8em; font-weight: bold; line-height: 1; border-radius: 0.35em; vertical-align: middle; margin-left: 0.5rem\">genre</span>\n",
       "</mark>\n",
       " ratings</div></span>"
      ],
      "text/plain": [
       "<IPython.core.display.HTML object>"
      ]
     },
     "metadata": {},
     "output_type": "display_data"
    },
    {
     "name": "stdout",
     "output_type": "stream",
     "text": [
      "Retrieve the movies recorded Ko Kyu-pil with the highest comedic television series ratings {'entities': [(49, 56, 'order'), (57, 82, 'genre'), (29, 39, 'name'), (20, 28, 'action'), (83, 89, 'predicate')]}\n",
      "Missing name label\n"
     ]
    },
    {
     "data": {
      "text/html": [
       "<span class=\"tex2jax_ignore\"><div class=\"entities\" style=\"line-height: 2.5; direction: ltr\">Show the movies \n",
       "<mark class=\"entity\" style=\"background: #ddd; padding: 0.45em 0.6em; margin: 0 0.25em; line-height: 1; border-radius: 0.35em;\">\n",
       "    made\n",
       "    <span style=\"font-size: 0.8em; font-weight: bold; line-height: 1; border-radius: 0.35em; vertical-align: middle; margin-left: 0.5rem\">action</span>\n",
       "</mark>\n",
       " \n",
       "<mark class=\"entity\" style=\"background: #ddd; padding: 0.45em 0.6em; margin: 0 0.25em; line-height: 1; border-radius: 0.35em;\">\n",
       "    Sung Yu-bin with\n",
       "    <span style=\"font-size: 0.8em; font-weight: bold; line-height: 1; border-radius: 0.35em; vertical-align: middle; margin-left: 0.5rem\">name</span>\n",
       "</mark>\n",
       " the \n",
       "<mark class=\"entity\" style=\"background: #ddd; padding: 0.45em 0.6em; margin: 0 0.25em; line-height: 1; border-radius: 0.35em;\">\n",
       "    best\n",
       "    <span style=\"font-size: 0.8em; font-weight: bold; line-height: 1; border-radius: 0.35em; vertical-align: middle; margin-left: 0.5rem\">order</span>\n",
       "</mark>\n",
       " \n",
       "<mark class=\"entity\" style=\"background: #ddd; padding: 0.45em 0.6em; margin: 0 0.25em; line-height: 1; border-radius: 0.35em;\">\n",
       "    Computer screen\n",
       "    <span style=\"font-size: 0.8em; font-weight: bold; line-height: 1; border-radius: 0.35em; vertical-align: middle; margin-left: 0.5rem\">genre</span>\n",
       "</mark>\n",
       " ratings</div></span>"
      ],
      "text/plain": [
       "<IPython.core.display.HTML object>"
      ]
     },
     "metadata": {},
     "output_type": "display_data"
    },
    {
     "name": "stdout",
     "output_type": "stream",
     "text": [
      "Show the movies made Sung Yu-bin with the best Computer screen ratings {'entities': [(47, 62, 'genre'), (42, 46, 'order'), (21, 32, 'name'), (16, 20, 'action'), (63, 69, 'predicate')]}\n",
      "Missing name label\n"
     ]
    },
    {
     "data": {
      "text/html": [
       "<span class=\"tex2jax_ignore\"><div class=\"entities\" style=\"line-height: 2.5; direction: ltr\">Retrieve the movies \n",
       "<mark class=\"entity\" style=\"background: #ddd; padding: 0.45em 0.6em; margin: 0 0.25em; line-height: 1; border-radius: 0.35em;\">\n",
       "    authored\n",
       "    <span style=\"font-size: 0.8em; font-weight: bold; line-height: 1; border-radius: 0.35em; vertical-align: middle; margin-left: 0.5rem\">action</span>\n",
       "</mark>\n",
       " \n",
       "<mark class=\"entity\" style=\"background: #ddd; padding: 0.45em 0.6em; margin: 0 0.25em; line-height: 1; border-radius: 0.35em;\">\n",
       "    Yoo Sang-jae with\n",
       "    <span style=\"font-size: 0.8em; font-weight: bold; line-height: 1; border-radius: 0.35em; vertical-align: middle; margin-left: 0.5rem\">name</span>\n",
       "</mark>\n",
       " the \n",
       "<mark class=\"entity\" style=\"background: #ddd; padding: 0.45em 0.6em; margin: 0 0.25em; line-height: 1; border-radius: 0.35em;\">\n",
       "    lowest\n",
       "    <span style=\"font-size: 0.8em; font-weight: bold; line-height: 1; border-radius: 0.35em; vertical-align: middle; margin-left: 0.5rem\">order</span>\n",
       "</mark>\n",
       " \n",
       "<mark class=\"entity\" style=\"background: #ddd; padding: 0.45em 0.6em; margin: 0 0.25em; line-height: 1; border-radius: 0.35em;\">\n",
       "    autobiographical\n",
       "    <span style=\"font-size: 0.8em; font-weight: bold; line-height: 1; border-radius: 0.35em; vertical-align: middle; margin-left: 0.5rem\">genre</span>\n",
       "</mark>\n",
       " ratings</div></span>"
      ],
      "text/plain": [
       "<IPython.core.display.HTML object>"
      ]
     },
     "metadata": {},
     "output_type": "display_data"
    },
    {
     "name": "stdout",
     "output_type": "stream",
     "text": [
      "Retrieve the movies authored Yoo Sang-jae with the lowest autobiographical ratings {'entities': [(51, 57, 'order'), (58, 74, 'genre'), (29, 41, 'name'), (20, 28, 'action'), (75, 81, 'predicate')]}\n",
      "Missing name label\n"
     ]
    },
    {
     "data": {
      "text/html": [
       "<span class=\"tex2jax_ignore\"><div class=\"entities\" style=\"line-height: 2.5; direction: ltr\">Display the \n",
       "<mark class=\"entity\" style=\"background: #ddd; padding: 0.45em 0.6em; margin: 0 0.25em; line-height: 1; border-radius: 0.35em;\">\n",
       "    play\n",
       "    <span style=\"font-size: 0.8em; font-weight: bold; line-height: 1; border-radius: 0.35em; vertical-align: middle; margin-left: 0.5rem\">genre</span>\n",
       "</mark>\n",
       " movies with the \n",
       "<mark class=\"entity\" style=\"background: #ddd; padding: 0.45em 0.6em; margin: 0 0.25em; line-height: 1; border-radius: 0.35em;\">\n",
       "    lowest\n",
       "    <span style=\"font-size: 0.8em; font-weight: bold; line-height: 1; border-radius: 0.35em; vertical-align: middle; margin-left: 0.5rem\">order</span>\n",
       "</mark>\n",
       " ratings</div></span>"
      ],
      "text/plain": [
       "<IPython.core.display.HTML object>"
      ]
     },
     "metadata": {},
     "output_type": "display_data"
    },
    {
     "name": "stdout",
     "output_type": "stream",
     "text": [
      "Display the play movies with the lowest ratings {'entities': [(33, 39, 'order'), (3, 7, 'genre'), (40, 46, 'predicate')]}\n",
      "Missing genre label\n"
     ]
    },
    {
     "data": {
      "text/html": [
       "<span class=\"tex2jax_ignore\"><div class=\"entities\" style=\"line-height: 2.5; direction: ltr\">Show the movies \n",
       "<mark class=\"entity\" style=\"background: #ddd; padding: 0.45em 0.6em; margin: 0 0.25em; line-height: 1; border-radius: 0.35em;\">\n",
       "    distribute\n",
       "    <span style=\"font-size: 0.8em; font-weight: bold; line-height: 1; border-radius: 0.35em; vertical-align: middle; margin-left: 0.5rem\">action</span>\n",
       "</mark>\n",
       " \n",
       "<mark class=\"entity\" style=\"background: #ddd; padding: 0.45em 0.6em; margin: 0 0.25em; line-height: 1; border-radius: 0.35em;\">\n",
       "    Sang-Jeon Woo with\n",
       "    <span style=\"font-size: 0.8em; font-weight: bold; line-height: 1; border-radius: 0.35em; vertical-align: middle; margin-left: 0.5rem\">name</span>\n",
       "</mark>\n",
       " the \n",
       "<mark class=\"entity\" style=\"background: #ddd; padding: 0.45em 0.6em; margin: 0 0.25em; line-height: 1; border-radius: 0.35em;\">\n",
       "    best\n",
       "    <span style=\"font-size: 0.8em; font-weight: bold; line-height: 1; border-radius: 0.35em; vertical-align: middle; margin-left: 0.5rem\">order</span>\n",
       "</mark>\n",
       " \n",
       "<mark class=\"entity\" style=\"background: #ddd; padding: 0.45em 0.6em; margin: 0 0.25em; line-height: 1; border-radius: 0.35em;\">\n",
       "    medical drama\n",
       "    <span style=\"font-size: 0.8em; font-weight: bold; line-height: 1; border-radius: 0.35em; vertical-align: middle; margin-left: 0.5rem\">genre</span>\n",
       "</mark>\n",
       " ratings</div></span>"
      ],
      "text/plain": [
       "<IPython.core.display.HTML object>"
      ]
     },
     "metadata": {},
     "output_type": "display_data"
    },
    {
     "name": "stdout",
     "output_type": "stream",
     "text": [
      "Show the movies distribute Sang-Jeon Woo with the best medical drama ratings {'entities': [(55, 68, 'genre'), (50, 54, 'order'), (27, 40, 'name'), (16, 26, 'action'), (69, 75, 'predicate')]}\n",
      "Missing name label\n"
     ]
    },
    {
     "data": {
      "text/html": [
       "<span class=\"tex2jax_ignore\"><div class=\"entities\" style=\"line-height: 2.5; direction: ltr\">Retrieve the movies \n",
       "<mark class=\"entity\" style=\"background: #ddd; padding: 0.45em 0.6em; margin: 0 0.25em; line-height: 1; border-radius: 0.35em;\">\n",
       "    directing\n",
       "    <span style=\"font-size: 0.8em; font-weight: bold; line-height: 1; border-radius: 0.35em; vertical-align: middle; margin-left: 0.5rem\">action</span>\n",
       "</mark>\n",
       " \n",
       "<mark class=\"entity\" style=\"background: #ddd; padding: 0.45em 0.6em; margin: 0 0.25em; line-height: 1; border-radius: 0.35em;\">\n",
       "    Jeong Seong-il with\n",
       "    <span style=\"font-size: 0.8em; font-weight: bold; line-height: 1; border-radius: 0.35em; vertical-align: middle; margin-left: 0.5rem\">name</span>\n",
       "</mark>\n",
       " the \n",
       "<mark class=\"entity\" style=\"background: #ddd; padding: 0.45em 0.6em; margin: 0 0.25em; line-height: 1; border-radius: 0.35em;\">\n",
       "    lowest\n",
       "    <span style=\"font-size: 0.8em; font-weight: bold; line-height: 1; border-radius: 0.35em; vertical-align: middle; margin-left: 0.5rem\">order</span>\n",
       "</mark>\n",
       " \n",
       "<mark class=\"entity\" style=\"background: #ddd; padding: 0.45em 0.6em; margin: 0 0.25em; line-height: 1; border-radius: 0.35em;\">\n",
       "    thriller anime\n",
       "    <span style=\"font-size: 0.8em; font-weight: bold; line-height: 1; border-radius: 0.35em; vertical-align: middle; margin-left: 0.5rem\">genre</span>\n",
       "</mark>\n",
       " ratings</div></span>"
      ],
      "text/plain": [
       "<IPython.core.display.HTML object>"
      ]
     },
     "metadata": {},
     "output_type": "display_data"
    },
    {
     "name": "stdout",
     "output_type": "stream",
     "text": [
      "Retrieve the movies directing Jeong Seong-il with the lowest thriller anime ratings {'entities': [(54, 60, 'order'), (61, 75, 'genre'), (30, 44, 'name'), (20, 26, 'action'), (20, 29, 'action'), (76, 82, 'predicate')]}\n",
      "Missing name label\n"
     ]
    },
    {
     "data": {
      "text/html": [
       "<span class=\"tex2jax_ignore\"><div class=\"entities\" style=\"line-height: 2.5; direction: ltr\">Display the \n",
       "<mark class=\"entity\" style=\"background: #ddd; padding: 0.45em 0.6em; margin: 0 0.25em; line-height: 1; border-radius: 0.35em;\">\n",
       "    play\n",
       "    <span style=\"font-size: 0.8em; font-weight: bold; line-height: 1; border-radius: 0.35em; vertical-align: middle; margin-left: 0.5rem\">genre</span>\n",
       "</mark>\n",
       " movies \n",
       "<mark class=\"entity\" style=\"background: #ddd; padding: 0.45em 0.6em; margin: 0 0.25em; line-height: 1; border-radius: 0.35em;\">\n",
       "    premiere\n",
       "    <span style=\"font-size: 0.8em; font-weight: bold; line-height: 1; border-radius: 0.35em; vertical-align: middle; margin-left: 0.5rem\">action</span>\n",
       "</mark>\n",
       " \n",
       "<mark class=\"entity\" style=\"background: #ddd; padding: 0.45em 0.6em; margin: 0 0.25em; line-height: 1; border-radius: 0.35em;\">\n",
       "    Molly McCook\n",
       "    <span style=\"font-size: 0.8em; font-weight: bold; line-height: 1; border-radius: 0.35em; vertical-align: middle; margin-left: 0.5rem\">name</span>\n",
       "</mark>\n",
       " with the \n",
       "<mark class=\"entity\" style=\"background: #ddd; padding: 0.45em 0.6em; margin: 0 0.25em; line-height: 1; border-radius: 0.35em;\">\n",
       "    lowest\n",
       "    <span style=\"font-size: 0.8em; font-weight: bold; line-height: 1; border-radius: 0.35em; vertical-align: middle; margin-left: 0.5rem\">order</span>\n",
       "</mark>\n",
       " ratings</div></span>"
      ],
      "text/plain": [
       "<IPython.core.display.HTML object>"
      ]
     },
     "metadata": {},
     "output_type": "display_data"
    },
    {
     "name": "stdout",
     "output_type": "stream",
     "text": [
      "Display the play movies premiere Molly McCook with the lowest ratings {'entities': [(55, 61, 'order'), (3, 7, 'genre'), (33, 45, 'name'), (24, 32, 'action'), (62, 68, 'predicate')]}\n",
      "Missing genre label\n"
     ]
    },
    {
     "data": {
      "text/html": [
       "<span class=\"tex2jax_ignore\"><div class=\"entities\" style=\"line-height: 2.5; direction: ltr\">Show the movies \n",
       "<mark class=\"entity\" style=\"background: #ddd; padding: 0.45em 0.6em; margin: 0 0.25em; line-height: 1; border-radius: 0.35em;\">\n",
       "    direct\n",
       "    <span style=\"font-size: 0.8em; font-weight: bold; line-height: 1; border-radius: 0.35em; vertical-align: middle; margin-left: 0.5rem\">action</span>\n",
       "</mark>\n",
       " \n",
       "<mark class=\"entity\" style=\"background: #ddd; padding: 0.45em 0.6em; margin: 0 0.25em; line-height: 1; border-radius: 0.35em;\">\n",
       "    Baek Hyun-jin with the\n",
       "    <span style=\"font-size: 0.8em; font-weight: bold; line-height: 1; border-radius: 0.35em; vertical-align: middle; margin-left: 0.5rem\">name</span>\n",
       "</mark>\n",
       " \n",
       "<mark class=\"entity\" style=\"background: #ddd; padding: 0.45em 0.6em; margin: 0 0.25em; line-height: 1; border-radius: 0.35em;\">\n",
       "    best\n",
       "    <span style=\"font-size: 0.8em; font-weight: bold; line-height: 1; border-radius: 0.35em; vertical-align: middle; margin-left: 0.5rem\">order</span>\n",
       "</mark>\n",
       " \n",
       "<mark class=\"entity\" style=\"background: #ddd; padding: 0.45em 0.6em; margin: 0 0.25em; line-height: 1; border-radius: 0.35em;\">\n",
       "    Acid Western\n",
       "    <span style=\"font-size: 0.8em; font-weight: bold; line-height: 1; border-radius: 0.35em; vertical-align: middle; margin-left: 0.5rem\">genre</span>\n",
       "</mark>\n",
       " ratings</div></span>"
      ],
      "text/plain": [
       "<IPython.core.display.HTML object>"
      ]
     },
     "metadata": {},
     "output_type": "display_data"
    },
    {
     "name": "stdout",
     "output_type": "stream",
     "text": [
      "Show the movies direct Baek Hyun-jin with the best Acid Western ratings {'entities': [(51, 63, 'genre'), (46, 50, 'order'), (23, 36, 'name'), (16, 22, 'action'), (64, 70, 'predicate')]}\n",
      "Missing name label\n"
     ]
    },
    {
     "data": {
      "text/html": [
       "<span class=\"tex2jax_ignore\"><div class=\"entities\" style=\"line-height: 2.5; direction: ltr\">Retrieve the movies \n",
       "<mark class=\"entity\" style=\"background: #ddd; padding: 0.45em 0.6em; margin: 0 0.25em; line-height: 1; border-radius: 0.35em;\">\n",
       "    produce\n",
       "    <span style=\"font-size: 0.8em; font-weight: bold; line-height: 1; border-radius: 0.35em; vertical-align: middle; margin-left: 0.5rem\">action</span>\n",
       "</mark>\n",
       " \n",
       "<mark class=\"entity\" style=\"background: #ddd; padding: 0.45em 0.6em; margin: 0 0.25em; line-height: 1; border-radius: 0.35em;\">\n",
       "    Čo Pjong-\n",
       "    <span style=\"font-size: 0.8em; font-weight: bold; line-height: 1; border-radius: 0.35em; vertical-align: middle; margin-left: 0.5rem\">name</span>\n",
       "</mark>\n",
       "gju with the \n",
       "<mark class=\"entity\" style=\"background: #ddd; padding: 0.45em 0.6em; margin: 0 0.25em; line-height: 1; border-radius: 0.35em;\">\n",
       "    lowest\n",
       "    <span style=\"font-size: 0.8em; font-weight: bold; line-height: 1; border-radius: 0.35em; vertical-align: middle; margin-left: 0.5rem\">order</span>\n",
       "</mark>\n",
       " \n",
       "<mark class=\"entity\" style=\"background: #ddd; padding: 0.45em 0.6em; margin: 0 0.25em; line-height: 1; border-radius: 0.35em;\">\n",
       "    world music\n",
       "    <span style=\"font-size: 0.8em; font-weight: bold; line-height: 1; border-radius: 0.35em; vertical-align: middle; margin-left: 0.5rem\">genre</span>\n",
       "</mark>\n",
       " ratings</div></span>"
      ],
      "text/plain": [
       "<IPython.core.display.HTML object>"
      ]
     },
     "metadata": {},
     "output_type": "display_data"
    },
    {
     "name": "stdout",
     "output_type": "stream",
     "text": [
      "Retrieve the movies produce Čo Pjong-gju with the lowest world music ratings {'entities': [(50, 56, 'order'), (57, 68, 'genre'), (28, 40, 'name'), (20, 27, 'action'), (69, 75, 'predicate')]}\n",
      "Missing name label\n"
     ]
    },
    {
     "data": {
      "text/html": [
       "<span class=\"tex2jax_ignore\"><div class=\"entities\" style=\"line-height: 2.5; direction: ltr\">Display the \n",
       "<mark class=\"entity\" style=\"background: #ddd; padding: 0.45em 0.6em; margin: 0 0.25em; line-height: 1; border-radius: 0.35em;\">\n",
       "    play\n",
       "    <span style=\"font-size: 0.8em; font-weight: bold; line-height: 1; border-radius: 0.35em; vertical-align: middle; margin-left: 0.5rem\">genre</span>\n",
       "</mark>\n",
       " movies with the \n",
       "<mark class=\"entity\" style=\"background: #ddd; padding: 0.45em 0.6em; margin: 0 0.25em; line-height: 1; border-radius: 0.35em;\">\n",
       "    highest\n",
       "    <span style=\"font-size: 0.8em; font-weight: bold; line-height: 1; border-radius: 0.35em; vertical-align: middle; margin-left: 0.5rem\">order</span>\n",
       "</mark>\n",
       " ratings \n",
       "<mark class=\"entity\" style=\"background: #ddd; padding: 0.45em 0.6em; margin: 0 0.25em; line-height: 1; border-radius: 0.35em;\">\n",
       "    appears\n",
       "    <span style=\"font-size: 0.8em; font-weight: bold; line-height: 1; border-radius: 0.35em; vertical-align: middle; margin-left: 0.5rem\">action</span>\n",
       "</mark>\n",
       " \n",
       "<mark class=\"entity\" style=\"background: #ddd; padding: 0.45em 0.6em; margin: 0 0.25em; line-height: 1; border-radius: 0.35em;\">\n",
       "    Reed Frerichs\n",
       "    <span style=\"font-size: 0.8em; font-weight: bold; line-height: 1; border-radius: 0.35em; vertical-align: middle; margin-left: 0.5rem\">name</span>\n",
       "</mark>\n",
       "</div></span>"
      ],
      "text/plain": [
       "<IPython.core.display.HTML object>"
      ]
     },
     "metadata": {},
     "output_type": "display_data"
    },
    {
     "name": "stdout",
     "output_type": "stream",
     "text": [
      "Display the play movies with the highest ratings appears Reed Frerichs {'entities': [(33, 40, 'order'), (3, 7, 'genre'), (57, 70, 'name'), (49, 55, 'action'), (49, 56, 'action'), (41, 47, 'predicate')]}\n",
      "Missing genre label\n"
     ]
    },
    {
     "data": {
      "text/html": [
       "<span class=\"tex2jax_ignore\"><div class=\"entities\" style=\"line-height: 2.5; direction: ltr\">Display the \n",
       "<mark class=\"entity\" style=\"background: #ddd; padding: 0.45em 0.6em; margin: 0 0.25em; line-height: 1; border-radius: 0.35em;\">\n",
       "    soundtrack\n",
       "    <span style=\"font-size: 0.8em; font-weight: bold; line-height: 1; border-radius: 0.35em; vertical-align: middle; margin-left: 0.5rem\">genre</span>\n",
       "</mark>\n",
       " movies \n",
       "<mark class=\"entity\" style=\"background: #ddd; padding: 0.45em 0.6em; margin: 0 0.25em; line-height: 1; border-radius: 0.35em;\">\n",
       "    featuring\n",
       "    <span style=\"font-size: 0.8em; font-weight: bold; line-height: 1; border-radius: 0.35em; vertical-align: middle; margin-left: 0.5rem\">action</span>\n",
       "</mark>\n",
       " \n",
       "<mark class=\"entity\" style=\"background: #ddd; padding: 0.45em 0.6em; margin: 0 0.25em; line-height: 1; border-radius: 0.35em;\">\n",
       "    Arne\n",
       "    <span style=\"font-size: 0.8em; font-weight: bold; line-height: 1; border-radius: 0.35em; vertical-align: middle; margin-left: 0.5rem\">name</span>\n",
       "</mark>\n",
       " Nolting with the \n",
       "<mark class=\"entity\" style=\"background: #ddd; padding: 0.45em 0.6em; margin: 0 0.25em; line-height: 1; border-radius: 0.35em;\">\n",
       "    lowest\n",
       "    <span style=\"font-size: 0.8em; font-weight: bold; line-height: 1; border-radius: 0.35em; vertical-align: middle; margin-left: 0.5rem\">order</span>\n",
       "</mark>\n",
       " ratings</div></span>"
      ],
      "text/plain": [
       "<IPython.core.display.HTML object>"
      ]
     },
     "metadata": {},
     "output_type": "display_data"
    },
    {
     "name": "stdout",
     "output_type": "stream",
     "text": [
      "Display the soundtrack movies featuring Arne Nolting with the lowest ratings {'entities': [(62, 68, 'order'), (12, 22, 'genre'), (40, 52, 'name'), (30, 39, 'action'), (69, 75, 'predicate')]}\n",
      "Missing name label\n"
     ]
    },
    {
     "data": {
      "text/html": [
       "<span class=\"tex2jax_ignore\"><div class=\"entities\" style=\"line-height: 2.5; direction: ltr\">Display the \n",
       "<mark class=\"entity\" style=\"background: #ddd; padding: 0.45em 0.6em; margin: 0 0.25em; line-height: 1; border-radius: 0.35em;\">\n",
       "    action thriller\n",
       "    <span style=\"font-size: 0.8em; font-weight: bold; line-height: 1; border-radius: 0.35em; vertical-align: middle; margin-left: 0.5rem\">genre</span>\n",
       "</mark>\n",
       " movies \n",
       "<mark class=\"entity\" style=\"background: #ddd; padding: 0.45em 0.6em; margin: 0 0.25em; line-height: 1; border-radius: 0.35em;\">\n",
       "    written\n",
       "    <span style=\"font-size: 0.8em; font-weight: bold; line-height: 1; border-radius: 0.35em; vertical-align: middle; margin-left: 0.5rem\">action</span>\n",
       "</mark>\n",
       " \n",
       "<mark class=\"entity\" style=\"background: #ddd; padding: 0.45em 0.6em; margin: 0 0.25em; line-height: 1; border-radius: 0.35em;\">\n",
       "    Bun Hay Mean with\n",
       "    <span style=\"font-size: 0.8em; font-weight: bold; line-height: 1; border-radius: 0.35em; vertical-align: middle; margin-left: 0.5rem\">name</span>\n",
       "</mark>\n",
       " the \n",
       "<mark class=\"entity\" style=\"background: #ddd; padding: 0.45em 0.6em; margin: 0 0.25em; line-height: 1; border-radius: 0.35em;\">\n",
       "    lowest\n",
       "    <span style=\"font-size: 0.8em; font-weight: bold; line-height: 1; border-radius: 0.35em; vertical-align: middle; margin-left: 0.5rem\">order</span>\n",
       "</mark>\n",
       " ratings</div></span>"
      ],
      "text/plain": [
       "<IPython.core.display.HTML object>"
      ]
     },
     "metadata": {},
     "output_type": "display_data"
    },
    {
     "name": "stdout",
     "output_type": "stream",
     "text": [
      "Display the action thriller movies written Bun Hay Mean with the lowest ratings {'entities': [(65, 71, 'order'), (12, 27, 'genre'), (43, 55, 'name'), (35, 42, 'action'), (72, 78, 'predicate')]}\n",
      "Missing name label\n"
     ]
    },
    {
     "data": {
      "text/html": [
       "<span class=\"tex2jax_ignore\"><div class=\"entities\" style=\"line-height: 2.5; direction: ltr\">Retrieve the movies \n",
       "<mark class=\"entity\" style=\"background: #ddd; padding: 0.45em 0.6em; margin: 0 0.25em; line-height: 1; border-radius: 0.35em;\">\n",
       "    filmed\n",
       "    <span style=\"font-size: 0.8em; font-weight: bold; line-height: 1; border-radius: 0.35em; vertical-align: middle; margin-left: 0.5rem\">action</span>\n",
       "</mark>\n",
       " \n",
       "<mark class=\"entity\" style=\"background: #ddd; padding: 0.45em 0.6em; margin: 0 0.25em; line-height: 1; border-radius: 0.35em;\">\n",
       "    Bernard\n",
       "    <span style=\"font-size: 0.8em; font-weight: bold; line-height: 1; border-radius: 0.35em; vertical-align: middle; margin-left: 0.5rem\">name</span>\n",
       "</mark>\n",
       " Born with the \n",
       "<mark class=\"entity\" style=\"background: #ddd; padding: 0.45em 0.6em; margin: 0 0.25em; line-height: 1; border-radius: 0.35em;\">\n",
       "    highest\n",
       "    <span style=\"font-size: 0.8em; font-weight: bold; line-height: 1; border-radius: 0.35em; vertical-align: middle; margin-left: 0.5rem\">order</span>\n",
       "</mark>\n",
       " \n",
       "<mark class=\"entity\" style=\"background: #ddd; padding: 0.45em 0.6em; margin: 0 0.25em; line-height: 1; border-radius: 0.35em;\">\n",
       "    political thriller\n",
       "    <span style=\"font-size: 0.8em; font-weight: bold; line-height: 1; border-radius: 0.35em; vertical-align: middle; margin-left: 0.5rem\">genre</span>\n",
       "</mark>\n",
       " ratings</div></span>"
      ],
      "text/plain": [
       "<IPython.core.display.HTML object>"
      ]
     },
     "metadata": {},
     "output_type": "display_data"
    },
    {
     "name": "stdout",
     "output_type": "stream",
     "text": [
      "Retrieve the movies filmed Bernard Born with the highest political thriller ratings {'entities': [(49, 56, 'order'), (57, 75, 'genre'), (27, 39, 'name'), (20, 26, 'action'), (76, 82, 'predicate')]}\n",
      "Missing name label\n"
     ]
    },
    {
     "data": {
      "text/html": [
       "<span class=\"tex2jax_ignore\"><div class=\"entities\" style=\"line-height: 2.5; direction: ltr\">Retrieve the movies \n",
       "<mark class=\"entity\" style=\"background: #ddd; padding: 0.45em 0.6em; margin: 0 0.25em; line-height: 1; border-radius: 0.35em;\">\n",
       "    wrote\n",
       "    <span style=\"font-size: 0.8em; font-weight: bold; line-height: 1; border-radius: 0.35em; vertical-align: middle; margin-left: 0.5rem\">action</span>\n",
       "</mark>\n",
       " \n",
       "<mark class=\"entity\" style=\"background: #ddd; padding: 0.45em 0.6em; margin: 0 0.25em; line-height: 1; border-radius: 0.35em;\">\n",
       "    Christopher\n",
       "    <span style=\"font-size: 0.8em; font-weight: bold; line-height: 1; border-radius: 0.35em; vertical-align: middle; margin-left: 0.5rem\">name</span>\n",
       "</mark>\n",
       " Dunkin with the \n",
       "<mark class=\"entity\" style=\"background: #ddd; padding: 0.45em 0.6em; margin: 0 0.25em; line-height: 1; border-radius: 0.35em;\">\n",
       "    highest\n",
       "    <span style=\"font-size: 0.8em; font-weight: bold; line-height: 1; border-radius: 0.35em; vertical-align: middle; margin-left: 0.5rem\">order</span>\n",
       "</mark>\n",
       " \n",
       "<mark class=\"entity\" style=\"background: #ddd; padding: 0.45em 0.6em; margin: 0 0.25em; line-height: 1; border-radius: 0.35em;\">\n",
       "    black comedy\n",
       "    <span style=\"font-size: 0.8em; font-weight: bold; line-height: 1; border-radius: 0.35em; vertical-align: middle; margin-left: 0.5rem\">genre</span>\n",
       "</mark>\n",
       " ratings</div></span>"
      ],
      "text/plain": [
       "<IPython.core.display.HTML object>"
      ]
     },
     "metadata": {},
     "output_type": "display_data"
    },
    {
     "name": "stdout",
     "output_type": "stream",
     "text": [
      "Retrieve the movies wrote Christopher Dunkin with the highest black comedy ratings {'entities': [(54, 61, 'order'), (31, 34, 'order'), (62, 74, 'genre'), (26, 44, 'name'), (20, 25, 'action'), (75, 81, 'predicate')]}\n",
      "Missing name label\n"
     ]
    },
    {
     "data": {
      "text/html": [
       "<span class=\"tex2jax_ignore\"><div class=\"entities\" style=\"line-height: 2.5; direction: ltr\">Display the \n",
       "<mark class=\"entity\" style=\"background: #ddd; padding: 0.45em 0.6em; margin: 0 0.25em; line-height: 1; border-radius: 0.35em;\">\n",
       "    psychological drama\n",
       "    <span style=\"font-size: 0.8em; font-weight: bold; line-height: 1; border-radius: 0.35em; vertical-align: middle; margin-left: 0.5rem\">genre</span>\n",
       "</mark>\n",
       " movies \n",
       "<mark class=\"entity\" style=\"background: #ddd; padding: 0.45em 0.6em; margin: 0 0.25em; line-height: 1; border-radius: 0.35em;\">\n",
       "    filmed\n",
       "    <span style=\"font-size: 0.8em; font-weight: bold; line-height: 1; border-radius: 0.35em; vertical-align: middle; margin-left: 0.5rem\">action</span>\n",
       "</mark>\n",
       " \n",
       "<mark class=\"entity\" style=\"background: #ddd; padding: 0.45em 0.6em; margin: 0 0.25em; line-height: 1; border-radius: 0.35em;\">\n",
       "    Alexandra\n",
       "    <span style=\"font-size: 0.8em; font-weight: bold; line-height: 1; border-radius: 0.35em; vertical-align: middle; margin-left: 0.5rem\">name</span>\n",
       "</mark>\n",
       " Dinu with the \n",
       "<mark class=\"entity\" style=\"background: #ddd; padding: 0.45em 0.6em; margin: 0 0.25em; line-height: 1; border-radius: 0.35em;\">\n",
       "    highest\n",
       "    <span style=\"font-size: 0.8em; font-weight: bold; line-height: 1; border-radius: 0.35em; vertical-align: middle; margin-left: 0.5rem\">order</span>\n",
       "</mark>\n",
       " ratings</div></span>"
      ],
      "text/plain": [
       "<IPython.core.display.HTML object>"
      ]
     },
     "metadata": {},
     "output_type": "display_data"
    },
    {
     "name": "stdout",
     "output_type": "stream",
     "text": [
      "Display the psychological drama movies filmed Alexandra Dinu with the highest ratings {'entities': [(70, 77, 'order'), (12, 31, 'genre'), (46, 60, 'name'), (39, 45, 'action'), (78, 84, 'predicate')]}\n",
      "Missing name label\n"
     ]
    },
    {
     "data": {
      "text/html": [
       "<span class=\"tex2jax_ignore\"><div class=\"entities\" style=\"line-height: 2.5; direction: ltr\">Display the \n",
       "<mark class=\"entity\" style=\"background: #ddd; padding: 0.45em 0.6em; margin: 0 0.25em; line-height: 1; border-radius: 0.35em;\">\n",
       "    play\n",
       "    <span style=\"font-size: 0.8em; font-weight: bold; line-height: 1; border-radius: 0.35em; vertical-align: middle; margin-left: 0.5rem\">genre</span>\n",
       "</mark>\n",
       " movies with the \n",
       "<mark class=\"entity\" style=\"background: #ddd; padding: 0.45em 0.6em; margin: 0 0.25em; line-height: 1; border-radius: 0.35em;\">\n",
       "    highest\n",
       "    <span style=\"font-size: 0.8em; font-weight: bold; line-height: 1; border-radius: 0.35em; vertical-align: middle; margin-left: 0.5rem\">order</span>\n",
       "</mark>\n",
       " ratings</div></span>"
      ],
      "text/plain": [
       "<IPython.core.display.HTML object>"
      ]
     },
     "metadata": {},
     "output_type": "display_data"
    },
    {
     "name": "stdout",
     "output_type": "stream",
     "text": [
      "Display the play movies with the highest ratings {'entities': [(33, 40, 'order'), (3, 7, 'genre'), (41, 47, 'predicate')]}\n",
      "Missing genre label\n"
     ]
    },
    {
     "data": {
      "text/html": [
       "<span class=\"tex2jax_ignore\"><div class=\"entities\" style=\"line-height: 2.5; direction: ltr\">Display the \n",
       "<mark class=\"entity\" style=\"background: #ddd; padding: 0.45em 0.6em; margin: 0 0.25em; line-height: 1; border-radius: 0.35em;\">\n",
       "    play\n",
       "    <span style=\"font-size: 0.8em; font-weight: bold; line-height: 1; border-radius: 0.35em; vertical-align: middle; margin-left: 0.5rem\">genre</span>\n",
       "</mark>\n",
       " movies \n",
       "<mark class=\"entity\" style=\"background: #ddd; padding: 0.45em 0.6em; margin: 0 0.25em; line-height: 1; border-radius: 0.35em;\">\n",
       "    recorded\n",
       "    <span style=\"font-size: 0.8em; font-weight: bold; line-height: 1; border-radius: 0.35em; vertical-align: middle; margin-left: 0.5rem\">action</span>\n",
       "</mark>\n",
       " \n",
       "<mark class=\"entity\" style=\"background: #ddd; padding: 0.45em 0.6em; margin: 0 0.25em; line-height: 1; border-radius: 0.35em;\">\n",
       "    Kim So-yeon with\n",
       "    <span style=\"font-size: 0.8em; font-weight: bold; line-height: 1; border-radius: 0.35em; vertical-align: middle; margin-left: 0.5rem\">name</span>\n",
       "</mark>\n",
       " the \n",
       "<mark class=\"entity\" style=\"background: #ddd; padding: 0.45em 0.6em; margin: 0 0.25em; line-height: 1; border-radius: 0.35em;\">\n",
       "    highest\n",
       "    <span style=\"font-size: 0.8em; font-weight: bold; line-height: 1; border-radius: 0.35em; vertical-align: middle; margin-left: 0.5rem\">order</span>\n",
       "</mark>\n",
       " ratings</div></span>"
      ],
      "text/plain": [
       "<IPython.core.display.HTML object>"
      ]
     },
     "metadata": {},
     "output_type": "display_data"
    },
    {
     "name": "stdout",
     "output_type": "stream",
     "text": [
      "Display the play movies recorded Kim So-yeon with the highest ratings {'entities': [(54, 61, 'order'), (3, 7, 'genre'), (33, 44, 'name'), (24, 32, 'action'), (62, 68, 'predicate')]}\n",
      "Missing genre label\n"
     ]
    },
    {
     "data": {
      "text/html": [
       "<span class=\"tex2jax_ignore\"><div class=\"entities\" style=\"line-height: 2.5; direction: ltr\">Display the \n",
       "<mark class=\"entity\" style=\"background: #ddd; padding: 0.45em 0.6em; margin: 0 0.25em; line-height: 1; border-radius: 0.35em;\">\n",
       "    play\n",
       "    <span style=\"font-size: 0.8em; font-weight: bold; line-height: 1; border-radius: 0.35em; vertical-align: middle; margin-left: 0.5rem\">genre</span>\n",
       "</mark>\n",
       " movies \n",
       "<mark class=\"entity\" style=\"background: #ddd; padding: 0.45em 0.6em; margin: 0 0.25em; line-height: 1; border-radius: 0.35em;\">\n",
       "    recorded\n",
       "    <span style=\"font-size: 0.8em; font-weight: bold; line-height: 1; border-radius: 0.35em; vertical-align: middle; margin-left: 0.5rem\">action</span>\n",
       "</mark>\n",
       " \n",
       "<mark class=\"entity\" style=\"background: #ddd; padding: 0.45em 0.6em; margin: 0 0.25em; line-height: 1; border-radius: 0.35em;\">\n",
       "    Kim So-yeon with\n",
       "    <span style=\"font-size: 0.8em; font-weight: bold; line-height: 1; border-radius: 0.35em; vertical-align: middle; margin-left: 0.5rem\">name</span>\n",
       "</mark>\n",
       " the \n",
       "<mark class=\"entity\" style=\"background: #ddd; padding: 0.45em 0.6em; margin: 0 0.25em; line-height: 1; border-radius: 0.35em;\">\n",
       "    highest\n",
       "    <span style=\"font-size: 0.8em; font-weight: bold; line-height: 1; border-radius: 0.35em; vertical-align: middle; margin-left: 0.5rem\">order</span>\n",
       "</mark>\n",
       " ratings</div></span>"
      ],
      "text/plain": [
       "<IPython.core.display.HTML object>"
      ]
     },
     "metadata": {},
     "output_type": "display_data"
    },
    {
     "name": "stdout",
     "output_type": "stream",
     "text": [
      "Display the play movies recorded Kim So-yeon with the highest ratings {'entities': [(54, 61, 'order'), (3, 7, 'genre'), (33, 44, 'name'), (24, 32, 'action'), (62, 68, 'predicate')]}\n",
      "Missing name label\n"
     ]
    },
    {
     "data": {
      "text/html": [
       "<span class=\"tex2jax_ignore\"><div class=\"entities\" style=\"line-height: 2.5; direction: ltr\">Show the movies \n",
       "<mark class=\"entity\" style=\"background: #ddd; padding: 0.45em 0.6em; margin: 0 0.25em; line-height: 1; border-radius: 0.35em;\">\n",
       "    direct\n",
       "    <span style=\"font-size: 0.8em; font-weight: bold; line-height: 1; border-radius: 0.35em; vertical-align: middle; margin-left: 0.5rem\">action</span>\n",
       "</mark>\n",
       " \n",
       "<mark class=\"entity\" style=\"background: #ddd; padding: 0.45em 0.6em; margin: 0 0.25em; line-height: 1; border-radius: 0.35em;\">\n",
       "    Kim Hee-sun with\n",
       "    <span style=\"font-size: 0.8em; font-weight: bold; line-height: 1; border-radius: 0.35em; vertical-align: middle; margin-left: 0.5rem\">name</span>\n",
       "</mark>\n",
       " the \n",
       "<mark class=\"entity\" style=\"background: #ddd; padding: 0.45em 0.6em; margin: 0 0.25em; line-height: 1; border-radius: 0.35em;\">\n",
       "    best\n",
       "    <span style=\"font-size: 0.8em; font-weight: bold; line-height: 1; border-radius: 0.35em; vertical-align: middle; margin-left: 0.5rem\">order</span>\n",
       "</mark>\n",
       " \n",
       "<mark class=\"entity\" style=\"background: #ddd; padding: 0.45em 0.6em; margin: 0 0.25em; line-height: 1; border-radius: 0.35em;\">\n",
       "    novel\n",
       "    <span style=\"font-size: 0.8em; font-weight: bold; line-height: 1; border-radius: 0.35em; vertical-align: middle; margin-left: 0.5rem\">genre</span>\n",
       "</mark>\n",
       " ratings</div></span>"
      ],
      "text/plain": [
       "<IPython.core.display.HTML object>"
      ]
     },
     "metadata": {},
     "output_type": "display_data"
    },
    {
     "name": "stdout",
     "output_type": "stream",
     "text": [
      "Show the movies direct Kim Hee-sun with the best novel ratings {'entities': [(49, 54, 'genre'), (44, 48, 'order'), (23, 34, 'name'), (16, 22, 'action'), (55, 61, 'predicate')]}\n",
      "Missing name label\n"
     ]
    },
    {
     "data": {
      "text/html": [
       "<span class=\"tex2jax_ignore\"><div class=\"entities\" style=\"line-height: 2.5; direction: ltr\">I want to see the \n",
       "<mark class=\"entity\" style=\"background: #ddd; padding: 0.45em 0.6em; margin: 0 0.25em; line-height: 1; border-radius: 0.35em;\">\n",
       "    top\n",
       "    <span style=\"font-size: 0.8em; font-weight: bold; line-height: 1; border-radius: 0.35em; vertical-align: middle; margin-left: 0.5rem\">order</span>\n",
       "</mark>\n",
       "-\n",
       "<mark class=\"entity\" style=\"background: #ddd; padding: 0.45em 0.6em; margin: 0 0.25em; line-height: 1; border-radius: 0.35em;\">\n",
       "    rated\n",
       "    <span style=\"font-size: 0.8em; font-weight: bold; line-height: 1; border-radius: 0.35em; vertical-align: middle; margin-left: 0.5rem\">predicate</span>\n",
       "</mark>\n",
       " \n",
       "<mark class=\"entity\" style=\"background: #ddd; padding: 0.45em 0.6em; margin: 0 0.25em; line-height: 1; border-radius: 0.35em;\">\n",
       "    pritcha\n",
       "    <span style=\"font-size: 0.8em; font-weight: bold; line-height: 1; border-radius: 0.35em; vertical-align: middle; margin-left: 0.5rem\">genre</span>\n",
       "</mark>\n",
       " movies \n",
       "<mark class=\"entity\" style=\"background: #ddd; padding: 0.45em 0.6em; margin: 0 0.25em; line-height: 1; border-radius: 0.35em;\">\n",
       "    edited\n",
       "    <span style=\"font-size: 0.8em; font-weight: bold; line-height: 1; border-radius: 0.35em; vertical-align: middle; margin-left: 0.5rem\">action</span>\n",
       "</mark>\n",
       " \n",
       "<mark class=\"entity\" style=\"background: #ddd; padding: 0.45em 0.6em; margin: 0 0.25em; line-height: 1; border-radius: 0.35em;\">\n",
       "    Anthony\n",
       "    <span style=\"font-size: 0.8em; font-weight: bold; line-height: 1; border-radius: 0.35em; vertical-align: middle; margin-left: 0.5rem\">name</span>\n",
       "</mark>\n",
       " 'Scooter' Teague</div></span>"
      ],
      "text/plain": [
       "<IPython.core.display.HTML object>"
      ]
     },
     "metadata": {},
     "output_type": "display_data"
    },
    {
     "name": "stdout",
     "output_type": "stream",
     "text": [
      "I want to see the top-rated pritcha movies edited Anthony 'Scooter' Teague {'entities': [(18, 21, 'order'), (28, 35, 'genre'), (50, 74, 'name'), (43, 47, 'action'), (43, 49, 'action'), (22, 27, 'predicate')]}\n",
      "Missing name label\n"
     ]
    },
    {
     "data": {
      "text/html": [
       "<span class=\"tex2jax_ignore\"><div class=\"entities\" style=\"line-height: 2.5; direction: ltr\">List the \n",
       "<mark class=\"entity\" style=\"background: #ddd; padding: 0.45em 0.6em; margin: 0 0.25em; line-height: 1; border-radius: 0.35em;\">\n",
       "    musical comedy\n",
       "    <span style=\"font-size: 0.8em; font-weight: bold; line-height: 1; border-radius: 0.35em; vertical-align: middle; margin-left: 0.5rem\">genre</span>\n",
       "</mark>\n",
       " movies \n",
       "<mark class=\"entity\" style=\"background: #ddd; padding: 0.45em 0.6em; margin: 0 0.25em; line-height: 1; border-radius: 0.35em;\">\n",
       "    screenwrote\n",
       "    <span style=\"font-size: 0.8em; font-weight: bold; line-height: 1; border-radius: 0.35em; vertical-align: middle; margin-left: 0.5rem\">action</span>\n",
       "</mark>\n",
       " \n",
       "<mark class=\"entity\" style=\"background: #ddd; padding: 0.45em 0.6em; margin: 0 0.25em; line-height: 1; border-radius: 0.35em;\">\n",
       "    Park Ki-woong with\n",
       "    <span style=\"font-size: 0.8em; font-weight: bold; line-height: 1; border-radius: 0.35em; vertical-align: middle; margin-left: 0.5rem\">name</span>\n",
       "</mark>\n",
       " the \n",
       "<mark class=\"entity\" style=\"background: #ddd; padding: 0.45em 0.6em; margin: 0 0.25em; line-height: 1; border-radius: 0.35em;\">\n",
       "    worst\n",
       "    <span style=\"font-size: 0.8em; font-weight: bold; line-height: 1; border-radius: 0.35em; vertical-align: middle; margin-left: 0.5rem\">order</span>\n",
       "</mark>\n",
       " ratings</div></span>"
      ],
      "text/plain": [
       "<IPython.core.display.HTML object>"
      ]
     },
     "metadata": {},
     "output_type": "display_data"
    },
    {
     "name": "stdout",
     "output_type": "stream",
     "text": [
      "List the musical comedy movies screenwrote Park Ki-woong with the worst ratings {'entities': [(9, 23, 'genre'), (66, 71, 'order'), (43, 56, 'name'), (31, 42, 'action'), (37, 42, 'action'), (72, 78, 'predicate')]}\n",
      "Missing name label\n"
     ]
    },
    {
     "data": {
      "text/html": [
       "<span class=\"tex2jax_ignore\"><div class=\"entities\" style=\"line-height: 2.5; direction: ltr\">List the \n",
       "<mark class=\"entity\" style=\"background: #ddd; padding: 0.45em 0.6em; margin: 0 0.25em; line-height: 1; border-radius: 0.35em;\">\n",
       "    blaxploitation\n",
       "    <span style=\"font-size: 0.8em; font-weight: bold; line-height: 1; border-radius: 0.35em; vertical-align: middle; margin-left: 0.5rem\">genre</span>\n",
       "</mark>\n",
       " movies \n",
       "<mark class=\"entity\" style=\"background: #ddd; padding: 0.45em 0.6em; margin: 0 0.25em; line-height: 1; border-radius: 0.35em;\">\n",
       "    wrote\n",
       "    <span style=\"font-size: 0.8em; font-weight: bold; line-height: 1; border-radius: 0.35em; vertical-align: middle; margin-left: 0.5rem\">action</span>\n",
       "</mark>\n",
       " \n",
       "<mark class=\"entity\" style=\"background: #ddd; padding: 0.45em 0.6em; margin: 0 0.25em; line-height: 1; border-radius: 0.35em;\">\n",
       "    Oh Yeon-seo with\n",
       "    <span style=\"font-size: 0.8em; font-weight: bold; line-height: 1; border-radius: 0.35em; vertical-align: middle; margin-left: 0.5rem\">name</span>\n",
       "</mark>\n",
       " the \n",
       "<mark class=\"entity\" style=\"background: #ddd; padding: 0.45em 0.6em; margin: 0 0.25em; line-height: 1; border-radius: 0.35em;\">\n",
       "    best\n",
       "    <span style=\"font-size: 0.8em; font-weight: bold; line-height: 1; border-radius: 0.35em; vertical-align: middle; margin-left: 0.5rem\">order</span>\n",
       "</mark>\n",
       " ratings</div></span>"
      ],
      "text/plain": [
       "<IPython.core.display.HTML object>"
      ]
     },
     "metadata": {},
     "output_type": "display_data"
    },
    {
     "name": "stdout",
     "output_type": "stream",
     "text": [
      "List the blaxploitation movies wrote Oh Yeon-seo with the best ratings {'entities': [(9, 23, 'genre'), (58, 62, 'order'), (37, 48, 'name'), (31, 36, 'action'), (63, 69, 'predicate')]}\n",
      "Missing name label\n"
     ]
    },
    {
     "data": {
      "text/html": [
       "<span class=\"tex2jax_ignore\"><div class=\"entities\" style=\"line-height: 2.5; direction: ltr\">List the \n",
       "<mark class=\"entity\" style=\"background: #ddd; padding: 0.45em 0.6em; margin: 0 0.25em; line-height: 1; border-radius: 0.35em;\">\n",
       "    mysticism\n",
       "    <span style=\"font-size: 0.8em; font-weight: bold; line-height: 1; border-radius: 0.35em; vertical-align: middle; margin-left: 0.5rem\">genre</span>\n",
       "</mark>\n",
       " movies \n",
       "<mark class=\"entity\" style=\"background: #ddd; padding: 0.45em 0.6em; margin: 0 0.25em; line-height: 1; border-radius: 0.35em;\">\n",
       "    produced\n",
       "    <span style=\"font-size: 0.8em; font-weight: bold; line-height: 1; border-radius: 0.35em; vertical-align: middle; margin-left: 0.5rem\">action</span>\n",
       "</mark>\n",
       " \n",
       "<mark class=\"entity\" style=\"background: #ddd; padding: 0.45em 0.6em; margin: 0 0.25em; line-height: 1; border-radius: 0.35em;\">\n",
       "    Park Ye-jin with\n",
       "    <span style=\"font-size: 0.8em; font-weight: bold; line-height: 1; border-radius: 0.35em; vertical-align: middle; margin-left: 0.5rem\">name</span>\n",
       "</mark>\n",
       " the \n",
       "<mark class=\"entity\" style=\"background: #ddd; padding: 0.45em 0.6em; margin: 0 0.25em; line-height: 1; border-radius: 0.35em;\">\n",
       "    best\n",
       "    <span style=\"font-size: 0.8em; font-weight: bold; line-height: 1; border-radius: 0.35em; vertical-align: middle; margin-left: 0.5rem\">order</span>\n",
       "</mark>\n",
       " ratings</div></span>"
      ],
      "text/plain": [
       "<IPython.core.display.HTML object>"
      ]
     },
     "metadata": {},
     "output_type": "display_data"
    },
    {
     "name": "stdout",
     "output_type": "stream",
     "text": [
      "List the mysticism movies produced Park Ye-jin with the best ratings {'entities': [(9, 18, 'genre'), (56, 60, 'order'), (35, 46, 'name'), (26, 34, 'action'), (26, 33, 'action'), (61, 67, 'predicate')]}\n",
      "Missing name label\n"
     ]
    },
    {
     "data": {
      "text/html": [
       "<span class=\"tex2jax_ignore\"><div class=\"entities\" style=\"line-height: 2.5; direction: ltr\">Display the \n",
       "<mark class=\"entity\" style=\"background: #ddd; padding: 0.45em 0.6em; margin: 0 0.25em; line-height: 1; border-radius: 0.35em;\">\n",
       "    play\n",
       "    <span style=\"font-size: 0.8em; font-weight: bold; line-height: 1; border-radius: 0.35em; vertical-align: middle; margin-left: 0.5rem\">genre</span>\n",
       "</mark>\n",
       " movies with the \n",
       "<mark class=\"entity\" style=\"background: #ddd; padding: 0.45em 0.6em; margin: 0 0.25em; line-height: 1; border-radius: 0.35em;\">\n",
       "    lowest\n",
       "    <span style=\"font-size: 0.8em; font-weight: bold; line-height: 1; border-radius: 0.35em; vertical-align: middle; margin-left: 0.5rem\">order</span>\n",
       "</mark>\n",
       " ratings \n",
       "<mark class=\"entity\" style=\"background: #ddd; padding: 0.45em 0.6em; margin: 0 0.25em; line-height: 1; border-radius: 0.35em;\">\n",
       "    edited\n",
       "    <span style=\"font-size: 0.8em; font-weight: bold; line-height: 1; border-radius: 0.35em; vertical-align: middle; margin-left: 0.5rem\">action</span>\n",
       "</mark>\n",
       " \n",
       "<mark class=\"entity\" style=\"background: #ddd; padding: 0.45em 0.6em; margin: 0 0.25em; line-height: 1; border-radius: 0.35em;\">\n",
       "    Celia Birtwell\n",
       "    <span style=\"font-size: 0.8em; font-weight: bold; line-height: 1; border-radius: 0.35em; vertical-align: middle; margin-left: 0.5rem\">name</span>\n",
       "</mark>\n",
       "</div></span>"
      ],
      "text/plain": [
       "<IPython.core.display.HTML object>"
      ]
     },
     "metadata": {},
     "output_type": "display_data"
    },
    {
     "name": "stdout",
     "output_type": "stream",
     "text": [
      "Display the play movies with the lowest ratings edited Celia Birtwell {'entities': [(33, 39, 'order'), (3, 7, 'genre'), (55, 69, 'name'), (48, 52, 'action'), (48, 54, 'action'), (40, 46, 'predicate')]}\n",
      "Missing genre label\n"
     ]
    },
    {
     "data": {
      "text/html": [
       "<span class=\"tex2jax_ignore\"><div class=\"entities\" style=\"line-height: 2.5; direction: ltr\">What are the \n",
       "<mark class=\"entity\" style=\"background: #ddd; padding: 0.45em 0.6em; margin: 0 0.25em; line-height: 1; border-radius: 0.35em;\">\n",
       "    worst\n",
       "    <span style=\"font-size: 0.8em; font-weight: bold; line-height: 1; border-radius: 0.35em; vertical-align: middle; margin-left: 0.5rem\">order</span>\n",
       "</mark>\n",
       " \n",
       "<mark class=\"entity\" style=\"background: #ddd; padding: 0.45em 0.6em; margin: 0 0.25em; line-height: 1; border-radius: 0.35em;\">\n",
       "    four\n",
       "    <span style=\"font-size: 0.8em; font-weight: bold; line-height: 1; border-radius: 0.35em; vertical-align: middle; margin-left: 0.5rem\">numerical_entity</span>\n",
       "</mark>\n",
       " \n",
       "<mark class=\"entity\" style=\"background: #ddd; padding: 0.45em 0.6em; margin: 0 0.25em; line-height: 1; border-radius: 0.35em;\">\n",
       "    magical girl\n",
       "    <span style=\"font-size: 0.8em; font-weight: bold; line-height: 1; border-radius: 0.35em; vertical-align: middle; margin-left: 0.5rem\">genre</span>\n",
       "</mark>\n",
       " movies \n",
       "<mark class=\"entity\" style=\"background: #ddd; padding: 0.45em 0.6em; margin: 0 0.25em; line-height: 1; border-radius: 0.35em;\">\n",
       "    Jean-Louis Aubert\n",
       "    <span style=\"font-size: 0.8em; font-weight: bold; line-height: 1; border-radius: 0.35em; vertical-align: middle; margin-left: 0.5rem\">movie</span>\n",
       "</mark>\n",
       " \n",
       "<mark class=\"entity\" style=\"background: #ddd; padding: 0.45em 0.6em; margin: 0 0.25em; line-height: 1; border-radius: 0.35em;\">\n",
       "    directed\n",
       "    <span style=\"font-size: 0.8em; font-weight: bold; line-height: 1; border-radius: 0.35em; vertical-align: middle; margin-left: 0.5rem\">action</span>\n",
       "</mark>\n",
       "?</div></span>"
      ],
      "text/plain": [
       "<IPython.core.display.HTML object>"
      ]
     },
     "metadata": {},
     "output_type": "display_data"
    },
    {
     "name": "stdout",
     "output_type": "stream",
     "text": [
      "What are the worst four magical girl movies Jean-Louis Aubert directed? {'entities': [(44, 61, 'name'), (13, 18, 'order'), (24, 36, 'genre'), (62, 70, 'action'), (62, 68, 'action'), (19, 23, 'numerical_entity')]}\n",
      "Missing movie label\n"
     ]
    },
    {
     "data": {
      "text/html": [
       "<span class=\"tex2jax_ignore\"><div class=\"entities\" style=\"line-height: 2.5; direction: ltr\">What movies did \n",
       "<mark class=\"entity\" style=\"background: #ddd; padding: 0.45em 0.6em; margin: 0 0.25em; line-height: 1; border-radius: 0.35em;\">\n",
       "    Roh Jeong-\n",
       "    <span style=\"font-size: 0.8em; font-weight: bold; line-height: 1; border-radius: 0.35em; vertical-align: middle; margin-left: 0.5rem\">name</span>\n",
       "</mark>\n",
       "eui \n",
       "<mark class=\"entity\" style=\"background: #ddd; padding: 0.45em 0.6em; margin: 0 0.25em; line-height: 1; border-radius: 0.35em;\">\n",
       "    appear\n",
       "    <span style=\"font-size: 0.8em; font-weight: bold; line-height: 1; border-radius: 0.35em; vertical-align: middle; margin-left: 0.5rem\">action</span>\n",
       "</mark>\n",
       " in in \n",
       "<mark class=\"entity\" style=\"background: #ddd; padding: 0.45em 0.6em; margin: 0 0.25em; line-height: 1; border-radius: 0.35em;\">\n",
       "    1916\n",
       "    <span style=\"font-size: 0.8em; font-weight: bold; line-height: 1; border-radius: 0.35em; vertical-align: middle; margin-left: 0.5rem\">year</span>\n",
       "</mark>\n",
       "?</div></span>"
      ],
      "text/plain": [
       "<IPython.core.display.HTML object>"
      ]
     },
     "metadata": {},
     "output_type": "display_data"
    },
    {
     "name": "stdout",
     "output_type": "stream",
     "text": [
      "What movies did Roh Jeong-eui appear in in 1916? {'entities': [(16, 29, 'name'), (43, 47, 'year'), (30, 36, 'action')]}\n",
      "Missing name label\n"
     ]
    },
    {
     "data": {
      "text/html": [
       "<span class=\"tex2jax_ignore\"><div class=\"entities\" style=\"line-height: 2.5; direction: ltr\">Provide the filmography of \n",
       "<mark class=\"entity\" style=\"background: #ddd; padding: 0.45em 0.6em; margin: 0 0.25em; line-height: 1; border-radius: 0.35em;\">\n",
       "    Peggy\n",
       "    <span style=\"font-size: 0.8em; font-weight: bold; line-height: 1; border-radius: 0.35em; vertical-align: middle; margin-left: 0.5rem\">name</span>\n",
       "</mark>\n",
       " Dow in \n",
       "<mark class=\"entity\" style=\"background: #ddd; padding: 0.45em 0.6em; margin: 0 0.25em; line-height: 1; border-radius: 0.35em;\">\n",
       "    1832\n",
       "    <span style=\"font-size: 0.8em; font-weight: bold; line-height: 1; border-radius: 0.35em; vertical-align: middle; margin-left: 0.5rem\">year</span>\n",
       "</mark>\n",
       "</div></span>"
      ],
      "text/plain": [
       "<IPython.core.display.HTML object>"
      ]
     },
     "metadata": {},
     "output_type": "display_data"
    },
    {
     "name": "stdout",
     "output_type": "stream",
     "text": [
      "Provide the filmography of Peggy Dow in 1832 {'entities': [(27, 36, 'name'), (40, 44, 'year')]}\n",
      "Missing name label\n"
     ]
    },
    {
     "data": {
      "text/html": [
       "<span class=\"tex2jax_ignore\"><div class=\"entities\" style=\"line-height: 2.5; direction: ltr\">Which movies starred I\n",
       "<mark class=\"entity\" style=\"background: #ddd; padding: 0.45em 0.6em; margin: 0 0.25em; line-height: 1; border-radius: 0.35em;\">\n",
       "    m Won-hee\n",
       "    <span style=\"font-size: 0.8em; font-weight: bold; line-height: 1; border-radius: 0.35em; vertical-align: middle; margin-left: 0.5rem\">name</span>\n",
       "</mark>\n",
       " in \n",
       "<mark class=\"entity\" style=\"background: #ddd; padding: 0.45em 0.6em; margin: 0 0.25em; line-height: 1; border-radius: 0.35em;\">\n",
       "    1961\n",
       "    <span style=\"font-size: 0.8em; font-weight: bold; line-height: 1; border-radius: 0.35em; vertical-align: middle; margin-left: 0.5rem\">year</span>\n",
       "</mark>\n",
       "?</div></span>"
      ],
      "text/plain": [
       "<IPython.core.display.HTML object>"
      ]
     },
     "metadata": {},
     "output_type": "display_data"
    },
    {
     "name": "stdout",
     "output_type": "stream",
     "text": [
      "Which movies starred Im Won-hee in 1961? {'entities': [(21, 31, 'name'), (35, 39, 'year')]}\n",
      "Missing name label\n"
     ]
    },
    {
     "data": {
      "text/html": [
       "<span class=\"tex2jax_ignore\"><div class=\"entities\" style=\"line-height: 2.5; direction: ltr\">What are the \n",
       "<mark class=\"entity\" style=\"background: #ddd; padding: 0.45em 0.6em; margin: 0 0.25em; line-height: 1; border-radius: 0.35em;\">\n",
       "    worst\n",
       "    <span style=\"font-size: 0.8em; font-weight: bold; line-height: 1; border-radius: 0.35em; vertical-align: middle; margin-left: 0.5rem\">order</span>\n",
       "</mark>\n",
       " \n",
       "<mark class=\"entity\" style=\"background: #ddd; padding: 0.45em 0.6em; margin: 0 0.25em; line-height: 1; border-radius: 0.35em;\">\n",
       "    8\n",
       "    <span style=\"font-size: 0.8em; font-weight: bold; line-height: 1; border-radius: 0.35em; vertical-align: middle; margin-left: 0.5rem\">numerical_entity</span>\n",
       "</mark>\n",
       " \n",
       "<mark class=\"entity\" style=\"background: #ddd; padding: 0.45em 0.6em; margin: 0 0.25em; line-height: 1; border-radius: 0.35em;\">\n",
       "    intersex\n",
       "    <span style=\"font-size: 0.8em; font-weight: bold; line-height: 1; border-radius: 0.35em; vertical-align: middle; margin-left: 0.5rem\">genre</span>\n",
       "</mark>\n",
       " movies \n",
       "<mark class=\"entity\" style=\"background: #ddd; padding: 0.45em 0.6em; margin: 0 0.25em; line-height: 1; border-radius: 0.35em;\">\n",
       "    Suicide of Audrie Pott\n",
       "    <span style=\"font-size: 0.8em; font-weight: bold; line-height: 1; border-radius: 0.35em; vertical-align: middle; margin-left: 0.5rem\">movie</span>\n",
       "</mark>\n",
       " \n",
       "<mark class=\"entity\" style=\"background: #ddd; padding: 0.45em 0.6em; margin: 0 0.25em; line-height: 1; border-radius: 0.35em;\">\n",
       "    directed\n",
       "    <span style=\"font-size: 0.8em; font-weight: bold; line-height: 1; border-radius: 0.35em; vertical-align: middle; margin-left: 0.5rem\">action</span>\n",
       "</mark>\n",
       "?</div></span>"
      ],
      "text/plain": [
       "<IPython.core.display.HTML object>"
      ]
     },
     "metadata": {},
     "output_type": "display_data"
    },
    {
     "name": "stdout",
     "output_type": "stream",
     "text": [
      "What are the worst 8 intersex movies Suicide of Audrie Pott directed? {'entities': [(37, 59, 'name'), (13, 18, 'order'), (21, 29, 'genre'), (60, 68, 'action'), (60, 66, 'action'), (19, 20, 'numerical_entity')]}\n",
      "Missing movie label\n"
     ]
    },
    {
     "data": {
      "text/html": [
       "<span class=\"tex2jax_ignore\"><div class=\"entities\" style=\"line-height: 2.5; direction: ltr\">What are the \n",
       "<mark class=\"entity\" style=\"background: #ddd; padding: 0.45em 0.6em; margin: 0 0.25em; line-height: 1; border-radius: 0.35em;\">\n",
       "    worst\n",
       "    <span style=\"font-size: 0.8em; font-weight: bold; line-height: 1; border-radius: 0.35em; vertical-align: middle; margin-left: 0.5rem\">order</span>\n",
       "</mark>\n",
       " \n",
       "<mark class=\"entity\" style=\"background: #ddd; padding: 0.45em 0.6em; margin: 0 0.25em; line-height: 1; border-radius: 0.35em;\">\n",
       "    16\n",
       "    <span style=\"font-size: 0.8em; font-weight: bold; line-height: 1; border-radius: 0.35em; vertical-align: middle; margin-left: 0.5rem\">numerical_entity</span>\n",
       "</mark>\n",
       " \n",
       "<mark class=\"entity\" style=\"background: #ddd; padding: 0.45em 0.6em; margin: 0 0.25em; line-height: 1; border-radius: 0.35em;\">\n",
       "    magical girl\n",
       "    <span style=\"font-size: 0.8em; font-weight: bold; line-height: 1; border-radius: 0.35em; vertical-align: middle; margin-left: 0.5rem\">genre</span>\n",
       "</mark>\n",
       " movies \n",
       "<mark class=\"entity\" style=\"background: #ddd; padding: 0.45em 0.6em; margin: 0 0.25em; line-height: 1; border-radius: 0.35em;\">\n",
       "    Yoon So-hee\n",
       "    <span style=\"font-size: 0.8em; font-weight: bold; line-height: 1; border-radius: 0.35em; vertical-align: middle; margin-left: 0.5rem\">movie</span>\n",
       "</mark>\n",
       " \n",
       "<mark class=\"entity\" style=\"background: #ddd; padding: 0.45em 0.6em; margin: 0 0.25em; line-height: 1; border-radius: 0.35em;\">\n",
       "    directed\n",
       "    <span style=\"font-size: 0.8em; font-weight: bold; line-height: 1; border-radius: 0.35em; vertical-align: middle; margin-left: 0.5rem\">action</span>\n",
       "</mark>\n",
       "?</div></span>"
      ],
      "text/plain": [
       "<IPython.core.display.HTML object>"
      ]
     },
     "metadata": {},
     "output_type": "display_data"
    },
    {
     "name": "stdout",
     "output_type": "stream",
     "text": [
      "What are the worst 16 magical girl movies Yoon So-hee directed? {'entities': [(42, 53, 'name'), (13, 18, 'order'), (22, 34, 'genre'), (54, 62, 'action'), (54, 60, 'action'), (19, 21, 'numerical_entity')]}\n",
      "Missing movie label\n"
     ]
    },
    {
     "data": {
      "text/html": [
       "<span class=\"tex2jax_ignore\"><div class=\"entities\" style=\"line-height: 2.5; direction: ltr\">What movies did \n",
       "<mark class=\"entity\" style=\"background: #ddd; padding: 0.45em 0.6em; margin: 0 0.25em; line-height: 1; border-radius: 0.35em;\">\n",
       "    Ron\n",
       "    <span style=\"font-size: 0.8em; font-weight: bold; line-height: 1; border-radius: 0.35em; vertical-align: middle; margin-left: 0.5rem\">name</span>\n",
       "</mark>\n",
       " Yerxa \n",
       "<mark class=\"entity\" style=\"background: #ddd; padding: 0.45em 0.6em; margin: 0 0.25em; line-height: 1; border-radius: 0.35em;\">\n",
       "    appear\n",
       "    <span style=\"font-size: 0.8em; font-weight: bold; line-height: 1; border-radius: 0.35em; vertical-align: middle; margin-left: 0.5rem\">action</span>\n",
       "</mark>\n",
       " in in \n",
       "<mark class=\"entity\" style=\"background: #ddd; padding: 0.45em 0.6em; margin: 0 0.25em; line-height: 1; border-radius: 0.35em;\">\n",
       "    1898\n",
       "    <span style=\"font-size: 0.8em; font-weight: bold; line-height: 1; border-radius: 0.35em; vertical-align: middle; margin-left: 0.5rem\">year</span>\n",
       "</mark>\n",
       "?</div></span>"
      ],
      "text/plain": [
       "<IPython.core.display.HTML object>"
      ]
     },
     "metadata": {},
     "output_type": "display_data"
    },
    {
     "name": "stdout",
     "output_type": "stream",
     "text": [
      "What movies did Ron Yerxa appear in in 1898? {'entities': [(16, 25, 'name'), (39, 43, 'year'), (26, 32, 'action')]}\n",
      "Missing name label\n"
     ]
    },
    {
     "data": {
      "text/html": [
       "<span class=\"tex2jax_ignore\"><div class=\"entities\" style=\"line-height: 2.5; direction: ltr\">What are the \n",
       "<mark class=\"entity\" style=\"background: #ddd; padding: 0.45em 0.6em; margin: 0 0.25em; line-height: 1; border-radius: 0.35em;\">\n",
       "    worst\n",
       "    <span style=\"font-size: 0.8em; font-weight: bold; line-height: 1; border-radius: 0.35em; vertical-align: middle; margin-left: 0.5rem\">order</span>\n",
       "</mark>\n",
       " \n",
       "<mark class=\"entity\" style=\"background: #ddd; padding: 0.45em 0.6em; margin: 0 0.25em; line-height: 1; border-radius: 0.35em;\">\n",
       "    four\n",
       "    <span style=\"font-size: 0.8em; font-weight: bold; line-height: 1; border-radius: 0.35em; vertical-align: middle; margin-left: 0.5rem\">numerical_entity</span>\n",
       "</mark>\n",
       " \n",
       "<mark class=\"entity\" style=\"background: #ddd; padding: 0.45em 0.6em; margin: 0 0.25em; line-height: 1; border-radius: 0.35em;\">\n",
       "    musical comedy\n",
       "    <span style=\"font-size: 0.8em; font-weight: bold; line-height: 1; border-radius: 0.35em; vertical-align: middle; margin-left: 0.5rem\">genre</span>\n",
       "</mark>\n",
       " movies \n",
       "<mark class=\"entity\" style=\"background: #ddd; padding: 0.45em 0.6em; margin: 0 0.25em; line-height: 1; border-radius: 0.35em;\">\n",
       "    Kim Dong-\n",
       "    <span style=\"font-size: 0.8em; font-weight: bold; line-height: 1; border-radius: 0.35em; vertical-align: middle; margin-left: 0.5rem\">name</span>\n",
       "</mark>\n",
       "won \n",
       "<mark class=\"entity\" style=\"background: #ddd; padding: 0.45em 0.6em; margin: 0 0.25em; line-height: 1; border-radius: 0.35em;\">\n",
       "    directed\n",
       "    <span style=\"font-size: 0.8em; font-weight: bold; line-height: 1; border-radius: 0.35em; vertical-align: middle; margin-left: 0.5rem\">action</span>\n",
       "</mark>\n",
       "?</div></span>"
      ],
      "text/plain": [
       "<IPython.core.display.HTML object>"
      ]
     },
     "metadata": {},
     "output_type": "display_data"
    },
    {
     "name": "stdout",
     "output_type": "stream",
     "text": [
      "What are the worst four musical comedy movies Kim Dong-won directed? {'entities': [(46, 58, 'name'), (13, 18, 'order'), (24, 38, 'genre'), (59, 67, 'action'), (59, 65, 'action'), (19, 23, 'numerical_entity')]}\n",
      "Missing name label\n"
     ]
    },
    {
     "data": {
      "text/html": [
       "<span class=\"tex2jax_ignore\"><div class=\"entities\" style=\"line-height: 2.5; direction: ltr\">Which are the \n",
       "<mark class=\"entity\" style=\"background: #ddd; padding: 0.45em 0.6em; margin: 0 0.25em; line-height: 1; border-radius: 0.35em;\">\n",
       "    best\n",
       "    <span style=\"font-size: 0.8em; font-weight: bold; line-height: 1; border-radius: 0.35em; vertical-align: middle; margin-left: 0.5rem\">order</span>\n",
       "</mark>\n",
       " movies where \n",
       "<mark class=\"entity\" style=\"background: #ddd; padding: 0.45em 0.6em; margin: 0 0.25em; line-height: 1; border-radius: 0.35em;\">\n",
       "    Kim Jae-\n",
       "    <span style=\"font-size: 0.8em; font-weight: bold; line-height: 1; border-radius: 0.35em; vertical-align: middle; margin-left: 0.5rem\">name</span>\n",
       "</mark>\n",
       "in appeared?</div></span>"
      ],
      "text/plain": [
       "<IPython.core.display.HTML object>"
      ]
     },
     "metadata": {},
     "output_type": "display_data"
    },
    {
     "name": "stdout",
     "output_type": "stream",
     "text": [
      "Which are the best movies where Kim Jae-in appeared? {'entities': [(32, 42, 'name'), (14, 18, 'order'), (43, 49, 'action')]}\n",
      "Missing name label\n"
     ]
    },
    {
     "data": {
      "text/html": [
       "<span class=\"tex2jax_ignore\"><div class=\"entities\" style=\"line-height: 2.5; direction: ltr\">What movies did \n",
       "<mark class=\"entity\" style=\"background: #ddd; padding: 0.45em 0.6em; margin: 0 0.25em; line-height: 1; border-radius: 0.35em;\">\n",
       "    Kim Jin-\n",
       "    <span style=\"font-size: 0.8em; font-weight: bold; line-height: 1; border-radius: 0.35em; vertical-align: middle; margin-left: 0.5rem\">name</span>\n",
       "</mark>\n",
       "a appear in in \n",
       "<mark class=\"entity\" style=\"background: #ddd; padding: 0.45em 0.6em; margin: 0 0.25em; line-height: 1; border-radius: 0.35em;\">\n",
       "    2015\n",
       "    <span style=\"font-size: 0.8em; font-weight: bold; line-height: 1; border-radius: 0.35em; vertical-align: middle; margin-left: 0.5rem\">year</span>\n",
       "</mark>\n",
       "?</div></span>"
      ],
      "text/plain": [
       "<IPython.core.display.HTML object>"
      ]
     },
     "metadata": {},
     "output_type": "display_data"
    },
    {
     "name": "stdout",
     "output_type": "stream",
     "text": [
      "What movies did Kim Jin-a appear in in 2015? {'entities': [(16, 25, 'name'), (39, 43, 'year'), (26, 32, 'action')]}\n",
      "Missing name label\n"
     ]
    },
    {
     "data": {
      "text/html": [
       "<span class=\"tex2jax_ignore\"><div class=\"entities\" style=\"line-height: 2.5; direction: ltr\">What are the \n",
       "<mark class=\"entity\" style=\"background: #ddd; padding: 0.45em 0.6em; margin: 0 0.25em; line-height: 1; border-radius: 0.35em;\">\n",
       "    best\n",
       "    <span style=\"font-size: 0.8em; font-weight: bold; line-height: 1; border-radius: 0.35em; vertical-align: middle; margin-left: 0.5rem\">order</span>\n",
       "</mark>\n",
       " \n",
       "<mark class=\"entity\" style=\"background: #ddd; padding: 0.45em 0.6em; margin: 0 0.25em; line-height: 1; border-radius: 0.35em;\">\n",
       "    seventeen\n",
       "    <span style=\"font-size: 0.8em; font-weight: bold; line-height: 1; border-radius: 0.35em; vertical-align: middle; margin-left: 0.5rem\">numerical_entity</span>\n",
       "</mark>\n",
       " movies \n",
       "<mark class=\"entity\" style=\"background: #ddd; padding: 0.45em 0.6em; margin: 0 0.25em; line-height: 1; border-radius: 0.35em;\">\n",
       "    Oh Seo-\n",
       "    <span style=\"font-size: 0.8em; font-weight: bold; line-height: 1; border-radius: 0.35em; vertical-align: middle; margin-left: 0.5rem\">name</span>\n",
       "</mark>\n",
       "won \n",
       "<mark class=\"entity\" style=\"background: #ddd; padding: 0.45em 0.6em; margin: 0 0.25em; line-height: 1; border-radius: 0.35em;\">\n",
       "    directed\n",
       "    <span style=\"font-size: 0.8em; font-weight: bold; line-height: 1; border-radius: 0.35em; vertical-align: middle; margin-left: 0.5rem\">action</span>\n",
       "</mark>\n",
       "?</div></span>"
      ],
      "text/plain": [
       "<IPython.core.display.HTML object>"
      ]
     },
     "metadata": {},
     "output_type": "display_data"
    },
    {
     "name": "stdout",
     "output_type": "stream",
     "text": [
      "What are the best seventeen movies Oh Seo-won directed? {'entities': [(35, 45, 'name'), (13, 17, 'order'), (46, 54, 'action'), (46, 52, 'action'), (18, 27, 'numerical_entity')]}\n",
      "Missing name label\n"
     ]
    },
    {
     "data": {
      "text/html": [
       "<span class=\"tex2jax_ignore\"><div class=\"entities\" style=\"line-height: 2.5; direction: ltr\">Which movies starred \n",
       "<mark class=\"entity\" style=\"background: #ddd; padding: 0.45em 0.6em; margin: 0 0.25em; line-height: 1; border-radius: 0.35em;\">\n",
       "    Simone\n",
       "    <span style=\"font-size: 0.8em; font-weight: bold; line-height: 1; border-radius: 0.35em; vertical-align: middle; margin-left: 0.5rem\">name</span>\n",
       "</mark>\n",
       " McAullay in \n",
       "<mark class=\"entity\" style=\"background: #ddd; padding: 0.45em 0.6em; margin: 0 0.25em; line-height: 1; border-radius: 0.35em;\">\n",
       "    1879\n",
       "    <span style=\"font-size: 0.8em; font-weight: bold; line-height: 1; border-radius: 0.35em; vertical-align: middle; margin-left: 0.5rem\">year</span>\n",
       "</mark>\n",
       "?</div></span>"
      ],
      "text/plain": [
       "<IPython.core.display.HTML object>"
      ]
     },
     "metadata": {},
     "output_type": "display_data"
    },
    {
     "name": "stdout",
     "output_type": "stream",
     "text": [
      "Which movies starred Simone McAullay in 1879? {'entities': [(21, 36, 'name'), (40, 44, 'year')]}\n",
      "Missing name label\n"
     ]
    },
    {
     "data": {
      "text/html": [
       "<span class=\"tex2jax_ignore\"><div class=\"entities\" style=\"line-height: 2.5; direction: ltr\">What are the \n",
       "<mark class=\"entity\" style=\"background: #ddd; padding: 0.45em 0.6em; margin: 0 0.25em; line-height: 1; border-radius: 0.35em;\">\n",
       "    worst\n",
       "    <span style=\"font-size: 0.8em; font-weight: bold; line-height: 1; border-radius: 0.35em; vertical-align: middle; margin-left: 0.5rem\">order</span>\n",
       "</mark>\n",
       " \n",
       "<mark class=\"entity\" style=\"background: #ddd; padding: 0.45em 0.6em; margin: 0 0.25em; line-height: 1; border-radius: 0.35em;\">\n",
       "    8\n",
       "    <span style=\"font-size: 0.8em; font-weight: bold; line-height: 1; border-radius: 0.35em; vertical-align: middle; margin-left: 0.5rem\">numerical_entity</span>\n",
       "</mark>\n",
       " \n",
       "<mark class=\"entity\" style=\"background: #ddd; padding: 0.45em 0.6em; margin: 0 0.25em; line-height: 1; border-radius: 0.35em;\">\n",
       "    financial thriller\n",
       "    <span style=\"font-size: 0.8em; font-weight: bold; line-height: 1; border-radius: 0.35em; vertical-align: middle; margin-left: 0.5rem\">genre</span>\n",
       "</mark>\n",
       " movies \n",
       "<mark class=\"entity\" style=\"background: #ddd; padding: 0.45em 0.6em; margin: 0 0.25em; line-height: 1; border-radius: 0.35em;\">\n",
       "    R.\n",
       "    <span style=\"font-size: 0.8em; font-weight: bold; line-height: 1; border-radius: 0.35em; vertical-align: middle; margin-left: 0.5rem\">action</span>\n",
       "</mark>\n",
       " \n",
       "<mark class=\"entity\" style=\"background: #ddd; padding: 0.45em 0.6em; margin: 0 0.25em; line-height: 1; border-radius: 0.35em;\">\n",
       "    R. Venkat\n",
       "    <span style=\"font-size: 0.8em; font-weight: bold; line-height: 1; border-radius: 0.35em; vertical-align: middle; margin-left: 0.5rem\">name</span>\n",
       "</mark>\n",
       " \n",
       "<mark class=\"entity\" style=\"background: #ddd; padding: 0.45em 0.6em; margin: 0 0.25em; line-height: 1; border-radius: 0.35em;\">\n",
       "    directed\n",
       "    <span style=\"font-size: 0.8em; font-weight: bold; line-height: 1; border-radius: 0.35em; vertical-align: middle; margin-left: 0.5rem\">action</span>\n",
       "</mark>\n",
       "?</div></span>"
      ],
      "text/plain": [
       "<IPython.core.display.HTML object>"
      ]
     },
     "metadata": {},
     "output_type": "display_data"
    },
    {
     "name": "stdout",
     "output_type": "stream",
     "text": [
      "What are the worst 8 financial thriller movies R. R. Venkat directed? {'entities': [(47, 59, 'name'), (13, 18, 'order'), (21, 39, 'genre'), (60, 68, 'action'), (60, 66, 'action'), (19, 20, 'numerical_entity')]}\n",
      "Missing action label\n"
     ]
    },
    {
     "data": {
      "text/html": [
       "<span class=\"tex2jax_ignore\"><div class=\"entities\" style=\"line-height: 2.5; direction: ltr\">What are the \n",
       "<mark class=\"entity\" style=\"background: #ddd; padding: 0.45em 0.6em; margin: 0 0.25em; line-height: 1; border-radius: 0.35em;\">\n",
       "    worst\n",
       "    <span style=\"font-size: 0.8em; font-weight: bold; line-height: 1; border-radius: 0.35em; vertical-align: middle; margin-left: 0.5rem\">order</span>\n",
       "</mark>\n",
       " \n",
       "<mark class=\"entity\" style=\"background: #ddd; padding: 0.45em 0.6em; margin: 0 0.25em; line-height: 1; border-radius: 0.35em;\">\n",
       "    8\n",
       "    <span style=\"font-size: 0.8em; font-weight: bold; line-height: 1; border-radius: 0.35em; vertical-align: middle; margin-left: 0.5rem\">numerical_entity</span>\n",
       "</mark>\n",
       " \n",
       "<mark class=\"entity\" style=\"background: #ddd; padding: 0.45em 0.6em; margin: 0 0.25em; line-height: 1; border-radius: 0.35em;\">\n",
       "    financial thriller\n",
       "    <span style=\"font-size: 0.8em; font-weight: bold; line-height: 1; border-radius: 0.35em; vertical-align: middle; margin-left: 0.5rem\">genre</span>\n",
       "</mark>\n",
       " movies \n",
       "<mark class=\"entity\" style=\"background: #ddd; padding: 0.45em 0.6em; margin: 0 0.25em; line-height: 1; border-radius: 0.35em;\">\n",
       "    R.\n",
       "    <span style=\"font-size: 0.8em; font-weight: bold; line-height: 1; border-radius: 0.35em; vertical-align: middle; margin-left: 0.5rem\">action</span>\n",
       "</mark>\n",
       " \n",
       "<mark class=\"entity\" style=\"background: #ddd; padding: 0.45em 0.6em; margin: 0 0.25em; line-height: 1; border-radius: 0.35em;\">\n",
       "    R. Venkat\n",
       "    <span style=\"font-size: 0.8em; font-weight: bold; line-height: 1; border-radius: 0.35em; vertical-align: middle; margin-left: 0.5rem\">name</span>\n",
       "</mark>\n",
       " \n",
       "<mark class=\"entity\" style=\"background: #ddd; padding: 0.45em 0.6em; margin: 0 0.25em; line-height: 1; border-radius: 0.35em;\">\n",
       "    directed\n",
       "    <span style=\"font-size: 0.8em; font-weight: bold; line-height: 1; border-radius: 0.35em; vertical-align: middle; margin-left: 0.5rem\">action</span>\n",
       "</mark>\n",
       "?</div></span>"
      ],
      "text/plain": [
       "<IPython.core.display.HTML object>"
      ]
     },
     "metadata": {},
     "output_type": "display_data"
    },
    {
     "name": "stdout",
     "output_type": "stream",
     "text": [
      "What are the worst 8 financial thriller movies R. R. Venkat directed? {'entities': [(47, 59, 'name'), (13, 18, 'order'), (21, 39, 'genre'), (60, 68, 'action'), (60, 66, 'action'), (19, 20, 'numerical_entity')]}\n",
      "Missing name label\n"
     ]
    },
    {
     "data": {
      "text/html": [
       "<span class=\"tex2jax_ignore\"><div class=\"entities\" style=\"line-height: 2.5; direction: ltr\">Can you name the \n",
       "<mark class=\"entity\" style=\"background: #ddd; padding: 0.45em 0.6em; margin: 0 0.25em; line-height: 1; border-radius: 0.35em;\">\n",
       "    worst\n",
       "    <span style=\"font-size: 0.8em; font-weight: bold; line-height: 1; border-radius: 0.35em; vertical-align: middle; margin-left: 0.5rem\">order</span>\n",
       "</mark>\n",
       " \n",
       "<mark class=\"entity\" style=\"background: #ddd; padding: 0.45em 0.6em; margin: 0 0.25em; line-height: 1; border-radius: 0.35em;\">\n",
       "    fourteen\n",
       "    <span style=\"font-size: 0.8em; font-weight: bold; line-height: 1; border-radius: 0.35em; vertical-align: middle; margin-left: 0.5rem\">numerical_entity</span>\n",
       "</mark>\n",
       " \n",
       "<mark class=\"entity\" style=\"background: #ddd; padding: 0.45em 0.6em; margin: 0 0.25em; line-height: 1; border-radius: 0.35em;\">\n",
       "    teen\n",
       "    <span style=\"font-size: 0.8em; font-weight: bold; line-height: 1; border-radius: 0.35em; vertical-align: middle; margin-left: 0.5rem\">genre</span>\n",
       "</mark>\n",
       " movies \n",
       "<mark class=\"entity\" style=\"background: #ddd; padding: 0.45em 0.6em; margin: 0 0.25em; line-height: 1; border-radius: 0.35em;\">\n",
       "    directed\n",
       "    <span style=\"font-size: 0.8em; font-weight: bold; line-height: 1; border-radius: 0.35em; vertical-align: middle; margin-left: 0.5rem\">action</span>\n",
       "</mark>\n",
       " by \n",
       "<mark class=\"entity\" style=\"background: #ddd; padding: 0.45em 0.6em; margin: 0 0.25em; line-height: 1; border-radius: 0.35em;\">\n",
       "    Igor Stránský\n",
       "    <span style=\"font-size: 0.8em; font-weight: bold; line-height: 1; border-radius: 0.35em; vertical-align: middle; margin-left: 0.5rem\">name</span>\n",
       "</mark>\n",
       "?</div></span>"
      ],
      "text/plain": [
       "<IPython.core.display.HTML object>"
      ]
     },
     "metadata": {},
     "output_type": "display_data"
    },
    {
     "name": "stdout",
     "output_type": "stream",
     "text": [
      "Can you name the worst fourteen teen movies directed by Igor Stránský? {'entities': [(56, 69, 'name'), (17, 22, 'order'), (27, 31, 'genre'), (44, 52, 'action'), (44, 50, 'action'), (23, 31, 'numerical_entity')]}\n",
      "Missing genre label\n"
     ]
    },
    {
     "data": {
      "text/html": [
       "<span class=\"tex2jax_ignore\"><div class=\"entities\" style=\"line-height: 2.5; direction: ltr\">List the films \n",
       "<mark class=\"entity\" style=\"background: #ddd; padding: 0.45em 0.6em; margin: 0 0.25em; line-height: 1; border-radius: 0.35em;\">\n",
       "    featuring\n",
       "    <span style=\"font-size: 0.8em; font-weight: bold; line-height: 1; border-radius: 0.35em; vertical-align: middle; margin-left: 0.5rem\">action</span>\n",
       "</mark>\n",
       " \n",
       "<mark class=\"entity\" style=\"background: #ddd; padding: 0.45em 0.6em; margin: 0 0.25em; line-height: 1; border-radius: 0.35em;\">\n",
       "    Larry\n",
       "    <span style=\"font-size: 0.8em; font-weight: bold; line-height: 1; border-radius: 0.35em; vertical-align: middle; margin-left: 0.5rem\">name</span>\n",
       "</mark>\n",
       " Black in \n",
       "<mark class=\"entity\" style=\"background: #ddd; padding: 0.45em 0.6em; margin: 0 0.25em; line-height: 1; border-radius: 0.35em;\">\n",
       "    1945\n",
       "    <span style=\"font-size: 0.8em; font-weight: bold; line-height: 1; border-radius: 0.35em; vertical-align: middle; margin-left: 0.5rem\">year</span>\n",
       "</mark>\n",
       "</div></span>"
      ],
      "text/plain": [
       "<IPython.core.display.HTML object>"
      ]
     },
     "metadata": {},
     "output_type": "display_data"
    },
    {
     "name": "stdout",
     "output_type": "stream",
     "text": [
      "List the films featuring Larry Black in 1945 {'entities': [(25, 36, 'name'), (40, 44, 'year'), (15, 24, 'action')]}\n",
      "Missing name label\n"
     ]
    },
    {
     "data": {
      "text/html": [
       "<span class=\"tex2jax_ignore\"><div class=\"entities\" style=\"line-height: 2.5; direction: ltr\">What movies did \n",
       "<mark class=\"entity\" style=\"background: #ddd; padding: 0.45em 0.6em; margin: 0 0.25em; line-height: 1; border-radius: 0.35em;\">\n",
       "    Jo Jin-\n",
       "    <span style=\"font-size: 0.8em; font-weight: bold; line-height: 1; border-radius: 0.35em; vertical-align: middle; margin-left: 0.5rem\">name</span>\n",
       "</mark>\n",
       "kyu \n",
       "<mark class=\"entity\" style=\"background: #ddd; padding: 0.45em 0.6em; margin: 0 0.25em; line-height: 1; border-radius: 0.35em;\">\n",
       "    appear\n",
       "    <span style=\"font-size: 0.8em; font-weight: bold; line-height: 1; border-radius: 0.35em; vertical-align: middle; margin-left: 0.5rem\">action</span>\n",
       "</mark>\n",
       " in in \n",
       "<mark class=\"entity\" style=\"background: #ddd; padding: 0.45em 0.6em; margin: 0 0.25em; line-height: 1; border-radius: 0.35em;\">\n",
       "    1693\n",
       "    <span style=\"font-size: 0.8em; font-weight: bold; line-height: 1; border-radius: 0.35em; vertical-align: middle; margin-left: 0.5rem\">year</span>\n",
       "</mark>\n",
       "?</div></span>"
      ],
      "text/plain": [
       "<IPython.core.display.HTML object>"
      ]
     },
     "metadata": {},
     "output_type": "display_data"
    },
    {
     "name": "stdout",
     "output_type": "stream",
     "text": [
      "What movies did Jo Jin-kyu appear in in 1693? {'entities': [(16, 26, 'name'), (40, 44, 'year'), (27, 33, 'action')]}\n",
      "Missing name label\n",
      "233480 233717\n"
     ]
    }
   ],
   "source": [
    "total=0\n",
    "correct=0\n",
    "for sentence, entities in TRAIN_DATA:\n",
    "    pred = nlp_model(sentence)\n",
    "    for ent in pred.ents:\n",
    "        total+=1\n",
    "        if (ent.start_char, ent.end_char, ent.label_) in entities['entities']:\n",
    "            correct+=1\n",
    "            #print(ent.label_+\" Correctly found\")\n",
    "        else:\n",
    "            spacy.displacy.render(pred, style=\"ent\", jupyter=True)\n",
    "            print(sentence, entities)\n",
    "            print(\"Missing {} label\".format(ent.label_))\n",
    "            \n",
    "print(correct, total)"
   ]
  },
  {
   "cell_type": "code",
   "execution_count": 53,
   "id": "68f85c91",
   "metadata": {},
   "outputs": [
    {
     "data": {
      "text/html": [
       "<span class=\"tex2jax_ignore\"><div class=\"entities\" style=\"line-height: 2.5; direction: ltr\">What is the \n",
       "<mark class=\"entity\" style=\"background: #ddd; padding: 0.45em 0.6em; margin: 0 0.25em; line-height: 1; border-radius: 0.35em;\">\n",
       "    release\n",
       "    <span style=\"font-size: 0.8em; font-weight: bold; line-height: 1; border-radius: 0.35em; vertical-align: middle; margin-left: 0.5rem\">predicate</span>\n",
       "</mark>\n",
       " \n",
       "<mark class=\"entity\" style=\"background: #ddd; padding: 0.45em 0.6em; margin: 0 0.25em; line-height: 1; border-radius: 0.35em;\">\n",
       "    date\n",
       "    <span style=\"font-size: 0.8em; font-weight: bold; line-height: 1; border-radius: 0.35em; vertical-align: middle; margin-left: 0.5rem\">predicate</span>\n",
       "</mark>\n",
       " of \n",
       "<mark class=\"entity\" style=\"background: #ddd; padding: 0.45em 0.6em; margin: 0 0.25em; line-height: 1; border-radius: 0.35em;\">\n",
       "    Batman\n",
       "    <span style=\"font-size: 0.8em; font-weight: bold; line-height: 1; border-radius: 0.35em; vertical-align: middle; margin-left: 0.5rem\">movie</span>\n",
       "</mark>\n",
       "?</div></span>"
      ],
      "text/plain": [
       "<IPython.core.display.HTML object>"
      ]
     },
     "metadata": {},
     "output_type": "display_data"
    }
   ],
   "source": [
    "#nlp1 = spacy.load(r\".\\loss_76\") #load the best model\n",
    "doc = nlp_model(\"What is the release date of Batman?\") # input sample text\n",
    "\n",
    "spacy.displacy.render(doc, style=\"ent\", jupyter=True) # display in Jupyter\n",
    "\n"
   ]
  },
  {
   "cell_type": "code",
   "execution_count": 54,
   "id": "b939748e",
   "metadata": {},
   "outputs": [
    {
     "data": {
      "text/html": [
       "<span class=\"tex2jax_ignore\"><div class=\"entities\" style=\"line-height: 2.5; direction: ltr\">Who is the \n",
       "<mark class=\"entity\" style=\"background: #ddd; padding: 0.45em 0.6em; margin: 0 0.25em; line-height: 1; border-radius: 0.35em;\">\n",
       "    director\n",
       "    <span style=\"font-size: 0.8em; font-weight: bold; line-height: 1; border-radius: 0.35em; vertical-align: middle; margin-left: 0.5rem\">role</span>\n",
       "</mark>\n",
       " of \n",
       "<mark class=\"entity\" style=\"background: #ddd; padding: 0.45em 0.6em; margin: 0 0.25em; line-height: 1; border-radius: 0.35em;\">\n",
       "    Oppenheimer\n",
       "    <span style=\"font-size: 0.8em; font-weight: bold; line-height: 1; border-radius: 0.35em; vertical-align: middle; margin-left: 0.5rem\">movie</span>\n",
       "</mark>\n",
       "?</div></span>"
      ],
      "text/plain": [
       "<IPython.core.display.HTML object>"
      ]
     },
     "metadata": {},
     "output_type": "display_data"
    }
   ],
   "source": [
    "doc = nlp1(\"Who is the director of Oppenheimer?\") # input sample text\n",
    "\n",
    "spacy.displacy.render(doc, style=\"ent\", jupyter=True) # display in Jupyter\n"
   ]
  },
  {
   "cell_type": "code",
   "execution_count": 74,
   "id": "650a8441",
   "metadata": {},
   "outputs": [
    {
     "data": {
      "text/html": [
       "<span class=\"tex2jax_ignore\"><div class=\"entities\" style=\"line-height: 2.5; direction: ltr\">What are the \n",
       "<mark class=\"entity\" style=\"background: #ddd; padding: 0.45em 0.6em; margin: 0 0.25em; line-height: 1; border-radius: 0.35em;\">\n",
       "    best\n",
       "    <span style=\"font-size: 0.8em; font-weight: bold; line-height: 1; border-radius: 0.35em; vertical-align: middle; margin-left: 0.5rem\">order</span>\n",
       "</mark>\n",
       " \n",
       "<mark class=\"entity\" style=\"background: #ddd; padding: 0.45em 0.6em; margin: 0 0.25em; line-height: 1; border-radius: 0.35em;\">\n",
       "    5\n",
       "    <span style=\"font-size: 0.8em; font-weight: bold; line-height: 1; border-radius: 0.35em; vertical-align: middle; margin-left: 0.5rem\">numerical_entity</span>\n",
       "</mark>\n",
       " movies of \n",
       "<mark class=\"entity\" style=\"background: #ddd; padding: 0.45em 0.6em; margin: 0 0.25em; line-height: 1; border-radius: 0.35em;\">\n",
       "    Christopher Nolan\n",
       "    <span style=\"font-size: 0.8em; font-weight: bold; line-height: 1; border-radius: 0.35em; vertical-align: middle; margin-left: 0.5rem\">name</span>\n",
       "</mark>\n",
       "?</div></span>"
      ],
      "text/plain": [
       "<IPython.core.display.HTML object>"
      ]
     },
     "metadata": {},
     "output_type": "display_data"
    }
   ],
   "source": [
    "doc = nlp1(\"What are the best 5 movies of Christopher Nolan?\") # input sample text\n",
    "\n",
    "spacy.displacy.render(doc, style=\"ent\", jupyter=True) # display in Jupyter\n"
   ]
  },
  {
   "cell_type": "code",
   "execution_count": 56,
   "id": "db1b9827",
   "metadata": {},
   "outputs": [
    {
     "data": {
      "text/html": [
       "<span class=\"tex2jax_ignore\"><div class=\"entities\" style=\"line-height: 2.5; direction: ltr\">List the \n",
       "<mark class=\"entity\" style=\"background: #ddd; padding: 0.45em 0.6em; margin: 0 0.25em; line-height: 1; border-radius: 0.35em;\">\n",
       "    top\n",
       "    <span style=\"font-size: 0.8em; font-weight: bold; line-height: 1; border-radius: 0.35em; vertical-align: middle; margin-left: 0.5rem\">order</span>\n",
       "</mark>\n",
       " \n",
       "<mark class=\"entity\" style=\"background: #ddd; padding: 0.45em 0.6em; margin: 0 0.25em; line-height: 1; border-radius: 0.35em;\">\n",
       "    ten\n",
       "    <span style=\"font-size: 0.8em; font-weight: bold; line-height: 1; border-radius: 0.35em; vertical-align: middle; margin-left: 0.5rem\">numerical_entity</span>\n",
       "</mark>\n",
       " \n",
       "<mark class=\"entity\" style=\"background: #ddd; padding: 0.45em 0.6em; margin: 0 0.25em; line-height: 1; border-radius: 0.35em;\">\n",
       "    horror\n",
       "    <span style=\"font-size: 0.8em; font-weight: bold; line-height: 1; border-radius: 0.35em; vertical-align: middle; margin-left: 0.5rem\">genre</span>\n",
       "</mark>\n",
       " movies</div></span>"
      ],
      "text/plain": [
       "<IPython.core.display.HTML object>"
      ]
     },
     "metadata": {},
     "output_type": "display_data"
    }
   ],
   "source": [
    "doc = nlp1(\"List the top ten horror movies\") # input sample text\n",
    "\n",
    "spacy.displacy.render(doc, style=\"ent\", jupyter=True) # display in Jupyter\n"
   ]
  },
  {
   "cell_type": "code",
   "execution_count": 57,
   "id": "b1b2f59a",
   "metadata": {},
   "outputs": [
    {
     "data": {
      "text/html": [
       "<span class=\"tex2jax_ignore\"><div class=\"entities\" style=\"line-height: 2.5; direction: ltr\">Which is the \n",
       "<mark class=\"entity\" style=\"background: #ddd; padding: 0.45em 0.6em; margin: 0 0.25em; line-height: 1; border-radius: 0.35em;\">\n",
       "    best\n",
       "    <span style=\"font-size: 0.8em; font-weight: bold; line-height: 1; border-radius: 0.35em; vertical-align: middle; margin-left: 0.5rem\">order</span>\n",
       "</mark>\n",
       " \n",
       "<mark class=\"entity\" style=\"background: #ddd; padding: 0.45em 0.6em; margin: 0 0.25em; line-height: 1; border-radius: 0.35em;\">\n",
       "    rated\n",
       "    <span style=\"font-size: 0.8em; font-weight: bold; line-height: 1; border-radius: 0.35em; vertical-align: middle; margin-left: 0.5rem\">predicate</span>\n",
       "</mark>\n",
       " \n",
       "<mark class=\"entity\" style=\"background: #ddd; padding: 0.45em 0.6em; margin: 0 0.25em; line-height: 1; border-radius: 0.35em;\">\n",
       "    horror\n",
       "    <span style=\"font-size: 0.8em; font-weight: bold; line-height: 1; border-radius: 0.35em; vertical-align: middle; margin-left: 0.5rem\">genre</span>\n",
       "</mark>\n",
       " movie?</div></span>"
      ],
      "text/plain": [
       "<IPython.core.display.HTML object>"
      ]
     },
     "metadata": {},
     "output_type": "display_data"
    }
   ],
   "source": [
    "doc = nlp1(\"Which is the best rated horror movie?\") # input sample text\n",
    "\n",
    "spacy.displacy.render(doc, style=\"ent\", jupyter=True) # display in Jupyter\n"
   ]
  },
  {
   "cell_type": "code",
   "execution_count": 100,
   "id": "bdacd538",
   "metadata": {},
   "outputs": [
    {
     "data": {
      "text/html": [
       "<span class=\"tex2jax_ignore\"><div class=\"entities\" style=\"line-height: 2.5; direction: ltr\">Who is the \n",
       "<mark class=\"entity\" style=\"background: #ddd; padding: 0.45em 0.6em; margin: 0 0.25em; line-height: 1; border-radius: 0.35em;\">\n",
       "    screenwriter\n",
       "    <span style=\"font-size: 0.8em; font-weight: bold; line-height: 1; border-radius: 0.35em; vertical-align: middle; margin-left: 0.5rem\">role</span>\n",
       "</mark>\n",
       " of \n",
       "<mark class=\"entity\" style=\"background: #ddd; padding: 0.45em 0.6em; margin: 0 0.25em; line-height: 1; border-radius: 0.35em;\">\n",
       "    The Masked Gang: Cyprus\n",
       "    <span style=\"font-size: 0.8em; font-weight: bold; line-height: 1; border-radius: 0.35em; vertical-align: middle; margin-left: 0.5rem\">movie</span>\n",
       "</mark>\n",
       "?</div></span>"
      ],
      "text/plain": [
       "<IPython.core.display.HTML object>"
      ]
     },
     "metadata": {},
     "output_type": "display_data"
    }
   ],
   "source": [
    "doc = nlp1(\"Who is the screenwriter of The Masked Gang: Cyprus?\") # input sample text\n",
    "\n",
    "spacy.displacy.render(doc, style=\"ent\", jupyter=True) # display in Jupyter\n"
   ]
  },
  {
   "cell_type": "code",
   "execution_count": 85,
   "id": "d493e86f",
   "metadata": {},
   "outputs": [
    {
     "name": "stdout",
     "output_type": "stream",
     "text": [
      "year 30 34\n"
     ]
    }
   ],
   "source": [
    "for ent in doc.ents:\n",
    "    print(ent.label_, ent.start_char, ent.end_char)\n"
   ]
  },
  {
   "cell_type": "code",
   "execution_count": null,
   "id": "165fdff6",
   "metadata": {},
   "outputs": [],
   "source": []
  }
 ],
 "metadata": {
  "kernelspec": {
   "display_name": "Python 3 (ipykernel)",
   "language": "python",
   "name": "python3"
  },
  "language_info": {
   "codemirror_mode": {
    "name": "ipython",
    "version": 3
   },
   "file_extension": ".py",
   "mimetype": "text/x-python",
   "name": "python",
   "nbconvert_exporter": "python",
   "pygments_lexer": "ipython3",
   "version": "3.10.13"
  }
 },
 "nbformat": 4,
 "nbformat_minor": 5
}
