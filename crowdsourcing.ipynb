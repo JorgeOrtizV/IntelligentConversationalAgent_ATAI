{
 "cells": [
  {
   "cell_type": "code",
   "execution_count": 1,
   "id": "73c81804",
   "metadata": {},
   "outputs": [],
   "source": [
    "import spacy\n",
    "from spacy import displacy\n",
    "\n",
    "nlp = spacy.load(\"en_core_web_sm\")"
   ]
  },
  {
   "cell_type": "code",
   "execution_count": 2,
   "id": "19e1d89d",
   "metadata": {},
   "outputs": [],
   "source": [
    "from rdflib.namespace import Namespace, RDF, RDFS, XSD\n",
    "from rdflib.term import URIRef, Literal\n",
    "import csv\n",
    "import json\n",
    "import networkx as nx\n",
    "import pandas as pd\n",
    "import rdflib\n",
    "from collections import defaultdict, Counter\n",
    "import locale"
   ]
  },
  {
   "cell_type": "code",
   "execution_count": 3,
   "id": "c55f54d4",
   "metadata": {},
   "outputs": [
    {
     "data": {
      "text/plain": [
       "<Graph identifier=Nd66e857ff2b74b51bc925581fea186c2 (<class 'rdflib.graph.Graph'>)>"
      ]
     },
     "execution_count": 3,
     "metadata": {},
     "output_type": "execute_result"
    }
   ],
   "source": [
    "graph = rdflib.Graph()\n",
    "graph.parse('data/14_graph.nt', format='turtle')"
   ]
  },
  {
   "cell_type": "code",
   "execution_count": 4,
   "id": "b8cdcafa",
   "metadata": {},
   "outputs": [],
   "source": [
    "# prefixes used in the graph\n",
    "WD = Namespace('http://www.wikidata.org/entity/')\n",
    "WDT = Namespace('http://www.wikidata.org/prop/direct/')\n",
    "SCHEMA = Namespace('http://schema.org/')\n",
    "DDIS = Namespace('http://ddis.ch/atai/')"
   ]
  },
  {
   "cell_type": "code",
   "execution_count": 20,
   "id": "a1c27b27",
   "metadata": {},
   "outputs": [],
   "source": [
    "# Read crowd data\n",
    "crowd_df = pd.read_pickle(\"./data/crowd_data_preprocessed.pkl\")\n",
    "crowd_df"
   ]
  },
  {
   "cell_type": "code",
   "execution_count": 15,
   "id": "64c33db8",
   "metadata": {},
   "outputs": [],
   "source": [
    "with open('./data/entity_ids.del', 'r') as ifile:\n",
    "    ent2id = {rdflib.term.URIRef(ent): int(idx) for idx, ent in csv.reader(ifile, delimiter='\\t')}\n",
    "    id2ent = {v: k for k, v in ent2id.items()}\n",
    "with open('./data/relation_ids.del', 'r') as ifile:\n",
    "    rel2id = {rdflib.term.URIRef(rel): int(idx) for idx, rel in csv.reader(ifile, delimiter='\\t')}\n",
    "    id2rel = {v: k for k, v in rel2id.items()}\n",
    "    \n",
    "ent2lbl = {str(ent): str(lbl) for ent, lbl in graph.subject_objects(RDFS.label)}\n",
    "lbl2ent = {lbl: ent for ent, lbl in ent2lbl.items()}"
   ]
  },
  {
   "cell_type": "code",
   "execution_count": 34,
   "id": "c9dde589",
   "metadata": {},
   "outputs": [
    {
     "data": {
      "text/plain": [
       "100157"
      ]
     },
     "execution_count": 34,
     "metadata": {},
     "output_type": "execute_result"
    }
   ],
   "source": [
    "people_list = {str(uri):str(s) for uri,s in graph.query('''\n",
    "PREFIX ddis: <http://ddis.ch/atai/>\n",
    "PREFIX wd: <http://www.wikidata.org/entity/>\n",
    "PREFIX wdt: <http://www.wikidata.org/prop/direct/>\n",
    "PREFIX schema: <http://schema.org/>\n",
    "SELECT ?person ?lbl WHERE {\n",
    "?person wdt:P31 wd:Q5 .\n",
    "?person rdfs:label ?lbl .\n",
    "}\n",
    "''')}\n",
    "\n",
    "len(people_list)"
   ]
  },
  {
   "cell_type": "code",
   "execution_count": 35,
   "id": "86655bd8",
   "metadata": {},
   "outputs": [
    {
     "data": {
      "text/plain": [
       "24384"
      ]
     },
     "execution_count": 35,
     "metadata": {},
     "output_type": "execute_result"
    }
   ],
   "source": [
    "movie_list = {str(uri):str(s) for uri,s in graph.query('''\n",
    "PREFIX ddis: <http://ddis.ch/atai/>\n",
    "PREFIX wd: <http://www.wikidata.org/entity/>\n",
    "PREFIX wdt: <http://www.wikidata.org/prop/direct/>\n",
    "PREFIX schema: <http://schema.org/>\n",
    "SELECT ?movie ?lbl WHERE {\n",
    "?movie wdt:P31 wd:Q11424 .\n",
    "?movie rdfs:label ?lbl .\n",
    "}\n",
    "''')}\n",
    "\n",
    "len(movie_list)"
   ]
  },
  {
   "cell_type": "code",
   "execution_count": 23,
   "id": "5b5c078f",
   "metadata": {},
   "outputs": [],
   "source": [
    "prefixes_dict={\n",
    "    'wd' : 'http://www.wikidata.org/entity/',\n",
    "    'wdt' : 'http://www.wikidata.org/prop/direct/',\n",
    "    'schema' : 'http://schema.org/',\n",
    "    'ddis' : 'http://ddis.ch/atai/',\n",
    "}"
   ]
  },
  {
   "cell_type": "code",
   "execution_count": 27,
   "id": "7239eb37",
   "metadata": {},
   "outputs": [
    {
     "name": "stdout",
     "output_type": "stream",
     "text": [
      "Peaceful Warrior - box office - 4300000\n",
      "God Help the Girl - publication date - 2014-01-18\n",
      "Finding Nemo - box office - 969023261\n",
      "The Browning Version - publication date - 1951-01-01\n",
      "The Party's Just Beginning - publication date - 2018-02-24\n",
      "The Princess and the Frog - box office - 267000000\n",
      "The Twilight Saga: Eclipse - box office - 698491347\n",
      "The Candidate - publication date - 2008-08-29\n",
      "Nightjohn - publication date - 1996-06-01\n",
      "station building - ddis:indirectSubclassOf - geographic entity\n",
      "film organization - ddis:indirectSubclassOf - organization\n",
      "fictional princess - ddis:indirectSubclassOf - fictional character\n",
      "comics - ddis:indirectSubclassOf - written work\n",
      "children's book - ddis:indirectSubclassOf - written work\n",
      "literary pentalogy - ddis:indirectSubclassOf - series of creative works\n",
      "supervillain team - ddis:indirectSubclassOf - fictional character\n",
      "film organization - ddis:indirectSubclassOf - organization\n",
      "neighbourhood of Helsinki - ddis:indirectSubclassOf - geographic entity\n",
      "disputed territory - ddis:indirectSubclassOf - geographic entity\n",
      "Silver Bear - ddis:indirectSubclassOf - award\n",
      "Kaboom - publication date - 2010-10-01\n",
      "Like Crazy - publication date - 2001-01-01\n",
      "In the Line of Fire - box office - 176997186\n",
      "Scent of a Woman - publication date - 1982-01-01\n",
      "Tom Meets Zizou - publication date - 2010-10-01\n",
      "Guardians of the Galaxy Vol. 2 - box office - 863756050\n",
      "Kung Fu Panda 3 - box office - 511200000\n",
      "Magic Carpet Ride - cast member - Arthur Dupont\n",
      "Sex, Death and Bowling - publication date - 2015-01-05\n",
      "RoboCop 3 - box office - 10696220\n",
      "Behind the Candelabra - cast member - William Hurt\n",
      "The Girl in the Spider's Web - publication date - 2015-06-27\n",
      "Martial Arts of Shaolin - cast member - Peter Breitmayer\n",
      "Gandhi - country of origin - United States of America\n",
      "wd:Q28974159 - distributed by - Netflix\n",
      "The Adventures of Tom Sawyer - genre - novel\n",
      "Bloody Mama - cast member - Frederick Worlock\n",
      "Being with Juli Ashton - wdt:.P344 - Rasmus Heise\n",
      "Lillian Lehman - genre - actor\n",
      "Conan the Barbarian - voice actor - Rose McGowan\n",
      "Les Misérables - main subject - Claude Lelouch\n",
      "Eskimo - production designer - John Lee Mahin\n",
      "A Happy Event - cast member - Theis Schmidt\n",
      "Free Willy 3: The Rescue - screenwriter - Ángel de Andrés Miquel\n",
      "Iron Man 3 - JMK film rating - free from 8 years\n",
      "Top Gun: Maverick - film crew member - Ashley Miller\n",
      "Normal - original language of film or TV show - English\n",
      "Delta Farce - wdt:P520 - PG\n",
      "Medea - distributed by - FandangoNow\n",
      "The Hell of '63 - cast member - Giuseppe Rinaldi\n",
      "Naruto the Movie: Guardians of the Crescent Moon Kingdom - art director - Tomomichi Nishimura\n",
      "Masaichi Nagata - allegiance - Japan\n",
      "Günter Grass - place of burial - Gdańsk\n",
      "Mandarin Chinese - location - Malaysia\n",
      "Miranda Frigon - place of death - Edmonton\n",
      "X-Men: First Class - executive producer - Sheryl Lee Ralph\n",
      "A Night at the Opera - cast member - Jude Law\n",
      "Mulan - production company - WTFN\n",
      "Cho Geun-hyeon - country of citizenship - Angola\n",
      "Nat Pendleton - languages spoken, written or signed - Mirandese\n",
      "Nat Pendleton - languages spoken, written or signed - Mirandese\n"
     ]
    }
   ],
   "source": [
    "predicates_set = dict()\n",
    "entities_set = dict()\n",
    "\n",
    "for idx, row in crowd_df.iterrows():\n",
    "    h=row['Input1ID']\n",
    "    r=row['Input2ID']\n",
    "    t=row['Input3ID']\n",
    "    h_word = ''\n",
    "    r_word = ''\n",
    "    t_word = ''\n",
    "    try:\n",
    "        prefix, ent = h.split(':')\n",
    "        h_word = ent2lbl[prefixes_dict[prefix]+ent]\n",
    "    except:\n",
    "        h_word=h\n",
    "    try:\n",
    "        prefix, ent = r.split(':')\n",
    "        r_word = ent2lbl[prefixes_dict[prefix]+ent]\n",
    "    except:\n",
    "        r_word=r\n",
    "    try:\n",
    "        prefix, ent = t.split(':')\n",
    "        t_word = ent2lbl[prefixes_dict[prefix]+ent]\n",
    "    except:\n",
    "        t_word=t\n",
    "    entities_set[h] = h_word\n",
    "    entities_set[t] = t_word\n",
    "    predicates_set[r] = r_word\n",
    "    \n",
    "    print(h_word + ' - ' + r_word + ' - ' + t_word)\n",
    "        "
   ]
  },
  {
   "cell_type": "code",
   "execution_count": 28,
   "id": "d6716e41",
   "metadata": {},
   "outputs": [
    {
     "data": {
      "text/plain": [
       "{'wdt:P2142': 'box office',\n",
       " 'wdt:P577': 'publication date',\n",
       " 'ddis:indirectSubclassOf': 'ddis:indirectSubclassOf',\n",
       " 'wdt:P161': 'cast member',\n",
       " 'wdt:P495': 'country of origin',\n",
       " 'wdt:P750': 'distributed by',\n",
       " 'wdt:P136': 'genre',\n",
       " 'wdt:.P344': 'wdt:.P344',\n",
       " 'wdt:P725': 'voice actor',\n",
       " 'wdt:P921': 'main subject',\n",
       " 'wdt:P2554': 'production designer',\n",
       " 'wdt:P58': 'screenwriter',\n",
       " 'wdt:P3650': 'JMK film rating',\n",
       " 'wdt:P3092': 'film crew member',\n",
       " 'wdt:P364': 'original language of film or TV show',\n",
       " 'wdt:P520': 'wdt:P520',\n",
       " 'wdt:P3174': 'art director',\n",
       " 'wdt:P945': 'allegiance',\n",
       " 'wdt:P119': 'place of burial',\n",
       " 'wdt:P276': 'location',\n",
       " 'wdt:P20': 'place of death',\n",
       " 'wdt:P1431': 'executive producer',\n",
       " 'wdt:P272': 'production company',\n",
       " 'wdt:P27': 'country of citizenship',\n",
       " 'wdt:P1412': 'languages spoken, written or signed'}"
      ]
     },
     "execution_count": 28,
     "metadata": {},
     "output_type": "execute_result"
    }
   ],
   "source": [
    "predicates_set"
   ]
  },
  {
   "cell_type": "code",
   "execution_count": 33,
   "id": "6393254c",
   "metadata": {},
   "outputs": [],
   "source": [
    "'''MISING:\n",
    "box office\n",
    "'''\n",
    "\n",
    "# Extra cases\n",
    "# 1. Role\n",
    "# 2. Genre\n",
    "\n",
    "predicates_dict = {\n",
    "    'publication date' : 'wdt:P577',\n",
    "    'release date' : 'wdt:P577',\n",
    "    'published' : 'wdt:P577',\n",
    "    'released' : 'wdt:P577',\n",
    "    'release' : 'wdt:P577',\n",
    "    'when' : 'wdt:P577',\n",
    "    'date' : 'wdt:P577',\n",
    "    'year' : 'wdt:P577',\n",
    "    \n",
    "    \n",
    "    # Subclass questions\n",
    "    # 'is a' : 'ddis:indirectSubclassOf',\n",
    "    # 'subclass' : 'ddis:indirectSubclassOf',\n",
    "    # 'category' : 'ddis:indirectSubclassOf',\n",
    "    \n",
    "    # Country of origin\n",
    "    'birthplace' : 'wdt:P495',\n",
    "    'country of origin' : 'wdt:P495',\n",
    "    'place of birth' : 'wdt:P495',\n",
    "    'nationality' : 'wdt:P495',\n",
    "    \n",
    "    # Extra roles\n",
    "    'main subject' : 'wdt:P921',\n",
    "    'main character' : 'wdt:P921',\n",
    "    'principal actor' : 'wdt:P921',\n",
    "    'protagoinst': 'wdt:P921',\n",
    "    'lead character': 'wdt:P921',\n",
    "    'figure': 'wdt:P921',\n",
    "    'production designer' : 'wdt:P2554',\n",
    "    'executive producer' : 'wdt:P1431',\n",
    "    \n",
    "    # Specific ratings:\n",
    "    'JMK' : 'wdt:P3650',\n",
    "    'MPA' : 'wdt:P1657',\n",
    "    'ICAA' : 'wdt:P3306',\n",
    "    'FSK' : 'wdt:P1981',\n",
    "    \n",
    "    'original language' : 'wdt:P364',\n",
    "    'language of origin' : 'wdt:P364',\n",
    "    \n",
    "    # Distribution\n",
    "    'distributed' : 'wdt:P750',\n",
    "    'distribution' : 'wdt:P750',\n",
    "    'distributing' : 'wdt:P750',\n",
    "    'distributor' : 'wdt:P750'\n",
    "    \n",
    "    'box office' : 'wdt:P2142',\n",
    "    \n",
    "    # Alliegance\n",
    "    'allegiance' : 'wdt:P945',\n",
    "    'fidelity' : 'wdt:P945',\n",
    "    'loyalty': 'wdt:P945',\n",
    "    'supporter': 'wdt:P945',\n",
    "    'ally': 'wdt:P945',\n",
    "    'allies': 'wdt:P945',\n",
    "    'loyal to': 'wdt:P945',\n",
    "    \n",
    "    # Burial\n",
    "    'place of burial' : 'wdt:P119',\n",
    "    'buried' : 'wdt:P119',\n",
    "    'burial location': 'wdt:P119',\n",
    "    'burial site': 'wdt:P119',\n",
    "    \n",
    "    # Location\n",
    "    'location' : 'wdt:P276',\n",
    "    'located' : 'wdt:P276',\n",
    "    \n",
    "    # Place of death\n",
    "    'place of death' : 'wdt:P20',\n",
    "    'death' : 'wdt:P20',\n",
    "    'died' : 'wdt:P20',\n",
    "    \n",
    "    # Production company\n",
    "    'production company' : 'wdt:P272',\n",
    "    'produced' : 'wdt:P272',\n",
    "    \n",
    "    # Country of citizenship\n",
    "    'country of citizenship' : 'wdt:P27',\n",
    "    'citizen' : 'wdt:P27',\n",
    "    'citizenship' : 'wdt:P27',\n",
    "    \n",
    "    # Languages spoken written or signed\n",
    "    'languages spoken' : 'wdt:P1412',\n",
    "    'languages written' : 'wdt:P1412',\n",
    "    'languages signed' : 'wdt:P1412',\n",
    "    'languages spoken written or signed' : 'wdt:P1412',\n",
    "    'speak': 'wdt:P1412',\n",
    "    'spoken': 'wdt:P1412',\n",
    "    'speaking' : 'wdt:P1412',\n",
    "    'speaks' : 'wdt:P1412',\n",
    "    'write': 'wdt:P1412',\n",
    "    'writing' : 'wdt:P1412',\n",
    "    'written': 'wdt:P1412',    \n",
    "}\n",
    "\n",
    "robusting_predicates = {\n",
    "    \"Recommend\" : None,\n",
    "    \"visual\" : None,\n",
    "    \"picture\": None,\n",
    "    \"image\": None,\n",
    "    \"photo\": None\n",
    "}\n",
    "\n",
    "# is_a_member = {\n",
    "#     station building\n",
    "#     geographic entity\n",
    "#     film organization\n",
    "#     organization\n",
    "#     fictional princess\n",
    "#     fictional character\n",
    "#     comics\n",
    "#     written work\n",
    "#     children's book\n",
    "#     written work\n",
    "#     literary pentalogy\n",
    "#     series of creative works\n",
    "#     supervillain team\n",
    "#     fictional character\n",
    "#     film organization\n",
    "#     organization\n",
    "#     neighbourhood of Helsinki\n",
    "#     geographic entity\n",
    "#     disputed territory\n",
    "#     geographic entity\n",
    "#     Silver Bear\n",
    "#     award\n",
    "# }"
   ]
  },
  {
   "cell_type": "code",
   "execution_count": 108,
   "id": "9e893d40",
   "metadata": {},
   "outputs": [
    {
     "name": "stdout",
     "output_type": "stream",
     "text": [
      "{'publication date': 'http://www.wikidata.org/prop/direct/P577', 'release': 'http://www.wikidata.org/prop/direct/P577', 'when': 'http://www.wikidata.org/prop/direct/P577', 'date': 'http://www.wikidata.org/prop/direct/P577', 'year': 'http://www.wikidata.org/prop/direct/P577', 'is a': 'http://ddis.ch/atai/indirectSubclassOf', 'subclass': 'http://ddis.ch/atai/indirectSubclassOf', 'category': 'http://ddis.ch/atai/indirectSubclassOf', 'birthplace': 'http://www.wikidata.org/prop/direct/P495', 'country of origin': 'http://www.wikidata.org/prop/direct/P495', 'place of birth': 'http://www.wikidata.org/prop/direct/P495', 'nationality': 'http://www.wikidata.org/prop/direct/P495', 'main subject': 'http://www.wikidata.org/prop/direct/P921', 'main character': 'http://www.wikidata.org/prop/direct/P921', 'principal actor': 'http://www.wikidata.org/prop/direct/P921', 'protagoinst': 'http://www.wikidata.org/prop/direct/P921', 'lead character': 'http://www.wikidata.org/prop/direct/P921', 'figure': 'http://www.wikidata.org/prop/direct/P921', 'production designer': 'http://www.wikidata.org/prop/direct/P2554', 'executive producer': 'http://www.wikidata.org/prop/direct/P1431', 'JMK': 'http://www.wikidata.org/prop/direct/P3650', 'JMK film rating': 'http://www.wikidata.org/prop/direct/P3650', 'MPA': 'http://www.wikidata.org/prop/direct/P1657', 'ICAA': 'http://www.wikidata.org/prop/direct/P3306', 'FSK': 'http://www.wikidata.org/prop/direct/P1981', 'original language': 'http://www.wikidata.org/prop/direct/P364', 'original language of': 'http://www.wikidata.org/prop/direct/P364', 'distributed by': 'http://www.wikidata.org/prop/direct/P750', 'box office': 'http://www.wikidata.org/prop/direct/P2142', 'allegiance': 'http://www.wikidata.org/prop/direct/P945', 'fidelity': 'http://www.wikidata.org/prop/direct/P945', 'loyalty': 'http://www.wikidata.org/prop/direct/P945', 'supporter of': 'http://www.wikidata.org/prop/direct/P945', 'ally of': 'http://www.wikidata.org/prop/direct/P945', 'loyal to': 'http://www.wikidata.org/prop/direct/P945', 'place of burial': 'http://www.wikidata.org/prop/direct/P119', 'buried': 'http://www.wikidata.org/prop/direct/P119', 'location': 'http://www.wikidata.org/prop/direct/P276', 'located': 'http://www.wikidata.org/prop/direct/P276', 'place of death': 'http://www.wikidata.org/prop/direct/P20', 'died': 'http://www.wikidata.org/prop/direct/P20', 'production company': 'http://www.wikidata.org/prop/direct/P272', 'company': 'http://www.wikidata.org/prop/direct/P272', 'produced': 'http://www.wikidata.org/prop/direct/P272', 'country of citizenship': 'http://www.wikidata.org/prop/direct/P27', 'citizen': 'http://www.wikidata.org/prop/direct/P27', 'citizenship': 'http://www.wikidata.org/prop/direct/P27', 'languages spoken': 'http://www.wikidata.org/prop/direct/P1412', 'languages written': 'http://www.wikidata.org/prop/direct/P1412', 'languages signed': 'http://www.wikidata.org/prop/direct/P1412', 'languages spoken written or signed': 'http://www.wikidata.org/prop/direct/P1412', 'speak': 'http://www.wikidata.org/prop/direct/P1412', 'spoken': 'http://www.wikidata.org/prop/direct/P1412', 'write': 'http://www.wikidata.org/prop/direct/P1412', 'written': 'http://www.wikidata.org/prop/direct/P1412'}\n"
     ]
    }
   ],
   "source": [
    "full_uri_dict = {}\n",
    "for k,v in predicates_dict.items():\n",
    "    prefix, i = v.split(':')\n",
    "    full_uri_dict[k] = prefixes_dict[prefix]+i\n",
    "print(full_uri_dict)"
   ]
  },
  {
   "cell_type": "code",
   "execution_count": 57,
   "id": "9c349cb8",
   "metadata": {},
   "outputs": [
    {
     "data": {
      "text/plain": [
       "374"
      ]
     },
     "execution_count": 57,
     "metadata": {},
     "output_type": "execute_result"
    }
   ],
   "source": [
    "sentence_list_0 = [ # retrieve release date\n",
    "    \"Could you let me know the release date for <movie_name>?\",\n",
    "    \"Could you tell me when <movie_name> was first shown?\",\n",
    "    \"Give me the release date for <movie_name>\",\n",
    "    \"I'd like to know the release date of the movie <movie_name>\",\n",
    "    \"Please provide the release year for <movie_name>\",\n",
    "    \"Tell me the release date of <movie_name>\",\n",
    "    \"What's the date of release for <movie_name>?\",\n",
    "    \"What's the release year of the movie <movie_name>?\",\n",
    "    \"What's the launch date of <movie_name>?\",\n",
    "    \"What's the debut date for <movie_name>?\",\n",
    "    \"What is the release year of <movie_name>?\",\n",
    "    \"When did <movie_name> come out?\",\n",
    "    \"When did <movie_name> hit the theaters?\",\n",
    "    \"When was <movie_name> released?\",\n",
    "    \"When was <movie_name> launched?\",\n",
    "    \"When was the movie <movie_name> released?\",\n",
    "    \"When did <movie_name> first appear in cinemas?\",\n",
    "    \"What is the publication date of <movie_name>\",\n",
    "    \"Do you know the publication date of <movie_name>\",\n",
    "    \"When was <movie_name> published?\"\n",
    "]\n",
    "\n",
    "time_rel = {\n",
    "    'publication date' : 'wdt:P577',\n",
    "    'release date' : 'wdt:P577',\n",
    "    'launch date' : 'wdt:P577',\n",
    "    'published' : 'wdt:P577',\n",
    "    'released' : 'wdt:P577',\n",
    "    'launched' : 'wdt:P577',\n",
    "    'when' : 'wdt:P577',\n",
    "    'year' : 'wdt:P577',\n",
    "}\n",
    "\n",
    "i = 0\n",
    "movies = list(movie_list.values())\n",
    "res_s1 = []\n",
    "for movie in movies:\n",
    "    i+=1\n",
    "    if(i==500):\n",
    "        break\n",
    "        \n",
    "    sentence = sentence_list_0[i%len(sentence_list_0)]\n",
    "    \n",
    "    sentence = sentence.replace(\"<movie_name>\",movie)\n",
    "\n",
    "    ents = []\n",
    "    for predicate in list(time_rel.keys()):\n",
    "        if predicate in sentence:\n",
    "            ents.append((sentence.find(predicate),sentence.find(predicate) + len(predicate), \"relation\"))\n",
    "\n",
    "\n",
    "    entities = []\n",
    "    for ent in ents:\n",
    "        if(ent[0]!=-1):\n",
    "            entities.append(ent)\n",
    "    if len(entities) == 0:\n",
    "        continue\n",
    "    res_s1.append((sentence,{\"entities\":entities}))\n",
    "    \n",
    "\n",
    "\n",
    "\n",
    "len(res_s1)"
   ]
  },
  {
   "cell_type": "code",
   "execution_count": 55,
   "id": "2ee9098d",
   "metadata": {},
   "outputs": [
    {
     "data": {
      "text/plain": [
       "199"
      ]
     },
     "execution_count": 55,
     "metadata": {},
     "output_type": "execute_result"
    }
   ],
   "source": [
    "sentence_list_1 = [ # retrieve release date\n",
    "    \"What is the birthplace of <name>?\",\n",
    "    \"Where was <name> born?\",\n",
    "    \"Which is the country of origin of <name>?\",\n",
    "    \"What is the nationality of <name>?\",\n",
    "    \"What is the place of birth of <name>?\",\n",
    "    \"In which city or town was <name> born?\",\n",
    "    \"Tell me about the birthplace of <name>.\",\n",
    "    \n",
    "]\n",
    "\n",
    "origin_rel = {\n",
    "    'birthplace' : 'wdt:P495',\n",
    "    'country of origin' : 'wdt:P495',\n",
    "    'place of birth' : 'wdt:P495',\n",
    "    'nationality' : 'wdt:P495',\n",
    "    'born': 'wdt:P495'\n",
    "}\n",
    "\n",
    "i = 0\n",
    "names = list(people_list.values())\n",
    "res_s2 = []\n",
    "for name in names:\n",
    "    i+=1\n",
    "    if(i==200):\n",
    "        break\n",
    "        \n",
    "    sentence = sentence_list_1[i%len(sentence_list_1)]\n",
    "    \n",
    "    sentence = sentence.replace(\"<name>\",name)\n",
    "\n",
    "    ents = []\n",
    "    for predicate in list(origin_rel.keys()):\n",
    "        if predicate in sentence:\n",
    "            ents.append((sentence.find(predicate),sentence.find(predicate) + len(predicate), \"relation\"))\n",
    "\n",
    "\n",
    "    entities = []\n",
    "    for ent in ents:\n",
    "        if(ent[0]!=-1):\n",
    "            entities.append(ent)\n",
    "    if len(entities) == 0:\n",
    "        continue\n",
    "    res_s2.append((sentence,{\"entities\":entities}))\n",
    "    \n",
    "\n",
    "\n",
    "\n",
    "len(res_s2)"
   ]
  },
  {
   "cell_type": "code",
   "execution_count": 60,
   "id": "5a1035ea",
   "metadata": {},
   "outputs": [
    {
     "data": {
      "text/plain": [
       "283"
      ]
     },
     "execution_count": 60,
     "metadata": {},
     "output_type": "execute_result"
    }
   ],
   "source": [
    "sentence_list_3 = [ # retrieve release date\n",
    "    \"Give me the <role> of <movie_name>\",\n",
    "    \"Give me the name of the <role> of <movie_name>\",\n",
    "    \"I'd like to know the <role>'s name for <movie_name>\",\n",
    "    \"I'm curious about the person who <directed/wrote> <movie_name>\",\n",
    "    \"Identify the <role> of <movie_name>\",\n",
    "    \"Tell me the <role> behind <movie_name>\",\n",
    "    \"Tell me the <role> for <movie_name>\",\n",
    "    \"Tell me the <role> of <movie_name>\",\n",
    "    \"What is the <role>'s name for the movie <movie_name>?\",\n",
    "    \"Who <role> in <movie_name>?\",\n",
    "    \"Who <directed/wrote> <movie_name>?\",\n",
    "    \"Who <directed/wrote> the movie <movie_name>?\",\n",
    "    \"Who is the <role> of <movie_name>?\",\n",
    "    \"Who is the <role> of the film <movie_name>?\",\n",
    "    \"Who oversaw the making of <movie_name>\",\n",
    "    \"Who was in charge of directing <movie_name>?\",\n",
    "    \"Who was the <role> of <movie_name>\"\n",
    "    \n",
    "]\n",
    "\n",
    "origin_rel = {\n",
    "    'main subject' : 'wdt:P921',\n",
    "    'main character' : 'wdt:P921',\n",
    "    'principal actor' : 'wdt:P921',\n",
    "    'protagoinst': 'wdt:P921',\n",
    "    'lead character': 'wdt:P921',\n",
    "    'figure': 'wdt:P921',\n",
    "    'production designer' : 'wdt:P2554',\n",
    "    'executive producer' : 'wdt:P1431',\n",
    "}\n",
    "\n",
    "i = 0\n",
    "roles = list(origin_rel.keys())\n",
    "movies = list(movie_list.values())\n",
    "res_s3 = []\n",
    "for movie in movies:\n",
    "    i+=1\n",
    "    if(i==400):\n",
    "        break\n",
    "    \n",
    "    sentence = sentence_list_3[i%len(sentence_list_3)]\n",
    "    role = roles[i%len(roles)]\n",
    "    \n",
    "    sentence = sentence.replace(\"<movie_name>\",movie).replace(\"<role>\",role)\n",
    "\n",
    "    ents = []\n",
    "    ents.append((sentence.find(role),sentence.find(role) + len(role), \"relation\"))\n",
    "\n",
    "\n",
    "    entities = []\n",
    "    for ent in ents:\n",
    "        if(ent[0]!=-1):\n",
    "            entities.append(ent)\n",
    "    if len(entities) == 0:\n",
    "        continue\n",
    "    res_s3.append((sentence,{\"entities\":entities}))\n",
    "    \n",
    "\n",
    "\n",
    "\n",
    "len(res_s3)"
   ]
  },
  {
   "cell_type": "code",
   "execution_count": 64,
   "id": "dab58e09",
   "metadata": {},
   "outputs": [
    {
     "data": {
      "text/plain": [
       "399"
      ]
     },
     "execution_count": 64,
     "metadata": {},
     "output_type": "execute_result"
    }
   ],
   "source": [
    "sentence_list_4 = [ # retrieve release date\n",
    "    \"What is the <rating> rating assigned to <movie>?\",\n",
    "    \"Could you tell me the film rating given to <movie> by the <rating>?\",\n",
    "    \"In terms of <rating> classification, what rating does <movie> hold?\",\n",
    "    \"What <rating> film rating has been designated for <movie>?\",\n",
    "    \"How has the <rating> rated the film <movie>?\",\n",
    "    \"Tell me about the <rating> rating for <movie>.\",\n",
    "    \"What classification has the <rating> given to <movie>?\",\n",
    "    \"Can you inform me of the <rating> rating for the movie titled <movie>?\",\n",
    "    \"In the context of <rating>, how is <movie> rated?\",\n",
    "    \"What <rating> film classification does <movie> carry?\",\n",
    "    \"What is the <rating> film rating of <movie>?\"\n",
    "    \n",
    "]\n",
    "\n",
    "rating_rel = {\n",
    "    'JMK' : 'wdt:P3650',\n",
    "    'MPA' : 'wdt:P1657',\n",
    "    'ICAA' : 'wdt:P3306',\n",
    "    'FSK' : 'wdt:P1981',\n",
    "}\n",
    "\n",
    "i = 0\n",
    "ratings = list(rating_rel.keys())\n",
    "movies = list(movie_list.values())\n",
    "res_s4 = []\n",
    "for movie in movies:\n",
    "    i+=1\n",
    "    if(i==400):\n",
    "        break\n",
    "    \n",
    "    sentence = sentence_list_4[i%len(sentence_list_4)]\n",
    "    rating = ratings[i%len(ratings)]\n",
    "    \n",
    "    sentence = sentence.replace(\"<movie>\",movie).replace(\"<rating>\",rating)\n",
    "\n",
    "    ents = []\n",
    "    ents.append((sentence.find(rating),sentence.find(rating) + len(rating), \"association rating\"))\n",
    "\n",
    "\n",
    "    entities = []\n",
    "    for ent in ents:\n",
    "        if(ent[0]!=-1):\n",
    "            entities.append(ent)\n",
    "    if len(entities) == 0:\n",
    "        continue\n",
    "    res_s4.append((sentence,{\"entities\":entities}))\n",
    "    \n",
    "\n",
    "\n",
    "\n",
    "len(res_s4)"
   ]
  },
  {
   "cell_type": "code",
   "execution_count": 68,
   "id": "1f47544c",
   "metadata": {},
   "outputs": [
    {
     "data": {
      "text/plain": [
       "99"
      ]
     },
     "execution_count": 68,
     "metadata": {},
     "output_type": "execute_result"
    }
   ],
   "source": [
    "sentence_list_5 = [ # retrieve release date\n",
    "    \"What is the original language of <movie>\",\n",
    "    \"What is the language of origin for <movie>?\"\n",
    "]\n",
    "\n",
    "language_rel = {\n",
    "    'original language' : 'wdt:P364',\n",
    "    'language of origin' : 'wdt:P364',\n",
    "}\n",
    "\n",
    "i = 0\n",
    "movies = list(movie_list.values())\n",
    "res_s5 = []\n",
    "for movie in movies:\n",
    "    i+=1\n",
    "    if(i==100):\n",
    "        break\n",
    "    \n",
    "    sentence = sentence_list_5[i%len(sentence_list_5)]\n",
    "    \n",
    "    sentence = sentence.replace(\"<movie>\",movie)\n",
    "\n",
    "    ents = []\n",
    "    for predicate in list(language_rel.keys()):\n",
    "        if predicate in sentence:\n",
    "            ents.append((sentence.find(predicate),sentence.find(predicate) + len(predicate), \"relation\"))\n",
    "\n",
    "    entities = []\n",
    "    for ent in ents:\n",
    "        if(ent[0]!=-1):\n",
    "            entities.append(ent)\n",
    "    if len(entities) == 0:\n",
    "        continue\n",
    "    res_s5.append((sentence,{\"entities\":entities}))\n",
    "    \n",
    "\n",
    "\n",
    "\n",
    "len(res_s5)"
   ]
  },
  {
   "cell_type": "code",
   "execution_count": 72,
   "id": "eda6e4a4",
   "metadata": {},
   "outputs": [
    {
     "data": {
      "text/plain": [
       "299"
      ]
     },
     "execution_count": 72,
     "metadata": {},
     "output_type": "execute_result"
    }
   ],
   "source": [
    "sentence_list_6 = [ # retrieve release date\n",
    "    \"Who distributed <movie>?\",\n",
    "    \"Which company distributed <movie>?\",\n",
    "    \"Which company handled the distribution of <movie>?\",\n",
    "    \"Can you identify the distributor for <movie>?\",\n",
    "    \"Who was responsible for distributing <movie>?\",\n",
    "    \"What company took charge of distributing <movie>?\",\n",
    "    \"In terms of distribution, which company is associated with <movie>?\",\n",
    "    \"Which company managed the distribution of the film <movie>?\",\n",
    "    \"Can you tell me the distribution company for <movie>?\",\n",
    "    \"Who distributed the movie titled <movie>?\",\n",
    "    \"Which distribution company was involved with <movie>?\",\n",
    "    \"Tell me about the company responsible for the distribution of <movie>.\"\n",
    "]\n",
    "\n",
    "distribution_rel = {\n",
    "    'distributed' : 'wdt:P750',\n",
    "    'distribution' : 'wdt:P750',\n",
    "    'distributing' : 'wdt:P750',\n",
    "    'distributor' : 'wdt:P750'\n",
    "}\n",
    "\n",
    "i = 0\n",
    "movies = list(movie_list.values())\n",
    "res_s6 = []\n",
    "for movie in movies:\n",
    "    i+=1\n",
    "    if(i==300):\n",
    "        break\n",
    "    \n",
    "    sentence = sentence_list_6[i%len(sentence_list_6)]\n",
    "    \n",
    "    sentence = sentence.replace(\"<movie>\",movie)\n",
    "\n",
    "    ents = []\n",
    "    for predicate in list(distribution_rel.keys()):\n",
    "        if predicate in sentence:\n",
    "            ents.append((sentence.find(predicate),sentence.find(predicate) + len(predicate), \"relation\"))\n",
    "\n",
    "    entities = []\n",
    "    for ent in ents:\n",
    "        if(ent[0]!=-1):\n",
    "            entities.append(ent)\n",
    "    if len(entities) == 0:\n",
    "        continue\n",
    "    res_s6.append((sentence,{\"entities\":entities}))\n",
    "    \n",
    "\n",
    "\n",
    "\n",
    "len(res_s6)"
   ]
  },
  {
   "cell_type": "code",
   "execution_count": 77,
   "id": "0829ac61",
   "metadata": {},
   "outputs": [
    {
     "data": {
      "text/plain": [
       "299"
      ]
     },
     "execution_count": 77,
     "metadata": {},
     "output_type": "execute_result"
    }
   ],
   "source": [
    "sentence_list_7 = [ # retrieve release date\n",
    "    \"What is the box office of <movie>?\",\n",
    "    \"How much revenue did <movie> generate at the box office?\",\n",
    "    \"What is the box office earnings for the film <movie>?\",\n",
    "    \"Can you provide information on the box office sales of <movie>?\",\n",
    "    \"What was the financial success of <movie> at the box office?\",\n",
    "    \"How did <movie> perform in terms of box office revenue?\",\n",
    "    \"Tell me about the box office results for the movie titled <movie>.\",\n",
    "    \"What were the box office numbers for <movie>?\",\n",
    "    \"In terms of box office, how well did <movie> do?\",\n",
    "    \"Can you share the box office figures for <movie>?\",\n",
    "    \"What was the box office outcome for the film <movie>?\",\n",
    "    \n",
    "]\n",
    "\n",
    "i = 0\n",
    "movies = list(movie_list.values())\n",
    "res_s7 = []\n",
    "for movie in movies:\n",
    "    i+=1\n",
    "    if(i==300):\n",
    "        break\n",
    "    \n",
    "    sentence = sentence_list_7[i%len(sentence_list_7)]\n",
    "    \n",
    "    sentence = sentence.replace(\"<movie>\",movie)\n",
    "\n",
    "    ents = []\n",
    "    ents.append((sentence.find('box office'),sentence.find('box office') + len(predicate), \"relation\"))\n",
    "\n",
    "    entities = []\n",
    "    for ent in ents:\n",
    "        if(ent[0]!=-1):\n",
    "            entities.append(ent)\n",
    "    res_s7.append((sentence,{\"entities\":entities}))\n",
    "    \n",
    "\n",
    "\n",
    "\n",
    "len(res_s7)"
   ]
  },
  {
   "cell_type": "code",
   "execution_count": 79,
   "id": "6cc8fac7",
   "metadata": {},
   "outputs": [
    {
     "data": {
      "text/plain": [
       "299"
      ]
     },
     "execution_count": 79,
     "metadata": {},
     "output_type": "execute_result"
    }
   ],
   "source": [
    "sentence_list_8 = [ # retrieve release date\n",
    "    \"Who is <name> loyal to?\",\n",
    "    \"To whom belongs <name>'s loyalty\",\n",
    "    \"What is the allegiance of <name>?\",\n",
    "    \"What is the political allegiance of <name>?\",\n",
    "    \"What is the fidelity of <name>\",\n",
    "    \"What is <name> a supporter of?\",\n",
    "    \"Which is the ally of <name>\"\n",
    "]\n",
    "\n",
    "allegiance_rel = {\n",
    "    'allegiance' : 'wdt:P945',\n",
    "    'fidelity' : 'wdt:P945',\n",
    "    'loyalty': 'wdt:P945',\n",
    "    'supporter': 'wdt:P945',\n",
    "    'ally': 'wdt:P945',\n",
    "    'allies': 'wdt:P945',\n",
    "    'loyal to': 'wdt:P945',\n",
    "}\n",
    "\n",
    "i = 0\n",
    "names = list(people_list.values())\n",
    "res_s8 = []\n",
    "for name in names:\n",
    "    i+=1\n",
    "    if(i==300):\n",
    "        break\n",
    "    \n",
    "    sentence = sentence_list_8[i%len(sentence_list_8)]\n",
    "    \n",
    "    sentence = sentence.replace(\"<name>\",name)\n",
    "\n",
    "    ents = []\n",
    "    for predicate in list(allegiance_rel.keys()):\n",
    "        if predicate in sentence:\n",
    "            ents.append((sentence.find(predicate),sentence.find(predicate) + len(predicate), \"relation\"))\n",
    "\n",
    "    entities = []\n",
    "    for ent in ents:\n",
    "        if(ent[0]!=-1):\n",
    "            entities.append(ent)\n",
    "    if len(entities) == 0:\n",
    "        continue\n",
    "    res_s8.append((sentence,{\"entities\":entities}))\n",
    "    \n",
    "\n",
    "\n",
    "\n",
    "len(res_s8)"
   ]
  },
  {
   "cell_type": "code",
   "execution_count": 81,
   "id": "2eb8b5c1",
   "metadata": {},
   "outputs": [
    {
     "data": {
      "text/plain": [
       "299"
      ]
     },
     "execution_count": 81,
     "metadata": {},
     "output_type": "execute_result"
    }
   ],
   "source": [
    "sentence_list_9 = [ # retrieve release date\n",
    "    \"What was the recording location of <movie>\",\n",
    "    \"Where is the recording set of <movie> located?\",\n",
    "    \"Can you provide information on the filming location of <movie>?\",\n",
    "    \"Tell me about the location where <movie> was captured on film.\",\n",
    "    \"Can you disclose the specific site where <movie> is located?\",\n",
    "    \"What is the exact located position for the recording of <movie>?\",\n",
    "    \"Where on the map can the recording of <movie> be located?\",\n",
    "    \"Can you identify the exact located spot where <movie> was filmed?\",\n",
    "    \"In terms of geography, where is <movie> located during filming?\"\n",
    "]\n",
    "\n",
    "loc_rel = {\n",
    "    'location' : 'wdt:P276',\n",
    "    'located' : 'wdt:P276',\n",
    "}\n",
    "\n",
    "i = 0\n",
    "movie = list(movie_list.values())\n",
    "res_s9 = []\n",
    "for movie in movies:\n",
    "    i+=1\n",
    "    if(i==300):\n",
    "        break\n",
    "    \n",
    "    sentence = sentence_list_9[i%len(sentence_list_9)]\n",
    "    \n",
    "    sentence = sentence.replace(\"<movie>\",movie)\n",
    "\n",
    "    ents = []\n",
    "    for predicate in list(loc_rel.keys()):\n",
    "        if predicate in sentence:\n",
    "            ents.append((sentence.find(predicate),sentence.find(predicate) + len(predicate), \"relation\"))\n",
    "\n",
    "    entities = []\n",
    "    for ent in ents:\n",
    "        if(ent[0]!=-1):\n",
    "            entities.append(ent)\n",
    "    if len(entities) == 0:\n",
    "        continue\n",
    "    res_s9.append((sentence,{\"entities\":entities}))\n",
    "    \n",
    "\n",
    "\n",
    "\n",
    "len(res_s9)"
   ]
  },
  {
   "cell_type": "code",
   "execution_count": 89,
   "id": "e81cc40d",
   "metadata": {},
   "outputs": [
    {
     "data": {
      "text/plain": [
       "299"
      ]
     },
     "execution_count": 89,
     "metadata": {},
     "output_type": "execute_result"
    }
   ],
   "source": [
    "sentence_list_10 = [ # retrieve release date\n",
    "    \"What is the place of death of <name>?\",\n",
    "    \"Where <name> died?\",\n",
    "    \"Where was <name> at the time of their death?\",\n",
    "    \"Tell me about the site of <name>'s death.\",\n",
    "    \"Can you specify where <name> died?\",\n",
    "    \"Where was <name> located when they died?\",\n",
    "]\n",
    "\n",
    "death_rel = {\n",
    "    'place of death' : 'wdt:P20',\n",
    "    'death' : 'wdt:P20',\n",
    "    'died' : 'wdt:P20',\n",
    "}\n",
    "\n",
    "i = 0\n",
    "names = list(people_list.values())\n",
    "res_s10 = []\n",
    "for name in names:\n",
    "    i+=1\n",
    "    if(i==300):\n",
    "        break\n",
    "    \n",
    "    sentence = sentence_list_10[i%len(sentence_list_10)]\n",
    "    \n",
    "    sentence = sentence.replace(\"<name>\",name)\n",
    "\n",
    "    ents = []\n",
    "    for predicate in list(death_rel.keys()):\n",
    "        if predicate in sentence:\n",
    "            ents.append((sentence.find(predicate),sentence.find(predicate) + len(predicate), \"relation\"))\n",
    "            break\n",
    "\n",
    "    entities = []\n",
    "    for ent in ents:\n",
    "        if(ent[0]!=-1):\n",
    "            entities.append(ent)\n",
    "    if len(entities) == 0:\n",
    "        continue\n",
    "    res_s10.append((sentence,{\"entities\":entities}))\n",
    "    \n",
    "\n",
    "\n",
    "\n",
    "len(res_s10)"
   ]
  },
  {
   "cell_type": "code",
   "execution_count": 90,
   "id": "a9bd818b",
   "metadata": {},
   "outputs": [
    {
     "data": {
      "text/plain": [
       "299"
      ]
     },
     "execution_count": 90,
     "metadata": {},
     "output_type": "execute_result"
    }
   ],
   "source": [
    "sentence_list_11 = [ # retrieve release date\n",
    "    \"What is the place of burial of <name>?\",\n",
    "    \"Where is <name> buried?\",\n",
    "    \"Can you provide information about the place of burial of <name>?\",\n",
    "    \"Can you provide information about the burial location of <name>?\",\n",
    "    \"In what place is the burial site of <name> located?\",\n",
    "    \"At which site is <name> buried?\",\n",
    "    \"Can you specify where <name> is buried?\"\n",
    "]\n",
    "\n",
    "death_rel = {\n",
    "    'place of burial' : 'wdt:P119',\n",
    "    'buried' : 'wdt:P119',\n",
    "    'burial location': 'wdt:P119',\n",
    "    'burial site': 'wdt:P119',\n",
    "}\n",
    "\n",
    "i = 0\n",
    "names = list(people_list.values())\n",
    "res_s11 = []\n",
    "for name in names:\n",
    "    i+=1\n",
    "    if(i==300):\n",
    "        break\n",
    "    \n",
    "    sentence = sentence_list_11[i%len(sentence_list_11)]\n",
    "    \n",
    "    sentence = sentence.replace(\"<name>\",name)\n",
    "\n",
    "    ents = []\n",
    "    for predicate in list(death_rel.keys()):\n",
    "        if predicate in sentence:\n",
    "            ents.append((sentence.find(predicate),sentence.find(predicate) + len(predicate), \"relation\"))\n",
    "            break\n",
    "\n",
    "    entities = []\n",
    "    for ent in ents:\n",
    "        if(ent[0]!=-1):\n",
    "            entities.append(ent)\n",
    "    if len(entities) == 0:\n",
    "        continue\n",
    "    res_s11.append((sentence,{\"entities\":entities}))\n",
    "    \n",
    "\n",
    "\n",
    "\n",
    "len(res_s11)"
   ]
  },
  {
   "cell_type": "code",
   "execution_count": 92,
   "id": "b808dbb0",
   "metadata": {},
   "outputs": [
    {
     "data": {
      "text/plain": [
       "299"
      ]
     },
     "execution_count": 92,
     "metadata": {},
     "output_type": "execute_result"
    }
   ],
   "source": [
    "sentence_list_12 = [ # retrieve release date\n",
    "    \"Which is the production company of <movie>?\",\n",
    "    \"Which company produced <movie>?\",\n",
    "    \"Who produced <movie>?\",\n",
    "    \"What is the production company responsible for <movie>?\",\n",
    "    \"Can you tell me which company was involved in the production of <movie>?\",\n",
    "    \"Which company took charge of producing <movie>?\",\n",
    "    \"Who is behind the production of <movie>?\",\n",
    "    \"In terms of production, which company is associated with <movie>?\",\n",
    "    \"Tell me about the entity that produced <movie>.\",\n",
    "    \"What production company is credited for <movie>?\",\n",
    "    \"Who played a role in the production of <movie>?\",\n",
    "    \"Can you identify the production house for <movie>?\"\n",
    "]\n",
    "\n",
    "production_rel = {\n",
    "    'production company' : 'wdt:P272',\n",
    "    'produced' : 'wdt:P272',\n",
    "    'production' : 'wdt:P272',\n",
    "    'producing' : 'wdt:P272'\n",
    "}\n",
    "\n",
    "i = 0\n",
    "movies = list(movie_list.values())\n",
    "res_s12 = []\n",
    "for name in names:\n",
    "    i+=1\n",
    "    if(i==300):\n",
    "        break\n",
    "    \n",
    "    sentence = sentence_list_12[i%len(sentence_list_12)]\n",
    "    \n",
    "    sentence = sentence.replace(\"<movie>\",movie)\n",
    "\n",
    "    ents = []\n",
    "    for predicate in list(production_rel.keys()):\n",
    "        if predicate in sentence:\n",
    "            ents.append((sentence.find(predicate),sentence.find(predicate) + len(predicate), \"relation\"))\n",
    "            break\n",
    "\n",
    "    entities = []\n",
    "    for ent in ents:\n",
    "        if(ent[0]!=-1):\n",
    "            entities.append(ent)\n",
    "    if len(entities) == 0:\n",
    "        continue\n",
    "    res_s12.append((sentence,{\"entities\":entities}))\n",
    "    \n",
    "\n",
    "\n",
    "\n",
    "len(res_s12)"
   ]
  },
  {
   "cell_type": "code",
   "execution_count": 95,
   "id": "140c0b1f",
   "metadata": {},
   "outputs": [
    {
     "data": {
      "text/plain": [
       "299"
      ]
     },
     "execution_count": 95,
     "metadata": {},
     "output_type": "execute_result"
    }
   ],
   "source": [
    "sentence_list_13 = [ # retrieve release date\n",
    "    \"What is the country of citizenship of <name>?\",\n",
    "    \"Which country is <name> a citizen of?\",\n",
    "    \"What citizenship have <name>\",\n",
    "    \"What country does <name> hold citizenship in?\",\n",
    "    \"Of which country is <name> a citizen?\",\n",
    "    \"Can you tell me the nationality or citizenship of <name>?\",\n",
    "    \"Which country claims <name> as its citizen?\",\n",
    "    \"To which nation does <name> belong in terms of citizenship?\",\n",
    "    \"What is the country of citizenship for <name>?\",\n",
    "    \"In what country is <name> recognized as a citizen?\",\n",
    "    \"Which nation does <name> hold citizenship in?\",\n",
    "    \"Can you specify the citizenship country of <name>?\",\n",
    "    \"What is the citizenship status of <name>?\"\n",
    "]\n",
    "\n",
    "citizen_rel = {\n",
    "    'country of citizenship' : 'wdt:P27',\n",
    "    'citizen' : 'wdt:P27',\n",
    "    'citizenship' : 'wdt:P27',\n",
    "}\n",
    "\n",
    "i = 0\n",
    "name = list(people_list.values())\n",
    "res_s13 = []\n",
    "for name in names:\n",
    "    i+=1\n",
    "    if(i==300):\n",
    "        break\n",
    "    \n",
    "    sentence = sentence_list_13[i%len(sentence_list_13)]\n",
    "    \n",
    "    sentence = sentence.replace(\"<name>\",name)\n",
    "\n",
    "    ents = []\n",
    "    for predicate in list(citizen_rel.keys()):\n",
    "        if predicate in sentence:\n",
    "            ents.append((sentence.find(predicate),sentence.find(predicate) + len(predicate), \"relation\"))\n",
    "            break\n",
    "\n",
    "    entities = []\n",
    "    for ent in ents:\n",
    "        if(ent[0]!=-1):\n",
    "            entities.append(ent)\n",
    "    if len(entities) == 0:\n",
    "        continue\n",
    "    res_s13.append((sentence,{\"entities\":entities}))\n",
    "    \n",
    "\n",
    "\n",
    "\n",
    "len(res_s13)"
   ]
  },
  {
   "cell_type": "code",
   "execution_count": 98,
   "id": "6f042c18",
   "metadata": {},
   "outputs": [
    {
     "data": {
      "text/plain": [
       "276"
      ]
     },
     "execution_count": 98,
     "metadata": {},
     "output_type": "execute_result"
    }
   ],
   "source": [
    "sentence_list_14 = [ # retrieve release date\n",
    "    \"What are the languages spoken by <name>?\",\n",
    "    \"What are the languages written by <name>?\",\n",
    "    \"What are the languages signed by <name>?\",\n",
    "    \"What languages does <name> speak?\",\n",
    "    \"What were the languages spoken written or signed in <name>?\",\n",
    "    \"What were the languages spoken by <name>\",\n",
    "    \"Which languages is <name> proficient in speaking?\",\n",
    "    \"Can you list the languages that <name> speaks?\",\n",
    "    \"Which languages does <name> have command over in terms of speaking?\",\n",
    "    \"Can you provide information on the languages spoken by <name>?\",\n",
    "    \"Which languages does <name> use for communication?\",\n",
    "    \"Tell me about the linguistic skills of <name> in terms of speaking\",\n",
    "    \"Tell me about the linguistic skills of <name> in terms of writing\",\n",
    "]\n",
    "\n",
    "lan_rel = {\n",
    "    'languages spoken' : 'wdt:P1412',\n",
    "    'languages written' : 'wdt:P1412',\n",
    "    'languages signed' : 'wdt:P1412',\n",
    "    'languages spoken written or signed' : 'wdt:P1412',\n",
    "    'speak': 'wdt:P1412',\n",
    "    'spoken': 'wdt:P1412',\n",
    "    'speaking' : 'wdt:P1412',\n",
    "    'speaks' : 'wdt:P1412',\n",
    "    'write': 'wdt:P1412',\n",
    "    'writing' : 'wdt:P1412',\n",
    "    'written': 'wdt:P1412',\n",
    "}\n",
    "\n",
    "i = 0\n",
    "name = list(people_list.values())\n",
    "res_s14 = []\n",
    "for name in names:\n",
    "    i+=1\n",
    "    if(i==300):\n",
    "        break\n",
    "    \n",
    "    sentence = sentence_list_14[i%len(sentence_list_14)]\n",
    "    \n",
    "    sentence = sentence.replace(\"<name>\",name)\n",
    "\n",
    "    ents = []\n",
    "    for predicate in list(lan_rel.keys()):\n",
    "        if predicate in sentence:\n",
    "            ents.append((sentence.find(predicate),sentence.find(predicate) + len(predicate), \"relation\"))\n",
    "            break\n",
    "\n",
    "    entities = []\n",
    "    for ent in ents:\n",
    "        if(ent[0]!=-1):\n",
    "            entities.append(ent)\n",
    "    if len(entities) == 0:\n",
    "        continue\n",
    "    res_s14.append((sentence,{\"entities\":entities}))\n",
    "    \n",
    "\n",
    "\n",
    "\n",
    "len(res_s14)"
   ]
  },
  {
   "cell_type": "code",
   "execution_count": 100,
   "id": "3fffe272",
   "metadata": {},
   "outputs": [
    {
     "data": {
      "text/plain": [
       "500"
      ]
     },
     "execution_count": 100,
     "metadata": {},
     "output_type": "execute_result"
    }
   ],
   "source": [
    "sentence_list_15 = [\n",
    "    # Movie recommendation\n",
    "    # Three movies\n",
    "    \"Recommend movies like <name>\",\n",
    "    \"Recommend me some films in the same vein as <name>.\",\n",
    "    \"Recommend movies similar to <name>.\",\n",
    "    \"Recommend some films like <name>.\",\n",
    "    \"Recommend me some movies in the same vein as <name>.\",\n",
    "    \"Recommend any good movies similar to <name>.\",\n",
    "    \"Recommend films similar to <name> that I should watch.\",\n",
    "    \n",
    "    \"Show me a picture of <name>\",\n",
    "    \"How does <name> looks like?\",\n",
    "    \"Have you any images of <name>\",\n",
    "    \"Can you display a photo of <name>\",\n",
    "    \"What does <name> look like?\",\n",
    "    \"Let me know what <name> looks like.\",\n",
    "    \"Could you please show me an image of <name>?\",\n",
    "    \"I'm curious about <name>'s appearance. Can you provide a picture?\",\n",
    "    \"Do you have a photo of <name>?\",\n",
    "    \"I'd like to see a photo of <name>\",\n",
    "    \"Do you have any visuals or pictures related to <movie_name> that you can share?\",\n",
    "\n",
    "]\n",
    "\n",
    "i = 0\n",
    "name = list(people_list.values())\n",
    "res_s15 = []\n",
    "for name in names:\n",
    "    i+=1\n",
    "    if(i==600):\n",
    "        break\n",
    "    \n",
    "    sentence = sentence_list_15[i%len(sentence_list_15)]\n",
    "    \n",
    "    sentence = sentence.replace(\"<name>\",name)\n",
    "\n",
    "    ents = []\n",
    "    for predicate in list(robusting_predicates.keys()):\n",
    "        if predicate in sentence:\n",
    "            ents.append((sentence.find(predicate),sentence.find(predicate) + len(predicate), \"predicate\"))\n",
    "            break\n",
    "\n",
    "    entities = []\n",
    "    for ent in ents:\n",
    "        if(ent[0]!=-1):\n",
    "            entities.append(ent)\n",
    "    if len(entities) == 0:\n",
    "        continue\n",
    "    res_s15.append((sentence,{\"entities\":entities}))\n",
    "    \n",
    "\n",
    "\n",
    "\n",
    "len(res_s15)"
   ]
  },
  {
   "cell_type": "code",
   "execution_count": 101,
   "id": "fe852679",
   "metadata": {},
   "outputs": [
    {
     "data": {
      "text/plain": [
       "[('Recommend me some films in the same vein as Viktor Krištof.',\n",
       "  {'entities': [(0, 9, 'predicate')]}),\n",
       " ('Recommend movies similar to Yuji Nomi.',\n",
       "  {'entities': [(0, 9, 'predicate')]}),\n",
       " ('Recommend some films like Béatrice Thiriet.',\n",
       "  {'entities': [(0, 9, 'predicate')]}),\n",
       " ('Recommend me some movies in the same vein as Oleg Kapanets.',\n",
       "  {'entities': [(0, 9, 'predicate')]}),\n",
       " ('Recommend any good movies similar to Ram Lee.',\n",
       "  {'entities': [(0, 9, 'predicate')]}),\n",
       " ('Recommend films similar to Gabriel Migliori that I should watch.',\n",
       "  {'entities': [(0, 9, 'predicate')]}),\n",
       " ('Show me a picture of Alexander Geringas',\n",
       "  {'entities': [(10, 17, 'predicate')]}),\n",
       " ('Have you any images of Marco Antônio Guimarães',\n",
       "  {'entities': [(13, 18, 'predicate')]}),\n",
       " ('Can you display a photo of Mauro Senise',\n",
       "  {'entities': [(18, 23, 'predicate')]}),\n",
       " ('Could you please show me an image of Pierre Volto?',\n",
       "  {'entities': [(28, 33, 'predicate')]}),\n",
       " (\"I'm curious about Carlo Siliotto's appearance. Can you provide a picture?\",\n",
       "  {'entities': [(65, 72, 'predicate')]}),\n",
       " ('Do you have a photo of Braguinha?', {'entities': [(14, 19, 'predicate')]}),\n",
       " (\"I'd like to see a photo of Veronika Schwarczová\",\n",
       "  {'entities': [(18, 23, 'predicate')]}),\n",
       " ('Do you have any visuals or pictures related to <movie_name> that you can share?',\n",
       "  {'entities': [(16, 22, 'predicate')]}),\n",
       " ('Recommend movies like Jan Maxa', {'entities': [(0, 9, 'predicate')]}),\n",
       " ('Recommend me some films in the same vein as Celine Rattray.',\n",
       "  {'entities': [(0, 9, 'predicate')]}),\n",
       " ('Recommend movies similar to Giovanni Korporaal.',\n",
       "  {'entities': [(0, 9, 'predicate')]}),\n",
       " ('Recommend some films like Jürgen Knieper.',\n",
       "  {'entities': [(0, 9, 'predicate')]}),\n",
       " ('Recommend me some movies in the same vein as Charles Previn.',\n",
       "  {'entities': [(0, 9, 'predicate')]}),\n",
       " ('Recommend any good movies similar to Mel Jarnson.',\n",
       "  {'entities': [(0, 9, 'predicate')]}),\n",
       " ('Recommend films similar to Carmen Beato that I should watch.',\n",
       "  {'entities': [(0, 9, 'predicate')]}),\n",
       " ('Show me a picture of Nico Fidenco', {'entities': [(10, 17, 'predicate')]}),\n",
       " ('Have you any images of Aglyamov Khairislam Aglyamovich',\n",
       "  {'entities': [(13, 18, 'predicate')]}),\n",
       " ('Can you display a photo of Atli Oskar Fjalarsson',\n",
       "  {'entities': [(18, 23, 'predicate')]}),\n",
       " ('Could you please show me an image of Charles Mingus?',\n",
       "  {'entities': [(28, 33, 'predicate')]}),\n",
       " (\"I'm curious about Fabio Laguna's appearance. Can you provide a picture?\",\n",
       "  {'entities': [(63, 70, 'predicate')]}),\n",
       " ('Do you have a photo of Chris Walden?',\n",
       "  {'entities': [(14, 19, 'predicate')]}),\n",
       " (\"I'd like to see a photo of Christian Chevallier\",\n",
       "  {'entities': [(18, 23, 'predicate')]}),\n",
       " ('Do you have any visuals or pictures related to <movie_name> that you can share?',\n",
       "  {'entities': [(16, 22, 'predicate')]}),\n",
       " ('Recommend movies like Wojciech Jerzy Has',\n",
       "  {'entities': [(0, 9, 'predicate')]}),\n",
       " ('Recommend me some films in the same vein as Claus Boje.',\n",
       "  {'entities': [(0, 9, 'predicate')]}),\n",
       " ('Recommend movies similar to Clive Langer.',\n",
       "  {'entities': [(0, 9, 'predicate')]}),\n",
       " ('Recommend some films like Nathan Birnbaum.',\n",
       "  {'entities': [(0, 9, 'predicate')]}),\n",
       " ('Recommend me some movies in the same vein as Narasaki.',\n",
       "  {'entities': [(0, 9, 'predicate')]}),\n",
       " ('Recommend any good movies similar to Corinne Marrinan.',\n",
       "  {'entities': [(0, 9, 'predicate')]}),\n",
       " ('Recommend films similar to Cornelius Schwehr that I should watch.',\n",
       "  {'entities': [(0, 9, 'predicate')]}),\n",
       " ('Show me a picture of Tatsuya Kushida',\n",
       "  {'entities': [(10, 17, 'predicate')]}),\n",
       " ('Have you any images of Toshiyuki Inoue',\n",
       "  {'entities': [(13, 18, 'predicate')]}),\n",
       " ('Can you display a photo of Maurice Jaubert',\n",
       "  {'entities': [(18, 23, 'predicate')]}),\n",
       " ('Could you please show me an image of Hiroshi Katō?',\n",
       "  {'entities': [(28, 33, 'predicate')]}),\n",
       " (\"I'm curious about Francesco De Gregori's appearance. Can you provide a picture?\",\n",
       "  {'entities': [(71, 78, 'predicate')]}),\n",
       " ('Do you have a photo of Shōichi Masuo?',\n",
       "  {'entities': [(14, 19, 'predicate')]}),\n",
       " (\"I'd like to see a photo of Mariya Takeuchi\",\n",
       "  {'entities': [(18, 23, 'predicate')]}),\n",
       " ('Do you have any visuals or pictures related to <movie_name> that you can share?',\n",
       "  {'entities': [(16, 22, 'predicate')]}),\n",
       " ('Recommend movies like Jean-Philippe Rameau',\n",
       "  {'entities': [(0, 9, 'predicate')]}),\n",
       " ('Recommend me some films in the same vein as Cy Coleman.',\n",
       "  {'entities': [(0, 9, 'predicate')]}),\n",
       " ('Recommend movies similar to Takanori Arisawa.',\n",
       "  {'entities': [(0, 9, 'predicate')]}),\n",
       " ('Recommend some films like Cyril Morin.',\n",
       "  {'entities': [(0, 9, 'predicate')]}),\n",
       " ('Recommend me some movies in the same vein as Roberto Cacciapaglia.',\n",
       "  {'entities': [(0, 9, 'predicate')]}),\n",
       " ('Recommend any good movies similar to Imany.',\n",
       "  {'entities': [(0, 9, 'predicate')]}),\n",
       " ('Recommend films similar to Seiichiro Ujiie that I should watch.',\n",
       "  {'entities': [(0, 9, 'predicate')]}),\n",
       " ('Show me a picture of Daniel White', {'entities': [(10, 17, 'predicate')]}),\n",
       " ('Have you any images of Sonja Goslicki',\n",
       "  {'entities': [(13, 18, 'predicate')]}),\n",
       " ('Can you display a photo of Danilo Pérez',\n",
       "  {'entities': [(18, 23, 'predicate')]}),\n",
       " ('Could you please show me an image of Alfonso Vilallonga?',\n",
       "  {'entities': [(28, 33, 'predicate')]}),\n",
       " (\"I'm curious about Francisco Ramos Molins's appearance. Can you provide a picture?\",\n",
       "  {'entities': [(73, 80, 'predicate')]}),\n",
       " ('Do you have a photo of Jacek Królik?',\n",
       "  {'entities': [(14, 19, 'predicate')]}),\n",
       " (\"I'd like to see a photo of Kuba Sienkiewicz\",\n",
       "  {'entities': [(18, 23, 'predicate')]}),\n",
       " ('Do you have any visuals or pictures related to <movie_name> that you can share?',\n",
       "  {'entities': [(16, 22, 'predicate')]}),\n",
       " ('Recommend movies like David Amram', {'entities': [(0, 9, 'predicate')]}),\n",
       " ('Recommend me some films in the same vein as Dave Pirner.',\n",
       "  {'entities': [(0, 9, 'predicate')]}),\n",
       " ('Recommend movies similar to David Buckley.',\n",
       "  {'entities': [(0, 9, 'predicate')]}),\n",
       " ('Recommend some films like David Buttolph.',\n",
       "  {'entities': [(0, 9, 'predicate')]}),\n",
       " ('Recommend me some movies in the same vein as David Hempstead.',\n",
       "  {'entities': [(0, 9, 'predicate')]}),\n",
       " ('Recommend any good movies similar to David Raksin.',\n",
       "  {'entities': [(0, 9, 'predicate')]}),\n",
       " ('Recommend films similar to Ludek Drizhal that I should watch.',\n",
       "  {'entities': [(0, 9, 'predicate')]}),\n",
       " ('Show me a picture of David Tomblin', {'entities': [(10, 17, 'predicate')]}),\n",
       " ('Have you any images of Małgorzata Chmielewska',\n",
       "  {'entities': [(13, 18, 'predicate')]}),\n",
       " ('Can you display a photo of Maurice Ravel',\n",
       "  {'entities': [(18, 23, 'predicate')]}),\n",
       " ('Could you please show me an image of Denny Zeitlin?',\n",
       "  {'entities': [(28, 33, 'predicate')]}),\n",
       " (\"I'm curious about Timo Lassy's appearance. Can you provide a picture?\",\n",
       "  {'entities': [(61, 68, 'predicate')]}),\n",
       " ('Do you have a photo of Mark Oliver Everett?',\n",
       "  {'entities': [(14, 19, 'predicate')]}),\n",
       " (\"I'd like to see a photo of Isona Passola i Vidal\",\n",
       "  {'entities': [(18, 23, 'predicate')]}),\n",
       " ('Do you have any visuals or pictures related to <movie_name> that you can share?',\n",
       "  {'entities': [(16, 22, 'predicate')]}),\n",
       " ('Recommend movies like Stéphane Moucha',\n",
       "  {'entities': [(0, 9, 'predicate')]}),\n",
       " ('Recommend me some films in the same vein as Pascal Gaigne.',\n",
       "  {'entities': [(0, 9, 'predicate')]}),\n",
       " ('Recommend movies similar to Jan Štern.',\n",
       "  {'entities': [(0, 9, 'predicate')]}),\n",
       " ('Recommend some films like Jiří Bečka.',\n",
       "  {'entities': [(0, 9, 'predicate')]}),\n",
       " ('Recommend me some movies in the same vein as Jiří Bulis.',\n",
       "  {'entities': [(0, 9, 'predicate')]}),\n",
       " ('Recommend any good movies similar to Jiří Šust.',\n",
       "  {'entities': [(0, 9, 'predicate')]}),\n",
       " ('Recommend films similar to Kryštof Marek that I should watch.',\n",
       "  {'entities': [(0, 9, 'predicate')]}),\n",
       " ('Show me a picture of Tomáš Vtípil', {'entities': [(10, 17, 'predicate')]}),\n",
       " ('Have you any images of Dick Hyman', {'entities': [(13, 18, 'predicate')]}),\n",
       " ('Can you display a photo of Vladimir Gronskiy',\n",
       "  {'entities': [(18, 23, 'predicate')]}),\n",
       " ('Could you please show me an image of Hany Adel?',\n",
       "  {'entities': [(28, 33, 'predicate')]}),\n",
       " (\"I'm curious about Giancarlo Bigazzi's appearance. Can you provide a picture?\",\n",
       "  {'entities': [(68, 75, 'predicate')]}),\n",
       " ('Do you have a photo of Marcello Giombini?',\n",
       "  {'entities': [(14, 19, 'predicate')]}),\n",
       " (\"I'd like to see a photo of Ágnes Pataki\",\n",
       "  {'entities': [(18, 23, 'predicate')]}),\n",
       " ('Do you have any visuals or pictures related to <movie_name> that you can share?',\n",
       "  {'entities': [(16, 22, 'predicate')]}),\n",
       " ('Recommend movies like Arthur Honegger',\n",
       "  {'entities': [(0, 9, 'predicate')]}),\n",
       " ('Recommend me some films in the same vein as Dikla.',\n",
       "  {'entities': [(0, 9, 'predicate')]}),\n",
       " ('Recommend movies similar to Eran Zur.',\n",
       "  {'entities': [(0, 9, 'predicate')]}),\n",
       " ('Recommend some films like Douglas Gamley.',\n",
       "  {'entities': [(0, 9, 'predicate')]}),\n",
       " ('Recommend me some movies in the same vein as Dalpalan.',\n",
       "  {'entities': [(0, 9, 'predicate')]}),\n",
       " ('Recommend any good movies similar to Kim Mi-hui.',\n",
       "  {'entities': [(0, 9, 'predicate')]}),\n",
       " ('Recommend films similar to Hyun-jung Shim that I should watch.',\n",
       "  {'entities': [(0, 9, 'predicate')]}),\n",
       " ('Show me a picture of Jack Yellen', {'entities': [(10, 17, 'predicate')]}),\n",
       " ('Have you any images of Lee Jae-hak', {'entities': [(13, 18, 'predicate')]}),\n",
       " ('Can you display a photo of Ana Stanić',\n",
       "  {'entities': [(18, 23, 'predicate')]}),\n",
       " ('Could you please show me an image of Gabriele Crisanti?',\n",
       "  {'entities': [(28, 33, 'predicate')]}),\n",
       " (\"I'm curious about Dyson Lovell's appearance. Can you provide a picture?\",\n",
       "  {'entities': [(63, 70, 'predicate')]}),\n",
       " ('Do you have a photo of Alfi Kabiljo?',\n",
       "  {'entities': [(14, 19, 'predicate')]}),\n",
       " (\"I'd like to see a photo of Jeff Gibbs\",\n",
       "  {'entities': [(18, 23, 'predicate')]}),\n",
       " ('Do you have any visuals or pictures related to <movie_name> that you can share?',\n",
       "  {'entities': [(16, 22, 'predicate')]}),\n",
       " ('Recommend movies like Mitja Vrhovnik Smrekar',\n",
       "  {'entities': [(0, 9, 'predicate')]}),\n",
       " ('Recommend me some films in the same vein as Momčilo Bajagić Bajaga.',\n",
       "  {'entities': [(0, 9, 'predicate')]}),\n",
       " ('Recommend movies similar to Cem Erman.',\n",
       "  {'entities': [(0, 9, 'predicate')]}),\n",
       " ('Recommend some films like Meredith Willson.',\n",
       "  {'entities': [(0, 9, 'predicate')]}),\n",
       " ('Recommend me some movies in the same vein as Tural Asadov.',\n",
       "  {'entities': [(0, 9, 'predicate')]}),\n",
       " ('Recommend any good movies similar to Jimmy Webb.',\n",
       "  {'entities': [(0, 9, 'predicate')]}),\n",
       " ('Recommend films similar to Tom Daly that I should watch.',\n",
       "  {'entities': [(0, 9, 'predicate')]}),\n",
       " ('Show me a picture of Edward Bates', {'entities': [(10, 17, 'predicate')]}),\n",
       " ('Have you any images of Edwin Astley',\n",
       "  {'entities': [(13, 18, 'predicate')]}),\n",
       " ('Can you display a photo of Werner Wirsing',\n",
       "  {'entities': [(18, 23, 'predicate')]}),\n",
       " ('Could you please show me an image of Keith Forsey?',\n",
       "  {'entities': [(28, 33, 'predicate')]}),\n",
       " (\"I'm curious about Martial Solal's appearance. Can you provide a picture?\",\n",
       "  {'entities': [(64, 71, 'predicate')]}),\n",
       " ('Do you have a photo of Anton Melnik?',\n",
       "  {'entities': [(14, 19, 'predicate')]}),\n",
       " (\"I'd like to see a photo of Yuki Kajiura\",\n",
       "  {'entities': [(18, 23, 'predicate')]}),\n",
       " ('Do you have any visuals or pictures related to <movie_name> that you can share?',\n",
       "  {'entities': [(16, 22, 'predicate')]}),\n",
       " ('Recommend movies like Elio Scardamaglia',\n",
       "  {'entities': [(0, 9, 'predicate')]}),\n",
       " ('Recommend me some films in the same vein as Trevor Morris.',\n",
       "  {'entities': [(0, 9, 'predicate')]}),\n",
       " ('Recommend movies similar to Michel Petrossian.',\n",
       "  {'entities': [(0, 9, 'predicate')]}),\n",
       " ('Recommend some films like Emmanuel Schotté.',\n",
       "  {'entities': [(0, 9, 'predicate')]}),\n",
       " ('Recommend me some movies in the same vein as Antonio Musu.',\n",
       "  {'entities': [(0, 9, 'predicate')]}),\n",
       " ('Recommend any good movies similar to Floros Floridis.',\n",
       "  {'entities': [(0, 9, 'predicate')]}),\n",
       " ('Recommend films similar to Milan Kymlicka that I should watch.',\n",
       "  {'entities': [(0, 9, 'predicate')]}),\n",
       " ('Show me a picture of Waddy Wachtel', {'entities': [(10, 17, 'predicate')]}),\n",
       " ('Have you any images of Tom Russell', {'entities': [(13, 18, 'predicate')]}),\n",
       " ('Can you display a photo of Enzo Doria',\n",
       "  {'entities': [(18, 23, 'predicate')]}),\n",
       " ('Could you please show me an image of Milton H. Greene?',\n",
       "  {'entities': [(28, 33, 'predicate')]}),\n",
       " (\"I'm curious about Stavros Xarchakos's appearance. Can you provide a picture?\",\n",
       "  {'entities': [(68, 75, 'predicate')]}),\n",
       " ('Do you have a photo of Louis Sclavis?',\n",
       "  {'entities': [(14, 19, 'predicate')]}),\n",
       " (\"I'd like to see a photo of Flood\", {'entities': [(18, 23, 'predicate')]}),\n",
       " ('Do you have any visuals or pictures related to <movie_name> that you can share?',\n",
       "  {'entities': [(16, 22, 'predicate')]}),\n",
       " ('Recommend movies like Julian Nott', {'entities': [(0, 9, 'predicate')]}),\n",
       " ('Recommend me some films in the same vein as Akira Ifukube.',\n",
       "  {'entities': [(0, 9, 'predicate')]}),\n",
       " ('Recommend movies similar to Fabio Vacchi.',\n",
       "  {'entities': [(0, 9, 'predicate')]}),\n",
       " ('Recommend some films like Jukka Immonen.',\n",
       "  {'entities': [(0, 9, 'predicate')]}),\n",
       " ('Recommend me some movies in the same vein as Vyacheslav Ovchinnikov.',\n",
       "  {'entities': [(0, 9, 'predicate')]}),\n",
       " ('Recommend any good movies similar to Ludwig Göransson.',\n",
       "  {'entities': [(0, 9, 'predicate')]}),\n",
       " ('Recommend films similar to Marc Jordan that I should watch.',\n",
       "  {'entities': [(0, 9, 'predicate')]}),\n",
       " ('Show me a picture of Stephen Warbeck',\n",
       "  {'entities': [(10, 17, 'predicate')]}),\n",
       " ('Have you any images of Olivier Delbosc',\n",
       "  {'entities': [(13, 18, 'predicate')]}),\n",
       " ('Can you display a photo of Wolfram Spyra',\n",
       "  {'entities': [(18, 23, 'predicate')]}),\n",
       " ('Could you please show me an image of Roy Webb?',\n",
       "  {'entities': [(28, 33, 'predicate')]}),\n",
       " (\"I'm curious about John P. Hammond's appearance. Can you provide a picture?\",\n",
       "  {'entities': [(66, 73, 'predicate')]}),\n",
       " ('Do you have a photo of Josh Ritter?',\n",
       "  {'entities': [(14, 19, 'predicate')]}),\n",
       " (\"I'd like to see a photo of Geoff Barrow\",\n",
       "  {'entities': [(18, 23, 'predicate')]}),\n",
       " ('Do you have any visuals or pictures related to <movie_name> that you can share?',\n",
       "  {'entities': [(16, 22, 'predicate')]}),\n",
       " ('Recommend movies like Louis Gruenberg',\n",
       "  {'entities': [(0, 9, 'predicate')]}),\n",
       " ('Recommend me some films in the same vein as Robert Charles Winthrop.',\n",
       "  {'entities': [(0, 9, 'predicate')]}),\n",
       " ('Recommend movies similar to George Antheil.',\n",
       "  {'entities': [(0, 9, 'predicate')]}),\n",
       " ('Recommend some films like Phil Palmer.',\n",
       "  {'entities': [(0, 9, 'predicate')]}),\n",
       " ('Recommend me some movies in the same vein as Michael Relph.',\n",
       "  {'entities': [(0, 9, 'predicate')]}),\n",
       " ('Recommend any good movies similar to Raymond Lefèvre.',\n",
       "  {'entities': [(0, 9, 'predicate')]}),\n",
       " ('Recommend films similar to Kevin Shields that I should watch.',\n",
       "  {'entities': [(0, 9, 'predicate')]}),\n",
       " ('Show me a picture of Gil Mellé', {'entities': [(10, 17, 'predicate')]}),\n",
       " ('Have you any images of Nathan Larson',\n",
       "  {'entities': [(13, 18, 'predicate')]}),\n",
       " ('Can you display a photo of Hugo Montenegro',\n",
       "  {'entities': [(18, 23, 'predicate')]}),\n",
       " ('Could you please show me an image of Gordon Jenkins?',\n",
       "  {'entities': [(28, 33, 'predicate')]}),\n",
       " (\"I'm curious about Richard Strauss's appearance. Can you provide a picture?\",\n",
       "  {'entities': [(66, 73, 'predicate')]}),\n",
       " ('Do you have a photo of Fabian Römer?',\n",
       "  {'entities': [(14, 19, 'predicate')]}),\n",
       " (\"I'd like to see a photo of Paolo Fresu\",\n",
       "  {'entities': [(18, 23, 'predicate')]}),\n",
       " ('Do you have any visuals or pictures related to <movie_name> that you can share?',\n",
       "  {'entities': [(16, 22, 'predicate')]}),\n",
       " ('Recommend movies like Peter Maxwell Davies',\n",
       "  {'entities': [(0, 9, 'predicate')]}),\n",
       " ('Recommend me some films in the same vein as Vilayat Khan.',\n",
       "  {'entities': [(0, 9, 'predicate')]}),\n",
       " ('Recommend movies similar to Schoolly D.',\n",
       "  {'entities': [(0, 9, 'predicate')]}),\n",
       " ('Recommend some films like Nitin Sawhney.',\n",
       "  {'entities': [(0, 9, 'predicate')]}),\n",
       " ('Recommend me some movies in the same vein as Michel Magne.',\n",
       "  {'entities': [(0, 9, 'predicate')]}),\n",
       " ('Recommend any good movies similar to Pedro Olea.',\n",
       "  {'entities': [(0, 9, 'predicate')]}),\n",
       " ('Recommend films similar to Gary Go that I should watch.',\n",
       "  {'entities': [(0, 9, 'predicate')]}),\n",
       " ('Show me a picture of Karim Debbagh', {'entities': [(10, 17, 'predicate')]}),\n",
       " ('Have you any images of Michaela Melián',\n",
       "  {'entities': [(13, 18, 'predicate')]}),\n",
       " ('Can you display a photo of Minoru Miki',\n",
       "  {'entities': [(18, 23, 'predicate')]}),\n",
       " ('Could you please show me an image of Ville Golovko?',\n",
       "  {'entities': [(28, 33, 'predicate')]}),\n",
       " (\"I'm curious about Florent Marchet's appearance. Can you provide a picture?\",\n",
       "  {'entities': [(66, 73, 'predicate')]}),\n",
       " ('Do you have a photo of Arnold Bax?', {'entities': [(14, 19, 'predicate')]}),\n",
       " (\"I'd like to see a photo of Carlos d'Alessio\",\n",
       "  {'entities': [(18, 23, 'predicate')]}),\n",
       " ('Do you have any visuals or pictures related to <movie_name> that you can share?',\n",
       "  {'entities': [(16, 22, 'predicate')]}),\n",
       " ('Recommend movies like Brian Easdale', {'entities': [(0, 9, 'predicate')]}),\n",
       " ('Recommend me some films in the same vein as Yūji Ōno.',\n",
       "  {'entities': [(0, 9, 'predicate')]}),\n",
       " ('Recommend movies similar to Hansjürgen Pohland.',\n",
       "  {'entities': [(0, 9, 'predicate')]}),\n",
       " ('Recommend some films like François Couturier.',\n",
       "  {'entities': [(0, 9, 'predicate')]}),\n",
       " ('Recommend me some movies in the same vein as Sergey Nikolaevich Starostin.',\n",
       "  {'entities': [(0, 9, 'predicate')]}),\n",
       " ('Recommend any good movies similar to Fred Katz.',\n",
       "  {'entities': [(0, 9, 'predicate')]}),\n",
       " ('Recommend films similar to Fred Kohlmar that I should watch.',\n",
       "  {'entities': [(0, 9, 'predicate')]}),\n",
       " ('Show me a picture of Freddie Rich', {'entities': [(10, 17, 'predicate')]}),\n",
       " ('Have you any images of Semiya Simsek',\n",
       "  {'entities': [(13, 18, 'predicate')]}),\n",
       " ('Can you display a photo of Alice Brauner-Orthen',\n",
       "  {'entities': [(18, 23, 'predicate')]}),\n",
       " ('Could you please show me an image of Sergey Shumakov?',\n",
       "  {'entities': [(28, 33, 'predicate')]}),\n",
       " (\"I'm curious about Gabriel Pascal's appearance. Can you provide a picture?\",\n",
       "  {'entities': [(65, 72, 'predicate')]}),\n",
       " ('Do you have a photo of Mocean Worker?',\n",
       "  {'entities': [(14, 19, 'predicate')]}),\n",
       " (\"I'd like to see a photo of Nils Frahm\",\n",
       "  {'entities': [(18, 23, 'predicate')]}),\n",
       " ('Do you have any visuals or pictures related to <movie_name> that you can share?',\n",
       "  {'entities': [(16, 22, 'predicate')]}),\n",
       " ('Recommend movies like Camille Saint-Saëns',\n",
       "  {'entities': [(0, 9, 'predicate')]}),\n",
       " ('Recommend me some films in the same vein as Georg Haentzschel.',\n",
       "  {'entities': [(0, 9, 'predicate')]}),\n",
       " ('Recommend movies similar to Georg Riedel.',\n",
       "  {'entities': [(0, 9, 'predicate')]}),\n",
       " ('Recommend some films like Oksana Barkovskaya.',\n",
       "  {'entities': [(0, 9, 'predicate')]}),\n",
       " ('Recommend me some movies in the same vein as George Bassman.',\n",
       "  {'entities': [(0, 9, 'predicate')]}),\n",
       " ('Recommend any good movies similar to Denis Poncet.',\n",
       "  {'entities': [(0, 9, 'predicate')]}),\n",
       " ('Recommend films similar to John Askew that I should watch.',\n",
       "  {'entities': [(0, 9, 'predicate')]}),\n",
       " ('Show me a picture of Armen Medvedev',\n",
       "  {'entities': [(10, 17, 'predicate')]}),\n",
       " ('Have you any images of Georges Dancigers',\n",
       "  {'entities': [(13, 18, 'predicate')]}),\n",
       " ('Can you display a photo of William Cagney',\n",
       "  {'entities': [(18, 23, 'predicate')]}),\n",
       " ('Could you please show me an image of Kinan Azmeh?',\n",
       "  {'entities': [(28, 33, 'predicate')]}),\n",
       " (\"I'm curious about Luis Mendo's appearance. Can you provide a picture?\",\n",
       "  {'entities': [(61, 68, 'predicate')]}),\n",
       " ('Do you have a photo of Carole Scotta?',\n",
       "  {'entities': [(14, 19, 'predicate')]}),\n",
       " (\"I'd like to see a photo of Gert Wilden jr.\",\n",
       "  {'entities': [(18, 23, 'predicate')]}),\n",
       " ('Do you have any visuals or pictures related to <movie_name> that you can share?',\n",
       "  {'entities': [(16, 22, 'predicate')]}),\n",
       " ('Recommend movies like Eduardo Barinaga',\n",
       "  {'entities': [(0, 9, 'predicate')]}),\n",
       " ('Recommend me some films in the same vein as Bruno Levy.',\n",
       "  {'entities': [(0, 9, 'predicate')]}),\n",
       " ('Recommend movies similar to Vadde Ramesh.',\n",
       "  {'entities': [(0, 9, 'predicate')]}),\n",
       " ('Recommend some films like Qigang Chen.',\n",
       "  {'entities': [(0, 9, 'predicate')]}),\n",
       " ('Recommend me some movies in the same vein as Cristobal Tapia de Veer.',\n",
       "  {'entities': [(0, 9, 'predicate')]}),\n",
       " ('Recommend any good movies similar to Stu Phillips.',\n",
       "  {'entities': [(0, 9, 'predicate')]}),\n",
       " ('Recommend films similar to Krzysztof Penderecki that I should watch.',\n",
       "  {'entities': [(0, 9, 'predicate')]}),\n",
       " ('Show me a picture of Steve Lynch', {'entities': [(10, 17, 'predicate')]}),\n",
       " ('Have you any images of Nicholas Britell',\n",
       "  {'entities': [(13, 18, 'predicate')]}),\n",
       " ('Can you display a photo of Jack Livesey',\n",
       "  {'entities': [(18, 23, 'predicate')]}),\n",
       " ('Could you please show me an image of Greg Kurstin?',\n",
       "  {'entities': [(28, 33, 'predicate')]}),\n",
       " (\"I'm curious about Florian Volxem's appearance. Can you provide a picture?\",\n",
       "  {'entities': [(65, 72, 'predicate')]}),\n",
       " ('Do you have a photo of Robert J. Walsh?',\n",
       "  {'entities': [(14, 19, 'predicate')]}),\n",
       " (\"I'd like to see a photo of Niels Gade\",\n",
       "  {'entities': [(18, 23, 'predicate')]}),\n",
       " ('Do you have any visuals or pictures related to <movie_name> that you can share?',\n",
       "  {'entities': [(16, 22, 'predicate')]}),\n",
       " ('Recommend movies like Vanraj Bhatia', {'entities': [(0, 9, 'predicate')]}),\n",
       " ('Recommend me some films in the same vein as John Dark.',\n",
       "  {'entities': [(0, 9, 'predicate')]}),\n",
       " ('Recommend movies similar to Udo Jürgens.',\n",
       "  {'entities': [(0, 9, 'predicate')]}),\n",
       " ('Recommend some films like Daniele Amfitheatrof.',\n",
       "  {'entities': [(0, 9, 'predicate')]}),\n",
       " ('Recommend me some movies in the same vein as Sarah Pillsbury.',\n",
       "  {'entities': [(0, 9, 'predicate')]}),\n",
       " ('Recommend any good movies similar to Gunther Witte.',\n",
       "  {'entities': [(0, 9, 'predicate')]}),\n",
       " ('Recommend films similar to Gus Viseur that I should watch.',\n",
       "  {'entities': [(0, 9, 'predicate')]}),\n",
       " ('Show me a picture of Monica C. Lozano',\n",
       "  {'entities': [(10, 17, 'predicate')]}),\n",
       " ('Have you any images of Bonnie Tyler',\n",
       "  {'entities': [(13, 18, 'predicate')]}),\n",
       " ('Can you display a photo of Lele Marchitelli',\n",
       "  {'entities': [(18, 23, 'predicate')]}),\n",
       " ('Could you please show me an image of Sergey Melkumov?',\n",
       "  {'entities': [(28, 33, 'predicate')]}),\n",
       " (\"I'm curious about Alfred Schnittke's appearance. Can you provide a picture?\",\n",
       "  {'entities': [(67, 74, 'predicate')]}),\n",
       " ('Do you have a photo of Howard Gottfried?',\n",
       "  {'entities': [(14, 19, 'predicate')]}),\n",
       " (\"I'd like to see a photo of Hans Peter Ströer\",\n",
       "  {'entities': [(18, 23, 'predicate')]}),\n",
       " ('Do you have any visuals or pictures related to <movie_name> that you can share?',\n",
       "  {'entities': [(16, 22, 'predicate')]}),\n",
       " ('Recommend movies like Masha Qrella', {'entities': [(0, 9, 'predicate')]}),\n",
       " ('Recommend me some films in the same vein as Murray Shostak.',\n",
       "  {'entities': [(0, 9, 'predicate')]}),\n",
       " ('Recommend movies similar to Lindsey Collins.',\n",
       "  {'entities': [(0, 9, 'predicate')]}),\n",
       " ('Recommend some films like Harold Rome.',\n",
       "  {'entities': [(0, 9, 'predicate')]}),\n",
       " ('Recommend me some movies in the same vein as Signe Byrge Sørensen.',\n",
       "  {'entities': [(0, 9, 'predicate')]}),\n",
       " ('Recommend any good movies similar to Gabrielle Tana.',\n",
       "  {'entities': [(0, 9, 'predicate')]}),\n",
       " ('Recommend films similar to Richard Shepherd that I should watch.',\n",
       "  {'entities': [(0, 9, 'predicate')]}),\n",
       " ('Show me a picture of Peter Matz', {'entities': [(10, 17, 'predicate')]}),\n",
       " ('Have you any images of Herschel Burke Gilbert',\n",
       "  {'entities': [(13, 18, 'predicate')]}),\n",
       " ('Can you display a photo of Leo Erdody',\n",
       "  {'entities': [(18, 23, 'predicate')]}),\n",
       " ('Could you please show me an image of James B. Donovan?',\n",
       "  {'entities': [(28, 33, 'predicate')]}),\n",
       " (\"I'm curious about Gabriel Katzka's appearance. Can you provide a picture?\",\n",
       "  {'entities': [(65, 72, 'predicate')]}),\n",
       " ('Do you have a photo of Hendrik Schwarzer?',\n",
       "  {'entities': [(14, 19, 'predicate')]}),\n",
       " (\"I'd like to see a photo of Sisse Graum Jørgensen\",\n",
       "  {'entities': [(18, 23, 'predicate')]}),\n",
       " ('Do you have any visuals or pictures related to <movie_name> that you can share?',\n",
       "  {'entities': [(16, 22, 'predicate')]}),\n",
       " ('Recommend movies like Herb Jaffe', {'entities': [(0, 9, 'predicate')]}),\n",
       " ('Recommend me some films in the same vein as Marcel Dassault.',\n",
       "  {'entities': [(0, 9, 'predicate')]}),\n",
       " ('Recommend movies similar to Herbert Stothart.',\n",
       "  {'entities': [(0, 9, 'predicate')]}),\n",
       " ('Recommend some films like Cha Seung-jae.',\n",
       "  {'entities': [(0, 9, 'predicate')]}),\n",
       " ('Recommend me some movies in the same vein as Artie Butler.',\n",
       "  {'entities': [(0, 9, 'predicate')]}),\n",
       " ('Recommend any good movies similar to Allan Zavod.',\n",
       "  {'entities': [(0, 9, 'predicate')]}),\n",
       " ('Recommend films similar to Michael Riessler that I should watch.',\n",
       "  {'entities': [(0, 9, 'predicate')]}),\n",
       " ('Show me a picture of Metinee Kingpayome',\n",
       "  {'entities': [(10, 17, 'predicate')]}),\n",
       " ('Have you any images of John McCarthy',\n",
       "  {'entities': [(13, 18, 'predicate')]}),\n",
       " ('Can you display a photo of Prem Prakash',\n",
       "  {'entities': [(18, 23, 'predicate')]}),\n",
       " ('Could you please show me an image of Arnold Stiefel?',\n",
       "  {'entities': [(28, 33, 'predicate')]}),\n",
       " (\"I'm curious about James Weaver's appearance. Can you provide a picture?\",\n",
       "  {'entities': [(63, 70, 'predicate')]}),\n",
       " ('Do you have a photo of Carlo Tuzii?',\n",
       "  {'entities': [(14, 19, 'predicate')]}),\n",
       " (\"I'd like to see a photo of Nathaniel Shilkret\",\n",
       "  {'entities': [(18, 23, 'predicate')]}),\n",
       " ('Do you have any visuals or pictures related to <movie_name> that you can share?',\n",
       "  {'entities': [(16, 22, 'predicate')]}),\n",
       " ('Recommend movies like Riccardo Del Fra',\n",
       "  {'entities': [(0, 9, 'predicate')]}),\n",
       " ('Recommend me some films in the same vein as Alicia Remirez.',\n",
       "  {'entities': [(0, 9, 'predicate')]}),\n",
       " ('Recommend movies similar to Aleksandr Litvinov.',\n",
       "  {'entities': [(0, 9, 'predicate')]}),\n",
       " ('Recommend some films like Knut Schreiner.',\n",
       "  {'entities': [(0, 9, 'predicate')]}),\n",
       " ('Recommend me some movies in the same vein as Alexander Borodin.',\n",
       "  {'entities': [(0, 9, 'predicate')]}),\n",
       " ('Recommend any good movies similar to Georgy Malkov.',\n",
       "  {'entities': [(0, 9, 'predicate')]}),\n",
       " ('Recommend films similar to Vladimir Osinsky that I should watch.',\n",
       "  {'entities': [(0, 9, 'predicate')]}),\n",
       " ('Show me a picture of Masha Slonim', {'entities': [(10, 17, 'predicate')]}),\n",
       " ('Have you any images of Charles Court',\n",
       "  {'entities': [(13, 18, 'predicate')]}),\n",
       " ('Can you display a photo of Giampaolo Letta',\n",
       "  {'entities': [(18, 23, 'predicate')]}),\n",
       " ('Could you please show me an image of Javier Ibarretxe?',\n",
       "  {'entities': [(28, 33, 'predicate')]}),\n",
       " (\"I'm curious about Roman Jarosz's appearance. Can you provide a picture?\",\n",
       "  {'entities': [(63, 70, 'predicate')]}),\n",
       " ('Do you have a photo of Michelle?', {'entities': [(14, 19, 'predicate')]}),\n",
       " (\"I'd like to see a photo of Sonia Raule\",\n",
       "  {'entities': [(18, 23, 'predicate')]}),\n",
       " ('Do you have any visuals or pictures related to <movie_name> that you can share?',\n",
       "  {'entities': [(16, 22, 'predicate')]}),\n",
       " ('Recommend movies like Andrey Zuyev', {'entities': [(0, 9, 'predicate')]}),\n",
       " ('Recommend me some films in the same vein as Piero Piccioni.',\n",
       "  {'entities': [(0, 9, 'predicate')]}),\n",
       " ('Recommend movies similar to Mowg.', {'entities': [(0, 9, 'predicate')]}),\n",
       " ('Recommend some films like Bonar Law.', {'entities': [(0, 9, 'predicate')]}),\n",
       " ('Recommend me some movies in the same vein as Darya Khlyostkina.',\n",
       "  {'entities': [(0, 9, 'predicate')]}),\n",
       " ('Recommend any good movies similar to Steve Boeddeker.',\n",
       "  {'entities': [(0, 9, 'predicate')]}),\n",
       " ('Recommend films similar to Johnny Jewel that I should watch.',\n",
       "  {'entities': [(0, 9, 'predicate')]}),\n",
       " ('Show me a picture of Pascaline Edwards',\n",
       "  {'entities': [(10, 17, 'predicate')]}),\n",
       " ('Have you any images of Ivan Vandor', {'entities': [(13, 18, 'predicate')]}),\n",
       " ('Can you display a photo of Jack Elliott',\n",
       "  {'entities': [(18, 23, 'predicate')]}),\n",
       " ('Could you please show me an image of Jana Sue Memel?',\n",
       "  {'entities': [(28, 33, 'predicate')]}),\n",
       " (\"I'm curious about Jean-Jacques Grunenwald's appearance. Can you provide a picture?\",\n",
       "  {'entities': [(74, 81, 'predicate')]}),\n",
       " ('Do you have a photo of Jean Corti?', {'entities': [(14, 19, 'predicate')]}),\n",
       " (\"I'd like to see a photo of Alison Goldfrapp\",\n",
       "  {'entities': [(18, 23, 'predicate')]}),\n",
       " ('Do you have any visuals or pictures related to <movie_name> that you can share?',\n",
       "  {'entities': [(16, 22, 'predicate')]}),\n",
       " ('Recommend movies like Joby Talbot', {'entities': [(0, 9, 'predicate')]}),\n",
       " ('Recommend me some films in the same vein as Jochen Laube.',\n",
       "  {'entities': [(0, 9, 'predicate')]}),\n",
       " ('Recommend movies similar to Joel Hirschhorn.',\n",
       "  {'entities': [(0, 9, 'predicate')]}),\n",
       " ('Recommend some films like Walter Donaldson.',\n",
       "  {'entities': [(0, 9, 'predicate')]}),\n",
       " ('Recommend me some movies in the same vein as Doug Mitchell.',\n",
       "  {'entities': [(0, 9, 'predicate')]}),\n",
       " ('Recommend any good movies similar to John Rea.',\n",
       "  {'entities': [(0, 9, 'predicate')]}),\n",
       " ('Recommend films similar to Vincenzo Bellini that I should watch.',\n",
       "  {'entities': [(0, 9, 'predicate')]}),\n",
       " ('Show me a picture of Joja Wendt', {'entities': [(10, 17, 'predicate')]}),\n",
       " ('Have you any images of Luciano', {'entities': [(13, 18, 'predicate')]}),\n",
       " ('Can you display a photo of Joseph Carl Breil',\n",
       "  {'entities': [(18, 23, 'predicate')]}),\n",
       " ('Could you please show me an image of José Nieto?',\n",
       "  {'entities': [(28, 33, 'predicate')]}),\n",
       " (\"I'm curious about Julian Blaustein's appearance. Can you provide a picture?\",\n",
       "  {'entities': [(67, 74, 'predicate')]}),\n",
       " ('Do you have a photo of Julian Maas?',\n",
       "  {'entities': [(14, 19, 'predicate')]}),\n",
       " (\"I'd like to see a photo of Yuri Khanon\",\n",
       "  {'entities': [(18, 23, 'predicate')]}),\n",
       " ('Do you have any visuals or pictures related to <movie_name> that you can share?',\n",
       "  {'entities': [(16, 22, 'predicate')]}),\n",
       " ('Recommend movies like Kazimierz Serocki',\n",
       "  {'entities': [(0, 9, 'predicate')]}),\n",
       " ('Recommend me some films in the same vein as Kadir Sözen.',\n",
       "  {'entities': [(0, 9, 'predicate')]}),\n",
       " ('Recommend movies similar to Amy Lee.', {'entities': [(0, 9, 'predicate')]}),\n",
       " ('Recommend some films like Karel Dirka.',\n",
       "  {'entities': [(0, 9, 'predicate')]}),\n",
       " ('Recommend me some movies in the same vein as Jacques Maumont.',\n",
       "  {'entities': [(0, 9, 'predicate')]}),\n",
       " ('Recommend any good movies similar to Thomas Konrad.',\n",
       "  {'entities': [(0, 9, 'predicate')]}),\n",
       " ('Recommend films similar to Ardo Ran Varres that I should watch.',\n",
       "  {'entities': [(0, 9, 'predicate')]}),\n",
       " ('Show me a picture of Turi Vasile', {'entities': [(10, 17, 'predicate')]}),\n",
       " ('Have you any images of David Darling',\n",
       "  {'entities': [(13, 18, 'predicate')]}),\n",
       " ('Can you display a photo of Louis Forbes',\n",
       "  {'entities': [(18, 23, 'predicate')]}),\n",
       " ('Could you please show me an image of Pierre Latour?',\n",
       "  {'entities': [(28, 33, 'predicate')]}),\n",
       " (\"I'm curious about Ed Côrtes's appearance. Can you provide a picture?\",\n",
       "  {'entities': [(60, 67, 'predicate')]}),\n",
       " ('Do you have a photo of Maurice Le Roux?',\n",
       "  {'entities': [(14, 19, 'predicate')]}),\n",
       " (\"I'd like to see a photo of Francisco Augusto Neto Ramos\",\n",
       "  {'entities': [(18, 23, 'predicate')]}),\n",
       " ('Do you have any visuals or pictures related to <movie_name> that you can share?',\n",
       "  {'entities': [(16, 22, 'predicate')]}),\n",
       " ('Recommend movies like Andreas Schneppe',\n",
       "  {'entities': [(0, 9, 'predicate')]}),\n",
       " ('Recommend me some films in the same vein as Hanna Elffors Elfström.',\n",
       "  {'entities': [(0, 9, 'predicate')]}),\n",
       " ('Recommend movies similar to Eicca Toppinen.',\n",
       "  {'entities': [(0, 9, 'predicate')]}),\n",
       " ('Recommend some films like Kurt Stocker.',\n",
       "  {'entities': [(0, 9, 'predicate')]}),\n",
       " ('Recommend me some movies in the same vein as Paolo Conte.',\n",
       "  {'entities': [(0, 9, 'predicate')]}),\n",
       " ('Recommend any good movies similar to Edward Elgar.',\n",
       "  {'entities': [(0, 9, 'predicate')]}),\n",
       " ('Recommend films similar to Charles Gounod that I should watch.',\n",
       "  {'entities': [(0, 9, 'predicate')]}),\n",
       " ('Show me a picture of Larry Goldings',\n",
       "  {'entities': [(10, 17, 'predicate')]}),\n",
       " ('Have you any images of Jim Williams',\n",
       "  {'entities': [(13, 18, 'predicate')]}),\n",
       " ('Can you display a photo of Rudolf Abel',\n",
       "  {'entities': [(18, 23, 'predicate')]}),\n",
       " ('Could you please show me an image of Lennie Niehaus?',\n",
       "  {'entities': [(28, 33, 'predicate')]}),\n",
       " (\"I'm curious about Lenny White's appearance. Can you provide a picture?\",\n",
       "  {'entities': [(62, 69, 'predicate')]}),\n",
       " ('Do you have a photo of Leo F. Forbstein?',\n",
       "  {'entities': [(14, 19, 'predicate')]}),\n",
       " (\"I'd like to see a photo of Leo Shuken\",\n",
       "  {'entities': [(18, 23, 'predicate')]}),\n",
       " ('Do you have any visuals or pictures related to <movie_name> that you can share?',\n",
       "  {'entities': [(16, 22, 'predicate')]}),\n",
       " ('Recommend movies like Leonid Rozhetskin',\n",
       "  {'entities': [(0, 9, 'predicate')]}),\n",
       " ('Recommend me some films in the same vein as Henryk Chroscicki.',\n",
       "  {'entities': [(0, 9, 'predicate')]}),\n",
       " ('Recommend movies similar to Alessandro Scarlatti.',\n",
       "  {'entities': [(0, 9, 'predicate')]}),\n",
       " ('Recommend some films like Vasily Zaytsev.',\n",
       "  {'entities': [(0, 9, 'predicate')]}),\n",
       " ('Recommend me some movies in the same vein as Ian Fraser.',\n",
       "  {'entities': [(0, 9, 'predicate')]}),\n",
       " ('Recommend any good movies similar to Samuele Bersani.',\n",
       "  {'entities': [(0, 9, 'predicate')]}),\n",
       " ('Recommend films similar to Leoš Janáček that I should watch.',\n",
       "  {'entities': [(0, 9, 'predicate')]}),\n",
       " ('Show me a picture of David Choi', {'entities': [(10, 17, 'predicate')]}),\n",
       " ('Have you any images of Carrie Wong', {'entities': [(13, 18, 'predicate')]}),\n",
       " ('Can you display a photo of Loek Dikker',\n",
       "  {'entities': [(18, 23, 'predicate')]}),\n",
       " ('Could you please show me an image of Richard Portman?',\n",
       "  {'entities': [(28, 33, 'predicate')]}),\n",
       " (\"I'm curious about Lusine's appearance. Can you provide a picture?\",\n",
       "  {'entities': [(57, 64, 'predicate')]}),\n",
       " ('Do you have a photo of Lydie Auvray?',\n",
       "  {'entities': [(14, 19, 'predicate')]}),\n",
       " (\"I'd like to see a photo of David Hentschel\",\n",
       "  {'entities': [(18, 23, 'predicate')]}),\n",
       " ('Do you have any visuals or pictures related to <movie_name> that you can share?',\n",
       "  {'entities': [(16, 22, 'predicate')]}),\n",
       " ('Recommend movies like Arvo Pärt', {'entities': [(0, 9, 'predicate')]}),\n",
       " ('Recommend me some films in the same vein as Marlin Skiles.',\n",
       "  {'entities': [(0, 9, 'predicate')]}),\n",
       " ('Recommend movies similar to Martin Manulis.',\n",
       "  {'entities': [(0, 9, 'predicate')]}),\n",
       " ('Recommend some films like Martin Stock.',\n",
       "  {'entities': [(0, 9, 'predicate')]}),\n",
       " ('Recommend me some movies in the same vein as Marvin Hatley.',\n",
       "  {'entities': [(0, 9, 'predicate')]}),\n",
       " ('Recommend any good movies similar to Mary Selway.',\n",
       "  {'entities': [(0, 9, 'predicate')]}),\n",
       " ('Recommend films similar to Matt Cohen that I should watch.',\n",
       "  {'entities': [(0, 9, 'predicate')]}),\n",
       " ('Show me a picture of Matt Johnson', {'entities': [(10, 17, 'predicate')]}),\n",
       " ('Have you any images of Francis Poulenc',\n",
       "  {'entities': [(13, 18, 'predicate')]}),\n",
       " ('Can you display a photo of Alex Gottlieb',\n",
       "  {'entities': [(18, 23, 'predicate')]}),\n",
       " ('Could you please show me an image of Michał Lorenc?',\n",
       "  {'entities': [(28, 33, 'predicate')]}),\n",
       " (\"I'm curious about Michel Michelet's appearance. Can you provide a picture?\",\n",
       "  {'entities': [(66, 73, 'predicate')]}),\n",
       " ('Do you have a photo of O.S.T.R.?', {'entities': [(14, 19, 'predicate')]}),\n",
       " (\"I'd like to see a photo of Goran Bregović\",\n",
       "  {'entities': [(18, 23, 'predicate')]}),\n",
       " ('Do you have any visuals or pictures related to <movie_name> that you can share?',\n",
       "  {'entities': [(16, 22, 'predicate')]}),\n",
       " ('Recommend movies like Michael Moran', {'entities': [(0, 9, 'predicate')]}),\n",
       " ('Recommend me some films in the same vein as RJD2.',\n",
       "  {'entities': [(0, 9, 'predicate')]}),\n",
       " ('Recommend movies similar to Alexander Knaifel.',\n",
       "  {'entities': [(0, 9, 'predicate')]}),\n",
       " ('Recommend some films like Richard B. Goodwin.',\n",
       "  {'entities': [(0, 9, 'predicate')]}),\n",
       " ('Recommend me some movies in the same vein as John Lesher.',\n",
       "  {'entities': [(0, 9, 'predicate')]}),\n",
       " ('Recommend any good movies similar to Mino Cinelu.',\n",
       "  {'entities': [(0, 9, 'predicate')]}),\n",
       " ('Recommend films similar to Ola Fløttum that I should watch.',\n",
       "  {'entities': [(0, 9, 'predicate')]}),\n",
       " ('Show me a picture of Miroslav Tadić',\n",
       "  {'entities': [(10, 17, 'predicate')]}),\n",
       " ('Have you any images of Franco Rossellini',\n",
       "  {'entities': [(13, 18, 'predicate')]}),\n",
       " ('Can you display a photo of Mondkopf',\n",
       "  {'entities': [(18, 23, 'predicate')]}),\n",
       " ('Could you please show me an image of Alexey Rybnikov?',\n",
       "  {'entities': [(28, 33, 'predicate')]}),\n",
       " (\"I'm curious about James White's appearance. Can you provide a picture?\",\n",
       "  {'entities': [(62, 69, 'predicate')]}),\n",
       " ('Do you have a photo of Adriano Cominotto?',\n",
       "  {'entities': [(14, 19, 'predicate')]}),\n",
       " (\"I'd like to see a photo of Ted Sarandos\",\n",
       "  {'entities': [(18, 23, 'predicate')]}),\n",
       " ('Do you have any visuals or pictures related to <movie_name> that you can share?',\n",
       "  {'entities': [(16, 22, 'predicate')]}),\n",
       " ('Recommend movies like Ralph Burns', {'entities': [(0, 9, 'predicate')]}),\n",
       " ('Recommend me some films in the same vein as Vladimir Dashkevich.',\n",
       "  {'entities': [(0, 9, 'predicate')]}),\n",
       " ('Recommend movies similar to Otomo Yoshihide.',\n",
       "  {'entities': [(0, 9, 'predicate')]}),\n",
       " ('Recommend some films like Cyrille Aufort.',\n",
       "  {'entities': [(0, 9, 'predicate')]}),\n",
       " ('Recommend me some movies in the same vein as Ned Washington.',\n",
       "  {'entities': [(0, 9, 'predicate')]}),\n",
       " ('Recommend any good movies similar to Neffa.',\n",
       "  {'entities': [(0, 9, 'predicate')]}),\n",
       " ('Recommend films similar to Yevgeny Nikishov that I should watch.',\n",
       "  {'entities': [(0, 9, 'predicate')]}),\n",
       " ('Show me a picture of Nicholas Sillitoe',\n",
       "  {'entities': [(10, 17, 'predicate')]}),\n",
       " ('Have you any images of Dan Friedkin',\n",
       "  {'entities': [(13, 18, 'predicate')]}),\n",
       " ('Can you display a photo of Ilya Demutsky',\n",
       "  {'entities': [(18, 23, 'predicate')]}),\n",
       " ('Could you please show me an image of Clarence Öfwerman?',\n",
       "  {'entities': [(28, 33, 'predicate')]}),\n",
       " (\"I'm curious about David Lancaster's appearance. Can you provide a picture?\",\n",
       "  {'entities': [(66, 73, 'predicate')]}),\n",
       " ('Do you have a photo of Andy Cohen?', {'entities': [(14, 19, 'predicate')]}),\n",
       " (\"I'd like to see a photo of Karuan\", {'entities': [(18, 23, 'predicate')]}),\n",
       " ('Do you have any visuals or pictures related to <movie_name> that you can share?',\n",
       "  {'entities': [(16, 22, 'predicate')]}),\n",
       " ('Recommend movies like Morrissey', {'entities': [(0, 9, 'predicate')]}),\n",
       " ('Recommend me some films in the same vein as Richard Blumenthal.',\n",
       "  {'entities': [(0, 9, 'predicate')]}),\n",
       " ('Recommend movies similar to Oscar Brazzi.',\n",
       "  {'entities': [(0, 9, 'predicate')]}),\n",
       " ('Recommend some films like Oscar Brown, Jr..',\n",
       "  {'entities': [(0, 9, 'predicate')]}),\n",
       " ('Recommend me some movies in the same vein as Makoto Ozone.',\n",
       "  {'entities': [(0, 9, 'predicate')]}),\n",
       " ('Recommend any good movies similar to Maury Yeston.',\n",
       "  {'entities': [(0, 9, 'predicate')]}),\n",
       " ('Recommend films similar to M. K. Arjunan that I should watch.',\n",
       "  {'entities': [(0, 9, 'predicate')]}),\n",
       " ('Show me a picture of Pasquale Catalano',\n",
       "  {'entities': [(10, 17, 'predicate')]}),\n",
       " ('Have you any images of Paul Dunlap', {'entities': [(13, 18, 'predicate')]}),\n",
       " ('Can you display a photo of Paul Hoffert',\n",
       "  {'entities': [(18, 23, 'predicate')]}),\n",
       " ('Could you please show me an image of Frank Arrigo?',\n",
       "  {'entities': [(28, 33, 'predicate')]}),\n",
       " (\"I'm curious about Bugzy Malone's appearance. Can you provide a picture?\",\n",
       "  {'entities': [(63, 70, 'predicate')]}),\n",
       " ('Do you have a photo of Peter Gotthardt?',\n",
       "  {'entities': [(14, 19, 'predicate')]}),\n",
       " (\"I'd like to see a photo of Peter Hahne\",\n",
       "  {'entities': [(18, 23, 'predicate')]}),\n",
       " ('Do you have any visuals or pictures related to <movie_name> that you can share?',\n",
       "  {'entities': [(16, 22, 'predicate')]}),\n",
       " ('Recommend movies like Peter Plate', {'entities': [(0, 9, 'predicate')]}),\n",
       " ('Recommend me some films in the same vein as Peter Rodgers Melnick.',\n",
       "  {'entities': [(0, 9, 'predicate')]}),\n",
       " ('Recommend movies similar to Manolito.',\n",
       "  {'entities': [(0, 9, 'predicate')]}),\n",
       " ('Recommend some films like Ralph Vaughan Williams.',\n",
       "  {'entities': [(0, 9, 'predicate')]}),\n",
       " ('Recommend me some movies in the same vein as Karol Sevilla.',\n",
       "  {'entities': [(0, 9, 'predicate')]}),\n",
       " ('Recommend any good movies similar to Helge Slikker.',\n",
       "  {'entities': [(0, 9, 'predicate')]}),\n",
       " ('Recommend films similar to DVV Danayya that I should watch.',\n",
       "  {'entities': [(0, 9, 'predicate')]}),\n",
       " ('Show me a picture of Jan van der Zanden',\n",
       "  {'entities': [(10, 17, 'predicate')]}),\n",
       " ('Have you any images of Mikhail Kostylev',\n",
       "  {'entities': [(13, 18, 'predicate')]}),\n",
       " ('Can you display a photo of Aleksey Zubarev',\n",
       "  {'entities': [(18, 23, 'predicate')]}),\n",
       " ('Could you please show me an image of Álvaro Augustín?',\n",
       "  {'entities': [(28, 33, 'predicate')]}),\n",
       " (\"I'm curious about Paul Dessau's appearance. Can you provide a picture?\",\n",
       "  {'entities': [(62, 69, 'predicate')]}),\n",
       " ('Do you have a photo of Ernst Toch?', {'entities': [(14, 19, 'predicate')]}),\n",
       " (\"I'd like to see a photo of Pat Metheny\",\n",
       "  {'entities': [(18, 23, 'predicate')]}),\n",
       " ('Do you have any visuals or pictures related to <movie_name> that you can share?',\n",
       "  {'entities': [(16, 22, 'predicate')]}),\n",
       " ('Recommend movies like Reiner Bredemeyer',\n",
       "  {'entities': [(0, 9, 'predicate')]}),\n",
       " ('Recommend me some films in the same vein as Mátyás Seiber.',\n",
       "  {'entities': [(0, 9, 'predicate')]}),\n",
       " ('Recommend movies similar to Rich Robinson.',\n",
       "  {'entities': [(0, 9, 'predicate')]}),\n",
       " ('Recommend some films like Robert Blum.',\n",
       "  {'entities': [(0, 9, 'predicate')]}),\n",
       " ('Recommend me some movies in the same vein as Jacek Moczydłowski.',\n",
       "  {'entities': [(0, 9, 'predicate')]}),\n",
       " ('Recommend any good movies similar to Otto Hermann Kahn.',\n",
       "  {'entities': [(0, 9, 'predicate')]}),\n",
       " ('Recommend films similar to Gerhard Daum that I should watch.',\n",
       "  {'entities': [(0, 9, 'predicate')]}),\n",
       " ('Show me a picture of Werner R. Heymann',\n",
       "  {'entities': [(10, 17, 'predicate')]}),\n",
       " ('Have you any images of Robert Daley',\n",
       "  {'entities': [(13, 18, 'predicate')]}),\n",
       " ('Can you display a photo of Robert E. Dolan',\n",
       "  {'entities': [(18, 23, 'predicate')]}),\n",
       " ('Could you please show me an image of Samuel Barber?',\n",
       "  {'entities': [(28, 33, 'predicate')]}),\n",
       " (\"I'm curious about Glenn Gould's appearance. Can you provide a picture?\",\n",
       "  {'entities': [(62, 69, 'predicate')]}),\n",
       " ('Do you have a photo of Sabine Veenendaal?',\n",
       "  {'entities': [(14, 19, 'predicate')]}),\n",
       " (\"I'd like to see a photo of Andreas Hoge\",\n",
       "  {'entities': [(18, 23, 'predicate')]}),\n",
       " ('Do you have any visuals or pictures related to <movie_name> that you can share?',\n",
       "  {'entities': [(16, 22, 'predicate')]}),\n",
       " ('Recommend movies like Richard Stone', {'entities': [(0, 9, 'predicate')]}),\n",
       " ('Recommend me some films in the same vein as Fran Villalba.',\n",
       "  {'entities': [(0, 9, 'predicate')]}),\n",
       " ('Recommend movies similar to Ed Guiney.',\n",
       "  {'entities': [(0, 9, 'predicate')]}),\n",
       " ('Recommend some films like Amanda Posey.',\n",
       "  {'entities': [(0, 9, 'predicate')]}),\n",
       " ('Recommend me some movies in the same vein as Michael Sugar.',\n",
       "  {'entities': [(0, 9, 'predicate')]}),\n",
       " ('Recommend any good movies similar to Blye Pagon Faust.',\n",
       "  {'entities': [(0, 9, 'predicate')]}),\n",
       " ('Recommend films similar to Nicole Rocklin that I should watch.',\n",
       "  {'entities': [(0, 9, 'predicate')]}),\n",
       " ('Show me a picture of G.B. Smith', {'entities': [(10, 17, 'predicate')]}),\n",
       " ('Have you any images of Luis Manso', {'entities': [(13, 18, 'predicate')]}),\n",
       " ('Can you display a photo of Wendi Murdoch',\n",
       "  {'entities': [(18, 23, 'predicate')]}),\n",
       " ('Could you please show me an image of Sandro Aguilar?',\n",
       "  {'entities': [(28, 33, 'predicate')]}),\n",
       " (\"I'm curious about Preston Corbell's appearance. Can you provide a picture?\",\n",
       "  {'entities': [(66, 73, 'predicate')]}),\n",
       " ('Do you have a photo of Frank Perkins?',\n",
       "  {'entities': [(14, 19, 'predicate')]}),\n",
       " (\"I'd like to see a photo of Aphex Twin\",\n",
       "  {'entities': [(18, 23, 'predicate')]}),\n",
       " ('Do you have any visuals or pictures related to <movie_name> that you can share?',\n",
       "  {'entities': [(16, 22, 'predicate')]}),\n",
       " ('Recommend movies like Seelenluft', {'entities': [(0, 9, 'predicate')]}),\n",
       " ('Recommend me some films in the same vein as Jesús Glück Sarasibar.',\n",
       "  {'entities': [(0, 9, 'predicate')]}),\n",
       " ('Recommend movies similar to John Stepan Zamecnik.',\n",
       "  {'entities': [(0, 9, 'predicate')]}),\n",
       " ('Recommend some films like Jamie Saft.',\n",
       "  {'entities': [(0, 9, 'predicate')]}),\n",
       " ('Recommend me some movies in the same vein as Adam Samuel Goldman.',\n",
       "  {'entities': [(0, 9, 'predicate')]}),\n",
       " ('Recommend any good movies similar to Shunsuke Kikuchi.',\n",
       "  {'entities': [(0, 9, 'predicate')]}),\n",
       " ('Recommend films similar to Theo Nijland that I should watch.',\n",
       "  {'entities': [(0, 9, 'predicate')]}),\n",
       " ('Show me a picture of Toshihiko Sahashi',\n",
       "  {'entities': [(10, 17, 'predicate')]}),\n",
       " ('Have you any images of Gianna Nannini',\n",
       "  {'entities': [(13, 18, 'predicate')]}),\n",
       " ('Can you display a photo of Johnny Green',\n",
       "  {'entities': [(18, 23, 'predicate')]}),\n",
       " ('Could you please show me an image of Stefan Nilsson?',\n",
       "  {'entities': [(28, 33, 'predicate')]}),\n",
       " (\"I'm curious about Purvis Short's appearance. Can you provide a picture?\",\n",
       "  {'entities': [(63, 70, 'predicate')]}),\n",
       " ('Do you have a photo of Roman Vlad?', {'entities': [(14, 19, 'predicate')]}),\n",
       " (\"I'd like to see a photo of Stephan Remmler\",\n",
       "  {'entities': [(18, 23, 'predicate')]}),\n",
       " ('Do you have any visuals or pictures related to <movie_name> that you can share?',\n",
       "  {'entities': [(16, 22, 'predicate')]}),\n",
       " ('Recommend movies like Émilie Simon', {'entities': [(0, 9, 'predicate')]}),\n",
       " ('Recommend me some films in the same vein as R. Stevie Moore.',\n",
       "  {'entities': [(0, 9, 'predicate')]}),\n",
       " ('Recommend movies similar to Ed Tomney.',\n",
       "  {'entities': [(0, 9, 'predicate')]}),\n",
       " ('Recommend some films like Dirk Impens.',\n",
       "  {'entities': [(0, 9, 'predicate')]}),\n",
       " ('Recommend me some movies in the same vein as Lo Ta-yu.',\n",
       "  {'entities': [(0, 9, 'predicate')]}),\n",
       " ('Recommend any good movies similar to Robert Bevan.',\n",
       "  {'entities': [(0, 9, 'predicate')]}),\n",
       " ('Recommend films similar to Souad Massi that I should watch.',\n",
       "  {'entities': [(0, 9, 'predicate')]}),\n",
       " ('Show me a picture of Christopher Ward',\n",
       "  {'entities': [(10, 17, 'predicate')]}),\n",
       " ('Have you any images of Melissa Reese',\n",
       "  {'entities': [(13, 18, 'predicate')]}),\n",
       " ('Can you display a photo of Diane Warren',\n",
       "  {'entities': [(18, 23, 'predicate')]}),\n",
       " ('Could you please show me an image of Ikuma Dan?',\n",
       "  {'entities': [(28, 33, 'predicate')]}),\n",
       " (\"I'm curious about Michele Braga's appearance. Can you provide a picture?\",\n",
       "  {'entities': [(64, 71, 'predicate')]}),\n",
       " ('Do you have a photo of Chad Fischer?',\n",
       "  {'entities': [(14, 19, 'predicate')]}),\n",
       " (\"I'd like to see a photo of André Stern\",\n",
       "  {'entities': [(18, 23, 'predicate')]}),\n",
       " ('Do you have any visuals or pictures related to <movie_name> that you can share?',\n",
       "  {'entities': [(16, 22, 'predicate')]}),\n",
       " ('Recommend movies like Stephin Merritt',\n",
       "  {'entities': [(0, 9, 'predicate')]}),\n",
       " ('Recommend me some films in the same vein as Carolyn Bennett.',\n",
       "  {'entities': [(0, 9, 'predicate')]}),\n",
       " ('Recommend movies similar to Terry Sanders.',\n",
       "  {'entities': [(0, 9, 'predicate')]}),\n",
       " ('Recommend some films like Jeong Jin-ho.',\n",
       "  {'entities': [(0, 9, 'predicate')]}),\n",
       " ('Recommend me some movies in the same vein as Adrián Guerra.',\n",
       "  {'entities': [(0, 9, 'predicate')]}),\n",
       " ('Recommend any good movies similar to Enjott Schneider.',\n",
       "  {'entities': [(0, 9, 'predicate')]})]"
      ]
     },
     "execution_count": 101,
     "metadata": {},
     "output_type": "execute_result"
    }
   ],
   "source": [
    "res_s15"
   ]
  },
  {
   "cell_type": "code",
   "execution_count": 102,
   "id": "d091ae4f",
   "metadata": {},
   "outputs": [
    {
     "data": {
      "text/plain": [
       "4522"
      ]
     },
     "execution_count": 102,
     "metadata": {},
     "output_type": "execute_result"
    }
   ],
   "source": [
    "TRAIN_DATA = res_s1 + res_s2 + res_s3 + res_s4 + res_s5 + res_s6 + res_s7 + res_s8+res_s9+res_s10+res_s11+res_s12+res_s13+res_s14+res_s15\n",
    "len(TRAIN_DATA)"
   ]
  },
  {
   "cell_type": "code",
   "execution_count": 103,
   "id": "5ad120d8",
   "metadata": {},
   "outputs": [
    {
     "name": "stderr",
     "output_type": "stream",
     "text": [
      "100%|████████████████████████████████████████████████████████████████████████████| 4522/4522 [00:00<00:00, 8646.28it/s]"
     ]
    },
    {
     "name": "stdout",
     "output_type": "stream",
     "text": [
      "320\n"
     ]
    },
    {
     "name": "stderr",
     "output_type": "stream",
     "text": [
      "\n"
     ]
    }
   ],
   "source": [
    "import pandas as pd\n",
    "import os\n",
    "from tqdm import tqdm\n",
    "from spacy.tokens import DocBin\n",
    "\n",
    "nlp = spacy.load(\"en_core_web_sm\")\n",
    "\n",
    "db = DocBin() # create a DocBin object\n",
    "\n",
    "count = 0\n",
    "for text, annot in tqdm(TRAIN_DATA): # data in previous format\n",
    "    try:\n",
    "        doc = nlp.make_doc(text) # create doc object from text\n",
    "        ents = []\n",
    "        for start, end, label in annot[\"entities\"]: # add character indexes\n",
    "            span = doc.char_span(start, end, label=label, alignment_mode=\"contract\")\n",
    "            if span is None:\n",
    "                #print(\"Skipping entity\")\n",
    "                count+=1\n",
    "            else:\n",
    "                ents.append(span)\n",
    "        doc.ents = ents # label the text with the ents\n",
    "        db.add(doc)\n",
    "    except Exception as e:\n",
    "        print(text)\n",
    "        print(annot)\n",
    "        print(e)\n",
    "        count+=1\n",
    "print(count)\n",
    "#os.chdir(r'XXXX\\XXXXX')\n",
    "db.to_disk(\"train_ner2.spacy\") # save the docbin object"
   ]
  },
  {
   "cell_type": "code",
   "execution_count": 106,
   "id": "50ec1c66",
   "metadata": {},
   "outputs": [
    {
     "data": {
      "text/html": [
       "<span class=\"tex2jax_ignore\"><div class=\"entities\" style=\"line-height: 2.5; direction: ltr\">What is the \n",
       "<mark class=\"entity\" style=\"background: #ddd; padding: 0.45em 0.6em; margin: 0 0.25em; line-height: 1; border-radius: 0.35em;\">\n",
       "    box office\n",
       "    <span style=\"font-size: 0.8em; font-weight: bold; line-height: 1; border-radius: 0.35em; vertical-align: middle; margin-left: 0.5rem\">relation</span>\n",
       "</mark>\n",
       " earnings for the film Moondram Pirai?</div></span>"
      ],
      "text/plain": [
       "<IPython.core.display.HTML object>"
      ]
     },
     "metadata": {},
     "output_type": "display_data"
    },
    {
     "name": "stdout",
     "output_type": "stream",
     "text": [
      "What is the box office earnings for the film Moondram Pirai? {'entities': [(12, 23, 'relation')]}\n",
      "Missing relation label\n"
     ]
    },
    {
     "data": {
      "text/html": [
       "<span class=\"tex2jax_ignore\"><div class=\"entities\" style=\"line-height: 2.5; direction: ltr\">Can you provide information on the \n",
       "<mark class=\"entity\" style=\"background: #ddd; padding: 0.45em 0.6em; margin: 0 0.25em; line-height: 1; border-radius: 0.35em;\">\n",
       "    box office\n",
       "    <span style=\"font-size: 0.8em; font-weight: bold; line-height: 1; border-radius: 0.35em; vertical-align: middle; margin-left: 0.5rem\">relation</span>\n",
       "</mark>\n",
       " sales of Buffalo Bill and the Indians, or Sitting Bull's History Lesson?</div></span>"
      ],
      "text/plain": [
       "<IPython.core.display.HTML object>"
      ]
     },
     "metadata": {},
     "output_type": "display_data"
    },
    {
     "name": "stdout",
     "output_type": "stream",
     "text": [
      "Can you provide information on the box office sales of Buffalo Bill and the Indians, or Sitting Bull's History Lesson? {'entities': [(35, 46, 'relation')]}\n",
      "Missing relation label\n"
     ]
    },
    {
     "data": {
      "text/html": [
       "<span class=\"tex2jax_ignore\"><div class=\"entities\" style=\"line-height: 2.5; direction: ltr\">How did Wanted: Dead or Alive perform in terms of \n",
       "<mark class=\"entity\" style=\"background: #ddd; padding: 0.45em 0.6em; margin: 0 0.25em; line-height: 1; border-radius: 0.35em;\">\n",
       "    box office\n",
       "    <span style=\"font-size: 0.8em; font-weight: bold; line-height: 1; border-radius: 0.35em; vertical-align: middle; margin-left: 0.5rem\">relation</span>\n",
       "</mark>\n",
       " revenue?</div></span>"
      ],
      "text/plain": [
       "<IPython.core.display.HTML object>"
      ]
     },
     "metadata": {},
     "output_type": "display_data"
    },
    {
     "name": "stdout",
     "output_type": "stream",
     "text": [
      "How did Wanted: Dead or Alive perform in terms of box office revenue? {'entities': [(50, 61, 'relation')]}\n",
      "Missing relation label\n"
     ]
    },
    {
     "data": {
      "text/html": [
       "<span class=\"tex2jax_ignore\"><div class=\"entities\" style=\"line-height: 2.5; direction: ltr\">Tell me about the \n",
       "<mark class=\"entity\" style=\"background: #ddd; padding: 0.45em 0.6em; margin: 0 0.25em; line-height: 1; border-radius: 0.35em;\">\n",
       "    box office\n",
       "    <span style=\"font-size: 0.8em; font-weight: bold; line-height: 1; border-radius: 0.35em; vertical-align: middle; margin-left: 0.5rem\">relation</span>\n",
       "</mark>\n",
       " results for the movie titled Linger.</div></span>"
      ],
      "text/plain": [
       "<IPython.core.display.HTML object>"
      ]
     },
     "metadata": {},
     "output_type": "display_data"
    },
    {
     "name": "stdout",
     "output_type": "stream",
     "text": [
      "Tell me about the box office results for the movie titled Linger. {'entities': [(18, 29, 'relation')]}\n",
      "Missing relation label\n"
     ]
    },
    {
     "data": {
      "text/html": [
       "<span class=\"tex2jax_ignore\"><div class=\"entities\" style=\"line-height: 2.5; direction: ltr\">What were the \n",
       "<mark class=\"entity\" style=\"background: #ddd; padding: 0.45em 0.6em; margin: 0 0.25em; line-height: 1; border-radius: 0.35em;\">\n",
       "    box office\n",
       "    <span style=\"font-size: 0.8em; font-weight: bold; line-height: 1; border-radius: 0.35em; vertical-align: middle; margin-left: 0.5rem\">relation</span>\n",
       "</mark>\n",
       " numbers for Eastern Condors?</div></span>"
      ],
      "text/plain": [
       "<IPython.core.display.HTML object>"
      ]
     },
     "metadata": {},
     "output_type": "display_data"
    },
    {
     "name": "stdout",
     "output_type": "stream",
     "text": [
      "What were the box office numbers for Eastern Condors? {'entities': [(14, 25, 'relation')]}\n",
      "Missing relation label\n"
     ]
    },
    {
     "data": {
      "text/html": [
       "<span class=\"tex2jax_ignore\"><div class=\"entities\" style=\"line-height: 2.5; direction: ltr\">Can you share the \n",
       "<mark class=\"entity\" style=\"background: #ddd; padding: 0.45em 0.6em; margin: 0 0.25em; line-height: 1; border-radius: 0.35em;\">\n",
       "    box office\n",
       "    <span style=\"font-size: 0.8em; font-weight: bold; line-height: 1; border-radius: 0.35em; vertical-align: middle; margin-left: 0.5rem\">relation</span>\n",
       "</mark>\n",
       " figures for Bukowski: Born into This?</div></span>"
      ],
      "text/plain": [
       "<IPython.core.display.HTML object>"
      ]
     },
     "metadata": {},
     "output_type": "display_data"
    },
    {
     "name": "stdout",
     "output_type": "stream",
     "text": [
      "Can you share the box office figures for Bukowski: Born into This? {'entities': [(18, 29, 'relation')]}\n",
      "Missing relation label\n"
     ]
    },
    {
     "data": {
      "text/html": [
       "<span class=\"tex2jax_ignore\"><div class=\"entities\" style=\"line-height: 2.5; direction: ltr\">What was the \n",
       "<mark class=\"entity\" style=\"background: #ddd; padding: 0.45em 0.6em; margin: 0 0.25em; line-height: 1; border-radius: 0.35em;\">\n",
       "    box office\n",
       "    <span style=\"font-size: 0.8em; font-weight: bold; line-height: 1; border-radius: 0.35em; vertical-align: middle; margin-left: 0.5rem\">relation</span>\n",
       "</mark>\n",
       " outcome for the film Fatal Move?</div></span>"
      ],
      "text/plain": [
       "<IPython.core.display.HTML object>"
      ]
     },
     "metadata": {},
     "output_type": "display_data"
    },
    {
     "name": "stdout",
     "output_type": "stream",
     "text": [
      "What was the box office outcome for the film Fatal Move? {'entities': [(13, 24, 'relation')]}\n",
      "Missing relation label\n"
     ]
    },
    {
     "data": {
      "text/html": [
       "<span class=\"tex2jax_ignore\"><div class=\"entities\" style=\"line-height: 2.5; direction: ltr\">What is the \n",
       "<mark class=\"entity\" style=\"background: #ddd; padding: 0.45em 0.6em; margin: 0 0.25em; line-height: 1; border-radius: 0.35em;\">\n",
       "    box office\n",
       "    <span style=\"font-size: 0.8em; font-weight: bold; line-height: 1; border-radius: 0.35em; vertical-align: middle; margin-left: 0.5rem\">relation</span>\n",
       "</mark>\n",
       " of On the Mountain of Tai Hang?</div></span>"
      ],
      "text/plain": [
       "<IPython.core.display.HTML object>"
      ]
     },
     "metadata": {},
     "output_type": "display_data"
    },
    {
     "name": "stdout",
     "output_type": "stream",
     "text": [
      "What is the box office of On the Mountain of Tai Hang? {'entities': [(12, 23, 'relation')]}\n",
      "Missing relation label\n"
     ]
    },
    {
     "data": {
      "text/html": [
       "<span class=\"tex2jax_ignore\"><div class=\"entities\" style=\"line-height: 2.5; direction: ltr\">What is the \n",
       "<mark class=\"entity\" style=\"background: #ddd; padding: 0.45em 0.6em; margin: 0 0.25em; line-height: 1; border-radius: 0.35em;\">\n",
       "    box office\n",
       "    <span style=\"font-size: 0.8em; font-weight: bold; line-height: 1; border-radius: 0.35em; vertical-align: middle; margin-left: 0.5rem\">relation</span>\n",
       "</mark>\n",
       " earnings for the film Kill the Irishman?</div></span>"
      ],
      "text/plain": [
       "<IPython.core.display.HTML object>"
      ]
     },
     "metadata": {},
     "output_type": "display_data"
    },
    {
     "name": "stdout",
     "output_type": "stream",
     "text": [
      "What is the box office earnings for the film Kill the Irishman? {'entities': [(12, 23, 'relation')]}\n",
      "Missing relation label\n"
     ]
    },
    {
     "data": {
      "text/html": [
       "<span class=\"tex2jax_ignore\"><div class=\"entities\" style=\"line-height: 2.5; direction: ltr\">Can you provide information on the \n",
       "<mark class=\"entity\" style=\"background: #ddd; padding: 0.45em 0.6em; margin: 0 0.25em; line-height: 1; border-radius: 0.35em;\">\n",
       "    box office\n",
       "    <span style=\"font-size: 0.8em; font-weight: bold; line-height: 1; border-radius: 0.35em; vertical-align: middle; margin-left: 0.5rem\">relation</span>\n",
       "</mark>\n",
       " sales of Bullseye!?</div></span>"
      ],
      "text/plain": [
       "<IPython.core.display.HTML object>"
      ]
     },
     "metadata": {},
     "output_type": "display_data"
    },
    {
     "name": "stdout",
     "output_type": "stream",
     "text": [
      "Can you provide information on the box office sales of Bullseye!? {'entities': [(35, 46, 'relation')]}\n",
      "Missing relation label\n"
     ]
    },
    {
     "data": {
      "text/html": [
       "<span class=\"tex2jax_ignore\"><div class=\"entities\" style=\"line-height: 2.5; direction: ltr\">How did Dry Wind perform in terms of \n",
       "<mark class=\"entity\" style=\"background: #ddd; padding: 0.45em 0.6em; margin: 0 0.25em; line-height: 1; border-radius: 0.35em;\">\n",
       "    box office\n",
       "    <span style=\"font-size: 0.8em; font-weight: bold; line-height: 1; border-radius: 0.35em; vertical-align: middle; margin-left: 0.5rem\">relation</span>\n",
       "</mark>\n",
       " revenue?</div></span>"
      ],
      "text/plain": [
       "<IPython.core.display.HTML object>"
      ]
     },
     "metadata": {},
     "output_type": "display_data"
    },
    {
     "name": "stdout",
     "output_type": "stream",
     "text": [
      "How did Dry Wind perform in terms of box office revenue? {'entities': [(37, 48, 'relation')]}\n",
      "Missing relation label\n"
     ]
    },
    {
     "data": {
      "text/html": [
       "<span class=\"tex2jax_ignore\"><div class=\"entities\" style=\"line-height: 2.5; direction: ltr\">Tell me about the \n",
       "<mark class=\"entity\" style=\"background: #ddd; padding: 0.45em 0.6em; margin: 0 0.25em; line-height: 1; border-radius: 0.35em;\">\n",
       "    box office\n",
       "    <span style=\"font-size: 0.8em; font-weight: bold; line-height: 1; border-radius: 0.35em; vertical-align: middle; margin-left: 0.5rem\">relation</span>\n",
       "</mark>\n",
       " results for the movie titled The Big Hit.</div></span>"
      ],
      "text/plain": [
       "<IPython.core.display.HTML object>"
      ]
     },
     "metadata": {},
     "output_type": "display_data"
    },
    {
     "name": "stdout",
     "output_type": "stream",
     "text": [
      "Tell me about the box office results for the movie titled The Big Hit. {'entities': [(18, 29, 'relation')]}\n",
      "Missing relation label\n"
     ]
    },
    {
     "data": {
      "text/html": [
       "<span class=\"tex2jax_ignore\"><div class=\"entities\" style=\"line-height: 2.5; direction: ltr\">What were the \n",
       "<mark class=\"entity\" style=\"background: #ddd; padding: 0.45em 0.6em; margin: 0 0.25em; line-height: 1; border-radius: 0.35em;\">\n",
       "    box office\n",
       "    <span style=\"font-size: 0.8em; font-weight: bold; line-height: 1; border-radius: 0.35em; vertical-align: middle; margin-left: 0.5rem\">relation</span>\n",
       "</mark>\n",
       " numbers for Angels Fallen?</div></span>"
      ],
      "text/plain": [
       "<IPython.core.display.HTML object>"
      ]
     },
     "metadata": {},
     "output_type": "display_data"
    },
    {
     "name": "stdout",
     "output_type": "stream",
     "text": [
      "What were the box office numbers for Angels Fallen? {'entities': [(14, 25, 'relation')]}\n",
      "Missing relation label\n"
     ]
    },
    {
     "data": {
      "text/html": [
       "<span class=\"tex2jax_ignore\"><div class=\"entities\" style=\"line-height: 2.5; direction: ltr\">Can you share the \n",
       "<mark class=\"entity\" style=\"background: #ddd; padding: 0.45em 0.6em; margin: 0 0.25em; line-height: 1; border-radius: 0.35em;\">\n",
       "    box office\n",
       "    <span style=\"font-size: 0.8em; font-weight: bold; line-height: 1; border-radius: 0.35em; vertical-align: middle; margin-left: 0.5rem\">relation</span>\n",
       "</mark>\n",
       " figures for Golimaar?</div></span>"
      ],
      "text/plain": [
       "<IPython.core.display.HTML object>"
      ]
     },
     "metadata": {},
     "output_type": "display_data"
    },
    {
     "name": "stdout",
     "output_type": "stream",
     "text": [
      "Can you share the box office figures for Golimaar? {'entities': [(18, 29, 'relation')]}\n",
      "Missing relation label\n"
     ]
    },
    {
     "data": {
      "text/html": [
       "<span class=\"tex2jax_ignore\"><div class=\"entities\" style=\"line-height: 2.5; direction: ltr\">What was the \n",
       "<mark class=\"entity\" style=\"background: #ddd; padding: 0.45em 0.6em; margin: 0 0.25em; line-height: 1; border-radius: 0.35em;\">\n",
       "    box office\n",
       "    <span style=\"font-size: 0.8em; font-weight: bold; line-height: 1; border-radius: 0.35em; vertical-align: middle; margin-left: 0.5rem\">relation</span>\n",
       "</mark>\n",
       " outcome for the film Adhurs?</div></span>"
      ],
      "text/plain": [
       "<IPython.core.display.HTML object>"
      ]
     },
     "metadata": {},
     "output_type": "display_data"
    },
    {
     "name": "stdout",
     "output_type": "stream",
     "text": [
      "What was the box office outcome for the film Adhurs? {'entities': [(13, 24, 'relation')]}\n",
      "Missing relation label\n"
     ]
    },
    {
     "data": {
      "text/html": [
       "<span class=\"tex2jax_ignore\"><div class=\"entities\" style=\"line-height: 2.5; direction: ltr\">What is the \n",
       "<mark class=\"entity\" style=\"background: #ddd; padding: 0.45em 0.6em; margin: 0 0.25em; line-height: 1; border-radius: 0.35em;\">\n",
       "    box office\n",
       "    <span style=\"font-size: 0.8em; font-weight: bold; line-height: 1; border-radius: 0.35em; vertical-align: middle; margin-left: 0.5rem\">relation</span>\n",
       "</mark>\n",
       " of Rose Island?</div></span>"
      ],
      "text/plain": [
       "<IPython.core.display.HTML object>"
      ]
     },
     "metadata": {},
     "output_type": "display_data"
    },
    {
     "name": "stdout",
     "output_type": "stream",
     "text": [
      "What is the box office of Rose Island? {'entities': [(12, 23, 'relation')]}\n",
      "Missing relation label\n"
     ]
    },
    {
     "data": {
      "text/html": [
       "<span class=\"tex2jax_ignore\"><div class=\"entities\" style=\"line-height: 2.5; direction: ltr\">What is the \n",
       "<mark class=\"entity\" style=\"background: #ddd; padding: 0.45em 0.6em; margin: 0 0.25em; line-height: 1; border-radius: 0.35em;\">\n",
       "    box office\n",
       "    <span style=\"font-size: 0.8em; font-weight: bold; line-height: 1; border-radius: 0.35em; vertical-align: middle; margin-left: 0.5rem\">relation</span>\n",
       "</mark>\n",
       " earnings for the film Rakta Charitra?</div></span>"
      ],
      "text/plain": [
       "<IPython.core.display.HTML object>"
      ]
     },
     "metadata": {},
     "output_type": "display_data"
    },
    {
     "name": "stdout",
     "output_type": "stream",
     "text": [
      "What is the box office earnings for the film Rakta Charitra? {'entities': [(12, 23, 'relation')]}\n",
      "Missing relation label\n"
     ]
    },
    {
     "data": {
      "text/html": [
       "<span class=\"tex2jax_ignore\"><div class=\"entities\" style=\"line-height: 2.5; direction: ltr\">Can you provide information on the \n",
       "<mark class=\"entity\" style=\"background: #ddd; padding: 0.45em 0.6em; margin: 0 0.25em; line-height: 1; border-radius: 0.35em;\">\n",
       "    box office\n",
       "    <span style=\"font-size: 0.8em; font-weight: bold; line-height: 1; border-radius: 0.35em; vertical-align: middle; margin-left: 0.5rem\">relation</span>\n",
       "</mark>\n",
       " sales of Khaleja?</div></span>"
      ],
      "text/plain": [
       "<IPython.core.display.HTML object>"
      ]
     },
     "metadata": {},
     "output_type": "display_data"
    },
    {
     "name": "stdout",
     "output_type": "stream",
     "text": [
      "Can you provide information on the box office sales of Khaleja? {'entities': [(35, 46, 'relation')]}\n",
      "Missing relation label\n"
     ]
    },
    {
     "data": {
      "text/html": [
       "<span class=\"tex2jax_ignore\"><div class=\"entities\" style=\"line-height: 2.5; direction: ltr\">How did Operation Christmas Drop perform in terms of \n",
       "<mark class=\"entity\" style=\"background: #ddd; padding: 0.45em 0.6em; margin: 0 0.25em; line-height: 1; border-radius: 0.35em;\">\n",
       "    box office\n",
       "    <span style=\"font-size: 0.8em; font-weight: bold; line-height: 1; border-radius: 0.35em; vertical-align: middle; margin-left: 0.5rem\">relation</span>\n",
       "</mark>\n",
       " revenue?</div></span>"
      ],
      "text/plain": [
       "<IPython.core.display.HTML object>"
      ]
     },
     "metadata": {},
     "output_type": "display_data"
    },
    {
     "name": "stdout",
     "output_type": "stream",
     "text": [
      "How did Operation Christmas Drop perform in terms of box office revenue? {'entities': [(53, 64, 'relation')]}\n",
      "Missing relation label\n"
     ]
    },
    {
     "data": {
      "text/html": [
       "<span class=\"tex2jax_ignore\"><div class=\"entities\" style=\"line-height: 2.5; direction: ltr\">Tell me about the \n",
       "<mark class=\"entity\" style=\"background: #ddd; padding: 0.45em 0.6em; margin: 0 0.25em; line-height: 1; border-radius: 0.35em;\">\n",
       "    box office\n",
       "    <span style=\"font-size: 0.8em; font-weight: bold; line-height: 1; border-radius: 0.35em; vertical-align: middle; margin-left: 0.5rem\">relation</span>\n",
       "</mark>\n",
       " results for the movie titled Jasmine Women.</div></span>"
      ],
      "text/plain": [
       "<IPython.core.display.HTML object>"
      ]
     },
     "metadata": {},
     "output_type": "display_data"
    },
    {
     "name": "stdout",
     "output_type": "stream",
     "text": [
      "Tell me about the box office results for the movie titled Jasmine Women. {'entities': [(18, 29, 'relation')]}\n",
      "Missing relation label\n"
     ]
    },
    {
     "data": {
      "text/html": [
       "<span class=\"tex2jax_ignore\"><div class=\"entities\" style=\"line-height: 2.5; direction: ltr\">What were the \n",
       "<mark class=\"entity\" style=\"background: #ddd; padding: 0.45em 0.6em; margin: 0 0.25em; line-height: 1; border-radius: 0.35em;\">\n",
       "    box office\n",
       "    <span style=\"font-size: 0.8em; font-weight: bold; line-height: 1; border-radius: 0.35em; vertical-align: middle; margin-left: 0.5rem\">relation</span>\n",
       "</mark>\n",
       " numbers for Blind Mountain?</div></span>"
      ],
      "text/plain": [
       "<IPython.core.display.HTML object>"
      ]
     },
     "metadata": {},
     "output_type": "display_data"
    },
    {
     "name": "stdout",
     "output_type": "stream",
     "text": [
      "What were the box office numbers for Blind Mountain? {'entities': [(14, 25, 'relation')]}\n",
      "Missing relation label\n"
     ]
    },
    {
     "data": {
      "text/html": [
       "<span class=\"tex2jax_ignore\"><div class=\"entities\" style=\"line-height: 2.5; direction: ltr\">Can you share the \n",
       "<mark class=\"entity\" style=\"background: #ddd; padding: 0.45em 0.6em; margin: 0 0.25em; line-height: 1; border-radius: 0.35em;\">\n",
       "    box office\n",
       "    <span style=\"font-size: 0.8em; font-weight: bold; line-height: 1; border-radius: 0.35em; vertical-align: middle; margin-left: 0.5rem\">relation</span>\n",
       "</mark>\n",
       " figures for Burke &amp; Hare?</div></span>"
      ],
      "text/plain": [
       "<IPython.core.display.HTML object>"
      ]
     },
     "metadata": {},
     "output_type": "display_data"
    },
    {
     "name": "stdout",
     "output_type": "stream",
     "text": [
      "Can you share the box office figures for Burke & Hare? {'entities': [(18, 29, 'relation')]}\n",
      "Missing relation label\n"
     ]
    },
    {
     "data": {
      "text/html": [
       "<span class=\"tex2jax_ignore\"><div class=\"entities\" style=\"line-height: 2.5; direction: ltr\">What was the \n",
       "<mark class=\"entity\" style=\"background: #ddd; padding: 0.45em 0.6em; margin: 0 0.25em; line-height: 1; border-radius: 0.35em;\">\n",
       "    box office\n",
       "    <span style=\"font-size: 0.8em; font-weight: bold; line-height: 1; border-radius: 0.35em; vertical-align: middle; margin-left: 0.5rem\">relation</span>\n",
       "</mark>\n",
       " outcome for the film Burma VJ?</div></span>"
      ],
      "text/plain": [
       "<IPython.core.display.HTML object>"
      ]
     },
     "metadata": {},
     "output_type": "display_data"
    },
    {
     "name": "stdout",
     "output_type": "stream",
     "text": [
      "What was the box office outcome for the film Burma VJ? {'entities': [(13, 24, 'relation')]}\n",
      "Missing relation label\n"
     ]
    },
    {
     "data": {
      "text/html": [
       "<span class=\"tex2jax_ignore\"><div class=\"entities\" style=\"line-height: 2.5; direction: ltr\">What is the \n",
       "<mark class=\"entity\" style=\"background: #ddd; padding: 0.45em 0.6em; margin: 0 0.25em; line-height: 1; border-radius: 0.35em;\">\n",
       "    box office\n",
       "    <span style=\"font-size: 0.8em; font-weight: bold; line-height: 1; border-radius: 0.35em; vertical-align: middle; margin-left: 0.5rem\">relation</span>\n",
       "</mark>\n",
       " of Burning Bright?</div></span>"
      ],
      "text/plain": [
       "<IPython.core.display.HTML object>"
      ]
     },
     "metadata": {},
     "output_type": "display_data"
    },
    {
     "name": "stdout",
     "output_type": "stream",
     "text": [
      "What is the box office of Burning Bright? {'entities': [(12, 23, 'relation')]}\n",
      "Missing relation label\n"
     ]
    },
    {
     "data": {
      "text/html": [
       "<span class=\"tex2jax_ignore\"><div class=\"entities\" style=\"line-height: 2.5; direction: ltr\">What is the \n",
       "<mark class=\"entity\" style=\"background: #ddd; padding: 0.45em 0.6em; margin: 0 0.25em; line-height: 1; border-radius: 0.35em;\">\n",
       "    box office\n",
       "    <span style=\"font-size: 0.8em; font-weight: bold; line-height: 1; border-radius: 0.35em; vertical-align: middle; margin-left: 0.5rem\">relation</span>\n",
       "</mark>\n",
       " earnings for the film Population Boom?</div></span>"
      ],
      "text/plain": [
       "<IPython.core.display.HTML object>"
      ]
     },
     "metadata": {},
     "output_type": "display_data"
    },
    {
     "name": "stdout",
     "output_type": "stream",
     "text": [
      "What is the box office earnings for the film Population Boom? {'entities': [(12, 23, 'relation')]}\n",
      "Missing relation label\n"
     ]
    },
    {
     "data": {
      "text/html": [
       "<span class=\"tex2jax_ignore\"><div class=\"entities\" style=\"line-height: 2.5; direction: ltr\">Can you provide information on the \n",
       "<mark class=\"entity\" style=\"background: #ddd; padding: 0.45em 0.6em; margin: 0 0.25em; line-height: 1; border-radius: 0.35em;\">\n",
       "    box office\n",
       "    <span style=\"font-size: 0.8em; font-weight: bold; line-height: 1; border-radius: 0.35em; vertical-align: middle; margin-left: 0.5rem\">relation</span>\n",
       "</mark>\n",
       " sales of Bye Bye Love?</div></span>"
      ],
      "text/plain": [
       "<IPython.core.display.HTML object>"
      ]
     },
     "metadata": {},
     "output_type": "display_data"
    },
    {
     "name": "stdout",
     "output_type": "stream",
     "text": [
      "Can you provide information on the box office sales of Bye Bye Love? {'entities': [(35, 46, 'relation')]}\n",
      "Missing relation label\n"
     ]
    },
    {
     "data": {
      "text/html": [
       "<span class=\"tex2jax_ignore\"><div class=\"entities\" style=\"line-height: 2.5; direction: ltr\">How did Bye Bye Birdie perform in terms of \n",
       "<mark class=\"entity\" style=\"background: #ddd; padding: 0.45em 0.6em; margin: 0 0.25em; line-height: 1; border-radius: 0.35em;\">\n",
       "    box office\n",
       "    <span style=\"font-size: 0.8em; font-weight: bold; line-height: 1; border-radius: 0.35em; vertical-align: middle; margin-left: 0.5rem\">relation</span>\n",
       "</mark>\n",
       " revenue?</div></span>"
      ],
      "text/plain": [
       "<IPython.core.display.HTML object>"
      ]
     },
     "metadata": {},
     "output_type": "display_data"
    },
    {
     "name": "stdout",
     "output_type": "stream",
     "text": [
      "How did Bye Bye Birdie perform in terms of box office revenue? {'entities': [(43, 54, 'relation')]}\n",
      "Missing relation label\n"
     ]
    },
    {
     "data": {
      "text/html": [
       "<span class=\"tex2jax_ignore\"><div class=\"entities\" style=\"line-height: 2.5; direction: ltr\">Tell me about the \n",
       "<mark class=\"entity\" style=\"background: #ddd; padding: 0.45em 0.6em; margin: 0 0.25em; line-height: 1; border-radius: 0.35em;\">\n",
       "    box office\n",
       "    <span style=\"font-size: 0.8em; font-weight: bold; line-height: 1; border-radius: 0.35em; vertical-align: middle; margin-left: 0.5rem\">relation</span>\n",
       "</mark>\n",
       " results for the movie titled Bye Bye Bluebird.</div></span>"
      ],
      "text/plain": [
       "<IPython.core.display.HTML object>"
      ]
     },
     "metadata": {},
     "output_type": "display_data"
    },
    {
     "name": "stdout",
     "output_type": "stream",
     "text": [
      "Tell me about the box office results for the movie titled Bye Bye Bluebird. {'entities': [(18, 29, 'relation')]}\n",
      "Missing relation label\n"
     ]
    },
    {
     "data": {
      "text/html": [
       "<span class=\"tex2jax_ignore\"><div class=\"entities\" style=\"line-height: 2.5; direction: ltr\">What were the \n",
       "<mark class=\"entity\" style=\"background: #ddd; padding: 0.45em 0.6em; margin: 0 0.25em; line-height: 1; border-radius: 0.35em;\">\n",
       "    box office\n",
       "    <span style=\"font-size: 0.8em; font-weight: bold; line-height: 1; border-radius: 0.35em; vertical-align: middle; margin-left: 0.5rem\">relation</span>\n",
       "</mark>\n",
       " numbers for The Chinese Feast?</div></span>"
      ],
      "text/plain": [
       "<IPython.core.display.HTML object>"
      ]
     },
     "metadata": {},
     "output_type": "display_data"
    },
    {
     "name": "stdout",
     "output_type": "stream",
     "text": [
      "What were the box office numbers for The Chinese Feast? {'entities': [(14, 25, 'relation')]}\n",
      "Missing relation label\n"
     ]
    },
    {
     "data": {
      "text/html": [
       "<span class=\"tex2jax_ignore\"><div class=\"entities\" style=\"line-height: 2.5; direction: ltr\">Can you share the \n",
       "<mark class=\"entity\" style=\"background: #ddd; padding: 0.45em 0.6em; margin: 0 0.25em; line-height: 1; border-radius: 0.35em;\">\n",
       "    box office\n",
       "    <span style=\"font-size: 0.8em; font-weight: bold; line-height: 1; border-radius: 0.35em; vertical-align: middle; margin-left: 0.5rem\">relation</span>\n",
       "</mark>\n",
       " figures for The Truth About Jane and Sam?</div></span>"
      ],
      "text/plain": [
       "<IPython.core.display.HTML object>"
      ]
     },
     "metadata": {},
     "output_type": "display_data"
    },
    {
     "name": "stdout",
     "output_type": "stream",
     "text": [
      "Can you share the box office figures for The Truth About Jane and Sam? {'entities': [(18, 29, 'relation')]}\n",
      "Missing relation label\n"
     ]
    },
    {
     "data": {
      "text/html": [
       "<span class=\"tex2jax_ignore\"><div class=\"entities\" style=\"line-height: 2.5; direction: ltr\">What was the \n",
       "<mark class=\"entity\" style=\"background: #ddd; padding: 0.45em 0.6em; margin: 0 0.25em; line-height: 1; border-radius: 0.35em;\">\n",
       "    box office\n",
       "    <span style=\"font-size: 0.8em; font-weight: bold; line-height: 1; border-radius: 0.35em; vertical-align: middle; margin-left: 0.5rem\">relation</span>\n",
       "</mark>\n",
       " outcome for the film The Longest Nite?</div></span>"
      ],
      "text/plain": [
       "<IPython.core.display.HTML object>"
      ]
     },
     "metadata": {},
     "output_type": "display_data"
    },
    {
     "name": "stdout",
     "output_type": "stream",
     "text": [
      "What was the box office outcome for the film The Longest Nite? {'entities': [(13, 24, 'relation')]}\n",
      "Missing relation label\n"
     ]
    },
    {
     "data": {
      "text/html": [
       "<span class=\"tex2jax_ignore\"><div class=\"entities\" style=\"line-height: 2.5; direction: ltr\">What is the \n",
       "<mark class=\"entity\" style=\"background: #ddd; padding: 0.45em 0.6em; margin: 0 0.25em; line-height: 1; border-radius: 0.35em;\">\n",
       "    box office\n",
       "    <span style=\"font-size: 0.8em; font-weight: bold; line-height: 1; border-radius: 0.35em; vertical-align: middle; margin-left: 0.5rem\">relation</span>\n",
       "</mark>\n",
       " of Naked Killer?</div></span>"
      ],
      "text/plain": [
       "<IPython.core.display.HTML object>"
      ]
     },
     "metadata": {},
     "output_type": "display_data"
    },
    {
     "name": "stdout",
     "output_type": "stream",
     "text": [
      "What is the box office of Naked Killer? {'entities': [(12, 23, 'relation')]}\n",
      "Missing relation label\n"
     ]
    },
    {
     "data": {
      "text/html": [
       "<span class=\"tex2jax_ignore\"><div class=\"entities\" style=\"line-height: 2.5; direction: ltr\">What is the \n",
       "<mark class=\"entity\" style=\"background: #ddd; padding: 0.45em 0.6em; margin: 0 0.25em; line-height: 1; border-radius: 0.35em;\">\n",
       "    box office\n",
       "    <span style=\"font-size: 0.8em; font-weight: bold; line-height: 1; border-radius: 0.35em; vertical-align: middle; margin-left: 0.5rem\">relation</span>\n",
       "</mark>\n",
       " earnings for the film C.R.A.Z.Y.?</div></span>"
      ],
      "text/plain": [
       "<IPython.core.display.HTML object>"
      ]
     },
     "metadata": {},
     "output_type": "display_data"
    },
    {
     "name": "stdout",
     "output_type": "stream",
     "text": [
      "What is the box office earnings for the film C.R.A.Z.Y.? {'entities': [(12, 23, 'relation')]}\n",
      "Missing relation label\n"
     ]
    },
    {
     "data": {
      "text/html": [
       "<span class=\"tex2jax_ignore\"><div class=\"entities\" style=\"line-height: 2.5; direction: ltr\">Can you provide information on the \n",
       "<mark class=\"entity\" style=\"background: #ddd; padding: 0.45em 0.6em; margin: 0 0.25em; line-height: 1; border-radius: 0.35em;\">\n",
       "    box office\n",
       "    <span style=\"font-size: 0.8em; font-weight: bold; line-height: 1; border-radius: 0.35em; vertical-align: middle; margin-left: 0.5rem\">relation</span>\n",
       "</mark>\n",
       " sales of The Super?</div></span>"
      ],
      "text/plain": [
       "<IPython.core.display.HTML object>"
      ]
     },
     "metadata": {},
     "output_type": "display_data"
    },
    {
     "name": "stdout",
     "output_type": "stream",
     "text": [
      "Can you provide information on the box office sales of The Super? {'entities': [(35, 46, 'relation')]}\n",
      "Missing relation label\n"
     ]
    },
    {
     "data": {
      "text/html": [
       "<span class=\"tex2jax_ignore\"><div class=\"entities\" style=\"line-height: 2.5; direction: ltr\">How did CSNY/Déjà Vu perform in terms of \n",
       "<mark class=\"entity\" style=\"background: #ddd; padding: 0.45em 0.6em; margin: 0 0.25em; line-height: 1; border-radius: 0.35em;\">\n",
       "    box office\n",
       "    <span style=\"font-size: 0.8em; font-weight: bold; line-height: 1; border-radius: 0.35em; vertical-align: middle; margin-left: 0.5rem\">relation</span>\n",
       "</mark>\n",
       " revenue?</div></span>"
      ],
      "text/plain": [
       "<IPython.core.display.HTML object>"
      ]
     },
     "metadata": {},
     "output_type": "display_data"
    },
    {
     "name": "stdout",
     "output_type": "stream",
     "text": [
      "How did CSNY/Déjà Vu perform in terms of box office revenue? {'entities': [(41, 52, 'relation')]}\n",
      "Missing relation label\n"
     ]
    },
    {
     "data": {
      "text/html": [
       "<span class=\"tex2jax_ignore\"><div class=\"entities\" style=\"line-height: 2.5; direction: ltr\">Tell me about the \n",
       "<mark class=\"entity\" style=\"background: #ddd; padding: 0.45em 0.6em; margin: 0 0.25em; line-height: 1; border-radius: 0.35em;\">\n",
       "    box office\n",
       "    <span style=\"font-size: 0.8em; font-weight: bold; line-height: 1; border-radius: 0.35em; vertical-align: middle; margin-left: 0.5rem\">relation</span>\n",
       "</mark>\n",
       " results for the movie titled Cash.</div></span>"
      ],
      "text/plain": [
       "<IPython.core.display.HTML object>"
      ]
     },
     "metadata": {},
     "output_type": "display_data"
    },
    {
     "name": "stdout",
     "output_type": "stream",
     "text": [
      "Tell me about the box office results for the movie titled Cash. {'entities': [(18, 29, 'relation')]}\n",
      "Missing relation label\n"
     ]
    },
    {
     "data": {
      "text/html": [
       "<span class=\"tex2jax_ignore\"><div class=\"entities\" style=\"line-height: 2.5; direction: ltr\">What were the \n",
       "<mark class=\"entity\" style=\"background: #ddd; padding: 0.45em 0.6em; margin: 0 0.25em; line-height: 1; border-radius: 0.35em;\">\n",
       "    box office\n",
       "    <span style=\"font-size: 0.8em; font-weight: bold; line-height: 1; border-radius: 0.35em; vertical-align: middle; margin-left: 0.5rem\">relation</span>\n",
       "</mark>\n",
       " numbers for Cash?</div></span>"
      ],
      "text/plain": [
       "<IPython.core.display.HTML object>"
      ]
     },
     "metadata": {},
     "output_type": "display_data"
    },
    {
     "name": "stdout",
     "output_type": "stream",
     "text": [
      "What were the box office numbers for Cash? {'entities': [(14, 25, 'relation')]}\n",
      "Missing relation label\n"
     ]
    },
    {
     "data": {
      "text/html": [
       "<span class=\"tex2jax_ignore\"><div class=\"entities\" style=\"line-height: 2.5; direction: ltr\">Can you share the \n",
       "<mark class=\"entity\" style=\"background: #ddd; padding: 0.45em 0.6em; margin: 0 0.25em; line-height: 1; border-radius: 0.35em;\">\n",
       "    box office\n",
       "    <span style=\"font-size: 0.8em; font-weight: bold; line-height: 1; border-radius: 0.35em; vertical-align: middle; margin-left: 0.5rem\">relation</span>\n",
       "</mark>\n",
       " figures for Kaos?</div></span>"
      ],
      "text/plain": [
       "<IPython.core.display.HTML object>"
      ]
     },
     "metadata": {},
     "output_type": "display_data"
    },
    {
     "name": "stdout",
     "output_type": "stream",
     "text": [
      "Can you share the box office figures for Kaos? {'entities': [(18, 29, 'relation')]}\n",
      "Missing relation label\n"
     ]
    },
    {
     "data": {
      "text/html": [
       "<span class=\"tex2jax_ignore\"><div class=\"entities\" style=\"line-height: 2.5; direction: ltr\">What was the \n",
       "<mark class=\"entity\" style=\"background: #ddd; padding: 0.45em 0.6em; margin: 0 0.25em; line-height: 1; border-radius: 0.35em;\">\n",
       "    box office\n",
       "    <span style=\"font-size: 0.8em; font-weight: bold; line-height: 1; border-radius: 0.35em; vertical-align: middle; margin-left: 0.5rem\">relation</span>\n",
       "</mark>\n",
       " outcome for the film Cadillac Man?</div></span>"
      ],
      "text/plain": [
       "<IPython.core.display.HTML object>"
      ]
     },
     "metadata": {},
     "output_type": "display_data"
    },
    {
     "name": "stdout",
     "output_type": "stream",
     "text": [
      "What was the box office outcome for the film Cadillac Man? {'entities': [(13, 24, 'relation')]}\n",
      "Missing relation label\n"
     ]
    },
    {
     "data": {
      "text/html": [
       "<span class=\"tex2jax_ignore\"><div class=\"entities\" style=\"line-height: 2.5; direction: ltr\">What is the \n",
       "<mark class=\"entity\" style=\"background: #ddd; padding: 0.45em 0.6em; margin: 0 0.25em; line-height: 1; border-radius: 0.35em;\">\n",
       "    box office\n",
       "    <span style=\"font-size: 0.8em; font-weight: bold; line-height: 1; border-radius: 0.35em; vertical-align: middle; margin-left: 0.5rem\">relation</span>\n",
       "</mark>\n",
       " of Caged?</div></span>"
      ],
      "text/plain": [
       "<IPython.core.display.HTML object>"
      ]
     },
     "metadata": {},
     "output_type": "display_data"
    },
    {
     "name": "stdout",
     "output_type": "stream",
     "text": [
      "What is the box office of Caged? {'entities': [(12, 23, 'relation')]}\n",
      "Missing relation label\n"
     ]
    },
    {
     "data": {
      "text/html": [
       "<span class=\"tex2jax_ignore\"><div class=\"entities\" style=\"line-height: 2.5; direction: ltr\">What is the \n",
       "<mark class=\"entity\" style=\"background: #ddd; padding: 0.45em 0.6em; margin: 0 0.25em; line-height: 1; border-radius: 0.35em;\">\n",
       "    box office\n",
       "    <span style=\"font-size: 0.8em; font-weight: bold; line-height: 1; border-radius: 0.35em; vertical-align: middle; margin-left: 0.5rem\">relation</span>\n",
       "</mark>\n",
       " earnings for the film Daisy Diamond?</div></span>"
      ],
      "text/plain": [
       "<IPython.core.display.HTML object>"
      ]
     },
     "metadata": {},
     "output_type": "display_data"
    },
    {
     "name": "stdout",
     "output_type": "stream",
     "text": [
      "What is the box office earnings for the film Daisy Diamond? {'entities': [(12, 23, 'relation')]}\n",
      "Missing relation label\n"
     ]
    },
    {
     "data": {
      "text/html": [
       "<span class=\"tex2jax_ignore\"><div class=\"entities\" style=\"line-height: 2.5; direction: ltr\">Can you provide information on the \n",
       "<mark class=\"entity\" style=\"background: #ddd; padding: 0.45em 0.6em; margin: 0 0.25em; line-height: 1; border-radius: 0.35em;\">\n",
       "    box office\n",
       "    <span style=\"font-size: 0.8em; font-weight: bold; line-height: 1; border-radius: 0.35em; vertical-align: middle; margin-left: 0.5rem\">relation</span>\n",
       "</mark>\n",
       " sales of The Baytown Outlaws?</div></span>"
      ],
      "text/plain": [
       "<IPython.core.display.HTML object>"
      ]
     },
     "metadata": {},
     "output_type": "display_data"
    },
    {
     "name": "stdout",
     "output_type": "stream",
     "text": [
      "Can you provide information on the box office sales of The Baytown Outlaws? {'entities': [(35, 46, 'relation')]}\n",
      "Missing relation label\n"
     ]
    },
    {
     "data": {
      "text/html": [
       "<span class=\"tex2jax_ignore\"><div class=\"entities\" style=\"line-height: 2.5; direction: ltr\">How did Fade to Black perform in terms of \n",
       "<mark class=\"entity\" style=\"background: #ddd; padding: 0.45em 0.6em; margin: 0 0.25em; line-height: 1; border-radius: 0.35em;\">\n",
       "    box office\n",
       "    <span style=\"font-size: 0.8em; font-weight: bold; line-height: 1; border-radius: 0.35em; vertical-align: middle; margin-left: 0.5rem\">relation</span>\n",
       "</mark>\n",
       " revenue?</div></span>"
      ],
      "text/plain": [
       "<IPython.core.display.HTML object>"
      ]
     },
     "metadata": {},
     "output_type": "display_data"
    },
    {
     "name": "stdout",
     "output_type": "stream",
     "text": [
      "How did Fade to Black perform in terms of box office revenue? {'entities': [(42, 53, 'relation')]}\n",
      "Missing relation label\n"
     ]
    },
    {
     "data": {
      "text/html": [
       "<span class=\"tex2jax_ignore\"><div class=\"entities\" style=\"line-height: 2.5; direction: ltr\">Tell me about the \n",
       "<mark class=\"entity\" style=\"background: #ddd; padding: 0.45em 0.6em; margin: 0 0.25em; line-height: 1; border-radius: 0.35em;\">\n",
       "    box office\n",
       "    <span style=\"font-size: 0.8em; font-weight: bold; line-height: 1; border-radius: 0.35em; vertical-align: middle; margin-left: 0.5rem\">relation</span>\n",
       "</mark>\n",
       " results for the movie titled I Hate Luv Storys.</div></span>"
      ],
      "text/plain": [
       "<IPython.core.display.HTML object>"
      ]
     },
     "metadata": {},
     "output_type": "display_data"
    },
    {
     "name": "stdout",
     "output_type": "stream",
     "text": [
      "Tell me about the box office results for the movie titled I Hate Luv Storys. {'entities': [(18, 29, 'relation')]}\n",
      "Missing relation label\n"
     ]
    },
    {
     "data": {
      "text/html": [
       "<span class=\"tex2jax_ignore\"><div class=\"entities\" style=\"line-height: 2.5; direction: ltr\">What were the \n",
       "<mark class=\"entity\" style=\"background: #ddd; padding: 0.45em 0.6em; margin: 0 0.25em; line-height: 1; border-radius: 0.35em;\">\n",
       "    box office\n",
       "    <span style=\"font-size: 0.8em; font-weight: bold; line-height: 1; border-radius: 0.35em; vertical-align: middle; margin-left: 0.5rem\">relation</span>\n",
       "</mark>\n",
       " numbers for Elena?</div></span>"
      ],
      "text/plain": [
       "<IPython.core.display.HTML object>"
      ]
     },
     "metadata": {},
     "output_type": "display_data"
    },
    {
     "name": "stdout",
     "output_type": "stream",
     "text": [
      "What were the box office numbers for Elena? {'entities': [(14, 25, 'relation')]}\n",
      "Missing relation label\n"
     ]
    },
    {
     "data": {
      "text/html": [
       "<span class=\"tex2jax_ignore\"><div class=\"entities\" style=\"line-height: 2.5; direction: ltr\">Can you share the \n",
       "<mark class=\"entity\" style=\"background: #ddd; padding: 0.45em 0.6em; margin: 0 0.25em; line-height: 1; border-radius: 0.35em;\">\n",
       "    box office\n",
       "    <span style=\"font-size: 0.8em; font-weight: bold; line-height: 1; border-radius: 0.35em; vertical-align: middle; margin-left: 0.5rem\">relation</span>\n",
       "</mark>\n",
       " figures for Revolution?</div></span>"
      ],
      "text/plain": [
       "<IPython.core.display.HTML object>"
      ]
     },
     "metadata": {},
     "output_type": "display_data"
    },
    {
     "name": "stdout",
     "output_type": "stream",
     "text": [
      "Can you share the box office figures for Revolution? {'entities': [(18, 29, 'relation')]}\n",
      "Missing relation label\n"
     ]
    },
    {
     "data": {
      "text/html": [
       "<span class=\"tex2jax_ignore\"><div class=\"entities\" style=\"line-height: 2.5; direction: ltr\">What was the \n",
       "<mark class=\"entity\" style=\"background: #ddd; padding: 0.45em 0.6em; margin: 0 0.25em; line-height: 1; border-radius: 0.35em;\">\n",
       "    box office\n",
       "    <span style=\"font-size: 0.8em; font-weight: bold; line-height: 1; border-radius: 0.35em; vertical-align: middle; margin-left: 0.5rem\">relation</span>\n",
       "</mark>\n",
       " outcome for the film Heart Condition?</div></span>"
      ],
      "text/plain": [
       "<IPython.core.display.HTML object>"
      ]
     },
     "metadata": {},
     "output_type": "display_data"
    },
    {
     "name": "stdout",
     "output_type": "stream",
     "text": [
      "What was the box office outcome for the film Heart Condition? {'entities': [(13, 24, 'relation')]}\n",
      "Missing relation label\n"
     ]
    },
    {
     "data": {
      "text/html": [
       "<span class=\"tex2jax_ignore\"><div class=\"entities\" style=\"line-height: 2.5; direction: ltr\">What is the \n",
       "<mark class=\"entity\" style=\"background: #ddd; padding: 0.45em 0.6em; margin: 0 0.25em; line-height: 1; border-radius: 0.35em;\">\n",
       "    box office\n",
       "    <span style=\"font-size: 0.8em; font-weight: bold; line-height: 1; border-radius: 0.35em; vertical-align: middle; margin-left: 0.5rem\">relation</span>\n",
       "</mark>\n",
       " of White Sands?</div></span>"
      ],
      "text/plain": [
       "<IPython.core.display.HTML object>"
      ]
     },
     "metadata": {},
     "output_type": "display_data"
    },
    {
     "name": "stdout",
     "output_type": "stream",
     "text": [
      "What is the box office of White Sands? {'entities': [(12, 23, 'relation')]}\n",
      "Missing relation label\n"
     ]
    },
    {
     "data": {
      "text/html": [
       "<span class=\"tex2jax_ignore\"><div class=\"entities\" style=\"line-height: 2.5; direction: ltr\">What is the \n",
       "<mark class=\"entity\" style=\"background: #ddd; padding: 0.45em 0.6em; margin: 0 0.25em; line-height: 1; border-radius: 0.35em;\">\n",
       "    box office\n",
       "    <span style=\"font-size: 0.8em; font-weight: bold; line-height: 1; border-radius: 0.35em; vertical-align: middle; margin-left: 0.5rem\">relation</span>\n",
       "</mark>\n",
       " earnings for the film The Cave?</div></span>"
      ],
      "text/plain": [
       "<IPython.core.display.HTML object>"
      ]
     },
     "metadata": {},
     "output_type": "display_data"
    },
    {
     "name": "stdout",
     "output_type": "stream",
     "text": [
      "What is the box office earnings for the film The Cave? {'entities': [(12, 23, 'relation')]}\n",
      "Missing relation label\n"
     ]
    },
    {
     "data": {
      "text/html": [
       "<span class=\"tex2jax_ignore\"><div class=\"entities\" style=\"line-height: 2.5; direction: ltr\">Can you provide information on the \n",
       "<mark class=\"entity\" style=\"background: #ddd; padding: 0.45em 0.6em; margin: 0 0.25em; line-height: 1; border-radius: 0.35em;\">\n",
       "    box office\n",
       "    <span style=\"font-size: 0.8em; font-weight: bold; line-height: 1; border-radius: 0.35em; vertical-align: middle; margin-left: 0.5rem\">relation</span>\n",
       "</mark>\n",
       " sales of Women in Temptation?</div></span>"
      ],
      "text/plain": [
       "<IPython.core.display.HTML object>"
      ]
     },
     "metadata": {},
     "output_type": "display_data"
    },
    {
     "name": "stdout",
     "output_type": "stream",
     "text": [
      "Can you provide information on the box office sales of Women in Temptation? {'entities': [(35, 46, 'relation')]}\n",
      "Missing relation label\n"
     ]
    },
    {
     "data": {
      "text/html": [
       "<span class=\"tex2jax_ignore\"><div class=\"entities\" style=\"line-height: 2.5; direction: ltr\">How did Justice, My Foot! perform in terms of \n",
       "<mark class=\"entity\" style=\"background: #ddd; padding: 0.45em 0.6em; margin: 0 0.25em; line-height: 1; border-radius: 0.35em;\">\n",
       "    box office\n",
       "    <span style=\"font-size: 0.8em; font-weight: bold; line-height: 1; border-radius: 0.35em; vertical-align: middle; margin-left: 0.5rem\">relation</span>\n",
       "</mark>\n",
       " revenue?</div></span>"
      ],
      "text/plain": [
       "<IPython.core.display.HTML object>"
      ]
     },
     "metadata": {},
     "output_type": "display_data"
    },
    {
     "name": "stdout",
     "output_type": "stream",
     "text": [
      "How did Justice, My Foot! perform in terms of box office revenue? {'entities': [(46, 57, 'relation')]}\n",
      "Missing relation label\n"
     ]
    },
    {
     "data": {
      "text/html": [
       "<span class=\"tex2jax_ignore\"><div class=\"entities\" style=\"line-height: 2.5; direction: ltr\">Tell me about the \n",
       "<mark class=\"entity\" style=\"background: #ddd; padding: 0.45em 0.6em; margin: 0 0.25em; line-height: 1; border-radius: 0.35em;\">\n",
       "    box office\n",
       "    <span style=\"font-size: 0.8em; font-weight: bold; line-height: 1; border-radius: 0.35em; vertical-align: middle; margin-left: 0.5rem\">relation</span>\n",
       "</mark>\n",
       " results for the movie titled George Michael: A Different Story.</div></span>"
      ],
      "text/plain": [
       "<IPython.core.display.HTML object>"
      ]
     },
     "metadata": {},
     "output_type": "display_data"
    },
    {
     "name": "stdout",
     "output_type": "stream",
     "text": [
      "Tell me about the box office results for the movie titled George Michael: A Different Story. {'entities': [(18, 29, 'relation')]}\n",
      "Missing relation label\n"
     ]
    },
    {
     "data": {
      "text/html": [
       "<span class=\"tex2jax_ignore\"><div class=\"entities\" style=\"line-height: 2.5; direction: ltr\">What were the \n",
       "<mark class=\"entity\" style=\"background: #ddd; padding: 0.45em 0.6em; margin: 0 0.25em; line-height: 1; border-radius: 0.35em;\">\n",
       "    box office\n",
       "    <span style=\"font-size: 0.8em; font-weight: bold; line-height: 1; border-radius: 0.35em; vertical-align: middle; margin-left: 0.5rem\">relation</span>\n",
       "</mark>\n",
       " numbers for Bernie?</div></span>"
      ],
      "text/plain": [
       "<IPython.core.display.HTML object>"
      ]
     },
     "metadata": {},
     "output_type": "display_data"
    },
    {
     "name": "stdout",
     "output_type": "stream",
     "text": [
      "What were the box office numbers for Bernie? {'entities': [(14, 25, 'relation')]}\n",
      "Missing relation label\n"
     ]
    },
    {
     "data": {
      "text/html": [
       "<span class=\"tex2jax_ignore\"><div class=\"entities\" style=\"line-height: 2.5; direction: ltr\">Can you share the \n",
       "<mark class=\"entity\" style=\"background: #ddd; padding: 0.45em 0.6em; margin: 0 0.25em; line-height: 1; border-radius: 0.35em;\">\n",
       "    box office\n",
       "    <span style=\"font-size: 0.8em; font-weight: bold; line-height: 1; border-radius: 0.35em; vertical-align: middle; margin-left: 0.5rem\">relation</span>\n",
       "</mark>\n",
       " figures for Amusement?</div></span>"
      ],
      "text/plain": [
       "<IPython.core.display.HTML object>"
      ]
     },
     "metadata": {},
     "output_type": "display_data"
    },
    {
     "name": "stdout",
     "output_type": "stream",
     "text": [
      "Can you share the box office figures for Amusement? {'entities': [(18, 29, 'relation')]}\n",
      "Missing relation label\n"
     ]
    },
    {
     "data": {
      "text/html": [
       "<span class=\"tex2jax_ignore\"><div class=\"entities\" style=\"line-height: 2.5; direction: ltr\">What was the \n",
       "<mark class=\"entity\" style=\"background: #ddd; padding: 0.45em 0.6em; margin: 0 0.25em; line-height: 1; border-radius: 0.35em;\">\n",
       "    box office\n",
       "    <span style=\"font-size: 0.8em; font-weight: bold; line-height: 1; border-radius: 0.35em; vertical-align: middle; margin-left: 0.5rem\">relation</span>\n",
       "</mark>\n",
       " outcome for the film The Public Eye?</div></span>"
      ],
      "text/plain": [
       "<IPython.core.display.HTML object>"
      ]
     },
     "metadata": {},
     "output_type": "display_data"
    },
    {
     "name": "stdout",
     "output_type": "stream",
     "text": [
      "What was the box office outcome for the film The Public Eye? {'entities': [(13, 24, 'relation')]}\n",
      "Missing relation label\n"
     ]
    },
    {
     "data": {
      "text/html": [
       "<span class=\"tex2jax_ignore\"><div class=\"entities\" style=\"line-height: 2.5; direction: ltr\">What is the \n",
       "<mark class=\"entity\" style=\"background: #ddd; padding: 0.45em 0.6em; margin: 0 0.25em; line-height: 1; border-radius: 0.35em;\">\n",
       "    box office\n",
       "    <span style=\"font-size: 0.8em; font-weight: bold; line-height: 1; border-radius: 0.35em; vertical-align: middle; margin-left: 0.5rem\">relation</span>\n",
       "</mark>\n",
       " of Susan's Plan?</div></span>"
      ],
      "text/plain": [
       "<IPython.core.display.HTML object>"
      ]
     },
     "metadata": {},
     "output_type": "display_data"
    },
    {
     "name": "stdout",
     "output_type": "stream",
     "text": [
      "What is the box office of Susan's Plan? {'entities': [(12, 23, 'relation')]}\n",
      "Missing relation label\n"
     ]
    },
    {
     "data": {
      "text/html": [
       "<span class=\"tex2jax_ignore\"><div class=\"entities\" style=\"line-height: 2.5; direction: ltr\">What is the \n",
       "<mark class=\"entity\" style=\"background: #ddd; padding: 0.45em 0.6em; margin: 0 0.25em; line-height: 1; border-radius: 0.35em;\">\n",
       "    box office\n",
       "    <span style=\"font-size: 0.8em; font-weight: bold; line-height: 1; border-radius: 0.35em; vertical-align: middle; margin-left: 0.5rem\">relation</span>\n",
       "</mark>\n",
       " earnings for the film Camp 14: Total Control Zone?</div></span>"
      ],
      "text/plain": [
       "<IPython.core.display.HTML object>"
      ]
     },
     "metadata": {},
     "output_type": "display_data"
    },
    {
     "name": "stdout",
     "output_type": "stream",
     "text": [
      "What is the box office earnings for the film Camp 14: Total Control Zone? {'entities': [(12, 23, 'relation')]}\n",
      "Missing relation label\n"
     ]
    },
    {
     "data": {
      "text/html": [
       "<span class=\"tex2jax_ignore\"><div class=\"entities\" style=\"line-height: 2.5; direction: ltr\">Can you provide information on the \n",
       "<mark class=\"entity\" style=\"background: #ddd; padding: 0.45em 0.6em; margin: 0 0.25em; line-height: 1; border-radius: 0.35em;\">\n",
       "    box office\n",
       "    <span style=\"font-size: 0.8em; font-weight: bold; line-height: 1; border-radius: 0.35em; vertical-align: middle; margin-left: 0.5rem\">relation</span>\n",
       "</mark>\n",
       " sales of Armadillo?</div></span>"
      ],
      "text/plain": [
       "<IPython.core.display.HTML object>"
      ]
     },
     "metadata": {},
     "output_type": "display_data"
    },
    {
     "name": "stdout",
     "output_type": "stream",
     "text": [
      "Can you provide information on the box office sales of Armadillo? {'entities': [(35, 46, 'relation')]}\n",
      "Missing relation label\n"
     ]
    },
    {
     "data": {
      "text/html": [
       "<span class=\"tex2jax_ignore\"><div class=\"entities\" style=\"line-height: 2.5; direction: ltr\">How did Tatie Danielle perform in terms of \n",
       "<mark class=\"entity\" style=\"background: #ddd; padding: 0.45em 0.6em; margin: 0 0.25em; line-height: 1; border-radius: 0.35em;\">\n",
       "    box office\n",
       "    <span style=\"font-size: 0.8em; font-weight: bold; line-height: 1; border-radius: 0.35em; vertical-align: middle; margin-left: 0.5rem\">relation</span>\n",
       "</mark>\n",
       " revenue?</div></span>"
      ],
      "text/plain": [
       "<IPython.core.display.HTML object>"
      ]
     },
     "metadata": {},
     "output_type": "display_data"
    },
    {
     "name": "stdout",
     "output_type": "stream",
     "text": [
      "How did Tatie Danielle perform in terms of box office revenue? {'entities': [(43, 54, 'relation')]}\n",
      "Missing relation label\n"
     ]
    },
    {
     "data": {
      "text/html": [
       "<span class=\"tex2jax_ignore\"><div class=\"entities\" style=\"line-height: 2.5; direction: ltr\">Tell me about the \n",
       "<mark class=\"entity\" style=\"background: #ddd; padding: 0.45em 0.6em; margin: 0 0.25em; line-height: 1; border-radius: 0.35em;\">\n",
       "    box office\n",
       "    <span style=\"font-size: 0.8em; font-weight: bold; line-height: 1; border-radius: 0.35em; vertical-align: middle; margin-left: 0.5rem\">relation</span>\n",
       "</mark>\n",
       " results for the movie titled Jaime.</div></span>"
      ],
      "text/plain": [
       "<IPython.core.display.HTML object>"
      ]
     },
     "metadata": {},
     "output_type": "display_data"
    },
    {
     "name": "stdout",
     "output_type": "stream",
     "text": [
      "Tell me about the box office results for the movie titled Jaime. {'entities': [(18, 29, 'relation')]}\n",
      "Missing relation label\n"
     ]
    },
    {
     "data": {
      "text/html": [
       "<span class=\"tex2jax_ignore\"><div class=\"entities\" style=\"line-height: 2.5; direction: ltr\">What were the \n",
       "<mark class=\"entity\" style=\"background: #ddd; padding: 0.45em 0.6em; margin: 0 0.25em; line-height: 1; border-radius: 0.35em;\">\n",
       "    box office\n",
       "    <span style=\"font-size: 0.8em; font-weight: bold; line-height: 1; border-radius: 0.35em; vertical-align: middle; margin-left: 0.5rem\">relation</span>\n",
       "</mark>\n",
       " numbers for Ricochet?</div></span>"
      ],
      "text/plain": [
       "<IPython.core.display.HTML object>"
      ]
     },
     "metadata": {},
     "output_type": "display_data"
    },
    {
     "name": "stdout",
     "output_type": "stream",
     "text": [
      "What were the box office numbers for Ricochet? {'entities': [(14, 25, 'relation')]}\n",
      "Missing relation label\n"
     ]
    },
    {
     "data": {
      "text/html": [
       "<span class=\"tex2jax_ignore\"><div class=\"entities\" style=\"line-height: 2.5; direction: ltr\">Can you share the \n",
       "<mark class=\"entity\" style=\"background: #ddd; padding: 0.45em 0.6em; margin: 0 0.25em; line-height: 1; border-radius: 0.35em;\">\n",
       "    box office\n",
       "    <span style=\"font-size: 0.8em; font-weight: bold; line-height: 1; border-radius: 0.35em; vertical-align: middle; margin-left: 0.5rem\">relation</span>\n",
       "</mark>\n",
       " figures for Empire of the Wolves?</div></span>"
      ],
      "text/plain": [
       "<IPython.core.display.HTML object>"
      ]
     },
     "metadata": {},
     "output_type": "display_data"
    },
    {
     "name": "stdout",
     "output_type": "stream",
     "text": [
      "Can you share the box office figures for Empire of the Wolves? {'entities': [(18, 29, 'relation')]}\n",
      "Missing relation label\n"
     ]
    },
    {
     "data": {
      "text/html": [
       "<span class=\"tex2jax_ignore\"><div class=\"entities\" style=\"line-height: 2.5; direction: ltr\">What was the \n",
       "<mark class=\"entity\" style=\"background: #ddd; padding: 0.45em 0.6em; margin: 0 0.25em; line-height: 1; border-radius: 0.35em;\">\n",
       "    box office\n",
       "    <span style=\"font-size: 0.8em; font-weight: bold; line-height: 1; border-radius: 0.35em; vertical-align: middle; margin-left: 0.5rem\">relation</span>\n",
       "</mark>\n",
       " outcome for the film Killer Tongue?</div></span>"
      ],
      "text/plain": [
       "<IPython.core.display.HTML object>"
      ]
     },
     "metadata": {},
     "output_type": "display_data"
    },
    {
     "name": "stdout",
     "output_type": "stream",
     "text": [
      "What was the box office outcome for the film Killer Tongue? {'entities': [(13, 24, 'relation')]}\n",
      "Missing relation label\n"
     ]
    },
    {
     "data": {
      "text/html": [
       "<span class=\"tex2jax_ignore\"><div class=\"entities\" style=\"line-height: 2.5; direction: ltr\">What is the \n",
       "<mark class=\"entity\" style=\"background: #ddd; padding: 0.45em 0.6em; margin: 0 0.25em; line-height: 1; border-radius: 0.35em;\">\n",
       "    box office\n",
       "    <span style=\"font-size: 0.8em; font-weight: bold; line-height: 1; border-radius: 0.35em; vertical-align: middle; margin-left: 0.5rem\">relation</span>\n",
       "</mark>\n",
       " of The Dognapper?</div></span>"
      ],
      "text/plain": [
       "<IPython.core.display.HTML object>"
      ]
     },
     "metadata": {},
     "output_type": "display_data"
    },
    {
     "name": "stdout",
     "output_type": "stream",
     "text": [
      "What is the box office of The Dognapper? {'entities': [(12, 23, 'relation')]}\n",
      "Missing relation label\n"
     ]
    },
    {
     "data": {
      "text/html": [
       "<span class=\"tex2jax_ignore\"><div class=\"entities\" style=\"line-height: 2.5; direction: ltr\">What is the \n",
       "<mark class=\"entity\" style=\"background: #ddd; padding: 0.45em 0.6em; margin: 0 0.25em; line-height: 1; border-radius: 0.35em;\">\n",
       "    box office\n",
       "    <span style=\"font-size: 0.8em; font-weight: bold; line-height: 1; border-radius: 0.35em; vertical-align: middle; margin-left: 0.5rem\">relation</span>\n",
       "</mark>\n",
       " earnings for the film Meet Wally Sparks?</div></span>"
      ],
      "text/plain": [
       "<IPython.core.display.HTML object>"
      ]
     },
     "metadata": {},
     "output_type": "display_data"
    },
    {
     "name": "stdout",
     "output_type": "stream",
     "text": [
      "What is the box office earnings for the film Meet Wally Sparks? {'entities': [(12, 23, 'relation')]}\n",
      "Missing relation label\n"
     ]
    },
    {
     "data": {
      "text/html": [
       "<span class=\"tex2jax_ignore\"><div class=\"entities\" style=\"line-height: 2.5; direction: ltr\">Can you provide information on the \n",
       "<mark class=\"entity\" style=\"background: #ddd; padding: 0.45em 0.6em; margin: 0 0.25em; line-height: 1; border-radius: 0.35em;\">\n",
       "    box office\n",
       "    <span style=\"font-size: 0.8em; font-weight: bold; line-height: 1; border-radius: 0.35em; vertical-align: middle; margin-left: 0.5rem\">relation</span>\n",
       "</mark>\n",
       " sales of Meu Passado Me Condena?</div></span>"
      ],
      "text/plain": [
       "<IPython.core.display.HTML object>"
      ]
     },
     "metadata": {},
     "output_type": "display_data"
    },
    {
     "name": "stdout",
     "output_type": "stream",
     "text": [
      "Can you provide information on the box office sales of Meu Passado Me Condena? {'entities': [(35, 46, 'relation')]}\n",
      "Missing relation label\n"
     ]
    },
    {
     "data": {
      "text/html": [
       "<span class=\"tex2jax_ignore\"><div class=\"entities\" style=\"line-height: 2.5; direction: ltr\">How did Declaration of War perform in terms of \n",
       "<mark class=\"entity\" style=\"background: #ddd; padding: 0.45em 0.6em; margin: 0 0.25em; line-height: 1; border-radius: 0.35em;\">\n",
       "    box office\n",
       "    <span style=\"font-size: 0.8em; font-weight: bold; line-height: 1; border-radius: 0.35em; vertical-align: middle; margin-left: 0.5rem\">relation</span>\n",
       "</mark>\n",
       " revenue?</div></span>"
      ],
      "text/plain": [
       "<IPython.core.display.HTML object>"
      ]
     },
     "metadata": {},
     "output_type": "display_data"
    },
    {
     "name": "stdout",
     "output_type": "stream",
     "text": [
      "How did Declaration of War perform in terms of box office revenue? {'entities': [(47, 58, 'relation')]}\n",
      "Missing relation label\n"
     ]
    },
    {
     "data": {
      "text/html": [
       "<span class=\"tex2jax_ignore\"><div class=\"entities\" style=\"line-height: 2.5; direction: ltr\">Tell me about the \n",
       "<mark class=\"entity\" style=\"background: #ddd; padding: 0.45em 0.6em; margin: 0 0.25em; line-height: 1; border-radius: 0.35em;\">\n",
       "    box office\n",
       "    <span style=\"font-size: 0.8em; font-weight: bold; line-height: 1; border-radius: 0.35em; vertical-align: middle; margin-left: 0.5rem\">relation</span>\n",
       "</mark>\n",
       " results for the movie titled Hum Tum.</div></span>"
      ],
      "text/plain": [
       "<IPython.core.display.HTML object>"
      ]
     },
     "metadata": {},
     "output_type": "display_data"
    },
    {
     "name": "stdout",
     "output_type": "stream",
     "text": [
      "Tell me about the box office results for the movie titled Hum Tum. {'entities': [(18, 29, 'relation')]}\n",
      "Missing relation label\n"
     ]
    },
    {
     "data": {
      "text/html": [
       "<span class=\"tex2jax_ignore\"><div class=\"entities\" style=\"line-height: 2.5; direction: ltr\">What were the \n",
       "<mark class=\"entity\" style=\"background: #ddd; padding: 0.45em 0.6em; margin: 0 0.25em; line-height: 1; border-radius: 0.35em;\">\n",
       "    box office\n",
       "    <span style=\"font-size: 0.8em; font-weight: bold; line-height: 1; border-radius: 0.35em; vertical-align: middle; margin-left: 0.5rem\">relation</span>\n",
       "</mark>\n",
       " numbers for Welcome to the Jungle?</div></span>"
      ],
      "text/plain": [
       "<IPython.core.display.HTML object>"
      ]
     },
     "metadata": {},
     "output_type": "display_data"
    },
    {
     "name": "stdout",
     "output_type": "stream",
     "text": [
      "What were the box office numbers for Welcome to the Jungle? {'entities': [(14, 25, 'relation')]}\n",
      "Missing relation label\n"
     ]
    },
    {
     "data": {
      "text/html": [
       "<span class=\"tex2jax_ignore\"><div class=\"entities\" style=\"line-height: 2.5; direction: ltr\">Can you share the \n",
       "<mark class=\"entity\" style=\"background: #ddd; padding: 0.45em 0.6em; margin: 0 0.25em; line-height: 1; border-radius: 0.35em;\">\n",
       "    box office\n",
       "    <span style=\"font-size: 0.8em; font-weight: bold; line-height: 1; border-radius: 0.35em; vertical-align: middle; margin-left: 0.5rem\">relation</span>\n",
       "</mark>\n",
       " figures for Necrosis?</div></span>"
      ],
      "text/plain": [
       "<IPython.core.display.HTML object>"
      ]
     },
     "metadata": {},
     "output_type": "display_data"
    },
    {
     "name": "stdout",
     "output_type": "stream",
     "text": [
      "Can you share the box office figures for Necrosis? {'entities': [(18, 29, 'relation')]}\n",
      "Missing relation label\n"
     ]
    },
    {
     "data": {
      "text/html": [
       "<span class=\"tex2jax_ignore\"><div class=\"entities\" style=\"line-height: 2.5; direction: ltr\">What was the \n",
       "<mark class=\"entity\" style=\"background: #ddd; padding: 0.45em 0.6em; margin: 0 0.25em; line-height: 1; border-radius: 0.35em;\">\n",
       "    box office\n",
       "    <span style=\"font-size: 0.8em; font-weight: bold; line-height: 1; border-radius: 0.35em; vertical-align: middle; margin-left: 0.5rem\">relation</span>\n",
       "</mark>\n",
       " outcome for the film Second Name?</div></span>"
      ],
      "text/plain": [
       "<IPython.core.display.HTML object>"
      ]
     },
     "metadata": {},
     "output_type": "display_data"
    },
    {
     "name": "stdout",
     "output_type": "stream",
     "text": [
      "What was the box office outcome for the film Second Name? {'entities': [(13, 24, 'relation')]}\n",
      "Missing relation label\n"
     ]
    },
    {
     "data": {
      "text/html": [
       "<span class=\"tex2jax_ignore\"><div class=\"entities\" style=\"line-height: 2.5; direction: ltr\">What is the \n",
       "<mark class=\"entity\" style=\"background: #ddd; padding: 0.45em 0.6em; margin: 0 0.25em; line-height: 1; border-radius: 0.35em;\">\n",
       "    box office\n",
       "    <span style=\"font-size: 0.8em; font-weight: bold; line-height: 1; border-radius: 0.35em; vertical-align: middle; margin-left: 0.5rem\">relation</span>\n",
       "</mark>\n",
       " of The Middle of the World?</div></span>"
      ],
      "text/plain": [
       "<IPython.core.display.HTML object>"
      ]
     },
     "metadata": {},
     "output_type": "display_data"
    },
    {
     "name": "stdout",
     "output_type": "stream",
     "text": [
      "What is the box office of The Middle of the World? {'entities': [(12, 23, 'relation')]}\n",
      "Missing relation label\n"
     ]
    },
    {
     "data": {
      "text/html": [
       "<span class=\"tex2jax_ignore\"><div class=\"entities\" style=\"line-height: 2.5; direction: ltr\">What is the \n",
       "<mark class=\"entity\" style=\"background: #ddd; padding: 0.45em 0.6em; margin: 0 0.25em; line-height: 1; border-radius: 0.35em;\">\n",
       "    box office\n",
       "    <span style=\"font-size: 0.8em; font-weight: bold; line-height: 1; border-radius: 0.35em; vertical-align: middle; margin-left: 0.5rem\">relation</span>\n",
       "</mark>\n",
       " earnings for the film The Man Who Copied?</div></span>"
      ],
      "text/plain": [
       "<IPython.core.display.HTML object>"
      ]
     },
     "metadata": {},
     "output_type": "display_data"
    },
    {
     "name": "stdout",
     "output_type": "stream",
     "text": [
      "What is the box office earnings for the film The Man Who Copied? {'entities': [(12, 23, 'relation')]}\n",
      "Missing relation label\n"
     ]
    },
    {
     "data": {
      "text/html": [
       "<span class=\"tex2jax_ignore\"><div class=\"entities\" style=\"line-height: 2.5; direction: ltr\">Can you provide information on the \n",
       "<mark class=\"entity\" style=\"background: #ddd; padding: 0.45em 0.6em; margin: 0 0.25em; line-height: 1; border-radius: 0.35em;\">\n",
       "    box office\n",
       "    <span style=\"font-size: 0.8em; font-weight: bold; line-height: 1; border-radius: 0.35em; vertical-align: middle; margin-left: 0.5rem\">relation</span>\n",
       "</mark>\n",
       " sales of Time and the Wind?</div></span>"
      ],
      "text/plain": [
       "<IPython.core.display.HTML object>"
      ]
     },
     "metadata": {},
     "output_type": "display_data"
    },
    {
     "name": "stdout",
     "output_type": "stream",
     "text": [
      "Can you provide information on the box office sales of Time and the Wind? {'entities': [(35, 46, 'relation')]}\n",
      "Missing relation label\n"
     ]
    },
    {
     "data": {
      "text/html": [
       "<span class=\"tex2jax_ignore\"><div class=\"entities\" style=\"line-height: 2.5; direction: ltr\">How did Blue Eyes perform in terms of \n",
       "<mark class=\"entity\" style=\"background: #ddd; padding: 0.45em 0.6em; margin: 0 0.25em; line-height: 1; border-radius: 0.35em;\">\n",
       "    box office\n",
       "    <span style=\"font-size: 0.8em; font-weight: bold; line-height: 1; border-radius: 0.35em; vertical-align: middle; margin-left: 0.5rem\">relation</span>\n",
       "</mark>\n",
       " revenue?</div></span>"
      ],
      "text/plain": [
       "<IPython.core.display.HTML object>"
      ]
     },
     "metadata": {},
     "output_type": "display_data"
    },
    {
     "name": "stdout",
     "output_type": "stream",
     "text": [
      "How did Blue Eyes perform in terms of box office revenue? {'entities': [(38, 49, 'relation')]}\n",
      "Missing relation label\n"
     ]
    },
    {
     "data": {
      "text/html": [
       "<span class=\"tex2jax_ignore\"><div class=\"entities\" style=\"line-height: 2.5; direction: ltr\">Tell me about the \n",
       "<mark class=\"entity\" style=\"background: #ddd; padding: 0.45em 0.6em; margin: 0 0.25em; line-height: 1; border-radius: 0.35em;\">\n",
       "    box office\n",
       "    <span style=\"font-size: 0.8em; font-weight: bold; line-height: 1; border-radius: 0.35em; vertical-align: middle; margin-left: 0.5rem\">relation</span>\n",
       "</mark>\n",
       " results for the movie titled Artificial Paradises.</div></span>"
      ],
      "text/plain": [
       "<IPython.core.display.HTML object>"
      ]
     },
     "metadata": {},
     "output_type": "display_data"
    },
    {
     "name": "stdout",
     "output_type": "stream",
     "text": [
      "Tell me about the box office results for the movie titled Artificial Paradises. {'entities': [(18, 29, 'relation')]}\n",
      "Missing relation label\n"
     ]
    },
    {
     "data": {
      "text/html": [
       "<span class=\"tex2jax_ignore\"><div class=\"entities\" style=\"line-height: 2.5; direction: ltr\">What were the \n",
       "<mark class=\"entity\" style=\"background: #ddd; padding: 0.45em 0.6em; margin: 0 0.25em; line-height: 1; border-radius: 0.35em;\">\n",
       "    box office\n",
       "    <span style=\"font-size: 0.8em; font-weight: bold; line-height: 1; border-radius: 0.35em; vertical-align: middle; margin-left: 0.5rem\">relation</span>\n",
       "</mark>\n",
       " numbers for Captain Newman, M.D.?</div></span>"
      ],
      "text/plain": [
       "<IPython.core.display.HTML object>"
      ]
     },
     "metadata": {},
     "output_type": "display_data"
    },
    {
     "name": "stdout",
     "output_type": "stream",
     "text": [
      "What were the box office numbers for Captain Newman, M.D.? {'entities': [(14, 25, 'relation')]}\n",
      "Missing relation label\n"
     ]
    },
    {
     "data": {
      "text/html": [
       "<span class=\"tex2jax_ignore\"><div class=\"entities\" style=\"line-height: 2.5; direction: ltr\">Can you share the \n",
       "<mark class=\"entity\" style=\"background: #ddd; padding: 0.45em 0.6em; margin: 0 0.25em; line-height: 1; border-radius: 0.35em;\">\n",
       "    box office\n",
       "    <span style=\"font-size: 0.8em; font-weight: bold; line-height: 1; border-radius: 0.35em; vertical-align: middle; margin-left: 0.5rem\">relation</span>\n",
       "</mark>\n",
       " figures for Captive?</div></span>"
      ],
      "text/plain": [
       "<IPython.core.display.HTML object>"
      ]
     },
     "metadata": {},
     "output_type": "display_data"
    },
    {
     "name": "stdout",
     "output_type": "stream",
     "text": [
      "Can you share the box office figures for Captive? {'entities': [(18, 29, 'relation')]}\n",
      "Missing relation label\n"
     ]
    },
    {
     "data": {
      "text/html": [
       "<span class=\"tex2jax_ignore\"><div class=\"entities\" style=\"line-height: 2.5; direction: ltr\">What was the \n",
       "<mark class=\"entity\" style=\"background: #ddd; padding: 0.45em 0.6em; margin: 0 0.25em; line-height: 1; border-radius: 0.35em;\">\n",
       "    box office\n",
       "    <span style=\"font-size: 0.8em; font-weight: bold; line-height: 1; border-radius: 0.35em; vertical-align: middle; margin-left: 0.5rem\">relation</span>\n",
       "</mark>\n",
       " outcome for the film Captivity?</div></span>"
      ],
      "text/plain": [
       "<IPython.core.display.HTML object>"
      ]
     },
     "metadata": {},
     "output_type": "display_data"
    },
    {
     "name": "stdout",
     "output_type": "stream",
     "text": [
      "What was the box office outcome for the film Captivity? {'entities': [(13, 24, 'relation')]}\n",
      "Missing relation label\n"
     ]
    },
    {
     "data": {
      "text/html": [
       "<span class=\"tex2jax_ignore\"><div class=\"entities\" style=\"line-height: 2.5; direction: ltr\">What is the \n",
       "<mark class=\"entity\" style=\"background: #ddd; padding: 0.45em 0.6em; margin: 0 0.25em; line-height: 1; border-radius: 0.35em;\">\n",
       "    box office\n",
       "    <span style=\"font-size: 0.8em; font-weight: bold; line-height: 1; border-radius: 0.35em; vertical-align: middle; margin-left: 0.5rem\">relation</span>\n",
       "</mark>\n",
       " of Wrestling Ernest Hemingway?</div></span>"
      ],
      "text/plain": [
       "<IPython.core.display.HTML object>"
      ]
     },
     "metadata": {},
     "output_type": "display_data"
    },
    {
     "name": "stdout",
     "output_type": "stream",
     "text": [
      "What is the box office of Wrestling Ernest Hemingway? {'entities': [(12, 23, 'relation')]}\n",
      "Missing relation label\n"
     ]
    },
    {
     "data": {
      "text/html": [
       "<span class=\"tex2jax_ignore\"><div class=\"entities\" style=\"line-height: 2.5; direction: ltr\">What is the \n",
       "<mark class=\"entity\" style=\"background: #ddd; padding: 0.45em 0.6em; margin: 0 0.25em; line-height: 1; border-radius: 0.35em;\">\n",
       "    box office\n",
       "    <span style=\"font-size: 0.8em; font-weight: bold; line-height: 1; border-radius: 0.35em; vertical-align: middle; margin-left: 0.5rem\">relation</span>\n",
       "</mark>\n",
       " earnings for the film Forbidden to Forbid?</div></span>"
      ],
      "text/plain": [
       "<IPython.core.display.HTML object>"
      ]
     },
     "metadata": {},
     "output_type": "display_data"
    },
    {
     "name": "stdout",
     "output_type": "stream",
     "text": [
      "What is the box office earnings for the film Forbidden to Forbid? {'entities': [(12, 23, 'relation')]}\n",
      "Missing relation label\n"
     ]
    },
    {
     "data": {
      "text/html": [
       "<span class=\"tex2jax_ignore\"><div class=\"entities\" style=\"line-height: 2.5; direction: ltr\">Can you provide information on the \n",
       "<mark class=\"entity\" style=\"background: #ddd; padding: 0.45em 0.6em; margin: 0 0.25em; line-height: 1; border-radius: 0.35em;\">\n",
       "    box office\n",
       "    <span style=\"font-size: 0.8em; font-weight: bold; line-height: 1; border-radius: 0.35em; vertical-align: middle; margin-left: 0.5rem\">relation</span>\n",
       "</mark>\n",
       " sales of Under the Same Moon?</div></span>"
      ],
      "text/plain": [
       "<IPython.core.display.HTML object>"
      ]
     },
     "metadata": {},
     "output_type": "display_data"
    },
    {
     "name": "stdout",
     "output_type": "stream",
     "text": [
      "Can you provide information on the box office sales of Under the Same Moon? {'entities': [(35, 46, 'relation')]}\n",
      "Missing relation label\n"
     ]
    },
    {
     "data": {
      "text/html": [
       "<span class=\"tex2jax_ignore\"><div class=\"entities\" style=\"line-height: 2.5; direction: ltr\">How did Somewhere Slow perform in terms of \n",
       "<mark class=\"entity\" style=\"background: #ddd; padding: 0.45em 0.6em; margin: 0 0.25em; line-height: 1; border-radius: 0.35em;\">\n",
       "    box office\n",
       "    <span style=\"font-size: 0.8em; font-weight: bold; line-height: 1; border-radius: 0.35em; vertical-align: middle; margin-left: 0.5rem\">relation</span>\n",
       "</mark>\n",
       " revenue?</div></span>"
      ],
      "text/plain": [
       "<IPython.core.display.HTML object>"
      ]
     },
     "metadata": {},
     "output_type": "display_data"
    },
    {
     "name": "stdout",
     "output_type": "stream",
     "text": [
      "How did Somewhere Slow perform in terms of box office revenue? {'entities': [(43, 54, 'relation')]}\n",
      "Missing relation label\n"
     ]
    },
    {
     "data": {
      "text/html": [
       "<span class=\"tex2jax_ignore\"><div class=\"entities\" style=\"line-height: 2.5; direction: ltr\">Tell me about the \n",
       "<mark class=\"entity\" style=\"background: #ddd; padding: 0.45em 0.6em; margin: 0 0.25em; line-height: 1; border-radius: 0.35em;\">\n",
       "    box office\n",
       "    <span style=\"font-size: 0.8em; font-weight: bold; line-height: 1; border-radius: 0.35em; vertical-align: middle; margin-left: 0.5rem\">relation</span>\n",
       "</mark>\n",
       " results for the movie titled Somos tão Jovens.</div></span>"
      ],
      "text/plain": [
       "<IPython.core.display.HTML object>"
      ]
     },
     "metadata": {},
     "output_type": "display_data"
    },
    {
     "name": "stdout",
     "output_type": "stream",
     "text": [
      "Tell me about the box office results for the movie titled Somos tão Jovens. {'entities': [(18, 29, 'relation')]}\n",
      "Missing relation label\n"
     ]
    },
    {
     "data": {
      "text/html": [
       "<span class=\"tex2jax_ignore\"><div class=\"entities\" style=\"line-height: 2.5; direction: ltr\">What were the \n",
       "<mark class=\"entity\" style=\"background: #ddd; padding: 0.45em 0.6em; margin: 0 0.25em; line-height: 1; border-radius: 0.35em;\">\n",
       "    box office\n",
       "    <span style=\"font-size: 0.8em; font-weight: bold; line-height: 1; border-radius: 0.35em; vertical-align: middle; margin-left: 0.5rem\">relation</span>\n",
       "</mark>\n",
       " numbers for How to Succeed in Business Without Really Trying?</div></span>"
      ],
      "text/plain": [
       "<IPython.core.display.HTML object>"
      ]
     },
     "metadata": {},
     "output_type": "display_data"
    },
    {
     "name": "stdout",
     "output_type": "stream",
     "text": [
      "What were the box office numbers for How to Succeed in Business Without Really Trying? {'entities': [(14, 25, 'relation')]}\n",
      "Missing relation label\n"
     ]
    },
    {
     "data": {
      "text/html": [
       "<span class=\"tex2jax_ignore\"><div class=\"entities\" style=\"line-height: 2.5; direction: ltr\">Can you share the \n",
       "<mark class=\"entity\" style=\"background: #ddd; padding: 0.45em 0.6em; margin: 0 0.25em; line-height: 1; border-radius: 0.35em;\">\n",
       "    box office\n",
       "    <span style=\"font-size: 0.8em; font-weight: bold; line-height: 1; border-radius: 0.35em; vertical-align: middle; margin-left: 0.5rem\">relation</span>\n",
       "</mark>\n",
       " figures for Transcendence?</div></span>"
      ],
      "text/plain": [
       "<IPython.core.display.HTML object>"
      ]
     },
     "metadata": {},
     "output_type": "display_data"
    },
    {
     "name": "stdout",
     "output_type": "stream",
     "text": [
      "Can you share the box office figures for Transcendence? {'entities': [(18, 29, 'relation')]}\n",
      "Missing relation label\n"
     ]
    },
    {
     "data": {
      "text/html": [
       "<span class=\"tex2jax_ignore\"><div class=\"entities\" style=\"line-height: 2.5; direction: ltr\">What was the \n",
       "<mark class=\"entity\" style=\"background: #ddd; padding: 0.45em 0.6em; margin: 0 0.25em; line-height: 1; border-radius: 0.35em;\">\n",
       "    box office\n",
       "    <span style=\"font-size: 0.8em; font-weight: bold; line-height: 1; border-radius: 0.35em; vertical-align: middle; margin-left: 0.5rem\">relation</span>\n",
       "</mark>\n",
       " outcome for the film Air Doll?</div></span>"
      ],
      "text/plain": [
       "<IPython.core.display.HTML object>"
      ]
     },
     "metadata": {},
     "output_type": "display_data"
    },
    {
     "name": "stdout",
     "output_type": "stream",
     "text": [
      "What was the box office outcome for the film Air Doll? {'entities': [(13, 24, 'relation')]}\n",
      "Missing relation label\n"
     ]
    },
    {
     "data": {
      "text/html": [
       "<span class=\"tex2jax_ignore\"><div class=\"entities\" style=\"line-height: 2.5; direction: ltr\">What is the \n",
       "<mark class=\"entity\" style=\"background: #ddd; padding: 0.45em 0.6em; margin: 0 0.25em; line-height: 1; border-radius: 0.35em;\">\n",
       "    box office\n",
       "    <span style=\"font-size: 0.8em; font-weight: bold; line-height: 1; border-radius: 0.35em; vertical-align: middle; margin-left: 0.5rem\">relation</span>\n",
       "</mark>\n",
       " of VIPs?</div></span>"
      ],
      "text/plain": [
       "<IPython.core.display.HTML object>"
      ]
     },
     "metadata": {},
     "output_type": "display_data"
    },
    {
     "name": "stdout",
     "output_type": "stream",
     "text": [
      "What is the box office of VIPs? {'entities': [(12, 23, 'relation')]}\n",
      "Missing relation label\n"
     ]
    },
    {
     "data": {
      "text/html": [
       "<span class=\"tex2jax_ignore\"><div class=\"entities\" style=\"line-height: 2.5; direction: ltr\">What is the \n",
       "<mark class=\"entity\" style=\"background: #ddd; padding: 0.45em 0.6em; margin: 0 0.25em; line-height: 1; border-radius: 0.35em;\">\n",
       "    box office\n",
       "    <span style=\"font-size: 0.8em; font-weight: bold; line-height: 1; border-radius: 0.35em; vertical-align: middle; margin-left: 0.5rem\">relation</span>\n",
       "</mark>\n",
       " earnings for the film Christmas Crossfire?</div></span>"
      ],
      "text/plain": [
       "<IPython.core.display.HTML object>"
      ]
     },
     "metadata": {},
     "output_type": "display_data"
    },
    {
     "name": "stdout",
     "output_type": "stream",
     "text": [
      "What is the box office earnings for the film Christmas Crossfire? {'entities': [(12, 23, 'relation')]}\n",
      "Missing relation label\n"
     ]
    },
    {
     "data": {
      "text/html": [
       "<span class=\"tex2jax_ignore\"><div class=\"entities\" style=\"line-height: 2.5; direction: ltr\">Can you provide information on the \n",
       "<mark class=\"entity\" style=\"background: #ddd; padding: 0.45em 0.6em; margin: 0 0.25em; line-height: 1; border-radius: 0.35em;\">\n",
       "    box office\n",
       "    <span style=\"font-size: 0.8em; font-weight: bold; line-height: 1; border-radius: 0.35em; vertical-align: middle; margin-left: 0.5rem\">relation</span>\n",
       "</mark>\n",
       " sales of Martial Arts of Shaolin?</div></span>"
      ],
      "text/plain": [
       "<IPython.core.display.HTML object>"
      ]
     },
     "metadata": {},
     "output_type": "display_data"
    },
    {
     "name": "stdout",
     "output_type": "stream",
     "text": [
      "Can you provide information on the box office sales of Martial Arts of Shaolin? {'entities': [(35, 46, 'relation')]}\n",
      "Missing relation label\n"
     ]
    },
    {
     "data": {
      "text/html": [
       "<span class=\"tex2jax_ignore\"><div class=\"entities\" style=\"line-height: 2.5; direction: ltr\">How did Freak City perform in terms of \n",
       "<mark class=\"entity\" style=\"background: #ddd; padding: 0.45em 0.6em; margin: 0 0.25em; line-height: 1; border-radius: 0.35em;\">\n",
       "    box office\n",
       "    <span style=\"font-size: 0.8em; font-weight: bold; line-height: 1; border-radius: 0.35em; vertical-align: middle; margin-left: 0.5rem\">relation</span>\n",
       "</mark>\n",
       " revenue?</div></span>"
      ],
      "text/plain": [
       "<IPython.core.display.HTML object>"
      ]
     },
     "metadata": {},
     "output_type": "display_data"
    },
    {
     "name": "stdout",
     "output_type": "stream",
     "text": [
      "How did Freak City perform in terms of box office revenue? {'entities': [(39, 50, 'relation')]}\n",
      "Missing relation label\n"
     ]
    },
    {
     "data": {
      "text/html": [
       "<span class=\"tex2jax_ignore\"><div class=\"entities\" style=\"line-height: 2.5; direction: ltr\">Tell me about the \n",
       "<mark class=\"entity\" style=\"background: #ddd; padding: 0.45em 0.6em; margin: 0 0.25em; line-height: 1; border-radius: 0.35em;\">\n",
       "    box office\n",
       "    <span style=\"font-size: 0.8em; font-weight: bold; line-height: 1; border-radius: 0.35em; vertical-align: middle; margin-left: 0.5rem\">relation</span>\n",
       "</mark>\n",
       " results for the movie titled Three Comrades.</div></span>"
      ],
      "text/plain": [
       "<IPython.core.display.HTML object>"
      ]
     },
     "metadata": {},
     "output_type": "display_data"
    },
    {
     "name": "stdout",
     "output_type": "stream",
     "text": [
      "Tell me about the box office results for the movie titled Three Comrades. {'entities': [(18, 29, 'relation')]}\n",
      "Missing relation label\n"
     ]
    },
    {
     "data": {
      "text/html": [
       "<span class=\"tex2jax_ignore\"><div class=\"entities\" style=\"line-height: 2.5; direction: ltr\">What were the \n",
       "<mark class=\"entity\" style=\"background: #ddd; padding: 0.45em 0.6em; margin: 0 0.25em; line-height: 1; border-radius: 0.35em;\">\n",
       "    box office\n",
       "    <span style=\"font-size: 0.8em; font-weight: bold; line-height: 1; border-radius: 0.35em; vertical-align: middle; margin-left: 0.5rem\">relation</span>\n",
       "</mark>\n",
       " numbers for Belzebuth?</div></span>"
      ],
      "text/plain": [
       "<IPython.core.display.HTML object>"
      ]
     },
     "metadata": {},
     "output_type": "display_data"
    },
    {
     "name": "stdout",
     "output_type": "stream",
     "text": [
      "What were the box office numbers for Belzebuth? {'entities': [(14, 25, 'relation')]}\n",
      "Missing relation label\n"
     ]
    },
    {
     "data": {
      "text/html": [
       "<span class=\"tex2jax_ignore\"><div class=\"entities\" style=\"line-height: 2.5; direction: ltr\">Can you share the \n",
       "<mark class=\"entity\" style=\"background: #ddd; padding: 0.45em 0.6em; margin: 0 0.25em; line-height: 1; border-radius: 0.35em;\">\n",
       "    box office\n",
       "    <span style=\"font-size: 0.8em; font-weight: bold; line-height: 1; border-radius: 0.35em; vertical-align: middle; margin-left: 0.5rem\">relation</span>\n",
       "</mark>\n",
       " figures for Carla's Song?</div></span>"
      ],
      "text/plain": [
       "<IPython.core.display.HTML object>"
      ]
     },
     "metadata": {},
     "output_type": "display_data"
    },
    {
     "name": "stdout",
     "output_type": "stream",
     "text": [
      "Can you share the box office figures for Carla's Song? {'entities': [(18, 29, 'relation')]}\n",
      "Missing relation label\n"
     ]
    },
    {
     "data": {
      "text/html": [
       "<span class=\"tex2jax_ignore\"><div class=\"entities\" style=\"line-height: 2.5; direction: ltr\">What was the \n",
       "<mark class=\"entity\" style=\"background: #ddd; padding: 0.45em 0.6em; margin: 0 0.25em; line-height: 1; border-radius: 0.35em;\">\n",
       "    box office\n",
       "    <span style=\"font-size: 0.8em; font-weight: bold; line-height: 1; border-radius: 0.35em; vertical-align: middle; margin-left: 0.5rem\">relation</span>\n",
       "</mark>\n",
       " outcome for the film All or Nothing?</div></span>"
      ],
      "text/plain": [
       "<IPython.core.display.HTML object>"
      ]
     },
     "metadata": {},
     "output_type": "display_data"
    },
    {
     "name": "stdout",
     "output_type": "stream",
     "text": [
      "What was the box office outcome for the film All or Nothing? {'entities': [(13, 24, 'relation')]}\n",
      "Missing relation label\n"
     ]
    },
    {
     "data": {
      "text/html": [
       "<span class=\"tex2jax_ignore\"><div class=\"entities\" style=\"line-height: 2.5; direction: ltr\">What is the \n",
       "<mark class=\"entity\" style=\"background: #ddd; padding: 0.45em 0.6em; margin: 0 0.25em; line-height: 1; border-radius: 0.35em;\">\n",
       "    box office\n",
       "    <span style=\"font-size: 0.8em; font-weight: bold; line-height: 1; border-radius: 0.35em; vertical-align: middle; margin-left: 0.5rem\">relation</span>\n",
       "</mark>\n",
       " of An Invisible Sign?</div></span>"
      ],
      "text/plain": [
       "<IPython.core.display.HTML object>"
      ]
     },
     "metadata": {},
     "output_type": "display_data"
    },
    {
     "name": "stdout",
     "output_type": "stream",
     "text": [
      "What is the box office of An Invisible Sign? {'entities': [(12, 23, 'relation')]}\n",
      "Missing relation label\n"
     ]
    },
    {
     "data": {
      "text/html": [
       "<span class=\"tex2jax_ignore\"><div class=\"entities\" style=\"line-height: 2.5; direction: ltr\">What is the \n",
       "<mark class=\"entity\" style=\"background: #ddd; padding: 0.45em 0.6em; margin: 0 0.25em; line-height: 1; border-radius: 0.35em;\">\n",
       "    box office\n",
       "    <span style=\"font-size: 0.8em; font-weight: bold; line-height: 1; border-radius: 0.35em; vertical-align: middle; margin-left: 0.5rem\">relation</span>\n",
       "</mark>\n",
       " earnings for the film Better Off Dead?</div></span>"
      ],
      "text/plain": [
       "<IPython.core.display.HTML object>"
      ]
     },
     "metadata": {},
     "output_type": "display_data"
    },
    {
     "name": "stdout",
     "output_type": "stream",
     "text": [
      "What is the box office earnings for the film Better Off Dead? {'entities': [(12, 23, 'relation')]}\n",
      "Missing relation label\n"
     ]
    },
    {
     "data": {
      "text/html": [
       "<span class=\"tex2jax_ignore\"><div class=\"entities\" style=\"line-height: 2.5; direction: ltr\">Can you provide information on the \n",
       "<mark class=\"entity\" style=\"background: #ddd; padding: 0.45em 0.6em; margin: 0 0.25em; line-height: 1; border-radius: 0.35em;\">\n",
       "    box office\n",
       "    <span style=\"font-size: 0.8em; font-weight: bold; line-height: 1; border-radius: 0.35em; vertical-align: middle; margin-left: 0.5rem\">relation</span>\n",
       "</mark>\n",
       " sales of Perhaps Love?</div></span>"
      ],
      "text/plain": [
       "<IPython.core.display.HTML object>"
      ]
     },
     "metadata": {},
     "output_type": "display_data"
    },
    {
     "name": "stdout",
     "output_type": "stream",
     "text": [
      "Can you provide information on the box office sales of Perhaps Love? {'entities': [(35, 46, 'relation')]}\n",
      "Missing relation label\n"
     ]
    },
    {
     "data": {
      "text/html": [
       "<span class=\"tex2jax_ignore\"><div class=\"entities\" style=\"line-height: 2.5; direction: ltr\">How did Avalon perform in terms of \n",
       "<mark class=\"entity\" style=\"background: #ddd; padding: 0.45em 0.6em; margin: 0 0.25em; line-height: 1; border-radius: 0.35em;\">\n",
       "    box office\n",
       "    <span style=\"font-size: 0.8em; font-weight: bold; line-height: 1; border-radius: 0.35em; vertical-align: middle; margin-left: 0.5rem\">relation</span>\n",
       "</mark>\n",
       " revenue?</div></span>"
      ],
      "text/plain": [
       "<IPython.core.display.HTML object>"
      ]
     },
     "metadata": {},
     "output_type": "display_data"
    },
    {
     "name": "stdout",
     "output_type": "stream",
     "text": [
      "How did Avalon perform in terms of box office revenue? {'entities': [(35, 46, 'relation')]}\n",
      "Missing relation label\n"
     ]
    },
    {
     "data": {
      "text/html": [
       "<span class=\"tex2jax_ignore\"><div class=\"entities\" style=\"line-height: 2.5; direction: ltr\">Tell me about the \n",
       "<mark class=\"entity\" style=\"background: #ddd; padding: 0.45em 0.6em; margin: 0 0.25em; line-height: 1; border-radius: 0.35em;\">\n",
       "    box office\n",
       "    <span style=\"font-size: 0.8em; font-weight: bold; line-height: 1; border-radius: 0.35em; vertical-align: middle; margin-left: 0.5rem\">relation</span>\n",
       "</mark>\n",
       " results for the movie titled Babylon Disease.</div></span>"
      ],
      "text/plain": [
       "<IPython.core.display.HTML object>"
      ]
     },
     "metadata": {},
     "output_type": "display_data"
    },
    {
     "name": "stdout",
     "output_type": "stream",
     "text": [
      "Tell me about the box office results for the movie titled Babylon Disease. {'entities': [(18, 29, 'relation')]}\n",
      "Missing relation label\n"
     ]
    },
    {
     "data": {
      "text/html": [
       "<span class=\"tex2jax_ignore\"><div class=\"entities\" style=\"line-height: 2.5; direction: ltr\">What were the \n",
       "<mark class=\"entity\" style=\"background: #ddd; padding: 0.45em 0.6em; margin: 0 0.25em; line-height: 1; border-radius: 0.35em;\">\n",
       "    box office\n",
       "    <span style=\"font-size: 0.8em; font-weight: bold; line-height: 1; border-radius: 0.35em; vertical-align: middle; margin-left: 0.5rem\">relation</span>\n",
       "</mark>\n",
       " numbers for Nada Sōsō?</div></span>"
      ],
      "text/plain": [
       "<IPython.core.display.HTML object>"
      ]
     },
     "metadata": {},
     "output_type": "display_data"
    },
    {
     "name": "stdout",
     "output_type": "stream",
     "text": [
      "What were the box office numbers for Nada Sōsō? {'entities': [(14, 25, 'relation')]}\n",
      "Missing relation label\n"
     ]
    },
    {
     "data": {
      "text/html": [
       "<span class=\"tex2jax_ignore\"><div class=\"entities\" style=\"line-height: 2.5; direction: ltr\">Can you share the \n",
       "<mark class=\"entity\" style=\"background: #ddd; padding: 0.45em 0.6em; margin: 0 0.25em; line-height: 1; border-radius: 0.35em;\">\n",
       "    box office\n",
       "    <span style=\"font-size: 0.8em; font-weight: bold; line-height: 1; border-radius: 0.35em; vertical-align: middle; margin-left: 0.5rem\">relation</span>\n",
       "</mark>\n",
       " figures for Taare Zameen Par?</div></span>"
      ],
      "text/plain": [
       "<IPython.core.display.HTML object>"
      ]
     },
     "metadata": {},
     "output_type": "display_data"
    },
    {
     "name": "stdout",
     "output_type": "stream",
     "text": [
      "Can you share the box office figures for Taare Zameen Par? {'entities': [(18, 29, 'relation')]}\n",
      "Missing relation label\n"
     ]
    },
    {
     "data": {
      "text/html": [
       "<span class=\"tex2jax_ignore\"><div class=\"entities\" style=\"line-height: 2.5; direction: ltr\">What was the \n",
       "<mark class=\"entity\" style=\"background: #ddd; padding: 0.45em 0.6em; margin: 0 0.25em; line-height: 1; border-radius: 0.35em;\">\n",
       "    box office\n",
       "    <span style=\"font-size: 0.8em; font-weight: bold; line-height: 1; border-radius: 0.35em; vertical-align: middle; margin-left: 0.5rem\">relation</span>\n",
       "</mark>\n",
       " outcome for the film The Bench?</div></span>"
      ],
      "text/plain": [
       "<IPython.core.display.HTML object>"
      ]
     },
     "metadata": {},
     "output_type": "display_data"
    },
    {
     "name": "stdout",
     "output_type": "stream",
     "text": [
      "What was the box office outcome for the film The Bench? {'entities': [(13, 24, 'relation')]}\n",
      "Missing relation label\n"
     ]
    },
    {
     "data": {
      "text/html": [
       "<span class=\"tex2jax_ignore\"><div class=\"entities\" style=\"line-height: 2.5; direction: ltr\">What is the \n",
       "<mark class=\"entity\" style=\"background: #ddd; padding: 0.45em 0.6em; margin: 0 0.25em; line-height: 1; border-radius: 0.35em;\">\n",
       "    box office\n",
       "    <span style=\"font-size: 0.8em; font-weight: bold; line-height: 1; border-radius: 0.35em; vertical-align: middle; margin-left: 0.5rem\">relation</span>\n",
       "</mark>\n",
       " of Lightyear?</div></span>"
      ],
      "text/plain": [
       "<IPython.core.display.HTML object>"
      ]
     },
     "metadata": {},
     "output_type": "display_data"
    },
    {
     "name": "stdout",
     "output_type": "stream",
     "text": [
      "What is the box office of Lightyear? {'entities': [(12, 23, 'relation')]}\n",
      "Missing relation label\n"
     ]
    },
    {
     "data": {
      "text/html": [
       "<span class=\"tex2jax_ignore\"><div class=\"entities\" style=\"line-height: 2.5; direction: ltr\">What is the \n",
       "<mark class=\"entity\" style=\"background: #ddd; padding: 0.45em 0.6em; margin: 0 0.25em; line-height: 1; border-radius: 0.35em;\">\n",
       "    box office\n",
       "    <span style=\"font-size: 0.8em; font-weight: bold; line-height: 1; border-radius: 0.35em; vertical-align: middle; margin-left: 0.5rem\">relation</span>\n",
       "</mark>\n",
       " earnings for the film The Second Awakening of Christa Klages?</div></span>"
      ],
      "text/plain": [
       "<IPython.core.display.HTML object>"
      ]
     },
     "metadata": {},
     "output_type": "display_data"
    },
    {
     "name": "stdout",
     "output_type": "stream",
     "text": [
      "What is the box office earnings for the film The Second Awakening of Christa Klages? {'entities': [(12, 23, 'relation')]}\n",
      "Missing relation label\n"
     ]
    },
    {
     "data": {
      "text/html": [
       "<span class=\"tex2jax_ignore\"><div class=\"entities\" style=\"line-height: 2.5; direction: ltr\">Can you provide information on the \n",
       "<mark class=\"entity\" style=\"background: #ddd; padding: 0.45em 0.6em; margin: 0 0.25em; line-height: 1; border-radius: 0.35em;\">\n",
       "    box office\n",
       "    <span style=\"font-size: 0.8em; font-weight: bold; line-height: 1; border-radius: 0.35em; vertical-align: middle; margin-left: 0.5rem\">relation</span>\n",
       "</mark>\n",
       " sales of Alexander?</div></span>"
      ],
      "text/plain": [
       "<IPython.core.display.HTML object>"
      ]
     },
     "metadata": {},
     "output_type": "display_data"
    },
    {
     "name": "stdout",
     "output_type": "stream",
     "text": [
      "Can you provide information on the box office sales of Alexander? {'entities': [(35, 46, 'relation')]}\n",
      "Missing relation label\n"
     ]
    },
    {
     "data": {
      "text/html": [
       "<span class=\"tex2jax_ignore\"><div class=\"entities\" style=\"line-height: 2.5; direction: ltr\">How did Casa de los Babys perform in terms of \n",
       "<mark class=\"entity\" style=\"background: #ddd; padding: 0.45em 0.6em; margin: 0 0.25em; line-height: 1; border-radius: 0.35em;\">\n",
       "    box office\n",
       "    <span style=\"font-size: 0.8em; font-weight: bold; line-height: 1; border-radius: 0.35em; vertical-align: middle; margin-left: 0.5rem\">relation</span>\n",
       "</mark>\n",
       " revenue?</div></span>"
      ],
      "text/plain": [
       "<IPython.core.display.HTML object>"
      ]
     },
     "metadata": {},
     "output_type": "display_data"
    },
    {
     "name": "stdout",
     "output_type": "stream",
     "text": [
      "How did Casa de los Babys perform in terms of box office revenue? {'entities': [(46, 57, 'relation')]}\n",
      "Missing relation label\n"
     ]
    },
    {
     "data": {
      "text/html": [
       "<span class=\"tex2jax_ignore\"><div class=\"entities\" style=\"line-height: 2.5; direction: ltr\">Tell me about the \n",
       "<mark class=\"entity\" style=\"background: #ddd; padding: 0.45em 0.6em; margin: 0 0.25em; line-height: 1; border-radius: 0.35em;\">\n",
       "    box office\n",
       "    <span style=\"font-size: 0.8em; font-weight: bold; line-height: 1; border-radius: 0.35em; vertical-align: middle; margin-left: 0.5rem\">relation</span>\n",
       "</mark>\n",
       " results for the movie titled Coda.</div></span>"
      ],
      "text/plain": [
       "<IPython.core.display.HTML object>"
      ]
     },
     "metadata": {},
     "output_type": "display_data"
    },
    {
     "name": "stdout",
     "output_type": "stream",
     "text": [
      "Tell me about the box office results for the movie titled Coda. {'entities': [(18, 29, 'relation')]}\n",
      "Missing relation label\n"
     ]
    },
    {
     "data": {
      "text/html": [
       "<span class=\"tex2jax_ignore\"><div class=\"entities\" style=\"line-height: 2.5; direction: ltr\">What were the \n",
       "<mark class=\"entity\" style=\"background: #ddd; padding: 0.45em 0.6em; margin: 0 0.25em; line-height: 1; border-radius: 0.35em;\">\n",
       "    box office\n",
       "    <span style=\"font-size: 0.8em; font-weight: bold; line-height: 1; border-radius: 0.35em; vertical-align: middle; margin-left: 0.5rem\">relation</span>\n",
       "</mark>\n",
       " numbers for Devil in the Flesh 2?</div></span>"
      ],
      "text/plain": [
       "<IPython.core.display.HTML object>"
      ]
     },
     "metadata": {},
     "output_type": "display_data"
    },
    {
     "name": "stdout",
     "output_type": "stream",
     "text": [
      "What were the box office numbers for Devil in the Flesh 2? {'entities': [(14, 25, 'relation')]}\n",
      "Missing relation label\n"
     ]
    },
    {
     "data": {
      "text/html": [
       "<span class=\"tex2jax_ignore\"><div class=\"entities\" style=\"line-height: 2.5; direction: ltr\">Can you share the \n",
       "<mark class=\"entity\" style=\"background: #ddd; padding: 0.45em 0.6em; margin: 0 0.25em; line-height: 1; border-radius: 0.35em;\">\n",
       "    box office\n",
       "    <span style=\"font-size: 0.8em; font-weight: bold; line-height: 1; border-radius: 0.35em; vertical-align: middle; margin-left: 0.5rem\">relation</span>\n",
       "</mark>\n",
       " figures for Black Rain?</div></span>"
      ],
      "text/plain": [
       "<IPython.core.display.HTML object>"
      ]
     },
     "metadata": {},
     "output_type": "display_data"
    },
    {
     "name": "stdout",
     "output_type": "stream",
     "text": [
      "Can you share the box office figures for Black Rain? {'entities': [(18, 29, 'relation')]}\n",
      "Missing relation label\n"
     ]
    },
    {
     "data": {
      "text/html": [
       "<span class=\"tex2jax_ignore\"><div class=\"entities\" style=\"line-height: 2.5; direction: ltr\">What was the \n",
       "<mark class=\"entity\" style=\"background: #ddd; padding: 0.45em 0.6em; margin: 0 0.25em; line-height: 1; border-radius: 0.35em;\">\n",
       "    box office\n",
       "    <span style=\"font-size: 0.8em; font-weight: bold; line-height: 1; border-radius: 0.35em; vertical-align: middle; margin-left: 0.5rem\">relation</span>\n",
       "</mark>\n",
       " outcome for the film Cass?</div></span>"
      ],
      "text/plain": [
       "<IPython.core.display.HTML object>"
      ]
     },
     "metadata": {},
     "output_type": "display_data"
    },
    {
     "name": "stdout",
     "output_type": "stream",
     "text": [
      "What was the box office outcome for the film Cass? {'entities': [(13, 24, 'relation')]}\n",
      "Missing relation label\n"
     ]
    },
    {
     "data": {
      "text/html": [
       "<span class=\"tex2jax_ignore\"><div class=\"entities\" style=\"line-height: 2.5; direction: ltr\">What is the \n",
       "<mark class=\"entity\" style=\"background: #ddd; padding: 0.45em 0.6em; margin: 0 0.25em; line-height: 1; border-radius: 0.35em;\">\n",
       "    box office\n",
       "    <span style=\"font-size: 0.8em; font-weight: bold; line-height: 1; border-radius: 0.35em; vertical-align: middle; margin-left: 0.5rem\">relation</span>\n",
       "</mark>\n",
       " of Casshern?</div></span>"
      ],
      "text/plain": [
       "<IPython.core.display.HTML object>"
      ]
     },
     "metadata": {},
     "output_type": "display_data"
    },
    {
     "name": "stdout",
     "output_type": "stream",
     "text": [
      "What is the box office of Casshern? {'entities': [(12, 23, 'relation')]}\n",
      "Missing relation label\n"
     ]
    },
    {
     "data": {
      "text/html": [
       "<span class=\"tex2jax_ignore\"><div class=\"entities\" style=\"line-height: 2.5; direction: ltr\">What is the \n",
       "<mark class=\"entity\" style=\"background: #ddd; padding: 0.45em 0.6em; margin: 0 0.25em; line-height: 1; border-radius: 0.35em;\">\n",
       "    box office\n",
       "    <span style=\"font-size: 0.8em; font-weight: bold; line-height: 1; border-radius: 0.35em; vertical-align: middle; margin-left: 0.5rem\">relation</span>\n",
       "</mark>\n",
       " earnings for the film The Visitor?</div></span>"
      ],
      "text/plain": [
       "<IPython.core.display.HTML object>"
      ]
     },
     "metadata": {},
     "output_type": "display_data"
    },
    {
     "name": "stdout",
     "output_type": "stream",
     "text": [
      "What is the box office earnings for the film The Visitor? {'entities': [(12, 23, 'relation')]}\n",
      "Missing relation label\n"
     ]
    },
    {
     "data": {
      "text/html": [
       "<span class=\"tex2jax_ignore\"><div class=\"entities\" style=\"line-height: 2.5; direction: ltr\">Can you provide information on the \n",
       "<mark class=\"entity\" style=\"background: #ddd; padding: 0.45em 0.6em; margin: 0 0.25em; line-height: 1; border-radius: 0.35em;\">\n",
       "    box office\n",
       "    <span style=\"font-size: 0.8em; font-weight: bold; line-height: 1; border-radius: 0.35em; vertical-align: middle; margin-left: 0.5rem\">relation</span>\n",
       "</mark>\n",
       " sales of Knuckledust?</div></span>"
      ],
      "text/plain": [
       "<IPython.core.display.HTML object>"
      ]
     },
     "metadata": {},
     "output_type": "display_data"
    },
    {
     "name": "stdout",
     "output_type": "stream",
     "text": [
      "Can you provide information on the box office sales of Knuckledust? {'entities': [(35, 46, 'relation')]}\n",
      "Missing relation label\n"
     ]
    },
    {
     "data": {
      "text/html": [
       "<span class=\"tex2jax_ignore\"><div class=\"entities\" style=\"line-height: 2.5; direction: ltr\">How did Spy Game perform in terms of \n",
       "<mark class=\"entity\" style=\"background: #ddd; padding: 0.45em 0.6em; margin: 0 0.25em; line-height: 1; border-radius: 0.35em;\">\n",
       "    box office\n",
       "    <span style=\"font-size: 0.8em; font-weight: bold; line-height: 1; border-radius: 0.35em; vertical-align: middle; margin-left: 0.5rem\">relation</span>\n",
       "</mark>\n",
       " revenue?</div></span>"
      ],
      "text/plain": [
       "<IPython.core.display.HTML object>"
      ]
     },
     "metadata": {},
     "output_type": "display_data"
    },
    {
     "name": "stdout",
     "output_type": "stream",
     "text": [
      "How did Spy Game perform in terms of box office revenue? {'entities': [(37, 48, 'relation')]}\n",
      "Missing relation label\n"
     ]
    },
    {
     "data": {
      "text/html": [
       "<span class=\"tex2jax_ignore\"><div class=\"entities\" style=\"line-height: 2.5; direction: ltr\">Tell me about the \n",
       "<mark class=\"entity\" style=\"background: #ddd; padding: 0.45em 0.6em; margin: 0 0.25em; line-height: 1; border-radius: 0.35em;\">\n",
       "    box office\n",
       "    <span style=\"font-size: 0.8em; font-weight: bold; line-height: 1; border-radius: 0.35em; vertical-align: middle; margin-left: 0.5rem\">relation</span>\n",
       "</mark>\n",
       " results for the movie titled Castle Freak.</div></span>"
      ],
      "text/plain": [
       "<IPython.core.display.HTML object>"
      ]
     },
     "metadata": {},
     "output_type": "display_data"
    },
    {
     "name": "stdout",
     "output_type": "stream",
     "text": [
      "Tell me about the box office results for the movie titled Castle Freak. {'entities': [(18, 29, 'relation')]}\n",
      "Missing relation label\n"
     ]
    },
    {
     "data": {
      "text/html": [
       "<span class=\"tex2jax_ignore\"><div class=\"entities\" style=\"line-height: 2.5; direction: ltr\">What were the \n",
       "<mark class=\"entity\" style=\"background: #ddd; padding: 0.45em 0.6em; margin: 0 0.25em; line-height: 1; border-radius: 0.35em;\">\n",
       "    box office\n",
       "    <span style=\"font-size: 0.8em; font-weight: bold; line-height: 1; border-radius: 0.35em; vertical-align: middle; margin-left: 0.5rem\">relation</span>\n",
       "</mark>\n",
       " numbers for This Means War?</div></span>"
      ],
      "text/plain": [
       "<IPython.core.display.HTML object>"
      ]
     },
     "metadata": {},
     "output_type": "display_data"
    },
    {
     "name": "stdout",
     "output_type": "stream",
     "text": [
      "What were the box office numbers for This Means War? {'entities': [(14, 25, 'relation')]}\n",
      "Missing relation label\n"
     ]
    },
    {
     "data": {
      "text/html": [
       "<span class=\"tex2jax_ignore\"><div class=\"entities\" style=\"line-height: 2.5; direction: ltr\">Can you share the \n",
       "<mark class=\"entity\" style=\"background: #ddd; padding: 0.45em 0.6em; margin: 0 0.25em; line-height: 1; border-radius: 0.35em;\">\n",
       "    box office\n",
       "    <span style=\"font-size: 0.8em; font-weight: bold; line-height: 1; border-radius: 0.35em; vertical-align: middle; margin-left: 0.5rem\">relation</span>\n",
       "</mark>\n",
       " figures for The Last Metro?</div></span>"
      ],
      "text/plain": [
       "<IPython.core.display.HTML object>"
      ]
     },
     "metadata": {},
     "output_type": "display_data"
    },
    {
     "name": "stdout",
     "output_type": "stream",
     "text": [
      "Can you share the box office figures for The Last Metro? {'entities': [(18, 29, 'relation')]}\n",
      "Missing relation label\n"
     ]
    },
    {
     "data": {
      "text/html": [
       "<span class=\"tex2jax_ignore\"><div class=\"entities\" style=\"line-height: 2.5; direction: ltr\">What was the \n",
       "<mark class=\"entity\" style=\"background: #ddd; padding: 0.45em 0.6em; margin: 0 0.25em; line-height: 1; border-radius: 0.35em;\">\n",
       "    box office\n",
       "    <span style=\"font-size: 0.8em; font-weight: bold; line-height: 1; border-radius: 0.35em; vertical-align: middle; margin-left: 0.5rem\">relation</span>\n",
       "</mark>\n",
       " outcome for the film Freud Leaving Home?</div></span>"
      ],
      "text/plain": [
       "<IPython.core.display.HTML object>"
      ]
     },
     "metadata": {},
     "output_type": "display_data"
    },
    {
     "name": "stdout",
     "output_type": "stream",
     "text": [
      "What was the box office outcome for the film Freud Leaving Home? {'entities': [(13, 24, 'relation')]}\n",
      "Missing relation label\n"
     ]
    },
    {
     "data": {
      "text/html": [
       "<span class=\"tex2jax_ignore\"><div class=\"entities\" style=\"line-height: 2.5; direction: ltr\">What is the \n",
       "<mark class=\"entity\" style=\"background: #ddd; padding: 0.45em 0.6em; margin: 0 0.25em; line-height: 1; border-radius: 0.35em;\">\n",
       "    box office\n",
       "    <span style=\"font-size: 0.8em; font-weight: bold; line-height: 1; border-radius: 0.35em; vertical-align: middle; margin-left: 0.5rem\">relation</span>\n",
       "</mark>\n",
       " of Showdown in Little Tokyo?</div></span>"
      ],
      "text/plain": [
       "<IPython.core.display.HTML object>"
      ]
     },
     "metadata": {},
     "output_type": "display_data"
    },
    {
     "name": "stdout",
     "output_type": "stream",
     "text": [
      "What is the box office of Showdown in Little Tokyo? {'entities': [(12, 23, 'relation')]}\n",
      "Missing relation label\n"
     ]
    },
    {
     "data": {
      "text/html": [
       "<span class=\"tex2jax_ignore\"><div class=\"entities\" style=\"line-height: 2.5; direction: ltr\">What is the \n",
       "<mark class=\"entity\" style=\"background: #ddd; padding: 0.45em 0.6em; margin: 0 0.25em; line-height: 1; border-radius: 0.35em;\">\n",
       "    box office\n",
       "    <span style=\"font-size: 0.8em; font-weight: bold; line-height: 1; border-radius: 0.35em; vertical-align: middle; margin-left: 0.5rem\">relation</span>\n",
       "</mark>\n",
       " earnings for the film Cat Run?</div></span>"
      ],
      "text/plain": [
       "<IPython.core.display.HTML object>"
      ]
     },
     "metadata": {},
     "output_type": "display_data"
    },
    {
     "name": "stdout",
     "output_type": "stream",
     "text": [
      "What is the box office earnings for the film Cat Run? {'entities': [(12, 23, 'relation')]}\n",
      "Missing relation label\n"
     ]
    },
    {
     "data": {
      "text/html": [
       "<span class=\"tex2jax_ignore\"><div class=\"entities\" style=\"line-height: 2.5; direction: ltr\">Can you provide information on the \n",
       "<mark class=\"entity\" style=\"background: #ddd; padding: 0.45em 0.6em; margin: 0 0.25em; line-height: 1; border-radius: 0.35em;\">\n",
       "    box office\n",
       "    <span style=\"font-size: 0.8em; font-weight: bold; line-height: 1; border-radius: 0.35em; vertical-align: middle; margin-left: 0.5rem\">relation</span>\n",
       "</mark>\n",
       " sales of Immortals?</div></span>"
      ],
      "text/plain": [
       "<IPython.core.display.HTML object>"
      ]
     },
     "metadata": {},
     "output_type": "display_data"
    },
    {
     "name": "stdout",
     "output_type": "stream",
     "text": [
      "Can you provide information on the box office sales of Immortals? {'entities': [(35, 46, 'relation')]}\n",
      "Missing relation label\n"
     ]
    },
    {
     "data": {
      "text/html": [
       "<span class=\"tex2jax_ignore\"><div class=\"entities\" style=\"line-height: 2.5; direction: ltr\">How did Catch a Fire perform in terms of \n",
       "<mark class=\"entity\" style=\"background: #ddd; padding: 0.45em 0.6em; margin: 0 0.25em; line-height: 1; border-radius: 0.35em;\">\n",
       "    box office\n",
       "    <span style=\"font-size: 0.8em; font-weight: bold; line-height: 1; border-radius: 0.35em; vertical-align: middle; margin-left: 0.5rem\">relation</span>\n",
       "</mark>\n",
       " revenue?</div></span>"
      ],
      "text/plain": [
       "<IPython.core.display.HTML object>"
      ]
     },
     "metadata": {},
     "output_type": "display_data"
    },
    {
     "name": "stdout",
     "output_type": "stream",
     "text": [
      "How did Catch a Fire perform in terms of box office revenue? {'entities': [(41, 52, 'relation')]}\n",
      "Missing relation label\n"
     ]
    },
    {
     "data": {
      "text/html": [
       "<span class=\"tex2jax_ignore\"><div class=\"entities\" style=\"line-height: 2.5; direction: ltr\">Tell me about the \n",
       "<mark class=\"entity\" style=\"background: #ddd; padding: 0.45em 0.6em; margin: 0 0.25em; line-height: 1; border-radius: 0.35em;\">\n",
       "    box office\n",
       "    <span style=\"font-size: 0.8em; font-weight: bold; line-height: 1; border-radius: 0.35em; vertical-align: middle; margin-left: 0.5rem\">relation</span>\n",
       "</mark>\n",
       " results for the movie titled Happythankyoumoreplease.</div></span>"
      ],
      "text/plain": [
       "<IPython.core.display.HTML object>"
      ]
     },
     "metadata": {},
     "output_type": "display_data"
    },
    {
     "name": "stdout",
     "output_type": "stream",
     "text": [
      "Tell me about the box office results for the movie titled Happythankyoumoreplease. {'entities': [(18, 29, 'relation')]}\n",
      "Missing relation label\n"
     ]
    },
    {
     "data": {
      "text/html": [
       "<span class=\"tex2jax_ignore\"><div class=\"entities\" style=\"line-height: 2.5; direction: ltr\">What were the \n",
       "<mark class=\"entity\" style=\"background: #ddd; padding: 0.45em 0.6em; margin: 0 0.25em; line-height: 1; border-radius: 0.35em;\">\n",
       "    box office\n",
       "    <span style=\"font-size: 0.8em; font-weight: bold; line-height: 1; border-radius: 0.35em; vertical-align: middle; margin-left: 0.5rem\">relation</span>\n",
       "</mark>\n",
       " numbers for Caterpillar?</div></span>"
      ],
      "text/plain": [
       "<IPython.core.display.HTML object>"
      ]
     },
     "metadata": {},
     "output_type": "display_data"
    },
    {
     "name": "stdout",
     "output_type": "stream",
     "text": [
      "What were the box office numbers for Caterpillar? {'entities': [(14, 25, 'relation')]}\n",
      "Missing relation label\n"
     ]
    },
    {
     "data": {
      "text/html": [
       "<span class=\"tex2jax_ignore\"><div class=\"entities\" style=\"line-height: 2.5; direction: ltr\">Can you share the \n",
       "<mark class=\"entity\" style=\"background: #ddd; padding: 0.45em 0.6em; margin: 0 0.25em; line-height: 1; border-radius: 0.35em;\">\n",
       "    box office\n",
       "    <span style=\"font-size: 0.8em; font-weight: bold; line-height: 1; border-radius: 0.35em; vertical-align: middle; margin-left: 0.5rem\">relation</span>\n",
       "</mark>\n",
       " figures for Cutthroat Island?</div></span>"
      ],
      "text/plain": [
       "<IPython.core.display.HTML object>"
      ]
     },
     "metadata": {},
     "output_type": "display_data"
    },
    {
     "name": "stdout",
     "output_type": "stream",
     "text": [
      "Can you share the box office figures for Cutthroat Island? {'entities': [(18, 29, 'relation')]}\n",
      "Missing relation label\n"
     ]
    },
    {
     "data": {
      "text/html": [
       "<span class=\"tex2jax_ignore\"><div class=\"entities\" style=\"line-height: 2.5; direction: ltr\">What was the \n",
       "<mark class=\"entity\" style=\"background: #ddd; padding: 0.45em 0.6em; margin: 0 0.25em; line-height: 1; border-radius: 0.35em;\">\n",
       "    box office\n",
       "    <span style=\"font-size: 0.8em; font-weight: bold; line-height: 1; border-radius: 0.35em; vertical-align: middle; margin-left: 0.5rem\">relation</span>\n",
       "</mark>\n",
       " outcome for the film Caught?</div></span>"
      ],
      "text/plain": [
       "<IPython.core.display.HTML object>"
      ]
     },
     "metadata": {},
     "output_type": "display_data"
    },
    {
     "name": "stdout",
     "output_type": "stream",
     "text": [
      "What was the box office outcome for the film Caught? {'entities': [(13, 24, 'relation')]}\n",
      "Missing relation label\n"
     ]
    },
    {
     "data": {
      "text/html": [
       "<span class=\"tex2jax_ignore\"><div class=\"entities\" style=\"line-height: 2.5; direction: ltr\">What is the \n",
       "<mark class=\"entity\" style=\"background: #ddd; padding: 0.45em 0.6em; margin: 0 0.25em; line-height: 1; border-radius: 0.35em;\">\n",
       "    box office\n",
       "    <span style=\"font-size: 0.8em; font-weight: bold; line-height: 1; border-radius: 0.35em; vertical-align: middle; margin-left: 0.5rem\">relation</span>\n",
       "</mark>\n",
       " of Caveman?</div></span>"
      ],
      "text/plain": [
       "<IPython.core.display.HTML object>"
      ]
     },
     "metadata": {},
     "output_type": "display_data"
    },
    {
     "name": "stdout",
     "output_type": "stream",
     "text": [
      "What is the box office of Caveman? {'entities': [(12, 23, 'relation')]}\n",
      "Missing relation label\n"
     ]
    },
    {
     "data": {
      "text/html": [
       "<span class=\"tex2jax_ignore\"><div class=\"entities\" style=\"line-height: 2.5; direction: ltr\">What is the \n",
       "<mark class=\"entity\" style=\"background: #ddd; padding: 0.45em 0.6em; margin: 0 0.25em; line-height: 1; border-radius: 0.35em;\">\n",
       "    box office\n",
       "    <span style=\"font-size: 0.8em; font-weight: bold; line-height: 1; border-radius: 0.35em; vertical-align: middle; margin-left: 0.5rem\">relation</span>\n",
       "</mark>\n",
       " earnings for the film Bianca?</div></span>"
      ],
      "text/plain": [
       "<IPython.core.display.HTML object>"
      ]
     },
     "metadata": {},
     "output_type": "display_data"
    },
    {
     "name": "stdout",
     "output_type": "stream",
     "text": [
      "What is the box office earnings for the film Bianca? {'entities': [(12, 23, 'relation')]}\n",
      "Missing relation label\n"
     ]
    },
    {
     "data": {
      "text/html": [
       "<span class=\"tex2jax_ignore\"><div class=\"entities\" style=\"line-height: 2.5; direction: ltr\">Can you provide information on the \n",
       "<mark class=\"entity\" style=\"background: #ddd; padding: 0.45em 0.6em; margin: 0 0.25em; line-height: 1; border-radius: 0.35em;\">\n",
       "    box office\n",
       "    <span style=\"font-size: 0.8em; font-weight: bold; line-height: 1; border-radius: 0.35em; vertical-align: middle; margin-left: 0.5rem\">relation</span>\n",
       "</mark>\n",
       " sales of The Keys to the House?</div></span>"
      ],
      "text/plain": [
       "<IPython.core.display.HTML object>"
      ]
     },
     "metadata": {},
     "output_type": "display_data"
    },
    {
     "name": "stdout",
     "output_type": "stream",
     "text": [
      "Can you provide information on the box office sales of The Keys to the House? {'entities': [(35, 46, 'relation')]}\n",
      "Missing relation label\n"
     ]
    },
    {
     "data": {
      "text/html": [
       "<span class=\"tex2jax_ignore\"><div class=\"entities\" style=\"line-height: 2.5; direction: ltr\">How did IMurders perform in terms of \n",
       "<mark class=\"entity\" style=\"background: #ddd; padding: 0.45em 0.6em; margin: 0 0.25em; line-height: 1; border-radius: 0.35em;\">\n",
       "    box office\n",
       "    <span style=\"font-size: 0.8em; font-weight: bold; line-height: 1; border-radius: 0.35em; vertical-align: middle; margin-left: 0.5rem\">relation</span>\n",
       "</mark>\n",
       " revenue?</div></span>"
      ],
      "text/plain": [
       "<IPython.core.display.HTML object>"
      ]
     },
     "metadata": {},
     "output_type": "display_data"
    },
    {
     "name": "stdout",
     "output_type": "stream",
     "text": [
      "How did IMurders perform in terms of box office revenue? {'entities': [(37, 48, 'relation')]}\n",
      "Missing relation label\n"
     ]
    },
    {
     "data": {
      "text/html": [
       "<span class=\"tex2jax_ignore\"><div class=\"entities\" style=\"line-height: 2.5; direction: ltr\">Tell me about the \n",
       "<mark class=\"entity\" style=\"background: #ddd; padding: 0.45em 0.6em; margin: 0 0.25em; line-height: 1; border-radius: 0.35em;\">\n",
       "    box office\n",
       "    <span style=\"font-size: 0.8em; font-weight: bold; line-height: 1; border-radius: 0.35em; vertical-align: middle; margin-left: 0.5rem\">relation</span>\n",
       "</mark>\n",
       " results for the movie titled In Your Veins.</div></span>"
      ],
      "text/plain": [
       "<IPython.core.display.HTML object>"
      ]
     },
     "metadata": {},
     "output_type": "display_data"
    },
    {
     "name": "stdout",
     "output_type": "stream",
     "text": [
      "Tell me about the box office results for the movie titled In Your Veins. {'entities': [(18, 29, 'relation')]}\n",
      "Missing relation label\n"
     ]
    },
    {
     "data": {
      "text/html": [
       "<span class=\"tex2jax_ignore\"><div class=\"entities\" style=\"line-height: 2.5; direction: ltr\">What were the \n",
       "<mark class=\"entity\" style=\"background: #ddd; padding: 0.45em 0.6em; margin: 0 0.25em; line-height: 1; border-radius: 0.35em;\">\n",
       "    box office\n",
       "    <span style=\"font-size: 0.8em; font-weight: bold; line-height: 1; border-radius: 0.35em; vertical-align: middle; margin-left: 0.5rem\">relation</span>\n",
       "</mark>\n",
       " numbers for Villain?</div></span>"
      ],
      "text/plain": [
       "<IPython.core.display.HTML object>"
      ]
     },
     "metadata": {},
     "output_type": "display_data"
    },
    {
     "name": "stdout",
     "output_type": "stream",
     "text": [
      "What were the box office numbers for Villain? {'entities': [(14, 25, 'relation')]}\n",
      "Missing relation label\n"
     ]
    },
    {
     "data": {
      "text/html": [
       "<span class=\"tex2jax_ignore\"><div class=\"entities\" style=\"line-height: 2.5; direction: ltr\">Can you share the \n",
       "<mark class=\"entity\" style=\"background: #ddd; padding: 0.45em 0.6em; margin: 0 0.25em; line-height: 1; border-radius: 0.35em;\">\n",
       "    box office\n",
       "    <span style=\"font-size: 0.8em; font-weight: bold; line-height: 1; border-radius: 0.35em; vertical-align: middle; margin-left: 0.5rem\">relation</span>\n",
       "</mark>\n",
       " figures for I Miss You?</div></span>"
      ],
      "text/plain": [
       "<IPython.core.display.HTML object>"
      ]
     },
     "metadata": {},
     "output_type": "display_data"
    },
    {
     "name": "stdout",
     "output_type": "stream",
     "text": [
      "Can you share the box office figures for I Miss You? {'entities': [(18, 29, 'relation')]}\n",
      "Missing relation label\n"
     ]
    },
    {
     "data": {
      "text/html": [
       "<span class=\"tex2jax_ignore\"><div class=\"entities\" style=\"line-height: 2.5; direction: ltr\">What was the \n",
       "<mark class=\"entity\" style=\"background: #ddd; padding: 0.45em 0.6em; margin: 0 0.25em; line-height: 1; border-radius: 0.35em;\">\n",
       "    box office\n",
       "    <span style=\"font-size: 0.8em; font-weight: bold; line-height: 1; border-radius: 0.35em; vertical-align: middle; margin-left: 0.5rem\">relation</span>\n",
       "</mark>\n",
       " outcome for the film Central Station?</div></span>"
      ],
      "text/plain": [
       "<IPython.core.display.HTML object>"
      ]
     },
     "metadata": {},
     "output_type": "display_data"
    },
    {
     "name": "stdout",
     "output_type": "stream",
     "text": [
      "What was the box office outcome for the film Central Station? {'entities': [(13, 24, 'relation')]}\n",
      "Missing relation label\n"
     ]
    },
    {
     "data": {
      "text/html": [
       "<span class=\"tex2jax_ignore\"><div class=\"entities\" style=\"line-height: 2.5; direction: ltr\">What is the \n",
       "<mark class=\"entity\" style=\"background: #ddd; padding: 0.45em 0.6em; margin: 0 0.25em; line-height: 1; border-radius: 0.35em;\">\n",
       "    box office\n",
       "    <span style=\"font-size: 0.8em; font-weight: bold; line-height: 1; border-radius: 0.35em; vertical-align: middle; margin-left: 0.5rem\">relation</span>\n",
       "</mark>\n",
       " of The Great Magician?</div></span>"
      ],
      "text/plain": [
       "<IPython.core.display.HTML object>"
      ]
     },
     "metadata": {},
     "output_type": "display_data"
    },
    {
     "name": "stdout",
     "output_type": "stream",
     "text": [
      "What is the box office of The Great Magician? {'entities': [(12, 23, 'relation')]}\n",
      "Missing relation label\n"
     ]
    },
    {
     "data": {
      "text/html": [
       "<span class=\"tex2jax_ignore\"><div class=\"entities\" style=\"line-height: 2.5; direction: ltr\">What is the \n",
       "<mark class=\"entity\" style=\"background: #ddd; padding: 0.45em 0.6em; margin: 0 0.25em; line-height: 1; border-radius: 0.35em;\">\n",
       "    box office\n",
       "    <span style=\"font-size: 0.8em; font-weight: bold; line-height: 1; border-radius: 0.35em; vertical-align: middle; margin-left: 0.5rem\">relation</span>\n",
       "</mark>\n",
       " earnings for the film The Conquest?</div></span>"
      ],
      "text/plain": [
       "<IPython.core.display.HTML object>"
      ]
     },
     "metadata": {},
     "output_type": "display_data"
    },
    {
     "name": "stdout",
     "output_type": "stream",
     "text": [
      "What is the box office earnings for the film The Conquest? {'entities': [(12, 23, 'relation')]}\n",
      "Missing relation label\n"
     ]
    },
    {
     "data": {
      "text/html": [
       "<span class=\"tex2jax_ignore\"><div class=\"entities\" style=\"line-height: 2.5; direction: ltr\">Can you provide information on the \n",
       "<mark class=\"entity\" style=\"background: #ddd; padding: 0.45em 0.6em; margin: 0 0.25em; line-height: 1; border-radius: 0.35em;\">\n",
       "    box office\n",
       "    <span style=\"font-size: 0.8em; font-weight: bold; line-height: 1; border-radius: 0.35em; vertical-align: middle; margin-left: 0.5rem\">relation</span>\n",
       "</mark>\n",
       " sales of I Just Didn't Do It?</div></span>"
      ],
      "text/plain": [
       "<IPython.core.display.HTML object>"
      ]
     },
     "metadata": {},
     "output_type": "display_data"
    },
    {
     "name": "stdout",
     "output_type": "stream",
     "text": [
      "Can you provide information on the box office sales of I Just Didn't Do It? {'entities': [(35, 46, 'relation')]}\n",
      "Missing relation label\n"
     ]
    },
    {
     "data": {
      "text/html": [
       "<span class=\"tex2jax_ignore\"><div class=\"entities\" style=\"line-height: 2.5; direction: ltr\">How did A Ghost of a Chance perform in terms of \n",
       "<mark class=\"entity\" style=\"background: #ddd; padding: 0.45em 0.6em; margin: 0 0.25em; line-height: 1; border-radius: 0.35em;\">\n",
       "    box office\n",
       "    <span style=\"font-size: 0.8em; font-weight: bold; line-height: 1; border-radius: 0.35em; vertical-align: middle; margin-left: 0.5rem\">relation</span>\n",
       "</mark>\n",
       " revenue?</div></span>"
      ],
      "text/plain": [
       "<IPython.core.display.HTML object>"
      ]
     },
     "metadata": {},
     "output_type": "display_data"
    },
    {
     "name": "stdout",
     "output_type": "stream",
     "text": [
      "How did A Ghost of a Chance perform in terms of box office revenue? {'entities': [(48, 59, 'relation')]}\n",
      "Missing relation label\n"
     ]
    },
    {
     "data": {
      "text/html": [
       "<span class=\"tex2jax_ignore\"><div class=\"entities\" style=\"line-height: 2.5; direction: ltr\">Tell me about the \n",
       "<mark class=\"entity\" style=\"background: #ddd; padding: 0.45em 0.6em; margin: 0 0.25em; line-height: 1; border-radius: 0.35em;\">\n",
       "    box office\n",
       "    <span style=\"font-size: 0.8em; font-weight: bold; line-height: 1; border-radius: 0.35em; vertical-align: middle; margin-left: 0.5rem\">relation</span>\n",
       "</mark>\n",
       " results for the movie titled Kamisama no Karute.</div></span>"
      ],
      "text/plain": [
       "<IPython.core.display.HTML object>"
      ]
     },
     "metadata": {},
     "output_type": "display_data"
    },
    {
     "name": "stdout",
     "output_type": "stream",
     "text": [
      "Tell me about the box office results for the movie titled Kamisama no Karute. {'entities': [(18, 29, 'relation')]}\n",
      "Missing relation label\n"
     ]
    },
    {
     "data": {
      "text/html": [
       "<span class=\"tex2jax_ignore\"><div class=\"entities\" style=\"line-height: 2.5; direction: ltr\">What were the \n",
       "<mark class=\"entity\" style=\"background: #ddd; padding: 0.45em 0.6em; margin: 0 0.25em; line-height: 1; border-radius: 0.35em;\">\n",
       "    box office\n",
       "    <span style=\"font-size: 0.8em; font-weight: bold; line-height: 1; border-radius: 0.35em; vertical-align: middle; margin-left: 0.5rem\">relation</span>\n",
       "</mark>\n",
       " numbers for The Perfect Game?</div></span>"
      ],
      "text/plain": [
       "<IPython.core.display.HTML object>"
      ]
     },
     "metadata": {},
     "output_type": "display_data"
    },
    {
     "name": "stdout",
     "output_type": "stream",
     "text": [
      "What were the box office numbers for The Perfect Game? {'entities': [(14, 25, 'relation')]}\n",
      "Missing relation label\n"
     ]
    },
    {
     "data": {
      "text/html": [
       "<span class=\"tex2jax_ignore\"><div class=\"entities\" style=\"line-height: 2.5; direction: ltr\">Can you share the \n",
       "<mark class=\"entity\" style=\"background: #ddd; padding: 0.45em 0.6em; margin: 0 0.25em; line-height: 1; border-radius: 0.35em;\">\n",
       "    box office\n",
       "    <span style=\"font-size: 0.8em; font-weight: bold; line-height: 1; border-radius: 0.35em; vertical-align: middle; margin-left: 0.5rem\">relation</span>\n",
       "</mark>\n",
       " figures for Kansas City Confidential?</div></span>"
      ],
      "text/plain": [
       "<IPython.core.display.HTML object>"
      ]
     },
     "metadata": {},
     "output_type": "display_data"
    },
    {
     "name": "stdout",
     "output_type": "stream",
     "text": [
      "Can you share the box office figures for Kansas City Confidential? {'entities': [(18, 29, 'relation')]}\n",
      "Missing relation label\n"
     ]
    },
    {
     "data": {
      "text/html": [
       "<span class=\"tex2jax_ignore\"><div class=\"entities\" style=\"line-height: 2.5; direction: ltr\">What was the \n",
       "<mark class=\"entity\" style=\"background: #ddd; padding: 0.45em 0.6em; margin: 0 0.25em; line-height: 1; border-radius: 0.35em;\">\n",
       "    box office\n",
       "    <span style=\"font-size: 0.8em; font-weight: bold; line-height: 1; border-radius: 0.35em; vertical-align: middle; margin-left: 0.5rem\">relation</span>\n",
       "</mark>\n",
       " outcome for the film The Conviction?</div></span>"
      ],
      "text/plain": [
       "<IPython.core.display.HTML object>"
      ]
     },
     "metadata": {},
     "output_type": "display_data"
    },
    {
     "name": "stdout",
     "output_type": "stream",
     "text": [
      "What was the box office outcome for the film The Conviction? {'entities': [(13, 24, 'relation')]}\n",
      "Missing relation label\n"
     ]
    },
    {
     "data": {
      "text/html": [
       "<span class=\"tex2jax_ignore\"><div class=\"entities\" style=\"line-height: 2.5; direction: ltr\">What is the \n",
       "<mark class=\"entity\" style=\"background: #ddd; padding: 0.45em 0.6em; margin: 0 0.25em; line-height: 1; border-radius: 0.35em;\">\n",
       "    box office\n",
       "    <span style=\"font-size: 0.8em; font-weight: bold; line-height: 1; border-radius: 0.35em; vertical-align: middle; margin-left: 0.5rem\">relation</span>\n",
       "</mark>\n",
       " of Anxiety?</div></span>"
      ],
      "text/plain": [
       "<IPython.core.display.HTML object>"
      ]
     },
     "metadata": {},
     "output_type": "display_data"
    },
    {
     "name": "stdout",
     "output_type": "stream",
     "text": [
      "What is the box office of Anxiety? {'entities': [(12, 23, 'relation')]}\n",
      "Missing relation label\n"
     ]
    },
    {
     "data": {
      "text/html": [
       "<span class=\"tex2jax_ignore\"><div class=\"entities\" style=\"line-height: 2.5; direction: ltr\">What is the \n",
       "<mark class=\"entity\" style=\"background: #ddd; padding: 0.45em 0.6em; margin: 0 0.25em; line-height: 1; border-radius: 0.35em;\">\n",
       "    box office\n",
       "    <span style=\"font-size: 0.8em; font-weight: bold; line-height: 1; border-radius: 0.35em; vertical-align: middle; margin-left: 0.5rem\">relation</span>\n",
       "</mark>\n",
       " earnings for the film Fire with Fire?</div></span>"
      ],
      "text/plain": [
       "<IPython.core.display.HTML object>"
      ]
     },
     "metadata": {},
     "output_type": "display_data"
    },
    {
     "name": "stdout",
     "output_type": "stream",
     "text": [
      "What is the box office earnings for the film Fire with Fire? {'entities': [(12, 23, 'relation')]}\n",
      "Missing relation label\n"
     ]
    },
    {
     "data": {
      "text/html": [
       "<span class=\"tex2jax_ignore\"><div class=\"entities\" style=\"line-height: 2.5; direction: ltr\">Can you provide information on the \n",
       "<mark class=\"entity\" style=\"background: #ddd; padding: 0.45em 0.6em; margin: 0 0.25em; line-height: 1; border-radius: 0.35em;\">\n",
       "    box office\n",
       "    <span style=\"font-size: 0.8em; font-weight: bold; line-height: 1; border-radius: 0.35em; vertical-align: middle; margin-left: 0.5rem\">relation</span>\n",
       "</mark>\n",
       " sales of Just Another Pandora's Box?</div></span>"
      ],
      "text/plain": [
       "<IPython.core.display.HTML object>"
      ]
     },
     "metadata": {},
     "output_type": "display_data"
    },
    {
     "name": "stdout",
     "output_type": "stream",
     "text": [
      "Can you provide information on the box office sales of Just Another Pandora's Box? {'entities': [(35, 46, 'relation')]}\n",
      "Missing relation label\n"
     ]
    },
    {
     "data": {
      "text/html": [
       "<span class=\"tex2jax_ignore\"><div class=\"entities\" style=\"line-height: 2.5; direction: ltr\">How did The Ear perform in terms of \n",
       "<mark class=\"entity\" style=\"background: #ddd; padding: 0.45em 0.6em; margin: 0 0.25em; line-height: 1; border-radius: 0.35em;\">\n",
       "    box office\n",
       "    <span style=\"font-size: 0.8em; font-weight: bold; line-height: 1; border-radius: 0.35em; vertical-align: middle; margin-left: 0.5rem\">relation</span>\n",
       "</mark>\n",
       " revenue?</div></span>"
      ],
      "text/plain": [
       "<IPython.core.display.HTML object>"
      ]
     },
     "metadata": {},
     "output_type": "display_data"
    },
    {
     "name": "stdout",
     "output_type": "stream",
     "text": [
      "How did The Ear perform in terms of box office revenue? {'entities': [(36, 47, 'relation')]}\n",
      "Missing relation label\n"
     ]
    },
    {
     "data": {
      "text/html": [
       "<span class=\"tex2jax_ignore\"><div class=\"entities\" style=\"line-height: 2.5; direction: ltr\">Tell me about the \n",
       "<mark class=\"entity\" style=\"background: #ddd; padding: 0.45em 0.6em; margin: 0 0.25em; line-height: 1; border-radius: 0.35em;\">\n",
       "    box office\n",
       "    <span style=\"font-size: 0.8em; font-weight: bold; line-height: 1; border-radius: 0.35em; vertical-align: middle; margin-left: 0.5rem\">relation</span>\n",
       "</mark>\n",
       " results for the movie titled The Big Bang.</div></span>"
      ],
      "text/plain": [
       "<IPython.core.display.HTML object>"
      ]
     },
     "metadata": {},
     "output_type": "display_data"
    },
    {
     "name": "stdout",
     "output_type": "stream",
     "text": [
      "Tell me about the box office results for the movie titled The Big Bang. {'entities': [(18, 29, 'relation')]}\n",
      "Missing relation label\n"
     ]
    },
    {
     "data": {
      "text/html": [
       "<span class=\"tex2jax_ignore\"><div class=\"entities\" style=\"line-height: 2.5; direction: ltr\">What were the \n",
       "<mark class=\"entity\" style=\"background: #ddd; padding: 0.45em 0.6em; margin: 0 0.25em; line-height: 1; border-radius: 0.35em;\">\n",
       "    box office\n",
       "    <span style=\"font-size: 0.8em; font-weight: bold; line-height: 1; border-radius: 0.35em; vertical-align: middle; margin-left: 0.5rem\">relation</span>\n",
       "</mark>\n",
       " numbers for Persona non grata?</div></span>"
      ],
      "text/plain": [
       "<IPython.core.display.HTML object>"
      ]
     },
     "metadata": {},
     "output_type": "display_data"
    },
    {
     "name": "stdout",
     "output_type": "stream",
     "text": [
      "What were the box office numbers for Persona non grata? {'entities': [(14, 25, 'relation')]}\n",
      "Missing relation label\n"
     ]
    },
    {
     "data": {
      "text/html": [
       "<span class=\"tex2jax_ignore\"><div class=\"entities\" style=\"line-height: 2.5; direction: ltr\">Can you share the \n",
       "<mark class=\"entity\" style=\"background: #ddd; padding: 0.45em 0.6em; margin: 0 0.25em; line-height: 1; border-radius: 0.35em;\">\n",
       "    box office\n",
       "    <span style=\"font-size: 0.8em; font-weight: bold; line-height: 1; border-radius: 0.35em; vertical-align: middle; margin-left: 0.5rem\">relation</span>\n",
       "</mark>\n",
       " figures for Gente di Roma?</div></span>"
      ],
      "text/plain": [
       "<IPython.core.display.HTML object>"
      ]
     },
     "metadata": {},
     "output_type": "display_data"
    },
    {
     "name": "stdout",
     "output_type": "stream",
     "text": [
      "Can you share the box office figures for Gente di Roma? {'entities': [(18, 29, 'relation')]}\n",
      "Missing relation label\n"
     ]
    },
    {
     "data": {
      "text/html": [
       "<span class=\"tex2jax_ignore\"><div class=\"entities\" style=\"line-height: 2.5; direction: ltr\">What was the \n",
       "<mark class=\"entity\" style=\"background: #ddd; padding: 0.45em 0.6em; margin: 0 0.25em; line-height: 1; border-radius: 0.35em;\">\n",
       "    box office\n",
       "    <span style=\"font-size: 0.8em; font-weight: bold; line-height: 1; border-radius: 0.35em; vertical-align: middle; margin-left: 0.5rem\">relation</span>\n",
       "</mark>\n",
       " outcome for the film Vanilla and Chocolate?</div></span>"
      ],
      "text/plain": [
       "<IPython.core.display.HTML object>"
      ]
     },
     "metadata": {},
     "output_type": "display_data"
    },
    {
     "name": "stdout",
     "output_type": "stream",
     "text": [
      "What was the box office outcome for the film Vanilla and Chocolate? {'entities': [(13, 24, 'relation')]}\n",
      "Missing relation label\n"
     ]
    },
    {
     "data": {
      "text/html": [
       "<span class=\"tex2jax_ignore\"><div class=\"entities\" style=\"line-height: 2.5; direction: ltr\">What is the \n",
       "<mark class=\"entity\" style=\"background: #ddd; padding: 0.45em 0.6em; margin: 0 0.25em; line-height: 1; border-radius: 0.35em;\">\n",
       "    box office\n",
       "    <span style=\"font-size: 0.8em; font-weight: bold; line-height: 1; border-radius: 0.35em; vertical-align: middle; margin-left: 0.5rem\">relation</span>\n",
       "</mark>\n",
       " of Chaahat?</div></span>"
      ],
      "text/plain": [
       "<IPython.core.display.HTML object>"
      ]
     },
     "metadata": {},
     "output_type": "display_data"
    },
    {
     "name": "stdout",
     "output_type": "stream",
     "text": [
      "What is the box office of Chaahat? {'entities': [(12, 23, 'relation')]}\n",
      "Missing relation label\n"
     ]
    },
    {
     "data": {
      "text/html": [
       "<span class=\"tex2jax_ignore\"><div class=\"entities\" style=\"line-height: 2.5; direction: ltr\">What is the \n",
       "<mark class=\"entity\" style=\"background: #ddd; padding: 0.45em 0.6em; margin: 0 0.25em; line-height: 1; border-radius: 0.35em;\">\n",
       "    box office\n",
       "    <span style=\"font-size: 0.8em; font-weight: bold; line-height: 1; border-radius: 0.35em; vertical-align: middle; margin-left: 0.5rem\">relation</span>\n",
       "</mark>\n",
       " earnings for the film The Bankers of God: The Calvi Affair?</div></span>"
      ],
      "text/plain": [
       "<IPython.core.display.HTML object>"
      ]
     },
     "metadata": {},
     "output_type": "display_data"
    },
    {
     "name": "stdout",
     "output_type": "stream",
     "text": [
      "What is the box office earnings for the film The Bankers of God: The Calvi Affair? {'entities': [(12, 23, 'relation')]}\n",
      "Missing relation label\n"
     ]
    },
    {
     "data": {
      "text/html": [
       "<span class=\"tex2jax_ignore\"><div class=\"entities\" style=\"line-height: 2.5; direction: ltr\">Can you provide information on the \n",
       "<mark class=\"entity\" style=\"background: #ddd; padding: 0.45em 0.6em; margin: 0 0.25em; line-height: 1; border-radius: 0.35em;\">\n",
       "    box office\n",
       "    <span style=\"font-size: 0.8em; font-weight: bold; line-height: 1; border-radius: 0.35em; vertical-align: middle; margin-left: 0.5rem\">relation</span>\n",
       "</mark>\n",
       " sales of Sadako 3D?</div></span>"
      ],
      "text/plain": [
       "<IPython.core.display.HTML object>"
      ]
     },
     "metadata": {},
     "output_type": "display_data"
    },
    {
     "name": "stdout",
     "output_type": "stream",
     "text": [
      "Can you provide information on the box office sales of Sadako 3D? {'entities': [(35, 46, 'relation')]}\n",
      "Missing relation label\n"
     ]
    },
    {
     "data": {
      "text/html": [
       "<span class=\"tex2jax_ignore\"><div class=\"entities\" style=\"line-height: 2.5; direction: ltr\">How did Waltz for Monica perform in terms of \n",
       "<mark class=\"entity\" style=\"background: #ddd; padding: 0.45em 0.6em; margin: 0 0.25em; line-height: 1; border-radius: 0.35em;\">\n",
       "    box office\n",
       "    <span style=\"font-size: 0.8em; font-weight: bold; line-height: 1; border-radius: 0.35em; vertical-align: middle; margin-left: 0.5rem\">relation</span>\n",
       "</mark>\n",
       " revenue?</div></span>"
      ],
      "text/plain": [
       "<IPython.core.display.HTML object>"
      ]
     },
     "metadata": {},
     "output_type": "display_data"
    },
    {
     "name": "stdout",
     "output_type": "stream",
     "text": [
      "How did Waltz for Monica perform in terms of box office revenue? {'entities': [(45, 56, 'relation')]}\n",
      "Missing relation label\n"
     ]
    },
    {
     "data": {
      "text/html": [
       "<span class=\"tex2jax_ignore\"><div class=\"entities\" style=\"line-height: 2.5; direction: ltr\">Tell me about the \n",
       "<mark class=\"entity\" style=\"background: #ddd; padding: 0.45em 0.6em; margin: 0 0.25em; line-height: 1; border-radius: 0.35em;\">\n",
       "    box office\n",
       "    <span style=\"font-size: 0.8em; font-weight: bold; line-height: 1; border-radius: 0.35em; vertical-align: middle; margin-left: 0.5rem\">relation</span>\n",
       "</mark>\n",
       " results for the movie titled Jeepers Creepers: Reborn.</div></span>"
      ],
      "text/plain": [
       "<IPython.core.display.HTML object>"
      ]
     },
     "metadata": {},
     "output_type": "display_data"
    },
    {
     "name": "stdout",
     "output_type": "stream",
     "text": [
      "Tell me about the box office results for the movie titled Jeepers Creepers: Reborn. {'entities': [(18, 29, 'relation')]}\n",
      "Missing relation label\n"
     ]
    },
    {
     "data": {
      "text/html": [
       "<span class=\"tex2jax_ignore\"><div class=\"entities\" style=\"line-height: 2.5; direction: ltr\">What were the \n",
       "<mark class=\"entity\" style=\"background: #ddd; padding: 0.45em 0.6em; margin: 0 0.25em; line-height: 1; border-radius: 0.35em;\">\n",
       "    box office\n",
       "    <span style=\"font-size: 0.8em; font-weight: bold; line-height: 1; border-radius: 0.35em; vertical-align: middle; margin-left: 0.5rem\">relation</span>\n",
       "</mark>\n",
       " numbers for Kueki Ressha?</div></span>"
      ],
      "text/plain": [
       "<IPython.core.display.HTML object>"
      ]
     },
     "metadata": {},
     "output_type": "display_data"
    },
    {
     "name": "stdout",
     "output_type": "stream",
     "text": [
      "What were the box office numbers for Kueki Ressha? {'entities': [(14, 25, 'relation')]}\n",
      "Missing relation label\n"
     ]
    },
    {
     "data": {
      "text/html": [
       "<span class=\"tex2jax_ignore\"><div class=\"entities\" style=\"line-height: 2.5; direction: ltr\">Can you share the \n",
       "<mark class=\"entity\" style=\"background: #ddd; padding: 0.45em 0.6em; margin: 0 0.25em; line-height: 1; border-radius: 0.35em;\">\n",
       "    box office\n",
       "    <span style=\"font-size: 0.8em; font-weight: bold; line-height: 1; border-radius: 0.35em; vertical-align: middle; margin-left: 0.5rem\">relation</span>\n",
       "</mark>\n",
       " figures for Janie Jones?</div></span>"
      ],
      "text/plain": [
       "<IPython.core.display.HTML object>"
      ]
     },
     "metadata": {},
     "output_type": "display_data"
    },
    {
     "name": "stdout",
     "output_type": "stream",
     "text": [
      "Can you share the box office figures for Janie Jones? {'entities': [(18, 29, 'relation')]}\n",
      "Missing relation label\n"
     ]
    },
    {
     "data": {
      "text/html": [
       "<span class=\"tex2jax_ignore\"><div class=\"entities\" style=\"line-height: 2.5; direction: ltr\">What was the \n",
       "<mark class=\"entity\" style=\"background: #ddd; padding: 0.45em 0.6em; margin: 0 0.25em; line-height: 1; border-radius: 0.35em;\">\n",
       "    box office\n",
       "    <span style=\"font-size: 0.8em; font-weight: bold; line-height: 1; border-radius: 0.35em; vertical-align: middle; margin-left: 0.5rem\">relation</span>\n",
       "</mark>\n",
       " outcome for the film Chal Mere Bhai?</div></span>"
      ],
      "text/plain": [
       "<IPython.core.display.HTML object>"
      ]
     },
     "metadata": {},
     "output_type": "display_data"
    },
    {
     "name": "stdout",
     "output_type": "stream",
     "text": [
      "What was the box office outcome for the film Chal Mere Bhai? {'entities': [(13, 24, 'relation')]}\n",
      "Missing relation label\n"
     ]
    },
    {
     "data": {
      "text/html": [
       "<span class=\"tex2jax_ignore\"><div class=\"entities\" style=\"line-height: 2.5; direction: ltr\">What is the \n",
       "<mark class=\"entity\" style=\"background: #ddd; padding: 0.45em 0.6em; margin: 0 0.25em; line-height: 1; border-radius: 0.35em;\">\n",
       "    box office\n",
       "    <span style=\"font-size: 0.8em; font-weight: bold; line-height: 1; border-radius: 0.35em; vertical-align: middle; margin-left: 0.5rem\">relation</span>\n",
       "</mark>\n",
       " of Beyond Outrage?</div></span>"
      ],
      "text/plain": [
       "<IPython.core.display.HTML object>"
      ]
     },
     "metadata": {},
     "output_type": "display_data"
    },
    {
     "name": "stdout",
     "output_type": "stream",
     "text": [
      "What is the box office of Beyond Outrage? {'entities': [(12, 23, 'relation')]}\n",
      "Missing relation label\n"
     ]
    },
    {
     "data": {
      "text/html": [
       "<span class=\"tex2jax_ignore\"><div class=\"entities\" style=\"line-height: 2.5; direction: ltr\">What is the \n",
       "<mark class=\"entity\" style=\"background: #ddd; padding: 0.45em 0.6em; margin: 0 0.25em; line-height: 1; border-radius: 0.35em;\">\n",
       "    box office\n",
       "    <span style=\"font-size: 0.8em; font-weight: bold; line-height: 1; border-radius: 0.35em; vertical-align: middle; margin-left: 0.5rem\">relation</span>\n",
       "</mark>\n",
       " earnings for the film Volcano?</div></span>"
      ],
      "text/plain": [
       "<IPython.core.display.HTML object>"
      ]
     },
     "metadata": {},
     "output_type": "display_data"
    },
    {
     "name": "stdout",
     "output_type": "stream",
     "text": [
      "What is the box office earnings for the film Volcano? {'entities': [(12, 23, 'relation')]}\n",
      "Missing relation label\n"
     ]
    },
    {
     "data": {
      "text/html": [
       "<span class=\"tex2jax_ignore\"><div class=\"entities\" style=\"line-height: 2.5; direction: ltr\">Can you provide information on the \n",
       "<mark class=\"entity\" style=\"background: #ddd; padding: 0.45em 0.6em; margin: 0 0.25em; line-height: 1; border-radius: 0.35em;\">\n",
       "    box office\n",
       "    <span style=\"font-size: 0.8em; font-weight: bold; line-height: 1; border-radius: 0.35em; vertical-align: middle; margin-left: 0.5rem\">relation</span>\n",
       "</mark>\n",
       " sales of Like Someone in Love?</div></span>"
      ],
      "text/plain": [
       "<IPython.core.display.HTML object>"
      ]
     },
     "metadata": {},
     "output_type": "display_data"
    },
    {
     "name": "stdout",
     "output_type": "stream",
     "text": [
      "Can you provide information on the box office sales of Like Someone in Love? {'entities': [(35, 46, 'relation')]}\n",
      "Missing relation label\n"
     ]
    },
    {
     "data": {
      "text/html": [
       "<span class=\"tex2jax_ignore\"><div class=\"entities\" style=\"line-height: 2.5; direction: ltr\">How did Eddie and the Cruisers perform in terms of \n",
       "<mark class=\"entity\" style=\"background: #ddd; padding: 0.45em 0.6em; margin: 0 0.25em; line-height: 1; border-radius: 0.35em;\">\n",
       "    box office\n",
       "    <span style=\"font-size: 0.8em; font-weight: bold; line-height: 1; border-radius: 0.35em; vertical-align: middle; margin-left: 0.5rem\">relation</span>\n",
       "</mark>\n",
       " revenue?</div></span>"
      ],
      "text/plain": [
       "<IPython.core.display.HTML object>"
      ]
     },
     "metadata": {},
     "output_type": "display_data"
    },
    {
     "name": "stdout",
     "output_type": "stream",
     "text": [
      "How did Eddie and the Cruisers perform in terms of box office revenue? {'entities': [(51, 62, 'relation')]}\n",
      "Missing relation label\n"
     ]
    },
    {
     "data": {
      "text/html": [
       "<span class=\"tex2jax_ignore\"><div class=\"entities\" style=\"line-height: 2.5; direction: ltr\">Tell me about the \n",
       "<mark class=\"entity\" style=\"background: #ddd; padding: 0.45em 0.6em; margin: 0 0.25em; line-height: 1; border-radius: 0.35em;\">\n",
       "    box office\n",
       "    <span style=\"font-size: 0.8em; font-weight: bold; line-height: 1; border-radius: 0.35em; vertical-align: middle; margin-left: 0.5rem\">relation</span>\n",
       "</mark>\n",
       " results for the movie titled Saimir.</div></span>"
      ],
      "text/plain": [
       "<IPython.core.display.HTML object>"
      ]
     },
     "metadata": {},
     "output_type": "display_data"
    },
    {
     "name": "stdout",
     "output_type": "stream",
     "text": [
      "Tell me about the box office results for the movie titled Saimir. {'entities': [(18, 29, 'relation')]}\n",
      "Missing relation label\n"
     ]
    },
    {
     "data": {
      "text/html": [
       "<span class=\"tex2jax_ignore\"><div class=\"entities\" style=\"line-height: 2.5; direction: ltr\">What were the \n",
       "<mark class=\"entity\" style=\"background: #ddd; padding: 0.45em 0.6em; margin: 0 0.25em; line-height: 1; border-radius: 0.35em;\">\n",
       "    box office\n",
       "    <span style=\"font-size: 0.8em; font-weight: bold; line-height: 1; border-radius: 0.35em; vertical-align: middle; margin-left: 0.5rem\">relation</span>\n",
       "</mark>\n",
       " numbers for Blue Spring?</div></span>"
      ],
      "text/plain": [
       "<IPython.core.display.HTML object>"
      ]
     },
     "metadata": {},
     "output_type": "display_data"
    },
    {
     "name": "stdout",
     "output_type": "stream",
     "text": [
      "What were the box office numbers for Blue Spring? {'entities': [(14, 25, 'relation')]}\n",
      "Missing relation label\n"
     ]
    },
    {
     "data": {
      "text/html": [
       "<span class=\"tex2jax_ignore\"><div class=\"entities\" style=\"line-height: 2.5; direction: ltr\">Can you share the \n",
       "<mark class=\"entity\" style=\"background: #ddd; padding: 0.45em 0.6em; margin: 0 0.25em; line-height: 1; border-radius: 0.35em;\">\n",
       "    box office\n",
       "    <span style=\"font-size: 0.8em; font-weight: bold; line-height: 1; border-radius: 0.35em; vertical-align: middle; margin-left: 0.5rem\">relation</span>\n",
       "</mark>\n",
       " figures for The Good Doctor?</div></span>"
      ],
      "text/plain": [
       "<IPython.core.display.HTML object>"
      ]
     },
     "metadata": {},
     "output_type": "display_data"
    },
    {
     "name": "stdout",
     "output_type": "stream",
     "text": [
      "Can you share the box office figures for The Good Doctor? {'entities': [(18, 29, 'relation')]}\n",
      "Missing relation label\n"
     ]
    },
    {
     "data": {
      "text/html": [
       "<span class=\"tex2jax_ignore\"><div class=\"entities\" style=\"line-height: 2.5; direction: ltr\">What was the \n",
       "<mark class=\"entity\" style=\"background: #ddd; padding: 0.45em 0.6em; margin: 0 0.25em; line-height: 1; border-radius: 0.35em;\">\n",
       "    box office\n",
       "    <span style=\"font-size: 0.8em; font-weight: bold; line-height: 1; border-radius: 0.35em; vertical-align: middle; margin-left: 0.5rem\">relation</span>\n",
       "</mark>\n",
       " outcome for the film ATM?</div></span>"
      ],
      "text/plain": [
       "<IPython.core.display.HTML object>"
      ]
     },
     "metadata": {},
     "output_type": "display_data"
    },
    {
     "name": "stdout",
     "output_type": "stream",
     "text": [
      "What was the box office outcome for the film ATM? {'entities': [(13, 24, 'relation')]}\n",
      "Missing relation label\n"
     ]
    },
    {
     "data": {
      "text/html": [
       "<span class=\"tex2jax_ignore\"><div class=\"entities\" style=\"line-height: 2.5; direction: ltr\">What is the \n",
       "<mark class=\"entity\" style=\"background: #ddd; padding: 0.45em 0.6em; margin: 0 0.25em; line-height: 1; border-radius: 0.35em;\">\n",
       "    box office\n",
       "    <span style=\"font-size: 0.8em; font-weight: bold; line-height: 1; border-radius: 0.35em; vertical-align: middle; margin-left: 0.5rem\">relation</span>\n",
       "</mark>\n",
       " of Chamatkar?</div></span>"
      ],
      "text/plain": [
       "<IPython.core.display.HTML object>"
      ]
     },
     "metadata": {},
     "output_type": "display_data"
    },
    {
     "name": "stdout",
     "output_type": "stream",
     "text": [
      "What is the box office of Chamatkar? {'entities': [(12, 23, 'relation')]}\n",
      "Missing relation label\n"
     ]
    },
    {
     "data": {
      "text/html": [
       "<span class=\"tex2jax_ignore\"><div class=\"entities\" style=\"line-height: 2.5; direction: ltr\">What is the \n",
       "<mark class=\"entity\" style=\"background: #ddd; padding: 0.45em 0.6em; margin: 0 0.25em; line-height: 1; border-radius: 0.35em;\">\n",
       "    box office\n",
       "    <span style=\"font-size: 0.8em; font-weight: bold; line-height: 1; border-radius: 0.35em; vertical-align: middle; margin-left: 0.5rem\">relation</span>\n",
       "</mark>\n",
       " earnings for the film Original?</div></span>"
      ],
      "text/plain": [
       "<IPython.core.display.HTML object>"
      ]
     },
     "metadata": {},
     "output_type": "display_data"
    },
    {
     "name": "stdout",
     "output_type": "stream",
     "text": [
      "What is the box office earnings for the film Original? {'entities': [(12, 23, 'relation')]}\n",
      "Missing relation label\n"
     ]
    },
    {
     "data": {
      "text/html": [
       "<span class=\"tex2jax_ignore\"><div class=\"entities\" style=\"line-height: 2.5; direction: ltr\">Can you provide information on the \n",
       "<mark class=\"entity\" style=\"background: #ddd; padding: 0.45em 0.6em; margin: 0 0.25em; line-height: 1; border-radius: 0.35em;\">\n",
       "    box office\n",
       "    <span style=\"font-size: 0.8em; font-weight: bold; line-height: 1; border-radius: 0.35em; vertical-align: middle; margin-left: 0.5rem\">relation</span>\n",
       "</mark>\n",
       " sales of A Prophet?</div></span>"
      ],
      "text/plain": [
       "<IPython.core.display.HTML object>"
      ]
     },
     "metadata": {},
     "output_type": "display_data"
    },
    {
     "name": "stdout",
     "output_type": "stream",
     "text": [
      "Can you provide information on the box office sales of A Prophet? {'entities': [(35, 46, 'relation')]}\n",
      "Missing relation label\n"
     ]
    },
    {
     "data": {
      "text/html": [
       "<span class=\"tex2jax_ignore\"><div class=\"entities\" style=\"line-height: 2.5; direction: ltr\">How did Chandani - The daughter of the elephant whisperer perform in terms of \n",
       "<mark class=\"entity\" style=\"background: #ddd; padding: 0.45em 0.6em; margin: 0 0.25em; line-height: 1; border-radius: 0.35em;\">\n",
       "    box office\n",
       "    <span style=\"font-size: 0.8em; font-weight: bold; line-height: 1; border-radius: 0.35em; vertical-align: middle; margin-left: 0.5rem\">relation</span>\n",
       "</mark>\n",
       " revenue?</div></span>"
      ],
      "text/plain": [
       "<IPython.core.display.HTML object>"
      ]
     },
     "metadata": {},
     "output_type": "display_data"
    },
    {
     "name": "stdout",
     "output_type": "stream",
     "text": [
      "How did Chandani - The daughter of the elephant whisperer perform in terms of box office revenue? {'entities': [(78, 89, 'relation')]}\n",
      "Missing relation label\n"
     ]
    },
    {
     "data": {
      "text/html": [
       "<span class=\"tex2jax_ignore\"><div class=\"entities\" style=\"line-height: 2.5; direction: ltr\">Tell me about the \n",
       "<mark class=\"entity\" style=\"background: #ddd; padding: 0.45em 0.6em; margin: 0 0.25em; line-height: 1; border-radius: 0.35em;\">\n",
       "    box office\n",
       "    <span style=\"font-size: 0.8em; font-weight: bold; line-height: 1; border-radius: 0.35em; vertical-align: middle; margin-left: 0.5rem\">relation</span>\n",
       "</mark>\n",
       " results for the movie titled Chandni Chowk to China.</div></span>"
      ],
      "text/plain": [
       "<IPython.core.display.HTML object>"
      ]
     },
     "metadata": {},
     "output_type": "display_data"
    },
    {
     "name": "stdout",
     "output_type": "stream",
     "text": [
      "Tell me about the box office results for the movie titled Chandni Chowk to China. {'entities': [(18, 29, 'relation')]}\n",
      "Missing relation label\n"
     ]
    },
    {
     "data": {
      "text/html": [
       "<span class=\"tex2jax_ignore\"><div class=\"entities\" style=\"line-height: 2.5; direction: ltr\">What were the \n",
       "<mark class=\"entity\" style=\"background: #ddd; padding: 0.45em 0.6em; margin: 0 0.25em; line-height: 1; border-radius: 0.35em;\">\n",
       "    box office\n",
       "    <span style=\"font-size: 0.8em; font-weight: bold; line-height: 1; border-radius: 0.35em; vertical-align: middle; margin-left: 0.5rem\">relation</span>\n",
       "</mark>\n",
       " numbers for Change My Life?</div></span>"
      ],
      "text/plain": [
       "<IPython.core.display.HTML object>"
      ]
     },
     "metadata": {},
     "output_type": "display_data"
    },
    {
     "name": "stdout",
     "output_type": "stream",
     "text": [
      "What were the box office numbers for Change My Life? {'entities': [(14, 25, 'relation')]}\n",
      "Missing relation label\n"
     ]
    },
    {
     "data": {
      "text/html": [
       "<span class=\"tex2jax_ignore\"><div class=\"entities\" style=\"line-height: 2.5; direction: ltr\">Can you share the \n",
       "<mark class=\"entity\" style=\"background: #ddd; padding: 0.45em 0.6em; margin: 0 0.25em; line-height: 1; border-radius: 0.35em;\">\n",
       "    box office\n",
       "    <span style=\"font-size: 0.8em; font-weight: bold; line-height: 1; border-radius: 0.35em; vertical-align: middle; margin-left: 0.5rem\">relation</span>\n",
       "</mark>\n",
       " figures for To Hell and Back: The Kane Hodder Story?</div></span>"
      ],
      "text/plain": [
       "<IPython.core.display.HTML object>"
      ]
     },
     "metadata": {},
     "output_type": "display_data"
    },
    {
     "name": "stdout",
     "output_type": "stream",
     "text": [
      "Can you share the box office figures for To Hell and Back: The Kane Hodder Story? {'entities': [(18, 29, 'relation')]}\n",
      "Missing relation label\n"
     ]
    },
    {
     "data": {
      "text/html": [
       "<span class=\"tex2jax_ignore\"><div class=\"entities\" style=\"line-height: 2.5; direction: ltr\">What was the \n",
       "<mark class=\"entity\" style=\"background: #ddd; padding: 0.45em 0.6em; margin: 0 0.25em; line-height: 1; border-radius: 0.35em;\">\n",
       "    box office\n",
       "    <span style=\"font-size: 0.8em; font-weight: bold; line-height: 1; border-radius: 0.35em; vertical-align: middle; margin-left: 0.5rem\">relation</span>\n",
       "</mark>\n",
       " outcome for the film The Singer?</div></span>"
      ],
      "text/plain": [
       "<IPython.core.display.HTML object>"
      ]
     },
     "metadata": {},
     "output_type": "display_data"
    },
    {
     "name": "stdout",
     "output_type": "stream",
     "text": [
      "What was the box office outcome for the film The Singer? {'entities': [(13, 24, 'relation')]}\n",
      "Missing relation label\n"
     ]
    },
    {
     "data": {
      "text/html": [
       "<span class=\"tex2jax_ignore\"><div class=\"entities\" style=\"line-height: 2.5; direction: ltr\">What is the \n",
       "<mark class=\"entity\" style=\"background: #ddd; padding: 0.45em 0.6em; margin: 0 0.25em; line-height: 1; border-radius: 0.35em;\">\n",
       "    box office\n",
       "    <span style=\"font-size: 0.8em; font-weight: bold; line-height: 1; border-radius: 0.35em; vertical-align: middle; margin-left: 0.5rem\">relation</span>\n",
       "</mark>\n",
       " of Love Songs?</div></span>"
      ],
      "text/plain": [
       "<IPython.core.display.HTML object>"
      ]
     },
     "metadata": {},
     "output_type": "display_data"
    },
    {
     "name": "stdout",
     "output_type": "stream",
     "text": [
      "What is the box office of Love Songs? {'entities': [(12, 23, 'relation')]}\n",
      "Missing relation label\n"
     ]
    },
    {
     "data": {
      "text/html": [
       "<span class=\"tex2jax_ignore\"><div class=\"entities\" style=\"line-height: 2.5; direction: ltr\">What is the \n",
       "<mark class=\"entity\" style=\"background: #ddd; padding: 0.45em 0.6em; margin: 0 0.25em; line-height: 1; border-radius: 0.35em;\">\n",
       "    box office\n",
       "    <span style=\"font-size: 0.8em; font-weight: bold; line-height: 1; border-radius: 0.35em; vertical-align: middle; margin-left: 0.5rem\">relation</span>\n",
       "</mark>\n",
       " earnings for the film The Defiant Ones?</div></span>"
      ],
      "text/plain": [
       "<IPython.core.display.HTML object>"
      ]
     },
     "metadata": {},
     "output_type": "display_data"
    },
    {
     "name": "stdout",
     "output_type": "stream",
     "text": [
      "What is the box office earnings for the film The Defiant Ones? {'entities': [(12, 23, 'relation')]}\n",
      "Missing relation label\n"
     ]
    },
    {
     "data": {
      "text/html": [
       "<span class=\"tex2jax_ignore\"><div class=\"entities\" style=\"line-height: 2.5; direction: ltr\">Can you provide information on the \n",
       "<mark class=\"entity\" style=\"background: #ddd; padding: 0.45em 0.6em; margin: 0 0.25em; line-height: 1; border-radius: 0.35em;\">\n",
       "    box office\n",
       "    <span style=\"font-size: 0.8em; font-weight: bold; line-height: 1; border-radius: 0.35em; vertical-align: middle; margin-left: 0.5rem\">relation</span>\n",
       "</mark>\n",
       " sales of Profetia?</div></span>"
      ],
      "text/plain": [
       "<IPython.core.display.HTML object>"
      ]
     },
     "metadata": {},
     "output_type": "display_data"
    },
    {
     "name": "stdout",
     "output_type": "stream",
     "text": [
      "Can you provide information on the box office sales of Profetia? {'entities': [(35, 46, 'relation')]}\n",
      "Missing relation label\n"
     ]
    },
    {
     "data": {
      "text/html": [
       "<span class=\"tex2jax_ignore\"><div class=\"entities\" style=\"line-height: 2.5; direction: ltr\">How did Death Hunt perform in terms of \n",
       "<mark class=\"entity\" style=\"background: #ddd; padding: 0.45em 0.6em; margin: 0 0.25em; line-height: 1; border-radius: 0.35em;\">\n",
       "    box office\n",
       "    <span style=\"font-size: 0.8em; font-weight: bold; line-height: 1; border-radius: 0.35em; vertical-align: middle; margin-left: 0.5rem\">relation</span>\n",
       "</mark>\n",
       " revenue?</div></span>"
      ],
      "text/plain": [
       "<IPython.core.display.HTML object>"
      ]
     },
     "metadata": {},
     "output_type": "display_data"
    },
    {
     "name": "stdout",
     "output_type": "stream",
     "text": [
      "How did Death Hunt perform in terms of box office revenue? {'entities': [(39, 50, 'relation')]}\n",
      "Missing relation label\n"
     ]
    },
    {
     "data": {
      "text/html": [
       "<span class=\"tex2jax_ignore\"><div class=\"entities\" style=\"line-height: 2.5; direction: ltr\">Tell me about the \n",
       "<mark class=\"entity\" style=\"background: #ddd; padding: 0.45em 0.6em; margin: 0 0.25em; line-height: 1; border-radius: 0.35em;\">\n",
       "    box office\n",
       "    <span style=\"font-size: 0.8em; font-weight: bold; line-height: 1; border-radius: 0.35em; vertical-align: middle; margin-left: 0.5rem\">relation</span>\n",
       "</mark>\n",
       " results for the movie titled Underground.</div></span>"
      ],
      "text/plain": [
       "<IPython.core.display.HTML object>"
      ]
     },
     "metadata": {},
     "output_type": "display_data"
    },
    {
     "name": "stdout",
     "output_type": "stream",
     "text": [
      "Tell me about the box office results for the movie titled Underground. {'entities': [(18, 29, 'relation')]}\n",
      "Missing relation label\n"
     ]
    },
    {
     "data": {
      "text/html": [
       "<span class=\"tex2jax_ignore\"><div class=\"entities\" style=\"line-height: 2.5; direction: ltr\">What were the \n",
       "<mark class=\"entity\" style=\"background: #ddd; padding: 0.45em 0.6em; margin: 0 0.25em; line-height: 1; border-radius: 0.35em;\">\n",
       "    box office\n",
       "    <span style=\"font-size: 0.8em; font-weight: bold; line-height: 1; border-radius: 0.35em; vertical-align: middle; margin-left: 0.5rem\">relation</span>\n",
       "</mark>\n",
       " numbers for Nothing to Lose?</div></span>"
      ],
      "text/plain": [
       "<IPython.core.display.HTML object>"
      ]
     },
     "metadata": {},
     "output_type": "display_data"
    },
    {
     "name": "stdout",
     "output_type": "stream",
     "text": [
      "What were the box office numbers for Nothing to Lose? {'entities': [(14, 25, 'relation')]}\n",
      "Missing relation label\n"
     ]
    },
    {
     "data": {
      "text/html": [
       "<span class=\"tex2jax_ignore\"><div class=\"entities\" style=\"line-height: 2.5; direction: ltr\">Can you share the \n",
       "<mark class=\"entity\" style=\"background: #ddd; padding: 0.45em 0.6em; margin: 0 0.25em; line-height: 1; border-radius: 0.35em;\">\n",
       "    box office\n",
       "    <span style=\"font-size: 0.8em; font-weight: bold; line-height: 1; border-radius: 0.35em; vertical-align: middle; margin-left: 0.5rem\">relation</span>\n",
       "</mark>\n",
       " figures for The Hidden Blade?</div></span>"
      ],
      "text/plain": [
       "<IPython.core.display.HTML object>"
      ]
     },
     "metadata": {},
     "output_type": "display_data"
    },
    {
     "name": "stdout",
     "output_type": "stream",
     "text": [
      "Can you share the box office figures for The Hidden Blade? {'entities': [(18, 29, 'relation')]}\n",
      "Missing relation label\n"
     ]
    },
    {
     "data": {
      "text/html": [
       "<span class=\"tex2jax_ignore\"><div class=\"entities\" style=\"line-height: 2.5; direction: ltr\">What was the \n",
       "<mark class=\"entity\" style=\"background: #ddd; padding: 0.45em 0.6em; margin: 0 0.25em; line-height: 1; border-radius: 0.35em;\">\n",
       "    box office\n",
       "    <span style=\"font-size: 0.8em; font-weight: bold; line-height: 1; border-radius: 0.35em; vertical-align: middle; margin-left: 0.5rem\">relation</span>\n",
       "</mark>\n",
       " outcome for the film Sullivan's Travels?</div></span>"
      ],
      "text/plain": [
       "<IPython.core.display.HTML object>"
      ]
     },
     "metadata": {},
     "output_type": "display_data"
    },
    {
     "name": "stdout",
     "output_type": "stream",
     "text": [
      "What was the box office outcome for the film Sullivan's Travels? {'entities': [(13, 24, 'relation')]}\n",
      "Missing relation label\n"
     ]
    },
    {
     "data": {
      "text/html": [
       "<span class=\"tex2jax_ignore\"><div class=\"entities\" style=\"line-height: 2.5; direction: ltr\">What is the \n",
       "<mark class=\"entity\" style=\"background: #ddd; padding: 0.45em 0.6em; margin: 0 0.25em; line-height: 1; border-radius: 0.35em;\">\n",
       "    box office\n",
       "    <span style=\"font-size: 0.8em; font-weight: bold; line-height: 1; border-radius: 0.35em; vertical-align: middle; margin-left: 0.5rem\">relation</span>\n",
       "</mark>\n",
       " of Jackass 3D?</div></span>"
      ],
      "text/plain": [
       "<IPython.core.display.HTML object>"
      ]
     },
     "metadata": {},
     "output_type": "display_data"
    },
    {
     "name": "stdout",
     "output_type": "stream",
     "text": [
      "What is the box office of Jackass 3D? {'entities': [(12, 23, 'relation')]}\n",
      "Missing relation label\n"
     ]
    },
    {
     "data": {
      "text/html": [
       "<span class=\"tex2jax_ignore\"><div class=\"entities\" style=\"line-height: 2.5; direction: ltr\">What is the \n",
       "<mark class=\"entity\" style=\"background: #ddd; padding: 0.45em 0.6em; margin: 0 0.25em; line-height: 1; border-radius: 0.35em;\">\n",
       "    box office\n",
       "    <span style=\"font-size: 0.8em; font-weight: bold; line-height: 1; border-radius: 0.35em; vertical-align: middle; margin-left: 0.5rem\">relation</span>\n",
       "</mark>\n",
       " earnings for the film His Girl Friday?</div></span>"
      ],
      "text/plain": [
       "<IPython.core.display.HTML object>"
      ]
     },
     "metadata": {},
     "output_type": "display_data"
    },
    {
     "name": "stdout",
     "output_type": "stream",
     "text": [
      "What is the box office earnings for the film His Girl Friday? {'entities': [(12, 23, 'relation')]}\n",
      "Missing relation label\n"
     ]
    },
    {
     "data": {
      "text/html": [
       "<span class=\"tex2jax_ignore\"><div class=\"entities\" style=\"line-height: 2.5; direction: ltr\">Can you provide information on the \n",
       "<mark class=\"entity\" style=\"background: #ddd; padding: 0.45em 0.6em; margin: 0 0.25em; line-height: 1; border-radius: 0.35em;\">\n",
       "    box office\n",
       "    <span style=\"font-size: 0.8em; font-weight: bold; line-height: 1; border-radius: 0.35em; vertical-align: middle; margin-left: 0.5rem\">relation</span>\n",
       "</mark>\n",
       " sales of Simon &amp; Malou?</div></span>"
      ],
      "text/plain": [
       "<IPython.core.display.HTML object>"
      ]
     },
     "metadata": {},
     "output_type": "display_data"
    },
    {
     "name": "stdout",
     "output_type": "stream",
     "text": [
      "Can you provide information on the box office sales of Simon & Malou? {'entities': [(35, 46, 'relation')]}\n",
      "Missing relation label\n"
     ]
    },
    {
     "data": {
      "text/html": [
       "<span class=\"tex2jax_ignore\"><div class=\"entities\" style=\"line-height: 2.5; direction: ltr\">How did Grizzly Man perform in terms of \n",
       "<mark class=\"entity\" style=\"background: #ddd; padding: 0.45em 0.6em; margin: 0 0.25em; line-height: 1; border-radius: 0.35em;\">\n",
       "    box office\n",
       "    <span style=\"font-size: 0.8em; font-weight: bold; line-height: 1; border-radius: 0.35em; vertical-align: middle; margin-left: 0.5rem\">relation</span>\n",
       "</mark>\n",
       " revenue?</div></span>"
      ],
      "text/plain": [
       "<IPython.core.display.HTML object>"
      ]
     },
     "metadata": {},
     "output_type": "display_data"
    },
    {
     "name": "stdout",
     "output_type": "stream",
     "text": [
      "How did Grizzly Man perform in terms of box office revenue? {'entities': [(40, 51, 'relation')]}\n",
      "Missing relation label\n"
     ]
    },
    {
     "data": {
      "text/html": [
       "<span class=\"tex2jax_ignore\"><div class=\"entities\" style=\"line-height: 2.5; direction: ltr\">Tell me about the \n",
       "<mark class=\"entity\" style=\"background: #ddd; padding: 0.45em 0.6em; margin: 0 0.25em; line-height: 1; border-radius: 0.35em;\">\n",
       "    box office\n",
       "    <span style=\"font-size: 0.8em; font-weight: bold; line-height: 1; border-radius: 0.35em; vertical-align: middle; margin-left: 0.5rem\">relation</span>\n",
       "</mark>\n",
       " results for the movie titled Charly.</div></span>"
      ],
      "text/plain": [
       "<IPython.core.display.HTML object>"
      ]
     },
     "metadata": {},
     "output_type": "display_data"
    },
    {
     "name": "stdout",
     "output_type": "stream",
     "text": [
      "Tell me about the box office results for the movie titled Charly. {'entities': [(18, 29, 'relation')]}\n",
      "Missing relation label\n"
     ]
    },
    {
     "data": {
      "text/html": [
       "<span class=\"tex2jax_ignore\"><div class=\"entities\" style=\"line-height: 2.5; direction: ltr\">What were the \n",
       "<mark class=\"entity\" style=\"background: #ddd; padding: 0.45em 0.6em; margin: 0 0.25em; line-height: 1; border-radius: 0.35em;\">\n",
       "    box office\n",
       "    <span style=\"font-size: 0.8em; font-weight: bold; line-height: 1; border-radius: 0.35em; vertical-align: middle; margin-left: 0.5rem\">relation</span>\n",
       "</mark>\n",
       " numbers for Visible Secret?</div></span>"
      ],
      "text/plain": [
       "<IPython.core.display.HTML object>"
      ]
     },
     "metadata": {},
     "output_type": "display_data"
    },
    {
     "name": "stdout",
     "output_type": "stream",
     "text": [
      "What were the box office numbers for Visible Secret? {'entities': [(14, 25, 'relation')]}\n",
      "Missing relation label\n"
     ]
    },
    {
     "data": {
      "text/html": [
       "<span class=\"tex2jax_ignore\"><div class=\"entities\" style=\"line-height: 2.5; direction: ltr\">Can you share the \n",
       "<mark class=\"entity\" style=\"background: #ddd; padding: 0.45em 0.6em; margin: 0 0.25em; line-height: 1; border-radius: 0.35em;\">\n",
       "    box office\n",
       "    <span style=\"font-size: 0.8em; font-weight: bold; line-height: 1; border-radius: 0.35em; vertical-align: middle; margin-left: 0.5rem\">relation</span>\n",
       "</mark>\n",
       " figures for Chasers?</div></span>"
      ],
      "text/plain": [
       "<IPython.core.display.HTML object>"
      ]
     },
     "metadata": {},
     "output_type": "display_data"
    },
    {
     "name": "stdout",
     "output_type": "stream",
     "text": [
      "Can you share the box office figures for Chasers? {'entities': [(18, 29, 'relation')]}\n",
      "Missing relation label\n"
     ]
    },
    {
     "data": {
      "text/html": [
       "<span class=\"tex2jax_ignore\"><div class=\"entities\" style=\"line-height: 2.5; direction: ltr\">What was the \n",
       "<mark class=\"entity\" style=\"background: #ddd; padding: 0.45em 0.6em; margin: 0 0.25em; line-height: 1; border-radius: 0.35em;\">\n",
       "    box office\n",
       "    <span style=\"font-size: 0.8em; font-weight: bold; line-height: 1; border-radius: 0.35em; vertical-align: middle; margin-left: 0.5rem\">relation</span>\n",
       "</mark>\n",
       " outcome for the film Veer-Zaara?</div></span>"
      ],
      "text/plain": [
       "<IPython.core.display.HTML object>"
      ]
     },
     "metadata": {},
     "output_type": "display_data"
    },
    {
     "name": "stdout",
     "output_type": "stream",
     "text": [
      "What was the box office outcome for the film Veer-Zaara? {'entities': [(13, 24, 'relation')]}\n",
      "Missing relation label\n"
     ]
    },
    {
     "data": {
      "text/html": [
       "<span class=\"tex2jax_ignore\"><div class=\"entities\" style=\"line-height: 2.5; direction: ltr\">What is the \n",
       "<mark class=\"entity\" style=\"background: #ddd; padding: 0.45em 0.6em; margin: 0 0.25em; line-height: 1; border-radius: 0.35em;\">\n",
       "    box office\n",
       "    <span style=\"font-size: 0.8em; font-weight: bold; line-height: 1; border-radius: 0.35em; vertical-align: middle; margin-left: 0.5rem\">relation</span>\n",
       "</mark>\n",
       " of Hell's Angels?</div></span>"
      ],
      "text/plain": [
       "<IPython.core.display.HTML object>"
      ]
     },
     "metadata": {},
     "output_type": "display_data"
    },
    {
     "name": "stdout",
     "output_type": "stream",
     "text": [
      "What is the box office of Hell's Angels? {'entities': [(12, 23, 'relation')]}\n",
      "Missing relation label\n"
     ]
    },
    {
     "data": {
      "text/html": [
       "<span class=\"tex2jax_ignore\"><div class=\"entities\" style=\"line-height: 2.5; direction: ltr\">What is the \n",
       "<mark class=\"entity\" style=\"background: #ddd; padding: 0.45em 0.6em; margin: 0 0.25em; line-height: 1; border-radius: 0.35em;\">\n",
       "    box office\n",
       "    <span style=\"font-size: 0.8em; font-weight: bold; line-height: 1; border-radius: 0.35em; vertical-align: middle; margin-left: 0.5rem\">relation</span>\n",
       "</mark>\n",
       " earnings for the film Lies and Fat Girls?</div></span>"
      ],
      "text/plain": [
       "<IPython.core.display.HTML object>"
      ]
     },
     "metadata": {},
     "output_type": "display_data"
    },
    {
     "name": "stdout",
     "output_type": "stream",
     "text": [
      "What is the box office earnings for the film Lies and Fat Girls? {'entities': [(12, 23, 'relation')]}\n",
      "Missing relation label\n"
     ]
    },
    {
     "data": {
      "text/html": [
       "<span class=\"tex2jax_ignore\"><div class=\"entities\" style=\"line-height: 2.5; direction: ltr\">Can you provide information on the \n",
       "<mark class=\"entity\" style=\"background: #ddd; padding: 0.45em 0.6em; margin: 0 0.25em; line-height: 1; border-radius: 0.35em;\">\n",
       "    box office\n",
       "    <span style=\"font-size: 0.8em; font-weight: bold; line-height: 1; border-radius: 0.35em; vertical-align: middle; margin-left: 0.5rem\">relation</span>\n",
       "</mark>\n",
       " sales of A Classic Horror Story?</div></span>"
      ],
      "text/plain": [
       "<IPython.core.display.HTML object>"
      ]
     },
     "metadata": {},
     "output_type": "display_data"
    },
    {
     "name": "stdout",
     "output_type": "stream",
     "text": [
      "Can you provide information on the box office sales of A Classic Horror Story? {'entities': [(35, 46, 'relation')]}\n",
      "Missing relation label\n"
     ]
    },
    {
     "data": {
      "text/html": [
       "<span class=\"tex2jax_ignore\"><div class=\"entities\" style=\"line-height: 2.5; direction: ltr\">How did Break Through! perform in terms of \n",
       "<mark class=\"entity\" style=\"background: #ddd; padding: 0.45em 0.6em; margin: 0 0.25em; line-height: 1; border-radius: 0.35em;\">\n",
       "    box office\n",
       "    <span style=\"font-size: 0.8em; font-weight: bold; line-height: 1; border-radius: 0.35em; vertical-align: middle; margin-left: 0.5rem\">relation</span>\n",
       "</mark>\n",
       " revenue?</div></span>"
      ],
      "text/plain": [
       "<IPython.core.display.HTML object>"
      ]
     },
     "metadata": {},
     "output_type": "display_data"
    },
    {
     "name": "stdout",
     "output_type": "stream",
     "text": [
      "How did Break Through! perform in terms of box office revenue? {'entities': [(43, 54, 'relation')]}\n",
      "Missing relation label\n"
     ]
    },
    {
     "data": {
      "text/html": [
       "<span class=\"tex2jax_ignore\"><div class=\"entities\" style=\"line-height: 2.5; direction: ltr\">Tell me about the \n",
       "<mark class=\"entity\" style=\"background: #ddd; padding: 0.45em 0.6em; margin: 0 0.25em; line-height: 1; border-radius: 0.35em;\">\n",
       "    box office\n",
       "    <span style=\"font-size: 0.8em; font-weight: bold; line-height: 1; border-radius: 0.35em; vertical-align: middle; margin-left: 0.5rem\">relation</span>\n",
       "</mark>\n",
       " results for the movie titled Cherry 2000.</div></span>"
      ],
      "text/plain": [
       "<IPython.core.display.HTML object>"
      ]
     },
     "metadata": {},
     "output_type": "display_data"
    },
    {
     "name": "stdout",
     "output_type": "stream",
     "text": [
      "Tell me about the box office results for the movie titled Cherry 2000. {'entities': [(18, 29, 'relation')]}\n",
      "Missing relation label\n"
     ]
    },
    {
     "data": {
      "text/html": [
       "<span class=\"tex2jax_ignore\"><div class=\"entities\" style=\"line-height: 2.5; direction: ltr\">What were the \n",
       "<mark class=\"entity\" style=\"background: #ddd; padding: 0.45em 0.6em; margin: 0 0.25em; line-height: 1; border-radius: 0.35em;\">\n",
       "    box office\n",
       "    <span style=\"font-size: 0.8em; font-weight: bold; line-height: 1; border-radius: 0.35em; vertical-align: middle; margin-left: 0.5rem\">relation</span>\n",
       "</mark>\n",
       " numbers for God Forgives... I Don't!?</div></span>"
      ],
      "text/plain": [
       "<IPython.core.display.HTML object>"
      ]
     },
     "metadata": {},
     "output_type": "display_data"
    },
    {
     "name": "stdout",
     "output_type": "stream",
     "text": [
      "What were the box office numbers for God Forgives... I Don't!? {'entities': [(14, 25, 'relation')]}\n",
      "Missing relation label\n"
     ]
    },
    {
     "data": {
      "text/html": [
       "<span class=\"tex2jax_ignore\"><div class=\"entities\" style=\"line-height: 2.5; direction: ltr\">Can you share the \n",
       "<mark class=\"entity\" style=\"background: #ddd; padding: 0.45em 0.6em; margin: 0 0.25em; line-height: 1; border-radius: 0.35em;\">\n",
       "    box office\n",
       "    <span style=\"font-size: 0.8em; font-weight: bold; line-height: 1; border-radius: 0.35em; vertical-align: middle; margin-left: 0.5rem\">relation</span>\n",
       "</mark>\n",
       " figures for Love and Rage?</div></span>"
      ],
      "text/plain": [
       "<IPython.core.display.HTML object>"
      ]
     },
     "metadata": {},
     "output_type": "display_data"
    },
    {
     "name": "stdout",
     "output_type": "stream",
     "text": [
      "Can you share the box office figures for Love and Rage? {'entities': [(18, 29, 'relation')]}\n",
      "Missing relation label\n"
     ]
    },
    {
     "data": {
      "text/html": [
       "<span class=\"tex2jax_ignore\"><div class=\"entities\" style=\"line-height: 2.5; direction: ltr\">What was the \n",
       "<mark class=\"entity\" style=\"background: #ddd; padding: 0.45em 0.6em; margin: 0 0.25em; line-height: 1; border-radius: 0.35em;\">\n",
       "    box office\n",
       "    <span style=\"font-size: 0.8em; font-weight: bold; line-height: 1; border-radius: 0.35em; vertical-align: middle; margin-left: 0.5rem\">relation</span>\n",
       "</mark>\n",
       " outcome for the film Cheyenne Autumn?</div></span>"
      ],
      "text/plain": [
       "<IPython.core.display.HTML object>"
      ]
     },
     "metadata": {},
     "output_type": "display_data"
    },
    {
     "name": "stdout",
     "output_type": "stream",
     "text": [
      "What was the box office outcome for the film Cheyenne Autumn? {'entities': [(13, 24, 'relation')]}\n",
      "Missing relation label\n"
     ]
    },
    {
     "data": {
      "text/html": [
       "<span class=\"tex2jax_ignore\"><div class=\"entities\" style=\"line-height: 2.5; direction: ltr\">What is the \n",
       "<mark class=\"entity\" style=\"background: #ddd; padding: 0.45em 0.6em; margin: 0 0.25em; line-height: 1; border-radius: 0.35em;\">\n",
       "    box office\n",
       "    <span style=\"font-size: 0.8em; font-weight: bold; line-height: 1; border-radius: 0.35em; vertical-align: middle; margin-left: 0.5rem\">relation</span>\n",
       "</mark>\n",
       " of Chicago Cab?</div></span>"
      ],
      "text/plain": [
       "<IPython.core.display.HTML object>"
      ]
     },
     "metadata": {},
     "output_type": "display_data"
    },
    {
     "name": "stdout",
     "output_type": "stream",
     "text": [
      "What is the box office of Chicago Cab? {'entities': [(12, 23, 'relation')]}\n",
      "Missing relation label\n"
     ]
    },
    {
     "data": {
      "text/html": [
       "<span class=\"tex2jax_ignore\"><div class=\"entities\" style=\"line-height: 2.5; direction: ltr\">What is the \n",
       "<mark class=\"entity\" style=\"background: #ddd; padding: 0.45em 0.6em; margin: 0 0.25em; line-height: 1; border-radius: 0.35em;\">\n",
       "    box office\n",
       "    <span style=\"font-size: 0.8em; font-weight: bold; line-height: 1; border-radius: 0.35em; vertical-align: middle; margin-left: 0.5rem\">relation</span>\n",
       "</mark>\n",
       " earnings for the film Japón?</div></span>"
      ],
      "text/plain": [
       "<IPython.core.display.HTML object>"
      ]
     },
     "metadata": {},
     "output_type": "display_data"
    },
    {
     "name": "stdout",
     "output_type": "stream",
     "text": [
      "What is the box office earnings for the film Japón? {'entities': [(12, 23, 'relation')]}\n",
      "Missing relation label\n"
     ]
    },
    {
     "data": {
      "text/html": [
       "<span class=\"tex2jax_ignore\"><div class=\"entities\" style=\"line-height: 2.5; direction: ltr\">Can you provide information on the \n",
       "<mark class=\"entity\" style=\"background: #ddd; padding: 0.45em 0.6em; margin: 0 0.25em; line-height: 1; border-radius: 0.35em;\">\n",
       "    box office\n",
       "    <span style=\"font-size: 0.8em; font-weight: bold; line-height: 1; border-radius: 0.35em; vertical-align: middle; margin-left: 0.5rem\">relation</span>\n",
       "</mark>\n",
       " sales of Zero Day?</div></span>"
      ],
      "text/plain": [
       "<IPython.core.display.HTML object>"
      ]
     },
     "metadata": {},
     "output_type": "display_data"
    },
    {
     "name": "stdout",
     "output_type": "stream",
     "text": [
      "Can you provide information on the box office sales of Zero Day? {'entities': [(35, 46, 'relation')]}\n",
      "Missing relation label\n"
     ]
    },
    {
     "data": {
      "text/html": [
       "<span class=\"tex2jax_ignore\"><div class=\"entities\" style=\"line-height: 2.5; direction: ltr\">How did Hostage: Missing Celebrity perform in terms of \n",
       "<mark class=\"entity\" style=\"background: #ddd; padding: 0.45em 0.6em; margin: 0 0.25em; line-height: 1; border-radius: 0.35em;\">\n",
       "    box office\n",
       "    <span style=\"font-size: 0.8em; font-weight: bold; line-height: 1; border-radius: 0.35em; vertical-align: middle; margin-left: 0.5rem\">relation</span>\n",
       "</mark>\n",
       " revenue?</div></span>"
      ],
      "text/plain": [
       "<IPython.core.display.HTML object>"
      ]
     },
     "metadata": {},
     "output_type": "display_data"
    },
    {
     "name": "stdout",
     "output_type": "stream",
     "text": [
      "How did Hostage: Missing Celebrity perform in terms of box office revenue? {'entities': [(55, 66, 'relation')]}\n",
      "Missing relation label\n"
     ]
    },
    {
     "data": {
      "text/html": [
       "<span class=\"tex2jax_ignore\"><div class=\"entities\" style=\"line-height: 2.5; direction: ltr\">Tell me about the \n",
       "<mark class=\"entity\" style=\"background: #ddd; padding: 0.45em 0.6em; margin: 0 0.25em; line-height: 1; border-radius: 0.35em;\">\n",
       "    box office\n",
       "    <span style=\"font-size: 0.8em; font-weight: bold; line-height: 1; border-radius: 0.35em; vertical-align: middle; margin-left: 0.5rem\">relation</span>\n",
       "</mark>\n",
       " results for the movie titled North.</div></span>"
      ],
      "text/plain": [
       "<IPython.core.display.HTML object>"
      ]
     },
     "metadata": {},
     "output_type": "display_data"
    },
    {
     "name": "stdout",
     "output_type": "stream",
     "text": [
      "Tell me about the box office results for the movie titled North. {'entities': [(18, 29, 'relation')]}\n",
      "Missing relation label\n"
     ]
    },
    {
     "data": {
      "text/html": [
       "<span class=\"tex2jax_ignore\"><div class=\"entities\" style=\"line-height: 2.5; direction: ltr\">What were the \n",
       "<mark class=\"entity\" style=\"background: #ddd; padding: 0.45em 0.6em; margin: 0 0.25em; line-height: 1; border-radius: 0.35em;\">\n",
       "    box office\n",
       "    <span style=\"font-size: 0.8em; font-weight: bold; line-height: 1; border-radius: 0.35em; vertical-align: middle; margin-left: 0.5rem\">relation</span>\n",
       "</mark>\n",
       " numbers for Tomme tønner?</div></span>"
      ],
      "text/plain": [
       "<IPython.core.display.HTML object>"
      ]
     },
     "metadata": {},
     "output_type": "display_data"
    },
    {
     "name": "stdout",
     "output_type": "stream",
     "text": [
      "What were the box office numbers for Tomme tønner? {'entities': [(14, 25, 'relation')]}\n",
      "Missing relation label\n"
     ]
    },
    {
     "data": {
      "text/html": [
       "<span class=\"tex2jax_ignore\"><div class=\"entities\" style=\"line-height: 2.5; direction: ltr\">Can you share the \n",
       "<mark class=\"entity\" style=\"background: #ddd; padding: 0.45em 0.6em; margin: 0 0.25em; line-height: 1; border-radius: 0.35em;\">\n",
       "    box office\n",
       "    <span style=\"font-size: 0.8em; font-weight: bold; line-height: 1; border-radius: 0.35em; vertical-align: middle; margin-left: 0.5rem\">relation</span>\n",
       "</mark>\n",
       " figures for Hong Kong Confidential?</div></span>"
      ],
      "text/plain": [
       "<IPython.core.display.HTML object>"
      ]
     },
     "metadata": {},
     "output_type": "display_data"
    },
    {
     "name": "stdout",
     "output_type": "stream",
     "text": [
      "Can you share the box office figures for Hong Kong Confidential? {'entities': [(18, 29, 'relation')]}\n",
      "Missing relation label\n"
     ]
    },
    {
     "data": {
      "text/html": [
       "<span class=\"tex2jax_ignore\"><div class=\"entities\" style=\"line-height: 2.5; direction: ltr\">What was the \n",
       "<mark class=\"entity\" style=\"background: #ddd; padding: 0.45em 0.6em; margin: 0 0.25em; line-height: 1; border-radius: 0.35em;\">\n",
       "    box office\n",
       "    <span style=\"font-size: 0.8em; font-weight: bold; line-height: 1; border-radius: 0.35em; vertical-align: middle; margin-left: 0.5rem\">relation</span>\n",
       "</mark>\n",
       " outcome for the film Dear Friends?</div></span>"
      ],
      "text/plain": [
       "<IPython.core.display.HTML object>"
      ]
     },
     "metadata": {},
     "output_type": "display_data"
    },
    {
     "name": "stdout",
     "output_type": "stream",
     "text": [
      "What was the box office outcome for the film Dear Friends? {'entities': [(13, 24, 'relation')]}\n",
      "Missing relation label\n"
     ]
    },
    {
     "data": {
      "text/html": [
       "<span class=\"tex2jax_ignore\"><div class=\"entities\" style=\"line-height: 2.5; direction: ltr\">What is the \n",
       "<mark class=\"entity\" style=\"background: #ddd; padding: 0.45em 0.6em; margin: 0 0.25em; line-height: 1; border-radius: 0.35em;\">\n",
       "    box office\n",
       "    <span style=\"font-size: 0.8em; font-weight: bold; line-height: 1; border-radius: 0.35em; vertical-align: middle; margin-left: 0.5rem\">relation</span>\n",
       "</mark>\n",
       " of Strings?</div></span>"
      ],
      "text/plain": [
       "<IPython.core.display.HTML object>"
      ]
     },
     "metadata": {},
     "output_type": "display_data"
    },
    {
     "name": "stdout",
     "output_type": "stream",
     "text": [
      "What is the box office of Strings? {'entities': [(12, 23, 'relation')]}\n",
      "Missing relation label\n"
     ]
    },
    {
     "data": {
      "text/html": [
       "<span class=\"tex2jax_ignore\"><div class=\"entities\" style=\"line-height: 2.5; direction: ltr\">What is the \n",
       "<mark class=\"entity\" style=\"background: #ddd; padding: 0.45em 0.6em; margin: 0 0.25em; line-height: 1; border-radius: 0.35em;\">\n",
       "    box office\n",
       "    <span style=\"font-size: 0.8em; font-weight: bold; line-height: 1; border-radius: 0.35em; vertical-align: middle; margin-left: 0.5rem\">relation</span>\n",
       "</mark>\n",
       " earnings for the film Countdown to Zero?</div></span>"
      ],
      "text/plain": [
       "<IPython.core.display.HTML object>"
      ]
     },
     "metadata": {},
     "output_type": "display_data"
    },
    {
     "name": "stdout",
     "output_type": "stream",
     "text": [
      "What is the box office earnings for the film Countdown to Zero? {'entities': [(12, 23, 'relation')]}\n",
      "Missing relation label\n"
     ]
    },
    {
     "data": {
      "text/html": [
       "<span class=\"tex2jax_ignore\"><div class=\"entities\" style=\"line-height: 2.5; direction: ltr\">Can you provide information on the \n",
       "<mark class=\"entity\" style=\"background: #ddd; padding: 0.45em 0.6em; margin: 0 0.25em; line-height: 1; border-radius: 0.35em;\">\n",
       "    box office\n",
       "    <span style=\"font-size: 0.8em; font-weight: bold; line-height: 1; border-radius: 0.35em; vertical-align: middle; margin-left: 0.5rem\">relation</span>\n",
       "</mark>\n",
       " sales of The Founding of a Party?</div></span>"
      ],
      "text/plain": [
       "<IPython.core.display.HTML object>"
      ]
     },
     "metadata": {},
     "output_type": "display_data"
    },
    {
     "name": "stdout",
     "output_type": "stream",
     "text": [
      "Can you provide information on the box office sales of The Founding of a Party? {'entities': [(35, 46, 'relation')]}\n",
      "Missing relation label\n"
     ]
    },
    {
     "data": {
      "text/html": [
       "<span class=\"tex2jax_ignore\"><div class=\"entities\" style=\"line-height: 2.5; direction: ltr\">How did The Stool Pigeon perform in terms of \n",
       "<mark class=\"entity\" style=\"background: #ddd; padding: 0.45em 0.6em; margin: 0 0.25em; line-height: 1; border-radius: 0.35em;\">\n",
       "    box office\n",
       "    <span style=\"font-size: 0.8em; font-weight: bold; line-height: 1; border-radius: 0.35em; vertical-align: middle; margin-left: 0.5rem\">relation</span>\n",
       "</mark>\n",
       " revenue?</div></span>"
      ],
      "text/plain": [
       "<IPython.core.display.HTML object>"
      ]
     },
     "metadata": {},
     "output_type": "display_data"
    },
    {
     "name": "stdout",
     "output_type": "stream",
     "text": [
      "How did The Stool Pigeon perform in terms of box office revenue? {'entities': [(45, 56, 'relation')]}\n",
      "Missing relation label\n"
     ]
    },
    {
     "data": {
      "text/html": [
       "<span class=\"tex2jax_ignore\"><div class=\"entities\" style=\"line-height: 2.5; direction: ltr\">Tell me about the \n",
       "<mark class=\"entity\" style=\"background: #ddd; padding: 0.45em 0.6em; margin: 0 0.25em; line-height: 1; border-radius: 0.35em;\">\n",
       "    box office\n",
       "    <span style=\"font-size: 0.8em; font-weight: bold; line-height: 1; border-radius: 0.35em; vertical-align: middle; margin-left: 0.5rem\">relation</span>\n",
       "</mark>\n",
       " results for the movie titled Choke.</div></span>"
      ],
      "text/plain": [
       "<IPython.core.display.HTML object>"
      ]
     },
     "metadata": {},
     "output_type": "display_data"
    },
    {
     "name": "stdout",
     "output_type": "stream",
     "text": [
      "Tell me about the box office results for the movie titled Choke. {'entities': [(18, 29, 'relation')]}\n",
      "Missing relation label\n"
     ]
    },
    {
     "data": {
      "text/html": [
       "<span class=\"tex2jax_ignore\"><div class=\"entities\" style=\"line-height: 2.5; direction: ltr\">What were the \n",
       "<mark class=\"entity\" style=\"background: #ddd; padding: 0.45em 0.6em; margin: 0 0.25em; line-height: 1; border-radius: 0.35em;\">\n",
       "    box office\n",
       "    <span style=\"font-size: 0.8em; font-weight: bold; line-height: 1; border-radius: 0.35em; vertical-align: middle; margin-left: 0.5rem\">relation</span>\n",
       "</mark>\n",
       " numbers for Choking Hazard?</div></span>"
      ],
      "text/plain": [
       "<IPython.core.display.HTML object>"
      ]
     },
     "metadata": {},
     "output_type": "display_data"
    },
    {
     "name": "stdout",
     "output_type": "stream",
     "text": [
      "What were the box office numbers for Choking Hazard? {'entities': [(14, 25, 'relation')]}\n",
      "Missing relation label\n"
     ]
    },
    {
     "data": {
      "text/html": [
       "<span class=\"tex2jax_ignore\"><div class=\"entities\" style=\"line-height: 2.5; direction: ltr\">Can you share the \n",
       "<mark class=\"entity\" style=\"background: #ddd; padding: 0.45em 0.6em; margin: 0 0.25em; line-height: 1; border-radius: 0.35em;\">\n",
       "    box office\n",
       "    <span style=\"font-size: 0.8em; font-weight: bold; line-height: 1; border-radius: 0.35em; vertical-align: middle; margin-left: 0.5rem\">relation</span>\n",
       "</mark>\n",
       " figures for Ugetsu?</div></span>"
      ],
      "text/plain": [
       "<IPython.core.display.HTML object>"
      ]
     },
     "metadata": {},
     "output_type": "display_data"
    },
    {
     "name": "stdout",
     "output_type": "stream",
     "text": [
      "Can you share the box office figures for Ugetsu? {'entities': [(18, 29, 'relation')]}\n",
      "Missing relation label\n"
     ]
    },
    {
     "data": {
      "text/html": [
       "<span class=\"tex2jax_ignore\"><div class=\"entities\" style=\"line-height: 2.5; direction: ltr\">What was the \n",
       "<mark class=\"entity\" style=\"background: #ddd; padding: 0.45em 0.6em; margin: 0 0.25em; line-height: 1; border-radius: 0.35em;\">\n",
       "    box office\n",
       "    <span style=\"font-size: 0.8em; font-weight: bold; line-height: 1; border-radius: 0.35em; vertical-align: middle; margin-left: 0.5rem\">relation</span>\n",
       "</mark>\n",
       " outcome for the film Swing Kids?</div></span>"
      ],
      "text/plain": [
       "<IPython.core.display.HTML object>"
      ]
     },
     "metadata": {},
     "output_type": "display_data"
    },
    {
     "name": "stdout",
     "output_type": "stream",
     "text": [
      "What was the box office outcome for the film Swing Kids? {'entities': [(13, 24, 'relation')]}\n",
      "Missing relation label\n"
     ]
    },
    {
     "data": {
      "text/html": [
       "<span class=\"tex2jax_ignore\"><div class=\"entities\" style=\"line-height: 2.5; direction: ltr\">What is the \n",
       "<mark class=\"entity\" style=\"background: #ddd; padding: 0.45em 0.6em; margin: 0 0.25em; line-height: 1; border-radius: 0.35em;\">\n",
       "    box office\n",
       "    <span style=\"font-size: 0.8em; font-weight: bold; line-height: 1; border-radius: 0.35em; vertical-align: middle; margin-left: 0.5rem\">relation</span>\n",
       "</mark>\n",
       " of Gallipoli?</div></span>"
      ],
      "text/plain": [
       "<IPython.core.display.HTML object>"
      ]
     },
     "metadata": {},
     "output_type": "display_data"
    },
    {
     "name": "stdout",
     "output_type": "stream",
     "text": [
      "What is the box office of Gallipoli? {'entities': [(12, 23, 'relation')]}\n",
      "Missing relation label\n"
     ]
    },
    {
     "data": {
      "text/html": [
       "<span class=\"tex2jax_ignore\"><div class=\"entities\" style=\"line-height: 2.5; direction: ltr\">What is the \n",
       "<mark class=\"entity\" style=\"background: #ddd; padding: 0.45em 0.6em; margin: 0 0.25em; line-height: 1; border-radius: 0.35em;\">\n",
       "    box office\n",
       "    <span style=\"font-size: 0.8em; font-weight: bold; line-height: 1; border-radius: 0.35em; vertical-align: middle; margin-left: 0.5rem\">relation</span>\n",
       "</mark>\n",
       " earnings for the film The Truce?</div></span>"
      ],
      "text/plain": [
       "<IPython.core.display.HTML object>"
      ]
     },
     "metadata": {},
     "output_type": "display_data"
    },
    {
     "name": "stdout",
     "output_type": "stream",
     "text": [
      "What is the box office earnings for the film The Truce? {'entities': [(12, 23, 'relation')]}\n",
      "Missing relation label\n"
     ]
    },
    {
     "data": {
      "text/html": [
       "<span class=\"tex2jax_ignore\"><div class=\"entities\" style=\"line-height: 2.5; direction: ltr\">In what place is the \n",
       "<mark class=\"entity\" style=\"background: #ddd; padding: 0.45em 0.6em; margin: 0 0.25em; line-height: 1; border-radius: 0.35em;\">\n",
       "    burial site\n",
       "    <span style=\"font-size: 0.8em; font-weight: bold; line-height: 1; border-radius: 0.35em; vertical-align: middle; margin-left: 0.5rem\">relation</span>\n",
       "</mark>\n",
       " of Dikla \n",
       "<mark class=\"entity\" style=\"background: #ddd; padding: 0.45em 0.6em; margin: 0 0.25em; line-height: 1; border-radius: 0.35em;\">\n",
       "    located\n",
       "    <span style=\"font-size: 0.8em; font-weight: bold; line-height: 1; border-radius: 0.35em; vertical-align: middle; margin-left: 0.5rem\">relation</span>\n",
       "</mark>\n",
       "?</div></span>"
      ],
      "text/plain": [
       "<IPython.core.display.HTML object>"
      ]
     },
     "metadata": {},
     "output_type": "display_data"
    },
    {
     "name": "stdout",
     "output_type": "stream",
     "text": [
      "In what place is the burial site of Dikla located? {'entities': [(21, 32, 'relation')]}\n",
      "Missing relation label\n",
      "3986 4523\n"
     ]
    }
   ],
   "source": [
    "nlp_model = spacy.load('models/NER2/loss_23/')\n",
    "\n",
    "total=0\n",
    "correct=0\n",
    "for sentence, entities in TRAIN_DATA:\n",
    "    pred = nlp_model(sentence)\n",
    "    total+=len(entities[\"entities\"])\n",
    "    for ent in pred.ents:\n",
    "        if (ent.start_char, ent.end_char, ent.label_) in entities['entities']:\n",
    "            correct+=1\n",
    "            #print(ent.label_+\" Correctly found\")\n",
    "        else:\n",
    "            spacy.displacy.render(pred, style=\"ent\", jupyter=True)\n",
    "            print(sentence, entities)\n",
    "            print(\"Missing {} label\".format(ent.label_))\n",
    "            \n",
    "print(correct, total)"
   ]
  },
  {
   "cell_type": "code",
   "execution_count": null,
   "id": "f00bd60f",
   "metadata": {},
   "outputs": [],
   "source": []
  }
 ],
 "metadata": {
  "kernelspec": {
   "display_name": "Python 3 (ipykernel)",
   "language": "python",
   "name": "python3"
  },
  "language_info": {
   "codemirror_mode": {
    "name": "ipython",
    "version": 3
   },
   "file_extension": ".py",
   "mimetype": "text/x-python",
   "name": "python",
   "nbconvert_exporter": "python",
   "pygments_lexer": "ipython3",
   "version": "3.10.13"
  }
 },
 "nbformat": 4,
 "nbformat_minor": 5
}
